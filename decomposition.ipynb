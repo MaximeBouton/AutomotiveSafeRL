{
 "cells": [
  {
   "cell_type": "markdown",
   "metadata": {},
   "source": [
    "# Safe RL with multiple cars and pedestrians"
   ]
  },
  {
   "cell_type": "code",
   "execution_count": 1,
   "metadata": {},
   "outputs": [],
   "source": [
    "rng = MersenneTwister(2);"
   ]
  },
  {
   "cell_type": "code",
   "execution_count": 2,
   "metadata": {},
   "outputs": [
    {
     "name": "stderr",
     "output_type": "stream",
     "text": [
      "WARNING: Method definition info(Any...) in module Base at util.jl:532 overwritten in module Logging at /mnt/c/Users/Maxime/wsl/.julia/v0.6/Logging/src/Logging.jl:115.\n",
      "WARNING: Method definition warn(Any...) in module Base at util.jl:585 overwritten in module Logging at /mnt/c/Users/Maxime/wsl/.julia/v0.6/Logging/src/Logging.jl:115.\n",
      "WARNING: Method definition copy!(Array{Float64, 1}, AutomotiveDrivingModels.LatLonAccel) in module AutomotiveDrivingModels at /mnt/c/Users/Maxime/wsl/.julia/v0.6/AutomotiveDrivingModels/src/2d/actions/lat_lon_accel.jl:13 overwritten in module AutoUrban at /mnt/c/Users/Maxime/wsl/.julia/v0.6/AutoUrban/src/simulation/actions.jl:10.\n"
     ]
    }
   ],
   "source": [
    "using AutomotivePOMDPs\n",
    "using MDPModelChecking"
   ]
  },
  {
   "cell_type": "code",
   "execution_count": 13,
   "metadata": {},
   "outputs": [],
   "source": [
    "using GridInterpolations, StaticArrays, POMDPs, POMDPToolbox, AutoViz, AutomotiveDrivingModels, Reel\n",
    "using DiscreteValueIteration, DeepQLearning, DeepRL, LocalApproximationValueIteration\n",
    "using ProgressMeter, Parameters, JLD"
   ]
  },
  {
   "cell_type": "code",
   "execution_count": 4,
   "metadata": {},
   "outputs": [
    {
     "data": {
      "text/plain": [
       "AutoViz.FitToContentCamera(0.0)"
      ]
     },
     "execution_count": 4,
     "metadata": {},
     "output_type": "execute_result"
    }
   ],
   "source": [
    "cam = FitToContentCamera(0.)"
   ]
  },
  {
   "cell_type": "code",
   "execution_count": 18,
   "metadata": {},
   "outputs": [],
   "source": [
    "include(\"masking.jl\")\n",
    "include(\"util.jl\")\n",
    "include(\"render_helpers.jl\")\n",
    "include(\"masked_dqn.jl\")"
   ]
  },
  {
   "cell_type": "markdown",
   "metadata": {},
   "source": [
    "## Scenario"
   ]
  },
  {
   "cell_type": "code",
   "execution_count": 6,
   "metadata": {},
   "outputs": [],
   "source": [
    "params = UrbanParams(nlanes_main=1,\n",
    "                     crosswalk_pos =  [VecSE2(6, 0., pi/2), VecSE2(-6, 0., pi/2), VecSE2(0., -5., 0.)],\n",
    "                     crosswalk_length =  [14.0, 14., 14.0],\n",
    "                     crosswalk_width = [4.0, 4.0, 3.1],\n",
    "                     stop_line = 22.0)\n",
    "env = UrbanEnv(params=params);"
   ]
  },
  {
   "cell_type": "code",
   "execution_count": 7,
   "metadata": {},
   "outputs": [],
   "source": [
    "pomdp = UrbanPOMDP(env=env,\n",
    "                   ego_goal = LaneTag(2, 1),\n",
    "                   max_cars=2, \n",
    "                   max_peds=2, \n",
    "                   car_birth=0.3, \n",
    "                   ped_birth=0.3, \n",
    "                   obstacles=false, # no fixed obstacles\n",
    "                   lidar=false,\n",
    "                   pos_obs_noise = 0., # fully observable\n",
    "                   vel_obs_noise = 0.);"
   ]
  },
  {
   "cell_type": "markdown",
   "metadata": {},
   "source": [
    "## Build and load policy"
   ]
  },
  {
   "cell_type": "code",
   "execution_count": null,
   "metadata": {},
   "outputs": [],
   "source": [
    "mdp = PedCarMDP(env=env, pos_res=2.0, vel_res=2.);\n",
    "vi_data = JLD.load(\"pc_util_processed.jld\")\n",
    "vi_policy = ValueIterationPolicy(mdp, vi_data[\"qmat\"], vi_data[\"util\"], vi_data[\"pol\"])\n",
    "threshold = 0.99\n",
    "mask = SafetyMask(mdp, vi_policy, threshold);\n",
    "\n",
    "problem_file=\"joint-log/log9/problem.jld\"\n",
    "weights_file=\"joint-log/log9/weights.jld\"\n",
    "solver = jldopen(problem_file, \"r\") do file\n",
    "    read(file, \"solver\")\n",
    "end\n",
    "env_ = POMDPEnvironment(pomdp)\n",
    "graph = TensorFlow.Graph()\n",
    "train_graph = DeepQLearning.build_graph(solver, env_, graph)\n",
    "policy = DeepQLearning.restore_policy(env_, solver, train_graph, weights_file)\n",
    "masked_policy = MaskedDQNPolicy(pomdp, policy, mask)"
   ]
  },
  {
   "cell_type": "code",
   "execution_count": null,
   "metadata": {},
   "outputs": [],
   "source": []
  },
  {
   "cell_type": "code",
   "execution_count": 8,
   "metadata": {},
   "outputs": [],
   "source": [
    "threshold = 0.9999\n",
    "ped_mdp = PedMDP(env = env, vel_res=2., pos_res=2., ped_type=VehicleDef(AgentClass.PEDESTRIAN, 1.0, 3.0), ped_birth=0.7)\n",
    "car_mdp = CarMDP(env = env, vel_res=2., pos_res=2.)\n",
    "ped_mask_file = \"pedmask_new.jld\"\n",
    "car_mask_file = \"carmask_new.jld\"\n",
    "ped_mask_data = load(ped_mask_file)\n",
    "car_mask_data = load(car_mask_file)\n",
    "ped_mask = SafetyMask(ped_mdp, StormPolicy(ped_mdp, ped_mask_data[\"risk_vec\"], ped_mask_data[\"risk_mat\"]), threshold)\n",
    "car_mask = SafetyMask(car_mdp, StormPolicy(car_mdp, car_mask_data[\"risk_vec\"], car_mask_data[\"risk_mat\"]), threshold);"
   ]
  },
  {
   "cell_type": "code",
   "execution_count": null,
   "metadata": {},
   "outputs": [],
   "source": [
    "policy = DeepQLearning.restore(problem_file=\"jointmdp-log/log4/problem.jld\", weights_file=\"jointmdp-log/log4/weights.jld\");"
   ]
  },
  {
   "cell_type": "code",
   "execution_count": 10,
   "metadata": {},
   "outputs": [],
   "source": [
    "include(\"decomposition.jl\")"
   ]
  },
  {
   "cell_type": "code",
   "execution_count": 11,
   "metadata": {},
   "outputs": [],
   "source": [
    "dec_mask = DecomposedMask(pomdp, car_mask, ped_mask);"
   ]
  },
  {
   "cell_type": "code",
   "execution_count": 15,
   "metadata": {},
   "outputs": [],
   "source": [
    "rand_pol = RandomMaskedPOMDPPolicy(dec_mask, pomdp, rng);"
   ]
  },
  {
   "cell_type": "markdown",
   "metadata": {},
   "source": [
    "## Simulation"
   ]
  },
  {
   "cell_type": "code",
   "execution_count": null,
   "metadata": {},
   "outputs": [],
   "source": []
  },
  {
   "cell_type": "code",
   "execution_count": 28,
   "metadata": {},
   "outputs": [
    {
     "name": "stdout",
     "output_type": "stream",
     "text": [
      "  0.857617 seconds (6.16 M allocations: 206.902 MiB, 9.24% gc time)\n"
     ]
    }
   ],
   "source": [
    "hr = HistoryRecorder(rng=rng, max_steps=100)\n",
    "s0 = initial_state(pomdp, rng)\n",
    "o0 = generate_o(pomdp, s0, rng)\n",
    "up = FastPreviousObservationUpdater{UrbanObs}()\n",
    "b0 = initialize_belief(up, o0)\n",
    "@time hist2 = simulate(hr, pomdp, rand_pol, up, b0, s0);"
   ]
  },
  {
   "cell_type": "code",
   "execution_count": 29,
   "metadata": {},
   "outputs": [
    {
     "data": {
      "text/html": [
       "<video autoplay controls><source src=\"files/reel-18028991163217748996.webm?16263368757186469035\" type=\"video/webm\"></video>"
      ],
      "text/plain": [
       "Reel.Frames{MIME{Symbol(\"image/png\")}}(\"/tmp/tmpS6LC2h\", 0x0000000000000065, 2.0, nothing)"
      ]
     },
     "execution_count": 29,
     "metadata": {},
     "output_type": "execute_result"
    }
   ],
   "source": [
    "h = hist2\n",
    "state_hist = h.state_hist\n",
    "action_hist = h.action_hist\n",
    "safe_actions_hist = h.ainfo_hist\n",
    "push!(action_hist, CarMDPAction(NaN))\n",
    "push!(safe_actions_hist, [CarMDPAction(NaN)])\n",
    "duration, fps, render_hist = animate_states(pomdp, state_hist, action_hist, safe_actions_hist)\n",
    "film = roll(render_hist, fps = fps, duration = duration)"
   ]
  },
  {
   "cell_type": "code",
   "execution_count": 43,
   "metadata": {},
   "outputs": [
    {
     "name": "stdout",
     "output_type": "stream",
     "text": [
      "1 1\n",
      "2 101\n",
      "3 2\n",
      "4 3\n",
      "5 102\n",
      "1 1\n",
      "2 2\n",
      "3 3\n",
      "4 101\n",
      "5 102\n"
     ]
    }
   ],
   "source": [
    "s = deepcopy(state_hist[10])\n",
    "for (i, veh) in enumerate(s)\n",
    "    println(i, \" \", veh.id)\n",
    "end\n",
    "sorted_vehicles =  sort(s.entities[1:s.n], by=x->x.id)\n",
    "for (i, veh) in enumerate(sorted_vehicles)\n",
    "    println(i, \" \", veh.id)\n",
    "end"
   ]
  },
  {
   "cell_type": "code",
   "execution_count": 41,
   "metadata": {},
   "outputs": [
    {
     "data": {
      "text/plain": [
       "Vehicle(101, VehicleState(VecSE2({-5.707, 5.612}, 4.712), Frenet(RoadIndex({1, 0.900857}, {18, 1}), 12.612, -0.293, 3.142), 0.000), VehicleDef(PEDESTRIAN, 1.000, 1.000))"
      ]
     },
     "execution_count": 41,
     "metadata": {},
     "output_type": "execute_result"
    }
   ],
   "source": [
    "s.entities[2]"
   ]
  },
  {
   "cell_type": "code",
   "execution_count": 23,
   "metadata": {},
   "outputs": [
    {
     "data": {
      "text/plain": [
       "3"
      ]
     },
     "execution_count": 23,
     "metadata": {},
     "output_type": "execute_result"
    }
   ],
   "source": [
    "findfirst(s, 1)"
   ]
  },
  {
   "cell_type": "markdown",
   "metadata": {},
   "source": [
    "## Evaluation"
   ]
  },
  {
   "cell_type": "code",
   "execution_count": 120,
   "metadata": {},
   "outputs": [
    {
     "name": "stdout",
     "output_type": "stream",
     "text": [
      " 63.830275 seconds (541.40 M allocations: 17.082 GiB, 17.15% gc time)\n",
      "Summary for 100 episodes: \n",
      "Average reward: 0.000 \n",
      "Average # of steps: 100.000 \n",
      "Average # of violations: 0.000 \n"
     ]
    }
   ],
   "source": [
    "@time rewards_mask, steps_mask, violations_mask = evaluation_loop(pomdp, rand_pol, n_ep=100, max_steps=100, rng=rng);\n",
    "print_summary(rewards_mask, steps_mask, violations_mask)"
   ]
  },
  {
   "cell_type": "code",
   "execution_count": 90,
   "metadata": {},
   "outputs": [
    {
     "name": "stdout",
     "output_type": "stream",
     "text": [
      "Crash\n",
      "  3.233593 seconds (7.35 M allocations: 237.220 MiB, 4.31% gc time)\n"
     ]
    }
   ],
   "source": [
    "@time for ep=1:1000\n",
    "    hr = HistoryRecorder(rng=rng, max_steps=100)\n",
    "    s0 = initial_state(pomdp, rng)\n",
    "    o0 = generate_o(pomdp, s0, rng)\n",
    "    up = FastPreviousObservationUpdater{UrbanObs}()\n",
    "    b0 = initialize_belief(up, o0)\n",
    "    hist2 = simulate(hr, pomdp, rand_pol, up, b0, s0)\n",
    "    if sum(hist2.reward_hist .< 0.) != 0.\n",
    "        println(\"Crash\")\n",
    "        break\n",
    "    end\n",
    "end"
   ]
  },
  {
   "cell_type": "code",
   "execution_count": null,
   "metadata": {},
   "outputs": [],
   "source": []
  }
 ],
 "metadata": {
  "kernelspec": {
   "display_name": "Julia 0.6.1",
   "language": "julia",
   "name": "julia-0.6"
  },
  "language_info": {
   "file_extension": ".jl",
   "mimetype": "application/julia",
   "name": "julia",
   "version": "0.6.1"
  }
 },
 "nbformat": 4,
 "nbformat_minor": 2
}
