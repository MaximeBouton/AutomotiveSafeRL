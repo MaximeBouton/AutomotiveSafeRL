{
 "cells": [
  {
   "cell_type": "markdown",
   "metadata": {},
   "source": [
    "# Visualize RNN Prediction"
   ]
  },
  {
   "cell_type": "code",
   "execution_count": 1,
   "metadata": {},
   "outputs": [
    {
     "name": "stderr",
     "output_type": "stream",
     "text": [
      "WARNING: Method definition info(Any...) in module Base at util.jl:532 overwritten in module Logging at /mnt/c/Users/Maxime/wsl/.julia/v0.6/Logging/src/Logging.jl:115.\n",
      "WARNING: Method definition warn(Any...) in module Base at util.jl:585 overwritten in module Logging at /mnt/c/Users/Maxime/wsl/.julia/v0.6/Logging/src/Logging.jl:115.\n",
      "WARNING: Method definition copy!(Array{Float64, 1}, AutomotiveDrivingModels.LatLonAccel) in module AutomotiveDrivingModels at /mnt/c/Users/Maxime/wsl/.julia/v0.6/AutomotiveDrivingModels/src/2d/actions/lat_lon_accel.jl:13 overwritten in module AutoUrban at /mnt/c/Users/Maxime/wsl/.julia/v0.6/AutoUrban/src/simulation/actions.jl:10.\n",
      "WARNING: Method definition split_o(Array{Float64, 1}, AutomotivePOMDPs.UrbanPOMDP) in module AutomotivePOMDPs at /home/maxime/Maxime/OneDrive - Leland Stanford Junior University/Research/AutomotivePOMDPs/src/generative_pomdps/urban/generative_model.jl:560 overwritten at /home/maxime/Maxime/OneDrive - Leland Stanford Junior University/Research/AutomotivePOMDPs/src/decomposition/base_scenarios.jl:38.\n",
      "WARNING: Method definition #split_o(Array{Any, 1}, typeof(AutomotivePOMDPs.split_o), Array{Float64, 1}, AutomotivePOMDPs.UrbanPOMDP) in module AutomotivePOMDPs overwritten.\n",
      "WARNING: Method definition ==(AutomotiveDrivingModels.VehicleState, AutomotiveDrivingModels.VehicleState) in module AutomotiveDrivingModels at /mnt/c/Users/Maxime/wsl/.julia/v0.6/AutomotiveDrivingModels/src/2d/vehicles/vehicles.jl:15 overwritten in module PedCar at /home/maxime/Maxime/OneDrive - Leland Stanford Junior University/Research/PedCar/src/mdp_type.jl:29.\n"
     ]
    }
   ],
   "source": [
    "using Flux\n",
    "using StaticArrays\n",
    "using ProgressMeter\n",
    "using POMDPs\n",
    "using POMDPToolbox\n",
    "using AutomotiveDrivingModels\n",
    "using AutoViz\n",
    "using AutomotivePOMDPs\n",
    "using AutomotiveSensors\n",
    "using PedCar\n",
    "using Reel\n",
    "using FileIO\n",
    "using BSON: @load"
   ]
  },
  {
   "cell_type": "code",
   "execution_count": 16,
   "metadata": {},
   "outputs": [],
   "source": [
    "cam = FitToContentCamera(0.)\n",
    "rng = MersenneTwister(1);"
   ]
  },
  {
   "cell_type": "markdown",
   "metadata": {},
   "source": [
    "**environment**"
   ]
  },
  {
   "cell_type": "code",
   "execution_count": 150,
   "metadata": {},
   "outputs": [],
   "source": [
    "mdp = PedCarMDP(pos_res=2.0, vel_res=2., ped_birth=0.7, car_birth=0.7)\n",
    "pomdp = UrbanPOMDP(env=mdp.env,\n",
    "                    sensor = GaussianSensor(false_positive_rate=0.0, \n",
    "                                            pos_noise = LinearNoise(min_noise=0.5, increase_rate=0.05), \n",
    "                                            vel_noise = LinearNoise(min_noise=0.5, increase_rate=0.05)),\n",
    "                   ego_goal = LaneTag(2, 1),\n",
    "                   max_cars=1, \n",
    "                   max_peds=1, \n",
    "                   car_birth=0.7, \n",
    "                   ped_birth=0.7, \n",
    "                   max_obstacles=1, # no fixed obstacles\n",
    "                   lidar=false,\n",
    "                   ego_start=20,\n",
    "                   ΔT=0.1);\n",
    "\n"
   ]
  },
  {
   "cell_type": "code",
   "execution_count": 16,
   "metadata": {},
   "outputs": [],
   "source": [
    "n_models = 10\n",
    "models = Vector{Chain}(n_models)\n",
    "for i=0:n_models-1\n",
    "    models[i+1] = BSON.load(\"model_$i.bson\")[:model] \n",
    "end\n"
   ]
  },
  {
   "cell_type": "code",
   "execution_count": 9,
   "metadata": {},
   "outputs": [],
   "source": [
    "# input_length = n_dims(pomdp)\n",
    "# output_length = n_dims(pomdp)\n",
    "# model = Chain(LSTM(input_length, 128),\n",
    "#               Dense(128, output_length))"
   ]
  },
  {
   "cell_type": "code",
   "execution_count": 10,
   "metadata": {},
   "outputs": [
    {
     "data": {
      "text/plain": [
       "process_prediction (generic function with 1 method)"
      ]
     },
     "execution_count": 10,
     "metadata": {},
     "output_type": "execute_result"
    }
   ],
   "source": [
    "function process_prediction(b::Vector{Float64}, o::Vector{Float64})\n",
    "    n_features = 4\n",
    "    n_obstacles = 3\n",
    "    b_ = zeros(length(o))\n",
    "    b_[1:4] = o[1:4] # ego state fully observable\n",
    "    b_[end - n_features*n_obstacles + 1:end] = o[end - n_features*n_obstacles + 1:end]\n",
    "    b_[5:end - n_features*n_obstacles] = b\n",
    "    return b_\n",
    "end"
   ]
  },
  {
   "cell_type": "code",
   "execution_count": 11,
   "metadata": {},
   "outputs": [
    {
     "name": "stdout",
     "output_type": "stream",
     "text": [
      "  1.496735 seconds (1.12 M allocations: 136.231 MiB, 5.58% gc time)\n"
     ]
    }
   ],
   "source": [
    "n_steps = 400\n",
    "belief_history = Vector{Vector{Float64}}[]\n",
    "state_history = Scene[]\n",
    "obs_history = Vector{Float64}[]\n",
    "s = initial_state(pomdp, rng)\n",
    "for m in models\n",
    "    Flux.reset!(m)\n",
    "end\n",
    "@time for i=1:n_steps\n",
    "    if isterminal(pomdp, s)\n",
    "        break \n",
    "    end\n",
    "    push!(state_history, s)\n",
    "    a = UrbanAction(2.)\n",
    "    o = generate_o(pomdp, s, a, s, rng)\n",
    "    beliefs = Vector{Vector{Float64}}(n_models)\n",
    "    for i=1:n_models       \n",
    "        b = models[i](o).tracker.data\n",
    "        b_ = process_prediction(b, o)\n",
    "        beliefs[i] = b_\n",
    "    end\n",
    "    push!(belief_history, beliefs)\n",
    "    push!(obs_history, o)\n",
    "    sp = generate_s(pomdp, s, a, rng)\n",
    "    s = sp\n",
    "end\n"
   ]
  },
  {
   "cell_type": "code",
   "execution_count": 14,
   "metadata": {},
   "outputs": [
    {
     "data": {
      "text/html": [
       "<video autoplay controls><source src=\"files/reel-16033592496829932243.webm?9492921687629123481\" type=\"video/webm\"></video>"
      ],
      "text/plain": [
       "Reel.Frames{MIME{Symbol(\"image/png\")}}(\"/tmp/tmpwH7lwu\", 0x0000000000000040, 10.0, nothing)"
      ]
     },
     "execution_count": 14,
     "metadata": {},
     "output_type": "execute_result"
    }
   ],
   "source": [
    "duration, fps, render_hist = animate_scenes(state_history, obs_history, belief_history, pomdp, sim_dt=pomdp.ΔT)\n",
    "speed_factor = 1\n",
    "film = roll(render_hist, fps = speed_factor*fps, duration = duration/speed_factor)"
   ]
  },
  {
   "cell_type": "code",
   "execution_count": 13,
   "metadata": {},
   "outputs": [],
   "source": [
    "function AutomotivePOMDPs.animate_scenes(scenes::Vector{Scene}, observations::Vector{Vector{Float64}}, beliefs::Vector{Vector{Vector{Float64}}}, pomdp::UrbanPOMDP;\n",
    "                                         sim_dt = 0.1,\n",
    "                                         cam = StaticCamera(VecE2(0., -8.), 16.0))\n",
    "    env = pomdp.env \n",
    "    duration = length(scenes)*sim_dt\n",
    "    fps = Int(1/sim_dt)\n",
    "    function render_rec(t, dt)\n",
    "        frame_index = Int(floor(t/dt)) + 1\n",
    "        overlays = SceneOverlay[IDOverlay()]\n",
    "        obs = [veh for veh in obs_to_scene(pomdp, observations[frame_index]) if veh.id != EGO_ID]\n",
    "        obs_overlay = GaussianSensorOverlay(sensor=pomdp.sensor, o=obs, color=MONOKAI[\"color2\"])\n",
    "        push!(overlays, obs_overlay)\n",
    "        occlusion_overlay = OcclusionOverlay(obstacles=mdp.env.obstacles)\n",
    "        push!(overlays, occlusion_overlay)\n",
    "        for b in beliefs[frame_index]\n",
    "            bel = [veh for veh in obs_to_scene(pomdp, b) if veh.id != EGO_ID]\n",
    "            bel_overlay = GaussianSensorOverlay(sensor=pomdp.sensor, o=bel, color=MONOKAI[\"color4\"])            \n",
    "            push!(overlays, bel_overlay)\n",
    "        end\n",
    "        return AutoViz.render(scenes[frame_index], env, overlays, cam=cam)\n",
    "    end\n",
    "    return duration, fps, render_rec\n",
    "end\n",
    "    \n",
    "    "
   ]
  },
  {
   "cell_type": "markdown",
   "metadata": {},
   "source": [
    "## Visualize training set"
   ]
  },
  {
   "cell_type": "code",
   "execution_count": 144,
   "metadata": {},
   "outputs": [
    {
     "data": {
      "text/plain": [
       "normalized_off_the_grid_pos (generic function with 1 method)"
      ]
     },
     "execution_count": 144,
     "metadata": {},
     "output_type": "execute_result"
    }
   ],
   "source": [
    "include(\"data_generation.jl\")"
   ]
  },
  {
   "cell_type": "code",
   "execution_count": 185,
   "metadata": {},
   "outputs": [],
   "source": [
    "policy = RandomHoldPolicy(pomdp, 5, 0, UrbanAction(0.), rng);"
   ]
  },
  {
   "cell_type": "code",
   "execution_count": 212,
   "metadata": {},
   "outputs": [],
   "source": [
    "X, Y = collect_set(pomdp, policy , 400, rng, 1);"
   ]
  },
  {
   "cell_type": "code",
   "execution_count": 213,
   "metadata": {},
   "outputs": [
    {
     "data": {
      "image/png": "[encoded data removed]",
      "text/plain": [
       "Cairo.CairoSurface{UInt32}(Ptr{Void} @0x0000000007287150, 1000.0, 600.0, #undef)"
      ]
     },
     "execution_count": 213,
     "metadata": {},
     "output_type": "execute_result"
    }
   ],
   "source": [
    "traj = X[1]\n",
    "scenes = obs_to_scene.(pomdp, traj);\n",
    "render(scenes[end], pomdp.env, cam=cam)"
   ]
  },
  {
   "cell_type": "code",
   "execution_count": 183,
   "metadata": {
    "scrolled": false
   },
   "outputs": [
    {
     "data": {
      "text/html": [
       "<video autoplay controls><source src=\"files/reel-2386160344867397965.webm?9946745258476958164\" type=\"video/webm\"></video>"
      ],
      "text/plain": [
       "Reel.Frames{MIME{Symbol(\"image/png\")}}(\"/tmp/tmprFg8TC\", 0x0000000000000065, 10.0, nothing)"
      ]
     },
     "execution_count": 183,
     "metadata": {},
     "output_type": "execute_result"
    }
   ],
   "source": [
    "duration, fps, render_hist = animate_scenes(scenes, pomdp.env, sim_dt=pomdp.ΔT)\n",
    "speed_factor = 1\n",
    "film = roll(render_hist, fps = speed_factor*fps, duration = duration/speed_factor)"
   ]
  },
  {
   "cell_type": "code",
   "execution_count": 184,
   "metadata": {
    "scrolled": false
   },
   "outputs": [
    {
     "data": {
      "text/plain": [
       "101-element Array{Array{Float64,1},1}:\n",
       " [0.0625, -0.416667, 1.0, 0.0, 1.09683, 0.547539, 1.0, 0.920383, -0.103293, 0.228376, 0.0, 0.027537, 0.520833, 0.1875, -0.791667, 0.135417]      \n",
       " [0.0625, -0.416667, 1.0, 0.0, 1.13939, 0.577971, 1.0, 0.657247, -0.183094, 0.214236, 0.0, 0.0411595, 0.520833, 0.1875, -0.791667, 0.135417]     \n",
       " [0.0625, -0.416667, 1.0, 0.0, 1.0734, 0.652985, 1.0, 0.31494, -0.208985, 0.166325, 0.0, 0.108432, 0.520833, 0.1875, -0.791667, 0.135417]        \n",
       " [0.0625, -0.416667, 1.0, 0.0, 1.1444, 0.544815, 1.0, 0.131042, -0.102375, 0.177417, 0.0, 0.140879, 0.520833, 0.1875, -0.791667, 0.135417]       \n",
       " [0.0625, -0.416667, 1.0, 0.0, 1.0807, 0.421031, 1.0, 0.692703, -0.112204, 0.167201, 0.0, 0.0468391, 0.520833, 0.1875, -0.791667, 0.135417]      \n",
       " [0.0625, -0.416667, 1.0, 0.0, 1.15206, 0.575793, 1.0, 0.668817, -0.190557, 0.175918, 0.0, 0.127644, 0.520833, 0.1875, -0.791667, 0.135417]      \n",
       " [0.0625, -0.416667, 1.0, 0.0, 1.03238, 0.601425, 1.0, 0.786594, -0.144584, 0.215342, 0.0, 0.00388632, 0.520833, 0.1875, -0.791667, 0.135417]    \n",
       " [0.0625, -0.416667, 1.0, 0.0, 0.920497, 0.413395, 1.0, 0.477625, -0.142279, 0.202136, 0.0, 0.103368, 0.520833, 0.1875, -0.791667, 0.135417]     \n",
       " [0.0625, -0.416667, 1.0, 0.0, 1.00802, 0.39713, 1.0, 0.889213, -0.149883, 0.182689, 0.0, 0.0814566, 0.520833, 0.1875, -0.791667, 0.135417]      \n",
       " [0.0625, -0.416667, 1.0, 0.0, 0.905528, 0.476044, 1.0, 0.417494, -0.120441, 0.233596, 0.0, 0.105072, 0.520833, 0.1875, -0.791667, 0.135417]     \n",
       " [0.0625, -0.416667, 1.0, 0.0, 0.982862, 0.418491, 1.0, 0.360471, -0.188966, 0.232792, 0.0, 0.148449, 0.520833, 0.1875, -0.791667, 0.135417]     \n",
       " [0.0625, -0.416667, 1.0, 0.0, -1.22917, -0.795833, 0.0, 0.0, -0.132598, 0.238029, 0.0, 0.169473, 0.520833, 0.1875, -0.791667, 0.135417]         \n",
       " [0.0625, -0.416667, 1.0, 0.0, 1.00457, 0.462618, 1.0, 0.539581, -0.133413, 0.224342, 0.0, 0.100445, 0.520833, 0.1875, -0.791667, 0.135417]      \n",
       " ⋮                                                                                                                                               \n",
       " [0.0625, -0.359583, 1.0, 0.0, -0.142723, -0.836672, -0.5, 0.982794, 0.213817, 0.149519, 0.0, 0.132238, 0.520833, 0.1875, -0.791667, 0.0783333]  \n",
       " [0.0625, -0.359583, 1.0, 0.0, -0.0814171, -0.756275, -0.5, 1.11739, 0.166374, 0.0717985, 0.0, 0.0980778, 0.520833, 0.1875, -0.791667, 0.0783333]\n",
       " [0.0625, -0.359583, 1.0, 0.0, -0.061884, -0.799714, -0.5, 0.826831, 0.210817, 0.152451, 0.0, 0.0483561, 0.520833, 0.1875, -0.791667, 0.0783333] \n",
       " [0.0625, -0.359583, 1.0, 0.0, -0.263476, -0.837131, -0.5, 0.831863, 0.245935, 0.153223, 0.0, 0.189669, 0.520833, 0.1875, -0.791667, 0.0783333]  \n",
       " [0.0625, -0.359583, 1.0, 0.0, -1.22917, -0.852917, 0.0, 0.0, -1.22917, -0.852917, 0.0, 0.0, 0.520833, 0.1875, -0.791667, 0.0783333]             \n",
       " [0.0625, -0.359583, 1.0, 0.0, 1.29063, 0.543964, 1.0, 0.581747, 0.19791, 0.127925, 0.0, 0.163197, 0.520833, 0.1875, -0.791667, 0.0783333]       \n",
       " [0.0625, -0.359583, 1.0, 0.0, 1.10429, 0.344518, 1.0, 0.564018, -1.22917, -0.852917, 0.0, 0.0, 0.520833, 0.1875, -0.791667, 0.0783333]          \n",
       " [0.0625, -0.359583, 1.0, 0.0, 1.14008, 0.465172, 1.0, 0.470388, -0.358672, 0.60144, 1.5, 0.157895, 0.520833, 0.1875, -0.791667, 0.0783333]      \n",
       " [0.0625, -0.359167, 1.0, 0.02, 1.0436, 0.400243, 1.0, 0.382864, -0.282481, 0.65553, 1.5, 0.218915, 0.520833, 0.1875, -0.791667, 0.0779167]      \n",
       " [0.0625, -0.357917, 1.0, 0.04, 0.973372, 0.353933, 1.0, 0.589306, -0.245126, 0.583743, 1.5, -0.157905, 0.520833, 0.1875, -0.791667, 0.0766667]  \n",
       " [0.0625, -0.355833, 1.0, 0.06, 0.940323, 0.439768, 1.0, 0.559521, -0.355606, 0.642378, 1.5, 0.269459, 0.520833, 0.1875, -0.791667, 0.0745833]   \n",
       " [0.0625, -0.352917, 1.0, 0.08, 1.03362, 0.394452, 1.0, 0.539236, -0.325245, 0.587778, 1.5, 0.125537, 0.520833, 0.1875, -0.791667, 0.0716667]    "
      ]
     },
     "execution_count": 184,
     "metadata": {},
     "output_type": "execute_result"
    }
   ],
   "source": [
    "tx, ty = generate_trajectory(pomdp, policy, 100, rng);\n",
    "tx = convert.(Vector{Float64}, tx)\n",
    "duration, fps, render_hist = animate_scenes(obs_to_scene.(pomdp, tx), pomdp.env, sim_dt=pomdp.ΔT)\n",
    "speed_factor = 1\n",
    "film = roll(render_hist, fps = speed_factor*fps, duration = duration/speed_factor)"
   ]
  },
  {
   "cell_type": "code",
   "execution_count": 157,
   "metadata": {},
   "outputs": [
    {
     "data": {
      "text/html": [
       "<video autoplay controls><source src=\"files/reel-7311085233500093352.webm?2182699215122291658\" type=\"video/webm\"></video>"
      ],
      "text/plain": [
       "Reel.Frames{MIME{Symbol(\"image/png\")}}(\"/tmp/tmpXs6iwb\", 0x0000000000000065, 10.0, nothing)"
      ]
     },
     "execution_count": 157,
     "metadata": {},
     "output_type": "execute_result"
    }
   ],
   "source": [
    "tb = process_prediction.(pomdp, ty, tx)\n",
    "duration, fps, render_hist = animate_scenes(obs_to_scene.(pomdp, tb), pomdp.env, sim_dt=pomdp.ΔT)\n",
    "speed_factor = 1\n",
    "film = roll(render_hist, fps = speed_factor*fps, duration = duration/speed_factor)"
   ]
  },
  {
   "cell_type": "code",
   "execution_count": 142,
   "metadata": {},
   "outputs": [
    {
     "data": {
      "text/plain": [
       "normalized_off_the_grid_pos (generic function with 1 method)"
      ]
     },
     "execution_count": 142,
     "metadata": {},
     "output_type": "execute_result"
    }
   ],
   "source": [
    "function process_prediction(pomdp::UrbanPOMDP, b::Vector{Float64}, o::Vector{Float64})\n",
    "    n_features = 4\n",
    "    n_obstacles = pomdp.max_obstacles\n",
    "    b_ = zeros(length(o)) # should be 12 + obstacles\n",
    "    b_[1:4] = o[1:4] # ego state fully observable\n",
    "    # get car state from b\n",
    "    car_presence = b[5]\n",
    "    if 1/(1 + exp(-car_presence)) > 0.5 # softmax \n",
    "        b_[n_features+1:2*n_features] = b[1:4]\n",
    "    else\n",
    "        # absent\n",
    "        b_[n_features+1:2*n_features] = normalized_off_the_grid_pos(pomdp, o[1], o[2])\n",
    "    end\n",
    "    \n",
    "    # get ped state from b \n",
    "    ped_presence = b[10]\n",
    "    if 1/(1 + exp(-ped_presence)) > 0.5 # softmax \n",
    "        b_[2*n_features+1:3*n_features] = b[6:9]\n",
    "    else\n",
    "        # absent \n",
    "        b_[2*n_features+1:3*n_features] = normalized_off_the_grid_pos(pomdp, o[1], o[2])\n",
    "    end\n",
    "            \n",
    "    b_[end - n_features*n_obstacles + 1:end] = o[end - n_features*n_obstacles + 1:end]\n",
    "    return b_\n",
    "end\n",
    "\n",
    "function normalized_off_the_grid_pos(pomdp::UrbanPOMDP,normalized_ego_x::Float64, normalized_ego_y::Float64)\n",
    "    pos_off = get_off_the_grid(pomdp)\n",
    "    max_ego_dist = get_end(pomdp.env.roadway[pomdp.ego_goal])\n",
    "    return [pos_off.posG.x/max_ego_dist - normalized_ego_x, pos_off.posG.y/max_ego_dist - normalized_ego_y, pos_off.posG.θ, 0.]\n",
    "end"
   ]
  },
  {
   "cell_type": "code",
   "execution_count": 143,
   "metadata": {},
   "outputs": [
    {
     "data": {
      "text/html": [
       "<video autoplay controls><source src=\"files/reel-11431744916577630544.webm?9352973519807694028\" type=\"video/webm\"></video>"
      ],
      "text/plain": [
       "Reel.Frames{MIME{Symbol(\"image/png\")}}(\"/tmp/tmpcowIYf\", 0x0000000000000006, 10.0, nothing)"
      ]
     },
     "execution_count": 143,
     "metadata": {},
     "output_type": "execute_result"
    }
   ],
   "source": [
    "tb = process_prediction.(pomdp, ty, tx)\n",
    "duration, fps, render_hist = animate_scenes(obs_to_scene.(pomdp, tb), pomdp.env, sim_dt=pomdp.ΔT)\n",
    "speed_factor = 1\n",
    "film = roll(render_hist, fps = speed_factor*fps, duration = duration/speed_factor)"
   ]
  },
  {
   "cell_type": "code",
   "execution_count": null,
   "metadata": {},
   "outputs": [],
   "source": []
  }
 ],
 "metadata": {
  "kernelspec": {
   "display_name": "Julia 0.6.1",
   "language": "julia",
   "name": "julia-0.6"
  },
  "language_info": {
   "file_extension": ".jl",
   "mimetype": "application/julia",
   "name": "julia",
   "version": "0.6.1"
  }
 },
 "nbformat": 4,
 "nbformat_minor": 2
}
