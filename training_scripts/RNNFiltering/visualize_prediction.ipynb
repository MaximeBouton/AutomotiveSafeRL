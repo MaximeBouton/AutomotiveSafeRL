{
 "cells": [
  {
   "cell_type": "markdown",
   "metadata": {},
   "source": [
    "# Visualize RNN Prediction"
   ]
  },
  {
   "cell_type": "code",
   "execution_count": 1,
   "metadata": {},
   "outputs": [
    {
     "name": "stderr",
     "output_type": "stream",
     "text": [
      "WARNING: Method definition info(Any...) in module Base at util.jl:532 overwritten in module Logging at /mnt/c/Users/Maxime/wsl/.julia/v0.6/Logging/src/Logging.jl:115.\n",
      "WARNING: Method definition warn(Any...) in module Base at util.jl:585 overwritten in module Logging at /mnt/c/Users/Maxime/wsl/.julia/v0.6/Logging/src/Logging.jl:115.\n",
      "WARNING: Method definition copy!(Array{Float64, 1}, AutomotiveDrivingModels.LatLonAccel) in module AutomotiveDrivingModels at /mnt/c/Users/Maxime/wsl/.julia/v0.6/AutomotiveDrivingModels/src/2d/actions/lat_lon_accel.jl:13 overwritten in module AutoUrban at /mnt/c/Users/Maxime/wsl/.julia/v0.6/AutoUrban/src/simulation/actions.jl:10.\n",
      "WARNING: Method definition ==(AutomotiveDrivingModels.VehicleState, AutomotiveDrivingModels.VehicleState) in module AutomotiveDrivingModels at /mnt/c/Users/Maxime/wsl/.julia/v0.6/AutomotiveDrivingModels/src/2d/vehicles/vehicles.jl:15 overwritten in module PedCar at /home/maxime/Maxime/OneDrive - Leland Stanford Junior University/Research/PedCar/src/mdp_type.jl:29.\n"
     ]
    }
   ],
   "source": [
    "using Flux\n",
    "using StaticArrays\n",
    "using ProgressMeter\n",
    "using POMDPs\n",
    "using POMDPToolbox\n",
    "using AutomotiveDrivingModels\n",
    "using AutoViz\n",
    "using AutomotivePOMDPs\n",
    "using AutomotiveSensors\n",
    "using PedCar\n",
    "using Reel\n",
    "using BSON: @load"
   ]
  },
  {
   "cell_type": "markdown",
   "metadata": {},
   "source": [
    "**environment**"
   ]
  },
  {
   "cell_type": "code",
   "execution_count": 31,
   "metadata": {},
   "outputs": [],
   "source": [
    "mdp = PedCarMDP(pos_res=2.0, vel_res=2., ped_birth=0.7, car_birth=0.7)\n",
    "pomdp = UrbanPOMDP(env=mdp.env,\n",
    "                    sensor = GaussianSensor(false_positive_rate=0.05, \n",
    "                                            pos_noise = LinearNoise(min_noise=0.5, increase_rate=0.05), \n",
    "                                            vel_noise = LinearNoise(min_noise=0.5, increase_rate=0.05)),\n",
    "                   ego_goal = LaneTag(2, 1),\n",
    "                   max_cars=1, \n",
    "                   max_peds=1, \n",
    "                   car_birth=0.7, \n",
    "                   ped_birth=0.7, \n",
    "                   obstacles=false, # no fixed obstacles\n",
    "                   lidar=false,\n",
    "                   ego_start=20,\n",
    "                   ΔT=0.1)\n",
    "\n",
    "rng = MersenneTwister(1);"
   ]
  },
  {
   "cell_type": "code",
   "execution_count": 32,
   "metadata": {},
   "outputs": [],
   "source": [
    "n_models = 5\n",
    "models = Vector{Chain}(n_models)\n",
    "for i=1:n_models\n",
    "    models[i] = BSON.load(\"model_$(i)0.bson\")[:model] \n",
    "end\n"
   ]
  },
  {
   "cell_type": "code",
   "execution_count": 33,
   "metadata": {},
   "outputs": [],
   "source": [
    "# input_length = n_dims(pomdp)\n",
    "# output_length = n_dims(pomdp)\n",
    "# model = Chain(LSTM(input_length, 128),\n",
    "#               Dense(128, output_length))"
   ]
  },
  {
   "cell_type": "code",
   "execution_count": 34,
   "metadata": {},
   "outputs": [
    {
     "data": {
      "text/plain": [
       "process_prediction (generic function with 1 method)"
      ]
     },
     "execution_count": 34,
     "metadata": {},
     "output_type": "execute_result"
    }
   ],
   "source": [
    "function process_prediction(b::Vector{Float64}, o::Vector{Float64})\n",
    "    b_ = zeros(length(o))\n",
    "    b_[1:4] = o[1:4] # ego state fully observable\n",
    "    b_[5:end] = b\n",
    "    return b_\n",
    "end"
   ]
  },
  {
   "cell_type": "code",
   "execution_count": 35,
   "metadata": {},
   "outputs": [
    {
     "name": "stdout",
     "output_type": "stream",
     "text": [
      "  2.252001 seconds (3.47 M allocations: 395.752 MiB, 26.89% gc time)\n"
     ]
    }
   ],
   "source": [
    "n_steps = 400\n",
    "belief_history = Vector{Vector{Float64}}[]\n",
    "state_history = Scene[]\n",
    "obs_history = Vector{Float64}[]\n",
    "s = initial_state(pomdp, rng)\n",
    "for m in models\n",
    "    Flux.reset!(m)\n",
    "end\n",
    "@time for i=1:n_steps\n",
    "    if isterminal(pomdp, s)\n",
    "        break \n",
    "    end\n",
    "    push!(state_history, s)\n",
    "    a = UrbanAction(0.)\n",
    "    o = generate_o(pomdp, s, a, s, rng)\n",
    "    beliefs = Vector{Vector{Float64}}(n_models)\n",
    "    for i=1:n_models       \n",
    "        b = models[i](o).tracker.data\n",
    "        b_ = process_prediction(b, o)\n",
    "        beliefs[i] = b_\n",
    "    end\n",
    "    push!(belief_history, beliefs)\n",
    "    push!(obs_history, o)\n",
    "    sp = generate_s(pomdp, s, a, rng)\n",
    "    s = sp\n",
    "end\n"
   ]
  },
  {
   "cell_type": "code",
   "execution_count": null,
   "metadata": {},
   "outputs": [],
   "source": [
    "duration, fps, render_hist = animate_scenes(state_history, obs_history, belief_history, pomdp, sim_dt=pomdp.ΔT)\n",
    "speed_factor = 1\n",
    "film = roll(render_hist, fps = speed_factor*fps, duration = duration/speed_factor)"
   ]
  },
  {
   "cell_type": "code",
   "execution_count": 7,
   "metadata": {},
   "outputs": [],
   "source": [
    "function AutomotivePOMDPs.animate_scenes(scenes::Vector{Scene}, observations::Vector{Vector{Float64}}, beliefs::Vector{Vector{Vector{Float64}}}, pomdp::UrbanPOMDP;\n",
    "                                         sim_dt = 0.1,\n",
    "                                         cam = StaticCamera(VecE2(0., -8.), 16.0))\n",
    "    env = pomdp.env \n",
    "    duration = length(scenes)*sim_dt\n",
    "    fps = Int(1/sim_dt)\n",
    "    function render_rec(t, dt)\n",
    "        frame_index = Int(floor(t/dt)) + 1\n",
    "        overlays = SceneOverlay[IDOverlay()]\n",
    "        obs = [veh for veh in obs_to_scene(pomdp, observations[frame_index]) if veh.id != EGO_ID]\n",
    "        obs_overlay = GaussianSensorOverlay(sensor=pomdp.sensor, o=obs, color=MONOKAI[\"color2\"])\n",
    "        push!(overlays, obs_overlay)\n",
    "        for b in beliefs[frame_index]\n",
    "            bel = [veh for veh in obs_to_scene(pomdp, b) if veh.id != EGO_ID]\n",
    "            bel_overlay = GaussianSensorOverlay(sensor=pomdp.sensor, o=bel, color=MONOKAI[\"color1\"])            \n",
    "            push!(overlays, bel_overlay)\n",
    "        end\n",
    "        return AutoViz.render(scenes[frame_index], env, overlays, cam=cam)\n",
    "    end\n",
    "    return duration, fps, render_rec\n",
    "end\n",
    "    \n",
    "    "
   ]
  },
  {
   "cell_type": "code",
   "execution_count": null,
   "metadata": {},
   "outputs": [],
   "source": []
  }
 ],
 "metadata": {
  "kernelspec": {
   "display_name": "Julia 0.6.1",
   "language": "julia",
   "name": "julia-0.6"
  },
  "language_info": {
   "file_extension": ".jl",
   "mimetype": "application/julia",
   "name": "julia",
   "version": "0.6.1"
  }
 },
 "nbformat": 4,
 "nbformat_minor": 2
}
