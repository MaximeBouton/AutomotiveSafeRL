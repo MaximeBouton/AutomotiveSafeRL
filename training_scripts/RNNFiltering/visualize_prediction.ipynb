{
 "cells": [
  {
   "cell_type": "markdown",
   "metadata": {},
   "source": [
    "# Visualize RNN Prediction"
   ]
  },
  {
   "cell_type": "code",
   "execution_count": 1,
   "metadata": {},
   "outputs": [
    {
     "name": "stderr",
     "output_type": "stream",
     "text": [
      "WARNING: Method definition info(Any...) in module Base at util.jl:532 overwritten in module Logging at /mnt/c/Users/Maxime/wsl/.julia/v0.6/Logging/src/Logging.jl:115.\n",
      "WARNING: Method definition warn(Any...) in module Base at util.jl:585 overwritten in module Logging at /mnt/c/Users/Maxime/wsl/.julia/v0.6/Logging/src/Logging.jl:115.\n",
      "WARNING: Method definition copy!(Array{Float64, 1}, AutomotiveDrivingModels.LatLonAccel) in module AutomotiveDrivingModels at /mnt/c/Users/Maxime/wsl/.julia/v0.6/AutomotiveDrivingModels/src/2d/actions/lat_lon_accel.jl:13 overwritten in module AutoUrban at /mnt/c/Users/Maxime/wsl/.julia/v0.6/AutoUrban/src/simulation/actions.jl:10.\n",
      "WARNING: Method definition split_o(Array{Float64, 1}, AutomotivePOMDPs.UrbanPOMDP) in module AutomotivePOMDPs at /home/maxime/Maxime/OneDrive - Leland Stanford Junior University/Research/AutomotivePOMDPs/src/generative_pomdps/urban/generative_model.jl:560 overwritten at /home/maxime/Maxime/OneDrive - Leland Stanford Junior University/Research/AutomotivePOMDPs/src/decomposition/base_scenarios.jl:38.\n",
      "WARNING: Method definition #split_o(Array{Any, 1}, typeof(AutomotivePOMDPs.split_o), Array{Float64, 1}, AutomotivePOMDPs.UrbanPOMDP) in module AutomotivePOMDPs overwritten.\n",
      "WARNING: Method definition ==(AutomotiveDrivingModels.VehicleState, AutomotiveDrivingModels.VehicleState) in module AutomotiveDrivingModels at /mnt/c/Users/Maxime/wsl/.julia/v0.6/AutomotiveDrivingModels/src/2d/vehicles/vehicles.jl:15 overwritten in module PedCar at /home/maxime/Maxime/OneDrive - Leland Stanford Junior University/Research/PedCar/src/mdp_type.jl:29.\n",
      "2018-09-26 23:05:33.707317: I tensorflow/core/platform/cpu_feature_guard.cc:140] Your CPU supports instructions that this TensorFlow binary was not compiled to use: SSE4.1 SSE4.2 AVX AVX2 FMA\n"
     ]
    }
   ],
   "source": [
    "using Flux\n",
    "using StaticArrays\n",
    "using ProgressMeter\n",
    "using POMDPs\n",
    "using POMDPToolbox\n",
    "using AutomotiveDrivingModels\n",
    "using AutoViz\n",
    "using AutomotivePOMDPs\n",
    "using AutomotiveSensors\n",
    "using PedCar\n",
    "using Reel\n",
    "using FileIO\n",
    "using BSON: @load\n",
    "include(\"RNNFiltering.jl\")\n",
    "using RNNFiltering"
   ]
  },
  {
   "cell_type": "code",
   "execution_count": 2,
   "metadata": {},
   "outputs": [],
   "source": [
    "cam = FitToContentCamera(0.)\n",
    "rng = MersenneTwister(1);"
   ]
  },
  {
   "cell_type": "markdown",
   "metadata": {},
   "source": [
    "**environment**"
   ]
  },
  {
   "cell_type": "code",
   "execution_count": 3,
   "metadata": {},
   "outputs": [],
   "source": [
    "mdp = PedCarMDP(pos_res=2.0, vel_res=2., ped_birth=0.7, car_birth=0.7)\n",
    "pomdp = UrbanPOMDP(env=mdp.env,\n",
    "                    sensor = GaussianSensor(false_positive_rate=0.0, \n",
    "                                            pos_noise = LinearNoise(min_noise=0.5, increase_rate=0.05), \n",
    "                                            vel_noise = LinearNoise(min_noise=0.5, increase_rate=0.05)),\n",
    "                   ego_goal = LaneTag(2, 1),\n",
    "                     obs_dist = ObstacleDistribution(mdp.env, upper_obs_pres_prob=0., left_obs_pres_prob=1.0, right_obs_pres_prob=1.0),\n",
    "                   max_cars=1, \n",
    "                   max_peds=1, \n",
    "                   car_birth=0.05, \n",
    "                   ped_birth=0.05, \n",
    "                   max_obstacles=1, # no fixed obstacles\n",
    "                   lidar=false,\n",
    "                   ego_start=20,\n",
    "                   ΔT=0.1)\n",
    ";"
   ]
  },
  {
   "cell_type": "code",
   "execution_count": 4,
   "metadata": {},
   "outputs": [],
   "source": [
    "n_models = 5\n",
    "models = Vector{Chain}(n_models)\n",
    "for i=1:n_models\n",
    "    models[i] = BSON.load(\"model_$i.bson\")[:model] \n",
    "end\n"
   ]
  },
  {
   "cell_type": "code",
   "execution_count": 5,
   "metadata": {},
   "outputs": [],
   "source": [
    "# input_length = n_dims(pomdp)\n",
    "# output_length = n_dims(pomdp)\n",
    "# model = Chain(LSTM(input_length, 128),\n",
    "#               Dense(128, output_length))"
   ]
  },
  {
   "cell_type": "code",
   "execution_count": 19,
   "metadata": {},
   "outputs": [],
   "source": [
    "function RNNFiltering.process_prediction(pomdp::UrbanPOMDP, b::Vector{Float64}, o::Vector{Float64})\n",
    "    n_features = 4\n",
    "    n_obstacles = pomdp.max_obstacles\n",
    "    b_ = zeros(length(o)) # should be 12 + obstacles\n",
    "    b_[1:4] = o[1:4] # ego state fully observable\n",
    "    # get car state from b\n",
    "    car_presence = b[5]\n",
    "    if rand() < car_presence \n",
    "        b_[n_features+1:2*n_features] = b[1:4]\n",
    "    else\n",
    "        # absent\n",
    "        b_[n_features+1:2*n_features] = RNNFiltering.normalized_off_the_grid_pos(pomdp, o[1], o[2])\n",
    "    end\n",
    "    \n",
    "    # get ped state from b \n",
    "    ped_presence = b[10]\n",
    "    if rand() < ped_presence # softmax \n",
    "        b_[2*n_features+1:3*n_features] = b[6:9]\n",
    "    else\n",
    "        # absent \n",
    "        b_[2*n_features+1:3*n_features] = RNNFiltering.normalized_off_the_grid_pos(pomdp, o[1], o[2])\n",
    "    end\n",
    "            \n",
    "    b_[end - n_features*n_obstacles + 1:end] = o[end - n_features*n_obstacles + 1:end]\n",
    "    return b_\n",
    "end"
   ]
  },
  {
   "cell_type": "code",
   "execution_count": 72,
   "metadata": {},
   "outputs": [
    {
     "name": "stdout",
     "output_type": "stream",
     "text": [
      "  2.022856 seconds (4.02 M allocations: 409.176 MiB, 29.66% gc time)\n"
     ]
    }
   ],
   "source": [
    "n_steps = 400\n",
    "belief_history = Vector{Vector{Float64}}[]\n",
    "state_history = Scene[]\n",
    "obs_history = Vector{Float64}[]\n",
    "presence_history = Tuple{Float64, Float64}[]\n",
    "s = initial_state(pomdp, rng)\n",
    "for m in models\n",
    "    Flux.reset!(m)\n",
    "end\n",
    "@time for i=1:n_steps\n",
    "    if isterminal(pomdp, s)\n",
    "        break \n",
    "    end\n",
    "    push!(state_history, s)\n",
    "    a = UrbanAction(1.)\n",
    "    o = generate_o(pomdp, s, a, s, rng)\n",
    "    beliefs = Vector{Vector{Float64}}(n_models)\n",
    "    car_pres, ped_pres = 0., 0.\n",
    "    for i=1:n_models       \n",
    "        pred = models[i](o).tracker.data\n",
    "        car_pres += pred[5]\n",
    "        ped_pres += pred[10]\n",
    "        b_ = process_prediction(pomdp, pred, o)\n",
    "        beliefs[i] = b_\n",
    "    end\n",
    "    push!(presence_history, (car_pres/n_models, ped_pres/n_models))\n",
    "    push!(belief_history, beliefs)\n",
    "    push!(obs_history, o)\n",
    "    sp = generate_s(pomdp, s, a, rng)\n",
    "    s = sp\n",
    "end\n"
   ]
  },
  {
   "cell_type": "code",
   "execution_count": 73,
   "metadata": {
    "scrolled": false
   },
   "outputs": [
    {
     "data": {
      "text/html": [
       "<video autoplay controls><source src=\"files/reel-6648437745222110795.webm?15210087196630212080\" type=\"video/webm\"></video>"
      ],
      "text/plain": [
       "Reel.Frames{MIME{Symbol(\"image/png\")}}(\"/tmp/tmpFTtPLS\", 0x0000000000000190, 10.0, nothing)"
      ]
     },
     "execution_count": 73,
     "metadata": {},
     "output_type": "execute_result"
    }
   ],
   "source": [
    "duration, fps, render_hist = animate_scenes(state_history, obs_history, belief_history, presence_history, pomdp, sim_dt=pomdp.ΔT)\n",
    "speed_factor = 1\n",
    "film = roll(render_hist, fps = speed_factor*fps, duration = duration/speed_factor)"
   ]
  },
  {
   "cell_type": "code",
   "execution_count": 66,
   "metadata": {},
   "outputs": [],
   "source": [
    "function AutomotivePOMDPs.animate_scenes(scenes::Vector{Scene}, observations::Vector{Vector{Float64}}, \n",
    "                                         beliefs::Vector{Vector{Vector{Float64}}}, \n",
    "                                         presences::Vector{Tuple{Float64, Float64}},\n",
    "                                         pomdp::UrbanPOMDP;\n",
    "                                         sim_dt = 0.1,\n",
    "                                         cam = StaticCamera(VecE2(0., -8.), 16.0))\n",
    "    env = pomdp.env \n",
    "    duration = length(scenes)*sim_dt\n",
    "    fps = Int(1/sim_dt)\n",
    "    function render_rec(t, dt)\n",
    "        frame_index = Int(floor(t/dt)) + 1\n",
    "        overlays = SceneOverlay[IDOverlay()]\n",
    "        obs = [veh for veh in obs_to_scene(pomdp, observations[frame_index]) if veh.id != EGO_ID]\n",
    "        obs_overlay = GaussianSensorOverlay(sensor=pomdp.sensor, o=obs, color=MONOKAI[\"color2\"])\n",
    "        push!(overlays, obs_overlay)\n",
    "        occlusion_overlay = OcclusionOverlay(obstacles=mdp.env.obstacles)\n",
    "        push!(overlays, occlusion_overlay)\n",
    "        for b in beliefs[frame_index]\n",
    "            bel = [veh for veh in obs_to_scene(pomdp, b) if veh.id != EGO_ID]\n",
    "            bel_overlay = GaussianSensorOverlay(sensor=pomdp.sensor, o=bel, color=MONOKAI[\"color4\"])            \n",
    "            push!(overlays, bel_overlay)\n",
    "        end\n",
    "        push!(overlays, HistogramOverlay(pos=VecSE2(-15., -20.), val=presences[frame_index][1], label=\"car\"))\n",
    "        push!(overlays, HistogramOverlay(pos=VecSE2(-12., -20.), val=presences[frame_index][2], label=\"ped\"))\n",
    "        push!(overlays, TextOverlay(text=[\"Probability of presence\"], pos=VecSE2(-17,-14.), font_size=15, incameraframe=true))\n",
    "        return AutoViz.render(scenes[frame_index], env, overlays, cam=cam)\n",
    "    end\n",
    "    return duration, fps, render_rec\n",
    "end\n",
    "    \n",
    "    "
   ]
  },
  {
   "cell_type": "code",
   "execution_count": 34,
   "metadata": {},
   "outputs": [],
   "source": [
    "using Parameters\n",
    "using Cairo"
   ]
  },
  {
   "cell_type": "code",
   "execution_count": 35,
   "metadata": {},
   "outputs": [
    {
     "data": {
      "text/plain": [
       "render_rect (generic function with 5 methods)"
      ]
     },
     "execution_count": 35,
     "metadata": {},
     "output_type": "execute_result"
    }
   ],
   "source": [
    "function render_rect(ctx::CairoContext,\n",
    "                    x::Real,\n",
    "                    y::Real,\n",
    "                    width::Real,\n",
    "                    height::Real,\n",
    "                    color_fill::Colorant,\n",
    "                    ffill         :: Bool        = false,\n",
    "                    fstroke       :: Bool        = true,\n",
    "                    color_stroke  :: Colorant    = color_fill,\n",
    "                    line_width    :: Real        = 2.0\n",
    "                    )\n",
    "    Cairo.save(ctx)\n",
    "    rectangle(ctx, x, y, width, height)\n",
    "    if ffill\n",
    "        set_source_rgba(ctx, color_fill)\n",
    "        fstroke ? fill_preserve(ctx) : fill(ctx)\n",
    "    end\n",
    "    \n",
    "    if fstroke\n",
    "        set_source_rgba(ctx, color_stroke)\n",
    "        set_line_width(ctx, line_width)\n",
    "        stroke(ctx)\n",
    "    end\n",
    "    \n",
    "    restore(ctx)\n",
    "end"
   ]
  },
  {
   "cell_type": "code",
   "execution_count": 41,
   "metadata": {},
   "outputs": [],
   "source": [
    "@with_kw mutable struct HistogramOverlay <: SceneOverlay\n",
    "    pos::VecSE2{Float64} = VecSE2(0.,0.)\n",
    "    incameraframe::Bool = true\n",
    "    label::String = \"histogram\"\n",
    "    val::Float64 = 0.5 # should be between 0 and 1\n",
    "    width::Float64 = 2.\n",
    "    height::Float64 = 5. \n",
    "    fill_color::Colorant = colorant\"blue\"\n",
    "    line_color::Colorant = colorant\"white\"\n",
    "    font_size::Int64 = 15 # [pix]\n",
    "    label_pos::VecSE2{Float64} = pos + VecSE2(0., -height/2)\n",
    "end\n",
    "\n",
    "function AutoViz.render!{R}(rendermodel::RenderModel, overlay::HistogramOverlay, scene::Scene, roadway::R)\n",
    "    # render value \n",
    "    add_instruction!(rendermodel, render_rect, (overlay.pos.x, overlay.pos.y, overlay.width, overlay.val*overlay.height,overlay.fill_color, true, false), incameraframe=overlay.incameraframe)\n",
    "    # render histogram outline \n",
    "    add_instruction!(rendermodel, render_rect, (overlay.pos.x, overlay.pos.y, overlay.width, overlay.height, overlay.line_color), incameraframe=overlay.incameraframe)\n",
    "     # label \n",
    "    add_instruction!(rendermodel, render_text, (overlay.label, overlay.label_pos.x, overlay.label_pos.y, overlay.font_size, overlay.line_color), incameraframe=overlay.incameraframe)\n",
    "end"
   ]
  },
  {
   "cell_type": "code",
   "execution_count": 37,
   "metadata": {},
   "outputs": [
    {
     "data": {
      "image/png": "[encoded data removed]",
      "text/plain": [
       "Cairo.CairoSurface{UInt32}(Ptr{Void} @0x000000000f3673b0, 1000.0, 600.0, #undef)"
      ]
     },
     "execution_count": 37,
     "metadata": {},
     "output_type": "execute_result"
    }
   ],
   "source": [
    "# test histogram overlay \n",
    "scene = state_history[1]\n",
    "overlay = HistogramOverlay(pos=VecSE2(-10., -15.))\n",
    "render(scene, pomdp.env, [overlay], cam=cam)"
   ]
  },
  {
   "cell_type": "markdown",
   "metadata": {},
   "source": [
    "## Visualize training set"
   ]
  },
  {
   "cell_type": "code",
   "execution_count": 75,
   "metadata": {},
   "outputs": [],
   "source": [
    "# include(\"data_generation.jl\")"
   ]
  },
  {
   "cell_type": "code",
   "execution_count": 5,
   "metadata": {},
   "outputs": [],
   "source": [
    "policy = RandomHoldPolicy(pomdp, 5, 0, UrbanAction(0.), rng);"
   ]
  },
  {
   "cell_type": "code",
   "execution_count": 99,
   "metadata": {},
   "outputs": [],
   "source": [
    "X, Y = collect_set(pomdp, policy , 400, rng, 1);"
   ]
  },
  {
   "cell_type": "code",
   "execution_count": 100,
   "metadata": {},
   "outputs": [
    {
     "data": {
      "image/png": "[encoded data removed]",
      "text/plain": [
       "Cairo.CairoSurface{UInt32}(Ptr{Void} @0x000000000fca6350, 1000.0, 600.0, #undef)"
      ]
     },
     "execution_count": 100,
     "metadata": {},
     "output_type": "execute_result"
    }
   ],
   "source": [
    "trajind = 1\n",
    "trajx = X[trajind]\n",
    "trajy = Y[trajind]\n",
    "tb = process_prediction.(pomdp, trajy, trajx)\n",
    "scenes = obs_to_scene.(pomdp, tb);\n",
    "sind = 250\n",
    "obs = [veh for veh in obs_to_scene(pomdp, trajx[sind]) if veh.id != EGO_ID]\n",
    "render(scenes[sind], pomdp.env, [GaussianSensorOverlay(sensor=pomdp.sensor, o=obs, color=MONOKAI[\"color2\"]), OcclusionOverlay(obstacles=pomdp.env.obstacles)], \n",
    "                cam=cam, car_colors=get_colors(scenes[1]))"
   ]
  },
  {
   "cell_type": "code",
   "execution_count": 89,
   "metadata": {
    "scrolled": false
   },
   "outputs": [
    {
     "data": {
      "text/html": [
       "<video autoplay controls><source src=\"files/reel-296970932504565904.webm?77403846656700669\" type=\"video/webm\"></video>"
      ],
      "text/plain": [
       "Reel.Frames{MIME{Symbol(\"image/png\")}}(\"/tmp/tmp3SYP7E\", 0x0000000000000191, 10.0, nothing)"
      ]
     },
     "execution_count": 89,
     "metadata": {},
     "output_type": "execute_result"
    }
   ],
   "source": [
    "duration, fps, render_hist = animate_scenes(scenes, pomdp.env, sim_dt=pomdp.ΔT)\n",
    "speed_factor = 1\n",
    "film = roll(render_hist, fps = speed_factor*fps, duration = duration/speed_factor)"
   ]
  },
  {
   "cell_type": "code",
   "execution_count": 31,
   "metadata": {
    "scrolled": false
   },
   "outputs": [
    {
     "data": {
      "text/html": [
       "<video autoplay controls><source src=\"files/reel-9901194512160678611.webm?7336184494733404989\" type=\"video/webm\"></video>"
      ],
      "text/plain": [
       "Reel.Frames{MIME{Symbol(\"image/png\")}}(\"/tmp/tmp2F9062\", 0x0000000000000065, 10.0, nothing)"
      ]
     },
     "execution_count": 31,
     "metadata": {},
     "output_type": "execute_result"
    }
   ],
   "source": [
    "tx, ty = generate_trajectory(pomdp, policy, 100, rng);\n",
    "tx = convert.(Vector{Float64}, tx)\n",
    "duration, fps, render_hist = animate_scenes(obs_to_scene.(pomdp, tx), pomdp.env, sim_dt=pomdp.ΔT)\n",
    "speed_factor = 1\n",
    "film = roll(render_hist, fps = speed_factor*fps, duration = duration/speed_factor)"
   ]
  },
  {
   "cell_type": "code",
   "execution_count": 74,
   "metadata": {},
   "outputs": [
    {
     "data": {
      "text/plain": [
       "build_presence_mask (generic function with 6 methods)"
      ]
     },
     "execution_count": 74,
     "metadata": {},
     "output_type": "execute_result"
    }
   ],
   "source": [
    "function build_presence_mask(y::Vector{Float64}, car_pres_ind=5, ped_pres_ind=10)\n",
    "    n_features = 5\n",
    "    mask = ones(length(y))\n",
    "    if y[car_pres_ind] == 0.\n",
    "        mask[1:car_pres_ind-1] .= 0. \n",
    "    end\n",
    "    if y[ped_pres_ind] == 0.\n",
    "        mask[ped_pres_ind-n_features+1:ped_pres_ind-1] .= 0.\n",
    "    end\n",
    "    return mask\n",
    "end"
   ]
  },
  {
   "cell_type": "code",
   "execution_count": 116,
   "metadata": {},
   "outputs": [
    {
     "data": {
      "text/plain": [
       "mse (generic function with 1 method)"
      ]
     },
     "execution_count": 116,
     "metadata": {},
     "output_type": "execute_result"
    }
   ],
   "source": [
    "model = models[1]\n",
    "function loss(x, y)\n",
    "    mask = build_presence_mask.(y) # same size as y\n",
    "    l = mean(mse.(model.(x), y, mask)) # mean over the trajectory\n",
    "    Flux.truncate!(model)\n",
    "    Flux.reset!(model)\n",
    "    return l\n",
    "end\n",
    "\n",
    "function mse(ypred, y, mask)\n",
    "    return sum(mask.*(ypred - y).^2)/length(y)\n",
    "end"
   ]
  },
  {
   "cell_type": "code",
   "execution_count": 111,
   "metadata": {},
   "outputs": [
    {
     "ename": "LoadError",
     "evalue": "\u001b[91mMethodError: Cannot `convert` an object of type Flux.Tracker.TrackedReal{Float64} to an object of type AbstractFloat\nThis may have arisen from a call to the constructor AbstractFloat(...),\nsince type constructors fall back to convert methods.\u001b[39m",
     "output_type": "error",
     "traceback": [
      "\u001b[91mMethodError: Cannot `convert` an object of type Flux.Tracker.TrackedReal{Float64} to an object of type AbstractFloat\nThis may have arisen from a call to the constructor AbstractFloat(...),\nsince type constructors fall back to convert methods.\u001b[39m",
      "",
      "Stacktrace:",
      " [1] \u001b[1mgeneric_vecnormInf\u001b[22m\u001b[22m\u001b[1m(\u001b[22m\u001b[22m::Array{Flux.Tracker.TrackedReal{Float64},1}\u001b[1m)\u001b[22m\u001b[22m at \u001b[1m./linalg/generic.jl:334\u001b[22m\u001b[22m",
      " [2] \u001b[1mgeneric_vecnorm2\u001b[22m\u001b[22m\u001b[1m(\u001b[22m\u001b[22m::Array{Flux.Tracker.TrackedReal{Float64},1}\u001b[1m)\u001b[22m\u001b[22m at \u001b[1m./linalg/generic.jl:356\u001b[22m\u001b[22m",
      " [3] \u001b[1mvecnorm\u001b[22m\u001b[22m\u001b[1m(\u001b[22m\u001b[22m::Array{Flux.Tracker.TrackedReal{Float64},1}, ::Int64\u001b[1m)\u001b[22m\u001b[22m at \u001b[1m./linalg/generic.jl:445\u001b[22m\u001b[22m",
      " [4] \u001b[1mnorm\u001b[22m\u001b[22m\u001b[1m(\u001b[22m\u001b[22m::Array{Flux.Tracker.TrackedReal{Float64},1}\u001b[1m)\u001b[22m\u001b[22m at \u001b[1m./linalg/generic.jl:540\u001b[22m\u001b[22m",
      " [5] \u001b[1minclude_string\u001b[22m\u001b[22m\u001b[1m(\u001b[22m\u001b[22m::String, ::String\u001b[1m)\u001b[22m\u001b[22m at \u001b[1m./loading.jl:522\u001b[22m\u001b[22m"
     ]
    }
   ],
   "source": [
    "norm([model(x)[5] for x in tx])"
   ]
  },
  {
   "cell_type": "code",
   "execution_count": 75,
   "metadata": {},
   "outputs": [
    {
     "data": {
      "text/plain": [
       "101-element Array{Array{Float64,1},1}:\n",
       " [0.0, 0.0, 0.0, 0.0, 1.0, 0.0, 0.0, 0.0, 0.0, 1.0]\n",
       " [0.0, 0.0, 0.0, 0.0, 1.0, 0.0, 0.0, 0.0, 0.0, 1.0]\n",
       " [0.0, 0.0, 0.0, 0.0, 1.0, 0.0, 0.0, 0.0, 0.0, 1.0]\n",
       " [0.0, 0.0, 0.0, 0.0, 1.0, 0.0, 0.0, 0.0, 0.0, 1.0]\n",
       " [0.0, 0.0, 0.0, 0.0, 1.0, 0.0, 0.0, 0.0, 0.0, 1.0]\n",
       " [0.0, 0.0, 0.0, 0.0, 1.0, 0.0, 0.0, 0.0, 0.0, 1.0]\n",
       " [0.0, 0.0, 0.0, 0.0, 1.0, 0.0, 0.0, 0.0, 0.0, 1.0]\n",
       " [0.0, 0.0, 0.0, 0.0, 1.0, 0.0, 0.0, 0.0, 0.0, 1.0]\n",
       " [0.0, 0.0, 0.0, 0.0, 1.0, 0.0, 0.0, 0.0, 0.0, 1.0]\n",
       " [0.0, 0.0, 0.0, 0.0, 1.0, 0.0, 0.0, 0.0, 0.0, 1.0]\n",
       " [0.0, 0.0, 0.0, 0.0, 1.0, 0.0, 0.0, 0.0, 0.0, 1.0]\n",
       " [0.0, 0.0, 0.0, 0.0, 1.0, 0.0, 0.0, 0.0, 0.0, 1.0]\n",
       " [0.0, 0.0, 0.0, 0.0, 1.0, 0.0, 0.0, 0.0, 0.0, 1.0]\n",
       " ⋮                                                 \n",
       " [0.0, 0.0, 0.0, 0.0, 1.0, 0.0, 0.0, 0.0, 0.0, 1.0]\n",
       " [0.0, 0.0, 0.0, 0.0, 1.0, 0.0, 0.0, 0.0, 0.0, 1.0]\n",
       " [0.0, 0.0, 0.0, 0.0, 1.0, 0.0, 0.0, 0.0, 0.0, 1.0]\n",
       " [0.0, 0.0, 0.0, 0.0, 1.0, 0.0, 0.0, 0.0, 0.0, 1.0]\n",
       " [0.0, 0.0, 0.0, 0.0, 1.0, 0.0, 0.0, 0.0, 0.0, 1.0]\n",
       " [0.0, 0.0, 0.0, 0.0, 1.0, 0.0, 0.0, 0.0, 0.0, 1.0]\n",
       " [0.0, 0.0, 0.0, 0.0, 1.0, 0.0, 0.0, 0.0, 0.0, 1.0]\n",
       " [0.0, 0.0, 0.0, 0.0, 1.0, 0.0, 0.0, 0.0, 0.0, 1.0]\n",
       " [0.0, 0.0, 0.0, 0.0, 1.0, 0.0, 0.0, 0.0, 0.0, 1.0]\n",
       " [0.0, 0.0, 0.0, 0.0, 1.0, 0.0, 0.0, 0.0, 0.0, 1.0]\n",
       " [0.0, 0.0, 0.0, 0.0, 1.0, 0.0, 0.0, 0.0, 0.0, 1.0]\n",
       " [0.0, 0.0, 0.0, 0.0, 1.0, 0.0, 0.0, 0.0, 0.0, 1.0]"
      ]
     },
     "execution_count": 75,
     "metadata": {},
     "output_type": "execute_result"
    }
   ],
   "source": [
    "mask = build_presence_mask.(ty)"
   ]
  },
  {
   "cell_type": "code",
   "execution_count": 63,
   "metadata": {},
   "outputs": [
    {
     "data": {
      "text/html": [
       "<video autoplay controls><source src=\"files/reel-17978510359070786663.webm?15137556812178928807\" type=\"video/webm\"></video>"
      ],
      "text/plain": [
       "Reel.Frames{MIME{Symbol(\"image/png\")}}(\"/tmp/tmp0sKc4P\", 0x0000000000000065, 10.0, nothing)"
      ]
     },
     "execution_count": 63,
     "metadata": {},
     "output_type": "execute_result"
    }
   ],
   "source": [
    "tb = process_prediction.(pomdp, ty, tx)\n",
    "duration, fps, render_hist = animate_scenes(obs_to_scene.(pomdp, tb), pomdp.env, sim_dt=pomdp.ΔT)\n",
    "speed_factor = 1\n",
    "film = roll(render_hist, fps = speed_factor*fps, duration = duration/speed_factor)"
   ]
  },
  {
   "cell_type": "code",
   "execution_count": 142,
   "metadata": {},
   "outputs": [
    {
     "data": {
      "text/plain": [
       "normalized_off_the_grid_pos (generic function with 1 method)"
      ]
     },
     "execution_count": 142,
     "metadata": {},
     "output_type": "execute_result"
    }
   ],
   "source": [
    "function process_prediction(pomdp::UrbanPOMDP, b::Vector{Float64}, o::Vector{Float64})\n",
    "    n_features = 4\n",
    "    n_obstacles = pomdp.max_obstacles\n",
    "    b_ = zeros(length(o)) # should be 12 + obstacles\n",
    "    b_[1:4] = o[1:4] # ego state fully observable\n",
    "    # get car state from b\n",
    "    car_presence = b[5]\n",
    "    if 1/(1 + exp(-car_presence)) > 0.5 # softmax \n",
    "        b_[n_features+1:2*n_features] = b[1:4]\n",
    "    else\n",
    "        # absent\n",
    "        b_[n_features+1:2*n_features] = normalized_off_the_grid_pos(pomdp, o[1], o[2])\n",
    "    end\n",
    "    \n",
    "    # get ped state from b \n",
    "    ped_presence = b[10]\n",
    "    if 1/(1 + exp(-ped_presence)) > 0.5 # softmax \n",
    "        b_[2*n_features+1:3*n_features] = b[6:9]\n",
    "    else\n",
    "        # absent \n",
    "        b_[2*n_features+1:3*n_features] = normalized_off_the_grid_pos(pomdp, o[1], o[2])\n",
    "    end\n",
    "            \n",
    "    b_[end - n_features*n_obstacles + 1:end] = o[end - n_features*n_obstacles + 1:end]\n",
    "    return b_\n",
    "end\n",
    "\n",
    "function normalized_off_the_grid_pos(pomdp::UrbanPOMDP,normalized_ego_x::Float64, normalized_ego_y::Float64)\n",
    "    pos_off = get_off_the_grid(pomdp)\n",
    "    max_ego_dist = get_end(pomdp.env.roadway[pomdp.ego_goal])\n",
    "    return [pos_off.posG.x/max_ego_dist - normalized_ego_x, pos_off.posG.y/max_ego_dist - normalized_ego_y, pos_off.posG.θ, 0.]\n",
    "end"
   ]
  },
  {
   "cell_type": "code",
   "execution_count": 143,
   "metadata": {},
   "outputs": [
    {
     "data": {
      "text/html": [
       "<video autoplay controls><source src=\"files/reel-11431744916577630544.webm?9352973519807694028\" type=\"video/webm\"></video>"
      ],
      "text/plain": [
       "Reel.Frames{MIME{Symbol(\"image/png\")}}(\"/tmp/tmpcowIYf\", 0x0000000000000006, 10.0, nothing)"
      ]
     },
     "execution_count": 143,
     "metadata": {},
     "output_type": "execute_result"
    }
   ],
   "source": [
    "tb = process_prediction.(pomdp, ty, tx)\n",
    "duration, fps, render_hist = animate_scenes(obs_to_scene.(pomdp, tb), pomdp.env, sim_dt=pomdp.ΔT)\n",
    "speed_factor = 1\n",
    "film = roll(render_hist, fps = speed_factor*fps, duration = duration/speed_factor)"
   ]
  },
  {
   "cell_type": "code",
   "execution_count": null,
   "metadata": {},
   "outputs": [],
   "source": []
  }
 ],
 "metadata": {
  "kernelspec": {
   "display_name": "Julia 0.6.1",
   "language": "julia",
   "name": "julia-0.6"
  },
  "language_info": {
   "file_extension": ".jl",
   "mimetype": "application/julia",
   "name": "julia",
   "version": "0.6.1"
  }
 },
 "nbformat": 4,
 "nbformat_minor": 2
}
