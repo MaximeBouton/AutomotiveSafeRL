{
 "cells": [
  {
   "cell_type": "markdown",
   "metadata": {},
   "source": [
    "# Visualize RNN Prediction"
   ]
  },
  {
   "cell_type": "code",
   "execution_count": 1,
   "metadata": {},
   "outputs": [
    {
     "name": "stderr",
     "output_type": "stream",
     "text": [
      "┌ Info: Recompiling stale cache file /mnt/c/Users/Maxime/wsl/.julia/compiled/v1.0/AutomotivePOMDPs/L1lsd.ji for AutomotivePOMDPs [dca8afc0-c686-11e8-0934-712707da73aa]\n",
      "└ @ Base loading.jl:1184\n",
      "WARNING: Method definition copyto!(Array{Float64, 1}, AutomotiveDrivingModels.LatLonAccel) in module AutomotiveDrivingModels at /mnt/c/Users/Maxime/wsl/.julia/dev/AutomotiveDrivingModels/src/2d/actions/lat_lon_accel.jl:13 overwritten in module AutoUrban at /mnt/c/Users/Maxime/wsl/.julia/dev/AutoUrban/src/simulation/actions.jl:10.\n"
     ]
    },
    {
     "name": "stdout",
     "output_type": "stream",
     "text": [
      "loaded\n"
     ]
    },
    {
     "name": "stderr",
     "output_type": "stream",
     "text": [
      "┌ Info: Recompiling stale cache file /mnt/c/Users/Maxime/wsl/.julia/compiled/v1.0/PedCar/NmDDZ.ji for PedCar [90cf7f26-d5c7-593d-a0e1-4a8367407571]\n",
      "└ @ Base loading.jl:1184\n",
      "┌ Warning: Package PedCar does not have AutomotivePOMDPs in its dependencies:\n",
      "│ - If you have PedCar checked out for development and have\n",
      "│   added AutomotivePOMDPs as a dependency but haven't updated your primary\n",
      "│   environment's manifest file, try `Pkg.resolve()`.\n",
      "│ - Otherwise you may need to report an issue with PedCar\n",
      "└ Loading AutomotivePOMDPs into PedCar from project dependency, future warnings for PedCar are suppressed.\n",
      "WARNING: Method definition copyto!(Array{Float64, 1}, AutomotiveDrivingModels.LatLonAccel) in module AutomotiveDrivingModels at /mnt/c/Users/Maxime/wsl/.julia/dev/AutomotiveDrivingModels/src/2d/actions/lat_lon_accel.jl:13 overwritten in module AutoUrban at /mnt/c/Users/Maxime/wsl/.julia/dev/AutoUrban/src/simulation/actions.jl:10.\n"
     ]
    }
   ],
   "source": [
    "using Flux\n",
    "using Random\n",
    "using StaticArrays\n",
    "using ProgressMeter\n",
    "using POMDPs\n",
    "using POMDPModelTools\n",
    "using AutomotiveDrivingModels\n",
    "using AutoViz\n",
    "using AutomotivePOMDPs\n",
    "using AutomotiveSensors\n",
    "using PedCar\n",
    "using Reel\n",
    "using FileIO\n",
    "using BSON\n",
    "using BSON: @load\n",
    "include(\"RNNFiltering.jl\")\n",
    "using Main.RNNFiltering"
   ]
  },
  {
   "cell_type": "code",
   "execution_count": 2,
   "metadata": {},
   "outputs": [],
   "source": [
    "cam = FitToContentCamera(0.)\n",
    "rng = MersenneTwister(1);"
   ]
  },
  {
   "cell_type": "markdown",
   "metadata": {},
   "source": [
    "**environment**"
   ]
  },
  {
   "cell_type": "code",
   "execution_count": 3,
   "metadata": {},
   "outputs": [],
   "source": [
    "mdp = PedCarMDP(pos_res=2.0, vel_res=2., ped_birth=0.7, car_birth=0.7)\n",
    "pomdp = UrbanPOMDP(env=mdp.env,\n",
    "                    sensor = GaussianSensor(false_positive_rate=0.0, \n",
    "                                            pos_noise = LinearNoise(min_noise=0.5, increase_rate=0.05), \n",
    "                                            vel_noise = LinearNoise(min_noise=0.5, increase_rate=0.05)),\n",
    "                   ego_goal = LaneTag(2, 1),\n",
    "                     obs_dist = ObstacleDistribution(mdp.env, upper_obs_pres_prob=0., left_obs_pres_prob=1.0, right_obs_pres_prob=1.0),\n",
    "                   max_cars=1, \n",
    "                   max_peds=1, \n",
    "                   car_birth=0.05, \n",
    "                   ped_birth=0.05, \n",
    "                   max_obstacles=1, # no fixed obstacles\n",
    "                   lidar=false,\n",
    "                   ego_start=20,\n",
    "                   ΔT=0.1)\n",
    ";"
   ]
  },
  {
   "cell_type": "code",
   "execution_count": 4,
   "metadata": {},
   "outputs": [],
   "source": [
    "n_models = 5\n",
    "models = Vector{Chain}(undef, n_models)\n",
    "for i=1:n_models\n",
    "    models[i] = BSON.load(\"model_$i.bson\")[:model] \n",
    "end\n"
   ]
  },
  {
   "cell_type": "code",
   "execution_count": 5,
   "metadata": {},
   "outputs": [],
   "source": [
    "# input_length = n_dims(pomdp)\n",
    "# output_length = n_dims(pomdp)\n",
    "# model = Chain(LSTM(input_length, 128),\n",
    "#               Dense(128, output_length))"
   ]
  },
  {
   "cell_type": "code",
   "execution_count": 6,
   "metadata": {},
   "outputs": [],
   "source": [
    "function RNNFiltering.process_prediction(pomdp::UrbanPOMDP, b::Vector{Float64}, o::Vector{Float64})\n",
    "    n_features = 4\n",
    "    n_obstacles = pomdp.max_obstacles\n",
    "    b_ = zeros(length(o)) # should be 12 + obstacles\n",
    "    b_[1:4] = o[1:4] # ego state fully observable\n",
    "    # get car state from b\n",
    "    car_presence = b[5]\n",
    "    if rand() < car_presence \n",
    "        b_[n_features+1:2*n_features] = b[1:4]\n",
    "    else\n",
    "        # absent\n",
    "        b_[n_features+1:2*n_features] = RNNFiltering.normalized_off_the_grid_pos(pomdp, o[1], o[2])\n",
    "    end\n",
    "    \n",
    "    # get ped state from b \n",
    "    ped_presence = b[10]\n",
    "    if rand() < ped_presence # softmax \n",
    "        b_[2*n_features+1:3*n_features] = b[6:9]\n",
    "    else\n",
    "        # absent \n",
    "        b_[2*n_features+1:3*n_features] = RNNFiltering.normalized_off_the_grid_pos(pomdp, o[1], o[2])\n",
    "    end\n",
    "            \n",
    "    b_[end - n_features*n_obstacles + 1:end] = o[end - n_features*n_obstacles + 1:end]\n",
    "    return b_\n",
    "end"
   ]
  },
  {
   "cell_type": "code",
   "execution_count": 7,
   "metadata": {},
   "outputs": [
    {
     "name": "stdout",
     "output_type": "stream",
     "text": [
      "  4.044194 seconds (6.72 M allocations: 347.513 MiB, 4.06% gc time)\n"
     ]
    }
   ],
   "source": [
    "n_steps = 400\n",
    "belief_history = Vector{Vector{Float64}}[]\n",
    "state_history = Scene[]\n",
    "obs_history = Vector{Float64}[]\n",
    "presence_history = Tuple{Float64, Float64}[]\n",
    "s = initialstate(pomdp, rng)\n",
    "for m in models\n",
    "    Flux.reset!(m)\n",
    "end\n",
    "@time for i=1:n_steps\n",
    "    global s\n",
    "    if isterminal(pomdp, s)\n",
    "        break \n",
    "    end\n",
    "    push!(state_history, s)\n",
    "    a = UrbanAction(1.)\n",
    "    o = generate_o(pomdp, s, a, s, rng)\n",
    "    beliefs = Vector{Vector{Float64}}(undef, n_models)\n",
    "    car_pres, ped_pres = 0., 0.\n",
    "    for i=1:n_models       \n",
    "        pred = models[i](o).data\n",
    "        car_pres += pred[5]\n",
    "        ped_pres += pred[10]\n",
    "        b_ = RNNFiltering.process_prediction(pomdp, pred, o)\n",
    "        beliefs[i] = b_\n",
    "    end\n",
    "    push!(presence_history, (car_pres/n_models, ped_pres/n_models))\n",
    "    push!(belief_history, beliefs)\n",
    "    push!(obs_history, o)\n",
    "    sp = generate_s(pomdp, s, a, rng)\n",
    "    s = sp\n",
    "end\n"
   ]
  },
  {
   "cell_type": "code",
   "execution_count": 13,
   "metadata": {
    "scrolled": false
   },
   "outputs": [
    {
     "data": {
      "text/html": [
       "<video autoplay controls><source src=\"files/reel-2578277545946840436.webm?6315713922556181487\" type=\"video/webm\"></video>"
      ],
      "text/plain": [
       "Frames{MIME{Symbol(\"image/png\")}}(\"/tmp/tmpHUHMEw\", 0x0000000000000034, 10.0, nothing)"
      ]
     },
     "execution_count": 13,
     "metadata": {},
     "output_type": "execute_result"
    }
   ],
   "source": [
    "duration, fps, render_hist = animate_scenes(state_history, obs_history, belief_history, presence_history, pomdp, sim_dt=pomdp.ΔT)\n",
    "speed_factor = 1\n",
    "film = roll(render_hist, fps = speed_factor*fps, duration = duration/speed_factor)"
   ]
  },
  {
   "cell_type": "code",
   "execution_count": 9,
   "metadata": {},
   "outputs": [],
   "source": [
    "function AutomotivePOMDPs.animate_scenes(scenes::Vector{Scene}, observations::Vector{Vector{Float64}}, \n",
    "                                         beliefs::Vector{Vector{Vector{Float64}}}, \n",
    "                                         presences::Vector{Tuple{Float64, Float64}},\n",
    "                                         pomdp::UrbanPOMDP;\n",
    "                                         sim_dt = 0.1,\n",
    "                                         cam = StaticCamera(VecE2(0., -8.), 16.0))\n",
    "    env = pomdp.env \n",
    "    duration = length(scenes)*sim_dt\n",
    "    fps = Int(1/sim_dt)\n",
    "    function render_rec(t, dt)\n",
    "        frame_index = Int(floor(t/dt)) + 1\n",
    "        overlays = SceneOverlay[IDOverlay()]\n",
    "        obs = [veh for veh in obs_to_scene(pomdp, observations[frame_index]) if veh.id != EGO_ID]\n",
    "        obs_overlay = GaussianSensorOverlay(sensor=pomdp.sensor, o=obs, color=MONOKAI[\"color2\"])\n",
    "        push!(overlays, obs_overlay)\n",
    "        occlusion_overlay = OcclusionOverlay(obstacles=mdp.env.obstacles)\n",
    "        push!(overlays, occlusion_overlay)\n",
    "        for b in beliefs[frame_index]\n",
    "            bel = [veh for veh in obs_to_scene(pomdp, b) if veh.id != EGO_ID]\n",
    "            bel_overlay = GaussianSensorOverlay(sensor=pomdp.sensor, o=bel, color=MONOKAI[\"color4\"])            \n",
    "            push!(overlays, bel_overlay)\n",
    "        end\n",
    "        push!(overlays, HistogramOverlay(pos=VecSE2(-15., -20.), val=presences[frame_index][1], label=\"car\"))\n",
    "        push!(overlays, HistogramOverlay(pos=VecSE2(-12., -20.), val=presences[frame_index][2], label=\"ped\"))\n",
    "        push!(overlays, TextOverlay(text=[\"Probability of presence\"], pos=VecSE2(-17,-14.), font_size=15, incameraframe=true))\n",
    "        return AutoViz.render(scenes[frame_index], env, overlays, cam=cam)\n",
    "    end\n",
    "    return duration, fps, render_rec\n",
    "end\n",
    "    \n",
    "    "
   ]
  },
  {
   "cell_type": "code",
   "execution_count": 10,
   "metadata": {},
   "outputs": [],
   "source": [
    "using Parameters\n",
    "using Cairo"
   ]
  },
  {
   "cell_type": "code",
   "execution_count": 11,
   "metadata": {},
   "outputs": [
    {
     "data": {
      "text/plain": [
       "render_rect (generic function with 5 methods)"
      ]
     },
     "execution_count": 11,
     "metadata": {},
     "output_type": "execute_result"
    }
   ],
   "source": [
    "function render_rect(ctx::CairoContext,\n",
    "                    x::Real,\n",
    "                    y::Real,\n",
    "                    width::Real,\n",
    "                    height::Real,\n",
    "                    color_fill::Colorant,\n",
    "                    ffill         :: Bool        = false,\n",
    "                    fstroke       :: Bool        = true,\n",
    "                    color_stroke  :: Colorant    = color_fill,\n",
    "                    line_width    :: Real        = 2.0\n",
    "                    )\n",
    "    Cairo.save(ctx)\n",
    "    rectangle(ctx, x, y, width, height)\n",
    "    if ffill\n",
    "        set_source_rgba(ctx, color_fill)\n",
    "        fstroke ? fill_preserve(ctx) : fill(ctx)\n",
    "    end\n",
    "    \n",
    "    if fstroke\n",
    "        set_source_rgba(ctx, color_stroke)\n",
    "        set_line_width(ctx, line_width)\n",
    "        stroke(ctx)\n",
    "    end\n",
    "    \n",
    "    restore(ctx)\n",
    "end"
   ]
  },
  {
   "cell_type": "code",
   "execution_count": 12,
   "metadata": {},
   "outputs": [],
   "source": [
    "@with_kw mutable struct HistogramOverlay <: SceneOverlay\n",
    "    pos::VecSE2{Float64} = VecSE2(0.,0.)\n",
    "    incameraframe::Bool = true\n",
    "    label::String = \"histogram\"\n",
    "    val::Float64 = 0.5 # should be between 0 and 1\n",
    "    width::Float64 = 2.\n",
    "    height::Float64 = 5. \n",
    "    fill_color::Colorant = colorant\"blue\"\n",
    "    line_color::Colorant = colorant\"white\"\n",
    "    font_size::Int64 = 15 # [pix]\n",
    "    label_pos::VecSE2{Float64} = pos + VecSE2(0., -height/2)\n",
    "end\n",
    "\n",
    "function AutoViz.render!(rendermodel::RenderModel, overlay::HistogramOverlay, scene::Scene, roadway::R) where R\n",
    "    # render value \n",
    "    add_instruction!(rendermodel, render_rect, (overlay.pos.x, overlay.pos.y, overlay.width, overlay.val*overlay.height,overlay.fill_color, true, false), incameraframe=overlay.incameraframe)\n",
    "    # render histogram outline \n",
    "    add_instruction!(rendermodel, render_rect, (overlay.pos.x, overlay.pos.y, overlay.width, overlay.height, overlay.line_color), incameraframe=overlay.incameraframe)\n",
    "     # label \n",
    "    add_instruction!(rendermodel, render_text, (overlay.label, overlay.label_pos.x, overlay.label_pos.y, overlay.font_size, overlay.line_color), incameraframe=overlay.incameraframe)\n",
    "end"
   ]
  },
  {
   "cell_type": "code",
   "execution_count": 28,
   "metadata": {},
   "outputs": [
    {
     "data": {
      "image/png": "[encoded data removed]",
      "text/plain": [
       "Cairo.CairoSurfaceBase{UInt32}(Ptr{Nothing} @0x0000000006242010, 1000.0, 600.0)"
      ]
     },
     "execution_count": 28,
     "metadata": {},
     "output_type": "execute_result"
    }
   ],
   "source": [
    "# test histogram overlay \n",
    "scene = state_history[1]\n",
    "overlay = HistogramOverlay(pos=VecSE2(-10., -15.))\n",
    "AutoViz.render(scene, pomdp.env, [overlay], cam=cam)"
   ]
  },
  {
   "cell_type": "markdown",
   "metadata": {},
   "source": [
    "## Visualize training set"
   ]
  },
  {
   "cell_type": "code",
   "execution_count": 14,
   "metadata": {},
   "outputs": [],
   "source": [
    "# include(\"data_generation.jl\")"
   ]
  },
  {
   "cell_type": "code",
   "execution_count": 15,
   "metadata": {},
   "outputs": [],
   "source": [
    "policy = RandomHoldPolicy(pomdp, 5, 0, UrbanAction(0.), rng);"
   ]
  },
  {
   "cell_type": "code",
   "execution_count": 16,
   "metadata": {},
   "outputs": [],
   "source": [
    "X, Y = collect_set(pomdp, policy , 400, rng, 1);"
   ]
  },
  {
   "cell_type": "code",
   "execution_count": 17,
   "metadata": {},
   "outputs": [
    {
     "ename": "MethodError",
     "evalue": "MethodError: no method matching length(::UrbanPOMDP)\nClosest candidates are:\n  length(!Matched::Type{LaneFollowingAccel}) at /mnt/c/Users/Maxime/wsl/.julia/dev/AutomotiveDrivingModels/src/1d/actions.jl:9\n  length(!Matched::Type{AccelTurnrate}) at /mnt/c/Users/Maxime/wsl/.julia/dev/AutomotiveDrivingModels/src/2d/actions/accel_turnrate.jl:6\n  length(!Matched::Type{AccelDesang}) at /mnt/c/Users/Maxime/wsl/.julia/dev/AutomotiveDrivingModels/src/2d/actions/accel_desang.jl:6\n  ...",
     "output_type": "error",
     "traceback": [
      "MethodError: no method matching length(::UrbanPOMDP)\nClosest candidates are:\n  length(!Matched::Type{LaneFollowingAccel}) at /mnt/c/Users/Maxime/wsl/.julia/dev/AutomotiveDrivingModels/src/1d/actions.jl:9\n  length(!Matched::Type{AccelTurnrate}) at /mnt/c/Users/Maxime/wsl/.julia/dev/AutomotiveDrivingModels/src/2d/actions/accel_turnrate.jl:6\n  length(!Matched::Type{AccelDesang}) at /mnt/c/Users/Maxime/wsl/.julia/dev/AutomotiveDrivingModels/src/2d/actions/accel_desang.jl:6\n  ...",
      "",
      "Stacktrace:",
      " [1] _similar_for(::UnitRange{Int64}, ::Type, ::UrbanPOMDP, ::Base.HasLength) at ./array.jl:532",
      " [2] _collect(::UnitRange{Int64}, ::UrbanPOMDP, ::Base.HasEltype, ::Base.HasLength) at ./array.jl:563",
      " [3] collect(::UrbanPOMDP) at ./array.jl:557",
      " [4] broadcastable(::UrbanPOMDP) at ./broadcast.jl:609",
      " [5] broadcasted(::Function, ::UrbanPOMDP, ::Array{Array{Float64,1},1}, ::Array{Array{Float64,1},1}) at ./broadcast.jl:1139",
      " [6] top-level scope at In[17]:4"
     ]
    }
   ],
   "source": [
    "trajind = 1\n",
    "trajx = X[trajind]\n",
    "trajy = Y[trajind]\n",
    "tb = process_prediction.(pomdp, trajy, trajx)\n",
    "scenes = obs_to_scene.(pomdp, tb);\n",
    "sind = 250\n",
    "obs = [veh for veh in obs_to_scene(pomdp, trajx[sind]) if veh.id != EGO_ID]\n",
    "render(scenes[sind], pomdp.env, [GaussianSensorOverlay(sensor=pomdp.sensor, o=obs, color=MONOKAI[\"color2\"]), OcclusionOverlay(obstacles=pomdp.env.obstacles)], \n",
    "                cam=cam, car_colors=get_colors(scenes[1]))"
   ]
  },
  {
   "cell_type": "code",
   "execution_count": 18,
   "metadata": {
    "scrolled": false
   },
   "outputs": [
    {
     "ename": "UndefVarError",
     "evalue": "UndefVarError: scenes not defined",
     "output_type": "error",
     "traceback": [
      "UndefVarError: scenes not defined",
      "",
      "Stacktrace:",
      " [1] top-level scope at In[18]:1"
     ]
    }
   ],
   "source": [
    "duration, fps, render_hist = animate_scenes(scenes, pomdp.env, sim_dt=pomdp.ΔT)\n",
    "speed_factor = 1\n",
    "film = roll(render_hist, fps = speed_factor*fps, duration = duration/speed_factor)"
   ]
  },
  {
   "cell_type": "code",
   "execution_count": 19,
   "metadata": {
    "scrolled": false
   },
   "outputs": [
    {
     "ename": "MethodError",
     "evalue": "MethodError: no method matching length(::UrbanPOMDP)\nClosest candidates are:\n  length(!Matched::Type{LaneFollowingAccel}) at /mnt/c/Users/Maxime/wsl/.julia/dev/AutomotiveDrivingModels/src/1d/actions.jl:9\n  length(!Matched::Type{AccelTurnrate}) at /mnt/c/Users/Maxime/wsl/.julia/dev/AutomotiveDrivingModels/src/2d/actions/accel_turnrate.jl:6\n  length(!Matched::Type{AccelDesang}) at /mnt/c/Users/Maxime/wsl/.julia/dev/AutomotiveDrivingModels/src/2d/actions/accel_desang.jl:6\n  ...",
     "output_type": "error",
     "traceback": [
      "MethodError: no method matching length(::UrbanPOMDP)\nClosest candidates are:\n  length(!Matched::Type{LaneFollowingAccel}) at /mnt/c/Users/Maxime/wsl/.julia/dev/AutomotiveDrivingModels/src/1d/actions.jl:9\n  length(!Matched::Type{AccelTurnrate}) at /mnt/c/Users/Maxime/wsl/.julia/dev/AutomotiveDrivingModels/src/2d/actions/accel_turnrate.jl:6\n  length(!Matched::Type{AccelDesang}) at /mnt/c/Users/Maxime/wsl/.julia/dev/AutomotiveDrivingModels/src/2d/actions/accel_desang.jl:6\n  ...",
      "",
      "Stacktrace:",
      " [1] _similar_for(::UnitRange{Int64}, ::Type, ::UrbanPOMDP, ::Base.HasLength) at ./array.jl:532",
      " [2] _collect(::UnitRange{Int64}, ::UrbanPOMDP, ::Base.HasEltype, ::Base.HasLength) at ./array.jl:563",
      " [3] collect(::UrbanPOMDP) at ./array.jl:557",
      " [4] broadcastable(::UrbanPOMDP) at ./broadcast.jl:609",
      " [5] broadcasted(::Function, ::UrbanPOMDP, ::Array{Array{Float64,1},1}) at ./broadcast.jl:1139",
      " [6] top-level scope at In[19]:3"
     ]
    }
   ],
   "source": [
    "tx, ty = generate_trajectory(pomdp, policy, 100, rng);\n",
    "tx = convert.(Vector{Float64}, tx)\n",
    "duration, fps, render_hist = animate_scenes(obs_to_scene.(pomdp, tx), pomdp.env, sim_dt=pomdp.ΔT)\n",
    "speed_factor = 1\n",
    "film = roll(render_hist, fps = speed_factor*fps, duration = duration/speed_factor)"
   ]
  },
  {
   "cell_type": "code",
   "execution_count": 20,
   "metadata": {},
   "outputs": [
    {
     "data": {
      "text/plain": [
       "build_presence_mask (generic function with 3 methods)"
      ]
     },
     "execution_count": 20,
     "metadata": {},
     "output_type": "execute_result"
    }
   ],
   "source": [
    "function build_presence_mask(y::Vector{Float64}, car_pres_ind=5, ped_pres_ind=10)\n",
    "    n_features = 5\n",
    "    mask = ones(length(y))\n",
    "    if y[car_pres_ind] == 0.\n",
    "        mask[1:car_pres_ind-1] .= 0. \n",
    "    end\n",
    "    if y[ped_pres_ind] == 0.\n",
    "        mask[ped_pres_ind-n_features+1:ped_pres_ind-1] .= 0.\n",
    "    end\n",
    "    return mask\n",
    "end"
   ]
  },
  {
   "cell_type": "code",
   "execution_count": 21,
   "metadata": {},
   "outputs": [
    {
     "data": {
      "text/plain": [
       "mse (generic function with 1 method)"
      ]
     },
     "execution_count": 21,
     "metadata": {},
     "output_type": "execute_result"
    }
   ],
   "source": [
    "model = models[1]\n",
    "function loss(x, y)\n",
    "    mask = build_presence_mask.(y) # same size as y\n",
    "    l = mean(mse.(model.(x), y, mask)) # mean over the trajectory\n",
    "    Flux.truncate!(model)\n",
    "    Flux.reset!(model)\n",
    "    return l\n",
    "end\n",
    "\n",
    "function mse(ypred, y, mask)\n",
    "    return sum(mask.*(ypred - y).^2)/length(y)\n",
    "end"
   ]
  },
  {
   "cell_type": "code",
   "execution_count": 22,
   "metadata": {},
   "outputs": [
    {
     "ename": "UndefVarError",
     "evalue": "UndefVarError: norm not defined",
     "output_type": "error",
     "traceback": [
      "UndefVarError: norm not defined",
      "",
      "Stacktrace:",
      " [1] top-level scope at In[22]:1"
     ]
    }
   ],
   "source": [
    "norm([model(x)[5] for x in tx])"
   ]
  },
  {
   "cell_type": "code",
   "execution_count": 23,
   "metadata": {},
   "outputs": [
    {
     "data": {
      "text/plain": [
       "101-element Array{Array{Float64,1},1}:\n",
       " [0.0, 0.0, 0.0, 0.0, 1.0, 0.0, 0.0, 0.0, 0.0, 1.0]\n",
       " [0.0, 0.0, 0.0, 0.0, 1.0, 0.0, 0.0, 0.0, 0.0, 1.0]\n",
       " [0.0, 0.0, 0.0, 0.0, 1.0, 0.0, 0.0, 0.0, 0.0, 1.0]\n",
       " [0.0, 0.0, 0.0, 0.0, 1.0, 0.0, 0.0, 0.0, 0.0, 1.0]\n",
       " [0.0, 0.0, 0.0, 0.0, 1.0, 0.0, 0.0, 0.0, 0.0, 1.0]\n",
       " [0.0, 0.0, 0.0, 0.0, 1.0, 0.0, 0.0, 0.0, 0.0, 1.0]\n",
       " [0.0, 0.0, 0.0, 0.0, 1.0, 1.0, 1.0, 1.0, 1.0, 1.0]\n",
       " [0.0, 0.0, 0.0, 0.0, 1.0, 1.0, 1.0, 1.0, 1.0, 1.0]\n",
       " [0.0, 0.0, 0.0, 0.0, 1.0, 1.0, 1.0, 1.0, 1.0, 1.0]\n",
       " [0.0, 0.0, 0.0, 0.0, 1.0, 1.0, 1.0, 1.0, 1.0, 1.0]\n",
       " [0.0, 0.0, 0.0, 0.0, 1.0, 1.0, 1.0, 1.0, 1.0, 1.0]\n",
       " [1.0, 1.0, 1.0, 1.0, 1.0, 1.0, 1.0, 1.0, 1.0, 1.0]\n",
       " [1.0, 1.0, 1.0, 1.0, 1.0, 1.0, 1.0, 1.0, 1.0, 1.0]\n",
       " ⋮                                                 \n",
       " [1.0, 1.0, 1.0, 1.0, 1.0, 1.0, 1.0, 1.0, 1.0, 1.0]\n",
       " [1.0, 1.0, 1.0, 1.0, 1.0, 1.0, 1.0, 1.0, 1.0, 1.0]\n",
       " [1.0, 1.0, 1.0, 1.0, 1.0, 1.0, 1.0, 1.0, 1.0, 1.0]\n",
       " [1.0, 1.0, 1.0, 1.0, 1.0, 1.0, 1.0, 1.0, 1.0, 1.0]\n",
       " [1.0, 1.0, 1.0, 1.0, 1.0, 1.0, 1.0, 1.0, 1.0, 1.0]\n",
       " [1.0, 1.0, 1.0, 1.0, 1.0, 1.0, 1.0, 1.0, 1.0, 1.0]\n",
       " [1.0, 1.0, 1.0, 1.0, 1.0, 1.0, 1.0, 1.0, 1.0, 1.0]\n",
       " [1.0, 1.0, 1.0, 1.0, 1.0, 1.0, 1.0, 1.0, 1.0, 1.0]\n",
       " [1.0, 1.0, 1.0, 1.0, 1.0, 1.0, 1.0, 1.0, 1.0, 1.0]\n",
       " [1.0, 1.0, 1.0, 1.0, 1.0, 1.0, 1.0, 1.0, 1.0, 1.0]\n",
       " [1.0, 1.0, 1.0, 1.0, 1.0, 1.0, 1.0, 1.0, 1.0, 1.0]\n",
       " [1.0, 1.0, 1.0, 1.0, 1.0, 1.0, 1.0, 1.0, 1.0, 1.0]"
      ]
     },
     "execution_count": 23,
     "metadata": {},
     "output_type": "execute_result"
    }
   ],
   "source": [
    "mask = build_presence_mask.(ty)"
   ]
  },
  {
   "cell_type": "code",
   "execution_count": 24,
   "metadata": {},
   "outputs": [
    {
     "ename": "MethodError",
     "evalue": "MethodError: no method matching length(::UrbanPOMDP)\nClosest candidates are:\n  length(!Matched::Type{LaneFollowingAccel}) at /mnt/c/Users/Maxime/wsl/.julia/dev/AutomotiveDrivingModels/src/1d/actions.jl:9\n  length(!Matched::Type{AccelTurnrate}) at /mnt/c/Users/Maxime/wsl/.julia/dev/AutomotiveDrivingModels/src/2d/actions/accel_turnrate.jl:6\n  length(!Matched::Type{AccelDesang}) at /mnt/c/Users/Maxime/wsl/.julia/dev/AutomotiveDrivingModels/src/2d/actions/accel_desang.jl:6\n  ...",
     "output_type": "error",
     "traceback": [
      "MethodError: no method matching length(::UrbanPOMDP)\nClosest candidates are:\n  length(!Matched::Type{LaneFollowingAccel}) at /mnt/c/Users/Maxime/wsl/.julia/dev/AutomotiveDrivingModels/src/1d/actions.jl:9\n  length(!Matched::Type{AccelTurnrate}) at /mnt/c/Users/Maxime/wsl/.julia/dev/AutomotiveDrivingModels/src/2d/actions/accel_turnrate.jl:6\n  length(!Matched::Type{AccelDesang}) at /mnt/c/Users/Maxime/wsl/.julia/dev/AutomotiveDrivingModels/src/2d/actions/accel_desang.jl:6\n  ...",
      "",
      "Stacktrace:",
      " [1] _similar_for(::UnitRange{Int64}, ::Type, ::UrbanPOMDP, ::Base.HasLength) at ./array.jl:532",
      " [2] _collect(::UnitRange{Int64}, ::UrbanPOMDP, ::Base.HasEltype, ::Base.HasLength) at ./array.jl:563",
      " [3] collect(::UrbanPOMDP) at ./array.jl:557",
      " [4] broadcastable(::UrbanPOMDP) at ./broadcast.jl:609",
      " [5] broadcasted(::Function, ::UrbanPOMDP, ::Array{Array{Float64,1},1}, ::Array{Array{Float64,1},1}) at ./broadcast.jl:1139",
      " [6] top-level scope at In[24]:1"
     ]
    }
   ],
   "source": [
    "tb = process_prediction.(pomdp, ty, tx)\n",
    "duration, fps, render_hist = animate_scenes(obs_to_scene.(pomdp, tb), pomdp.env, sim_dt=pomdp.ΔT)\n",
    "speed_factor = 1\n",
    "film = roll(render_hist, fps = speed_factor*fps, duration = duration/speed_factor)"
   ]
  },
  {
   "cell_type": "code",
   "execution_count": 25,
   "metadata": {},
   "outputs": [
    {
     "ename": "ErrorException",
     "evalue": "error in method definition: function RNNFiltering.process_prediction must be explicitly imported to be extended",
     "output_type": "error",
     "traceback": [
      "error in method definition: function RNNFiltering.process_prediction must be explicitly imported to be extended",
      "",
      "Stacktrace:",
      " [1] top-level scope at In[25]:1"
     ]
    }
   ],
   "source": [
    "function process_prediction(pomdp::UrbanPOMDP, b::Vector{Float64}, o::Vector{Float64})\n",
    "    n_features = 4\n",
    "    n_obstacles = pomdp.max_obstacles\n",
    "    b_ = zeros(length(o)) # should be 12 + obstacles\n",
    "    b_[1:4] = o[1:4] # ego state fully observable\n",
    "    # get car state from b\n",
    "    car_presence = b[5]\n",
    "    if 1/(1 + exp(-car_presence)) > 0.5 # softmax \n",
    "        b_[n_features+1:2*n_features] = b[1:4]\n",
    "    else\n",
    "        # absent\n",
    "        b_[n_features+1:2*n_features] = normalized_off_the_grid_pos(pomdp, o[1], o[2])\n",
    "    end\n",
    "    \n",
    "    # get ped state from b \n",
    "    ped_presence = b[10]\n",
    "    if 1/(1 + exp(-ped_presence)) > 0.5 # softmax \n",
    "        b_[2*n_features+1:3*n_features] = b[6:9]\n",
    "    else\n",
    "        # absent \n",
    "        b_[2*n_features+1:3*n_features] = normalized_off_the_grid_pos(pomdp, o[1], o[2])\n",
    "    end\n",
    "            \n",
    "    b_[end - n_features*n_obstacles + 1:end] = o[end - n_features*n_obstacles + 1:end]\n",
    "    return b_\n",
    "end\n",
    "\n",
    "function normalized_off_the_grid_pos(pomdp::UrbanPOMDP,normalized_ego_x::Float64, normalized_ego_y::Float64)\n",
    "    pos_off = get_off_the_grid(pomdp)\n",
    "    max_ego_dist = get_end(pomdp.env.roadway[pomdp.ego_goal])\n",
    "    return [pos_off.posG.x/max_ego_dist - normalized_ego_x, pos_off.posG.y/max_ego_dist - normalized_ego_y, pos_off.posG.θ, 0.]\n",
    "end"
   ]
  },
  {
   "cell_type": "code",
   "execution_count": 26,
   "metadata": {},
   "outputs": [
    {
     "ename": "MethodError",
     "evalue": "MethodError: no method matching length(::UrbanPOMDP)\nClosest candidates are:\n  length(!Matched::Type{LaneFollowingAccel}) at /mnt/c/Users/Maxime/wsl/.julia/dev/AutomotiveDrivingModels/src/1d/actions.jl:9\n  length(!Matched::Type{AccelTurnrate}) at /mnt/c/Users/Maxime/wsl/.julia/dev/AutomotiveDrivingModels/src/2d/actions/accel_turnrate.jl:6\n  length(!Matched::Type{AccelDesang}) at /mnt/c/Users/Maxime/wsl/.julia/dev/AutomotiveDrivingModels/src/2d/actions/accel_desang.jl:6\n  ...",
     "output_type": "error",
     "traceback": [
      "MethodError: no method matching length(::UrbanPOMDP)\nClosest candidates are:\n  length(!Matched::Type{LaneFollowingAccel}) at /mnt/c/Users/Maxime/wsl/.julia/dev/AutomotiveDrivingModels/src/1d/actions.jl:9\n  length(!Matched::Type{AccelTurnrate}) at /mnt/c/Users/Maxime/wsl/.julia/dev/AutomotiveDrivingModels/src/2d/actions/accel_turnrate.jl:6\n  length(!Matched::Type{AccelDesang}) at /mnt/c/Users/Maxime/wsl/.julia/dev/AutomotiveDrivingModels/src/2d/actions/accel_desang.jl:6\n  ...",
      "",
      "Stacktrace:",
      " [1] _similar_for(::UnitRange{Int64}, ::Type, ::UrbanPOMDP, ::Base.HasLength) at ./array.jl:532",
      " [2] _collect(::UnitRange{Int64}, ::UrbanPOMDP, ::Base.HasEltype, ::Base.HasLength) at ./array.jl:563",
      " [3] collect(::UrbanPOMDP) at ./array.jl:557",
      " [4] broadcastable(::UrbanPOMDP) at ./broadcast.jl:609",
      " [5] broadcasted(::Function, ::UrbanPOMDP, ::Array{Array{Float64,1},1}, ::Array{Array{Float64,1},1}) at ./broadcast.jl:1139",
      " [6] top-level scope at In[26]:1"
     ]
    }
   ],
   "source": [
    "tb = process_prediction.(pomdp, ty, tx)\n",
    "duration, fps, render_hist = animate_scenes(obs_to_scene.(pomdp, tb), pomdp.env, sim_dt=pomdp.ΔT)\n",
    "speed_factor = 1\n",
    "film = roll(render_hist, fps = speed_factor*fps, duration = duration/speed_factor)"
   ]
  },
  {
   "cell_type": "code",
   "execution_count": null,
   "metadata": {},
   "outputs": [],
   "source": []
  }
 ],
 "metadata": {
  "kernelspec": {
   "display_name": "Julia 1.0.0",
   "language": "julia",
   "name": "julia-1.0"
  },
  "language_info": {
   "file_extension": ".jl",
   "mimetype": "application/julia",
   "name": "julia",
   "version": "1.0.0"
  }
 },
 "nbformat": 4,
 "nbformat_minor": 2
}
