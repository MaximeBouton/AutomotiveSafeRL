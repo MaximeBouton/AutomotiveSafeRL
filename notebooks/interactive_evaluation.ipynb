{
 "cells": [
  {
   "cell_type": "markdown",
   "metadata": {},
   "source": [
    "# Evaluate Policies and Model Checker on Urban Scenarios"
   ]
  },
  {
   "cell_type": "markdown",
   "metadata": {},
   "source": [
    "**Supported Policies**\n",
    "    - baseline\n",
    "    - masked-baseline\n",
    "    - masked-RL\n",
    "\n",
    "**Supported Belief Updaters**\n",
    "    - previous_obs\n",
    "    - tracker\n",
    "    \n",
    "**Supported Scenarios**\n",
    "    - 1-1 : One car going straight + noisy sensor\n",
    "    - 1-2 : One car going straight + occlusion\n",
    "    - 2-1 : One car and one pedestrian interacting\n",
    "    - 2-2 : One car turning left interacting with the ego vehicle\n",
    "    - 3 : multiple cars and multiple pedestrian"
   ]
  },
  {
   "cell_type": "code",
   "execution_count": 42,
   "metadata": {},
   "outputs": [
    {
     "name": "stderr",
     "output_type": "stream",
     "text": [
      "WARNING: redefining constant RIGHT_OBSTACLE\n",
      "WARNING: redefining constant LEFT_OBSTACLE\n",
      "WARNING: redefining constant ROUTES\n"
     ]
    }
   ],
   "source": [
    "using Revise\n",
    "includet(\"../evaluation/helpers.jl\")\n",
    "includet(\"../src/render_helpers.jl\")"
   ]
  },
  {
   "cell_type": "code",
   "execution_count": 43,
   "metadata": {},
   "outputs": [],
   "source": [
    "rng = MersenneTwister(1);"
   ]
  },
  {
   "cell_type": "code",
   "execution_count": 44,
   "metadata": {},
   "outputs": [
    {
     "name": "stdout",
     "output_type": "stream",
     "text": [
      "Evaluating masked-RL policy with tracker updater on scenario 3\n"
     ]
    }
   ],
   "source": [
    "pomdp, policy, updater, initialscene_scenario = load_policies_and_environment(\"masked-RL\", \"tracker\", \"3\");"
   ]
  },
  {
   "cell_type": "markdown",
   "metadata": {},
   "source": [
    "## Visualize simulations"
   ]
  },
  {
   "cell_type": "code",
   "execution_count": 48,
   "metadata": {},
   "outputs": [
    {
     "name": "stdout",
     "output_type": "stream",
     "text": [
      " 37.579676 seconds (101.66 M allocations: 9.093 GiB, 29.32% gc time)\n",
      "Simulation: 153 steps, 1.000 discounted reward "
     ]
    }
   ],
   "source": [
    "@time hist = run_sim(pomdp, policy, updater, initialscene_scenario, rng);\n",
    "@printf(\"Simulation: %i steps, %0.3f discounted reward \", n_steps(hist), undiscounted_reward(hist))"
   ]
  },
  {
   "cell_type": "code",
   "execution_count": 49,
   "metadata": {},
   "outputs": [
    {
     "data": {
      "text/html": [
       "<video autoplay controls><source src=\"files/reel-18167660580301080306.webm?1117019568915814835\" type=\"video/webm\"></video>"
      ],
      "text/plain": [
       "Frames{MIME{Symbol(\"image/png\")}}(\"/tmp/tmp4NEsn9\", 0x0000000000000099, 20.0, nothing)"
      ]
     },
     "execution_count": 49,
     "metadata": {},
     "output_type": "execute_result"
    }
   ],
   "source": [
    "animate_history(hist, pomdp,\n",
    "#                 obs_overlays = o -> [GaussianSensorOverlay(sensor=pomdp.sensor, o=[veh for veh in obs_to_scene(pomdp, o) if veh.id != EGO_ID], color=MONOKAI[\"color2\"])],\n",
    "#                 belief_overlays = b -> [MultipleAgentsBeliefOverlay(b)],\n",
    "                action_overlays = a -> [TextOverlay(text = [\"Acc: $(a.acc) m/s^2\"], font_size=20, pos=VecE2(pomdp.env.params.x_min + 3., 8.), incameraframe=true)],\n",
    "#                 ainfo_overlays = ai -> [MultipleInterpolatedBeliefsOverlay(ai[5], pomdp, mdp, pedcar_pomdp, ai[end]),\n",
    "#                                         TextOverlay(text = [\"Probabilities: $([round(p, digits=4) for p in ai[2]])\"], font_size=20, pos=VecE2(pomdp.env.params.x_min + 3., 12.), incameraframe=true),\n",
    "#                                         TextOverlay(text = [\"Available Actions: $([a.acc for a in ai[1]])\"], font_size=20,pos=VecE2(pomdp.env.params.x_min + 3.,10.), incameraframe=true)],                \n",
    "                step_overlays = s -> [TextOverlay(text = [\"step: $s\"], font_size=20, pos=VecE2(pomdp.env.params.x_min + 3.,4.), incameraframe=true)],\n",
    "                extra_overlays = [IDOverlay()],\n",
    "                cam =  StaticCamera(VecE2(0., -8.), 12.0),\n",
    "                speed_factor=2)"
   ]
  },
  {
   "cell_type": "markdown",
   "metadata": {},
   "source": [
    "## Collision Analysis"
   ]
  },
  {
   "cell_type": "code",
   "execution_count": null,
   "metadata": {},
   "outputs": [
    {
     "name": "stderr",
     "output_type": "stream",
     "text": [
      "\u001b[32mProgress:   9%|████                                     |  ETA: 11:11:15\u001b[39m"
     ]
    }
   ],
   "source": [
    "hist = find_collision(pomdp, policy, updater, initialscene_scenario, rng, n_ep=1000);"
   ]
  },
  {
   "cell_type": "code",
   "execution_count": null,
   "metadata": {},
   "outputs": [],
   "source": [
    "\n",
    "@time rewards, steps, violations = evaluation_loop(pomdp, policy, updater,\n",
    "                set_static_spec!, initialscene_scenario,\n",
    "                n_ep=N_EPISODES, max_steps=MAX_STEPS, rng=rng)\n",
    "print_summary(rewards, steps, violations)"
   ]
  },
  {
   "cell_type": "code",
   "execution_count": 45,
   "metadata": {},
   "outputs": [
    {
     "data": {
      "text/plain": [
       "0.1"
      ]
     },
     "execution_count": 45,
     "metadata": {},
     "output_type": "execute_result"
    }
   ],
   "source": [
    "pomdp.ped_birth"
   ]
  },
  {
   "cell_type": "code",
   "execution_count": 46,
   "metadata": {},
   "outputs": [
    {
     "data": {
      "text/plain": [
       "0.1"
      ]
     },
     "execution_count": 46,
     "metadata": {},
     "output_type": "execute_result"
    }
   ],
   "source": [
    "pomdp.car_birth"
   ]
  },
  {
   "cell_type": "code",
   "execution_count": null,
   "metadata": {},
   "outputs": [],
   "source": []
  }
 ],
 "metadata": {
  "@webio": {
   "lastCommId": "92496711335c48c28d0f51c3133850bf",
   "lastKernelId": "78a5aeb1-98c8-4560-b859-156a2cf5a97b"
  },
  "kernelspec": {
   "display_name": "Julia 1.0.0",
   "language": "julia",
   "name": "julia-1.0"
  },
  "language_info": {
   "file_extension": ".jl",
   "mimetype": "application/julia",
   "name": "julia",
   "version": "1.0.0"
  }
 },
 "nbformat": 4,
 "nbformat_minor": 2
}
