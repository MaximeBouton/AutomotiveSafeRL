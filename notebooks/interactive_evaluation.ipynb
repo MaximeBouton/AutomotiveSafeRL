{
 "cells": [
  {
   "cell_type": "markdown",
   "metadata": {},
   "source": [
    "# Evaluate Policies and Model Checker on Urban Scenarios"
   ]
  },
  {
   "cell_type": "markdown",
   "metadata": {},
   "source": [
    "**Supported Policies**\n",
    "    - baseline\n",
    "    - masked-baseline\n",
    "    - masked-RL\n",
    "\n",
    "**Supported Belief Updaters**\n",
    "    - previous_obs\n",
    "    - tracker\n",
    "    \n",
    "**Supported Scenarios**\n",
    "    - 1-1 : One car going straight + noisy sensor\n",
    "    - 1-2 : One car going straight + occlusion\n",
    "    - 2-1 : One car and one pedestrian interacting\n",
    "    - 2-2 : One car turning left interacting with the ego vehicle\n",
    "    - 3 : multiple cars and multiple pedestrian"
   ]
  },
  {
   "cell_type": "code",
   "execution_count": 19,
   "metadata": {},
   "outputs": [
    {
     "name": "stderr",
     "output_type": "stream",
     "text": [
      "WARNING: redefining constant RIGHT_OBSTACLE\n",
      "WARNING: redefining constant LEFT_OBSTACLE\n",
      "WARNING: redefining constant ROUTES\n"
     ]
    }
   ],
   "source": [
    "using Revise\n",
    "includet(\"../evaluation/helpers.jl\")\n",
    "includet(\"../src/render_helpers.jl\")"
   ]
  },
  {
   "cell_type": "code",
   "execution_count": 20,
   "metadata": {},
   "outputs": [],
   "source": [
    "rng = MersenneTwister(1);"
   ]
  },
  {
   "cell_type": "code",
   "execution_count": 21,
   "metadata": {},
   "outputs": [
    {
     "name": "stdout",
     "output_type": "stream",
     "text": [
      "Evaluating RL policy with tracker updater on scenario 3\n"
     ]
    }
   ],
   "source": [
    "pomdp, policy, updater, initialscene_scenario = load_policies_and_environment(\"RL\", \"tracker\", \"3\");"
   ]
  },
  {
   "cell_type": "markdown",
   "metadata": {},
   "source": [
    "## Visualize simulations"
   ]
  },
  {
   "cell_type": "code",
   "execution_count": 22,
   "metadata": {},
   "outputs": [
    {
     "name": "stdout",
     "output_type": "stream",
     "text": [
      " 13.051211 seconds (4.73 M allocations: 3.330 GiB, 24.54% gc time)\n",
      "Simulation: 233 steps, 1.000 discounted reward "
     ]
    }
   ],
   "source": [
    "@time hist = run_sim(pomdp, policy, updater, initialscene_scenario, rng);\n",
    "@printf(\"Simulation: %i steps, %0.3f discounted reward \", n_steps(hist), undiscounted_reward(hist))"
   ]
  },
  {
   "cell_type": "code",
   "execution_count": 17,
   "metadata": {
    "scrolled": false
   },
   "outputs": [
    {
     "data": {
      "text/html": [
       "<video autoplay controls><source src=\"files/reel-6423985090445762198.webm?18414495682532421865\" type=\"video/webm\"></video>"
      ],
      "text/plain": [
       "Frames{MIME{Symbol(\"image/png\")}}(\"/tmp/tmps682de\", 0x0000000000000190, 20.0, nothing)"
      ]
     },
     "execution_count": 17,
     "metadata": {},
     "output_type": "execute_result"
    }
   ],
   "source": [
    "animate_history(hist, pomdp,\n",
    "#                 obs_overlays = o -> [GaussianSensorOverlay(sensor=pomdp.sensor, o=[veh for veh in obs_to_scene(pomdp, o) if veh.id != EGO_ID], color=MONOKAI[\"color2\"])],\n",
    "                belief_overlays = b -> [MultipleAgentsBeliefOverlay(b)],\n",
    "                action_overlays = a -> [TextOverlay(text = [\"Acc: $(a.acc) m/s^2\"], font_size=20, pos=VecE2(pomdp.env.params.x_min + 3., 8.), incameraframe=true)],\n",
    "#                 ainfo_overlays = ai -> [MultipleInterpolatedBeliefsOverlay(ai[5], pomdp, mdp, pedcar_pomdp, ai[end])],\n",
    "#                                         TextOverlay(text = [\"Probabilities: $([round(p, digits=4) for p in ai[2]])\"], font_size=20, pos=VecE2(pomdp.env.params.x_min + 3., 12.), incameraframe=true),\n",
    "#                                         TextOverlay(text = [\"Available Actions: $([a.acc for a in ai[1]])\"], font_size=20,pos=VecE2(pomdp.env.params.x_min + 3.,10.), incameraframe=true)],                \n",
    "                step_overlays = s -> [TextOverlay(text = [\"step: $s\"], font_size=20, pos=VecE2(pomdp.env.params.x_min + 3.,4.), incameraframe=true)],\n",
    "                extra_overlays = [IDOverlay()],\n",
    "                cam =  StaticCamera(VecE2(0., -8.), 12.0),\n",
    "                speed_factor=2)"
   ]
  },
  {
   "cell_type": "markdown",
   "metadata": {},
   "source": [
    "## Collision Analysis"
   ]
  },
  {
   "cell_type": "code",
   "execution_count": 102,
   "metadata": {},
   "outputs": [
    {
     "name": "stderr",
     "output_type": "stream",
     "text": [
      "\u001b[32mProgress:  18%|███████                                  |  ETA: 17:35:08\u001b[39m"
     ]
    },
    {
     "ename": "InterruptException",
     "evalue": "InterruptException:",
     "output_type": "error",
     "traceback": [
      "InterruptException:",
      "",
      "Stacktrace:",
      " [1] Type at ./boot.jl:394 [inlined]",
      " [2] Type at ./boot.jl:403 [inlined]",
      " [3] Type at ./boot.jl:411 [inlined]",
      " [4] similar at ./abstractarray.jl:618 [inlined]",
      " [5] similar at ./abstractarray.jl:617 [inlined]",
      " [6] vect(::LaneTag, ::Vararg{LaneTag,N} where N) at ./array.jl:130",
      " [7] get_car_routes at /home/maxime/Maxime/OneDrive - Leland Stanford Junior University/Research/AutomotivePOMDPs/src/explicit_pomdps/discretization.jl:350 [inlined]",
      " [8] find_route(::UrbanEnv, ::SArray{Tuple{2},LaneTag,1,2}) at /home/maxime/Maxime/OneDrive - Leland Stanford Junior University/Research/AutomotivePOMDPs/src/explicit_pomdps/discretization.jl:372",
      " [9] stateindex(::PedCarMDP, ::PedCarMDPState) at /home/maxime/Maxime/OneDrive - Leland Stanford Junior University/Research/PedCar/src/spaces.jl:86",
      " [10] actionvalues(::ValueIterationPolicy{Float64}, ::PedCarMDPState) at /mnt/c/Users/Maxime/wsl/.julia/packages/DiscreteValueIteration/ezxsV/src/common.jl:66",
      " [11] compute_probas(::UrbanPOMDP, ::SafetyMask{PedCarMDP,ValueIterationPolicy{Float64}}, ::Frame{Entity{VehicleState,VehicleDef,Int64}}, ::Int64, ::Int64) at /mnt/c/Users/Maxime/OneDrive - Leland Stanford Junior University/Research/AutomotiveSafeRL/src/masking.jl:159",
      " [12] compute_probas(::UrbanPOMDP, ::SafetyMask{PedCarMDP,ValueIterationPolicy{Float64}}, ::PedCarRNNBelief, ::Int64, ::Int64) at /mnt/c/Users/Maxime/OneDrive - Leland Stanford Junior University/Research/AutomotiveSafeRL/src/qmdp_approximation.jl:92",
      " [13] safe_actions(::UrbanPOMDP, ::SafetyMask{PedCarMDP,ValueIterationPolicy{Float64}}, ::PedCarRNNBelief, ::Int64, ::Int64) at /mnt/c/Users/Maxime/OneDrive - Leland Stanford Junior University/Research/AutomotiveSafeRL/src/qmdp_approximation.jl:69",
      " [14] safe_actions at /mnt/c/Users/Maxime/OneDrive - Leland Stanford Junior University/Research/AutomotiveSafeRL/src/decomposition.jl:28 [inlined]",
      " [15] action(::DecMaskedPolicy{MaskedNNPolicy{UrbanPOMDP,NNPolicy{UrbanPOMDP,Chain,UrbanAction},SafetyMask{PedCarMDP,ValueIterationPolicy{Float64}}},SafetyMask{PedCarMDP,ValueIterationPolicy{Float64}},UrbanPOMDP}, ::Dict{Tuple{Int64,Int64,Int64},PedCarRNNBelief}) at /mnt/c/Users/Maxime/OneDrive - Leland Stanford Junior University/Research/AutomotiveSafeRL/src/decomposition.jl:18",
      " [16] action at /mnt/c/Users/Maxime/OneDrive - Leland Stanford Junior University/Research/AutomotiveSafeRL/src/decomposition.jl:66 [inlined]",
      " [17] action_info at /mnt/c/Users/Maxime/wsl/.julia/dev/POMDPModelTools/src/info.jl:30 [inlined]",
      " [18] simulate(::HistoryRecorder, ::UrbanPOMDP, ::DecMaskedPolicy{MaskedNNPolicy{UrbanPOMDP,NNPolicy{UrbanPOMDP,Chain,UrbanAction},SafetyMask{PedCarMDP,ValueIterationPolicy{Float64}}},SafetyMask{PedCarMDP,ValueIterationPolicy{Float64}},UrbanPOMDP}, ::MultipleAgentsTracker, ::MultipleAgentsBelief, ::Frame{Entity{VehicleState,VehicleDef,Int64}}) at /mnt/c/Users/Maxime/wsl/.julia/packages/POMDPSimulators/xyfJM/src/history_recorder.jl:132",
      " [19] macro expansion at /mnt/c/Users/Maxime/OneDrive - Leland Stanford Junior University/Research/AutomotiveSafeRL/evaluation/helpers.jl:189 [inlined]",
      " [20] macro expansion at /mnt/c/Users/Maxime/wsl/.julia/packages/ProgressMeter/qVTax/src/ProgressMeter.jl:589 [inlined]",
      " [21] #find_collision#642(::Int64, ::Int64, ::Function, ::UrbanPOMDP, ::DecMaskedPolicy{MaskedNNPolicy{UrbanPOMDP,NNPolicy{UrbanPOMDP,Chain,UrbanAction},SafetyMask{PedCarMDP,ValueIterationPolicy{Float64}}},SafetyMask{PedCarMDP,ValueIterationPolicy{Float64}},UrbanPOMDP}, ::MultipleAgentsTracker, ::typeof(initialscene_scenario_3), ::MersenneTwister) at /mnt/c/Users/Maxime/OneDrive - Leland Stanford Junior University/Research/AutomotiveSafeRL/evaluation/helpers.jl:184",
      " [22] (::getfield(Main, Symbol(\"#kw##find_collision\")))(::NamedTuple{(:n_ep,),Tuple{Int64}}, ::typeof(find_collision), ::UrbanPOMDP, ::DecMaskedPolicy{MaskedNNPolicy{UrbanPOMDP,NNPolicy{UrbanPOMDP,Chain,UrbanAction},SafetyMask{PedCarMDP,ValueIterationPolicy{Float64}}},SafetyMask{PedCarMDP,ValueIterationPolicy{Float64}},UrbanPOMDP}, ::MultipleAgentsTracker, ::Function, ::MersenneTwister) at ./none:0",
      " [23] top-level scope at In[102]:1"
     ]
    }
   ],
   "source": [
    "hist = find_collision(pomdp, policy, updater, initialscene_scenario, rng, n_ep=1000);"
   ]
  },
  {
   "cell_type": "code",
   "execution_count": 71,
   "metadata": {},
   "outputs": [
    {
     "data": {
      "text/plain": [
       "Dict{Tuple{Int64,Int64,Int64},PedCarRNNBelief} with 9 entries:\n",
       "  (4, 103, 1) => PedCarRNNBelief(Array{Float64,1}[[0.0625, -0.365, 1.0, 0.0, 0.…\n",
       "  (2, 102, 1) => PedCarRNNBelief(Array{Float64,1}[[0.0625, -0.365, 1.0, 0.0, -0…\n",
       "  (4, 101, 1) => PedCarRNNBelief(Array{Float64,1}[[0.0625, -0.365, 1.0, 0.0, 0.…\n",
       "  (2, 101, 1) => PedCarRNNBelief(Array{Float64,1}[[0.0625, -0.365, 1.0, 0.0, -0…\n",
       "  (3, 101, 1) => PedCarRNNBelief(Array{Float64,1}[[0.0625, -0.365, 1.0, 0.0, -0…\n",
       "  (3, 102, 1) => PedCarRNNBelief(Array{Float64,1}[[0.0625, -0.365, 1.0, 0.0, -0…\n",
       "  (3, 103, 1) => PedCarRNNBelief(Array{Float64,1}[[0.0625, -0.365, 1.0, 0.0, -0…\n",
       "  (2, 103, 1) => PedCarRNNBelief(Array{Float64,1}[[0.0625, -0.365, 1.0, 0.0, -0…\n",
       "  (4, 102, 1) => PedCarRNNBelief(Array{Float64,1}[[0.0625, -0.365, 1.0, 0.0, 0.…"
      ]
     },
     "execution_count": 71,
     "metadata": {},
     "output_type": "execute_result"
    }
   ],
   "source": [
    "b = hist.belief_hist[78]\n",
    "pcb = create_pedcar_beliefs(pomdp, b)"
   ]
  },
  {
   "cell_type": "code",
   "execution_count": 72,
   "metadata": {},
   "outputs": [
    {
     "data": {
      "text/plain": [
       "4-element Array{Float64,1}:\n",
       " 0.9997952222846997\n",
       " 0.9997952222846997\n",
       " 0.9997952222846997\n",
       " 0.999870887782835 "
      ]
     },
     "execution_count": 72,
     "metadata": {},
     "output_type": "execute_result"
    }
   ],
   "source": [
    "pedcar_pomdp = policy.policy.problem\n",
    "mask = policy.mask\n",
    "compute_probas(pedcar_pomdp, mask, pcb[(2, 101, 1)])"
   ]
  },
  {
   "cell_type": "code",
   "execution_count": 78,
   "metadata": {},
   "outputs": [
    {
     "data": {
      "image/png": "[encoded data removed]",
      "text/plain": [
       "Cairo.CairoSurfaceBase{UInt32}(Ptr{Nothing} @0x000000000f9be380, 1000.0, 600.0)"
      ]
     },
     "execution_count": 78,
     "metadata": {},
     "output_type": "execute_result"
    }
   ],
   "source": [
    "AutoViz.render(hist.state_hist[78], pomdp.env, [MultipleInterpolatedBeliefsOverlay(pcb, pomdp, mask.mdp, pedcar_pomdp, pomdp.models)], cam=FitToContentCamera(0.))"
   ]
  },
  {
   "cell_type": "code",
   "execution_count": 85,
   "metadata": {},
   "outputs": [
    {
     "name": "stdout",
     "output_type": "stream",
     "text": [
      "VehicleState(VecSE2({-1.281, -5.621}, -0.047), Frenet(RoadIndex({1, 0.408481}, {19, 1}), 5.719, -0.621, -0.047), 0.887)\n"
     ]
    }
   ],
   "source": [
    "pcbb = pcb[(2,101,1)]\n",
    "ss = obs_to_scene(pedcar_pomdp, pcbb.predictions[1])\n",
    "ssmdp = get_mdp_state(mask.mdp, pomdp, ss, PED_ID, CAR_ID)\n",
    "println(ssmdp.ped)\n",
    "# AutoViz.render(ss, pomdp.env, cam=FitToContentCamera(0.))"
   ]
  },
  {
   "cell_type": "code",
   "execution_count": 101,
   "metadata": {},
   "outputs": [
    {
     "data": {
      "text/plain": [
       "VehicleState(VecSE2({-1.000, -5.000}, 0.000), Frenet(RoadIndex({1, 0.428571}, {19, 1}), 6.000, 0.000, 0.000), 1.000)"
      ]
     },
     "execution_count": 101,
     "metadata": {},
     "output_type": "execute_result"
    }
   ],
   "source": [
    "itp_states, itp_weights = interpolate_state(mask.mdp, ssmdp)\n",
    "sss = itp_states[argmax(itp_weights)]\n",
    "sss.ped"
   ]
  },
  {
   "cell_type": "code",
   "execution_count": 100,
   "metadata": {},
   "outputs": [
    {
     "data": {
      "text/plain": [
       "6.236483401479002"
      ]
     },
     "execution_count": 100,
     "metadata": {},
     "output_type": "execute_result"
    }
   ],
   "source": [
    "mod2pi(ssmdp.ped.posF.ϕ)"
   ]
  },
  {
   "cell_type": "code",
   "execution_count": 97,
   "metadata": {},
   "outputs": [
    {
     "data": {
      "text/plain": [
       "3.0948907478892087"
      ]
     },
     "execution_count": 97,
     "metadata": {},
     "output_type": "execute_result"
    }
   ],
   "source": [
    "mod(ssmdp.ped.posF.ϕ, pi)"
   ]
  },
  {
   "cell_type": "code",
   "execution_count": 94,
   "metadata": {},
   "outputs": [
    {
     "name": "stdout",
     "output_type": "stream",
     "text": [
      "search: \u001b[0m\u001b[1mm\u001b[22m\u001b[0m\u001b[1mo\u001b[22m\u001b[0m\u001b[1md\u001b[22m\u001b[0m\u001b[1m2\u001b[22m\u001b[0m\u001b[1mp\u001b[22m\u001b[0m\u001b[1mi\u001b[22m\n",
      "\n"
     ]
    },
    {
     "data": {
      "text/latex": [
       "\\begin{verbatim}\n",
       "mod2pi(x)\n",
       "\\end{verbatim}\n",
       "Modulus after division by \\texttt{2π}, returning in the range $[0,2π)$.\n",
       "\n",
       "This function computes a floating point representation of the modulus after division by numerically exact \\texttt{2π}, and is therefore not exactly the same as \\texttt{mod(x,2π)}, which would compute the modulus of \\texttt{x} relative to division by the floating-point number \\texttt{2π}.\n",
       "\n",
       "\\section{Examples}\n",
       "\\begin{verbatim}\n",
       "julia> mod2pi(9*pi/4)\n",
       "0.7853981633974481\n",
       "\\end{verbatim}\n"
      ],
      "text/markdown": [
       "```\n",
       "mod2pi(x)\n",
       "```\n",
       "\n",
       "Modulus after division by `2π`, returning in the range $[0,2π)$.\n",
       "\n",
       "This function computes a floating point representation of the modulus after division by numerically exact `2π`, and is therefore not exactly the same as `mod(x,2π)`, which would compute the modulus of `x` relative to division by the floating-point number `2π`.\n",
       "\n",
       "# Examples\n",
       "\n",
       "```jldoctest\n",
       "julia> mod2pi(9*pi/4)\n",
       "0.7853981633974481\n",
       "```\n"
      ],
      "text/plain": [
       "\u001b[36m  mod2pi(x)\u001b[39m\n",
       "\n",
       "  Modulus after division by \u001b[36m2π\u001b[39m, returning in the range \u001b[35m[0,2π)\u001b[39m.\n",
       "\n",
       "  This function computes a floating point representation of the modulus after\n",
       "  division by numerically exact \u001b[36m2π\u001b[39m, and is therefore not exactly the same as\n",
       "  \u001b[36mmod(x,2π)\u001b[39m, which would compute the modulus of \u001b[36mx\u001b[39m relative to division by the\n",
       "  floating-point number \u001b[36m2π\u001b[39m.\n",
       "\n",
       "\u001b[1m  Examples\u001b[22m\n",
       "\u001b[1m  ≡≡≡≡≡≡≡≡≡≡\u001b[22m\n",
       "\n",
       "\u001b[36m  julia> mod2pi(9*pi/4)\u001b[39m\n",
       "\u001b[36m  0.7853981633974481\u001b[39m"
      ]
     },
     "execution_count": 94,
     "metadata": {},
     "output_type": "execute_result"
    }
   ],
   "source": [
    "?mod2pi"
   ]
  },
  {
   "cell_type": "code",
   "execution_count": 73,
   "metadata": {},
   "outputs": [
    {
     "data": {
      "text/plain": [
       "(:beliefs, :pomdp, :mdp, :pedcar_pomdp, :models)"
      ]
     },
     "execution_count": 73,
     "metadata": {},
     "output_type": "execute_result"
    }
   ],
   "source": [
    "fieldnames(MultipleInterpolatedBeliefsOverlay)"
   ]
  },
  {
   "cell_type": "code",
   "execution_count": 74,
   "metadata": {},
   "outputs": [
    {
     "ename": "UndefVarError",
     "evalue": "UndefVarError: InterpolatedBeliefOverlay not defined",
     "output_type": "error",
     "traceback": [
      "UndefVarError: InterpolatedBeliefOverlay not defined",
      "",
      "Stacktrace:",
      " [1] top-level scope at In[74]:1"
     ]
    }
   ],
   "source": [
    "fieldnames(InterpolatedBeliefOverlay)"
   ]
  },
  {
   "cell_type": "code",
   "execution_count": null,
   "metadata": {},
   "outputs": [],
   "source": []
  }
 ],
 "metadata": {
  "@webio": {
   "lastCommId": "f02eb9beed9c4876ac8a2795ad203a59",
   "lastKernelId": "78a5aeb1-98c8-4560-b859-156a2cf5a97b"
  },
  "kernelspec": {
   "display_name": "Julia 1.0.0",
   "language": "julia",
   "name": "julia-1.0"
  },
  "language_info": {
   "file_extension": ".jl",
   "mimetype": "application/julia",
   "name": "julia",
   "version": "1.0.0"
  }
 },
 "nbformat": 4,
 "nbformat_minor": 2
}
