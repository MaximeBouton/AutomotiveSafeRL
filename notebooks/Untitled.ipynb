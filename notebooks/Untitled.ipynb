{
 "cells": [
  {
   "cell_type": "code",
   "execution_count": 1,
   "metadata": {},
   "outputs": [],
   "source": [
    "using AutomotiveDrivingModels\n",
    "using AutoViz"
   ]
  },
  {
   "cell_type": "code",
   "execution_count": 2,
   "metadata": {},
   "outputs": [
    {
     "data": {
      "text/plain": [
       "place_at! (generic function with 1 method)"
      ]
     },
     "execution_count": 2,
     "metadata": {},
     "output_type": "execute_result"
    }
   ],
   "source": [
    "roadway = gen_stadium_roadway(1)\n",
    "scene = Scene(2)\n",
    "scene.n = 2\n",
    "def = VehicleDef(AgentClass.CAR, 2.0, 1.0)\n",
    "\n",
    "function place_at!(i, s)\n",
    "    roadproj = proj(VecSE2(0.0,0.0,0.0), roadway)\n",
    "    roadind = RoadIndex(roadproj.curveproj.ind, roadproj.tag)\n",
    "    roadind = move_along(roadind, roadway, s)\n",
    "    frenet = Frenet(roadind, roadway[roadind].s, 0.0, 0.0)\n",
    "    state = VehicleState(frenet, roadway, 0.0)\n",
    "    scene[i] = Vehicle(state, def, i)\n",
    "end"
   ]
  },
  {
   "cell_type": "code",
   "execution_count": 26,
   "metadata": {},
   "outputs": [
    {
     "data": {
      "text/plain": [
       "Vehicle(2, VehicleState(VecSE2({100.006, 0.000}, 0.000), Frenet(RoadIndex({1, 0.003730}, {1, 1}), 0.006, 0.000, 0.000), 0.000), VehicleDef(CAR, 2.000, 1.000))"
      ]
     },
     "execution_count": 26,
     "metadata": {},
     "output_type": "execute_result"
    }
   ],
   "source": [
    "place_at!(1, 0.0)\n",
    "place_at!(2, 100.0)"
   ]
  },
  {
   "cell_type": "code",
   "execution_count": 27,
   "metadata": {},
   "outputs": [
    {
     "name": "stdout",
     "output_type": "stream",
     "text": [
      "\n",
      "coucou\n",
      "LaneTag(1, 1)\n",
      "0.006103515625\n",
      "AutomotiveDrivingModels.VehicleTargetPointCenter()\n",
      "AutomotiveDrivingModels.VehicleTargetPointCenter()\n",
      "Inf\n",
      "2\n",
      "vehicle is in target lane\n",
      "searched LaneTag(1, 1)\n",
      "dist_searched = 39.263804654247416\n",
      "now searching LaneTag(2, 1)\n",
      "searched LaneTag(2, 1)\n",
      "dist_searched = 88.53371282411983\n",
      "now searching LaneTag(3, 1)\n",
      "searched LaneTag(3, 1)\n",
      "dist_searched = 227.80362099399224\n",
      "now searching LaneTag(4, 1)\n",
      "vehicle is in exit\n",
      "found vehicle! 1\n"
     ]
    },
    {
     "data": {
      "text/plain": [
       "AutomotiveDrivingModels.NeighborLongitudinalResult(1, 277.0796326794897)"
      ]
     },
     "execution_count": 27,
     "metadata": {},
     "output_type": "execute_result"
    }
   ],
   "source": [
    "foreinfo = get_neighbor_fore_along_lane(scene, 2, roadway, max_distance_fore=Inf)"
   ]
  },
  {
   "cell_type": "code",
   "execution_count": 28,
   "metadata": {},
   "outputs": [
    {
     "data": {
      "text/plain": [
       "false"
      ]
     },
     "execution_count": 28,
     "metadata": {},
     "output_type": "execute_result"
    }
   ],
   "source": [
    "is_in_exits(roadway[LaneTag(2,1)], LaneTag(1,1))"
   ]
  },
  {
   "cell_type": "code",
   "execution_count": 24,
   "metadata": {},
   "outputs": [
    {
     "data": {
      "text/plain": [
       "39.269908169872416"
      ]
     },
     "execution_count": 24,
     "metadata": {},
     "output_type": "execute_result"
    }
   ],
   "source": [
    "roadway[LaneTag(1,1)].curve[end].s"
   ]
  },
  {
   "cell_type": "code",
   "execution_count": 10,
   "metadata": {},
   "outputs": [
    {
     "data": {
      "image/png": "[encoded data removed]",
      "text/plain": [
       "Cairo.CairoSurface{UInt32}(Ptr{Void} @0x000000000649dd60, 1000.0, 600.0, #undef)"
      ]
     },
     "execution_count": 10,
     "metadata": {},
     "output_type": "execute_result"
    }
   ],
   "source": [
    "render(scene, roadway, cam=FitToContentCamera(0.))"
   ]
  },
  {
   "cell_type": "code",
   "execution_count": 25,
   "metadata": {},
   "outputs": [],
   "source": [
    "function AutomotiveDrivingModels.get_neighbor_fore_along_lane(\n",
    "    scene::EntityFrame{S,D,I},\n",
    "    roadway::Roadway,\n",
    "    tag_start::LaneTag,\n",
    "    s_base::Float64,\n",
    "    targetpoint_primary::VehicleTargetPoint, # the reference point whose distance we want to minimize\n",
    "    targetpoint_valid::VehicleTargetPoint; # the reference point, which if distance to is positive, we include the vehicle\n",
    "    max_distance_fore::Float64 = 250.0, # max distance to search forward [m]\n",
    "    index_to_ignore::Int=-1,\n",
    "    ) where {S<:VehicleState,D<:Union{VehicleDef, BicycleModel},I}\n",
    "        println(\"\\ncoucou\")\n",
    "    println(tag_start)\n",
    "    println(s_base)\n",
    "    println(targetpoint_primary)\n",
    "    println(targetpoint_valid)\n",
    "    println(max_distance_fore)\n",
    "    println(index_to_ignore)\n",
    "    best_ind = 0\n",
    "    best_dist = max_distance_fore\n",
    "    tag_target = tag_start\n",
    "\n",
    "    dist_searched = 0.0\n",
    "    while dist_searched < max_distance_fore\n",
    "\n",
    "        lane = roadway[tag_target]\n",
    "\n",
    "        for (i,veh) in enumerate(scene)\n",
    "            if i != index_to_ignore\n",
    "\n",
    "                s_adjust = NaN\n",
    "                if veh.state.posF.roadind.tag == tag_target\n",
    "                    s_adjust = 0.0\n",
    "                    println(\"vehicle is in target lane\")\n",
    "                elseif is_between_segments_hi(veh.state.posF.roadind.ind, lane.curve) &&\n",
    "                       is_in_entrances(roadway[tag_target], veh.state.posF.roadind.tag)\n",
    "                    println(\"vehicle is in entrance\")\n",
    "                    distance_between_lanes = norm(VecE2(roadway[tag_target].curve[1].pos - roadway[veh.state.posF.roadind.tag].curve[end].pos))\n",
    "                    s_adjust = -(roadway[veh.state.posF.roadind.tag].curve[end].s + distance_between_lanes)\n",
    "\n",
    "                elseif is_between_segments_lo(veh.state.posF.roadind.ind) &&\n",
    "                       is_in_exits(roadway[tag_target], veh.state.posF.roadind.tag)\n",
    "                    println(\"vehicle is in exit\")\n",
    "                    distance_between_lanes = norm(VecE2(roadway[tag_target].curve[end].pos - roadway[veh.state.posF.roadind.tag].curve[1].pos))\n",
    "                    s_adjust = roadway[tag_target].curve[end].s + distance_between_lanes\n",
    "                end\n",
    "\n",
    "                if !isnan(s_adjust)\n",
    "                    s_valid = veh.state.posF.s + get_targetpoint_delta(targetpoint_valid, convert(Vehicle, veh)) + s_adjust\n",
    "                    dist_valid = s_valid - s_base + dist_searched\n",
    "                    if dist_valid ≥ 0.0\n",
    "                        s_primary = veh.state.posF.s + get_targetpoint_delta(targetpoint_primary, convert(Vehicle, veh)) + s_adjust\n",
    "                        dist = s_primary - s_base + dist_searched\n",
    "                        if dist < best_dist\n",
    "                            best_dist = dist\n",
    "                            best_ind = i\n",
    "                        end\n",
    "                    end\n",
    "                end\n",
    "            end\n",
    "        end\n",
    "\n",
    "        if best_ind != 0\n",
    "            println(\"found vehicle! $best_ind\")\n",
    "            break\n",
    "        end\n",
    "\n",
    "        if !has_next(lane) ||\n",
    "           (tag_target == tag_start && dist_searched != 0.0) # exit after visiting this lane a 2nd time\n",
    "            break\n",
    "        end\n",
    "\n",
    "        dist_searched += (lane.curve[end].s - s_base)\n",
    "        s_base = -norm(VecE2(lane.curve[end].pos - next_lane_point(lane, roadway).pos)) # negative distance between lanes\n",
    "        println(\"searched $tag_target\")\n",
    "        tag_target = next_lane(lane, roadway).tag\n",
    "        println(\"dist_searched = $dist_searched\")\n",
    "        println(\"now searching $tag_target\")\n",
    "    end\n",
    "\n",
    "    NeighborLongitudinalResult(best_ind, best_dist)\n",
    "end"
   ]
  },
  {
   "cell_type": "code",
   "execution_count": null,
   "metadata": {},
   "outputs": [],
   "source": []
  }
 ],
 "metadata": {
  "kernelspec": {
   "display_name": "Julia 0.6.1",
   "language": "julia",
   "name": "julia-0.6"
  },
  "language_info": {
   "file_extension": ".jl",
   "mimetype": "application/julia",
   "name": "julia",
   "version": "0.6.1"
  }
 },
 "nbformat": 4,
 "nbformat_minor": 2
}
