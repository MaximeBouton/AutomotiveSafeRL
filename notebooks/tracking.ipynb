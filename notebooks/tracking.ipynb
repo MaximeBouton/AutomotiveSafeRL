{
 "cells": [
  {
   "cell_type": "markdown",
   "metadata": {},
   "source": [
    "# Decomposed Tracking"
   ]
  },
  {
   "cell_type": "code",
   "execution_count": 1,
   "metadata": {},
   "outputs": [
    {
     "name": "stdout",
     "output_type": "stream",
     "text": [
      "loaded\n"
     ]
    },
    {
     "name": "stderr",
     "output_type": "stream",
     "text": [
      "┌ Info: Recompiling stale cache file /mnt/c/Users/Maxime/wsl/.julia/compiled/v1.0/LocalApproximationValueIteration/Dvh7I.ji for LocalApproximationValueIteration [a40420fb-f401-52da-a663-f502e5b95060]\n",
      "└ @ Base loading.jl:1184\n",
      "┌ Warning: Package LocalApproximationValueIteration does not have Random in its dependencies:\n",
      "│ - If you have LocalApproximationValueIteration checked out for development and have\n",
      "│   added Random as a dependency but haven't updated your primary\n",
      "│   environment's manifest file, try `Pkg.resolve()`.\n",
      "│ - Otherwise you may need to report an issue with LocalApproximationValueIteration\n",
      "└ Loading Random into LocalApproximationValueIteration from project dependency, future warnings for LocalApproximationValueIteration are suppressed.\n",
      "┌ Info: Recompiling stale cache file /mnt/c/Users/Maxime/wsl/.julia/compiled/v1.0/PedCar/NmDDZ.ji for PedCar [90cf7f26-d5c7-593d-a0e1-4a8367407571]\n",
      "└ @ Base loading.jl:1184\n",
      "┌ Warning: Package PedCar does not have AutomotivePOMDPs in its dependencies:\n",
      "│ - If you have PedCar checked out for development and have\n",
      "│   added AutomotivePOMDPs as a dependency but haven't updated your primary\n",
      "│   environment's manifest file, try `Pkg.resolve()`.\n",
      "│ - Otherwise you may need to report an issue with PedCar\n",
      "└ Loading AutomotivePOMDPs into PedCar from project dependency, future warnings for PedCar are suppressed.\n"
     ]
    }
   ],
   "source": [
    "using Revise\n",
    "using Random\n",
    "using Printf\n",
    "using StaticArrays\n",
    "using DataStructures\n",
    "using Flux\n",
    "using FileIO\n",
    "using BSON\n",
    "using JLD2\n",
    "using ProgressMeter\n",
    "using POMDPs\n",
    "using POMDPModelTools\n",
    "using POMDPSimulators\n",
    "using POMDPPolicies\n",
    "using BeliefUpdaters\n",
    "using RLInterface\n",
    "using DeepQLearning\n",
    "using LocalApproximationValueIteration\n",
    "using DiscreteValueIteration\n",
    "using AutomotiveDrivingModels\n",
    "using AutoViz\n",
    "using AutomotivePOMDPs\n",
    "using MDPModelChecking\n",
    "using PedCar\n",
    "using AutomotiveSensors\n",
    "using Reel"
   ]
  },
  {
   "cell_type": "code",
   "execution_count": 2,
   "metadata": {},
   "outputs": [],
   "source": [
    "includet(\"../src/masking.jl\")\n",
    "includet(\"../src/util.jl\")\n",
    "includet(\"../src/masked_dqn.jl\")\n",
    "includet(\"../src/qmdp_approximation.jl\")\n",
    "includet(\"../src/decomposed_tracking.jl\")\n",
    "includet(\"../src/decomposition.jl\")\n",
    "includet(\"../src/render_helpers.jl\")\n",
    "includet(\"../RNNFiltering/RNNFiltering.jl\")\n",
    "using Main.RNNFiltering"
   ]
  },
  {
   "cell_type": "code",
   "execution_count": 3,
   "metadata": {},
   "outputs": [],
   "source": [
    "rng = MersenneTwister(1)\n",
    "cam =  StaticCamera(VecE2(0., -8.), 12.0);"
   ]
  },
  {
   "cell_type": "markdown",
   "metadata": {},
   "source": [
    "## Environment"
   ]
  },
  {
   "cell_type": "code",
   "execution_count": 4,
   "metadata": {},
   "outputs": [
    {
     "data": {
      "text/plain": [
       "0"
      ]
     },
     "execution_count": 4,
     "metadata": {},
     "output_type": "execute_result"
    }
   ],
   "source": [
    "mdp = PedCarMDP(pos_res=2.0, vel_res=2., ped_birth=0.7, car_birth=0.7)\n",
    "pomdp = UrbanPOMDP(env=mdp.env,\n",
    "#                    sensor = PerfectSensor(),\n",
    "                    sensor = GaussianSensor(false_positive_rate=0.0, false_negative_rate = 0.0,\n",
    "                                            pos_noise = LinearNoise(min_noise=0.5, increase_rate=0.05), \n",
    "                                            vel_noise = LinearNoise(min_noise=0.5, increase_rate=0.05)),\n",
    "                   ego_goal = LaneTag(2, 1),\n",
    "                   obs_dist = ObstacleDistribution(mdp.env, \n",
    "                                                   upper_obs_pres_prob=0., \n",
    "                                                   left_obs_pres_prob=1.0, \n",
    "                                                   right_obs_pres_prob=1.0),\n",
    "                   max_cars=1, \n",
    "                   max_peds=1, \n",
    "                   car_birth=0.1, \n",
    "                   ped_birth=0.1, \n",
    "                   max_obstacles=1, # no fixed obstacles\n",
    "                   lidar=false,\n",
    "                   ego_start=20,\n",
    "                   ΔT=0.1);\n",
    "\n",
    "# instantiate sub problems\n",
    "## CAR POMDP FOR TRACKING 1 CAR\n",
    "car_pomdp = deepcopy(pomdp)\n",
    "car_pomdp.max_peds = 0\n",
    "car_pomdp.max_cars = 1\n",
    "## PED POMDP FOR TRACKING 1 PEDESTRIAN\n",
    "ped_pomdp = deepcopy(pomdp)\n",
    "ped_pomdp.max_peds = 1\n",
    "ped_pomdp.max_cars = 0\n",
    "## PEDCAR POMDP FOR THE POLICY (Model checking + DQN)\n",
    "pedcar_pomdp = deepcopy(pomdp)\n",
    "pedcar_pomdp.max_peds = 1\n",
    "pedcar_pomdp.max_cars = 1\n",
    "pedcar_pomdp.max_obstacles = 0"
   ]
  },
  {
   "cell_type": "markdown",
   "metadata": {},
   "source": [
    "## Load Trained RNNs"
   ]
  },
  {
   "cell_type": "code",
   "execution_count": 5,
   "metadata": {},
   "outputs": [],
   "source": [
    "n_models = 5\n",
    "car_models = Vector{Chain}(undef, n_models)\n",
    "ped_models = Vector{Chain}(undef, n_models)\n",
    "for i=1:n_models\n",
    "    car_models[i] = BSON.load(\"../RNNFiltering/model_car_$i.bson\")[:model] \n",
    "    Flux.loadparams!(car_models[i], BSON.load(\"../RNNFiltering/weights_car_$i.bson\")[:weights])\n",
    "    ped_models[i] = BSON.load(\"../RNNFiltering/model_ped_$i.bson\")[:model]\n",
    "    Flux.loadparams!(ped_models[i], BSON.load(\"../RNNFiltering/weights_ped_$i.bson\")[:weights])\n",
    "end\n",
    "pres_threshold = 0.2;"
   ]
  },
  {
   "cell_type": "markdown",
   "metadata": {},
   "source": [
    "## Single Agent Tracking"
   ]
  },
  {
   "cell_type": "markdown",
   "metadata": {},
   "source": [
    "**Pedestrian**"
   ]
  },
  {
   "cell_type": "code",
   "execution_count": 6,
   "metadata": {},
   "outputs": [
    {
     "name": "stdout",
     "output_type": "stream",
     "text": [
      "  8.339450 seconds (12.54 M allocations: 654.867 MiB, 6.92% gc time)\n"
     ]
    }
   ],
   "source": [
    "up = SingleAgentTracker(ped_pomdp, ped_models, pres_threshold, VehicleDef())\n",
    "policy = FunctionPolicy(s -> UrbanAction(0.))\n",
    "s0 = initialstate(ped_pomdp, rng)\n",
    "b0 = SingleAgentBelief(Vector{Vector{Float64}}(undef, n_models), zeros(n_dims(pomdp)), 0., ped_pomdp)\n",
    "hr = HistoryRecorder(max_steps=100, rng=rng)\n",
    "@time hist = simulate(hr, ped_pomdp, policy, up, b0, s0);"
   ]
  },
  {
   "cell_type": "code",
   "execution_count": 7,
   "metadata": {},
   "outputs": [
    {
     "data": {
      "text/html": [
       "<video autoplay controls><source src=\"files/reel-17196027967743790863.webm?13888959335193163801\" type=\"video/webm\"></video>"
      ],
      "text/plain": [
       "Frames{MIME{Symbol(\"image/png\")}}(\"/tmp/tmpmVVWVt\", 0x0000000000000064, 10.0, nothing)"
      ]
     },
     "execution_count": 7,
     "metadata": {},
     "output_type": "execute_result"
    }
   ],
   "source": [
    "animate_history(hist, ped_pomdp,\n",
    "                belief_overlays = b -> [SingleAgentBeliefOverlay(b),\n",
    "                                        HistogramOverlay(pos=VecE2(-10.,-15.), label=\"presence\", val=b.presence)],\n",
    "                extra_overlays = [IDOverlay()],\n",
    "                cam=cam)"
   ]
  },
  {
   "cell_type": "markdown",
   "metadata": {},
   "source": [
    "**Car**"
   ]
  },
  {
   "cell_type": "code",
   "execution_count": 8,
   "metadata": {},
   "outputs": [
    {
     "name": "stdout",
     "output_type": "stream",
     "text": [
      "  2.414171 seconds (1.53 M allocations: 87.513 MiB, 2.15% gc time)\n"
     ]
    }
   ],
   "source": [
    "up = SingleAgentTracker(car_pomdp, car_models, pres_threshold, VehicleDef())\n",
    "policy = FunctionPolicy(s -> UrbanAction(0.))\n",
    "s0 = initialstate(car_pomdp, rng)\n",
    "b0 = SingleAgentBelief(Vector{Vector{Float64}}(undef, n_models), zeros(n_dims(pomdp)), 0., car_pomdp)\n",
    "hr = HistoryRecorder(max_steps=100, rng=rng)\n",
    "@time hist = simulate(hr, car_pomdp, policy, up, b0, s0);"
   ]
  },
  {
   "cell_type": "code",
   "execution_count": 9,
   "metadata": {},
   "outputs": [
    {
     "data": {
      "text/html": [
       "<video autoplay controls><source src=\"files/reel-17642799544219592156.webm?14885121414000155057\" type=\"video/webm\"></video>"
      ],
      "text/plain": [
       "Frames{MIME{Symbol(\"image/png\")}}(\"/tmp/tmpqtn41Q\", 0x0000000000000064, 10.0, nothing)"
      ]
     },
     "execution_count": 9,
     "metadata": {},
     "output_type": "execute_result"
    }
   ],
   "source": [
    "animate_history(hist, car_pomdp,\n",
    "                obs_overlays = o -> [GaussianSensorOverlay(sensor=car_pomdp.sensor, o=[veh for veh in obs_to_scene(car_pomdp, o) if veh.id != EGO_ID], color=MONOKAI[\"color2\"])],\n",
    "                belief_overlays = b -> [SingleAgentBeliefOverlay(b), \n",
    "                                        HistogramOverlay(pos=VecE2(-10.,-15.), label=\"presence\", val=b.presence)],\n",
    "                extra_overlays = [IDOverlay()],\n",
    "                cam = cam)"
   ]
  },
  {
   "cell_type": "markdown",
   "metadata": {},
   "source": [
    "## Multi Agent Tracking: Multiple Instances of Single Agent Trackers"
   ]
  },
  {
   "cell_type": "code",
   "execution_count": 34,
   "metadata": {},
   "outputs": [
    {
     "name": "stdout",
     "output_type": "stream",
     "text": [
      " 40.576875 seconds (11.51 M allocations: 4.064 GiB, 10.02% gc time)\n"
     ]
    }
   ],
   "source": [
    "pomdp.max_cars = 2\n",
    "pomdp.max_peds = 2\n",
    "ref_updaters = Dict(AgentClass.PEDESTRIAN => SingleAgentTracker(ped_pomdp, ped_models, pres_threshold, VehicleDef()),\n",
    "                    AgentClass.CAR =>  SingleAgentTracker(car_pomdp, car_models, pres_threshold, VehicleDef()))\n",
    "up = MultipleAgentsTracker(pomdp, ref_updaters, Dict{Int64, SingleAgentTracker}())\n",
    "policy = FunctionPolicy(s -> UrbanAction(0.))\n",
    "s0 = initialstate(pomdp, rng)\n",
    "o0 = generate_o(pomdp, s0, rng)\n",
    "b0 = MultipleAgentsBelief(Dict{Int64, SingleAgentBelief}(), o0, pomdp)\n",
    "hr = HistoryRecorder(max_steps=100, rng=rng)\n",
    "@time hist = simulate(hr, pomdp, policy, up, b0, s0);"
   ]
  },
  {
   "cell_type": "code",
   "execution_count": 35,
   "metadata": {},
   "outputs": [
    {
     "data": {
      "text/html": [
       "<video autoplay controls><source src=\"files/reel-17232083341630534653.webm?12590849562485464993\" type=\"video/webm\"></video>"
      ],
      "text/plain": [
       "Frames{MIME{Symbol(\"image/png\")}}(\"/tmp/tmpQPC10e\", 0x0000000000000064, 10.0, nothing)"
      ]
     },
     "execution_count": 35,
     "metadata": {},
     "output_type": "execute_result"
    }
   ],
   "source": [
    "animate_history(hist, pomdp,\n",
    "                obs_overlays = o -> [GaussianSensorOverlay(sensor=pomdp.sensor, o=[veh for veh in obs_to_scene(pomdp, o) if veh.id != EGO_ID], color=MONOKAI[\"color2\"])],\n",
    "                belief_overlays = b -> [MultipleAgentsBeliefOverlay(b)],\n",
    "                step_overlays = s -> [TextOverlay(text = [\"step: $s\"], font_size=20, pos=VecE2(pomdp.env.params.x_min + 3.,4.), incameraframe=true)],\n",
    "                extra_overlays = [IDOverlay()],\n",
    "                cam =  StaticCamera(VecE2(0., -8.), 14.0))"
   ]
  },
  {
   "cell_type": "markdown",
   "metadata": {},
   "source": [
    "## Scene reconstruction"
   ]
  },
  {
   "cell_type": "code",
   "execution_count": 39,
   "metadata": {},
   "outputs": [
    {
     "data": {
      "text/plain": [
       "get_ego_vehicle (generic function with 1 method)"
      ]
     },
     "execution_count": 39,
     "metadata": {},
     "output_type": "execute_result"
    }
   ],
   "source": [
    "function most_likely_scene(pomdp::UrbanPOMDP, b::MultipleAgentsBelief)\n",
    "    scene = Scene()\n",
    "    push_ego = false\n",
    "    ego = get_ego_vehicle(pomdp, b.o)\n",
    "    push!(scene, ego)\n",
    "    for (id, sb) in b.single_beliefs\n",
    "        avg_pred = mean(sb.predictions)\n",
    "        veh_scene = obs_to_scene(sb.single_pomdp, avg_pred)\n",
    "        if !push_ego \n",
    "            ego = veh_scene[findfirst(EGO_ID, veh_scene)]\n",
    "            push!(scene, ego)\n",
    "            push_ego = true\n",
    "        end\n",
    "        vehind = id > 100 ? findfirst(PED_ID, veh_scene) : findfirst(CAR_ID, veh_scene)\n",
    "        if vehind != 0\n",
    "            veh = veh_scene[vehind]\n",
    "            if id > 100\n",
    "                push!(scene, Vehicle(veh.state, pomdp.ped_type, id))\n",
    "            else\n",
    "                push!(scene, Vehicle(veh.state, pomdp.car_type, id))\n",
    "            end\n",
    "        end\n",
    "    end\n",
    "    return scene\n",
    "end\n",
    "\n",
    "function get_ego_vehicle(pomdp::UrbanPOMDP, o::Vector{Float64})\n",
    "    obs = deepcopy(o)\n",
    "    unrescale!(obs, pomdp)\n",
    "    x,y,θ,v = obs[1:pomdp.n_features]\n",
    "    ego_state = VehicleState(VecSE2(x,y,θ), pomdp.env.roadway, v)\n",
    "    ego = Vehicle(ego_state, pomdp.ego_type, EGO_ID)\n",
    "    return ego\n",
    "end"
   ]
  },
  {
   "cell_type": "code",
   "execution_count": 43,
   "metadata": {},
   "outputs": [
    {
     "data": {
      "image/png": "[encoded data removed]",
      "text/plain": [
       "Cairo.CairoSurfaceBase{UInt32}(Ptr{Nothing} @0x000000000c590620, 1000.0, 600.0)"
      ]
     },
     "execution_count": 43,
     "metadata": {},
     "output_type": "execute_result"
    }
   ],
   "source": [
    "sc = most_likely_scene(pomdp, hist.belief_hist[2])\n",
    "AutoViz.render(sc, pomdp.env, cam=cam)"
   ]
  },
  {
   "cell_type": "code",
   "execution_count": 16,
   "metadata": {},
   "outputs": [],
   "source": [
    "struct MultipleInterpolatedBeliefsOverlay <: SceneOverlay\n",
    "    beliefs::Dict{NTuple{3, Int64}, PedCarRNNBelief}\n",
    "    pomdp::UrbanPOMDP\n",
    "    mdp::PedCarMDP\n",
    "    pedcar_pomdp::UrbanPOMDP\n",
    "    models::Dict{Int64, DriverModel}\n",
    "end\n",
    "\n",
    "function AutoViz.render!(rendermodel::RenderModel, overlay::MultipleInterpolatedBeliefsOverlay , scene::Scene, env::OccludedEnv)\n",
    "    for (ids, b) in overlay.beliefs \n",
    "        for j=1:length(b.predictions)\n",
    "            obs = obs_to_scene(overlay.pedcar_pomdp, b.predictions[j])\n",
    "            itp_overlay = InterpolationOverlay(overlay.mdp, overlay.models, obs, car_id=ids[1], ped_id=ids[2])\n",
    "            render!(rendermodel, itp_overlay, scene, env)\n",
    "        end\n",
    "    end\n",
    "end"
   ]
  },
  {
   "cell_type": "code",
   "execution_count": null,
   "metadata": {},
   "outputs": [],
   "source": [
    "pedcar_beliefs = create_pedcar_beliefs(pomdp, b)\n",
    "InterpolationOverlay(mdp, ai[end], obs_to_scene(pedcar_pomdp, ai[end-1][i].predictions[j])) for j=1:n_models for i in keys(ai[end-1])]..."
   ]
  },
  {
   "cell_type": "code",
   "execution_count": 12,
   "metadata": {},
   "outputs": [
    {
     "data": {
      "text/html": [
       "2 methods for generic function <b>Type</b>:<ul><li> (::<b>Type{InterpolationOverlay}</b>)<i>{M}</i>(verbosity::<b>Int64</b>, color::<b>Colorant</b>, font_size::<b>Int64</b>, id::<b>Int64</b>, mdp::<b>M</b>, models::<b>Dict{Int64,DriverModel}</b>, ped_id::<b>Int64</b>, car_id::<b>Int64</b>, obs::<b>Frame{Entity{VehicleState,VehicleDef,Int64}}</b>) in Main at <a href=\"https://github.com/MaximeBouton/AutomotiveSafeRL/tree/0ec35f211f14a515940bdca34c68e7dc1d36daa1//src/render_helpers.jl#L227\" target=\"_blank\">/mnt/c/Users/Maxime/OneDrive - Leland Stanford Junior University/Research/AutomotiveSafeRL/src/render_helpers.jl:227</a></li> <li> (::<b>Type{InterpolationOverlay}</b>)<i>{M<:Union{CarMDP, PedMDP, PedCarMDP}}</i>(mdp::<b>M</b>, models::<b>Dict{Int64,DriverModel}</b>, obs::<b>Frame{Entity{VehicleState,VehicleDef,Int64}}</b>; <i>id, verbosity, color, font_size, ped_id, car_id</i>) in Main at <a href=\"https://github.com/MaximeBouton/AutomotiveSafeRL/tree/0ec35f211f14a515940bdca34c68e7dc1d36daa1//src/render_helpers.jl#L246\" target=\"_blank\">/mnt/c/Users/Maxime/OneDrive - Leland Stanford Junior University/Research/AutomotiveSafeRL/src/render_helpers.jl:246</a></li> </ul>"
      ],
      "text/plain": [
       "# 2 methods for generic function \"(::Type)\":\n",
       "[1] (::Type{InterpolationOverlay})(verbosity::Int64, color::Colorant, font_size::Int64, id::Int64, mdp::M, models::Dict{Int64,DriverModel}, ped_id::Int64, car_id::Int64, obs::Frame{Entity{VehicleState,VehicleDef,Int64}}) where M in Main at /mnt/c/Users/Maxime/OneDrive - Leland Stanford Junior University/Research/AutomotiveSafeRL/src/render_helpers.jl:227\n",
       "[2] (::Type{InterpolationOverlay})(mdp::M, models::Dict{Int64,DriverModel}, obs::Frame{Entity{VehicleState,VehicleDef,Int64}}; id, verbosity, color, font_size, ped_id, car_id) where M<:Union{CarMDP, PedMDP, PedCarMDP} in Main at /mnt/c/Users/Maxime/OneDrive - Leland Stanford Junior University/Research/AutomotiveSafeRL/src/render_helpers.jl:246"
      ]
     },
     "execution_count": 12,
     "metadata": {},
     "output_type": "execute_result"
    }
   ],
   "source": [
    "methods(InterpolationOverlay)"
   ]
  },
  {
   "cell_type": "code",
   "execution_count": null,
   "metadata": {},
   "outputs": [],
   "source": []
  }
 ],
 "metadata": {
  "@webio": {
   "lastCommId": "24ab342cec7443b886b6a59f00e49fb1",
   "lastKernelId": "8399b962-d151-4615-ba1c-bff753f1186b"
  },
  "kernelspec": {
   "display_name": "Julia 1.0.0",
   "language": "julia",
   "name": "julia-1.0"
  },
  "language_info": {
   "file_extension": ".jl",
   "mimetype": "application/julia",
   "name": "julia",
   "version": "1.0.0"
  }
 },
 "nbformat": 4,
 "nbformat_minor": 2
}
