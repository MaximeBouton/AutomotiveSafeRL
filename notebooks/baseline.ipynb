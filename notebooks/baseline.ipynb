{
 "cells": [
  {
   "cell_type": "code",
   "execution_count": 1,
   "metadata": {},
   "outputs": [
    {
     "name": "stderr",
     "output_type": "stream",
     "text": [
      "WARNING: Method definition info(Any...) in module Base at util.jl:532 overwritten in module Logging at /mnt/c/Users/Maxime/wsl/.julia/v0.6/Logging/src/Logging.jl:115.\n",
      "WARNING: Method definition warn(Any...) in module Base at util.jl:585 overwritten in module Logging at /mnt/c/Users/Maxime/wsl/.julia/v0.6/Logging/src/Logging.jl:115.\n",
      "WARNING: static parameter S does not occur in signature for solve_chunk at /mnt/c/Users/Maxime/wsl/.julia/v0.6/DiscreteValueIteration/src/parallel.jl:117.\n",
      "The method will not be callable.\n",
      "WARNING: Method definition copy!(Array{Float64, 1}, AutomotiveDrivingModels.LatLonAccel) in module AutomotiveDrivingModels at /mnt/c/Users/Maxime/wsl/.julia/v0.6/AutomotiveDrivingModels/src/2d/actions/lat_lon_accel.jl:13 overwritten in module AutoUrban at /mnt/c/Users/Maxime/wsl/.julia/v0.6/AutoUrban/src/simulation/actions.jl:10.\n"
     ]
    }
   ],
   "source": [
    "rng = MersenneTwister(1)\n",
    "using AutomotivePOMDPs\n",
    "using MDPModelChecking\n",
    "using GridInterpolations, StaticArrays, POMDPs, POMDPToolbox, AutoViz, AutomotiveDrivingModels, Reel\n",
    "using DeepQLearning, DeepRL\n",
    "using DiscreteValueIteration\n",
    "using ProgressMeter, Parameters, JLD\n",
    "include(\"util.jl\")\n",
    "include(\"masking.jl\")\n",
    "include(\"render_helpers.jl\")"
   ]
  },
  {
   "cell_type": "code",
   "execution_count": 10,
   "metadata": {},
   "outputs": [
    {
     "data": {
      "text/plain": [
       "reset_policy! (generic function with 1 method)"
      ]
     },
     "execution_count": 10,
     "metadata": {},
     "output_type": "execute_result"
    }
   ],
   "source": [
    "mutable struct UrbanDriverPolicy <: Policy\n",
    "    pomdp::UrbanPOMDP\n",
    "    model::UrbanDriver\n",
    "end\n",
    "\n",
    "# define baseline policy \n",
    "function evaluation_loop(pomdp::UrbanPOMDP, policy::UrbanDriverPolicy; n_ep::Int64 = 1000, max_steps::Int64 = 500, rng::AbstractRNG = Base.GLOBAL_RNG)\n",
    "    rewards = zeros(n_ep)\n",
    "    steps = zeros(n_ep)\n",
    "    violations = zeros(n_ep)\n",
    "    up = FastPreviousObservationUpdater{obs_type(pomdp)}()\n",
    "    for ep=1:n_ep\n",
    "        policy = UrbanDriverPolicy(pomdp) # reset states\n",
    "        s0 = initialstate(pomdp, rng)\n",
    "        o0 = generate_o(pomdp, s0, rng)\n",
    "        b0 = initialize_belief(up, o0)\n",
    "        hr = HistoryRecorder(max_steps=max_steps, rng=rng)\n",
    "        hist = simulate(hr, pomdp, policy, up, b0, s0);\n",
    "        rewards[ep] = discounted_reward(hist)\n",
    "        steps[ep] = n_steps(hist)\n",
    "        # violations[ep] = sum(hist.reward_hist .< 0.)\n",
    "        violations[ep] = is_crash(hist.state_hist[end])#sum(hist.reward_hist .<= -1.) #+ Int(n_steps(hist) >= max_steps)\n",
    "    end\n",
    "    return rewards, steps, violations\n",
    "end\n",
    "\n",
    "function  AutomotivePOMDPs.get_conflict_lanes(crosswalk::Lane, roadway::Roadway)\n",
    "    # find lane intersecting with crosswalk\n",
    "    cw_seg = AutomotivePOMDPs.lane_to_segment(crosswalk, roadway)\n",
    "    conflict_lanes = Lane[]\n",
    "    lanes = get_lanes(roadway)\n",
    "    push!(lanes, roadway[LaneTag(6,1)])\n",
    "    push!(lanes, roadway[LaneTag(13,1)])\n",
    "    push!(lanes, roadway[LaneTag(14,1)])\n",
    "    for lane in lanes\n",
    "        lane_seg = AutomotivePOMDPs.lane_to_segment(lane, roadway)\n",
    "        if intersects(lane_seg, cw_seg) && !(lane ∈ conflict_lanes)\n",
    "            push!(conflict_lanes, lane)\n",
    "        end\n",
    "    end\n",
    "    return conflict_lanes\n",
    "end\n",
    "\n",
    "function UrbanDriverPolicy(pomdp::UrbanPOMDP)\n",
    "    route = [pomdp.env.roadway[l] for l in AutomotivePOMDPs.get_ego_route(pomdp.env)]\n",
    "    intersection_entrances = Lane[pomdp.env.roadway[l] for l in [LaneTag(3,1), LaneTag(1,1), LaneTag(6, 1)]]\n",
    "    if !(route[1] ∈ intersection_entrances)\n",
    "        intersection = Lane[]\n",
    "        intersection_exits = Lane[]\n",
    "    else\n",
    "        intersection_exits = get_exit_lanes(pomdp.env.roadway)\n",
    "        intersection=Lane[route[1], route[2]]\n",
    "    end\n",
    "    navigator = RouteFollowingIDM(route=route, a_max=2.)\n",
    "    intersection_driver = StopIntersectionDriver(navigator= navigator,\n",
    "                                                intersection=intersection,\n",
    "                                                intersection_entrances = intersection_entrances,\n",
    "                                                intersection_exits = intersection_exits,\n",
    "                                                stop_delta=maximum(pomdp.env.params.crosswalk_width),\n",
    "                                                accel_tol=0.,\n",
    "                                                priorities = pomdp.env.priorities)\n",
    "#     intersection_driver = TTCIntersectionDriver(navigator = navigator,\n",
    "#                                                         intersection = intersection,\n",
    "#                                                         intersection_pos = VecSE2(pomdp.env.params.inter_x,\n",
    "#                                                                                   pomdp.env.params.inter_y),\n",
    "#                                                         stop_delta = maximum(pomdp.env.params.crosswalk_width),\n",
    "#                                                         accel_tol = 0.,\n",
    "#                                                         priorities = pomdp.env.priorities,\n",
    "#                                                         ttc_threshold = (pomdp.env.params.x_max - pomdp.env.params.inter_x)/pomdp.env.params.speed_limit\n",
    "#                                                         )\n",
    "    crosswalk_drivers = Vector{CrosswalkDriver}(length(pomdp.env.crosswalks))\n",
    "    # println(\"adding veh \", new_car.id)\n",
    "    for i=1:length(pomdp.env.crosswalks)\n",
    "        cw_conflict_lanes = get_conflict_lanes(pomdp.env.crosswalks[i], pomdp.env.roadway)\n",
    "        crosswalk_drivers[i] = CrosswalkDriver(navigator = navigator,\n",
    "                                crosswalk = pomdp.env.crosswalks[i],\n",
    "                                conflict_lanes = cw_conflict_lanes,\n",
    "                                intersection_entrances = intersection_entrances,\n",
    "                                yield=!isempty(intersect(cw_conflict_lanes, route)),\n",
    "                                stop_delta = 1.0\n",
    "                                )\n",
    "        # println(\" yield to cw \", i, \" \", crosswalk_drivers[i].yield)\n",
    "    end\n",
    "    model = UrbanDriver(navigator=navigator,\n",
    "                        intersection_driver=intersection_driver,\n",
    "                        crosswalk_drivers=crosswalk_drivers\n",
    "                        )\n",
    "    return UrbanDriverPolicy(pomdp, model)\n",
    "end\n",
    "\n",
    "function POMDPs.action(policy::UrbanDriverPolicy, o::Array{Float64, 1})\n",
    "    s = obs_to_scene(pomdp, o)\n",
    "    observe!(policy.model, s, policy.pomdp.env.roadway, EGO_ID)\n",
    "    return UrbanAction(policy.model.a.a_lon)\n",
    "end\n",
    "\n",
    "function reset_policy!(policy::UrbanDriverPolicy)    \n",
    "end\n"
   ]
  },
  {
   "cell_type": "code",
   "execution_count": 13,
   "metadata": {},
   "outputs": [],
   "source": [
    "params = UrbanParams(nlanes_main=1,\n",
    "                     crosswalk_pos =  [VecSE2(6, 0., pi/2), VecSE2(-6, 0., pi/2), VecSE2(0., -5., 0.)],\n",
    "                     crosswalk_length =  [14.0, 14., 14.0],\n",
    "                     crosswalk_width = [4.0, 4.0, 3.1],\n",
    "                     stop_line = 22.0)\n",
    "env = UrbanEnv(params=params)\n",
    "\n",
    "pomdp = UrbanPOMDP(env=env,\n",
    "                   ego_goal = LaneTag(2, 1),\n",
    "                   max_cars=1, \n",
    "                   max_peds=1, \n",
    "                   car_birth=0.3, \n",
    "                   ped_birth=0.3, \n",
    "                   obstacles=false, # no fixed obstacles\n",
    "                   lidar=false,\n",
    "                   pos_obs_noise = 0., # fully observable\n",
    "                   vel_obs_noise = 0.);\n",
    "policy = UrbanDriverPolicy(pomdp);"
   ]
  },
  {
   "cell_type": "code",
   "execution_count": 14,
   "metadata": {},
   "outputs": [
    {
     "data": {
      "text/plain": [
       "AutomotivePOMDPs.CrosswalkDriver\n",
       "  a: AutomotivePOMDPs.LonAccelDirection\n",
       "  navigator: AutomotivePOMDPs.RouteFollowingIDM\n",
       "  crosswalk: AutomotiveDrivingModels.Lane\n",
       "  conflict_lanes: Array{AutomotiveDrivingModels.Lane}((2,))\n",
       "  intersection_entrances: Array{AutomotiveDrivingModels.Lane}((3,))\n",
       "  ped_model: AutomotivePOMDPs.ConstantPedestrian\n",
       "  ped_start: Float64 4.0\n",
       "  stop_delta: Float64 1.0\n",
       "  accel_tol: Float64 0.1\n",
       "  d_tol: Float64 0.5\n",
       "  yield: Bool true\n",
       "  priority: Bool false\n",
       "  stop: Bool false\n",
       "  wait_list: Array{Int64}((0,)) Int64[]\n",
       "  clear: Bool false\n",
       "  debug: Bool false\n"
      ]
     },
     "execution_count": 14,
     "metadata": {},
     "output_type": "execute_result"
    }
   ],
   "source": [
    "policy.model.crosswalk_drivers[3]"
   ]
  },
  {
   "cell_type": "code",
   "execution_count": 15,
   "metadata": {},
   "outputs": [
    {
     "data": {
      "text/plain": [
       "false"
      ]
     },
     "execution_count": 15,
     "metadata": {},
     "output_type": "execute_result"
    }
   ],
   "source": [
    "model = policy.model.crosswalk_drivers[3]\n",
    "model.yield\n",
    "model.priority\n",
    "policy = UrbanDriverPolicy(pomdp);\n",
    "model.debug = false"
   ]
  },
  {
   "cell_type": "code",
   "execution_count": 16,
   "metadata": {},
   "outputs": [
    {
     "name": "stdout",
     "output_type": "stream",
     "text": [
      "  0.230155 seconds (517.03 k allocations: 16.903 MiB, 15.79% gc time)\n"
     ]
    }
   ],
   "source": [
    "hr = HistoryRecorder(rng=rng, max_steps=100)\n",
    "s0 = initialstate(pomdp, rng)\n",
    "o0 = generate_o(pomdp, s0, rng)\n",
    "up = FastPreviousObservationUpdater{UrbanObs}()\n",
    "b0 = initialize_belief(up, o0)\n",
    "@time hist2 = simulate(hr, pomdp, policy, up, b0, s0);"
   ]
  },
  {
   "cell_type": "code",
   "execution_count": 17,
   "metadata": {},
   "outputs": [
    {
     "data": {
      "text/html": [
       "<video autoplay controls><source src=\"files/reel-12296020285314151500.webm?3926047037672062496\" type=\"video/webm\"></video>"
      ],
      "text/plain": [
       "Reel.Frames{MIME{Symbol(\"image/png\")}}(\"/tmp/tmpO4tUAW\", 0x0000000000000032, 2.0, nothing)"
      ]
     },
     "execution_count": 17,
     "metadata": {},
     "output_type": "execute_result"
    }
   ],
   "source": [
    "h = hist2\n",
    "state_hist = h.state_hist\n",
    "action_hist = h.action_hist\n",
    "duration, fps, render_hist = animate_hist(pomdp, h)\n",
    "film = roll(render_hist, fps = fps, duration = duration)"
   ]
  },
  {
   "cell_type": "code",
   "execution_count": 18,
   "metadata": {},
   "outputs": [
    {
     "name": "stdout",
     "output_type": "stream",
     "text": [
      "765.854915 seconds (4.72 G allocations: 145.075 GiB, 9.32% gc time)\n",
      "Summary for 10000 episodes: \n",
      "Average reward: 0.142 \n",
      "Average # of steps: 45.720 \n",
      "Average # of violations: 1.530 \n"
     ]
    }
   ],
   "source": [
    "# evaluate resulting policy\n",
    "@time rewards_mask, steps_mask, violations_mask = evaluation_loop(pomdp, policy, n_ep=10000, max_steps=100, rng=rng);\n",
    "print_summary(rewards_mask, steps_mask, violations_mask)"
   ]
  },
  {
   "cell_type": "code",
   "execution_count": 185,
   "metadata": {},
   "outputs": [
    {
     "name": "stdout",
     "output_type": "stream",
     "text": [
      "Crash\n",
      "  5.638042 seconds (83.47 M allocations: 2.712 GiB, 18.89% gc time)\n"
     ]
    }
   ],
   "source": [
    "@time for ep=1:10000\n",
    "    policy = UrbanDriverPolicy(pomdp) \n",
    "    hr = HistoryRecorder(rng=rng, max_steps=100)\n",
    "    s0 = initialstate(pomdp, rng)\n",
    "    o0 = generate_o(pomdp, s0, rng)\n",
    "    up = FastPreviousObservationUpdater{UrbanObs}()\n",
    "    b0 = initialize_belief(up, o0)\n",
    "    hist2 = simulate(hr, pomdp, policy, up, b0, s0)\n",
    "    if sum(hist2.reward_hist .< 0.) != 0.\n",
    "        println(\"Crash\")\n",
    "        break\n",
    "    end\n",
    "end"
   ]
  },
  {
   "cell_type": "code",
   "execution_count": null,
   "metadata": {},
   "outputs": [],
   "source": []
  }
 ],
 "metadata": {
  "kernelspec": {
   "display_name": "Julia 0.6.1",
   "language": "julia",
   "name": "julia-0.6"
  },
  "language_info": {
   "file_extension": ".jl",
   "mimetype": "application/julia",
   "name": "julia",
   "version": "0.6.1"
  }
 },
 "nbformat": 4,
 "nbformat_minor": 2
}
