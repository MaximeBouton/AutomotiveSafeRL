{
 "cells": [
  {
   "cell_type": "markdown",
   "metadata": {},
   "source": [
    "# Intersection with a crosswalk"
   ]
  },
  {
   "cell_type": "markdown",
   "metadata": {},
   "source": [
    "**Load dependencies**"
   ]
  },
  {
   "cell_type": "code",
   "execution_count": 1,
   "metadata": {},
   "outputs": [
    {
     "name": "stdout",
     "output_type": "stream",
     "text": [
      "loaded\n"
     ]
    },
    {
     "name": "stderr",
     "output_type": "stream",
     "text": [
      "┌ Info: Precompiling DiscreteValueIteration [4b033969-44f6-5439-a48b-c11fa3648068]\n",
      "└ @ Base loading.jl:1186\n",
      "┌ Info: Precompiling MDPModelChecking [abefb91b-a28c-5ab9-9bd9-026e532d7b0e]\n",
      "└ @ Base loading.jl:1186\n",
      "┌ Info: Recompiling stale cache file /mnt/c/Users/Maxime/wsl/.julia/compiled/v1.0/AutomotivePOMDPs/L1lsd.ji for AutomotivePOMDPs [dca8afc0-c686-11e8-0934-712707da73aa]\n",
      "└ @ Base loading.jl:1184\n",
      "┌ Warning: Module DiscreteValueIteration with build ID 291671178944001 is missing from the cache.\n",
      "│ This may mean DiscreteValueIteration [4b033969-44f6-5439-a48b-c11fa3648068] does not support precompilation but is imported by a module that does.\n",
      "└ @ Base loading.jl:941\n",
      "┌ Info: Recompiling stale cache file /mnt/c/Users/Maxime/wsl/.julia/compiled/v1.0/PedCar/NmDDZ.ji for PedCar [90cf7f26-d5c7-593d-a0e1-4a8367407571]\n",
      "└ @ Base loading.jl:1184\n",
      "┌ Warning: Module AutomotivePOMDPs with build ID 291697359647096 is missing from the cache.\n",
      "│ This may mean AutomotivePOMDPs [dca8afc0-c686-11e8-0934-712707da73aa] does not support precompilation but is imported by a module that does.\n",
      "└ @ Base loading.jl:941\n"
     ]
    }
   ],
   "source": [
    "using Revise\n",
    "using Random\n",
    "using Printf\n",
    "using DataStructures\n",
    "using Flux\n",
    "using POMDPs\n",
    "using POMDPModelTools\n",
    "using POMDPSimulators\n",
    "using BeliefUpdaters\n",
    "using POMDPPolicies\n",
    "using DiscreteValueIteration\n",
    "using MDPModelChecking\n",
    "using StaticArrays\n",
    "using RLInterface\n",
    "using DeepQLearning\n",
    "using AutomotiveDrivingModels\n",
    "using AutomotivePOMDPs\n",
    "using AutomotiveSensors\n",
    "using LocalApproximationValueIteration\n",
    "using Reel\n",
    "using AutoViz\n",
    "using ProgressMeter\n",
    "using JLD2\n",
    "using FileIO\n",
    "using BSON\n",
    "using PedCar"
   ]
  },
  {
   "cell_type": "code",
   "execution_count": 2,
   "metadata": {},
   "outputs": [],
   "source": [
    "includet(\"../src/masking.jl\")\n",
    "includet(\"../src/masked_dqn.jl\")\n",
    "includet(\"../src/qmdp_approximation.jl\")\n",
    "includet(\"../src/decomposed_tracking.jl\")\n",
    "includet(\"../src/decomposition.jl\")\n",
    "includet(\"../src/util.jl\")\n",
    "includet(\"../src/render_helpers.jl\")"
   ]
  },
  {
   "cell_type": "code",
   "execution_count": 3,
   "metadata": {},
   "outputs": [],
   "source": [
    "rng = MersenneTwister(1);\n",
    "cam = FitToContentCamera(0.);"
   ]
  },
  {
   "cell_type": "markdown",
   "metadata": {},
   "source": [
    "## Scenario"
   ]
  },
  {
   "cell_type": "code",
   "execution_count": 4,
   "metadata": {},
   "outputs": [],
   "source": [
    "params = UrbanParams(nlanes_main=1,\n",
    "                     crosswalk_pos =[VecSE2(6, 0., pi/2), VecSE2(-6, 0., pi/2), VecSE2(0., -5., 0.)],\n",
    "                     crosswalk_length =  [14.0, 14., 14.0],\n",
    "                     crosswalk_width = [4.0, 4.0, 3.1],\n",
    "                     stop_line = 22.0)\n",
    "env = UrbanEnv(params=params);"
   ]
  },
  {
   "cell_type": "markdown",
   "metadata": {},
   "source": [
    "** Discrete states MDP **"
   ]
  },
  {
   "cell_type": "code",
   "execution_count": 5,
   "metadata": {},
   "outputs": [],
   "source": [
    "mdp = PedCarMDP(env=env, pos_res=2.0, vel_res=2., ped_birth=0.7, car_birth=0.7);\n",
    "init_transition!(mdp);"
   ]
  },
  {
   "cell_type": "code",
   "execution_count": 6,
   "metadata": {},
   "outputs": [
    {
     "name": "stdout",
     "output_type": "stream",
     "text": [
      "spatial resolution 2.0 m \n",
      "pedestrian velocity resolution 1.0 m/s \n",
      "car velocity resolution 2.0 m/s \n",
      "number of states 23456940 \n",
      "number of actions 4 \n"
     ]
    }
   ],
   "source": [
    "@printf(\"spatial resolution %2.1f m \\n\", mdp.pos_res)\n",
    "@printf(\"pedestrian velocity resolution %2.1f m/s \\n\", mdp.vel_ped_res)\n",
    "@printf(\"car velocity resolution %2.1f m/s \\n\", mdp.vel_res)\n",
    "@printf(\"number of states %d \\n\", n_states(mdp))\n",
    "@printf(\"number of actions %d \\n\", n_actions(mdp))"
   ]
  },
  {
   "cell_type": "markdown",
   "metadata": {},
   "source": [
    "**Continuous states MDP**"
   ]
  },
  {
   "cell_type": "code",
   "execution_count": 7,
   "metadata": {},
   "outputs": [],
   "source": [
    "pomdp = UrbanPOMDP(env=env,\n",
    "                   sensor = PerfectSensor(),\n",
    "                   ego_goal = LaneTag(2, 1),\n",
    "                   max_cars=1, \n",
    "                   max_peds=1, \n",
    "                   car_birth=0.7, \n",
    "                   ped_birth=0.7, \n",
    "                   max_obstacles=0., # no fixed obstacles\n",
    "                   lidar=false,\n",
    "                   ego_start=20,\n",
    "                   ΔT=0.1);"
   ]
  },
  {
   "cell_type": "markdown",
   "metadata": {},
   "source": [
    "## Load policies"
   ]
  },
  {
   "cell_type": "code",
   "execution_count": 8,
   "metadata": {},
   "outputs": [],
   "source": [
    "@load \"../pc_util_processed.jld2\" qmat util pol\n",
    "safe_policy = ValueIterationPolicy(mdp, qmat, util, pol);"
   ]
  },
  {
   "cell_type": "code",
   "execution_count": 9,
   "metadata": {},
   "outputs": [],
   "source": [
    "threshold = 0.99\n",
    "mask = SafetyMask(mdp, safe_policy, threshold);\n",
    "continuous_safe_policy = SafePOMDPPolicy(mask, pomdp)\n",
    "discrete_safe_random = MaskedEpsGreedyPolicy(mdp, 1.0, mask, rng)\n",
    "continuous_safe_random = RandomMaskedPOMDPPolicy(mask, pomdp, rng);"
   ]
  },
  {
   "cell_type": "code",
   "execution_count": 10,
   "metadata": {},
   "outputs": [],
   "source": [
    "qnetwork = BSON.load(\"../training_scripts/drqn-log/log20/model.bson\")[:qnetwork]\n",
    "weights = BSON.load(\"../training_scripts/drqn-log/log20/qnetwork.bson\")[:qnetwork]\n",
    "Flux.loadparams!(qnetwork, weights)\n",
    "dqn_policy = NNPolicy(pomdp, qnetwork, actions(pomdp), 1)\n",
    "masked_policy = MaskedNNPolicy(pomdp, dqn_policy, mask);"
   ]
  },
  {
   "cell_type": "markdown",
   "metadata": {},
   "source": [
    "# Evaluation"
   ]
  },
  {
   "cell_type": "markdown",
   "metadata": {},
   "source": [
    "**Discrete Environment: Safe Policy**"
   ]
  },
  {
   "cell_type": "code",
   "execution_count": 27,
   "metadata": {},
   "outputs": [
    {
     "name": "stderr",
     "output_type": "stream",
     "text": [
      "\u001b[32mProgress: 100%|█████████████████████████████████████████|  ETA: 0:00:00\u001b[39m"
     ]
    },
    {
     "name": "stdout",
     "output_type": "stream",
     "text": [
      " 49.799191 seconds (85.13 M allocations: 13.086 GiB, 7.09% gc time)\n",
      "Summary for 10000 episodes: \n",
      "Average reward: 0.140 \n",
      "Average # of steps: 62.053 \n",
      "Average # of violations: 0.000 \n"
     ]
    },
    {
     "name": "stderr",
     "output_type": "stream",
     "text": [
      "\r",
      "\u001b[32mProgress: 100%|█████████████████████████████████████████|  ETA: 0:00:00\u001b[39m\r",
      "\u001b[32mProgress: 100%|█████████████████████████████████████████| Time: 0:00:49\u001b[39m\n"
     ]
    }
   ],
   "source": [
    "@time rewards_mask, steps_mask, violations_mask = evaluation_loop(mdp, safe_policy, n_ep=10000, max_steps=400, rng=rng);\n",
    "print_summary(rewards_mask, steps_mask, violations_mask)"
   ]
  },
  {
   "cell_type": "markdown",
   "metadata": {},
   "source": [
    "**Discrete Environment: Safe Random**"
   ]
  },
  {
   "cell_type": "code",
   "execution_count": 28,
   "metadata": {},
   "outputs": [
    {
     "name": "stderr",
     "output_type": "stream",
     "text": [
      "\u001b[32mProgress: 100%|█████████████████████████████████████████|  ETA: 0:00:00\u001b[39m"
     ]
    },
    {
     "name": "stdout",
     "output_type": "stream",
     "text": [
      " 90.058251 seconds (218.71 M allocations: 26.146 GiB, 8.40% gc time)\n",
      "Summary for 10000 episodes: \n",
      "Average reward: 0.046 \n",
      "Average # of steps: 89.810 \n",
      "Average # of violations: 1.820 \n"
     ]
    },
    {
     "name": "stderr",
     "output_type": "stream",
     "text": [
      "\r",
      "\u001b[32mProgress: 100%|█████████████████████████████████████████|  ETA: 0:00:00\u001b[39m\r",
      "\u001b[32mProgress: 100%|█████████████████████████████████████████| Time: 0:01:30\u001b[39m\n"
     ]
    }
   ],
   "source": [
    "@time rewards_mask, steps_mask, violations_mask = evaluation_loop(mdp, discrete_safe_random, n_ep=10000, max_steps=400, rng=rng);\n",
    "print_summary(rewards_mask, steps_mask, violations_mask)"
   ]
  },
  {
   "cell_type": "markdown",
   "metadata": {},
   "source": [
    "**Continuous Environment: Safe Policy**"
   ]
  },
  {
   "cell_type": "code",
   "execution_count": 29,
   "metadata": {},
   "outputs": [
    {
     "name": "stderr",
     "output_type": "stream",
     "text": [
      "\u001b[32mProgress: 100%|█████████████████████████████████████████|  ETA: 0:00:01\u001b[39m"
     ]
    },
    {
     "name": "stdout",
     "output_type": "stream",
     "text": [
      "711.440730 seconds (3.11 G allocations: 228.324 GiB, 17.27% gc time)\n",
      "Summary for 1000 episodes: \n",
      "Average reward: 0.002 \n",
      "Average # of steps: 242.466 \n",
      "Average # of violations: 0.000 \n"
     ]
    },
    {
     "name": "stderr",
     "output_type": "stream",
     "text": [
      "\r",
      "\u001b[32mProgress: 100%|█████████████████████████████████████████| Time: 0:11:51\u001b[39m\n"
     ]
    }
   ],
   "source": [
    "@time rewards_mask, steps_mask, violations_mask = evaluation_loop(pomdp, continuous_safe_policy, n_ep=1000, max_steps=400, rng=rng);\n",
    "print_summary(rewards_mask, steps_mask, violations_mask)"
   ]
  },
  {
   "cell_type": "markdown",
   "metadata": {},
   "source": [
    "**Continuous Environment: Safe Random**"
   ]
  },
  {
   "cell_type": "code",
   "execution_count": 14,
   "metadata": {},
   "outputs": [
    {
     "name": "stderr",
     "output_type": "stream",
     "text": [
      "\u001b[32mProgress: 100%|█████████████████████████████████████████|  ETA: 0:00:01\u001b[39m"
     ]
    },
    {
     "name": "stdout",
     "output_type": "stream",
     "text": [
      "981.297739 seconds (5.36 G allocations: 390.018 GiB, 13.89% gc time)\n",
      "Summary for 1000 episodes: \n",
      "Average reward: 0.000 \n",
      "Average # of steps: 385.710 \n",
      "Average # of violations: 0.000 \n"
     ]
    },
    {
     "name": "stderr",
     "output_type": "stream",
     "text": [
      "\r",
      "\u001b[32mProgress: 100%|█████████████████████████████████████████| Time: 0:16:21\u001b[39m\n"
     ]
    }
   ],
   "source": [
    "@time rewards_mask, steps_mask, violations_mask = evaluation_loop(pomdp, continuous_safe_random, n_ep=1000, max_steps=400, rng=rng);\n",
    "print_summary(rewards_mask, steps_mask, violations_mask)"
   ]
  },
  {
   "cell_type": "markdown",
   "metadata": {},
   "source": [
    "###### **Continuous Environment: Safe RL**"
   ]
  },
  {
   "cell_type": "code",
   "execution_count": 30,
   "metadata": {},
   "outputs": [
    {
     "name": "stderr",
     "output_type": "stream",
     "text": [
      "\u001b[32mProgress: 100%|█████████████████████████████████████████|  ETA: 0:00:00\u001b[39m"
     ]
    },
    {
     "name": "stdout",
     "output_type": "stream",
     "text": [
      "343.845547 seconds (1.26 G allocations: 91.655 GiB, 15.52% gc time)\n",
      "Summary for 1000 episodes: \n",
      "Average reward: 0.017 \n",
      "Average # of steps: 116.405 \n",
      "Average # of violations: 0.100 \n"
     ]
    },
    {
     "name": "stderr",
     "output_type": "stream",
     "text": [
      "\r",
      "\u001b[32mProgress: 100%|█████████████████████████████████████████| Time: 0:05:44\u001b[39m\n"
     ]
    }
   ],
   "source": [
    "@time rewards_mask, steps_mask, violations_mask = evaluation_loop(pomdp, masked_policy, n_ep=1000, max_steps=400, rng=rng);\n",
    "print_summary(rewards_mask, steps_mask, violations_mask)"
   ]
  },
  {
   "cell_type": "code",
   "execution_count": 17,
   "metadata": {},
   "outputs": [
    {
     "name": "stdout",
     "output_type": "stream",
     "text": [
      "Evaluation ... Avg Reward 0.98 | Violations (%) 0.20 | Avg Steps 116.02"
     ]
    },
    {
     "data": {
      "text/plain": [
       "0.979"
      ]
     },
     "execution_count": 17,
     "metadata": {},
     "output_type": "execute_result"
    }
   ],
   "source": [
    "evaluation_policy = masked_evaluation(mask)\n",
    "scores_eval = DeepQLearning.evaluation(evaluation_policy, dqn_policy, POMDPEnvironment(pomdp),                                  \n",
    "                         1000,\n",
    "                         400,\n",
    "                         true)"
   ]
  },
  {
   "cell_type": "markdown",
   "metadata": {},
   "source": [
    "**Collisions analysis**"
   ]
  },
  {
   "cell_type": "code",
   "execution_count": 11,
   "metadata": {},
   "outputs": [],
   "source": [
    "test_policy = masked_policy;"
   ]
  },
  {
   "cell_type": "code",
   "execution_count": 16,
   "metadata": {},
   "outputs": [
    {
     "name": "stdout",
     "output_type": "stream",
     "text": [
      "  0.210581 seconds (732.30 k allocations: 54.844 MiB, 36.61% gc time)\n"
     ]
    }
   ],
   "source": [
    "hr = HistoryRecorder(rng=rng, max_steps=400)\n",
    "s0 = initialstate(pomdp, rng)\n",
    "up = PreviousObservationUpdater()\n",
    "o0 = generate_o(pomdp, s0, UrbanAction(0.), s0, rng)\n",
    "b0 = initialize_belief(up, o0)\n",
    "@time hist2 = simulate(hr, pomdp, test_policy, up, b0, s0);"
   ]
  },
  {
   "cell_type": "code",
   "execution_count": 17,
   "metadata": {},
   "outputs": [],
   "source": [
    "function POMDPModelTools.generate_sori(pomdp::UrbanPOMDP, s::Scene, a::UrbanAction, rng::AbstractRNG)\n",
    "    sp, o, r = generate_sor(pomdp, s, a, rng)\n",
    "    return sp, o, r, deepcopy(pomdp.models)\n",
    "end"
   ]
  },
  {
   "cell_type": "code",
   "execution_count": 12,
   "metadata": {},
   "outputs": [
    {
     "name": "stderr",
     "output_type": "stream",
     "text": [
      "\u001b[32mProgress:  37%|███████████████                          |  ETA: 0:24:51\u001b[39mm"
     ]
    },
    {
     "name": "stdout",
     "output_type": "stream",
     "text": [
      "Crash\n"
     ]
    },
    {
     "name": "stderr",
     "output_type": "stream",
     "text": [
      "\r",
      "\u001b[32mProgress:  37%|███████████████                          |  ETA: 0:24:52\u001b[39m\r",
      "\u001b[32mProgress: 100%|█████████████████████████████████████████| Time: 0:14:28\u001b[39m\n"
     ]
    }
   ],
   "source": [
    "function find_collision(pomdp, test_policy, rng)\n",
    "    up = PreviousObservationUpdater()\n",
    "    @showprogress for ep=1:10000\n",
    "        hr = HistoryRecorder(rng=rng, max_steps=400)\n",
    "        s0 = initialstate(pomdp, rng)\n",
    "        o0 = generate_o(pomdp, s0, UrbanAction(0.), s0, rng)\n",
    "        b0 = initialize_belief(up, o0)\n",
    "        hist2 = simulate(hr, pomdp, test_policy, up, b0, s0)\n",
    "        if sum(hist2.reward_hist .< 0.) != 0.\n",
    "            println(\"Crash\")\n",
    "            return hist2\n",
    "        end\n",
    "    end\n",
    "    return hist2 \n",
    "end\n",
    "hist2 = find_collision(pomdp, test_policy, rng);"
   ]
  },
  {
   "cell_type": "code",
   "execution_count": 13,
   "metadata": {},
   "outputs": [
    {
     "data": {
      "text/html": [
       "<video autoplay controls><source src=\"files/reel-16962936228523309651.webm?13253815893135055804\" type=\"video/webm\"></video>"
      ],
      "text/plain": [
       "Frames{MIME{Symbol(\"image/png\")}}(\"/tmp/tmpIL2hzk\", 0x000000000000014c, 20.0, nothing)"
      ]
     },
     "execution_count": 13,
     "metadata": {},
     "output_type": "execute_result"
    }
   ],
   "source": [
    "h = hist2\n",
    "state_hist = h.state_hist\n",
    "action_hist = h.action_hist\n",
    "belief_hist = h.belief_hist\n",
    "safe_acts = [i[1] for i in h.ainfo_hist]\n",
    "probas = [i[2] for i in h.ainfo_hist]\n",
    "routes = [i[3] for i in h.ainfo_hist]\n",
    "\n",
    "push!(safe_acts, [UrbanAction(NaN)])\n",
    "push!(probas, [NaN])\n",
    "push!(routes, PedCar.OFF_ROUTE)\n",
    "push!(action_hist, UrbanAction(NaN))\n",
    "duration, fps, render_hist = animate_states(pomdp, state_hist, action_hist, belief_hist, safe_acts, probas, routes, mask, interp=true, obsviz=true)\n",
    "speed_factor = 2\n",
    "film = roll(render_hist, fps = speed_factor*fps, duration = duration/speed_factor)"
   ]
  },
  {
   "cell_type": "code",
   "execution_count": 14,
   "metadata": {},
   "outputs": [],
   "source": [
    "hist = hist2\n",
    "step = 318\n",
    "s = hist.state_hist[step]\n",
    "models = hist.info_hist[step]\n",
    "o = generate_o(pomdp, s, rng);"
   ]
  },
  {
   "cell_type": "code",
   "execution_count": 22,
   "metadata": {},
   "outputs": [
    {
     "data": {
      "text/plain": [
       "4.925162298159967"
      ]
     },
     "execution_count": 22,
     "metadata": {},
     "output_type": "execute_result"
    }
   ],
   "source": [
    "veh.state.v"
   ]
  },
  {
   "cell_type": "code",
   "execution_count": 15,
   "metadata": {},
   "outputs": [
    {
     "ename": "MethodError",
     "evalue": "MethodError: no method matching getindex(::Nothing, ::Int64)\nClosest candidates are:\n  getindex(::Any, !Matched::AbstractTrees.ImplicitRootState) at /mnt/c/Users/Maxime/wsl/.julia/packages/AbstractTrees/gbHmA/src/AbstractTrees.jl:344",
     "output_type": "error",
     "traceback": [
      "MethodError: no method matching getindex(::Nothing, ::Int64)\nClosest candidates are:\n  getindex(::Any, !Matched::AbstractTrees.ImplicitRootState) at /mnt/c/Users/Maxime/wsl/.julia/packages/AbstractTrees/gbHmA/src/AbstractTrees.jl:344",
      "",
      "Stacktrace:",
      " [1] top-level scope at In[15]:6"
     ]
    }
   ],
   "source": [
    "hist = hist2\n",
    "step = 318\n",
    "s = hist.state_hist[step]\n",
    "vehid = 2\n",
    "veh = s[findfirst(vehid, s)]\n",
    "m = hist.info_hist[step][vehid]\n",
    "cwid = 2\n",
    "cwm = m.crosswalk_drivers[cwid]\n",
    "intm = m.intersection_driver\n",
    "\n",
    "[l.tag for l in intm.navigator.route]"
   ]
  },
  {
   "cell_type": "code",
   "execution_count": 18,
   "metadata": {},
   "outputs": [
    {
     "data": {
      "text/plain": [
       "PedCarMDPState(false, VehicleState(VecSE2({0.108, -0.344}, 2.298), Frenet(RoadIndex({12, 0.111909}, {13, 1}), 4.000, 0.000, 0.000), 2.000), VehicleState(VecSE2({-6.000, -1.000}, 1.571), Frenet(RoadIndex({1, 0.428571}, {18, 1}), 6.000, 0.000, 0.000), 1.000), VehicleState(VecSE2({24.000, 1.500}, 3.142), Frenet(RoadIndex({1, 0.250000}, {1, 1}), 6.000, 0.000, 0.000), 4.000), LaneTag[LaneTag(1, 1), LaneTag(5, 1)])"
      ]
     },
     "execution_count": 18,
     "metadata": {},
     "output_type": "execute_result"
    }
   ],
   "source": [
    "s_mdp = get_mdp_state(mdp, pomdp.models, s, 101, 2)\n",
    "s_itp, w_itp = interpolate_state(mdp, s_mdp)\n",
    "sdisc = s_itp[argmax(w_itp)]"
   ]
  },
  {
   "cell_type": "code",
   "execution_count": 43,
   "metadata": {},
   "outputs": [
    {
     "name": "stdout",
     "output_type": "stream",
     "text": [
      "Vehicle 2 : emergency break\n",
      "veh 2 | clogged true | passed false | engaged true | stop false| right of way true\n"
     ]
    },
    {
     "data": {
      "text/plain": [
       "TTCIntersectionDriver\n",
       "  a: LonAccelDirection\n",
       "  navigator: RouteFollowingIDM\n",
       "  intersection: Array{Lane}((2,))\n",
       "  intersection_pos: VecSE2{Float64}\n",
       "  ttc_threshold: Float64 3.0\n",
       "  horizon: Float64 20.0\n",
       "  stop_delta: Float64 4.0\n",
       "  accel_tol: Float64 0.0\n",
       "  priorities: Dict{Tuple{LaneTag,LaneTag},Bool}\n",
       "  priority: Bool false\n",
       "  stop: Bool true\n"
      ]
     },
     "execution_count": 43,
     "metadata": {},
     "output_type": "execute_result"
    },
    {
     "name": "stderr",
     "output_type": "stream",
     "text": [
      "┌ Warning: /home/maxime/Maxime/OneDrive - Leland Stanford Junior University/Research/AutomotivePOMDPs/src/driver_models is not an existing directory, Revise is not watching\n",
      "└ @ Revise /mnt/c/Users/Maxime/wsl/.julia/packages/Revise/TmjcT/src/Revise.jl:361\n"
     ]
    }
   ],
   "source": [
    "AutomotivePOMDPs.is_intersection_clogged(intm, s, env.roadway, vehid)\n",
    "AutomotivePOMDPs.engaged(intm, s, env.roadway, vehid)\n",
    "AutomotiveDrivingModels.observe!(deepcopy(intm), s, env.roadway, vehid)"
   ]
  },
  {
   "cell_type": "code",
   "execution_count": 42,
   "metadata": {},
   "outputs": [
    {
     "data": {
      "text/plain": [
       "Vehicle(2, VehicleState(VecSE2({4.349, 1.500}, 3.142), Frenet(RoadIndex({1, 0.137579}, {7, 1}), 1.651, 0.000, 0.000), 2.200), VehicleDef(CAR, 4.000, 1.800))"
      ]
     },
     "execution_count": 42,
     "metadata": {},
     "output_type": "execute_result"
    }
   ],
   "source": [
    "s[2]"
   ]
  },
  {
   "cell_type": "markdown",
   "metadata": {},
   "source": [
    "### Collision analysis in the discrete MDP"
   ]
  },
  {
   "cell_type": "code",
   "execution_count": 49,
   "metadata": {},
   "outputs": [
    {
     "name": "stdout",
     "output_type": "stream",
     "text": [
      "  0.296488 seconds (162.34 k allocations: 9.622 MiB)\n"
     ]
    }
   ],
   "source": [
    "hr = HistoryRecorder(rng=rng, max_steps=400)\n",
    "s0 = initialstate(mdp, rng)\n",
    "@time hist2 = simulate(hr, mdp, discrete_safe_random, s0);"
   ]
  },
  {
   "cell_type": "code",
   "execution_count": 47,
   "metadata": {},
   "outputs": [
    {
     "name": "stderr",
     "output_type": "stream",
     "text": [
      "\u001b[32mProgress:  35%|██████████████                           |  ETA: 0:22:44\u001b[39m"
     ]
    },
    {
     "name": "stdout",
     "output_type": "stream",
     "text": [
      "Crash\n"
     ]
    },
    {
     "name": "stderr",
     "output_type": "stream",
     "text": [
      "\r",
      "\u001b[32mProgress:  35%|██████████████                           |  ETA: 0:22:44\u001b[39m\r",
      "\u001b[32mProgress: 100%|█████████████████████████████████████████| Time: 0:12:02\u001b[39m\n"
     ]
    }
   ],
   "source": [
    "function find_collision(mdp::MDP, test_policy, rng)\n",
    "    @showprogress for ep=1:10000\n",
    "        hr = HistoryRecorder(rng=rng, max_steps=400)\n",
    "        s0 = initialstate(mdp, rng)\n",
    "        hist2 = simulate(hr, mdp, test_policy, s0);\n",
    "        if sum(hist2.reward_hist .< 0.) != 0.\n",
    "            println(\"Crash\")\n",
    "            return hist2\n",
    "        end\n",
    "    end\n",
    "    return hist2\n",
    "end\n",
    "hist2 = find_collision(mdp, safe_policy, rng);"
   ]
  },
  {
   "cell_type": "code",
   "execution_count": 50,
   "metadata": {},
   "outputs": [
    {
     "data": {
      "text/html": [
       "<video autoplay controls><source src=\"files/reel-7519734376669645315.webm?15533403556393032667\" type=\"video/webm\"></video>"
      ],
      "text/plain": [
       "Frames{MIME{Symbol(\"image/png\")}}(\"/tmp/tmpB62XHi\", 0x0000000000000056, 4.0, nothing)"
      ]
     },
     "execution_count": 50,
     "metadata": {},
     "output_type": "execute_result"
    }
   ],
   "source": [
    "push!(hist2.action_hist, UrbanAction(NaN))\n",
    "duration, fps, render_hist = animate_states(mdp, hist2.state_hist, hist2.action_hist, mask, overlays=SceneOverlay[IDOverlay()])\n",
    "speed_factor = 2\n",
    "film = roll(render_hist, fps = speed_factor*fps, duration = duration/speed_factor)"
   ]
  },
  {
   "cell_type": "markdown",
   "metadata": {},
   "source": [
    "## Analyze value at custom state"
   ]
  },
  {
   "cell_type": "code",
   "execution_count": 76,
   "metadata": {},
   "outputs": [
    {
     "data": {
      "image/png": "[encoded data removed]",
      "text/plain": [
       "Cairo.CairoSurfaceBase{UInt32}(Ptr{Nothing} @0x0000000013b83ef0, 1000.0, 600.0)"
      ]
     },
     "execution_count": 76,
     "metadata": {},
     "output_type": "execute_result"
    }
   ],
   "source": [
    "# Set car parameter\n",
    "car_on = true\n",
    "car_s0 = 15.\n",
    "car_v0 = 6.\n",
    "car_posF = Frenet(env.roadway[LaneTag(1, 1)], car_s0)\n",
    "car = Vehicle(VehicleState(car_posF, env.roadway, car_v0), pomdp.car_type, 2)\n",
    "\n",
    "# Set pedestrian parameter\n",
    "ped_on = false\n",
    "ped_s0 = 5.\n",
    "ped_v0 = 0.\n",
    "ped_posF = Frenet(env.ped_roadway[LaneTag(18,1)], ped_s0, 0., 0.) # choose between 17, 18, 19\n",
    "ped = Vehicle(VehicleState(ped_posF, env.roadway, ped_v0), pomdp.ped_type, 101)\n",
    "\n",
    "# Set ego vehicle \n",
    "ego_s0 = 5.\n",
    "ego_v0 = 0.\n",
    "ego_posF = Frenet(env.roadway[LaneTag(13, 1)], ego_s0)\n",
    "ego = Vehicle(VehicleState(ego_posF, env.roadway, ego_v0), pomdp.car_type, 1)\n",
    "\n",
    "s_mdp = PedCarMDPState(false, ego.state, ped.state, car.state, SVector(LaneTag(1,1), LaneTag(2,1)))\n",
    "itp_s, itp_weight = interpolate_state(mdp, s_mdp)\n",
    "s_mdp = itp_s[argmax(itp_weight)]\n",
    "\n",
    "s = Scene()\n",
    "push!(s, car)\n",
    "push!(s, ped)\n",
    "push!(s, ego)\n",
    "\n",
    "AutoViz.render(s, env, cam=cam)"
   ]
  },
  {
   "cell_type": "code",
   "execution_count": 31,
   "metadata": {},
   "outputs": [
    {
     "name": "stdout",
     "output_type": "stream",
     "text": [
      "  0.224134 seconds (91.07 k allocations: 6.063 MiB, 7.57% gc time)\n"
     ]
    },
    {
     "data": {
      "text/html": [
       "<video autoplay controls><source src=\"files/reel-2900696624454577397.webm?4145493046255603085\" type=\"video/webm\"></video>"
      ],
      "text/plain": [
       "Frames{MIME{Symbol(\"image/png\")}}(\"/tmp/tmpSqiXOB\", 0x0000000000000191, 4.0, nothing)"
      ]
     },
     "execution_count": 31,
     "metadata": {},
     "output_type": "execute_result"
    }
   ],
   "source": [
    "hr = HistoryRecorder(rng=rng, max_steps=400)\n",
    "s0 = sdisc\n",
    "@time hist2 = simulate(hr, mdp, FunctionPolicy(s->UrbanAction(-4.0)), s0);\n",
    "push!(hist2.action_hist, UrbanAction(NaN))\n",
    "duration, fps, render_hist = animate_states(mdp, hist2.state_hist, hist2.action_hist, mask, overlays=SceneOverlay[IDOverlay()])\n",
    "speed_factor = 2\n",
    "film = roll(render_hist, fps = speed_factor*fps, duration = duration/speed_factor)"
   ]
  },
  {
   "cell_type": "code",
   "execution_count": 46,
   "metadata": {},
   "outputs": [
    {
     "ename": "SystemError",
     "evalue": "SystemError: opening file /mnt/c/Users/Maxime/wsl/.julia/compiled/v1.0/PedCar/NmDDZ.ji: No such file or directory",
     "output_type": "error",
     "traceback": [
      "SystemError: opening file /mnt/c/Users/Maxime/wsl/.julia/compiled/v1.0/PedCar/NmDDZ.ji: No such file or directory",
      "",
      "Stacktrace:",
      " [1] #systemerror#39(::Nothing, ::Function, ::String, ::Bool) at ./error.jl:106",
      " [2] systemerror at ./error.jl:106 [inlined]",
      " [3] #open#293(::Bool, ::Nothing, ::Nothing, ::Nothing, ::Nothing, ::Function, ::String) at ./iostream.jl:283",
      " [4] #open at ./none:0 [inlined]",
      " [5] open(::String, ::String) at ./iostream.jl:339",
      " [6] read_dependency_src(::String, ::String) at ./loading.jl:1309",
      " [7] read_from_cache(::Revise.FileInfo, ::String) at /mnt/c/Users/Maxime/wsl/.julia/packages/Revise/TmjcT/src/pkgs.jl:156",
      " [8] maybe_parse_from_cache!(::Revise.FileInfo, ::String) at /mnt/c/Users/Maxime/wsl/.julia/packages/Revise/TmjcT/src/pkgs.jl:162",
      " [9] revise_file_now(::String) at /mnt/c/Users/Maxime/wsl/.julia/packages/Revise/TmjcT/src/Revise.jl:413",
      " [10] revise() at /mnt/c/Users/Maxime/wsl/.julia/packages/Revise/TmjcT/src/Revise.jl:458",
      " [11] #invokelatest#1 at ./essentials.jl:686 [inlined]",
      " [12] invokelatest at ./essentials.jl:685 [inlined]",
      " [13] execute_request(::ZMQ.Socket, ::IJulia.Msg) at /mnt/c/Users/Maxime/wsl/.julia/packages/IJulia/DL02A/src/execute_request.jl:59",
      " [14] #invokelatest#1 at ./essentials.jl:686 [inlined]",
      " [15] invokelatest at ./essentials.jl:685 [inlined]",
      " [16] eventloop(::ZMQ.Socket) at /mnt/c/Users/Maxime/wsl/.julia/packages/IJulia/DL02A/src/eventloop.jl:8",
      " [17] (::getfield(IJulia, Symbol(\"##12#15\")))() at ./task.jl:259"
     ]
    }
   ],
   "source": [
    "# o = generate_o(pomdp, s, rng)\n",
    "o = hist2.observation_hist[18]\n",
    "s = hist2.state_hist[19]\n",
    "ego = s[findfirst(EGO_ID, s)]\n",
    "car = s[findfirst(CAR_ID, s)]\n",
    "ped = s[findfirst(PED_ID, s)]\n",
    "println(ego)\n",
    "scene = Scene()\n",
    "push!(scene, ego)\n",
    "push!(scene, car)\n",
    "push!(scene, Vehicle(VehicleState(ped_posF, env.roadway, ped_v0), pomdp.ped_type, 101))"
   ]
  },
  {
   "cell_type": "code",
   "execution_count": 26,
   "metadata": {},
   "outputs": [
    {
     "name": "stdout",
     "output_type": "stream",
     "text": [
      "Probas [0.998689, 0.998689, 0.998689, 0.995578]\n"
     ]
    }
   ],
   "source": [
    "o = generate_o(pomdp, s, rng)\n",
    "a, ai = action_info(continuous_safe_policy, o)\n",
    "sa, probs, route = ai\n",
    "println(\"Probas \", probs)"
   ]
  },
  {
   "cell_type": "code",
   "execution_count": 99,
   "metadata": {},
   "outputs": [
    {
     "data": {
      "text/plain": [
       "3-element VecSE2{Float64}:\n",
       " 6.0               \n",
       " 3.0000000000000018\n",
       " 1.5707963267948966"
      ]
     },
     "execution_count": 99,
     "metadata": {},
     "output_type": "execute_result"
    }
   ],
   "source": [
    "ped.state.posG"
   ]
  },
  {
   "cell_type": "code",
   "execution_count": 75,
   "metadata": {},
   "outputs": [
    {
     "data": {
      "text/plain": [
       "3-element VecSE2{Float64}:\n",
       " 26.000000000000004\n",
       " -1.5              \n",
       "  0.0              "
      ]
     },
     "execution_count": 75,
     "metadata": {},
     "output_type": "execute_result"
    }
   ],
   "source": [
    "car.state.posG"
   ]
  },
  {
   "cell_type": "code",
   "execution_count": null,
   "metadata": {},
   "outputs": [],
   "source": []
  }
 ],
 "metadata": {
  "kernelspec": {
   "display_name": "Julia 1.0.0",
   "language": "julia",
   "name": "julia-1.0"
  },
  "language_info": {
   "file_extension": ".jl",
   "mimetype": "application/julia",
   "name": "julia",
   "version": "1.0.0"
  }
 },
 "nbformat": 4,
 "nbformat_minor": 2
}
