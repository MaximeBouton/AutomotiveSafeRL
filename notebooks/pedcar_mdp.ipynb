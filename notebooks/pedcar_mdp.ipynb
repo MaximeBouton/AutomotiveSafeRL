{
 "cells": [
  {
   "cell_type": "markdown",
   "metadata": {},
   "source": [
    "# Intersection with a crosswalk"
   ]
  },
  {
   "cell_type": "markdown",
   "metadata": {},
   "source": [
    "**Load dependencies**"
   ]
  },
  {
   "cell_type": "code",
   "execution_count": 1,
   "metadata": {},
   "outputs": [
    {
     "name": "stderr",
     "output_type": "stream",
     "text": [
      "┌ Info: Recompiling stale cache file /mnt/c/Users/Maxime/wsl/.julia/compiled/v1.0/Flux/QdkVy.ji for Flux [587475ba-b771-5e3f-ad9e-33799f191a9c]\n",
      "└ @ Base loading.jl:1184\n",
      "┌ Info: Recompiling stale cache file /mnt/c/Users/Maxime/wsl/.julia/compiled/v1.0/POMDPSimulators/i1HOp.ji for POMDPSimulators [e0d0a172-29c6-5d4e-96d0-f262df5d01fd]\n",
      "└ @ Base loading.jl:1184\n"
     ]
    },
    {
     "name": "stdout",
     "output_type": "stream",
     "text": [
      "loaded\n"
     ]
    },
    {
     "name": "stderr",
     "output_type": "stream",
     "text": [
      "┌ Info: Recompiling stale cache file /mnt/c/Users/Maxime/wsl/.julia/compiled/v1.0/MDPModelChecking/XrC4q.ji for MDPModelChecking [abefb91b-a28c-5ab9-9bd9-026e532d7b0e]\n",
      "└ @ Base loading.jl:1184\n",
      "WARNING: eval from module __anon__ to MDPModelChecking:    \n",
      "Expr(:toplevel, Expr(:const, :Abc = 0), Expr(:const, :Pnn = 1), Expr(:const, :SHARED_PTR_DISOWN = 0), Expr(:const, :SwigPyIterator = PyCall.PyObject(o=0x0000000002e0f6e8)), Expr(:const, :SwigPyIterator_swigregister = PyCall.PyObject(o=0x00007fcc144323f0)), Expr(:const, :__builtins__ = Base.Dict{Any, Any}(slots=Array{UInt8, (256,)}[0x01, 0x01, 0x00, 0x01, 0x01, 0x00, 0x00, 0x00, 0x00, 0x01, 0x01, 0x01, 0x00, 0x00, 0x01, 0x00, 0x00, 0x00, 0x01, 0x00, 0x00, 0x01, 0x01, 0x00, 0x00, 0x00, 0x01, 0x00, 0x01, 0x01, 0x01, 0x00, 0x01, 0x01, 0x01, 0x01, 0x00, 0x01, 0x00, 0x01, 0x00, 0x00, 0x01, 0x01, 0x01, 0x01, 0x01, 0x01, 0x01, 0x01, 0x00, 0x00, 0x00, 0x01, 0x00, 0x00, 0x01, 0x01, 0x00, 0x00, 0x01, 0x01, 0x01, 0x00, 0x00, 0x01, 0x01, 0x00, 0x01, 0x01, 0x01, 0x01, 0x01, 0x00, 0x00, 0x01, 0x01, 0x00, 0x00, 0x00, 0x00, 0x00, 0x01, 0x01, 0x01, 0x01, 0x01, 0x01, 0x00, 0x00, 0x01, 0x01, 0x01, 0x01, 0x01, 0x01, 0x01, 0x01, 0x00, 0x01, 0x01, 0x00, 0x01, 0x01, 0x01, 0x00, 0x01, 0x00, 0x00, 0x00, 0x00, 0x00, 0x01, 0x00, 0x01, 0x01, 0x01, 0x01, 0x01, 0x01, 0x01, 0x01, 0x01, 0x01, 0x01, 0x01, 0x00, 0x00, 0x00, 0x00, 0x00, 0x00, 0x01, 0x01, 0x01, 0x01, 0x01, 0x01, 0x00, 0x01, 0x01, 0x00, 0x00, 0x01, 0x00, 0x00, 0x00, 0x01, 0x01, 0x00, 0x00, 0x01, 0x01, 0x00, 0x01, 0x00, 0x00, 0x01, 0x01, 0x01, 0x01, 0x00, 0x01, 0x00, 0x01, 0x00, 0x01, 0x00, 0x01, 0x00, 0x00, 0x01, 0x00, 0x00, 0x00, 0x01, 0x01, 0x00, 0x00, 0x00, 0x01, 0x00, 0x00, 0x01, 0x00, 0x00, 0x00, 0x01, 0x01, 0x01, 0x01, 0x01, 0x01, 0x01, 0x01, 0x01, 0x01, 0x00, 0x01, 0x01, 0x01, 0x01, 0x00, 0x00, 0x00, 0x00, 0x00, 0x01, 0x01, 0x01, 0x01, 0x01, 0x01, 0x01, 0x01, 0x01, 0x01, 0x01, 0x00, 0x00, 0x00, 0x00, 0x01, 0x00, 0x00, 0x00, 0x00, 0x00, 0x00, 0x00, 0x01, 0x01, 0x01, 0x01, 0x01, 0x01, 0x01, 0x01, 0x00, 0x01, 0x01, 0x01, 0x00, 0x01, 0x01, 0x01, 0x01, 0x01, 0x01, 0x00, 0x01, 0x00, 0x01, 0x01, 0x01, 0x01], keys=Array{Any, (256,)}[\n",
      "  \"StopAsyncIteration\",\n",
      "  \"FileNotFoundError\",\n",
      "  #<null>,\n",
      "  \"bytearray\",\n",
      "  \"complex\",\n",
      "  #<null>,\n",
      "  #<null>,\n",
      "  #<null>,\n",
      "  #<null>,\n",
      "  \"compile\",\n",
      "  \"__build_class__\",\n",
      "  \"sorted\",\n",
      "  #<null>,\n",
      "  #<null>,\n",
      "  \"issubclass\",\n",
      "  #<null>,\n",
      "  #<null>,\n",
      "  #<null>,\n",
      "  \"memoryview\",\n",
      "  #<null>,\n",
      "  #<null>,\n",
      "  \"range\",\n",
      "  \"UserWarning\",\n",
      "  #<null>,\n",
      "  #<null>,\n",
      "  #<null>,\n",
      "  \"len\",\n",
      "  #<null>,\n",
      "  \"float\",\n",
      "  \"getattr\",\n",
      "  \"round\",\n",
      "  #<null>,\n",
      "  \"int\",\n",
      "  \"list\",\n",
      "  \"TabError\",\n",
      "  \"hex\",\n",
      "  #<null>,\n",
      "  \"oct\",\n",
      "  #<null>,\n",
      "  \"StopIteration\",\n",
      "  #<null>,\n",
      "  #<null>,\n",
      "  \"setattr\",\n",
      "  \"iter\",\n",
      "  \"input\",\n",
      "  \"SyntaxError\",\n",
      "  \"ArithmeticError\",\n",
      "  \"staticmethod\",\n",
      "  \"OSError\",\n",
      "  \"FileExistsError\",\n",
      "  #<null>,\n",
      "  #<null>,\n",
      "  #<null>,\n",
      "  \"set\",\n",
      "  #<null>,\n",
      "  #<null>,\n",
      "  \"globals\",\n",
      "  \"SystemExit\",\n",
      "  #<null>,\n",
      "  #<null>,\n",
      "  \"AttributeError\",\n",
      "  \"UnicodeWarning\",\n",
      "  \"super\",\n",
      "  #<null>,\n",
      "  #<null>,\n",
      "  \"__package__\",\n",
      "  \"sum\",\n",
      "  #<null>,\n",
      "  \"__name__\",\n",
      "  \"slice\",\n",
      "  \"ModuleNotFoundError\",\n",
      "  \"ChildProcessError\",\n",
      "  \"BufferError\",\n",
      "  #<null>,\n",
      "  #<null>,\n",
      "  \"zip\",\n",
      "  \"PendingDeprecationWarning\",\n",
      "  #<null>,\n",
      "  #<null>,\n",
      "  #<null>,\n",
      "  #<null>,\n",
      "  #<null>,\n",
      "  \"format\",\n",
      "  \"InterruptedError\",\n",
      "  \"classmethod\",\n",
      "  \"__spec__\",\n",
      "  \"map\",\n",
      "  \"SystemError\",\n",
      "  #<null>,\n",
      "  #<null>,\n",
      "  \"NotImplemented\",\n",
      "  \"UnicodeError\",\n",
      "  \"bool\",\n",
      "  \"copyright\",\n",
      "  \"credits\",\n",
      "  \"UnicodeEncodeError\",\n",
      "  \"None\",\n",
      "  \"OverflowError\",\n",
      "  #<null>,\n",
      "  \"ZeroDivisionError\",\n",
      "  \"max\",\n",
      "  #<null>,\n",
      "  \"KeyboardInterrupt\",\n",
      "  \"chr\",\n",
      "  \"__import__\",\n",
      "  #<null>,\n",
      "  \"Exception\",\n",
      "  #<null>,\n",
      "  #<null>,\n",
      "  #<null>,\n",
      "  #<null>,\n",
      "  #<null>,\n",
      "  \"NotADirectoryError\",\n",
      "  #<null>,\n",
      "  \"BytesWarning\",\n",
      "  \"exit\",\n",
      "  \"print\",\n",
      "  \"bin\",\n",
      "  \"str\",\n",
      "  \"ImportError\",\n",
      "  \"RuntimeWarning\",\n",
      "  \"KeyError\",\n",
      "  \"open\",\n",
      "  \"UnicodeTranslateError\",\n",
      "  \"repr\",\n",
      "  \"license\",\n",
      "  #<null>,\n",
      "  #<null>,\n",
      "  #<null>,\n",
      "  #<null>,\n",
      "  #<null>,\n",
      "  #<null>,\n",
      "  \"IsADirectoryError\",\n",
      "  \"UnicodeDecodeError\",\n",
      "  \"ProcessLookupError\",\n",
      "  \"any\",\n",
      "  \"tuple\",\n",
      "  \"ReferenceError\",\n",
      "  #<null>,\n",
      "  \"locals\",\n",
      "  \"RecursionError\",\n",
      "  #<null>,\n",
      "  #<null>,\n",
      "  \"PermissionError\",\n",
      "  #<null>,\n",
      "  #<null>,\n",
      "  #<null>,\n",
      "  \"Ellipsis\",\n",
      "  \"FloatingPointError\",\n",
      "  #<null>,\n",
      "  #<null>,\n",
      "  \"reversed\",\n",
      "  \"id\",\n",
      "  #<null>,\n",
      "  \"UnboundLocalError\",\n",
      "  #<null>,\n",
      "  #<null>,\n",
      "  \"eval\",\n",
      "  \"abs\",\n",
      "  \"Warning\",\n",
      "  \"ConnectionResetError\",\n",
      "  #<null>,\n",
      "  \"__doc__\",\n",
      "  #<null>,\n",
      "  \"GeneratorExit\",\n",
      "  #<null>,\n",
      "  \"RuntimeError\",\n",
      "  #<null>,\n",
      "  \"EOFError\",\n",
      "  #<null>,\n",
      "  #<null>,\n",
      "  \"divmod\",\n",
      "  #<null>,\n",
      "  #<null>,\n",
      "  #<null>,\n",
      "  \"LookupError\",\n",
      "  \"NotImplementedError\",\n",
      "  #<null>,\n",
      "  #<null>,\n",
      "  #<null>,\n",
      "  \"pow\",\n",
      "  #<null>,\n",
      "  #<null>,\n",
      "  \"__debug__\",\n",
      "  #<null>,\n",
      "  #<null>,\n",
      "  #<null>,\n",
      "  \"FutureWarning\",\n",
      "  \"ConnectionAbortedError\",\n",
      "  \"dir\",\n",
      "  \"frozenset\",\n",
      "  \"ValueError\",\n",
      "  \"ascii\",\n",
      "  \"ConnectionRefusedError\",\n",
      "  \"exec\",\n",
      "  \"hasattr\",\n",
      "  \"BaseException\",\n",
      "  #<null>,\n",
      "  \"False\",\n",
      "  \"NameError\",\n",
      "  \"filter\",\n",
      "  \"IndentationError\",\n",
      "  #<null>,\n",
      "  #<null>,\n",
      "  #<null>,\n",
      "  #<null>,\n",
      "  #<null>,\n",
      "  \"TimeoutError\",\n",
      "  \"dict\",\n",
      "  \"True\",\n",
      "  \"property\",\n",
      "  \"EnvironmentError\",\n",
      "  \"IOError\",\n",
      "  \"min\",\n",
      "  \"quit\",\n",
      "  \"bytes\",\n",
      "  \"AssertionError\",\n",
      "  \"breakpoint\",\n",
      "  #<null>,\n",
      "  #<null>,\n",
      "  #<null>,\n",
      "  #<null>,\n",
      "  \"ResourceWarning\",\n",
      "  #<null>,\n",
      "  #<null>,\n",
      "  #<null>,\n",
      "  #<null>,\n",
      "  #<null>,\n",
      "  #<null>,\n",
      "  #<null>,\n",
      "  \"next\",\n",
      "  \"callable\",\n",
      "  \"hash\",\n",
      "  \"isinstance\",\n",
      "  \"object\",\n",
      "  \"ImportWarning\",\n",
      "  \"BrokenPipeError\",\n",
      "  \"help\",\n",
      "  #<null>,\n",
      "  \"all\",\n",
      "  \"delattr\",\n",
      "  \"IndexError\",\n",
      "  #<null>,\n",
      "  \"ord\",\n",
      "  \"enumerate\",\n",
      "  \"ConnectionError\",\n",
      "  \"BlockingIOError\",\n",
      "  \"__loader__\",\n",
      "  \"DeprecationWarning\",\n",
      "  #<null>,\n",
      "  \"SyntaxWarning\",\n",
      "  #<null>,\n",
      "  \"MemoryError\",\n",
      "  \"vars\",\n",
      "  \"type\",\n",
      "  \"TypeError\"], vals=Array{Any, (256,)}[\n",
      "  PyCall.PyObject(o=0x00007fcc14e23bc0),\n",
      "  PyCall.PyObject(o=0x00007fcc14e2dd00),\n",
      "  #<null>,\n",
      "  PyCall.PyObject(o=0x00007fcc14e6c420),\n",
      "  PyCall.PyObject(o=0x00007fcc14e6ac80),\n",
      "  #<null>,\n",
      "  #<null>,\n",
      "  #<null>,\n",
      "  #<null>,\n",
      "  PyCall.PyObject(o=0x00007fcc17900c60),\n",
      "  PyCall.PyObject(o=0x00007fcc17900990),\n",
      "  PyCall.PyObject(o=0x00007fcc179074c8),\n",
      "  #<null>,\n",
      "  #<null>,\n",
      "  PyCall.PyObject(o=0x00007fcc179070d8),\n",
      "  #<null>,\n",
      "  #<null>,\n",
      "  #<null>,\n",
      "  PyCall.PyObject(o=0x00007fcc14e667a0),\n",
      "  #<null>,\n",
      "  #<null>,\n",
      "  PyCall.PyObject(o=0x00007fcc14e65aa0),\n",
      "  PyCall.PyObject(o=0x00007fcc14e0a0c0),\n",
      "  #<null>,\n",
      "  #<null>,\n",
      "  #<null>,\n",
      "  PyCall.PyObject(o=0x00007fcc17907168),\n",
      "  #<null>,\n",
      "  PyCall.PyObject(o=0x00007fcc14e68c40),\n",
      "  PyCall.PyObject(o=0x00007fcc17900e58),\n",
      "  PyCall.PyObject(o=0x00007fcc17907438),\n",
      "  #<null>,\n",
      "  PyCall.PyObject(o=0x00007fcc14e6db20),\n",
      "  PyCall.PyObject(o=0x00007fcc14e6cfa0),\n",
      "  PyCall.PyObject(o=0x00007fcc14e37740),\n",
      "  PyCall.PyObject(o=0x00007fcc17900f78),\n",
      "  #<null>,\n",
      "  PyCall.PyObject(o=0x00007fcc179072d0),\n",
      "  #<null>,\n",
      "  PyCall.PyObject(o=0x00007fcc14e481a0),\n",
      "  #<null>,\n",
      "  #<null>,\n",
      "  PyCall.PyObject(o=0x00007fcc17907480),\n",
      "  PyCall.PyObject(o=0x00007fcc17907120),\n",
      "  PyCall.PyObject(o=0x00007fcc17907048),\n",
      "  PyCall.PyObject(o=0x00007fcc14e37ba0),\n",
      "  PyCall.PyObject(o=0x00007fcc14e5adc0),\n",
      "  PyCall.PyObject(o=0x00007fcc14e685a0),\n",
      "  PyCall.PyObject(o=0x00007fcc14e5b5c0),\n",
      "  PyCall.PyObject(o=0x00007fcc14e07780),\n",
      "  #<null>,\n",
      "  #<null>,\n",
      "  #<null>,\n",
      "  PyCall.PyObject(o=0x00007fcc14e655c0),\n",
      "  #<null>,\n",
      "  #<null>,\n",
      "  PyCall.PyObject(o=0x00007fcc17900ea0),\n",
      "  PyCall.PyObject(o=0x00007fcc14e1bb20),\n",
      "  #<null>,\n",
      "  #<null>,\n",
      "  PyCall.PyObject(o=0x00007fcc14e5bea0),\n",
      "  PyCall.PyObject(o=0x00007fcc14e08480),\n",
      "  PyCall.PyObject(o=0x00007fcc14e6c5c0),\n",
      "  #<null>,\n",
      "  #<null>,\n",
      "  \"\",\n",
      "  PyCall.PyObject(o=0x00007fcc17907510),\n",
      "  #<null>,\n",
      "  \"builtins\",\n",
      "  PyCall.PyObject(o=0x00007fcc14e650e0),\n",
      "  PyCall.PyObject(o=0x00007fcc14e08960),\n",
      "  PyCall.PyObject(o=0x00007fcc14e07e00),\n",
      "  PyCall.PyObject(o=0x00007fcc14e1cb40),\n",
      "  #<null>,\n",
      "  #<null>,\n",
      "  PyCall.PyObject(o=0x00007fcc14e63ea0),\n",
      "  PyCall.PyObject(o=0x00007fcc14e08c80),\n",
      "  #<null>,\n",
      "  #<null>,\n",
      "  #<null>,\n",
      "  #<null>,\n",
      "  #<null>,\n",
      "  PyCall.PyObject(o=0x00007fcc17900e10),\n",
      "  PyCall.PyObject(o=0x00007fcc14e072a0),\n",
      "  PyCall.PyObject(o=0x00007fcc14e687c0),\n",
      "  PyCall.PyObject(o=0x00007fcc179395f8),\n",
      "  PyCall.PyObject(o=0x00007fcc14e64040),\n",
      "  PyCall.PyObject(o=0x00007fcc14e5bb60),\n",
      "  #<null>,\n",
      "  #<null>,\n",
      "  PyCall.PyObject(o=0x00007fcc14e6d950),\n",
      "  PyCall.PyObject(o=0x00007fcc14e37d40),\n",
      "  PyCall.PyObject(o=0x00007fcc14e6c900),\n",
      "  PyCall.PyObject(o=0x00007fcc1491ecf8),\n",
      "  PyCall.PyObject(o=0x00007fcc148d02b0),\n",
      "  PyCall.PyObject(o=0x00007fcc14e37fe0),\n",
      "  nothing,\n",
      "  PyCall.PyObject(o=0x00007fcc14e5af60),\n",
      "  #<null>,\n",
      "  PyCall.PyObject(o=0x00007fcc14e3a6e0),\n",
      "  PyCall.PyObject(o=0x00007fcc179071f8),\n",
      "  #<null>,\n",
      "  PyCall.PyObject(o=0x00007fcc14e48be0),\n",
      "  PyCall.PyObject(o=0x00007fcc17900c18),\n",
      "  PyCall.PyObject(o=0x00007fcc179009d8),\n",
      "  #<null>,\n",
      "  PyCall.PyObject(o=0x00007fcc14e5c120),\n",
      "  #<null>,\n",
      "  #<null>,\n",
      "  #<null>,\n",
      "  #<null>,\n",
      "  #<null>,\n",
      "  PyCall.PyObject(o=0x00007fcc14e07440),\n",
      "  #<null>,\n",
      "  PyCall.PyObject(o=0x00007fcc14e082e0),\n",
      "  PyCall.PyObject(o=0x00007fcc1491ebe0),\n",
      "  PyCall.PyObject(o=0x00007fcc179073a8),\n",
      "  PyCall.PyObject(o=0x00007fcc17900b40),\n",
      "  PyCall.PyObject(o=0x00007fcc14e64a60),\n",
      "  PyCall.PyObject(o=0x00007fcc14e5c3a0),\n",
      "  PyCall.PyObject(o=0x00007fcc14e39900),\n",
      "  PyCall.PyObject(o=0x00007fcc14e473a0),\n",
      "  PyCall.PyObject(o=0x00007fcc179767e0),\n",
      "  PyCall.PyObject(o=0x00007fcc14e4cba0),\n",
      "  PyCall.PyObject(o=0x00007fcc179073f0),\n",
      "  PyCall.PyObject(o=0x00007fcc148d0278),\n",
      "  #<null>,\n",
      "  #<null>,\n",
      "  #<null>,\n",
      "  #<null>,\n",
      "  #<null>,\n",
      "  #<null>,\n",
      "  PyCall.PyObject(o=0x00007fcc14e075e0),\n",
      "  PyCall.PyObject(o=0x00007fcc14e4cd40),\n",
      "  PyCall.PyObject(o=0x00007fcc14e06f60),\n",
      "  PyCall.PyObject(o=0x00007fcc17900ab0),\n",
      "  PyCall.PyObject(o=0x00007fcc14e64da0),\n",
      "  PyCall.PyObject(o=0x00007fcc14e09f20),\n",
      "  #<null>,\n",
      "  PyCall.PyObject(o=0x00007fcc179071b0),\n",
      "  PyCall.PyObject(o=0x00007fcc14e40580),\n",
      "  #<null>,\n",
      "  #<null>,\n",
      "  PyCall.PyObject(o=0x00007fcc14e07100),\n",
      "  #<null>,\n",
      "  #<null>,\n",
      "  #<null>,\n",
      "  PyCall.PyObject(o=0x00007fcc14e634d0),\n",
      "  PyCall.PyObject(o=0x00007fcc14e087c0),\n",
      "  #<null>,\n",
      "  #<null>,\n",
      "  PyCall.PyObject(o=0x00007fcc14e69de0),\n",
      "  PyCall.PyObject(o=0x00007fcc17900fc0),\n",
      "  #<null>,\n",
      "  PyCall.PyObject(o=0x00007fcc14e4c7e0),\n",
      "  #<null>,\n",
      "  #<null>,\n",
      "  PyCall.PyObject(o=0x00007fcc17900d80),\n",
      "  PyCall.PyObject(o=0x00007fcc17900a20),\n",
      "  PyCall.PyObject(o=0x00007fcc14e1c5e0),\n",
      "  PyCall.PyObject(o=0x00007fcc14e07920),\n",
      "  #<null>,\n",
      "  \"Built-in functions, exceptions, and other objects.\n",
      "\n",
      "Noteworthy: None is the `nil' object; Ellipsis represents `...' in slices.\",\n",
      "  #<null>,\n",
      "  PyCall.PyObject(o=0x00007fcc14e23d60),\n",
      "  #<null>,\n",
      "  PyCall.PyObject(o=0x00007fcc14e5b760),\n",
      "  #<null>,\n"
     ]
    },
    {
     "name": "stderr",
     "output_type": "stream",
     "text": [
      "  PyCall.PyObject(o=0x00007fcc14e5a6e0),\n",
      "  #<null>,\n",
      "  #<null>,\n",
      "  PyCall.PyObject(o=0x00007fcc17900d38),\n",
      "  #<null>,\n",
      "  #<null>,\n",
      "  #<null>,\n",
      "  PyCall.PyObject(o=0x00007fcc14e47b40),\n",
      "  PyCall.PyObject(o=0x00007fcc14e5a540),\n",
      "  #<null>,\n",
      "  #<null>,\n",
      "  #<null>,\n",
      "  PyCall.PyObject(o=0x00007fcc17907360),\n",
      "  #<null>,\n",
      "  #<null>,\n",
      "  true,\n",
      "  #<null>,\n",
      "  #<null>,\n",
      "  #<null>,\n",
      "  PyCall.PyObject(o=0x00007fcc14e08620),\n",
      "  PyCall.PyObject(o=0x00007fcc14e07c60),\n",
      "  PyCall.PyObject(o=0x00007fcc17900cf0),\n",
      "  PyCall.PyObject(o=0x00007fcc14e65420),\n",
      "  PyCall.PyObject(o=0x00007fcc14e5bd00),\n",
      "  PyCall.PyObject(o=0x00007fcc17900af8),\n",
      "  PyCall.PyObject(o=0x00007fcc14e07ac0),\n",
      "  PyCall.PyObject(o=0x00007fcc17900dc8),\n",
      "  PyCall.PyObject(o=0x00007fcc17900ee8),\n",
      "  PyCall.PyObject(o=0x00007fcc14e63340),\n",
      "  #<null>,\n",
      "  false,\n",
      "  PyCall.PyObject(o=0x00007fcc14e4c640),\n",
      "  PyCall.PyObject(o=0x00007fcc14e641e0),\n",
      "  PyCall.PyObject(o=0x00007fcc14e378e0),\n",
      "  #<null>,\n",
      "  #<null>,\n",
      "  #<null>,\n",
      "  #<null>,\n",
      "  #<null>,\n",
      "  PyCall.PyObject(o=0x00007fcc14e06dc0),\n",
      "  PyCall.PyObject(o=0x00007fcc14e6d140),\n",
      "  true,\n",
      "  PyCall.PyObject(o=0x00007fcc14e6aae0),\n",
      "  PyCall.PyObject(o=0x00007fcc14e5b5c0),\n",
      "  PyCall.PyObject(o=0x00007fcc14e5b5c0),\n",
      "  PyCall.PyObject(o=0x00007fcc17907240),\n",
      "  PyCall.PyObject(o=0x00007fcc1491ec18),\n",
      "  PyCall.PyObject(o=0x00007fcc14e6b9e0),\n",
      "  PyCall.PyObject(o=0x00007fcc14e47e80),\n",
      "  PyCall.PyObject(o=0x00007fcc17900b88),\n",
      "  #<null>,\n",
      "  #<null>,\n",
      "  #<null>,\n",
      "  #<null>,\n",
      "  PyCall.PyObject(o=0x00007fcc14e39ce0),\n",
      "  #<null>,\n",
      "  #<null>,\n",
      "  #<null>,\n",
      "  #<null>,\n",
      "  #<null>,\n",
      "  #<null>,\n",
      "  #<null>,\n",
      "  PyCall.PyObject(o=0x00007fcc17907288),\n",
      "  PyCall.PyObject(o=0x00007fcc17900bd0),\n",
      "  PyCall.PyObject(o=0x00007fcc17900f30),\n",
      "  PyCall.PyObject(o=0x00007fcc17907090),\n",
      "  PyCall.PyObject(o=0x00007fcc14e6c760),\n",
      "  PyCall.PyObject(o=0x00007fcc14e1fa20),\n",
      "  PyCall.PyObject(o=0x00007fcc14e07fa0),\n",
      "  PyCall.PyObject(o=0x00007fcc148d0048),\n",
      "  #<null>,\n",
      "  PyCall.PyObject(o=0x00007fcc17900a68),\n",
      "  PyCall.PyObject(o=0x00007fcc17900ca8),\n",
      "  PyCall.PyObject(o=0x00007fcc14e47ce0),\n",
      "  #<null>,\n",
      "  PyCall.PyObject(o=0x00007fcc17907318),\n",
      "  PyCall.PyObject(o=0x00007fcc14e69c40),\n",
      "  PyCall.PyObject(o=0x00007fcc14e08140),\n",
      "  PyCall.PyObject(o=0x00007fcc14e10400),\n",
      "  PyCall.PyObject(o=0x0000000001e45ca8),\n",
      "  PyCall.PyObject(o=0x00007fcc14e1c1e0),\n",
      "  #<null>,\n",
      "  PyCall.PyObject(o=0x00007fcc14e4c980),\n",
      "  #<null>,\n",
      "  PyCall.PyObject(o=0x00007fcc14e5aa20),\n",
      "  PyCall.PyObject(o=0x00007fcc17907558),\n",
      "  PyCall.PyObject(o=0x00007fcc14e6d7c0),\n"
     ]
    },
    {
     "name": "stderr",
     "output_type": "stream",
     "text": [
      "  PyCall.PyObject(o=0x00007fcc14e5a880)], ndel=0, count=152, age=0x000000000000009a, idxfloor=1, maxprobe=6)), Expr(:const, :__cached__ = \"/mnt/c/Users/Maxime/wsl/.julia/conda/3/lib/python3.7/site-packages/spot/__pycache__/__init__.cpython-37.pyc\"), Expr(:const, :__doc__ = nothing), Expr(:const, :__file__ = \"/mnt/c/Users/Maxime/wsl/.julia/conda/3/lib/python3.7/site-packages/spot/__init__.py\"), Expr(:const, :__loader__ = PyCall.PyObject(o=0x00007fcc1478b5c0)), Expr(:const, :__name__ = \"spot\"), Expr(:const, :__om_init_new = PyCall.PyObject(o=0x00007fcc140bc6a8)), Expr(:const, :__om_init_tmp = PyCall.PyObject(o=0x00007fcc141b5400)), Expr(:const, :__package__ = \"spot\"), Expr(:const, :__path__ = Array{String, (1,)}[\"/mnt/c/Users/Maxime/wsl/.julia/conda/3/lib/python3.7/site-packages/spot\"]), Expr(:const, :__spec__ = PyCall.PyObject(o=0x00007fcc1478b630)), Expr(:const, :_add_formula = PyCall.PyObject(o=0x00007fcc140c71e0)), Expr(:const, :_add_twa_graph = PyCall.PyObject(o=0x00007fcc140c7400)), Expr(:const, :_addfilter = PyCall.PyObject(o=0x00007fcc140c77b8)), Expr(:const, :_addmap = PyCall.PyObject(o=0x00007fcc140c79d8)), Expr(:const, :_bdd_dict = PyCall.PyObject(o=0x00007fcc1479acf8)), Expr(:const, :_extend = PyCall.PyObject(o=0x00007fcc1452ed08)), Expr(:const, :_impl = PyCall.PyObject(o=0x00007fcc144310e8)), Expr(:const, :_ostream_to_svg = PyCall.PyObject(o=0x00007fcc140f38c8)), Expr(:const, :_postproc_translate_options = PyCall.PyObject(o=0x00007fcc140c70d0)), Expr(:const, :_show_default = nothing), Expr(:const, :_str_to_svg = PyCall.PyObject(o=0x00007fcc140f8d68)), Expr(:const, :_supress = PyCall.PyObject(o=0x0000000002e99b28)), Expr(:const, :acc_code = PyCall.PyObject(o=0x0000000003355768)), Expr(:const, :acc_code_buchi = PyCall.PyObject(o=0x00007fcc1443e7e0)), Expr(:const, :acc_code_cobuchi = PyCall.PyObject(o=0x00007fcc1443e828)), Expr(:const, :acc_code_f = PyCall.PyObject(o=0x00007fcc1443e630)), Expr(:const, :acc_code_fin = PyCall.PyObject(o=0x00007fcc1443e6c0)), Expr(:const, :acc_code_fin_neg = PyCall.PyObject(o=0x00007fcc1443e708)), Expr(:const, :acc_code_generalized_buchi = PyCall.PyObject(o=0x00007fcc1443e870)), Expr(:const, :acc_code_generalized_co_buchi = PyCall.PyObject(o=0x00007fcc1443e8b8)), Expr(:const, :acc_code_inf = PyCall.PyObject(o=0x00007fcc1443e750)), Expr(:const, :acc_code_inf_neg = PyCall.PyObject(o=0x00007fcc1443e798)), Expr(:const, :acc_code_parity = PyCall.PyObject(o=0x00007fcc1443e990)), Expr(:const, :acc_code_rabin = PyCall.PyObject(o=0x00007fcc1443e900)), Expr(:const, :acc_code_random = PyCall.PyObject(o=0x00007fcc1443e9d8)), Expr(:const, :acc_code_streett = PyCall.PyObject(o=0x00007fcc1443e948)), Expr(:const, :acc_code_swigregister = PyCall.PyObject(o=0x00007fcc1443f2d0)), Expr(:const, :acc_code_t = PyCall.PyObject(o=0x00007fcc1443e678)), Expr(:const, :acc_cond = PyCall.PyObject(o=0x00000000033dfa48)), Expr(:const, :acc_cond_fin = PyCall.PyObject(o=0x00007fcc1443d168)), Expr(:const, :acc_cond_fin_neg = PyCall.PyObject(o=0x00007fcc1443d1b0)), Expr(:const, :acc_cond_inf = PyCall.PyObject(o=0x00007fcc1443d0d8)), Expr(:const, :acc_cond_inf_neg = PyCall.PyObject(o=0x00007fcc1443d120)), Expr(:const, :acc_cond_swigregister = PyCall.PyObject(o=0x00007fcc1443d798)), Expr(:const, :are_equivalent = PyCall.PyObject(o=0x00007fcc14449a20)), Expr(:const, :atomic_prop_collect = PyCall.PyObject(o=0x00007fcc144421b0)), Expr(:const, :atomic_prop_collect_as_bdd = PyCall.PyObject(o=0x00007fcc144421f8)), Expr(:const, :atomic_prop_set = PyCall.PyObject(o=0x000000000286b558)), Expr(:const, :atomic_prop_set_swigregister = PyCall.PyObject(o=0x00007fcc1443a0d8)), Expr(:const, :automata = PyCall.PyObject(o=0x00007fcc141b5e18)), Expr(:const, :automaton = PyCall.PyObject(o=0x00007fcc140c47b8)), Expr(:const, :automaton_parser_options = PyCall.PyObject(o=0x0000000002d83998)), Expr(:const, :automaton_parser_options_swigregister = PyCall.PyObject(o=0x00007fcc141b03f0)), Expr(:const, :automaton_stream_parser = PyCall.PyObject(o=0x00000000029bc6f8)), Expr(:const, :automaton_stream_parser_swigregister = PyCall.PyObject(o=0x00007fcc141b0558)), Expr(:const, :aux = PyCall.PyObject(o=0x00007fcc14512a48)), Expr(:const, :bdd_dict = PyCall.PyObject(o=0x00000000030a7258)), Expr(:const, :bdd_dict_swigregister = PyCall.PyObject(o=0x00007fcc1443bab0)), Expr(:const, :bdd_format_accset = PyCall.PyObject(o=0x00007fcc1443bc60)), Expr(:const, :bdd_format_formula = PyCall.PyObject(o=0x00007fcc1443bd80)), Expr(:const, :bdd_format_isop = PyCall.PyObject(o=0x00007fcc1443be10)), Expr(:const, :bdd_format_sat = PyCall.PyObject(o=0x00007fcc1443bbd0)), Expr(:const, :bdd_format_set = PyCall.PyObject(o=0x00007fcc1443bcf0)), Expr(:const, :bdd_print_accset = PyCall.PyObject(o=0x00007fcc1443bc18)), Expr(:const, :bdd_print_formula = PyCall.PyObject(o=0x00007fcc1443bd38)), Expr(:const, :bdd_print_isop = PyCall.PyObject(o=0x00007fcc1443be58)), Expr(:const, :bdd_print_sat = PyCall.PyObject(o=0x00007fcc1443bb88)), Expr(:const, :bdd_print_set = PyCall.PyObject(o=0x00007fcc1443bca8)), Expr(:const, :bdd_to_formula = PyCall.PyObject(o=0x00007fcc140cc268)), Expr(:const, :bit_state_hashing_magic_search = PyCall.PyObject(o=0x00007fcc14449bd0)), Expr(:const, :buddy = PyCall.PyObject(o=0x00007fcc14431408)), Expr(:const, :change_parity = PyCall.PyObject(o=0x00007fcc1444d900)), Expr(:const, :change_parity_here = PyCall.PyObject(o=0x00007fcc1444d948)), Expr(:const, :check_determinism = PyCall.PyObject(o=0x00007fcc1444d438)), Expr(:const, :check_strength = PyCall.PyObject(o=0x00007fcc1444c4c8)), Expr(:const, :check_stutter_invariance = PyCall.PyObject(o=0x00007fcc1444e168)), Expr(:const, :check_unambiguous = PyCall.PyObject(o=0x00007fcc1444d5a0)), Expr(:const, :cleanup_acceptance = PyCall.PyObject(o=0x00007fcc144475e8)), Expr(:const, :cleanup_acceptance_here = PyCall.PyObject(o=0x00007fcc144475a0)), Expr(:const, :cleanup_parity = PyCall.PyObject(o=0x00007fcc1444d990)), Expr(:const, :cleanup_parity_here = PyCall.PyObject(o=0x00007fcc1444d9d8)), Expr(:const, :closure = PyCall.PyObject(o=0x00007fcc1444e0d8)), Expr(:const, :closure_inplace = PyCall.PyObject(o=0x00007fcc1444e090)), Expr(:const, :colorize_parity = PyCall.PyObject(o=0x00007fcc1444da20)), Expr(:const, :colorize_parity_here = PyCall.PyObject(o=0x00007fcc1444da68)), Expr(:const, :complement_semidet = PyCall.PyObject(o=0x00007fcc1444f948)), Expr(:const, :complete = PyCall.PyObject(o=0x00007fcc14447c60)), Expr(:const, :complete_here = PyCall.PyObject(o=0x00007fcc14447c18)), Expr(:const, :compsusp = PyCall.PyObject(o=0x00007fcc14449990)), Expr(:const, :const_universal_dests = PyCall.PyObject(o=0x00000000035b7958)), Expr(:const, :const_universal_dests_swigregister = PyCall.PyObject(o=0x00007fcc144453f0)), Expr(:const, :contains = PyCall.PyObject(o=0x00007fcc144499d8)), Expr(:const, :copy = PyCall.PyObject(o=0x00007fcc14447bd0)), Expr(:const, :cosimulation = PyCall.PyObject(o=0x00007fcc1444d7e0)), Expr(:const, :cosimulation_sba = PyCall.PyObject(o=0x00007fcc1444d828)), Expr(:const, :count_nondet_states = PyCall.PyObject(o=0x00007fcc1444d1b0)), Expr(:const, :count_univbranch_edges = PyCall.PyObject(o=0x00007fcc1444d4c8)), Expr(:const, :count_univbranch_states = PyCall.PyObject(o=0x00007fcc1444d480)), Expr(:const, :couvreur99 = PyCall.PyObject(o=0x00007fcc14449678)), Expr(:const, :create_atomic_prop_set = PyCall.PyObject(o=0x00007fcc14442168)), Expr(:const, :cvar = PyCall.PyObject(o=0x00007fcc1797b4c8)), Expr(:const, :declarative_environment = PyCall.PyObject(o=0x000000000286b0f8)), Expr(:const, :declarative_environment_swigregister = PyCall.PyObject(o=0x00007fcc1443acf0)), Expr(:const, :decompose_scc = PyCall.PyObject(o=0x00007fcc1444c558)), Expr(:const, :decompose_strength = PyCall.PyObject(o=0x00007fcc1444c510)), Expr(:const, :default_environment = PyCall.PyObject(o=0x0000000002f57518)), Expr(:const, :default_environment_instance = PyCall.PyObject(o=0x00007fcc1443adc8)), Expr(:const, :default_environment_swigregister = PyCall.PyObject(o=0x00007fcc1443ae10)), Expr(:const, :default_unabbrev_string = \"eFGiMW^\"), Expr(:const, :degeneralize = PyCall.PyObject(o=0x00007fcc144476c0)), Expr(:const, :degeneralize_tba = PyCall.PyObject(o=0x00007fcc14447708)), Expr(:const, :dnf_to_dca = PyCall.PyObject(o=0x00007fcc14447b40)), Expr(:const, :dnf_to_nca = PyCall.PyObject(o=0x00007fcc14447a68)), Expr(:const, :dnf_to_streett = PyCall.PyObject(o=0x00007fcc1444a240)), Expr(:const, :drand = PyCall.PyObject(o=0x00007fcc14432ab0)), Expr(:const, :dtwa_complement = PyCall.PyObject(o=0x00007fcc1444f900)), Expr(:const, :dtwa_sat_minimize = PyCall.PyObject(o=0x00007fcc1444e678)), Expr(:const, :dtwa_sat_minimize_assume = PyCall.PyObject(o=0x00007fcc1444e750)), Expr(:const, :dtwa_sat_minimize_dichotomy = PyCall.PyObject(o=0x00007fcc1444e6c0)), Expr(:const, :dtwa_sat_minimize_incr = PyCall.PyObject(o=0x00007fcc1444e708)), Expr(:const, :dtwa_sat_synthetize = PyCall.PyObject(o=0x00007fcc1444e630)), Expr(:const, :dualize = PyCall.PyObject(o=0x00007fcc14449ab0)), Expr(:const, :dump_scc_info_dot = PyCall.PyObject(o=0x00007fcc1444b4c8)), Expr(:const, :emptiness_check = PyCall.PyObject(o=0x000000000285ad48)), Expr(:const, :emptiness_check_instantiator = PyCall.PyObject(o=0x000000000285b0f8)), Expr(:const, :emptiness_check_instantiator_swigregister = PyCall.PyObject(o=0x00007fcc144483f0)), Expr(:const, :emptiness_check_result = PyCall.PyObject(o=0x000000000285a998)), Expr(:const, :emptiness_check_result_swigregister = PyCall.PyObject(o=0x00007fcc14447ea0)), Expr(:const, :emptiness_check_swigregister = PyCall.PyObject(o=0x00007fcc14448240)), Expr(:const, :enable_utf8 = PyCall.PyObject(o=0x00007fcc1443bdc8)), Expr(:const, :ensure_digraph = PyCall.PyObject(o=0x00007fcc141b1ee8)), Expr(:const, :environment = PyCall.PyObject(o=0x000000000295ab98)), Expr(:const, :environment_swigregister = PyCall.PyObject(o=0x00007fcc1443ab88)), Expr(:const, :escape_html = PyCall.PyObject(o=0x00007fcc14432bd0)), Expr(:const, :escape_latex = PyCall.PyObject(o=0x00007fcc14432b88)), Expr(:const, :escape_rfc4180 = PyCall.PyObject(o=0x00007fcc14432b40)), Expr(:const, :escape_str = PyCall.PyObject(o=0x00007fcc14432c18)), Expr(:const, :explicit_magic_search = PyCall.PyObject(o=0x00007fcc14449b88)), Expr(:const, :fair_kripke = PyCall.PyObject(o=0x0000000002bf5e48)), Expr(:const, :fair_kripke_succ_iterator = PyCall.PyObject(o=0x0000000002bf5a58)), Expr(:const, :fair_kripke_succ_iterator_swigregister = PyCall.PyObject(o=0x00007fcc141b0678)), Expr(:const, :fair_kripke_swigregister = PyCall.PyObject(o=0x00007fcc141b0798)), Expr(:const, :fg_safety_to_dca = PyCall.PyObject(o=0x00007fcc14449948)), Expr(:const, :fg_safety_to_dca_maybe = PyCall.PyObject(o=0x00007fcc14449900)), Expr(:const, :fix_utf8_locations = PyCall.PyObject(o=0x00007fcc1443b4c8)), Expr(:const, :fnode_instances_check = PyCall.PyObject(o=0x00007fcc141b1ea0)), Expr(:const, :formula = PyCall.PyObject(o=0x0000000002e1d388)), Expr(:const, :formula_And = PyCall.PyObject(o=0x00007fcc14433b40)), Expr(:const, :formula_AndNLM = PyCall.PyObject(o=0x00007fcc14433bd0)), Expr(:const, :formula_AndRat = PyCall.PyObject(o=0x00007fcc14433b88)), Expr(:const, :formula_Closure = PyCall.PyObject(o=0x00007fcc14433678)), Expr(:const, :formula_Concat = PyCall.PyObject(o=0x00007fcc14433c18)), Expr(:const, :formula_EConcat = PyCall.PyObject(o=0x00007fcc14433990)), Expr(:const, :formula_EConcatMarked = PyCall.PyObject(o=0x00007fcc144339d8)), Expr(:const, :formula_Equiv = PyCall.PyObject(o=0x00007fcc14433828)), Expr(:const, :formula_F = PyCall.PyObject(o=0x00007fcc144335e8)), Expr(:const, :formula_FStar = PyCall.PyObject(o=0x00007fcc14433d38)), Expr(:const, :formula_Fusion = PyCall.PyObject(o=0x00007fcc14433c60)), Expr(:const, :formula_G = PyCall.PyObject(o=0x00007fcc14433630)), Expr(:const, :formula_Implies = PyCall.PyObject(o=0x00007fcc144337e0)), Expr(:const, :formula_M = PyCall.PyObject(o=0x00007fcc14433948)), Expr(:const, :formula_NegClosure = PyCall.PyObject(o=0x00007fcc144336c0)), Expr(:const, :formula_NegClosureMarked = PyCall.PyObject(o=0x00007fcc14433708)), Expr(:const, :formula_Not = PyCall.PyObject(o=0x00007fcc14433558)), Expr(:const, :formula_Or = PyCall.PyObject(o=0x00007fcc14433ab0)), Expr(:const, :formula_OrRat = PyCall.PyObject(o=0x00007fcc14433af8)), Expr(:const, :formula_R = PyCall.PyObject(o=0x00007fcc144338b8)), Expr(:const, :formula_Star = PyCall.PyObject(o=0x00007fcc14433cf0)), Expr(:const, :formula_U = PyCall.PyObject(o=0x00007fcc14433870)), Expr(:const, :formula_UConcat = PyCall.PyObject(o=0x00007fcc14433a20)), Expr(:const, :formula_W = PyCall.PyObject(o=0x00007fcc14433900)), Expr(:const, :formula_X = PyCall.PyObject(o=0x00007fcc144335a0)), Expr(:const, :formula_Xor = PyCall.PyObject(o=0x00007fcc14433798)), Expr(:const, :formula_ap = PyCall.PyObject(o=0x00007fcc144334c8)), Expr(:const, :formula_binop = PyCall.PyObject(o=0x00007fcc14433750)), Expr(:const, :formula_bunop = PyCall.PyObject(o=0x00007fcc14433ca8)), Expr(:const, :formula_eword = PyCall.PyObject(o=0x00007fcc14434240)), Expr(:const, :formula_ff = PyCall.PyObject(o=0x00007fcc14434120)), Expr(:const, :formula_multop = PyCall.PyObject(o=0x00007fcc14433a68)), Expr(:const, :formula_nested_unop_range = PyCall.PyObject(o=0x00007fcc14433d80)), Expr(:const, :formula_one_star = PyCall.PyObject(o=0x00007fcc14434360)), Expr(:const, :formula_sugar_equal = PyCall.PyObject(o=0x00007fcc14433e10)), Expr(:const, :formula_sugar_goto = PyCall.PyObject(o=0x00007fcc14433dc8)), Expr(:const, :formula_swigregister = PyCall.PyObject(o=0x00007fcc14434ca8)), Expr(:const, :formula_to_bdd = PyCall.PyObject(o=0x00007fcc1443bea0)), Expr(:const, :formula_tt = PyCall.PyObject(o=0x00007fcc144341b0)), Expr(:const, :formula_unbounded = PyCall.PyObject(o=0x00007fcc14433480)), Expr(:const, :formula_unop = PyCall.PyObject(o=0x00007fcc14433510)), Expr(:const, :formulaiterator = PyCall.PyObject(o=0x0000000002e0bc48)), Expr(:const, :from_ltlf = PyCall.PyObject(o=0x00007fcc14444480)), Expr(:const, :fun = \"nesting_depth\"), Expr(:const, :g_f_terminal_inplace = PyCall.PyObject(o=0x00007fcc14449828)), Expr(:const, :generic_emptiness_check = PyCall.PyObject(o=0x00007fcc144496c0)), Expr(:const, :generic_emptiness_check_for_scc = PyCall.PyObject(o=0x00007fcc14449708)), Expr(:const, :get_cerr = PyCall.PyObject(o=0x00007fcc141b1fc0)), Expr(:const, :get_cout = PyCall.PyObject(o=0x00007fcc141b1f30)), Expr(:const, :gf_guarantee_to_ba = PyCall.PyObject(o=0x00007fcc144498b8)), Expr(:const, :gf_guarantee_to_ba_maybe = PyCall.PyObject(o=0x00007fcc14449870)), Expr(:const, :highlight_languages = PyCall.PyObject(o=0x00007fcc14449b40)), Expr(:const, :highlight_nondet_edges = PyCall.PyObject(o=0x00007fcc1444d2d0)), Expr(:const, :highlight_nondet_states = PyCall.PyObject(o=0x00007fcc1444d288)), Expr(:const, :highlight_semidet_sccs = PyCall.PyObject(o=0x00007fcc1444d318)), Expr(:const, :highlight_stutter_invariant_states = PyCall.PyObject(o=0x00007fcc1444e1f8)), Expr(:const, :iar = PyCall.PyObject(o=0x00007fcc1444f828)), Expr(:const, :iar_maybe = PyCall.PyObject(o=0x00007fcc1444f870)), Expr(:const, :impl = PyCall.PyObject(o=0x00007fcc14527228)), Expr(:const, :is_colored = PyCall.PyObject(o=0x00007fcc1444d510)), Expr(:const, :is_complete = PyCall.PyObject(o=0x00007fcc1444d360)), Expr(:const, :is_complete_scc = PyCall.PyObject(o=0x00007fcc1444d6c0)), Expr(:const, :is_deterministic = PyCall.PyObject(o=0x00007fcc1444d240)), Expr(:const, :is_inherently_weak_automaton = PyCall.PyObject(o=0x00007fcc1444c3f0)), Expr(:const, :is_inherently_weak_scc = PyCall.PyObject(o=0x00007fcc1444d630)), Expr(:const, :is_liveness = PyCall.PyObject(o=0x00007fcc14444630)), Expr(:const, :is_liveness_automaton = PyCall.PyObject(o=0x00007fcc1444c480)), Expr(:const, :is_obligation = PyCall.PyObject(o=0x00007fcc14444558)), Expr(:const, :is_persistence = PyCall.PyObject(o=0x00007fcc144444c8)), Expr(:const, :is_recurrence = PyCall.PyObject(o=0x00007fcc14444510)), Expr(:const, :is_safety_automaton = PyCall.PyObject(o=0x00007fcc1444c438)), Expr(:const, :is_semi_deterministic = PyCall.PyObject(o=0x00007fcc1444d3a8)), Expr(:const, :is_stutter_invariant = PyCall.PyObject(o=0x00007fcc1444e120)), Expr(:const, :is_stutter_invariant_forward_closed = PyCall.PyObject(o=0x00007fcc1444e288)), Expr(:const, :is_terminal_automaton = PyCall.PyObject(o=0x00007fcc1444c318)), Expr(:const, :is_terminal_scc = PyCall.PyObject(o=0x00007fcc1444d708)), Expr(:const, :is_unambiguous = PyCall.PyObject(o=0x00007fcc1444d558)), Expr(:const, :is_universal = PyCall.PyObject(o=0x00007fcc1444d1f8)), Expr(:const, :is_very_weak_automaton = PyCall.PyObject(o=0x00007fcc1444c3a8)), Expr(:const, :is_weak_automaton = PyCall.PyObject(o=0x00007fcc1444c360)), Expr(:const, :is_weak_scc = PyCall.PyObject(o=0x00007fcc1444d678)), Expr(:const, :isomorphism_checker = PyCall.PyObject(o=0x0000000002225a08)), Expr(:const, :isomorphism_checker_are_isomorphic = PyCall.PyObject(o=0x00007fcc1444f708)), Expr(:const, :isomorphism_checker_swigregister = PyCall.PyObject(o=0x00007fcc1444f798)), Expr(:const, :iterated_simulations = PyCall.PyObject(o=0x00007fcc1444d870)), Expr(:const, :iterated_simulations_sba = PyCall.PyObject(o=0x00007fcc1444d8b8)), Expr(:const, :keep_all = PyCall.PyObject(o=0x0000000002981d58)), Expr(:const, :keep_all_swigregister = PyCall.PyObject(o=0x00007fcc1444a360)), Expr(:const, :keep_inner_scc = PyCall.PyObject(o=0x0000000002982148)), Expr(:const, :keep_inner_scc_swigregister = PyCall.PyObject(o=0x00007fcc1444a480)), Expr(:const, :kripke = PyCall.PyObject(o=0x0000000002b80418)), Expr(:const, :kripke_succ_iterator = PyCall.PyObject(o=0x0000000002bf6238)), Expr(:const, :kripke_succ_iterator_swigregister = PyCall.PyObject(o=0x00007fcc141b0870)), Expr(:const, :kripke_swigregister = PyCall.PyObject(o=0x00007fcc141b0900)), Expr(:const, :language_containment_checker = PyCall.PyObject(o=0x00007fcc140cc2f0)), Expr(:const, :language_containment_checker_swigregister = PyCall.PyObject(o=0x00007fcc14442438)), Expr(:const, :language_map = PyCall.PyObject(o=0x00007fcc14449af8)), Expr(:const, :length = PyCall.PyObject(o=0x00007fcc144443f0)), Expr(:const, :length_boolone = PyCall.PyObject(o=0x00007fcc14444438)), Expr(:const, :list_bdd = PyCall.PyObject(o=0x00000000029bbd48)), Expr(:const, :list_bdd_swigregister = PyCall.PyObject(o=0x00007fcc1444f5e8)), Expr(:const, :list_formula_props = PyCall.PyObject(o=0x00007fcc14434d80)), Expr(:const, :list_step = PyCall.PyObject(o=0x00000000034ea718)), Expr(:const, :list_step_swigregister = PyCall.PyObject(o=0x00007fcc144495e8)), Expr(:const, :liststr = PyCall.PyObject(o=0x0000000003453f18)), Expr(:const, :liststr_swigregister = PyCall.PyObject(o=0x00007fcc14435798)), Expr(:const, :ltl_to_taa = PyCall.PyObject(o=0x00007fcc14449798)), Expr(:const, :ltl_to_tgba_fm = PyCall.PyObject(o=0x00007fcc144497e0)), Expr(:const, :magic_search = PyCall.PyObject(o=0x00007fcc14449c18)), Expr(:const, :make_bdd_dict = PyCall.PyObject(o=0x00007fcc1443bb40)), Expr(:const, :make_emptiness_check_instantiator = PyCall.PyObject(o=0x00007fcc14448438)), Expr(:const, :make_stutter_invariant_forward_closed_inplace = PyCall.PyObject(o=0x00007fcc1444e2d0)), Expr(:const, :make_ta_explicit = PyCall.PyObject(o=0x00007fcc141b1480)), Expr(:const, :make_taa_tgba_formula = PyCall.PyObject(o=0x00007fcc14444cf0)), Expr(:const, :make_taa_tgba_string = PyCall.PyObject(o=0x00007fcc14444c18)), Expr(:const, :make_tgta_explicit = PyCall.PyObject(o=0x00007fcc141b1678)), Expr(:const, :make_twa_graph = PyCall.PyObject(o=0x00007fcc14446480)), Expr(:const, :make_twa_word = PyCall.PyObject(o=0x00007fcc1444eb88)), Expr(:const, :mark_container = PyCall.PyObject(o=0x0000000002b98f98)), Expr(:const, :mark_container_swigregister = PyCall.PyObject(o=0x00007fcc1443fe10)), Expr(:const, :mark_iterator = PyCall.PyObject(o=0x00000000030d7008)), Expr(:const, :mark_iterator_swigregister = PyCall.PyObject(o=0x00007fcc1443fc18)), Expr(:const, :mark_t = PyCall.PyObject(o=0x0000000002e41408)), Expr(:const, :mark_t_all = PyCall.PyObject(o=0x00007fcc1443d870)), Expr(:const, :mark_t_max_accsets = PyCall.PyObject(o=0x00007fcc1443d828)), Expr(:const, :mark_t_swigregister = PyCall.PyObject(o=0x00007fcc1443e360)), Expr(:const, :meth = \"contains\"), Expr(:const, :minato_isop = PyCall.PyObject(o=0x00000000030cc018)), Expr(:const, :minato_isop_swigregister = PyCall.PyObject(o=0x00007fcc14432678)), Expr(:const, :minimize_monitor = PyCall.PyObject(o=0x00007fcc14449c60)), Expr(:const, :minimize_obligation = PyCall.PyObject(o=0x00007fcc14449cf0)), Expr(:const, :minimize_ta = PyCall.PyObject(o=0x00007fcc141b1af8)), Expr(:const, :minimize_tgta = PyCall.PyObject(o=0x00007fcc141b1b40)), Expr(:const, :minimize_wdba = PyCall.PyObject(o=0x00007fcc14449ca8)), Expr(:const, :mp_class = PyCall.PyObject(o=0x00007fcc144445a0)), Expr(:const, :mp_hierarchy_svg = PyCall.PyObject(o=0x00007fcc140cc378)), Expr(:const, :mrand = PyCall.PyObject(o=0x00007fcc14432a68)), Expr(:const, :nca_st_info = PyCall.PyObject(o=0x00000000029bdd98)), Expr(:const, :nca_st_info_swigregister = PyCall.PyObject(o=0x00007fcc14447990)), Expr(:const, :negative_normal_form = PyCall.PyObject(o=0x00007fcc14442510)), Expr(:const, :nesting_depth = PyCall.PyObject(o=0x00007fcc144445e8)), Expr(:const, :nl_cerr = PyCall.PyObject(o=0x00007fcc141b2048)), Expr(:const, :nl_cout = PyCall.PyObject(o=0x00007fcc141b1f78)), Expr(:const, :nrand = PyCall.PyObject(o=0x00007fcc14432af8)), Expr(:const, :nsa_to_dca = PyCall.PyObject(o=0x00007fcc14447af8)), Expr(:const, :nsa_to_nca = PyCall.PyObject(o=0x00007fcc14447a20)), Expr(:const, :ocheck_Auto = 0), Expr(:const, :ocheck_via_CoBuchi = 1), Expr(:const, :ocheck_via_Rabin = 2), Expr(:const, :ocheck_via_WDBA = 3), Expr(:const, :ofstream = PyCall.PyObject(o=0x000000000359ca78)), Expr(:const, :ofstream_swigregister = PyCall.PyObject(o=0x00007fcc141b1ca8)), Expr(:const, :op_And = 23), Expr(:const, :op_AndNLM = 25), Expr(:const, :op_AndRat = 24), Expr(:const, :op_Closure = 8), Expr(:const, :op_Concat = 26), Expr(:const, :op_EConcat = 18), Expr(:const, :op_EConcatMarked = 19), Expr(:const, :op_Equiv = 13), Expr(:const, :op_F = 6), Expr(:const, :op_FStar = 29), Expr(:const, :op_Fusion = 27), Expr(:const, :op_G = 7), Expr(:const, :op_Implies = 12), Expr(:const, :op_M = 17), Expr(:const, :op_NegClosure = 9), Expr(:const, :op_NegClosureMarked = 10), Expr(:const, :op_Not = 4), Expr(:const, :op_Or = 21), Expr(:const, :op_OrRat = 22), Expr(:const, :op_R = 15), Expr(:const, :op_Star = 28), Expr(:const, :op_U = 14), Expr(:const, :op_UConcat = 20), Expr(:const, :op_W = 16), Expr(:const, :op_X = 5), Expr(:const, :op_Xor = 11), Expr(:const, :op_ap = 3), Expr(:const, :op_eword = 2), Expr(:const, :op_ff = 0), Expr(:const, :op_tt = 1), Expr(:const, :option_map = PyCall.PyObject(o=0x0000000002fd6918)), Expr(:const, :option_map_swigregister = PyCall.PyObject(o=0x00007fcc14432948)), Expr(:const, :os = PyCall.PyObject(o=0x00007fcc1491b638)), Expr(:const, :ostream = PyCall.PyObject(o=0x000000000359c688)), Expr(:const, :ostream_swigregister = PyCall.PyObject(o=0x00007fcc141b1bd0)), Expr(:const, :ostringstream = PyCall.PyObject(o=0x00000000035e0668)), Expr(:const, :ostringstream_swigregister = PyCall.PyObject(o=0x00007fcc141b1e10)), Expr(:const, :otf_product = PyCall.PyObject(o=0x00007fcc144451f8)), Expr(:const, :otf_product_at = PyCall.PyObject(o=0x00007fcc14445240)), Expr(:const, :outedge_combiner = PyCall.PyObject(o=0x00000000029bd5f8)), Expr(:const, :outedge_combiner_swigregister = PyCall.PyObject(o=0x00007fcc14447168)), Expr(:const, :pair_bool_mark = PyCall.PyObject(o=0x00000000033883a8)), Expr(:const, :pair_bool_mark_swigregister = PyCall.PyObject(o=0x00007fcc14440090)), Expr(:const, :pairmark_t = PyCall.PyObject(o=0x00000000034bc328)), Expr(:const, :pairmark_t_swigregister = PyCall.PyObject(o=0x00007fcc14435c18)), Expr(:const, :pairunsigned = PyCall.PyObject(o=0x0000000002fd6fa8)), Expr(:const, :pairunsigned_swigregister = PyCall.PyObject(o=0x00007fcc144359d8)), Expr(:const, :parity_kind_any = 3), Expr(:const, :parity_kind_max = 0), Expr(:const, :parity_kind_min = 1), Expr(:const, :parity_kind_same = 2), Expr(:const, :parity_style_any = 3), Expr(:const, :parity_style_even = 1), Expr(:const, :parity_style_odd = 0), Expr(:const, :parity_style_same = 2), Expr(:const, :parse_aut = PyCall.PyObject(o=0x00007fcc141b05e8)), Expr(:const, :parse_aut_error_list = PyCall.PyObject(o=0x00000000029bc0f8)), Expr(:const, :parse_aut_error_list_swigregister = PyCall.PyObject(o=0x00007fcc1444fab0)), Expr(:const, :parse_error = PyCall.PyObject(o=0x000000000353ed58)), Expr(:const, :parse_error_list = PyCall.PyObject(o=0x0000000002f57908)), Expr(:const, :parse_error_list_swigregister = PyCall.PyObject(o=0x00007fcc1443af78)), Expr(:const, :parse_error_swigregister = PyCall.PyObject(o=0x00007fcc144324c8)), Expr(:const, :parse_formula = PyCall.PyObject(o=0x00007fcc1443b438)), Expr(:const, :parse_infix_boolean = PyCall.PyObject(o=0x00007fcc1443b3a8)), Expr(:const, :parse_infix_psl = PyCall.PyObject(o=0x00007fcc1443b360)), Expr(:const, :parse_infix_sere = PyCall.PyObject(o=0x00007fcc1443b480)), Expr(:const, :parse_prefix_ltl = PyCall.PyObject(o=0x00007fcc1443b3f0)), Expr(:const, :parse_word = PyCall.PyObject(o=0x00007fcc140cc1e0)), Expr(:const, :parsed_aut = PyCall.PyObject(o=0x0000000002d83398)), Expr(:const, :parsed_aut_swigregister = PyCall.PyObject(o=0x00007fcc1444ffc0)), Expr(:const, :parsed_aut_type_DRA = 3), Expr(:const, :parsed_aut_type_DSA = 4), Expr(:const, :parsed_aut_type_HOA = 0), Expr(:const, :parsed_aut_type_LBTT = 2), Expr(:const, :parsed_aut_type_NeverClaim = 1), Expr(:const, :parsed_aut_type_Unknown = 5), Expr(:const, :parsed_formula = PyCall.PyObject(o=0x000000000346a358)), Expr(:const, :parsed_formula_swigregister = PyCall.PyObject(o=0x00007fcc1443b2d0)), Expr(:const, :postprocess = PyCall.PyObject(o=0x00007fcc140c7378)), Expr(:const, :postprocessor = PyCall.PyObject(o=0x0000000002c29998)), Expr(:const, :postprocessor_swigregister = PyCall.PyObject(o=0x00007fcc1444dc60)), Expr(:const, :prcheck_Auto = 0), Expr(:const, :prcheck_via_CoBuchi = 1), Expr(:const, :prcheck_via_Rabin = 2), Expr(:const, :print_dot = PyCall.PyObject(o=0x00007fcc141b1750)), Expr(:const, :print_dot_psl = PyCall.PyObject(o=0x00007fcc144424c8)), Expr(:const, :print_formula_props = PyCall.PyObject(o=0x00007fcc14434d38)), Expr(:const, :print_hoa = PyCall.PyObject(o=0x00007fcc1444e5e8)), Expr(:const, :print_latex_psl = PyCall.PyObject(o=0x00007fcc144428b8)), Expr(:const, :print_latex_sere = PyCall.PyObject(o=0x00007fcc14442948)), Expr(:const, :print_lbt_ltl = PyCall.PyObject(o=0x00007fcc14442af8)), Expr(:const, :print_lbtt = PyCall.PyObject(o=0x00007fcc14449750)), Expr(:const, :print_never_claim = PyCall.PyObject(o=0x00007fcc14449d38)), Expr(:const, :print_on = PyCall.PyObject(o=0x00007fcc141b2090)), Expr(:const, :print_psl = PyCall.PyObject(o=0x00007fcc14442558)), Expr(:const, :print_sclatex_psl = PyCall.PyObject(o=0x00007fcc144429d8)), Expr(:const, :print_sclatex_sere = PyCall.PyObject(o=0x00007fcc14442a68)), Expr(:const, :print_sere = PyCall.PyObject(o=0x00007fcc14442678)), Expr(:const, :print_spin_ltl = PyCall.PyObject(o=0x00007fcc14442798)), Expr(:const, :print_utf8_psl = PyCall.PyObject(o=0x00007fcc144425e8)), Expr(:const, :print_utf8_sere = PyCall.PyObject(o=0x00007fcc14442708)), Expr(:const, :print_wring_ltl = PyCall.PyObject(o=0x00007fcc14442828)), Expr(:const, :printable_acc_cond = PyCall.PyObject(o=0x000000000345d6d8)), Expr(:const, :printable_acc_cond_swigregister = PyCall.PyObject(o=0x00007fcc1444cd80)), Expr(:const, :printable_formula = PyCall.PyObject(o=0x000000000345d2e8)), Expr(:const, :printable_formula_swigregister = PyCall.PyObject(o=0x00007fcc1444cc18)), Expr(:const, :printable_scc_info = PyCall.PyObject(o=0x0000000003415978)), Expr(:const, :printable_scc_info_swigregister = PyCall.PyObject(o=0x00007fcc1444cf78)), Expr(:const, :product = PyCall.PyObject(o=0x00007fcc1444dcf0)), Expr(:const, :product_or = PyCall.PyObject(o=0x00007fcc1444dd38)), Expr(:const, :product_or_susp = PyCall.PyObject(o=0x00007fcc1444ddc8)), Expr(:const, :product_susp = PyCall.PyObject(o=0x00007fcc1444dd80)), Expr(:const, :quote_shell_string = PyCall.PyObject(o=0x00007fcc14432c60)), Expr(:const, :rabin_is_buchi_realizable = PyCall.PyObject(o=0x00007fcc14449dc8)), Expr(:const, :rabin_to_buchi_maybe = PyCall.PyObject(o=0x00007fcc14449e10)), Expr(:const, :randltl = PyCall.PyObject(o=0x00007fcc140c7a60)), Expr(:const, :randltlgenerator = PyCall.PyObject(o=0x00000000029be918)), Expr(:const, :randltlgenerator_swigregister = PyCall.PyObject(o=0x00007fcc14444360)), Expr(:const, :random_boolean = PyCall.PyObject(o=0x0000000003a1d938)), Expr(:const, :random_boolean_swigregister = PyCall.PyObject(o=0x00007fcc14443c60)), Expr(:const, :random_formula = PyCall.PyObject(o=0x0000000002a9f088)), "
     ]
    },
    {
     "name": "stderr",
     "output_type": "stream",
     "text": [
      "Expr(:const, :random_formula_swigregister = PyCall.PyObject(o=0x00007fcc14443a20)), Expr(:const, :random_ltl = PyCall.PyObject(o=0x0000000002a9f688)), Expr(:const, :random_ltl_swigregister = PyCall.PyObject(o=0x00007fcc14443b40)), Expr(:const, :random_psl = PyCall.PyObject(o=0x00000000030d79d8)), Expr(:const, :random_psl_swigregister = PyCall.PyObject(o=0x00007fcc14443fc0)), Expr(:const, :random_sere = PyCall.PyObject(o=0x0000000003a1dd28)), Expr(:const, :random_sere_swigregister = PyCall.PyObject(o=0x00007fcc14443e10)), Expr(:const, :randomize = PyCall.PyObject(o=0x00007fcc14449d80)), Expr(:const, :relabel = PyCall.PyObject(o=0x00007fcc144446c0)), Expr(:const, :relabel_bse = PyCall.PyObject(o=0x00007fcc14444708)), Expr(:const, :relabel_here = PyCall.PyObject(o=0x00007fcc1444e7e0)), Expr(:const, :relabeling_map = PyCall.PyObject(o=0x0000000003011858)), Expr(:const, :relabeling_map_swigregister = PyCall.PyObject(o=0x00007fcc1443aa20)), Expr(:const, :remove_alternation = PyCall.PyObject(o=0x00007fcc144471f8)), Expr(:const, :remove_ap = PyCall.PyObject(o=0x00000000034e9e58)), Expr(:const, :remove_ap_swigregister = PyCall.PyObject(o=0x00007fcc1444a048)), Expr(:const, :remove_fin = PyCall.PyObject(o=0x00007fcc14449e58)), Expr(:const, :remove_univ_otf = PyCall.PyObject(o=0x00007fcc14447558)), Expr(:const, :remove_x = PyCall.PyObject(o=0x00007fcc14444678)), Expr(:const, :rrand = PyCall.PyObject(o=0x00007fcc14432a20)), Expr(:const, :rs_pair = PyCall.PyObject(o=0x0000000003355b18)), Expr(:const, :rs_pair_swigregister = PyCall.PyObject(o=0x00007fcc1443f708)), Expr(:const, :rs_pairs_view = PyCall.PyObject(o=0x00000000030d6c58)), Expr(:const, :rs_pairs_view_swigregister = PyCall.PyObject(o=0x00007fcc1443f9d8)), Expr(:const, :sat_minimize = PyCall.PyObject(o=0x00007fcc140cc158)), Expr(:const, :sbacc = PyCall.PyObject(o=0x00007fcc1444a288)), Expr(:const, :scc_filter = PyCall.PyObject(o=0x00007fcc1444c5a0)), Expr(:const, :scc_filter_states = PyCall.PyObject(o=0x00007fcc1444c5e8)), Expr(:const, :scc_filter_susp = PyCall.PyObject(o=0x00007fcc1444c630)), Expr(:const, :scc_has_rejecting_cycle = PyCall.PyObject(o=0x00007fcc1444d5e8)), Expr(:const, :scc_info = PyCall.PyObject(o=0x0000000002f2dd08)), Expr(:const, :scc_info_inner_scc_edges = PyCall.PyObject(o=0x0000000002f2d808)), Expr(:const, :scc_info_inner_scc_edges_swigregister = PyCall.PyObject(o=0x00007fcc1444b870)), Expr(:const, :scc_info_node = PyCall.PyObject(o=0x0000000002a68918)), Expr(:const, :scc_info_node_swigregister = PyCall.PyObject(o=0x00007fcc1444a828)), Expr(:const, :scc_info_options_ALL = 6), Expr(:const, :scc_info_options_NONE = 0), Expr(:const, :scc_info_options_STOP_ON_ACC = 1), Expr(:const, :scc_info_options_TRACK_STATES = 2), Expr(:const, :scc_info_options_TRACK_STATES_IF_FIN_USED = 8), Expr(:const, :scc_info_options_TRACK_SUCCS = 4), Expr(:const, :scc_info_scc_edges = PyCall.PyObject(o=0x0000000002f2d458)), Expr(:const, :scc_info_scc_edges_swigregister = PyCall.PyObject(o=0x00007fcc1444b678)), Expr(:const, :scc_info_swigregister = PyCall.PyObject(o=0x00007fcc1444b438)), Expr(:const, :semidet_sccs = PyCall.PyObject(o=0x00007fcc1444d3f0)), Expr(:const, :set_state = PyCall.PyObject(o=0x00000000030d7dc8)), Expr(:const, :set_state_swigregister = PyCall.PyObject(o=0x00007fcc14444990)), Expr(:const, :setup = PyCall.PyObject(o=0x00007fcc1452ef28)), Expr(:const, :shared_state_deleter = PyCall.PyObject(o=0x00007fcc144408b8)), Expr(:const, :show_mp_hierarchy = PyCall.PyObject(o=0x00007fcc140cc400)), Expr(:const, :signal = PyCall.PyObject(o=0x00007fcc14158908)), Expr(:const, :simplify = PyCall.PyObject(o=0x00007fcc140c7ae8)), Expr(:const, :simplify_acceptance = PyCall.PyObject(o=0x00007fcc14447678)), Expr(:const, :simplify_acceptance_here = PyCall.PyObject(o=0x00007fcc14447630)), Expr(:const, :simulation = PyCall.PyObject(o=0x00007fcc1444d750)), Expr(:const, :simulation_sba = PyCall.PyObject(o=0x00007fcc1444d798)), Expr(:const, :sl = PyCall.PyObject(o=0x00007fcc1444df78)), Expr(:const, :sl2 = PyCall.PyObject(o=0x00007fcc1444e048)), Expr(:const, :sl2_inplace = PyCall.PyObject(o=0x00007fcc1444dfc0)), Expr(:const, :split_2step = PyCall.PyObject(o=0x00007fcc1444de58)), Expr(:const, :split_edges = PyCall.PyObject(o=0x00007fcc1444de10)), Expr(:const, :srand = PyCall.PyObject(o=0x00007fcc144329d8)), Expr(:const, :stat_printer = PyCall.PyObject(o=0x0000000003415f78)), Expr(:const, :stat_printer_swigregister = PyCall.PyObject(o=0x00007fcc1444d120)), Expr(:const, :state = PyCall.PyObject(o=0x0000000003388758)), Expr(:const, :state_product = PyCall.PyObject(o=0x0000000002a461f8)), Expr(:const, :state_product_swigregister = PyCall.PyObject(o=0x00007fcc14444e58)), Expr(:const, :state_ptr_equal = PyCall.PyObject(o=0x0000000002df89a8)), Expr(:const, :state_ptr_equal_swigregister = PyCall.PyObject(o=0x00007fcc144404c8)), Expr(:const, :state_ptr_hash = PyCall.PyObject(o=0x000000000273ddb8)), Expr(:const, :state_ptr_hash_swigregister = PyCall.PyObject(o=0x00007fcc14440630)), Expr(:const, :state_ptr_less_than = PyCall.PyObject(o=0x0000000002df85b8)), Expr(:const, :state_ptr_less_than_swigregister = PyCall.PyObject(o=0x00007fcc14440360)), Expr(:const, :state_shared_ptr_equal = PyCall.PyObject(o=0x0000000002e02b58)), Expr(:const, :state_shared_ptr_equal_swigregister = PyCall.PyObject(o=0x00007fcc14440b40)), Expr(:const, :state_shared_ptr_hash = PyCall.PyObject(o=0x0000000001fdb248)), Expr(:const, :state_shared_ptr_hash_swigregister = PyCall.PyObject(o=0x00007fcc14440ca8)), Expr(:const, :state_shared_ptr_less_than = PyCall.PyObject(o=0x0000000002e02768)), Expr(:const, :state_shared_ptr_less_than_swigregister = PyCall.PyObject(o=0x00007fcc144409d8)), Expr(:const, :state_swigregister = PyCall.PyObject(o=0x00007fcc14440240)), Expr(:const, :state_ta_explicit = PyCall.PyObject(o=0x0000000002fef888)), Expr(:const, :state_ta_explicit_swigregister = PyCall.PyObject(o=0x00007fcc141b1318)), Expr(:const, :state_unicity_table = PyCall.PyObject(o=0x000000000273e1a8)), Expr(:const, :state_unicity_table_swigregister = PyCall.PyObject(o=0x00007fcc14440828)), Expr(:const, :states_and = PyCall.PyObject(o=0x00007fcc141b2120)), Expr(:const, :stats_reachable = PyCall.PyObject(o=0x00007fcc141b1ab0)), Expr(:const, :step = PyCall.PyObject(o=0x00000000033db648)), Expr(:const, :step_swigregister = PyCall.PyObject(o=0x00007fcc14448b88)), Expr(:const, :str_latex_psl = PyCall.PyObject(o=0x00007fcc14442900)), Expr(:const, :str_latex_sere = PyCall.PyObject(o=0x00007fcc14442990)), Expr(:const, :str_lbt_ltl = PyCall.PyObject(o=0x00007fcc14442b40)), Expr(:const, :str_psl = PyCall.PyObject(o=0x00007fcc144425a0)), Expr(:const, :str_sclatex_psl = PyCall.PyObject(o=0x00007fcc14442a20)), Expr(:const, :str_sclatex_sere = PyCall.PyObject(o=0x00007fcc14442ab0)), Expr(:const, :str_sere = PyCall.PyObject(o=0x00007fcc144426c0)), Expr(:const, :str_spin_ltl = PyCall.PyObject(o=0x00007fcc144427e0)), Expr(:const, :str_utf8_psl = PyCall.PyObject(o=0x00007fcc14442630)), Expr(:const, :str_utf8_sere = PyCall.PyObject(o=0x00007fcc14442750)), Expr(:const, :str_wring_ltl = PyCall.PyObject(o=0x00007fcc14442870)), Expr(:const, :streett_to_generalized_buchi = PyCall.PyObject(o=0x00007fcc1444a120)), Expr(:const, :streett_to_generalized_buchi_maybe = PyCall.PyObject(o=0x00007fcc1444a168)), Expr(:const, :stutter_invariant_letters = PyCall.PyObject(o=0x00007fcc1444e240)), Expr(:const, :stutter_invariant_states = PyCall.PyObject(o=0x00007fcc1444e1b0)), Expr(:const, :sub_stats_reachable = PyCall.PyObject(o=0x00007fcc1444caf8)), Expr(:const, :subprocess = PyCall.PyObject(o=0x00007fcc144f72c8)), Expr(:const, :succ_iterator = PyCall.PyObject(o=0x00000000029f2cc8)), Expr(:const, :succ_iterator_swigregister = PyCall.PyObject(o=0x00007fcc14441120)), Expr(:const, :sum = PyCall.PyObject(o=0x00007fcc1444dee8)), Expr(:const, :sum_and = PyCall.PyObject(o=0x00007fcc1444df30)), Expr(:const, :sys = PyCall.PyObject(o=0x00007fcc1796ef98)), Expr(:const, :ta = PyCall.PyObject(o=0x0000000002b80ca8)), Expr(:const, :ta_explicit = PyCall.PyObject(o=0x0000000002e91bf8)), Expr(:const, :ta_explicit_succ_iterator = PyCall.PyObject(o=0x0000000002fefc78)), Expr(:const, :ta_explicit_succ_iterator_swigregister = PyCall.PyObject(o=0x00007fcc141b13f0)), Expr(:const, :ta_explicit_swigregister = PyCall.PyObject(o=0x00007fcc141b1240)), Expr(:const, :ta_statistics = PyCall.PyObject(o=0x000000000359c2d8)), Expr(:const, :ta_statistics_swigregister = PyCall.PyObject(o=0x00007fcc141b1a20)), Expr(:const, :ta_succ_iterator = PyCall.PyObject(o=0x0000000002e911c8)), Expr(:const, :ta_succ_iterator_swigregister = PyCall.PyObject(o=0x00007fcc141b0d38)), Expr(:const, :ta_swigregister = PyCall.PyObject(o=0x00007fcc141b0ca8)), Expr(:const, :taa_succ_iterator = PyCall.PyObject(o=0x00000000036bb668)), Expr(:const, :taa_succ_iterator_swigregister = PyCall.PyObject(o=0x00007fcc14444af8)), Expr(:const, :taa_tgba = PyCall.PyObject(o=0x00000000029bf128)), Expr(:const, :taa_tgba_formula = PyCall.PyObject(o=0x00000000036bbe48)), Expr(:const, :taa_tgba_formula_swigregister = PyCall.PyObject(o=0x00007fcc14444ca8)), Expr(:const, :taa_tgba_string = PyCall.PyObject(o=0x00000000036bba58)), Expr(:const, :taa_tgba_string_swigregister = PyCall.PyObject(o=0x00007fcc14444bd0)), Expr(:const, :taa_tgba_swigregister = PyCall.PyObject(o=0x00007fcc14444828)), Expr(:const, :tempfile = PyCall.PyObject(o=0x00007fcc144f7228)), Expr(:const, :tgba_determinize = PyCall.PyObject(o=0x00007fcc14449a68)), Expr(:const, :tgba_to_ta = PyCall.PyObject(o=0x00007fcc141b16c0)), Expr(:const, :tgba_to_tgta = PyCall.PyObject(o=0x00007fcc141b1708)), Expr(:const, :tgta = PyCall.PyObject(o=0x0000000002e915b8)), Expr(:const, :tgta_explicit = PyCall.PyObject(o=0x0000000002ff0068)), Expr(:const, :tgta_explicit_swigregister = PyCall.PyObject(o=0x00007fcc141b15e8)), Expr(:const, :tgta_swigregister = PyCall.PyObject(o=0x00007fcc141b0e10)), Expr(:const, :tl_simplifier = PyCall.PyObject(o=0x0000000003505448)), Expr(:const, :tl_simplifier_options = PyCall.PyObject(o=0x0000000003505098)), Expr(:const, :tl_simplifier_options_swigregister = PyCall.PyObject(o=0x00007fcc14443168)), Expr(:const, :tl_simplifier_swigregister = PyCall.PyObject(o=0x00007fcc14443630)), Expr(:const, :to_dca = PyCall.PyObject(o"
     ]
    },
    {
     "name": "stderr",
     "output_type": "stream",
     "text": [
      "=0x00007fcc14447b88)), Expr(:const, :to_generalized_buchi = PyCall.PyObject(o=0x00007fcc1444a0d8)), Expr(:const, :to_generalized_rabin = PyCall.PyObject(o=0x00007fcc1444a1b0)), Expr(:const, :to_generalized_streett = PyCall.PyObject(o=0x00007fcc1444a1f8)), Expr(:const, :to_nca = PyCall.PyObject(o=0x00007fcc14447ab0)), Expr(:const, :to_parity = PyCall.PyObject(o=0x00007fcc1444f8b8)), Expr(:const, :to_weak_alternating = PyCall.PyObject(o=0x00007fcc1444e5a0)), Expr(:const, :translate = PyCall.PyObject(o=0x00007fcc140c7158)), Expr(:const, :translator = PyCall.PyObject(o=0x0000000002c290d8)), Expr(:const, :translator_swigregister = PyCall.PyObject(o=0x00007fcc1444e510)), Expr(:const, :trival = PyCall.PyObject(o=0x000000000285f3d8)), Expr(:const, :trival_maybe = PyCall.PyObject(o=0x00007fcc14432cf0)), Expr(:const, :trival_swigregister = PyCall.PyObject(o=0x00007fcc14433168)), Expr(:const, :twa = PyCall.PyObject(o=0x0000000002622568)), Expr(:const, :twa_graph = PyCall.PyObject(o=0x00000000034ce1c8)), Expr(:const, :twa_graph_all_trans = PyCall.PyObject(o=0x0000000002ed4368)), Expr(:const, :twa_graph_all_trans_swigregister = PyCall.PyObject(o=0x00007fcc14446ab0)), Expr(:const, :twa_graph_edge_boxed_data = PyCall.PyObject(o=0x0000000002a5d408)), Expr(:const, :twa_graph_edge_boxed_data_swigregister = PyCall.PyObject(o=0x00007fcc14446c18)), Expr(:const, :twa_graph_edge_data = PyCall.PyObject(o=0x00000000029fd098)), Expr(:const, :twa_graph_edge_data_swigregister = PyCall.PyObject(o=0x00007fcc14445828)), Expr(:const, :twa_graph_edge_storage = PyCall.PyObject(o=0x0000000002a5dc98)), Expr(:const, :twa_graph_edge_storage_swigregister = PyCall.PyObject(o=0x00007fcc14446f78)), Expr(:const, :twa_graph_is_univ_dest = PyCall.PyObject(o=0x00007fcc14445af8)), Expr(:const, :twa_graph_killer_edge_iterator = PyCall.PyObject(o=0x0000000002ed3d68)), Expr(:const, :twa_graph_killer_edge_iterator_swigregister = PyCall.PyObject(o=0x00007fcc144468b8)), Expr(:const, :twa_graph_state = PyCall.PyObject(o=0x00000000035b7f58)), Expr(:const, :twa_graph_state_out = PyCall.PyObject(o=0x00000000029fd698)), Expr(:const, :twa_graph_state_out_swigregister = PyCall.PyObject(o=0x00007fcc14446678)), Expr(:const, :twa_graph_state_swigregister = PyCall.PyObject(o=0x00007fcc14445558)), Expr(:const, :twa_graph_swigregister = PyCall.PyObject(o=0x00007fcc144463f0)), Expr(:const, :twa_product = PyCall.PyObject(o=0x0000000002a465e8)), Expr(:const, :twa_product_init = PyCall.PyObject(o=0x0000000002a469d8)), Expr(:const, :twa_product_init_swigregister = PyCall.PyObject(o=0x00007fcc14445168)), Expr(:const, :twa_product_swigregister = PyCall.PyObject(o=0x00007fcc14445048)), Expr(:const, :twa_run = PyCall.PyObject(o=0x00000000033db298)), Expr(:const, :twa_run_swigregister = PyCall.PyObject(o=0x00007fcc144488b8)), Expr(:const, :twa_statistics = PyCall.PyObject(o=0x00000000029dc2a8)), Expr(:const, :twa_statistics_swigregister = PyCall.PyObject(o=0x00007fcc1444c870)), Expr(:const, :twa_sub_statistics = PyCall.PyObject(o=0x000000000345cef8)), Expr(:const, :twa_sub_statistics_swigregister = PyCall.PyObject(o=0x00007fcc1444ca68)), Expr(:const, :twa_succ_iterator = PyCall.PyObject(o=0x00000000029f2918)), Expr(:const, :twa_succ_iterator_swigregister = PyCall.PyObject(o=0x00007fcc14440f30)), Expr(:const, :twa_swigregister = PyCall.PyObject(o=0x00007fcc14442120)), Expr(:const, :twa_univ_remover = PyCall.PyObject(o=0x00000000029bd9a8)), Expr(:const, :twa_univ_remover_swigregister = PyCall.PyObject(o=0x00007fcc144474c8)), Expr(:const, :twa_word = PyCall.PyObject(o=0x0000000002225658)), Expr(:const, :twa_word_swigregister = PyCall.PyObject(o=0x00007fcc1444eaf8)), Expr(:const, :unabbreviate = PyCall.PyObject(o=0x00007fcc14443828)), Expr(:const, :unabbreviator = PyCall.PyObject(o=0x0000000002c58358)), Expr(:const, :unabbreviator_swigregister = PyCall.PyObject(o=0x00007fcc14443798)), Expr(:const, :unblock_signal = PyCall.PyObject(o=0x00007fcc141b20d8)), Expr(:const, :univ_remover_state = PyCall.PyObject(o=0x00000000035be358)), Expr(:const, :univ_remover_state_swigregister = PyCall.PyObject(o=0x00007fcc14447360)), Expr(:const, :unsplit_2step = PyCall.PyObject(o=0x00007fcc1444dea0)), Expr(:const, :vector_rs_pair = PyCall.PyObject(o=0x0000000002e41868)), Expr(:const, :vector_rs_pair_swigregister = PyCall.PyObject(o=0x00007fcc1443c8b8)), Expr(:const, :vector_twa_graph = PyCall.PyObject(o=0x00000000029dcb68)), Expr(:const, :vector_twa_graph_swigregister = PyCall.PyObject(o=0x00007fcc1444c288)), Expr(:const, :vectorbdd = PyCall.PyObject(o=0x000000000295bdf8)), Expr(:const, :vectorbdd_swigregister = PyCall.PyObject(o=0x00007fcc14438e10)), Expr(:const, :vectorbool = PyCall.PyObject(o=0x000000000295ba48)), Expr(:const, :vectorbool_swigregister = PyCall.PyObject(o=0x00007fcc14438438)), Expr(:const, :vectorformula = PyCall.PyObject(o=0x00000000035f4a58)), Expr(:const, :vectorformula_swigregister = PyCall.PyObject(o=0x00007fcc14436630)), Expr(:const, :vectorpairunsigned = PyCall.PyObject(o=0x0000000002a51358)), Expr(:const, :vectorpairunsigned_swigregister = PyCall.PyObject(o=0x00007fcc14437a20)), Expr(:const, :vectorstring = PyCall.PyObject(o=0x0000000002df9588)), Expr(:const, :vectorstring_swigregister = PyCall.PyObject(o=0x00007fcc14439828)), Expr(:const, :vectorunsigned = PyCall.PyObject(o=0x0000000002a50fa8)), Expr(:const, :vectorunsigned_swigregister = PyCall.PyObject(o=0x00007fcc14437048)), Expr(:const, :version = PyCall.PyObject(o=0x00007fcc14432558)), Expr(:call, :pymember, :s) = Expr(:block, #= Symbol(\"/mnt/c/Users/Maxime/wsl/.julia/packages/PyCall/0jMpb/src/PyCall.jl\"):348 =#, Expr(:call, typeof(Base.getindex)(), PyCall.PyObject(o=0x00007fcc14791318), :s)), Expr(:export, :Abc, :Pnn, :SHARED_PTR_DISOWN, :SwigPyIterator, :SwigPyIterator_swigregister, :acc_code, :acc_code_buchi, :acc_code_cobuchi, :acc_code_f, :acc_code_fin, :acc_code_fin_neg, :acc_code_generalized_buchi, :acc_code_generalized_co_buchi, :acc_code_inf, :acc_code_inf_neg, :acc_code_parity, :acc_code_rabin, :acc_code_random, :acc_code_streett, :acc_code_swigregister, :acc_code_t, :acc_cond, :acc_cond_fin, :acc_cond_fin_neg, :acc_cond_inf, :acc_cond_inf_neg, :acc_cond_swigregister, :are_equivalent, :atomic_prop_collect, :atomic_prop_collect_as_bdd, :atomic_prop_set, :atomic_prop_set_swigregister, :automata, :automaton, :automaton_parser_options, :automaton_parser_options_swigregister, :automaton_stream_parser, :automaton_stream_parser_swigregister, :aux, :bdd_dict, :bdd_dict_swigregister, :bdd_format_accset, :bdd_format_formula, :bdd_format_isop, :bdd_format_sat, :bdd_format_set, :bdd_print_accset, :bdd_print_formula, :bdd_print_isop, :bdd_print_sat, :bdd_print_set, :bdd_to_formula, :bit_state_hashing_magic_search, :buddy, :change_parity, :change_parity_here, :check_determinism, :check_strength, :check_stutter_invariance, :check_unambiguous, :cleanup_acceptance, :cleanup_acceptance_here, :cleanup_parity, :cleanup_parity_here, :closure, :closure_inplace, :colorize_parity, :colorize_parity_here, :complement_semidet, :complete, :complete_here, :compsusp, :const_universal_dests, :const_universal_dests_swigregister, :contains, :copy, :cosimulation, :cosimulation_sba, :count_nondet_states, :count_univbranch_edges, :count_univbranch_states, :couvreur99, :create_atomic_prop_set, :cvar, :declarative_environment, :declarative_environment_swigregister, :decompose_scc, :decompose_strength, :default_environment, :default_environment_instance, :default_environment_swigregister, :default_unabbrev_string, :degeneralize, :degeneralize_tba, :dnf_to_dca, :dnf_to_nca, :dnf_to_streett, :drand, :dtwa_complement, :dtwa_sat_minimize, :dtwa_sat_minimize_assume, :dtwa_sat_minimize_dichotomy, :dtwa_sat_minimize_incr, :dtwa_sat_synthetize, :dualize, :dump_scc_info_dot, :emptiness_check, :emptiness_check_instantiator, :emptiness_check_instantiator_swigregister, :emptiness_check_result, :emptiness_check_result_swigregister, :emptiness_check_swigregister, :enable_utf8, :ensure_digraph, :environment, :environment_swigregister, :escape_html, :escape_latex, :escape_rfc4180, :escape_str, :explicit_magic_search, :fair_kripke, :fair_kripke_succ_iterator, :fair_kripke_succ_iterator_swigregister, :fair_kripke_swigregister, :fg_safety_to_dca, :fg_safety_to_dca_maybe, :fix_utf8_locations, :fnode_instances_check, :formula, :formula_And, :formula_AndNLM, :formula_AndRat, :formula_Closure, :formula_Concat, :formula_EConcat, :formula_EConcatMarked, :formula_Equiv, :formula_F, :formula_FStar, :formula_Fusion, :formula_G, :formula_Implies, :formula_M, :formula_NegClosure, :formula_NegClosureMarked, :formula_Not, :formula_Or, :formula_OrRat, :formula_R, :formula_Star, :formula_U, :formula_UConcat, :formula_W, :formula_X, :formula_Xor, :formula_ap, :formula_binop, :formula_bunop, :formula_eword, :formula_ff, :formula_multop, :formula_nested_unop_range, :formula_one_star, :formula_sugar_equal, :formula_sugar_goto, :formula_swigregister, :formula_to_bdd, :formula_tt, :formula_unbounded, :formula_unop, :formulaiterator, :from_ltlf, :fun, :g_f_terminal_inplace, :generic_emptiness_check, :generic_emptiness_check_for_scc, :get_cerr, :get_cout, :gf_guarantee_to_ba, :gf_guarantee_to_ba_maybe, :highlight_languages, :highlight_nondet_edges, :highlight_nondet_states, :highlight_semidet_sccs, :highlight_stutter_invariant_states, :iar, :iar_maybe, :impl, :is_colored, :is_complete, :is_complete_scc, :is_deterministic, :is_inherently_weak_automaton, :is_inherently_weak_scc, :is_liveness, :is_liveness_automaton, :is_obligation, :is_persistence, :is_recurrence, :is_safety_automaton, :is_semi_deterministic, :is_stutter_invariant, :is_stutter_invariant_forward_closed, :is_terminal_automaton, :is_terminal_scc, :is_unambiguous, :is_universal, :is_very_weak_automaton, :is_weak_automaton, :is_weak_scc, :isomorphism_checker, :isomorphism_checker_are_isomorphic, :isomorphism_checker_swigregister, :iterated_simulations, :iterated_simulations_sba, :keep_all, :keep_all_swigregister, :keep_inner_scc, :keep_inner_scc_swigregister, :kripke, :kripke_succ_iterator, :kripke_succ_iterator_swigregister, :kripke_swigregister, :language_containment_checker, :language_containment_checker_swigregister, :language_map, :length, :length_boolone, :list_bdd, :list_bdd_swigregister, :"
     ]
    },
    {
     "name": "stderr",
     "output_type": "stream",
     "text": [
      "list_formula_props, :list_step, :list_step_swigregister, :liststr, :liststr_swigregister, :ltl_to_taa, :ltl_to_tgba_fm, :magic_search, :make_bdd_dict, :make_emptiness_check_instantiator, :make_stutter_invariant_forward_closed_inplace, :make_ta_explicit, :make_taa_tgba_formula, :make_taa_tgba_string, :make_tgta_explicit, :make_twa_graph, :make_twa_word, :mark_container, :mark_container_swigregister, :mark_iterator, :mark_iterator_swigregister, :mark_t, :mark_t_all, :mark_t_max_accsets, :mark_t_swigregister, :meth, :minato_isop, :minato_isop_swigregister, :minimize_monitor, :minimize_obligation, :minimize_ta, :minimize_tgta, :minimize_wdba, :mp_class, :mp_hierarchy_svg, :mrand, :nca_st_info, :nca_st_info_swigregister, :negative_normal_form, :nesting_depth, :nl_cerr, :nl_cout, :nrand, :nsa_to_dca, :nsa_to_nca, :ocheck_Auto, :ocheck_via_CoBuchi, :ocheck_via_Rabin, :ocheck_via_WDBA, :ofstream, :ofstream_swigregister, :op_And, :op_AndNLM, :op_AndRat, :op_Closure, :op_Concat, :op_EConcat, :op_EConcatMarked, :op_Equiv, :op_F, :op_FStar, :op_Fusion, :op_G, :op_Implies, :op_M, :op_NegClosure, :op_NegClosureMarked, :op_Not, :op_Or, :op_OrRat, :op_R, :op_Star, :op_U, :op_UConcat, :op_W, :op_X, :op_Xor, :op_ap, :op_eword, :op_ff, :op_tt, :option_map, :option_map_swigregister, :os, :ostream, :ostream_swigregister, :ostringstream, :ostringstream_swigregister, :otf_product, :otf_product_at, :outedge_combiner, :outedge_combiner_swigregister, :pair_bool_mark, :pair_bool_mark_swigregister, :pairmark_t, :pairmark_t_swigregister, :pairunsigned, :pairunsigned_swigregister, :parity_kind_any, :parity_kind_max, :parity_kind_min, :parity_kind_same, :parity_style_any, :parity_style_even, :parity_style_odd, :parity_style_same, :parse_aut, :parse_aut_error_list, :parse_aut_error_list_swigregister, :parse_error, :parse_error_list, :parse_error_list_swigregister, :parse_error_swigregister, :parse_formula, :parse_infix_boolean, :parse_infix_psl, :parse_infix_sere, :parse_prefix_ltl, :parse_word, :parsed_aut, :parsed_aut_swigregister, :parsed_aut_type_DRA, :parsed_aut_type_DSA, :parsed_aut_type_HOA, :parsed_aut_type_LBTT, :parsed_aut_type_NeverClaim, :parsed_aut_type_Unknown, :parsed_formula, :parsed_formula_swigregister, :postprocess, :postprocessor, :postprocessor_swigregister, :prcheck_Auto, :prcheck_via_CoBuchi, :prcheck_via_Rabin, :print_dot, :print_dot_psl, :print_formula_props, :print_hoa, :print_latex_psl, :print_latex_sere, :print_lbt_ltl, :print_lbtt, :print_never_claim, :print_on, :print_psl, :print_sclatex_psl, :print_sclatex_sere, :print_sere, :print_spin_ltl, :print_utf8_psl, :print_utf8_sere, :print_wring_ltl, :printable_acc_cond, :printable_acc_cond_swigregister, :printable_formula, :printable_formula_swigregister, :printable_scc_info, :printable_scc_info_swigregister, :product, :product_or, :product_or_susp, :product_susp, :quote_shell_string, :rabin_is_buchi_realizable, :rabin_to_buchi_maybe, :randltl, :randltlgenerator, :randltlgenerator_swigregister, :random_boolean, :random_boolean_swigregister, :random_formula, :random_formula_swigregister, :random_ltl, :random_ltl_swigregister, :random_psl, :random_psl_swigregister, :random_sere, :random_sere_swigregister, :randomize, :relabel, :relabel_bse, :relabel_here, :relabeling_map, :relabeling_map_swigregister, :remove_alternation, :remove_ap, :remove_ap_swigregister, :remove_fin, :remove_univ_otf, :remove_x, :rrand, :rs_pair, :rs_pair_swigregister, :rs_pairs_view, :rs_pairs_view_swigregister, :sat_minimize, :sbacc, :scc_filter, :scc_filter_states, :scc_filter_susp, :scc_has_rejecting_cycle, :scc_info, :scc_info_inner_scc_edges, :scc_info_inner_scc_edges_swigregister, :scc_info_node, :scc_info_node_swigregister, :scc_info_options_ALL, :scc_info_options_NONE, :scc_info_options_STOP_ON_ACC, :scc_info_options_TRACK_STATES, :scc_info_options_TRACK_STATES_IF_FIN_USED, :scc_info_options_TRACK_SUCCS, :scc_info_scc_edges, :scc_info_scc_edges_swigregister, :scc_info_swigregister, :semidet_sccs, :set_state, :set_state_swigregister, :setup, :shared_state_deleter, :show_mp_hierarchy, :signal, :simplify, :simplify_acceptance, :simplify_acceptance_here, :simulation, :simulation_sba, :sl, :sl2, :sl2_inplace, :split_2step, :split_edges, :srand, :stat_printer, :stat_printer_swigregister, :state, :state_product, :state_product_swigregister, :state_ptr_equal, :state_ptr_equal_swigregister, :state_ptr_hash, :state_ptr_hash_swigregister, :state_ptr_less_than, :state_ptr_less_than_swigregister, :state_shared_ptr_equal, :state_shared_ptr_equal_swigregister, :state_shared_ptr_hash, :state_shared_ptr_hash_swigregister, :state_shared_ptr_less_than, :state_shared_ptr_less_than_swigregister, :state_swigregister, :state_ta_explicit, :state_ta_explicit_swigregister, :state_unicity_table, :state_unicity_table_swigregister, :states_and, :stats_reachable, :step, :step_swigregister, :str_latex_psl, :str_latex_sere, :str_lbt_ltl, :str_psl, :str_sclatex_psl, :str_sclatex_sere, :str_sere, :str_spin_ltl, :str_utf8_psl, :str_utf8_sere, :str_wring_ltl, :streett_to_generalized_buchi, :streett_to_generalized_buchi_maybe, :stutter_invariant_letters, :stutter_invariant_states, :sub_stats_reachable, :subprocess, :succ_iterator, :succ_iterator_swigregister, :sum, :sum_and, :sys, :ta, :ta_explicit, :ta_explicit_succ_iterator, :ta_explicit_succ_iterator_swigregister, :ta_explicit_swigregister, :ta_statistics, :ta_statistics_swigregister, :ta_succ_iterator, :ta_succ_iterator_swigregister, :ta_swigregister, :taa_succ_iterator, :taa_succ_iterator_swigregister, :taa_tgba, :taa_tgba_formula, :taa_tgba_formula_swigregister, :taa_tgba_string, :taa_tgba_string_swigregister, :taa_tgba_swigregister, :tempfile, :tgba_determinize, :tgba_to_ta, :tgba_to_tgta, :tgta, :tgta_explicit, :tgta_explicit_swigregister, :tgta_swigregister, :tl_simplifier, :tl_simplifier_options, :tl_simplifier_options_swigregister, :tl_simplifier_swigregister, :to_dca, :to_generalized_buchi, :to_generalized_rabin, :to_generalized_streett, :to_nca, :to_parity, :to_weak_alternating, :translate, :translator, :translator_swigregister, :trival, :trival_maybe, :trival_swigregister, :twa, :twa_graph, :twa_graph_all_trans, :twa_graph_all_trans_swigregister, :twa_graph_edge_boxed_data, :twa_graph_edge_boxed_data_swigregister, :twa_graph_edge_data, :twa_graph_edge_data_swigregister, :twa_graph_edge_storage, :twa_graph_edge_storage_swigregister, :twa_graph_is_univ_dest, :twa_graph_killer_edge_iterator, :twa_graph_killer_edge_iterator_swigregister, :twa_graph_state, :twa_graph_state_out, :twa_graph_state_out_swigregister, :twa_graph_state_swigregister, :twa_graph_swigregister, :twa_product, :twa_product_init, :twa_product_init_swigregister, :twa_product_swigregister, :twa_run, :twa_run_swigregister, :twa_statistics, :twa_statistics_swigregister, :twa_sub_statistics, :twa_sub_statistics_swigregister, :twa_succ_iterator, :twa_succ_iterator_swigregister, :twa_swigregister, :twa_univ_remover, :twa_univ_remover_swigregister, :twa_word, :twa_word_swigregister, :unabbreviate, :unabbreviator, :unabbreviator_swigregister, :unblock_signal, :univ_remover_state, :univ_remover_state_swigregister, :unsplit_2step, :vector_rs_pair, :vector_rs_pair_swigregister, :vector_twa_graph, :vector_twa_graph_swigregister, :vectorbdd, :vectorbdd_swigregister, :vectorbool, :vectorbool_swigregister, :vectorformula, :vectorformula_swigregister, :vectorpairunsigned, :vectorpairunsigned_swigregister, :vectorstring, :vectorstring_swigregister, :vectorunsigned, :vectorunsigned_swigregister, :version))\n",
      "  ** incremental compilation may be broken for this module **\n",
      "\n",
      "┌ Info: Recompiling stale cache file /mnt/c/Users/Maxime/wsl/.julia/compiled/v1.0/DeepQLearning/A5Nk9.ji for DeepQLearning [de0a67f4-c691-11e8-0034-5fc6e16e22d3]\n",
      "└ @ Base loading.jl:1184\n",
      "┌ Info: Recompiling stale cache file /mnt/c/Users/Maxime/wsl/.julia/compiled/v1.0/AutomotivePOMDPs/L1lsd.ji for AutomotivePOMDPs [dca8afc0-c686-11e8-0934-712707da73aa]\n",
      "└ @ Base loading.jl:1184\n",
      "┌ Info: Recompiling stale cache file /mnt/c/Users/Maxime/wsl/.julia/compiled/v1.0/PedCar/NmDDZ.ji for PedCar [90cf7f26-d5c7-593d-a0e1-4a8367407571]\n",
      "└ @ Base loading.jl:1184\n"
     ]
    }
   ],
   "source": [
    "using Revise\n",
    "using Random\n",
    "using Printf\n",
    "using DataStructures\n",
    "using Flux\n",
    "using POMDPs\n",
    "using POMDPModelTools\n",
    "using POMDPSimulators\n",
    "using BeliefUpdaters\n",
    "using POMDPPolicies\n",
    "using DiscreteValueIteration\n",
    "using MDPModelChecking\n",
    "using StaticArrays\n",
    "using RLInterface\n",
    "using DeepQLearning\n",
    "using AutomotiveDrivingModels\n",
    "using AutomotivePOMDPs\n",
    "using AutomotiveSensors\n",
    "using LocalApproximationValueIteration\n",
    "using Reel\n",
    "using AutoViz\n",
    "using ProgressMeter\n",
    "using JLD2\n",
    "using FileIO\n",
    "using BSON\n",
    "using PedCar"
   ]
  },
  {
   "cell_type": "code",
   "execution_count": 2,
   "metadata": {},
   "outputs": [],
   "source": [
    "includet(\"../src/masking.jl\")\n",
    "includet(\"../src/masked_dqn.jl\")\n",
    "includet(\"../src/qmdp_approximation.jl\")\n",
    "includet(\"../src/decomposed_tracking.jl\")\n",
    "includet(\"../src/decomposition.jl\")\n",
    "includet(\"../src/util.jl\")\n",
    "includet(\"../src/render_helpers.jl\")"
   ]
  },
  {
   "cell_type": "code",
   "execution_count": 3,
   "metadata": {},
   "outputs": [],
   "source": [
    "rng = MersenneTwister(1);\n",
    "cam = FitToContentCamera(0.);"
   ]
  },
  {
   "cell_type": "markdown",
   "metadata": {},
   "source": [
    "## Scenario"
   ]
  },
  {
   "cell_type": "code",
   "execution_count": 4,
   "metadata": {},
   "outputs": [],
   "source": [
    "params = UrbanParams(nlanes_main=1,\n",
    "                     crosswalk_pos =[VecSE2(6, 0., pi/2), VecSE2(-6, 0., pi/2), VecSE2(0., -5., 0.)],\n",
    "                     crosswalk_length =  [14.0, 14., 14.0],\n",
    "                     crosswalk_width = [4.0, 4.0, 3.1],\n",
    "                     stop_line = 22.0)\n",
    "env = UrbanEnv(params=params);"
   ]
  },
  {
   "cell_type": "markdown",
   "metadata": {},
   "source": [
    "** Discrete states MDP **"
   ]
  },
  {
   "cell_type": "code",
   "execution_count": 5,
   "metadata": {},
   "outputs": [],
   "source": [
    "mdp = PedCarMDP(env=env, pos_res=2.0, vel_res=2., ped_birth=0.7, car_birth=0.7);\n",
    "init_transition!(mdp);"
   ]
  },
  {
   "cell_type": "code",
   "execution_count": 6,
   "metadata": {},
   "outputs": [
    {
     "name": "stdout",
     "output_type": "stream",
     "text": [
      "spatial resolution 2.0 m \n",
      "pedestrian velocity resolution 1.0 m/s \n",
      "car velocity resolution 2.0 m/s \n",
      "number of states 23456940 \n",
      "number of actions 4 \n"
     ]
    }
   ],
   "source": [
    "@printf(\"spatial resolution %2.1f m \\n\", mdp.pos_res)\n",
    "@printf(\"pedestrian velocity resolution %2.1f m/s \\n\", mdp.vel_ped_res)\n",
    "@printf(\"car velocity resolution %2.1f m/s \\n\", mdp.vel_res)\n",
    "@printf(\"number of states %d \\n\", n_states(mdp))\n",
    "@printf(\"number of actions %d \\n\", n_actions(mdp))"
   ]
  },
  {
   "cell_type": "markdown",
   "metadata": {},
   "source": [
    "**Continuous states MDP**"
   ]
  },
  {
   "cell_type": "code",
   "execution_count": 7,
   "metadata": {},
   "outputs": [],
   "source": [
    "pomdp = UrbanPOMDP(env=env,\n",
    "                   sensor = PerfectSensor(),\n",
    "                   ego_goal = LaneTag(2, 1),\n",
    "                   max_cars=1, \n",
    "                   max_peds=1, \n",
    "                   car_birth=0.7, \n",
    "                   ped_birth=0.7, \n",
    "                   max_obstacles=0., # no fixed obstacles\n",
    "                   lidar=false,\n",
    "                   ego_start=20,\n",
    "                   ΔT=0.1);"
   ]
  },
  {
   "cell_type": "markdown",
   "metadata": {},
   "source": [
    "## Load policies"
   ]
  },
  {
   "cell_type": "code",
   "execution_count": 8,
   "metadata": {},
   "outputs": [],
   "source": [
    "@load \"../training_scripts/pc_util_processed_low.jld2\" qmat util pol\n",
    "safe_policy = ValueIterationPolicy(mdp, qmat, util, pol);"
   ]
  },
  {
   "cell_type": "code",
   "execution_count": 9,
   "metadata": {},
   "outputs": [],
   "source": [
    "threshold = 0.99\n",
    "mask = SafetyMask(mdp, safe_policy, threshold);\n",
    "continuous_safe_policy = SafePOMDPPolicy(mask, pomdp)\n",
    "discrete_safe_random = MaskedEpsGreedyPolicy(mdp, 1.0, mask, rng)\n",
    "continuous_safe_random = RandomMaskedPOMDPPolicy(mask, pomdp, rng);"
   ]
  },
  {
   "cell_type": "code",
   "execution_count": 10,
   "metadata": {},
   "outputs": [],
   "source": [
    "qnetwork = BSON.load(\"../training_scripts/drqn-log/log20/model.bson\")[:qnetwork]\n",
    "weights = BSON.load(\"../training_scripts/drqn-log/log20/qnetwork.bson\")[:qnetwork]\n",
    "Flux.loadparams!(qnetwork, weights)\n",
    "dqn_policy = NNPolicy(pomdp, qnetwork, actions(pomdp), 1)\n",
    "masked_policy = MaskedNNPolicy(pomdp, dqn_policy, mask);"
   ]
  },
  {
   "cell_type": "markdown",
   "metadata": {},
   "source": [
    "# Evaluation"
   ]
  },
  {
   "cell_type": "markdown",
   "metadata": {},
   "source": [
    "**Discrete Environment: Safe Policy**"
   ]
  },
  {
   "cell_type": "code",
   "execution_count": 2,
   "metadata": {},
   "outputs": [
    {
     "ename": "UndefVarError",
     "evalue": "UndefVarError: rng not defined",
     "output_type": "error",
     "traceback": [
      "UndefVarError: rng not defined",
      "",
      "Stacktrace:",
      " [1] top-level scope at util.jl:156",
      " [2] top-level scope at In[2]:1"
     ]
    }
   ],
   "source": [
    "@time rewards_mask, steps_mask, violations_mask = evaluation_loop(mdp, safe_policy, n_ep=10000, max_steps=400, rng=rng);\n",
    "print_summary(rewards_mask, steps_mask, violations_mask)"
   ]
  },
  {
   "cell_type": "markdown",
   "metadata": {},
   "source": [
    "**Discrete Environment: Safe Random**"
   ]
  },
  {
   "cell_type": "code",
   "execution_count": 12,
   "metadata": {},
   "outputs": [
    {
     "name": "stderr",
     "output_type": "stream",
     "text": [
      "\u001b[32mProgress:   0%|                                         |  ETA: 0:02:12\u001b[39m"
     ]
    },
    {
     "ename": "UndefVarError",
     "evalue": "UndefVarError: a_lon not defined",
     "output_type": "error",
     "traceback": [
      "UndefVarError: a_lon not defined",
      "",
      "Stacktrace:",
      " [1] observe!(::TTCIntersectionDriver, ::VehicleState, ::VehicleState, ::Roadway) at /home/maxime/Maxime/OneDrive - Leland Stanford Junior University/Research/PedCar/src/driver_models_helpers.jl:101",
      " [2] observe!(::UrbanDriver, ::VehicleState, ::VehicleState, ::VehicleState, ::Roadway) at /home/maxime/Maxime/OneDrive - Leland Stanford Junior University/Research/PedCar/src/driver_models_helpers.jl:32",
      " [3] set_car_model!(::PedCarMDP, ::PedCarMDPState, ::UrbanAction) at /home/maxime/Maxime/OneDrive - Leland Stanford Junior University/Research/PedCar/src/driver_models_helpers.jl:23",
      " [4] transition(::PedCarMDP, ::PedCarMDPState, ::UrbanAction) at /home/maxime/Maxime/OneDrive - Leland Stanford Junior University/Research/PedCar/src/transition.jl:7",
      " [5] macro expansion at /mnt/c/Users/Maxime/wsl/.julia/packages/POMDPs/JiYXY/src/generative_impl.jl:19 [inlined]",
      " [6] generate_s at /mnt/c/Users/Maxime/wsl/.julia/packages/POMDPs/JiYXY/src/generative_impl.jl:18 [inlined]",
      " [7] macro expansion at /mnt/c/Users/Maxime/wsl/.julia/packages/POMDPs/JiYXY/src/generative_impl.jl:55 [inlined]",
      " [8] generate_sr at /mnt/c/Users/Maxime/wsl/.julia/packages/POMDPs/JiYXY/src/generative_impl.jl:54 [inlined]",
      " [9] generate_sri(::PedCarMDP, ::PedCarMDPState, ::UrbanAction, ::MersenneTwister) at /mnt/c/Users/Maxime/wsl/.julia/packages/POMDPModelTools/eHEjm/src/info.jl:10",
      " [10] simulate(::HistoryRecorder, ::PedCarMDP, ::MaskedEpsGreedyPolicy{SafetyMask{PedCarMDP,ValueIterationPolicy{Float64}}}, ::PedCarMDPState) at /mnt/c/Users/Maxime/wsl/.julia/packages/POMDPSimulators/xyfJM/src/history_recorder.jl:226",
      " [11] macro expansion at /mnt/c/Users/Maxime/OneDrive - Leland Stanford Junior University/Research/AutomotiveSafeRL/src/util.jl:9 [inlined]",
      " [12] macro expansion at /mnt/c/Users/Maxime/wsl/.julia/packages/ProgressMeter/V73W0/src/ProgressMeter.jl:496 [inlined]",
      " [13] #evaluation_loop#26(::Int64, ::Int64, ::MersenneTwister, ::Function, ::PedCarMDP, ::MaskedEpsGreedyPolicy{SafetyMask{PedCarMDP,ValueIterationPolicy{Float64}}}) at /mnt/c/Users/Maxime/OneDrive - Leland Stanford Junior University/Research/AutomotiveSafeRL/src/util.jl:6",
      " [14] (::getfield(Main, Symbol(\"#kw##evaluation_loop\")))(::NamedTuple{(:n_ep, :max_steps, :rng),Tuple{Int64,Int64,MersenneTwister}}, ::typeof(evaluation_loop), ::PedCarMDP, ::MaskedEpsGreedyPolicy{SafetyMask{PedCarMDP,ValueIterationPolicy{Float64}}}) at ./none:0",
      " [15] top-level scope at util.jl:156",
      " [16] top-level scope at In[12]:1"
     ]
    }
   ],
   "source": [
    "@time rewards_mask, steps_mask, violations_mask = evaluation_loop(mdp, discrete_safe_random, n_ep=10000, max_steps=400, rng=rng);\n",
    "print_summary(rewards_mask, steps_mask, violations_mask)"
   ]
  },
  {
   "cell_type": "markdown",
   "metadata": {},
   "source": [
    "**Continuous Environment: Safe Policy**"
   ]
  },
  {
   "cell_type": "code",
   "execution_count": 13,
   "metadata": {},
   "outputs": [
    {
     "name": "stderr",
     "output_type": "stream",
     "text": [
      "\u001b[32mProgress: 100%|█████████████████████████████████████████|  ETA: 0:00:01\u001b[39m"
     ]
    },
    {
     "name": "stdout",
     "output_type": "stream",
     "text": [
      "508.304257 seconds (2.92 G allocations: 213.361 GiB, 15.00% gc time)\n",
      "Summary for "
     ]
    },
    {
     "name": "stderr",
     "output_type": "stream",
     "text": [
      "\r",
      "\u001b[32mProgress: 100%|█████████████████████████████████████████| Time: 0:08:24\u001b[39m\n"
     ]
    },
    {
     "name": "stdout",
     "output_type": "stream",
     "text": [
      "1000 episodes: \n",
      "Average reward: 0.003 \n",
      "Average # of steps: 230.378 \n",
      "Average # of violations: 0.000 \n"
     ]
    }
   ],
   "source": [
    "@time rewards_mask, steps_mask, violations_mask = evaluation_loop(pomdp, continuous_safe_policy, n_ep=1000, max_steps=400, rng=rng);\n",
    "print_summary(rewards_mask, steps_mask, violations_mask)"
   ]
  },
  {
   "cell_type": "markdown",
   "metadata": {},
   "source": [
    "**Continuous Environment: Safe Random**"
   ]
  },
  {
   "cell_type": "code",
   "execution_count": 14,
   "metadata": {},
   "outputs": [
    {
     "name": "stderr",
     "output_type": "stream",
     "text": [
      "\u001b[32mProgress: 100%|█████████████████████████████████████████|  ETA: 0:00:01\u001b[39m"
     ]
    },
    {
     "name": "stdout",
     "output_type": "stream",
     "text": [
      "858.068648 seconds (5.38 G allocations: 391.846 GiB, 15.29% gc time)\n",
      "Summary for 1000 episodes: \n",
      "Average reward: 0.000 \n",
      "Average # of steps: 391.083 \n",
      "Average # of violations: 0.000 \n"
     ]
    },
    {
     "name": "stderr",
     "output_type": "stream",
     "text": [
      "\r",
      "\u001b[32mProgress: 100%|█████████████████████████████████████████| Time: 0:14:18\u001b[39m\n"
     ]
    }
   ],
   "source": [
    "@time rewards_mask, steps_mask, violations_mask = evaluation_loop(pomdp, continuous_safe_random, n_ep=1000, max_steps=400, rng=rng);\n",
    "print_summary(rewards_mask, steps_mask, violations_mask)"
   ]
  },
  {
   "cell_type": "markdown",
   "metadata": {},
   "source": [
    "###### **Continuous Environment: Safe RL**"
   ]
  },
  {
   "cell_type": "code",
   "execution_count": 15,
   "metadata": {},
   "outputs": [
    {
     "name": "stderr",
     "output_type": "stream",
     "text": [
      "\u001b[32mProgress: 100%|█████████████████████████████████████████|  ETA: 0:00:00\u001b[39m"
     ]
    },
    {
     "name": "stdout",
     "output_type": "stream",
     "text": [
      "187.649868 seconds (1.21 G allocations: 87.823 GiB, 15.07% gc time)\n",
      "Summary for 1000 episodes: \n",
      "Average reward: 0.018 \n",
      "Average # of steps: 113.358 \n",
      "Average # of violations: 0.000 \n"
     ]
    },
    {
     "name": "stderr",
     "output_type": "stream",
     "text": [
      "\r",
      "\u001b[32mProgress: 100%|█████████████████████████████████████████| Time: 0:03:07\u001b[39m\n"
     ]
    }
   ],
   "source": [
    "@time rewards_mask, steps_mask, violations_mask = evaluation_loop(pomdp, masked_policy, n_ep=1000, max_steps=400, rng=rng);\n",
    "print_summary(rewards_mask, steps_mask, violations_mask)"
   ]
  },
  {
   "cell_type": "code",
   "execution_count": 17,
   "metadata": {},
   "outputs": [
    {
     "name": "stdout",
     "output_type": "stream",
     "text": [
      "Evaluation ... Avg Reward 0.99 | Violations (%) 0.00 | Avg Steps 112.92"
     ]
    },
    {
     "data": {
      "text/plain": [
       "0.991"
      ]
     },
     "execution_count": 17,
     "metadata": {},
     "output_type": "execute_result"
    }
   ],
   "source": [
    "evaluation_policy = masked_evaluation(mask)\n",
    "scores_eval = DeepQLearning.evaluation(evaluation_policy, dqn_policy, POMDPEnvironment(pomdp),                                  \n",
    "                         1000,\n",
    "                         400,\n",
    "                         true)"
   ]
  },
  {
   "cell_type": "markdown",
   "metadata": {},
   "source": [
    "**Collisions analysis**"
   ]
  },
  {
   "cell_type": "code",
   "execution_count": 18,
   "metadata": {},
   "outputs": [],
   "source": [
    "test_policy = masked_policy;"
   ]
  },
  {
   "cell_type": "code",
   "execution_count": 19,
   "metadata": {},
   "outputs": [
    {
     "name": "stdout",
     "output_type": "stream",
     "text": [
      "  0.232463 seconds (1.27 M allocations: 94.339 MiB, 16.42% gc time)\n"
     ]
    }
   ],
   "source": [
    "hr = HistoryRecorder(rng=rng, max_steps=400)\n",
    "s0 = initialstate(pomdp, rng)\n",
    "up = PreviousObservationUpdater()\n",
    "o0 = generate_o(pomdp, s0, UrbanAction(0.), s0, rng)\n",
    "b0 = initialize_belief(up, o0)\n",
    "@time hist2 = simulate(hr, pomdp, test_policy, up, b0, s0);"
   ]
  },
  {
   "cell_type": "code",
   "execution_count": 20,
   "metadata": {},
   "outputs": [],
   "source": [
    "function POMDPModelTools.generate_sori(pomdp::UrbanPOMDP, s::Scene, a::UrbanAction, rng::AbstractRNG)\n",
    "    sp, o, r = generate_sor(pomdp, s, a, rng)\n",
    "    return sp, o, r, deepcopy(pomdp.models)\n",
    "end"
   ]
  },
  {
   "cell_type": "code",
   "execution_count": 21,
   "metadata": {},
   "outputs": [
    {
     "name": "stderr",
     "output_type": "stream",
     "text": [
      "\u001b[32mProgress: 100%|█████████████████████████████████████████| Time: 0:48:31\u001b[39m\n"
     ]
    }
   ],
   "source": [
    "function find_collision(pomdp, test_policy, rng)\n",
    "    up = PreviousObservationUpdater()\n",
    "    @showprogress for ep=1:10000\n",
    "        hr = HistoryRecorder(rng=rng, max_steps=400)\n",
    "        s0 = initialstate(pomdp, rng)\n",
    "        o0 = generate_o(pomdp, s0, UrbanAction(0.), s0, rng)\n",
    "        b0 = initialize_belief(up, o0)\n",
    "        hist2 = simulate(hr, pomdp, test_policy, up, b0, s0)\n",
    "        if sum(hist2.reward_hist .< 0.) != 0.\n",
    "            println(\"Crash\")\n",
    "            return hist2\n",
    "        end\n",
    "    end\n",
    "    return hist2 \n",
    "end\n",
    "hist2 = find_collision(pomdp, test_policy, rng);"
   ]
  },
  {
   "cell_type": "code",
   "execution_count": 13,
   "metadata": {},
   "outputs": [
    {
     "data": {
      "text/html": [
       "<video autoplay controls><source src=\"files/reel-16962936228523309651.webm?13253815893135055804\" type=\"video/webm\"></video>"
      ],
      "text/plain": [
       "Frames{MIME{Symbol(\"image/png\")}}(\"/tmp/tmpIL2hzk\", 0x000000000000014c, 20.0, nothing)"
      ]
     },
     "execution_count": 13,
     "metadata": {},
     "output_type": "execute_result"
    }
   ],
   "source": [
    "h = hist2\n",
    "state_hist = h.state_hist\n",
    "action_hist = h.action_hist\n",
    "belief_hist = h.belief_hist\n",
    "safe_acts = [i[1] for i in h.ainfo_hist]\n",
    "probas = [i[2] for i in h.ainfo_hist]\n",
    "routes = [i[3] for i in h.ainfo_hist]\n",
    "\n",
    "push!(safe_acts, [UrbanAction(NaN)])\n",
    "push!(probas, [NaN])\n",
    "push!(routes, PedCar.OFF_ROUTE)\n",
    "push!(action_hist, UrbanAction(NaN))\n",
    "duration, fps, render_hist = animate_states(pomdp, state_hist, action_hist, belief_hist, safe_acts, probas, routes, mask, interp=true, obsviz=true)\n",
    "speed_factor = 2\n",
    "film = roll(render_hist, fps = speed_factor*fps, duration = duration/speed_factor)"
   ]
  },
  {
   "cell_type": "code",
   "execution_count": 14,
   "metadata": {},
   "outputs": [],
   "source": [
    "hist = hist2\n",
    "step = 318\n",
    "s = hist.state_hist[step]\n",
    "models = hist.info_hist[step]\n",
    "o = generate_o(pomdp, s, rng);"
   ]
  },
  {
   "cell_type": "code",
   "execution_count": 22,
   "metadata": {},
   "outputs": [
    {
     "data": {
      "text/plain": [
       "4.925162298159967"
      ]
     },
     "execution_count": 22,
     "metadata": {},
     "output_type": "execute_result"
    }
   ],
   "source": [
    "veh.state.v"
   ]
  },
  {
   "cell_type": "code",
   "execution_count": 15,
   "metadata": {},
   "outputs": [
    {
     "ename": "MethodError",
     "evalue": "MethodError: no method matching getindex(::Nothing, ::Int64)\nClosest candidates are:\n  getindex(::Any, !Matched::AbstractTrees.ImplicitRootState) at /mnt/c/Users/Maxime/wsl/.julia/packages/AbstractTrees/gbHmA/src/AbstractTrees.jl:344",
     "output_type": "error",
     "traceback": [
      "MethodError: no method matching getindex(::Nothing, ::Int64)\nClosest candidates are:\n  getindex(::Any, !Matched::AbstractTrees.ImplicitRootState) at /mnt/c/Users/Maxime/wsl/.julia/packages/AbstractTrees/gbHmA/src/AbstractTrees.jl:344",
      "",
      "Stacktrace:",
      " [1] top-level scope at In[15]:6"
     ]
    }
   ],
   "source": [
    "hist = hist2\n",
    "step = 318\n",
    "s = hist.state_hist[step]\n",
    "vehid = 2\n",
    "veh = s[findfirst(vehid, s)]\n",
    "m = hist.info_hist[step][vehid]\n",
    "cwid = 2\n",
    "cwm = m.crosswalk_drivers[cwid]\n",
    "intm = m.intersection_driver\n",
    "\n",
    "[l.tag for l in intm.navigator.route]"
   ]
  },
  {
   "cell_type": "code",
   "execution_count": 18,
   "metadata": {},
   "outputs": [
    {
     "data": {
      "text/plain": [
       "PedCarMDPState(false, VehicleState(VecSE2({0.108, -0.344}, 2.298), Frenet(RoadIndex({12, 0.111909}, {13, 1}), 4.000, 0.000, 0.000), 2.000), VehicleState(VecSE2({-6.000, -1.000}, 1.571), Frenet(RoadIndex({1, 0.428571}, {18, 1}), 6.000, 0.000, 0.000), 1.000), VehicleState(VecSE2({24.000, 1.500}, 3.142), Frenet(RoadIndex({1, 0.250000}, {1, 1}), 6.000, 0.000, 0.000), 4.000), LaneTag[LaneTag(1, 1), LaneTag(5, 1)])"
      ]
     },
     "execution_count": 18,
     "metadata": {},
     "output_type": "execute_result"
    }
   ],
   "source": [
    "s_mdp = get_mdp_state(mdp, pomdp.models, s, 101, 2)\n",
    "s_itp, w_itp = interpolate_state(mdp, s_mdp)\n",
    "sdisc = s_itp[argmax(w_itp)]"
   ]
  },
  {
   "cell_type": "code",
   "execution_count": 43,
   "metadata": {},
   "outputs": [
    {
     "name": "stdout",
     "output_type": "stream",
     "text": [
      "Vehicle 2 : emergency break\n",
      "veh 2 | clogged true | passed false | engaged true | stop false| right of way true\n"
     ]
    },
    {
     "data": {
      "text/plain": [
       "TTCIntersectionDriver\n",
       "  a: LonAccelDirection\n",
       "  navigator: RouteFollowingIDM\n",
       "  intersection: Array{Lane}((2,))\n",
       "  intersection_pos: VecSE2{Float64}\n",
       "  ttc_threshold: Float64 3.0\n",
       "  horizon: Float64 20.0\n",
       "  stop_delta: Float64 4.0\n",
       "  accel_tol: Float64 0.0\n",
       "  priorities: Dict{Tuple{LaneTag,LaneTag},Bool}\n",
       "  priority: Bool false\n",
       "  stop: Bool true\n"
      ]
     },
     "execution_count": 43,
     "metadata": {},
     "output_type": "execute_result"
    },
    {
     "name": "stderr",
     "output_type": "stream",
     "text": [
      "┌ Warning: /home/maxime/Maxime/OneDrive - Leland Stanford Junior University/Research/AutomotivePOMDPs/src/driver_models is not an existing directory, Revise is not watching\n",
      "└ @ Revise /mnt/c/Users/Maxime/wsl/.julia/packages/Revise/TmjcT/src/Revise.jl:361\n"
     ]
    }
   ],
   "source": [
    "AutomotivePOMDPs.is_intersection_clogged(intm, s, env.roadway, vehid)\n",
    "AutomotivePOMDPs.engaged(intm, s, env.roadway, vehid)\n",
    "AutomotiveDrivingModels.observe!(deepcopy(intm), s, env.roadway, vehid)"
   ]
  },
  {
   "cell_type": "code",
   "execution_count": 42,
   "metadata": {},
   "outputs": [
    {
     "data": {
      "text/plain": [
       "Vehicle(2, VehicleState(VecSE2({4.349, 1.500}, 3.142), Frenet(RoadIndex({1, 0.137579}, {7, 1}), 1.651, 0.000, 0.000), 2.200), VehicleDef(CAR, 4.000, 1.800))"
      ]
     },
     "execution_count": 42,
     "metadata": {},
     "output_type": "execute_result"
    }
   ],
   "source": [
    "s[2]"
   ]
  },
  {
   "cell_type": "markdown",
   "metadata": {},
   "source": [
    "### Collision analysis in the discrete MDP"
   ]
  },
  {
   "cell_type": "code",
   "execution_count": 49,
   "metadata": {},
   "outputs": [
    {
     "name": "stdout",
     "output_type": "stream",
     "text": [
      "  0.296488 seconds (162.34 k allocations: 9.622 MiB)\n"
     ]
    }
   ],
   "source": [
    "hr = HistoryRecorder(rng=rng, max_steps=400)\n",
    "s0 = initialstate(mdp, rng)\n",
    "@time hist2 = simulate(hr, mdp, discrete_safe_random, s0);"
   ]
  },
  {
   "cell_type": "code",
   "execution_count": 47,
   "metadata": {},
   "outputs": [
    {
     "name": "stderr",
     "output_type": "stream",
     "text": [
      "\u001b[32mProgress:  35%|██████████████                           |  ETA: 0:22:44\u001b[39m"
     ]
    },
    {
     "name": "stdout",
     "output_type": "stream",
     "text": [
      "Crash\n"
     ]
    },
    {
     "name": "stderr",
     "output_type": "stream",
     "text": [
      "\r",
      "\u001b[32mProgress:  35%|██████████████                           |  ETA: 0:22:44\u001b[39m\r",
      "\u001b[32mProgress: 100%|█████████████████████████████████████████| Time: 0:12:02\u001b[39m\n"
     ]
    }
   ],
   "source": [
    "function find_collision(mdp::MDP, test_policy, rng)\n",
    "    @showprogress for ep=1:10000\n",
    "        hr = HistoryRecorder(rng=rng, max_steps=400)\n",
    "        s0 = initialstate(mdp, rng)\n",
    "        hist2 = simulate(hr, mdp, test_policy, s0);\n",
    "        if sum(hist2.reward_hist .< 0.) != 0.\n",
    "            println(\"Crash\")\n",
    "            return hist2\n",
    "        end\n",
    "    end\n",
    "    return hist2\n",
    "end\n",
    "hist2 = find_collision(mdp, safe_policy, rng);"
   ]
  },
  {
   "cell_type": "code",
   "execution_count": 50,
   "metadata": {},
   "outputs": [
    {
     "data": {
      "text/html": [
       "<video autoplay controls><source src=\"files/reel-7519734376669645315.webm?15533403556393032667\" type=\"video/webm\"></video>"
      ],
      "text/plain": [
       "Frames{MIME{Symbol(\"image/png\")}}(\"/tmp/tmpB62XHi\", 0x0000000000000056, 4.0, nothing)"
      ]
     },
     "execution_count": 50,
     "metadata": {},
     "output_type": "execute_result"
    }
   ],
   "source": [
    "push!(hist2.action_hist, UrbanAction(NaN))\n",
    "duration, fps, render_hist = animate_states(mdp, hist2.state_hist, hist2.action_hist, mask, overlays=SceneOverlay[IDOverlay()])\n",
    "speed_factor = 2\n",
    "film = roll(render_hist, fps = speed_factor*fps, duration = duration/speed_factor)"
   ]
  },
  {
   "cell_type": "markdown",
   "metadata": {},
   "source": [
    "## Analyze value at custom state"
   ]
  },
  {
   "cell_type": "code",
   "execution_count": 76,
   "metadata": {},
   "outputs": [
    {
     "data": {
      "image/png": "[encoded data removed]",
      "text/plain": [
       "Cairo.CairoSurfaceBase{UInt32}(Ptr{Nothing} @0x0000000013b83ef0, 1000.0, 600.0)"
      ]
     },
     "execution_count": 76,
     "metadata": {},
     "output_type": "execute_result"
    }
   ],
   "source": [
    "# Set car parameter\n",
    "car_on = true\n",
    "car_s0 = 15.\n",
    "car_v0 = 6.\n",
    "car_posF = Frenet(env.roadway[LaneTag(1, 1)], car_s0)\n",
    "car = Vehicle(VehicleState(car_posF, env.roadway, car_v0), pomdp.car_type, 2)\n",
    "\n",
    "# Set pedestrian parameter\n",
    "ped_on = false\n",
    "ped_s0 = 5.\n",
    "ped_v0 = 0.\n",
    "ped_posF = Frenet(env.ped_roadway[LaneTag(18,1)], ped_s0, 0., 0.) # choose between 17, 18, 19\n",
    "ped = Vehicle(VehicleState(ped_posF, env.roadway, ped_v0), pomdp.ped_type, 101)\n",
    "\n",
    "# Set ego vehicle \n",
    "ego_s0 = 5.\n",
    "ego_v0 = 0.\n",
    "ego_posF = Frenet(env.roadway[LaneTag(13, 1)], ego_s0)\n",
    "ego = Vehicle(VehicleState(ego_posF, env.roadway, ego_v0), pomdp.car_type, 1)\n",
    "\n",
    "s_mdp = PedCarMDPState(false, ego.state, ped.state, car.state, SVector(LaneTag(1,1), LaneTag(2,1)))\n",
    "itp_s, itp_weight = interpolate_state(mdp, s_mdp)\n",
    "s_mdp = itp_s[argmax(itp_weight)]\n",
    "\n",
    "s = Scene()\n",
    "push!(s, car)\n",
    "push!(s, ped)\n",
    "push!(s, ego)\n",
    "\n",
    "AutoViz.render(s, env, cam=cam)"
   ]
  },
  {
   "cell_type": "code",
   "execution_count": 31,
   "metadata": {},
   "outputs": [
    {
     "name": "stdout",
     "output_type": "stream",
     "text": [
      "  0.224134 seconds (91.07 k allocations: 6.063 MiB, 7.57% gc time)\n"
     ]
    },
    {
     "data": {
      "text/html": [
       "<video autoplay controls><source src=\"files/reel-2900696624454577397.webm?4145493046255603085\" type=\"video/webm\"></video>"
      ],
      "text/plain": [
       "Frames{MIME{Symbol(\"image/png\")}}(\"/tmp/tmpSqiXOB\", 0x0000000000000191, 4.0, nothing)"
      ]
     },
     "execution_count": 31,
     "metadata": {},
     "output_type": "execute_result"
    }
   ],
   "source": [
    "hr = HistoryRecorder(rng=rng, max_steps=400)\n",
    "s0 = sdisc\n",
    "@time hist2 = simulate(hr, mdp, FunctionPolicy(s->UrbanAction(-4.0)), s0);\n",
    "push!(hist2.action_hist, UrbanAction(NaN))\n",
    "duration, fps, render_hist = animate_states(mdp, hist2.state_hist, hist2.action_hist, mask, overlays=SceneOverlay[IDOverlay()])\n",
    "speed_factor = 2\n",
    "film = roll(render_hist, fps = speed_factor*fps, duration = duration/speed_factor)"
   ]
  },
  {
   "cell_type": "code",
   "execution_count": 46,
   "metadata": {},
   "outputs": [
    {
     "ename": "SystemError",
     "evalue": "SystemError: opening file /mnt/c/Users/Maxime/wsl/.julia/compiled/v1.0/PedCar/NmDDZ.ji: No such file or directory",
     "output_type": "error",
     "traceback": [
      "SystemError: opening file /mnt/c/Users/Maxime/wsl/.julia/compiled/v1.0/PedCar/NmDDZ.ji: No such file or directory",
      "",
      "Stacktrace:",
      " [1] #systemerror#39(::Nothing, ::Function, ::String, ::Bool) at ./error.jl:106",
      " [2] systemerror at ./error.jl:106 [inlined]",
      " [3] #open#293(::Bool, ::Nothing, ::Nothing, ::Nothing, ::Nothing, ::Function, ::String) at ./iostream.jl:283",
      " [4] #open at ./none:0 [inlined]",
      " [5] open(::String, ::String) at ./iostream.jl:339",
      " [6] read_dependency_src(::String, ::String) at ./loading.jl:1309",
      " [7] read_from_cache(::Revise.FileInfo, ::String) at /mnt/c/Users/Maxime/wsl/.julia/packages/Revise/TmjcT/src/pkgs.jl:156",
      " [8] maybe_parse_from_cache!(::Revise.FileInfo, ::String) at /mnt/c/Users/Maxime/wsl/.julia/packages/Revise/TmjcT/src/pkgs.jl:162",
      " [9] revise_file_now(::String) at /mnt/c/Users/Maxime/wsl/.julia/packages/Revise/TmjcT/src/Revise.jl:413",
      " [10] revise() at /mnt/c/Users/Maxime/wsl/.julia/packages/Revise/TmjcT/src/Revise.jl:458",
      " [11] #invokelatest#1 at ./essentials.jl:686 [inlined]",
      " [12] invokelatest at ./essentials.jl:685 [inlined]",
      " [13] execute_request(::ZMQ.Socket, ::IJulia.Msg) at /mnt/c/Users/Maxime/wsl/.julia/packages/IJulia/DL02A/src/execute_request.jl:59",
      " [14] #invokelatest#1 at ./essentials.jl:686 [inlined]",
      " [15] invokelatest at ./essentials.jl:685 [inlined]",
      " [16] eventloop(::ZMQ.Socket) at /mnt/c/Users/Maxime/wsl/.julia/packages/IJulia/DL02A/src/eventloop.jl:8",
      " [17] (::getfield(IJulia, Symbol(\"##12#15\")))() at ./task.jl:259"
     ]
    }
   ],
   "source": [
    "# o = generate_o(pomdp, s, rng)\n",
    "o = hist2.observation_hist[18]\n",
    "s = hist2.state_hist[19]\n",
    "ego = s[findfirst(EGO_ID, s)]\n",
    "car = s[findfirst(CAR_ID, s)]\n",
    "ped = s[findfirst(PED_ID, s)]\n",
    "println(ego)\n",
    "scene = Scene()\n",
    "push!(scene, ego)\n",
    "push!(scene, car)\n",
    "push!(scene, Vehicle(VehicleState(ped_posF, env.roadway, ped_v0), pomdp.ped_type, 101))"
   ]
  },
  {
   "cell_type": "code",
   "execution_count": 26,
   "metadata": {},
   "outputs": [
    {
     "name": "stdout",
     "output_type": "stream",
     "text": [
      "Probas [0.998689, 0.998689, 0.998689, 0.995578]\n"
     ]
    }
   ],
   "source": [
    "o = generate_o(pomdp, s, rng)\n",
    "a, ai = action_info(continuous_safe_policy, o)\n",
    "sa, probs, route = ai\n",
    "println(\"Probas \", probs)"
   ]
  },
  {
   "cell_type": "code",
   "execution_count": 99,
   "metadata": {},
   "outputs": [
    {
     "data": {
      "text/plain": [
       "3-element VecSE2{Float64}:\n",
       " 6.0               \n",
       " 3.0000000000000018\n",
       " 1.5707963267948966"
      ]
     },
     "execution_count": 99,
     "metadata": {},
     "output_type": "execute_result"
    }
   ],
   "source": [
    "ped.state.posG"
   ]
  },
  {
   "cell_type": "code",
   "execution_count": 75,
   "metadata": {},
   "outputs": [
    {
     "data": {
      "text/plain": [
       "3-element VecSE2{Float64}:\n",
       " 26.000000000000004\n",
       " -1.5              \n",
       "  0.0              "
      ]
     },
     "execution_count": 75,
     "metadata": {},
     "output_type": "execute_result"
    }
   ],
   "source": [
    "car.state.posG"
   ]
  },
  {
   "cell_type": "code",
   "execution_count": null,
   "metadata": {},
   "outputs": [],
   "source": []
  }
 ],
 "metadata": {
  "@webio": {
   "lastCommId": "10e39db8addb4bbb8da0c21f9fa4bc8d",
   "lastKernelId": "b84afe1a-c884-4d71-a603-b99f19fd0cab"
  },
  "kernelspec": {
   "display_name": "Julia 1.0.0",
   "language": "julia",
   "name": "julia-1.0"
  },
  "language_info": {
   "file_extension": ".jl",
   "mimetype": "application/julia",
   "name": "julia",
   "version": "1.0.0"
  }
 },
 "nbformat": 4,
 "nbformat_minor": 2
}
