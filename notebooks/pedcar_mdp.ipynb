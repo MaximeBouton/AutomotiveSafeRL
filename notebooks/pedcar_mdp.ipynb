{
 "cells": [
  {
   "cell_type": "markdown",
   "metadata": {},
   "source": [
    "# Intersection with a crosswalk"
   ]
  },
  {
   "cell_type": "markdown",
   "metadata": {},
   "source": [
    "**Load dependencies**"
   ]
  },
  {
   "cell_type": "code",
   "execution_count": 1,
   "metadata": {},
   "outputs": [
    {
     "name": "stdout",
     "output_type": "stream",
     "text": [
      "loaded\n"
     ]
    },
    {
     "name": "stderr",
     "output_type": "stream",
     "text": [
      "┌ Info: Recompiling stale cache file /mnt/c/Users/Maxime/wsl/.julia/compiled/v1.0/MDPModelChecking/XrC4q.ji for MDPModelChecking [abefb91b-a28c-5ab9-9bd9-026e532d7b0e]\n",
      "└ @ Base loading.jl:1184\n",
      "┌ Info: Precompiling AutomotivePOMDPs [dca8afc0-c686-11e8-0934-712707da73aa]\n",
      "└ @ Base loading.jl:1186\n",
      "┌ Info: Recompiling stale cache file /mnt/c/Users/Maxime/wsl/.julia/compiled/v1.0/LocalApproximationValueIteration/Dvh7I.ji for LocalApproximationValueIteration [a40420fb-f401-52da-a663-f502e5b95060]\n",
      "└ @ Base loading.jl:1184\n",
      "┌ Warning: Package LocalApproximationValueIteration does not have Random in its dependencies:\n",
      "│ - If you have LocalApproximationValueIteration checked out for development and have\n",
      "│   added Random as a dependency but haven't updated your primary\n",
      "│   environment's manifest file, try `Pkg.resolve()`.\n",
      "│ - Otherwise you may need to report an issue with LocalApproximationValueIteration\n",
      "└ Loading Random into LocalApproximationValueIteration from project dependency, future warnings for LocalApproximationValueIteration are suppressed.\n",
      "┌ Info: Precompiling PedCar [90cf7f26-d5c7-593d-a0e1-4a8367407571]\n",
      "└ @ Base loading.jl:1186\n",
      "┌ Warning: Package PedCar does not have AutomotivePOMDPs in its dependencies:\n",
      "│ - If you have PedCar checked out for development and have\n",
      "│   added AutomotivePOMDPs as a dependency but haven't updated your primary\n",
      "│   environment's manifest file, try `Pkg.resolve()`.\n",
      "│ - Otherwise you may need to report an issue with PedCar\n",
      "└ Loading AutomotivePOMDPs into PedCar from project dependency, future warnings for PedCar are suppressed.\n"
     ]
    }
   ],
   "source": [
    "using Revise\n",
    "using Random\n",
    "using Printf\n",
    "using Flux\n",
    "using POMDPs\n",
    "using POMDPModelTools\n",
    "using POMDPSimulators\n",
    "using BeliefUpdaters\n",
    "using POMDPPolicies\n",
    "using DiscreteValueIteration\n",
    "using MDPModelChecking\n",
    "using StaticArrays\n",
    "using DeepRL\n",
    "using DeepQLearning\n",
    "using AutomotiveDrivingModels\n",
    "using AutomotivePOMDPs\n",
    "using AutomotiveSensors\n",
    "using LocalApproximationValueIteration\n",
    "using Reel\n",
    "using AutoViz\n",
    "using ProgressMeter\n",
    "using JLD2\n",
    "using FileIO\n",
    "using BSON\n",
    "using PedCar"
   ]
  },
  {
   "cell_type": "code",
   "execution_count": 30,
   "metadata": {},
   "outputs": [],
   "source": [
    "includet(\"../src/masking.jl\")\n",
    "includet(\"../src/util.jl\")\n",
    "includet(\"../src/masked_dqn.jl\")\n",
    "includet(\"../src/qmdp_approximation.jl\")\n",
    "includet(\"../src/render_helpers.jl\")"
   ]
  },
  {
   "cell_type": "code",
   "execution_count": 3,
   "metadata": {},
   "outputs": [],
   "source": [
    "rng = MersenneTwister(1);\n",
    "cam = FitToContentCamera(0.);"
   ]
  },
  {
   "cell_type": "markdown",
   "metadata": {},
   "source": [
    "## Scenario"
   ]
  },
  {
   "cell_type": "code",
   "execution_count": 4,
   "metadata": {},
   "outputs": [],
   "source": [
    "params = UrbanParams(nlanes_main=1,\n",
    "                     crosswalk_pos =[VecSE2(6, 0., pi/2), VecSE2(-6, 0., pi/2), VecSE2(0., -5., 0.)],\n",
    "                     crosswalk_length =  [14.0, 14., 14.0],\n",
    "                     crosswalk_width = [4.0, 4.0, 3.1],\n",
    "                     stop_line = 22.0)\n",
    "env = UrbanEnv(params=params);"
   ]
  },
  {
   "cell_type": "markdown",
   "metadata": {},
   "source": [
    "** Discrete states MDP **"
   ]
  },
  {
   "cell_type": "code",
   "execution_count": 5,
   "metadata": {},
   "outputs": [],
   "source": [
    "mdp = PedCarMDP(env=env, pos_res=2.0, vel_res=2., ped_birth=0.7, car_birth=0.7);\n",
    "init_transition!(mdp);"
   ]
  },
  {
   "cell_type": "code",
   "execution_count": 6,
   "metadata": {},
   "outputs": [
    {
     "name": "stdout",
     "output_type": "stream",
     "text": [
      "spatial resolution 2.0 m \n",
      "pedestrian velocity resolution 1.0 m/s \n",
      "car velocity resolution 2.0 m/s \n",
      "number of states 23456940 \n",
      "number of actions 4 \n"
     ]
    }
   ],
   "source": [
    "@printf(\"spatial resolution %2.1f m \\n\", mdp.pos_res)\n",
    "@printf(\"pedestrian velocity resolution %2.1f m/s \\n\", mdp.vel_ped_res)\n",
    "@printf(\"car velocity resolution %2.1f m/s \\n\", mdp.vel_res)\n",
    "@printf(\"number of states %d \\n\", n_states(mdp))\n",
    "@printf(\"number of actions %d \\n\", n_actions(mdp))"
   ]
  },
  {
   "cell_type": "markdown",
   "metadata": {},
   "source": [
    "**Continuous states MDP**"
   ]
  },
  {
   "cell_type": "code",
   "execution_count": 7,
   "metadata": {},
   "outputs": [],
   "source": [
    "pomdp = UrbanPOMDP(env=env,\n",
    "                   sensor = PerfectSensor(),\n",
    "                   ego_goal = LaneTag(2, 1),\n",
    "                   max_cars=1, \n",
    "                   max_peds=1, \n",
    "                   car_birth=0.7, \n",
    "                   ped_birth=0.7, \n",
    "                   max_obstacles=0., # no fixed obstacles\n",
    "                   lidar=false,\n",
    "                   ego_start=20,\n",
    "                   ΔT=0.1);"
   ]
  },
  {
   "cell_type": "markdown",
   "metadata": {},
   "source": [
    "## Load policies"
   ]
  },
  {
   "cell_type": "code",
   "execution_count": 8,
   "metadata": {},
   "outputs": [],
   "source": [
    "@load \"../pc_util_processed.jld2\" qmat util pol\n",
    "safe_policy = ValueIterationPolicy(mdp, qmat, util, pol);"
   ]
  },
  {
   "cell_type": "code",
   "execution_count": 28,
   "metadata": {},
   "outputs": [],
   "source": [
    "threshold = 0.99\n",
    "mask = SafetyMask(mdp, safe_policy, threshold);\n",
    "continuous_safe_policy = SafePOMDPPolicy(mask, pomdp)\n",
    "discrete_safe_random = MaskedEpsGreedyPolicy(mdp, 1.0, mask, rng)\n",
    "continuous_safe_random = RandomMaskedPOMDPPolicy(mask, pomdp, rng);"
   ]
  },
  {
   "cell_type": "code",
   "execution_count": 18,
   "metadata": {},
   "outputs": [],
   "source": [
    "qnetwork = BSON.load(\"../training_scripts/drqn-log/logmodel.bson\")[:qnetwork]\n",
    "dqn_policy = NNPolicy(pomdp, qnetwork, actions(pomdp), 1)\n",
    "masked_policy = MaskedNNPolicy(pomdp, dqn_policy, mask);"
   ]
  },
  {
   "cell_type": "code",
   "execution_count": 10,
   "metadata": {},
   "outputs": [],
   "source": [
    "# Load VI data for maksing\n",
    "# @time state_space = states(mdp);\n",
    "# vi_data = load(\"pedcar_utility.jld2\")\n",
    "# @showprogress for s in state_space\n",
    "#     if !s.crash && isterminal(mdp, s)\n",
    "#         si = stateindex(mdp, s)\n",
    "#         vi_data[\"util\"][si] = 1.0\n",
    "#         vi_data[\"qmat\"][si, :] = ones(n_actions(mdp))\n",
    "#     end\n",
    "# end\n",
    "# policy = ValueIterationPolicy(mdp, vi_data[\"qmat\"], vi_data[\"util\"], vi_data[\"pol\"]);\n",
    "# util = policy.util\n",
    "# qmat = policy.qmat\n",
    "# pol = policy.policy \n",
    "# @save \"pc_util_processed.jld2\" util qmat pol"
   ]
  },
  {
   "cell_type": "markdown",
   "metadata": {},
   "source": [
    "# Evaluation"
   ]
  },
  {
   "cell_type": "markdown",
   "metadata": {},
   "source": [
    "**Discrete Environment: Safe Policy**"
   ]
  },
  {
   "cell_type": "code",
   "execution_count": 19,
   "metadata": {},
   "outputs": [
    {
     "name": "stderr",
     "output_type": "stream",
     "text": [
      "\u001b[32mProgress: 100%|█████████████████████████████████████████|  ETA: 0:00:00\u001b[39m"
     ]
    },
    {
     "name": "stdout",
     "output_type": "stream",
     "text": [
      " 33.186449 seconds (52.49 M allocations: 9.026 GiB, 5.31% gc time)\n",
      "Summary for "
     ]
    },
    {
     "name": "stderr",
     "output_type": "stream",
     "text": [
      "\r",
      "\u001b[32mProgress: 100%|█████████████████████████████████████████|  ETA: 0:00:00\u001b[39m\r",
      "\u001b[32mProgress: 100%|█████████████████████████████████████████| Time: 0:00:33\u001b[39m\n"
     ]
    },
    {
     "name": "stdout",
     "output_type": "stream",
     "text": [
      "10000 episodes: \n",
      "Average reward: 0.189 \n",
      "Average # of steps: 43.908 \n",
      "Average # of violations: 0.000 \n"
     ]
    }
   ],
   "source": [
    "@time rewards_mask, steps_mask, violations_mask = evaluation_loop(mdp, safe_policy, n_ep=10000, max_steps=100, rng=rng);\n",
    "print_summary(rewards_mask, steps_mask, violations_mask)"
   ]
  },
  {
   "cell_type": "markdown",
   "metadata": {},
   "source": [
    "**Discrete Environment: Safe Random**"
   ]
  },
  {
   "cell_type": "code",
   "execution_count": 21,
   "metadata": {},
   "outputs": [
    {
     "name": "stderr",
     "output_type": "stream",
     "text": [
      "\u001b[32mProgress: 100%|█████████████████████████████████████████|  ETA: 0:00:00\u001b[39m"
     ]
    },
    {
     "name": "stdout",
     "output_type": "stream",
     "text": [
      " 55.923841 seconds (173.52 M allocations: 20.131 GiB, 7.47% gc time)\n",
      "Summary for 10000 episodes: \n",
      "Average reward: 0.041 \n",
      "Average # of steps: 77.997 \n",
      "Average # of violations: 0.960 \n"
     ]
    },
    {
     "name": "stderr",
     "output_type": "stream",
     "text": [
      "\r",
      "\u001b[32mProgress: 100%|█████████████████████████████████████████|  ETA: 0:00:00\u001b[39m\r",
      "\u001b[32mProgress: 100%|█████████████████████████████████████████| Time: 0:00:56\u001b[39m\n"
     ]
    }
   ],
   "source": [
    "@time rewards_mask, steps_mask, violations_mask = evaluation_loop(mdp, discrete_rand_pol, n_ep=10000, max_steps=100, rng=rng);\n",
    "print_summary(rewards_mask, steps_mask, violations_mask)"
   ]
  },
  {
   "cell_type": "markdown",
   "metadata": {},
   "source": [
    "**Continuous Environment: Safe Policy**"
   ]
  },
  {
   "cell_type": "code",
   "execution_count": null,
   "metadata": {},
   "outputs": [
    {
     "name": "stderr",
     "output_type": "stream",
     "text": [
      "\u001b[32mProgress:   2%|█                                        |  ETA: 0:14:25\u001b[39m"
     ]
    }
   ],
   "source": [
    "@time rewards_mask, steps_mask, violations_mask = evaluation_loop(pomdp, continuous_safe_policy, n_ep=10000, max_steps=100, rng=rng);\n",
    "print_summary(rewards_mask, steps_mask, violations_mask)"
   ]
  },
  {
   "cell_type": "markdown",
   "metadata": {},
   "source": [
    "**Continuous Environment: Safe Random**"
   ]
  },
  {
   "cell_type": "code",
   "execution_count": 25,
   "metadata": {},
   "outputs": [
    {
     "name": "stderr",
     "output_type": "stream",
     "text": [
      "\u001b[32mProgress:  12%|█████                                    |  ETA: 0:32:43\u001b[39m"
     ]
    },
    {
     "ename": "InterruptException",
     "evalue": "InterruptException:",
     "output_type": "error",
     "traceback": [
      "InterruptException:",
      "",
      "Stacktrace:",
      " [1] copy(::Array{Int64,1}) at ./array.jl:299",
      " [2] _deepcopy_array_t(::Any, ::Type, ::IdDict{Any,Any}) at ./deepcopy.jl:83",
      " [3] deepcopy_internal(::Array{Int64,1}, ::IdDict{Any,Any}) at ./deepcopy.jl:78",
      " [4] deepcopy_internal(::Any, ::IdDict{Any,Any}) at ./deepcopy.jl:67",
      " [5] _deepcopy_array_t(::Any, ::Type, ::IdDict{Any,Any}) at ./deepcopy.jl:91",
      " [6] deepcopy_internal(::Array{CrosswalkDriver,1}, ::IdDict{Any,Any}) at ./deepcopy.jl:78",
      " [7] deepcopy_internal(::Any, ::IdDict{Any,Any}) at ./deepcopy.jl:67",
      " [8] deepcopy_internal(::Dict{Int64,DriverModel}, ::IdDict{Any,Any}) at ./deepcopy.jl:111",
      " [9] deepcopy_internal(::Any, ::IdDict{Any,Any}) at ./deepcopy.jl:67",
      " [10] deepcopy at ./deepcopy.jl:28 [inlined]",
      " [11] generate_s(::UrbanPOMDP, ::Frame{Entity{VehicleState,VehicleDef,Int64}}, ::UrbanAction, ::MersenneTwister) at /mnt/c/Users/Maxime/wsl/.julia/packages/AutomotivePOMDPs/VrEEI/src/generative_pomdps/urban/generative_model.jl:37",
      " [12] macro expansion at /mnt/c/Users/Maxime/wsl/.julia/packages/POMDPs/JiYXY/src/generative_impl.jl:128 [inlined]",
      " [13] generate_so at /mnt/c/Users/Maxime/wsl/.julia/packages/POMDPs/JiYXY/src/generative_impl.jl:127 [inlined]",
      " [14] macro expansion at /mnt/c/Users/Maxime/wsl/.julia/packages/POMDPs/JiYXY/src/generative_impl.jl:168 [inlined]",
      " [15] generate_sor at /mnt/c/Users/Maxime/wsl/.julia/packages/POMDPs/JiYXY/src/generative_impl.jl:167 [inlined]",
      " [16] generate_sori(::UrbanPOMDP, ::Frame{Entity{VehicleState,VehicleDef,Int64}}, ::UrbanAction, ::MersenneTwister) at /mnt/c/Users/Maxime/wsl/.julia/packages/AutomotivePOMDPs/VrEEI/src/generative_pomdps/urban/generative_model.jl:368",
      " [17] simulate(::HistoryRecorder, ::UrbanPOMDP, ::RandomMaskedPOMDPPolicy{SafetyMask{PedCarMDP,ValueIterationPolicy{Float64}}}, ::PreviousObservationUpdater, ::Array{Float64,1}, ::Frame{Entity{VehicleState,VehicleDef,Int64}}) at /mnt/c/Users/Maxime/wsl/.julia/packages/POMDPSimulators/xyfJM/src/history_recorder.jl:136",
      " [18] macro expansion at /mnt/c/Users/Maxime/OneDrive - Leland Stanford Junior University/Research/AutomotiveSafeRL/src/util.jl:27 [inlined]",
      " [19] macro expansion at /mnt/c/Users/Maxime/wsl/.julia/packages/ProgressMeter/V73W0/src/ProgressMeter.jl:496 [inlined]",
      " [20] #evaluation_loop#6(::Int64, ::Int64, ::MersenneTwister, ::Function, ::UrbanPOMDP, ::RandomMaskedPOMDPPolicy{SafetyMask{PedCarMDP,ValueIterationPolicy{Float64}}}) at /mnt/c/Users/Maxime/OneDrive - Leland Stanford Junior University/Research/AutomotiveSafeRL/src/util.jl:22",
      " [21] (::getfield(Main, Symbol(\"#kw##evaluation_loop\")))(::NamedTuple{(:n_ep, :max_steps, :rng),Tuple{Int64,Int64,MersenneTwister}}, ::typeof(evaluation_loop), ::UrbanPOMDP, ::RandomMaskedPOMDPPolicy{SafetyMask{PedCarMDP,ValueIterationPolicy{Float64}}}) at ./none:0",
      " [22] top-level scope at util.jl:156",
      " [23] top-level scope at In[25]:1"
     ]
    }
   ],
   "source": [
    "@time rewards_mask, steps_mask, violations_mask = evaluation_loop(pomdp, continuous_safe_random, n_ep=10000, max_steps=100, rng=rng);\n",
    "print_summary(rewards_mask, steps_mask, violations_mask)"
   ]
  },
  {
   "cell_type": "markdown",
   "metadata": {},
   "source": [
    "**Continuous Environment: Safe RL**"
   ]
  },
  {
   "cell_type": "markdown",
   "metadata": {},
   "source": [
    "**Collisions analysis**"
   ]
  },
  {
   "cell_type": "code",
   "execution_count": null,
   "metadata": {},
   "outputs": [],
   "source": [
    "hr = HistoryRecorder(rng=rng, max_steps=100)\n",
    "s0 = initialstate(mdp, rng)\n",
    "@time hist2 = simulate(hr, mdp, safe_policy, s0);"
   ]
  },
  {
   "cell_type": "code",
   "execution_count": 26,
   "metadata": {},
   "outputs": [
    {
     "name": "stderr",
     "output_type": "stream",
     "text": [
      "\u001b[32mProgress:   0%|                                         |  ETA: 0:20:39\u001b[39m"
     ]
    },
    {
     "name": "stdout",
     "output_type": "stream",
     "text": [
      "Crash\n"
     ]
    },
    {
     "name": "stderr",
     "output_type": "stream",
     "text": [
      "\r",
      "\u001b[32mProgress:   0%|                                         |  ETA: 0:20:33\u001b[39m\r",
      "\u001b[32mProgress: 100%|█████████████████████████████████████████| Time: 0:00:05\u001b[39m\n"
     ]
    }
   ],
   "source": [
    "@showprogress for ep=1:10000\n",
    "    global hist2\n",
    "    hr = HistoryRecorder(rng=rng, max_steps=100)\n",
    "    s0 = initialstate(mdp, rng)\n",
    "    hist2 = simulate(hr, mdp, rand_pol, s0)\n",
    "    if sum(hist2.reward_hist .< 0.) != 0.\n",
    "        println(\"Crash\")\n",
    "        break\n",
    "    end\n",
    "end\n",
    "h = hist2\n",
    "state_hist = h.state_hist\n",
    "action_hist = h.action_hist\n",
    "push!(action_hist, UrbanAction(NaN))\n",
    "duration, fps, render_hist = animate_states(mdp, state_hist, action_hist, mask)\n",
    "film = roll(render_hist, fps = fps, duration = duration)"
   ]
  },
  {
   "cell_type": "code",
   "execution_count": null,
   "metadata": {},
   "outputs": [],
   "source": [
    "h = hist2\n",
    "state_hist = h.state_hist\n",
    "action_hist = h.action_hist\n",
    "push!(action_hist, UrbanAction(NaN))\n",
    "duration, fps, render_hist = animate_states(mdp, state_hist, action_hist, mask)\n",
    "film = roll(render_hist, fps = fps, duration = duration)"
   ]
  },
  {
   "cell_type": "markdown",
   "metadata": {},
   "source": [
    "## Continuous state MDP"
   ]
  },
  {
   "cell_type": "code",
   "execution_count": 9,
   "metadata": {},
   "outputs": [],
   "source": [
    "params = UrbanParams(nlanes_main=1,\n",
    "                     crosswalk_pos =[VecSE2(6, 0., pi/2), VecSE2(-6, 0., pi/2), VecSE2(0., -5., 0.)],\n",
    "                     crosswalk_length =  [14.0, 14., 14.0],\n",
    "                     crosswalk_width = [4.0, 4.0, 3.1],\n",
    "                     stop_line = 22.0)\n",
    "env = UrbanEnv(params=params);"
   ]
  },
  {
   "cell_type": "code",
   "execution_count": 10,
   "metadata": {},
   "outputs": [],
   "source": [
    "# sensor\n",
    "pomdp = UrbanPOMDP(env=env,\n",
    "                   sensor = PerfectSensor(),\n",
    "                   ego_goal = LaneTag(2, 1),\n",
    "                   max_cars=1, \n",
    "                   max_peds=1, \n",
    "                   car_birth=0.7, \n",
    "                   ped_birth=0.7, \n",
    "                   max_obstacles=0., # no fixed obstacles\n",
    "                   lidar=false,\n",
    "                   ego_start=20,\n",
    "                   ΔT=0.1);"
   ]
  },
  {
   "cell_type": "code",
   "execution_count": 11,
   "metadata": {},
   "outputs": [],
   "source": [
    "function POMDPModelTools.generate_sori(pomdp::UrbanPOMDP, s::Scene, a::UrbanAction, rng::AbstractRNG)\n",
    "    sp, o, r = generate_sor(pomdp, s, a, rng)\n",
    "    return sp, o, r, deepcopy(pomdp.models)\n",
    "end"
   ]
  },
  {
   "cell_type": "code",
   "execution_count": 12,
   "metadata": {},
   "outputs": [],
   "source": [
    "rand_pol = RandomMaskedPOMDPPolicy(mask, pomdp, rng);\n",
    "# rand_pol = solve(RandomSolver(), mdp);"
   ]
  },
  {
   "cell_type": "code",
   "execution_count": 13,
   "metadata": {},
   "outputs": [
    {
     "name": "stdout",
     "output_type": "stream",
     "text": [
      " 15.208524 seconds (11.93 M allocations: 744.949 MiB, 6.37% gc time)\n"
     ]
    }
   ],
   "source": [
    "hr = HistoryRecorder(rng=rng, max_steps=400)\n",
    "s0 = initialstate(pomdp,rng)\n",
    "o0 = generate_o(pomdp, s0, rng)\n",
    "up = PreviousObservationUpdater()\n",
    "b0 = initialize_belief(up, o0)\n",
    "@time hist2 = simulate(hr, pomdp, rand_pol, up, b0, s0);"
   ]
  },
  {
   "cell_type": "code",
   "execution_count": 17,
   "metadata": {
    "scrolled": false
   },
   "outputs": [
    {
     "data": {
      "text/html": [
       "<video autoplay controls><source src=\"files/reel-2285023454774293199.webm?3543454591250511610\" type=\"video/webm\"></video>"
      ],
      "text/plain": [
       "Frames{MIME{Symbol(\"image/png\")}}(\"/tmp/tmprmmHMZ\", 0x0000000000000191, 10.0, nothing)"
      ]
     },
     "execution_count": 17,
     "metadata": {},
     "output_type": "execute_result"
    }
   ],
   "source": [
    "h = hist2\n",
    "state_hist = h.state_hist\n",
    "action_hist = h.action_hist\n",
    "belief_hist = h.belief_hist\n",
    "safe_acts = [i[1] for i in h.ainfo_hist]\n",
    "probas = [i[2] for i in h.ainfo_hist]\n",
    "routes = [i[3] for i in h.ainfo_hist]\n",
    "\n",
    "push!(safe_acts, [UrbanAction(NaN)])\n",
    "push!(probas, [NaN])\n",
    "push!(routes, PedCar.OFF_ROUTE)\n",
    "push!(action_hist, UrbanAction(NaN))\n",
    "duration, fps, render_hist = animate_states(pomdp, state_hist, action_hist, belief_hist, safe_acts, probas, routes, mask, interp=true, obsviz=true)\n",
    "film = roll(render_hist, fps = fps, duration = duration)"
   ]
  },
  {
   "cell_type": "code",
   "execution_count": 141,
   "metadata": {},
   "outputs": [
    {
     "data": {
      "text/plain": [
       "TTCIntersectionDriver\n",
       "  a: LonAccelDirection\n",
       "  navigator: RouteFollowingIDM\n",
       "  intersection: Array{Lane}((2,))\n",
       "  intersection_pos: VecSE2{Float64}\n",
       "  ttc_threshold: Float64 3.0\n",
       "  horizon: Float64 20.0\n",
       "  stop_delta: Float64 4.0\n",
       "  accel_tol: Float64 0.0\n",
       "  priorities: Dict{Tuple{LaneTag,LaneTag},Bool}\n",
       "  priority: Bool false\n",
       "  stop: Bool false\n"
      ]
     },
     "execution_count": 141,
     "metadata": {},
     "output_type": "execute_result"
    }
   ],
   "source": [
    "step = 79\n",
    "s = h.state_hist[step]\n",
    "vehid = 2\n",
    "veh = s[findfirst(vehid, s)]\n",
    "m = h.info_hist[step][vehid]\n",
    "cwid = 1\n",
    "cwm = m.crosswalk_drivers[cwid]\n",
    "intm = m.intersection_driver"
   ]
  },
  {
   "cell_type": "code",
   "execution_count": 142,
   "metadata": {},
   "outputs": [
    {
     "data": {
      "text/plain": [
       "false"
      ]
     },
     "execution_count": 142,
     "metadata": {},
     "output_type": "execute_result"
    }
   ],
   "source": [
    "AutomotivePOMDPs.ttc_check(intm, s, env.roadway, vehid)"
   ]
  },
  {
   "cell_type": "code",
   "execution_count": 143,
   "metadata": {},
   "outputs": [
    {
     "data": {
      "text/plain": [
       "false"
      ]
     },
     "execution_count": 143,
     "metadata": {},
     "output_type": "execute_result"
    }
   ],
   "source": [
    "AutomotivePOMDPs.engaged(intm, s, env.roadway, vehid)"
   ]
  },
  {
   "cell_type": "code",
   "execution_count": 144,
   "metadata": {},
   "outputs": [
    {
     "data": {
      "text/plain": [
       "false"
      ]
     },
     "execution_count": 144,
     "metadata": {},
     "output_type": "execute_result"
    }
   ],
   "source": [
    "AutomotivePOMDPs.has_passed(intm, s, env.roadway, vehid)"
   ]
  },
  {
   "cell_type": "code",
   "execution_count": 145,
   "metadata": {},
   "outputs": [
    {
     "data": {
      "text/plain": [
       "LonAccelDirection(0.03125, 2)"
      ]
     },
     "execution_count": 145,
     "metadata": {},
     "output_type": "execute_result"
    }
   ],
   "source": [
    "intm.a"
   ]
  },
  {
   "cell_type": "code",
   "execution_count": 126,
   "metadata": {},
   "outputs": [
    {
     "data": {
      "text/plain": [
       "3.7319421333163305"
      ]
     },
     "execution_count": 126,
     "metadata": {},
     "output_type": "execute_result"
    }
   ],
   "source": [
    "ego = s[findfirst(EGO_ID, s)]\n",
    "sqrt(normsquared(VecE2(veh.state.posG - ego.state.posG)))"
   ]
  },
  {
   "cell_type": "code",
   "execution_count": 127,
   "metadata": {},
   "outputs": [
    {
     "data": {
      "text/plain": [
       "0.0"
      ]
     },
     "execution_count": 127,
     "metadata": {},
     "output_type": "execute_result"
    }
   ],
   "source": [
    "veh.state.v"
   ]
  },
  {
   "cell_type": "code",
   "execution_count": 113,
   "metadata": {},
   "outputs": [
    {
     "data": {
      "text/plain": [
       "LonAccelDirection(0.125, 2)"
      ]
     },
     "execution_count": 113,
     "metadata": {},
     "output_type": "execute_result"
    }
   ],
   "source": [
    "mm = deepcopy(intm)\n",
    "observe!(mm, s, env.roadway, vehid)\n",
    "mm.a"
   ]
  },
  {
   "cell_type": "code",
   "execution_count": 104,
   "metadata": {},
   "outputs": [
    {
     "data": {
      "text/plain": [
       "VehicleState(VecSE2({-6.453, -1.500}, 0.000), Frenet(RoadIndex({1, 0.981120}, {3, 1}), 23.547, 0.000, 0.000), 7.938)"
      ]
     },
     "execution_count": 104,
     "metadata": {},
     "output_type": "execute_result"
    }
   ],
   "source": [
    "get_lane(env.roadway, veh)\n",
    "veh.state"
   ]
  },
  {
   "cell_type": "code",
   "execution_count": 46,
   "metadata": {},
   "outputs": [
    {
     "data": {
      "text/plain": [
       "24.0"
      ]
     },
     "execution_count": 46,
     "metadata": {},
     "output_type": "execute_result"
    }
   ],
   "source": [
    "get_end(get_lane(env.roadway, veh))"
   ]
  },
  {
   "cell_type": "code",
   "execution_count": 100,
   "metadata": {},
   "outputs": [],
   "source": [
    "function AutomotivePOMDPs.ttc_check(model::TTCIntersectionDriver, scene::Scene, roadway::Roadway, egoid::Int)\n",
    "    min_ttc = Inf\n",
    "    inter_width = 6.0 #todo parameterized\n",
    "    otherid = -1\n",
    "    ego = scene[findfirst(egoid, scene)]\n",
    "    for veh in scene\n",
    "        if veh.id != egoid && veh.def.class != AgentClass.PEDESTRIAN && !AutomotivePOMDPs.is_behind(ego, veh, roadway)\n",
    "            posF = veh.state.posF\n",
    "            int_x, int_y, int_θ = model.intersection_pos\n",
    "            lane = get_lane(roadway, veh)\n",
    "            int_proj = Frenet(model.intersection_pos, lane, roadway)\n",
    "            if normsquared(VecE2(model.intersection_pos - veh.state.posG)) < inter_width^2 # vehicle is in the middle\n",
    "                println(normsquared(VecE2(model.intersection_pos - veh.state.posG)))\n",
    "                ttc = 0.\n",
    "            else\n",
    "                ttc = (int_proj.s - posF.s)/veh.state.v\n",
    "            end\n",
    "            if 0 <= ttc < min_ttc\n",
    "                otherid = veh.id\n",
    "                min_ttc = ttc\n",
    "            end\n",
    "        end\n",
    "    end\n",
    "    println(\"veh id \", egoid, \"min_ttc \", min_ttc, \" threshold \", model.ttc_threshold, \" other id \", otherid)\n",
    "    if 0 <= min_ttc < model.ttc_threshold\n",
    "        return false\n",
    "    else\n",
    "        return true\n",
    "    end\n",
    "end"
   ]
  },
  {
   "cell_type": "code",
   "execution_count": 22,
   "metadata": {},
   "outputs": [],
   "source": [
    "include(\"masking.jl\")\n",
    "include(\"render_helpers.jl\")"
   ]
  },
  {
   "cell_type": "code",
   "execution_count": 66,
   "metadata": {},
   "outputs": [
    {
     "data": {
      "text/plain": [
       "2-element Array{Symbol,1}:\n",
       " :segment\n",
       " :lane   "
      ]
     },
     "execution_count": 66,
     "metadata": {},
     "output_type": "execute_result"
    }
   ],
   "source": [
    "fieldnames(LaneTag)"
   ]
  },
  {
   "cell_type": "code",
   "execution_count": 99,
   "metadata": {},
   "outputs": [
    {
     "name": "stdout",
     "output_type": "stream",
     "text": [
      "VehicleState(VecSE2({-7.000, -5.000}, 0.000), Frenet(RoadIndex({1, 0.000000}, {19, 1}), 0.000, 0.000, 0.000), 1.000)\n",
      "VehicleState(VecSE2({-5.000, -5.000}, 0.000), Frenet(RoadIndex({1, 0.142857}, {19, 1}), 2.000, 0.000, 0.000), 1.000)\n",
      "VehicleState(VecSE2({-6.079, -5.423}, 0.000), Frenet(RoadIndex({1, 0.065755}, {19, 1}), 0.921, -0.423, 0.000), 1.000)\n"
     ]
    },
    {
     "name": "stderr",
     "output_type": "stream",
     "text": [
      "WARNING: Method definition get_mdp_state(PedCar.PedCarMDP, AutomotivePOMDPs.UrbanPOMDP, Records.Frame{Records.Entity{AutomotiveDrivingModels.VehicleState, AutomotiveDrivingModels.VehicleDef, Int64}}, Any, Any) in module PedCar at /home/maxime/Maxime/OneDrive - Leland Stanford Junior University/Research/PedCar/src/interpolation.jl:110 overwritten at /home/maxime/Maxime/OneDrive - Leland Stanford Junior University/Research/PedCar/src/interpolation.jl:110.\n"
     ]
    }
   ],
   "source": [
    "s = h.state_hist[2]\n",
    "b = h.belief_hist[2]\n",
    "ai = h.ainfo_hist[2]\n",
    "a = h.action_hist[2]\n",
    "# println(ai[1])\n",
    "# println(ai[2])\n",
    "# println(a)\n",
    "# println(safe_actions(pomdp, rand_pol.mask, s, 101, 2))\n",
    "# println(safe_actions(pomdp, rand_pol.mask, b))\n",
    "action(rand_pol, b)\n",
    "# for veh in s\n",
    "#     println(veh)\n",
    "# end\n",
    "s_mdp = get_mdp_state(rand_pol.mask.mdp, rand_pol.pomdp, s, PED_ID, CAR_ID)\n",
    "itp_ped, itp_ped_w = interpolate_pedestrian(mdp, s_mdp.ped)\n",
    "for ped in itp_ped\n",
    "    println(ped)\n",
    "end\n",
    "println(s_mdp.ped)"
   ]
  },
  {
   "cell_type": "code",
   "execution_count": 78,
   "metadata": {},
   "outputs": [
    {
     "data": {
      "text/plain": [
       "VehicleState(VecSE2({-28.000, -29.100}, 0.000), Frenet(RoadIndex({1, 0.000000}, {18, 1}), 0.000, 22.000, -1.571), 0.000)"
      ]
     },
     "execution_count": 78,
     "metadata": {},
     "output_type": "execute_result"
    }
   ],
   "source": [
    "s_mdp.ped"
   ]
  },
  {
   "cell_type": "code",
   "execution_count": 68,
   "metadata": {},
   "outputs": [
    {
     "ename": "LoadError",
     "evalue": "\u001b[91mBoundsError: attempt to access 44-element Array{Any,1} at index [57]\u001b[39m",
     "output_type": "error",
     "traceback": [
      "\u001b[91mBoundsError: attempt to access 44-element Array{Any,1} at index [57]\u001b[39m",
      "",
      "Stacktrace:",
      " [1] \u001b[1mgetindex\u001b[22m\u001b[22m\u001b[1m(\u001b[22m\u001b[22m::Array{Any,1}, ::Int64\u001b[1m)\u001b[22m\u001b[22m at \u001b[1m./array.jl:554\u001b[22m\u001b[22m"
     ]
    }
   ],
   "source": [
    "model = h.info_hist[57][2]\n",
    "model.a\n"
   ]
  },
  {
   "cell_type": "code",
   "execution_count": 64,
   "metadata": {},
   "outputs": [
    {
     "data": {
      "text/plain": [
       "true"
      ]
     },
     "execution_count": 64,
     "metadata": {},
     "output_type": "execute_result"
    }
   ],
   "source": [
    "[m.a for m in model.crosswalk_drivers]\n",
    "m = model.intersection_driver\n",
    "m.priority"
   ]
  },
  {
   "cell_type": "code",
   "execution_count": 61,
   "metadata": {},
   "outputs": [
    {
     "data": {
      "text/plain": [
       "true"
      ]
     },
     "execution_count": 61,
     "metadata": {},
     "output_type": "execute_result"
    }
   ],
   "source": [
    "AutomotivePOMDPs.engaged(m, state_hist[57], env.roadway, 2)"
   ]
  },
  {
   "cell_type": "code",
   "execution_count": 63,
   "metadata": {},
   "outputs": [
    {
     "data": {
      "text/plain": [
       "AutomotivePOMDPs.UrbanDriver\n",
       "  a: AutomotivePOMDPs.LonAccelDirection\n",
       "  navigator: AutomotivePOMDPs.RouteFollowingIDM\n",
       "  intersection_driver: AutomotivePOMDPs.TTCIntersectionDriver\n",
       "  crosswalk_drivers: Array{AutomotivePOMDPs.CrosswalkDriver}((3,))\n",
       "  debug: Bool false\n"
      ]
     },
     "execution_count": 63,
     "metadata": {},
     "output_type": "execute_result"
    }
   ],
   "source": [
    "# AutomotivePOMDPs.engaged(model, state_hist[25], env.roadway, 2)\n",
    "observe!(model, state_hist[25], env.roadway, 2)"
   ]
  },
  {
   "cell_type": "code",
   "execution_count": 198,
   "metadata": {},
   "outputs": [
    {
     "data": {
      "text/plain": [
       "4-element Array{AutomotivePOMDPs.UrbanAction,1}:\n",
       " AutomotivePOMDPs.UrbanAction(-4.0)\n",
       " AutomotivePOMDPs.UrbanAction(-2.0)\n",
       " AutomotivePOMDPs.UrbanAction(0.0) \n",
       " AutomotivePOMDPs.UrbanAction(2.0) "
      ]
     },
     "execution_count": 198,
     "metadata": {},
     "output_type": "execute_result"
    }
   ],
   "source": [
    "sc = state_hist[1]\n",
    "b = h.belief_hist[1]\n",
    "safe_actions(pomdp, mask, sc, 101, 2)"
   ]
  },
  {
   "cell_type": "code",
   "execution_count": 152,
   "metadata": {},
   "outputs": [
    {
     "name": "stderr",
     "output_type": "stream",
     "text": [
      "\u001b[32mProgress: 100%|█████████████████████████████████████████|  ETA: 0:00:01\u001b[39m"
     ]
    },
    {
     "name": "stdout",
     "output_type": "stream",
     "text": [
      "893.832134 seconds (5.01 G allocations: 380.725 GiB, 18.74% gc time)\n",
      "Summary for 1000 episodes: \n",
      "Average reward: -0.000 \n",
      "Average # of steps: 388.069 \n",
      "Average # of violations: 1.500 \n"
     ]
    },
    {
     "name": "stderr",
     "output_type": "stream",
     "text": [
      "\r",
      "\u001b[32mProgress: 100%|█████████████████████████████████████████| Time: 0:14:54\u001b[39m\n"
     ]
    }
   ],
   "source": [
    "@time rewards_mask, steps_mask, violations_mask = evaluation_loop(pomdp, rand_pol, n_ep=1000, max_steps=400, rng=rng);\n",
    "print_summary(rewards_mask, steps_mask, violations_mask)"
   ]
  },
  {
   "cell_type": "code",
   "execution_count": 153,
   "metadata": {
    "scrolled": true
   },
   "outputs": [
    {
     "name": "stderr",
     "output_type": "stream",
     "text": [
      "\u001b[32mProgress:  21%|█████████                                |  ETA: 0:28:55\u001b[39m"
     ]
    },
    {
     "name": "stdout",
     "output_type": "stream",
     "text": [
      "Crash\n"
     ]
    },
    {
     "name": "stderr",
     "output_type": "stream",
     "text": [
      "\r",
      "\u001b[32mProgress:  21%|█████████                                |  ETA: 0:28:54\u001b[39m\r",
      "\u001b[32mProgress: 100%|█████████████████████████████████████████| Time: 0:07:54\u001b[39m\n"
     ]
    }
   ],
   "source": [
    "@showprogress for ep=1:10000\n",
    "    global hist2\n",
    "    hr = HistoryRecorder(rng=rng, max_steps=100)\n",
    "    s0 = initialstate(pomdp, rng)\n",
    "    o0 = generate_o(pomdp, s0, rng)\n",
    "    up = PreviousObservationUpdater()\n",
    "    b0 = initialize_belief(up, o0)\n",
    "    hist2 = simulate(hr, pomdp, rand_pol, up, b0, s0)\n",
    "    if sum(hist2.reward_hist .< 0.) != 0.\n",
    "        println(\"Crash\")\n",
    "        break\n",
    "    end\n",
    "end"
   ]
  },
  {
   "cell_type": "markdown",
   "metadata": {
    "collapsed": true
   },
   "source": [
    "## Trained Policy"
   ]
  },
  {
   "cell_type": "code",
   "execution_count": 17,
   "metadata": {},
   "outputs": [],
   "source": [
    "include(\"masked_dqn.jl\")"
   ]
  },
  {
   "cell_type": "code",
   "execution_count": 18,
   "metadata": {},
   "outputs": [
    {
     "name": "stderr",
     "output_type": "stream",
     "text": [
      "2018-10-17 21:48:20.729020: I tensorflow/core/platform/cpu_feature_guard.cc:141] Your CPU supports instructions that this TensorFlow binary was not compiled to use: SSE4.1 SSE4.2 AVX AVX2 FMA\n"
     ]
    }
   ],
   "source": [
    "problem_file=\"training_scripts/drqn-log/log8/problem.bson\"\n",
    "weights_file=\"training_scripts/drqn-log/log8/weights.bson\"\n",
    "env_ = POMDPEnvironment(pomdp)\n",
    "dqn_policy = DeepQLearning.restore(env_, problem_file=problem_file, weights_file=weights_file)\n",
    "policy = MaskedNNPolicy(pomdp, dqn_policy, mask);"
   ]
  },
  {
   "cell_type": "code",
   "execution_count": 23,
   "metadata": {},
   "outputs": [
    {
     "name": "stdout",
     "output_type": "stream",
     "text": [
      "  0.171773 seconds (907.58 k allocations: 66.687 MiB, 14.02% gc time)\n"
     ]
    }
   ],
   "source": [
    "hr = HistoryRecorder(rng=rng, max_steps=400)\n",
    "s0 = initialstate(pomdp,rng)\n",
    "o0 = generate_o(pomdp, s0, rng)\n",
    "up = PreviousObservationUpdater()\n",
    "b0 = initialize_belief(up, o0)\n",
    "@time hist2 = simulate(hr, pomdp, policy, up, b0, s0);"
   ]
  },
  {
   "cell_type": "code",
   "execution_count": 24,
   "metadata": {},
   "outputs": [],
   "source": [
    "include(\"render_helpers.jl\")"
   ]
  },
  {
   "cell_type": "code",
   "execution_count": 25,
   "metadata": {
    "scrolled": false
   },
   "outputs": [
    {
     "data": {
      "text/html": [
       "<video autoplay controls><source src=\"files/reel-10313739153399982388.webm?11757923160299596267\" type=\"video/webm\"></video>"
      ],
      "text/plain": [
       "Frames{MIME{Symbol(\"image/png\")}}(\"/tmp/tmpcmbSZ5\", 0x000000000000004a, 10.0, nothing)"
      ]
     },
     "execution_count": 25,
     "metadata": {},
     "output_type": "execute_result"
    }
   ],
   "source": [
    "h = hist2\n",
    "state_hist = h.state_hist\n",
    "action_hist = h.action_hist\n",
    "belief_hist = h.belief_hist\n",
    "safe_acts = [i[1] for i in h.ainfo_hist]\n",
    "probas = [i[2] for i in h.ainfo_hist]\n",
    "routes = [i[3] for i in h.ainfo_hist]\n",
    "\n",
    "push!(safe_acts, [UrbanAction(NaN)])\n",
    "push!(probas, [NaN])\n",
    "push!(routes, PedCar.OFF_ROUTE)\n",
    "push!(action_hist, UrbanAction(NaN))\n",
    "duration, fps, render_hist = animate_states(pomdp, state_hist, action_hist, belief_hist, safe_acts, probas, routes, mask, interp=true, obsviz=true)\n",
    "film = roll(render_hist, fps = fps, duration = duration)"
   ]
  },
  {
   "cell_type": "code",
   "execution_count": 85,
   "metadata": {},
   "outputs": [
    {
     "data": {
      "text/plain": [
       "4-element Array{AutomotivePOMDPs.UrbanAction,1}:\n",
       " AutomotivePOMDPs.UrbanAction(-4.0)\n",
       " AutomotivePOMDPs.UrbanAction(-2.0)\n",
       " AutomotivePOMDPs.UrbanAction(0.0) \n",
       " AutomotivePOMDPs.UrbanAction(2.0) "
      ]
     },
     "execution_count": 85,
     "metadata": {},
     "output_type": "execute_result"
    }
   ],
   "source": [
    "function MDPModelChecking.safe_actions(pomdp::UrbanPOMDP, mask::SafetyMask{PedCarMDP, P}, s::UrbanState, ped_id, car_id) where P <: Policy\n",
    "    s_mdp = get_mdp_state(mask.mdp, pomdp, s, ped_id, car_id)\n",
    "    itp_states, itp_weights = interpolate_state(mask.mdp, s_mdp)\n",
    "    action_space = actions(mask.mdp)\n",
    "    # compute risk vector\n",
    "    p_sa = zeros(n_actions(mask.mdp))\n",
    "    for (i, ss) in enumerate(itp_states)\n",
    "        vals = actionvalues(mask.policy, ss)\n",
    "        p_sa += itp_weights[i]*vals\n",
    "    end\n",
    "#     println(p_sa)\n",
    "    safe_acts = UrbanAction[]\n",
    "    sizehint!(safe_acts, n_actions(mask.mdp))\n",
    "    if maximum(p_sa) <= mask.threshold\n",
    "        push!(safe_acts, action_space[argmax(p_sa)])\n",
    "    else\n",
    "        for (j, a) in enumerate(action_space)\n",
    "            if p_sa[j] > mask.threshold\n",
    "                push!(safe_acts, a)\n",
    "            end\n",
    "        end\n",
    "    end\n",
    "    return safe_acts\n",
    "end\n",
    "\n",
    "safe_actions(pomdp, mask, state_hist[1], 101, 2)"
   ]
  },
  {
   "cell_type": "code",
   "execution_count": 22,
   "metadata": {},
   "outputs": [
    {
     "name": "stderr",
     "output_type": "stream",
     "text": [
      "\u001b[32mProgress: 100%|█████████████████████████████████████████|  ETA: 0:00:00\u001b[39m"
     ]
    },
    {
     "name": "stdout",
     "output_type": "stream",
     "text": [
      "267.883687 seconds (1.28 G allocations: 91.604 GiB, 13.64% gc time)\n",
      "Summary for 1000 episodes: \n",
      "Average reward: 0.018 \n",
      "Average # of steps: 106.310 \n",
      "Average # of violations: 0.100 \n"
     ]
    },
    {
     "name": "stderr",
     "output_type": "stream",
     "text": [
      "\r",
      "\u001b[32mProgress: 100%|█████████████████████████████████████████| Time: 0:04:28\u001b[39m\n"
     ]
    }
   ],
   "source": [
    "@time rewards_mask, steps_mask, violations_mask = evaluation_loop(pomdp, policy, n_ep=1000, max_steps=400, rng=rng);\n",
    "print_summary(rewards_mask, steps_mask, violations_mask)"
   ]
  },
  {
   "cell_type": "code",
   "execution_count": null,
   "metadata": {},
   "outputs": [],
   "source": []
  }
 ],
 "metadata": {
  "kernelspec": {
   "display_name": "Julia 1.0.0",
   "language": "julia",
   "name": "julia-1.0"
  },
  "language_info": {
   "file_extension": ".jl",
   "mimetype": "application/julia",
   "name": "julia",
   "version": "1.0.0"
  }
 },
 "nbformat": 4,
 "nbformat_minor": 2
}
