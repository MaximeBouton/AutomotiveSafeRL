{
 "cells": [
  {
   "cell_type": "markdown",
   "metadata": {},
   "source": [
    "## Decomposition Refreshed"
   ]
  },
  {
   "cell_type": "code",
   "execution_count": 1,
   "metadata": {},
   "outputs": [
    {
     "name": "stderr",
     "output_type": "stream",
     "text": [
      "┌ Info: Precompiling Flux [587475ba-b771-5e3f-ad9e-33799f191a9c]\n",
      "└ @ Base loading.jl:1186\n"
     ]
    },
    {
     "name": "stdout",
     "output_type": "stream",
     "text": [
      "loaded\n"
     ]
    },
    {
     "name": "stderr",
     "output_type": "stream",
     "text": [
      "┌ Info: Precompiling DeepQLearning [de0a67f4-c691-11e8-0034-5fc6e16e22d3]\n",
      "└ @ Base loading.jl:1186\n",
      "┌ Warning: The call to compilecache failed to create a usable precompiled cache file for DeepQLearning [de0a67f4-c691-11e8-0034-5fc6e16e22d3]\n",
      "│   exception = ErrorException(\"Required dependency Flux [587475ba-b771-5e3f-ad9e-33799f191a9c] failed to load from a cache file.\")\n",
      "└ @ Base loading.jl:963\n",
      "┌ Info: Recompiling stale cache file /mnt/c/Users/Maxime/wsl/.julia/compiled/v1.0/AutoViz/w0rHu.ji for AutoViz [82aa6e0c-a491-5edf-8d4b-c16b98e4ea17]\n",
      "└ @ Base loading.jl:1184\n",
      "┌ Warning: The call to compilecache failed to create a usable precompiled cache file for AutoViz [82aa6e0c-a491-5edf-8d4b-c16b98e4ea17]\n",
      "│   exception = ErrorException(\"Required dependency Cairo [159f3aea-2a34-519c-b102-8c37f9878175] failed to load from a cache file.\")\n",
      "└ @ Base loading.jl:963\n",
      "┌ Info: Precompiling AutomotivePOMDPs [dca8afc0-c686-11e8-0934-712707da73aa]\n",
      "└ @ Base loading.jl:1186\n",
      "┌ Warning: Module AutoViz with build ID 2507578560099 is missing from the cache.\n",
      "│ This may mean AutoViz [82aa6e0c-a491-5edf-8d4b-c16b98e4ea17] does not support precompilation but is imported by a module that does.\n",
      "└ @ Base loading.jl:941\n",
      "┌ Warning: Module AutoViz with build ID 2507578560099 is missing from the cache.\n",
      "│ This may mean AutoViz [82aa6e0c-a491-5edf-8d4b-c16b98e4ea17] does not support precompilation but is imported by a module that does.\n",
      "└ @ Base loading.jl:941\n",
      "┌ Info: Precompiling AutoUrban [1385418a-9289-5a49-ab93-843b508de4cb]\n",
      "└ @ Base loading.jl:1186\n",
      "┌ Warning: Module AutoViz with build ID 2507578560099 is missing from the cache.\n",
      "│ This may mean AutoViz [82aa6e0c-a491-5edf-8d4b-c16b98e4ea17] does not support precompilation but is imported by a module that does.\n",
      "└ @ Base loading.jl:941\n",
      "┌ Info: Recompiling stale cache file /mnt/c/Users/Maxime/wsl/.julia/compiled/v1.0/AutomotiveSensors/NEFS3.ji for AutomotiveSensors [9ec66b5e-c605-11e8-1454-ede748df6f96]\n",
      "└ @ Base loading.jl:1184\n",
      "┌ Warning: Module AutoViz with build ID 2507578560099 is missing from the cache.\n",
      "│ This may mean AutoViz [82aa6e0c-a491-5edf-8d4b-c16b98e4ea17] does not support precompilation but is imported by a module that does.\n",
      "└ @ Base loading.jl:941\n",
      "┌ Info: Precompiling PedCar [90cf7f26-d5c7-593d-a0e1-4a8367407571]\n",
      "└ @ Base loading.jl:1186\n",
      "┌ Warning: Module AutoViz with build ID 2507578560099 is missing from the cache.\n",
      "│ This may mean AutoViz [82aa6e0c-a491-5edf-8d4b-c16b98e4ea17] does not support precompilation but is imported by a module that does.\n",
      "└ @ Base loading.jl:941\n",
      "┌ Info: Precompiling ParticleFilters [c8b314e2-9260-5cf8-ae76-3be7461ca6d0]\n",
      "└ @ Base loading.jl:1186\n"
     ]
    }
   ],
   "source": [
    "using Revise\n",
    "using Random\n",
    "using Printf\n",
    "using StaticArrays\n",
    "using DataStructures\n",
    "using Flux\n",
    "using FileIO\n",
    "using BSON\n",
    "using JLD2\n",
    "using ProgressMeter\n",
    "using POMDPs\n",
    "using POMDPModelTools\n",
    "using POMDPSimulators\n",
    "using POMDPPolicies\n",
    "using BeliefUpdaters\n",
    "using RLInterface\n",
    "using DeepQLearning\n",
    "using LocalApproximationValueIteration\n",
    "using DiscreteValueIteration\n",
    "using AutomotiveDrivingModels\n",
    "using AutoViz\n",
    "using AutomotivePOMDPs\n",
    "using MDPModelChecking\n",
    "using PedCar\n",
    "using AutomotiveSensors\n",
    "using Reel"
   ]
  },
  {
   "cell_type": "code",
   "execution_count": 2,
   "metadata": {},
   "outputs": [],
   "source": [
    "includet(\"../src/masking.jl\")\n",
    "includet(\"../src/util.jl\")\n",
    "includet(\"../src/masked_dqn.jl\")\n",
    "includet(\"../src/qmdp_approximation.jl\")\n",
    "includet(\"../src/decomposed_tracking.jl\")\n",
    "includet(\"../src/decomposition.jl\")\n",
    "includet(\"../src/render_helpers.jl\")\n",
    "includet(\"../RNNFiltering/RNNFiltering.jl\")\n",
    "using Main.RNNFiltering"
   ]
  },
  {
   "cell_type": "code",
   "execution_count": 3,
   "metadata": {},
   "outputs": [],
   "source": [
    "rng = MersenneTwister(1)\n",
    "cam = FitToContentCamera(0.);"
   ]
  },
  {
   "cell_type": "markdown",
   "metadata": {},
   "source": [
    "## Environment"
   ]
  },
  {
   "cell_type": "code",
   "execution_count": 30,
   "metadata": {},
   "outputs": [
    {
     "data": {
      "text/plain": [
       "0"
      ]
     },
     "execution_count": 30,
     "metadata": {},
     "output_type": "execute_result"
    }
   ],
   "source": [
    "mdp = PedCarMDP(pos_res=2.0, vel_res=2., ped_birth=0.7, car_birth=0.7)\n",
    "pomdp = UrbanPOMDP(env=mdp.env,\n",
    "#                    sensor = PerfectSensor(),\n",
    "                    sensor = GaussianSensor(false_positive_rate=0.0, false_negative_rate = 0.0,\n",
    "                                            pos_noise = LinearNoise(min_noise=0.5, increase_rate=0.05), \n",
    "                                            vel_noise = LinearNoise(min_noise=0.5, increase_rate=0.05)),\n",
    "                   ego_goal = LaneTag(2, 1),\n",
    "                   obs_dist = ObstacleDistribution(mdp.env, \n",
    "                                                   upper_obs_pres_prob=0., \n",
    "                                                   left_obs_pres_prob=1.0, \n",
    "                                                   right_obs_pres_prob=1.0),\n",
    "                   max_cars=1, \n",
    "                   max_peds=0, \n",
    "                   car_birth=0.7, \n",
    "                   ped_birth=0., \n",
    "                   max_obstacles=1,\n",
    "                   lidar=false,\n",
    "                   ego_start=20,\n",
    "                   ΔT=0.1);\n",
    "\n",
    "# instantiate sub problems\n",
    "## CAR POMDP FOR TRACKING 1 CAR\n",
    "car_pomdp = deepcopy(pomdp)\n",
    "car_pomdp.models = pomdp.models\n",
    "car_pomdp.max_peds = 0\n",
    "car_pomdp.max_cars = 1\n",
    "## PED POMDP FOR TRACKING 1 PEDESTRIAN\n",
    "ped_pomdp = deepcopy(pomdp)\n",
    "ped_pomdp.models = pomdp.models\n",
    "ped_pomdp.max_peds = 1\n",
    "ped_pomdp.max_cars = 0\n",
    "## PEDCAR POMDP FOR THE POLICY (Model checking + DQN)\n",
    "pedcar_pomdp = deepcopy(pomdp)\n",
    "pedcar_pomdp.models = pomdp.models # shallow copy!\n",
    "pedcar_pomdp.max_peds = 1\n",
    "pedcar_pomdp.max_cars = 1\n",
    "pedcar_pomdp.max_obstacles = 0"
   ]
  },
  {
   "cell_type": "markdown",
   "metadata": {},
   "source": [
    "## Load RNN Belief Updater and Policy"
   ]
  },
  {
   "cell_type": "code",
   "execution_count": 31,
   "metadata": {},
   "outputs": [],
   "source": [
    "n_models = 5\n",
    "car_models = Vector{Chain}(undef, n_models)\n",
    "ped_models = Vector{Chain}(undef, n_models)\n",
    "for i=1:n_models\n",
    "    car_models[i] = BSON.load(\"../RNNFiltering/model_car_$i.bson\")[:model] \n",
    "    Flux.loadparams!(car_models[i], BSON.load(\"../RNNFiltering/weights_car_$i.bson\")[:weights])\n",
    "    ped_models[i] = BSON.load(\"../RNNFiltering/model_ped_$i.bson\")[:model]\n",
    "    Flux.loadparams!(ped_models[i], BSON.load(\"../RNNFiltering/weights_ped_$i.bson\")[:weights])\n",
    "end\n",
    "pres_threshold = 0.3;"
   ]
  },
  {
   "cell_type": "code",
   "execution_count": 32,
   "metadata": {},
   "outputs": [],
   "source": [
    "threshold = 0.99\n",
    "@load \"../training_scripts/pc_util_processed_low.jld2\" qmat util pol\n",
    "safe_policy = ValueIterationPolicy(mdp, qmat, util, pol);\n",
    "mask = SafetyMask(mdp, safe_policy, threshold);"
   ]
  },
  {
   "cell_type": "code",
   "execution_count": 33,
   "metadata": {},
   "outputs": [],
   "source": [
    "qnetwork = BSON.load(\"../training_scripts/drqn-log/log20/model.bson\")[:qnetwork]\n",
    "weights = BSON.load(\"../training_scripts/drqn-log/log20/qnetwork.bson\")[:qnetwork]\n",
    "Flux.loadparams!(qnetwork, weights)\n",
    "dqn_policy = NNPolicy(pedcar_pomdp, qnetwork, actions(pedcar_pomdp), 1)\n",
    "masked_policy = MaskedNNPolicy(pedcar_pomdp, dqn_policy, mask);"
   ]
  },
  {
   "cell_type": "code",
   "execution_count": 34,
   "metadata": {},
   "outputs": [],
   "source": [
    "dec_pol = DecMaskedPolicy(masked_policy, mask, pedcar_pomdp, (x,y) -> min.(x,y));"
   ]
  },
  {
   "cell_type": "markdown",
   "metadata": {},
   "source": [
    "## Evaluation"
   ]
  },
  {
   "cell_type": "code",
   "execution_count": 20,
   "metadata": {},
   "outputs": [
    {
     "name": "stderr",
     "output_type": "stream",
     "text": [
      "\u001b[32mProgress:  99%|█████████████████████████████████████████|  ETA: 0:00:02\u001b[39m"
     ]
    },
    {
     "name": "stdout",
     "output_type": "stream",
     "text": [
      "219.426279 seconds (391.18 M allocations: 113.198 GiB, 15.80% gc time)\n",
      "Summary for "
     ]
    },
    {
     "name": "stderr",
     "output_type": "stream",
     "text": [
      "\r",
      "\u001b[32mProgress: 100%|█████████████████████████████████████████| Time: 0:03:39\u001b[39m\n"
     ]
    },
    {
     "name": "stdout",
     "output_type": "stream",
     "text": [
      "100 episodes: \n",
      "Average reward: 0.035 +/- 0.008 \n",
      "Average # of steps: 67.170 +/- 6.118 \n",
      "Average # of violations: 0.000 +/- 0.000 \n"
     ]
    }
   ],
   "source": [
    "ref_updaters = Dict(AgentClass.PEDESTRIAN => SingleAgentTracker(ped_pomdp, ped_models, pres_threshold, VehicleDef()),\n",
    "                    AgentClass.CAR =>  SingleAgentTracker(car_pomdp, car_models, pres_threshold, VehicleDef()))\n",
    "up = MultipleAgentsTracker(pomdp, ref_updaters, Dict{Int64, SingleAgentTracker}());\n",
    "@time rewards_mask, steps_mask, violations_mask = evaluation_loop(pomdp, dec_pol, up, n_ep=100, max_steps=400, rng=rng);\n",
    "print_summary(rewards_mask, steps_mask, violations_mask)"
   ]
  },
  {
   "cell_type": "markdown",
   "metadata": {},
   "source": [
    "## Simulation"
   ]
  },
  {
   "cell_type": "code",
   "execution_count": 35,
   "metadata": {},
   "outputs": [],
   "source": [
    "function POMDPModelTools.generate_sori(pomdp::UrbanPOMDP, s::Scene, a::UrbanAction, rng::AbstractRNG)\n",
    "    sp, o, r = generate_sor(pomdp, s, a, rng)\n",
    "    return sp, o, r, deepcopy(pomdp.models)\n",
    "end\n",
    "\n",
    "function POMDPModelTools.action_info(policy::DecMaskedPolicy, b::MultipleAgentsBelief)\n",
    "    global pomdp\n",
    "    pedcar_beliefs = create_pedcar_beliefs(pomdp, b) #XXX is using global variable pomdp\n",
    "    a, ai = action_info(policy, pedcar_beliefs)\n",
    "    safe_acts, probs, probs_dict, safe_acts_dict = ai\n",
    "#     println(\"pedcar beliefs: \", keys(pedcar_beliefs))\n",
    "    return a, (safe_acts, probs, probs_dict, safe_acts_dict, pedcar_beliefs, deepcopy(pomdp.models))\n",
    "end"
   ]
  },
  {
   "cell_type": "code",
   "execution_count": 40,
   "metadata": {},
   "outputs": [
    {
     "name": "stdout",
     "output_type": "stream",
     "text": [
      "  2.472577 seconds (3.82 M allocations: 1.119 GiB, 12.95% gc time)\n"
     ]
    }
   ],
   "source": [
    "ref_updaters = Dict(AgentClass.PEDESTRIAN => SingleAgentTracker(ped_pomdp, ped_models, pres_threshold, VehicleDef()),\n",
    "                    AgentClass.CAR =>  SingleAgentTracker(car_pomdp, car_models, pres_threshold, VehicleDef()))\n",
    "up = MultipleAgentsTracker(pomdp, ref_updaters, Dict{Int64, SingleAgentTracker}());\n",
    "\n",
    "s0 = initialstate(pomdp, rng)\n",
    "a0 = UrbanAction(0.)\n",
    "empty_b = MultipleAgentsBelief(Dict{Int64, SingleAgentBelief}(), Vector{Float64}(), pomdp)\n",
    "o0 = generate_o(pomdp,s0, a0, s0, rng)\n",
    "b0 = update(up, empty_b, a0, o0)\n",
    "hr = HistoryRecorder(max_steps=400, rng=rng)\n",
    "@time hist = simulate(hr, pomdp, dec_pol, up, b0, s0);"
   ]
  },
  {
   "cell_type": "code",
   "execution_count": 41,
   "metadata": {
    "scrolled": false
   },
   "outputs": [
    {
     "data": {
      "text/html": [
       "<video autoplay controls><source src=\"files/reel-7381300594145825692.webm?18369590145879440319\" type=\"video/webm\"></video>"
      ],
      "text/plain": [
       "Frames{MIME{Symbol(\"image/png\")}}(\"/tmp/tmpSOdC5d\", 0x0000000000000044, 20.0, nothing)"
      ]
     },
     "execution_count": 41,
     "metadata": {},
     "output_type": "execute_result"
    }
   ],
   "source": [
    "animate_history(hist, pomdp,\n",
    "#                 obs_overlays = o -> [GaussianSensorOverlay(sensor=pomdp.sensor, o=[veh for veh in obs_to_scene(pomdp, o) if veh.id != EGO_ID], color=MONOKAI[\"color2\"])],\n",
    "#                 belief_overlays = b -> [MultipleAgentsBeliefOverlay(b)],\n",
    "                action_overlays = a -> [TextOverlay(text = [\"Acc: $(a.acc) m/s^2\"], font_size=20, pos=VecE2(pomdp.env.params.x_min + 3., 8.), incameraframe=true)],\n",
    "                ainfo_overlays = ai -> [MultipleInterpolatedBeliefsOverlay(ai[5], pomdp, mdp, pedcar_pomdp, ai[end]),\n",
    "                                        TextOverlay(text = [\"Probabilities: $([round(p, digits=4) for p in ai[2]])\"], font_size=20, pos=VecE2(pomdp.env.params.x_min + 3., 12.), incameraframe=true),\n",
    "                                        TextOverlay(text = [\"Available Actions: $([a.acc for a in ai[1]])\"], font_size=20,pos=VecE2(pomdp.env.params.x_min + 3.,10.), incameraframe=true)],\n",
    "#                     [ TextOverlay(text = [\"$vehid: $([round(p, digits=4) for p in probs])\"], font_size=20,pos=VecE2(pomdp.env.params.x_min + 3.,-15-1.5*i), incameraframe=true) for (i,(vehid, probs)) in enumerate(ai[3])]...],                      \n",
    "#                     [ TextOverlay(text = [\"$vehid: $([a.acc for a in acts])\"], font_size=20,pos=VecE2(pomdp.env.params.x_min + 3.,-15-1.5*i), incameraframe=true) for (i,(vehid, acts)) in enumerate(ai[4])]...],\n",
    "#                                             \n",
    "                step_overlays = s -> [TextOverlay(text = [\"step: $s\"], font_size=20, pos=VecE2(pomdp.env.params.x_min + 3.,4.), incameraframe=true)],\n",
    "                extra_overlays = [IDOverlay()],\n",
    "                cam =  StaticCamera(VecE2(0., -8.), 12.0),\n",
    "                speed_factor=2)"
   ]
  },
  {
   "cell_type": "markdown",
   "metadata": {},
   "source": [
    "## Error analysis"
   ]
  },
  {
   "cell_type": "code",
   "execution_count": 28,
   "metadata": {},
   "outputs": [
    {
     "name": "stderr",
     "output_type": "stream",
     "text": [
      "\u001b[32mProgress: 100%|█████████████████████████████████████████| Time: 1:00:15\u001b[39m\n"
     ]
    }
   ],
   "source": [
    "@showprogress for ep=1:1000\n",
    "    global hist\n",
    "    ref_updaters = Dict(AgentClass.PEDESTRIAN => SingleAgentTracker(ped_pomdp, ped_models, pres_threshold, VehicleDef()),\n",
    "                        AgentClass.CAR =>  SingleAgentTracker(car_pomdp, car_models, pres_threshold, VehicleDef()))\n",
    "    up = MultipleAgentsTracker(pomdp, ref_updaters, Dict{Int64, SingleAgentTracker}());\n",
    "\n",
    "    s0 = initialstate(pomdp, rng)\n",
    "    a0 = UrbanAction(0.)\n",
    "    empty_b = MultipleAgentsBelief(Dict{Int64, SingleAgentBelief}(), Vector{Float64}(), pomdp)\n",
    "    o0 = generate_o(pomdp,s0, a0, s0, rng)\n",
    "    b0 = update(up, empty_b, a0, o0)\n",
    "    hr = HistoryRecorder(max_steps=400, rng=rng)\n",
    "    hist = simulate(hr, pomdp, dec_pol, up, b0, s0);\n",
    "    if sum(hist.reward_hist .< 0.) != 0.\n",
    "        println(\"Crash\")\n",
    "        break\n",
    "    end\n",
    "end"
   ]
  },
  {
   "cell_type": "code",
   "execution_count": 25,
   "metadata": {},
   "outputs": [
    {
     "data": {
      "text/html": [
       "<video autoplay controls><source src=\"files/reel-18326358180752676559.webm?8494855199481286202\" type=\"video/webm\"></video>"
      ],
      "text/plain": [
       "Frames{MIME{Symbol(\"image/png\")}}(\"/tmp/tmphN84uw\", 0x0000000000000020, 20.0, nothing)"
      ]
     },
     "execution_count": 25,
     "metadata": {},
     "output_type": "execute_result"
    }
   ],
   "source": [
    "animate_history(hist, pomdp,\n",
    "#                 obs_overlays = o -> [GaussianSensorOverlay(sensor=pomdp.sensor, o=[veh for veh in obs_to_scene(pomdp, o) if veh.id != EGO_ID], color=MONOKAI[\"color2\"])],\n",
    "#                 belief_overlays = b -> [MultipleAgentsBeliefOverlay(b)],\n",
    "                action_overlays = a -> [TextOverlay(text = [\"Acc: $(a.acc) m/s^2\"], font_size=20, pos=VecE2(pomdp.env.params.x_min + 3., 8.), incameraframe=true)],\n",
    "                ainfo_overlays = ai -> [MultipleInterpolatedBeliefsOverlay(ai[5], pomdp, mdp, pedcar_pomdp, ai[end]),\n",
    "                                        TextOverlay(text = [\"Probabilities: $([round(p, digits=4) for p in ai[2]])\"], font_size=20, pos=VecE2(pomdp.env.params.x_min + 3., 12.), incameraframe=true),\n",
    "                                        TextOverlay(text = [\"Available Actions: $([a.acc for a in ai[1]])\"], font_size=20,pos=VecE2(pomdp.env.params.x_min + 3.,10.), incameraframe=true)],\n",
    "#                     [ TextOverlay(text = [\"$vehid: $([round(p, digits=4) for p in probs])\"], font_size=20,pos=VecE2(pomdp.env.params.x_min + 3.,-15-1.5*i), incameraframe=true) for (i,(vehid, probs)) in enumerate(ai[3])]...],                      \n",
    "#                     [ TextOverlay(text = [\"$vehid: $([a.acc for a in acts])\"], font_size=20,pos=VecE2(pomdp.env.params.x_min + 3.,-15-1.5*i), incameraframe=true) for (i,(vehid, acts)) in enumerate(ai[4])]...],\n",
    "#                                             \n",
    "                step_overlays = s -> [TextOverlay(text = [\"step: $s\"], font_size=20, pos=VecE2(pomdp.env.params.x_min + 3.,4.), incameraframe=true)],\n",
    "                extra_overlays = [IDOverlay()],\n",
    "                cam =  StaticCamera(VecE2(0., -8.), 12.0),\n",
    "                speed_factor=2)"
   ]
  },
  {
   "cell_type": "code",
   "execution_count": 178,
   "metadata": {},
   "outputs": [
    {
     "name": "stdout",
     "output_type": "stream",
     "text": [
      "Probas [0.840182, 0.770308, 0.680582, 0.515436]\n"
     ]
    }
   ],
   "source": [
    "s = hist.state_hist[13]\n",
    "pomdp.sensor = PerfectSensor()\n",
    "continuous_safe_policy = SafePOMDPPolicy(mask, pomdp)\n",
    "o = generate_o(pomdp, s, rng)\n",
    "a, ai = action_info(continuous_safe_policy, o)\n",
    "sa, probs, route = ai\n",
    "println(\"Probas \", probs)"
   ]
  },
  {
   "cell_type": "code",
   "execution_count": 168,
   "metadata": {},
   "outputs": [
    {
     "data": {
      "text/plain": [
       "Vehicle(101, VehicleState(VecSE2({5.993, 6.910}, 4.712), Frenet(RoadIndex({1, 0.993538}, {17, 1}), 13.910, 0.007, 3.142), 0.000), VehicleDef(PEDESTRIAN, 1.000, 1.000))"
      ]
     },
     "execution_count": 168,
     "metadata": {},
     "output_type": "execute_result"
    }
   ],
   "source": [
    "s[findfirst(101, s)]"
   ]
  },
  {
   "cell_type": "code",
   "execution_count": 208,
   "metadata": {},
   "outputs": [
    {
     "name": "stdout",
     "output_type": "stream",
     "text": [
      "route s_mdp : LaneTag[LaneTag(3, 1), LaneTag(4, 1)]\n"
     ]
    },
    {
     "data": {
      "text/plain": [
       "4-element Array{Float64,1}:\n",
       " 0.840181895277895 \n",
       " 0.7703075855359827\n",
       " 0.6805823879332716\n",
       " 0.5154355810231509"
      ]
     },
     "execution_count": 208,
     "metadata": {},
     "output_type": "execute_result"
    }
   ],
   "source": [
    "compute_probas(pomdp, mask, s, 101, 2)"
   ]
  },
  {
   "cell_type": "code",
   "execution_count": 214,
   "metadata": {},
   "outputs": [
    {
     "data": {
      "text/plain": [
       "Dict{Int64,DriverModel} with 3 entries:\n",
       "  2   => UrbanDriver…\n",
       "  101 => IntelligentPedestrian…\n",
       "  1   => EgoDriver{UrbanAction}(UrbanAction(2.0))"
      ]
     },
     "execution_count": 214,
     "metadata": {},
     "output_type": "execute_result"
    }
   ],
   "source": [
    "pedcar_pomdp.models = pomdp.models"
   ]
  },
  {
   "cell_type": "code",
   "execution_count": 215,
   "metadata": {},
   "outputs": [
    {
     "name": "stdout",
     "output_type": "stream",
     "text": [
      "route s_mdp : LaneTag[LaneTag(3, 1), LaneTag(4, 1)]\n",
      "[0.867866, 0.816329, 0.749874, 0.593073]\n",
      "route s_mdp : LaneTag[LaneTag(3, 1), LaneTag(4, 1)]\n",
      "route s_mdp : LaneTag[LaneTag(3, 1), LaneTag(4, 1)]\n",
      "[0.877172, 0.826086, 0.759621, 0.6015]\n",
      "route s_mdp : LaneTag[LaneTag(3, 1), LaneTag(4, 1)]\n",
      "route s_mdp : LaneTag[LaneTag(3, 1), LaneTag(4, 1)]\n",
      "[0.843795, 0.79134, 0.725262, 0.572974]\n",
      "route s_mdp : LaneTag[LaneTag(3, 1), LaneTag(4, 1)]\n",
      "route s_mdp : LaneTag[LaneTag(3, 1), LaneTag(4, 1)]\n",
      "[0.898726, 0.851898, 0.790143, 0.641437]\n",
      "route s_mdp : LaneTag[LaneTag(3, 1), LaneTag(4, 1)]\n",
      "route s_mdp : LaneTag[LaneTag(3, 1), LaneTag(4, 1)]\n",
      "[0.999999, 1.0, 1.0, 1.0]\n",
      "route s_mdp : LaneTag[LaneTag(3, 1), LaneTag(4, 1)]\n"
     ]
    },
    {
     "data": {
      "text/plain": [
       "4-element Array{Float64,1}:\n",
       " 0.897511538480356 \n",
       " 0.857130644171401 \n",
       " 0.8049801112524986\n",
       " 0.6817966809237221"
      ]
     },
     "execution_count": 215,
     "metadata": {},
     "output_type": "execute_result"
    }
   ],
   "source": [
    "b = hist.belief_hist[13]\n",
    "pcb = hist.ainfo_hist[12][end - 1]\n",
    "pcbb = pcb[(2,101,1)]\n",
    "compute_probas(pedcar_pomdp, mask, pcb[(2, 101, 1)])"
   ]
  },
  {
   "cell_type": "code",
   "execution_count": 189,
   "metadata": {},
   "outputs": [
    {
     "name": "stdout",
     "output_type": "stream",
     "text": [
      "[0.999998, 0.999999, 1.0, 1.0]\n",
      "[0.999994, 0.999997, 1.0, 1.0]\n",
      "[0.998961, 0.999185, 0.99947, 0.999646]\n",
      "[0.999734, 0.999791, 0.999862, 0.999901]\n",
      "[0.999998, 0.999999, 1.0, 1.0]\n"
     ]
    }
   ],
   "source": [
    "for pred in pcb[(2,101,1)].predictions\n",
    "    obs = obs_to_scene(pedcar_pomdp, pred)\n",
    "    probs = compute_probas(pedcar_pomdp, mask, obs, PED_ID, CAR_ID)\n",
    "    println(probs)\n",
    "end"
   ]
  },
  {
   "cell_type": "code",
   "execution_count": 193,
   "metadata": {},
   "outputs": [],
   "source": [
    "ss = obs_to_scene(pedcar_pomdp, pcbb.predictions[1]);"
   ]
  },
  {
   "cell_type": "code",
   "execution_count": 212,
   "metadata": {},
   "outputs": [
    {
     "data": {
      "text/plain": [
       "2-element SArray{Tuple{2},LaneTag,1,2}:\n",
       " LaneTag(3, 1)\n",
       " LaneTag(4, 1)"
      ]
     },
     "execution_count": 212,
     "metadata": {},
     "output_type": "execute_result"
    }
   ],
   "source": [
    "ssmdp = get_mdp_state(mdp, pomdp, ss, PED_ID, CAR_ID)\n",
    "ssmdp.route"
   ]
  },
  {
   "cell_type": "code",
   "execution_count": 213,
   "metadata": {},
   "outputs": [
    {
     "data": {
      "text/plain": [
       "2-element SArray{Tuple{2},LaneTag,1,2}:\n",
       " LaneTag(3, 1)\n",
       " LaneTag(4, 1)"
      ]
     },
     "execution_count": 213,
     "metadata": {},
     "output_type": "execute_result"
    }
   ],
   "source": [
    "smdp = get_mdp_state(mdp, pomdp, s, PED_ID, CAR_ID)\n",
    "smdp.route"
   ]
  },
  {
   "cell_type": "code",
   "execution_count": 191,
   "metadata": {},
   "outputs": [
    {
     "data": {
      "image/png": "[encoded data removed]",
      "text/plain": [
       "Cairo.CairoSurfaceBase{UInt32}(Ptr{Nothing} @0x000000001a213bc0, 1000.0, 600.0)"
      ]
     },
     "execution_count": 191,
     "metadata": {},
     "output_type": "execute_result"
    }
   ],
   "source": [
    "AutoViz.render(, pomdp.env, cam=cam)"
   ]
  },
  {
   "cell_type": "code",
   "execution_count": 184,
   "metadata": {},
   "outputs": [
    {
     "data": {
      "image/png": "[encoded data removed]",
      "text/plain": [
       "Cairo.CairoSurfaceBase{UInt32}(Ptr{Nothing} @0x000000001abcd3c0, 1000.0, 600.0)"
      ]
     },
     "execution_count": 184,
     "metadata": {},
     "output_type": "execute_result"
    }
   ],
   "source": [
    "pc_overlay =  PedCarBeliefOverlay(pedcar_pomdp, pcb[(2, 101, 1)], MONOKAI[\"color4\"])\n",
    "itp_overlay = InterpolationOverlay(mdp, pomdp.models, s)\n",
    "mitp_overlay = MultipleInterpolatedBeliefsOverlay(pcb, pomdp, mdp, pedcar_pomdp, pomdp.models)\n",
    "AutoViz.render(s, pomdp.env, [mitp_overlay], cam=cam)"
   ]
  },
  {
   "cell_type": "code",
   "execution_count": 162,
   "metadata": {},
   "outputs": [
    {
     "data": {
      "text/plain": [
       "12"
      ]
     },
     "execution_count": 162,
     "metadata": {},
     "output_type": "execute_result"
    }
   ],
   "source": [
    "length(pcb[(2,101,1)].predictions[1])"
   ]
  },
  {
   "cell_type": "code",
   "execution_count": 38,
   "metadata": {},
   "outputs": [
    {
     "data": {
      "text/plain": [
       "PedCarRNNBelief(Array{Float64,1}[[0.0625, -0.215417, 1.0, 0.42, 0.000711217, 0.212845, -0.747486, 0.136436, -0.24282, 0.0276548, 1.00719, 0.095687], [0.0625, -0.215417, 1.0, 0.42, 0.0162518, 0.249588, -0.801901, 0.187845, -0.213451, -0.00989273, 0.973789, 0.103079], [0.0625, -0.215417, 1.0, 0.42, -0.0240651, 0.265608, -0.775372, 0.237054, -0.247915, -0.0196442, 0.975006, 0.114043], [0.0625, -0.215417, 1.0, 0.42, -0.0855629, 0.180073, -0.739143, 0.212066, -0.233062, 0.0114188, 1.02149, 0.106071], [0.0625, -0.215417, 1.0, 0.42, 0.0328453, 0.212662, -0.787419, 0.204028, -0.230685, 0.00203596, 0.998399, 0.0939353]], [0.0625, -0.215417, 1.0, 0.42, -0.105921, 0.251321, -0.762425, 0.238351, -0.219886, 0.015018, 1.0, 0.222582, 0.78125, 0.1875, -0.791667, -0.00333333])"
      ]
     },
     "execution_count": 38,
     "metadata": {},
     "output_type": "execute_result"
    }
   ],
   "source": [
    "s = hist.state_hist[end - 4]\n",
    "b = hist.ainfo_hist[end - 4][5]\n",
    "bb = b[(2, 101,1)]"
   ]
  },
  {
   "cell_type": "code",
   "execution_count": 39,
   "metadata": {},
   "outputs": [
    {
     "data": {
      "image/png": "[encoded data removed]",
      "text/plain": [
       "Cairo.CairoSurfaceBase{UInt32}(Ptr{Nothing} @0x0000000018c84650, 1000.0, 600.0)"
      ]
     },
     "execution_count": 39,
     "metadata": {},
     "output_type": "execute_result"
    }
   ],
   "source": [
    "bel_overlay = PedCarBeliefOverlay(pedcar_pomdp, bb, MONOKAI[\"color2\"])\n",
    "AutoViz.render(s, pomdp.env, [bel_overlay], cam=FitToContentCamera(0.0))"
   ]
  },
  {
   "cell_type": "code",
   "execution_count": 35,
   "metadata": {},
   "outputs": [
    {
     "data": {
      "text/plain": [
       "2-element Array{UrbanAction,1}:\n",
       " UrbanAction(-4.0)\n",
       " UrbanAction(-2.0)"
      ]
     },
     "execution_count": 35,
     "metadata": {},
     "output_type": "execute_result"
    }
   ],
   "source": [
    "safe_actions(pedcar_pomdp, mask, bb, 2, 101)"
   ]
  },
  {
   "cell_type": "code",
   "execution_count": null,
   "metadata": {},
   "outputs": [],
   "source": []
  }
 ],
 "metadata": {
  "@webio": {
   "lastCommId": "c9edeb675ad74ca589dd28e1414a3cdb",
   "lastKernelId": "c8209e7b-03b0-451c-9b3f-5e4d6f1b4bd0"
  },
  "kernelspec": {
   "display_name": "Julia 1.0.0",
   "language": "julia",
   "name": "julia-1.0"
  },
  "language_info": {
   "file_extension": ".jl",
   "mimetype": "application/julia",
   "name": "julia",
   "version": "1.0.0"
  }
 },
 "nbformat": 4,
 "nbformat_minor": 2
}
