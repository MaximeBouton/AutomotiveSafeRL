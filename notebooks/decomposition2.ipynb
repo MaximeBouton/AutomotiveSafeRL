{
 "cells": [
  {
   "cell_type": "markdown",
   "metadata": {},
   "source": [
    "## Decomposition Refreshed"
   ]
  },
  {
   "cell_type": "code",
   "execution_count": 5,
   "metadata": {},
   "outputs": [
    {
     "name": "stdout",
     "output_type": "stream",
     "text": [
      "loaded\n"
     ]
    },
    {
     "name": "stderr",
     "output_type": "stream",
     "text": [
      "┌ Info: Recompiling stale cache file /mnt/c/Users/Maxime/wsl/.julia/compiled/v1.0/LocalApproximationValueIteration/Dvh7I.ji for LocalApproximationValueIteration [a40420fb-f401-52da-a663-f502e5b95060]\n",
      "└ @ Base loading.jl:1184\n",
      "┌ Warning: Package LocalApproximationValueIteration does not have Random in its dependencies:\n",
      "│ - If you have LocalApproximationValueIteration checked out for development and have\n",
      "│   added Random as a dependency but haven't updated your primary\n",
      "│   environment's manifest file, try `Pkg.resolve()`.\n",
      "│ - Otherwise you may need to report an issue with LocalApproximationValueIteration\n",
      "└ Loading Random into LocalApproximationValueIteration from project dependency, future warnings for LocalApproximationValueIteration are suppressed.\n",
      "┌ Info: Recompiling stale cache file /mnt/c/Users/Maxime/wsl/.julia/compiled/v1.0/PedCar/NmDDZ.ji for PedCar [90cf7f26-d5c7-593d-a0e1-4a8367407571]\n",
      "└ @ Base loading.jl:1184\n",
      "┌ Warning: Package PedCar does not have AutomotivePOMDPs in its dependencies:\n",
      "│ - If you have PedCar checked out for development and have\n",
      "│   added AutomotivePOMDPs as a dependency but haven't updated your primary\n",
      "│   environment's manifest file, try `Pkg.resolve()`.\n",
      "│ - Otherwise you may need to report an issue with PedCar\n",
      "└ Loading AutomotivePOMDPs into PedCar from project dependency, future warnings for PedCar are suppressed.\n"
     ]
    }
   ],
   "source": [
    "using Revise\n",
    "using Random\n",
    "using Printf\n",
    "using StaticArrays\n",
    "using DataStructures\n",
    "using Flux\n",
    "using FileIO\n",
    "using BSON\n",
    "using JLD2\n",
    "using ProgressMeter\n",
    "using POMDPs\n",
    "using POMDPModelTools\n",
    "using POMDPSimulators\n",
    "using POMDPPolicies\n",
    "using BeliefUpdaters\n",
    "using DeepRL\n",
    "using DeepQLearning\n",
    "using LocalApproximationValueIteration\n",
    "using DiscreteValueIteration\n",
    "using AutomotiveDrivingModels\n",
    "using AutoViz\n",
    "using AutomotivePOMDPs\n",
    "using MDPModelChecking\n",
    "using PedCar\n",
    "using AutomotiveSensors\n",
    "using Reel"
   ]
  },
  {
   "cell_type": "code",
   "execution_count": null,
   "metadata": {},
   "outputs": [],
   "source": [
    "includet(\"../src/masking.jl\")\n",
    "includet(\"../src/util.jl\")\n",
    "includet(\"../src/masked_dqn.jl\")\n",
    "includet(\"../src/qmdp_approximation.jl\")\n",
    "includet(\"../src/render_helpers.jl\")\n",
    "includet(\"RNNFiltering/RNNFiltering.jl\")\n",
    "using Main.RNNFiltering"
   ]
  },
  {
   "cell_type": "code",
   "execution_count": 3,
   "metadata": {},
   "outputs": [],
   "source": [
    "rng = MersenneTwister(1)\n",
    "cam = FitToContentCamera(0.);"
   ]
  },
  {
   "cell_type": "markdown",
   "metadata": {},
   "source": [
    "## Environment"
   ]
  },
  {
   "cell_type": "code",
   "execution_count": 19,
   "metadata": {},
   "outputs": [
    {
     "data": {
      "text/plain": [
       "0"
      ]
     },
     "execution_count": 19,
     "metadata": {},
     "output_type": "execute_result"
    }
   ],
   "source": [
    "mdp = PedCarMDP(pos_res=2.0, vel_res=2., ped_birth=0.7, car_birth=0.7)\n",
    "pomdp = UrbanPOMDP(env=mdp.env,\n",
    "#                    sensor = PerfectSensor(),\n",
    "                    sensor = GaussianSensor(false_positive_rate=0.0, false_negative_rate = 0.0,\n",
    "                                            pos_noise = LinearNoise(min_noise=0.5, increase_rate=0.05), \n",
    "                                            vel_noise = LinearNoise(min_noise=0.5, increase_rate=0.05)),\n",
    "                   ego_goal = LaneTag(2, 1),\n",
    "                   obs_dist = ObstacleDistribution(mdp.env, \n",
    "                                                   upper_obs_pres_prob=0., \n",
    "                                                   left_obs_pres_prob=1.0, \n",
    "                                                   right_obs_pres_prob=1.0),\n",
    "                   max_cars=2, \n",
    "                   max_peds=2, \n",
    "                   car_birth=0.1, \n",
    "                   ped_birth=0.1, \n",
    "                   max_obstacles=1, # no fixed obstacles\n",
    "                   lidar=false,\n",
    "                   ego_start=20,\n",
    "                   ΔT=0.1);\n",
    "\n",
    "# instantiate sub problems\n",
    "## CAR POMDP FOR TRACKING 1 CAR\n",
    "car_pomdp = deepcopy(pomdp)\n",
    "car_pomdp.max_peds = 0\n",
    "car_pomdp.max_cars = 1\n",
    "## PED POMDP FOR TRACKING 1 PEDESTRIAN\n",
    "ped_pomdp = deepcopy(pomdp)\n",
    "ped_pomdp.max_peds = 1\n",
    "ped_pomdp.max_cars = 0\n",
    "## PEDCAR POMDP FOR THE POLICY (Model checking + DQN)\n",
    "pedcar_pomdp = deepcopy(pomdp)\n",
    "pedcar_pomdp.max_peds = 1\n",
    "pedcar_pomdp.max_cars = 1\n",
    "pedcar_pomdp.max_obstacles = 0"
   ]
  },
  {
   "cell_type": "markdown",
   "metadata": {},
   "source": [
    "## Load RNN Belief Updater and Policy"
   ]
  },
  {
   "cell_type": "code",
   "execution_count": 5,
   "metadata": {},
   "outputs": [],
   "source": [
    "n_models = 5\n",
    "car_models = Vector{Chain}(undef, n_models)\n",
    "ped_models = Vector{Chain}(undef, n_models)\n",
    "for i=1:n_models\n",
    "    car_models[i] = BSON.load(\"training_scripts/RNNFiltering/model_car_$i.bson\")[:model] \n",
    "    Flux.loadparams!(car_models[i], BSON.load(\"training_scripts/RNNFiltering/weights_car_$i.bson\")[:weights])\n",
    "    ped_models[i] = BSON.load(\"training_scripts/RNNFiltering/model_ped_$i.bson\")[:model]\n",
    "    Flux.loadparams!(ped_models[i], BSON.load(\"training_scripts/RNNFiltering/weights_ped_$i.bson\")[:weights])\n",
    "end\n",
    "pres_threshold = 0.3;"
   ]
  },
  {
   "cell_type": "code",
   "execution_count": 6,
   "metadata": {},
   "outputs": [],
   "source": [
    "threshold = 0.99\n",
    "@load \"pc_util_processed.jld2\" qmat util pol\n",
    "safe_policy = ValueIterationPolicy(mdp, qmat, util, pol);\n",
    "mask = SafetyMask(mdp, safe_policy, threshold);"
   ]
  },
  {
   "cell_type": "code",
   "execution_count": 7,
   "metadata": {},
   "outputs": [
    {
     "name": "stderr",
     "output_type": "stream",
     "text": [
      "2018-10-26 18:04:03.975250: I tensorflow/core/platform/cpu_feature_guard.cc:141] Your CPU supports instructions that this TensorFlow binary was not compiled to use: SSE4.1 SSE4.2 AVX AVX2 FMA\n"
     ]
    }
   ],
   "source": [
    "problem_file=\"training_scripts/drqn-log/log8/problem.bson\"\n",
    "weights_file=\"training_scripts/drqn-log/log8/weights.bson\"\n",
    "env_ = POMDPEnvironment(pedcar_pomdp)\n",
    "dqn_policy = DeepQLearning.restore(env_, problem_file=problem_file, weights_file=weights_file)\n",
    "masked_policy = MaskedNNPolicy(pedcar_pomdp, dqn_policy, mask);"
   ]
  },
  {
   "cell_type": "markdown",
   "metadata": {},
   "source": [
    "## Simulation"
   ]
  },
  {
   "cell_type": "code",
   "execution_count": 20,
   "metadata": {},
   "outputs": [],
   "source": [
    "function POMDPModelTools.generate_sori(pomdp::UrbanPOMDP, s::Scene, a::UrbanAction, rng::AbstractRNG)\n",
    "    sp, o, r = generate_sor(pomdp, s, a, rng)\n",
    "    return sp, o, r, deepcopy(pomdp.models)\n",
    "end\n",
    "\n",
    "function POMDPModelTools.action_info(policy::DecMaskedPolicy, b::MultipleAgentsBelief)\n",
    "    global pomdp\n",
    "    pedcar_beliefs = create_pedcar_beliefs(pomdp, b) #XXX is using global variable pomdp\n",
    "    a, ai = action_info(policy, pedcar_beliefs)\n",
    "    safe_acts, probs, probs_dict, safe_acts_dict = ai\n",
    "    return a, (safe_acts, probs, probs_dict, safe_acts_dict, pedcar_beliefs, deepcopy(pomdp.models))\n",
    "end"
   ]
  },
  {
   "cell_type": "code",
   "execution_count": 21,
   "metadata": {},
   "outputs": [],
   "source": [
    "dec_pol = DecMaskedPolicy(masked_policy, mask, pedcar_pomdp, (x,y) -> min.(x,y));"
   ]
  },
  {
   "cell_type": "code",
   "execution_count": 24,
   "metadata": {},
   "outputs": [
    {
     "name": "stdout",
     "output_type": "stream",
     "text": [
      "  5.193430 seconds (22.81 M allocations: 1.578 GiB, 19.36% gc time)\n"
     ]
    }
   ],
   "source": [
    "ref_updaters = Dict(AgentClass.PEDESTRIAN => SingleAgentTracker(ped_pomdp, ped_models, pres_threshold, VehicleDef()),\n",
    "                    AgentClass.CAR =>  SingleAgentTracker(car_pomdp, car_models, pres_threshold, VehicleDef()))\n",
    "up = MultipleAgentsTracker(pomdp, ref_updaters, Dict{Int64, SingleAgentTracker}());\n",
    "\n",
    "s0 = initialstate(pomdp, rng)\n",
    "a0 = UrbanAction(0.)\n",
    "empty_b = MultipleAgentsBelief(Dict{Int64, SingleAgentBelief}(), Vector{Float64}())\n",
    "o0 = generate_o(pomdp,s0, a0, s0, rng)\n",
    "b0 = update(up, empty_b, a0, o0)\n",
    "hr = HistoryRecorder(max_steps=100, rng=rng)\n",
    "@time hist = simulate(hr, pomdp, dec_pol, up, b0, s0);"
   ]
  },
  {
   "cell_type": "code",
   "execution_count": 25,
   "metadata": {},
   "outputs": [
    {
     "data": {
      "text/html": [
       "<video autoplay controls><source src=\"files/reel-877009997895204230.webm?6612559383221960548\" type=\"video/webm\"></video>"
      ],
      "text/plain": [
       "Frames{MIME{Symbol(\"image/png\")}}(\"/tmp/tmpE8m86I\", 0x0000000000000049, 10.0, nothing)"
      ]
     },
     "execution_count": 25,
     "metadata": {},
     "output_type": "execute_result"
    }
   ],
   "source": [
    "animate_history(hist, pomdp,\n",
    "#                 obs_overlays = o -> [GaussianSensorOverlay(sensor=pomdp.sensor, o=[veh for veh in obs_to_scene(pomdp, o) if veh.id != EGO_ID], color=MONOKAI[\"color2\"])],\n",
    "#                 belief_overlays = b -> [MultipleAgentsBeliefOverlay(b)],\n",
    "                ainfo_overlays = ai -> [[InterpolationOverlay(mdp, ai[end], obs_to_scene(pedcar_pomdp, ai[end-1][i].predictions[j])) for j=1:n_models for i in keys(ai[end-1])]...,\n",
    "                                         TextOverlay(text = [\"Available Actions: $([a.acc for a in ai[1]])\"], font_size=20,pos=VecE2(pomdp.env.params.x_min + 3.,10.), incameraframe=true),\n",
    "                                         [ TextOverlay(text = [\"$vehid: $([a.acc for a in acts])\"], font_size=20,pos=VecE2(pomdp.env.params.x_min + 3.,-15-1.5*i), incameraframe=true) for (i,(vehid, acts)) in enumerate(ai[4])]...],\n",
    "                step_overlays = s -> [TextOverlay(text = [\"step: $s\"], font_size=20, pos=VecE2(pomdp.env.params.x_min + 3.,4.), incameraframe=true)],\n",
    "                extra_overlays = [IDOverlay()],\n",
    "                cam =  StaticCamera(VecE2(0., -8.), 12.0))"
   ]
  },
  {
   "cell_type": "markdown",
   "metadata": {},
   "source": [
    "## Evaluation"
   ]
  },
  {
   "cell_type": "code",
   "execution_count": 14,
   "metadata": {},
   "outputs": [
    {
     "data": {
      "text/plain": [
       "evaluation_loop (generic function with 3 methods)"
      ]
     },
     "execution_count": 14,
     "metadata": {},
     "output_type": "execute_result"
    }
   ],
   "source": [
    "function evaluation_loop(pomdp::UrbanPOMDP, policy::Policy, up::MultipleAgentsTracker; n_ep::Int64 = 1000, max_steps::Int64 = 500, rng::AbstractRNG = Base.GLOBAL_RNG)\n",
    "    rewards = zeros(n_ep)\n",
    "    steps = zeros(n_ep)\n",
    "    violations = zeros(n_ep)\n",
    "    @showprogress for ep=1:n_ep\n",
    "        delete!.(Ref(up.single_trackers), k for k in keys(up.single_trackers))\n",
    "        s0 = initialstate(pomdp, rng)\n",
    "        a0 = UrbanAction(0.)\n",
    "        empty_b = MultipleAgentsBelief(Dict{Int64, SingleAgentBelief}(), Vector{Float64}())\n",
    "        o0 = generate_o(pomdp,s0, a0, s0, rng)\n",
    "        b0 = update(up, empty_b, a0, o0)\n",
    "        hr = HistoryRecorder(max_steps=100, rng=rng)\n",
    "        hist = simulate(hr, pomdp, dec_pol, up, b0, s0);\n",
    "        rewards[ep] = discounted_reward(hist)\n",
    "        steps[ep] = n_steps(hist)\n",
    "        violations[ep] = is_crash(hist.state_hist[end])#sum(hist.reward_hist .<= -1.) #+ Int(n_steps(hist) >= max_steps)\n",
    "    end\n",
    "    return rewards, steps, violations\n",
    "end"
   ]
  },
  {
   "cell_type": "code",
   "execution_count": 15,
   "metadata": {},
   "outputs": [
    {
     "name": "stderr",
     "output_type": "stream",
     "text": [
      "\u001b[32mProgress:  99%|█████████████████████████████████████████|  ETA: 0:00:04\u001b[39m"
     ]
    },
    {
     "name": "stdout",
     "output_type": "stream",
     "text": [
      "381.106772 seconds (1.22 G allocations: 88.007 GiB, 19.13% gc time)\n",
      "Summary for 100 episodes: \n",
      "Average reward: 0.021 \n",
      "Average # of steps: 77.360 \n",
      "Average # of violations: 1.000 \n"
     ]
    },
    {
     "name": "stderr",
     "output_type": "stream",
     "text": [
      "\r",
      "\u001b[32mProgress: 100%|█████████████████████████████████████████| Time: 0:06:21\u001b[39m\n"
     ]
    }
   ],
   "source": [
    "ref_updaters = Dict(AgentClass.PEDESTRIAN => SingleAgentTracker(ped_pomdp, ped_models, pres_threshold, VehicleDef()),\n",
    "                    AgentClass.CAR =>  SingleAgentTracker(car_pomdp, car_models, pres_threshold, VehicleDef()))\n",
    "up = MultipleAgentsTracker(pomdp, ref_updaters, Dict{Int64, SingleAgentTracker}());\n",
    "@time rewards_mask, steps_mask, violations_mask = evaluation_loop(pomdp, dec_pol, up, n_ep=100, max_steps=400, rng=rng);\n",
    "print_summary(rewards_mask, steps_mask, violations_mask)"
   ]
  },
  {
   "cell_type": "markdown",
   "metadata": {},
   "source": [
    "## Error analysis"
   ]
  },
  {
   "cell_type": "code",
   "execution_count": 16,
   "metadata": {},
   "outputs": [
    {
     "data": {
      "text/plain": [
       "create_pedcar_states (generic function with 1 method)"
      ]
     },
     "execution_count": 16,
     "metadata": {},
     "output_type": "execute_result"
    }
   ],
   "source": [
    "include(\"decomposition.jl\")"
   ]
  },
  {
   "cell_type": "code",
   "execution_count": 17,
   "metadata": {},
   "outputs": [
    {
     "name": "stderr",
     "output_type": "stream",
     "text": [
      "\u001b[32mProgress:   1%|                                         |  ETA: 16:07:32\u001b[39m"
     ]
    },
    {
     "name": "stdout",
     "output_type": "stream",
     "text": [
      "Crash\n"
     ]
    },
    {
     "name": "stderr",
     "output_type": "stream",
     "text": [
      "\r",
      "\u001b[32mProgress:   1%|                                         |  ETA: 16:01:40\u001b[39m\r",
      "\u001b[32mProgress: 100%|█████████████████████████████████████████| Time: 0:11:11\u001b[39m\n"
     ]
    }
   ],
   "source": [
    "@showprogress for ep=1:10000\n",
    "    global hist\n",
    "    ref_updaters = Dict(AgentClass.PEDESTRIAN => SingleAgentTracker(ped_pomdp, ped_models, pres_threshold, VehicleDef()),\n",
    "                        AgentClass.CAR =>  SingleAgentTracker(car_pomdp, car_models, pres_threshold, VehicleDef()))\n",
    "    up = MultipleAgentsTracker(pomdp, ref_updaters, Dict{Int64, SingleAgentTracker}());\n",
    "\n",
    "    s0 = initialstate(pomdp, rng)\n",
    "    a0 = UrbanAction(0.)\n",
    "    empty_b = MultipleAgentsBelief(Dict{Int64, SingleAgentBelief}(), Vector{Float64}())\n",
    "    o0 = generate_o(pomdp,s0, a0, s0, rng)\n",
    "    b0 = update(up, empty_b, a0, o0)\n",
    "    hr = HistoryRecorder(max_steps=400, rng=rng)\n",
    "    hist = simulate(hr, pomdp, dec_pol, up, b0, s0);\n",
    "    if sum(hist.reward_hist .< 0.) != 0.\n",
    "        println(\"Crash\")\n",
    "        break\n",
    "    end\n",
    "end"
   ]
  },
  {
   "cell_type": "code",
   "execution_count": 18,
   "metadata": {},
   "outputs": [
    {
     "data": {
      "text/html": [
       "<video autoplay controls><source src=\"files/reel-6342538535148362524.webm?6049909830212466136\" type=\"video/webm\"></video>"
      ],
      "text/plain": [
       "Frames{MIME{Symbol(\"image/png\")}}(\"/tmp/tmpUjg30r\", 0x0000000000000020, 10.0, nothing)"
      ]
     },
     "execution_count": 18,
     "metadata": {},
     "output_type": "execute_result"
    }
   ],
   "source": [
    "animate_history(hist, pomdp,\n",
    "#                 obs_overlays = o -> [GaussianSensorOverlay(sensor=pomdp.sensor, o=[veh for veh in obs_to_scene(pomdp, o) if veh.id != EGO_ID], color=MONOKAI[\"color2\"])],\n",
    "#                 belief_overlays = b -> [MultipleAgentsBeliefOverlay(b)],\n",
    "                action_overlays = a-> [TextOverlay(text = [\"Acc: $(a.acc)\"], font_size=20,pos=VecE2(pomdp.env.params.x_min + 3.,8.), incameraframe=true)],\n",
    "                ainfo_overlays = ai -> [[InterpolationOverlay(mdp, ai[end], obs_to_scene(pedcar_pomdp, ai[end-1][i].predictions[j])) for j=1:n_models for i in keys(ai[end-1])]...,\n",
    "                                         TextOverlay(text = [\"Available Actions: $([a.acc for a in ai[1]])\"], font_size=20,pos=VecE2(pomdp.env.params.x_min + 3.,10.), incameraframe=true),\n",
    "                                         [ TextOverlay(text = [\"$vehid: $([a for a in acts])\"], font_size=15,pos=VecE2(pomdp.env.params.x_min + 35,-8-1.9*i), incameraframe=true) for (i,(vehid, acts)) in enumerate(ai[3])]...],\n",
    "                step_overlays = s -> [TextOverlay(text = [\"step: $s\"], font_size=20, pos=VecE2(pomdp.env.params.x_min + 3.,4.), incameraframe=true)],\n",
    "                extra_overlays = [IDOverlay()],\n",
    "                cam =  StaticCamera(VecE2(0., -8.), 12.0))"
   ]
  },
  {
   "cell_type": "code",
   "execution_count": 38,
   "metadata": {},
   "outputs": [
    {
     "data": {
      "text/plain": [
       "PedCarRNNBelief(Array{Float64,1}[[0.0625, -0.215417, 1.0, 0.42, 0.000711217, 0.212845, -0.747486, 0.136436, -0.24282, 0.0276548, 1.00719, 0.095687], [0.0625, -0.215417, 1.0, 0.42, 0.0162518, 0.249588, -0.801901, 0.187845, -0.213451, -0.00989273, 0.973789, 0.103079], [0.0625, -0.215417, 1.0, 0.42, -0.0240651, 0.265608, -0.775372, 0.237054, -0.247915, -0.0196442, 0.975006, 0.114043], [0.0625, -0.215417, 1.0, 0.42, -0.0855629, 0.180073, -0.739143, 0.212066, -0.233062, 0.0114188, 1.02149, 0.106071], [0.0625, -0.215417, 1.0, 0.42, 0.0328453, 0.212662, -0.787419, 0.204028, -0.230685, 0.00203596, 0.998399, 0.0939353]], [0.0625, -0.215417, 1.0, 0.42, -0.105921, 0.251321, -0.762425, 0.238351, -0.219886, 0.015018, 1.0, 0.222582, 0.78125, 0.1875, -0.791667, -0.00333333])"
      ]
     },
     "execution_count": 38,
     "metadata": {},
     "output_type": "execute_result"
    }
   ],
   "source": [
    "s = hist.state_hist[end - 4]\n",
    "b = hist.ainfo_hist[end - 4][5]\n",
    "bb = b[(2, 101,1)]"
   ]
  },
  {
   "cell_type": "code",
   "execution_count": 39,
   "metadata": {},
   "outputs": [
    {
     "data": {
      "image/png": "[encoded data removed]",
      "text/plain": [
       "Cairo.CairoSurfaceBase{UInt32}(Ptr{Nothing} @0x0000000018c84650, 1000.0, 600.0)"
      ]
     },
     "execution_count": 39,
     "metadata": {},
     "output_type": "execute_result"
    }
   ],
   "source": [
    "bel_overlay = PedCarBeliefOverlay(pedcar_pomdp, bb, MONOKAI[\"color2\"])\n",
    "AutoViz.render(s, pomdp.env, [bel_overlay], cam=FitToContentCamera(0.0))"
   ]
  },
  {
   "cell_type": "code",
   "execution_count": 35,
   "metadata": {},
   "outputs": [
    {
     "data": {
      "text/plain": [
       "2-element Array{UrbanAction,1}:\n",
       " UrbanAction(-4.0)\n",
       " UrbanAction(-2.0)"
      ]
     },
     "execution_count": 35,
     "metadata": {},
     "output_type": "execute_result"
    }
   ],
   "source": [
    "safe_actions(pedcar_pomdp, mask, bb, 2, 101)"
   ]
  },
  {
   "cell_type": "code",
   "execution_count": null,
   "metadata": {},
   "outputs": [],
   "source": []
  }
 ],
 "metadata": {
  "kernelspec": {
   "display_name": "Julia 1.0.0",
   "language": "julia",
   "name": "julia-1.0"
  },
  "language_info": {
   "file_extension": ".jl",
   "mimetype": "application/julia",
   "name": "julia",
   "version": "1.0.0"
  }
 },
 "nbformat": 4,
 "nbformat_minor": 2
}
