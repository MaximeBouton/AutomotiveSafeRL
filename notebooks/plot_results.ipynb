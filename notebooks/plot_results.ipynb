{
 "cells": [
  {
   "cell_type": "code",
   "execution_count": 1,
   "metadata": {},
   "outputs": [
    {
     "ename": "ArgumentError",
     "evalue": "ArgumentError: Package PGFPlots not found in current path:\n- Run `Pkg.add(\"PGFPlots\")` to install the PGFPlots package.\n",
     "output_type": "error",
     "traceback": [
      "ArgumentError: Package PGFPlots not found in current path:\n- Run `Pkg.add(\"PGFPlots\")` to install the PGFPlots package.\n",
      "",
      "Stacktrace:",
      " [1] require(::Module, ::Symbol) at ./loading.jl:817",
      " [2] top-level scope at In[1]:1"
     ]
    }
   ],
   "source": [
    "using PGFPlots\n",
    "using CSV\n",
    "using DataFrames"
   ]
  },
  {
   "cell_type": "code",
   "execution_count": 2,
   "metadata": {},
   "outputs": [
    {
     "name": "stdout",
     "output_type": "stream",
     "text": [
      "\u001b[32m\u001b[1m  Updating\u001b[22m\u001b[39m registry at `/mnt/c/Users/Maxime/wsl/.julia/registries/General`\n",
      "\u001b[32m\u001b[1m  Updating\u001b[22m\u001b[39m git-repo `https://github.com/JuliaRegistries/General.git`\n",
      "\u001b[?25l\u001b[2K\u001b[?25h\u001b[32m\u001b[1m  Updating\u001b[22m\u001b[39m registry at `/mnt/c/Users/Maxime/wsl/.julia/registries/JuliaPOMDP`\n"
     ]
    },
    {
     "name": "stderr",
     "output_type": "stream",
     "text": [
      "┌ Warning: Some registries failed to update:\n",
      "│     — `/mnt/c/Users/Maxime/wsl/.julia/registries/JuliaPOMDP` — registry dirty\n",
      "└ @ Pkg.API /buildworker/worker/package_linux64/build/usr/share/julia/stdlib/v1.0/Pkg/src/API.jl:144\n"
     ]
    },
    {
     "name": "stdout",
     "output_type": "stream",
     "text": [
      "\u001b[32m\u001b[1m Resolving\u001b[22m\u001b[39m package versions...\n",
      "\u001b[32m\u001b[1m Installed\u001b[22m\u001b[39m ColorBrewer ── v0.4.0\n",
      "\u001b[32m\u001b[1m Installed\u001b[22m\u001b[39m Discretizers ─ v3.0.1\n",
      "\u001b[32m\u001b[1m Installed\u001b[22m\u001b[39m PGFPlots ───── v3.0.1\n",
      "\u001b[32m\u001b[1m  Updating\u001b[22m\u001b[39m `/mnt/c/Users/Maxime/wsl/.julia/environments/v1.0/Project.toml`\n",
      " \u001b[90m [3b7a836e]\u001b[39m\u001b[92m + PGFPlots v3.0.1\u001b[39m\n",
      "\u001b[32m\u001b[1m  Updating\u001b[22m\u001b[39m `/mnt/c/Users/Maxime/wsl/.julia/environments/v1.0/Manifest.toml`\n",
      " \u001b[90m [a2cac450]\u001b[39m\u001b[92m + ColorBrewer v0.4.0\u001b[39m\n",
      " \u001b[90m [6e83dbb3]\u001b[39m\u001b[92m + Discretizers v3.0.1\u001b[39m\n",
      " \u001b[90m [3b7a836e]\u001b[39m\u001b[92m + PGFPlots v3.0.1\u001b[39m\n"
     ]
    }
   ],
   "source": [
    "] add PGFPlots"
   ]
  },
  {
   "cell_type": "code",
   "execution_count": null,
   "metadata": {},
   "outputs": [],
   "source": []
  }
 ],
 "metadata": {
  "@webio": {
   "lastCommId": "8cf9156a84b54a2382a77d45cd1a0024",
   "lastKernelId": "9991c5de-c563-4b86-ad48-6a5cf0d9be72"
  },
  "kernelspec": {
   "display_name": "Julia 1.0.0",
   "language": "julia",
   "name": "julia-1.0"
  },
  "language_info": {
   "file_extension": ".jl",
   "mimetype": "application/julia",
   "name": "julia",
   "version": "1.0.0"
  }
 },
 "nbformat": 4,
 "nbformat_minor": 2
}
