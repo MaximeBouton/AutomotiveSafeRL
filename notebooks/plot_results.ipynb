{
 "cells": [
  {
   "cell_type": "code",
   "execution_count": 3,
   "metadata": {},
   "outputs": [
    {
     "data": {
      "text/html": [
       "    <script id=\"webio-setup-1874774275382967084\">\n",
       "    // Immediately-invoked-function-expression to avoid global variables.\n",
       "    (function() {\n",
       "        var warning_div = document.getElementById(\"webio-warning-7050544830805953853\");\n",
       "        var hide = function () {\n",
       "            var script = document.getElementById(\"webio-setup-1874774275382967084\");\n",
       "            var parent = script && script.parentElement;\n",
       "            var grandparent = parent && parent.parentElement;\n",
       "            if (grandparent) {\n",
       "                grandparent.style.display = \"none\";\n",
       "            }\n",
       "            warning_div.style.display = \"none\";\n",
       "        };\n",
       "        if (window.require && require.defined) {\n",
       "            // Jupyter notebook.\n",
       "            if (require.defined(\"nbextensions/webio/main\")\n",
       "                    || require.defined(\"/assetserver/03952b0695c7272134e96353bb6f24124f1c2aec-dist/main.js\")) {\n",
       "                // Extension already loaded.\n",
       "                hide();\n",
       "                return;\n",
       "            }\n",
       "            console.warn(\"Loading WebIO Jupyter extension on an ad-hoc basis. Consider enabling the WebIO nbextension for a stabler experience (this should happen automatically when building WebIO).\");\n",
       "            require([\"/assetserver/03952b0695c7272134e96353bb6f24124f1c2aec-dist/main.js\"], function (webIOModule) {\n",
       "                webIOModule.load_ipython_extension();\n",
       "            });\n",
       "            warning_div.innerHTML = \"<strong>Loading WebIO Jupyter extension on an ad-hoc basis. Consider enabling the WebIO nbextension for a stabler experience (this should happen automatically when building WebIO).</strong>\";\n",
       "        } else if (window.location.pathname.includes(\"/lab\")) {\n",
       "            // Guessing JupyterLab\n",
       "            warning_div.innerHTML = \"WebIO does not support JupyterLab yet.\";\n",
       "        }\n",
       "    })();\n",
       "    </script>\n",
       "    <div\n",
       "        id=\"webio-warning-7050544830805953853\"\n",
       "        class=\"output_text output_stderr\"\n",
       "        style=\"padding: 1em; font-weight: bold;\"\n",
       "    >\n",
       "        Unable to load WebIO. Please make sure WebIO works for your Jupyter client.\n",
       "        <!-- TODO: link to installation docs. -->\n",
       "    </div>\n"
      ],
      "text/plain": [
       "HTML{String}(\"    <script id=\\\"webio-setup-1874774275382967084\\\">\\n    // Immediately-invoked-function-expression to avoid global variables.\\n    (function() {\\n        var warning_div = document.getElementById(\\\"webio-warning-7050544830805953853\\\");\\n        var hide = function () {\\n            var script = document.getElementById(\\\"webio-setup-1874774275382967084\\\");\\n            var parent = script && script.parentElement;\\n            var grandparent = parent && parent.parentElement;\\n            if (grandparent) {\\n                grandparent.style.display = \\\"none\\\";\\n            }\\n            warning_div.style.display = \\\"none\\\";\\n        };\\n        if (window.require && require.defined) {\\n            // Jupyter notebook.\\n            if (require.defined(\\\"nbextensions/webio/main\\\")\\n                    || require.defined(\\\"/assetserver/03952b0695c7272134e96353bb6f24124f1c2aec-dist/main.js\\\")) {\\n                // Extension already loaded.\\n                hide();\\n                return;\\n            }\\n            console.warn(\\\"Loading WebIO Jupyter extension on an ad-hoc basis. Consider enabling the WebIO nbextension for a stabler experience (this should happen automatically when building WebIO).\\\");\\n            require([\\\"/assetserver/03952b0695c7272134e96353bb6f24124f1c2aec-dist/main.js\\\"], function (webIOModule) {\\n                webIOModule.load_ipython_extension();\\n            });\\n            warning_div.innerHTML = \\\"<strong>Loading WebIO Jupyter extension on an ad-hoc basis. Consider enabling the WebIO nbextension for a stabler experience (this should happen automatically when building WebIO).</strong>\\\";\\n        } else if (window.location.pathname.includes(\\\"/lab\\\")) {\\n            // Guessing JupyterLab\\n            warning_div.innerHTML = \\\"WebIO does not support JupyterLab yet.\\\";\\n        }\\n    })();\\n    </script>\\n    <div\\n        id=\\\"webio-warning-7050544830805953853\\\"\\n        class=\\\"output_text output_stderr\\\"\\n        style=\\\"padding: 1em; font-weight: bold;\\\"\\n    >\\n        Unable to load WebIO. Please make sure WebIO works for your Jupyter client.\\n        <!-- TODO: link to installation docs. -->\\n    </div>\\n\")"
      ]
     },
     "metadata": {},
     "output_type": "display_data"
    }
   ],
   "source": [
    "using CSV\n",
    "using DataFrames\n",
    "using StatPlots\n",
    "using Interact"
   ]
  },
  {
   "cell_type": "code",
   "execution_count": 7,
   "metadata": {},
   "outputs": [
    {
     "data": {
      "text/html": [
       "<table class=\"data-frame\"><thead><tr><th></th><th>scenario</th><th>policy</th><th>updater</th><th>n_episodes</th><th>reward_mean</th><th>reward_std</th><th>steps_mean</th><th>steps_std</th><th>violations_mean</th><th>violations_std</th><th>time</th></tr><tr><th></th><th>Dates…⍰</th><th>String⍰</th><th>String⍰</th><th>Int64⍰</th><th>Float64⍰</th><th>Float64⍰</th><th>Float64⍰</th><th>Float64⍰</th><th>Float64⍰</th><th>Float64⍰</th><th>Dates…⍰</th></tr></thead><tbody><tr><th>1</th><td>0001-02-01</td><td>baseline</td><td>previous_obs</td><td>1000</td><td>0.0076399</td><td>0.0117396</td><td>109.622</td><td>55.0717</td><td>0.015</td><td>0.121613</td><td>2018-11-26T09:34:51.432</td></tr><tr><th>2</th><td>0001-02-01</td><td>baseline</td><td>tracker</td><td>1000</td><td>0.0067755</td><td>0.00568092</td><td>122.906</td><td>74.9733</td><td>0.005</td><td>0.070569</td><td>2018-11-26T10:16:03.658</td></tr><tr><th>3</th><td>0001-02-01</td><td>masked-baseline</td><td>tracker</td><td>1000</td><td>0.0101268</td><td>0.00724644</td><td>97.074</td><td>19.3523</td><td>0.001</td><td>0.0316228</td><td>2018-11-26T11:00:04.471</td></tr><tr><th>4</th><td>0001-02-01</td><td>masked-RL</td><td>tracker</td><td>1000</td><td>0.013902</td><td>0.0130037</td><td>98.019</td><td>26.9438</td><td>0.0</td><td>0.0</td><td>2018-11-26T13:20:05.714</td></tr><tr><th>5</th><td>0001-01-01</td><td>baseline</td><td>previous_obs</td><td>1000</td><td>0.00555933</td><td>0.00796902</td><td>115.589</td><td>47.1053</td><td>0.008</td><td>0.0891288</td><td>2018-11-26T13:22:13.639</td></tr><tr><th>6</th><td>0001-01-01</td><td>baseline</td><td>tracker</td><td>1000</td><td>0.00693084</td><td>0.0066507</td><td>108.632</td><td>33.0177</td><td>0.0</td><td>0.0</td><td>2018-11-26T15:26:00.592</td></tr><tr><th>7</th><td>0001-01-01</td><td>masked-baseline</td><td>tracker</td><td>1000</td><td>0.00681483</td><td>0.00627652</td><td>105.649</td><td>16.9852</td><td>0.0</td><td>0.0</td><td>2018-11-26T16:13:55.416</td></tr><tr><th>8</th><td>0001-01-01</td><td>masked-RL</td><td>tracker</td><td>1000</td><td>0.00392737</td><td>0.0052038</td><td>124.945</td><td>26.7988</td><td>0.0</td><td>0.0</td><td>2018-11-26T17:08:41.636</td></tr><tr><th>9</th><td>0002-01-01</td><td>baseline</td><td>previous_obs</td><td>1000</td><td>0.00643344</td><td>0.00766276</td><td>125.609</td><td>52.6008</td><td>0.0</td><td>0.0</td><td>2018-11-26T17:14:38.593</td></tr><tr><th>10</th><td>0002-01-01</td><td>baseline</td><td>tracker</td><td>1000</td><td>0.00629894</td><td>0.00737598</td><td>122.312</td><td>44.1019</td><td>0.0</td><td>0.0</td><td>2018-11-26T17:58:43.014</td></tr><tr><th>11</th><td>0002-01-01</td><td>masked-baseline</td><td>tracker</td><td>1000</td><td>0.00486994</td><td>0.00626861</td><td>129.632</td><td>41.2893</td><td>0.0</td><td>0.0</td><td>2018-11-26T19:13:52.336</td></tr><tr><th>12</th><td>0002-01-01</td><td>masked-RL</td><td>tracker</td><td>1000</td><td>0.0110588</td><td>0.0143688</td><td>122.376</td><td>49.6529</td><td>0.0</td><td>0.0</td><td>2018-11-26T21:12:39.875</td></tr><tr><th>13</th><td>0002-02-01</td><td>baseline</td><td>previous_obs</td><td>1000</td><td>0.00846102</td><td>0.0081242</td><td>103.58</td><td>19.416</td><td>0.0</td><td>0.0</td><td>2018-11-26T21:14:43.066</td></tr><tr><th>14</th><td>0002-02-01</td><td>baseline</td><td>tracker</td><td>1000</td><td>0.00987096</td><td>0.00870765</td><td>100.379</td><td>19.8459</td><td>0.0</td><td>0.0</td><td>2018-11-26T21:43:01.831</td></tr><tr><th>15</th><td>0002-02-01</td><td>masked-baseline</td><td>tracker</td><td>1000</td><td>0.0056528</td><td>0.00818556</td><td>120.862</td><td>25.7582</td><td>0.0</td><td>0.0</td><td>2018-11-26T22:31:50.665</td></tr><tr><th>16</th><td>0002-02-01</td><td>masked-RL</td><td>tracker</td><td>1000</td><td>0.00767322</td><td>0.00870097</td><td>107.575</td><td>21.18</td><td>0.0</td><td>0.0</td><td>2018-11-26T23:17:41.473</td></tr><tr><th>17</th><td>0003-01-01</td><td>baseline</td><td>previous_obs</td><td>1000</td><td>0.000298391</td><td>0.00152357</td><td>365.301</td><td>81.0623</td><td>0.001</td><td>0.0316228</td><td>2018-11-26T23:26:08.247</td></tr><tr><th>18</th><td>0003-01-01</td><td>baseline</td><td>tracker</td><td>1000</td><td>0.000298046</td><td>0.00155949</td><td>331.513</td><td>95.6317</td><td>0.0</td><td>0.0</td><td>2018-11-27T01:54:36.62</td></tr><tr><th>19</th><td>0003-01-01</td><td>masked-baseline</td><td>tracker</td><td>1000</td><td>0.0002373</td><td>0.00157651</td><td>355.363</td><td>84.0305</td><td>0.001</td><td>0.0316228</td><td>2018-11-27T18:32:01.652</td></tr><tr><th>20</th><td>0003-01-01</td><td>masked-RL</td><td>tracker</td><td>1000</td><td>0.0108862</td><td>0.013739</td><td>172.778</td><td>108.385</td><td>0.0</td><td>0.0</td><td>2018-11-28T21:31:33.445</td></tr></tbody></table>"
      ],
      "text/latex": [
       "\\begin{tabular}{r|ccccccccccc}\n",
       "\t& scenario & policy & updater & n\\_episodes & reward\\_mean & reward\\_std & steps\\_mean & steps\\_std & violations\\_mean & violations\\_std & time\\\\\n",
       "\t\\hline\n",
       "\t1 & 0001-02-01 & baseline & previous\\_obs & 1000 & 0.0076399 & 0.0117396 & 109.622 & 55.0717 & 0.015 & 0.121613 & 2018-11-26T09:34:51.432 \\\\\n",
       "\t2 & 0001-02-01 & baseline & tracker & 1000 & 0.0067755 & 0.00568092 & 122.906 & 74.9733 & 0.005 & 0.070569 & 2018-11-26T10:16:03.658 \\\\\n",
       "\t3 & 0001-02-01 & masked-baseline & tracker & 1000 & 0.0101268 & 0.00724644 & 97.074 & 19.3523 & 0.001 & 0.0316228 & 2018-11-26T11:00:04.471 \\\\\n",
       "\t4 & 0001-02-01 & masked-RL & tracker & 1000 & 0.013902 & 0.0130037 & 98.019 & 26.9438 & 0.0 & 0.0 & 2018-11-26T13:20:05.714 \\\\\n",
       "\t5 & 0001-01-01 & baseline & previous\\_obs & 1000 & 0.00555933 & 0.00796902 & 115.589 & 47.1053 & 0.008 & 0.0891288 & 2018-11-26T13:22:13.639 \\\\\n",
       "\t6 & 0001-01-01 & baseline & tracker & 1000 & 0.00693084 & 0.0066507 & 108.632 & 33.0177 & 0.0 & 0.0 & 2018-11-26T15:26:00.592 \\\\\n",
       "\t7 & 0001-01-01 & masked-baseline & tracker & 1000 & 0.00681483 & 0.00627652 & 105.649 & 16.9852 & 0.0 & 0.0 & 2018-11-26T16:13:55.416 \\\\\n",
       "\t8 & 0001-01-01 & masked-RL & tracker & 1000 & 0.00392737 & 0.0052038 & 124.945 & 26.7988 & 0.0 & 0.0 & 2018-11-26T17:08:41.636 \\\\\n",
       "\t9 & 0002-01-01 & baseline & previous\\_obs & 1000 & 0.00643344 & 0.00766276 & 125.609 & 52.6008 & 0.0 & 0.0 & 2018-11-26T17:14:38.593 \\\\\n",
       "\t10 & 0002-01-01 & baseline & tracker & 1000 & 0.00629894 & 0.00737598 & 122.312 & 44.1019 & 0.0 & 0.0 & 2018-11-26T17:58:43.014 \\\\\n",
       "\t11 & 0002-01-01 & masked-baseline & tracker & 1000 & 0.00486994 & 0.00626861 & 129.632 & 41.2893 & 0.0 & 0.0 & 2018-11-26T19:13:52.336 \\\\\n",
       "\t12 & 0002-01-01 & masked-RL & tracker & 1000 & 0.0110588 & 0.0143688 & 122.376 & 49.6529 & 0.0 & 0.0 & 2018-11-26T21:12:39.875 \\\\\n",
       "\t13 & 0002-02-01 & baseline & previous\\_obs & 1000 & 0.00846102 & 0.0081242 & 103.58 & 19.416 & 0.0 & 0.0 & 2018-11-26T21:14:43.066 \\\\\n",
       "\t14 & 0002-02-01 & baseline & tracker & 1000 & 0.00987096 & 0.00870765 & 100.379 & 19.8459 & 0.0 & 0.0 & 2018-11-26T21:43:01.831 \\\\\n",
       "\t15 & 0002-02-01 & masked-baseline & tracker & 1000 & 0.0056528 & 0.00818556 & 120.862 & 25.7582 & 0.0 & 0.0 & 2018-11-26T22:31:50.665 \\\\\n",
       "\t16 & 0002-02-01 & masked-RL & tracker & 1000 & 0.00767322 & 0.00870097 & 107.575 & 21.18 & 0.0 & 0.0 & 2018-11-26T23:17:41.473 \\\\\n",
       "\t17 & 0003-01-01 & baseline & previous\\_obs & 1000 & 0.000298391 & 0.00152357 & 365.301 & 81.0623 & 0.001 & 0.0316228 & 2018-11-26T23:26:08.247 \\\\\n",
       "\t18 & 0003-01-01 & baseline & tracker & 1000 & 0.000298046 & 0.00155949 & 331.513 & 95.6317 & 0.0 & 0.0 & 2018-11-27T01:54:36.62 \\\\\n",
       "\t19 & 0003-01-01 & masked-baseline & tracker & 1000 & 0.0002373 & 0.00157651 & 355.363 & 84.0305 & 0.001 & 0.0316228 & 2018-11-27T18:32:01.652 \\\\\n",
       "\t20 & 0003-01-01 & masked-RL & tracker & 1000 & 0.0108862 & 0.013739 & 172.778 & 108.385 & 0.0 & 0.0 & 2018-11-28T21:31:33.445 \\\\\n",
       "\\end{tabular}\n"
      ],
      "text/plain": [
       "20×11 DataFrame. Omitted printing of 6 columns\n",
       "│ Row │ scenario   │ policy          │ updater      │ n_episodes │ reward_mean │\n",
       "│     │ \u001b[90mDates…⍰\u001b[39m    │ \u001b[90mString⍰\u001b[39m         │ \u001b[90mString⍰\u001b[39m      │ \u001b[90mInt64⍰\u001b[39m     │ \u001b[90mFloat64⍰\u001b[39m    │\n",
       "├─────┼────────────┼─────────────────┼──────────────┼────────────┼─────────────┤\n",
       "│ 1   │ 0001-02-01 │ baseline        │ previous_obs │ 1000       │ 0.0076399   │\n",
       "│ 2   │ 0001-02-01 │ baseline        │ tracker      │ 1000       │ 0.0067755   │\n",
       "│ 3   │ 0001-02-01 │ masked-baseline │ tracker      │ 1000       │ 0.0101268   │\n",
       "│ 4   │ 0001-02-01 │ masked-RL       │ tracker      │ 1000       │ 0.013902    │\n",
       "│ 5   │ 0001-01-01 │ baseline        │ previous_obs │ 1000       │ 0.00555933  │\n",
       "│ 6   │ 0001-01-01 │ baseline        │ tracker      │ 1000       │ 0.00693084  │\n",
       "│ 7   │ 0001-01-01 │ masked-baseline │ tracker      │ 1000       │ 0.00681483  │\n",
       "│ 8   │ 0001-01-01 │ masked-RL       │ tracker      │ 1000       │ 0.00392737  │\n",
       "│ 9   │ 0002-01-01 │ baseline        │ previous_obs │ 1000       │ 0.00643344  │\n",
       "│ 10  │ 0002-01-01 │ baseline        │ tracker      │ 1000       │ 0.00629894  │\n",
       "│ 11  │ 0002-01-01 │ masked-baseline │ tracker      │ 1000       │ 0.00486994  │\n",
       "│ 12  │ 0002-01-01 │ masked-RL       │ tracker      │ 1000       │ 0.0110588   │\n",
       "│ 13  │ 0002-02-01 │ baseline        │ previous_obs │ 1000       │ 0.00846102  │\n",
       "│ 14  │ 0002-02-01 │ baseline        │ tracker      │ 1000       │ 0.00987096  │\n",
       "│ 15  │ 0002-02-01 │ masked-baseline │ tracker      │ 1000       │ 0.0056528   │\n",
       "│ 16  │ 0002-02-01 │ masked-RL       │ tracker      │ 1000       │ 0.00767322  │\n",
       "│ 17  │ 0003-01-01 │ baseline        │ previous_obs │ 1000       │ 0.000298391 │\n",
       "│ 18  │ 0003-01-01 │ baseline        │ tracker      │ 1000       │ 0.000298046 │\n",
       "│ 19  │ 0003-01-01 │ masked-baseline │ tracker      │ 1000       │ 0.0002373   │\n",
       "│ 20  │ 0003-01-01 │ masked-RL       │ tracker      │ 1000       │ 0.0108862   │"
      ]
     },
     "execution_count": 7,
     "metadata": {},
     "output_type": "execute_result"
    }
   ],
   "source": [
    "df = CSV.read(\"../evaluation/results3.csv\")"
   ]
  },
  {
   "cell_type": "code",
   "execution_count": 8,
   "metadata": {},
   "outputs": [
    {
     "data": {
      "application/vnd.webio.node+json": {
       "children": [
        {
         "children": [
          {
           "children": [
            {
             "children": [
              {
               "children": [
                {
                 "children": [],
                 "instanceArgs": {
                  "namespace": "html",
                  "tag": "select"
                 },
                 "nodeType": "DOM",
                 "props": {
                  "attributes": {
                   "data-bind": "options : options_js, selectedOptions : index, optionsText: 'key', optionsValue: 'val', valueAllowUnset: true, optionsAfterRender: disablePlaceholder",
                   "multiple": true
                  }
                 },
                 "type": "node"
                }
               ],
               "instanceArgs": {
                "namespace": "html",
                "tag": "div"
               },
               "nodeType": "DOM",
               "props": {
                "className": "select is-multiple "
               },
               "type": "node"
              }
             ],
             "instanceArgs": {
              "handlers": {
               "_promises": {
                "importsLoaded": [
                 "function (ko, koPunches) {\n    ko.punches.enableAll();\n    ko.bindingHandlers.numericValue = {\n        init : function(element, valueAccessor, allBindings, data, context) {\n            var stringified = ko.observable(ko.unwrap(valueAccessor()));\n            stringified.subscribe(function(value) {\n                var val = parseFloat(value);\n                if (!isNaN(val)) {\n                    valueAccessor()(val);\n                }\n            })\n            valueAccessor().subscribe(function(value) {\n                var str = JSON.stringify(value);\n                if ((str == \"0\") && ([\"-0\", \"-0.\"].indexOf(stringified()) >= 0))\n                     return;\n                 if ([\"null\", \"\"].indexOf(str) >= 0)\n                     return;\n                stringified(str);\n            })\n            ko.applyBindingsToNode(element, { value: stringified, valueUpdate: allBindings.get('valueUpdate')}, context);\n        }\n    };\n    var json_data = JSON.parse(\"{\\\"options_js\\\":[{\\\"key\\\":\\\"First axis\\\",\\\"val\\\":0,\\\"id\\\":\\\"idGaDoxVAB\\\"},{\\\"key\\\":\\\"scenario\\\",\\\"val\\\":1,\\\"id\\\":\\\"id7Zt060gn\\\"},{\\\"key\\\":\\\"policy\\\",\\\"val\\\":2,\\\"id\\\":\\\"idVFjnWUuf\\\"},{\\\"key\\\":\\\"updater\\\",\\\"val\\\":3,\\\"id\\\":\\\"idmUNioWL7\\\"},{\\\"key\\\":\\\"n_episodes\\\",\\\"val\\\":4,\\\"id\\\":\\\"idOXMF1Gir\\\"},{\\\"key\\\":\\\"reward_mean\\\",\\\"val\\\":5,\\\"id\\\":\\\"idTX11cadR\\\"},{\\\"key\\\":\\\"reward_std\\\",\\\"val\\\":6,\\\"id\\\":\\\"idsFEwUMlR\\\"},{\\\"key\\\":\\\"steps_mean\\\",\\\"val\\\":7,\\\"id\\\":\\\"idKRGm6OOd\\\"},{\\\"key\\\":\\\"steps_std\\\",\\\"val\\\":8,\\\"id\\\":\\\"idQzfLKFZV\\\"},{\\\"key\\\":\\\"violations_mean\\\",\\\"val\\\":9,\\\"id\\\":\\\"idiauLrJ2B\\\"},{\\\"key\\\":\\\"violations_std\\\",\\\"val\\\":10,\\\"id\\\":\\\"idPEzCWprG\\\"},{\\\"key\\\":\\\"time\\\",\\\"val\\\":11,\\\"id\\\":\\\"idXw8Tn1f5\\\"}],\\\"index\\\":[]}\");\n    var self = this;\n    function AppViewModel() {\n        for (var key in json_data) {\n            var el = json_data[key];\n            this[key] = Array.isArray(el) ? ko.observableArray(el) : ko.observable(el);\n        }\n        [this[\"disablePlaceholder\"]=function(option, item) {\n    ko.applyBindingsToNode(option, {disable: item.val == 0}, item);\n}\n]\n        \n        [this[\"options_js\"].subscribe((function (val){!(this.valueFromJulia[\"options_js\"]) ? (_webIOScope.setObservableValue({\"name\":\"options_js\",\"scope\":\"knockout-component-31b4332e-3b2c-4354-8632-3bd1dca6d53f\",\"id\":\"ob_76\",\"type\":\"observable\"},val)) : undefined; return this.valueFromJulia[\"options_js\"]=false}),self),this[\"index\"].subscribe((function (val){!(this.valueFromJulia[\"index\"]) ? (_webIOScope.setObservableValue({\"name\":\"index\",\"scope\":\"knockout-component-31b4332e-3b2c-4354-8632-3bd1dca6d53f\",\"id\":\"ob_75\",\"type\":\"observable\"},val)) : undefined; return this.valueFromJulia[\"index\"]=false}),self)]\n        \n    }\n    self.model = new AppViewModel();\n    self.valueFromJulia = {};\n    for (var key in json_data) {\n        self.valueFromJulia[key] = false;\n    }\n    ko.applyBindings(self.model, self.dom);\n}\n"
                ]
               },
               "index": [
                "(function (val){return (val!=this.model[\"index\"]()) ? (this.valueFromJulia[\"index\"]=true, this.model[\"index\"](val)) : undefined})"
               ],
               "options_js": [
                "(function (val){return (val!=this.model[\"options_js\"]()) ? (this.valueFromJulia[\"options_js\"]=true, this.model[\"options_js\"](val)) : undefined})"
               ]
              },
              "id": "knockout-component-31b4332e-3b2c-4354-8632-3bd1dca6d53f",
              "imports": {
               "data": [
                {
                 "name": "knockout",
                 "type": "js",
                 "url": "/assetserver/7727d7cb3453b9ff588804f2f297360e756850e6-knockout.js"
                },
                {
                 "name": "knockout_punches",
                 "type": "js",
                 "url": "/assetserver/dc191505b241da77a1bd06986b7132036babe315-knockout_punches.js"
                },
                {
                 "name": null,
                 "type": "js",
                 "url": "/assetserver/cf39e83f3445855334efae1f7d0ee012952fe319-all.js"
                },
                {
                 "name": null,
                 "type": "css",
                 "url": "/assetserver/495af69608d773e6cf6efd8fe98ee33ddbad0df5-style.css"
                },
                {
                 "name": null,
                 "type": "css",
                 "url": "/assetserver/9d22e7e1c4dccb3a3bef6ae4d24134fd256d4bfd-main.css"
                }
               ],
               "type": "async_block"
              },
              "observables": {
               "index": {
                "id": "ob_75",
                "sync": true,
                "value": []
               },
               "options_js": {
                "id": "ob_76",
                "sync": false,
                "value": [
                 {
                  "id": "idGaDoxVAB",
                  "key": "First axis",
                  "val": 0
                 },
                 {
                  "id": "id7Zt060gn",
                  "key": "scenario",
                  "val": 1
                 },
                 {
                  "id": "idVFjnWUuf",
                  "key": "policy",
                  "val": 2
                 },
                 {
                  "id": "idmUNioWL7",
                  "key": "updater",
                  "val": 3
                 },
                 {
                  "id": "idOXMF1Gir",
                  "key": "n_episodes",
                  "val": 4
                 },
                 {
                  "id": "idTX11cadR",
                  "key": "reward_mean",
                  "val": 5
                 },
                 {
                  "id": "idsFEwUMlR",
                  "key": "reward_std",
                  "val": 6
                 },
                 {
                  "id": "idKRGm6OOd",
                  "key": "steps_mean",
                  "val": 7
                 },
                 {
                  "id": "idQzfLKFZV",
                  "key": "steps_std",
                  "val": 8
                 },
                 {
                  "id": "idiauLrJ2B",
                  "key": "violations_mean",
                  "val": 9
                 },
                 {
                  "id": "idPEzCWprG",
                  "key": "violations_std",
                  "val": 10
                 },
                 {
                  "id": "idXw8Tn1f5",
                  "key": "time",
                  "val": 11
                 }
                ]
               }
              },
              "systemjs_options": null
             },
             "nodeType": "Scope",
             "props": {},
             "type": "node"
            }
           ],
           "instanceArgs": {
            "namespace": "html",
            "tag": "div"
           },
           "nodeType": "DOM",
           "props": {
            "className": "field"
           },
           "type": "node"
          },
          {
           "children": [
            {
             "children": [
              {
               "children": [
                {
                 "children": [
                  {
                   "children": [],
                   "instanceArgs": {
                    "namespace": "html",
                    "tag": "input"
                   },
                   "nodeType": "DOM",
                   "props": {
                    "attributes": {
                     "data-bind": "checked: value, valueUpdate: 'change', event: {change : function () {this.changes(this.changes()+1)}}",
                     "type": "checkbox"
                    },
                    "className": "switch ",
                    "id": "##384",
                    "style": {}
                   },
                   "type": "node"
                  },
                  {
                   "children": [
                    "Second axis"
                   ],
                   "instanceArgs": {
                    "namespace": "html",
                    "tag": "label"
                   },
                   "nodeType": "DOM",
                   "props": {
                    "attributes": {
                     "className": "",
                     "for": "##384"
                    }
                   },
                   "type": "node"
                  }
                 ],
                 "instanceArgs": {
                  "namespace": "html",
                  "tag": "div"
                 },
                 "nodeType": "DOM",
                 "props": {
                  "className": "field"
                 },
                 "type": "node"
                },
                {
                 "children": [
                  {
                   "children": [
                    {
                     "children": [
                      {
                       "children": [
                        {
                         "children": [],
                         "instanceArgs": {
                          "namespace": "html",
                          "tag": "select"
                         },
                         "nodeType": "DOM",
                         "props": {
                          "attributes": {
                           "data-bind": "options : options_js, selectedOptions : index, optionsText: 'key', optionsValue: 'val', valueAllowUnset: true, optionsAfterRender: disablePlaceholder",
                           "multiple": true
                          }
                         },
                         "type": "node"
                        }
                       ],
                       "instanceArgs": {
                        "namespace": "html",
                        "tag": "div"
                       },
                       "nodeType": "DOM",
                       "props": {
                        "className": "select is-multiple "
                       },
                       "type": "node"
                      }
                     ],
                     "instanceArgs": {
                      "handlers": {
                       "_promises": {
                        "importsLoaded": [
                         "function (ko, koPunches) {\n    ko.punches.enableAll();\n    ko.bindingHandlers.numericValue = {\n        init : function(element, valueAccessor, allBindings, data, context) {\n            var stringified = ko.observable(ko.unwrap(valueAccessor()));\n            stringified.subscribe(function(value) {\n                var val = parseFloat(value);\n                if (!isNaN(val)) {\n                    valueAccessor()(val);\n                }\n            })\n            valueAccessor().subscribe(function(value) {\n                var str = JSON.stringify(value);\n                if ((str == \"0\") && ([\"-0\", \"-0.\"].indexOf(stringified()) >= 0))\n                     return;\n                 if ([\"null\", \"\"].indexOf(str) >= 0)\n                     return;\n                stringified(str);\n            })\n            ko.applyBindingsToNode(element, { value: stringified, valueUpdate: allBindings.get('valueUpdate')}, context);\n        }\n    };\n    var json_data = JSON.parse(\"{\\\"options_js\\\":[{\\\"key\\\":\\\"Second axis\\\",\\\"val\\\":0,\\\"id\\\":\\\"id01MpN3fu\\\"},{\\\"key\\\":\\\"scenario\\\",\\\"val\\\":1,\\\"id\\\":\\\"idcYFklQOs\\\"},{\\\"key\\\":\\\"policy\\\",\\\"val\\\":2,\\\"id\\\":\\\"id2evWPTOb\\\"},{\\\"key\\\":\\\"updater\\\",\\\"val\\\":3,\\\"id\\\":\\\"idUvjKuwu7\\\"},{\\\"key\\\":\\\"n_episodes\\\",\\\"val\\\":4,\\\"id\\\":\\\"idXqHLiz82\\\"},{\\\"key\\\":\\\"reward_mean\\\",\\\"val\\\":5,\\\"id\\\":\\\"id1orl5ZW1\\\"},{\\\"key\\\":\\\"reward_std\\\",\\\"val\\\":6,\\\"id\\\":\\\"idcHJZRBrO\\\"},{\\\"key\\\":\\\"steps_mean\\\",\\\"val\\\":7,\\\"id\\\":\\\"idLjIxmgHV\\\"},{\\\"key\\\":\\\"steps_std\\\",\\\"val\\\":8,\\\"id\\\":\\\"idcp7QTykB\\\"},{\\\"key\\\":\\\"violations_mean\\\",\\\"val\\\":9,\\\"id\\\":\\\"idbA1ohQPF\\\"},{\\\"key\\\":\\\"violations_std\\\",\\\"val\\\":10,\\\"id\\\":\\\"idltPhqNqP\\\"},{\\\"key\\\":\\\"time\\\",\\\"val\\\":11,\\\"id\\\":\\\"idcJHlNY1h\\\"}],\\\"index\\\":[]}\");\n    var self = this;\n    function AppViewModel() {\n        for (var key in json_data) {\n            var el = json_data[key];\n            this[key] = Array.isArray(el) ? ko.observableArray(el) : ko.observable(el);\n        }\n        [this[\"disablePlaceholder\"]=function(option, item) {\n    ko.applyBindingsToNode(option, {disable: item.val == 0}, item);\n}\n]\n        \n        [this[\"options_js\"].subscribe((function (val){!(this.valueFromJulia[\"options_js\"]) ? (_webIOScope.setObservableValue({\"name\":\"options_js\",\"scope\":\"knockout-component-5674e55e-ac12-4821-923c-536dff795d28\",\"id\":\"ob_80\",\"type\":\"observable\"},val)) : undefined; return this.valueFromJulia[\"options_js\"]=false}),self),this[\"index\"].subscribe((function (val){!(this.valueFromJulia[\"index\"]) ? (_webIOScope.setObservableValue({\"name\":\"index\",\"scope\":\"knockout-component-5674e55e-ac12-4821-923c-536dff795d28\",\"id\":\"ob_79\",\"type\":\"observable\"},val)) : undefined; return this.valueFromJulia[\"index\"]=false}),self)]\n        \n    }\n    self.model = new AppViewModel();\n    self.valueFromJulia = {};\n    for (var key in json_data) {\n        self.valueFromJulia[key] = false;\n    }\n    ko.applyBindings(self.model, self.dom);\n}\n"
                        ]
                       },
                       "index": [
                        "(function (val){return (val!=this.model[\"index\"]()) ? (this.valueFromJulia[\"index\"]=true, this.model[\"index\"](val)) : undefined})"
                       ],
                       "options_js": [
                        "(function (val){return (val!=this.model[\"options_js\"]()) ? (this.valueFromJulia[\"options_js\"]=true, this.model[\"options_js\"](val)) : undefined})"
                       ]
                      },
                      "id": "knockout-component-5674e55e-ac12-4821-923c-536dff795d28",
                      "imports": {
                       "data": [
                        {
                         "name": "knockout",
                         "type": "js",
                         "url": "/assetserver/7727d7cb3453b9ff588804f2f297360e756850e6-knockout.js"
                        },
                        {
                         "name": "knockout_punches",
                         "type": "js",
                         "url": "/assetserver/dc191505b241da77a1bd06986b7132036babe315-knockout_punches.js"
                        },
                        {
                         "name": null,
                         "type": "js",
                         "url": "/assetserver/cf39e83f3445855334efae1f7d0ee012952fe319-all.js"
                        },
                        {
                         "name": null,
                         "type": "css",
                         "url": "/assetserver/495af69608d773e6cf6efd8fe98ee33ddbad0df5-style.css"
                        },
                        {
                         "name": null,
                         "type": "css",
                         "url": "/assetserver/9d22e7e1c4dccb3a3bef6ae4d24134fd256d4bfd-main.css"
                        }
                       ],
                       "type": "async_block"
                      },
                      "observables": {
                       "index": {
                        "id": "ob_79",
                        "sync": true,
                        "value": []
                       },
                       "options_js": {
                        "id": "ob_80",
                        "sync": false,
                        "value": [
                         {
                          "id": "id01MpN3fu",
                          "key": "Second axis",
                          "val": 0
                         },
                         {
                          "id": "idcYFklQOs",
                          "key": "scenario",
                          "val": 1
                         },
                         {
                          "id": "id2evWPTOb",
                          "key": "policy",
                          "val": 2
                         },
                         {
                          "id": "idUvjKuwu7",
                          "key": "updater",
                          "val": 3
                         },
                         {
                          "id": "idXqHLiz82",
                          "key": "n_episodes",
                          "val": 4
                         },
                         {
                          "id": "id1orl5ZW1",
                          "key": "reward_mean",
                          "val": 5
                         },
                         {
                          "id": "idcHJZRBrO",
                          "key": "reward_std",
                          "val": 6
                         },
                         {
                          "id": "idLjIxmgHV",
                          "key": "steps_mean",
                          "val": 7
                         },
                         {
                          "id": "idcp7QTykB",
                          "key": "steps_std",
                          "val": 8
                         },
                         {
                          "id": "idbA1ohQPF",
                          "key": "violations_mean",
                          "val": 9
                         },
                         {
                          "id": "idltPhqNqP",
                          "key": "violations_std",
                          "val": 10
                         },
                         {
                          "id": "idcJHlNY1h",
                          "key": "time",
                          "val": 11
                         }
                        ]
                       }
                      },
                      "systemjs_options": null
                     },
                     "nodeType": "Scope",
                     "props": {},
                     "type": "node"
                    }
                   ],
                   "instanceArgs": {
                    "namespace": "html",
                    "tag": "div"
                   },
                   "nodeType": "DOM",
                   "props": {
                    "className": "field"
                   },
                   "type": "node"
                  }
                 ],
                 "instanceArgs": {
                  "namespace": "html",
                  "tag": "div"
                 },
                 "nodeType": "DOM",
                 "props": {
                  "attributes": {
                   "data-bind": "visible: value"
                  }
                 },
                 "type": "node"
                }
               ],
               "instanceArgs": {
                "namespace": "html",
                "tag": "div"
               },
               "nodeType": "DOM",
               "props": {
                "style": {
                 "display": "flex",
                 "flex-direction": "column"
                }
               },
               "type": "node"
              }
             ],
             "instanceArgs": {
              "handlers": {
               "_promises": {
                "importsLoaded": [
                 "function (ko, koPunches) {\n    ko.punches.enableAll();\n    ko.bindingHandlers.numericValue = {\n        init : function(element, valueAccessor, allBindings, data, context) {\n            var stringified = ko.observable(ko.unwrap(valueAccessor()));\n            stringified.subscribe(function(value) {\n                var val = parseFloat(value);\n                if (!isNaN(val)) {\n                    valueAccessor()(val);\n                }\n            })\n            valueAccessor().subscribe(function(value) {\n                var str = JSON.stringify(value);\n                if ((str == \"0\") && ([\"-0\", \"-0.\"].indexOf(stringified()) >= 0))\n                     return;\n                 if ([\"null\", \"\"].indexOf(str) >= 0)\n                     return;\n                stringified(str);\n            })\n            ko.applyBindingsToNode(element, { value: stringified, valueUpdate: allBindings.get('valueUpdate')}, context);\n        }\n    };\n    var json_data = JSON.parse(\"{\\\"changes\\\":0,\\\"value\\\":false}\");\n    var self = this;\n    function AppViewModel() {\n        for (var key in json_data) {\n            var el = json_data[key];\n            this[key] = Array.isArray(el) ? ko.observableArray(el) : ko.observable(el);\n        }\n        \n        \n        [this[\"changes\"].subscribe((function (val){!(this.valueFromJulia[\"changes\"]) ? (_webIOScope.setObservableValue({\"name\":\"changes\",\"scope\":\"knockout-component-45b51f1a-05ce-419d-b1c7-52a6142187d6\",\"id\":\"ob_82\",\"type\":\"observable\"},val)) : undefined; return this.valueFromJulia[\"changes\"]=false}),self),this[\"value\"].subscribe((function (val){!(this.valueFromJulia[\"value\"]) ? (_webIOScope.setObservableValue({\"name\":\"value\",\"scope\":\"knockout-component-45b51f1a-05ce-419d-b1c7-52a6142187d6\",\"id\":\"ob_81\",\"type\":\"observable\"},val)) : undefined; return this.valueFromJulia[\"value\"]=false}),self)]\n        \n    }\n    self.model = new AppViewModel();\n    self.valueFromJulia = {};\n    for (var key in json_data) {\n        self.valueFromJulia[key] = false;\n    }\n    ko.applyBindings(self.model, self.dom);\n}\n"
                ]
               },
               "changes": [
                "(function (val){return (val!=this.model[\"changes\"]()) ? (this.valueFromJulia[\"changes\"]=true, this.model[\"changes\"](val)) : undefined})"
               ],
               "value": [
                "(function (val){return (val!=this.model[\"value\"]()) ? (this.valueFromJulia[\"value\"]=true, this.model[\"value\"](val)) : undefined})"
               ]
              },
              "id": "knockout-component-45b51f1a-05ce-419d-b1c7-52a6142187d6",
              "imports": {
               "data": [
                {
                 "name": "knockout",
                 "type": "js",
                 "url": "/assetserver/7727d7cb3453b9ff588804f2f297360e756850e6-knockout.js"
                },
                {
                 "name": "knockout_punches",
                 "type": "js",
                 "url": "/assetserver/dc191505b241da77a1bd06986b7132036babe315-knockout_punches.js"
                },
                {
                 "name": null,
                 "type": "js",
                 "url": "/assetserver/cf39e83f3445855334efae1f7d0ee012952fe319-all.js"
                },
                {
                 "name": null,
                 "type": "css",
                 "url": "/assetserver/495af69608d773e6cf6efd8fe98ee33ddbad0df5-style.css"
                },
                {
                 "name": null,
                 "type": "css",
                 "url": "/assetserver/9d22e7e1c4dccb3a3bef6ae4d24134fd256d4bfd-main.css"
                }
               ],
               "type": "async_block"
              },
              "observables": {
               "changes": {
                "id": "ob_82",
                "sync": false,
                "value": 0
               },
               "value": {
                "id": "ob_81",
                "sync": false,
                "value": false
               }
              },
              "systemjs_options": null
             },
             "nodeType": "Scope",
             "props": {},
             "type": "node"
            }
           ],
           "instanceArgs": {
            "namespace": "html",
            "tag": "div"
           },
           "nodeType": "DOM",
           "props": {
            "className": "field"
           },
           "type": "node"
          },
          {
           "children": [
            {
             "children": [
              {
               "children": [
                {
                 "children": [],
                 "instanceArgs": {
                  "namespace": "html",
                  "tag": "select"
                 },
                 "nodeType": "DOM",
                 "props": {
                  "attributes": {
                   "data-bind": "options : options_js, value : index, optionsText: 'key', optionsValue: 'val', valueAllowUnset: true, optionsAfterRender: disablePlaceholder"
                  }
                 },
                 "type": "node"
                }
               ],
               "instanceArgs": {
                "namespace": "html",
                "tag": "div"
               },
               "nodeType": "DOM",
               "props": {
                "className": "select "
               },
               "type": "node"
              }
             ],
             "instanceArgs": {
              "handlers": {
               "_promises": {
                "importsLoaded": [
                 "function (ko, koPunches) {\n    ko.punches.enableAll();\n    ko.bindingHandlers.numericValue = {\n        init : function(element, valueAccessor, allBindings, data, context) {\n            var stringified = ko.observable(ko.unwrap(valueAccessor()));\n            stringified.subscribe(function(value) {\n                var val = parseFloat(value);\n                if (!isNaN(val)) {\n                    valueAccessor()(val);\n                }\n            })\n            valueAccessor().subscribe(function(value) {\n                var str = JSON.stringify(value);\n                if ((str == \"0\") && ([\"-0\", \"-0.\"].indexOf(stringified()) >= 0))\n                     return;\n                 if ([\"null\", \"\"].indexOf(str) >= 0)\n                     return;\n                stringified(str);\n            })\n            ko.applyBindingsToNode(element, { value: stringified, valueUpdate: allBindings.get('valueUpdate')}, context);\n        }\n    };\n    var json_data = JSON.parse(\"{\\\"options_js\\\":[{\\\"key\\\":\\\"Plot type\\\",\\\"val\\\":0,\\\"id\\\":\\\"idnOJzzT0W\\\"},{\\\"key\\\":\\\"line\\\",\\\"val\\\":1,\\\"id\\\":\\\"idJwyQctRl\\\"},{\\\"key\\\":\\\"scatter\\\",\\\"val\\\":2,\\\"id\\\":\\\"id0Jf8fbTr\\\"},{\\\"key\\\":\\\"bar\\\",\\\"val\\\":3,\\\"id\\\":\\\"idz12JEpuu\\\"},{\\\"key\\\":\\\"boxplot\\\",\\\"val\\\":4,\\\"id\\\":\\\"id6mtrgkCZ\\\"},{\\\"key\\\":\\\"corrplot\\\",\\\"val\\\":5,\\\"id\\\":\\\"id5H7pM0eg\\\"},{\\\"key\\\":\\\"cornerplot\\\",\\\"val\\\":6,\\\"id\\\":\\\"idbSHPwNQ6\\\"},{\\\"key\\\":\\\"density\\\",\\\"val\\\":7,\\\"id\\\":\\\"idlIeBNiar\\\"},{\\\"key\\\":\\\"histogram\\\",\\\"val\\\":8,\\\"id\\\":\\\"idMH7RszWi\\\"},{\\\"key\\\":\\\"marginalhist\\\",\\\"val\\\":9,\\\"id\\\":\\\"idb9ygoZgY\\\"},{\\\"key\\\":\\\"violin\\\",\\\"val\\\":10,\\\"id\\\":\\\"idLyfDDfvd\\\"}],\\\"index\\\":1}\");\n    var self = this;\n    function AppViewModel() {\n        for (var key in json_data) {\n            var el = json_data[key];\n            this[key] = Array.isArray(el) ? ko.observableArray(el) : ko.observable(el);\n        }\n        [this[\"disablePlaceholder\"]=function(option, item) {\n    ko.applyBindingsToNode(option, {disable: item.val == 0}, item);\n}\n]\n        \n        [this[\"options_js\"].subscribe((function (val){!(this.valueFromJulia[\"options_js\"]) ? (_webIOScope.setObservableValue({\"name\":\"options_js\",\"scope\":\"knockout-component-77bb00ec-815d-4986-bd28-f2ff1d06e971\",\"id\":\"ob_87\",\"type\":\"observable\"},val)) : undefined; return this.valueFromJulia[\"options_js\"]=false}),self),this[\"index\"].subscribe((function (val){!(this.valueFromJulia[\"index\"]) ? (_webIOScope.setObservableValue({\"name\":\"index\",\"scope\":\"knockout-component-77bb00ec-815d-4986-bd28-f2ff1d06e971\",\"id\":\"ob_86\",\"type\":\"observable\"},val)) : undefined; return this.valueFromJulia[\"index\"]=false}),self)]\n        \n    }\n    self.model = new AppViewModel();\n    self.valueFromJulia = {};\n    for (var key in json_data) {\n        self.valueFromJulia[key] = false;\n    }\n    ko.applyBindings(self.model, self.dom);\n}\n"
                ]
               },
               "index": [
                "(function (val){return (val!=this.model[\"index\"]()) ? (this.valueFromJulia[\"index\"]=true, this.model[\"index\"](val)) : undefined})"
               ],
               "options_js": [
                "(function (val){return (val!=this.model[\"options_js\"]()) ? (this.valueFromJulia[\"options_js\"]=true, this.model[\"options_js\"](val)) : undefined})"
               ]
              },
              "id": "knockout-component-77bb00ec-815d-4986-bd28-f2ff1d06e971",
              "imports": {
               "data": [
                {
                 "name": "knockout",
                 "type": "js",
                 "url": "/assetserver/7727d7cb3453b9ff588804f2f297360e756850e6-knockout.js"
                },
                {
                 "name": "knockout_punches",
                 "type": "js",
                 "url": "/assetserver/dc191505b241da77a1bd06986b7132036babe315-knockout_punches.js"
                },
                {
                 "name": null,
                 "type": "js",
                 "url": "/assetserver/cf39e83f3445855334efae1f7d0ee012952fe319-all.js"
                },
                {
                 "name": null,
                 "type": "css",
                 "url": "/assetserver/495af69608d773e6cf6efd8fe98ee33ddbad0df5-style.css"
                },
                {
                 "name": null,
                 "type": "css",
                 "url": "/assetserver/9d22e7e1c4dccb3a3bef6ae4d24134fd256d4bfd-main.css"
                }
               ],
               "type": "async_block"
              },
              "observables": {
               "index": {
                "id": "ob_86",
                "sync": true,
                "value": 1
               },
               "options_js": {
                "id": "ob_87",
                "sync": false,
                "value": [
                 {
                  "id": "idnOJzzT0W",
                  "key": "Plot type",
                  "val": 0
                 },
                 {
                  "id": "idJwyQctRl",
                  "key": "line",
                  "val": 1
                 },
                 {
                  "id": "id0Jf8fbTr",
                  "key": "scatter",
                  "val": 2
                 },
                 {
                  "id": "idz12JEpuu",
                  "key": "bar",
                  "val": 3
                 },
                 {
                  "id": "id6mtrgkCZ",
                  "key": "boxplot",
                  "val": 4
                 },
                 {
                  "id": "id5H7pM0eg",
                  "key": "corrplot",
                  "val": 5
                 },
                 {
                  "id": "idbSHPwNQ6",
                  "key": "cornerplot",
                  "val": 6
                 },
                 {
                  "id": "idlIeBNiar",
                  "key": "density",
                  "val": 7
                 },
                 {
                  "id": "idMH7RszWi",
                  "key": "histogram",
                  "val": 8
                 },
                 {
                  "id": "idb9ygoZgY",
                  "key": "marginalhist",
                  "val": 9
                 },
                 {
                  "id": "idLyfDDfvd",
                  "key": "violin",
                  "val": 10
                 }
                ]
               }
              },
              "systemjs_options": null
             },
             "nodeType": "Scope",
             "props": {},
             "type": "node"
            }
           ],
           "instanceArgs": {
            "namespace": "html",
            "tag": "div"
           },
           "nodeType": "DOM",
           "props": {
            "className": "field"
           },
           "type": "node"
          },
          {
           "children": [
            {
             "children": [
              {
               "children": [
                {
                 "children": [
                  {
                   "children": [],
                   "instanceArgs": {
                    "namespace": "html",
                    "tag": "input"
                   },
                   "nodeType": "DOM",
                   "props": {
                    "attributes": {
                     "data-bind": "checked: value, valueUpdate: 'change', event: {change : function () {this.changes(this.changes()+1)}}",
                     "type": "checkbox"
                    },
                    "className": "switch ",
                    "id": "##385",
                    "style": {}
                   },
                   "type": "node"
                  },
                  {
                   "children": [
                    "Split data"
                   ],
                   "instanceArgs": {
                    "namespace": "html",
                    "tag": "label"
                   },
                   "nodeType": "DOM",
                   "props": {
                    "attributes": {
                     "className": "",
                     "for": "##385"
                    }
                   },
                   "type": "node"
                  }
                 ],
                 "instanceArgs": {
                  "namespace": "html",
                  "tag": "div"
                 },
                 "nodeType": "DOM",
                 "props": {
                  "className": "field"
                 },
                 "type": "node"
                },
                {
                 "children": [
                  {
                   "children": [
                    {
                     "children": [
                      {
                       "children": [
                        {
                         "children": [],
                         "instanceArgs": {
                          "namespace": "html",
                          "tag": "select"
                         },
                         "nodeType": "DOM",
                         "props": {
                          "attributes": {
                           "data-bind": "options : options_js, selectedOptions : index, optionsText: 'key', optionsValue: 'val', valueAllowUnset: true, optionsAfterRender: disablePlaceholder",
                           "multiple": true
                          }
                         },
                         "type": "node"
                        }
                       ],
                       "instanceArgs": {
                        "namespace": "html",
                        "tag": "div"
                       },
                       "nodeType": "DOM",
                       "props": {
                        "className": "select is-multiple "
                       },
                       "type": "node"
                      }
                     ],
                     "instanceArgs": {
                      "handlers": {
                       "_promises": {
                        "importsLoaded": [
                         "function (ko, koPunches) {\n    ko.punches.enableAll();\n    ko.bindingHandlers.numericValue = {\n        init : function(element, valueAccessor, allBindings, data, context) {\n            var stringified = ko.observable(ko.unwrap(valueAccessor()));\n            stringified.subscribe(function(value) {\n                var val = parseFloat(value);\n                if (!isNaN(val)) {\n                    valueAccessor()(val);\n                }\n            })\n            valueAccessor().subscribe(function(value) {\n                var str = JSON.stringify(value);\n                if ((str == \"0\") && ([\"-0\", \"-0.\"].indexOf(stringified()) >= 0))\n                     return;\n                 if ([\"null\", \"\"].indexOf(str) >= 0)\n                     return;\n                stringified(str);\n            })\n            ko.applyBindingsToNode(element, { value: stringified, valueUpdate: allBindings.get('valueUpdate')}, context);\n        }\n    };\n    var json_data = JSON.parse(\"{\\\"options_js\\\":[{\\\"key\\\":\\\"Group by\\\",\\\"val\\\":0,\\\"id\\\":\\\"idfuNa1rnv\\\"},{\\\"key\\\":\\\"scenario\\\",\\\"val\\\":1,\\\"id\\\":\\\"idIWlLL5Xo\\\"},{\\\"key\\\":\\\"policy\\\",\\\"val\\\":2,\\\"id\\\":\\\"id9r62HLsf\\\"},{\\\"key\\\":\\\"updater\\\",\\\"val\\\":3,\\\"id\\\":\\\"idr4wHcF65\\\"},{\\\"key\\\":\\\"n_episodes\\\",\\\"val\\\":4,\\\"id\\\":\\\"id7jfpkRBB\\\"},{\\\"key\\\":\\\"reward_mean\\\",\\\"val\\\":5,\\\"id\\\":\\\"idGxiRK1Pd\\\"},{\\\"key\\\":\\\"reward_std\\\",\\\"val\\\":6,\\\"id\\\":\\\"idMQ5cTb20\\\"},{\\\"key\\\":\\\"steps_mean\\\",\\\"val\\\":7,\\\"id\\\":\\\"id9uZZ2rBz\\\"},{\\\"key\\\":\\\"steps_std\\\",\\\"val\\\":8,\\\"id\\\":\\\"idasc26trD\\\"},{\\\"key\\\":\\\"violations_mean\\\",\\\"val\\\":9,\\\"id\\\":\\\"id7onSGAil\\\"},{\\\"key\\\":\\\"violations_std\\\",\\\"val\\\":10,\\\"id\\\":\\\"idBapWpAQ5\\\"},{\\\"key\\\":\\\"time\\\",\\\"val\\\":11,\\\"id\\\":\\\"idKr8rk0EM\\\"}],\\\"index\\\":[]}\");\n    var self = this;\n    function AppViewModel() {\n        for (var key in json_data) {\n            var el = json_data[key];\n            this[key] = Array.isArray(el) ? ko.observableArray(el) : ko.observable(el);\n        }\n        [this[\"disablePlaceholder\"]=function(option, item) {\n    ko.applyBindingsToNode(option, {disable: item.val == 0}, item);\n}\n]\n        \n        [this[\"options_js\"].subscribe((function (val){!(this.valueFromJulia[\"options_js\"]) ? (_webIOScope.setObservableValue({\"name\":\"options_js\",\"scope\":\"knockout-component-f2b985f5-0308-4d7b-9236-36490ef98188\",\"id\":\"ob_96\",\"type\":\"observable\"},val)) : undefined; return this.valueFromJulia[\"options_js\"]=false}),self),this[\"index\"].subscribe((function (val){!(this.valueFromJulia[\"index\"]) ? (_webIOScope.setObservableValue({\"name\":\"index\",\"scope\":\"knockout-component-f2b985f5-0308-4d7b-9236-36490ef98188\",\"id\":\"ob_95\",\"type\":\"observable\"},val)) : undefined; return this.valueFromJulia[\"index\"]=false}),self)]\n        \n    }\n    self.model = new AppViewModel();\n    self.valueFromJulia = {};\n    for (var key in json_data) {\n        self.valueFromJulia[key] = false;\n    }\n    ko.applyBindings(self.model, self.dom);\n}\n"
                        ]
                       },
                       "index": [
                        "(function (val){return (val!=this.model[\"index\"]()) ? (this.valueFromJulia[\"index\"]=true, this.model[\"index\"](val)) : undefined})"
                       ],
                       "options_js": [
                        "(function (val){return (val!=this.model[\"options_js\"]()) ? (this.valueFromJulia[\"options_js\"]=true, this.model[\"options_js\"](val)) : undefined})"
                       ]
                      },
                      "id": "knockout-component-f2b985f5-0308-4d7b-9236-36490ef98188",
                      "imports": {
                       "data": [
                        {
                         "name": "knockout",
                         "type": "js",
                         "url": "/assetserver/7727d7cb3453b9ff588804f2f297360e756850e6-knockout.js"
                        },
                        {
                         "name": "knockout_punches",
                         "type": "js",
                         "url": "/assetserver/dc191505b241da77a1bd06986b7132036babe315-knockout_punches.js"
                        },
                        {
                         "name": null,
                         "type": "js",
                         "url": "/assetserver/cf39e83f3445855334efae1f7d0ee012952fe319-all.js"
                        },
                        {
                         "name": null,
                         "type": "css",
                         "url": "/assetserver/495af69608d773e6cf6efd8fe98ee33ddbad0df5-style.css"
                        },
                        {
                         "name": null,
                         "type": "css",
                         "url": "/assetserver/9d22e7e1c4dccb3a3bef6ae4d24134fd256d4bfd-main.css"
                        }
                       ],
                       "type": "async_block"
                      },
                      "observables": {
                       "index": {
                        "id": "ob_95",
                        "sync": true,
                        "value": []
                       },
                       "options_js": {
                        "id": "ob_96",
                        "sync": false,
                        "value": [
                         {
                          "id": "idfuNa1rnv",
                          "key": "Group by",
                          "val": 0
                         },
                         {
                          "id": "idIWlLL5Xo",
                          "key": "scenario",
                          "val": 1
                         },
                         {
                          "id": "id9r62HLsf",
                          "key": "policy",
                          "val": 2
                         },
                         {
                          "id": "idr4wHcF65",
                          "key": "updater",
                          "val": 3
                         },
                         {
                          "id": "id7jfpkRBB",
                          "key": "n_episodes",
                          "val": 4
                         },
                         {
                          "id": "idGxiRK1Pd",
                          "key": "reward_mean",
                          "val": 5
                         },
                         {
                          "id": "idMQ5cTb20",
                          "key": "reward_std",
                          "val": 6
                         },
                         {
                          "id": "id9uZZ2rBz",
                          "key": "steps_mean",
                          "val": 7
                         },
                         {
                          "id": "idasc26trD",
                          "key": "steps_std",
                          "val": 8
                         },
                         {
                          "id": "id7onSGAil",
                          "key": "violations_mean",
                          "val": 9
                         },
                         {
                          "id": "idBapWpAQ5",
                          "key": "violations_std",
                          "val": 10
                         },
                         {
                          "id": "idKr8rk0EM",
                          "key": "time",
                          "val": 11
                         }
                        ]
                       }
                      },
                      "systemjs_options": null
                     },
                     "nodeType": "Scope",
                     "props": {},
                     "type": "node"
                    }
                   ],
                   "instanceArgs": {
                    "namespace": "html",
                    "tag": "div"
                   },
                   "nodeType": "DOM",
                   "props": {
                    "className": "field"
                   },
                   "type": "node"
                  }
                 ],
                 "instanceArgs": {
                  "namespace": "html",
                  "tag": "div"
                 },
                 "nodeType": "DOM",
                 "props": {
                  "attributes": {
                   "data-bind": "visible: value"
                  }
                 },
                 "type": "node"
                }
               ],
               "instanceArgs": {
                "namespace": "html",
                "tag": "div"
               },
               "nodeType": "DOM",
               "props": {
                "style": {
                 "display": "flex",
                 "flex-direction": "column"
                }
               },
               "type": "node"
              }
             ],
             "instanceArgs": {
              "handlers": {
               "_promises": {
                "importsLoaded": [
                 "function (ko, koPunches) {\n    ko.punches.enableAll();\n    ko.bindingHandlers.numericValue = {\n        init : function(element, valueAccessor, allBindings, data, context) {\n            var stringified = ko.observable(ko.unwrap(valueAccessor()));\n            stringified.subscribe(function(value) {\n                var val = parseFloat(value);\n                if (!isNaN(val)) {\n                    valueAccessor()(val);\n                }\n            })\n            valueAccessor().subscribe(function(value) {\n                var str = JSON.stringify(value);\n                if ((str == \"0\") && ([\"-0\", \"-0.\"].indexOf(stringified()) >= 0))\n                     return;\n                 if ([\"null\", \"\"].indexOf(str) >= 0)\n                     return;\n                stringified(str);\n            })\n            ko.applyBindingsToNode(element, { value: stringified, valueUpdate: allBindings.get('valueUpdate')}, context);\n        }\n    };\n    var json_data = JSON.parse(\"{\\\"changes\\\":0,\\\"value\\\":false}\");\n    var self = this;\n    function AppViewModel() {\n        for (var key in json_data) {\n            var el = json_data[key];\n            this[key] = Array.isArray(el) ? ko.observableArray(el) : ko.observable(el);\n        }\n        \n        \n        [this[\"changes\"].subscribe((function (val){!(this.valueFromJulia[\"changes\"]) ? (_webIOScope.setObservableValue({\"name\":\"changes\",\"scope\":\"knockout-component-dab2be09-9cb6-40ae-b9c1-f8abb1705e93\",\"id\":\"ob_98\",\"type\":\"observable\"},val)) : undefined; return this.valueFromJulia[\"changes\"]=false}),self),this[\"value\"].subscribe((function (val){!(this.valueFromJulia[\"value\"]) ? (_webIOScope.setObservableValue({\"name\":\"value\",\"scope\":\"knockout-component-dab2be09-9cb6-40ae-b9c1-f8abb1705e93\",\"id\":\"ob_97\",\"type\":\"observable\"},val)) : undefined; return this.valueFromJulia[\"value\"]=false}),self)]\n        \n    }\n    self.model = new AppViewModel();\n    self.valueFromJulia = {};\n    for (var key in json_data) {\n        self.valueFromJulia[key] = false;\n    }\n    ko.applyBindings(self.model, self.dom);\n}\n"
                ]
               },
               "changes": [
                "(function (val){return (val!=this.model[\"changes\"]()) ? (this.valueFromJulia[\"changes\"]=true, this.model[\"changes\"](val)) : undefined})"
               ],
               "value": [
                "(function (val){return (val!=this.model[\"value\"]()) ? (this.valueFromJulia[\"value\"]=true, this.model[\"value\"](val)) : undefined})"
               ]
              },
              "id": "knockout-component-dab2be09-9cb6-40ae-b9c1-f8abb1705e93",
              "imports": {
               "data": [
                {
                 "name": "knockout",
                 "type": "js",
                 "url": "/assetserver/7727d7cb3453b9ff588804f2f297360e756850e6-knockout.js"
                },
                {
                 "name": "knockout_punches",
                 "type": "js",
                 "url": "/assetserver/dc191505b241da77a1bd06986b7132036babe315-knockout_punches.js"
                },
                {
                 "name": null,
                 "type": "js",
                 "url": "/assetserver/cf39e83f3445855334efae1f7d0ee012952fe319-all.js"
                },
                {
                 "name": null,
                 "type": "css",
                 "url": "/assetserver/495af69608d773e6cf6efd8fe98ee33ddbad0df5-style.css"
                },
                {
                 "name": null,
                 "type": "css",
                 "url": "/assetserver/9d22e7e1c4dccb3a3bef6ae4d24134fd256d4bfd-main.css"
                }
               ],
               "type": "async_block"
              },
              "observables": {
               "changes": {
                "id": "ob_98",
                "sync": false,
                "value": 0
               },
               "value": {
                "id": "ob_97",
                "sync": false,
                "value": false
               }
              },
              "systemjs_options": null
             },
             "nodeType": "Scope",
             "props": {},
             "type": "node"
            }
           ],
           "instanceArgs": {
            "namespace": "html",
            "tag": "div"
           },
           "nodeType": "DOM",
           "props": {
            "className": "field"
           },
           "type": "node"
          },
          {
           "children": [
            {
             "children": [
              {
               "children": [
                "plot"
               ],
               "instanceArgs": {
                "namespace": "html",
                "tag": "button"
               },
               "nodeType": "DOM",
               "props": {
                "attributes": {
                 "data-bind": "click : function () {this.clicks(this.clicks()+1)}"
                },
                "className": "button is-primary",
                "style": {}
               },
               "type": "node"
              }
             ],
             "instanceArgs": {
              "handlers": {
               "_promises": {
                "importsLoaded": [
                 "function (ko, koPunches) {\n    ko.punches.enableAll();\n    ko.bindingHandlers.numericValue = {\n        init : function(element, valueAccessor, allBindings, data, context) {\n            var stringified = ko.observable(ko.unwrap(valueAccessor()));\n            stringified.subscribe(function(value) {\n                var val = parseFloat(value);\n                if (!isNaN(val)) {\n                    valueAccessor()(val);\n                }\n            })\n            valueAccessor().subscribe(function(value) {\n                var str = JSON.stringify(value);\n                if ((str == \"0\") && ([\"-0\", \"-0.\"].indexOf(stringified()) >= 0))\n                     return;\n                 if ([\"null\", \"\"].indexOf(str) >= 0)\n                     return;\n                stringified(str);\n            })\n            ko.applyBindingsToNode(element, { value: stringified, valueUpdate: allBindings.get('valueUpdate')}, context);\n        }\n    };\n    var json_data = JSON.parse(\"{\\\"clicks\\\":0}\");\n    var self = this;\n    function AppViewModel() {\n        for (var key in json_data) {\n            var el = json_data[key];\n            this[key] = Array.isArray(el) ? ko.observableArray(el) : ko.observable(el);\n        }\n        \n        \n        [this[\"clicks\"].subscribe((function (val){!(this.valueFromJulia[\"clicks\"]) ? (_webIOScope.setObservableValue({\"name\":\"clicks\",\"scope\":\"knockout-component-59b707ee-a0c0-4544-8903-984474c44991\",\"id\":\"ob_99\",\"type\":\"observable\"},val)) : undefined; return this.valueFromJulia[\"clicks\"]=false}),self)]\n        \n    }\n    self.model = new AppViewModel();\n    self.valueFromJulia = {};\n    for (var key in json_data) {\n        self.valueFromJulia[key] = false;\n    }\n    ko.applyBindings(self.model, self.dom);\n}\n"
                ]
               },
               "clicks": [
                "(function (val){return (val!=this.model[\"clicks\"]()) ? (this.valueFromJulia[\"clicks\"]=true, this.model[\"clicks\"](val)) : undefined})"
               ]
              },
              "id": "knockout-component-59b707ee-a0c0-4544-8903-984474c44991",
              "imports": {
               "data": [
                {
                 "name": "knockout",
                 "type": "js",
                 "url": "/assetserver/7727d7cb3453b9ff588804f2f297360e756850e6-knockout.js"
                },
                {
                 "name": "knockout_punches",
                 "type": "js",
                 "url": "/assetserver/dc191505b241da77a1bd06986b7132036babe315-knockout_punches.js"
                },
                {
                 "name": null,
                 "type": "js",
                 "url": "/assetserver/cf39e83f3445855334efae1f7d0ee012952fe319-all.js"
                },
                {
                 "name": null,
                 "type": "css",
                 "url": "/assetserver/495af69608d773e6cf6efd8fe98ee33ddbad0df5-style.css"
                },
                {
                 "name": null,
                 "type": "css",
                 "url": "/assetserver/9d22e7e1c4dccb3a3bef6ae4d24134fd256d4bfd-main.css"
                }
               ],
               "type": "async_block"
              },
              "observables": {
               "clicks": {
                "id": "ob_99",
                "sync": true,
                "value": 0
               }
              },
              "systemjs_options": null
             },
             "nodeType": "Scope",
             "props": {},
             "type": "node"
            }
           ],
           "instanceArgs": {
            "namespace": "html",
            "tag": "div"
           },
           "nodeType": "DOM",
           "props": {
            "className": "field"
           },
           "type": "node"
          }
         ],
         "instanceArgs": {
          "namespace": "html",
          "tag": "div"
         },
         "nodeType": "DOM",
         "props": {},
         "type": "node"
        },
        {
         "children": [],
         "instanceArgs": {
          "namespace": "html",
          "tag": "div"
         },
         "nodeType": "DOM",
         "props": {
          "style": {
           "width": "3em"
          }
         },
         "type": "node"
        },
        {
         "children": [
          {
           "children": [
            {
             "children": [],
             "instanceArgs": {
              "namespace": "html",
              "tag": "div"
             },
             "nodeType": "DOM",
             "props": {
              "className": "webio-observable",
              "setInnerHtml": "<?xml version=\"1.0\" encoding=\"utf-8\"?>\n<svg xmlns=\"http://www.w3.org/2000/svg\" xmlns:xlink=\"http://www.w3.org/1999/xlink\" width=\"600\" height=\"400\" viewBox=\"0 0 2400 1600\">\n<defs>\n  <clipPath id=\"clip6100\">\n    <rect x=\"0\" y=\"0\" width=\"2000\" height=\"2000\"/>\n  </clipPath>\n</defs>\n<defs>\n  <clipPath id=\"clip6101\">\n    <rect x=\"0\" y=\"0\" width=\"2400\" height=\"1600\"/>\n  </clipPath>\n</defs>\n<polygon clip-path=\"url(#clip6101)\" points=\"\n0,1600 2400,1600 2400,0 0,0 \n  \" fill=\"#ffffff\" fill-rule=\"evenodd\" fill-opacity=\"1\"/>\n<defs>\n  <clipPath id=\"clip6102\">\n    <rect x=\"480\" y=\"0\" width=\"1681\" height=\"1600\"/>\n  </clipPath>\n</defs>\n<polygon clip-path=\"url(#clip6101)\" points=\"\n161.394,1503.47 2321.26,1503.47 2321.26,47.2441 161.394,47.2441 \n  \" fill=\"#ffffff\" fill-rule=\"evenodd\" fill-opacity=\"1\"/>\n<defs>\n  <clipPath id=\"clip6103\">\n    <rect x=\"161\" y=\"47\" width=\"2161\" height=\"1457\"/>\n  </clipPath>\n</defs>\n<polyline clip-path=\"url(#clip6103)\" style=\"stroke:#000000; stroke-width:2; stroke-opacity:0.1; fill:none\" points=\"\n  161.394,1503.47 161.394,47.2441 \n  \"/>\n<polyline clip-path=\"url(#clip6103)\" style=\"stroke:#000000; stroke-width:2; stroke-opacity:0.1; fill:none\" points=\"\n  593.367,1503.47 593.367,47.2441 \n  \"/>\n<polyline clip-path=\"url(#clip6103)\" style=\"stroke:#000000; stroke-width:2; stroke-opacity:0.1; fill:none\" points=\"\n  1025.34,1503.47 1025.34,47.2441 \n  \"/>\n<polyline clip-path=\"url(#clip6103)\" style=\"stroke:#000000; stroke-width:2; stroke-opacity:0.1; fill:none\" points=\"\n  1457.31,1503.47 1457.31,47.2441 \n  \"/>\n<polyline clip-path=\"url(#clip6103)\" style=\"stroke:#000000; stroke-width:2; stroke-opacity:0.1; fill:none\" points=\"\n  1889.29,1503.47 1889.29,47.2441 \n  \"/>\n<polyline clip-path=\"url(#clip6103)\" style=\"stroke:#000000; stroke-width:2; stroke-opacity:0.1; fill:none\" points=\"\n  2321.26,1503.47 2321.26,47.2441 \n  \"/>\n<polyline clip-path=\"url(#clip6103)\" style=\"stroke:#000000; stroke-width:2; stroke-opacity:0.1; fill:none\" points=\"\n  161.394,1503.47 2321.26,1503.47 \n  \"/>\n<polyline clip-path=\"url(#clip6103)\" style=\"stroke:#000000; stroke-width:2; stroke-opacity:0.1; fill:none\" points=\"\n  161.394,1212.23 2321.26,1212.23 \n  \"/>\n<polyline clip-path=\"url(#clip6103)\" style=\"stroke:#000000; stroke-width:2; stroke-opacity:0.1; fill:none\" points=\"\n  161.394,920.982 2321.26,920.982 \n  \"/>\n<polyline clip-path=\"url(#clip6103)\" style=\"stroke:#000000; stroke-width:2; stroke-opacity:0.1; fill:none\" points=\"\n  161.394,629.736 2321.26,629.736 \n  \"/>\n<polyline clip-path=\"url(#clip6103)\" style=\"stroke:#000000; stroke-width:2; stroke-opacity:0.1; fill:none\" points=\"\n  161.394,338.49 2321.26,338.49 \n  \"/>\n<polyline clip-path=\"url(#clip6103)\" style=\"stroke:#000000; stroke-width:2; stroke-opacity:0.1; fill:none\" points=\"\n  161.394,47.2441 2321.26,47.2441 \n  \"/>\n<polyline clip-path=\"url(#clip6101)\" style=\"stroke:#000000; stroke-width:4; stroke-opacity:1; fill:none\" points=\"\n  161.394,1503.47 2321.26,1503.47 \n  \"/>\n<polyline clip-path=\"url(#clip6101)\" style=\"stroke:#000000; stroke-width:4; stroke-opacity:1; fill:none\" points=\"\n  161.394,1503.47 161.394,47.2441 \n  \"/>\n<polyline clip-path=\"url(#clip6101)\" style=\"stroke:#000000; stroke-width:4; stroke-opacity:1; fill:none\" points=\"\n  161.394,1503.47 161.394,1481.63 \n  \"/>\n<polyline clip-path=\"url(#clip6101)\" style=\"stroke:#000000; stroke-width:4; stroke-opacity:1; fill:none\" points=\"\n  593.367,1503.47 593.367,1481.63 \n  \"/>\n<polyline clip-path=\"url(#clip6101)\" style=\"stroke:#000000; stroke-width:4; stroke-opacity:1; fill:none\" points=\"\n  1025.34,1503.47 1025.34,1481.63 \n  \"/>\n<polyline clip-path=\"url(#clip6101)\" style=\"stroke:#000000; stroke-width:4; stroke-opacity:1; fill:none\" points=\"\n  1457.31,1503.47 1457.31,1481.63 \n  \"/>\n<polyline clip-path=\"url(#clip6101)\" style=\"stroke:#000000; stroke-width:4; stroke-opacity:1; fill:none\" points=\"\n  1889.29,1503.47 1889.29,1481.63 \n  \"/>\n<polyline clip-path=\"url(#clip6101)\" style=\"stroke:#000000; stroke-width:4; stroke-opacity:1; fill:none\" points=\"\n  2321.26,1503.47 2321.26,1481.63 \n  \"/>\n<polyline clip-path=\"url(#clip6101)\" style=\"stroke:#000000; stroke-width:4; stroke-opacity:1; fill:none\" points=\"\n  161.394,1503.47 193.792,1503.47 \n  \"/>\n<polyline clip-path=\"url(#clip6101)\" style=\"stroke:#000000; stroke-width:4; stroke-opacity:1; fill:none\" points=\"\n  161.394,1212.23 193.792,1212.23 \n  \"/>\n<polyline clip-path=\"url(#clip6101)\" style=\"stroke:#000000; stroke-width:4; stroke-opacity:1; fill:none\" points=\"\n  161.394,920.982 193.792,920.982 \n  \"/>\n<polyline clip-path=\"url(#clip6101)\" style=\"stroke:#000000; stroke-width:4; stroke-opacity:1; fill:none\" points=\"\n  161.394,629.736 193.792,629.736 \n  \"/>\n<polyline clip-path=\"url(#clip6101)\" style=\"stroke:#000000; stroke-width:4; stroke-opacity:1; fill:none\" points=\"\n  161.394,338.49 193.792,338.49 \n  \"/>\n<polyline clip-path=\"url(#clip6101)\" style=\"stroke:#000000; stroke-width:4; stroke-opacity:1; fill:none\" points=\"\n  161.394,47.2441 193.792,47.2441 \n  \"/>\n<g clip-path=\"url(#clip6101)\">\n<text style=\"fill:#000000; fill-opacity:1; font-family:Arial,Helvetica Neue,Helvetica,sans-serif; font-size:48px; text-anchor:middle;\" transform=\"rotate(0, 161.394, 1557.47)\" x=\"161.394\" y=\"1557.47\">0.0</text>\n</g>\n<g clip-path=\"url(#clip6101)\">\n<text style=\"fill:#000000; fill-opacity:1; font-family:Arial,Helvetica Neue,Helvetica,sans-serif; font-size:48px; text-anchor:middle;\" transform=\"rotate(0, 593.367, 1557.47)\" x=\"593.367\" y=\"1557.47\">0.2</text>\n</g>\n<g clip-path=\"url(#clip6101)\">\n<text style=\"fill:#000000; fill-opacity:1; font-family:Arial,Helvetica Neue,Helvetica,sans-serif; font-size:48px; text-anchor:middle;\" transform=\"rotate(0, 1025.34, 1557.47)\" x=\"1025.34\" y=\"1557.47\">0.4</text>\n</g>\n<g clip-path=\"url(#clip6101)\">\n<text style=\"fill:#000000; fill-opacity:1; font-family:Arial,Helvetica Neue,Helvetica,sans-serif; font-size:48px; text-anchor:middle;\" transform=\"rotate(0, 1457.31, 1557.47)\" x=\"1457.31\" y=\"1557.47\">0.6</text>\n</g>\n<g clip-path=\"url(#clip6101)\">\n<text style=\"fill:#000000; fill-opacity:1; font-family:Arial,Helvetica Neue,Helvetica,sans-serif; font-size:48px; text-anchor:middle;\" transform=\"rotate(0, 1889.29, 1557.47)\" x=\"1889.29\" y=\"1557.47\">0.8</text>\n</g>\n<g clip-path=\"url(#clip6101)\">\n<text style=\"fill:#000000; fill-opacity:1; font-family:Arial,Helvetica Neue,Helvetica,sans-serif; font-size:48px; text-anchor:middle;\" transform=\"rotate(0, 2321.26, 1557.47)\" x=\"2321.26\" y=\"1557.47\">1.0</text>\n</g>\n<g clip-path=\"url(#clip6101)\">\n<text style=\"fill:#000000; fill-opacity:1; font-family:Arial,Helvetica Neue,Helvetica,sans-serif; font-size:48px; text-anchor:end;\" transform=\"rotate(0, 137.394, 1520.97)\" x=\"137.394\" y=\"1520.97\">0.0</text>\n</g>\n<g clip-path=\"url(#clip6101)\">\n<text style=\"fill:#000000; fill-opacity:1; font-family:Arial,Helvetica Neue,Helvetica,sans-serif; font-size:48px; text-anchor:end;\" transform=\"rotate(0, 137.394, 1229.73)\" x=\"137.394\" y=\"1229.73\">0.2</text>\n</g>\n<g clip-path=\"url(#clip6101)\">\n<text style=\"fill:#000000; fill-opacity:1; font-family:Arial,Helvetica Neue,Helvetica,sans-serif; font-size:48px; text-anchor:end;\" transform=\"rotate(0, 137.394, 938.482)\" x=\"137.394\" y=\"938.482\">0.4</text>\n</g>\n<g clip-path=\"url(#clip6101)\">\n<text style=\"fill:#000000; fill-opacity:1; font-family:Arial,Helvetica Neue,Helvetica,sans-serif; font-size:48px; text-anchor:end;\" transform=\"rotate(0, 137.394, 647.236)\" x=\"137.394\" y=\"647.236\">0.6</text>\n</g>\n<g clip-path=\"url(#clip6101)\">\n<text style=\"fill:#000000; fill-opacity:1; font-family:Arial,Helvetica Neue,Helvetica,sans-serif; font-size:48px; text-anchor:end;\" transform=\"rotate(0, 137.394, 355.99)\" x=\"137.394\" y=\"355.99\">0.8</text>\n</g>\n<g clip-path=\"url(#clip6101)\">\n<text style=\"fill:#000000; fill-opacity:1; font-family:Arial,Helvetica Neue,Helvetica,sans-serif; font-size:48px; text-anchor:end;\" transform=\"rotate(0, 137.394, 64.7441)\" x=\"137.394\" y=\"64.7441\">1.0</text>\n</g>\n</svg>\n"
             },
             "type": "node"
            }
           ],
           "instanceArgs": {
            "handlers": {
             "obs-output": [
              "function (value, scope) {\n    scope.setInnerHTML(value);\n}\n"
             ]
            },
            "id": "scope-5a415ad7-373a-49f8-ae0f-5df75d00c6af",
            "imports": {
             "data": [],
             "type": "async_block"
            },
            "observables": {
             "obs-output": {
              "id": "ob_102",
              "sync": false,
              "value": "<?xml version=\"1.0\" encoding=\"utf-8\"?>\n<svg xmlns=\"http://www.w3.org/2000/svg\" xmlns:xlink=\"http://www.w3.org/1999/xlink\" width=\"600\" height=\"400\" viewBox=\"0 0 2400 1600\">\n<defs>\n  <clipPath id=\"clip6100\">\n    <rect x=\"0\" y=\"0\" width=\"2000\" height=\"2000\"/>\n  </clipPath>\n</defs>\n<defs>\n  <clipPath id=\"clip6101\">\n    <rect x=\"0\" y=\"0\" width=\"2400\" height=\"1600\"/>\n  </clipPath>\n</defs>\n<polygon clip-path=\"url(#clip6101)\" points=\"\n0,1600 2400,1600 2400,0 0,0 \n  \" fill=\"#ffffff\" fill-rule=\"evenodd\" fill-opacity=\"1\"/>\n<defs>\n  <clipPath id=\"clip6102\">\n    <rect x=\"480\" y=\"0\" width=\"1681\" height=\"1600\"/>\n  </clipPath>\n</defs>\n<polygon clip-path=\"url(#clip6101)\" points=\"\n161.394,1503.47 2321.26,1503.47 2321.26,47.2441 161.394,47.2441 \n  \" fill=\"#ffffff\" fill-rule=\"evenodd\" fill-opacity=\"1\"/>\n<defs>\n  <clipPath id=\"clip6103\">\n    <rect x=\"161\" y=\"47\" width=\"2161\" height=\"1457\"/>\n  </clipPath>\n</defs>\n<polyline clip-path=\"url(#clip6103)\" style=\"stroke:#000000; stroke-width:2; stroke-opacity:0.1; fill:none\" points=\"\n  161.394,1503.47 161.394,47.2441 \n  \"/>\n<polyline clip-path=\"url(#clip6103)\" style=\"stroke:#000000; stroke-width:2; stroke-opacity:0.1; fill:none\" points=\"\n  593.367,1503.47 593.367,47.2441 \n  \"/>\n<polyline clip-path=\"url(#clip6103)\" style=\"stroke:#000000; stroke-width:2; stroke-opacity:0.1; fill:none\" points=\"\n  1025.34,1503.47 1025.34,47.2441 \n  \"/>\n<polyline clip-path=\"url(#clip6103)\" style=\"stroke:#000000; stroke-width:2; stroke-opacity:0.1; fill:none\" points=\"\n  1457.31,1503.47 1457.31,47.2441 \n  \"/>\n<polyline clip-path=\"url(#clip6103)\" style=\"stroke:#000000; stroke-width:2; stroke-opacity:0.1; fill:none\" points=\"\n  1889.29,1503.47 1889.29,47.2441 \n  \"/>\n<polyline clip-path=\"url(#clip6103)\" style=\"stroke:#000000; stroke-width:2; stroke-opacity:0.1; fill:none\" points=\"\n  2321.26,1503.47 2321.26,47.2441 \n  \"/>\n<polyline clip-path=\"url(#clip6103)\" style=\"stroke:#000000; stroke-width:2; stroke-opacity:0.1; fill:none\" points=\"\n  161.394,1503.47 2321.26,1503.47 \n  \"/>\n<polyline clip-path=\"url(#clip6103)\" style=\"stroke:#000000; stroke-width:2; stroke-opacity:0.1; fill:none\" points=\"\n  161.394,1212.23 2321.26,1212.23 \n  \"/>\n<polyline clip-path=\"url(#clip6103)\" style=\"stroke:#000000; stroke-width:2; stroke-opacity:0.1; fill:none\" points=\"\n  161.394,920.982 2321.26,920.982 \n  \"/>\n<polyline clip-path=\"url(#clip6103)\" style=\"stroke:#000000; stroke-width:2; stroke-opacity:0.1; fill:none\" points=\"\n  161.394,629.736 2321.26,629.736 \n  \"/>\n<polyline clip-path=\"url(#clip6103)\" style=\"stroke:#000000; stroke-width:2; stroke-opacity:0.1; fill:none\" points=\"\n  161.394,338.49 2321.26,338.49 \n  \"/>\n<polyline clip-path=\"url(#clip6103)\" style=\"stroke:#000000; stroke-width:2; stroke-opacity:0.1; fill:none\" points=\"\n  161.394,47.2441 2321.26,47.2441 \n  \"/>\n<polyline clip-path=\"url(#clip6101)\" style=\"stroke:#000000; stroke-width:4; stroke-opacity:1; fill:none\" points=\"\n  161.394,1503.47 2321.26,1503.47 \n  \"/>\n<polyline clip-path=\"url(#clip6101)\" style=\"stroke:#000000; stroke-width:4; stroke-opacity:1; fill:none\" points=\"\n  161.394,1503.47 161.394,47.2441 \n  \"/>\n<polyline clip-path=\"url(#clip6101)\" style=\"stroke:#000000; stroke-width:4; stroke-opacity:1; fill:none\" points=\"\n  161.394,1503.47 161.394,1481.63 \n  \"/>\n<polyline clip-path=\"url(#clip6101)\" style=\"stroke:#000000; stroke-width:4; stroke-opacity:1; fill:none\" points=\"\n  593.367,1503.47 593.367,1481.63 \n  \"/>\n<polyline clip-path=\"url(#clip6101)\" style=\"stroke:#000000; stroke-width:4; stroke-opacity:1; fill:none\" points=\"\n  1025.34,1503.47 1025.34,1481.63 \n  \"/>\n<polyline clip-path=\"url(#clip6101)\" style=\"stroke:#000000; stroke-width:4; stroke-opacity:1; fill:none\" points=\"\n  1457.31,1503.47 1457.31,1481.63 \n  \"/>\n<polyline clip-path=\"url(#clip6101)\" style=\"stroke:#000000; stroke-width:4; stroke-opacity:1; fill:none\" points=\"\n  1889.29,1503.47 1889.29,1481.63 \n  \"/>\n<polyline clip-path=\"url(#clip6101)\" style=\"stroke:#000000; stroke-width:4; stroke-opacity:1; fill:none\" points=\"\n  2321.26,1503.47 2321.26,1481.63 \n  \"/>\n<polyline clip-path=\"url(#clip6101)\" style=\"stroke:#000000; stroke-width:4; stroke-opacity:1; fill:none\" points=\"\n  161.394,1503.47 193.792,1503.47 \n  \"/>\n<polyline clip-path=\"url(#clip6101)\" style=\"stroke:#000000; stroke-width:4; stroke-opacity:1; fill:none\" points=\"\n  161.394,1212.23 193.792,1212.23 \n  \"/>\n<polyline clip-path=\"url(#clip6101)\" style=\"stroke:#000000; stroke-width:4; stroke-opacity:1; fill:none\" points=\"\n  161.394,920.982 193.792,920.982 \n  \"/>\n<polyline clip-path=\"url(#clip6101)\" style=\"stroke:#000000; stroke-width:4; stroke-opacity:1; fill:none\" points=\"\n  161.394,629.736 193.792,629.736 \n  \"/>\n<polyline clip-path=\"url(#clip6101)\" style=\"stroke:#000000; stroke-width:4; stroke-opacity:1; fill:none\" points=\"\n  161.394,338.49 193.792,338.49 \n  \"/>\n<polyline clip-path=\"url(#clip6101)\" style=\"stroke:#000000; stroke-width:4; stroke-opacity:1; fill:none\" points=\"\n  161.394,47.2441 193.792,47.2441 \n  \"/>\n<g clip-path=\"url(#clip6101)\">\n<text style=\"fill:#000000; fill-opacity:1; font-family:Arial,Helvetica Neue,Helvetica,sans-serif; font-size:48px; text-anchor:middle;\" transform=\"rotate(0, 161.394, 1557.47)\" x=\"161.394\" y=\"1557.47\">0.0</text>\n</g>\n<g clip-path=\"url(#clip6101)\">\n<text style=\"fill:#000000; fill-opacity:1; font-family:Arial,Helvetica Neue,Helvetica,sans-serif; font-size:48px; text-anchor:middle;\" transform=\"rotate(0, 593.367, 1557.47)\" x=\"593.367\" y=\"1557.47\">0.2</text>\n</g>\n<g clip-path=\"url(#clip6101)\">\n<text style=\"fill:#000000; fill-opacity:1; font-family:Arial,Helvetica Neue,Helvetica,sans-serif; font-size:48px; text-anchor:middle;\" transform=\"rotate(0, 1025.34, 1557.47)\" x=\"1025.34\" y=\"1557.47\">0.4</text>\n</g>\n<g clip-path=\"url(#clip6101)\">\n<text style=\"fill:#000000; fill-opacity:1; font-family:Arial,Helvetica Neue,Helvetica,sans-serif; font-size:48px; text-anchor:middle;\" transform=\"rotate(0, 1457.31, 1557.47)\" x=\"1457.31\" y=\"1557.47\">0.6</text>\n</g>\n<g clip-path=\"url(#clip6101)\">\n<text style=\"fill:#000000; fill-opacity:1; font-family:Arial,Helvetica Neue,Helvetica,sans-serif; font-size:48px; text-anchor:middle;\" transform=\"rotate(0, 1889.29, 1557.47)\" x=\"1889.29\" y=\"1557.47\">0.8</text>\n</g>\n<g clip-path=\"url(#clip6101)\">\n<text style=\"fill:#000000; fill-opacity:1; font-family:Arial,Helvetica Neue,Helvetica,sans-serif; font-size:48px; text-anchor:middle;\" transform=\"rotate(0, 2321.26, 1557.47)\" x=\"2321.26\" y=\"1557.47\">1.0</text>\n</g>\n<g clip-path=\"url(#clip6101)\">\n<text style=\"fill:#000000; fill-opacity:1; font-family:Arial,Helvetica Neue,Helvetica,sans-serif; font-size:48px; text-anchor:end;\" transform=\"rotate(0, 137.394, 1520.97)\" x=\"137.394\" y=\"1520.97\">0.0</text>\n</g>\n<g clip-path=\"url(#clip6101)\">\n<text style=\"fill:#000000; fill-opacity:1; font-family:Arial,Helvetica Neue,Helvetica,sans-serif; font-size:48px; text-anchor:end;\" transform=\"rotate(0, 137.394, 1229.73)\" x=\"137.394\" y=\"1229.73\">0.2</text>\n</g>\n<g clip-path=\"url(#clip6101)\">\n<text style=\"fill:#000000; fill-opacity:1; font-family:Arial,Helvetica Neue,Helvetica,sans-serif; font-size:48px; text-anchor:end;\" transform=\"rotate(0, 137.394, 938.482)\" x=\"137.394\" y=\"938.482\">0.4</text>\n</g>\n<g clip-path=\"url(#clip6101)\">\n<text style=\"fill:#000000; fill-opacity:1; font-family:Arial,Helvetica Neue,Helvetica,sans-serif; font-size:48px; text-anchor:end;\" transform=\"rotate(0, 137.394, 647.236)\" x=\"137.394\" y=\"647.236\">0.6</text>\n</g>\n<g clip-path=\"url(#clip6101)\">\n<text style=\"fill:#000000; fill-opacity:1; font-family:Arial,Helvetica Neue,Helvetica,sans-serif; font-size:48px; text-anchor:end;\" transform=\"rotate(0, 137.394, 355.99)\" x=\"137.394\" y=\"355.99\">0.8</text>\n</g>\n<g clip-path=\"url(#clip6101)\">\n<text style=\"fill:#000000; fill-opacity:1; font-family:Arial,Helvetica Neue,Helvetica,sans-serif; font-size:48px; text-anchor:end;\" transform=\"rotate(0, 137.394, 64.7441)\" x=\"137.394\" y=\"64.7441\">1.0</text>\n</g>\n</svg>\n"
             }
            },
            "systemjs_options": null
           },
           "nodeType": "Scope",
           "props": {},
           "type": "node"
          },
          {
           "children": [
            {
             "children": [
              {
               "children": [
                {
                 "children": [
                  {
                   "children": [
                    {
                     "children": [
                      "number of bins"
                     ],
                     "instanceArgs": {
                      "namespace": "html",
                      "tag": "label"
                     },
                     "nodeType": "DOM",
                     "props": {
                      "className": "interact ",
                      "style": {
                       "padding": "5px 10px 0px 10px"
                      }
                     },
                     "type": "node"
                    }
                   ],
                   "instanceArgs": {
                    "namespace": "html",
                    "tag": "div"
                   },
                   "nodeType": "DOM",
                   "props": {
                    "attributes": {
                     "style": "text-align:right;width:18%"
                    }
                   },
                   "type": "node"
                  },
                  {
                   "children": [
                    {
                     "children": [],
                     "instanceArgs": {
                      "namespace": "html",
                      "tag": "input"
                     },
                     "nodeType": "DOM",
                     "props": {
                      "attributes": {
                       "data-bind": "numericValue: value, valueUpdate: 'input', event: {change : function () {this.changes(this.changes()+1)}}",
                       "orient": "horizontal",
                       "type": "range"
                      },
                      "className": "slider slider is-fullwidth",
                      "max": 100,
                      "min": 1,
                      "step": 1,
                      "style": {}
                     },
                     "type": "node"
                    }
                   ],
                   "instanceArgs": {
                    "namespace": "html",
                    "tag": "div"
                   },
                   "nodeType": "DOM",
                   "props": {
                    "attributes": {
                     "style": "flex-grow:1; margin: 0 2%"
                    }
                   },
                   "type": "node"
                  },
                  {
                   "children": [
                    {
                     "children": [],
                     "instanceArgs": {
                      "namespace": "html",
                      "tag": "p"
                     },
                     "nodeType": "DOM",
                     "props": {
                      "attributes": {
                       "data-bind": "text: value"
                      }
                     },
                     "type": "node"
                    }
                   ],
                   "instanceArgs": {
                    "namespace": "html",
                    "tag": "div"
                   },
                   "nodeType": "DOM",
                   "props": {
                    "attributes": {
                     "style": "width:18%"
                    }
                   },
                   "type": "node"
                  }
                 ],
                 "instanceArgs": {
                  "namespace": "html",
                  "tag": "div"
                 },
                 "nodeType": "DOM",
                 "props": {
                  "attributes": {
                   "style": "display:flex; justify-content:center; align-items:center;"
                  }
                 },
                 "type": "node"
                }
               ],
               "instanceArgs": {
                "namespace": "html",
                "tag": "div"
               },
               "nodeType": "DOM",
               "props": {
                "attributes": {
                 "data-bind": "style: {display: display}"
                }
               },
               "type": "node"
              }
             ],
             "instanceArgs": {
              "handlers": {
               "_promises": {
                "importsLoaded": [
                 "function (ko, koPunches) {\n    ko.punches.enableAll();\n    ko.bindingHandlers.numericValue = {\n        init : function(element, valueAccessor, allBindings, data, context) {\n            var stringified = ko.observable(ko.unwrap(valueAccessor()));\n            stringified.subscribe(function(value) {\n                var val = parseFloat(value);\n                if (!isNaN(val)) {\n                    valueAccessor()(val);\n                }\n            })\n            valueAccessor().subscribe(function(value) {\n                var str = JSON.stringify(value);\n                if ((str == \"0\") && ([\"-0\", \"-0.\"].indexOf(stringified()) >= 0))\n                     return;\n                 if ([\"null\", \"\"].indexOf(str) >= 0)\n                     return;\n                stringified(str);\n            })\n            ko.applyBindingsToNode(element, { value: stringified, valueUpdate: allBindings.get('valueUpdate')}, context);\n        }\n    };\n    var json_data = JSON.parse(\"{\\\"display\\\":\\\"none\\\",\\\"changes\\\":0,\\\"value\\\":30}\");\n    var self = this;\n    function AppViewModel() {\n        for (var key in json_data) {\n            var el = json_data[key];\n            this[key] = Array.isArray(el) ? ko.observableArray(el) : ko.observable(el);\n        }\n        \n        \n        [this[\"display\"].subscribe((function (val){!(this.valueFromJulia[\"display\"]) ? (_webIOScope.setObservableValue({\"name\":\"display\",\"scope\":\"knockout-component-293382db-fb20-407c-8b71-d54de5d53a9f\",\"id\":\"ob_88\",\"type\":\"observable\"},val)) : undefined; return this.valueFromJulia[\"display\"]=false}),self),this[\"changes\"].subscribe((function (val){!(this.valueFromJulia[\"changes\"]) ? (_webIOScope.setObservableValue({\"name\":\"changes\",\"scope\":\"knockout-component-293382db-fb20-407c-8b71-d54de5d53a9f\",\"id\":\"ob_90\",\"type\":\"observable\"},val)) : undefined; return this.valueFromJulia[\"changes\"]=false}),self),this[\"value\"].subscribe((function (val){!(this.valueFromJulia[\"value\"]) ? (_webIOScope.setObservableValue({\"name\":\"value\",\"scope\":\"knockout-component-293382db-fb20-407c-8b71-d54de5d53a9f\",\"id\":\"ob_89\",\"type\":\"observable\"},val)) : undefined; return this.valueFromJulia[\"value\"]=false}),self)]\n        \n    }\n    self.model = new AppViewModel();\n    self.valueFromJulia = {};\n    for (var key in json_data) {\n        self.valueFromJulia[key] = false;\n    }\n    ko.applyBindings(self.model, self.dom);\n}\n"
                ]
               },
               "changes": [
                "(function (val){return (val!=this.model[\"changes\"]()) ? (this.valueFromJulia[\"changes\"]=true, this.model[\"changes\"](val)) : undefined})"
               ],
               "display": [
                "(function (val){return (val!=this.model[\"display\"]()) ? (this.valueFromJulia[\"display\"]=true, this.model[\"display\"](val)) : undefined})"
               ],
               "value": [
                "(function (val){return (val!=this.model[\"value\"]()) ? (this.valueFromJulia[\"value\"]=true, this.model[\"value\"](val)) : undefined})"
               ]
              },
              "id": "knockout-component-293382db-fb20-407c-8b71-d54de5d53a9f",
              "imports": {
               "data": [
                {
                 "name": "knockout",
                 "type": "js",
                 "url": "/assetserver/7727d7cb3453b9ff588804f2f297360e756850e6-knockout.js"
                },
                {
                 "name": "knockout_punches",
                 "type": "js",
                 "url": "/assetserver/dc191505b241da77a1bd06986b7132036babe315-knockout_punches.js"
                },
                {
                 "name": null,
                 "type": "js",
                 "url": "/assetserver/cf39e83f3445855334efae1f7d0ee012952fe319-all.js"
                },
                {
                 "name": null,
                 "type": "css",
                 "url": "/assetserver/495af69608d773e6cf6efd8fe98ee33ddbad0df5-style.css"
                },
                {
                 "name": null,
                 "type": "css",
                 "url": "/assetserver/9d22e7e1c4dccb3a3bef6ae4d24134fd256d4bfd-main.css"
                }
               ],
               "type": "async_block"
              },
              "observables": {
               "changes": {
                "id": "ob_90",
                "sync": false,
                "value": 0
               },
               "display": {
                "id": "ob_88",
                "sync": false,
                "value": "none"
               },
               "value": {
                "id": "ob_89",
                "sync": true,
                "value": 30
               }
              },
              "systemjs_options": null
             },
             "nodeType": "Scope",
             "props": {},
             "type": "node"
            }
           ],
           "instanceArgs": {
            "namespace": "html",
            "tag": "div"
           },
           "nodeType": "DOM",
           "props": {
            "className": "field"
           },
           "type": "node"
          }
         ],
         "instanceArgs": {
          "namespace": "html",
          "tag": "div"
         },
         "nodeType": "DOM",
         "props": {},
         "type": "node"
        }
       ],
       "instanceArgs": {
        "namespace": "html",
        "tag": "div"
       },
       "nodeType": "DOM",
       "props": {
        "style": {
         "direction": "row",
         "display": "flex"
        }
       },
       "type": "node"
      },
      "text/html": [
       "<div\n",
       "    class=\"webio-mountpoint\"\n",
       "    data-webio-mountpoint=\"3650161223421865215\"\n",
       ">\n",
       "    <script>\n",
       "    if (window.require && require.defined && require.defined(\"nbextensions/webio/main\")) {\n",
       "        console.log(\"Jupyter WebIO extension detected, not mounting.\");\n",
       "    } else if (window.WebIO) {\n",
       "        WebIO.mount(\n",
       "            document.querySelector('[data-webio-mountpoint=\"3650161223421865215\"]'),\n",
       "            {\"props\":{\"style\":{\"display\":\"flex\",\"direction\":\"row\"}},\"nodeType\":\"DOM\",\"type\":\"node\",\"instanceArgs\":{\"namespace\":\"html\",\"tag\":\"div\"},\"children\":[{\"props\":{},\"nodeType\":\"DOM\",\"type\":\"node\",\"instanceArgs\":{\"namespace\":\"html\",\"tag\":\"div\"},\"children\":[{\"props\":{\"className\":\"field\"},\"nodeType\":\"DOM\",\"type\":\"node\",\"instanceArgs\":{\"namespace\":\"html\",\"tag\":\"div\"},\"children\":[{\"props\":{},\"nodeType\":\"Scope\",\"type\":\"node\",\"instanceArgs\":{\"imports\":{\"data\":[{\"name\":\"knockout\",\"type\":\"js\",\"url\":\"\\/assetserver\\/7727d7cb3453b9ff588804f2f297360e756850e6-knockout.js\"},{\"name\":\"knockout_punches\",\"type\":\"js\",\"url\":\"\\/assetserver\\/dc191505b241da77a1bd06986b7132036babe315-knockout_punches.js\"},{\"name\":null,\"type\":\"js\",\"url\":\"\\/assetserver\\/cf39e83f3445855334efae1f7d0ee012952fe319-all.js\"},{\"name\":null,\"type\":\"css\",\"url\":\"\\/assetserver\\/495af69608d773e6cf6efd8fe98ee33ddbad0df5-style.css\"},{\"name\":null,\"type\":\"css\",\"url\":\"\\/assetserver\\/9d22e7e1c4dccb3a3bef6ae4d24134fd256d4bfd-main.css\"}],\"type\":\"async_block\"},\"id\":\"knockout-component-31b4332e-3b2c-4354-8632-3bd1dca6d53f\",\"handlers\":{\"_promises\":{\"importsLoaded\":[\"function (ko, koPunches) {\\n    ko.punches.enableAll();\\n    ko.bindingHandlers.numericValue = {\\n        init : function(element, valueAccessor, allBindings, data, context) {\\n            var stringified = ko.observable(ko.unwrap(valueAccessor()));\\n            stringified.subscribe(function(value) {\\n                var val = parseFloat(value);\\n                if (!isNaN(val)) {\\n                    valueAccessor()(val);\\n                }\\n            })\\n            valueAccessor().subscribe(function(value) {\\n                var str = JSON.stringify(value);\\n                if ((str == \\\"0\\\") && ([\\\"-0\\\", \\\"-0.\\\"].indexOf(stringified()) >= 0))\\n                     return;\\n                 if ([\\\"null\\\", \\\"\\\"].indexOf(str) >= 0)\\n                     return;\\n                stringified(str);\\n            })\\n            ko.applyBindingsToNode(element, { value: stringified, valueUpdate: allBindings.get('valueUpdate')}, context);\\n        }\\n    };\\n    var json_data = JSON.parse(\\\"{\\\\\\\"options_js\\\\\\\":[{\\\\\\\"key\\\\\\\":\\\\\\\"First axis\\\\\\\",\\\\\\\"val\\\\\\\":0,\\\\\\\"id\\\\\\\":\\\\\\\"idGaDoxVAB\\\\\\\"},{\\\\\\\"key\\\\\\\":\\\\\\\"scenario\\\\\\\",\\\\\\\"val\\\\\\\":1,\\\\\\\"id\\\\\\\":\\\\\\\"id7Zt060gn\\\\\\\"},{\\\\\\\"key\\\\\\\":\\\\\\\"policy\\\\\\\",\\\\\\\"val\\\\\\\":2,\\\\\\\"id\\\\\\\":\\\\\\\"idVFjnWUuf\\\\\\\"},{\\\\\\\"key\\\\\\\":\\\\\\\"updater\\\\\\\",\\\\\\\"val\\\\\\\":3,\\\\\\\"id\\\\\\\":\\\\\\\"idmUNioWL7\\\\\\\"},{\\\\\\\"key\\\\\\\":\\\\\\\"n_episodes\\\\\\\",\\\\\\\"val\\\\\\\":4,\\\\\\\"id\\\\\\\":\\\\\\\"idOXMF1Gir\\\\\\\"},{\\\\\\\"key\\\\\\\":\\\\\\\"reward_mean\\\\\\\",\\\\\\\"val\\\\\\\":5,\\\\\\\"id\\\\\\\":\\\\\\\"idTX11cadR\\\\\\\"},{\\\\\\\"key\\\\\\\":\\\\\\\"reward_std\\\\\\\",\\\\\\\"val\\\\\\\":6,\\\\\\\"id\\\\\\\":\\\\\\\"idsFEwUMlR\\\\\\\"},{\\\\\\\"key\\\\\\\":\\\\\\\"steps_mean\\\\\\\",\\\\\\\"val\\\\\\\":7,\\\\\\\"id\\\\\\\":\\\\\\\"idKRGm6OOd\\\\\\\"},{\\\\\\\"key\\\\\\\":\\\\\\\"steps_std\\\\\\\",\\\\\\\"val\\\\\\\":8,\\\\\\\"id\\\\\\\":\\\\\\\"idQzfLKFZV\\\\\\\"},{\\\\\\\"key\\\\\\\":\\\\\\\"violations_mean\\\\\\\",\\\\\\\"val\\\\\\\":9,\\\\\\\"id\\\\\\\":\\\\\\\"idiauLrJ2B\\\\\\\"},{\\\\\\\"key\\\\\\\":\\\\\\\"violations_std\\\\\\\",\\\\\\\"val\\\\\\\":10,\\\\\\\"id\\\\\\\":\\\\\\\"idPEzCWprG\\\\\\\"},{\\\\\\\"key\\\\\\\":\\\\\\\"time\\\\\\\",\\\\\\\"val\\\\\\\":11,\\\\\\\"id\\\\\\\":\\\\\\\"idXw8Tn1f5\\\\\\\"}],\\\\\\\"index\\\\\\\":[]}\\\");\\n    var self = this;\\n    function AppViewModel() {\\n        for (var key in json_data) {\\n            var el = json_data[key];\\n            this[key] = Array.isArray(el) ? ko.observableArray(el) : ko.observable(el);\\n        }\\n        [this[\\\"disablePlaceholder\\\"]=function(option, item) {\\n    ko.applyBindingsToNode(option, {disable: item.val == 0}, item);\\n}\\n]\\n        \\n        [this[\\\"options_js\\\"].subscribe((function (val){!(this.valueFromJulia[\\\"options_js\\\"]) ? (_webIOScope.setObservableValue({\\\"name\\\":\\\"options_js\\\",\\\"scope\\\":\\\"knockout-component-31b4332e-3b2c-4354-8632-3bd1dca6d53f\\\",\\\"id\\\":\\\"ob_76\\\",\\\"type\\\":\\\"observable\\\"},val)) : undefined; return this.valueFromJulia[\\\"options_js\\\"]=false}),self),this[\\\"index\\\"].subscribe((function (val){!(this.valueFromJulia[\\\"index\\\"]) ? (_webIOScope.setObservableValue({\\\"name\\\":\\\"index\\\",\\\"scope\\\":\\\"knockout-component-31b4332e-3b2c-4354-8632-3bd1dca6d53f\\\",\\\"id\\\":\\\"ob_75\\\",\\\"type\\\":\\\"observable\\\"},val)) : undefined; return this.valueFromJulia[\\\"index\\\"]=false}),self)]\\n        \\n    }\\n    self.model = new AppViewModel();\\n    self.valueFromJulia = {};\\n    for (var key in json_data) {\\n        self.valueFromJulia[key] = false;\\n    }\\n    ko.applyBindings(self.model, self.dom);\\n}\\n\"]},\"options_js\":[\"(function (val){return (val!=this.model[\\\"options_js\\\"]()) ? (this.valueFromJulia[\\\"options_js\\\"]=true, this.model[\\\"options_js\\\"](val)) : undefined})\"],\"index\":[\"(function (val){return (val!=this.model[\\\"index\\\"]()) ? (this.valueFromJulia[\\\"index\\\"]=true, this.model[\\\"index\\\"](val)) : undefined})\"]},\"systemjs_options\":null,\"observables\":{\"options_js\":{\"sync\":false,\"id\":\"ob_76\",\"value\":[{\"key\":\"First axis\",\"val\":0,\"id\":\"idGaDoxVAB\"},{\"key\":\"scenario\",\"val\":1,\"id\":\"id7Zt060gn\"},{\"key\":\"policy\",\"val\":2,\"id\":\"idVFjnWUuf\"},{\"key\":\"updater\",\"val\":3,\"id\":\"idmUNioWL7\"},{\"key\":\"n_episodes\",\"val\":4,\"id\":\"idOXMF1Gir\"},{\"key\":\"reward_mean\",\"val\":5,\"id\":\"idTX11cadR\"},{\"key\":\"reward_std\",\"val\":6,\"id\":\"idsFEwUMlR\"},{\"key\":\"steps_mean\",\"val\":7,\"id\":\"idKRGm6OOd\"},{\"key\":\"steps_std\",\"val\":8,\"id\":\"idQzfLKFZV\"},{\"key\":\"violations_mean\",\"val\":9,\"id\":\"idiauLrJ2B\"},{\"key\":\"violations_std\",\"val\":10,\"id\":\"idPEzCWprG\"},{\"key\":\"time\",\"val\":11,\"id\":\"idXw8Tn1f5\"}]},\"index\":{\"sync\":true,\"id\":\"ob_75\",\"value\":[]}}},\"children\":[{\"props\":{\"className\":\"select is-multiple \"},\"nodeType\":\"DOM\",\"type\":\"node\",\"instanceArgs\":{\"namespace\":\"html\",\"tag\":\"div\"},\"children\":[{\"props\":{\"attributes\":{\"multiple\":true,\"data-bind\":\"options : options_js, selectedOptions : index, optionsText: 'key', optionsValue: 'val', valueAllowUnset: true, optionsAfterRender: disablePlaceholder\"}},\"nodeType\":\"DOM\",\"type\":\"node\",\"instanceArgs\":{\"namespace\":\"html\",\"tag\":\"select\"},\"children\":[]}]}]}]},{\"props\":{\"className\":\"field\"},\"nodeType\":\"DOM\",\"type\":\"node\",\"instanceArgs\":{\"namespace\":\"html\",\"tag\":\"div\"},\"children\":[{\"props\":{},\"nodeType\":\"Scope\",\"type\":\"node\",\"instanceArgs\":{\"imports\":{\"data\":[{\"name\":\"knockout\",\"type\":\"js\",\"url\":\"\\/assetserver\\/7727d7cb3453b9ff588804f2f297360e756850e6-knockout.js\"},{\"name\":\"knockout_punches\",\"type\":\"js\",\"url\":\"\\/assetserver\\/dc191505b241da77a1bd06986b7132036babe315-knockout_punches.js\"},{\"name\":null,\"type\":\"js\",\"url\":\"\\/assetserver\\/cf39e83f3445855334efae1f7d0ee012952fe319-all.js\"},{\"name\":null,\"type\":\"css\",\"url\":\"\\/assetserver\\/495af69608d773e6cf6efd8fe98ee33ddbad0df5-style.css\"},{\"name\":null,\"type\":\"css\",\"url\":\"\\/assetserver\\/9d22e7e1c4dccb3a3bef6ae4d24134fd256d4bfd-main.css\"}],\"type\":\"async_block\"},\"id\":\"knockout-component-45b51f1a-05ce-419d-b1c7-52a6142187d6\",\"handlers\":{\"_promises\":{\"importsLoaded\":[\"function (ko, koPunches) {\\n    ko.punches.enableAll();\\n    ko.bindingHandlers.numericValue = {\\n        init : function(element, valueAccessor, allBindings, data, context) {\\n            var stringified = ko.observable(ko.unwrap(valueAccessor()));\\n            stringified.subscribe(function(value) {\\n                var val = parseFloat(value);\\n                if (!isNaN(val)) {\\n                    valueAccessor()(val);\\n                }\\n            })\\n            valueAccessor().subscribe(function(value) {\\n                var str = JSON.stringify(value);\\n                if ((str == \\\"0\\\") && ([\\\"-0\\\", \\\"-0.\\\"].indexOf(stringified()) >= 0))\\n                     return;\\n                 if ([\\\"null\\\", \\\"\\\"].indexOf(str) >= 0)\\n                     return;\\n                stringified(str);\\n            })\\n            ko.applyBindingsToNode(element, { value: stringified, valueUpdate: allBindings.get('valueUpdate')}, context);\\n        }\\n    };\\n    var json_data = JSON.parse(\\\"{\\\\\\\"changes\\\\\\\":0,\\\\\\\"value\\\\\\\":false}\\\");\\n    var self = this;\\n    function AppViewModel() {\\n        for (var key in json_data) {\\n            var el = json_data[key];\\n            this[key] = Array.isArray(el) ? ko.observableArray(el) : ko.observable(el);\\n        }\\n        \\n        \\n        [this[\\\"changes\\\"].subscribe((function (val){!(this.valueFromJulia[\\\"changes\\\"]) ? (_webIOScope.setObservableValue({\\\"name\\\":\\\"changes\\\",\\\"scope\\\":\\\"knockout-component-45b51f1a-05ce-419d-b1c7-52a6142187d6\\\",\\\"id\\\":\\\"ob_82\\\",\\\"type\\\":\\\"observable\\\"},val)) : undefined; return this.valueFromJulia[\\\"changes\\\"]=false}),self),this[\\\"value\\\"].subscribe((function (val){!(this.valueFromJulia[\\\"value\\\"]) ? (_webIOScope.setObservableValue({\\\"name\\\":\\\"value\\\",\\\"scope\\\":\\\"knockout-component-45b51f1a-05ce-419d-b1c7-52a6142187d6\\\",\\\"id\\\":\\\"ob_81\\\",\\\"type\\\":\\\"observable\\\"},val)) : undefined; return this.valueFromJulia[\\\"value\\\"]=false}),self)]\\n        \\n    }\\n    self.model = new AppViewModel();\\n    self.valueFromJulia = {};\\n    for (var key in json_data) {\\n        self.valueFromJulia[key] = false;\\n    }\\n    ko.applyBindings(self.model, self.dom);\\n}\\n\"]},\"changes\":[\"(function (val){return (val!=this.model[\\\"changes\\\"]()) ? (this.valueFromJulia[\\\"changes\\\"]=true, this.model[\\\"changes\\\"](val)) : undefined})\"],\"value\":[\"(function (val){return (val!=this.model[\\\"value\\\"]()) ? (this.valueFromJulia[\\\"value\\\"]=true, this.model[\\\"value\\\"](val)) : undefined})\"]},\"systemjs_options\":null,\"observables\":{\"changes\":{\"sync\":false,\"id\":\"ob_82\",\"value\":0},\"value\":{\"sync\":false,\"id\":\"ob_81\",\"value\":false}}},\"children\":[{\"props\":{\"style\":{\"display\":\"flex\",\"flex-direction\":\"column\"}},\"nodeType\":\"DOM\",\"type\":\"node\",\"instanceArgs\":{\"namespace\":\"html\",\"tag\":\"div\"},\"children\":[{\"props\":{\"className\":\"field\"},\"nodeType\":\"DOM\",\"type\":\"node\",\"instanceArgs\":{\"namespace\":\"html\",\"tag\":\"div\"},\"children\":[{\"props\":{\"attributes\":{\"type\":\"checkbox\",\"data-bind\":\"checked: value, valueUpdate: 'change', event: {change : function () {this.changes(this.changes()+1)}}\"},\"id\":\"##384\",\"className\":\"switch \",\"style\":{}},\"nodeType\":\"DOM\",\"type\":\"node\",\"instanceArgs\":{\"namespace\":\"html\",\"tag\":\"input\"},\"children\":[]},{\"props\":{\"attributes\":{\"className\":\"\",\"for\":\"##384\"}},\"nodeType\":\"DOM\",\"type\":\"node\",\"instanceArgs\":{\"namespace\":\"html\",\"tag\":\"label\"},\"children\":[\"Second axis\"]}]},{\"props\":{\"attributes\":{\"data-bind\":\"visible: value\"}},\"nodeType\":\"DOM\",\"type\":\"node\",\"instanceArgs\":{\"namespace\":\"html\",\"tag\":\"div\"},\"children\":[{\"props\":{\"className\":\"field\"},\"nodeType\":\"DOM\",\"type\":\"node\",\"instanceArgs\":{\"namespace\":\"html\",\"tag\":\"div\"},\"children\":[{\"props\":{},\"nodeType\":\"Scope\",\"type\":\"node\",\"instanceArgs\":{\"imports\":{\"data\":[{\"name\":\"knockout\",\"type\":\"js\",\"url\":\"\\/assetserver\\/7727d7cb3453b9ff588804f2f297360e756850e6-knockout.js\"},{\"name\":\"knockout_punches\",\"type\":\"js\",\"url\":\"\\/assetserver\\/dc191505b241da77a1bd06986b7132036babe315-knockout_punches.js\"},{\"name\":null,\"type\":\"js\",\"url\":\"\\/assetserver\\/cf39e83f3445855334efae1f7d0ee012952fe319-all.js\"},{\"name\":null,\"type\":\"css\",\"url\":\"\\/assetserver\\/495af69608d773e6cf6efd8fe98ee33ddbad0df5-style.css\"},{\"name\":null,\"type\":\"css\",\"url\":\"\\/assetserver\\/9d22e7e1c4dccb3a3bef6ae4d24134fd256d4bfd-main.css\"}],\"type\":\"async_block\"},\"id\":\"knockout-component-5674e55e-ac12-4821-923c-536dff795d28\",\"handlers\":{\"_promises\":{\"importsLoaded\":[\"function (ko, koPunches) {\\n    ko.punches.enableAll();\\n    ko.bindingHandlers.numericValue = {\\n        init : function(element, valueAccessor, allBindings, data, context) {\\n            var stringified = ko.observable(ko.unwrap(valueAccessor()));\\n            stringified.subscribe(function(value) {\\n                var val = parseFloat(value);\\n                if (!isNaN(val)) {\\n                    valueAccessor()(val);\\n                }\\n            })\\n            valueAccessor().subscribe(function(value) {\\n                var str = JSON.stringify(value);\\n                if ((str == \\\"0\\\") && ([\\\"-0\\\", \\\"-0.\\\"].indexOf(stringified()) >= 0))\\n                     return;\\n                 if ([\\\"null\\\", \\\"\\\"].indexOf(str) >= 0)\\n                     return;\\n                stringified(str);\\n            })\\n            ko.applyBindingsToNode(element, { value: stringified, valueUpdate: allBindings.get('valueUpdate')}, context);\\n        }\\n    };\\n    var json_data = JSON.parse(\\\"{\\\\\\\"options_js\\\\\\\":[{\\\\\\\"key\\\\\\\":\\\\\\\"Second axis\\\\\\\",\\\\\\\"val\\\\\\\":0,\\\\\\\"id\\\\\\\":\\\\\\\"id01MpN3fu\\\\\\\"},{\\\\\\\"key\\\\\\\":\\\\\\\"scenario\\\\\\\",\\\\\\\"val\\\\\\\":1,\\\\\\\"id\\\\\\\":\\\\\\\"idcYFklQOs\\\\\\\"},{\\\\\\\"key\\\\\\\":\\\\\\\"policy\\\\\\\",\\\\\\\"val\\\\\\\":2,\\\\\\\"id\\\\\\\":\\\\\\\"id2evWPTOb\\\\\\\"},{\\\\\\\"key\\\\\\\":\\\\\\\"updater\\\\\\\",\\\\\\\"val\\\\\\\":3,\\\\\\\"id\\\\\\\":\\\\\\\"idUvjKuwu7\\\\\\\"},{\\\\\\\"key\\\\\\\":\\\\\\\"n_episodes\\\\\\\",\\\\\\\"val\\\\\\\":4,\\\\\\\"id\\\\\\\":\\\\\\\"idXqHLiz82\\\\\\\"},{\\\\\\\"key\\\\\\\":\\\\\\\"reward_mean\\\\\\\",\\\\\\\"val\\\\\\\":5,\\\\\\\"id\\\\\\\":\\\\\\\"id1orl5ZW1\\\\\\\"},{\\\\\\\"key\\\\\\\":\\\\\\\"reward_std\\\\\\\",\\\\\\\"val\\\\\\\":6,\\\\\\\"id\\\\\\\":\\\\\\\"idcHJZRBrO\\\\\\\"},{\\\\\\\"key\\\\\\\":\\\\\\\"steps_mean\\\\\\\",\\\\\\\"val\\\\\\\":7,\\\\\\\"id\\\\\\\":\\\\\\\"idLjIxmgHV\\\\\\\"},{\\\\\\\"key\\\\\\\":\\\\\\\"steps_std\\\\\\\",\\\\\\\"val\\\\\\\":8,\\\\\\\"id\\\\\\\":\\\\\\\"idcp7QTykB\\\\\\\"},{\\\\\\\"key\\\\\\\":\\\\\\\"violations_mean\\\\\\\",\\\\\\\"val\\\\\\\":9,\\\\\\\"id\\\\\\\":\\\\\\\"idbA1ohQPF\\\\\\\"},{\\\\\\\"key\\\\\\\":\\\\\\\"violations_std\\\\\\\",\\\\\\\"val\\\\\\\":10,\\\\\\\"id\\\\\\\":\\\\\\\"idltPhqNqP\\\\\\\"},{\\\\\\\"key\\\\\\\":\\\\\\\"time\\\\\\\",\\\\\\\"val\\\\\\\":11,\\\\\\\"id\\\\\\\":\\\\\\\"idcJHlNY1h\\\\\\\"}],\\\\\\\"index\\\\\\\":[]}\\\");\\n    var self = this;\\n    function AppViewModel() {\\n        for (var key in json_data) {\\n            var el = json_data[key];\\n            this[key] = Array.isArray(el) ? ko.observableArray(el) : ko.observable(el);\\n        }\\n        [this[\\\"disablePlaceholder\\\"]=function(option, item) {\\n    ko.applyBindingsToNode(option, {disable: item.val == 0}, item);\\n}\\n]\\n        \\n        [this[\\\"options_js\\\"].subscribe((function (val){!(this.valueFromJulia[\\\"options_js\\\"]) ? (_webIOScope.setObservableValue({\\\"name\\\":\\\"options_js\\\",\\\"scope\\\":\\\"knockout-component-5674e55e-ac12-4821-923c-536dff795d28\\\",\\\"id\\\":\\\"ob_80\\\",\\\"type\\\":\\\"observable\\\"},val)) : undefined; return this.valueFromJulia[\\\"options_js\\\"]=false}),self),this[\\\"index\\\"].subscribe((function (val){!(this.valueFromJulia[\\\"index\\\"]) ? (_webIOScope.setObservableValue({\\\"name\\\":\\\"index\\\",\\\"scope\\\":\\\"knockout-component-5674e55e-ac12-4821-923c-536dff795d28\\\",\\\"id\\\":\\\"ob_79\\\",\\\"type\\\":\\\"observable\\\"},val)) : undefined; return this.valueFromJulia[\\\"index\\\"]=false}),self)]\\n        \\n    }\\n    self.model = new AppViewModel();\\n    self.valueFromJulia = {};\\n    for (var key in json_data) {\\n        self.valueFromJulia[key] = false;\\n    }\\n    ko.applyBindings(self.model, self.dom);\\n}\\n\"]},\"options_js\":[\"(function (val){return (val!=this.model[\\\"options_js\\\"]()) ? (this.valueFromJulia[\\\"options_js\\\"]=true, this.model[\\\"options_js\\\"](val)) : undefined})\"],\"index\":[\"(function (val){return (val!=this.model[\\\"index\\\"]()) ? (this.valueFromJulia[\\\"index\\\"]=true, this.model[\\\"index\\\"](val)) : undefined})\"]},\"systemjs_options\":null,\"observables\":{\"options_js\":{\"sync\":false,\"id\":\"ob_80\",\"value\":[{\"key\":\"Second axis\",\"val\":0,\"id\":\"id01MpN3fu\"},{\"key\":\"scenario\",\"val\":1,\"id\":\"idcYFklQOs\"},{\"key\":\"policy\",\"val\":2,\"id\":\"id2evWPTOb\"},{\"key\":\"updater\",\"val\":3,\"id\":\"idUvjKuwu7\"},{\"key\":\"n_episodes\",\"val\":4,\"id\":\"idXqHLiz82\"},{\"key\":\"reward_mean\",\"val\":5,\"id\":\"id1orl5ZW1\"},{\"key\":\"reward_std\",\"val\":6,\"id\":\"idcHJZRBrO\"},{\"key\":\"steps_mean\",\"val\":7,\"id\":\"idLjIxmgHV\"},{\"key\":\"steps_std\",\"val\":8,\"id\":\"idcp7QTykB\"},{\"key\":\"violations_mean\",\"val\":9,\"id\":\"idbA1ohQPF\"},{\"key\":\"violations_std\",\"val\":10,\"id\":\"idltPhqNqP\"},{\"key\":\"time\",\"val\":11,\"id\":\"idcJHlNY1h\"}]},\"index\":{\"sync\":true,\"id\":\"ob_79\",\"value\":[]}}},\"children\":[{\"props\":{\"className\":\"select is-multiple \"},\"nodeType\":\"DOM\",\"type\":\"node\",\"instanceArgs\":{\"namespace\":\"html\",\"tag\":\"div\"},\"children\":[{\"props\":{\"attributes\":{\"multiple\":true,\"data-bind\":\"options : options_js, selectedOptions : index, optionsText: 'key', optionsValue: 'val', valueAllowUnset: true, optionsAfterRender: disablePlaceholder\"}},\"nodeType\":\"DOM\",\"type\":\"node\",\"instanceArgs\":{\"namespace\":\"html\",\"tag\":\"select\"},\"children\":[]}]}]}]}]}]}]}]},{\"props\":{\"className\":\"field\"},\"nodeType\":\"DOM\",\"type\":\"node\",\"instanceArgs\":{\"namespace\":\"html\",\"tag\":\"div\"},\"children\":[{\"props\":{},\"nodeType\":\"Scope\",\"type\":\"node\",\"instanceArgs\":{\"imports\":{\"data\":[{\"name\":\"knockout\",\"type\":\"js\",\"url\":\"\\/assetserver\\/7727d7cb3453b9ff588804f2f297360e756850e6-knockout.js\"},{\"name\":\"knockout_punches\",\"type\":\"js\",\"url\":\"\\/assetserver\\/dc191505b241da77a1bd06986b7132036babe315-knockout_punches.js\"},{\"name\":null,\"type\":\"js\",\"url\":\"\\/assetserver\\/cf39e83f3445855334efae1f7d0ee012952fe319-all.js\"},{\"name\":null,\"type\":\"css\",\"url\":\"\\/assetserver\\/495af69608d773e6cf6efd8fe98ee33ddbad0df5-style.css\"},{\"name\":null,\"type\":\"css\",\"url\":\"\\/assetserver\\/9d22e7e1c4dccb3a3bef6ae4d24134fd256d4bfd-main.css\"}],\"type\":\"async_block\"},\"id\":\"knockout-component-77bb00ec-815d-4986-bd28-f2ff1d06e971\",\"handlers\":{\"_promises\":{\"importsLoaded\":[\"function (ko, koPunches) {\\n    ko.punches.enableAll();\\n    ko.bindingHandlers.numericValue = {\\n        init : function(element, valueAccessor, allBindings, data, context) {\\n            var stringified = ko.observable(ko.unwrap(valueAccessor()));\\n            stringified.subscribe(function(value) {\\n                var val = parseFloat(value);\\n                if (!isNaN(val)) {\\n                    valueAccessor()(val);\\n                }\\n            })\\n            valueAccessor().subscribe(function(value) {\\n                var str = JSON.stringify(value);\\n                if ((str == \\\"0\\\") && ([\\\"-0\\\", \\\"-0.\\\"].indexOf(stringified()) >= 0))\\n                     return;\\n                 if ([\\\"null\\\", \\\"\\\"].indexOf(str) >= 0)\\n                     return;\\n                stringified(str);\\n            })\\n            ko.applyBindingsToNode(element, { value: stringified, valueUpdate: allBindings.get('valueUpdate')}, context);\\n        }\\n    };\\n    var json_data = JSON.parse(\\\"{\\\\\\\"options_js\\\\\\\":[{\\\\\\\"key\\\\\\\":\\\\\\\"Plot type\\\\\\\",\\\\\\\"val\\\\\\\":0,\\\\\\\"id\\\\\\\":\\\\\\\"idnOJzzT0W\\\\\\\"},{\\\\\\\"key\\\\\\\":\\\\\\\"line\\\\\\\",\\\\\\\"val\\\\\\\":1,\\\\\\\"id\\\\\\\":\\\\\\\"idJwyQctRl\\\\\\\"},{\\\\\\\"key\\\\\\\":\\\\\\\"scatter\\\\\\\",\\\\\\\"val\\\\\\\":2,\\\\\\\"id\\\\\\\":\\\\\\\"id0Jf8fbTr\\\\\\\"},{\\\\\\\"key\\\\\\\":\\\\\\\"bar\\\\\\\",\\\\\\\"val\\\\\\\":3,\\\\\\\"id\\\\\\\":\\\\\\\"idz12JEpuu\\\\\\\"},{\\\\\\\"key\\\\\\\":\\\\\\\"boxplot\\\\\\\",\\\\\\\"val\\\\\\\":4,\\\\\\\"id\\\\\\\":\\\\\\\"id6mtrgkCZ\\\\\\\"},{\\\\\\\"key\\\\\\\":\\\\\\\"corrplot\\\\\\\",\\\\\\\"val\\\\\\\":5,\\\\\\\"id\\\\\\\":\\\\\\\"id5H7pM0eg\\\\\\\"},{\\\\\\\"key\\\\\\\":\\\\\\\"cornerplot\\\\\\\",\\\\\\\"val\\\\\\\":6,\\\\\\\"id\\\\\\\":\\\\\\\"idbSHPwNQ6\\\\\\\"},{\\\\\\\"key\\\\\\\":\\\\\\\"density\\\\\\\",\\\\\\\"val\\\\\\\":7,\\\\\\\"id\\\\\\\":\\\\\\\"idlIeBNiar\\\\\\\"},{\\\\\\\"key\\\\\\\":\\\\\\\"histogram\\\\\\\",\\\\\\\"val\\\\\\\":8,\\\\\\\"id\\\\\\\":\\\\\\\"idMH7RszWi\\\\\\\"},{\\\\\\\"key\\\\\\\":\\\\\\\"marginalhist\\\\\\\",\\\\\\\"val\\\\\\\":9,\\\\\\\"id\\\\\\\":\\\\\\\"idb9ygoZgY\\\\\\\"},{\\\\\\\"key\\\\\\\":\\\\\\\"violin\\\\\\\",\\\\\\\"val\\\\\\\":10,\\\\\\\"id\\\\\\\":\\\\\\\"idLyfDDfvd\\\\\\\"}],\\\\\\\"index\\\\\\\":1}\\\");\\n    var self = this;\\n    function AppViewModel() {\\n        for (var key in json_data) {\\n            var el = json_data[key];\\n            this[key] = Array.isArray(el) ? ko.observableArray(el) : ko.observable(el);\\n        }\\n        [this[\\\"disablePlaceholder\\\"]=function(option, item) {\\n    ko.applyBindingsToNode(option, {disable: item.val == 0}, item);\\n}\\n]\\n        \\n        [this[\\\"options_js\\\"].subscribe((function (val){!(this.valueFromJulia[\\\"options_js\\\"]) ? (_webIOScope.setObservableValue({\\\"name\\\":\\\"options_js\\\",\\\"scope\\\":\\\"knockout-component-77bb00ec-815d-4986-bd28-f2ff1d06e971\\\",\\\"id\\\":\\\"ob_87\\\",\\\"type\\\":\\\"observable\\\"},val)) : undefined; return this.valueFromJulia[\\\"options_js\\\"]=false}),self),this[\\\"index\\\"].subscribe((function (val){!(this.valueFromJulia[\\\"index\\\"]) ? (_webIOScope.setObservableValue({\\\"name\\\":\\\"index\\\",\\\"scope\\\":\\\"knockout-component-77bb00ec-815d-4986-bd28-f2ff1d06e971\\\",\\\"id\\\":\\\"ob_86\\\",\\\"type\\\":\\\"observable\\\"},val)) : undefined; return this.valueFromJulia[\\\"index\\\"]=false}),self)]\\n        \\n    }\\n    self.model = new AppViewModel();\\n    self.valueFromJulia = {};\\n    for (var key in json_data) {\\n        self.valueFromJulia[key] = false;\\n    }\\n    ko.applyBindings(self.model, self.dom);\\n}\\n\"]},\"options_js\":[\"(function (val){return (val!=this.model[\\\"options_js\\\"]()) ? (this.valueFromJulia[\\\"options_js\\\"]=true, this.model[\\\"options_js\\\"](val)) : undefined})\"],\"index\":[\"(function (val){return (val!=this.model[\\\"index\\\"]()) ? (this.valueFromJulia[\\\"index\\\"]=true, this.model[\\\"index\\\"](val)) : undefined})\"]},\"systemjs_options\":null,\"observables\":{\"options_js\":{\"sync\":false,\"id\":\"ob_87\",\"value\":[{\"key\":\"Plot type\",\"val\":0,\"id\":\"idnOJzzT0W\"},{\"key\":\"line\",\"val\":1,\"id\":\"idJwyQctRl\"},{\"key\":\"scatter\",\"val\":2,\"id\":\"id0Jf8fbTr\"},{\"key\":\"bar\",\"val\":3,\"id\":\"idz12JEpuu\"},{\"key\":\"boxplot\",\"val\":4,\"id\":\"id6mtrgkCZ\"},{\"key\":\"corrplot\",\"val\":5,\"id\":\"id5H7pM0eg\"},{\"key\":\"cornerplot\",\"val\":6,\"id\":\"idbSHPwNQ6\"},{\"key\":\"density\",\"val\":7,\"id\":\"idlIeBNiar\"},{\"key\":\"histogram\",\"val\":8,\"id\":\"idMH7RszWi\"},{\"key\":\"marginalhist\",\"val\":9,\"id\":\"idb9ygoZgY\"},{\"key\":\"violin\",\"val\":10,\"id\":\"idLyfDDfvd\"}]},\"index\":{\"sync\":true,\"id\":\"ob_86\",\"value\":1}}},\"children\":[{\"props\":{\"className\":\"select \"},\"nodeType\":\"DOM\",\"type\":\"node\",\"instanceArgs\":{\"namespace\":\"html\",\"tag\":\"div\"},\"children\":[{\"props\":{\"attributes\":{\"data-bind\":\"options : options_js, value : index, optionsText: 'key', optionsValue: 'val', valueAllowUnset: true, optionsAfterRender: disablePlaceholder\"}},\"nodeType\":\"DOM\",\"type\":\"node\",\"instanceArgs\":{\"namespace\":\"html\",\"tag\":\"select\"},\"children\":[]}]}]}]},{\"props\":{\"className\":\"field\"},\"nodeType\":\"DOM\",\"type\":\"node\",\"instanceArgs\":{\"namespace\":\"html\",\"tag\":\"div\"},\"children\":[{\"props\":{},\"nodeType\":\"Scope\",\"type\":\"node\",\"instanceArgs\":{\"imports\":{\"data\":[{\"name\":\"knockout\",\"type\":\"js\",\"url\":\"\\/assetserver\\/7727d7cb3453b9ff588804f2f297360e756850e6-knockout.js\"},{\"name\":\"knockout_punches\",\"type\":\"js\",\"url\":\"\\/assetserver\\/dc191505b241da77a1bd06986b7132036babe315-knockout_punches.js\"},{\"name\":null,\"type\":\"js\",\"url\":\"\\/assetserver\\/cf39e83f3445855334efae1f7d0ee012952fe319-all.js\"},{\"name\":null,\"type\":\"css\",\"url\":\"\\/assetserver\\/495af69608d773e6cf6efd8fe98ee33ddbad0df5-style.css\"},{\"name\":null,\"type\":\"css\",\"url\":\"\\/assetserver\\/9d22e7e1c4dccb3a3bef6ae4d24134fd256d4bfd-main.css\"}],\"type\":\"async_block\"},\"id\":\"knockout-component-dab2be09-9cb6-40ae-b9c1-f8abb1705e93\",\"handlers\":{\"_promises\":{\"importsLoaded\":[\"function (ko, koPunches) {\\n    ko.punches.enableAll();\\n    ko.bindingHandlers.numericValue = {\\n        init : function(element, valueAccessor, allBindings, data, context) {\\n            var stringified = ko.observable(ko.unwrap(valueAccessor()));\\n            stringified.subscribe(function(value) {\\n                var val = parseFloat(value);\\n                if (!isNaN(val)) {\\n                    valueAccessor()(val);\\n                }\\n            })\\n            valueAccessor().subscribe(function(value) {\\n                var str = JSON.stringify(value);\\n                if ((str == \\\"0\\\") && ([\\\"-0\\\", \\\"-0.\\\"].indexOf(stringified()) >= 0))\\n                     return;\\n                 if ([\\\"null\\\", \\\"\\\"].indexOf(str) >= 0)\\n                     return;\\n                stringified(str);\\n            })\\n            ko.applyBindingsToNode(element, { value: stringified, valueUpdate: allBindings.get('valueUpdate')}, context);\\n        }\\n    };\\n    var json_data = JSON.parse(\\\"{\\\\\\\"changes\\\\\\\":0,\\\\\\\"value\\\\\\\":false}\\\");\\n    var self = this;\\n    function AppViewModel() {\\n        for (var key in json_data) {\\n            var el = json_data[key];\\n            this[key] = Array.isArray(el) ? ko.observableArray(el) : ko.observable(el);\\n        }\\n        \\n        \\n        [this[\\\"changes\\\"].subscribe((function (val){!(this.valueFromJulia[\\\"changes\\\"]) ? (_webIOScope.setObservableValue({\\\"name\\\":\\\"changes\\\",\\\"scope\\\":\\\"knockout-component-dab2be09-9cb6-40ae-b9c1-f8abb1705e93\\\",\\\"id\\\":\\\"ob_98\\\",\\\"type\\\":\\\"observable\\\"},val)) : undefined; return this.valueFromJulia[\\\"changes\\\"]=false}),self),this[\\\"value\\\"].subscribe((function (val){!(this.valueFromJulia[\\\"value\\\"]) ? (_webIOScope.setObservableValue({\\\"name\\\":\\\"value\\\",\\\"scope\\\":\\\"knockout-component-dab2be09-9cb6-40ae-b9c1-f8abb1705e93\\\",\\\"id\\\":\\\"ob_97\\\",\\\"type\\\":\\\"observable\\\"},val)) : undefined; return this.valueFromJulia[\\\"value\\\"]=false}),self)]\\n        \\n    }\\n    self.model = new AppViewModel();\\n    self.valueFromJulia = {};\\n    for (var key in json_data) {\\n        self.valueFromJulia[key] = false;\\n    }\\n    ko.applyBindings(self.model, self.dom);\\n}\\n\"]},\"changes\":[\"(function (val){return (val!=this.model[\\\"changes\\\"]()) ? (this.valueFromJulia[\\\"changes\\\"]=true, this.model[\\\"changes\\\"](val)) : undefined})\"],\"value\":[\"(function (val){return (val!=this.model[\\\"value\\\"]()) ? (this.valueFromJulia[\\\"value\\\"]=true, this.model[\\\"value\\\"](val)) : undefined})\"]},\"systemjs_options\":null,\"observables\":{\"changes\":{\"sync\":false,\"id\":\"ob_98\",\"value\":0},\"value\":{\"sync\":false,\"id\":\"ob_97\",\"value\":false}}},\"children\":[{\"props\":{\"style\":{\"display\":\"flex\",\"flex-direction\":\"column\"}},\"nodeType\":\"DOM\",\"type\":\"node\",\"instanceArgs\":{\"namespace\":\"html\",\"tag\":\"div\"},\"children\":[{\"props\":{\"className\":\"field\"},\"nodeType\":\"DOM\",\"type\":\"node\",\"instanceArgs\":{\"namespace\":\"html\",\"tag\":\"div\"},\"children\":[{\"props\":{\"attributes\":{\"type\":\"checkbox\",\"data-bind\":\"checked: value, valueUpdate: 'change', event: {change : function () {this.changes(this.changes()+1)}}\"},\"id\":\"##385\",\"className\":\"switch \",\"style\":{}},\"nodeType\":\"DOM\",\"type\":\"node\",\"instanceArgs\":{\"namespace\":\"html\",\"tag\":\"input\"},\"children\":[]},{\"props\":{\"attributes\":{\"className\":\"\",\"for\":\"##385\"}},\"nodeType\":\"DOM\",\"type\":\"node\",\"instanceArgs\":{\"namespace\":\"html\",\"tag\":\"label\"},\"children\":[\"Split data\"]}]},{\"props\":{\"attributes\":{\"data-bind\":\"visible: value\"}},\"nodeType\":\"DOM\",\"type\":\"node\",\"instanceArgs\":{\"namespace\":\"html\",\"tag\":\"div\"},\"children\":[{\"props\":{\"className\":\"field\"},\"nodeType\":\"DOM\",\"type\":\"node\",\"instanceArgs\":{\"namespace\":\"html\",\"tag\":\"div\"},\"children\":[{\"props\":{},\"nodeType\":\"Scope\",\"type\":\"node\",\"instanceArgs\":{\"imports\":{\"data\":[{\"name\":\"knockout\",\"type\":\"js\",\"url\":\"\\/assetserver\\/7727d7cb3453b9ff588804f2f297360e756850e6-knockout.js\"},{\"name\":\"knockout_punches\",\"type\":\"js\",\"url\":\"\\/assetserver\\/dc191505b241da77a1bd06986b7132036babe315-knockout_punches.js\"},{\"name\":null,\"type\":\"js\",\"url\":\"\\/assetserver\\/cf39e83f3445855334efae1f7d0ee012952fe319-all.js\"},{\"name\":null,\"type\":\"css\",\"url\":\"\\/assetserver\\/495af69608d773e6cf6efd8fe98ee33ddbad0df5-style.css\"},{\"name\":null,\"type\":\"css\",\"url\":\"\\/assetserver\\/9d22e7e1c4dccb3a3bef6ae4d24134fd256d4bfd-main.css\"}],\"type\":\"async_block\"},\"id\":\"knockout-component-f2b985f5-0308-4d7b-9236-36490ef98188\",\"handlers\":{\"_promises\":{\"importsLoaded\":[\"function (ko, koPunches) {\\n    ko.punches.enableAll();\\n    ko.bindingHandlers.numericValue = {\\n        init : function(element, valueAccessor, allBindings, data, context) {\\n            var stringified = ko.observable(ko.unwrap(valueAccessor()));\\n            stringified.subscribe(function(value) {\\n                var val = parseFloat(value);\\n                if (!isNaN(val)) {\\n                    valueAccessor()(val);\\n                }\\n            })\\n            valueAccessor().subscribe(function(value) {\\n                var str = JSON.stringify(value);\\n                if ((str == \\\"0\\\") && ([\\\"-0\\\", \\\"-0.\\\"].indexOf(stringified()) >= 0))\\n                     return;\\n                 if ([\\\"null\\\", \\\"\\\"].indexOf(str) >= 0)\\n                     return;\\n                stringified(str);\\n            })\\n            ko.applyBindingsToNode(element, { value: stringified, valueUpdate: allBindings.get('valueUpdate')}, context);\\n        }\\n    };\\n    var json_data = JSON.parse(\\\"{\\\\\\\"options_js\\\\\\\":[{\\\\\\\"key\\\\\\\":\\\\\\\"Group by\\\\\\\",\\\\\\\"val\\\\\\\":0,\\\\\\\"id\\\\\\\":\\\\\\\"idfuNa1rnv\\\\\\\"},{\\\\\\\"key\\\\\\\":\\\\\\\"scenario\\\\\\\",\\\\\\\"val\\\\\\\":1,\\\\\\\"id\\\\\\\":\\\\\\\"idIWlLL5Xo\\\\\\\"},{\\\\\\\"key\\\\\\\":\\\\\\\"policy\\\\\\\",\\\\\\\"val\\\\\\\":2,\\\\\\\"id\\\\\\\":\\\\\\\"id9r62HLsf\\\\\\\"},{\\\\\\\"key\\\\\\\":\\\\\\\"updater\\\\\\\",\\\\\\\"val\\\\\\\":3,\\\\\\\"id\\\\\\\":\\\\\\\"idr4wHcF65\\\\\\\"},{\\\\\\\"key\\\\\\\":\\\\\\\"n_episodes\\\\\\\",\\\\\\\"val\\\\\\\":4,\\\\\\\"id\\\\\\\":\\\\\\\"id7jfpkRBB\\\\\\\"},{\\\\\\\"key\\\\\\\":\\\\\\\"reward_mean\\\\\\\",\\\\\\\"val\\\\\\\":5,\\\\\\\"id\\\\\\\":\\\\\\\"idGxiRK1Pd\\\\\\\"},{\\\\\\\"key\\\\\\\":\\\\\\\"reward_std\\\\\\\",\\\\\\\"val\\\\\\\":6,\\\\\\\"id\\\\\\\":\\\\\\\"idMQ5cTb20\\\\\\\"},{\\\\\\\"key\\\\\\\":\\\\\\\"steps_mean\\\\\\\",\\\\\\\"val\\\\\\\":7,\\\\\\\"id\\\\\\\":\\\\\\\"id9uZZ2rBz\\\\\\\"},{\\\\\\\"key\\\\\\\":\\\\\\\"steps_std\\\\\\\",\\\\\\\"val\\\\\\\":8,\\\\\\\"id\\\\\\\":\\\\\\\"idasc26trD\\\\\\\"},{\\\\\\\"key\\\\\\\":\\\\\\\"violations_mean\\\\\\\",\\\\\\\"val\\\\\\\":9,\\\\\\\"id\\\\\\\":\\\\\\\"id7onSGAil\\\\\\\"},{\\\\\\\"key\\\\\\\":\\\\\\\"violations_std\\\\\\\",\\\\\\\"val\\\\\\\":10,\\\\\\\"id\\\\\\\":\\\\\\\"idBapWpAQ5\\\\\\\"},{\\\\\\\"key\\\\\\\":\\\\\\\"time\\\\\\\",\\\\\\\"val\\\\\\\":11,\\\\\\\"id\\\\\\\":\\\\\\\"idKr8rk0EM\\\\\\\"}],\\\\\\\"index\\\\\\\":[]}\\\");\\n    var self = this;\\n    function AppViewModel() {\\n        for (var key in json_data) {\\n            var el = json_data[key];\\n            this[key] = Array.isArray(el) ? ko.observableArray(el) : ko.observable(el);\\n        }\\n        [this[\\\"disablePlaceholder\\\"]=function(option, item) {\\n    ko.applyBindingsToNode(option, {disable: item.val == 0}, item);\\n}\\n]\\n        \\n        [this[\\\"options_js\\\"].subscribe((function (val){!(this.valueFromJulia[\\\"options_js\\\"]) ? (_webIOScope.setObservableValue({\\\"name\\\":\\\"options_js\\\",\\\"scope\\\":\\\"knockout-component-f2b985f5-0308-4d7b-9236-36490ef98188\\\",\\\"id\\\":\\\"ob_96\\\",\\\"type\\\":\\\"observable\\\"},val)) : undefined; return this.valueFromJulia[\\\"options_js\\\"]=false}),self),this[\\\"index\\\"].subscribe((function (val){!(this.valueFromJulia[\\\"index\\\"]) ? (_webIOScope.setObservableValue({\\\"name\\\":\\\"index\\\",\\\"scope\\\":\\\"knockout-component-f2b985f5-0308-4d7b-9236-36490ef98188\\\",\\\"id\\\":\\\"ob_95\\\",\\\"type\\\":\\\"observable\\\"},val)) : undefined; return this.valueFromJulia[\\\"index\\\"]=false}),self)]\\n        \\n    }\\n    self.model = new AppViewModel();\\n    self.valueFromJulia = {};\\n    for (var key in json_data) {\\n        self.valueFromJulia[key] = false;\\n    }\\n    ko.applyBindings(self.model, self.dom);\\n}\\n\"]},\"options_js\":[\"(function (val){return (val!=this.model[\\\"options_js\\\"]()) ? (this.valueFromJulia[\\\"options_js\\\"]=true, this.model[\\\"options_js\\\"](val)) : undefined})\"],\"index\":[\"(function (val){return (val!=this.model[\\\"index\\\"]()) ? (this.valueFromJulia[\\\"index\\\"]=true, this.model[\\\"index\\\"](val)) : undefined})\"]},\"systemjs_options\":null,\"observables\":{\"options_js\":{\"sync\":false,\"id\":\"ob_96\",\"value\":[{\"key\":\"Group by\",\"val\":0,\"id\":\"idfuNa1rnv\"},{\"key\":\"scenario\",\"val\":1,\"id\":\"idIWlLL5Xo\"},{\"key\":\"policy\",\"val\":2,\"id\":\"id9r62HLsf\"},{\"key\":\"updater\",\"val\":3,\"id\":\"idr4wHcF65\"},{\"key\":\"n_episodes\",\"val\":4,\"id\":\"id7jfpkRBB\"},{\"key\":\"reward_mean\",\"val\":5,\"id\":\"idGxiRK1Pd\"},{\"key\":\"reward_std\",\"val\":6,\"id\":\"idMQ5cTb20\"},{\"key\":\"steps_mean\",\"val\":7,\"id\":\"id9uZZ2rBz\"},{\"key\":\"steps_std\",\"val\":8,\"id\":\"idasc26trD\"},{\"key\":\"violations_mean\",\"val\":9,\"id\":\"id7onSGAil\"},{\"key\":\"violations_std\",\"val\":10,\"id\":\"idBapWpAQ5\"},{\"key\":\"time\",\"val\":11,\"id\":\"idKr8rk0EM\"}]},\"index\":{\"sync\":true,\"id\":\"ob_95\",\"value\":[]}}},\"children\":[{\"props\":{\"className\":\"select is-multiple \"},\"nodeType\":\"DOM\",\"type\":\"node\",\"instanceArgs\":{\"namespace\":\"html\",\"tag\":\"div\"},\"children\":[{\"props\":{\"attributes\":{\"multiple\":true,\"data-bind\":\"options : options_js, selectedOptions : index, optionsText: 'key', optionsValue: 'val', valueAllowUnset: true, optionsAfterRender: disablePlaceholder\"}},\"nodeType\":\"DOM\",\"type\":\"node\",\"instanceArgs\":{\"namespace\":\"html\",\"tag\":\"select\"},\"children\":[]}]}]}]}]}]}]}]},{\"props\":{\"className\":\"field\"},\"nodeType\":\"DOM\",\"type\":\"node\",\"instanceArgs\":{\"namespace\":\"html\",\"tag\":\"div\"},\"children\":[{\"props\":{},\"nodeType\":\"Scope\",\"type\":\"node\",\"instanceArgs\":{\"imports\":{\"data\":[{\"name\":\"knockout\",\"type\":\"js\",\"url\":\"\\/assetserver\\/7727d7cb3453b9ff588804f2f297360e756850e6-knockout.js\"},{\"name\":\"knockout_punches\",\"type\":\"js\",\"url\":\"\\/assetserver\\/dc191505b241da77a1bd06986b7132036babe315-knockout_punches.js\"},{\"name\":null,\"type\":\"js\",\"url\":\"\\/assetserver\\/cf39e83f3445855334efae1f7d0ee012952fe319-all.js\"},{\"name\":null,\"type\":\"css\",\"url\":\"\\/assetserver\\/495af69608d773e6cf6efd8fe98ee33ddbad0df5-style.css\"},{\"name\":null,\"type\":\"css\",\"url\":\"\\/assetserver\\/9d22e7e1c4dccb3a3bef6ae4d24134fd256d4bfd-main.css\"}],\"type\":\"async_block\"},\"id\":\"knockout-component-59b707ee-a0c0-4544-8903-984474c44991\",\"handlers\":{\"_promises\":{\"importsLoaded\":[\"function (ko, koPunches) {\\n    ko.punches.enableAll();\\n    ko.bindingHandlers.numericValue = {\\n        init : function(element, valueAccessor, allBindings, data, context) {\\n            var stringified = ko.observable(ko.unwrap(valueAccessor()));\\n            stringified.subscribe(function(value) {\\n                var val = parseFloat(value);\\n                if (!isNaN(val)) {\\n                    valueAccessor()(val);\\n                }\\n            })\\n            valueAccessor().subscribe(function(value) {\\n                var str = JSON.stringify(value);\\n                if ((str == \\\"0\\\") && ([\\\"-0\\\", \\\"-0.\\\"].indexOf(stringified()) >= 0))\\n                     return;\\n                 if ([\\\"null\\\", \\\"\\\"].indexOf(str) >= 0)\\n                     return;\\n                stringified(str);\\n            })\\n            ko.applyBindingsToNode(element, { value: stringified, valueUpdate: allBindings.get('valueUpdate')}, context);\\n        }\\n    };\\n    var json_data = JSON.parse(\\\"{\\\\\\\"clicks\\\\\\\":0}\\\");\\n    var self = this;\\n    function AppViewModel() {\\n        for (var key in json_data) {\\n            var el = json_data[key];\\n            this[key] = Array.isArray(el) ? ko.observableArray(el) : ko.observable(el);\\n        }\\n        \\n        \\n        [this[\\\"clicks\\\"].subscribe((function (val){!(this.valueFromJulia[\\\"clicks\\\"]) ? (_webIOScope.setObservableValue({\\\"name\\\":\\\"clicks\\\",\\\"scope\\\":\\\"knockout-component-59b707ee-a0c0-4544-8903-984474c44991\\\",\\\"id\\\":\\\"ob_99\\\",\\\"type\\\":\\\"observable\\\"},val)) : undefined; return this.valueFromJulia[\\\"clicks\\\"]=false}),self)]\\n        \\n    }\\n    self.model = new AppViewModel();\\n    self.valueFromJulia = {};\\n    for (var key in json_data) {\\n        self.valueFromJulia[key] = false;\\n    }\\n    ko.applyBindings(self.model, self.dom);\\n}\\n\"]},\"clicks\":[\"(function (val){return (val!=this.model[\\\"clicks\\\"]()) ? (this.valueFromJulia[\\\"clicks\\\"]=true, this.model[\\\"clicks\\\"](val)) : undefined})\"]},\"systemjs_options\":null,\"observables\":{\"clicks\":{\"sync\":true,\"id\":\"ob_99\",\"value\":0}}},\"children\":[{\"props\":{\"attributes\":{\"data-bind\":\"click : function () {this.clicks(this.clicks()+1)}\"},\"className\":\"button is-primary\",\"style\":{}},\"nodeType\":\"DOM\",\"type\":\"node\",\"instanceArgs\":{\"namespace\":\"html\",\"tag\":\"button\"},\"children\":[\"plot\"]}]}]}]},{\"props\":{\"style\":{\"width\":\"3em\"}},\"nodeType\":\"DOM\",\"type\":\"node\",\"instanceArgs\":{\"namespace\":\"html\",\"tag\":\"div\"},\"children\":[]},{\"props\":{},\"nodeType\":\"DOM\",\"type\":\"node\",\"instanceArgs\":{\"namespace\":\"html\",\"tag\":\"div\"},\"children\":[{\"props\":{},\"nodeType\":\"Scope\",\"type\":\"node\",\"instanceArgs\":{\"imports\":{\"data\":[],\"type\":\"async_block\"},\"id\":\"scope-5b5086b1-908c-4884-8c9c-ca4cded49e7a\",\"handlers\":{\"obs-output\":[\"function (value, scope) {\\n    scope.setInnerHTML(value);\\n}\\n\"]},\"systemjs_options\":null,\"observables\":{\"obs-output\":{\"sync\":false,\"id\":\"ob_101\",\"value\":\"<?xml version=\\\"1.0\\\" encoding=\\\"utf-8\\\"?>\\n<svg xmlns=\\\"http:\\/\\/www.w3.org\\/2000\\/svg\\\" xmlns:xlink=\\\"http:\\/\\/www.w3.org\\/1999\\/xlink\\\" width=\\\"600\\\" height=\\\"400\\\" viewBox=\\\"0 0 2400 1600\\\">\\n<defs>\\n  <clipPath id=\\\"clip5900\\\">\\n    <rect x=\\\"0\\\" y=\\\"0\\\" width=\\\"2000\\\" height=\\\"2000\\\"\\/>\\n  <\\/clipPath>\\n<\\/defs>\\n<defs>\\n  <clipPath id=\\\"clip5901\\\">\\n    <rect x=\\\"0\\\" y=\\\"0\\\" width=\\\"2400\\\" height=\\\"1600\\\"\\/>\\n  <\\/clipPath>\\n<\\/defs>\\n<polygon clip-path=\\\"url(#clip5901)\\\" points=\\\"\\n0,1600 2400,1600 2400,0 0,0 \\n  \\\" fill=\\\"#ffffff\\\" fill-rule=\\\"evenodd\\\" fill-opacity=\\\"1\\\"\\/>\\n<defs>\\n  <clipPath id=\\\"clip5902\\\">\\n    <rect x=\\\"480\\\" y=\\\"0\\\" width=\\\"1681\\\" height=\\\"1600\\\"\\/>\\n  <\\/clipPath>\\n<\\/defs>\\n<polygon clip-path=\\\"url(#clip5901)\\\" points=\\\"\\n161.394,1503.47 2321.26,1503.47 2321.26,47.2441 161.394,47.2441 \\n  \\\" fill=\\\"#ffffff\\\" fill-rule=\\\"evenodd\\\" fill-opacity=\\\"1\\\"\\/>\\n<defs>\\n  <clipPath id=\\\"clip5903\\\">\\n    <rect x=\\\"161\\\" y=\\\"47\\\" width=\\\"2161\\\" height=\\\"1457\\\"\\/>\\n  <\\/clipPath>\\n<\\/defs>\\n<polyline clip-path=\\\"url(#clip5903)\\\" style=\\\"stroke:#000000; stroke-width:2; stroke-opacity:0.1; fill:none\\\" points=\\\"\\n  161.394,1503.47 161.394,47.2441 \\n  \\\"\\/>\\n<polyline clip-path=\\\"url(#clip5903)\\\" style=\\\"stroke:#000000; stroke-width:2; stroke-opacity:0.1; fill:none\\\" points=\\\"\\n  593.367,1503.47 593.367,47.2441 \\n  \\\"\\/>\\n<polyline clip-path=\\\"url(#clip5903)\\\" style=\\\"stroke:#000000; stroke-width:2; stroke-opacity:0.1; fill:none\\\" points=\\\"\\n  1025.34,1503.47 1025.34,47.2441 \\n  \\\"\\/>\\n<polyline clip-path=\\\"url(#clip5903)\\\" style=\\\"stroke:#000000; stroke-width:2; stroke-opacity:0.1; fill:none\\\" points=\\\"\\n  1457.31,1503.47 1457.31,47.2441 \\n  \\\"\\/>\\n<polyline clip-path=\\\"url(#clip5903)\\\" style=\\\"stroke:#000000; stroke-width:2; stroke-opacity:0.1; fill:none\\\" points=\\\"\\n  1889.29,1503.47 1889.29,47.2441 \\n  \\\"\\/>\\n<polyline clip-path=\\\"url(#clip5903)\\\" style=\\\"stroke:#000000; stroke-width:2; stroke-opacity:0.1; fill:none\\\" points=\\\"\\n  2321.26,1503.47 2321.26,47.2441 \\n  \\\"\\/>\\n<polyline clip-path=\\\"url(#clip5903)\\\" style=\\\"stroke:#000000; stroke-width:2; stroke-opacity:0.1; fill:none\\\" points=\\\"\\n  161.394,1503.47 2321.26,1503.47 \\n  \\\"\\/>\\n<polyline clip-path=\\\"url(#clip5903)\\\" style=\\\"stroke:#000000; stroke-width:2; stroke-opacity:0.1; fill:none\\\" points=\\\"\\n  161.394,1212.23 2321.26,1212.23 \\n  \\\"\\/>\\n<polyline clip-path=\\\"url(#clip5903)\\\" style=\\\"stroke:#000000; stroke-width:2; stroke-opacity:0.1; fill:none\\\" points=\\\"\\n  161.394,920.982 2321.26,920.982 \\n  \\\"\\/>\\n<polyline clip-path=\\\"url(#clip5903)\\\" style=\\\"stroke:#000000; stroke-width:2; stroke-opacity:0.1; fill:none\\\" points=\\\"\\n  161.394,629.736 2321.26,629.736 \\n  \\\"\\/>\\n<polyline clip-path=\\\"url(#clip5903)\\\" style=\\\"stroke:#000000; stroke-width:2; stroke-opacity:0.1; fill:none\\\" points=\\\"\\n  161.394,338.49 2321.26,338.49 \\n  \\\"\\/>\\n<polyline clip-path=\\\"url(#clip5903)\\\" style=\\\"stroke:#000000; stroke-width:2; stroke-opacity:0.1; fill:none\\\" points=\\\"\\n  161.394,47.2441 2321.26,47.2441 \\n  \\\"\\/>\\n<polyline clip-path=\\\"url(#clip5901)\\\" style=\\\"stroke:#000000; stroke-width:4; stroke-opacity:1; fill:none\\\" points=\\\"\\n  161.394,1503.47 2321.26,1503.47 \\n  \\\"\\/>\\n<polyline clip-path=\\\"url(#clip5901)\\\" style=\\\"stroke:#000000; stroke-width:4; stroke-opacity:1; fill:none\\\" points=\\\"\\n  161.394,1503.47 161.394,47.2441 \\n  \\\"\\/>\\n<polyline clip-path=\\\"url(#clip5901)\\\" style=\\\"stroke:#000000; stroke-width:4; stroke-opacity:1; fill:none\\\" points=\\\"\\n  161.394,1503.47 161.394,1481.63 \\n  \\\"\\/>\\n<polyline clip-path=\\\"url(#clip5901)\\\" style=\\\"stroke:#000000; stroke-width:4; stroke-opacity:1; fill:none\\\" points=\\\"\\n  593.367,1503.47 593.367,1481.63 \\n  \\\"\\/>\\n<polyline clip-path=\\\"url(#clip5901)\\\" style=\\\"stroke:#000000; stroke-width:4; stroke-opacity:1; fill:none\\\" points=\\\"\\n  1025.34,1503.47 1025.34,1481.63 \\n  \\\"\\/>\\n<polyline clip-path=\\\"url(#clip5901)\\\" style=\\\"stroke:#000000; stroke-width:4; stroke-opacity:1; fill:none\\\" points=\\\"\\n  1457.31,1503.47 1457.31,1481.63 \\n  \\\"\\/>\\n<polyline clip-path=\\\"url(#clip5901)\\\" style=\\\"stroke:#000000; stroke-width:4; stroke-opacity:1; fill:none\\\" points=\\\"\\n  1889.29,1503.47 1889.29,1481.63 \\n  \\\"\\/>\\n<polyline clip-path=\\\"url(#clip5901)\\\" style=\\\"stroke:#000000; stroke-width:4; stroke-opacity:1; fill:none\\\" points=\\\"\\n  2321.26,1503.47 2321.26,1481.63 \\n  \\\"\\/>\\n<polyline clip-path=\\\"url(#clip5901)\\\" style=\\\"stroke:#000000; stroke-width:4; stroke-opacity:1; fill:none\\\" points=\\\"\\n  161.394,1503.47 193.792,1503.47 \\n  \\\"\\/>\\n<polyline clip-path=\\\"url(#clip5901)\\\" style=\\\"stroke:#000000; stroke-width:4; stroke-opacity:1; fill:none\\\" points=\\\"\\n  161.394,1212.23 193.792,1212.23 \\n  \\\"\\/>\\n<polyline clip-path=\\\"url(#clip5901)\\\" style=\\\"stroke:#000000; stroke-width:4; stroke-opacity:1; fill:none\\\" points=\\\"\\n  161.394,920.982 193.792,920.982 \\n  \\\"\\/>\\n<polyline clip-path=\\\"url(#clip5901)\\\" style=\\\"stroke:#000000; stroke-width:4; stroke-opacity:1; fill:none\\\" points=\\\"\\n  161.394,629.736 193.792,629.736 \\n  \\\"\\/>\\n<polyline clip-path=\\\"url(#clip5901)\\\" style=\\\"stroke:#000000; stroke-width:4; stroke-opacity:1; fill:none\\\" points=\\\"\\n  161.394,338.49 193.792,338.49 \\n  \\\"\\/>\\n<polyline clip-path=\\\"url(#clip5901)\\\" style=\\\"stroke:#000000; stroke-width:4; stroke-opacity:1; fill:none\\\" points=\\\"\\n  161.394,47.2441 193.792,47.2441 \\n  \\\"\\/>\\n<g clip-path=\\\"url(#clip5901)\\\">\\n<text style=\\\"fill:#000000; fill-opacity:1; font-family:Arial,Helvetica Neue,Helvetica,sans-serif; font-size:48px; text-anchor:middle;\\\" transform=\\\"rotate(0, 161.394, 1557.47)\\\" x=\\\"161.394\\\" y=\\\"1557.47\\\">0.0<\\/text>\\n<\\/g>\\n<g clip-path=\\\"url(#clip5901)\\\">\\n<text style=\\\"fill:#000000; fill-opacity:1; font-family:Arial,Helvetica Neue,Helvetica,sans-serif; font-size:48px; text-anchor:middle;\\\" transform=\\\"rotate(0, 593.367, 1557.47)\\\" x=\\\"593.367\\\" y=\\\"1557.47\\\">0.2<\\/text>\\n<\\/g>\\n<g clip-path=\\\"url(#clip5901)\\\">\\n<text style=\\\"fill:#000000; fill-opacity:1; font-family:Arial,Helvetica Neue,Helvetica,sans-serif; font-size:48px; text-anchor:middle;\\\" transform=\\\"rotate(0, 1025.34, 1557.47)\\\" x=\\\"1025.34\\\" y=\\\"1557.47\\\">0.4<\\/text>\\n<\\/g>\\n<g clip-path=\\\"url(#clip5901)\\\">\\n<text style=\\\"fill:#000000; fill-opacity:1; font-family:Arial,Helvetica Neue,Helvetica,sans-serif; font-size:48px; text-anchor:middle;\\\" transform=\\\"rotate(0, 1457.31, 1557.47)\\\" x=\\\"1457.31\\\" y=\\\"1557.47\\\">0.6<\\/text>\\n<\\/g>\\n<g clip-path=\\\"url(#clip5901)\\\">\\n<text style=\\\"fill:#000000; fill-opacity:1; font-family:Arial,Helvetica Neue,Helvetica,sans-serif; font-size:48px; text-anchor:middle;\\\" transform=\\\"rotate(0, 1889.29, 1557.47)\\\" x=\\\"1889.29\\\" y=\\\"1557.47\\\">0.8<\\/text>\\n<\\/g>\\n<g clip-path=\\\"url(#clip5901)\\\">\\n<text style=\\\"fill:#000000; fill-opacity:1; font-family:Arial,Helvetica Neue,Helvetica,sans-serif; font-size:48px; text-anchor:middle;\\\" transform=\\\"rotate(0, 2321.26, 1557.47)\\\" x=\\\"2321.26\\\" y=\\\"1557.47\\\">1.0<\\/text>\\n<\\/g>\\n<g clip-path=\\\"url(#clip5901)\\\">\\n<text style=\\\"fill:#000000; fill-opacity:1; font-family:Arial,Helvetica Neue,Helvetica,sans-serif; font-size:48px; text-anchor:end;\\\" transform=\\\"rotate(0, 137.394, 1520.97)\\\" x=\\\"137.394\\\" y=\\\"1520.97\\\">0.0<\\/text>\\n<\\/g>\\n<g clip-path=\\\"url(#clip5901)\\\">\\n<text style=\\\"fill:#000000; fill-opacity:1; font-family:Arial,Helvetica Neue,Helvetica,sans-serif; font-size:48px; text-anchor:end;\\\" transform=\\\"rotate(0, 137.394, 1229.73)\\\" x=\\\"137.394\\\" y=\\\"1229.73\\\">0.2<\\/text>\\n<\\/g>\\n<g clip-path=\\\"url(#clip5901)\\\">\\n<text style=\\\"fill:#000000; fill-opacity:1; font-family:Arial,Helvetica Neue,Helvetica,sans-serif; font-size:48px; text-anchor:end;\\\" transform=\\\"rotate(0, 137.394, 938.482)\\\" x=\\\"137.394\\\" y=\\\"938.482\\\">0.4<\\/text>\\n<\\/g>\\n<g clip-path=\\\"url(#clip5901)\\\">\\n<text style=\\\"fill:#000000; fill-opacity:1; font-family:Arial,Helvetica Neue,Helvetica,sans-serif; font-size:48px; text-anchor:end;\\\" transform=\\\"rotate(0, 137.394, 647.236)\\\" x=\\\"137.394\\\" y=\\\"647.236\\\">0.6<\\/text>\\n<\\/g>\\n<g clip-path=\\\"url(#clip5901)\\\">\\n<text style=\\\"fill:#000000; fill-opacity:1; font-family:Arial,Helvetica Neue,Helvetica,sans-serif; font-size:48px; text-anchor:end;\\\" transform=\\\"rotate(0, 137.394, 355.99)\\\" x=\\\"137.394\\\" y=\\\"355.99\\\">0.8<\\/text>\\n<\\/g>\\n<g clip-path=\\\"url(#clip5901)\\\">\\n<text style=\\\"fill:#000000; fill-opacity:1; font-family:Arial,Helvetica Neue,Helvetica,sans-serif; font-size:48px; text-anchor:end;\\\" transform=\\\"rotate(0, 137.394, 64.7441)\\\" x=\\\"137.394\\\" y=\\\"64.7441\\\">1.0<\\/text>\\n<\\/g>\\n<\\/svg>\\n\"}}},\"children\":[{\"props\":{\"className\":\"webio-observable\",\"setInnerHtml\":\"<?xml version=\\\"1.0\\\" encoding=\\\"utf-8\\\"?>\\n<svg xmlns=\\\"http:\\/\\/www.w3.org\\/2000\\/svg\\\" xmlns:xlink=\\\"http:\\/\\/www.w3.org\\/1999\\/xlink\\\" width=\\\"600\\\" height=\\\"400\\\" viewBox=\\\"0 0 2400 1600\\\">\\n<defs>\\n  <clipPath id=\\\"clip5900\\\">\\n    <rect x=\\\"0\\\" y=\\\"0\\\" width=\\\"2000\\\" height=\\\"2000\\\"\\/>\\n  <\\/clipPath>\\n<\\/defs>\\n<defs>\\n  <clipPath id=\\\"clip5901\\\">\\n    <rect x=\\\"0\\\" y=\\\"0\\\" width=\\\"2400\\\" height=\\\"1600\\\"\\/>\\n  <\\/clipPath>\\n<\\/defs>\\n<polygon clip-path=\\\"url(#clip5901)\\\" points=\\\"\\n0,1600 2400,1600 2400,0 0,0 \\n  \\\" fill=\\\"#ffffff\\\" fill-rule=\\\"evenodd\\\" fill-opacity=\\\"1\\\"\\/>\\n<defs>\\n  <clipPath id=\\\"clip5902\\\">\\n    <rect x=\\\"480\\\" y=\\\"0\\\" width=\\\"1681\\\" height=\\\"1600\\\"\\/>\\n  <\\/clipPath>\\n<\\/defs>\\n<polygon clip-path=\\\"url(#clip5901)\\\" points=\\\"\\n161.394,1503.47 2321.26,1503.47 2321.26,47.2441 161.394,47.2441 \\n  \\\" fill=\\\"#ffffff\\\" fill-rule=\\\"evenodd\\\" fill-opacity=\\\"1\\\"\\/>\\n<defs>\\n  <clipPath id=\\\"clip5903\\\">\\n    <rect x=\\\"161\\\" y=\\\"47\\\" width=\\\"2161\\\" height=\\\"1457\\\"\\/>\\n  <\\/clipPath>\\n<\\/defs>\\n<polyline clip-path=\\\"url(#clip5903)\\\" style=\\\"stroke:#000000; stroke-width:2; stroke-opacity:0.1; fill:none\\\" points=\\\"\\n  161.394,1503.47 161.394,47.2441 \\n  \\\"\\/>\\n<polyline clip-path=\\\"url(#clip5903)\\\" style=\\\"stroke:#000000; stroke-width:2; stroke-opacity:0.1; fill:none\\\" points=\\\"\\n  593.367,1503.47 593.367,47.2441 \\n  \\\"\\/>\\n<polyline clip-path=\\\"url(#clip5903)\\\" style=\\\"stroke:#000000; stroke-width:2; stroke-opacity:0.1; fill:none\\\" points=\\\"\\n  1025.34,1503.47 1025.34,47.2441 \\n  \\\"\\/>\\n<polyline clip-path=\\\"url(#clip5903)\\\" style=\\\"stroke:#000000; stroke-width:2; stroke-opacity:0.1; fill:none\\\" points=\\\"\\n  1457.31,1503.47 1457.31,47.2441 \\n  \\\"\\/>\\n<polyline clip-path=\\\"url(#clip5903)\\\" style=\\\"stroke:#000000; stroke-width:2; stroke-opacity:0.1; fill:none\\\" points=\\\"\\n  1889.29,1503.47 1889.29,47.2441 \\n  \\\"\\/>\\n<polyline clip-path=\\\"url(#clip5903)\\\" style=\\\"stroke:#000000; stroke-width:2; stroke-opacity:0.1; fill:none\\\" points=\\\"\\n  2321.26,1503.47 2321.26,47.2441 \\n  \\\"\\/>\\n<polyline clip-path=\\\"url(#clip5903)\\\" style=\\\"stroke:#000000; stroke-width:2; stroke-opacity:0.1; fill:none\\\" points=\\\"\\n  161.394,1503.47 2321.26,1503.47 \\n  \\\"\\/>\\n<polyline clip-path=\\\"url(#clip5903)\\\" style=\\\"stroke:#000000; stroke-width:2; stroke-opacity:0.1; fill:none\\\" points=\\\"\\n  161.394,1212.23 2321.26,1212.23 \\n  \\\"\\/>\\n<polyline clip-path=\\\"url(#clip5903)\\\" style=\\\"stroke:#000000; stroke-width:2; stroke-opacity:0.1; fill:none\\\" points=\\\"\\n  161.394,920.982 2321.26,920.982 \\n  \\\"\\/>\\n<polyline clip-path=\\\"url(#clip5903)\\\" style=\\\"stroke:#000000; stroke-width:2; stroke-opacity:0.1; fill:none\\\" points=\\\"\\n  161.394,629.736 2321.26,629.736 \\n  \\\"\\/>\\n<polyline clip-path=\\\"url(#clip5903)\\\" style=\\\"stroke:#000000; stroke-width:2; stroke-opacity:0.1; fill:none\\\" points=\\\"\\n  161.394,338.49 2321.26,338.49 \\n  \\\"\\/>\\n<polyline clip-path=\\\"url(#clip5903)\\\" style=\\\"stroke:#000000; stroke-width:2; stroke-opacity:0.1; fill:none\\\" points=\\\"\\n  161.394,47.2441 2321.26,47.2441 \\n  \\\"\\/>\\n<polyline clip-path=\\\"url(#clip5901)\\\" style=\\\"stroke:#000000; stroke-width:4; stroke-opacity:1; fill:none\\\" points=\\\"\\n  161.394,1503.47 2321.26,1503.47 \\n  \\\"\\/>\\n<polyline clip-path=\\\"url(#clip5901)\\\" style=\\\"stroke:#000000; stroke-width:4; stroke-opacity:1; fill:none\\\" points=\\\"\\n  161.394,1503.47 161.394,47.2441 \\n  \\\"\\/>\\n<polyline clip-path=\\\"url(#clip5901)\\\" style=\\\"stroke:#000000; stroke-width:4; stroke-opacity:1; fill:none\\\" points=\\\"\\n  161.394,1503.47 161.394,1481.63 \\n  \\\"\\/>\\n<polyline clip-path=\\\"url(#clip5901)\\\" style=\\\"stroke:#000000; stroke-width:4; stroke-opacity:1; fill:none\\\" points=\\\"\\n  593.367,1503.47 593.367,1481.63 \\n  \\\"\\/>\\n<polyline clip-path=\\\"url(#clip5901)\\\" style=\\\"stroke:#000000; stroke-width:4; stroke-opacity:1; fill:none\\\" points=\\\"\\n  1025.34,1503.47 1025.34,1481.63 \\n  \\\"\\/>\\n<polyline clip-path=\\\"url(#clip5901)\\\" style=\\\"stroke:#000000; stroke-width:4; stroke-opacity:1; fill:none\\\" points=\\\"\\n  1457.31,1503.47 1457.31,1481.63 \\n  \\\"\\/>\\n<polyline clip-path=\\\"url(#clip5901)\\\" style=\\\"stroke:#000000; stroke-width:4; stroke-opacity:1; fill:none\\\" points=\\\"\\n  1889.29,1503.47 1889.29,1481.63 \\n  \\\"\\/>\\n<polyline clip-path=\\\"url(#clip5901)\\\" style=\\\"stroke:#000000; stroke-width:4; stroke-opacity:1; fill:none\\\" points=\\\"\\n  2321.26,1503.47 2321.26,1481.63 \\n  \\\"\\/>\\n<polyline clip-path=\\\"url(#clip5901)\\\" style=\\\"stroke:#000000; stroke-width:4; stroke-opacity:1; fill:none\\\" points=\\\"\\n  161.394,1503.47 193.792,1503.47 \\n  \\\"\\/>\\n<polyline clip-path=\\\"url(#clip5901)\\\" style=\\\"stroke:#000000; stroke-width:4; stroke-opacity:1; fill:none\\\" points=\\\"\\n  161.394,1212.23 193.792,1212.23 \\n  \\\"\\/>\\n<polyline clip-path=\\\"url(#clip5901)\\\" style=\\\"stroke:#000000; stroke-width:4; stroke-opacity:1; fill:none\\\" points=\\\"\\n  161.394,920.982 193.792,920.982 \\n  \\\"\\/>\\n<polyline clip-path=\\\"url(#clip5901)\\\" style=\\\"stroke:#000000; stroke-width:4; stroke-opacity:1; fill:none\\\" points=\\\"\\n  161.394,629.736 193.792,629.736 \\n  \\\"\\/>\\n<polyline clip-path=\\\"url(#clip5901)\\\" style=\\\"stroke:#000000; stroke-width:4; stroke-opacity:1; fill:none\\\" points=\\\"\\n  161.394,338.49 193.792,338.49 \\n  \\\"\\/>\\n<polyline clip-path=\\\"url(#clip5901)\\\" style=\\\"stroke:#000000; stroke-width:4; stroke-opacity:1; fill:none\\\" points=\\\"\\n  161.394,47.2441 193.792,47.2441 \\n  \\\"\\/>\\n<g clip-path=\\\"url(#clip5901)\\\">\\n<text style=\\\"fill:#000000; fill-opacity:1; font-family:Arial,Helvetica Neue,Helvetica,sans-serif; font-size:48px; text-anchor:middle;\\\" transform=\\\"rotate(0, 161.394, 1557.47)\\\" x=\\\"161.394\\\" y=\\\"1557.47\\\">0.0<\\/text>\\n<\\/g>\\n<g clip-path=\\\"url(#clip5901)\\\">\\n<text style=\\\"fill:#000000; fill-opacity:1; font-family:Arial,Helvetica Neue,Helvetica,sans-serif; font-size:48px; text-anchor:middle;\\\" transform=\\\"rotate(0, 593.367, 1557.47)\\\" x=\\\"593.367\\\" y=\\\"1557.47\\\">0.2<\\/text>\\n<\\/g>\\n<g clip-path=\\\"url(#clip5901)\\\">\\n<text style=\\\"fill:#000000; fill-opacity:1; font-family:Arial,Helvetica Neue,Helvetica,sans-serif; font-size:48px; text-anchor:middle;\\\" transform=\\\"rotate(0, 1025.34, 1557.47)\\\" x=\\\"1025.34\\\" y=\\\"1557.47\\\">0.4<\\/text>\\n<\\/g>\\n<g clip-path=\\\"url(#clip5901)\\\">\\n<text style=\\\"fill:#000000; fill-opacity:1; font-family:Arial,Helvetica Neue,Helvetica,sans-serif; font-size:48px; text-anchor:middle;\\\" transform=\\\"rotate(0, 1457.31, 1557.47)\\\" x=\\\"1457.31\\\" y=\\\"1557.47\\\">0.6<\\/text>\\n<\\/g>\\n<g clip-path=\\\"url(#clip5901)\\\">\\n<text style=\\\"fill:#000000; fill-opacity:1; font-family:Arial,Helvetica Neue,Helvetica,sans-serif; font-size:48px; text-anchor:middle;\\\" transform=\\\"rotate(0, 1889.29, 1557.47)\\\" x=\\\"1889.29\\\" y=\\\"1557.47\\\">0.8<\\/text>\\n<\\/g>\\n<g clip-path=\\\"url(#clip5901)\\\">\\n<text style=\\\"fill:#000000; fill-opacity:1; font-family:Arial,Helvetica Neue,Helvetica,sans-serif; font-size:48px; text-anchor:middle;\\\" transform=\\\"rotate(0, 2321.26, 1557.47)\\\" x=\\\"2321.26\\\" y=\\\"1557.47\\\">1.0<\\/text>\\n<\\/g>\\n<g clip-path=\\\"url(#clip5901)\\\">\\n<text style=\\\"fill:#000000; fill-opacity:1; font-family:Arial,Helvetica Neue,Helvetica,sans-serif; font-size:48px; text-anchor:end;\\\" transform=\\\"rotate(0, 137.394, 1520.97)\\\" x=\\\"137.394\\\" y=\\\"1520.97\\\">0.0<\\/text>\\n<\\/g>\\n<g clip-path=\\\"url(#clip5901)\\\">\\n<text style=\\\"fill:#000000; fill-opacity:1; font-family:Arial,Helvetica Neue,Helvetica,sans-serif; font-size:48px; text-anchor:end;\\\" transform=\\\"rotate(0, 137.394, 1229.73)\\\" x=\\\"137.394\\\" y=\\\"1229.73\\\">0.2<\\/text>\\n<\\/g>\\n<g clip-path=\\\"url(#clip5901)\\\">\\n<text style=\\\"fill:#000000; fill-opacity:1; font-family:Arial,Helvetica Neue,Helvetica,sans-serif; font-size:48px; text-anchor:end;\\\" transform=\\\"rotate(0, 137.394, 938.482)\\\" x=\\\"137.394\\\" y=\\\"938.482\\\">0.4<\\/text>\\n<\\/g>\\n<g clip-path=\\\"url(#clip5901)\\\">\\n<text style=\\\"fill:#000000; fill-opacity:1; font-family:Arial,Helvetica Neue,Helvetica,sans-serif; font-size:48px; text-anchor:end;\\\" transform=\\\"rotate(0, 137.394, 647.236)\\\" x=\\\"137.394\\\" y=\\\"647.236\\\">0.6<\\/text>\\n<\\/g>\\n<g clip-path=\\\"url(#clip5901)\\\">\\n<text style=\\\"fill:#000000; fill-opacity:1; font-family:Arial,Helvetica Neue,Helvetica,sans-serif; font-size:48px; text-anchor:end;\\\" transform=\\\"rotate(0, 137.394, 355.99)\\\" x=\\\"137.394\\\" y=\\\"355.99\\\">0.8<\\/text>\\n<\\/g>\\n<g clip-path=\\\"url(#clip5901)\\\">\\n<text style=\\\"fill:#000000; fill-opacity:1; font-family:Arial,Helvetica Neue,Helvetica,sans-serif; font-size:48px; text-anchor:end;\\\" transform=\\\"rotate(0, 137.394, 64.7441)\\\" x=\\\"137.394\\\" y=\\\"64.7441\\\">1.0<\\/text>\\n<\\/g>\\n<\\/svg>\\n\"},\"nodeType\":\"DOM\",\"type\":\"node\",\"instanceArgs\":{\"namespace\":\"html\",\"tag\":\"div\"},\"children\":[]}]},{\"props\":{\"className\":\"field\"},\"nodeType\":\"DOM\",\"type\":\"node\",\"instanceArgs\":{\"namespace\":\"html\",\"tag\":\"div\"},\"children\":[{\"props\":{},\"nodeType\":\"Scope\",\"type\":\"node\",\"instanceArgs\":{\"imports\":{\"data\":[{\"name\":\"knockout\",\"type\":\"js\",\"url\":\"\\/assetserver\\/7727d7cb3453b9ff588804f2f297360e756850e6-knockout.js\"},{\"name\":\"knockout_punches\",\"type\":\"js\",\"url\":\"\\/assetserver\\/dc191505b241da77a1bd06986b7132036babe315-knockout_punches.js\"},{\"name\":null,\"type\":\"js\",\"url\":\"\\/assetserver\\/cf39e83f3445855334efae1f7d0ee012952fe319-all.js\"},{\"name\":null,\"type\":\"css\",\"url\":\"\\/assetserver\\/495af69608d773e6cf6efd8fe98ee33ddbad0df5-style.css\"},{\"name\":null,\"type\":\"css\",\"url\":\"\\/assetserver\\/9d22e7e1c4dccb3a3bef6ae4d24134fd256d4bfd-main.css\"}],\"type\":\"async_block\"},\"id\":\"knockout-component-293382db-fb20-407c-8b71-d54de5d53a9f\",\"handlers\":{\"_promises\":{\"importsLoaded\":[\"function (ko, koPunches) {\\n    ko.punches.enableAll();\\n    ko.bindingHandlers.numericValue = {\\n        init : function(element, valueAccessor, allBindings, data, context) {\\n            var stringified = ko.observable(ko.unwrap(valueAccessor()));\\n            stringified.subscribe(function(value) {\\n                var val = parseFloat(value);\\n                if (!isNaN(val)) {\\n                    valueAccessor()(val);\\n                }\\n            })\\n            valueAccessor().subscribe(function(value) {\\n                var str = JSON.stringify(value);\\n                if ((str == \\\"0\\\") && ([\\\"-0\\\", \\\"-0.\\\"].indexOf(stringified()) >= 0))\\n                     return;\\n                 if ([\\\"null\\\", \\\"\\\"].indexOf(str) >= 0)\\n                     return;\\n                stringified(str);\\n            })\\n            ko.applyBindingsToNode(element, { value: stringified, valueUpdate: allBindings.get('valueUpdate')}, context);\\n        }\\n    };\\n    var json_data = JSON.parse(\\\"{\\\\\\\"display\\\\\\\":\\\\\\\"none\\\\\\\",\\\\\\\"changes\\\\\\\":0,\\\\\\\"value\\\\\\\":30}\\\");\\n    var self = this;\\n    function AppViewModel() {\\n        for (var key in json_data) {\\n            var el = json_data[key];\\n            this[key] = Array.isArray(el) ? ko.observableArray(el) : ko.observable(el);\\n        }\\n        \\n        \\n        [this[\\\"display\\\"].subscribe((function (val){!(this.valueFromJulia[\\\"display\\\"]) ? (_webIOScope.setObservableValue({\\\"name\\\":\\\"display\\\",\\\"scope\\\":\\\"knockout-component-293382db-fb20-407c-8b71-d54de5d53a9f\\\",\\\"id\\\":\\\"ob_88\\\",\\\"type\\\":\\\"observable\\\"},val)) : undefined; return this.valueFromJulia[\\\"display\\\"]=false}),self),this[\\\"changes\\\"].subscribe((function (val){!(this.valueFromJulia[\\\"changes\\\"]) ? (_webIOScope.setObservableValue({\\\"name\\\":\\\"changes\\\",\\\"scope\\\":\\\"knockout-component-293382db-fb20-407c-8b71-d54de5d53a9f\\\",\\\"id\\\":\\\"ob_90\\\",\\\"type\\\":\\\"observable\\\"},val)) : undefined; return this.valueFromJulia[\\\"changes\\\"]=false}),self),this[\\\"value\\\"].subscribe((function (val){!(this.valueFromJulia[\\\"value\\\"]) ? (_webIOScope.setObservableValue({\\\"name\\\":\\\"value\\\",\\\"scope\\\":\\\"knockout-component-293382db-fb20-407c-8b71-d54de5d53a9f\\\",\\\"id\\\":\\\"ob_89\\\",\\\"type\\\":\\\"observable\\\"},val)) : undefined; return this.valueFromJulia[\\\"value\\\"]=false}),self)]\\n        \\n    }\\n    self.model = new AppViewModel();\\n    self.valueFromJulia = {};\\n    for (var key in json_data) {\\n        self.valueFromJulia[key] = false;\\n    }\\n    ko.applyBindings(self.model, self.dom);\\n}\\n\"]},\"display\":[\"(function (val){return (val!=this.model[\\\"display\\\"]()) ? (this.valueFromJulia[\\\"display\\\"]=true, this.model[\\\"display\\\"](val)) : undefined})\"],\"changes\":[\"(function (val){return (val!=this.model[\\\"changes\\\"]()) ? (this.valueFromJulia[\\\"changes\\\"]=true, this.model[\\\"changes\\\"](val)) : undefined})\"],\"value\":[\"(function (val){return (val!=this.model[\\\"value\\\"]()) ? (this.valueFromJulia[\\\"value\\\"]=true, this.model[\\\"value\\\"](val)) : undefined})\"]},\"systemjs_options\":null,\"observables\":{\"display\":{\"sync\":false,\"id\":\"ob_88\",\"value\":\"none\"},\"changes\":{\"sync\":false,\"id\":\"ob_90\",\"value\":0},\"value\":{\"sync\":true,\"id\":\"ob_89\",\"value\":30}}},\"children\":[{\"props\":{\"attributes\":{\"data-bind\":\"style: {display: display}\"}},\"nodeType\":\"DOM\",\"type\":\"node\",\"instanceArgs\":{\"namespace\":\"html\",\"tag\":\"div\"},\"children\":[{\"props\":{\"attributes\":{\"style\":\"display:flex; justify-content:center; align-items:center;\"}},\"nodeType\":\"DOM\",\"type\":\"node\",\"instanceArgs\":{\"namespace\":\"html\",\"tag\":\"div\"},\"children\":[{\"props\":{\"attributes\":{\"style\":\"text-align:right;width:18%\"}},\"nodeType\":\"DOM\",\"type\":\"node\",\"instanceArgs\":{\"namespace\":\"html\",\"tag\":\"div\"},\"children\":[{\"props\":{\"className\":\"interact \",\"style\":{\"padding\":\"5px 10px 0px 10px\"}},\"nodeType\":\"DOM\",\"type\":\"node\",\"instanceArgs\":{\"namespace\":\"html\",\"tag\":\"label\"},\"children\":[\"number of bins\"]}]},{\"props\":{\"attributes\":{\"style\":\"flex-grow:1; margin: 0 2%\"}},\"nodeType\":\"DOM\",\"type\":\"node\",\"instanceArgs\":{\"namespace\":\"html\",\"tag\":\"div\"},\"children\":[{\"props\":{\"max\":100,\"min\":1,\"attributes\":{\"type\":\"range\",\"data-bind\":\"numericValue: value, valueUpdate: 'input', event: {change : function () {this.changes(this.changes()+1)}}\",\"orient\":\"horizontal\"},\"step\":1,\"className\":\"slider slider is-fullwidth\",\"style\":{}},\"nodeType\":\"DOM\",\"type\":\"node\",\"instanceArgs\":{\"namespace\":\"html\",\"tag\":\"input\"},\"children\":[]}]},{\"props\":{\"attributes\":{\"style\":\"width:18%\"}},\"nodeType\":\"DOM\",\"type\":\"node\",\"instanceArgs\":{\"namespace\":\"html\",\"tag\":\"div\"},\"children\":[{\"props\":{\"attributes\":{\"data-bind\":\"text: value\"}},\"nodeType\":\"DOM\",\"type\":\"node\",\"instanceArgs\":{\"namespace\":\"html\",\"tag\":\"p\"},\"children\":[]}]}]}]}]}]}]}]},\n",
       "        );\n",
       "    } else {\n",
       "        document\n",
       "            .querySelector('[data-webio-mountpoint=\"3650161223421865215\"]')\n",
       "            .innerHTML = '<strong>WebIO not detected.</strong>';\n",
       "    }\n",
       "    </script>\n",
       "</div>\n"
      ],
      "text/plain": [
       "Widget{:dataviewer,Any}(OrderedDict{Symbol,Any}(:x=>Widget{:dropdown,Any}(OrderedDict{Symbol,Any}(:options=>Observable{Any} with 6 listeners. Value:\n",
       "Symbol[:scenario, :policy, :updater, :n_episodes, :reward_mean, :reward_std, :steps_mean, :steps_std, :violations_mean, :violations_std, :time],:index=>Observable{Any} with 2 listeners. Value:\n",
       "Int64[]), Observable{Any} with 1 listeners. Value:\n",
       "Symbol[], Scope(\"knockout-component-31b4332e-3b2c-4354-8632-3bd1dca6d53f\", Node{DOM}(DOM(:html, :div), Any[Node{DOM}(DOM(:html, :select), Any[], Dict{Symbol,Any}(:attributes=>Dict{Union{String, Symbol},Any}(:multiple=>true,Symbol(\"data-bind\")=>\"options : options_js, selectedOptions : index, optionsText: 'key', optionsValue: 'val', valueAllowUnset: true, optionsAfterRender: disablePlaceholder\")), 0)], Dict{Symbol,Any}(:className=>\"select is-multiple \"), 1), Dict{String,Tuple{Observables.AbstractObservable,Union{Nothing, Bool}}}(\"options_js\"=>(Observable{Any} with 1 listeners. Value:\n",
       "OrderedDict[OrderedDict{String,Any}(\"key\"=>\"First axis\",\"val\"=>0,\"id\"=>\"idGaDoxVAB\"), OrderedDict{String,Any}(\"key\"=>\"scenario\",\"val\"=>1,\"id\"=>\"id7Zt060gn\"), OrderedDict{String,Any}(\"key\"=>\"policy\",\"val\"=>2,\"id\"=>\"idVFjnWUuf\"), OrderedDict{String,Any}(\"key\"=>\"updater\",\"val\"=>3,\"id\"=>\"idmUNioWL7\"), OrderedDict{String,Any}(\"key\"=>\"n_episodes\",\"val\"=>4,\"id\"=>\"idOXMF1Gir\"), OrderedDict{String,Any}(\"key\"=>\"reward_mean\",\"val\"=>5,\"id\"=>\"idTX11cadR\"), OrderedDict{String,Any}(\"key\"=>\"reward_std\",\"val\"=>6,\"id\"=>\"idsFEwUMlR\"), OrderedDict{String,Any}(\"key\"=>\"steps_mean\",\"val\"=>7,\"id\"=>\"idKRGm6OOd\"), OrderedDict{String,Any}(\"key\"=>\"steps_std\",\"val\"=>8,\"id\"=>\"idQzfLKFZV\"), OrderedDict{String,Any}(\"key\"=>\"violations_mean\",\"val\"=>9,\"id\"=>\"idiauLrJ2B\"), OrderedDict{String,Any}(\"key\"=>\"violations_std\",\"val\"=>10,\"id\"=>\"idPEzCWprG\"), OrderedDict{String,Any}(\"key\"=>\"time\",\"val\"=>11,\"id\"=>\"idXw8Tn1f5\")], nothing),\"index\"=>(Observable{Any} with 2 listeners. Value:\n",
       "Int64[], nothing)), Set(String[]), nothing, Any[\"knockout\"=>\"C:\\\\Users\\\\Maxime\\\\.julia\\\\packages\\\\Knockout\\\\JIqpG\\\\src\\\\..\\\\assets\\\\knockout.js\", \"knockout_punches\"=>\"C:\\\\Users\\\\Maxime\\\\.julia\\\\packages\\\\Knockout\\\\JIqpG\\\\src\\\\..\\\\assets\\\\knockout_punches.js\", \"C:\\\\Users\\\\Maxime\\\\.julia\\\\packages\\\\InteractBase\\\\Q4IkI\\\\src\\\\..\\\\assets\\\\all.js\", \"C:\\\\Users\\\\Maxime\\\\.julia\\\\packages\\\\InteractBase\\\\Q4IkI\\\\src\\\\..\\\\assets\\\\style.css\", \"C:\\\\Users\\\\Maxime\\\\.julia\\\\packages\\\\InteractBulma\\\\Ohu5Y\\\\src\\\\..\\\\assets\\\\main.css\"], Dict{Any,Any}(\"_promises\"=>Dict{Any,Any}(\"importsLoaded\"=>Any[JSString(\"function (ko, koPunches) {\\n    ko.punches.enableAll();\\n    ko.bindingHandlers.numericValue = {\\n        init : function(element, valueAccessor, allBindings, data, context) {\\n            var stringified = ko.observable(ko.unwrap(valueAccessor()));\\n            stringified.subscribe(function(value) {\\n                var val = parseFloat(value);\\n                if (!isNaN(val)) {\\n                    valueAccessor()(val);\\n                }\\n            })\\n            valueAccessor().subscribe(function(value) {\\n                var str = JSON.stringify(value);\\n                if ((str == \\\"0\\\") && ([\\\"-0\\\", \\\"-0.\\\"].indexOf(stringified()) >= 0))\\n                     return;\\n                 if ([\\\"null\\\", \\\"\\\"].indexOf(str) >= 0)\\n                     return;\\n                stringified(str);\\n            })\\n            ko.applyBindingsToNode(element, { value: stringified, valueUpdate: allBindings.get('valueUpdate')}, context);\\n        }\\n    };\\n    var json_data = JSON.parse(\\\"{\\\\\\\"options_js\\\\\\\":[{\\\\\\\"key\\\\\\\":\\\\\\\"First axis\\\\\\\",\\\\\\\"val\\\\\\\":0,\\\\\\\"id\\\\\\\":\\\\\\\"idGaDoxVAB\\\\\\\"},{\\\\\\\"key\\\\\\\":\\\\\\\"scenario\\\\\\\",\\\\\\\"val\\\\\\\":1,\\\\\\\"id\\\\\\\":\\\\\\\"id7Zt060gn\\\\\\\"},{\\\\\\\"key\\\\\\\":\\\\\\\"policy\\\\\\\",\\\\\\\"val\\\\\\\":2,\\\\\\\"id\\\\\\\":\\\\\\\"idVFjnWUuf\\\\\\\"},{\\\\\\\"key\\\\\\\":\\\\\\\"updater\\\\\\\",\\\\\\\"val\\\\\\\":3,\\\\\\\"id\\\\\\\":\\\\\\\"idmUNioWL7\\\\\\\"},{\\\\\\\"key\\\\\\\":\\\\\\\"n_episodes\\\\\\\",\\\\\\\"val\\\\\\\":4,\\\\\\\"id\\\\\\\":\\\\\\\"idOXMF1Gir\\\\\\\"},{\\\\\\\"key\\\\\\\":\\\\\\\"reward_mean\\\\\\\",\\\\\\\"val\\\\\\\":5,\\\\\\\"id\\\\\\\":\\\\\\\"idTX11cadR\\\\\\\"},{\\\\\\\"key\\\\\\\":\\\\\\\"reward_std\\\\\\\",\\\\\\\"val\\\\\\\":6,\\\\\\\"id\\\\\\\":\\\\\\\"idsFEwUMlR\\\\\\\"},{\\\\\\\"key\\\\\\\":\\\\\\\"steps_mean\\\\\\\",\\\\\\\"val\\\\\\\":7,\\\\\\\"id\\\\\\\":\\\\\\\"idKRGm6OOd\\\\\\\"},{\\\\\\\"key\\\\\\\":\\\\\\\"steps_std\\\\\\\",\\\\\\\"val\\\\\\\":8,\\\\\\\"id\\\\\\\":\\\\\\\"idQzfLKFZV\\\\\\\"},{\\\\\\\"key\\\\\\\":\\\\\\\"violations_mean\\\\\\\",\\\\\\\"val\\\\\\\":9,\\\\\\\"id\\\\\\\":\\\\\\\"idiauLrJ2B\\\\\\\"},{\\\\\\\"key\\\\\\\":\\\\\\\"violations_std\\\\\\\",\\\\\\\"val\\\\\\\":10,\\\\\\\"id\\\\\\\":\\\\\\\"idPEzCWprG\\\\\\\"},{\\\\\\\"key\\\\\\\":\\\\\\\"time\\\\\\\",\\\\\\\"val\\\\\\\":11,\\\\\\\"id\\\\\\\":\\\\\\\"idXw8Tn1f5\\\\\\\"}],\\\\\\\"index\\\\\\\":[]}\\\");\\n    var self = this;\\n    function AppViewModel() {\\n        for (var key in json_data) {\\n            var el = json_data[key];\\n            this[key] = Array.isArray(el) ? ko.observableArray(el) : ko.observable(el);\\n        }\\n        [this[\\\"disablePlaceholder\\\"]=function(option, item) {\\n    ko.applyBindingsToNode(option, {disable: item.val == 0}, item);\\n}\\n]\\n        \\n        [this[\\\"options_js\\\"].subscribe((function (val){!(this.valueFromJulia[\\\"options_js\\\"]) ? (_webIOScope.setObservableValue({\\\"name\\\":\\\"options_js\\\",\\\"scope\\\":\\\"knockout-component-31b4332e-3b2c-4354-8632-3bd1dca6d53f\\\",\\\"id\\\":\\\"ob_76\\\",\\\"type\\\":\\\"observable\\\"},val)) : undefined; return this.valueFromJulia[\\\"options_js\\\"]=false}),self),this[\\\"index\\\"].subscribe((function (val){!(this.valueFromJulia[\\\"index\\\"]) ? (_webIOScope.setObservableValue({\\\"name\\\":\\\"index\\\",\\\"scope\\\":\\\"knockout-component-31b4332e-3b2c-4354-8632-3bd1dca6d53f\\\",\\\"id\\\":\\\"ob_75\\\",\\\"type\\\":\\\"observable\\\"},val)) : undefined; return this.valueFromJulia[\\\"index\\\"]=false}),self)]\\n        \\n    }\\n    self.model = new AppViewModel();\\n    self.valueFromJulia = {};\\n    for (var key in json_data) {\\n        self.valueFromJulia[key] = false;\\n    }\\n    ko.applyBindings(self.model, self.dom);\\n}\\n\")]),\"options_js\"=>Any[JSString(\"(function (val){return (val!=this.model[\\\"options_js\\\"]()) ? (this.valueFromJulia[\\\"options_js\\\"]=true, this.model[\\\"options_js\\\"](val)) : undefined})\")],\"index\"=>Any[JSString(\"(function (val){return (val!=this.model[\\\"index\\\"]()) ? (this.valueFromJulia[\\\"index\\\"]=true, this.model[\\\"index\\\"](val)) : undefined})\")]), ConnectionPool(Channel{Any}(sz_max:9223372036854775807,sz_curr:0), Set(AbstractConnection[]), Channel{AbstractConnection}(sz_max:32,sz_curr:0))), ##52#53{#dom#13{##dom#11#12{Dict{Any,Any},DOM}},typeof(scope)}(#dom#13{##dom#11#12{Dict{Any,Any},DOM}}(##dom#11#12{Dict{Any,Any},DOM}(Dict{Any,Any}(:className=>\"field\"), DOM(:html, :div))), scope)),:y=>Widget{:dropdown,Any}(OrderedDict{Symbol,Any}(:options=>Observable{Any} with 6 listeners. Value:\n",
       "Symbol[:scenario, :policy, :updater, :n_episodes, :reward_mean, :reward_std, :steps_mean, :steps_std, :violations_mean, :violations_std, :time],:index=>Observable{Any} with 2 listeners. Value:\n",
       "Int64[]), Observable{Any} with 1 listeners. Value:\n",
       "Symbol[], Scope(\"knockout-component-5674e55e-ac12-4821-923c-536dff795d28\", Node{DOM}(DOM(:html, :div), Any[Node{DOM}(DOM(:html, :select), Any[], Dict{Symbol,Any}(:attributes=>Dict{Union{String, Symbol},Any}(:multiple=>true,Symbol(\"data-bind\")=>\"options : options_js, selectedOptions : index, optionsText: 'key', optionsValue: 'val', valueAllowUnset: true, optionsAfterRender: disablePlaceholder\")), 0)], Dict{Symbol,Any}(:className=>\"select is-multiple \"), 1), Dict{String,Tuple{Observables.AbstractObservable,Union{Nothing, Bool}}}(\"options_js\"=>(Observable{Any} with 1 listeners. Value:\n",
       "OrderedDict[OrderedDict{String,Any}(\"key\"=>\"Second axis\",\"val\"=>0,\"id\"=>\"id01MpN3fu\"), OrderedDict{String,Any}(\"key\"=>\"scenario\",\"val\"=>1,\"id\"=>\"idcYFklQOs\"), OrderedDict{String,Any}(\"key\"=>\"policy\",\"val\"=>2,\"id\"=>\"id2evWPTOb\"), OrderedDict{String,Any}(\"key\"=>\"updater\",\"val\"=>3,\"id\"=>\"idUvjKuwu7\"), OrderedDict{String,Any}(\"key\"=>\"n_episodes\",\"val\"=>4,\"id\"=>\"idXqHLiz82\"), OrderedDict{String,Any}(\"key\"=>\"reward_mean\",\"val\"=>5,\"id\"=>\"id1orl5ZW1\"), OrderedDict{String,Any}(\"key\"=>\"reward_std\",\"val\"=>6,\"id\"=>\"idcHJZRBrO\"), OrderedDict{String,Any}(\"key\"=>\"steps_mean\",\"val\"=>7,\"id\"=>\"idLjIxmgHV\"), OrderedDict{String,Any}(\"key\"=>\"steps_std\",\"val\"=>8,\"id\"=>\"idcp7QTykB\"), OrderedDict{String,Any}(\"key\"=>\"violations_mean\",\"val\"=>9,\"id\"=>\"idbA1ohQPF\"), OrderedDict{String,Any}(\"key\"=>\"violations_std\",\"val\"=>10,\"id\"=>\"idltPhqNqP\"), OrderedDict{String,Any}(\"key\"=>\"time\",\"val\"=>11,\"id\"=>\"idcJHlNY1h\")], nothing),\"index\"=>(Observable{Any} with 2 listeners. Value:\n",
       "Int64[], nothing)), Set(String[]), nothing, Any[\"knockout\"=>\"C:\\\\Users\\\\Maxime\\\\.julia\\\\packages\\\\Knockout\\\\JIqpG\\\\src\\\\..\\\\assets\\\\knockout.js\", \"knockout_punches\"=>\"C:\\\\Users\\\\Maxime\\\\.julia\\\\packages\\\\Knockout\\\\JIqpG\\\\src\\\\..\\\\assets\\\\knockout_punches.js\", \"C:\\\\Users\\\\Maxime\\\\.julia\\\\packages\\\\InteractBase\\\\Q4IkI\\\\src\\\\..\\\\assets\\\\all.js\", \"C:\\\\Users\\\\Maxime\\\\.julia\\\\packages\\\\InteractBase\\\\Q4IkI\\\\src\\\\..\\\\assets\\\\style.css\", \"C:\\\\Users\\\\Maxime\\\\.julia\\\\packages\\\\InteractBulma\\\\Ohu5Y\\\\src\\\\..\\\\assets\\\\main.css\"], Dict{Any,Any}(\"_promises\"=>Dict{Any,Any}(\"importsLoaded\"=>Any[JSString(\"function (ko, koPunches) {\\n    ko.punches.enableAll();\\n    ko.bindingHandlers.numericValue = {\\n        init : function(element, valueAccessor, allBindings, data, context) {\\n            var stringified = ko.observable(ko.unwrap(valueAccessor()));\\n            stringified.subscribe(function(value) {\\n                var val = parseFloat(value);\\n                if (!isNaN(val)) {\\n                    valueAccessor()(val);\\n                }\\n            })\\n            valueAccessor().subscribe(function(value) {\\n                var str = JSON.stringify(value);\\n                if ((str == \\\"0\\\") && ([\\\"-0\\\", \\\"-0.\\\"].indexOf(stringified()) >= 0))\\n                     return;\\n                 if ([\\\"null\\\", \\\"\\\"].indexOf(str) >= 0)\\n                     return;\\n                stringified(str);\\n            })\\n            ko.applyBindingsToNode(element, { value: stringified, valueUpdate: allBindings.get('valueUpdate')}, context);\\n        }\\n    };\\n    var json_data = JSON.parse(\\\"{\\\\\\\"options_js\\\\\\\":[{\\\\\\\"key\\\\\\\":\\\\\\\"Second axis\\\\\\\",\\\\\\\"val\\\\\\\":0,\\\\\\\"id\\\\\\\":\\\\\\\"id01MpN3fu\\\\\\\"},{\\\\\\\"key\\\\\\\":\\\\\\\"scenario\\\\\\\",\\\\\\\"val\\\\\\\":1,\\\\\\\"id\\\\\\\":\\\\\\\"idcYFklQOs\\\\\\\"},{\\\\\\\"key\\\\\\\":\\\\\\\"policy\\\\\\\",\\\\\\\"val\\\\\\\":2,\\\\\\\"id\\\\\\\":\\\\\\\"id2evWPTOb\\\\\\\"},{\\\\\\\"key\\\\\\\":\\\\\\\"updater\\\\\\\",\\\\\\\"val\\\\\\\":3,\\\\\\\"id\\\\\\\":\\\\\\\"idUvjKuwu7\\\\\\\"},{\\\\\\\"key\\\\\\\":\\\\\\\"n_episodes\\\\\\\",\\\\\\\"val\\\\\\\":4,\\\\\\\"id\\\\\\\":\\\\\\\"idXqHLiz82\\\\\\\"},{\\\\\\\"key\\\\\\\":\\\\\\\"reward_mean\\\\\\\",\\\\\\\"val\\\\\\\":5,\\\\\\\"id\\\\\\\":\\\\\\\"id1orl5ZW1\\\\\\\"},{\\\\\\\"key\\\\\\\":\\\\\\\"reward_std\\\\\\\",\\\\\\\"val\\\\\\\":6,\\\\\\\"id\\\\\\\":\\\\\\\"idcHJZRBrO\\\\\\\"},{\\\\\\\"key\\\\\\\":\\\\\\\"steps_mean\\\\\\\",\\\\\\\"val\\\\\\\":7,\\\\\\\"id\\\\\\\":\\\\\\\"idLjIxmgHV\\\\\\\"},{\\\\\\\"key\\\\\\\":\\\\\\\"steps_std\\\\\\\",\\\\\\\"val\\\\\\\":8,\\\\\\\"id\\\\\\\":\\\\\\\"idcp7QTykB\\\\\\\"},{\\\\\\\"key\\\\\\\":\\\\\\\"violations_mean\\\\\\\",\\\\\\\"val\\\\\\\":9,\\\\\\\"id\\\\\\\":\\\\\\\"idbA1ohQPF\\\\\\\"},{\\\\\\\"key\\\\\\\":\\\\\\\"violations_std\\\\\\\",\\\\\\\"val\\\\\\\":10,\\\\\\\"id\\\\\\\":\\\\\\\"idltPhqNqP\\\\\\\"},{\\\\\\\"key\\\\\\\":\\\\\\\"time\\\\\\\",\\\\\\\"val\\\\\\\":11,\\\\\\\"id\\\\\\\":\\\\\\\"idcJHlNY1h\\\\\\\"}],\\\\\\\"index\\\\\\\":[]}\\\");\\n    var self = this;\\n    function AppViewModel() {\\n        for (var key in json_data) {\\n            var el = json_data[key];\\n            this[key] = Array.isArray(el) ? ko.observableArray(el) : ko.observable(el);\\n        }\\n        [this[\\\"disablePlaceholder\\\"]=function(option, item) {\\n    ko.applyBindingsToNode(option, {disable: item.val == 0}, item);\\n}\\n]\\n        \\n        [this[\\\"options_js\\\"].subscribe((function (val){!(this.valueFromJulia[\\\"options_js\\\"]) ? (_webIOScope.setObservableValue({\\\"name\\\":\\\"options_js\\\",\\\"scope\\\":\\\"knockout-component-5674e55e-ac12-4821-923c-536dff795d28\\\",\\\"id\\\":\\\"ob_80\\\",\\\"type\\\":\\\"observable\\\"},val)) : undefined; return this.valueFromJulia[\\\"options_js\\\"]=false}),self),this[\\\"index\\\"].subscribe((function (val){!(this.valueFromJulia[\\\"index\\\"]) ? (_webIOScope.setObservableValue({\\\"name\\\":\\\"index\\\",\\\"scope\\\":\\\"knockout-component-5674e55e-ac12-4821-923c-536dff795d28\\\",\\\"id\\\":\\\"ob_79\\\",\\\"type\\\":\\\"observable\\\"},val)) : undefined; return this.valueFromJulia[\\\"index\\\"]=false}),self)]\\n        \\n    }\\n    self.model = new AppViewModel();\\n    self.valueFromJulia = {};\\n    for (var key in json_data) {\\n        self.valueFromJulia[key] = false;\\n    }\\n    ko.applyBindings(self.model, self.dom);\\n}\\n\")]),\"options_js\"=>Any[JSString(\"(function (val){return (val!=this.model[\\\"options_js\\\"]()) ? (this.valueFromJulia[\\\"options_js\\\"]=true, this.model[\\\"options_js\\\"](val)) : undefined})\")],\"index\"=>Any[JSString(\"(function (val){return (val!=this.model[\\\"index\\\"]()) ? (this.valueFromJulia[\\\"index\\\"]=true, this.model[\\\"index\\\"](val)) : undefined})\")]), ConnectionPool(Channel{Any}(sz_max:9223372036854775807,sz_curr:0), Set(AbstractConnection[]), Channel{AbstractConnection}(sz_max:32,sz_curr:0))), ##52#53{#dom#13{##dom#11#12{Dict{Any,Any},DOM}},typeof(scope)}(#dom#13{##dom#11#12{Dict{Any,Any},DOM}}(##dom#11#12{Dict{Any,Any},DOM}(Dict{Any,Any}(:className=>\"field\"), DOM(:html, :div))), scope)),:y_toggle=>Widget{:togglecontent,Bool}(OrderedDict{Symbol,Any}(:changes=>Observable{Int64} with 1 listeners. Value:\n",
       "0,:value=>Observable{Bool} with 1 listeners. Value:\n",
       "false), Observable{Bool} with 1 listeners. Value:\n",
       "false, Scope(\"knockout-component-45b51f1a-05ce-419d-b1c7-52a6142187d6\", Node{DOM}(DOM(:html, :div), Any[Node{DOM}(DOM(:html, :div), Any[Node{DOM}(DOM(:html, :input), Any[], Dict{Symbol,Any}(:attributes=>Dict{Any,Any}(:type=>\"checkbox\",Symbol(\"data-bind\")=>\"checked: value, valueUpdate: 'change', event: {change : function () {this.changes(this.changes()+1)}}\"),:id=>\"##384\",:className=>\"switch \",:style=>Dict{Any,Any}()), 0), Node{DOM}(DOM(:html, :label), Any[\"Second axis\"], Dict{Symbol,Any}(:attributes=>Dict(\"className\"=>\"\",\"for\"=>\"##384\")), 1)], Dict{Symbol,Any}(:className=>\"field\"), 3), Node{DOM}(DOM(:html, :div), Any[Widget{:dropdown,Any}(OrderedDict{Symbol,Any}(:options=>Observable{Any} with 6 listeners. Value:\n",
       "Symbol[:scenario, :policy, :updater, :n_episodes, :reward_mean, :reward_std, :steps_mean, :steps_std, :violations_mean, :violations_std, :time],:index=>Observable{Any} with 2 listeners. Value:\n",
       "Int64[]), Observable{Any} with 1 listeners. Value:\n",
       "Symbol[], Scope(\"knockout-component-5674e55e-ac12-4821-923c-536dff795d28\", Node{DOM}(DOM(:html, :div), Any[Node{DOM}(DOM(:html, :select), Any[], Dict{Symbol,Any}(:attributes=>Dict{Union{String, Symbol},Any}(:multiple=>true,Symbol(\"data-bind\")=>\"options : options_js, selectedOptions : index, optionsText: 'key', optionsValue: 'val', valueAllowUnset: true, optionsAfterRender: disablePlaceholder\")), 0)], Dict{Symbol,Any}(:className=>\"select is-multiple \"), 1), Dict{String,Tuple{Observables.AbstractObservable,Union{Nothing, Bool}}}(\"options_js\"=>(Observable{Any} with 1 listeners. Value:\n",
       "OrderedDict[OrderedDict{String,Any}(\"key\"=>\"Second axis\",\"val\"=>0,\"id\"=>\"id01MpN3fu\"), OrderedDict{String,Any}(\"key\"=>\"scenario\",\"val\"=>1,\"id\"=>\"idcYFklQOs\"), OrderedDict{String,Any}(\"key\"=>\"policy\",\"val\"=>2,\"id\"=>\"id2evWPTOb\"), OrderedDict{String,Any}(\"key\"=>\"updater\",\"val\"=>3,\"id\"=>\"idUvjKuwu7\"), OrderedDict{String,Any}(\"key\"=>\"n_episodes\",\"val\"=>4,\"id\"=>\"idXqHLiz82\"), OrderedDict{String,Any}(\"key\"=>\"reward_mean\",\"val\"=>5,\"id\"=>\"id1orl5ZW1\"), OrderedDict{String,Any}(\"key\"=>\"reward_std\",\"val\"=>6,\"id\"=>\"idcHJZRBrO\"), OrderedDict{String,Any}(\"key\"=>\"steps_mean\",\"val\"=>7,\"id\"=>\"idLjIxmgHV\"), OrderedDict{String,Any}(\"key\"=>\"steps_std\",\"val\"=>8,\"id\"=>\"idcp7QTykB\"), OrderedDict{String,Any}(\"key\"=>\"violations_mean\",\"val\"=>9,\"id\"=>\"idbA1ohQPF\"), OrderedDict{String,Any}(\"key\"=>\"violations_std\",\"val\"=>10,\"id\"=>\"idltPhqNqP\"), OrderedDict{String,Any}(\"key\"=>\"time\",\"val\"=>11,\"id\"=>\"idcJHlNY1h\")], nothing),\"index\"=>(Observable{Any} with 2 listeners. Value:\n",
       "Int64[], nothing)), Set(String[]), nothing, Any[\"knockout\"=>\"C:\\\\Users\\\\Maxime\\\\.julia\\\\packages\\\\Knockout\\\\JIqpG\\\\src\\\\..\\\\assets\\\\knockout.js\", \"knockout_punches\"=>\"C:\\\\Users\\\\Maxime\\\\.julia\\\\packages\\\\Knockout\\\\JIqpG\\\\src\\\\..\\\\assets\\\\knockout_punches.js\", \"C:\\\\Users\\\\Maxime\\\\.julia\\\\packages\\\\InteractBase\\\\Q4IkI\\\\src\\\\..\\\\assets\\\\all.js\", \"C:\\\\Users\\\\Maxime\\\\.julia\\\\packages\\\\InteractBase\\\\Q4IkI\\\\src\\\\..\\\\assets\\\\style.css\", \"C:\\\\Users\\\\Maxime\\\\.julia\\\\packages\\\\InteractBulma\\\\Ohu5Y\\\\src\\\\..\\\\assets\\\\main.css\"], Dict{Any,Any}(\"_promises\"=>Dict{Any,Any}(\"importsLoaded\"=>Any[JSString(\"function (ko, koPunches) {\\n    ko.punches.enableAll();\\n    ko.bindingHandlers.numericValue = {\\n        init : function(element, valueAccessor, allBindings, data, context) {\\n            var stringified = ko.observable(ko.unwrap(valueAccessor()));\\n            stringified.subscribe(function(value) {\\n                var val = parseFloat(value);\\n                if (!isNaN(val)) {\\n                    valueAccessor()(val);\\n                }\\n            })\\n            valueAccessor().subscribe(function(value) {\\n                var str = JSON.stringify(value);\\n                if ((str == \\\"0\\\") && ([\\\"-0\\\", \\\"-0.\\\"].indexOf(stringified()) >= 0))\\n                     return;\\n                 if ([\\\"null\\\", \\\"\\\"].indexOf(str) >= 0)\\n                     return;\\n                stringified(str);\\n            })\\n            ko.applyBindingsToNode(element, { value: stringified, valueUpdate: allBindings.get('valueUpdate')}, context);\\n        }\\n    };\\n    var json_data = JSON.parse(\\\"{\\\\\\\"options_js\\\\\\\":[{\\\\\\\"key\\\\\\\":\\\\\\\"Second axis\\\\\\\",\\\\\\\"val\\\\\\\":0,\\\\\\\"id\\\\\\\":\\\\\\\"id01MpN3fu\\\\\\\"},{\\\\\\\"key\\\\\\\":\\\\\\\"scenario\\\\\\\",\\\\\\\"val\\\\\\\":1,\\\\\\\"id\\\\\\\":\\\\\\\"idcYFklQOs\\\\\\\"},{\\\\\\\"key\\\\\\\":\\\\\\\"policy\\\\\\\",\\\\\\\"val\\\\\\\":2,\\\\\\\"id\\\\\\\":\\\\\\\"id2evWPTOb\\\\\\\"},{\\\\\\\"key\\\\\\\":\\\\\\\"updater\\\\\\\",\\\\\\\"val\\\\\\\":3,\\\\\\\"id\\\\\\\":\\\\\\\"idUvjKuwu7\\\\\\\"},{\\\\\\\"key\\\\\\\":\\\\\\\"n_episodes\\\\\\\",\\\\\\\"val\\\\\\\":4,\\\\\\\"id\\\\\\\":\\\\\\\"idXqHLiz82\\\\\\\"},{\\\\\\\"key\\\\\\\":\\\\\\\"reward_mean\\\\\\\",\\\\\\\"val\\\\\\\":5,\\\\\\\"id\\\\\\\":\\\\\\\"id1orl5ZW1\\\\\\\"},{\\\\\\\"key\\\\\\\":\\\\\\\"reward_std\\\\\\\",\\\\\\\"val\\\\\\\":6,\\\\\\\"id\\\\\\\":\\\\\\\"idcHJZRBrO\\\\\\\"},{\\\\\\\"key\\\\\\\":\\\\\\\"steps_mean\\\\\\\",\\\\\\\"val\\\\\\\":7,\\\\\\\"id\\\\\\\":\\\\\\\"idLjIxmgHV\\\\\\\"},{\\\\\\\"key\\\\\\\":\\\\\\\"steps_std\\\\\\\",\\\\\\\"val\\\\\\\":8,\\\\\\\"id\\\\\\\":\\\\\\\"idcp7QTykB\\\\\\\"},{\\\\\\\"key\\\\\\\":\\\\\\\"violations_mean\\\\\\\",\\\\\\\"val\\\\\\\":9,\\\\\\\"id\\\\\\\":\\\\\\\"idbA1ohQPF\\\\\\\"},{\\\\\\\"key\\\\\\\":\\\\\\\"violations_std\\\\\\\",\\\\\\\"val\\\\\\\":10,\\\\\\\"id\\\\\\\":\\\\\\\"idltPhqNqP\\\\\\\"},{\\\\\\\"key\\\\\\\":\\\\\\\"time\\\\\\\",\\\\\\\"val\\\\\\\":11,\\\\\\\"id\\\\\\\":\\\\\\\"idcJHlNY1h\\\\\\\"}],\\\\\\\"index\\\\\\\":[]}\\\");\\n    var self = this;\\n    function AppViewModel() {\\n        for (var key in json_data) {\\n            var el = json_data[key];\\n            this[key] = Array.isArray(el) ? ko.observableArray(el) : ko.observable(el);\\n        }\\n        [this[\\\"disablePlaceholder\\\"]=function(option, item) {\\n    ko.applyBindingsToNode(option, {disable: item.val == 0}, item);\\n}\\n]\\n        \\n        [this[\\\"options_js\\\"].subscribe((function (val){!(this.valueFromJulia[\\\"options_js\\\"]) ? (_webIOScope.setObservableValue({\\\"name\\\":\\\"options_js\\\",\\\"scope\\\":\\\"knockout-component-5674e55e-ac12-4821-923c-536dff795d28\\\",\\\"id\\\":\\\"ob_80\\\",\\\"type\\\":\\\"observable\\\"},val)) : undefined; return this.valueFromJulia[\\\"options_js\\\"]=false}),self),this[\\\"index\\\"].subscribe((function (val){!(this.valueFromJulia[\\\"index\\\"]) ? (_webIOScope.setObservableValue({\\\"name\\\":\\\"index\\\",\\\"scope\\\":\\\"knockout-component-5674e55e-ac12-4821-923c-536dff795d28\\\",\\\"id\\\":\\\"ob_79\\\",\\\"type\\\":\\\"observable\\\"},val)) : undefined; return this.valueFromJulia[\\\"index\\\"]=false}),self)]\\n        \\n    }\\n    self.model = new AppViewModel();\\n    self.valueFromJulia = {};\\n    for (var key in json_data) {\\n        self.valueFromJulia[key] = false;\\n    }\\n    ko.applyBindings(self.model, self.dom);\\n}\\n\")]),\"options_js\"=>Any[JSString(\"(function (val){return (val!=this.model[\\\"options_js\\\"]()) ? (this.valueFromJulia[\\\"options_js\\\"]=true, this.model[\\\"options_js\\\"](val)) : undefined})\")],\"index\"=>Any[JSString(\"(function (val){return (val!=this.model[\\\"index\\\"]()) ? (this.valueFromJulia[\\\"index\\\"]=true, this.model[\\\"index\\\"](val)) : undefined})\")]), ConnectionPool(Channel{Any}(sz_max:9223372036854775807,sz_curr:0), Set(AbstractConnection[]), Channel{AbstractConnection}(sz_max:32,sz_curr:0))), ##52#53{#dom#13{##dom#11#12{Dict{Any,Any},DOM}},typeof(scope)}(#dom#13{##dom#11#12{Dict{Any,Any},DOM}}(##dom#11#12{Dict{Any,Any},DOM}(Dict{Any,Any}(:className=>\"field\"), DOM(:html, :div))), scope))], Dict{Symbol,Any}(:attributes=>Dict(\"data-bind\"=>\"visible: value\")), 1)], Dict{Symbol,Any}(:style=>Dict(\"display\"=>\"flex\",\"flex-direction\"=>\"column\")), 6), Dict{String,Tuple{Observables.AbstractObservable,Union{Nothing, Bool}}}(\"changes\"=>(Observable{Int64} with 1 listeners. Value:\n",
       "0, nothing),\"value\"=>(Observable{Bool} with 1 listeners. Value:\n",
       "false, nothing)), Set(String[]), nothing, Any[\"knockout\"=>\"C:\\\\Users\\\\Maxime\\\\.julia\\\\packages\\\\Knockout\\\\JIqpG\\\\src\\\\..\\\\assets\\\\knockout.js\", \"knockout_punches\"=>\"C:\\\\Users\\\\Maxime\\\\.julia\\\\packages\\\\Knockout\\\\JIqpG\\\\src\\\\..\\\\assets\\\\knockout_punches.js\", \"C:\\\\Users\\\\Maxime\\\\.julia\\\\packages\\\\InteractBase\\\\Q4IkI\\\\src\\\\..\\\\assets\\\\all.js\", \"C:\\\\Users\\\\Maxime\\\\.julia\\\\packages\\\\InteractBase\\\\Q4IkI\\\\src\\\\..\\\\assets\\\\style.css\", \"C:\\\\Users\\\\Maxime\\\\.julia\\\\packages\\\\InteractBulma\\\\Ohu5Y\\\\src\\\\..\\\\assets\\\\main.css\"], Dict{Any,Any}(\"_promises\"=>Dict{Any,Any}(\"importsLoaded\"=>Any[JSString(\"function (ko, koPunches) {\\n    ko.punches.enableAll();\\n    ko.bindingHandlers.numericValue = {\\n        init : function(element, valueAccessor, allBindings, data, context) {\\n            var stringified = ko.observable(ko.unwrap(valueAccessor()));\\n            stringified.subscribe(function(value) {\\n                var val = parseFloat(value);\\n                if (!isNaN(val)) {\\n                    valueAccessor()(val);\\n                }\\n            })\\n            valueAccessor().subscribe(function(value) {\\n                var str = JSON.stringify(value);\\n                if ((str == \\\"0\\\") && ([\\\"-0\\\", \\\"-0.\\\"].indexOf(stringified()) >= 0))\\n                     return;\\n                 if ([\\\"null\\\", \\\"\\\"].indexOf(str) >= 0)\\n                     return;\\n                stringified(str);\\n            })\\n            ko.applyBindingsToNode(element, { value: stringified, valueUpdate: allBindings.get('valueUpdate')}, context);\\n        }\\n    };\\n    var json_data = JSON.parse(\\\"{\\\\\\\"changes\\\\\\\":0,\\\\\\\"value\\\\\\\":false}\\\");\\n    var self = this;\\n    function AppViewModel() {\\n        for (var key in json_data) {\\n            var el = json_data[key];\\n            this[key] = Array.isArray(el) ? ko.observableArray(el) : ko.observable(el);\\n        }\\n        \\n        \\n        [this[\\\"changes\\\"].subscribe((function (val){!(this.valueFromJulia[\\\"changes\\\"]) ? (_webIOScope.setObservableValue({\\\"name\\\":\\\"changes\\\",\\\"scope\\\":\\\"knockout-component-45b51f1a-05ce-419d-b1c7-52a6142187d6\\\",\\\"id\\\":\\\"ob_82\\\",\\\"type\\\":\\\"observable\\\"},val)) : undefined; return this.valueFromJulia[\\\"changes\\\"]=false}),self),this[\\\"value\\\"].subscribe((function (val){!(this.valueFromJulia[\\\"value\\\"]) ? (_webIOScope.setObservableValue({\\\"name\\\":\\\"value\\\",\\\"scope\\\":\\\"knockout-component-45b51f1a-05ce-419d-b1c7-52a6142187d6\\\",\\\"id\\\":\\\"ob_81\\\",\\\"type\\\":\\\"observable\\\"},val)) : undefined; return this.valueFromJulia[\\\"value\\\"]=false}),self)]\\n        \\n    }\\n    self.model = new AppViewModel();\\n    self.valueFromJulia = {};\\n    for (var key in json_data) {\\n        self.valueFromJulia[key] = false;\\n    }\\n    ko.applyBindings(self.model, self.dom);\\n}\\n\")]),\"changes\"=>Any[JSString(\"(function (val){return (val!=this.model[\\\"changes\\\"]()) ? (this.valueFromJulia[\\\"changes\\\"]=true, this.model[\\\"changes\\\"](val)) : undefined})\")],\"value\"=>Any[JSString(\"(function (val){return (val!=this.model[\\\"value\\\"]()) ? (this.valueFromJulia[\\\"value\\\"]=true, this.model[\\\"value\\\"](val)) : undefined})\")]), ConnectionPool(Channel{Any}(sz_max:9223372036854775807,sz_curr:0), Set(AbstractConnection[]), Channel{AbstractConnection}(sz_max:32,sz_curr:0))), ##52#53{#dom#13{##dom#11#12{Dict{Any,Any},DOM}},typeof(scope)}(#dom#13{##dom#11#12{Dict{Any,Any},DOM}}(##dom#11#12{Dict{Any,Any},DOM}(Dict{Any,Any}(:className=>\"field\"), DOM(:html, :div))), scope)),:by=>Widget{:dropdown,Any}(OrderedDict{Symbol,Any}(:options=>Observable{Any} with 6 listeners. Value:\n",
       "Symbol[:scenario, :policy, :updater, :n_episodes, :reward_mean, :reward_std, :steps_mean, :steps_std, :violations_mean, :violations_std, :time],:index=>Observable{Any} with 2 listeners. Value:\n",
       "Int64[]), Observable{Any} with 1 listeners. Value:\n",
       "Symbol[], Scope(\"knockout-component-f2b985f5-0308-4d7b-9236-36490ef98188\", Node{DOM}(DOM(:html, :div), Any[Node{DOM}(DOM(:html, :select), Any[], Dict{Symbol,Any}(:attributes=>Dict{Union{String, Symbol},Any}(:multiple=>true,Symbol(\"data-bind\")=>\"options : options_js, selectedOptions : index, optionsText: 'key', optionsValue: 'val', valueAllowUnset: true, optionsAfterRender: disablePlaceholder\")), 0)], Dict{Symbol,Any}(:className=>\"select is-multiple \"), 1), Dict{String,Tuple{Observables.AbstractObservable,Union{Nothing, Bool}}}(\"options_js\"=>(Observable{Any} with 1 listeners. Value:\n",
       "OrderedDict[OrderedDict{String,Any}(\"key\"=>\"Group by\",\"val\"=>0,\"id\"=>\"idfuNa1rnv\"), OrderedDict{String,Any}(\"key\"=>\"scenario\",\"val\"=>1,\"id\"=>\"idIWlLL5Xo\"), OrderedDict{String,Any}(\"key\"=>\"policy\",\"val\"=>2,\"id\"=>\"id9r62HLsf\"), OrderedDict{String,Any}(\"key\"=>\"updater\",\"val\"=>3,\"id\"=>\"idr4wHcF65\"), OrderedDict{String,Any}(\"key\"=>\"n_episodes\",\"val\"=>4,\"id\"=>\"id7jfpkRBB\"), OrderedDict{String,Any}(\"key\"=>\"reward_mean\",\"val\"=>5,\"id\"=>\"idGxiRK1Pd\"), OrderedDict{String,Any}(\"key\"=>\"reward_std\",\"val\"=>6,\"id\"=>\"idMQ5cTb20\"), OrderedDict{String,Any}(\"key\"=>\"steps_mean\",\"val\"=>7,\"id\"=>\"id9uZZ2rBz\"), OrderedDict{String,Any}(\"key\"=>\"steps_std\",\"val\"=>8,\"id\"=>\"idasc26trD\"), OrderedDict{String,Any}(\"key\"=>\"violations_mean\",\"val\"=>9,\"id\"=>\"id7onSGAil\"), OrderedDict{String,Any}(\"key\"=>\"violations_std\",\"val\"=>10,\"id\"=>\"idBapWpAQ5\"), OrderedDict{String,Any}(\"key\"=>\"time\",\"val\"=>11,\"id\"=>\"idKr8rk0EM\")], nothing),\"index\"=>(Observable{Any} with 2 listeners. Value:\n",
       "Int64[], nothing)), Set(String[]), nothing, Any[\"knockout\"=>\"C:\\\\Users\\\\Maxime\\\\.julia\\\\packages\\\\Knockout\\\\JIqpG\\\\src\\\\..\\\\assets\\\\knockout.js\", \"knockout_punches\"=>\"C:\\\\Users\\\\Maxime\\\\.julia\\\\packages\\\\Knockout\\\\JIqpG\\\\src\\\\..\\\\assets\\\\knockout_punches.js\", \"C:\\\\Users\\\\Maxime\\\\.julia\\\\packages\\\\InteractBase\\\\Q4IkI\\\\src\\\\..\\\\assets\\\\all.js\", \"C:\\\\Users\\\\Maxime\\\\.julia\\\\packages\\\\InteractBase\\\\Q4IkI\\\\src\\\\..\\\\assets\\\\style.css\", \"C:\\\\Users\\\\Maxime\\\\.julia\\\\packages\\\\InteractBulma\\\\Ohu5Y\\\\src\\\\..\\\\assets\\\\main.css\"], Dict{Any,Any}(\"_promises\"=>Dict{Any,Any}(\"importsLoaded\"=>Any[JSString(\"function (ko, koPunches) {\\n    ko.punches.enableAll();\\n    ko.bindingHandlers.numericValue = {\\n        init : function(element, valueAccessor, allBindings, data, context) {\\n            var stringified = ko.observable(ko.unwrap(valueAccessor()));\\n            stringified.subscribe(function(value) {\\n                var val = parseFloat(value);\\n                if (!isNaN(val)) {\\n                    valueAccessor()(val);\\n                }\\n            })\\n            valueAccessor().subscribe(function(value) {\\n                var str = JSON.stringify(value);\\n                if ((str == \\\"0\\\") && ([\\\"-0\\\", \\\"-0.\\\"].indexOf(stringified()) >= 0))\\n                     return;\\n                 if ([\\\"null\\\", \\\"\\\"].indexOf(str) >= 0)\\n                     return;\\n                stringified(str);\\n            })\\n            ko.applyBindingsToNode(element, { value: stringified, valueUpdate: allBindings.get('valueUpdate')}, context);\\n        }\\n    };\\n    var json_data = JSON.parse(\\\"{\\\\\\\"options_js\\\\\\\":[{\\\\\\\"key\\\\\\\":\\\\\\\"Group by\\\\\\\",\\\\\\\"val\\\\\\\":0,\\\\\\\"id\\\\\\\":\\\\\\\"idfuNa1rnv\\\\\\\"},{\\\\\\\"key\\\\\\\":\\\\\\\"scenario\\\\\\\",\\\\\\\"val\\\\\\\":1,\\\\\\\"id\\\\\\\":\\\\\\\"idIWlLL5Xo\\\\\\\"},{\\\\\\\"key\\\\\\\":\\\\\\\"policy\\\\\\\",\\\\\\\"val\\\\\\\":2,\\\\\\\"id\\\\\\\":\\\\\\\"id9r62HLsf\\\\\\\"},{\\\\\\\"key\\\\\\\":\\\\\\\"updater\\\\\\\",\\\\\\\"val\\\\\\\":3,\\\\\\\"id\\\\\\\":\\\\\\\"idr4wHcF65\\\\\\\"},{\\\\\\\"key\\\\\\\":\\\\\\\"n_episodes\\\\\\\",\\\\\\\"val\\\\\\\":4,\\\\\\\"id\\\\\\\":\\\\\\\"id7jfpkRBB\\\\\\\"},{\\\\\\\"key\\\\\\\":\\\\\\\"reward_mean\\\\\\\",\\\\\\\"val\\\\\\\":5,\\\\\\\"id\\\\\\\":\\\\\\\"idGxiRK1Pd\\\\\\\"},{\\\\\\\"key\\\\\\\":\\\\\\\"reward_std\\\\\\\",\\\\\\\"val\\\\\\\":6,\\\\\\\"id\\\\\\\":\\\\\\\"idMQ5cTb20\\\\\\\"},{\\\\\\\"key\\\\\\\":\\\\\\\"steps_mean\\\\\\\",\\\\\\\"val\\\\\\\":7,\\\\\\\"id\\\\\\\":\\\\\\\"id9uZZ2rBz\\\\\\\"},{\\\\\\\"key\\\\\\\":\\\\\\\"steps_std\\\\\\\",\\\\\\\"val\\\\\\\":8,\\\\\\\"id\\\\\\\":\\\\\\\"idasc26trD\\\\\\\"},{\\\\\\\"key\\\\\\\":\\\\\\\"violations_mean\\\\\\\",\\\\\\\"val\\\\\\\":9,\\\\\\\"id\\\\\\\":\\\\\\\"id7onSGAil\\\\\\\"},{\\\\\\\"key\\\\\\\":\\\\\\\"violations_std\\\\\\\",\\\\\\\"val\\\\\\\":10,\\\\\\\"id\\\\\\\":\\\\\\\"idBapWpAQ5\\\\\\\"},{\\\\\\\"key\\\\\\\":\\\\\\\"time\\\\\\\",\\\\\\\"val\\\\\\\":11,\\\\\\\"id\\\\\\\":\\\\\\\"idKr8rk0EM\\\\\\\"}],\\\\\\\"index\\\\\\\":[]}\\\");\\n    var self = this;\\n    function AppViewModel() {\\n        for (var key in json_data) {\\n            var el = json_data[key];\\n            this[key] = Array.isArray(el) ? ko.observableArray(el) : ko.observable(el);\\n        }\\n        [this[\\\"disablePlaceholder\\\"]=function(option, item) {\\n    ko.applyBindingsToNode(option, {disable: item.val == 0}, item);\\n}\\n]\\n        \\n        [this[\\\"options_js\\\"].subscribe((function (val){!(this.valueFromJulia[\\\"options_js\\\"]) ? (_webIOScope.setObservableValue({\\\"name\\\":\\\"options_js\\\",\\\"scope\\\":\\\"knockout-component-f2b985f5-0308-4d7b-9236-36490ef98188\\\",\\\"id\\\":\\\"ob_96\\\",\\\"type\\\":\\\"observable\\\"},val)) : undefined; return this.valueFromJulia[\\\"options_js\\\"]=false}),self),this[\\\"index\\\"].subscribe((function (val){!(this.valueFromJulia[\\\"index\\\"]) ? (_webIOScope.setObservableValue({\\\"name\\\":\\\"index\\\",\\\"scope\\\":\\\"knockout-component-f2b985f5-0308-4d7b-9236-36490ef98188\\\",\\\"id\\\":\\\"ob_95\\\",\\\"type\\\":\\\"observable\\\"},val)) : undefined; return this.valueFromJulia[\\\"index\\\"]=false}),self)]\\n        \\n    }\\n    self.model = new AppViewModel();\\n    self.valueFromJulia = {};\\n    for (var key in json_data) {\\n        self.valueFromJulia[key] = false;\\n    }\\n    ko.applyBindings(self.model, self.dom);\\n}\\n\")]),\"options_js\"=>Any[JSString(\"(function (val){return (val!=this.model[\\\"options_js\\\"]()) ? (this.valueFromJulia[\\\"options_js\\\"]=true, this.model[\\\"options_js\\\"](val)) : undefined})\")],\"index\"=>Any[JSString(\"(function (val){return (val!=this.model[\\\"index\\\"]()) ? (this.valueFromJulia[\\\"index\\\"]=true, this.model[\\\"index\\\"](val)) : undefined})\")]), ConnectionPool(Channel{Any}(sz_max:9223372036854775807,sz_curr:0), Set(AbstractConnection[]), Channel{AbstractConnection}(sz_max:32,sz_curr:0))), ##52#53{#dom#13{##dom#11#12{Dict{Any,Any},DOM}},typeof(scope)}(#dom#13{##dom#11#12{Dict{Any,Any},DOM}}(##dom#11#12{Dict{Any,Any},DOM}(Dict{Any,Any}(:className=>\"field\"), DOM(:html, :div))), scope)),:by_toggle=>Widget{:togglecontent,Bool}(OrderedDict{Symbol,Any}(:changes=>Observable{Int64} with 1 listeners. Value:\n",
       "0,:value=>Observable{Bool} with 1 listeners. Value:\n",
       "false), Observable{Bool} with 1 listeners. Value:\n",
       "false, Scope(\"knockout-component-dab2be09-9cb6-40ae-b9c1-f8abb1705e93\", Node{DOM}(DOM(:html, :div), Any[Node{DOM}(DOM(:html, :div), Any[Node{DOM}(DOM(:html, :input), Any[], Dict{Symbol,Any}(:attributes=>Dict{Any,Any}(:type=>\"checkbox\",Symbol(\"data-bind\")=>\"checked: value, valueUpdate: 'change', event: {change : function () {this.changes(this.changes()+1)}}\"),:id=>\"##385\",:className=>\"switch \",:style=>Dict{Any,Any}()), 0), Node{DOM}(DOM(:html, :label), Any[\"Split data\"], Dict{Symbol,Any}(:attributes=>Dict(\"className\"=>\"\",\"for\"=>\"##385\")), 1)], Dict{Symbol,Any}(:className=>\"field\"), 3), Node{DOM}(DOM(:html, :div), Any[Widget{:dropdown,Any}(OrderedDict{Symbol,Any}(:options=>Observable{Any} with 6 listeners. Value:\n",
       "Symbol[:scenario, :policy, :updater, :n_episodes, :reward_mean, :reward_std, :steps_mean, :steps_std, :violations_mean, :violations_std, :time],:index=>Observable{Any} with 2 listeners. Value:\n",
       "Int64[]), Observable{Any} with 1 listeners. Value:\n",
       "Symbol[], Scope(\"knockout-component-f2b985f5-0308-4d7b-9236-36490ef98188\", Node{DOM}(DOM(:html, :div), Any[Node{DOM}(DOM(:html, :select), Any[], Dict{Symbol,Any}(:attributes=>Dict{Union{String, Symbol},Any}(:multiple=>true,Symbol(\"data-bind\")=>\"options : options_js, selectedOptions : index, optionsText: 'key', optionsValue: 'val', valueAllowUnset: true, optionsAfterRender: disablePlaceholder\")), 0)], Dict{Symbol,Any}(:className=>\"select is-multiple \"), 1), Dict{String,Tuple{Observables.AbstractObservable,Union{Nothing, Bool}}}(\"options_js\"=>(Observable{Any} with 1 listeners. Value:\n",
       "OrderedDict[OrderedDict{String,Any}(\"key\"=>\"Group by\",\"val\"=>0,\"id\"=>\"idfuNa1rnv\"), OrderedDict{String,Any}(\"key\"=>\"scenario\",\"val\"=>1,\"id\"=>\"idIWlLL5Xo\"), OrderedDict{String,Any}(\"key\"=>\"policy\",\"val\"=>2,\"id\"=>\"id9r62HLsf\"), OrderedDict{String,Any}(\"key\"=>\"updater\",\"val\"=>3,\"id\"=>\"idr4wHcF65\"), OrderedDict{String,Any}(\"key\"=>\"n_episodes\",\"val\"=>4,\"id\"=>\"id7jfpkRBB\"), OrderedDict{String,Any}(\"key\"=>\"reward_mean\",\"val\"=>5,\"id\"=>\"idGxiRK1Pd\"), OrderedDict{String,Any}(\"key\"=>\"reward_std\",\"val\"=>6,\"id\"=>\"idMQ5cTb20\"), OrderedDict{String,Any}(\"key\"=>\"steps_mean\",\"val\"=>7,\"id\"=>\"id9uZZ2rBz\"), OrderedDict{String,Any}(\"key\"=>\"steps_std\",\"val\"=>8,\"id\"=>\"idasc26trD\"), OrderedDict{String,Any}(\"key\"=>\"violations_mean\",\"val\"=>9,\"id\"=>\"id7onSGAil\"), OrderedDict{String,Any}(\"key\"=>\"violations_std\",\"val\"=>10,\"id\"=>\"idBapWpAQ5\"), OrderedDict{String,Any}(\"key\"=>\"time\",\"val\"=>11,\"id\"=>\"idKr8rk0EM\")], nothing),\"index\"=>(Observable{Any} with 2 listeners. Value:\n",
       "Int64[], nothing)), Set(String[]), nothing, Any[\"knockout\"=>\"C:\\\\Users\\\\Maxime\\\\.julia\\\\packages\\\\Knockout\\\\JIqpG\\\\src\\\\..\\\\assets\\\\knockout.js\", \"knockout_punches\"=>\"C:\\\\Users\\\\Maxime\\\\.julia\\\\packages\\\\Knockout\\\\JIqpG\\\\src\\\\..\\\\assets\\\\knockout_punches.js\", \"C:\\\\Users\\\\Maxime\\\\.julia\\\\packages\\\\InteractBase\\\\Q4IkI\\\\src\\\\..\\\\assets\\\\all.js\", \"C:\\\\Users\\\\Maxime\\\\.julia\\\\packages\\\\InteractBase\\\\Q4IkI\\\\src\\\\..\\\\assets\\\\style.css\", \"C:\\\\Users\\\\Maxime\\\\.julia\\\\packages\\\\InteractBulma\\\\Ohu5Y\\\\src\\\\..\\\\assets\\\\main.css\"], Dict{Any,Any}(\"_promises\"=>Dict{Any,Any}(\"importsLoaded\"=>Any[JSString(\"function (ko, koPunches) {\\n    ko.punches.enableAll();\\n    ko.bindingHandlers.numericValue = {\\n        init : function(element, valueAccessor, allBindings, data, context) {\\n            var stringified = ko.observable(ko.unwrap(valueAccessor()));\\n            stringified.subscribe(function(value) {\\n                var val = parseFloat(value);\\n                if (!isNaN(val)) {\\n                    valueAccessor()(val);\\n                }\\n            })\\n            valueAccessor().subscribe(function(value) {\\n                var str = JSON.stringify(value);\\n                if ((str == \\\"0\\\") && ([\\\"-0\\\", \\\"-0.\\\"].indexOf(stringified()) >= 0))\\n                     return;\\n                 if ([\\\"null\\\", \\\"\\\"].indexOf(str) >= 0)\\n                     return;\\n                stringified(str);\\n            })\\n            ko.applyBindingsToNode(element, { value: stringified, valueUpdate: allBindings.get('valueUpdate')}, context);\\n        }\\n    };\\n    var json_data = JSON.parse(\\\"{\\\\\\\"options_js\\\\\\\":[{\\\\\\\"key\\\\\\\":\\\\\\\"Group by\\\\\\\",\\\\\\\"val\\\\\\\":0,\\\\\\\"id\\\\\\\":\\\\\\\"idfuNa1rnv\\\\\\\"},{\\\\\\\"key\\\\\\\":\\\\\\\"scenario\\\\\\\",\\\\\\\"val\\\\\\\":1,\\\\\\\"id\\\\\\\":\\\\\\\"idIWlLL5Xo\\\\\\\"},{\\\\\\\"key\\\\\\\":\\\\\\\"policy\\\\\\\",\\\\\\\"val\\\\\\\":2,\\\\\\\"id\\\\\\\":\\\\\\\"id9r62HLsf\\\\\\\"},{\\\\\\\"key\\\\\\\":\\\\\\\"updater\\\\\\\",\\\\\\\"val\\\\\\\":3,\\\\\\\"id\\\\\\\":\\\\\\\"idr4wHcF65\\\\\\\"},{\\\\\\\"key\\\\\\\":\\\\\\\"n_episodes\\\\\\\",\\\\\\\"val\\\\\\\":4,\\\\\\\"id\\\\\\\":\\\\\\\"id7jfpkRBB\\\\\\\"},{\\\\\\\"key\\\\\\\":\\\\\\\"reward_mean\\\\\\\",\\\\\\\"val\\\\\\\":5,\\\\\\\"id\\\\\\\":\\\\\\\"idGxiRK1Pd\\\\\\\"},{\\\\\\\"key\\\\\\\":\\\\\\\"reward_std\\\\\\\",\\\\\\\"val\\\\\\\":6,\\\\\\\"id\\\\\\\":\\\\\\\"idMQ5cTb20\\\\\\\"},{\\\\\\\"key\\\\\\\":\\\\\\\"steps_mean\\\\\\\",\\\\\\\"val\\\\\\\":7,\\\\\\\"id\\\\\\\":\\\\\\\"id9uZZ2rBz\\\\\\\"},{\\\\\\\"key\\\\\\\":\\\\\\\"steps_std\\\\\\\",\\\\\\\"val\\\\\\\":8,\\\\\\\"id\\\\\\\":\\\\\\\"idasc26trD\\\\\\\"},{\\\\\\\"key\\\\\\\":\\\\\\\"violations_mean\\\\\\\",\\\\\\\"val\\\\\\\":9,\\\\\\\"id\\\\\\\":\\\\\\\"id7onSGAil\\\\\\\"},{\\\\\\\"key\\\\\\\":\\\\\\\"violations_std\\\\\\\",\\\\\\\"val\\\\\\\":10,\\\\\\\"id\\\\\\\":\\\\\\\"idBapWpAQ5\\\\\\\"},{\\\\\\\"key\\\\\\\":\\\\\\\"time\\\\\\\",\\\\\\\"val\\\\\\\":11,\\\\\\\"id\\\\\\\":\\\\\\\"idKr8rk0EM\\\\\\\"}],\\\\\\\"index\\\\\\\":[]}\\\");\\n    var self = this;\\n    function AppViewModel() {\\n        for (var key in json_data) {\\n            var el = json_data[key];\\n            this[key] = Array.isArray(el) ? ko.observableArray(el) : ko.observable(el);\\n        }\\n        [this[\\\"disablePlaceholder\\\"]=function(option, item) {\\n    ko.applyBindingsToNode(option, {disable: item.val == 0}, item);\\n}\\n]\\n        \\n        [this[\\\"options_js\\\"].subscribe((function (val){!(this.valueFromJulia[\\\"options_js\\\"]) ? (_webIOScope.setObservableValue({\\\"name\\\":\\\"options_js\\\",\\\"scope\\\":\\\"knockout-component-f2b985f5-0308-4d7b-9236-36490ef98188\\\",\\\"id\\\":\\\"ob_96\\\",\\\"type\\\":\\\"observable\\\"},val)) : undefined; return this.valueFromJulia[\\\"options_js\\\"]=false}),self),this[\\\"index\\\"].subscribe((function (val){!(this.valueFromJulia[\\\"index\\\"]) ? (_webIOScope.setObservableValue({\\\"name\\\":\\\"index\\\",\\\"scope\\\":\\\"knockout-component-f2b985f5-0308-4d7b-9236-36490ef98188\\\",\\\"id\\\":\\\"ob_95\\\",\\\"type\\\":\\\"observable\\\"},val)) : undefined; return this.valueFromJulia[\\\"index\\\"]=false}),self)]\\n        \\n    }\\n    self.model = new AppViewModel();\\n    self.valueFromJulia = {};\\n    for (var key in json_data) {\\n        self.valueFromJulia[key] = false;\\n    }\\n    ko.applyBindings(self.model, self.dom);\\n}\\n\")]),\"options_js\"=>Any[JSString(\"(function (val){return (val!=this.model[\\\"options_js\\\"]()) ? (this.valueFromJulia[\\\"options_js\\\"]=true, this.model[\\\"options_js\\\"](val)) : undefined})\")],\"index\"=>Any[JSString(\"(function (val){return (val!=this.model[\\\"index\\\"]()) ? (this.valueFromJulia[\\\"index\\\"]=true, this.model[\\\"index\\\"](val)) : undefined})\")]), ConnectionPool(Channel{Any}(sz_max:9223372036854775807,sz_curr:0), Set(AbstractConnection[]), Channel{AbstractConnection}(sz_max:32,sz_curr:0))), ##52#53{#dom#13{##dom#11#12{Dict{Any,Any},DOM}},typeof(scope)}(#dom#13{##dom#11#12{Dict{Any,Any},DOM}}(##dom#11#12{Dict{Any,Any},DOM}(Dict{Any,Any}(:className=>\"field\"), DOM(:html, :div))), scope))], Dict{Symbol,Any}(:attributes=>Dict(\"data-bind\"=>\"visible: value\")), 1)], Dict{Symbol,Any}(:style=>Dict(\"display\"=>\"flex\",\"flex-direction\"=>\"column\")), 6), Dict{String,Tuple{Observables.AbstractObservable,Union{Nothing, Bool}}}(\"changes\"=>(Observable{Int64} with 1 listeners. Value:\n",
       "0, nothing),\"value\"=>(Observable{Bool} with 1 listeners. Value:\n",
       "false, nothing)), Set(String[]), nothing, Any[\"knockout\"=>\"C:\\\\Users\\\\Maxime\\\\.julia\\\\packages\\\\Knockout\\\\JIqpG\\\\src\\\\..\\\\assets\\\\knockout.js\", \"knockout_punches\"=>\"C:\\\\Users\\\\Maxime\\\\.julia\\\\packages\\\\Knockout\\\\JIqpG\\\\src\\\\..\\\\assets\\\\knockout_punches.js\", \"C:\\\\Users\\\\Maxime\\\\.julia\\\\packages\\\\InteractBase\\\\Q4IkI\\\\src\\\\..\\\\assets\\\\all.js\", \"C:\\\\Users\\\\Maxime\\\\.julia\\\\packages\\\\InteractBase\\\\Q4IkI\\\\src\\\\..\\\\assets\\\\style.css\", \"C:\\\\Users\\\\Maxime\\\\.julia\\\\packages\\\\InteractBulma\\\\Ohu5Y\\\\src\\\\..\\\\assets\\\\main.css\"], Dict{Any,Any}(\"_promises\"=>Dict{Any,Any}(\"importsLoaded\"=>Any[JSString(\"function (ko, koPunches) {\\n    ko.punches.enableAll();\\n    ko.bindingHandlers.numericValue = {\\n        init : function(element, valueAccessor, allBindings, data, context) {\\n            var stringified = ko.observable(ko.unwrap(valueAccessor()));\\n            stringified.subscribe(function(value) {\\n                var val = parseFloat(value);\\n                if (!isNaN(val)) {\\n                    valueAccessor()(val);\\n                }\\n            })\\n            valueAccessor().subscribe(function(value) {\\n                var str = JSON.stringify(value);\\n                if ((str == \\\"0\\\") && ([\\\"-0\\\", \\\"-0.\\\"].indexOf(stringified()) >= 0))\\n                     return;\\n                 if ([\\\"null\\\", \\\"\\\"].indexOf(str) >= 0)\\n                     return;\\n                stringified(str);\\n            })\\n            ko.applyBindingsToNode(element, { value: stringified, valueUpdate: allBindings.get('valueUpdate')}, context);\\n        }\\n    };\\n    var json_data = JSON.parse(\\\"{\\\\\\\"changes\\\\\\\":0,\\\\\\\"value\\\\\\\":false}\\\");\\n    var self = this;\\n    function AppViewModel() {\\n        for (var key in json_data) {\\n            var el = json_data[key];\\n            this[key] = Array.isArray(el) ? ko.observableArray(el) : ko.observable(el);\\n        }\\n        \\n        \\n        [this[\\\"changes\\\"].subscribe((function (val){!(this.valueFromJulia[\\\"changes\\\"]) ? (_webIOScope.setObservableValue({\\\"name\\\":\\\"changes\\\",\\\"scope\\\":\\\"knockout-component-dab2be09-9cb6-40ae-b9c1-f8abb1705e93\\\",\\\"id\\\":\\\"ob_98\\\",\\\"type\\\":\\\"observable\\\"},val)) : undefined; return this.valueFromJulia[\\\"changes\\\"]=false}),self),this[\\\"value\\\"].subscribe((function (val){!(this.valueFromJulia[\\\"value\\\"]) ? (_webIOScope.setObservableValue({\\\"name\\\":\\\"value\\\",\\\"scope\\\":\\\"knockout-component-dab2be09-9cb6-40ae-b9c1-f8abb1705e93\\\",\\\"id\\\":\\\"ob_97\\\",\\\"type\\\":\\\"observable\\\"},val)) : undefined; return this.valueFromJulia[\\\"value\\\"]=false}),self)]\\n        \\n    }\\n    self.model = new AppViewModel();\\n    self.valueFromJulia = {};\\n    for (var key in json_data) {\\n        self.valueFromJulia[key] = false;\\n    }\\n    ko.applyBindings(self.model, self.dom);\\n}\\n\")]),\"changes\"=>Any[JSString(\"(function (val){return (val!=this.model[\\\"changes\\\"]()) ? (this.valueFromJulia[\\\"changes\\\"]=true, this.model[\\\"changes\\\"](val)) : undefined})\")],\"value\"=>Any[JSString(\"(function (val){return (val!=this.model[\\\"value\\\"]()) ? (this.valueFromJulia[\\\"value\\\"]=true, this.model[\\\"value\\\"](val)) : undefined})\")]), ConnectionPool(Channel{Any}(sz_max:9223372036854775807,sz_curr:0), Set(AbstractConnection[]), Channel{AbstractConnection}(sz_max:32,sz_curr:0))), ##52#53{#dom#13{##dom#11#12{Dict{Any,Any},DOM}},typeof(scope)}(#dom#13{##dom#11#12{Dict{Any,Any},DOM}}(##dom#11#12{Dict{Any,Any},DOM}(Dict{Any,Any}(:className=>\"field\"), DOM(:html, :div))), scope)),:plot_type=>Widget{:dropdown,Any}(OrderedDict{Symbol,Any}(:options=>Observable{Any} with 2 listeners. Value:\n",
       "OrderedDict{String,Any}(\"line\"=>plot,\"scatter\"=>scatter,\"bar\"=>groupedbar,\"boxplot\"=>boxplot,\"corrplot\"=>corrplot,\"cornerplot\"=>cornerplot,\"density\"=>density,\"histogram\"=>histogram,\"marginalhist\"=>marginalhist,\"violin\"=>violin…),:index=>Observable{Any} with 2 listeners. Value:\n",
       "1), Observable{Any} with 2 listeners. Value:\n",
       "plot, Scope(\"knockout-component-77bb00ec-815d-4986-bd28-f2ff1d06e971\", Node{DOM}(DOM(:html, :div), Any[Node{DOM}(DOM(:html, :select), Any[], Dict{Symbol,Any}(:attributes=>Dict{Union{String, Symbol},Any}(Symbol(\"data-bind\")=>\"options : options_js, value : index, optionsText: 'key', optionsValue: 'val', valueAllowUnset: true, optionsAfterRender: disablePlaceholder\")), 0)], Dict{Symbol,Any}(:className=>\"select \"), 1), Dict{String,Tuple{Observables.AbstractObservable,Union{Nothing, Bool}}}(\"options_js\"=>(Observable{Any} with 1 listeners. Value:\n",
       "OrderedDict[OrderedDict{String,Any}(\"key\"=>\"Plot type\",\"val\"=>0,\"id\"=>\"idnOJzzT0W\"), OrderedDict{String,Any}(\"key\"=>\"line\",\"val\"=>1,\"id\"=>\"idJwyQctRl\"), OrderedDict{String,Any}(\"key\"=>\"scatter\",\"val\"=>2,\"id\"=>\"id0Jf8fbTr\"), OrderedDict{String,Any}(\"key\"=>\"bar\",\"val\"=>3,\"id\"=>\"idz12JEpuu\"), OrderedDict{String,Any}(\"key\"=>\"boxplot\",\"val\"=>4,\"id\"=>\"id6mtrgkCZ\"), OrderedDict{String,Any}(\"key\"=>\"corrplot\",\"val\"=>5,\"id\"=>\"id5H7pM0eg\"), OrderedDict{String,Any}(\"key\"=>\"cornerplot\",\"val\"=>6,\"id\"=>\"idbSHPwNQ6\"), OrderedDict{String,Any}(\"key\"=>\"density\",\"val\"=>7,\"id\"=>\"idlIeBNiar\"), OrderedDict{String,Any}(\"key\"=>\"histogram\",\"val\"=>8,\"id\"=>\"idMH7RszWi\"), OrderedDict{String,Any}(\"key\"=>\"marginalhist\",\"val\"=>9,\"id\"=>\"idb9ygoZgY\"), OrderedDict{String,Any}(\"key\"=>\"violin\",\"val\"=>10,\"id\"=>\"idLyfDDfvd\")], nothing),\"index\"=>(Observable{Any} with 2 listeners. Value:\n",
       "1, nothing)), Set(String[]), nothing, Any[\"knockout\"=>\"C:\\\\Users\\\\Maxime\\\\.julia\\\\packages\\\\Knockout\\\\JIqpG\\\\src\\\\..\\\\assets\\\\knockout.js\", \"knockout_punches\"=>\"C:\\\\Users\\\\Maxime\\\\.julia\\\\packages\\\\Knockout\\\\JIqpG\\\\src\\\\..\\\\assets\\\\knockout_punches.js\", \"C:\\\\Users\\\\Maxime\\\\.julia\\\\packages\\\\InteractBase\\\\Q4IkI\\\\src\\\\..\\\\assets\\\\all.js\", \"C:\\\\Users\\\\Maxime\\\\.julia\\\\packages\\\\InteractBase\\\\Q4IkI\\\\src\\\\..\\\\assets\\\\style.css\", \"C:\\\\Users\\\\Maxime\\\\.julia\\\\packages\\\\InteractBulma\\\\Ohu5Y\\\\src\\\\..\\\\assets\\\\main.css\"], Dict{Any,Any}(\"_promises\"=>Dict{Any,Any}(\"importsLoaded\"=>Any[JSString(\"function (ko, koPunches) {\\n    ko.punches.enableAll();\\n    ko.bindingHandlers.numericValue = {\\n        init : function(element, valueAccessor, allBindings, data, context) {\\n            var stringified = ko.observable(ko.unwrap(valueAccessor()));\\n            stringified.subscribe(function(value) {\\n                var val = parseFloat(value);\\n                if (!isNaN(val)) {\\n                    valueAccessor()(val);\\n                }\\n            })\\n            valueAccessor().subscribe(function(value) {\\n                var str = JSON.stringify(value);\\n                if ((str == \\\"0\\\") && ([\\\"-0\\\", \\\"-0.\\\"].indexOf(stringified()) >= 0))\\n                     return;\\n                 if ([\\\"null\\\", \\\"\\\"].indexOf(str) >= 0)\\n                     return;\\n                stringified(str);\\n            })\\n            ko.applyBindingsToNode(element, { value: stringified, valueUpdate: allBindings.get('valueUpdate')}, context);\\n        }\\n    };\\n    var json_data = JSON.parse(\\\"{\\\\\\\"options_js\\\\\\\":[{\\\\\\\"key\\\\\\\":\\\\\\\"Plot type\\\\\\\",\\\\\\\"val\\\\\\\":0,\\\\\\\"id\\\\\\\":\\\\\\\"idnOJzzT0W\\\\\\\"},{\\\\\\\"key\\\\\\\":\\\\\\\"line\\\\\\\",\\\\\\\"val\\\\\\\":1,\\\\\\\"id\\\\\\\":\\\\\\\"idJwyQctRl\\\\\\\"},{\\\\\\\"key\\\\\\\":\\\\\\\"scatter\\\\\\\",\\\\\\\"val\\\\\\\":2,\\\\\\\"id\\\\\\\":\\\\\\\"id0Jf8fbTr\\\\\\\"},{\\\\\\\"key\\\\\\\":\\\\\\\"bar\\\\\\\",\\\\\\\"val\\\\\\\":3,\\\\\\\"id\\\\\\\":\\\\\\\"idz12JEpuu\\\\\\\"},{\\\\\\\"key\\\\\\\":\\\\\\\"boxplot\\\\\\\",\\\\\\\"val\\\\\\\":4,\\\\\\\"id\\\\\\\":\\\\\\\"id6mtrgkCZ\\\\\\\"},{\\\\\\\"key\\\\\\\":\\\\\\\"corrplot\\\\\\\",\\\\\\\"val\\\\\\\":5,\\\\\\\"id\\\\\\\":\\\\\\\"id5H7pM0eg\\\\\\\"},{\\\\\\\"key\\\\\\\":\\\\\\\"cornerplot\\\\\\\",\\\\\\\"val\\\\\\\":6,\\\\\\\"id\\\\\\\":\\\\\\\"idbSHPwNQ6\\\\\\\"},{\\\\\\\"key\\\\\\\":\\\\\\\"density\\\\\\\",\\\\\\\"val\\\\\\\":7,\\\\\\\"id\\\\\\\":\\\\\\\"idlIeBNiar\\\\\\\"},{\\\\\\\"key\\\\\\\":\\\\\\\"histogram\\\\\\\",\\\\\\\"val\\\\\\\":8,\\\\\\\"id\\\\\\\":\\\\\\\"idMH7RszWi\\\\\\\"},{\\\\\\\"key\\\\\\\":\\\\\\\"marginalhist\\\\\\\",\\\\\\\"val\\\\\\\":9,\\\\\\\"id\\\\\\\":\\\\\\\"idb9ygoZgY\\\\\\\"},{\\\\\\\"key\\\\\\\":\\\\\\\"violin\\\\\\\",\\\\\\\"val\\\\\\\":10,\\\\\\\"id\\\\\\\":\\\\\\\"idLyfDDfvd\\\\\\\"}],\\\\\\\"index\\\\\\\":1}\\\");\\n    var self = this;\\n    function AppViewModel() {\\n        for (var key in json_data) {\\n            var el = json_data[key];\\n            this[key] = Array.isArray(el) ? ko.observableArray(el) : ko.observable(el);\\n        }\\n        [this[\\\"disablePlaceholder\\\"]=function(option, item) {\\n    ko.applyBindingsToNode(option, {disable: item.val == 0}, item);\\n}\\n]\\n        \\n        [this[\\\"options_js\\\"].subscribe((function (val){!(this.valueFromJulia[\\\"options_js\\\"]) ? (_webIOScope.setObservableValue({\\\"name\\\":\\\"options_js\\\",\\\"scope\\\":\\\"knockout-component-77bb00ec-815d-4986-bd28-f2ff1d06e971\\\",\\\"id\\\":\\\"ob_87\\\",\\\"type\\\":\\\"observable\\\"},val)) : undefined; return this.valueFromJulia[\\\"options_js\\\"]=false}),self),this[\\\"index\\\"].subscribe((function (val){!(this.valueFromJulia[\\\"index\\\"]) ? (_webIOScope.setObservableValue({\\\"name\\\":\\\"index\\\",\\\"scope\\\":\\\"knockout-component-77bb00ec-815d-4986-bd28-f2ff1d06e971\\\",\\\"id\\\":\\\"ob_86\\\",\\\"type\\\":\\\"observable\\\"},val)) : undefined; return this.valueFromJulia[\\\"index\\\"]=false}),self)]\\n        \\n    }\\n    self.model = new AppViewModel();\\n    self.valueFromJulia = {};\\n    for (var key in json_data) {\\n        self.valueFromJulia[key] = false;\\n    }\\n    ko.applyBindings(self.model, self.dom);\\n}\\n\")]),\"options_js\"=>Any[JSString(\"(function (val){return (val!=this.model[\\\"options_js\\\"]()) ? (this.valueFromJulia[\\\"options_js\\\"]=true, this.model[\\\"options_js\\\"](val)) : undefined})\")],\"index\"=>Any[JSString(\"(function (val){return (val!=this.model[\\\"index\\\"]()) ? (this.valueFromJulia[\\\"index\\\"]=true, this.model[\\\"index\\\"](val)) : undefined})\")]), ConnectionPool(Channel{Any}(sz_max:9223372036854775807,sz_curr:0), Set(AbstractConnection[]), Channel{AbstractConnection}(sz_max:32,sz_curr:0))), ##52#53{#dom#13{##dom#11#12{Dict{Any,Any},DOM}},typeof(scope)}(#dom#13{##dom#11#12{Dict{Any,Any},DOM}}(##dom#11#12{Dict{Any,Any},DOM}(Dict{Any,Any}(:className=>\"field\"), DOM(:html, :div))), scope)),:plot_button=>Widget{:button,Int64}(OrderedDict{Symbol,Any}(), Observable{Int64} with 2 listeners. Value:\n",
       "0, Scope(\"knockout-component-59b707ee-a0c0-4544-8903-984474c44991\", Node{DOM}(DOM(:html, :button), Any[\"plot\"], Dict{Symbol,Any}(:attributes=>Dict{Any,Any}(\"data-bind\"=>\"click : function () {this.clicks(this.clicks()+1)}\"),:className=>\"button is-primary\",:style=>Dict{String,Any}()), 1), Dict{String,Tuple{Observables.AbstractObservable,Union{Nothing, Bool}}}(\"clicks\"=>(Observable{Int64} with 2 listeners. Value:\n",
       "0, nothing)), Set(String[]), nothing, Any[\"knockout\"=>\"C:\\\\Users\\\\Maxime\\\\.julia\\\\packages\\\\Knockout\\\\JIqpG\\\\src\\\\..\\\\assets\\\\knockout.js\", \"knockout_punches\"=>\"C:\\\\Users\\\\Maxime\\\\.julia\\\\packages\\\\Knockout\\\\JIqpG\\\\src\\\\..\\\\assets\\\\knockout_punches.js\", \"C:\\\\Users\\\\Maxime\\\\.julia\\\\packages\\\\InteractBase\\\\Q4IkI\\\\src\\\\..\\\\assets\\\\all.js\", \"C:\\\\Users\\\\Maxime\\\\.julia\\\\packages\\\\InteractBase\\\\Q4IkI\\\\src\\\\..\\\\assets\\\\style.css\", \"C:\\\\Users\\\\Maxime\\\\.julia\\\\packages\\\\InteractBulma\\\\Ohu5Y\\\\src\\\\..\\\\assets\\\\main.css\"], Dict{Any,Any}(\"_promises\"=>Dict{Any,Any}(\"importsLoaded\"=>Any[JSString(\"function (ko, koPunches) {\\n    ko.punches.enableAll();\\n    ko.bindingHandlers.numericValue = {\\n        init : function(element, valueAccessor, allBindings, data, context) {\\n            var stringified = ko.observable(ko.unwrap(valueAccessor()));\\n            stringified.subscribe(function(value) {\\n                var val = parseFloat(value);\\n                if (!isNaN(val)) {\\n                    valueAccessor()(val);\\n                }\\n            })\\n            valueAccessor().subscribe(function(value) {\\n                var str = JSON.stringify(value);\\n                if ((str == \\\"0\\\") && ([\\\"-0\\\", \\\"-0.\\\"].indexOf(stringified()) >= 0))\\n                     return;\\n                 if ([\\\"null\\\", \\\"\\\"].indexOf(str) >= 0)\\n                     return;\\n                stringified(str);\\n            })\\n            ko.applyBindingsToNode(element, { value: stringified, valueUpdate: allBindings.get('valueUpdate')}, context);\\n        }\\n    };\\n    var json_data = JSON.parse(\\\"{\\\\\\\"clicks\\\\\\\":0}\\\");\\n    var self = this;\\n    function AppViewModel() {\\n        for (var key in json_data) {\\n            var el = json_data[key];\\n            this[key] = Array.isArray(el) ? ko.observableArray(el) : ko.observable(el);\\n        }\\n        \\n        \\n        [this[\\\"clicks\\\"].subscribe((function (val){!(this.valueFromJulia[\\\"clicks\\\"]) ? (_webIOScope.setObservableValue({\\\"name\\\":\\\"clicks\\\",\\\"scope\\\":\\\"knockout-component-59b707ee-a0c0-4544-8903-984474c44991\\\",\\\"id\\\":\\\"ob_99\\\",\\\"type\\\":\\\"observable\\\"},val)) : undefined; return this.valueFromJulia[\\\"clicks\\\"]=false}),self)]\\n        \\n    }\\n    self.model = new AppViewModel();\\n    self.valueFromJulia = {};\\n    for (var key in json_data) {\\n        self.valueFromJulia[key] = false;\\n    }\\n    ko.applyBindings(self.model, self.dom);\\n}\\n\")]),\"clicks\"=>Any[JSString(\"(function (val){return (val!=this.model[\\\"clicks\\\"]()) ? (this.valueFromJulia[\\\"clicks\\\"]=true, this.model[\\\"clicks\\\"](val)) : undefined})\")]), ConnectionPool(Channel{Any}(sz_max:9223372036854775807,sz_curr:0), Set(AbstractConnection[]), Channel{AbstractConnection}(sz_max:32,sz_curr:0))), ##52#53{#dom#13{##dom#11#12{Dict{Any,Any},DOM}},typeof(scope)}(#dom#13{##dom#11#12{Dict{Any,Any},DOM}}(##dom#11#12{Dict{Any,Any},DOM}(Dict{Any,Any}(:className=>\"field\"), DOM(:html, :div))), scope)),:nbins=>Widget{:slider,Int64}(OrderedDict{Symbol,Any}(:changes=>Observable{Int64} with 1 listeners. Value:\n",
       "0,:value=>Observable{Int64} with 2 listeners. Value:\n",
       "30,:display=>Observable{Any} with 1 listeners. Value:\n",
       "\"none\"), Observable{Int64} with 2 listeners. Value:\n",
       "30, Scope(\"knockout-component-293382db-fb20-407c-8b71-d54de5d53a9f\", Node{DOM}(DOM(:html, :div), Any[Node{DOM}(DOM(:html, :div), Any[Node{DOM}(DOM(:html, :div), Any[Node{DOM}(DOM(:html, :label), Any[\"number of bins\"], Dict{Symbol,Any}(:className=>\"interact \",:style=>Dict{Any,Any}(:padding=>\"5px 10px 0px 10px\")), 1)], Dict{Symbol,Any}(:attributes=>Dict(\"style\"=>\"text-align:right;width:18%\")), 2), Node{DOM}(DOM(:html, :div), Any[Node{DOM}(DOM(:html, :input), Any[], Dict{Symbol,Any}(:max=>100,:min=>1,:attributes=>Dict{Any,Any}(:type=>\"range\",Symbol(\"data-bind\")=>\"numericValue: value, valueUpdate: 'input', event: {change : function () {this.changes(this.changes()+1)}}\",\"orient\"=>\"horizontal\"),:step=>1,:className=>\"slider slider is-fullwidth\",:style=>Dict{Any,Any}()), 0)], Dict{Symbol,Any}(:attributes=>Dict(\"style\"=>\"flex-grow:1; margin: 0 2%\")), 1), Node{DOM}(DOM(:html, :div), Any[Node{DOM}(DOM(:html, :p), Any[], Dict{Symbol,Any}(:attributes=>Dict(\"data-bind\"=>\"text: value\")), 0)], Dict{Symbol,Any}(:attributes=>Dict(\"style\"=>\"width:18%\")), 1)], Dict{Symbol,Any}(:attributes=>Dict(\"style\"=>\"display:flex; justify-content:center; align-items:center;\")), 7)], Dict{Symbol,Any}(:attributes=>Dict(\"data-bind\"=>\"style: {display: display}\")), 8), Dict{String,Tuple{Observables.AbstractObservable,Union{Nothing, Bool}}}(\"display\"=>(Observable{Any} with 1 listeners. Value:\n",
       "\"none\", nothing),\"changes\"=>(Observable{Int64} with 1 listeners. Value:\n",
       "0, nothing),\"value\"=>(Observable{Int64} with 2 listeners. Value:\n",
       "30, nothing)), Set(String[]), nothing, Any[\"knockout\"=>\"C:\\\\Users\\\\Maxime\\\\.julia\\\\packages\\\\Knockout\\\\JIqpG\\\\src\\\\..\\\\assets\\\\knockout.js\", \"knockout_punches\"=>\"C:\\\\Users\\\\Maxime\\\\.julia\\\\packages\\\\Knockout\\\\JIqpG\\\\src\\\\..\\\\assets\\\\knockout_punches.js\", \"C:\\\\Users\\\\Maxime\\\\.julia\\\\packages\\\\InteractBase\\\\Q4IkI\\\\src\\\\..\\\\assets\\\\all.js\", \"C:\\\\Users\\\\Maxime\\\\.julia\\\\packages\\\\InteractBase\\\\Q4IkI\\\\src\\\\..\\\\assets\\\\style.css\", \"C:\\\\Users\\\\Maxime\\\\.julia\\\\packages\\\\InteractBulma\\\\Ohu5Y\\\\src\\\\..\\\\assets\\\\main.css\"], Dict{Any,Any}(\"_promises\"=>Dict{Any,Any}(\"importsLoaded\"=>Any[JSString(\"function (ko, koPunches) {\\n    ko.punches.enableAll();\\n    ko.bindingHandlers.numericValue = {\\n        init : function(element, valueAccessor, allBindings, data, context) {\\n            var stringified = ko.observable(ko.unwrap(valueAccessor()));\\n            stringified.subscribe(function(value) {\\n                var val = parseFloat(value);\\n                if (!isNaN(val)) {\\n                    valueAccessor()(val);\\n                }\\n            })\\n            valueAccessor().subscribe(function(value) {\\n                var str = JSON.stringify(value);\\n                if ((str == \\\"0\\\") && ([\\\"-0\\\", \\\"-0.\\\"].indexOf(stringified()) >= 0))\\n                     return;\\n                 if ([\\\"null\\\", \\\"\\\"].indexOf(str) >= 0)\\n                     return;\\n                stringified(str);\\n            })\\n            ko.applyBindingsToNode(element, { value: stringified, valueUpdate: allBindings.get('valueUpdate')}, context);\\n        }\\n    };\\n    var json_data = JSON.parse(\\\"{\\\\\\\"display\\\\\\\":\\\\\\\"none\\\\\\\",\\\\\\\"changes\\\\\\\":0,\\\\\\\"value\\\\\\\":30}\\\");\\n    var self = this;\\n    function AppViewModel() {\\n        for (var key in json_data) {\\n            var el = json_data[key];\\n            this[key] = Array.isArray(el) ? ko.observableArray(el) : ko.observable(el);\\n        }\\n        \\n        \\n        [this[\\\"display\\\"].subscribe((function (val){!(this.valueFromJulia[\\\"display\\\"]) ? (_webIOScope.setObservableValue({\\\"name\\\":\\\"display\\\",\\\"scope\\\":\\\"knockout-component-293382db-fb20-407c-8b71-d54de5d53a9f\\\",\\\"id\\\":\\\"ob_88\\\",\\\"type\\\":\\\"observable\\\"},val)) : undefined; return this.valueFromJulia[\\\"display\\\"]=false}),self),this[\\\"changes\\\"].subscribe((function (val){!(this.valueFromJulia[\\\"changes\\\"]) ? (_webIOScope.setObservableValue({\\\"name\\\":\\\"changes\\\",\\\"scope\\\":\\\"knockout-component-293382db-fb20-407c-8b71-d54de5d53a9f\\\",\\\"id\\\":\\\"ob_90\\\",\\\"type\\\":\\\"observable\\\"},val)) : undefined; return this.valueFromJulia[\\\"changes\\\"]=false}),self),this[\\\"value\\\"].subscribe((function (val){!(this.valueFromJulia[\\\"value\\\"]) ? (_webIOScope.setObservableValue({\\\"name\\\":\\\"value\\\",\\\"scope\\\":\\\"knockout-component-293382db-fb20-407c-8b71-d54de5d53a9f\\\",\\\"id\\\":\\\"ob_89\\\",\\\"type\\\":\\\"observable\\\"},val)) : undefined; return this.valueFromJulia[\\\"value\\\"]=false}),self)]\\n        \\n    }\\n    self.model = new AppViewModel();\\n    self.valueFromJulia = {};\\n    for (var key in json_data) {\\n        self.valueFromJulia[key] = false;\\n    }\\n    ko.applyBindings(self.model, self.dom);\\n}\\n\")]),\"display\"=>Any[JSString(\"(function (val){return (val!=this.model[\\\"display\\\"]()) ? (this.valueFromJulia[\\\"display\\\"]=true, this.model[\\\"display\\\"](val)) : undefined})\")],\"changes\"=>Any[JSString(\"(function (val){return (val!=this.model[\\\"changes\\\"]()) ? (this.valueFromJulia[\\\"changes\\\"]=true, this.model[\\\"changes\\\"](val)) : undefined})\")],\"value\"=>Any[JSString(\"(function (val){return (val!=this.model[\\\"value\\\"]()) ? (this.valueFromJulia[\\\"value\\\"]=true, this.model[\\\"value\\\"](val)) : undefined})\")]), ConnectionPool(Channel{Any}(sz_max:9223372036854775807,sz_curr:0), Set(AbstractConnection[]), Channel{AbstractConnection}(sz_max:32,sz_curr:0))), ##52#53{#dom#13{##dom#11#12{Dict{Any,Any},DOM}},typeof(scope)}(#dom#13{##dom#11#12{Dict{Any,Any},DOM}}(##dom#11#12{Dict{Any,Any},DOM}(Dict{Any,Any}(:className=>\"field\"), DOM(:html, :div))), scope))), Observable{Any} with 0 listeners. Value:\n",
       "Plot{Plots.GRBackend() n=0}, nothing, getfield(StatPlots, Symbol(\"##37#45\"))())"
      ]
     },
     "execution_count": 8,
     "metadata": {
      "application/vnd.webio.node+json": {
       "kernelId": "f2388ef5-b347-4fa4-a01b-b083dfbb0c25"
      }
     },
     "output_type": "execute_result"
    }
   ],
   "source": [
    "dataviewer(df)"
   ]
  },
  {
   "cell_type": "code",
   "execution_count": 9,
   "metadata": {},
   "outputs": [
    {
     "data": {
      "application/vnd.webio.node+json": {
       "children": [
        {
         "children": [
          {
           "children": [
            {
             "children": [
              {
               "children": [
                {
                 "children": [],
                 "instanceArgs": {
                  "namespace": "html",
                  "tag": "select"
                 },
                 "nodeType": "DOM",
                 "props": {
                  "attributes": {
                   "data-bind": "options : options_js, selectedOptions : index, optionsText: 'key', optionsValue: 'val', valueAllowUnset: true, optionsAfterRender: disablePlaceholder",
                   "multiple": true
                  }
                 },
                 "type": "node"
                }
               ],
               "instanceArgs": {
                "namespace": "html",
                "tag": "div"
               },
               "nodeType": "DOM",
               "props": {
                "className": "select is-multiple "
               },
               "type": "node"
              }
             ],
             "instanceArgs": {
              "handlers": {
               "_promises": {
                "importsLoaded": [
                 "function (ko, koPunches) {\n    ko.punches.enableAll();\n    ko.bindingHandlers.numericValue = {\n        init : function(element, valueAccessor, allBindings, data, context) {\n            var stringified = ko.observable(ko.unwrap(valueAccessor()));\n            stringified.subscribe(function(value) {\n                var val = parseFloat(value);\n                if (!isNaN(val)) {\n                    valueAccessor()(val);\n                }\n            })\n            valueAccessor().subscribe(function(value) {\n                var str = JSON.stringify(value);\n                if ((str == \"0\") && ([\"-0\", \"-0.\"].indexOf(stringified()) >= 0))\n                     return;\n                 if ([\"null\", \"\"].indexOf(str) >= 0)\n                     return;\n                stringified(str);\n            })\n            ko.applyBindingsToNode(element, { value: stringified, valueUpdate: allBindings.get('valueUpdate')}, context);\n        }\n    };\n    var json_data = JSON.parse(\"{\\\"options_js\\\":[{\\\"key\\\":\\\"First axis\\\",\\\"val\\\":0,\\\"id\\\":\\\"idbhkB5vaG\\\"},{\\\"key\\\":\\\"scenario\\\",\\\"val\\\":1,\\\"id\\\":\\\"idq5cUQZL1\\\"},{\\\"key\\\":\\\"policy\\\",\\\"val\\\":2,\\\"id\\\":\\\"idMW10WwGm\\\"},{\\\"key\\\":\\\"updater\\\",\\\"val\\\":3,\\\"id\\\":\\\"idmyHCED8N\\\"},{\\\"key\\\":\\\"n_episodes\\\",\\\"val\\\":4,\\\"id\\\":\\\"idxahsprqa\\\"},{\\\"key\\\":\\\"reward_mean\\\",\\\"val\\\":5,\\\"id\\\":\\\"idI2wSQOfZ\\\"},{\\\"key\\\":\\\"reward_std\\\",\\\"val\\\":6,\\\"id\\\":\\\"idnBpgbroM\\\"},{\\\"key\\\":\\\"steps_mean\\\",\\\"val\\\":7,\\\"id\\\":\\\"idQmDU7OFn\\\"},{\\\"key\\\":\\\"steps_std\\\",\\\"val\\\":8,\\\"id\\\":\\\"idAgJP8QPp\\\"},{\\\"key\\\":\\\"violations_mean\\\",\\\"val\\\":9,\\\"id\\\":\\\"idvcx4izYF\\\"},{\\\"key\\\":\\\"violations_std\\\",\\\"val\\\":10,\\\"id\\\":\\\"idkxtIgFqc\\\"},{\\\"key\\\":\\\"time\\\",\\\"val\\\":11,\\\"id\\\":\\\"id30kDcs1E\\\"}],\\\"index\\\":[]}\");\n    var self = this;\n    function AppViewModel() {\n        for (var key in json_data) {\n            var el = json_data[key];\n            this[key] = Array.isArray(el) ? ko.observableArray(el) : ko.observable(el);\n        }\n        [this[\"disablePlaceholder\"]=function(option, item) {\n    ko.applyBindingsToNode(option, {disable: item.val == 0}, item);\n}\n]\n        \n        [this[\"options_js\"].subscribe((function (val){!(this.valueFromJulia[\"options_js\"]) ? (_webIOScope.setObservableValue({\"name\":\"options_js\",\"scope\":\"knockout-component-789862ec-82b6-4138-b193-0af65d119e56\",\"id\":\"ob_110\",\"type\":\"observable\"},val)) : undefined; return this.valueFromJulia[\"options_js\"]=false}),self),this[\"index\"].subscribe((function (val){!(this.valueFromJulia[\"index\"]) ? (_webIOScope.setObservableValue({\"name\":\"index\",\"scope\":\"knockout-component-789862ec-82b6-4138-b193-0af65d119e56\",\"id\":\"ob_109\",\"type\":\"observable\"},val)) : undefined; return this.valueFromJulia[\"index\"]=false}),self)]\n        \n    }\n    self.model = new AppViewModel();\n    self.valueFromJulia = {};\n    for (var key in json_data) {\n        self.valueFromJulia[key] = false;\n    }\n    ko.applyBindings(self.model, self.dom);\n}\n"
                ]
               },
               "index": [
                "(function (val){return (val!=this.model[\"index\"]()) ? (this.valueFromJulia[\"index\"]=true, this.model[\"index\"](val)) : undefined})"
               ],
               "options_js": [
                "(function (val){return (val!=this.model[\"options_js\"]()) ? (this.valueFromJulia[\"options_js\"]=true, this.model[\"options_js\"](val)) : undefined})"
               ]
              },
              "id": "knockout-component-789862ec-82b6-4138-b193-0af65d119e56",
              "imports": {
               "data": [
                {
                 "name": "knockout",
                 "type": "js",
                 "url": "/assetserver/7727d7cb3453b9ff588804f2f297360e756850e6-knockout.js"
                },
                {
                 "name": "knockout_punches",
                 "type": "js",
                 "url": "/assetserver/dc191505b241da77a1bd06986b7132036babe315-knockout_punches.js"
                },
                {
                 "name": null,
                 "type": "js",
                 "url": "/assetserver/cf39e83f3445855334efae1f7d0ee012952fe319-all.js"
                },
                {
                 "name": null,
                 "type": "css",
                 "url": "/assetserver/495af69608d773e6cf6efd8fe98ee33ddbad0df5-style.css"
                },
                {
                 "name": null,
                 "type": "css",
                 "url": "/assetserver/9d22e7e1c4dccb3a3bef6ae4d24134fd256d4bfd-main.css"
                }
               ],
               "type": "async_block"
              },
              "observables": {
               "index": {
                "id": "ob_109",
                "sync": true,
                "value": []
               },
               "options_js": {
                "id": "ob_110",
                "sync": false,
                "value": [
                 {
                  "id": "idbhkB5vaG",
                  "key": "First axis",
                  "val": 0
                 },
                 {
                  "id": "idq5cUQZL1",
                  "key": "scenario",
                  "val": 1
                 },
                 {
                  "id": "idMW10WwGm",
                  "key": "policy",
                  "val": 2
                 },
                 {
                  "id": "idmyHCED8N",
                  "key": "updater",
                  "val": 3
                 },
                 {
                  "id": "idxahsprqa",
                  "key": "n_episodes",
                  "val": 4
                 },
                 {
                  "id": "idI2wSQOfZ",
                  "key": "reward_mean",
                  "val": 5
                 },
                 {
                  "id": "idnBpgbroM",
                  "key": "reward_std",
                  "val": 6
                 },
                 {
                  "id": "idQmDU7OFn",
                  "key": "steps_mean",
                  "val": 7
                 },
                 {
                  "id": "idAgJP8QPp",
                  "key": "steps_std",
                  "val": 8
                 },
                 {
                  "id": "idvcx4izYF",
                  "key": "violations_mean",
                  "val": 9
                 },
                 {
                  "id": "idkxtIgFqc",
                  "key": "violations_std",
                  "val": 10
                 },
                 {
                  "id": "id30kDcs1E",
                  "key": "time",
                  "val": 11
                 }
                ]
               }
              },
              "systemjs_options": null
             },
             "nodeType": "Scope",
             "props": {},
             "type": "node"
            }
           ],
           "instanceArgs": {
            "namespace": "html",
            "tag": "div"
           },
           "nodeType": "DOM",
           "props": {
            "className": "field"
           },
           "type": "node"
          },
          {
           "children": [
            {
             "children": [
              {
               "children": [
                {
                 "children": [
                  {
                   "children": [],
                   "instanceArgs": {
                    "namespace": "html",
                    "tag": "input"
                   },
                   "nodeType": "DOM",
                   "props": {
                    "attributes": {
                     "data-bind": "checked: value, valueUpdate: 'change', event: {change : function () {this.changes(this.changes()+1)}}",
                     "type": "checkbox"
                    },
                    "className": "switch ",
                    "id": "##387",
                    "style": {}
                   },
                   "type": "node"
                  },
                  {
                   "children": [
                    "Second axis"
                   ],
                   "instanceArgs": {
                    "namespace": "html",
                    "tag": "label"
                   },
                   "nodeType": "DOM",
                   "props": {
                    "attributes": {
                     "className": "",
                     "for": "##387"
                    }
                   },
                   "type": "node"
                  }
                 ],
                 "instanceArgs": {
                  "namespace": "html",
                  "tag": "div"
                 },
                 "nodeType": "DOM",
                 "props": {
                  "className": "field"
                 },
                 "type": "node"
                },
                {
                 "children": [
                  {
                   "children": [
                    {
                     "children": [
                      {
                       "children": [
                        {
                         "children": [],
                         "instanceArgs": {
                          "namespace": "html",
                          "tag": "select"
                         },
                         "nodeType": "DOM",
                         "props": {
                          "attributes": {
                           "data-bind": "options : options_js, selectedOptions : index, optionsText: 'key', optionsValue: 'val', valueAllowUnset: true, optionsAfterRender: disablePlaceholder",
                           "multiple": true
                          }
                         },
                         "type": "node"
                        }
                       ],
                       "instanceArgs": {
                        "namespace": "html",
                        "tag": "div"
                       },
                       "nodeType": "DOM",
                       "props": {
                        "className": "select is-multiple "
                       },
                       "type": "node"
                      }
                     ],
                     "instanceArgs": {
                      "handlers": {
                       "_promises": {
                        "importsLoaded": [
                         "function (ko, koPunches) {\n    ko.punches.enableAll();\n    ko.bindingHandlers.numericValue = {\n        init : function(element, valueAccessor, allBindings, data, context) {\n            var stringified = ko.observable(ko.unwrap(valueAccessor()));\n            stringified.subscribe(function(value) {\n                var val = parseFloat(value);\n                if (!isNaN(val)) {\n                    valueAccessor()(val);\n                }\n            })\n            valueAccessor().subscribe(function(value) {\n                var str = JSON.stringify(value);\n                if ((str == \"0\") && ([\"-0\", \"-0.\"].indexOf(stringified()) >= 0))\n                     return;\n                 if ([\"null\", \"\"].indexOf(str) >= 0)\n                     return;\n                stringified(str);\n            })\n            ko.applyBindingsToNode(element, { value: stringified, valueUpdate: allBindings.get('valueUpdate')}, context);\n        }\n    };\n    var json_data = JSON.parse(\"{\\\"options_js\\\":[{\\\"key\\\":\\\"Second axis\\\",\\\"val\\\":0,\\\"id\\\":\\\"idE8zLqvt1\\\"},{\\\"key\\\":\\\"scenario\\\",\\\"val\\\":1,\\\"id\\\":\\\"id3xceggBr\\\"},{\\\"key\\\":\\\"policy\\\",\\\"val\\\":2,\\\"id\\\":\\\"idXSQkGGAB\\\"},{\\\"key\\\":\\\"updater\\\",\\\"val\\\":3,\\\"id\\\":\\\"ide8S5Y66M\\\"},{\\\"key\\\":\\\"n_episodes\\\",\\\"val\\\":4,\\\"id\\\":\\\"id0tLVeFnv\\\"},{\\\"key\\\":\\\"reward_mean\\\",\\\"val\\\":5,\\\"id\\\":\\\"idLZpwQP5v\\\"},{\\\"key\\\":\\\"reward_std\\\",\\\"val\\\":6,\\\"id\\\":\\\"idJtFlCorq\\\"},{\\\"key\\\":\\\"steps_mean\\\",\\\"val\\\":7,\\\"id\\\":\\\"idwFKhzybj\\\"},{\\\"key\\\":\\\"steps_std\\\",\\\"val\\\":8,\\\"id\\\":\\\"idaYCcfhE7\\\"},{\\\"key\\\":\\\"violations_mean\\\",\\\"val\\\":9,\\\"id\\\":\\\"id1b6pTqo1\\\"},{\\\"key\\\":\\\"violations_std\\\",\\\"val\\\":10,\\\"id\\\":\\\"idB0GHICfn\\\"},{\\\"key\\\":\\\"time\\\",\\\"val\\\":11,\\\"id\\\":\\\"idIZBPd7UP\\\"}],\\\"index\\\":[]}\");\n    var self = this;\n    function AppViewModel() {\n        for (var key in json_data) {\n            var el = json_data[key];\n            this[key] = Array.isArray(el) ? ko.observableArray(el) : ko.observable(el);\n        }\n        [this[\"disablePlaceholder\"]=function(option, item) {\n    ko.applyBindingsToNode(option, {disable: item.val == 0}, item);\n}\n]\n        \n        [this[\"options_js\"].subscribe((function (val){!(this.valueFromJulia[\"options_js\"]) ? (_webIOScope.setObservableValue({\"name\":\"options_js\",\"scope\":\"knockout-component-41001ed9-18c4-45e7-afe1-c57430f630ac\",\"id\":\"ob_114\",\"type\":\"observable\"},val)) : undefined; return this.valueFromJulia[\"options_js\"]=false}),self),this[\"index\"].subscribe((function (val){!(this.valueFromJulia[\"index\"]) ? (_webIOScope.setObservableValue({\"name\":\"index\",\"scope\":\"knockout-component-41001ed9-18c4-45e7-afe1-c57430f630ac\",\"id\":\"ob_113\",\"type\":\"observable\"},val)) : undefined; return this.valueFromJulia[\"index\"]=false}),self)]\n        \n    }\n    self.model = new AppViewModel();\n    self.valueFromJulia = {};\n    for (var key in json_data) {\n        self.valueFromJulia[key] = false;\n    }\n    ko.applyBindings(self.model, self.dom);\n}\n"
                        ]
                       },
                       "index": [
                        "(function (val){return (val!=this.model[\"index\"]()) ? (this.valueFromJulia[\"index\"]=true, this.model[\"index\"](val)) : undefined})"
                       ],
                       "options_js": [
                        "(function (val){return (val!=this.model[\"options_js\"]()) ? (this.valueFromJulia[\"options_js\"]=true, this.model[\"options_js\"](val)) : undefined})"
                       ]
                      },
                      "id": "knockout-component-41001ed9-18c4-45e7-afe1-c57430f630ac",
                      "imports": {
                       "data": [
                        {
                         "name": "knockout",
                         "type": "js",
                         "url": "/assetserver/7727d7cb3453b9ff588804f2f297360e756850e6-knockout.js"
                        },
                        {
                         "name": "knockout_punches",
                         "type": "js",
                         "url": "/assetserver/dc191505b241da77a1bd06986b7132036babe315-knockout_punches.js"
                        },
                        {
                         "name": null,
                         "type": "js",
                         "url": "/assetserver/cf39e83f3445855334efae1f7d0ee012952fe319-all.js"
                        },
                        {
                         "name": null,
                         "type": "css",
                         "url": "/assetserver/495af69608d773e6cf6efd8fe98ee33ddbad0df5-style.css"
                        },
                        {
                         "name": null,
                         "type": "css",
                         "url": "/assetserver/9d22e7e1c4dccb3a3bef6ae4d24134fd256d4bfd-main.css"
                        }
                       ],
                       "type": "async_block"
                      },
                      "observables": {
                       "index": {
                        "id": "ob_113",
                        "sync": true,
                        "value": []
                       },
                       "options_js": {
                        "id": "ob_114",
                        "sync": false,
                        "value": [
                         {
                          "id": "idE8zLqvt1",
                          "key": "Second axis",
                          "val": 0
                         },
                         {
                          "id": "id3xceggBr",
                          "key": "scenario",
                          "val": 1
                         },
                         {
                          "id": "idXSQkGGAB",
                          "key": "policy",
                          "val": 2
                         },
                         {
                          "id": "ide8S5Y66M",
                          "key": "updater",
                          "val": 3
                         },
                         {
                          "id": "id0tLVeFnv",
                          "key": "n_episodes",
                          "val": 4
                         },
                         {
                          "id": "idLZpwQP5v",
                          "key": "reward_mean",
                          "val": 5
                         },
                         {
                          "id": "idJtFlCorq",
                          "key": "reward_std",
                          "val": 6
                         },
                         {
                          "id": "idwFKhzybj",
                          "key": "steps_mean",
                          "val": 7
                         },
                         {
                          "id": "idaYCcfhE7",
                          "key": "steps_std",
                          "val": 8
                         },
                         {
                          "id": "id1b6pTqo1",
                          "key": "violations_mean",
                          "val": 9
                         },
                         {
                          "id": "idB0GHICfn",
                          "key": "violations_std",
                          "val": 10
                         },
                         {
                          "id": "idIZBPd7UP",
                          "key": "time",
                          "val": 11
                         }
                        ]
                       }
                      },
                      "systemjs_options": null
                     },
                     "nodeType": "Scope",
                     "props": {},
                     "type": "node"
                    }
                   ],
                   "instanceArgs": {
                    "namespace": "html",
                    "tag": "div"
                   },
                   "nodeType": "DOM",
                   "props": {
                    "className": "field"
                   },
                   "type": "node"
                  }
                 ],
                 "instanceArgs": {
                  "namespace": "html",
                  "tag": "div"
                 },
                 "nodeType": "DOM",
                 "props": {
                  "attributes": {
                   "data-bind": "visible: value"
                  }
                 },
                 "type": "node"
                }
               ],
               "instanceArgs": {
                "namespace": "html",
                "tag": "div"
               },
               "nodeType": "DOM",
               "props": {
                "style": {
                 "display": "flex",
                 "flex-direction": "column"
                }
               },
               "type": "node"
              }
             ],
             "instanceArgs": {
              "handlers": {
               "_promises": {
                "importsLoaded": [
                 "function (ko, koPunches) {\n    ko.punches.enableAll();\n    ko.bindingHandlers.numericValue = {\n        init : function(element, valueAccessor, allBindings, data, context) {\n            var stringified = ko.observable(ko.unwrap(valueAccessor()));\n            stringified.subscribe(function(value) {\n                var val = parseFloat(value);\n                if (!isNaN(val)) {\n                    valueAccessor()(val);\n                }\n            })\n            valueAccessor().subscribe(function(value) {\n                var str = JSON.stringify(value);\n                if ((str == \"0\") && ([\"-0\", \"-0.\"].indexOf(stringified()) >= 0))\n                     return;\n                 if ([\"null\", \"\"].indexOf(str) >= 0)\n                     return;\n                stringified(str);\n            })\n            ko.applyBindingsToNode(element, { value: stringified, valueUpdate: allBindings.get('valueUpdate')}, context);\n        }\n    };\n    var json_data = JSON.parse(\"{\\\"changes\\\":0,\\\"value\\\":false}\");\n    var self = this;\n    function AppViewModel() {\n        for (var key in json_data) {\n            var el = json_data[key];\n            this[key] = Array.isArray(el) ? ko.observableArray(el) : ko.observable(el);\n        }\n        \n        \n        [this[\"changes\"].subscribe((function (val){!(this.valueFromJulia[\"changes\"]) ? (_webIOScope.setObservableValue({\"name\":\"changes\",\"scope\":\"knockout-component-81abe908-c14d-480e-b4cc-5e97e00dcc7e\",\"id\":\"ob_116\",\"type\":\"observable\"},val)) : undefined; return this.valueFromJulia[\"changes\"]=false}),self),this[\"value\"].subscribe((function (val){!(this.valueFromJulia[\"value\"]) ? (_webIOScope.setObservableValue({\"name\":\"value\",\"scope\":\"knockout-component-81abe908-c14d-480e-b4cc-5e97e00dcc7e\",\"id\":\"ob_115\",\"type\":\"observable\"},val)) : undefined; return this.valueFromJulia[\"value\"]=false}),self)]\n        \n    }\n    self.model = new AppViewModel();\n    self.valueFromJulia = {};\n    for (var key in json_data) {\n        self.valueFromJulia[key] = false;\n    }\n    ko.applyBindings(self.model, self.dom);\n}\n"
                ]
               },
               "changes": [
                "(function (val){return (val!=this.model[\"changes\"]()) ? (this.valueFromJulia[\"changes\"]=true, this.model[\"changes\"](val)) : undefined})"
               ],
               "value": [
                "(function (val){return (val!=this.model[\"value\"]()) ? (this.valueFromJulia[\"value\"]=true, this.model[\"value\"](val)) : undefined})"
               ]
              },
              "id": "knockout-component-81abe908-c14d-480e-b4cc-5e97e00dcc7e",
              "imports": {
               "data": [
                {
                 "name": "knockout",
                 "type": "js",
                 "url": "/assetserver/7727d7cb3453b9ff588804f2f297360e756850e6-knockout.js"
                },
                {
                 "name": "knockout_punches",
                 "type": "js",
                 "url": "/assetserver/dc191505b241da77a1bd06986b7132036babe315-knockout_punches.js"
                },
                {
                 "name": null,
                 "type": "js",
                 "url": "/assetserver/cf39e83f3445855334efae1f7d0ee012952fe319-all.js"
                },
                {
                 "name": null,
                 "type": "css",
                 "url": "/assetserver/495af69608d773e6cf6efd8fe98ee33ddbad0df5-style.css"
                },
                {
                 "name": null,
                 "type": "css",
                 "url": "/assetserver/9d22e7e1c4dccb3a3bef6ae4d24134fd256d4bfd-main.css"
                }
               ],
               "type": "async_block"
              },
              "observables": {
               "changes": {
                "id": "ob_116",
                "sync": false,
                "value": 0
               },
               "value": {
                "id": "ob_115",
                "sync": false,
                "value": false
               }
              },
              "systemjs_options": null
             },
             "nodeType": "Scope",
             "props": {},
             "type": "node"
            }
           ],
           "instanceArgs": {
            "namespace": "html",
            "tag": "div"
           },
           "nodeType": "DOM",
           "props": {
            "className": "field"
           },
           "type": "node"
          },
          {
           "children": [
            {
             "children": [
              {
               "children": [
                {
                 "children": [],
                 "instanceArgs": {
                  "namespace": "html",
                  "tag": "select"
                 },
                 "nodeType": "DOM",
                 "props": {
                  "attributes": {
                   "data-bind": "options : options_js, value : index, optionsText: 'key', optionsValue: 'val', valueAllowUnset: true, optionsAfterRender: disablePlaceholder"
                  }
                 },
                 "type": "node"
                }
               ],
               "instanceArgs": {
                "namespace": "html",
                "tag": "div"
               },
               "nodeType": "DOM",
               "props": {
                "className": "select "
               },
               "type": "node"
              }
             ],
             "instanceArgs": {
              "handlers": {
               "_promises": {
                "importsLoaded": [
                 "function (ko, koPunches) {\n    ko.punches.enableAll();\n    ko.bindingHandlers.numericValue = {\n        init : function(element, valueAccessor, allBindings, data, context) {\n            var stringified = ko.observable(ko.unwrap(valueAccessor()));\n            stringified.subscribe(function(value) {\n                var val = parseFloat(value);\n                if (!isNaN(val)) {\n                    valueAccessor()(val);\n                }\n            })\n            valueAccessor().subscribe(function(value) {\n                var str = JSON.stringify(value);\n                if ((str == \"0\") && ([\"-0\", \"-0.\"].indexOf(stringified()) >= 0))\n                     return;\n                 if ([\"null\", \"\"].indexOf(str) >= 0)\n                     return;\n                stringified(str);\n            })\n            ko.applyBindingsToNode(element, { value: stringified, valueUpdate: allBindings.get('valueUpdate')}, context);\n        }\n    };\n    var json_data = JSON.parse(\"{\\\"options_js\\\":[{\\\"key\\\":\\\"Plot type\\\",\\\"val\\\":0,\\\"id\\\":\\\"id2C0VumMa\\\"},{\\\"key\\\":\\\"line\\\",\\\"val\\\":1,\\\"id\\\":\\\"idFsSx287V\\\"},{\\\"key\\\":\\\"scatter\\\",\\\"val\\\":2,\\\"id\\\":\\\"iduzOD48bH\\\"},{\\\"key\\\":\\\"bar\\\",\\\"val\\\":3,\\\"id\\\":\\\"idsSG4YBJB\\\"},{\\\"key\\\":\\\"boxplot\\\",\\\"val\\\":4,\\\"id\\\":\\\"idI80dd3GR\\\"},{\\\"key\\\":\\\"corrplot\\\",\\\"val\\\":5,\\\"id\\\":\\\"idgnqFDeT4\\\"},{\\\"key\\\":\\\"cornerplot\\\",\\\"val\\\":6,\\\"id\\\":\\\"idw1GlZ7HH\\\"},{\\\"key\\\":\\\"density\\\",\\\"val\\\":7,\\\"id\\\":\\\"idCQC9bsiA\\\"},{\\\"key\\\":\\\"histogram\\\",\\\"val\\\":8,\\\"id\\\":\\\"idD5sMSS1Y\\\"},{\\\"key\\\":\\\"marginalhist\\\",\\\"val\\\":9,\\\"id\\\":\\\"idAMtVHS2W\\\"},{\\\"key\\\":\\\"violin\\\",\\\"val\\\":10,\\\"id\\\":\\\"idt377Fks6\\\"}],\\\"index\\\":1}\");\n    var self = this;\n    function AppViewModel() {\n        for (var key in json_data) {\n            var el = json_data[key];\n            this[key] = Array.isArray(el) ? ko.observableArray(el) : ko.observable(el);\n        }\n        [this[\"disablePlaceholder\"]=function(option, item) {\n    ko.applyBindingsToNode(option, {disable: item.val == 0}, item);\n}\n]\n        \n        [this[\"options_js\"].subscribe((function (val){!(this.valueFromJulia[\"options_js\"]) ? (_webIOScope.setObservableValue({\"name\":\"options_js\",\"scope\":\"knockout-component-7ad5f04a-1d05-4477-be02-5d6327e843f5\",\"id\":\"ob_121\",\"type\":\"observable\"},val)) : undefined; return this.valueFromJulia[\"options_js\"]=false}),self),this[\"index\"].subscribe((function (val){!(this.valueFromJulia[\"index\"]) ? (_webIOScope.setObservableValue({\"name\":\"index\",\"scope\":\"knockout-component-7ad5f04a-1d05-4477-be02-5d6327e843f5\",\"id\":\"ob_120\",\"type\":\"observable\"},val)) : undefined; return this.valueFromJulia[\"index\"]=false}),self)]\n        \n    }\n    self.model = new AppViewModel();\n    self.valueFromJulia = {};\n    for (var key in json_data) {\n        self.valueFromJulia[key] = false;\n    }\n    ko.applyBindings(self.model, self.dom);\n}\n"
                ]
               },
               "index": [
                "(function (val){return (val!=this.model[\"index\"]()) ? (this.valueFromJulia[\"index\"]=true, this.model[\"index\"](val)) : undefined})"
               ],
               "options_js": [
                "(function (val){return (val!=this.model[\"options_js\"]()) ? (this.valueFromJulia[\"options_js\"]=true, this.model[\"options_js\"](val)) : undefined})"
               ]
              },
              "id": "knockout-component-7ad5f04a-1d05-4477-be02-5d6327e843f5",
              "imports": {
               "data": [
                {
                 "name": "knockout",
                 "type": "js",
                 "url": "/assetserver/7727d7cb3453b9ff588804f2f297360e756850e6-knockout.js"
                },
                {
                 "name": "knockout_punches",
                 "type": "js",
                 "url": "/assetserver/dc191505b241da77a1bd06986b7132036babe315-knockout_punches.js"
                },
                {
                 "name": null,
                 "type": "js",
                 "url": "/assetserver/cf39e83f3445855334efae1f7d0ee012952fe319-all.js"
                },
                {
                 "name": null,
                 "type": "css",
                 "url": "/assetserver/495af69608d773e6cf6efd8fe98ee33ddbad0df5-style.css"
                },
                {
                 "name": null,
                 "type": "css",
                 "url": "/assetserver/9d22e7e1c4dccb3a3bef6ae4d24134fd256d4bfd-main.css"
                }
               ],
               "type": "async_block"
              },
              "observables": {
               "index": {
                "id": "ob_120",
                "sync": true,
                "value": 1
               },
               "options_js": {
                "id": "ob_121",
                "sync": false,
                "value": [
                 {
                  "id": "id2C0VumMa",
                  "key": "Plot type",
                  "val": 0
                 },
                 {
                  "id": "idFsSx287V",
                  "key": "line",
                  "val": 1
                 },
                 {
                  "id": "iduzOD48bH",
                  "key": "scatter",
                  "val": 2
                 },
                 {
                  "id": "idsSG4YBJB",
                  "key": "bar",
                  "val": 3
                 },
                 {
                  "id": "idI80dd3GR",
                  "key": "boxplot",
                  "val": 4
                 },
                 {
                  "id": "idgnqFDeT4",
                  "key": "corrplot",
                  "val": 5
                 },
                 {
                  "id": "idw1GlZ7HH",
                  "key": "cornerplot",
                  "val": 6
                 },
                 {
                  "id": "idCQC9bsiA",
                  "key": "density",
                  "val": 7
                 },
                 {
                  "id": "idD5sMSS1Y",
                  "key": "histogram",
                  "val": 8
                 },
                 {
                  "id": "idAMtVHS2W",
                  "key": "marginalhist",
                  "val": 9
                 },
                 {
                  "id": "idt377Fks6",
                  "key": "violin",
                  "val": 10
                 }
                ]
               }
              },
              "systemjs_options": null
             },
             "nodeType": "Scope",
             "props": {},
             "type": "node"
            }
           ],
           "instanceArgs": {
            "namespace": "html",
            "tag": "div"
           },
           "nodeType": "DOM",
           "props": {
            "className": "field"
           },
           "type": "node"
          },
          {
           "children": [
            {
             "children": [
              {
               "children": [
                {
                 "children": [
                  {
                   "children": [],
                   "instanceArgs": {
                    "namespace": "html",
                    "tag": "input"
                   },
                   "nodeType": "DOM",
                   "props": {
                    "attributes": {
                     "data-bind": "checked: value, valueUpdate: 'change', event: {change : function () {this.changes(this.changes()+1)}}",
                     "type": "checkbox"
                    },
                    "className": "switch ",
                    "id": "##388",
                    "style": {}
                   },
                   "type": "node"
                  },
                  {
                   "children": [
                    "Split data"
                   ],
                   "instanceArgs": {
                    "namespace": "html",
                    "tag": "label"
                   },
                   "nodeType": "DOM",
                   "props": {
                    "attributes": {
                     "className": "",
                     "for": "##388"
                    }
                   },
                   "type": "node"
                  }
                 ],
                 "instanceArgs": {
                  "namespace": "html",
                  "tag": "div"
                 },
                 "nodeType": "DOM",
                 "props": {
                  "className": "field"
                 },
                 "type": "node"
                },
                {
                 "children": [
                  {
                   "children": [
                    {
                     "children": [
                      {
                       "children": [
                        {
                         "children": [],
                         "instanceArgs": {
                          "namespace": "html",
                          "tag": "select"
                         },
                         "nodeType": "DOM",
                         "props": {
                          "attributes": {
                           "data-bind": "options : options_js, selectedOptions : index, optionsText: 'key', optionsValue: 'val', valueAllowUnset: true, optionsAfterRender: disablePlaceholder",
                           "multiple": true
                          }
                         },
                         "type": "node"
                        }
                       ],
                       "instanceArgs": {
                        "namespace": "html",
                        "tag": "div"
                       },
                       "nodeType": "DOM",
                       "props": {
                        "className": "select is-multiple "
                       },
                       "type": "node"
                      }
                     ],
                     "instanceArgs": {
                      "handlers": {
                       "_promises": {
                        "importsLoaded": [
                         "function (ko, koPunches) {\n    ko.punches.enableAll();\n    ko.bindingHandlers.numericValue = {\n        init : function(element, valueAccessor, allBindings, data, context) {\n            var stringified = ko.observable(ko.unwrap(valueAccessor()));\n            stringified.subscribe(function(value) {\n                var val = parseFloat(value);\n                if (!isNaN(val)) {\n                    valueAccessor()(val);\n                }\n            })\n            valueAccessor().subscribe(function(value) {\n                var str = JSON.stringify(value);\n                if ((str == \"0\") && ([\"-0\", \"-0.\"].indexOf(stringified()) >= 0))\n                     return;\n                 if ([\"null\", \"\"].indexOf(str) >= 0)\n                     return;\n                stringified(str);\n            })\n            ko.applyBindingsToNode(element, { value: stringified, valueUpdate: allBindings.get('valueUpdate')}, context);\n        }\n    };\n    var json_data = JSON.parse(\"{\\\"options_js\\\":[{\\\"key\\\":\\\"Group by\\\",\\\"val\\\":0,\\\"id\\\":\\\"ideJp9R3OK\\\"},{\\\"key\\\":\\\"scenario\\\",\\\"val\\\":1,\\\"id\\\":\\\"idWWvlh3KP\\\"},{\\\"key\\\":\\\"policy\\\",\\\"val\\\":2,\\\"id\\\":\\\"idWdNuc2bJ\\\"},{\\\"key\\\":\\\"updater\\\",\\\"val\\\":3,\\\"id\\\":\\\"idOEEo4YBZ\\\"},{\\\"key\\\":\\\"n_episodes\\\",\\\"val\\\":4,\\\"id\\\":\\\"idfV7zIUA3\\\"},{\\\"key\\\":\\\"reward_mean\\\",\\\"val\\\":5,\\\"id\\\":\\\"idaySNTGJ2\\\"},{\\\"key\\\":\\\"reward_std\\\",\\\"val\\\":6,\\\"id\\\":\\\"iddDAAiHF4\\\"},{\\\"key\\\":\\\"steps_mean\\\",\\\"val\\\":7,\\\"id\\\":\\\"idUYNN4XkN\\\"},{\\\"key\\\":\\\"steps_std\\\",\\\"val\\\":8,\\\"id\\\":\\\"idVxzbwNJ1\\\"},{\\\"key\\\":\\\"violations_mean\\\",\\\"val\\\":9,\\\"id\\\":\\\"idExDbVayj\\\"},{\\\"key\\\":\\\"violations_std\\\",\\\"val\\\":10,\\\"id\\\":\\\"idCvBT73BU\\\"},{\\\"key\\\":\\\"time\\\",\\\"val\\\":11,\\\"id\\\":\\\"idFEWCMf96\\\"}],\\\"index\\\":[]}\");\n    var self = this;\n    function AppViewModel() {\n        for (var key in json_data) {\n            var el = json_data[key];\n            this[key] = Array.isArray(el) ? ko.observableArray(el) : ko.observable(el);\n        }\n        [this[\"disablePlaceholder\"]=function(option, item) {\n    ko.applyBindingsToNode(option, {disable: item.val == 0}, item);\n}\n]\n        \n        [this[\"options_js\"].subscribe((function (val){!(this.valueFromJulia[\"options_js\"]) ? (_webIOScope.setObservableValue({\"name\":\"options_js\",\"scope\":\"knockout-component-e4c9802f-2ed7-4fc7-a2a7-f3eb81d94ba6\",\"id\":\"ob_130\",\"type\":\"observable\"},val)) : undefined; return this.valueFromJulia[\"options_js\"]=false}),self),this[\"index\"].subscribe((function (val){!(this.valueFromJulia[\"index\"]) ? (_webIOScope.setObservableValue({\"name\":\"index\",\"scope\":\"knockout-component-e4c9802f-2ed7-4fc7-a2a7-f3eb81d94ba6\",\"id\":\"ob_129\",\"type\":\"observable\"},val)) : undefined; return this.valueFromJulia[\"index\"]=false}),self)]\n        \n    }\n    self.model = new AppViewModel();\n    self.valueFromJulia = {};\n    for (var key in json_data) {\n        self.valueFromJulia[key] = false;\n    }\n    ko.applyBindings(self.model, self.dom);\n}\n"
                        ]
                       },
                       "index": [
                        "(function (val){return (val!=this.model[\"index\"]()) ? (this.valueFromJulia[\"index\"]=true, this.model[\"index\"](val)) : undefined})"
                       ],
                       "options_js": [
                        "(function (val){return (val!=this.model[\"options_js\"]()) ? (this.valueFromJulia[\"options_js\"]=true, this.model[\"options_js\"](val)) : undefined})"
                       ]
                      },
                      "id": "knockout-component-e4c9802f-2ed7-4fc7-a2a7-f3eb81d94ba6",
                      "imports": {
                       "data": [
                        {
                         "name": "knockout",
                         "type": "js",
                         "url": "/assetserver/7727d7cb3453b9ff588804f2f297360e756850e6-knockout.js"
                        },
                        {
                         "name": "knockout_punches",
                         "type": "js",
                         "url": "/assetserver/dc191505b241da77a1bd06986b7132036babe315-knockout_punches.js"
                        },
                        {
                         "name": null,
                         "type": "js",
                         "url": "/assetserver/cf39e83f3445855334efae1f7d0ee012952fe319-all.js"
                        },
                        {
                         "name": null,
                         "type": "css",
                         "url": "/assetserver/495af69608d773e6cf6efd8fe98ee33ddbad0df5-style.css"
                        },
                        {
                         "name": null,
                         "type": "css",
                         "url": "/assetserver/9d22e7e1c4dccb3a3bef6ae4d24134fd256d4bfd-main.css"
                        }
                       ],
                       "type": "async_block"
                      },
                      "observables": {
                       "index": {
                        "id": "ob_129",
                        "sync": true,
                        "value": []
                       },
                       "options_js": {
                        "id": "ob_130",
                        "sync": false,
                        "value": [
                         {
                          "id": "ideJp9R3OK",
                          "key": "Group by",
                          "val": 0
                         },
                         {
                          "id": "idWWvlh3KP",
                          "key": "scenario",
                          "val": 1
                         },
                         {
                          "id": "idWdNuc2bJ",
                          "key": "policy",
                          "val": 2
                         },
                         {
                          "id": "idOEEo4YBZ",
                          "key": "updater",
                          "val": 3
                         },
                         {
                          "id": "idfV7zIUA3",
                          "key": "n_episodes",
                          "val": 4
                         },
                         {
                          "id": "idaySNTGJ2",
                          "key": "reward_mean",
                          "val": 5
                         },
                         {
                          "id": "iddDAAiHF4",
                          "key": "reward_std",
                          "val": 6
                         },
                         {
                          "id": "idUYNN4XkN",
                          "key": "steps_mean",
                          "val": 7
                         },
                         {
                          "id": "idVxzbwNJ1",
                          "key": "steps_std",
                          "val": 8
                         },
                         {
                          "id": "idExDbVayj",
                          "key": "violations_mean",
                          "val": 9
                         },
                         {
                          "id": "idCvBT73BU",
                          "key": "violations_std",
                          "val": 10
                         },
                         {
                          "id": "idFEWCMf96",
                          "key": "time",
                          "val": 11
                         }
                        ]
                       }
                      },
                      "systemjs_options": null
                     },
                     "nodeType": "Scope",
                     "props": {},
                     "type": "node"
                    }
                   ],
                   "instanceArgs": {
                    "namespace": "html",
                    "tag": "div"
                   },
                   "nodeType": "DOM",
                   "props": {
                    "className": "field"
                   },
                   "type": "node"
                  }
                 ],
                 "instanceArgs": {
                  "namespace": "html",
                  "tag": "div"
                 },
                 "nodeType": "DOM",
                 "props": {
                  "attributes": {
                   "data-bind": "visible: value"
                  }
                 },
                 "type": "node"
                }
               ],
               "instanceArgs": {
                "namespace": "html",
                "tag": "div"
               },
               "nodeType": "DOM",
               "props": {
                "style": {
                 "display": "flex",
                 "flex-direction": "column"
                }
               },
               "type": "node"
              }
             ],
             "instanceArgs": {
              "handlers": {
               "_promises": {
                "importsLoaded": [
                 "function (ko, koPunches) {\n    ko.punches.enableAll();\n    ko.bindingHandlers.numericValue = {\n        init : function(element, valueAccessor, allBindings, data, context) {\n            var stringified = ko.observable(ko.unwrap(valueAccessor()));\n            stringified.subscribe(function(value) {\n                var val = parseFloat(value);\n                if (!isNaN(val)) {\n                    valueAccessor()(val);\n                }\n            })\n            valueAccessor().subscribe(function(value) {\n                var str = JSON.stringify(value);\n                if ((str == \"0\") && ([\"-0\", \"-0.\"].indexOf(stringified()) >= 0))\n                     return;\n                 if ([\"null\", \"\"].indexOf(str) >= 0)\n                     return;\n                stringified(str);\n            })\n            ko.applyBindingsToNode(element, { value: stringified, valueUpdate: allBindings.get('valueUpdate')}, context);\n        }\n    };\n    var json_data = JSON.parse(\"{\\\"changes\\\":0,\\\"value\\\":false}\");\n    var self = this;\n    function AppViewModel() {\n        for (var key in json_data) {\n            var el = json_data[key];\n            this[key] = Array.isArray(el) ? ko.observableArray(el) : ko.observable(el);\n        }\n        \n        \n        [this[\"changes\"].subscribe((function (val){!(this.valueFromJulia[\"changes\"]) ? (_webIOScope.setObservableValue({\"name\":\"changes\",\"scope\":\"knockout-component-ed46e655-7b24-4c76-9faa-95d22c99e84c\",\"id\":\"ob_132\",\"type\":\"observable\"},val)) : undefined; return this.valueFromJulia[\"changes\"]=false}),self),this[\"value\"].subscribe((function (val){!(this.valueFromJulia[\"value\"]) ? (_webIOScope.setObservableValue({\"name\":\"value\",\"scope\":\"knockout-component-ed46e655-7b24-4c76-9faa-95d22c99e84c\",\"id\":\"ob_131\",\"type\":\"observable\"},val)) : undefined; return this.valueFromJulia[\"value\"]=false}),self)]\n        \n    }\n    self.model = new AppViewModel();\n    self.valueFromJulia = {};\n    for (var key in json_data) {\n        self.valueFromJulia[key] = false;\n    }\n    ko.applyBindings(self.model, self.dom);\n}\n"
                ]
               },
               "changes": [
                "(function (val){return (val!=this.model[\"changes\"]()) ? (this.valueFromJulia[\"changes\"]=true, this.model[\"changes\"](val)) : undefined})"
               ],
               "value": [
                "(function (val){return (val!=this.model[\"value\"]()) ? (this.valueFromJulia[\"value\"]=true, this.model[\"value\"](val)) : undefined})"
               ]
              },
              "id": "knockout-component-ed46e655-7b24-4c76-9faa-95d22c99e84c",
              "imports": {
               "data": [
                {
                 "name": "knockout",
                 "type": "js",
                 "url": "/assetserver/7727d7cb3453b9ff588804f2f297360e756850e6-knockout.js"
                },
                {
                 "name": "knockout_punches",
                 "type": "js",
                 "url": "/assetserver/dc191505b241da77a1bd06986b7132036babe315-knockout_punches.js"
                },
                {
                 "name": null,
                 "type": "js",
                 "url": "/assetserver/cf39e83f3445855334efae1f7d0ee012952fe319-all.js"
                },
                {
                 "name": null,
                 "type": "css",
                 "url": "/assetserver/495af69608d773e6cf6efd8fe98ee33ddbad0df5-style.css"
                },
                {
                 "name": null,
                 "type": "css",
                 "url": "/assetserver/9d22e7e1c4dccb3a3bef6ae4d24134fd256d4bfd-main.css"
                }
               ],
               "type": "async_block"
              },
              "observables": {
               "changes": {
                "id": "ob_132",
                "sync": false,
                "value": 0
               },
               "value": {
                "id": "ob_131",
                "sync": false,
                "value": false
               }
              },
              "systemjs_options": null
             },
             "nodeType": "Scope",
             "props": {},
             "type": "node"
            }
           ],
           "instanceArgs": {
            "namespace": "html",
            "tag": "div"
           },
           "nodeType": "DOM",
           "props": {
            "className": "field"
           },
           "type": "node"
          },
          {
           "children": [
            {
             "children": [
              {
               "children": [
                "plot"
               ],
               "instanceArgs": {
                "namespace": "html",
                "tag": "button"
               },
               "nodeType": "DOM",
               "props": {
                "attributes": {
                 "data-bind": "click : function () {this.clicks(this.clicks()+1)}"
                },
                "className": "button is-primary",
                "style": {}
               },
               "type": "node"
              }
             ],
             "instanceArgs": {
              "handlers": {
               "_promises": {
                "importsLoaded": [
                 "function (ko, koPunches) {\n    ko.punches.enableAll();\n    ko.bindingHandlers.numericValue = {\n        init : function(element, valueAccessor, allBindings, data, context) {\n            var stringified = ko.observable(ko.unwrap(valueAccessor()));\n            stringified.subscribe(function(value) {\n                var val = parseFloat(value);\n                if (!isNaN(val)) {\n                    valueAccessor()(val);\n                }\n            })\n            valueAccessor().subscribe(function(value) {\n                var str = JSON.stringify(value);\n                if ((str == \"0\") && ([\"-0\", \"-0.\"].indexOf(stringified()) >= 0))\n                     return;\n                 if ([\"null\", \"\"].indexOf(str) >= 0)\n                     return;\n                stringified(str);\n            })\n            ko.applyBindingsToNode(element, { value: stringified, valueUpdate: allBindings.get('valueUpdate')}, context);\n        }\n    };\n    var json_data = JSON.parse(\"{\\\"clicks\\\":0}\");\n    var self = this;\n    function AppViewModel() {\n        for (var key in json_data) {\n            var el = json_data[key];\n            this[key] = Array.isArray(el) ? ko.observableArray(el) : ko.observable(el);\n        }\n        \n        \n        [this[\"clicks\"].subscribe((function (val){!(this.valueFromJulia[\"clicks\"]) ? (_webIOScope.setObservableValue({\"name\":\"clicks\",\"scope\":\"knockout-component-cd0e12d3-49e4-4127-9098-a908b07f43d3\",\"id\":\"ob_133\",\"type\":\"observable\"},val)) : undefined; return this.valueFromJulia[\"clicks\"]=false}),self)]\n        \n    }\n    self.model = new AppViewModel();\n    self.valueFromJulia = {};\n    for (var key in json_data) {\n        self.valueFromJulia[key] = false;\n    }\n    ko.applyBindings(self.model, self.dom);\n}\n"
                ]
               },
               "clicks": [
                "(function (val){return (val!=this.model[\"clicks\"]()) ? (this.valueFromJulia[\"clicks\"]=true, this.model[\"clicks\"](val)) : undefined})"
               ]
              },
              "id": "knockout-component-cd0e12d3-49e4-4127-9098-a908b07f43d3",
              "imports": {
               "data": [
                {
                 "name": "knockout",
                 "type": "js",
                 "url": "/assetserver/7727d7cb3453b9ff588804f2f297360e756850e6-knockout.js"
                },
                {
                 "name": "knockout_punches",
                 "type": "js",
                 "url": "/assetserver/dc191505b241da77a1bd06986b7132036babe315-knockout_punches.js"
                },
                {
                 "name": null,
                 "type": "js",
                 "url": "/assetserver/cf39e83f3445855334efae1f7d0ee012952fe319-all.js"
                },
                {
                 "name": null,
                 "type": "css",
                 "url": "/assetserver/495af69608d773e6cf6efd8fe98ee33ddbad0df5-style.css"
                },
                {
                 "name": null,
                 "type": "css",
                 "url": "/assetserver/9d22e7e1c4dccb3a3bef6ae4d24134fd256d4bfd-main.css"
                }
               ],
               "type": "async_block"
              },
              "observables": {
               "clicks": {
                "id": "ob_133",
                "sync": true,
                "value": 0
               }
              },
              "systemjs_options": null
             },
             "nodeType": "Scope",
             "props": {},
             "type": "node"
            }
           ],
           "instanceArgs": {
            "namespace": "html",
            "tag": "div"
           },
           "nodeType": "DOM",
           "props": {
            "className": "field"
           },
           "type": "node"
          }
         ],
         "instanceArgs": {
          "namespace": "html",
          "tag": "div"
         },
         "nodeType": "DOM",
         "props": {},
         "type": "node"
        },
        {
         "children": [],
         "instanceArgs": {
          "namespace": "html",
          "tag": "div"
         },
         "nodeType": "DOM",
         "props": {
          "style": {
           "width": "3em"
          }
         },
         "type": "node"
        },
        {
         "children": [
          {
           "children": [
            {
             "children": [],
             "instanceArgs": {
              "namespace": "html",
              "tag": "div"
             },
             "nodeType": "DOM",
             "props": {
              "className": "webio-observable",
              "setInnerHtml": "<?xml version=\"1.0\" encoding=\"utf-8\"?>\n<svg xmlns=\"http://www.w3.org/2000/svg\" xmlns:xlink=\"http://www.w3.org/1999/xlink\" width=\"600\" height=\"400\" viewBox=\"0 0 2400 1600\">\n<defs>\n  <clipPath id=\"clip6500\">\n    <rect x=\"0\" y=\"0\" width=\"2000\" height=\"2000\"/>\n  </clipPath>\n</defs>\n<defs>\n  <clipPath id=\"clip6501\">\n    <rect x=\"0\" y=\"0\" width=\"2400\" height=\"1600\"/>\n  </clipPath>\n</defs>\n<polygon clip-path=\"url(#clip6501)\" points=\"\n0,1600 2400,1600 2400,0 0,0 \n  \" fill=\"#ffffff\" fill-rule=\"evenodd\" fill-opacity=\"1\"/>\n<defs>\n  <clipPath id=\"clip6502\">\n    <rect x=\"480\" y=\"0\" width=\"1681\" height=\"1600\"/>\n  </clipPath>\n</defs>\n<polygon clip-path=\"url(#clip6501)\" points=\"\n161.394,1503.47 2321.26,1503.47 2321.26,47.2441 161.394,47.2441 \n  \" fill=\"#ffffff\" fill-rule=\"evenodd\" fill-opacity=\"1\"/>\n<defs>\n  <clipPath id=\"clip6503\">\n    <rect x=\"161\" y=\"47\" width=\"2161\" height=\"1457\"/>\n  </clipPath>\n</defs>\n<polyline clip-path=\"url(#clip6503)\" style=\"stroke:#000000; stroke-width:2; stroke-opacity:0.1; fill:none\" points=\"\n  161.394,1503.47 161.394,47.2441 \n  \"/>\n<polyline clip-path=\"url(#clip6503)\" style=\"stroke:#000000; stroke-width:2; stroke-opacity:0.1; fill:none\" points=\"\n  593.367,1503.47 593.367,47.2441 \n  \"/>\n<polyline clip-path=\"url(#clip6503)\" style=\"stroke:#000000; stroke-width:2; stroke-opacity:0.1; fill:none\" points=\"\n  1025.34,1503.47 1025.34,47.2441 \n  \"/>\n<polyline clip-path=\"url(#clip6503)\" style=\"stroke:#000000; stroke-width:2; stroke-opacity:0.1; fill:none\" points=\"\n  1457.31,1503.47 1457.31,47.2441 \n  \"/>\n<polyline clip-path=\"url(#clip6503)\" style=\"stroke:#000000; stroke-width:2; stroke-opacity:0.1; fill:none\" points=\"\n  1889.29,1503.47 1889.29,47.2441 \n  \"/>\n<polyline clip-path=\"url(#clip6503)\" style=\"stroke:#000000; stroke-width:2; stroke-opacity:0.1; fill:none\" points=\"\n  2321.26,1503.47 2321.26,47.2441 \n  \"/>\n<polyline clip-path=\"url(#clip6503)\" style=\"stroke:#000000; stroke-width:2; stroke-opacity:0.1; fill:none\" points=\"\n  161.394,1503.47 2321.26,1503.47 \n  \"/>\n<polyline clip-path=\"url(#clip6503)\" style=\"stroke:#000000; stroke-width:2; stroke-opacity:0.1; fill:none\" points=\"\n  161.394,1212.23 2321.26,1212.23 \n  \"/>\n<polyline clip-path=\"url(#clip6503)\" style=\"stroke:#000000; stroke-width:2; stroke-opacity:0.1; fill:none\" points=\"\n  161.394,920.982 2321.26,920.982 \n  \"/>\n<polyline clip-path=\"url(#clip6503)\" style=\"stroke:#000000; stroke-width:2; stroke-opacity:0.1; fill:none\" points=\"\n  161.394,629.736 2321.26,629.736 \n  \"/>\n<polyline clip-path=\"url(#clip6503)\" style=\"stroke:#000000; stroke-width:2; stroke-opacity:0.1; fill:none\" points=\"\n  161.394,338.49 2321.26,338.49 \n  \"/>\n<polyline clip-path=\"url(#clip6503)\" style=\"stroke:#000000; stroke-width:2; stroke-opacity:0.1; fill:none\" points=\"\n  161.394,47.2441 2321.26,47.2441 \n  \"/>\n<polyline clip-path=\"url(#clip6501)\" style=\"stroke:#000000; stroke-width:4; stroke-opacity:1; fill:none\" points=\"\n  161.394,1503.47 2321.26,1503.47 \n  \"/>\n<polyline clip-path=\"url(#clip6501)\" style=\"stroke:#000000; stroke-width:4; stroke-opacity:1; fill:none\" points=\"\n  161.394,1503.47 161.394,47.2441 \n  \"/>\n<polyline clip-path=\"url(#clip6501)\" style=\"stroke:#000000; stroke-width:4; stroke-opacity:1; fill:none\" points=\"\n  161.394,1503.47 161.394,1481.63 \n  \"/>\n<polyline clip-path=\"url(#clip6501)\" style=\"stroke:#000000; stroke-width:4; stroke-opacity:1; fill:none\" points=\"\n  593.367,1503.47 593.367,1481.63 \n  \"/>\n<polyline clip-path=\"url(#clip6501)\" style=\"stroke:#000000; stroke-width:4; stroke-opacity:1; fill:none\" points=\"\n  1025.34,1503.47 1025.34,1481.63 \n  \"/>\n<polyline clip-path=\"url(#clip6501)\" style=\"stroke:#000000; stroke-width:4; stroke-opacity:1; fill:none\" points=\"\n  1457.31,1503.47 1457.31,1481.63 \n  \"/>\n<polyline clip-path=\"url(#clip6501)\" style=\"stroke:#000000; stroke-width:4; stroke-opacity:1; fill:none\" points=\"\n  1889.29,1503.47 1889.29,1481.63 \n  \"/>\n<polyline clip-path=\"url(#clip6501)\" style=\"stroke:#000000; stroke-width:4; stroke-opacity:1; fill:none\" points=\"\n  2321.26,1503.47 2321.26,1481.63 \n  \"/>\n<polyline clip-path=\"url(#clip6501)\" style=\"stroke:#000000; stroke-width:4; stroke-opacity:1; fill:none\" points=\"\n  161.394,1503.47 193.792,1503.47 \n  \"/>\n<polyline clip-path=\"url(#clip6501)\" style=\"stroke:#000000; stroke-width:4; stroke-opacity:1; fill:none\" points=\"\n  161.394,1212.23 193.792,1212.23 \n  \"/>\n<polyline clip-path=\"url(#clip6501)\" style=\"stroke:#000000; stroke-width:4; stroke-opacity:1; fill:none\" points=\"\n  161.394,920.982 193.792,920.982 \n  \"/>\n<polyline clip-path=\"url(#clip6501)\" style=\"stroke:#000000; stroke-width:4; stroke-opacity:1; fill:none\" points=\"\n  161.394,629.736 193.792,629.736 \n  \"/>\n<polyline clip-path=\"url(#clip6501)\" style=\"stroke:#000000; stroke-width:4; stroke-opacity:1; fill:none\" points=\"\n  161.394,338.49 193.792,338.49 \n  \"/>\n<polyline clip-path=\"url(#clip6501)\" style=\"stroke:#000000; stroke-width:4; stroke-opacity:1; fill:none\" points=\"\n  161.394,47.2441 193.792,47.2441 \n  \"/>\n<g clip-path=\"url(#clip6501)\">\n<text style=\"fill:#000000; fill-opacity:1; font-family:Arial,Helvetica Neue,Helvetica,sans-serif; font-size:48px; text-anchor:middle;\" transform=\"rotate(0, 161.394, 1557.47)\" x=\"161.394\" y=\"1557.47\">0.0</text>\n</g>\n<g clip-path=\"url(#clip6501)\">\n<text style=\"fill:#000000; fill-opacity:1; font-family:Arial,Helvetica Neue,Helvetica,sans-serif; font-size:48px; text-anchor:middle;\" transform=\"rotate(0, 593.367, 1557.47)\" x=\"593.367\" y=\"1557.47\">0.2</text>\n</g>\n<g clip-path=\"url(#clip6501)\">\n<text style=\"fill:#000000; fill-opacity:1; font-family:Arial,Helvetica Neue,Helvetica,sans-serif; font-size:48px; text-anchor:middle;\" transform=\"rotate(0, 1025.34, 1557.47)\" x=\"1025.34\" y=\"1557.47\">0.4</text>\n</g>\n<g clip-path=\"url(#clip6501)\">\n<text style=\"fill:#000000; fill-opacity:1; font-family:Arial,Helvetica Neue,Helvetica,sans-serif; font-size:48px; text-anchor:middle;\" transform=\"rotate(0, 1457.31, 1557.47)\" x=\"1457.31\" y=\"1557.47\">0.6</text>\n</g>\n<g clip-path=\"url(#clip6501)\">\n<text style=\"fill:#000000; fill-opacity:1; font-family:Arial,Helvetica Neue,Helvetica,sans-serif; font-size:48px; text-anchor:middle;\" transform=\"rotate(0, 1889.29, 1557.47)\" x=\"1889.29\" y=\"1557.47\">0.8</text>\n</g>\n<g clip-path=\"url(#clip6501)\">\n<text style=\"fill:#000000; fill-opacity:1; font-family:Arial,Helvetica Neue,Helvetica,sans-serif; font-size:48px; text-anchor:middle;\" transform=\"rotate(0, 2321.26, 1557.47)\" x=\"2321.26\" y=\"1557.47\">1.0</text>\n</g>\n<g clip-path=\"url(#clip6501)\">\n<text style=\"fill:#000000; fill-opacity:1; font-family:Arial,Helvetica Neue,Helvetica,sans-serif; font-size:48px; text-anchor:end;\" transform=\"rotate(0, 137.394, 1520.97)\" x=\"137.394\" y=\"1520.97\">0.0</text>\n</g>\n<g clip-path=\"url(#clip6501)\">\n<text style=\"fill:#000000; fill-opacity:1; font-family:Arial,Helvetica Neue,Helvetica,sans-serif; font-size:48px; text-anchor:end;\" transform=\"rotate(0, 137.394, 1229.73)\" x=\"137.394\" y=\"1229.73\">0.2</text>\n</g>\n<g clip-path=\"url(#clip6501)\">\n<text style=\"fill:#000000; fill-opacity:1; font-family:Arial,Helvetica Neue,Helvetica,sans-serif; font-size:48px; text-anchor:end;\" transform=\"rotate(0, 137.394, 938.482)\" x=\"137.394\" y=\"938.482\">0.4</text>\n</g>\n<g clip-path=\"url(#clip6501)\">\n<text style=\"fill:#000000; fill-opacity:1; font-family:Arial,Helvetica Neue,Helvetica,sans-serif; font-size:48px; text-anchor:end;\" transform=\"rotate(0, 137.394, 647.236)\" x=\"137.394\" y=\"647.236\">0.6</text>\n</g>\n<g clip-path=\"url(#clip6501)\">\n<text style=\"fill:#000000; fill-opacity:1; font-family:Arial,Helvetica Neue,Helvetica,sans-serif; font-size:48px; text-anchor:end;\" transform=\"rotate(0, 137.394, 355.99)\" x=\"137.394\" y=\"355.99\">0.8</text>\n</g>\n<g clip-path=\"url(#clip6501)\">\n<text style=\"fill:#000000; fill-opacity:1; font-family:Arial,Helvetica Neue,Helvetica,sans-serif; font-size:48px; text-anchor:end;\" transform=\"rotate(0, 137.394, 64.7441)\" x=\"137.394\" y=\"64.7441\">1.0</text>\n</g>\n</svg>\n"
             },
             "type": "node"
            }
           ],
           "instanceArgs": {
            "handlers": {
             "obs-output": [
              "function (value, scope) {\n    scope.setInnerHTML(value);\n}\n"
             ]
            },
            "id": "scope-1d8d66a4-0057-4e8c-a2ef-e5c848f9986b",
            "imports": {
             "data": [],
             "type": "async_block"
            },
            "observables": {
             "obs-output": {
              "id": "ob_136",
              "sync": false,
              "value": "<?xml version=\"1.0\" encoding=\"utf-8\"?>\n<svg xmlns=\"http://www.w3.org/2000/svg\" xmlns:xlink=\"http://www.w3.org/1999/xlink\" width=\"600\" height=\"400\" viewBox=\"0 0 2400 1600\">\n<defs>\n  <clipPath id=\"clip6500\">\n    <rect x=\"0\" y=\"0\" width=\"2000\" height=\"2000\"/>\n  </clipPath>\n</defs>\n<defs>\n  <clipPath id=\"clip6501\">\n    <rect x=\"0\" y=\"0\" width=\"2400\" height=\"1600\"/>\n  </clipPath>\n</defs>\n<polygon clip-path=\"url(#clip6501)\" points=\"\n0,1600 2400,1600 2400,0 0,0 \n  \" fill=\"#ffffff\" fill-rule=\"evenodd\" fill-opacity=\"1\"/>\n<defs>\n  <clipPath id=\"clip6502\">\n    <rect x=\"480\" y=\"0\" width=\"1681\" height=\"1600\"/>\n  </clipPath>\n</defs>\n<polygon clip-path=\"url(#clip6501)\" points=\"\n161.394,1503.47 2321.26,1503.47 2321.26,47.2441 161.394,47.2441 \n  \" fill=\"#ffffff\" fill-rule=\"evenodd\" fill-opacity=\"1\"/>\n<defs>\n  <clipPath id=\"clip6503\">\n    <rect x=\"161\" y=\"47\" width=\"2161\" height=\"1457\"/>\n  </clipPath>\n</defs>\n<polyline clip-path=\"url(#clip6503)\" style=\"stroke:#000000; stroke-width:2; stroke-opacity:0.1; fill:none\" points=\"\n  161.394,1503.47 161.394,47.2441 \n  \"/>\n<polyline clip-path=\"url(#clip6503)\" style=\"stroke:#000000; stroke-width:2; stroke-opacity:0.1; fill:none\" points=\"\n  593.367,1503.47 593.367,47.2441 \n  \"/>\n<polyline clip-path=\"url(#clip6503)\" style=\"stroke:#000000; stroke-width:2; stroke-opacity:0.1; fill:none\" points=\"\n  1025.34,1503.47 1025.34,47.2441 \n  \"/>\n<polyline clip-path=\"url(#clip6503)\" style=\"stroke:#000000; stroke-width:2; stroke-opacity:0.1; fill:none\" points=\"\n  1457.31,1503.47 1457.31,47.2441 \n  \"/>\n<polyline clip-path=\"url(#clip6503)\" style=\"stroke:#000000; stroke-width:2; stroke-opacity:0.1; fill:none\" points=\"\n  1889.29,1503.47 1889.29,47.2441 \n  \"/>\n<polyline clip-path=\"url(#clip6503)\" style=\"stroke:#000000; stroke-width:2; stroke-opacity:0.1; fill:none\" points=\"\n  2321.26,1503.47 2321.26,47.2441 \n  \"/>\n<polyline clip-path=\"url(#clip6503)\" style=\"stroke:#000000; stroke-width:2; stroke-opacity:0.1; fill:none\" points=\"\n  161.394,1503.47 2321.26,1503.47 \n  \"/>\n<polyline clip-path=\"url(#clip6503)\" style=\"stroke:#000000; stroke-width:2; stroke-opacity:0.1; fill:none\" points=\"\n  161.394,1212.23 2321.26,1212.23 \n  \"/>\n<polyline clip-path=\"url(#clip6503)\" style=\"stroke:#000000; stroke-width:2; stroke-opacity:0.1; fill:none\" points=\"\n  161.394,920.982 2321.26,920.982 \n  \"/>\n<polyline clip-path=\"url(#clip6503)\" style=\"stroke:#000000; stroke-width:2; stroke-opacity:0.1; fill:none\" points=\"\n  161.394,629.736 2321.26,629.736 \n  \"/>\n<polyline clip-path=\"url(#clip6503)\" style=\"stroke:#000000; stroke-width:2; stroke-opacity:0.1; fill:none\" points=\"\n  161.394,338.49 2321.26,338.49 \n  \"/>\n<polyline clip-path=\"url(#clip6503)\" style=\"stroke:#000000; stroke-width:2; stroke-opacity:0.1; fill:none\" points=\"\n  161.394,47.2441 2321.26,47.2441 \n  \"/>\n<polyline clip-path=\"url(#clip6501)\" style=\"stroke:#000000; stroke-width:4; stroke-opacity:1; fill:none\" points=\"\n  161.394,1503.47 2321.26,1503.47 \n  \"/>\n<polyline clip-path=\"url(#clip6501)\" style=\"stroke:#000000; stroke-width:4; stroke-opacity:1; fill:none\" points=\"\n  161.394,1503.47 161.394,47.2441 \n  \"/>\n<polyline clip-path=\"url(#clip6501)\" style=\"stroke:#000000; stroke-width:4; stroke-opacity:1; fill:none\" points=\"\n  161.394,1503.47 161.394,1481.63 \n  \"/>\n<polyline clip-path=\"url(#clip6501)\" style=\"stroke:#000000; stroke-width:4; stroke-opacity:1; fill:none\" points=\"\n  593.367,1503.47 593.367,1481.63 \n  \"/>\n<polyline clip-path=\"url(#clip6501)\" style=\"stroke:#000000; stroke-width:4; stroke-opacity:1; fill:none\" points=\"\n  1025.34,1503.47 1025.34,1481.63 \n  \"/>\n<polyline clip-path=\"url(#clip6501)\" style=\"stroke:#000000; stroke-width:4; stroke-opacity:1; fill:none\" points=\"\n  1457.31,1503.47 1457.31,1481.63 \n  \"/>\n<polyline clip-path=\"url(#clip6501)\" style=\"stroke:#000000; stroke-width:4; stroke-opacity:1; fill:none\" points=\"\n  1889.29,1503.47 1889.29,1481.63 \n  \"/>\n<polyline clip-path=\"url(#clip6501)\" style=\"stroke:#000000; stroke-width:4; stroke-opacity:1; fill:none\" points=\"\n  2321.26,1503.47 2321.26,1481.63 \n  \"/>\n<polyline clip-path=\"url(#clip6501)\" style=\"stroke:#000000; stroke-width:4; stroke-opacity:1; fill:none\" points=\"\n  161.394,1503.47 193.792,1503.47 \n  \"/>\n<polyline clip-path=\"url(#clip6501)\" style=\"stroke:#000000; stroke-width:4; stroke-opacity:1; fill:none\" points=\"\n  161.394,1212.23 193.792,1212.23 \n  \"/>\n<polyline clip-path=\"url(#clip6501)\" style=\"stroke:#000000; stroke-width:4; stroke-opacity:1; fill:none\" points=\"\n  161.394,920.982 193.792,920.982 \n  \"/>\n<polyline clip-path=\"url(#clip6501)\" style=\"stroke:#000000; stroke-width:4; stroke-opacity:1; fill:none\" points=\"\n  161.394,629.736 193.792,629.736 \n  \"/>\n<polyline clip-path=\"url(#clip6501)\" style=\"stroke:#000000; stroke-width:4; stroke-opacity:1; fill:none\" points=\"\n  161.394,338.49 193.792,338.49 \n  \"/>\n<polyline clip-path=\"url(#clip6501)\" style=\"stroke:#000000; stroke-width:4; stroke-opacity:1; fill:none\" points=\"\n  161.394,47.2441 193.792,47.2441 \n  \"/>\n<g clip-path=\"url(#clip6501)\">\n<text style=\"fill:#000000; fill-opacity:1; font-family:Arial,Helvetica Neue,Helvetica,sans-serif; font-size:48px; text-anchor:middle;\" transform=\"rotate(0, 161.394, 1557.47)\" x=\"161.394\" y=\"1557.47\">0.0</text>\n</g>\n<g clip-path=\"url(#clip6501)\">\n<text style=\"fill:#000000; fill-opacity:1; font-family:Arial,Helvetica Neue,Helvetica,sans-serif; font-size:48px; text-anchor:middle;\" transform=\"rotate(0, 593.367, 1557.47)\" x=\"593.367\" y=\"1557.47\">0.2</text>\n</g>\n<g clip-path=\"url(#clip6501)\">\n<text style=\"fill:#000000; fill-opacity:1; font-family:Arial,Helvetica Neue,Helvetica,sans-serif; font-size:48px; text-anchor:middle;\" transform=\"rotate(0, 1025.34, 1557.47)\" x=\"1025.34\" y=\"1557.47\">0.4</text>\n</g>\n<g clip-path=\"url(#clip6501)\">\n<text style=\"fill:#000000; fill-opacity:1; font-family:Arial,Helvetica Neue,Helvetica,sans-serif; font-size:48px; text-anchor:middle;\" transform=\"rotate(0, 1457.31, 1557.47)\" x=\"1457.31\" y=\"1557.47\">0.6</text>\n</g>\n<g clip-path=\"url(#clip6501)\">\n<text style=\"fill:#000000; fill-opacity:1; font-family:Arial,Helvetica Neue,Helvetica,sans-serif; font-size:48px; text-anchor:middle;\" transform=\"rotate(0, 1889.29, 1557.47)\" x=\"1889.29\" y=\"1557.47\">0.8</text>\n</g>\n<g clip-path=\"url(#clip6501)\">\n<text style=\"fill:#000000; fill-opacity:1; font-family:Arial,Helvetica Neue,Helvetica,sans-serif; font-size:48px; text-anchor:middle;\" transform=\"rotate(0, 2321.26, 1557.47)\" x=\"2321.26\" y=\"1557.47\">1.0</text>\n</g>\n<g clip-path=\"url(#clip6501)\">\n<text style=\"fill:#000000; fill-opacity:1; font-family:Arial,Helvetica Neue,Helvetica,sans-serif; font-size:48px; text-anchor:end;\" transform=\"rotate(0, 137.394, 1520.97)\" x=\"137.394\" y=\"1520.97\">0.0</text>\n</g>\n<g clip-path=\"url(#clip6501)\">\n<text style=\"fill:#000000; fill-opacity:1; font-family:Arial,Helvetica Neue,Helvetica,sans-serif; font-size:48px; text-anchor:end;\" transform=\"rotate(0, 137.394, 1229.73)\" x=\"137.394\" y=\"1229.73\">0.2</text>\n</g>\n<g clip-path=\"url(#clip6501)\">\n<text style=\"fill:#000000; fill-opacity:1; font-family:Arial,Helvetica Neue,Helvetica,sans-serif; font-size:48px; text-anchor:end;\" transform=\"rotate(0, 137.394, 938.482)\" x=\"137.394\" y=\"938.482\">0.4</text>\n</g>\n<g clip-path=\"url(#clip6501)\">\n<text style=\"fill:#000000; fill-opacity:1; font-family:Arial,Helvetica Neue,Helvetica,sans-serif; font-size:48px; text-anchor:end;\" transform=\"rotate(0, 137.394, 647.236)\" x=\"137.394\" y=\"647.236\">0.6</text>\n</g>\n<g clip-path=\"url(#clip6501)\">\n<text style=\"fill:#000000; fill-opacity:1; font-family:Arial,Helvetica Neue,Helvetica,sans-serif; font-size:48px; text-anchor:end;\" transform=\"rotate(0, 137.394, 355.99)\" x=\"137.394\" y=\"355.99\">0.8</text>\n</g>\n<g clip-path=\"url(#clip6501)\">\n<text style=\"fill:#000000; fill-opacity:1; font-family:Arial,Helvetica Neue,Helvetica,sans-serif; font-size:48px; text-anchor:end;\" transform=\"rotate(0, 137.394, 64.7441)\" x=\"137.394\" y=\"64.7441\">1.0</text>\n</g>\n</svg>\n"
             }
            },
            "systemjs_options": null
           },
           "nodeType": "Scope",
           "props": {},
           "type": "node"
          },
          {
           "children": [
            {
             "children": [
              {
               "children": [
                {
                 "children": [
                  {
                   "children": [
                    {
                     "children": [
                      "number of bins"
                     ],
                     "instanceArgs": {
                      "namespace": "html",
                      "tag": "label"
                     },
                     "nodeType": "DOM",
                     "props": {
                      "className": "interact ",
                      "style": {
                       "padding": "5px 10px 0px 10px"
                      }
                     },
                     "type": "node"
                    }
                   ],
                   "instanceArgs": {
                    "namespace": "html",
                    "tag": "div"
                   },
                   "nodeType": "DOM",
                   "props": {
                    "attributes": {
                     "style": "text-align:right;width:18%"
                    }
                   },
                   "type": "node"
                  },
                  {
                   "children": [
                    {
                     "children": [],
                     "instanceArgs": {
                      "namespace": "html",
                      "tag": "input"
                     },
                     "nodeType": "DOM",
                     "props": {
                      "attributes": {
                       "data-bind": "numericValue: value, valueUpdate: 'input', event: {change : function () {this.changes(this.changes()+1)}}",
                       "orient": "horizontal",
                       "type": "range"
                      },
                      "className": "slider slider is-fullwidth",
                      "max": 100,
                      "min": 1,
                      "step": 1,
                      "style": {}
                     },
                     "type": "node"
                    }
                   ],
                   "instanceArgs": {
                    "namespace": "html",
                    "tag": "div"
                   },
                   "nodeType": "DOM",
                   "props": {
                    "attributes": {
                     "style": "flex-grow:1; margin: 0 2%"
                    }
                   },
                   "type": "node"
                  },
                  {
                   "children": [
                    {
                     "children": [],
                     "instanceArgs": {
                      "namespace": "html",
                      "tag": "p"
                     },
                     "nodeType": "DOM",
                     "props": {
                      "attributes": {
                       "data-bind": "text: value"
                      }
                     },
                     "type": "node"
                    }
                   ],
                   "instanceArgs": {
                    "namespace": "html",
                    "tag": "div"
                   },
                   "nodeType": "DOM",
                   "props": {
                    "attributes": {
                     "style": "width:18%"
                    }
                   },
                   "type": "node"
                  }
                 ],
                 "instanceArgs": {
                  "namespace": "html",
                  "tag": "div"
                 },
                 "nodeType": "DOM",
                 "props": {
                  "attributes": {
                   "style": "display:flex; justify-content:center; align-items:center;"
                  }
                 },
                 "type": "node"
                }
               ],
               "instanceArgs": {
                "namespace": "html",
                "tag": "div"
               },
               "nodeType": "DOM",
               "props": {
                "attributes": {
                 "data-bind": "style: {display: display}"
                }
               },
               "type": "node"
              }
             ],
             "instanceArgs": {
              "handlers": {
               "_promises": {
                "importsLoaded": [
                 "function (ko, koPunches) {\n    ko.punches.enableAll();\n    ko.bindingHandlers.numericValue = {\n        init : function(element, valueAccessor, allBindings, data, context) {\n            var stringified = ko.observable(ko.unwrap(valueAccessor()));\n            stringified.subscribe(function(value) {\n                var val = parseFloat(value);\n                if (!isNaN(val)) {\n                    valueAccessor()(val);\n                }\n            })\n            valueAccessor().subscribe(function(value) {\n                var str = JSON.stringify(value);\n                if ((str == \"0\") && ([\"-0\", \"-0.\"].indexOf(stringified()) >= 0))\n                     return;\n                 if ([\"null\", \"\"].indexOf(str) >= 0)\n                     return;\n                stringified(str);\n            })\n            ko.applyBindingsToNode(element, { value: stringified, valueUpdate: allBindings.get('valueUpdate')}, context);\n        }\n    };\n    var json_data = JSON.parse(\"{\\\"display\\\":\\\"none\\\",\\\"changes\\\":0,\\\"value\\\":30}\");\n    var self = this;\n    function AppViewModel() {\n        for (var key in json_data) {\n            var el = json_data[key];\n            this[key] = Array.isArray(el) ? ko.observableArray(el) : ko.observable(el);\n        }\n        \n        \n        [this[\"display\"].subscribe((function (val){!(this.valueFromJulia[\"display\"]) ? (_webIOScope.setObservableValue({\"name\":\"display\",\"scope\":\"knockout-component-45d6a74d-084a-49b6-9034-8025b9f1d06a\",\"id\":\"ob_122\",\"type\":\"observable\"},val)) : undefined; return this.valueFromJulia[\"display\"]=false}),self),this[\"changes\"].subscribe((function (val){!(this.valueFromJulia[\"changes\"]) ? (_webIOScope.setObservableValue({\"name\":\"changes\",\"scope\":\"knockout-component-45d6a74d-084a-49b6-9034-8025b9f1d06a\",\"id\":\"ob_124\",\"type\":\"observable\"},val)) : undefined; return this.valueFromJulia[\"changes\"]=false}),self),this[\"value\"].subscribe((function (val){!(this.valueFromJulia[\"value\"]) ? (_webIOScope.setObservableValue({\"name\":\"value\",\"scope\":\"knockout-component-45d6a74d-084a-49b6-9034-8025b9f1d06a\",\"id\":\"ob_123\",\"type\":\"observable\"},val)) : undefined; return this.valueFromJulia[\"value\"]=false}),self)]\n        \n    }\n    self.model = new AppViewModel();\n    self.valueFromJulia = {};\n    for (var key in json_data) {\n        self.valueFromJulia[key] = false;\n    }\n    ko.applyBindings(self.model, self.dom);\n}\n"
                ]
               },
               "changes": [
                "(function (val){return (val!=this.model[\"changes\"]()) ? (this.valueFromJulia[\"changes\"]=true, this.model[\"changes\"](val)) : undefined})"
               ],
               "display": [
                "(function (val){return (val!=this.model[\"display\"]()) ? (this.valueFromJulia[\"display\"]=true, this.model[\"display\"](val)) : undefined})"
               ],
               "value": [
                "(function (val){return (val!=this.model[\"value\"]()) ? (this.valueFromJulia[\"value\"]=true, this.model[\"value\"](val)) : undefined})"
               ]
              },
              "id": "knockout-component-45d6a74d-084a-49b6-9034-8025b9f1d06a",
              "imports": {
               "data": [
                {
                 "name": "knockout",
                 "type": "js",
                 "url": "/assetserver/7727d7cb3453b9ff588804f2f297360e756850e6-knockout.js"
                },
                {
                 "name": "knockout_punches",
                 "type": "js",
                 "url": "/assetserver/dc191505b241da77a1bd06986b7132036babe315-knockout_punches.js"
                },
                {
                 "name": null,
                 "type": "js",
                 "url": "/assetserver/cf39e83f3445855334efae1f7d0ee012952fe319-all.js"
                },
                {
                 "name": null,
                 "type": "css",
                 "url": "/assetserver/495af69608d773e6cf6efd8fe98ee33ddbad0df5-style.css"
                },
                {
                 "name": null,
                 "type": "css",
                 "url": "/assetserver/9d22e7e1c4dccb3a3bef6ae4d24134fd256d4bfd-main.css"
                }
               ],
               "type": "async_block"
              },
              "observables": {
               "changes": {
                "id": "ob_124",
                "sync": false,
                "value": 0
               },
               "display": {
                "id": "ob_122",
                "sync": false,
                "value": "none"
               },
               "value": {
                "id": "ob_123",
                "sync": true,
                "value": 30
               }
              },
              "systemjs_options": null
             },
             "nodeType": "Scope",
             "props": {},
             "type": "node"
            }
           ],
           "instanceArgs": {
            "namespace": "html",
            "tag": "div"
           },
           "nodeType": "DOM",
           "props": {
            "className": "field"
           },
           "type": "node"
          }
         ],
         "instanceArgs": {
          "namespace": "html",
          "tag": "div"
         },
         "nodeType": "DOM",
         "props": {},
         "type": "node"
        }
       ],
       "instanceArgs": {
        "namespace": "html",
        "tag": "div"
       },
       "nodeType": "DOM",
       "props": {
        "style": {
         "direction": "row",
         "display": "flex"
        }
       },
       "type": "node"
      },
      "text/html": [
       "<div\n",
       "    class=\"webio-mountpoint\"\n",
       "    data-webio-mountpoint=\"12342534388559288308\"\n",
       ">\n",
       "    <script>\n",
       "    if (window.require && require.defined && require.defined(\"nbextensions/webio/main\")) {\n",
       "        console.log(\"Jupyter WebIO extension detected, not mounting.\");\n",
       "    } else if (window.WebIO) {\n",
       "        WebIO.mount(\n",
       "            document.querySelector('[data-webio-mountpoint=\"12342534388559288308\"]'),\n",
       "            {\"props\":{\"style\":{\"display\":\"flex\",\"direction\":\"row\"}},\"nodeType\":\"DOM\",\"type\":\"node\",\"instanceArgs\":{\"namespace\":\"html\",\"tag\":\"div\"},\"children\":[{\"props\":{},\"nodeType\":\"DOM\",\"type\":\"node\",\"instanceArgs\":{\"namespace\":\"html\",\"tag\":\"div\"},\"children\":[{\"props\":{\"className\":\"field\"},\"nodeType\":\"DOM\",\"type\":\"node\",\"instanceArgs\":{\"namespace\":\"html\",\"tag\":\"div\"},\"children\":[{\"props\":{},\"nodeType\":\"Scope\",\"type\":\"node\",\"instanceArgs\":{\"imports\":{\"data\":[{\"name\":\"knockout\",\"type\":\"js\",\"url\":\"\\/assetserver\\/7727d7cb3453b9ff588804f2f297360e756850e6-knockout.js\"},{\"name\":\"knockout_punches\",\"type\":\"js\",\"url\":\"\\/assetserver\\/dc191505b241da77a1bd06986b7132036babe315-knockout_punches.js\"},{\"name\":null,\"type\":\"js\",\"url\":\"\\/assetserver\\/cf39e83f3445855334efae1f7d0ee012952fe319-all.js\"},{\"name\":null,\"type\":\"css\",\"url\":\"\\/assetserver\\/495af69608d773e6cf6efd8fe98ee33ddbad0df5-style.css\"},{\"name\":null,\"type\":\"css\",\"url\":\"\\/assetserver\\/9d22e7e1c4dccb3a3bef6ae4d24134fd256d4bfd-main.css\"}],\"type\":\"async_block\"},\"id\":\"knockout-component-789862ec-82b6-4138-b193-0af65d119e56\",\"handlers\":{\"_promises\":{\"importsLoaded\":[\"function (ko, koPunches) {\\n    ko.punches.enableAll();\\n    ko.bindingHandlers.numericValue = {\\n        init : function(element, valueAccessor, allBindings, data, context) {\\n            var stringified = ko.observable(ko.unwrap(valueAccessor()));\\n            stringified.subscribe(function(value) {\\n                var val = parseFloat(value);\\n                if (!isNaN(val)) {\\n                    valueAccessor()(val);\\n                }\\n            })\\n            valueAccessor().subscribe(function(value) {\\n                var str = JSON.stringify(value);\\n                if ((str == \\\"0\\\") && ([\\\"-0\\\", \\\"-0.\\\"].indexOf(stringified()) >= 0))\\n                     return;\\n                 if ([\\\"null\\\", \\\"\\\"].indexOf(str) >= 0)\\n                     return;\\n                stringified(str);\\n            })\\n            ko.applyBindingsToNode(element, { value: stringified, valueUpdate: allBindings.get('valueUpdate')}, context);\\n        }\\n    };\\n    var json_data = JSON.parse(\\\"{\\\\\\\"options_js\\\\\\\":[{\\\\\\\"key\\\\\\\":\\\\\\\"First axis\\\\\\\",\\\\\\\"val\\\\\\\":0,\\\\\\\"id\\\\\\\":\\\\\\\"idbhkB5vaG\\\\\\\"},{\\\\\\\"key\\\\\\\":\\\\\\\"scenario\\\\\\\",\\\\\\\"val\\\\\\\":1,\\\\\\\"id\\\\\\\":\\\\\\\"idq5cUQZL1\\\\\\\"},{\\\\\\\"key\\\\\\\":\\\\\\\"policy\\\\\\\",\\\\\\\"val\\\\\\\":2,\\\\\\\"id\\\\\\\":\\\\\\\"idMW10WwGm\\\\\\\"},{\\\\\\\"key\\\\\\\":\\\\\\\"updater\\\\\\\",\\\\\\\"val\\\\\\\":3,\\\\\\\"id\\\\\\\":\\\\\\\"idmyHCED8N\\\\\\\"},{\\\\\\\"key\\\\\\\":\\\\\\\"n_episodes\\\\\\\",\\\\\\\"val\\\\\\\":4,\\\\\\\"id\\\\\\\":\\\\\\\"idxahsprqa\\\\\\\"},{\\\\\\\"key\\\\\\\":\\\\\\\"reward_mean\\\\\\\",\\\\\\\"val\\\\\\\":5,\\\\\\\"id\\\\\\\":\\\\\\\"idI2wSQOfZ\\\\\\\"},{\\\\\\\"key\\\\\\\":\\\\\\\"reward_std\\\\\\\",\\\\\\\"val\\\\\\\":6,\\\\\\\"id\\\\\\\":\\\\\\\"idnBpgbroM\\\\\\\"},{\\\\\\\"key\\\\\\\":\\\\\\\"steps_mean\\\\\\\",\\\\\\\"val\\\\\\\":7,\\\\\\\"id\\\\\\\":\\\\\\\"idQmDU7OFn\\\\\\\"},{\\\\\\\"key\\\\\\\":\\\\\\\"steps_std\\\\\\\",\\\\\\\"val\\\\\\\":8,\\\\\\\"id\\\\\\\":\\\\\\\"idAgJP8QPp\\\\\\\"},{\\\\\\\"key\\\\\\\":\\\\\\\"violations_mean\\\\\\\",\\\\\\\"val\\\\\\\":9,\\\\\\\"id\\\\\\\":\\\\\\\"idvcx4izYF\\\\\\\"},{\\\\\\\"key\\\\\\\":\\\\\\\"violations_std\\\\\\\",\\\\\\\"val\\\\\\\":10,\\\\\\\"id\\\\\\\":\\\\\\\"idkxtIgFqc\\\\\\\"},{\\\\\\\"key\\\\\\\":\\\\\\\"time\\\\\\\",\\\\\\\"val\\\\\\\":11,\\\\\\\"id\\\\\\\":\\\\\\\"id30kDcs1E\\\\\\\"}],\\\\\\\"index\\\\\\\":[]}\\\");\\n    var self = this;\\n    function AppViewModel() {\\n        for (var key in json_data) {\\n            var el = json_data[key];\\n            this[key] = Array.isArray(el) ? ko.observableArray(el) : ko.observable(el);\\n        }\\n        [this[\\\"disablePlaceholder\\\"]=function(option, item) {\\n    ko.applyBindingsToNode(option, {disable: item.val == 0}, item);\\n}\\n]\\n        \\n        [this[\\\"options_js\\\"].subscribe((function (val){!(this.valueFromJulia[\\\"options_js\\\"]) ? (_webIOScope.setObservableValue({\\\"name\\\":\\\"options_js\\\",\\\"scope\\\":\\\"knockout-component-789862ec-82b6-4138-b193-0af65d119e56\\\",\\\"id\\\":\\\"ob_110\\\",\\\"type\\\":\\\"observable\\\"},val)) : undefined; return this.valueFromJulia[\\\"options_js\\\"]=false}),self),this[\\\"index\\\"].subscribe((function (val){!(this.valueFromJulia[\\\"index\\\"]) ? (_webIOScope.setObservableValue({\\\"name\\\":\\\"index\\\",\\\"scope\\\":\\\"knockout-component-789862ec-82b6-4138-b193-0af65d119e56\\\",\\\"id\\\":\\\"ob_109\\\",\\\"type\\\":\\\"observable\\\"},val)) : undefined; return this.valueFromJulia[\\\"index\\\"]=false}),self)]\\n        \\n    }\\n    self.model = new AppViewModel();\\n    self.valueFromJulia = {};\\n    for (var key in json_data) {\\n        self.valueFromJulia[key] = false;\\n    }\\n    ko.applyBindings(self.model, self.dom);\\n}\\n\"]},\"options_js\":[\"(function (val){return (val!=this.model[\\\"options_js\\\"]()) ? (this.valueFromJulia[\\\"options_js\\\"]=true, this.model[\\\"options_js\\\"](val)) : undefined})\"],\"index\":[\"(function (val){return (val!=this.model[\\\"index\\\"]()) ? (this.valueFromJulia[\\\"index\\\"]=true, this.model[\\\"index\\\"](val)) : undefined})\"]},\"systemjs_options\":null,\"observables\":{\"options_js\":{\"sync\":false,\"id\":\"ob_110\",\"value\":[{\"key\":\"First axis\",\"val\":0,\"id\":\"idbhkB5vaG\"},{\"key\":\"scenario\",\"val\":1,\"id\":\"idq5cUQZL1\"},{\"key\":\"policy\",\"val\":2,\"id\":\"idMW10WwGm\"},{\"key\":\"updater\",\"val\":3,\"id\":\"idmyHCED8N\"},{\"key\":\"n_episodes\",\"val\":4,\"id\":\"idxahsprqa\"},{\"key\":\"reward_mean\",\"val\":5,\"id\":\"idI2wSQOfZ\"},{\"key\":\"reward_std\",\"val\":6,\"id\":\"idnBpgbroM\"},{\"key\":\"steps_mean\",\"val\":7,\"id\":\"idQmDU7OFn\"},{\"key\":\"steps_std\",\"val\":8,\"id\":\"idAgJP8QPp\"},{\"key\":\"violations_mean\",\"val\":9,\"id\":\"idvcx4izYF\"},{\"key\":\"violations_std\",\"val\":10,\"id\":\"idkxtIgFqc\"},{\"key\":\"time\",\"val\":11,\"id\":\"id30kDcs1E\"}]},\"index\":{\"sync\":true,\"id\":\"ob_109\",\"value\":[]}}},\"children\":[{\"props\":{\"className\":\"select is-multiple \"},\"nodeType\":\"DOM\",\"type\":\"node\",\"instanceArgs\":{\"namespace\":\"html\",\"tag\":\"div\"},\"children\":[{\"props\":{\"attributes\":{\"multiple\":true,\"data-bind\":\"options : options_js, selectedOptions : index, optionsText: 'key', optionsValue: 'val', valueAllowUnset: true, optionsAfterRender: disablePlaceholder\"}},\"nodeType\":\"DOM\",\"type\":\"node\",\"instanceArgs\":{\"namespace\":\"html\",\"tag\":\"select\"},\"children\":[]}]}]}]},{\"props\":{\"className\":\"field\"},\"nodeType\":\"DOM\",\"type\":\"node\",\"instanceArgs\":{\"namespace\":\"html\",\"tag\":\"div\"},\"children\":[{\"props\":{},\"nodeType\":\"Scope\",\"type\":\"node\",\"instanceArgs\":{\"imports\":{\"data\":[{\"name\":\"knockout\",\"type\":\"js\",\"url\":\"\\/assetserver\\/7727d7cb3453b9ff588804f2f297360e756850e6-knockout.js\"},{\"name\":\"knockout_punches\",\"type\":\"js\",\"url\":\"\\/assetserver\\/dc191505b241da77a1bd06986b7132036babe315-knockout_punches.js\"},{\"name\":null,\"type\":\"js\",\"url\":\"\\/assetserver\\/cf39e83f3445855334efae1f7d0ee012952fe319-all.js\"},{\"name\":null,\"type\":\"css\",\"url\":\"\\/assetserver\\/495af69608d773e6cf6efd8fe98ee33ddbad0df5-style.css\"},{\"name\":null,\"type\":\"css\",\"url\":\"\\/assetserver\\/9d22e7e1c4dccb3a3bef6ae4d24134fd256d4bfd-main.css\"}],\"type\":\"async_block\"},\"id\":\"knockout-component-81abe908-c14d-480e-b4cc-5e97e00dcc7e\",\"handlers\":{\"_promises\":{\"importsLoaded\":[\"function (ko, koPunches) {\\n    ko.punches.enableAll();\\n    ko.bindingHandlers.numericValue = {\\n        init : function(element, valueAccessor, allBindings, data, context) {\\n            var stringified = ko.observable(ko.unwrap(valueAccessor()));\\n            stringified.subscribe(function(value) {\\n                var val = parseFloat(value);\\n                if (!isNaN(val)) {\\n                    valueAccessor()(val);\\n                }\\n            })\\n            valueAccessor().subscribe(function(value) {\\n                var str = JSON.stringify(value);\\n                if ((str == \\\"0\\\") && ([\\\"-0\\\", \\\"-0.\\\"].indexOf(stringified()) >= 0))\\n                     return;\\n                 if ([\\\"null\\\", \\\"\\\"].indexOf(str) >= 0)\\n                     return;\\n                stringified(str);\\n            })\\n            ko.applyBindingsToNode(element, { value: stringified, valueUpdate: allBindings.get('valueUpdate')}, context);\\n        }\\n    };\\n    var json_data = JSON.parse(\\\"{\\\\\\\"changes\\\\\\\":0,\\\\\\\"value\\\\\\\":false}\\\");\\n    var self = this;\\n    function AppViewModel() {\\n        for (var key in json_data) {\\n            var el = json_data[key];\\n            this[key] = Array.isArray(el) ? ko.observableArray(el) : ko.observable(el);\\n        }\\n        \\n        \\n        [this[\\\"changes\\\"].subscribe((function (val){!(this.valueFromJulia[\\\"changes\\\"]) ? (_webIOScope.setObservableValue({\\\"name\\\":\\\"changes\\\",\\\"scope\\\":\\\"knockout-component-81abe908-c14d-480e-b4cc-5e97e00dcc7e\\\",\\\"id\\\":\\\"ob_116\\\",\\\"type\\\":\\\"observable\\\"},val)) : undefined; return this.valueFromJulia[\\\"changes\\\"]=false}),self),this[\\\"value\\\"].subscribe((function (val){!(this.valueFromJulia[\\\"value\\\"]) ? (_webIOScope.setObservableValue({\\\"name\\\":\\\"value\\\",\\\"scope\\\":\\\"knockout-component-81abe908-c14d-480e-b4cc-5e97e00dcc7e\\\",\\\"id\\\":\\\"ob_115\\\",\\\"type\\\":\\\"observable\\\"},val)) : undefined; return this.valueFromJulia[\\\"value\\\"]=false}),self)]\\n        \\n    }\\n    self.model = new AppViewModel();\\n    self.valueFromJulia = {};\\n    for (var key in json_data) {\\n        self.valueFromJulia[key] = false;\\n    }\\n    ko.applyBindings(self.model, self.dom);\\n}\\n\"]},\"changes\":[\"(function (val){return (val!=this.model[\\\"changes\\\"]()) ? (this.valueFromJulia[\\\"changes\\\"]=true, this.model[\\\"changes\\\"](val)) : undefined})\"],\"value\":[\"(function (val){return (val!=this.model[\\\"value\\\"]()) ? (this.valueFromJulia[\\\"value\\\"]=true, this.model[\\\"value\\\"](val)) : undefined})\"]},\"systemjs_options\":null,\"observables\":{\"changes\":{\"sync\":false,\"id\":\"ob_116\",\"value\":0},\"value\":{\"sync\":false,\"id\":\"ob_115\",\"value\":false}}},\"children\":[{\"props\":{\"style\":{\"display\":\"flex\",\"flex-direction\":\"column\"}},\"nodeType\":\"DOM\",\"type\":\"node\",\"instanceArgs\":{\"namespace\":\"html\",\"tag\":\"div\"},\"children\":[{\"props\":{\"className\":\"field\"},\"nodeType\":\"DOM\",\"type\":\"node\",\"instanceArgs\":{\"namespace\":\"html\",\"tag\":\"div\"},\"children\":[{\"props\":{\"attributes\":{\"type\":\"checkbox\",\"data-bind\":\"checked: value, valueUpdate: 'change', event: {change : function () {this.changes(this.changes()+1)}}\"},\"id\":\"##387\",\"className\":\"switch \",\"style\":{}},\"nodeType\":\"DOM\",\"type\":\"node\",\"instanceArgs\":{\"namespace\":\"html\",\"tag\":\"input\"},\"children\":[]},{\"props\":{\"attributes\":{\"className\":\"\",\"for\":\"##387\"}},\"nodeType\":\"DOM\",\"type\":\"node\",\"instanceArgs\":{\"namespace\":\"html\",\"tag\":\"label\"},\"children\":[\"Second axis\"]}]},{\"props\":{\"attributes\":{\"data-bind\":\"visible: value\"}},\"nodeType\":\"DOM\",\"type\":\"node\",\"instanceArgs\":{\"namespace\":\"html\",\"tag\":\"div\"},\"children\":[{\"props\":{\"className\":\"field\"},\"nodeType\":\"DOM\",\"type\":\"node\",\"instanceArgs\":{\"namespace\":\"html\",\"tag\":\"div\"},\"children\":[{\"props\":{},\"nodeType\":\"Scope\",\"type\":\"node\",\"instanceArgs\":{\"imports\":{\"data\":[{\"name\":\"knockout\",\"type\":\"js\",\"url\":\"\\/assetserver\\/7727d7cb3453b9ff588804f2f297360e756850e6-knockout.js\"},{\"name\":\"knockout_punches\",\"type\":\"js\",\"url\":\"\\/assetserver\\/dc191505b241da77a1bd06986b7132036babe315-knockout_punches.js\"},{\"name\":null,\"type\":\"js\",\"url\":\"\\/assetserver\\/cf39e83f3445855334efae1f7d0ee012952fe319-all.js\"},{\"name\":null,\"type\":\"css\",\"url\":\"\\/assetserver\\/495af69608d773e6cf6efd8fe98ee33ddbad0df5-style.css\"},{\"name\":null,\"type\":\"css\",\"url\":\"\\/assetserver\\/9d22e7e1c4dccb3a3bef6ae4d24134fd256d4bfd-main.css\"}],\"type\":\"async_block\"},\"id\":\"knockout-component-41001ed9-18c4-45e7-afe1-c57430f630ac\",\"handlers\":{\"_promises\":{\"importsLoaded\":[\"function (ko, koPunches) {\\n    ko.punches.enableAll();\\n    ko.bindingHandlers.numericValue = {\\n        init : function(element, valueAccessor, allBindings, data, context) {\\n            var stringified = ko.observable(ko.unwrap(valueAccessor()));\\n            stringified.subscribe(function(value) {\\n                var val = parseFloat(value);\\n                if (!isNaN(val)) {\\n                    valueAccessor()(val);\\n                }\\n            })\\n            valueAccessor().subscribe(function(value) {\\n                var str = JSON.stringify(value);\\n                if ((str == \\\"0\\\") && ([\\\"-0\\\", \\\"-0.\\\"].indexOf(stringified()) >= 0))\\n                     return;\\n                 if ([\\\"null\\\", \\\"\\\"].indexOf(str) >= 0)\\n                     return;\\n                stringified(str);\\n            })\\n            ko.applyBindingsToNode(element, { value: stringified, valueUpdate: allBindings.get('valueUpdate')}, context);\\n        }\\n    };\\n    var json_data = JSON.parse(\\\"{\\\\\\\"options_js\\\\\\\":[{\\\\\\\"key\\\\\\\":\\\\\\\"Second axis\\\\\\\",\\\\\\\"val\\\\\\\":0,\\\\\\\"id\\\\\\\":\\\\\\\"idE8zLqvt1\\\\\\\"},{\\\\\\\"key\\\\\\\":\\\\\\\"scenario\\\\\\\",\\\\\\\"val\\\\\\\":1,\\\\\\\"id\\\\\\\":\\\\\\\"id3xceggBr\\\\\\\"},{\\\\\\\"key\\\\\\\":\\\\\\\"policy\\\\\\\",\\\\\\\"val\\\\\\\":2,\\\\\\\"id\\\\\\\":\\\\\\\"idXSQkGGAB\\\\\\\"},{\\\\\\\"key\\\\\\\":\\\\\\\"updater\\\\\\\",\\\\\\\"val\\\\\\\":3,\\\\\\\"id\\\\\\\":\\\\\\\"ide8S5Y66M\\\\\\\"},{\\\\\\\"key\\\\\\\":\\\\\\\"n_episodes\\\\\\\",\\\\\\\"val\\\\\\\":4,\\\\\\\"id\\\\\\\":\\\\\\\"id0tLVeFnv\\\\\\\"},{\\\\\\\"key\\\\\\\":\\\\\\\"reward_mean\\\\\\\",\\\\\\\"val\\\\\\\":5,\\\\\\\"id\\\\\\\":\\\\\\\"idLZpwQP5v\\\\\\\"},{\\\\\\\"key\\\\\\\":\\\\\\\"reward_std\\\\\\\",\\\\\\\"val\\\\\\\":6,\\\\\\\"id\\\\\\\":\\\\\\\"idJtFlCorq\\\\\\\"},{\\\\\\\"key\\\\\\\":\\\\\\\"steps_mean\\\\\\\",\\\\\\\"val\\\\\\\":7,\\\\\\\"id\\\\\\\":\\\\\\\"idwFKhzybj\\\\\\\"},{\\\\\\\"key\\\\\\\":\\\\\\\"steps_std\\\\\\\",\\\\\\\"val\\\\\\\":8,\\\\\\\"id\\\\\\\":\\\\\\\"idaYCcfhE7\\\\\\\"},{\\\\\\\"key\\\\\\\":\\\\\\\"violations_mean\\\\\\\",\\\\\\\"val\\\\\\\":9,\\\\\\\"id\\\\\\\":\\\\\\\"id1b6pTqo1\\\\\\\"},{\\\\\\\"key\\\\\\\":\\\\\\\"violations_std\\\\\\\",\\\\\\\"val\\\\\\\":10,\\\\\\\"id\\\\\\\":\\\\\\\"idB0GHICfn\\\\\\\"},{\\\\\\\"key\\\\\\\":\\\\\\\"time\\\\\\\",\\\\\\\"val\\\\\\\":11,\\\\\\\"id\\\\\\\":\\\\\\\"idIZBPd7UP\\\\\\\"}],\\\\\\\"index\\\\\\\":[]}\\\");\\n    var self = this;\\n    function AppViewModel() {\\n        for (var key in json_data) {\\n            var el = json_data[key];\\n            this[key] = Array.isArray(el) ? ko.observableArray(el) : ko.observable(el);\\n        }\\n        [this[\\\"disablePlaceholder\\\"]=function(option, item) {\\n    ko.applyBindingsToNode(option, {disable: item.val == 0}, item);\\n}\\n]\\n        \\n        [this[\\\"options_js\\\"].subscribe((function (val){!(this.valueFromJulia[\\\"options_js\\\"]) ? (_webIOScope.setObservableValue({\\\"name\\\":\\\"options_js\\\",\\\"scope\\\":\\\"knockout-component-41001ed9-18c4-45e7-afe1-c57430f630ac\\\",\\\"id\\\":\\\"ob_114\\\",\\\"type\\\":\\\"observable\\\"},val)) : undefined; return this.valueFromJulia[\\\"options_js\\\"]=false}),self),this[\\\"index\\\"].subscribe((function (val){!(this.valueFromJulia[\\\"index\\\"]) ? (_webIOScope.setObservableValue({\\\"name\\\":\\\"index\\\",\\\"scope\\\":\\\"knockout-component-41001ed9-18c4-45e7-afe1-c57430f630ac\\\",\\\"id\\\":\\\"ob_113\\\",\\\"type\\\":\\\"observable\\\"},val)) : undefined; return this.valueFromJulia[\\\"index\\\"]=false}),self)]\\n        \\n    }\\n    self.model = new AppViewModel();\\n    self.valueFromJulia = {};\\n    for (var key in json_data) {\\n        self.valueFromJulia[key] = false;\\n    }\\n    ko.applyBindings(self.model, self.dom);\\n}\\n\"]},\"options_js\":[\"(function (val){return (val!=this.model[\\\"options_js\\\"]()) ? (this.valueFromJulia[\\\"options_js\\\"]=true, this.model[\\\"options_js\\\"](val)) : undefined})\"],\"index\":[\"(function (val){return (val!=this.model[\\\"index\\\"]()) ? (this.valueFromJulia[\\\"index\\\"]=true, this.model[\\\"index\\\"](val)) : undefined})\"]},\"systemjs_options\":null,\"observables\":{\"options_js\":{\"sync\":false,\"id\":\"ob_114\",\"value\":[{\"key\":\"Second axis\",\"val\":0,\"id\":\"idE8zLqvt1\"},{\"key\":\"scenario\",\"val\":1,\"id\":\"id3xceggBr\"},{\"key\":\"policy\",\"val\":2,\"id\":\"idXSQkGGAB\"},{\"key\":\"updater\",\"val\":3,\"id\":\"ide8S5Y66M\"},{\"key\":\"n_episodes\",\"val\":4,\"id\":\"id0tLVeFnv\"},{\"key\":\"reward_mean\",\"val\":5,\"id\":\"idLZpwQP5v\"},{\"key\":\"reward_std\",\"val\":6,\"id\":\"idJtFlCorq\"},{\"key\":\"steps_mean\",\"val\":7,\"id\":\"idwFKhzybj\"},{\"key\":\"steps_std\",\"val\":8,\"id\":\"idaYCcfhE7\"},{\"key\":\"violations_mean\",\"val\":9,\"id\":\"id1b6pTqo1\"},{\"key\":\"violations_std\",\"val\":10,\"id\":\"idB0GHICfn\"},{\"key\":\"time\",\"val\":11,\"id\":\"idIZBPd7UP\"}]},\"index\":{\"sync\":true,\"id\":\"ob_113\",\"value\":[]}}},\"children\":[{\"props\":{\"className\":\"select is-multiple \"},\"nodeType\":\"DOM\",\"type\":\"node\",\"instanceArgs\":{\"namespace\":\"html\",\"tag\":\"div\"},\"children\":[{\"props\":{\"attributes\":{\"multiple\":true,\"data-bind\":\"options : options_js, selectedOptions : index, optionsText: 'key', optionsValue: 'val', valueAllowUnset: true, optionsAfterRender: disablePlaceholder\"}},\"nodeType\":\"DOM\",\"type\":\"node\",\"instanceArgs\":{\"namespace\":\"html\",\"tag\":\"select\"},\"children\":[]}]}]}]}]}]}]}]},{\"props\":{\"className\":\"field\"},\"nodeType\":\"DOM\",\"type\":\"node\",\"instanceArgs\":{\"namespace\":\"html\",\"tag\":\"div\"},\"children\":[{\"props\":{},\"nodeType\":\"Scope\",\"type\":\"node\",\"instanceArgs\":{\"imports\":{\"data\":[{\"name\":\"knockout\",\"type\":\"js\",\"url\":\"\\/assetserver\\/7727d7cb3453b9ff588804f2f297360e756850e6-knockout.js\"},{\"name\":\"knockout_punches\",\"type\":\"js\",\"url\":\"\\/assetserver\\/dc191505b241da77a1bd06986b7132036babe315-knockout_punches.js\"},{\"name\":null,\"type\":\"js\",\"url\":\"\\/assetserver\\/cf39e83f3445855334efae1f7d0ee012952fe319-all.js\"},{\"name\":null,\"type\":\"css\",\"url\":\"\\/assetserver\\/495af69608d773e6cf6efd8fe98ee33ddbad0df5-style.css\"},{\"name\":null,\"type\":\"css\",\"url\":\"\\/assetserver\\/9d22e7e1c4dccb3a3bef6ae4d24134fd256d4bfd-main.css\"}],\"type\":\"async_block\"},\"id\":\"knockout-component-7ad5f04a-1d05-4477-be02-5d6327e843f5\",\"handlers\":{\"_promises\":{\"importsLoaded\":[\"function (ko, koPunches) {\\n    ko.punches.enableAll();\\n    ko.bindingHandlers.numericValue = {\\n        init : function(element, valueAccessor, allBindings, data, context) {\\n            var stringified = ko.observable(ko.unwrap(valueAccessor()));\\n            stringified.subscribe(function(value) {\\n                var val = parseFloat(value);\\n                if (!isNaN(val)) {\\n                    valueAccessor()(val);\\n                }\\n            })\\n            valueAccessor().subscribe(function(value) {\\n                var str = JSON.stringify(value);\\n                if ((str == \\\"0\\\") && ([\\\"-0\\\", \\\"-0.\\\"].indexOf(stringified()) >= 0))\\n                     return;\\n                 if ([\\\"null\\\", \\\"\\\"].indexOf(str) >= 0)\\n                     return;\\n                stringified(str);\\n            })\\n            ko.applyBindingsToNode(element, { value: stringified, valueUpdate: allBindings.get('valueUpdate')}, context);\\n        }\\n    };\\n    var json_data = JSON.parse(\\\"{\\\\\\\"options_js\\\\\\\":[{\\\\\\\"key\\\\\\\":\\\\\\\"Plot type\\\\\\\",\\\\\\\"val\\\\\\\":0,\\\\\\\"id\\\\\\\":\\\\\\\"id2C0VumMa\\\\\\\"},{\\\\\\\"key\\\\\\\":\\\\\\\"line\\\\\\\",\\\\\\\"val\\\\\\\":1,\\\\\\\"id\\\\\\\":\\\\\\\"idFsSx287V\\\\\\\"},{\\\\\\\"key\\\\\\\":\\\\\\\"scatter\\\\\\\",\\\\\\\"val\\\\\\\":2,\\\\\\\"id\\\\\\\":\\\\\\\"iduzOD48bH\\\\\\\"},{\\\\\\\"key\\\\\\\":\\\\\\\"bar\\\\\\\",\\\\\\\"val\\\\\\\":3,\\\\\\\"id\\\\\\\":\\\\\\\"idsSG4YBJB\\\\\\\"},{\\\\\\\"key\\\\\\\":\\\\\\\"boxplot\\\\\\\",\\\\\\\"val\\\\\\\":4,\\\\\\\"id\\\\\\\":\\\\\\\"idI80dd3GR\\\\\\\"},{\\\\\\\"key\\\\\\\":\\\\\\\"corrplot\\\\\\\",\\\\\\\"val\\\\\\\":5,\\\\\\\"id\\\\\\\":\\\\\\\"idgnqFDeT4\\\\\\\"},{\\\\\\\"key\\\\\\\":\\\\\\\"cornerplot\\\\\\\",\\\\\\\"val\\\\\\\":6,\\\\\\\"id\\\\\\\":\\\\\\\"idw1GlZ7HH\\\\\\\"},{\\\\\\\"key\\\\\\\":\\\\\\\"density\\\\\\\",\\\\\\\"val\\\\\\\":7,\\\\\\\"id\\\\\\\":\\\\\\\"idCQC9bsiA\\\\\\\"},{\\\\\\\"key\\\\\\\":\\\\\\\"histogram\\\\\\\",\\\\\\\"val\\\\\\\":8,\\\\\\\"id\\\\\\\":\\\\\\\"idD5sMSS1Y\\\\\\\"},{\\\\\\\"key\\\\\\\":\\\\\\\"marginalhist\\\\\\\",\\\\\\\"val\\\\\\\":9,\\\\\\\"id\\\\\\\":\\\\\\\"idAMtVHS2W\\\\\\\"},{\\\\\\\"key\\\\\\\":\\\\\\\"violin\\\\\\\",\\\\\\\"val\\\\\\\":10,\\\\\\\"id\\\\\\\":\\\\\\\"idt377Fks6\\\\\\\"}],\\\\\\\"index\\\\\\\":1}\\\");\\n    var self = this;\\n    function AppViewModel() {\\n        for (var key in json_data) {\\n            var el = json_data[key];\\n            this[key] = Array.isArray(el) ? ko.observableArray(el) : ko.observable(el);\\n        }\\n        [this[\\\"disablePlaceholder\\\"]=function(option, item) {\\n    ko.applyBindingsToNode(option, {disable: item.val == 0}, item);\\n}\\n]\\n        \\n        [this[\\\"options_js\\\"].subscribe((function (val){!(this.valueFromJulia[\\\"options_js\\\"]) ? (_webIOScope.setObservableValue({\\\"name\\\":\\\"options_js\\\",\\\"scope\\\":\\\"knockout-component-7ad5f04a-1d05-4477-be02-5d6327e843f5\\\",\\\"id\\\":\\\"ob_121\\\",\\\"type\\\":\\\"observable\\\"},val)) : undefined; return this.valueFromJulia[\\\"options_js\\\"]=false}),self),this[\\\"index\\\"].subscribe((function (val){!(this.valueFromJulia[\\\"index\\\"]) ? (_webIOScope.setObservableValue({\\\"name\\\":\\\"index\\\",\\\"scope\\\":\\\"knockout-component-7ad5f04a-1d05-4477-be02-5d6327e843f5\\\",\\\"id\\\":\\\"ob_120\\\",\\\"type\\\":\\\"observable\\\"},val)) : undefined; return this.valueFromJulia[\\\"index\\\"]=false}),self)]\\n        \\n    }\\n    self.model = new AppViewModel();\\n    self.valueFromJulia = {};\\n    for (var key in json_data) {\\n        self.valueFromJulia[key] = false;\\n    }\\n    ko.applyBindings(self.model, self.dom);\\n}\\n\"]},\"options_js\":[\"(function (val){return (val!=this.model[\\\"options_js\\\"]()) ? (this.valueFromJulia[\\\"options_js\\\"]=true, this.model[\\\"options_js\\\"](val)) : undefined})\"],\"index\":[\"(function (val){return (val!=this.model[\\\"index\\\"]()) ? (this.valueFromJulia[\\\"index\\\"]=true, this.model[\\\"index\\\"](val)) : undefined})\"]},\"systemjs_options\":null,\"observables\":{\"options_js\":{\"sync\":false,\"id\":\"ob_121\",\"value\":[{\"key\":\"Plot type\",\"val\":0,\"id\":\"id2C0VumMa\"},{\"key\":\"line\",\"val\":1,\"id\":\"idFsSx287V\"},{\"key\":\"scatter\",\"val\":2,\"id\":\"iduzOD48bH\"},{\"key\":\"bar\",\"val\":3,\"id\":\"idsSG4YBJB\"},{\"key\":\"boxplot\",\"val\":4,\"id\":\"idI80dd3GR\"},{\"key\":\"corrplot\",\"val\":5,\"id\":\"idgnqFDeT4\"},{\"key\":\"cornerplot\",\"val\":6,\"id\":\"idw1GlZ7HH\"},{\"key\":\"density\",\"val\":7,\"id\":\"idCQC9bsiA\"},{\"key\":\"histogram\",\"val\":8,\"id\":\"idD5sMSS1Y\"},{\"key\":\"marginalhist\",\"val\":9,\"id\":\"idAMtVHS2W\"},{\"key\":\"violin\",\"val\":10,\"id\":\"idt377Fks6\"}]},\"index\":{\"sync\":true,\"id\":\"ob_120\",\"value\":1}}},\"children\":[{\"props\":{\"className\":\"select \"},\"nodeType\":\"DOM\",\"type\":\"node\",\"instanceArgs\":{\"namespace\":\"html\",\"tag\":\"div\"},\"children\":[{\"props\":{\"attributes\":{\"data-bind\":\"options : options_js, value : index, optionsText: 'key', optionsValue: 'val', valueAllowUnset: true, optionsAfterRender: disablePlaceholder\"}},\"nodeType\":\"DOM\",\"type\":\"node\",\"instanceArgs\":{\"namespace\":\"html\",\"tag\":\"select\"},\"children\":[]}]}]}]},{\"props\":{\"className\":\"field\"},\"nodeType\":\"DOM\",\"type\":\"node\",\"instanceArgs\":{\"namespace\":\"html\",\"tag\":\"div\"},\"children\":[{\"props\":{},\"nodeType\":\"Scope\",\"type\":\"node\",\"instanceArgs\":{\"imports\":{\"data\":[{\"name\":\"knockout\",\"type\":\"js\",\"url\":\"\\/assetserver\\/7727d7cb3453b9ff588804f2f297360e756850e6-knockout.js\"},{\"name\":\"knockout_punches\",\"type\":\"js\",\"url\":\"\\/assetserver\\/dc191505b241da77a1bd06986b7132036babe315-knockout_punches.js\"},{\"name\":null,\"type\":\"js\",\"url\":\"\\/assetserver\\/cf39e83f3445855334efae1f7d0ee012952fe319-all.js\"},{\"name\":null,\"type\":\"css\",\"url\":\"\\/assetserver\\/495af69608d773e6cf6efd8fe98ee33ddbad0df5-style.css\"},{\"name\":null,\"type\":\"css\",\"url\":\"\\/assetserver\\/9d22e7e1c4dccb3a3bef6ae4d24134fd256d4bfd-main.css\"}],\"type\":\"async_block\"},\"id\":\"knockout-component-ed46e655-7b24-4c76-9faa-95d22c99e84c\",\"handlers\":{\"_promises\":{\"importsLoaded\":[\"function (ko, koPunches) {\\n    ko.punches.enableAll();\\n    ko.bindingHandlers.numericValue = {\\n        init : function(element, valueAccessor, allBindings, data, context) {\\n            var stringified = ko.observable(ko.unwrap(valueAccessor()));\\n            stringified.subscribe(function(value) {\\n                var val = parseFloat(value);\\n                if (!isNaN(val)) {\\n                    valueAccessor()(val);\\n                }\\n            })\\n            valueAccessor().subscribe(function(value) {\\n                var str = JSON.stringify(value);\\n                if ((str == \\\"0\\\") && ([\\\"-0\\\", \\\"-0.\\\"].indexOf(stringified()) >= 0))\\n                     return;\\n                 if ([\\\"null\\\", \\\"\\\"].indexOf(str) >= 0)\\n                     return;\\n                stringified(str);\\n            })\\n            ko.applyBindingsToNode(element, { value: stringified, valueUpdate: allBindings.get('valueUpdate')}, context);\\n        }\\n    };\\n    var json_data = JSON.parse(\\\"{\\\\\\\"changes\\\\\\\":0,\\\\\\\"value\\\\\\\":false}\\\");\\n    var self = this;\\n    function AppViewModel() {\\n        for (var key in json_data) {\\n            var el = json_data[key];\\n            this[key] = Array.isArray(el) ? ko.observableArray(el) : ko.observable(el);\\n        }\\n        \\n        \\n        [this[\\\"changes\\\"].subscribe((function (val){!(this.valueFromJulia[\\\"changes\\\"]) ? (_webIOScope.setObservableValue({\\\"name\\\":\\\"changes\\\",\\\"scope\\\":\\\"knockout-component-ed46e655-7b24-4c76-9faa-95d22c99e84c\\\",\\\"id\\\":\\\"ob_132\\\",\\\"type\\\":\\\"observable\\\"},val)) : undefined; return this.valueFromJulia[\\\"changes\\\"]=false}),self),this[\\\"value\\\"].subscribe((function (val){!(this.valueFromJulia[\\\"value\\\"]) ? (_webIOScope.setObservableValue({\\\"name\\\":\\\"value\\\",\\\"scope\\\":\\\"knockout-component-ed46e655-7b24-4c76-9faa-95d22c99e84c\\\",\\\"id\\\":\\\"ob_131\\\",\\\"type\\\":\\\"observable\\\"},val)) : undefined; return this.valueFromJulia[\\\"value\\\"]=false}),self)]\\n        \\n    }\\n    self.model = new AppViewModel();\\n    self.valueFromJulia = {};\\n    for (var key in json_data) {\\n        self.valueFromJulia[key] = false;\\n    }\\n    ko.applyBindings(self.model, self.dom);\\n}\\n\"]},\"changes\":[\"(function (val){return (val!=this.model[\\\"changes\\\"]()) ? (this.valueFromJulia[\\\"changes\\\"]=true, this.model[\\\"changes\\\"](val)) : undefined})\"],\"value\":[\"(function (val){return (val!=this.model[\\\"value\\\"]()) ? (this.valueFromJulia[\\\"value\\\"]=true, this.model[\\\"value\\\"](val)) : undefined})\"]},\"systemjs_options\":null,\"observables\":{\"changes\":{\"sync\":false,\"id\":\"ob_132\",\"value\":0},\"value\":{\"sync\":false,\"id\":\"ob_131\",\"value\":false}}},\"children\":[{\"props\":{\"style\":{\"display\":\"flex\",\"flex-direction\":\"column\"}},\"nodeType\":\"DOM\",\"type\":\"node\",\"instanceArgs\":{\"namespace\":\"html\",\"tag\":\"div\"},\"children\":[{\"props\":{\"className\":\"field\"},\"nodeType\":\"DOM\",\"type\":\"node\",\"instanceArgs\":{\"namespace\":\"html\",\"tag\":\"div\"},\"children\":[{\"props\":{\"attributes\":{\"type\":\"checkbox\",\"data-bind\":\"checked: value, valueUpdate: 'change', event: {change : function () {this.changes(this.changes()+1)}}\"},\"id\":\"##388\",\"className\":\"switch \",\"style\":{}},\"nodeType\":\"DOM\",\"type\":\"node\",\"instanceArgs\":{\"namespace\":\"html\",\"tag\":\"input\"},\"children\":[]},{\"props\":{\"attributes\":{\"className\":\"\",\"for\":\"##388\"}},\"nodeType\":\"DOM\",\"type\":\"node\",\"instanceArgs\":{\"namespace\":\"html\",\"tag\":\"label\"},\"children\":[\"Split data\"]}]},{\"props\":{\"attributes\":{\"data-bind\":\"visible: value\"}},\"nodeType\":\"DOM\",\"type\":\"node\",\"instanceArgs\":{\"namespace\":\"html\",\"tag\":\"div\"},\"children\":[{\"props\":{\"className\":\"field\"},\"nodeType\":\"DOM\",\"type\":\"node\",\"instanceArgs\":{\"namespace\":\"html\",\"tag\":\"div\"},\"children\":[{\"props\":{},\"nodeType\":\"Scope\",\"type\":\"node\",\"instanceArgs\":{\"imports\":{\"data\":[{\"name\":\"knockout\",\"type\":\"js\",\"url\":\"\\/assetserver\\/7727d7cb3453b9ff588804f2f297360e756850e6-knockout.js\"},{\"name\":\"knockout_punches\",\"type\":\"js\",\"url\":\"\\/assetserver\\/dc191505b241da77a1bd06986b7132036babe315-knockout_punches.js\"},{\"name\":null,\"type\":\"js\",\"url\":\"\\/assetserver\\/cf39e83f3445855334efae1f7d0ee012952fe319-all.js\"},{\"name\":null,\"type\":\"css\",\"url\":\"\\/assetserver\\/495af69608d773e6cf6efd8fe98ee33ddbad0df5-style.css\"},{\"name\":null,\"type\":\"css\",\"url\":\"\\/assetserver\\/9d22e7e1c4dccb3a3bef6ae4d24134fd256d4bfd-main.css\"}],\"type\":\"async_block\"},\"id\":\"knockout-component-e4c9802f-2ed7-4fc7-a2a7-f3eb81d94ba6\",\"handlers\":{\"_promises\":{\"importsLoaded\":[\"function (ko, koPunches) {\\n    ko.punches.enableAll();\\n    ko.bindingHandlers.numericValue = {\\n        init : function(element, valueAccessor, allBindings, data, context) {\\n            var stringified = ko.observable(ko.unwrap(valueAccessor()));\\n            stringified.subscribe(function(value) {\\n                var val = parseFloat(value);\\n                if (!isNaN(val)) {\\n                    valueAccessor()(val);\\n                }\\n            })\\n            valueAccessor().subscribe(function(value) {\\n                var str = JSON.stringify(value);\\n                if ((str == \\\"0\\\") && ([\\\"-0\\\", \\\"-0.\\\"].indexOf(stringified()) >= 0))\\n                     return;\\n                 if ([\\\"null\\\", \\\"\\\"].indexOf(str) >= 0)\\n                     return;\\n                stringified(str);\\n            })\\n            ko.applyBindingsToNode(element, { value: stringified, valueUpdate: allBindings.get('valueUpdate')}, context);\\n        }\\n    };\\n    var json_data = JSON.parse(\\\"{\\\\\\\"options_js\\\\\\\":[{\\\\\\\"key\\\\\\\":\\\\\\\"Group by\\\\\\\",\\\\\\\"val\\\\\\\":0,\\\\\\\"id\\\\\\\":\\\\\\\"ideJp9R3OK\\\\\\\"},{\\\\\\\"key\\\\\\\":\\\\\\\"scenario\\\\\\\",\\\\\\\"val\\\\\\\":1,\\\\\\\"id\\\\\\\":\\\\\\\"idWWvlh3KP\\\\\\\"},{\\\\\\\"key\\\\\\\":\\\\\\\"policy\\\\\\\",\\\\\\\"val\\\\\\\":2,\\\\\\\"id\\\\\\\":\\\\\\\"idWdNuc2bJ\\\\\\\"},{\\\\\\\"key\\\\\\\":\\\\\\\"updater\\\\\\\",\\\\\\\"val\\\\\\\":3,\\\\\\\"id\\\\\\\":\\\\\\\"idOEEo4YBZ\\\\\\\"},{\\\\\\\"key\\\\\\\":\\\\\\\"n_episodes\\\\\\\",\\\\\\\"val\\\\\\\":4,\\\\\\\"id\\\\\\\":\\\\\\\"idfV7zIUA3\\\\\\\"},{\\\\\\\"key\\\\\\\":\\\\\\\"reward_mean\\\\\\\",\\\\\\\"val\\\\\\\":5,\\\\\\\"id\\\\\\\":\\\\\\\"idaySNTGJ2\\\\\\\"},{\\\\\\\"key\\\\\\\":\\\\\\\"reward_std\\\\\\\",\\\\\\\"val\\\\\\\":6,\\\\\\\"id\\\\\\\":\\\\\\\"iddDAAiHF4\\\\\\\"},{\\\\\\\"key\\\\\\\":\\\\\\\"steps_mean\\\\\\\",\\\\\\\"val\\\\\\\":7,\\\\\\\"id\\\\\\\":\\\\\\\"idUYNN4XkN\\\\\\\"},{\\\\\\\"key\\\\\\\":\\\\\\\"steps_std\\\\\\\",\\\\\\\"val\\\\\\\":8,\\\\\\\"id\\\\\\\":\\\\\\\"idVxzbwNJ1\\\\\\\"},{\\\\\\\"key\\\\\\\":\\\\\\\"violations_mean\\\\\\\",\\\\\\\"val\\\\\\\":9,\\\\\\\"id\\\\\\\":\\\\\\\"idExDbVayj\\\\\\\"},{\\\\\\\"key\\\\\\\":\\\\\\\"violations_std\\\\\\\",\\\\\\\"val\\\\\\\":10,\\\\\\\"id\\\\\\\":\\\\\\\"idCvBT73BU\\\\\\\"},{\\\\\\\"key\\\\\\\":\\\\\\\"time\\\\\\\",\\\\\\\"val\\\\\\\":11,\\\\\\\"id\\\\\\\":\\\\\\\"idFEWCMf96\\\\\\\"}],\\\\\\\"index\\\\\\\":[]}\\\");\\n    var self = this;\\n    function AppViewModel() {\\n        for (var key in json_data) {\\n            var el = json_data[key];\\n            this[key] = Array.isArray(el) ? ko.observableArray(el) : ko.observable(el);\\n        }\\n        [this[\\\"disablePlaceholder\\\"]=function(option, item) {\\n    ko.applyBindingsToNode(option, {disable: item.val == 0}, item);\\n}\\n]\\n        \\n        [this[\\\"options_js\\\"].subscribe((function (val){!(this.valueFromJulia[\\\"options_js\\\"]) ? (_webIOScope.setObservableValue({\\\"name\\\":\\\"options_js\\\",\\\"scope\\\":\\\"knockout-component-e4c9802f-2ed7-4fc7-a2a7-f3eb81d94ba6\\\",\\\"id\\\":\\\"ob_130\\\",\\\"type\\\":\\\"observable\\\"},val)) : undefined; return this.valueFromJulia[\\\"options_js\\\"]=false}),self),this[\\\"index\\\"].subscribe((function (val){!(this.valueFromJulia[\\\"index\\\"]) ? (_webIOScope.setObservableValue({\\\"name\\\":\\\"index\\\",\\\"scope\\\":\\\"knockout-component-e4c9802f-2ed7-4fc7-a2a7-f3eb81d94ba6\\\",\\\"id\\\":\\\"ob_129\\\",\\\"type\\\":\\\"observable\\\"},val)) : undefined; return this.valueFromJulia[\\\"index\\\"]=false}),self)]\\n        \\n    }\\n    self.model = new AppViewModel();\\n    self.valueFromJulia = {};\\n    for (var key in json_data) {\\n        self.valueFromJulia[key] = false;\\n    }\\n    ko.applyBindings(self.model, self.dom);\\n}\\n\"]},\"options_js\":[\"(function (val){return (val!=this.model[\\\"options_js\\\"]()) ? (this.valueFromJulia[\\\"options_js\\\"]=true, this.model[\\\"options_js\\\"](val)) : undefined})\"],\"index\":[\"(function (val){return (val!=this.model[\\\"index\\\"]()) ? (this.valueFromJulia[\\\"index\\\"]=true, this.model[\\\"index\\\"](val)) : undefined})\"]},\"systemjs_options\":null,\"observables\":{\"options_js\":{\"sync\":false,\"id\":\"ob_130\",\"value\":[{\"key\":\"Group by\",\"val\":0,\"id\":\"ideJp9R3OK\"},{\"key\":\"scenario\",\"val\":1,\"id\":\"idWWvlh3KP\"},{\"key\":\"policy\",\"val\":2,\"id\":\"idWdNuc2bJ\"},{\"key\":\"updater\",\"val\":3,\"id\":\"idOEEo4YBZ\"},{\"key\":\"n_episodes\",\"val\":4,\"id\":\"idfV7zIUA3\"},{\"key\":\"reward_mean\",\"val\":5,\"id\":\"idaySNTGJ2\"},{\"key\":\"reward_std\",\"val\":6,\"id\":\"iddDAAiHF4\"},{\"key\":\"steps_mean\",\"val\":7,\"id\":\"idUYNN4XkN\"},{\"key\":\"steps_std\",\"val\":8,\"id\":\"idVxzbwNJ1\"},{\"key\":\"violations_mean\",\"val\":9,\"id\":\"idExDbVayj\"},{\"key\":\"violations_std\",\"val\":10,\"id\":\"idCvBT73BU\"},{\"key\":\"time\",\"val\":11,\"id\":\"idFEWCMf96\"}]},\"index\":{\"sync\":true,\"id\":\"ob_129\",\"value\":[]}}},\"children\":[{\"props\":{\"className\":\"select is-multiple \"},\"nodeType\":\"DOM\",\"type\":\"node\",\"instanceArgs\":{\"namespace\":\"html\",\"tag\":\"div\"},\"children\":[{\"props\":{\"attributes\":{\"multiple\":true,\"data-bind\":\"options : options_js, selectedOptions : index, optionsText: 'key', optionsValue: 'val', valueAllowUnset: true, optionsAfterRender: disablePlaceholder\"}},\"nodeType\":\"DOM\",\"type\":\"node\",\"instanceArgs\":{\"namespace\":\"html\",\"tag\":\"select\"},\"children\":[]}]}]}]}]}]}]}]},{\"props\":{\"className\":\"field\"},\"nodeType\":\"DOM\",\"type\":\"node\",\"instanceArgs\":{\"namespace\":\"html\",\"tag\":\"div\"},\"children\":[{\"props\":{},\"nodeType\":\"Scope\",\"type\":\"node\",\"instanceArgs\":{\"imports\":{\"data\":[{\"name\":\"knockout\",\"type\":\"js\",\"url\":\"\\/assetserver\\/7727d7cb3453b9ff588804f2f297360e756850e6-knockout.js\"},{\"name\":\"knockout_punches\",\"type\":\"js\",\"url\":\"\\/assetserver\\/dc191505b241da77a1bd06986b7132036babe315-knockout_punches.js\"},{\"name\":null,\"type\":\"js\",\"url\":\"\\/assetserver\\/cf39e83f3445855334efae1f7d0ee012952fe319-all.js\"},{\"name\":null,\"type\":\"css\",\"url\":\"\\/assetserver\\/495af69608d773e6cf6efd8fe98ee33ddbad0df5-style.css\"},{\"name\":null,\"type\":\"css\",\"url\":\"\\/assetserver\\/9d22e7e1c4dccb3a3bef6ae4d24134fd256d4bfd-main.css\"}],\"type\":\"async_block\"},\"id\":\"knockout-component-cd0e12d3-49e4-4127-9098-a908b07f43d3\",\"handlers\":{\"_promises\":{\"importsLoaded\":[\"function (ko, koPunches) {\\n    ko.punches.enableAll();\\n    ko.bindingHandlers.numericValue = {\\n        init : function(element, valueAccessor, allBindings, data, context) {\\n            var stringified = ko.observable(ko.unwrap(valueAccessor()));\\n            stringified.subscribe(function(value) {\\n                var val = parseFloat(value);\\n                if (!isNaN(val)) {\\n                    valueAccessor()(val);\\n                }\\n            })\\n            valueAccessor().subscribe(function(value) {\\n                var str = JSON.stringify(value);\\n                if ((str == \\\"0\\\") && ([\\\"-0\\\", \\\"-0.\\\"].indexOf(stringified()) >= 0))\\n                     return;\\n                 if ([\\\"null\\\", \\\"\\\"].indexOf(str) >= 0)\\n                     return;\\n                stringified(str);\\n            })\\n            ko.applyBindingsToNode(element, { value: stringified, valueUpdate: allBindings.get('valueUpdate')}, context);\\n        }\\n    };\\n    var json_data = JSON.parse(\\\"{\\\\\\\"clicks\\\\\\\":0}\\\");\\n    var self = this;\\n    function AppViewModel() {\\n        for (var key in json_data) {\\n            var el = json_data[key];\\n            this[key] = Array.isArray(el) ? ko.observableArray(el) : ko.observable(el);\\n        }\\n        \\n        \\n        [this[\\\"clicks\\\"].subscribe((function (val){!(this.valueFromJulia[\\\"clicks\\\"]) ? (_webIOScope.setObservableValue({\\\"name\\\":\\\"clicks\\\",\\\"scope\\\":\\\"knockout-component-cd0e12d3-49e4-4127-9098-a908b07f43d3\\\",\\\"id\\\":\\\"ob_133\\\",\\\"type\\\":\\\"observable\\\"},val)) : undefined; return this.valueFromJulia[\\\"clicks\\\"]=false}),self)]\\n        \\n    }\\n    self.model = new AppViewModel();\\n    self.valueFromJulia = {};\\n    for (var key in json_data) {\\n        self.valueFromJulia[key] = false;\\n    }\\n    ko.applyBindings(self.model, self.dom);\\n}\\n\"]},\"clicks\":[\"(function (val){return (val!=this.model[\\\"clicks\\\"]()) ? (this.valueFromJulia[\\\"clicks\\\"]=true, this.model[\\\"clicks\\\"](val)) : undefined})\"]},\"systemjs_options\":null,\"observables\":{\"clicks\":{\"sync\":true,\"id\":\"ob_133\",\"value\":0}}},\"children\":[{\"props\":{\"attributes\":{\"data-bind\":\"click : function () {this.clicks(this.clicks()+1)}\"},\"className\":\"button is-primary\",\"style\":{}},\"nodeType\":\"DOM\",\"type\":\"node\",\"instanceArgs\":{\"namespace\":\"html\",\"tag\":\"button\"},\"children\":[\"plot\"]}]}]}]},{\"props\":{\"style\":{\"width\":\"3em\"}},\"nodeType\":\"DOM\",\"type\":\"node\",\"instanceArgs\":{\"namespace\":\"html\",\"tag\":\"div\"},\"children\":[]},{\"props\":{},\"nodeType\":\"DOM\",\"type\":\"node\",\"instanceArgs\":{\"namespace\":\"html\",\"tag\":\"div\"},\"children\":[{\"props\":{},\"nodeType\":\"Scope\",\"type\":\"node\",\"instanceArgs\":{\"imports\":{\"data\":[],\"type\":\"async_block\"},\"id\":\"scope-a2f205e4-efae-431e-a4bf-55cd822421be\",\"handlers\":{\"obs-output\":[\"function (value, scope) {\\n    scope.setInnerHTML(value);\\n}\\n\"]},\"systemjs_options\":null,\"observables\":{\"obs-output\":{\"sync\":false,\"id\":\"ob_135\",\"value\":\"<?xml version=\\\"1.0\\\" encoding=\\\"utf-8\\\"?>\\n<svg xmlns=\\\"http:\\/\\/www.w3.org\\/2000\\/svg\\\" xmlns:xlink=\\\"http:\\/\\/www.w3.org\\/1999\\/xlink\\\" width=\\\"600\\\" height=\\\"400\\\" viewBox=\\\"0 0 2400 1600\\\">\\n<defs>\\n  <clipPath id=\\\"clip6300\\\">\\n    <rect x=\\\"0\\\" y=\\\"0\\\" width=\\\"2000\\\" height=\\\"2000\\\"\\/>\\n  <\\/clipPath>\\n<\\/defs>\\n<defs>\\n  <clipPath id=\\\"clip6301\\\">\\n    <rect x=\\\"0\\\" y=\\\"0\\\" width=\\\"2400\\\" height=\\\"1600\\\"\\/>\\n  <\\/clipPath>\\n<\\/defs>\\n<polygon clip-path=\\\"url(#clip6301)\\\" points=\\\"\\n0,1600 2400,1600 2400,0 0,0 \\n  \\\" fill=\\\"#ffffff\\\" fill-rule=\\\"evenodd\\\" fill-opacity=\\\"1\\\"\\/>\\n<defs>\\n  <clipPath id=\\\"clip6302\\\">\\n    <rect x=\\\"480\\\" y=\\\"0\\\" width=\\\"1681\\\" height=\\\"1600\\\"\\/>\\n  <\\/clipPath>\\n<\\/defs>\\n<polygon clip-path=\\\"url(#clip6301)\\\" points=\\\"\\n161.394,1503.47 2321.26,1503.47 2321.26,47.2441 161.394,47.2441 \\n  \\\" fill=\\\"#ffffff\\\" fill-rule=\\\"evenodd\\\" fill-opacity=\\\"1\\\"\\/>\\n<defs>\\n  <clipPath id=\\\"clip6303\\\">\\n    <rect x=\\\"161\\\" y=\\\"47\\\" width=\\\"2161\\\" height=\\\"1457\\\"\\/>\\n  <\\/clipPath>\\n<\\/defs>\\n<polyline clip-path=\\\"url(#clip6303)\\\" style=\\\"stroke:#000000; stroke-width:2; stroke-opacity:0.1; fill:none\\\" points=\\\"\\n  161.394,1503.47 161.394,47.2441 \\n  \\\"\\/>\\n<polyline clip-path=\\\"url(#clip6303)\\\" style=\\\"stroke:#000000; stroke-width:2; stroke-opacity:0.1; fill:none\\\" points=\\\"\\n  593.367,1503.47 593.367,47.2441 \\n  \\\"\\/>\\n<polyline clip-path=\\\"url(#clip6303)\\\" style=\\\"stroke:#000000; stroke-width:2; stroke-opacity:0.1; fill:none\\\" points=\\\"\\n  1025.34,1503.47 1025.34,47.2441 \\n  \\\"\\/>\\n<polyline clip-path=\\\"url(#clip6303)\\\" style=\\\"stroke:#000000; stroke-width:2; stroke-opacity:0.1; fill:none\\\" points=\\\"\\n  1457.31,1503.47 1457.31,47.2441 \\n  \\\"\\/>\\n<polyline clip-path=\\\"url(#clip6303)\\\" style=\\\"stroke:#000000; stroke-width:2; stroke-opacity:0.1; fill:none\\\" points=\\\"\\n  1889.29,1503.47 1889.29,47.2441 \\n  \\\"\\/>\\n<polyline clip-path=\\\"url(#clip6303)\\\" style=\\\"stroke:#000000; stroke-width:2; stroke-opacity:0.1; fill:none\\\" points=\\\"\\n  2321.26,1503.47 2321.26,47.2441 \\n  \\\"\\/>\\n<polyline clip-path=\\\"url(#clip6303)\\\" style=\\\"stroke:#000000; stroke-width:2; stroke-opacity:0.1; fill:none\\\" points=\\\"\\n  161.394,1503.47 2321.26,1503.47 \\n  \\\"\\/>\\n<polyline clip-path=\\\"url(#clip6303)\\\" style=\\\"stroke:#000000; stroke-width:2; stroke-opacity:0.1; fill:none\\\" points=\\\"\\n  161.394,1212.23 2321.26,1212.23 \\n  \\\"\\/>\\n<polyline clip-path=\\\"url(#clip6303)\\\" style=\\\"stroke:#000000; stroke-width:2; stroke-opacity:0.1; fill:none\\\" points=\\\"\\n  161.394,920.982 2321.26,920.982 \\n  \\\"\\/>\\n<polyline clip-path=\\\"url(#clip6303)\\\" style=\\\"stroke:#000000; stroke-width:2; stroke-opacity:0.1; fill:none\\\" points=\\\"\\n  161.394,629.736 2321.26,629.736 \\n  \\\"\\/>\\n<polyline clip-path=\\\"url(#clip6303)\\\" style=\\\"stroke:#000000; stroke-width:2; stroke-opacity:0.1; fill:none\\\" points=\\\"\\n  161.394,338.49 2321.26,338.49 \\n  \\\"\\/>\\n<polyline clip-path=\\\"url(#clip6303)\\\" style=\\\"stroke:#000000; stroke-width:2; stroke-opacity:0.1; fill:none\\\" points=\\\"\\n  161.394,47.2441 2321.26,47.2441 \\n  \\\"\\/>\\n<polyline clip-path=\\\"url(#clip6301)\\\" style=\\\"stroke:#000000; stroke-width:4; stroke-opacity:1; fill:none\\\" points=\\\"\\n  161.394,1503.47 2321.26,1503.47 \\n  \\\"\\/>\\n<polyline clip-path=\\\"url(#clip6301)\\\" style=\\\"stroke:#000000; stroke-width:4; stroke-opacity:1; fill:none\\\" points=\\\"\\n  161.394,1503.47 161.394,47.2441 \\n  \\\"\\/>\\n<polyline clip-path=\\\"url(#clip6301)\\\" style=\\\"stroke:#000000; stroke-width:4; stroke-opacity:1; fill:none\\\" points=\\\"\\n  161.394,1503.47 161.394,1481.63 \\n  \\\"\\/>\\n<polyline clip-path=\\\"url(#clip6301)\\\" style=\\\"stroke:#000000; stroke-width:4; stroke-opacity:1; fill:none\\\" points=\\\"\\n  593.367,1503.47 593.367,1481.63 \\n  \\\"\\/>\\n<polyline clip-path=\\\"url(#clip6301)\\\" style=\\\"stroke:#000000; stroke-width:4; stroke-opacity:1; fill:none\\\" points=\\\"\\n  1025.34,1503.47 1025.34,1481.63 \\n  \\\"\\/>\\n<polyline clip-path=\\\"url(#clip6301)\\\" style=\\\"stroke:#000000; stroke-width:4; stroke-opacity:1; fill:none\\\" points=\\\"\\n  1457.31,1503.47 1457.31,1481.63 \\n  \\\"\\/>\\n<polyline clip-path=\\\"url(#clip6301)\\\" style=\\\"stroke:#000000; stroke-width:4; stroke-opacity:1; fill:none\\\" points=\\\"\\n  1889.29,1503.47 1889.29,1481.63 \\n  \\\"\\/>\\n<polyline clip-path=\\\"url(#clip6301)\\\" style=\\\"stroke:#000000; stroke-width:4; stroke-opacity:1; fill:none\\\" points=\\\"\\n  2321.26,1503.47 2321.26,1481.63 \\n  \\\"\\/>\\n<polyline clip-path=\\\"url(#clip6301)\\\" style=\\\"stroke:#000000; stroke-width:4; stroke-opacity:1; fill:none\\\" points=\\\"\\n  161.394,1503.47 193.792,1503.47 \\n  \\\"\\/>\\n<polyline clip-path=\\\"url(#clip6301)\\\" style=\\\"stroke:#000000; stroke-width:4; stroke-opacity:1; fill:none\\\" points=\\\"\\n  161.394,1212.23 193.792,1212.23 \\n  \\\"\\/>\\n<polyline clip-path=\\\"url(#clip6301)\\\" style=\\\"stroke:#000000; stroke-width:4; stroke-opacity:1; fill:none\\\" points=\\\"\\n  161.394,920.982 193.792,920.982 \\n  \\\"\\/>\\n<polyline clip-path=\\\"url(#clip6301)\\\" style=\\\"stroke:#000000; stroke-width:4; stroke-opacity:1; fill:none\\\" points=\\\"\\n  161.394,629.736 193.792,629.736 \\n  \\\"\\/>\\n<polyline clip-path=\\\"url(#clip6301)\\\" style=\\\"stroke:#000000; stroke-width:4; stroke-opacity:1; fill:none\\\" points=\\\"\\n  161.394,338.49 193.792,338.49 \\n  \\\"\\/>\\n<polyline clip-path=\\\"url(#clip6301)\\\" style=\\\"stroke:#000000; stroke-width:4; stroke-opacity:1; fill:none\\\" points=\\\"\\n  161.394,47.2441 193.792,47.2441 \\n  \\\"\\/>\\n<g clip-path=\\\"url(#clip6301)\\\">\\n<text style=\\\"fill:#000000; fill-opacity:1; font-family:Arial,Helvetica Neue,Helvetica,sans-serif; font-size:48px; text-anchor:middle;\\\" transform=\\\"rotate(0, 161.394, 1557.47)\\\" x=\\\"161.394\\\" y=\\\"1557.47\\\">0.0<\\/text>\\n<\\/g>\\n<g clip-path=\\\"url(#clip6301)\\\">\\n<text style=\\\"fill:#000000; fill-opacity:1; font-family:Arial,Helvetica Neue,Helvetica,sans-serif; font-size:48px; text-anchor:middle;\\\" transform=\\\"rotate(0, 593.367, 1557.47)\\\" x=\\\"593.367\\\" y=\\\"1557.47\\\">0.2<\\/text>\\n<\\/g>\\n<g clip-path=\\\"url(#clip6301)\\\">\\n<text style=\\\"fill:#000000; fill-opacity:1; font-family:Arial,Helvetica Neue,Helvetica,sans-serif; font-size:48px; text-anchor:middle;\\\" transform=\\\"rotate(0, 1025.34, 1557.47)\\\" x=\\\"1025.34\\\" y=\\\"1557.47\\\">0.4<\\/text>\\n<\\/g>\\n<g clip-path=\\\"url(#clip6301)\\\">\\n<text style=\\\"fill:#000000; fill-opacity:1; font-family:Arial,Helvetica Neue,Helvetica,sans-serif; font-size:48px; text-anchor:middle;\\\" transform=\\\"rotate(0, 1457.31, 1557.47)\\\" x=\\\"1457.31\\\" y=\\\"1557.47\\\">0.6<\\/text>\\n<\\/g>\\n<g clip-path=\\\"url(#clip6301)\\\">\\n<text style=\\\"fill:#000000; fill-opacity:1; font-family:Arial,Helvetica Neue,Helvetica,sans-serif; font-size:48px; text-anchor:middle;\\\" transform=\\\"rotate(0, 1889.29, 1557.47)\\\" x=\\\"1889.29\\\" y=\\\"1557.47\\\">0.8<\\/text>\\n<\\/g>\\n<g clip-path=\\\"url(#clip6301)\\\">\\n<text style=\\\"fill:#000000; fill-opacity:1; font-family:Arial,Helvetica Neue,Helvetica,sans-serif; font-size:48px; text-anchor:middle;\\\" transform=\\\"rotate(0, 2321.26, 1557.47)\\\" x=\\\"2321.26\\\" y=\\\"1557.47\\\">1.0<\\/text>\\n<\\/g>\\n<g clip-path=\\\"url(#clip6301)\\\">\\n<text style=\\\"fill:#000000; fill-opacity:1; font-family:Arial,Helvetica Neue,Helvetica,sans-serif; font-size:48px; text-anchor:end;\\\" transform=\\\"rotate(0, 137.394, 1520.97)\\\" x=\\\"137.394\\\" y=\\\"1520.97\\\">0.0<\\/text>\\n<\\/g>\\n<g clip-path=\\\"url(#clip6301)\\\">\\n<text style=\\\"fill:#000000; fill-opacity:1; font-family:Arial,Helvetica Neue,Helvetica,sans-serif; font-size:48px; text-anchor:end;\\\" transform=\\\"rotate(0, 137.394, 1229.73)\\\" x=\\\"137.394\\\" y=\\\"1229.73\\\">0.2<\\/text>\\n<\\/g>\\n<g clip-path=\\\"url(#clip6301)\\\">\\n<text style=\\\"fill:#000000; fill-opacity:1; font-family:Arial,Helvetica Neue,Helvetica,sans-serif; font-size:48px; text-anchor:end;\\\" transform=\\\"rotate(0, 137.394, 938.482)\\\" x=\\\"137.394\\\" y=\\\"938.482\\\">0.4<\\/text>\\n<\\/g>\\n<g clip-path=\\\"url(#clip6301)\\\">\\n<text style=\\\"fill:#000000; fill-opacity:1; font-family:Arial,Helvetica Neue,Helvetica,sans-serif; font-size:48px; text-anchor:end;\\\" transform=\\\"rotate(0, 137.394, 647.236)\\\" x=\\\"137.394\\\" y=\\\"647.236\\\">0.6<\\/text>\\n<\\/g>\\n<g clip-path=\\\"url(#clip6301)\\\">\\n<text style=\\\"fill:#000000; fill-opacity:1; font-family:Arial,Helvetica Neue,Helvetica,sans-serif; font-size:48px; text-anchor:end;\\\" transform=\\\"rotate(0, 137.394, 355.99)\\\" x=\\\"137.394\\\" y=\\\"355.99\\\">0.8<\\/text>\\n<\\/g>\\n<g clip-path=\\\"url(#clip6301)\\\">\\n<text style=\\\"fill:#000000; fill-opacity:1; font-family:Arial,Helvetica Neue,Helvetica,sans-serif; font-size:48px; text-anchor:end;\\\" transform=\\\"rotate(0, 137.394, 64.7441)\\\" x=\\\"137.394\\\" y=\\\"64.7441\\\">1.0<\\/text>\\n<\\/g>\\n<\\/svg>\\n\"}}},\"children\":[{\"props\":{\"className\":\"webio-observable\",\"setInnerHtml\":\"<?xml version=\\\"1.0\\\" encoding=\\\"utf-8\\\"?>\\n<svg xmlns=\\\"http:\\/\\/www.w3.org\\/2000\\/svg\\\" xmlns:xlink=\\\"http:\\/\\/www.w3.org\\/1999\\/xlink\\\" width=\\\"600\\\" height=\\\"400\\\" viewBox=\\\"0 0 2400 1600\\\">\\n<defs>\\n  <clipPath id=\\\"clip6300\\\">\\n    <rect x=\\\"0\\\" y=\\\"0\\\" width=\\\"2000\\\" height=\\\"2000\\\"\\/>\\n  <\\/clipPath>\\n<\\/defs>\\n<defs>\\n  <clipPath id=\\\"clip6301\\\">\\n    <rect x=\\\"0\\\" y=\\\"0\\\" width=\\\"2400\\\" height=\\\"1600\\\"\\/>\\n  <\\/clipPath>\\n<\\/defs>\\n<polygon clip-path=\\\"url(#clip6301)\\\" points=\\\"\\n0,1600 2400,1600 2400,0 0,0 \\n  \\\" fill=\\\"#ffffff\\\" fill-rule=\\\"evenodd\\\" fill-opacity=\\\"1\\\"\\/>\\n<defs>\\n  <clipPath id=\\\"clip6302\\\">\\n    <rect x=\\\"480\\\" y=\\\"0\\\" width=\\\"1681\\\" height=\\\"1600\\\"\\/>\\n  <\\/clipPath>\\n<\\/defs>\\n<polygon clip-path=\\\"url(#clip6301)\\\" points=\\\"\\n161.394,1503.47 2321.26,1503.47 2321.26,47.2441 161.394,47.2441 \\n  \\\" fill=\\\"#ffffff\\\" fill-rule=\\\"evenodd\\\" fill-opacity=\\\"1\\\"\\/>\\n<defs>\\n  <clipPath id=\\\"clip6303\\\">\\n    <rect x=\\\"161\\\" y=\\\"47\\\" width=\\\"2161\\\" height=\\\"1457\\\"\\/>\\n  <\\/clipPath>\\n<\\/defs>\\n<polyline clip-path=\\\"url(#clip6303)\\\" style=\\\"stroke:#000000; stroke-width:2; stroke-opacity:0.1; fill:none\\\" points=\\\"\\n  161.394,1503.47 161.394,47.2441 \\n  \\\"\\/>\\n<polyline clip-path=\\\"url(#clip6303)\\\" style=\\\"stroke:#000000; stroke-width:2; stroke-opacity:0.1; fill:none\\\" points=\\\"\\n  593.367,1503.47 593.367,47.2441 \\n  \\\"\\/>\\n<polyline clip-path=\\\"url(#clip6303)\\\" style=\\\"stroke:#000000; stroke-width:2; stroke-opacity:0.1; fill:none\\\" points=\\\"\\n  1025.34,1503.47 1025.34,47.2441 \\n  \\\"\\/>\\n<polyline clip-path=\\\"url(#clip6303)\\\" style=\\\"stroke:#000000; stroke-width:2; stroke-opacity:0.1; fill:none\\\" points=\\\"\\n  1457.31,1503.47 1457.31,47.2441 \\n  \\\"\\/>\\n<polyline clip-path=\\\"url(#clip6303)\\\" style=\\\"stroke:#000000; stroke-width:2; stroke-opacity:0.1; fill:none\\\" points=\\\"\\n  1889.29,1503.47 1889.29,47.2441 \\n  \\\"\\/>\\n<polyline clip-path=\\\"url(#clip6303)\\\" style=\\\"stroke:#000000; stroke-width:2; stroke-opacity:0.1; fill:none\\\" points=\\\"\\n  2321.26,1503.47 2321.26,47.2441 \\n  \\\"\\/>\\n<polyline clip-path=\\\"url(#clip6303)\\\" style=\\\"stroke:#000000; stroke-width:2; stroke-opacity:0.1; fill:none\\\" points=\\\"\\n  161.394,1503.47 2321.26,1503.47 \\n  \\\"\\/>\\n<polyline clip-path=\\\"url(#clip6303)\\\" style=\\\"stroke:#000000; stroke-width:2; stroke-opacity:0.1; fill:none\\\" points=\\\"\\n  161.394,1212.23 2321.26,1212.23 \\n  \\\"\\/>\\n<polyline clip-path=\\\"url(#clip6303)\\\" style=\\\"stroke:#000000; stroke-width:2; stroke-opacity:0.1; fill:none\\\" points=\\\"\\n  161.394,920.982 2321.26,920.982 \\n  \\\"\\/>\\n<polyline clip-path=\\\"url(#clip6303)\\\" style=\\\"stroke:#000000; stroke-width:2; stroke-opacity:0.1; fill:none\\\" points=\\\"\\n  161.394,629.736 2321.26,629.736 \\n  \\\"\\/>\\n<polyline clip-path=\\\"url(#clip6303)\\\" style=\\\"stroke:#000000; stroke-width:2; stroke-opacity:0.1; fill:none\\\" points=\\\"\\n  161.394,338.49 2321.26,338.49 \\n  \\\"\\/>\\n<polyline clip-path=\\\"url(#clip6303)\\\" style=\\\"stroke:#000000; stroke-width:2; stroke-opacity:0.1; fill:none\\\" points=\\\"\\n  161.394,47.2441 2321.26,47.2441 \\n  \\\"\\/>\\n<polyline clip-path=\\\"url(#clip6301)\\\" style=\\\"stroke:#000000; stroke-width:4; stroke-opacity:1; fill:none\\\" points=\\\"\\n  161.394,1503.47 2321.26,1503.47 \\n  \\\"\\/>\\n<polyline clip-path=\\\"url(#clip6301)\\\" style=\\\"stroke:#000000; stroke-width:4; stroke-opacity:1; fill:none\\\" points=\\\"\\n  161.394,1503.47 161.394,47.2441 \\n  \\\"\\/>\\n<polyline clip-path=\\\"url(#clip6301)\\\" style=\\\"stroke:#000000; stroke-width:4; stroke-opacity:1; fill:none\\\" points=\\\"\\n  161.394,1503.47 161.394,1481.63 \\n  \\\"\\/>\\n<polyline clip-path=\\\"url(#clip6301)\\\" style=\\\"stroke:#000000; stroke-width:4; stroke-opacity:1; fill:none\\\" points=\\\"\\n  593.367,1503.47 593.367,1481.63 \\n  \\\"\\/>\\n<polyline clip-path=\\\"url(#clip6301)\\\" style=\\\"stroke:#000000; stroke-width:4; stroke-opacity:1; fill:none\\\" points=\\\"\\n  1025.34,1503.47 1025.34,1481.63 \\n  \\\"\\/>\\n<polyline clip-path=\\\"url(#clip6301)\\\" style=\\\"stroke:#000000; stroke-width:4; stroke-opacity:1; fill:none\\\" points=\\\"\\n  1457.31,1503.47 1457.31,1481.63 \\n  \\\"\\/>\\n<polyline clip-path=\\\"url(#clip6301)\\\" style=\\\"stroke:#000000; stroke-width:4; stroke-opacity:1; fill:none\\\" points=\\\"\\n  1889.29,1503.47 1889.29,1481.63 \\n  \\\"\\/>\\n<polyline clip-path=\\\"url(#clip6301)\\\" style=\\\"stroke:#000000; stroke-width:4; stroke-opacity:1; fill:none\\\" points=\\\"\\n  2321.26,1503.47 2321.26,1481.63 \\n  \\\"\\/>\\n<polyline clip-path=\\\"url(#clip6301)\\\" style=\\\"stroke:#000000; stroke-width:4; stroke-opacity:1; fill:none\\\" points=\\\"\\n  161.394,1503.47 193.792,1503.47 \\n  \\\"\\/>\\n<polyline clip-path=\\\"url(#clip6301)\\\" style=\\\"stroke:#000000; stroke-width:4; stroke-opacity:1; fill:none\\\" points=\\\"\\n  161.394,1212.23 193.792,1212.23 \\n  \\\"\\/>\\n<polyline clip-path=\\\"url(#clip6301)\\\" style=\\\"stroke:#000000; stroke-width:4; stroke-opacity:1; fill:none\\\" points=\\\"\\n  161.394,920.982 193.792,920.982 \\n  \\\"\\/>\\n<polyline clip-path=\\\"url(#clip6301)\\\" style=\\\"stroke:#000000; stroke-width:4; stroke-opacity:1; fill:none\\\" points=\\\"\\n  161.394,629.736 193.792,629.736 \\n  \\\"\\/>\\n<polyline clip-path=\\\"url(#clip6301)\\\" style=\\\"stroke:#000000; stroke-width:4; stroke-opacity:1; fill:none\\\" points=\\\"\\n  161.394,338.49 193.792,338.49 \\n  \\\"\\/>\\n<polyline clip-path=\\\"url(#clip6301)\\\" style=\\\"stroke:#000000; stroke-width:4; stroke-opacity:1; fill:none\\\" points=\\\"\\n  161.394,47.2441 193.792,47.2441 \\n  \\\"\\/>\\n<g clip-path=\\\"url(#clip6301)\\\">\\n<text style=\\\"fill:#000000; fill-opacity:1; font-family:Arial,Helvetica Neue,Helvetica,sans-serif; font-size:48px; text-anchor:middle;\\\" transform=\\\"rotate(0, 161.394, 1557.47)\\\" x=\\\"161.394\\\" y=\\\"1557.47\\\">0.0<\\/text>\\n<\\/g>\\n<g clip-path=\\\"url(#clip6301)\\\">\\n<text style=\\\"fill:#000000; fill-opacity:1; font-family:Arial,Helvetica Neue,Helvetica,sans-serif; font-size:48px; text-anchor:middle;\\\" transform=\\\"rotate(0, 593.367, 1557.47)\\\" x=\\\"593.367\\\" y=\\\"1557.47\\\">0.2<\\/text>\\n<\\/g>\\n<g clip-path=\\\"url(#clip6301)\\\">\\n<text style=\\\"fill:#000000; fill-opacity:1; font-family:Arial,Helvetica Neue,Helvetica,sans-serif; font-size:48px; text-anchor:middle;\\\" transform=\\\"rotate(0, 1025.34, 1557.47)\\\" x=\\\"1025.34\\\" y=\\\"1557.47\\\">0.4<\\/text>\\n<\\/g>\\n<g clip-path=\\\"url(#clip6301)\\\">\\n<text style=\\\"fill:#000000; fill-opacity:1; font-family:Arial,Helvetica Neue,Helvetica,sans-serif; font-size:48px; text-anchor:middle;\\\" transform=\\\"rotate(0, 1457.31, 1557.47)\\\" x=\\\"1457.31\\\" y=\\\"1557.47\\\">0.6<\\/text>\\n<\\/g>\\n<g clip-path=\\\"url(#clip6301)\\\">\\n<text style=\\\"fill:#000000; fill-opacity:1; font-family:Arial,Helvetica Neue,Helvetica,sans-serif; font-size:48px; text-anchor:middle;\\\" transform=\\\"rotate(0, 1889.29, 1557.47)\\\" x=\\\"1889.29\\\" y=\\\"1557.47\\\">0.8<\\/text>\\n<\\/g>\\n<g clip-path=\\\"url(#clip6301)\\\">\\n<text style=\\\"fill:#000000; fill-opacity:1; font-family:Arial,Helvetica Neue,Helvetica,sans-serif; font-size:48px; text-anchor:middle;\\\" transform=\\\"rotate(0, 2321.26, 1557.47)\\\" x=\\\"2321.26\\\" y=\\\"1557.47\\\">1.0<\\/text>\\n<\\/g>\\n<g clip-path=\\\"url(#clip6301)\\\">\\n<text style=\\\"fill:#000000; fill-opacity:1; font-family:Arial,Helvetica Neue,Helvetica,sans-serif; font-size:48px; text-anchor:end;\\\" transform=\\\"rotate(0, 137.394, 1520.97)\\\" x=\\\"137.394\\\" y=\\\"1520.97\\\">0.0<\\/text>\\n<\\/g>\\n<g clip-path=\\\"url(#clip6301)\\\">\\n<text style=\\\"fill:#000000; fill-opacity:1; font-family:Arial,Helvetica Neue,Helvetica,sans-serif; font-size:48px; text-anchor:end;\\\" transform=\\\"rotate(0, 137.394, 1229.73)\\\" x=\\\"137.394\\\" y=\\\"1229.73\\\">0.2<\\/text>\\n<\\/g>\\n<g clip-path=\\\"url(#clip6301)\\\">\\n<text style=\\\"fill:#000000; fill-opacity:1; font-family:Arial,Helvetica Neue,Helvetica,sans-serif; font-size:48px; text-anchor:end;\\\" transform=\\\"rotate(0, 137.394, 938.482)\\\" x=\\\"137.394\\\" y=\\\"938.482\\\">0.4<\\/text>\\n<\\/g>\\n<g clip-path=\\\"url(#clip6301)\\\">\\n<text style=\\\"fill:#000000; fill-opacity:1; font-family:Arial,Helvetica Neue,Helvetica,sans-serif; font-size:48px; text-anchor:end;\\\" transform=\\\"rotate(0, 137.394, 647.236)\\\" x=\\\"137.394\\\" y=\\\"647.236\\\">0.6<\\/text>\\n<\\/g>\\n<g clip-path=\\\"url(#clip6301)\\\">\\n<text style=\\\"fill:#000000; fill-opacity:1; font-family:Arial,Helvetica Neue,Helvetica,sans-serif; font-size:48px; text-anchor:end;\\\" transform=\\\"rotate(0, 137.394, 355.99)\\\" x=\\\"137.394\\\" y=\\\"355.99\\\">0.8<\\/text>\\n<\\/g>\\n<g clip-path=\\\"url(#clip6301)\\\">\\n<text style=\\\"fill:#000000; fill-opacity:1; font-family:Arial,Helvetica Neue,Helvetica,sans-serif; font-size:48px; text-anchor:end;\\\" transform=\\\"rotate(0, 137.394, 64.7441)\\\" x=\\\"137.394\\\" y=\\\"64.7441\\\">1.0<\\/text>\\n<\\/g>\\n<\\/svg>\\n\"},\"nodeType\":\"DOM\",\"type\":\"node\",\"instanceArgs\":{\"namespace\":\"html\",\"tag\":\"div\"},\"children\":[]}]},{\"props\":{\"className\":\"field\"},\"nodeType\":\"DOM\",\"type\":\"node\",\"instanceArgs\":{\"namespace\":\"html\",\"tag\":\"div\"},\"children\":[{\"props\":{},\"nodeType\":\"Scope\",\"type\":\"node\",\"instanceArgs\":{\"imports\":{\"data\":[{\"name\":\"knockout\",\"type\":\"js\",\"url\":\"\\/assetserver\\/7727d7cb3453b9ff588804f2f297360e756850e6-knockout.js\"},{\"name\":\"knockout_punches\",\"type\":\"js\",\"url\":\"\\/assetserver\\/dc191505b241da77a1bd06986b7132036babe315-knockout_punches.js\"},{\"name\":null,\"type\":\"js\",\"url\":\"\\/assetserver\\/cf39e83f3445855334efae1f7d0ee012952fe319-all.js\"},{\"name\":null,\"type\":\"css\",\"url\":\"\\/assetserver\\/495af69608d773e6cf6efd8fe98ee33ddbad0df5-style.css\"},{\"name\":null,\"type\":\"css\",\"url\":\"\\/assetserver\\/9d22e7e1c4dccb3a3bef6ae4d24134fd256d4bfd-main.css\"}],\"type\":\"async_block\"},\"id\":\"knockout-component-45d6a74d-084a-49b6-9034-8025b9f1d06a\",\"handlers\":{\"_promises\":{\"importsLoaded\":[\"function (ko, koPunches) {\\n    ko.punches.enableAll();\\n    ko.bindingHandlers.numericValue = {\\n        init : function(element, valueAccessor, allBindings, data, context) {\\n            var stringified = ko.observable(ko.unwrap(valueAccessor()));\\n            stringified.subscribe(function(value) {\\n                var val = parseFloat(value);\\n                if (!isNaN(val)) {\\n                    valueAccessor()(val);\\n                }\\n            })\\n            valueAccessor().subscribe(function(value) {\\n                var str = JSON.stringify(value);\\n                if ((str == \\\"0\\\") && ([\\\"-0\\\", \\\"-0.\\\"].indexOf(stringified()) >= 0))\\n                     return;\\n                 if ([\\\"null\\\", \\\"\\\"].indexOf(str) >= 0)\\n                     return;\\n                stringified(str);\\n            })\\n            ko.applyBindingsToNode(element, { value: stringified, valueUpdate: allBindings.get('valueUpdate')}, context);\\n        }\\n    };\\n    var json_data = JSON.parse(\\\"{\\\\\\\"display\\\\\\\":\\\\\\\"none\\\\\\\",\\\\\\\"changes\\\\\\\":0,\\\\\\\"value\\\\\\\":30}\\\");\\n    var self = this;\\n    function AppViewModel() {\\n        for (var key in json_data) {\\n            var el = json_data[key];\\n            this[key] = Array.isArray(el) ? ko.observableArray(el) : ko.observable(el);\\n        }\\n        \\n        \\n        [this[\\\"display\\\"].subscribe((function (val){!(this.valueFromJulia[\\\"display\\\"]) ? (_webIOScope.setObservableValue({\\\"name\\\":\\\"display\\\",\\\"scope\\\":\\\"knockout-component-45d6a74d-084a-49b6-9034-8025b9f1d06a\\\",\\\"id\\\":\\\"ob_122\\\",\\\"type\\\":\\\"observable\\\"},val)) : undefined; return this.valueFromJulia[\\\"display\\\"]=false}),self),this[\\\"changes\\\"].subscribe((function (val){!(this.valueFromJulia[\\\"changes\\\"]) ? (_webIOScope.setObservableValue({\\\"name\\\":\\\"changes\\\",\\\"scope\\\":\\\"knockout-component-45d6a74d-084a-49b6-9034-8025b9f1d06a\\\",\\\"id\\\":\\\"ob_124\\\",\\\"type\\\":\\\"observable\\\"},val)) : undefined; return this.valueFromJulia[\\\"changes\\\"]=false}),self),this[\\\"value\\\"].subscribe((function (val){!(this.valueFromJulia[\\\"value\\\"]) ? (_webIOScope.setObservableValue({\\\"name\\\":\\\"value\\\",\\\"scope\\\":\\\"knockout-component-45d6a74d-084a-49b6-9034-8025b9f1d06a\\\",\\\"id\\\":\\\"ob_123\\\",\\\"type\\\":\\\"observable\\\"},val)) : undefined; return this.valueFromJulia[\\\"value\\\"]=false}),self)]\\n        \\n    }\\n    self.model = new AppViewModel();\\n    self.valueFromJulia = {};\\n    for (var key in json_data) {\\n        self.valueFromJulia[key] = false;\\n    }\\n    ko.applyBindings(self.model, self.dom);\\n}\\n\"]},\"display\":[\"(function (val){return (val!=this.model[\\\"display\\\"]()) ? (this.valueFromJulia[\\\"display\\\"]=true, this.model[\\\"display\\\"](val)) : undefined})\"],\"changes\":[\"(function (val){return (val!=this.model[\\\"changes\\\"]()) ? (this.valueFromJulia[\\\"changes\\\"]=true, this.model[\\\"changes\\\"](val)) : undefined})\"],\"value\":[\"(function (val){return (val!=this.model[\\\"value\\\"]()) ? (this.valueFromJulia[\\\"value\\\"]=true, this.model[\\\"value\\\"](val)) : undefined})\"]},\"systemjs_options\":null,\"observables\":{\"display\":{\"sync\":false,\"id\":\"ob_122\",\"value\":\"none\"},\"changes\":{\"sync\":false,\"id\":\"ob_124\",\"value\":0},\"value\":{\"sync\":true,\"id\":\"ob_123\",\"value\":30}}},\"children\":[{\"props\":{\"attributes\":{\"data-bind\":\"style: {display: display}\"}},\"nodeType\":\"DOM\",\"type\":\"node\",\"instanceArgs\":{\"namespace\":\"html\",\"tag\":\"div\"},\"children\":[{\"props\":{\"attributes\":{\"style\":\"display:flex; justify-content:center; align-items:center;\"}},\"nodeType\":\"DOM\",\"type\":\"node\",\"instanceArgs\":{\"namespace\":\"html\",\"tag\":\"div\"},\"children\":[{\"props\":{\"attributes\":{\"style\":\"text-align:right;width:18%\"}},\"nodeType\":\"DOM\",\"type\":\"node\",\"instanceArgs\":{\"namespace\":\"html\",\"tag\":\"div\"},\"children\":[{\"props\":{\"className\":\"interact \",\"style\":{\"padding\":\"5px 10px 0px 10px\"}},\"nodeType\":\"DOM\",\"type\":\"node\",\"instanceArgs\":{\"namespace\":\"html\",\"tag\":\"label\"},\"children\":[\"number of bins\"]}]},{\"props\":{\"attributes\":{\"style\":\"flex-grow:1; margin: 0 2%\"}},\"nodeType\":\"DOM\",\"type\":\"node\",\"instanceArgs\":{\"namespace\":\"html\",\"tag\":\"div\"},\"children\":[{\"props\":{\"max\":100,\"min\":1,\"attributes\":{\"type\":\"range\",\"data-bind\":\"numericValue: value, valueUpdate: 'input', event: {change : function () {this.changes(this.changes()+1)}}\",\"orient\":\"horizontal\"},\"step\":1,\"className\":\"slider slider is-fullwidth\",\"style\":{}},\"nodeType\":\"DOM\",\"type\":\"node\",\"instanceArgs\":{\"namespace\":\"html\",\"tag\":\"input\"},\"children\":[]}]},{\"props\":{\"attributes\":{\"style\":\"width:18%\"}},\"nodeType\":\"DOM\",\"type\":\"node\",\"instanceArgs\":{\"namespace\":\"html\",\"tag\":\"div\"},\"children\":[{\"props\":{\"attributes\":{\"data-bind\":\"text: value\"}},\"nodeType\":\"DOM\",\"type\":\"node\",\"instanceArgs\":{\"namespace\":\"html\",\"tag\":\"p\"},\"children\":[]}]}]}]}]}]}]}]},\n",
       "        );\n",
       "    } else {\n",
       "        document\n",
       "            .querySelector('[data-webio-mountpoint=\"12342534388559288308\"]')\n",
       "            .innerHTML = '<strong>WebIO not detected.</strong>';\n",
       "    }\n",
       "    </script>\n",
       "</div>\n"
      ],
      "text/plain": [
       "Widget{:dataviewer,Any}(OrderedDict{Symbol,Any}(:x=>Widget{:dropdown,Any}(OrderedDict{Symbol,Any}(:options=>Observable{Any} with 6 listeners. Value:\n",
       "Symbol[:scenario, :policy, :updater, :n_episodes, :reward_mean, :reward_std, :steps_mean, :steps_std, :violations_mean, :violations_std, :time],:index=>Observable{Any} with 2 listeners. Value:\n",
       "Int64[]), Observable{Any} with 1 listeners. Value:\n",
       "Symbol[], Scope(\"knockout-component-789862ec-82b6-4138-b193-0af65d119e56\", Node{DOM}(DOM(:html, :div), Any[Node{DOM}(DOM(:html, :select), Any[], Dict{Symbol,Any}(:attributes=>Dict{Union{String, Symbol},Any}(:multiple=>true,Symbol(\"data-bind\")=>\"options : options_js, selectedOptions : index, optionsText: 'key', optionsValue: 'val', valueAllowUnset: true, optionsAfterRender: disablePlaceholder\")), 0)], Dict{Symbol,Any}(:className=>\"select is-multiple \"), 1), Dict{String,Tuple{Observables.AbstractObservable,Union{Nothing, Bool}}}(\"options_js\"=>(Observable{Any} with 1 listeners. Value:\n",
       "OrderedDict[OrderedDict{String,Any}(\"key\"=>\"First axis\",\"val\"=>0,\"id\"=>\"idbhkB5vaG\"), OrderedDict{String,Any}(\"key\"=>\"scenario\",\"val\"=>1,\"id\"=>\"idq5cUQZL1\"), OrderedDict{String,Any}(\"key\"=>\"policy\",\"val\"=>2,\"id\"=>\"idMW10WwGm\"), OrderedDict{String,Any}(\"key\"=>\"updater\",\"val\"=>3,\"id\"=>\"idmyHCED8N\"), OrderedDict{String,Any}(\"key\"=>\"n_episodes\",\"val\"=>4,\"id\"=>\"idxahsprqa\"), OrderedDict{String,Any}(\"key\"=>\"reward_mean\",\"val\"=>5,\"id\"=>\"idI2wSQOfZ\"), OrderedDict{String,Any}(\"key\"=>\"reward_std\",\"val\"=>6,\"id\"=>\"idnBpgbroM\"), OrderedDict{String,Any}(\"key\"=>\"steps_mean\",\"val\"=>7,\"id\"=>\"idQmDU7OFn\"), OrderedDict{String,Any}(\"key\"=>\"steps_std\",\"val\"=>8,\"id\"=>\"idAgJP8QPp\"), OrderedDict{String,Any}(\"key\"=>\"violations_mean\",\"val\"=>9,\"id\"=>\"idvcx4izYF\"), OrderedDict{String,Any}(\"key\"=>\"violations_std\",\"val\"=>10,\"id\"=>\"idkxtIgFqc\"), OrderedDict{String,Any}(\"key\"=>\"time\",\"val\"=>11,\"id\"=>\"id30kDcs1E\")], nothing),\"index\"=>(Observable{Any} with 2 listeners. Value:\n",
       "Int64[], nothing)), Set(String[]), nothing, Any[\"knockout\"=>\"C:\\\\Users\\\\Maxime\\\\.julia\\\\packages\\\\Knockout\\\\JIqpG\\\\src\\\\..\\\\assets\\\\knockout.js\", \"knockout_punches\"=>\"C:\\\\Users\\\\Maxime\\\\.julia\\\\packages\\\\Knockout\\\\JIqpG\\\\src\\\\..\\\\assets\\\\knockout_punches.js\", \"C:\\\\Users\\\\Maxime\\\\.julia\\\\packages\\\\InteractBase\\\\Q4IkI\\\\src\\\\..\\\\assets\\\\all.js\", \"C:\\\\Users\\\\Maxime\\\\.julia\\\\packages\\\\InteractBase\\\\Q4IkI\\\\src\\\\..\\\\assets\\\\style.css\", \"C:\\\\Users\\\\Maxime\\\\.julia\\\\packages\\\\InteractBulma\\\\Ohu5Y\\\\src\\\\..\\\\assets\\\\main.css\"], Dict{Any,Any}(\"_promises\"=>Dict{Any,Any}(\"importsLoaded\"=>Any[JSString(\"function (ko, koPunches) {\\n    ko.punches.enableAll();\\n    ko.bindingHandlers.numericValue = {\\n        init : function(element, valueAccessor, allBindings, data, context) {\\n            var stringified = ko.observable(ko.unwrap(valueAccessor()));\\n            stringified.subscribe(function(value) {\\n                var val = parseFloat(value);\\n                if (!isNaN(val)) {\\n                    valueAccessor()(val);\\n                }\\n            })\\n            valueAccessor().subscribe(function(value) {\\n                var str = JSON.stringify(value);\\n                if ((str == \\\"0\\\") && ([\\\"-0\\\", \\\"-0.\\\"].indexOf(stringified()) >= 0))\\n                     return;\\n                 if ([\\\"null\\\", \\\"\\\"].indexOf(str) >= 0)\\n                     return;\\n                stringified(str);\\n            })\\n            ko.applyBindingsToNode(element, { value: stringified, valueUpdate: allBindings.get('valueUpdate')}, context);\\n        }\\n    };\\n    var json_data = JSON.parse(\\\"{\\\\\\\"options_js\\\\\\\":[{\\\\\\\"key\\\\\\\":\\\\\\\"First axis\\\\\\\",\\\\\\\"val\\\\\\\":0,\\\\\\\"id\\\\\\\":\\\\\\\"idbhkB5vaG\\\\\\\"},{\\\\\\\"key\\\\\\\":\\\\\\\"scenario\\\\\\\",\\\\\\\"val\\\\\\\":1,\\\\\\\"id\\\\\\\":\\\\\\\"idq5cUQZL1\\\\\\\"},{\\\\\\\"key\\\\\\\":\\\\\\\"policy\\\\\\\",\\\\\\\"val\\\\\\\":2,\\\\\\\"id\\\\\\\":\\\\\\\"idMW10WwGm\\\\\\\"},{\\\\\\\"key\\\\\\\":\\\\\\\"updater\\\\\\\",\\\\\\\"val\\\\\\\":3,\\\\\\\"id\\\\\\\":\\\\\\\"idmyHCED8N\\\\\\\"},{\\\\\\\"key\\\\\\\":\\\\\\\"n_episodes\\\\\\\",\\\\\\\"val\\\\\\\":4,\\\\\\\"id\\\\\\\":\\\\\\\"idxahsprqa\\\\\\\"},{\\\\\\\"key\\\\\\\":\\\\\\\"reward_mean\\\\\\\",\\\\\\\"val\\\\\\\":5,\\\\\\\"id\\\\\\\":\\\\\\\"idI2wSQOfZ\\\\\\\"},{\\\\\\\"key\\\\\\\":\\\\\\\"reward_std\\\\\\\",\\\\\\\"val\\\\\\\":6,\\\\\\\"id\\\\\\\":\\\\\\\"idnBpgbroM\\\\\\\"},{\\\\\\\"key\\\\\\\":\\\\\\\"steps_mean\\\\\\\",\\\\\\\"val\\\\\\\":7,\\\\\\\"id\\\\\\\":\\\\\\\"idQmDU7OFn\\\\\\\"},{\\\\\\\"key\\\\\\\":\\\\\\\"steps_std\\\\\\\",\\\\\\\"val\\\\\\\":8,\\\\\\\"id\\\\\\\":\\\\\\\"idAgJP8QPp\\\\\\\"},{\\\\\\\"key\\\\\\\":\\\\\\\"violations_mean\\\\\\\",\\\\\\\"val\\\\\\\":9,\\\\\\\"id\\\\\\\":\\\\\\\"idvcx4izYF\\\\\\\"},{\\\\\\\"key\\\\\\\":\\\\\\\"violations_std\\\\\\\",\\\\\\\"val\\\\\\\":10,\\\\\\\"id\\\\\\\":\\\\\\\"idkxtIgFqc\\\\\\\"},{\\\\\\\"key\\\\\\\":\\\\\\\"time\\\\\\\",\\\\\\\"val\\\\\\\":11,\\\\\\\"id\\\\\\\":\\\\\\\"id30kDcs1E\\\\\\\"}],\\\\\\\"index\\\\\\\":[]}\\\");\\n    var self = this;\\n    function AppViewModel() {\\n        for (var key in json_data) {\\n            var el = json_data[key];\\n            this[key] = Array.isArray(el) ? ko.observableArray(el) : ko.observable(el);\\n        }\\n        [this[\\\"disablePlaceholder\\\"]=function(option, item) {\\n    ko.applyBindingsToNode(option, {disable: item.val == 0}, item);\\n}\\n]\\n        \\n        [this[\\\"options_js\\\"].subscribe((function (val){!(this.valueFromJulia[\\\"options_js\\\"]) ? (_webIOScope.setObservableValue({\\\"name\\\":\\\"options_js\\\",\\\"scope\\\":\\\"knockout-component-789862ec-82b6-4138-b193-0af65d119e56\\\",\\\"id\\\":\\\"ob_110\\\",\\\"type\\\":\\\"observable\\\"},val)) : undefined; return this.valueFromJulia[\\\"options_js\\\"]=false}),self),this[\\\"index\\\"].subscribe((function (val){!(this.valueFromJulia[\\\"index\\\"]) ? (_webIOScope.setObservableValue({\\\"name\\\":\\\"index\\\",\\\"scope\\\":\\\"knockout-component-789862ec-82b6-4138-b193-0af65d119e56\\\",\\\"id\\\":\\\"ob_109\\\",\\\"type\\\":\\\"observable\\\"},val)) : undefined; return this.valueFromJulia[\\\"index\\\"]=false}),self)]\\n        \\n    }\\n    self.model = new AppViewModel();\\n    self.valueFromJulia = {};\\n    for (var key in json_data) {\\n        self.valueFromJulia[key] = false;\\n    }\\n    ko.applyBindings(self.model, self.dom);\\n}\\n\")]),\"options_js\"=>Any[JSString(\"(function (val){return (val!=this.model[\\\"options_js\\\"]()) ? (this.valueFromJulia[\\\"options_js\\\"]=true, this.model[\\\"options_js\\\"](val)) : undefined})\")],\"index\"=>Any[JSString(\"(function (val){return (val!=this.model[\\\"index\\\"]()) ? (this.valueFromJulia[\\\"index\\\"]=true, this.model[\\\"index\\\"](val)) : undefined})\")]), ConnectionPool(Channel{Any}(sz_max:9223372036854775807,sz_curr:0), Set(AbstractConnection[]), Channel{AbstractConnection}(sz_max:32,sz_curr:0))), ##52#53{#dom#13{##dom#11#12{Dict{Any,Any},DOM}},typeof(scope)}(#dom#13{##dom#11#12{Dict{Any,Any},DOM}}(##dom#11#12{Dict{Any,Any},DOM}(Dict{Any,Any}(:className=>\"field\"), DOM(:html, :div))), scope)),:y=>Widget{:dropdown,Any}(OrderedDict{Symbol,Any}(:options=>Observable{Any} with 6 listeners. Value:\n",
       "Symbol[:scenario, :policy, :updater, :n_episodes, :reward_mean, :reward_std, :steps_mean, :steps_std, :violations_mean, :violations_std, :time],:index=>Observable{Any} with 2 listeners. Value:\n",
       "Int64[]), Observable{Any} with 1 listeners. Value:\n",
       "Symbol[], Scope(\"knockout-component-41001ed9-18c4-45e7-afe1-c57430f630ac\", Node{DOM}(DOM(:html, :div), Any[Node{DOM}(DOM(:html, :select), Any[], Dict{Symbol,Any}(:attributes=>Dict{Union{String, Symbol},Any}(:multiple=>true,Symbol(\"data-bind\")=>\"options : options_js, selectedOptions : index, optionsText: 'key', optionsValue: 'val', valueAllowUnset: true, optionsAfterRender: disablePlaceholder\")), 0)], Dict{Symbol,Any}(:className=>\"select is-multiple \"), 1), Dict{String,Tuple{Observables.AbstractObservable,Union{Nothing, Bool}}}(\"options_js\"=>(Observable{Any} with 1 listeners. Value:\n",
       "OrderedDict[OrderedDict{String,Any}(\"key\"=>\"Second axis\",\"val\"=>0,\"id\"=>\"idE8zLqvt1\"), OrderedDict{String,Any}(\"key\"=>\"scenario\",\"val\"=>1,\"id\"=>\"id3xceggBr\"), OrderedDict{String,Any}(\"key\"=>\"policy\",\"val\"=>2,\"id\"=>\"idXSQkGGAB\"), OrderedDict{String,Any}(\"key\"=>\"updater\",\"val\"=>3,\"id\"=>\"ide8S5Y66M\"), OrderedDict{String,Any}(\"key\"=>\"n_episodes\",\"val\"=>4,\"id\"=>\"id0tLVeFnv\"), OrderedDict{String,Any}(\"key\"=>\"reward_mean\",\"val\"=>5,\"id\"=>\"idLZpwQP5v\"), OrderedDict{String,Any}(\"key\"=>\"reward_std\",\"val\"=>6,\"id\"=>\"idJtFlCorq\"), OrderedDict{String,Any}(\"key\"=>\"steps_mean\",\"val\"=>7,\"id\"=>\"idwFKhzybj\"), OrderedDict{String,Any}(\"key\"=>\"steps_std\",\"val\"=>8,\"id\"=>\"idaYCcfhE7\"), OrderedDict{String,Any}(\"key\"=>\"violations_mean\",\"val\"=>9,\"id\"=>\"id1b6pTqo1\"), OrderedDict{String,Any}(\"key\"=>\"violations_std\",\"val\"=>10,\"id\"=>\"idB0GHICfn\"), OrderedDict{String,Any}(\"key\"=>\"time\",\"val\"=>11,\"id\"=>\"idIZBPd7UP\")], nothing),\"index\"=>(Observable{Any} with 2 listeners. Value:\n",
       "Int64[], nothing)), Set(String[]), nothing, Any[\"knockout\"=>\"C:\\\\Users\\\\Maxime\\\\.julia\\\\packages\\\\Knockout\\\\JIqpG\\\\src\\\\..\\\\assets\\\\knockout.js\", \"knockout_punches\"=>\"C:\\\\Users\\\\Maxime\\\\.julia\\\\packages\\\\Knockout\\\\JIqpG\\\\src\\\\..\\\\assets\\\\knockout_punches.js\", \"C:\\\\Users\\\\Maxime\\\\.julia\\\\packages\\\\InteractBase\\\\Q4IkI\\\\src\\\\..\\\\assets\\\\all.js\", \"C:\\\\Users\\\\Maxime\\\\.julia\\\\packages\\\\InteractBase\\\\Q4IkI\\\\src\\\\..\\\\assets\\\\style.css\", \"C:\\\\Users\\\\Maxime\\\\.julia\\\\packages\\\\InteractBulma\\\\Ohu5Y\\\\src\\\\..\\\\assets\\\\main.css\"], Dict{Any,Any}(\"_promises\"=>Dict{Any,Any}(\"importsLoaded\"=>Any[JSString(\"function (ko, koPunches) {\\n    ko.punches.enableAll();\\n    ko.bindingHandlers.numericValue = {\\n        init : function(element, valueAccessor, allBindings, data, context) {\\n            var stringified = ko.observable(ko.unwrap(valueAccessor()));\\n            stringified.subscribe(function(value) {\\n                var val = parseFloat(value);\\n                if (!isNaN(val)) {\\n                    valueAccessor()(val);\\n                }\\n            })\\n            valueAccessor().subscribe(function(value) {\\n                var str = JSON.stringify(value);\\n                if ((str == \\\"0\\\") && ([\\\"-0\\\", \\\"-0.\\\"].indexOf(stringified()) >= 0))\\n                     return;\\n                 if ([\\\"null\\\", \\\"\\\"].indexOf(str) >= 0)\\n                     return;\\n                stringified(str);\\n            })\\n            ko.applyBindingsToNode(element, { value: stringified, valueUpdate: allBindings.get('valueUpdate')}, context);\\n        }\\n    };\\n    var json_data = JSON.parse(\\\"{\\\\\\\"options_js\\\\\\\":[{\\\\\\\"key\\\\\\\":\\\\\\\"Second axis\\\\\\\",\\\\\\\"val\\\\\\\":0,\\\\\\\"id\\\\\\\":\\\\\\\"idE8zLqvt1\\\\\\\"},{\\\\\\\"key\\\\\\\":\\\\\\\"scenario\\\\\\\",\\\\\\\"val\\\\\\\":1,\\\\\\\"id\\\\\\\":\\\\\\\"id3xceggBr\\\\\\\"},{\\\\\\\"key\\\\\\\":\\\\\\\"policy\\\\\\\",\\\\\\\"val\\\\\\\":2,\\\\\\\"id\\\\\\\":\\\\\\\"idXSQkGGAB\\\\\\\"},{\\\\\\\"key\\\\\\\":\\\\\\\"updater\\\\\\\",\\\\\\\"val\\\\\\\":3,\\\\\\\"id\\\\\\\":\\\\\\\"ide8S5Y66M\\\\\\\"},{\\\\\\\"key\\\\\\\":\\\\\\\"n_episodes\\\\\\\",\\\\\\\"val\\\\\\\":4,\\\\\\\"id\\\\\\\":\\\\\\\"id0tLVeFnv\\\\\\\"},{\\\\\\\"key\\\\\\\":\\\\\\\"reward_mean\\\\\\\",\\\\\\\"val\\\\\\\":5,\\\\\\\"id\\\\\\\":\\\\\\\"idLZpwQP5v\\\\\\\"},{\\\\\\\"key\\\\\\\":\\\\\\\"reward_std\\\\\\\",\\\\\\\"val\\\\\\\":6,\\\\\\\"id\\\\\\\":\\\\\\\"idJtFlCorq\\\\\\\"},{\\\\\\\"key\\\\\\\":\\\\\\\"steps_mean\\\\\\\",\\\\\\\"val\\\\\\\":7,\\\\\\\"id\\\\\\\":\\\\\\\"idwFKhzybj\\\\\\\"},{\\\\\\\"key\\\\\\\":\\\\\\\"steps_std\\\\\\\",\\\\\\\"val\\\\\\\":8,\\\\\\\"id\\\\\\\":\\\\\\\"idaYCcfhE7\\\\\\\"},{\\\\\\\"key\\\\\\\":\\\\\\\"violations_mean\\\\\\\",\\\\\\\"val\\\\\\\":9,\\\\\\\"id\\\\\\\":\\\\\\\"id1b6pTqo1\\\\\\\"},{\\\\\\\"key\\\\\\\":\\\\\\\"violations_std\\\\\\\",\\\\\\\"val\\\\\\\":10,\\\\\\\"id\\\\\\\":\\\\\\\"idB0GHICfn\\\\\\\"},{\\\\\\\"key\\\\\\\":\\\\\\\"time\\\\\\\",\\\\\\\"val\\\\\\\":11,\\\\\\\"id\\\\\\\":\\\\\\\"idIZBPd7UP\\\\\\\"}],\\\\\\\"index\\\\\\\":[]}\\\");\\n    var self = this;\\n    function AppViewModel() {\\n        for (var key in json_data) {\\n            var el = json_data[key];\\n            this[key] = Array.isArray(el) ? ko.observableArray(el) : ko.observable(el);\\n        }\\n        [this[\\\"disablePlaceholder\\\"]=function(option, item) {\\n    ko.applyBindingsToNode(option, {disable: item.val == 0}, item);\\n}\\n]\\n        \\n        [this[\\\"options_js\\\"].subscribe((function (val){!(this.valueFromJulia[\\\"options_js\\\"]) ? (_webIOScope.setObservableValue({\\\"name\\\":\\\"options_js\\\",\\\"scope\\\":\\\"knockout-component-41001ed9-18c4-45e7-afe1-c57430f630ac\\\",\\\"id\\\":\\\"ob_114\\\",\\\"type\\\":\\\"observable\\\"},val)) : undefined; return this.valueFromJulia[\\\"options_js\\\"]=false}),self),this[\\\"index\\\"].subscribe((function (val){!(this.valueFromJulia[\\\"index\\\"]) ? (_webIOScope.setObservableValue({\\\"name\\\":\\\"index\\\",\\\"scope\\\":\\\"knockout-component-41001ed9-18c4-45e7-afe1-c57430f630ac\\\",\\\"id\\\":\\\"ob_113\\\",\\\"type\\\":\\\"observable\\\"},val)) : undefined; return this.valueFromJulia[\\\"index\\\"]=false}),self)]\\n        \\n    }\\n    self.model = new AppViewModel();\\n    self.valueFromJulia = {};\\n    for (var key in json_data) {\\n        self.valueFromJulia[key] = false;\\n    }\\n    ko.applyBindings(self.model, self.dom);\\n}\\n\")]),\"options_js\"=>Any[JSString(\"(function (val){return (val!=this.model[\\\"options_js\\\"]()) ? (this.valueFromJulia[\\\"options_js\\\"]=true, this.model[\\\"options_js\\\"](val)) : undefined})\")],\"index\"=>Any[JSString(\"(function (val){return (val!=this.model[\\\"index\\\"]()) ? (this.valueFromJulia[\\\"index\\\"]=true, this.model[\\\"index\\\"](val)) : undefined})\")]), ConnectionPool(Channel{Any}(sz_max:9223372036854775807,sz_curr:0), Set(AbstractConnection[]), Channel{AbstractConnection}(sz_max:32,sz_curr:0))), ##52#53{#dom#13{##dom#11#12{Dict{Any,Any},DOM}},typeof(scope)}(#dom#13{##dom#11#12{Dict{Any,Any},DOM}}(##dom#11#12{Dict{Any,Any},DOM}(Dict{Any,Any}(:className=>\"field\"), DOM(:html, :div))), scope)),:y_toggle=>Widget{:togglecontent,Bool}(OrderedDict{Symbol,Any}(:changes=>Observable{Int64} with 1 listeners. Value:\n",
       "0,:value=>Observable{Bool} with 1 listeners. Value:\n",
       "false), Observable{Bool} with 1 listeners. Value:\n",
       "false, Scope(\"knockout-component-81abe908-c14d-480e-b4cc-5e97e00dcc7e\", Node{DOM}(DOM(:html, :div), Any[Node{DOM}(DOM(:html, :div), Any[Node{DOM}(DOM(:html, :input), Any[], Dict{Symbol,Any}(:attributes=>Dict{Any,Any}(:type=>\"checkbox\",Symbol(\"data-bind\")=>\"checked: value, valueUpdate: 'change', event: {change : function () {this.changes(this.changes()+1)}}\"),:id=>\"##387\",:className=>\"switch \",:style=>Dict{Any,Any}()), 0), Node{DOM}(DOM(:html, :label), Any[\"Second axis\"], Dict{Symbol,Any}(:attributes=>Dict(\"className\"=>\"\",\"for\"=>\"##387\")), 1)], Dict{Symbol,Any}(:className=>\"field\"), 3), Node{DOM}(DOM(:html, :div), Any[Widget{:dropdown,Any}(OrderedDict{Symbol,Any}(:options=>Observable{Any} with 6 listeners. Value:\n",
       "Symbol[:scenario, :policy, :updater, :n_episodes, :reward_mean, :reward_std, :steps_mean, :steps_std, :violations_mean, :violations_std, :time],:index=>Observable{Any} with 2 listeners. Value:\n",
       "Int64[]), Observable{Any} with 1 listeners. Value:\n",
       "Symbol[], Scope(\"knockout-component-41001ed9-18c4-45e7-afe1-c57430f630ac\", Node{DOM}(DOM(:html, :div), Any[Node{DOM}(DOM(:html, :select), Any[], Dict{Symbol,Any}(:attributes=>Dict{Union{String, Symbol},Any}(:multiple=>true,Symbol(\"data-bind\")=>\"options : options_js, selectedOptions : index, optionsText: 'key', optionsValue: 'val', valueAllowUnset: true, optionsAfterRender: disablePlaceholder\")), 0)], Dict{Symbol,Any}(:className=>\"select is-multiple \"), 1), Dict{String,Tuple{Observables.AbstractObservable,Union{Nothing, Bool}}}(\"options_js\"=>(Observable{Any} with 1 listeners. Value:\n",
       "OrderedDict[OrderedDict{String,Any}(\"key\"=>\"Second axis\",\"val\"=>0,\"id\"=>\"idE8zLqvt1\"), OrderedDict{String,Any}(\"key\"=>\"scenario\",\"val\"=>1,\"id\"=>\"id3xceggBr\"), OrderedDict{String,Any}(\"key\"=>\"policy\",\"val\"=>2,\"id\"=>\"idXSQkGGAB\"), OrderedDict{String,Any}(\"key\"=>\"updater\",\"val\"=>3,\"id\"=>\"ide8S5Y66M\"), OrderedDict{String,Any}(\"key\"=>\"n_episodes\",\"val\"=>4,\"id\"=>\"id0tLVeFnv\"), OrderedDict{String,Any}(\"key\"=>\"reward_mean\",\"val\"=>5,\"id\"=>\"idLZpwQP5v\"), OrderedDict{String,Any}(\"key\"=>\"reward_std\",\"val\"=>6,\"id\"=>\"idJtFlCorq\"), OrderedDict{String,Any}(\"key\"=>\"steps_mean\",\"val\"=>7,\"id\"=>\"idwFKhzybj\"), OrderedDict{String,Any}(\"key\"=>\"steps_std\",\"val\"=>8,\"id\"=>\"idaYCcfhE7\"), OrderedDict{String,Any}(\"key\"=>\"violations_mean\",\"val\"=>9,\"id\"=>\"id1b6pTqo1\"), OrderedDict{String,Any}(\"key\"=>\"violations_std\",\"val\"=>10,\"id\"=>\"idB0GHICfn\"), OrderedDict{String,Any}(\"key\"=>\"time\",\"val\"=>11,\"id\"=>\"idIZBPd7UP\")], nothing),\"index\"=>(Observable{Any} with 2 listeners. Value:\n",
       "Int64[], nothing)), Set(String[]), nothing, Any[\"knockout\"=>\"C:\\\\Users\\\\Maxime\\\\.julia\\\\packages\\\\Knockout\\\\JIqpG\\\\src\\\\..\\\\assets\\\\knockout.js\", \"knockout_punches\"=>\"C:\\\\Users\\\\Maxime\\\\.julia\\\\packages\\\\Knockout\\\\JIqpG\\\\src\\\\..\\\\assets\\\\knockout_punches.js\", \"C:\\\\Users\\\\Maxime\\\\.julia\\\\packages\\\\InteractBase\\\\Q4IkI\\\\src\\\\..\\\\assets\\\\all.js\", \"C:\\\\Users\\\\Maxime\\\\.julia\\\\packages\\\\InteractBase\\\\Q4IkI\\\\src\\\\..\\\\assets\\\\style.css\", \"C:\\\\Users\\\\Maxime\\\\.julia\\\\packages\\\\InteractBulma\\\\Ohu5Y\\\\src\\\\..\\\\assets\\\\main.css\"], Dict{Any,Any}(\"_promises\"=>Dict{Any,Any}(\"importsLoaded\"=>Any[JSString(\"function (ko, koPunches) {\\n    ko.punches.enableAll();\\n    ko.bindingHandlers.numericValue = {\\n        init : function(element, valueAccessor, allBindings, data, context) {\\n            var stringified = ko.observable(ko.unwrap(valueAccessor()));\\n            stringified.subscribe(function(value) {\\n                var val = parseFloat(value);\\n                if (!isNaN(val)) {\\n                    valueAccessor()(val);\\n                }\\n            })\\n            valueAccessor().subscribe(function(value) {\\n                var str = JSON.stringify(value);\\n                if ((str == \\\"0\\\") && ([\\\"-0\\\", \\\"-0.\\\"].indexOf(stringified()) >= 0))\\n                     return;\\n                 if ([\\\"null\\\", \\\"\\\"].indexOf(str) >= 0)\\n                     return;\\n                stringified(str);\\n            })\\n            ko.applyBindingsToNode(element, { value: stringified, valueUpdate: allBindings.get('valueUpdate')}, context);\\n        }\\n    };\\n    var json_data = JSON.parse(\\\"{\\\\\\\"options_js\\\\\\\":[{\\\\\\\"key\\\\\\\":\\\\\\\"Second axis\\\\\\\",\\\\\\\"val\\\\\\\":0,\\\\\\\"id\\\\\\\":\\\\\\\"idE8zLqvt1\\\\\\\"},{\\\\\\\"key\\\\\\\":\\\\\\\"scenario\\\\\\\",\\\\\\\"val\\\\\\\":1,\\\\\\\"id\\\\\\\":\\\\\\\"id3xceggBr\\\\\\\"},{\\\\\\\"key\\\\\\\":\\\\\\\"policy\\\\\\\",\\\\\\\"val\\\\\\\":2,\\\\\\\"id\\\\\\\":\\\\\\\"idXSQkGGAB\\\\\\\"},{\\\\\\\"key\\\\\\\":\\\\\\\"updater\\\\\\\",\\\\\\\"val\\\\\\\":3,\\\\\\\"id\\\\\\\":\\\\\\\"ide8S5Y66M\\\\\\\"},{\\\\\\\"key\\\\\\\":\\\\\\\"n_episodes\\\\\\\",\\\\\\\"val\\\\\\\":4,\\\\\\\"id\\\\\\\":\\\\\\\"id0tLVeFnv\\\\\\\"},{\\\\\\\"key\\\\\\\":\\\\\\\"reward_mean\\\\\\\",\\\\\\\"val\\\\\\\":5,\\\\\\\"id\\\\\\\":\\\\\\\"idLZpwQP5v\\\\\\\"},{\\\\\\\"key\\\\\\\":\\\\\\\"reward_std\\\\\\\",\\\\\\\"val\\\\\\\":6,\\\\\\\"id\\\\\\\":\\\\\\\"idJtFlCorq\\\\\\\"},{\\\\\\\"key\\\\\\\":\\\\\\\"steps_mean\\\\\\\",\\\\\\\"val\\\\\\\":7,\\\\\\\"id\\\\\\\":\\\\\\\"idwFKhzybj\\\\\\\"},{\\\\\\\"key\\\\\\\":\\\\\\\"steps_std\\\\\\\",\\\\\\\"val\\\\\\\":8,\\\\\\\"id\\\\\\\":\\\\\\\"idaYCcfhE7\\\\\\\"},{\\\\\\\"key\\\\\\\":\\\\\\\"violations_mean\\\\\\\",\\\\\\\"val\\\\\\\":9,\\\\\\\"id\\\\\\\":\\\\\\\"id1b6pTqo1\\\\\\\"},{\\\\\\\"key\\\\\\\":\\\\\\\"violations_std\\\\\\\",\\\\\\\"val\\\\\\\":10,\\\\\\\"id\\\\\\\":\\\\\\\"idB0GHICfn\\\\\\\"},{\\\\\\\"key\\\\\\\":\\\\\\\"time\\\\\\\",\\\\\\\"val\\\\\\\":11,\\\\\\\"id\\\\\\\":\\\\\\\"idIZBPd7UP\\\\\\\"}],\\\\\\\"index\\\\\\\":[]}\\\");\\n    var self = this;\\n    function AppViewModel() {\\n        for (var key in json_data) {\\n            var el = json_data[key];\\n            this[key] = Array.isArray(el) ? ko.observableArray(el) : ko.observable(el);\\n        }\\n        [this[\\\"disablePlaceholder\\\"]=function(option, item) {\\n    ko.applyBindingsToNode(option, {disable: item.val == 0}, item);\\n}\\n]\\n        \\n        [this[\\\"options_js\\\"].subscribe((function (val){!(this.valueFromJulia[\\\"options_js\\\"]) ? (_webIOScope.setObservableValue({\\\"name\\\":\\\"options_js\\\",\\\"scope\\\":\\\"knockout-component-41001ed9-18c4-45e7-afe1-c57430f630ac\\\",\\\"id\\\":\\\"ob_114\\\",\\\"type\\\":\\\"observable\\\"},val)) : undefined; return this.valueFromJulia[\\\"options_js\\\"]=false}),self),this[\\\"index\\\"].subscribe((function (val){!(this.valueFromJulia[\\\"index\\\"]) ? (_webIOScope.setObservableValue({\\\"name\\\":\\\"index\\\",\\\"scope\\\":\\\"knockout-component-41001ed9-18c4-45e7-afe1-c57430f630ac\\\",\\\"id\\\":\\\"ob_113\\\",\\\"type\\\":\\\"observable\\\"},val)) : undefined; return this.valueFromJulia[\\\"index\\\"]=false}),self)]\\n        \\n    }\\n    self.model = new AppViewModel();\\n    self.valueFromJulia = {};\\n    for (var key in json_data) {\\n        self.valueFromJulia[key] = false;\\n    }\\n    ko.applyBindings(self.model, self.dom);\\n}\\n\")]),\"options_js\"=>Any[JSString(\"(function (val){return (val!=this.model[\\\"options_js\\\"]()) ? (this.valueFromJulia[\\\"options_js\\\"]=true, this.model[\\\"options_js\\\"](val)) : undefined})\")],\"index\"=>Any[JSString(\"(function (val){return (val!=this.model[\\\"index\\\"]()) ? (this.valueFromJulia[\\\"index\\\"]=true, this.model[\\\"index\\\"](val)) : undefined})\")]), ConnectionPool(Channel{Any}(sz_max:9223372036854775807,sz_curr:0), Set(AbstractConnection[]), Channel{AbstractConnection}(sz_max:32,sz_curr:0))), ##52#53{#dom#13{##dom#11#12{Dict{Any,Any},DOM}},typeof(scope)}(#dom#13{##dom#11#12{Dict{Any,Any},DOM}}(##dom#11#12{Dict{Any,Any},DOM}(Dict{Any,Any}(:className=>\"field\"), DOM(:html, :div))), scope))], Dict{Symbol,Any}(:attributes=>Dict(\"data-bind\"=>\"visible: value\")), 1)], Dict{Symbol,Any}(:style=>Dict(\"display\"=>\"flex\",\"flex-direction\"=>\"column\")), 6), Dict{String,Tuple{Observables.AbstractObservable,Union{Nothing, Bool}}}(\"changes\"=>(Observable{Int64} with 1 listeners. Value:\n",
       "0, nothing),\"value\"=>(Observable{Bool} with 1 listeners. Value:\n",
       "false, nothing)), Set(String[]), nothing, Any[\"knockout\"=>\"C:\\\\Users\\\\Maxime\\\\.julia\\\\packages\\\\Knockout\\\\JIqpG\\\\src\\\\..\\\\assets\\\\knockout.js\", \"knockout_punches\"=>\"C:\\\\Users\\\\Maxime\\\\.julia\\\\packages\\\\Knockout\\\\JIqpG\\\\src\\\\..\\\\assets\\\\knockout_punches.js\", \"C:\\\\Users\\\\Maxime\\\\.julia\\\\packages\\\\InteractBase\\\\Q4IkI\\\\src\\\\..\\\\assets\\\\all.js\", \"C:\\\\Users\\\\Maxime\\\\.julia\\\\packages\\\\InteractBase\\\\Q4IkI\\\\src\\\\..\\\\assets\\\\style.css\", \"C:\\\\Users\\\\Maxime\\\\.julia\\\\packages\\\\InteractBulma\\\\Ohu5Y\\\\src\\\\..\\\\assets\\\\main.css\"], Dict{Any,Any}(\"_promises\"=>Dict{Any,Any}(\"importsLoaded\"=>Any[JSString(\"function (ko, koPunches) {\\n    ko.punches.enableAll();\\n    ko.bindingHandlers.numericValue = {\\n        init : function(element, valueAccessor, allBindings, data, context) {\\n            var stringified = ko.observable(ko.unwrap(valueAccessor()));\\n            stringified.subscribe(function(value) {\\n                var val = parseFloat(value);\\n                if (!isNaN(val)) {\\n                    valueAccessor()(val);\\n                }\\n            })\\n            valueAccessor().subscribe(function(value) {\\n                var str = JSON.stringify(value);\\n                if ((str == \\\"0\\\") && ([\\\"-0\\\", \\\"-0.\\\"].indexOf(stringified()) >= 0))\\n                     return;\\n                 if ([\\\"null\\\", \\\"\\\"].indexOf(str) >= 0)\\n                     return;\\n                stringified(str);\\n            })\\n            ko.applyBindingsToNode(element, { value: stringified, valueUpdate: allBindings.get('valueUpdate')}, context);\\n        }\\n    };\\n    var json_data = JSON.parse(\\\"{\\\\\\\"changes\\\\\\\":0,\\\\\\\"value\\\\\\\":false}\\\");\\n    var self = this;\\n    function AppViewModel() {\\n        for (var key in json_data) {\\n            var el = json_data[key];\\n            this[key] = Array.isArray(el) ? ko.observableArray(el) : ko.observable(el);\\n        }\\n        \\n        \\n        [this[\\\"changes\\\"].subscribe((function (val){!(this.valueFromJulia[\\\"changes\\\"]) ? (_webIOScope.setObservableValue({\\\"name\\\":\\\"changes\\\",\\\"scope\\\":\\\"knockout-component-81abe908-c14d-480e-b4cc-5e97e00dcc7e\\\",\\\"id\\\":\\\"ob_116\\\",\\\"type\\\":\\\"observable\\\"},val)) : undefined; return this.valueFromJulia[\\\"changes\\\"]=false}),self),this[\\\"value\\\"].subscribe((function (val){!(this.valueFromJulia[\\\"value\\\"]) ? (_webIOScope.setObservableValue({\\\"name\\\":\\\"value\\\",\\\"scope\\\":\\\"knockout-component-81abe908-c14d-480e-b4cc-5e97e00dcc7e\\\",\\\"id\\\":\\\"ob_115\\\",\\\"type\\\":\\\"observable\\\"},val)) : undefined; return this.valueFromJulia[\\\"value\\\"]=false}),self)]\\n        \\n    }\\n    self.model = new AppViewModel();\\n    self.valueFromJulia = {};\\n    for (var key in json_data) {\\n        self.valueFromJulia[key] = false;\\n    }\\n    ko.applyBindings(self.model, self.dom);\\n}\\n\")]),\"changes\"=>Any[JSString(\"(function (val){return (val!=this.model[\\\"changes\\\"]()) ? (this.valueFromJulia[\\\"changes\\\"]=true, this.model[\\\"changes\\\"](val)) : undefined})\")],\"value\"=>Any[JSString(\"(function (val){return (val!=this.model[\\\"value\\\"]()) ? (this.valueFromJulia[\\\"value\\\"]=true, this.model[\\\"value\\\"](val)) : undefined})\")]), ConnectionPool(Channel{Any}(sz_max:9223372036854775807,sz_curr:0), Set(AbstractConnection[]), Channel{AbstractConnection}(sz_max:32,sz_curr:0))), ##52#53{#dom#13{##dom#11#12{Dict{Any,Any},DOM}},typeof(scope)}(#dom#13{##dom#11#12{Dict{Any,Any},DOM}}(##dom#11#12{Dict{Any,Any},DOM}(Dict{Any,Any}(:className=>\"field\"), DOM(:html, :div))), scope)),:by=>Widget{:dropdown,Any}(OrderedDict{Symbol,Any}(:options=>Observable{Any} with 6 listeners. Value:\n",
       "Symbol[:scenario, :policy, :updater, :n_episodes, :reward_mean, :reward_std, :steps_mean, :steps_std, :violations_mean, :violations_std, :time],:index=>Observable{Any} with 2 listeners. Value:\n",
       "Int64[]), Observable{Any} with 1 listeners. Value:\n",
       "Symbol[], Scope(\"knockout-component-e4c9802f-2ed7-4fc7-a2a7-f3eb81d94ba6\", Node{DOM}(DOM(:html, :div), Any[Node{DOM}(DOM(:html, :select), Any[], Dict{Symbol,Any}(:attributes=>Dict{Union{String, Symbol},Any}(:multiple=>true,Symbol(\"data-bind\")=>\"options : options_js, selectedOptions : index, optionsText: 'key', optionsValue: 'val', valueAllowUnset: true, optionsAfterRender: disablePlaceholder\")), 0)], Dict{Symbol,Any}(:className=>\"select is-multiple \"), 1), Dict{String,Tuple{Observables.AbstractObservable,Union{Nothing, Bool}}}(\"options_js\"=>(Observable{Any} with 1 listeners. Value:\n",
       "OrderedDict[OrderedDict{String,Any}(\"key\"=>\"Group by\",\"val\"=>0,\"id\"=>\"ideJp9R3OK\"), OrderedDict{String,Any}(\"key\"=>\"scenario\",\"val\"=>1,\"id\"=>\"idWWvlh3KP\"), OrderedDict{String,Any}(\"key\"=>\"policy\",\"val\"=>2,\"id\"=>\"idWdNuc2bJ\"), OrderedDict{String,Any}(\"key\"=>\"updater\",\"val\"=>3,\"id\"=>\"idOEEo4YBZ\"), OrderedDict{String,Any}(\"key\"=>\"n_episodes\",\"val\"=>4,\"id\"=>\"idfV7zIUA3\"), OrderedDict{String,Any}(\"key\"=>\"reward_mean\",\"val\"=>5,\"id\"=>\"idaySNTGJ2\"), OrderedDict{String,Any}(\"key\"=>\"reward_std\",\"val\"=>6,\"id\"=>\"iddDAAiHF4\"), OrderedDict{String,Any}(\"key\"=>\"steps_mean\",\"val\"=>7,\"id\"=>\"idUYNN4XkN\"), OrderedDict{String,Any}(\"key\"=>\"steps_std\",\"val\"=>8,\"id\"=>\"idVxzbwNJ1\"), OrderedDict{String,Any}(\"key\"=>\"violations_mean\",\"val\"=>9,\"id\"=>\"idExDbVayj\"), OrderedDict{String,Any}(\"key\"=>\"violations_std\",\"val\"=>10,\"id\"=>\"idCvBT73BU\"), OrderedDict{String,Any}(\"key\"=>\"time\",\"val\"=>11,\"id\"=>\"idFEWCMf96\")], nothing),\"index\"=>(Observable{Any} with 2 listeners. Value:\n",
       "Int64[], nothing)), Set(String[]), nothing, Any[\"knockout\"=>\"C:\\\\Users\\\\Maxime\\\\.julia\\\\packages\\\\Knockout\\\\JIqpG\\\\src\\\\..\\\\assets\\\\knockout.js\", \"knockout_punches\"=>\"C:\\\\Users\\\\Maxime\\\\.julia\\\\packages\\\\Knockout\\\\JIqpG\\\\src\\\\..\\\\assets\\\\knockout_punches.js\", \"C:\\\\Users\\\\Maxime\\\\.julia\\\\packages\\\\InteractBase\\\\Q4IkI\\\\src\\\\..\\\\assets\\\\all.js\", \"C:\\\\Users\\\\Maxime\\\\.julia\\\\packages\\\\InteractBase\\\\Q4IkI\\\\src\\\\..\\\\assets\\\\style.css\", \"C:\\\\Users\\\\Maxime\\\\.julia\\\\packages\\\\InteractBulma\\\\Ohu5Y\\\\src\\\\..\\\\assets\\\\main.css\"], Dict{Any,Any}(\"_promises\"=>Dict{Any,Any}(\"importsLoaded\"=>Any[JSString(\"function (ko, koPunches) {\\n    ko.punches.enableAll();\\n    ko.bindingHandlers.numericValue = {\\n        init : function(element, valueAccessor, allBindings, data, context) {\\n            var stringified = ko.observable(ko.unwrap(valueAccessor()));\\n            stringified.subscribe(function(value) {\\n                var val = parseFloat(value);\\n                if (!isNaN(val)) {\\n                    valueAccessor()(val);\\n                }\\n            })\\n            valueAccessor().subscribe(function(value) {\\n                var str = JSON.stringify(value);\\n                if ((str == \\\"0\\\") && ([\\\"-0\\\", \\\"-0.\\\"].indexOf(stringified()) >= 0))\\n                     return;\\n                 if ([\\\"null\\\", \\\"\\\"].indexOf(str) >= 0)\\n                     return;\\n                stringified(str);\\n            })\\n            ko.applyBindingsToNode(element, { value: stringified, valueUpdate: allBindings.get('valueUpdate')}, context);\\n        }\\n    };\\n    var json_data = JSON.parse(\\\"{\\\\\\\"options_js\\\\\\\":[{\\\\\\\"key\\\\\\\":\\\\\\\"Group by\\\\\\\",\\\\\\\"val\\\\\\\":0,\\\\\\\"id\\\\\\\":\\\\\\\"ideJp9R3OK\\\\\\\"},{\\\\\\\"key\\\\\\\":\\\\\\\"scenario\\\\\\\",\\\\\\\"val\\\\\\\":1,\\\\\\\"id\\\\\\\":\\\\\\\"idWWvlh3KP\\\\\\\"},{\\\\\\\"key\\\\\\\":\\\\\\\"policy\\\\\\\",\\\\\\\"val\\\\\\\":2,\\\\\\\"id\\\\\\\":\\\\\\\"idWdNuc2bJ\\\\\\\"},{\\\\\\\"key\\\\\\\":\\\\\\\"updater\\\\\\\",\\\\\\\"val\\\\\\\":3,\\\\\\\"id\\\\\\\":\\\\\\\"idOEEo4YBZ\\\\\\\"},{\\\\\\\"key\\\\\\\":\\\\\\\"n_episodes\\\\\\\",\\\\\\\"val\\\\\\\":4,\\\\\\\"id\\\\\\\":\\\\\\\"idfV7zIUA3\\\\\\\"},{\\\\\\\"key\\\\\\\":\\\\\\\"reward_mean\\\\\\\",\\\\\\\"val\\\\\\\":5,\\\\\\\"id\\\\\\\":\\\\\\\"idaySNTGJ2\\\\\\\"},{\\\\\\\"key\\\\\\\":\\\\\\\"reward_std\\\\\\\",\\\\\\\"val\\\\\\\":6,\\\\\\\"id\\\\\\\":\\\\\\\"iddDAAiHF4\\\\\\\"},{\\\\\\\"key\\\\\\\":\\\\\\\"steps_mean\\\\\\\",\\\\\\\"val\\\\\\\":7,\\\\\\\"id\\\\\\\":\\\\\\\"idUYNN4XkN\\\\\\\"},{\\\\\\\"key\\\\\\\":\\\\\\\"steps_std\\\\\\\",\\\\\\\"val\\\\\\\":8,\\\\\\\"id\\\\\\\":\\\\\\\"idVxzbwNJ1\\\\\\\"},{\\\\\\\"key\\\\\\\":\\\\\\\"violations_mean\\\\\\\",\\\\\\\"val\\\\\\\":9,\\\\\\\"id\\\\\\\":\\\\\\\"idExDbVayj\\\\\\\"},{\\\\\\\"key\\\\\\\":\\\\\\\"violations_std\\\\\\\",\\\\\\\"val\\\\\\\":10,\\\\\\\"id\\\\\\\":\\\\\\\"idCvBT73BU\\\\\\\"},{\\\\\\\"key\\\\\\\":\\\\\\\"time\\\\\\\",\\\\\\\"val\\\\\\\":11,\\\\\\\"id\\\\\\\":\\\\\\\"idFEWCMf96\\\\\\\"}],\\\\\\\"index\\\\\\\":[]}\\\");\\n    var self = this;\\n    function AppViewModel() {\\n        for (var key in json_data) {\\n            var el = json_data[key];\\n            this[key] = Array.isArray(el) ? ko.observableArray(el) : ko.observable(el);\\n        }\\n        [this[\\\"disablePlaceholder\\\"]=function(option, item) {\\n    ko.applyBindingsToNode(option, {disable: item.val == 0}, item);\\n}\\n]\\n        \\n        [this[\\\"options_js\\\"].subscribe((function (val){!(this.valueFromJulia[\\\"options_js\\\"]) ? (_webIOScope.setObservableValue({\\\"name\\\":\\\"options_js\\\",\\\"scope\\\":\\\"knockout-component-e4c9802f-2ed7-4fc7-a2a7-f3eb81d94ba6\\\",\\\"id\\\":\\\"ob_130\\\",\\\"type\\\":\\\"observable\\\"},val)) : undefined; return this.valueFromJulia[\\\"options_js\\\"]=false}),self),this[\\\"index\\\"].subscribe((function (val){!(this.valueFromJulia[\\\"index\\\"]) ? (_webIOScope.setObservableValue({\\\"name\\\":\\\"index\\\",\\\"scope\\\":\\\"knockout-component-e4c9802f-2ed7-4fc7-a2a7-f3eb81d94ba6\\\",\\\"id\\\":\\\"ob_129\\\",\\\"type\\\":\\\"observable\\\"},val)) : undefined; return this.valueFromJulia[\\\"index\\\"]=false}),self)]\\n        \\n    }\\n    self.model = new AppViewModel();\\n    self.valueFromJulia = {};\\n    for (var key in json_data) {\\n        self.valueFromJulia[key] = false;\\n    }\\n    ko.applyBindings(self.model, self.dom);\\n}\\n\")]),\"options_js\"=>Any[JSString(\"(function (val){return (val!=this.model[\\\"options_js\\\"]()) ? (this.valueFromJulia[\\\"options_js\\\"]=true, this.model[\\\"options_js\\\"](val)) : undefined})\")],\"index\"=>Any[JSString(\"(function (val){return (val!=this.model[\\\"index\\\"]()) ? (this.valueFromJulia[\\\"index\\\"]=true, this.model[\\\"index\\\"](val)) : undefined})\")]), ConnectionPool(Channel{Any}(sz_max:9223372036854775807,sz_curr:0), Set(AbstractConnection[]), Channel{AbstractConnection}(sz_max:32,sz_curr:0))), ##52#53{#dom#13{##dom#11#12{Dict{Any,Any},DOM}},typeof(scope)}(#dom#13{##dom#11#12{Dict{Any,Any},DOM}}(##dom#11#12{Dict{Any,Any},DOM}(Dict{Any,Any}(:className=>\"field\"), DOM(:html, :div))), scope)),:by_toggle=>Widget{:togglecontent,Bool}(OrderedDict{Symbol,Any}(:changes=>Observable{Int64} with 1 listeners. Value:\n",
       "0,:value=>Observable{Bool} with 1 listeners. Value:\n",
       "false), Observable{Bool} with 1 listeners. Value:\n",
       "false, Scope(\"knockout-component-ed46e655-7b24-4c76-9faa-95d22c99e84c\", Node{DOM}(DOM(:html, :div), Any[Node{DOM}(DOM(:html, :div), Any[Node{DOM}(DOM(:html, :input), Any[], Dict{Symbol,Any}(:attributes=>Dict{Any,Any}(:type=>\"checkbox\",Symbol(\"data-bind\")=>\"checked: value, valueUpdate: 'change', event: {change : function () {this.changes(this.changes()+1)}}\"),:id=>\"##388\",:className=>\"switch \",:style=>Dict{Any,Any}()), 0), Node{DOM}(DOM(:html, :label), Any[\"Split data\"], Dict{Symbol,Any}(:attributes=>Dict(\"className\"=>\"\",\"for\"=>\"##388\")), 1)], Dict{Symbol,Any}(:className=>\"field\"), 3), Node{DOM}(DOM(:html, :div), Any[Widget{:dropdown,Any}(OrderedDict{Symbol,Any}(:options=>Observable{Any} with 6 listeners. Value:\n",
       "Symbol[:scenario, :policy, :updater, :n_episodes, :reward_mean, :reward_std, :steps_mean, :steps_std, :violations_mean, :violations_std, :time],:index=>Observable{Any} with 2 listeners. Value:\n",
       "Int64[]), Observable{Any} with 1 listeners. Value:\n",
       "Symbol[], Scope(\"knockout-component-e4c9802f-2ed7-4fc7-a2a7-f3eb81d94ba6\", Node{DOM}(DOM(:html, :div), Any[Node{DOM}(DOM(:html, :select), Any[], Dict{Symbol,Any}(:attributes=>Dict{Union{String, Symbol},Any}(:multiple=>true,Symbol(\"data-bind\")=>\"options : options_js, selectedOptions : index, optionsText: 'key', optionsValue: 'val', valueAllowUnset: true, optionsAfterRender: disablePlaceholder\")), 0)], Dict{Symbol,Any}(:className=>\"select is-multiple \"), 1), Dict{String,Tuple{Observables.AbstractObservable,Union{Nothing, Bool}}}(\"options_js\"=>(Observable{Any} with 1 listeners. Value:\n",
       "OrderedDict[OrderedDict{String,Any}(\"key\"=>\"Group by\",\"val\"=>0,\"id\"=>\"ideJp9R3OK\"), OrderedDict{String,Any}(\"key\"=>\"scenario\",\"val\"=>1,\"id\"=>\"idWWvlh3KP\"), OrderedDict{String,Any}(\"key\"=>\"policy\",\"val\"=>2,\"id\"=>\"idWdNuc2bJ\"), OrderedDict{String,Any}(\"key\"=>\"updater\",\"val\"=>3,\"id\"=>\"idOEEo4YBZ\"), OrderedDict{String,Any}(\"key\"=>\"n_episodes\",\"val\"=>4,\"id\"=>\"idfV7zIUA3\"), OrderedDict{String,Any}(\"key\"=>\"reward_mean\",\"val\"=>5,\"id\"=>\"idaySNTGJ2\"), OrderedDict{String,Any}(\"key\"=>\"reward_std\",\"val\"=>6,\"id\"=>\"iddDAAiHF4\"), OrderedDict{String,Any}(\"key\"=>\"steps_mean\",\"val\"=>7,\"id\"=>\"idUYNN4XkN\"), OrderedDict{String,Any}(\"key\"=>\"steps_std\",\"val\"=>8,\"id\"=>\"idVxzbwNJ1\"), OrderedDict{String,Any}(\"key\"=>\"violations_mean\",\"val\"=>9,\"id\"=>\"idExDbVayj\"), OrderedDict{String,Any}(\"key\"=>\"violations_std\",\"val\"=>10,\"id\"=>\"idCvBT73BU\"), OrderedDict{String,Any}(\"key\"=>\"time\",\"val\"=>11,\"id\"=>\"idFEWCMf96\")], nothing),\"index\"=>(Observable{Any} with 2 listeners. Value:\n",
       "Int64[], nothing)), Set(String[]), nothing, Any[\"knockout\"=>\"C:\\\\Users\\\\Maxime\\\\.julia\\\\packages\\\\Knockout\\\\JIqpG\\\\src\\\\..\\\\assets\\\\knockout.js\", \"knockout_punches\"=>\"C:\\\\Users\\\\Maxime\\\\.julia\\\\packages\\\\Knockout\\\\JIqpG\\\\src\\\\..\\\\assets\\\\knockout_punches.js\", \"C:\\\\Users\\\\Maxime\\\\.julia\\\\packages\\\\InteractBase\\\\Q4IkI\\\\src\\\\..\\\\assets\\\\all.js\", \"C:\\\\Users\\\\Maxime\\\\.julia\\\\packages\\\\InteractBase\\\\Q4IkI\\\\src\\\\..\\\\assets\\\\style.css\", \"C:\\\\Users\\\\Maxime\\\\.julia\\\\packages\\\\InteractBulma\\\\Ohu5Y\\\\src\\\\..\\\\assets\\\\main.css\"], Dict{Any,Any}(\"_promises\"=>Dict{Any,Any}(\"importsLoaded\"=>Any[JSString(\"function (ko, koPunches) {\\n    ko.punches.enableAll();\\n    ko.bindingHandlers.numericValue = {\\n        init : function(element, valueAccessor, allBindings, data, context) {\\n            var stringified = ko.observable(ko.unwrap(valueAccessor()));\\n            stringified.subscribe(function(value) {\\n                var val = parseFloat(value);\\n                if (!isNaN(val)) {\\n                    valueAccessor()(val);\\n                }\\n            })\\n            valueAccessor().subscribe(function(value) {\\n                var str = JSON.stringify(value);\\n                if ((str == \\\"0\\\") && ([\\\"-0\\\", \\\"-0.\\\"].indexOf(stringified()) >= 0))\\n                     return;\\n                 if ([\\\"null\\\", \\\"\\\"].indexOf(str) >= 0)\\n                     return;\\n                stringified(str);\\n            })\\n            ko.applyBindingsToNode(element, { value: stringified, valueUpdate: allBindings.get('valueUpdate')}, context);\\n        }\\n    };\\n    var json_data = JSON.parse(\\\"{\\\\\\\"options_js\\\\\\\":[{\\\\\\\"key\\\\\\\":\\\\\\\"Group by\\\\\\\",\\\\\\\"val\\\\\\\":0,\\\\\\\"id\\\\\\\":\\\\\\\"ideJp9R3OK\\\\\\\"},{\\\\\\\"key\\\\\\\":\\\\\\\"scenario\\\\\\\",\\\\\\\"val\\\\\\\":1,\\\\\\\"id\\\\\\\":\\\\\\\"idWWvlh3KP\\\\\\\"},{\\\\\\\"key\\\\\\\":\\\\\\\"policy\\\\\\\",\\\\\\\"val\\\\\\\":2,\\\\\\\"id\\\\\\\":\\\\\\\"idWdNuc2bJ\\\\\\\"},{\\\\\\\"key\\\\\\\":\\\\\\\"updater\\\\\\\",\\\\\\\"val\\\\\\\":3,\\\\\\\"id\\\\\\\":\\\\\\\"idOEEo4YBZ\\\\\\\"},{\\\\\\\"key\\\\\\\":\\\\\\\"n_episodes\\\\\\\",\\\\\\\"val\\\\\\\":4,\\\\\\\"id\\\\\\\":\\\\\\\"idfV7zIUA3\\\\\\\"},{\\\\\\\"key\\\\\\\":\\\\\\\"reward_mean\\\\\\\",\\\\\\\"val\\\\\\\":5,\\\\\\\"id\\\\\\\":\\\\\\\"idaySNTGJ2\\\\\\\"},{\\\\\\\"key\\\\\\\":\\\\\\\"reward_std\\\\\\\",\\\\\\\"val\\\\\\\":6,\\\\\\\"id\\\\\\\":\\\\\\\"iddDAAiHF4\\\\\\\"},{\\\\\\\"key\\\\\\\":\\\\\\\"steps_mean\\\\\\\",\\\\\\\"val\\\\\\\":7,\\\\\\\"id\\\\\\\":\\\\\\\"idUYNN4XkN\\\\\\\"},{\\\\\\\"key\\\\\\\":\\\\\\\"steps_std\\\\\\\",\\\\\\\"val\\\\\\\":8,\\\\\\\"id\\\\\\\":\\\\\\\"idVxzbwNJ1\\\\\\\"},{\\\\\\\"key\\\\\\\":\\\\\\\"violations_mean\\\\\\\",\\\\\\\"val\\\\\\\":9,\\\\\\\"id\\\\\\\":\\\\\\\"idExDbVayj\\\\\\\"},{\\\\\\\"key\\\\\\\":\\\\\\\"violations_std\\\\\\\",\\\\\\\"val\\\\\\\":10,\\\\\\\"id\\\\\\\":\\\\\\\"idCvBT73BU\\\\\\\"},{\\\\\\\"key\\\\\\\":\\\\\\\"time\\\\\\\",\\\\\\\"val\\\\\\\":11,\\\\\\\"id\\\\\\\":\\\\\\\"idFEWCMf96\\\\\\\"}],\\\\\\\"index\\\\\\\":[]}\\\");\\n    var self = this;\\n    function AppViewModel() {\\n        for (var key in json_data) {\\n            var el = json_data[key];\\n            this[key] = Array.isArray(el) ? ko.observableArray(el) : ko.observable(el);\\n        }\\n        [this[\\\"disablePlaceholder\\\"]=function(option, item) {\\n    ko.applyBindingsToNode(option, {disable: item.val == 0}, item);\\n}\\n]\\n        \\n        [this[\\\"options_js\\\"].subscribe((function (val){!(this.valueFromJulia[\\\"options_js\\\"]) ? (_webIOScope.setObservableValue({\\\"name\\\":\\\"options_js\\\",\\\"scope\\\":\\\"knockout-component-e4c9802f-2ed7-4fc7-a2a7-f3eb81d94ba6\\\",\\\"id\\\":\\\"ob_130\\\",\\\"type\\\":\\\"observable\\\"},val)) : undefined; return this.valueFromJulia[\\\"options_js\\\"]=false}),self),this[\\\"index\\\"].subscribe((function (val){!(this.valueFromJulia[\\\"index\\\"]) ? (_webIOScope.setObservableValue({\\\"name\\\":\\\"index\\\",\\\"scope\\\":\\\"knockout-component-e4c9802f-2ed7-4fc7-a2a7-f3eb81d94ba6\\\",\\\"id\\\":\\\"ob_129\\\",\\\"type\\\":\\\"observable\\\"},val)) : undefined; return this.valueFromJulia[\\\"index\\\"]=false}),self)]\\n        \\n    }\\n    self.model = new AppViewModel();\\n    self.valueFromJulia = {};\\n    for (var key in json_data) {\\n        self.valueFromJulia[key] = false;\\n    }\\n    ko.applyBindings(self.model, self.dom);\\n}\\n\")]),\"options_js\"=>Any[JSString(\"(function (val){return (val!=this.model[\\\"options_js\\\"]()) ? (this.valueFromJulia[\\\"options_js\\\"]=true, this.model[\\\"options_js\\\"](val)) : undefined})\")],\"index\"=>Any[JSString(\"(function (val){return (val!=this.model[\\\"index\\\"]()) ? (this.valueFromJulia[\\\"index\\\"]=true, this.model[\\\"index\\\"](val)) : undefined})\")]), ConnectionPool(Channel{Any}(sz_max:9223372036854775807,sz_curr:0), Set(AbstractConnection[]), Channel{AbstractConnection}(sz_max:32,sz_curr:0))), ##52#53{#dom#13{##dom#11#12{Dict{Any,Any},DOM}},typeof(scope)}(#dom#13{##dom#11#12{Dict{Any,Any},DOM}}(##dom#11#12{Dict{Any,Any},DOM}(Dict{Any,Any}(:className=>\"field\"), DOM(:html, :div))), scope))], Dict{Symbol,Any}(:attributes=>Dict(\"data-bind\"=>\"visible: value\")), 1)], Dict{Symbol,Any}(:style=>Dict(\"display\"=>\"flex\",\"flex-direction\"=>\"column\")), 6), Dict{String,Tuple{Observables.AbstractObservable,Union{Nothing, Bool}}}(\"changes\"=>(Observable{Int64} with 1 listeners. Value:\n",
       "0, nothing),\"value\"=>(Observable{Bool} with 1 listeners. Value:\n",
       "false, nothing)), Set(String[]), nothing, Any[\"knockout\"=>\"C:\\\\Users\\\\Maxime\\\\.julia\\\\packages\\\\Knockout\\\\JIqpG\\\\src\\\\..\\\\assets\\\\knockout.js\", \"knockout_punches\"=>\"C:\\\\Users\\\\Maxime\\\\.julia\\\\packages\\\\Knockout\\\\JIqpG\\\\src\\\\..\\\\assets\\\\knockout_punches.js\", \"C:\\\\Users\\\\Maxime\\\\.julia\\\\packages\\\\InteractBase\\\\Q4IkI\\\\src\\\\..\\\\assets\\\\all.js\", \"C:\\\\Users\\\\Maxime\\\\.julia\\\\packages\\\\InteractBase\\\\Q4IkI\\\\src\\\\..\\\\assets\\\\style.css\", \"C:\\\\Users\\\\Maxime\\\\.julia\\\\packages\\\\InteractBulma\\\\Ohu5Y\\\\src\\\\..\\\\assets\\\\main.css\"], Dict{Any,Any}(\"_promises\"=>Dict{Any,Any}(\"importsLoaded\"=>Any[JSString(\"function (ko, koPunches) {\\n    ko.punches.enableAll();\\n    ko.bindingHandlers.numericValue = {\\n        init : function(element, valueAccessor, allBindings, data, context) {\\n            var stringified = ko.observable(ko.unwrap(valueAccessor()));\\n            stringified.subscribe(function(value) {\\n                var val = parseFloat(value);\\n                if (!isNaN(val)) {\\n                    valueAccessor()(val);\\n                }\\n            })\\n            valueAccessor().subscribe(function(value) {\\n                var str = JSON.stringify(value);\\n                if ((str == \\\"0\\\") && ([\\\"-0\\\", \\\"-0.\\\"].indexOf(stringified()) >= 0))\\n                     return;\\n                 if ([\\\"null\\\", \\\"\\\"].indexOf(str) >= 0)\\n                     return;\\n                stringified(str);\\n            })\\n            ko.applyBindingsToNode(element, { value: stringified, valueUpdate: allBindings.get('valueUpdate')}, context);\\n        }\\n    };\\n    var json_data = JSON.parse(\\\"{\\\\\\\"changes\\\\\\\":0,\\\\\\\"value\\\\\\\":false}\\\");\\n    var self = this;\\n    function AppViewModel() {\\n        for (var key in json_data) {\\n            var el = json_data[key];\\n            this[key] = Array.isArray(el) ? ko.observableArray(el) : ko.observable(el);\\n        }\\n        \\n        \\n        [this[\\\"changes\\\"].subscribe((function (val){!(this.valueFromJulia[\\\"changes\\\"]) ? (_webIOScope.setObservableValue({\\\"name\\\":\\\"changes\\\",\\\"scope\\\":\\\"knockout-component-ed46e655-7b24-4c76-9faa-95d22c99e84c\\\",\\\"id\\\":\\\"ob_132\\\",\\\"type\\\":\\\"observable\\\"},val)) : undefined; return this.valueFromJulia[\\\"changes\\\"]=false}),self),this[\\\"value\\\"].subscribe((function (val){!(this.valueFromJulia[\\\"value\\\"]) ? (_webIOScope.setObservableValue({\\\"name\\\":\\\"value\\\",\\\"scope\\\":\\\"knockout-component-ed46e655-7b24-4c76-9faa-95d22c99e84c\\\",\\\"id\\\":\\\"ob_131\\\",\\\"type\\\":\\\"observable\\\"},val)) : undefined; return this.valueFromJulia[\\\"value\\\"]=false}),self)]\\n        \\n    }\\n    self.model = new AppViewModel();\\n    self.valueFromJulia = {};\\n    for (var key in json_data) {\\n        self.valueFromJulia[key] = false;\\n    }\\n    ko.applyBindings(self.model, self.dom);\\n}\\n\")]),\"changes\"=>Any[JSString(\"(function (val){return (val!=this.model[\\\"changes\\\"]()) ? (this.valueFromJulia[\\\"changes\\\"]=true, this.model[\\\"changes\\\"](val)) : undefined})\")],\"value\"=>Any[JSString(\"(function (val){return (val!=this.model[\\\"value\\\"]()) ? (this.valueFromJulia[\\\"value\\\"]=true, this.model[\\\"value\\\"](val)) : undefined})\")]), ConnectionPool(Channel{Any}(sz_max:9223372036854775807,sz_curr:0), Set(AbstractConnection[]), Channel{AbstractConnection}(sz_max:32,sz_curr:0))), ##52#53{#dom#13{##dom#11#12{Dict{Any,Any},DOM}},typeof(scope)}(#dom#13{##dom#11#12{Dict{Any,Any},DOM}}(##dom#11#12{Dict{Any,Any},DOM}(Dict{Any,Any}(:className=>\"field\"), DOM(:html, :div))), scope)),:plot_type=>Widget{:dropdown,Any}(OrderedDict{Symbol,Any}(:options=>Observable{Any} with 2 listeners. Value:\n",
       "OrderedDict{String,Any}(\"line\"=>plot,\"scatter\"=>scatter,\"bar\"=>groupedbar,\"boxplot\"=>boxplot,\"corrplot\"=>corrplot,\"cornerplot\"=>cornerplot,\"density\"=>density,\"histogram\"=>histogram,\"marginalhist\"=>marginalhist,\"violin\"=>violin…),:index=>Observable{Any} with 2 listeners. Value:\n",
       "1), Observable{Any} with 2 listeners. Value:\n",
       "plot, Scope(\"knockout-component-7ad5f04a-1d05-4477-be02-5d6327e843f5\", Node{DOM}(DOM(:html, :div), Any[Node{DOM}(DOM(:html, :select), Any[], Dict{Symbol,Any}(:attributes=>Dict{Union{String, Symbol},Any}(Symbol(\"data-bind\")=>\"options : options_js, value : index, optionsText: 'key', optionsValue: 'val', valueAllowUnset: true, optionsAfterRender: disablePlaceholder\")), 0)], Dict{Symbol,Any}(:className=>\"select \"), 1), Dict{String,Tuple{Observables.AbstractObservable,Union{Nothing, Bool}}}(\"options_js\"=>(Observable{Any} with 1 listeners. Value:\n",
       "OrderedDict[OrderedDict{String,Any}(\"key\"=>\"Plot type\",\"val\"=>0,\"id\"=>\"id2C0VumMa\"), OrderedDict{String,Any}(\"key\"=>\"line\",\"val\"=>1,\"id\"=>\"idFsSx287V\"), OrderedDict{String,Any}(\"key\"=>\"scatter\",\"val\"=>2,\"id\"=>\"iduzOD48bH\"), OrderedDict{String,Any}(\"key\"=>\"bar\",\"val\"=>3,\"id\"=>\"idsSG4YBJB\"), OrderedDict{String,Any}(\"key\"=>\"boxplot\",\"val\"=>4,\"id\"=>\"idI80dd3GR\"), OrderedDict{String,Any}(\"key\"=>\"corrplot\",\"val\"=>5,\"id\"=>\"idgnqFDeT4\"), OrderedDict{String,Any}(\"key\"=>\"cornerplot\",\"val\"=>6,\"id\"=>\"idw1GlZ7HH\"), OrderedDict{String,Any}(\"key\"=>\"density\",\"val\"=>7,\"id\"=>\"idCQC9bsiA\"), OrderedDict{String,Any}(\"key\"=>\"histogram\",\"val\"=>8,\"id\"=>\"idD5sMSS1Y\"), OrderedDict{String,Any}(\"key\"=>\"marginalhist\",\"val\"=>9,\"id\"=>\"idAMtVHS2W\"), OrderedDict{String,Any}(\"key\"=>\"violin\",\"val\"=>10,\"id\"=>\"idt377Fks6\")], nothing),\"index\"=>(Observable{Any} with 2 listeners. Value:\n",
       "1, nothing)), Set(String[]), nothing, Any[\"knockout\"=>\"C:\\\\Users\\\\Maxime\\\\.julia\\\\packages\\\\Knockout\\\\JIqpG\\\\src\\\\..\\\\assets\\\\knockout.js\", \"knockout_punches\"=>\"C:\\\\Users\\\\Maxime\\\\.julia\\\\packages\\\\Knockout\\\\JIqpG\\\\src\\\\..\\\\assets\\\\knockout_punches.js\", \"C:\\\\Users\\\\Maxime\\\\.julia\\\\packages\\\\InteractBase\\\\Q4IkI\\\\src\\\\..\\\\assets\\\\all.js\", \"C:\\\\Users\\\\Maxime\\\\.julia\\\\packages\\\\InteractBase\\\\Q4IkI\\\\src\\\\..\\\\assets\\\\style.css\", \"C:\\\\Users\\\\Maxime\\\\.julia\\\\packages\\\\InteractBulma\\\\Ohu5Y\\\\src\\\\..\\\\assets\\\\main.css\"], Dict{Any,Any}(\"_promises\"=>Dict{Any,Any}(\"importsLoaded\"=>Any[JSString(\"function (ko, koPunches) {\\n    ko.punches.enableAll();\\n    ko.bindingHandlers.numericValue = {\\n        init : function(element, valueAccessor, allBindings, data, context) {\\n            var stringified = ko.observable(ko.unwrap(valueAccessor()));\\n            stringified.subscribe(function(value) {\\n                var val = parseFloat(value);\\n                if (!isNaN(val)) {\\n                    valueAccessor()(val);\\n                }\\n            })\\n            valueAccessor().subscribe(function(value) {\\n                var str = JSON.stringify(value);\\n                if ((str == \\\"0\\\") && ([\\\"-0\\\", \\\"-0.\\\"].indexOf(stringified()) >= 0))\\n                     return;\\n                 if ([\\\"null\\\", \\\"\\\"].indexOf(str) >= 0)\\n                     return;\\n                stringified(str);\\n            })\\n            ko.applyBindingsToNode(element, { value: stringified, valueUpdate: allBindings.get('valueUpdate')}, context);\\n        }\\n    };\\n    var json_data = JSON.parse(\\\"{\\\\\\\"options_js\\\\\\\":[{\\\\\\\"key\\\\\\\":\\\\\\\"Plot type\\\\\\\",\\\\\\\"val\\\\\\\":0,\\\\\\\"id\\\\\\\":\\\\\\\"id2C0VumMa\\\\\\\"},{\\\\\\\"key\\\\\\\":\\\\\\\"line\\\\\\\",\\\\\\\"val\\\\\\\":1,\\\\\\\"id\\\\\\\":\\\\\\\"idFsSx287V\\\\\\\"},{\\\\\\\"key\\\\\\\":\\\\\\\"scatter\\\\\\\",\\\\\\\"val\\\\\\\":2,\\\\\\\"id\\\\\\\":\\\\\\\"iduzOD48bH\\\\\\\"},{\\\\\\\"key\\\\\\\":\\\\\\\"bar\\\\\\\",\\\\\\\"val\\\\\\\":3,\\\\\\\"id\\\\\\\":\\\\\\\"idsSG4YBJB\\\\\\\"},{\\\\\\\"key\\\\\\\":\\\\\\\"boxplot\\\\\\\",\\\\\\\"val\\\\\\\":4,\\\\\\\"id\\\\\\\":\\\\\\\"idI80dd3GR\\\\\\\"},{\\\\\\\"key\\\\\\\":\\\\\\\"corrplot\\\\\\\",\\\\\\\"val\\\\\\\":5,\\\\\\\"id\\\\\\\":\\\\\\\"idgnqFDeT4\\\\\\\"},{\\\\\\\"key\\\\\\\":\\\\\\\"cornerplot\\\\\\\",\\\\\\\"val\\\\\\\":6,\\\\\\\"id\\\\\\\":\\\\\\\"idw1GlZ7HH\\\\\\\"},{\\\\\\\"key\\\\\\\":\\\\\\\"density\\\\\\\",\\\\\\\"val\\\\\\\":7,\\\\\\\"id\\\\\\\":\\\\\\\"idCQC9bsiA\\\\\\\"},{\\\\\\\"key\\\\\\\":\\\\\\\"histogram\\\\\\\",\\\\\\\"val\\\\\\\":8,\\\\\\\"id\\\\\\\":\\\\\\\"idD5sMSS1Y\\\\\\\"},{\\\\\\\"key\\\\\\\":\\\\\\\"marginalhist\\\\\\\",\\\\\\\"val\\\\\\\":9,\\\\\\\"id\\\\\\\":\\\\\\\"idAMtVHS2W\\\\\\\"},{\\\\\\\"key\\\\\\\":\\\\\\\"violin\\\\\\\",\\\\\\\"val\\\\\\\":10,\\\\\\\"id\\\\\\\":\\\\\\\"idt377Fks6\\\\\\\"}],\\\\\\\"index\\\\\\\":1}\\\");\\n    var self = this;\\n    function AppViewModel() {\\n        for (var key in json_data) {\\n            var el = json_data[key];\\n            this[key] = Array.isArray(el) ? ko.observableArray(el) : ko.observable(el);\\n        }\\n        [this[\\\"disablePlaceholder\\\"]=function(option, item) {\\n    ko.applyBindingsToNode(option, {disable: item.val == 0}, item);\\n}\\n]\\n        \\n        [this[\\\"options_js\\\"].subscribe((function (val){!(this.valueFromJulia[\\\"options_js\\\"]) ? (_webIOScope.setObservableValue({\\\"name\\\":\\\"options_js\\\",\\\"scope\\\":\\\"knockout-component-7ad5f04a-1d05-4477-be02-5d6327e843f5\\\",\\\"id\\\":\\\"ob_121\\\",\\\"type\\\":\\\"observable\\\"},val)) : undefined; return this.valueFromJulia[\\\"options_js\\\"]=false}),self),this[\\\"index\\\"].subscribe((function (val){!(this.valueFromJulia[\\\"index\\\"]) ? (_webIOScope.setObservableValue({\\\"name\\\":\\\"index\\\",\\\"scope\\\":\\\"knockout-component-7ad5f04a-1d05-4477-be02-5d6327e843f5\\\",\\\"id\\\":\\\"ob_120\\\",\\\"type\\\":\\\"observable\\\"},val)) : undefined; return this.valueFromJulia[\\\"index\\\"]=false}),self)]\\n        \\n    }\\n    self.model = new AppViewModel();\\n    self.valueFromJulia = {};\\n    for (var key in json_data) {\\n        self.valueFromJulia[key] = false;\\n    }\\n    ko.applyBindings(self.model, self.dom);\\n}\\n\")]),\"options_js\"=>Any[JSString(\"(function (val){return (val!=this.model[\\\"options_js\\\"]()) ? (this.valueFromJulia[\\\"options_js\\\"]=true, this.model[\\\"options_js\\\"](val)) : undefined})\")],\"index\"=>Any[JSString(\"(function (val){return (val!=this.model[\\\"index\\\"]()) ? (this.valueFromJulia[\\\"index\\\"]=true, this.model[\\\"index\\\"](val)) : undefined})\")]), ConnectionPool(Channel{Any}(sz_max:9223372036854775807,sz_curr:0), Set(AbstractConnection[]), Channel{AbstractConnection}(sz_max:32,sz_curr:0))), ##52#53{#dom#13{##dom#11#12{Dict{Any,Any},DOM}},typeof(scope)}(#dom#13{##dom#11#12{Dict{Any,Any},DOM}}(##dom#11#12{Dict{Any,Any},DOM}(Dict{Any,Any}(:className=>\"field\"), DOM(:html, :div))), scope)),:plot_button=>Widget{:button,Int64}(OrderedDict{Symbol,Any}(), Observable{Int64} with 2 listeners. Value:\n",
       "0, Scope(\"knockout-component-cd0e12d3-49e4-4127-9098-a908b07f43d3\", Node{DOM}(DOM(:html, :button), Any[\"plot\"], Dict{Symbol,Any}(:attributes=>Dict{Any,Any}(\"data-bind\"=>\"click : function () {this.clicks(this.clicks()+1)}\"),:className=>\"button is-primary\",:style=>Dict{String,Any}()), 1), Dict{String,Tuple{Observables.AbstractObservable,Union{Nothing, Bool}}}(\"clicks\"=>(Observable{Int64} with 2 listeners. Value:\n",
       "0, nothing)), Set(String[]), nothing, Any[\"knockout\"=>\"C:\\\\Users\\\\Maxime\\\\.julia\\\\packages\\\\Knockout\\\\JIqpG\\\\src\\\\..\\\\assets\\\\knockout.js\", \"knockout_punches\"=>\"C:\\\\Users\\\\Maxime\\\\.julia\\\\packages\\\\Knockout\\\\JIqpG\\\\src\\\\..\\\\assets\\\\knockout_punches.js\", \"C:\\\\Users\\\\Maxime\\\\.julia\\\\packages\\\\InteractBase\\\\Q4IkI\\\\src\\\\..\\\\assets\\\\all.js\", \"C:\\\\Users\\\\Maxime\\\\.julia\\\\packages\\\\InteractBase\\\\Q4IkI\\\\src\\\\..\\\\assets\\\\style.css\", \"C:\\\\Users\\\\Maxime\\\\.julia\\\\packages\\\\InteractBulma\\\\Ohu5Y\\\\src\\\\..\\\\assets\\\\main.css\"], Dict{Any,Any}(\"_promises\"=>Dict{Any,Any}(\"importsLoaded\"=>Any[JSString(\"function (ko, koPunches) {\\n    ko.punches.enableAll();\\n    ko.bindingHandlers.numericValue = {\\n        init : function(element, valueAccessor, allBindings, data, context) {\\n            var stringified = ko.observable(ko.unwrap(valueAccessor()));\\n            stringified.subscribe(function(value) {\\n                var val = parseFloat(value);\\n                if (!isNaN(val)) {\\n                    valueAccessor()(val);\\n                }\\n            })\\n            valueAccessor().subscribe(function(value) {\\n                var str = JSON.stringify(value);\\n                if ((str == \\\"0\\\") && ([\\\"-0\\\", \\\"-0.\\\"].indexOf(stringified()) >= 0))\\n                     return;\\n                 if ([\\\"null\\\", \\\"\\\"].indexOf(str) >= 0)\\n                     return;\\n                stringified(str);\\n            })\\n            ko.applyBindingsToNode(element, { value: stringified, valueUpdate: allBindings.get('valueUpdate')}, context);\\n        }\\n    };\\n    var json_data = JSON.parse(\\\"{\\\\\\\"clicks\\\\\\\":0}\\\");\\n    var self = this;\\n    function AppViewModel() {\\n        for (var key in json_data) {\\n            var el = json_data[key];\\n            this[key] = Array.isArray(el) ? ko.observableArray(el) : ko.observable(el);\\n        }\\n        \\n        \\n        [this[\\\"clicks\\\"].subscribe((function (val){!(this.valueFromJulia[\\\"clicks\\\"]) ? (_webIOScope.setObservableValue({\\\"name\\\":\\\"clicks\\\",\\\"scope\\\":\\\"knockout-component-cd0e12d3-49e4-4127-9098-a908b07f43d3\\\",\\\"id\\\":\\\"ob_133\\\",\\\"type\\\":\\\"observable\\\"},val)) : undefined; return this.valueFromJulia[\\\"clicks\\\"]=false}),self)]\\n        \\n    }\\n    self.model = new AppViewModel();\\n    self.valueFromJulia = {};\\n    for (var key in json_data) {\\n        self.valueFromJulia[key] = false;\\n    }\\n    ko.applyBindings(self.model, self.dom);\\n}\\n\")]),\"clicks\"=>Any[JSString(\"(function (val){return (val!=this.model[\\\"clicks\\\"]()) ? (this.valueFromJulia[\\\"clicks\\\"]=true, this.model[\\\"clicks\\\"](val)) : undefined})\")]), ConnectionPool(Channel{Any}(sz_max:9223372036854775807,sz_curr:0), Set(AbstractConnection[]), Channel{AbstractConnection}(sz_max:32,sz_curr:0))), ##52#53{#dom#13{##dom#11#12{Dict{Any,Any},DOM}},typeof(scope)}(#dom#13{##dom#11#12{Dict{Any,Any},DOM}}(##dom#11#12{Dict{Any,Any},DOM}(Dict{Any,Any}(:className=>\"field\"), DOM(:html, :div))), scope)),:nbins=>Widget{:slider,Int64}(OrderedDict{Symbol,Any}(:changes=>Observable{Int64} with 1 listeners. Value:\n",
       "0,:value=>Observable{Int64} with 2 listeners. Value:\n",
       "30,:display=>Observable{Any} with 1 listeners. Value:\n",
       "\"none\"), Observable{Int64} with 2 listeners. Value:\n",
       "30, Scope(\"knockout-component-45d6a74d-084a-49b6-9034-8025b9f1d06a\", Node{DOM}(DOM(:html, :div), Any[Node{DOM}(DOM(:html, :div), Any[Node{DOM}(DOM(:html, :div), Any[Node{DOM}(DOM(:html, :label), Any[\"number of bins\"], Dict{Symbol,Any}(:className=>\"interact \",:style=>Dict{Any,Any}(:padding=>\"5px 10px 0px 10px\")), 1)], Dict{Symbol,Any}(:attributes=>Dict(\"style\"=>\"text-align:right;width:18%\")), 2), Node{DOM}(DOM(:html, :div), Any[Node{DOM}(DOM(:html, :input), Any[], Dict{Symbol,Any}(:max=>100,:min=>1,:attributes=>Dict{Any,Any}(:type=>\"range\",Symbol(\"data-bind\")=>\"numericValue: value, valueUpdate: 'input', event: {change : function () {this.changes(this.changes()+1)}}\",\"orient\"=>\"horizontal\"),:step=>1,:className=>\"slider slider is-fullwidth\",:style=>Dict{Any,Any}()), 0)], Dict{Symbol,Any}(:attributes=>Dict(\"style\"=>\"flex-grow:1; margin: 0 2%\")), 1), Node{DOM}(DOM(:html, :div), Any[Node{DOM}(DOM(:html, :p), Any[], Dict{Symbol,Any}(:attributes=>Dict(\"data-bind\"=>\"text: value\")), 0)], Dict{Symbol,Any}(:attributes=>Dict(\"style\"=>\"width:18%\")), 1)], Dict{Symbol,Any}(:attributes=>Dict(\"style\"=>\"display:flex; justify-content:center; align-items:center;\")), 7)], Dict{Symbol,Any}(:attributes=>Dict(\"data-bind\"=>\"style: {display: display}\")), 8), Dict{String,Tuple{Observables.AbstractObservable,Union{Nothing, Bool}}}(\"display\"=>(Observable{Any} with 1 listeners. Value:\n",
       "\"none\", nothing),\"changes\"=>(Observable{Int64} with 1 listeners. Value:\n",
       "0, nothing),\"value\"=>(Observable{Int64} with 2 listeners. Value:\n",
       "30, nothing)), Set(String[]), nothing, Any[\"knockout\"=>\"C:\\\\Users\\\\Maxime\\\\.julia\\\\packages\\\\Knockout\\\\JIqpG\\\\src\\\\..\\\\assets\\\\knockout.js\", \"knockout_punches\"=>\"C:\\\\Users\\\\Maxime\\\\.julia\\\\packages\\\\Knockout\\\\JIqpG\\\\src\\\\..\\\\assets\\\\knockout_punches.js\", \"C:\\\\Users\\\\Maxime\\\\.julia\\\\packages\\\\InteractBase\\\\Q4IkI\\\\src\\\\..\\\\assets\\\\all.js\", \"C:\\\\Users\\\\Maxime\\\\.julia\\\\packages\\\\InteractBase\\\\Q4IkI\\\\src\\\\..\\\\assets\\\\style.css\", \"C:\\\\Users\\\\Maxime\\\\.julia\\\\packages\\\\InteractBulma\\\\Ohu5Y\\\\src\\\\..\\\\assets\\\\main.css\"], Dict{Any,Any}(\"_promises\"=>Dict{Any,Any}(\"importsLoaded\"=>Any[JSString(\"function (ko, koPunches) {\\n    ko.punches.enableAll();\\n    ko.bindingHandlers.numericValue = {\\n        init : function(element, valueAccessor, allBindings, data, context) {\\n            var stringified = ko.observable(ko.unwrap(valueAccessor()));\\n            stringified.subscribe(function(value) {\\n                var val = parseFloat(value);\\n                if (!isNaN(val)) {\\n                    valueAccessor()(val);\\n                }\\n            })\\n            valueAccessor().subscribe(function(value) {\\n                var str = JSON.stringify(value);\\n                if ((str == \\\"0\\\") && ([\\\"-0\\\", \\\"-0.\\\"].indexOf(stringified()) >= 0))\\n                     return;\\n                 if ([\\\"null\\\", \\\"\\\"].indexOf(str) >= 0)\\n                     return;\\n                stringified(str);\\n            })\\n            ko.applyBindingsToNode(element, { value: stringified, valueUpdate: allBindings.get('valueUpdate')}, context);\\n        }\\n    };\\n    var json_data = JSON.parse(\\\"{\\\\\\\"display\\\\\\\":\\\\\\\"none\\\\\\\",\\\\\\\"changes\\\\\\\":0,\\\\\\\"value\\\\\\\":30}\\\");\\n    var self = this;\\n    function AppViewModel() {\\n        for (var key in json_data) {\\n            var el = json_data[key];\\n            this[key] = Array.isArray(el) ? ko.observableArray(el) : ko.observable(el);\\n        }\\n        \\n        \\n        [this[\\\"display\\\"].subscribe((function (val){!(this.valueFromJulia[\\\"display\\\"]) ? (_webIOScope.setObservableValue({\\\"name\\\":\\\"display\\\",\\\"scope\\\":\\\"knockout-component-45d6a74d-084a-49b6-9034-8025b9f1d06a\\\",\\\"id\\\":\\\"ob_122\\\",\\\"type\\\":\\\"observable\\\"},val)) : undefined; return this.valueFromJulia[\\\"display\\\"]=false}),self),this[\\\"changes\\\"].subscribe((function (val){!(this.valueFromJulia[\\\"changes\\\"]) ? (_webIOScope.setObservableValue({\\\"name\\\":\\\"changes\\\",\\\"scope\\\":\\\"knockout-component-45d6a74d-084a-49b6-9034-8025b9f1d06a\\\",\\\"id\\\":\\\"ob_124\\\",\\\"type\\\":\\\"observable\\\"},val)) : undefined; return this.valueFromJulia[\\\"changes\\\"]=false}),self),this[\\\"value\\\"].subscribe((function (val){!(this.valueFromJulia[\\\"value\\\"]) ? (_webIOScope.setObservableValue({\\\"name\\\":\\\"value\\\",\\\"scope\\\":\\\"knockout-component-45d6a74d-084a-49b6-9034-8025b9f1d06a\\\",\\\"id\\\":\\\"ob_123\\\",\\\"type\\\":\\\"observable\\\"},val)) : undefined; return this.valueFromJulia[\\\"value\\\"]=false}),self)]\\n        \\n    }\\n    self.model = new AppViewModel();\\n    self.valueFromJulia = {};\\n    for (var key in json_data) {\\n        self.valueFromJulia[key] = false;\\n    }\\n    ko.applyBindings(self.model, self.dom);\\n}\\n\")]),\"display\"=>Any[JSString(\"(function (val){return (val!=this.model[\\\"display\\\"]()) ? (this.valueFromJulia[\\\"display\\\"]=true, this.model[\\\"display\\\"](val)) : undefined})\")],\"changes\"=>Any[JSString(\"(function (val){return (val!=this.model[\\\"changes\\\"]()) ? (this.valueFromJulia[\\\"changes\\\"]=true, this.model[\\\"changes\\\"](val)) : undefined})\")],\"value\"=>Any[JSString(\"(function (val){return (val!=this.model[\\\"value\\\"]()) ? (this.valueFromJulia[\\\"value\\\"]=true, this.model[\\\"value\\\"](val)) : undefined})\")]), ConnectionPool(Channel{Any}(sz_max:9223372036854775807,sz_curr:0), Set(AbstractConnection[]), Channel{AbstractConnection}(sz_max:32,sz_curr:0))), ##52#53{#dom#13{##dom#11#12{Dict{Any,Any},DOM}},typeof(scope)}(#dom#13{##dom#11#12{Dict{Any,Any},DOM}}(##dom#11#12{Dict{Any,Any},DOM}(Dict{Any,Any}(:className=>\"field\"), DOM(:html, :div))), scope))), Observable{Any} with 0 listeners. Value:\n",
       "Plot{Plots.GRBackend() n=0}, nothing, getfield(StatPlots, Symbol(\"##37#45\"))())"
      ]
     },
     "execution_count": 9,
     "metadata": {
      "application/vnd.webio.node+json": {
       "kernelId": "f2388ef5-b347-4fa4-a01b-b083dfbb0c25"
      }
     },
     "output_type": "execute_result"
    }
   ],
   "source": [
    "dataviewer(df)"
   ]
  },
  {
   "cell_type": "code",
   "execution_count": 15,
   "metadata": {},
   "outputs": [
    {
     "name": "stderr",
     "output_type": "stream",
     "text": [
      "┌ Info: Precompiling RDatasets [ce6b1742-4840-55fa-b093-852dadbb1d8b]\n",
      "└ @ Base loading.jl:1186\n"
     ]
    },
    {
     "data": {
      "text/html": [
       "<table class=\"data-frame\"><thead><tr><th></th><th>SepalLength</th><th>SepalWidth</th><th>PetalLength</th><th>PetalWidth</th><th>Species</th></tr><tr><th></th><th>Float64</th><th>Float64</th><th>Float64</th><th>Float64</th><th>Categorical…</th></tr></thead><tbody><tr><th>1</th><td>5.1</td><td>3.5</td><td>1.4</td><td>0.2</td><td>setosa</td></tr><tr><th>2</th><td>4.9</td><td>3.0</td><td>1.4</td><td>0.2</td><td>setosa</td></tr><tr><th>3</th><td>4.7</td><td>3.2</td><td>1.3</td><td>0.2</td><td>setosa</td></tr><tr><th>4</th><td>4.6</td><td>3.1</td><td>1.5</td><td>0.2</td><td>setosa</td></tr><tr><th>5</th><td>5.0</td><td>3.6</td><td>1.4</td><td>0.2</td><td>setosa</td></tr><tr><th>6</th><td>5.4</td><td>3.9</td><td>1.7</td><td>0.4</td><td>setosa</td></tr><tr><th>7</th><td>4.6</td><td>3.4</td><td>1.4</td><td>0.3</td><td>setosa</td></tr><tr><th>8</th><td>5.0</td><td>3.4</td><td>1.5</td><td>0.2</td><td>setosa</td></tr><tr><th>9</th><td>4.4</td><td>2.9</td><td>1.4</td><td>0.2</td><td>setosa</td></tr><tr><th>10</th><td>4.9</td><td>3.1</td><td>1.5</td><td>0.1</td><td>setosa</td></tr><tr><th>11</th><td>5.4</td><td>3.7</td><td>1.5</td><td>0.2</td><td>setosa</td></tr><tr><th>12</th><td>4.8</td><td>3.4</td><td>1.6</td><td>0.2</td><td>setosa</td></tr><tr><th>13</th><td>4.8</td><td>3.0</td><td>1.4</td><td>0.1</td><td>setosa</td></tr><tr><th>14</th><td>4.3</td><td>3.0</td><td>1.1</td><td>0.1</td><td>setosa</td></tr><tr><th>15</th><td>5.8</td><td>4.0</td><td>1.2</td><td>0.2</td><td>setosa</td></tr><tr><th>16</th><td>5.7</td><td>4.4</td><td>1.5</td><td>0.4</td><td>setosa</td></tr><tr><th>17</th><td>5.4</td><td>3.9</td><td>1.3</td><td>0.4</td><td>setosa</td></tr><tr><th>18</th><td>5.1</td><td>3.5</td><td>1.4</td><td>0.3</td><td>setosa</td></tr><tr><th>19</th><td>5.7</td><td>3.8</td><td>1.7</td><td>0.3</td><td>setosa</td></tr><tr><th>20</th><td>5.1</td><td>3.8</td><td>1.5</td><td>0.3</td><td>setosa</td></tr><tr><th>21</th><td>5.4</td><td>3.4</td><td>1.7</td><td>0.2</td><td>setosa</td></tr><tr><th>22</th><td>5.1</td><td>3.7</td><td>1.5</td><td>0.4</td><td>setosa</td></tr><tr><th>23</th><td>4.6</td><td>3.6</td><td>1.0</td><td>0.2</td><td>setosa</td></tr><tr><th>24</th><td>5.1</td><td>3.3</td><td>1.7</td><td>0.5</td><td>setosa</td></tr><tr><th>25</th><td>4.8</td><td>3.4</td><td>1.9</td><td>0.2</td><td>setosa</td></tr><tr><th>26</th><td>5.0</td><td>3.0</td><td>1.6</td><td>0.2</td><td>setosa</td></tr><tr><th>27</th><td>5.0</td><td>3.4</td><td>1.6</td><td>0.4</td><td>setosa</td></tr><tr><th>28</th><td>5.2</td><td>3.5</td><td>1.5</td><td>0.2</td><td>setosa</td></tr><tr><th>29</th><td>5.2</td><td>3.4</td><td>1.4</td><td>0.2</td><td>setosa</td></tr><tr><th>30</th><td>4.7</td><td>3.2</td><td>1.6</td><td>0.2</td><td>setosa</td></tr><tr><th>&vellip;</th><td>&vellip;</td><td>&vellip;</td><td>&vellip;</td><td>&vellip;</td><td>&vellip;</td></tr></tbody></table>"
      ],
      "text/latex": [
       "\\begin{tabular}{r|ccccc}\n",
       "\t& SepalLength & SepalWidth & PetalLength & PetalWidth & Species\\\\\n",
       "\t\\hline\n",
       "\t1 & 5.1 & 3.5 & 1.4 & 0.2 & setosa \\\\\n",
       "\t2 & 4.9 & 3.0 & 1.4 & 0.2 & setosa \\\\\n",
       "\t3 & 4.7 & 3.2 & 1.3 & 0.2 & setosa \\\\\n",
       "\t4 & 4.6 & 3.1 & 1.5 & 0.2 & setosa \\\\\n",
       "\t5 & 5.0 & 3.6 & 1.4 & 0.2 & setosa \\\\\n",
       "\t6 & 5.4 & 3.9 & 1.7 & 0.4 & setosa \\\\\n",
       "\t7 & 4.6 & 3.4 & 1.4 & 0.3 & setosa \\\\\n",
       "\t8 & 5.0 & 3.4 & 1.5 & 0.2 & setosa \\\\\n",
       "\t9 & 4.4 & 2.9 & 1.4 & 0.2 & setosa \\\\\n",
       "\t10 & 4.9 & 3.1 & 1.5 & 0.1 & setosa \\\\\n",
       "\t11 & 5.4 & 3.7 & 1.5 & 0.2 & setosa \\\\\n",
       "\t12 & 4.8 & 3.4 & 1.6 & 0.2 & setosa \\\\\n",
       "\t13 & 4.8 & 3.0 & 1.4 & 0.1 & setosa \\\\\n",
       "\t14 & 4.3 & 3.0 & 1.1 & 0.1 & setosa \\\\\n",
       "\t15 & 5.8 & 4.0 & 1.2 & 0.2 & setosa \\\\\n",
       "\t16 & 5.7 & 4.4 & 1.5 & 0.4 & setosa \\\\\n",
       "\t17 & 5.4 & 3.9 & 1.3 & 0.4 & setosa \\\\\n",
       "\t18 & 5.1 & 3.5 & 1.4 & 0.3 & setosa \\\\\n",
       "\t19 & 5.7 & 3.8 & 1.7 & 0.3 & setosa \\\\\n",
       "\t20 & 5.1 & 3.8 & 1.5 & 0.3 & setosa \\\\\n",
       "\t21 & 5.4 & 3.4 & 1.7 & 0.2 & setosa \\\\\n",
       "\t22 & 5.1 & 3.7 & 1.5 & 0.4 & setosa \\\\\n",
       "\t23 & 4.6 & 3.6 & 1.0 & 0.2 & setosa \\\\\n",
       "\t24 & 5.1 & 3.3 & 1.7 & 0.5 & setosa \\\\\n",
       "\t25 & 4.8 & 3.4 & 1.9 & 0.2 & setosa \\\\\n",
       "\t26 & 5.0 & 3.0 & 1.6 & 0.2 & setosa \\\\\n",
       "\t27 & 5.0 & 3.4 & 1.6 & 0.4 & setosa \\\\\n",
       "\t28 & 5.2 & 3.5 & 1.5 & 0.2 & setosa \\\\\n",
       "\t29 & 5.2 & 3.4 & 1.4 & 0.2 & setosa \\\\\n",
       "\t30 & 4.7 & 3.2 & 1.6 & 0.2 & setosa \\\\\n",
       "\t31 & 4.8 & 3.1 & 1.6 & 0.2 & setosa \\\\\n",
       "\t32 & 5.4 & 3.4 & 1.5 & 0.4 & setosa \\\\\n",
       "\t33 & 5.2 & 4.1 & 1.5 & 0.1 & setosa \\\\\n",
       "\t34 & 5.5 & 4.2 & 1.4 & 0.2 & setosa \\\\\n",
       "\t35 & 4.9 & 3.1 & 1.5 & 0.2 & setosa \\\\\n",
       "\t36 & 5.0 & 3.2 & 1.2 & 0.2 & setosa \\\\\n",
       "\t37 & 5.5 & 3.5 & 1.3 & 0.2 & setosa \\\\\n",
       "\t38 & 4.9 & 3.6 & 1.4 & 0.1 & setosa \\\\\n",
       "\t39 & 4.4 & 3.0 & 1.3 & 0.2 & setosa \\\\\n",
       "\t40 & 5.1 & 3.4 & 1.5 & 0.2 & setosa \\\\\n",
       "\t41 & 5.0 & 3.5 & 1.3 & 0.3 & setosa \\\\\n",
       "\t42 & 4.5 & 2.3 & 1.3 & 0.3 & setosa \\\\\n",
       "\t43 & 4.4 & 3.2 & 1.3 & 0.2 & setosa \\\\\n",
       "\t44 & 5.0 & 3.5 & 1.6 & 0.6 & setosa \\\\\n",
       "\t45 & 5.1 & 3.8 & 1.9 & 0.4 & setosa \\\\\n",
       "\t46 & 4.8 & 3.0 & 1.4 & 0.3 & setosa \\\\\n",
       "\t47 & 5.1 & 3.8 & 1.6 & 0.2 & setosa \\\\\n",
       "\t48 & 4.6 & 3.2 & 1.4 & 0.2 & setosa \\\\\n",
       "\t49 & 5.3 & 3.7 & 1.5 & 0.2 & setosa \\\\\n",
       "\t50 & 5.0 & 3.3 & 1.4 & 0.2 & setosa \\\\\n",
       "\t51 & 7.0 & 3.2 & 4.7 & 1.4 & versicolor \\\\\n",
       "\t52 & 6.4 & 3.2 & 4.5 & 1.5 & versicolor \\\\\n",
       "\t53 & 6.9 & 3.1 & 4.9 & 1.5 & versicolor \\\\\n",
       "\t54 & 5.5 & 2.3 & 4.0 & 1.3 & versicolor \\\\\n",
       "\t55 & 6.5 & 2.8 & 4.6 & 1.5 & versicolor \\\\\n",
       "\t56 & 5.7 & 2.8 & 4.5 & 1.3 & versicolor \\\\\n",
       "\t57 & 6.3 & 3.3 & 4.7 & 1.6 & versicolor \\\\\n",
       "\t58 & 4.9 & 2.4 & 3.3 & 1.0 & versicolor \\\\\n",
       "\t59 & 6.6 & 2.9 & 4.6 & 1.3 & versicolor \\\\\n",
       "\t60 & 5.2 & 2.7 & 3.9 & 1.4 & versicolor \\\\\n",
       "\t61 & 5.0 & 2.0 & 3.5 & 1.0 & versicolor \\\\\n",
       "\t62 & 5.9 & 3.0 & 4.2 & 1.5 & versicolor \\\\\n",
       "\t63 & 6.0 & 2.2 & 4.0 & 1.0 & versicolor \\\\\n",
       "\t64 & 6.1 & 2.9 & 4.7 & 1.4 & versicolor \\\\\n",
       "\t65 & 5.6 & 2.9 & 3.6 & 1.3 & versicolor \\\\\n",
       "\t66 & 6.7 & 3.1 & 4.4 & 1.4 & versicolor \\\\\n",
       "\t67 & 5.6 & 3.0 & 4.5 & 1.5 & versicolor \\\\\n",
       "\t68 & 5.8 & 2.7 & 4.1 & 1.0 & versicolor \\\\\n",
       "\t69 & 6.2 & 2.2 & 4.5 & 1.5 & versicolor \\\\\n",
       "\t70 & 5.6 & 2.5 & 3.9 & 1.1 & versicolor \\\\\n",
       "\t71 & 5.9 & 3.2 & 4.8 & 1.8 & versicolor \\\\\n",
       "\t72 & 6.1 & 2.8 & 4.0 & 1.3 & versicolor \\\\\n",
       "\t73 & 6.3 & 2.5 & 4.9 & 1.5 & versicolor \\\\\n",
       "\t74 & 6.1 & 2.8 & 4.7 & 1.2 & versicolor \\\\\n",
       "\t75 & 6.4 & 2.9 & 4.3 & 1.3 & versicolor \\\\\n",
       "\t76 & 6.6 & 3.0 & 4.4 & 1.4 & versicolor \\\\\n",
       "\t77 & 6.8 & 2.8 & 4.8 & 1.4 & versicolor \\\\\n",
       "\t78 & 6.7 & 3.0 & 5.0 & 1.7 & versicolor \\\\\n",
       "\t79 & 6.0 & 2.9 & 4.5 & 1.5 & versicolor \\\\\n",
       "\t80 & 5.7 & 2.6 & 3.5 & 1.0 & versicolor \\\\\n",
       "\t81 & 5.5 & 2.4 & 3.8 & 1.1 & versicolor \\\\\n",
       "\t82 & 5.5 & 2.4 & 3.7 & 1.0 & versicolor \\\\\n",
       "\t83 & 5.8 & 2.7 & 3.9 & 1.2 & versicolor \\\\\n",
       "\t84 & 6.0 & 2.7 & 5.1 & 1.6 & versicolor \\\\\n",
       "\t85 & 5.4 & 3.0 & 4.5 & 1.5 & versicolor \\\\\n",
       "\t86 & 6.0 & 3.4 & 4.5 & 1.6 & versicolor \\\\\n",
       "\t87 & 6.7 & 3.1 & 4.7 & 1.5 & versicolor \\\\\n",
       "\t88 & 6.3 & 2.3 & 4.4 & 1.3 & versicolor \\\\\n",
       "\t89 & 5.6 & 3.0 & 4.1 & 1.3 & versicolor \\\\\n",
       "\t90 & 5.5 & 2.5 & 4.0 & 1.3 & versicolor \\\\\n",
       "\t91 & 5.5 & 2.6 & 4.4 & 1.2 & versicolor \\\\\n",
       "\t92 & 6.1 & 3.0 & 4.6 & 1.4 & versicolor \\\\\n",
       "\t93 & 5.8 & 2.6 & 4.0 & 1.2 & versicolor \\\\\n",
       "\t94 & 5.0 & 2.3 & 3.3 & 1.0 & versicolor \\\\\n",
       "\t95 & 5.6 & 2.7 & 4.2 & 1.3 & versicolor \\\\\n",
       "\t96 & 5.7 & 3.0 & 4.2 & 1.2 & versicolor \\\\\n",
       "\t97 & 5.7 & 2.9 & 4.2 & 1.3 & versicolor \\\\\n",
       "\t98 & 6.2 & 2.9 & 4.3 & 1.3 & versicolor \\\\\n",
       "\t99 & 5.1 & 2.5 & 3.0 & 1.1 & versicolor \\\\\n",
       "\t100 & 5.7 & 2.8 & 4.1 & 1.3 & versicolor \\\\\n",
       "\t101 & 6.3 & 3.3 & 6.0 & 2.5 & virginica \\\\\n",
       "\t102 & 5.8 & 2.7 & 5.1 & 1.9 & virginica \\\\\n",
       "\t103 & 7.1 & 3.0 & 5.9 & 2.1 & virginica \\\\\n",
       "\t104 & 6.3 & 2.9 & 5.6 & 1.8 & virginica \\\\\n",
       "\t105 & 6.5 & 3.0 & 5.8 & 2.2 & virginica \\\\\n",
       "\t106 & 7.6 & 3.0 & 6.6 & 2.1 & virginica \\\\\n",
       "\t107 & 4.9 & 2.5 & 4.5 & 1.7 & virginica \\\\\n",
       "\t108 & 7.3 & 2.9 & 6.3 & 1.8 & virginica \\\\\n",
       "\t109 & 6.7 & 2.5 & 5.8 & 1.8 & virginica \\\\\n",
       "\t110 & 7.2 & 3.6 & 6.1 & 2.5 & virginica \\\\\n",
       "\t111 & 6.5 & 3.2 & 5.1 & 2.0 & virginica \\\\\n",
       "\t112 & 6.4 & 2.7 & 5.3 & 1.9 & virginica \\\\\n",
       "\t113 & 6.8 & 3.0 & 5.5 & 2.1 & virginica \\\\\n",
       "\t114 & 5.7 & 2.5 & 5.0 & 2.0 & virginica \\\\\n",
       "\t115 & 5.8 & 2.8 & 5.1 & 2.4 & virginica \\\\\n",
       "\t116 & 6.4 & 3.2 & 5.3 & 2.3 & virginica \\\\\n",
       "\t117 & 6.5 & 3.0 & 5.5 & 1.8 & virginica \\\\\n",
       "\t118 & 7.7 & 3.8 & 6.7 & 2.2 & virginica \\\\\n",
       "\t119 & 7.7 & 2.6 & 6.9 & 2.3 & virginica \\\\\n",
       "\t120 & 6.0 & 2.2 & 5.0 & 1.5 & virginica \\\\\n",
       "\t121 & 6.9 & 3.2 & 5.7 & 2.3 & virginica \\\\\n",
       "\t122 & 5.6 & 2.8 & 4.9 & 2.0 & virginica \\\\\n",
       "\t123 & 7.7 & 2.8 & 6.7 & 2.0 & virginica \\\\\n",
       "\t124 & 6.3 & 2.7 & 4.9 & 1.8 & virginica \\\\\n",
       "\t125 & 6.7 & 3.3 & 5.7 & 2.1 & virginica \\\\\n",
       "\t126 & 7.2 & 3.2 & 6.0 & 1.8 & virginica \\\\\n",
       "\t127 & 6.2 & 2.8 & 4.8 & 1.8 & virginica \\\\\n",
       "\t128 & 6.1 & 3.0 & 4.9 & 1.8 & virginica \\\\\n",
       "\t129 & 6.4 & 2.8 & 5.6 & 2.1 & virginica \\\\\n",
       "\t130 & 7.2 & 3.0 & 5.8 & 1.6 & virginica \\\\\n",
       "\t131 & 7.4 & 2.8 & 6.1 & 1.9 & virginica \\\\\n",
       "\t132 & 7.9 & 3.8 & 6.4 & 2.0 & virginica \\\\\n",
       "\t133 & 6.4 & 2.8 & 5.6 & 2.2 & virginica \\\\\n",
       "\t134 & 6.3 & 2.8 & 5.1 & 1.5 & virginica \\\\\n",
       "\t135 & 6.1 & 2.6 & 5.6 & 1.4 & virginica \\\\\n",
       "\t136 & 7.7 & 3.0 & 6.1 & 2.3 & virginica \\\\\n",
       "\t137 & 6.3 & 3.4 & 5.6 & 2.4 & virginica \\\\\n",
       "\t138 & 6.4 & 3.1 & 5.5 & 1.8 & virginica \\\\\n",
       "\t139 & 6.0 & 3.0 & 4.8 & 1.8 & virginica \\\\\n",
       "\t140 & 6.9 & 3.1 & 5.4 & 2.1 & virginica \\\\\n",
       "\t141 & 6.7 & 3.1 & 5.6 & 2.4 & virginica \\\\\n",
       "\t142 & 6.9 & 3.1 & 5.1 & 2.3 & virginica \\\\\n",
       "\t143 & 5.8 & 2.7 & 5.1 & 1.9 & virginica \\\\\n",
       "\t144 & 6.8 & 3.2 & 5.9 & 2.3 & virginica \\\\\n",
       "\t145 & 6.7 & 3.3 & 5.7 & 2.5 & virginica \\\\\n",
       "\t146 & 6.7 & 3.0 & 5.2 & 2.3 & virginica \\\\\n",
       "\t147 & 6.3 & 2.5 & 5.0 & 1.9 & virginica \\\\\n",
       "\t148 & 6.5 & 3.0 & 5.2 & 2.0 & virginica \\\\\n",
       "\t149 & 6.2 & 3.4 & 5.4 & 2.3 & virginica \\\\\n",
       "\t150 & 5.9 & 3.0 & 5.1 & 1.8 & virginica \\\\\n",
       "\\end{tabular}\n"
      ],
      "text/plain": [
       "150×5 DataFrame\n",
       "│ Row │ SepalLength │ SepalWidth │ PetalLength │ PetalWidth │ Species      │\n",
       "│     │ \u001b[90mFloat64\u001b[39m     │ \u001b[90mFloat64\u001b[39m    │ \u001b[90mFloat64\u001b[39m     │ \u001b[90mFloat64\u001b[39m    │ \u001b[90mCategorical…\u001b[39m │\n",
       "├─────┼─────────────┼────────────┼─────────────┼────────────┼──────────────┤\n",
       "│ 1   │ 5.1         │ 3.5        │ 1.4         │ 0.2        │ setosa       │\n",
       "│ 2   │ 4.9         │ 3.0        │ 1.4         │ 0.2        │ setosa       │\n",
       "│ 3   │ 4.7         │ 3.2        │ 1.3         │ 0.2        │ setosa       │\n",
       "│ 4   │ 4.6         │ 3.1        │ 1.5         │ 0.2        │ setosa       │\n",
       "│ 5   │ 5.0         │ 3.6        │ 1.4         │ 0.2        │ setosa       │\n",
       "│ 6   │ 5.4         │ 3.9        │ 1.7         │ 0.4        │ setosa       │\n",
       "│ 7   │ 4.6         │ 3.4        │ 1.4         │ 0.3        │ setosa       │\n",
       "│ 8   │ 5.0         │ 3.4        │ 1.5         │ 0.2        │ setosa       │\n",
       "│ 9   │ 4.4         │ 2.9        │ 1.4         │ 0.2        │ setosa       │\n",
       "│ 10  │ 4.9         │ 3.1        │ 1.5         │ 0.1        │ setosa       │\n",
       "⋮\n",
       "│ 140 │ 6.9         │ 3.1        │ 5.4         │ 2.1        │ virginica    │\n",
       "│ 141 │ 6.7         │ 3.1        │ 5.6         │ 2.4        │ virginica    │\n",
       "│ 142 │ 6.9         │ 3.1        │ 5.1         │ 2.3        │ virginica    │\n",
       "│ 143 │ 5.8         │ 2.7        │ 5.1         │ 1.9        │ virginica    │\n",
       "│ 144 │ 6.8         │ 3.2        │ 5.9         │ 2.3        │ virginica    │\n",
       "│ 145 │ 6.7         │ 3.3        │ 5.7         │ 2.5        │ virginica    │\n",
       "│ 146 │ 6.7         │ 3.0        │ 5.2         │ 2.3        │ virginica    │\n",
       "│ 147 │ 6.3         │ 2.5        │ 5.0         │ 1.9        │ virginica    │\n",
       "│ 148 │ 6.5         │ 3.0        │ 5.2         │ 2.0        │ virginica    │\n",
       "│ 149 │ 6.2         │ 3.4        │ 5.4         │ 2.3        │ virginica    │\n",
       "│ 150 │ 5.9         │ 3.0        │ 5.1         │ 1.8        │ virginica    │"
      ]
     },
     "execution_count": 15,
     "metadata": {},
     "output_type": "execute_result"
    }
   ],
   "source": [
    "import RDatasets\n",
    "iris = RDatasets.dataset(\"datasets\", \"iris\")"
   ]
  },
  {
   "cell_type": "code",
   "execution_count": 16,
   "metadata": {},
   "outputs": [
    {
     "data": {
      "application/vnd.webio.node+json": {
       "children": [
        {
         "children": [
          {
           "children": [
            {
             "children": [
              {
               "children": [
                {
                 "children": [],
                 "instanceArgs": {
                  "namespace": "html",
                  "tag": "select"
                 },
                 "nodeType": "DOM",
                 "props": {
                  "attributes": {
                   "data-bind": "options : options_js, selectedOptions : index, optionsText: 'key', optionsValue: 'val', valueAllowUnset: true, optionsAfterRender: disablePlaceholder",
                   "multiple": true
                  }
                 },
                 "type": "node"
                }
               ],
               "instanceArgs": {
                "namespace": "html",
                "tag": "div"
               },
               "nodeType": "DOM",
               "props": {
                "className": "select is-multiple "
               },
               "type": "node"
              }
             ],
             "instanceArgs": {
              "handlers": {
               "_promises": {
                "importsLoaded": [
                 "function (ko, koPunches) {\n    ko.punches.enableAll();\n    ko.bindingHandlers.numericValue = {\n        init : function(element, valueAccessor, allBindings, data, context) {\n            var stringified = ko.observable(ko.unwrap(valueAccessor()));\n            stringified.subscribe(function(value) {\n                var val = parseFloat(value);\n                if (!isNaN(val)) {\n                    valueAccessor()(val);\n                }\n            })\n            valueAccessor().subscribe(function(value) {\n                var str = JSON.stringify(value);\n                if ((str == \"0\") && ([\"-0\", \"-0.\"].indexOf(stringified()) >= 0))\n                     return;\n                 if ([\"null\", \"\"].indexOf(str) >= 0)\n                     return;\n                stringified(str);\n            })\n            ko.applyBindingsToNode(element, { value: stringified, valueUpdate: allBindings.get('valueUpdate')}, context);\n        }\n    };\n    var json_data = JSON.parse(\"{\\\"options_js\\\":[{\\\"key\\\":\\\"First axis\\\",\\\"val\\\":0,\\\"id\\\":\\\"iddBbp1jvV\\\"},{\\\"key\\\":\\\"SepalLength\\\",\\\"val\\\":1,\\\"id\\\":\\\"id25Fi8v1n\\\"},{\\\"key\\\":\\\"SepalWidth\\\",\\\"val\\\":2,\\\"id\\\":\\\"idmOfBPbm1\\\"},{\\\"key\\\":\\\"PetalLength\\\",\\\"val\\\":3,\\\"id\\\":\\\"idpJdhkLtT\\\"},{\\\"key\\\":\\\"PetalWidth\\\",\\\"val\\\":4,\\\"id\\\":\\\"idjGXu63YU\\\"},{\\\"key\\\":\\\"Species\\\",\\\"val\\\":5,\\\"id\\\":\\\"idVzORwgvP\\\"}],\\\"index\\\":[]}\");\n    var self = this;\n    function AppViewModel() {\n        for (var key in json_data) {\n            var el = json_data[key];\n            this[key] = Array.isArray(el) ? ko.observableArray(el) : ko.observable(el);\n        }\n        [this[\"disablePlaceholder\"]=function(option, item) {\n    ko.applyBindingsToNode(option, {disable: item.val == 0}, item);\n}\n]\n        \n        [this[\"options_js\"].subscribe((function (val){!(this.valueFromJulia[\"options_js\"]) ? (_webIOScope.setObservableValue({\"name\":\"options_js\",\"scope\":\"knockout-component-d185b71c-af7a-4a8c-a8f7-8a2505b2af21\",\"id\":\"ob_76\",\"type\":\"observable\"},val)) : undefined; return this.valueFromJulia[\"options_js\"]=false}),self),this[\"index\"].subscribe((function (val){!(this.valueFromJulia[\"index\"]) ? (_webIOScope.setObservableValue({\"name\":\"index\",\"scope\":\"knockout-component-d185b71c-af7a-4a8c-a8f7-8a2505b2af21\",\"id\":\"ob_75\",\"type\":\"observable\"},val)) : undefined; return this.valueFromJulia[\"index\"]=false}),self)]\n        \n    }\n    self.model = new AppViewModel();\n    self.valueFromJulia = {};\n    for (var key in json_data) {\n        self.valueFromJulia[key] = false;\n    }\n    ko.applyBindings(self.model, self.dom);\n}\n"
                ]
               },
               "index": [
                "(function (val){return (val!=this.model[\"index\"]()) ? (this.valueFromJulia[\"index\"]=true, this.model[\"index\"](val)) : undefined})"
               ],
               "options_js": [
                "(function (val){return (val!=this.model[\"options_js\"]()) ? (this.valueFromJulia[\"options_js\"]=true, this.model[\"options_js\"](val)) : undefined})"
               ]
              },
              "id": "knockout-component-d185b71c-af7a-4a8c-a8f7-8a2505b2af21",
              "imports": {
               "data": [
                {
                 "name": "knockout",
                 "type": "js",
                 "url": "/assetserver/9b03060b0e0572775cc8ef1d907646c9bedfd095-knockout.js"
                },
                {
                 "name": "knockout_punches",
                 "type": "js",
                 "url": "/assetserver/9a5f395137b4d21e9ab2a6b49f9f1703bc03f0d7-knockout_punches.js"
                },
                {
                 "name": null,
                 "type": "js",
                 "url": "/assetserver/0280eb3e2c6521d4a0e7e6c36c538e90eeab521e-all.js"
                },
                {
                 "name": null,
                 "type": "css",
                 "url": "/assetserver/22deba3a37ee3c1bc7c8cda847682b42dd2e4661-style.css"
                },
                {
                 "name": null,
                 "type": "css",
                 "url": "/assetserver/6102faddff311acd96119e40e17a7fa3fab3fa5c-main.css"
                }
               ],
               "type": "async_block"
              },
              "observables": {
               "index": {
                "id": "ob_75",
                "sync": true,
                "value": []
               },
               "options_js": {
                "id": "ob_76",
                "sync": false,
                "value": [
                 {
                  "id": "iddBbp1jvV",
                  "key": "First axis",
                  "val": 0
                 },
                 {
                  "id": "id25Fi8v1n",
                  "key": "SepalLength",
                  "val": 1
                 },
                 {
                  "id": "idmOfBPbm1",
                  "key": "SepalWidth",
                  "val": 2
                 },
                 {
                  "id": "idpJdhkLtT",
                  "key": "PetalLength",
                  "val": 3
                 },
                 {
                  "id": "idjGXu63YU",
                  "key": "PetalWidth",
                  "val": 4
                 },
                 {
                  "id": "idVzORwgvP",
                  "key": "Species",
                  "val": 5
                 }
                ]
               }
              },
              "systemjs_options": null
             },
             "nodeType": "Scope",
             "props": {},
             "type": "node"
            }
           ],
           "instanceArgs": {
            "namespace": "html",
            "tag": "div"
           },
           "nodeType": "DOM",
           "props": {
            "className": "field"
           },
           "type": "node"
          },
          {
           "children": [
            {
             "children": [
              {
               "children": [
                {
                 "children": [
                  {
                   "children": [],
                   "instanceArgs": {
                    "namespace": "html",
                    "tag": "input"
                   },
                   "nodeType": "DOM",
                   "props": {
                    "attributes": {
                     "data-bind": "checked: value, valueUpdate: 'change', event: {change : function () {this.changes(this.changes()+1)}}",
                     "type": "checkbox"
                    },
                    "className": "switch ",
                    "id": "##373",
                    "style": {}
                   },
                   "type": "node"
                  },
                  {
                   "children": [
                    "Second axis"
                   ],
                   "instanceArgs": {
                    "namespace": "html",
                    "tag": "label"
                   },
                   "nodeType": "DOM",
                   "props": {
                    "attributes": {
                     "className": "",
                     "for": "##373"
                    }
                   },
                   "type": "node"
                  }
                 ],
                 "instanceArgs": {
                  "namespace": "html",
                  "tag": "div"
                 },
                 "nodeType": "DOM",
                 "props": {
                  "className": "field"
                 },
                 "type": "node"
                },
                {
                 "children": [
                  {
                   "children": [
                    {
                     "children": [
                      {
                       "children": [
                        {
                         "children": [],
                         "instanceArgs": {
                          "namespace": "html",
                          "tag": "select"
                         },
                         "nodeType": "DOM",
                         "props": {
                          "attributes": {
                           "data-bind": "options : options_js, selectedOptions : index, optionsText: 'key', optionsValue: 'val', valueAllowUnset: true, optionsAfterRender: disablePlaceholder",
                           "multiple": true
                          }
                         },
                         "type": "node"
                        }
                       ],
                       "instanceArgs": {
                        "namespace": "html",
                        "tag": "div"
                       },
                       "nodeType": "DOM",
                       "props": {
                        "className": "select is-multiple "
                       },
                       "type": "node"
                      }
                     ],
                     "instanceArgs": {
                      "handlers": {
                       "_promises": {
                        "importsLoaded": [
                         "function (ko, koPunches) {\n    ko.punches.enableAll();\n    ko.bindingHandlers.numericValue = {\n        init : function(element, valueAccessor, allBindings, data, context) {\n            var stringified = ko.observable(ko.unwrap(valueAccessor()));\n            stringified.subscribe(function(value) {\n                var val = parseFloat(value);\n                if (!isNaN(val)) {\n                    valueAccessor()(val);\n                }\n            })\n            valueAccessor().subscribe(function(value) {\n                var str = JSON.stringify(value);\n                if ((str == \"0\") && ([\"-0\", \"-0.\"].indexOf(stringified()) >= 0))\n                     return;\n                 if ([\"null\", \"\"].indexOf(str) >= 0)\n                     return;\n                stringified(str);\n            })\n            ko.applyBindingsToNode(element, { value: stringified, valueUpdate: allBindings.get('valueUpdate')}, context);\n        }\n    };\n    var json_data = JSON.parse(\"{\\\"options_js\\\":[{\\\"key\\\":\\\"Second axis\\\",\\\"val\\\":0,\\\"id\\\":\\\"id3VVBObgH\\\"},{\\\"key\\\":\\\"SepalLength\\\",\\\"val\\\":1,\\\"id\\\":\\\"idQB83Uii5\\\"},{\\\"key\\\":\\\"SepalWidth\\\",\\\"val\\\":2,\\\"id\\\":\\\"id9MzL3BW9\\\"},{\\\"key\\\":\\\"PetalLength\\\",\\\"val\\\":3,\\\"id\\\":\\\"idfXgiDHXs\\\"},{\\\"key\\\":\\\"PetalWidth\\\",\\\"val\\\":4,\\\"id\\\":\\\"idLLyjg9ai\\\"},{\\\"key\\\":\\\"Species\\\",\\\"val\\\":5,\\\"id\\\":\\\"idVw6dWb4t\\\"}],\\\"index\\\":[]}\");\n    var self = this;\n    function AppViewModel() {\n        for (var key in json_data) {\n            var el = json_data[key];\n            this[key] = Array.isArray(el) ? ko.observableArray(el) : ko.observable(el);\n        }\n        [this[\"disablePlaceholder\"]=function(option, item) {\n    ko.applyBindingsToNode(option, {disable: item.val == 0}, item);\n}\n]\n        \n        [this[\"options_js\"].subscribe((function (val){!(this.valueFromJulia[\"options_js\"]) ? (_webIOScope.setObservableValue({\"name\":\"options_js\",\"scope\":\"knockout-component-c26000ec-ad0b-48ae-a4f7-426c975ed57f\",\"id\":\"ob_80\",\"type\":\"observable\"},val)) : undefined; return this.valueFromJulia[\"options_js\"]=false}),self),this[\"index\"].subscribe((function (val){!(this.valueFromJulia[\"index\"]) ? (_webIOScope.setObservableValue({\"name\":\"index\",\"scope\":\"knockout-component-c26000ec-ad0b-48ae-a4f7-426c975ed57f\",\"id\":\"ob_79\",\"type\":\"observable\"},val)) : undefined; return this.valueFromJulia[\"index\"]=false}),self)]\n        \n    }\n    self.model = new AppViewModel();\n    self.valueFromJulia = {};\n    for (var key in json_data) {\n        self.valueFromJulia[key] = false;\n    }\n    ko.applyBindings(self.model, self.dom);\n}\n"
                        ]
                       },
                       "index": [
                        "(function (val){return (val!=this.model[\"index\"]()) ? (this.valueFromJulia[\"index\"]=true, this.model[\"index\"](val)) : undefined})"
                       ],
                       "options_js": [
                        "(function (val){return (val!=this.model[\"options_js\"]()) ? (this.valueFromJulia[\"options_js\"]=true, this.model[\"options_js\"](val)) : undefined})"
                       ]
                      },
                      "id": "knockout-component-c26000ec-ad0b-48ae-a4f7-426c975ed57f",
                      "imports": {
                       "data": [
                        {
                         "name": "knockout",
                         "type": "js",
                         "url": "/assetserver/9b03060b0e0572775cc8ef1d907646c9bedfd095-knockout.js"
                        },
                        {
                         "name": "knockout_punches",
                         "type": "js",
                         "url": "/assetserver/9a5f395137b4d21e9ab2a6b49f9f1703bc03f0d7-knockout_punches.js"
                        },
                        {
                         "name": null,
                         "type": "js",
                         "url": "/assetserver/0280eb3e2c6521d4a0e7e6c36c538e90eeab521e-all.js"
                        },
                        {
                         "name": null,
                         "type": "css",
                         "url": "/assetserver/22deba3a37ee3c1bc7c8cda847682b42dd2e4661-style.css"
                        },
                        {
                         "name": null,
                         "type": "css",
                         "url": "/assetserver/6102faddff311acd96119e40e17a7fa3fab3fa5c-main.css"
                        }
                       ],
                       "type": "async_block"
                      },
                      "observables": {
                       "index": {
                        "id": "ob_79",
                        "sync": true,
                        "value": []
                       },
                       "options_js": {
                        "id": "ob_80",
                        "sync": false,
                        "value": [
                         {
                          "id": "id3VVBObgH",
                          "key": "Second axis",
                          "val": 0
                         },
                         {
                          "id": "idQB83Uii5",
                          "key": "SepalLength",
                          "val": 1
                         },
                         {
                          "id": "id9MzL3BW9",
                          "key": "SepalWidth",
                          "val": 2
                         },
                         {
                          "id": "idfXgiDHXs",
                          "key": "PetalLength",
                          "val": 3
                         },
                         {
                          "id": "idLLyjg9ai",
                          "key": "PetalWidth",
                          "val": 4
                         },
                         {
                          "id": "idVw6dWb4t",
                          "key": "Species",
                          "val": 5
                         }
                        ]
                       }
                      },
                      "systemjs_options": null
                     },
                     "nodeType": "Scope",
                     "props": {},
                     "type": "node"
                    }
                   ],
                   "instanceArgs": {
                    "namespace": "html",
                    "tag": "div"
                   },
                   "nodeType": "DOM",
                   "props": {
                    "className": "field"
                   },
                   "type": "node"
                  }
                 ],
                 "instanceArgs": {
                  "namespace": "html",
                  "tag": "div"
                 },
                 "nodeType": "DOM",
                 "props": {
                  "attributes": {
                   "data-bind": "visible: value"
                  }
                 },
                 "type": "node"
                }
               ],
               "instanceArgs": {
                "namespace": "html",
                "tag": "div"
               },
               "nodeType": "DOM",
               "props": {
                "style": {
                 "display": "flex",
                 "flex-direction": "column"
                }
               },
               "type": "node"
              }
             ],
             "instanceArgs": {
              "handlers": {
               "_promises": {
                "importsLoaded": [
                 "function (ko, koPunches) {\n    ko.punches.enableAll();\n    ko.bindingHandlers.numericValue = {\n        init : function(element, valueAccessor, allBindings, data, context) {\n            var stringified = ko.observable(ko.unwrap(valueAccessor()));\n            stringified.subscribe(function(value) {\n                var val = parseFloat(value);\n                if (!isNaN(val)) {\n                    valueAccessor()(val);\n                }\n            })\n            valueAccessor().subscribe(function(value) {\n                var str = JSON.stringify(value);\n                if ((str == \"0\") && ([\"-0\", \"-0.\"].indexOf(stringified()) >= 0))\n                     return;\n                 if ([\"null\", \"\"].indexOf(str) >= 0)\n                     return;\n                stringified(str);\n            })\n            ko.applyBindingsToNode(element, { value: stringified, valueUpdate: allBindings.get('valueUpdate')}, context);\n        }\n    };\n    var json_data = JSON.parse(\"{\\\"changes\\\":0,\\\"value\\\":false}\");\n    var self = this;\n    function AppViewModel() {\n        for (var key in json_data) {\n            var el = json_data[key];\n            this[key] = Array.isArray(el) ? ko.observableArray(el) : ko.observable(el);\n        }\n        \n        \n        [this[\"changes\"].subscribe((function (val){!(this.valueFromJulia[\"changes\"]) ? (_webIOScope.setObservableValue({\"name\":\"changes\",\"scope\":\"knockout-component-b6efd8ae-bbcd-4655-9f00-71c157b0ad4c\",\"id\":\"ob_82\",\"type\":\"observable\"},val)) : undefined; return this.valueFromJulia[\"changes\"]=false}),self),this[\"value\"].subscribe((function (val){!(this.valueFromJulia[\"value\"]) ? (_webIOScope.setObservableValue({\"name\":\"value\",\"scope\":\"knockout-component-b6efd8ae-bbcd-4655-9f00-71c157b0ad4c\",\"id\":\"ob_81\",\"type\":\"observable\"},val)) : undefined; return this.valueFromJulia[\"value\"]=false}),self)]\n        \n    }\n    self.model = new AppViewModel();\n    self.valueFromJulia = {};\n    for (var key in json_data) {\n        self.valueFromJulia[key] = false;\n    }\n    ko.applyBindings(self.model, self.dom);\n}\n"
                ]
               },
               "changes": [
                "(function (val){return (val!=this.model[\"changes\"]()) ? (this.valueFromJulia[\"changes\"]=true, this.model[\"changes\"](val)) : undefined})"
               ],
               "value": [
                "(function (val){return (val!=this.model[\"value\"]()) ? (this.valueFromJulia[\"value\"]=true, this.model[\"value\"](val)) : undefined})"
               ]
              },
              "id": "knockout-component-b6efd8ae-bbcd-4655-9f00-71c157b0ad4c",
              "imports": {
               "data": [
                {
                 "name": "knockout",
                 "type": "js",
                 "url": "/assetserver/9b03060b0e0572775cc8ef1d907646c9bedfd095-knockout.js"
                },
                {
                 "name": "knockout_punches",
                 "type": "js",
                 "url": "/assetserver/9a5f395137b4d21e9ab2a6b49f9f1703bc03f0d7-knockout_punches.js"
                },
                {
                 "name": null,
                 "type": "js",
                 "url": "/assetserver/0280eb3e2c6521d4a0e7e6c36c538e90eeab521e-all.js"
                },
                {
                 "name": null,
                 "type": "css",
                 "url": "/assetserver/22deba3a37ee3c1bc7c8cda847682b42dd2e4661-style.css"
                },
                {
                 "name": null,
                 "type": "css",
                 "url": "/assetserver/6102faddff311acd96119e40e17a7fa3fab3fa5c-main.css"
                }
               ],
               "type": "async_block"
              },
              "observables": {
               "changes": {
                "id": "ob_82",
                "sync": false,
                "value": 0
               },
               "value": {
                "id": "ob_81",
                "sync": false,
                "value": false
               }
              },
              "systemjs_options": null
             },
             "nodeType": "Scope",
             "props": {},
             "type": "node"
            }
           ],
           "instanceArgs": {
            "namespace": "html",
            "tag": "div"
           },
           "nodeType": "DOM",
           "props": {
            "className": "field"
           },
           "type": "node"
          },
          {
           "children": [
            {
             "children": [
              {
               "children": [
                {
                 "children": [],
                 "instanceArgs": {
                  "namespace": "html",
                  "tag": "select"
                 },
                 "nodeType": "DOM",
                 "props": {
                  "attributes": {
                   "data-bind": "options : options_js, value : index, optionsText: 'key', optionsValue: 'val', valueAllowUnset: true, optionsAfterRender: disablePlaceholder"
                  }
                 },
                 "type": "node"
                }
               ],
               "instanceArgs": {
                "namespace": "html",
                "tag": "div"
               },
               "nodeType": "DOM",
               "props": {
                "className": "select "
               },
               "type": "node"
              }
             ],
             "instanceArgs": {
              "handlers": {
               "_promises": {
                "importsLoaded": [
                 "function (ko, koPunches) {\n    ko.punches.enableAll();\n    ko.bindingHandlers.numericValue = {\n        init : function(element, valueAccessor, allBindings, data, context) {\n            var stringified = ko.observable(ko.unwrap(valueAccessor()));\n            stringified.subscribe(function(value) {\n                var val = parseFloat(value);\n                if (!isNaN(val)) {\n                    valueAccessor()(val);\n                }\n            })\n            valueAccessor().subscribe(function(value) {\n                var str = JSON.stringify(value);\n                if ((str == \"0\") && ([\"-0\", \"-0.\"].indexOf(stringified()) >= 0))\n                     return;\n                 if ([\"null\", \"\"].indexOf(str) >= 0)\n                     return;\n                stringified(str);\n            })\n            ko.applyBindingsToNode(element, { value: stringified, valueUpdate: allBindings.get('valueUpdate')}, context);\n        }\n    };\n    var json_data = JSON.parse(\"{\\\"options_js\\\":[{\\\"key\\\":\\\"Plot type\\\",\\\"val\\\":0,\\\"id\\\":\\\"idKsarUlp4\\\"},{\\\"key\\\":\\\"line\\\",\\\"val\\\":1,\\\"id\\\":\\\"idXxkBLXMu\\\"},{\\\"key\\\":\\\"scatter\\\",\\\"val\\\":2,\\\"id\\\":\\\"idC7p4NgVi\\\"},{\\\"key\\\":\\\"bar\\\",\\\"val\\\":3,\\\"id\\\":\\\"idWAW6SeXq\\\"},{\\\"key\\\":\\\"boxplot\\\",\\\"val\\\":4,\\\"id\\\":\\\"idpw27663k\\\"},{\\\"key\\\":\\\"corrplot\\\",\\\"val\\\":5,\\\"id\\\":\\\"id2ARVJDXE\\\"},{\\\"key\\\":\\\"cornerplot\\\",\\\"val\\\":6,\\\"id\\\":\\\"idX9lxWFOC\\\"},{\\\"key\\\":\\\"density\\\",\\\"val\\\":7,\\\"id\\\":\\\"idet4Hs9nt\\\"},{\\\"key\\\":\\\"histogram\\\",\\\"val\\\":8,\\\"id\\\":\\\"idt0q3FOUs\\\"},{\\\"key\\\":\\\"marginalhist\\\",\\\"val\\\":9,\\\"id\\\":\\\"idQNSzS9Mb\\\"},{\\\"key\\\":\\\"violin\\\",\\\"val\\\":10,\\\"id\\\":\\\"idLqSrMTYY\\\"}],\\\"index\\\":1}\");\n    var self = this;\n    function AppViewModel() {\n        for (var key in json_data) {\n            var el = json_data[key];\n            this[key] = Array.isArray(el) ? ko.observableArray(el) : ko.observable(el);\n        }\n        [this[\"disablePlaceholder\"]=function(option, item) {\n    ko.applyBindingsToNode(option, {disable: item.val == 0}, item);\n}\n]\n        \n        [this[\"options_js\"].subscribe((function (val){!(this.valueFromJulia[\"options_js\"]) ? (_webIOScope.setObservableValue({\"name\":\"options_js\",\"scope\":\"knockout-component-79042f24-c5c5-4347-9400-46bfc01c866b\",\"id\":\"ob_87\",\"type\":\"observable\"},val)) : undefined; return this.valueFromJulia[\"options_js\"]=false}),self),this[\"index\"].subscribe((function (val){!(this.valueFromJulia[\"index\"]) ? (_webIOScope.setObservableValue({\"name\":\"index\",\"scope\":\"knockout-component-79042f24-c5c5-4347-9400-46bfc01c866b\",\"id\":\"ob_86\",\"type\":\"observable\"},val)) : undefined; return this.valueFromJulia[\"index\"]=false}),self)]\n        \n    }\n    self.model = new AppViewModel();\n    self.valueFromJulia = {};\n    for (var key in json_data) {\n        self.valueFromJulia[key] = false;\n    }\n    ko.applyBindings(self.model, self.dom);\n}\n"
                ]
               },
               "index": [
                "(function (val){return (val!=this.model[\"index\"]()) ? (this.valueFromJulia[\"index\"]=true, this.model[\"index\"](val)) : undefined})"
               ],
               "options_js": [
                "(function (val){return (val!=this.model[\"options_js\"]()) ? (this.valueFromJulia[\"options_js\"]=true, this.model[\"options_js\"](val)) : undefined})"
               ]
              },
              "id": "knockout-component-79042f24-c5c5-4347-9400-46bfc01c866b",
              "imports": {
               "data": [
                {
                 "name": "knockout",
                 "type": "js",
                 "url": "/assetserver/9b03060b0e0572775cc8ef1d907646c9bedfd095-knockout.js"
                },
                {
                 "name": "knockout_punches",
                 "type": "js",
                 "url": "/assetserver/9a5f395137b4d21e9ab2a6b49f9f1703bc03f0d7-knockout_punches.js"
                },
                {
                 "name": null,
                 "type": "js",
                 "url": "/assetserver/0280eb3e2c6521d4a0e7e6c36c538e90eeab521e-all.js"
                },
                {
                 "name": null,
                 "type": "css",
                 "url": "/assetserver/22deba3a37ee3c1bc7c8cda847682b42dd2e4661-style.css"
                },
                {
                 "name": null,
                 "type": "css",
                 "url": "/assetserver/6102faddff311acd96119e40e17a7fa3fab3fa5c-main.css"
                }
               ],
               "type": "async_block"
              },
              "observables": {
               "index": {
                "id": "ob_86",
                "sync": true,
                "value": 1
               },
               "options_js": {
                "id": "ob_87",
                "sync": false,
                "value": [
                 {
                  "id": "idKsarUlp4",
                  "key": "Plot type",
                  "val": 0
                 },
                 {
                  "id": "idXxkBLXMu",
                  "key": "line",
                  "val": 1
                 },
                 {
                  "id": "idC7p4NgVi",
                  "key": "scatter",
                  "val": 2
                 },
                 {
                  "id": "idWAW6SeXq",
                  "key": "bar",
                  "val": 3
                 },
                 {
                  "id": "idpw27663k",
                  "key": "boxplot",
                  "val": 4
                 },
                 {
                  "id": "id2ARVJDXE",
                  "key": "corrplot",
                  "val": 5
                 },
                 {
                  "id": "idX9lxWFOC",
                  "key": "cornerplot",
                  "val": 6
                 },
                 {
                  "id": "idet4Hs9nt",
                  "key": "density",
                  "val": 7
                 },
                 {
                  "id": "idt0q3FOUs",
                  "key": "histogram",
                  "val": 8
                 },
                 {
                  "id": "idQNSzS9Mb",
                  "key": "marginalhist",
                  "val": 9
                 },
                 {
                  "id": "idLqSrMTYY",
                  "key": "violin",
                  "val": 10
                 }
                ]
               }
              },
              "systemjs_options": null
             },
             "nodeType": "Scope",
             "props": {},
             "type": "node"
            }
           ],
           "instanceArgs": {
            "namespace": "html",
            "tag": "div"
           },
           "nodeType": "DOM",
           "props": {
            "className": "field"
           },
           "type": "node"
          },
          {
           "children": [
            {
             "children": [
              {
               "children": [
                {
                 "children": [
                  {
                   "children": [],
                   "instanceArgs": {
                    "namespace": "html",
                    "tag": "input"
                   },
                   "nodeType": "DOM",
                   "props": {
                    "attributes": {
                     "data-bind": "checked: value, valueUpdate: 'change', event: {change : function () {this.changes(this.changes()+1)}}",
                     "type": "checkbox"
                    },
                    "className": "switch ",
                    "id": "##374",
                    "style": {}
                   },
                   "type": "node"
                  },
                  {
                   "children": [
                    "Split data"
                   ],
                   "instanceArgs": {
                    "namespace": "html",
                    "tag": "label"
                   },
                   "nodeType": "DOM",
                   "props": {
                    "attributes": {
                     "className": "",
                     "for": "##374"
                    }
                   },
                   "type": "node"
                  }
                 ],
                 "instanceArgs": {
                  "namespace": "html",
                  "tag": "div"
                 },
                 "nodeType": "DOM",
                 "props": {
                  "className": "field"
                 },
                 "type": "node"
                },
                {
                 "children": [
                  {
                   "children": [
                    {
                     "children": [
                      {
                       "children": [
                        {
                         "children": [],
                         "instanceArgs": {
                          "namespace": "html",
                          "tag": "select"
                         },
                         "nodeType": "DOM",
                         "props": {
                          "attributes": {
                           "data-bind": "options : options_js, selectedOptions : index, optionsText: 'key', optionsValue: 'val', valueAllowUnset: true, optionsAfterRender: disablePlaceholder",
                           "multiple": true
                          }
                         },
                         "type": "node"
                        }
                       ],
                       "instanceArgs": {
                        "namespace": "html",
                        "tag": "div"
                       },
                       "nodeType": "DOM",
                       "props": {
                        "className": "select is-multiple "
                       },
                       "type": "node"
                      }
                     ],
                     "instanceArgs": {
                      "handlers": {
                       "_promises": {
                        "importsLoaded": [
                         "function (ko, koPunches) {\n    ko.punches.enableAll();\n    ko.bindingHandlers.numericValue = {\n        init : function(element, valueAccessor, allBindings, data, context) {\n            var stringified = ko.observable(ko.unwrap(valueAccessor()));\n            stringified.subscribe(function(value) {\n                var val = parseFloat(value);\n                if (!isNaN(val)) {\n                    valueAccessor()(val);\n                }\n            })\n            valueAccessor().subscribe(function(value) {\n                var str = JSON.stringify(value);\n                if ((str == \"0\") && ([\"-0\", \"-0.\"].indexOf(stringified()) >= 0))\n                     return;\n                 if ([\"null\", \"\"].indexOf(str) >= 0)\n                     return;\n                stringified(str);\n            })\n            ko.applyBindingsToNode(element, { value: stringified, valueUpdate: allBindings.get('valueUpdate')}, context);\n        }\n    };\n    var json_data = JSON.parse(\"{\\\"options_js\\\":[{\\\"key\\\":\\\"Group by\\\",\\\"val\\\":0,\\\"id\\\":\\\"id7U1ylb4z\\\"},{\\\"key\\\":\\\"SepalLength\\\",\\\"val\\\":1,\\\"id\\\":\\\"idtqPGOzwo\\\"},{\\\"key\\\":\\\"SepalWidth\\\",\\\"val\\\":2,\\\"id\\\":\\\"idrjmj7KHG\\\"},{\\\"key\\\":\\\"PetalLength\\\",\\\"val\\\":3,\\\"id\\\":\\\"idA5ivuCja\\\"},{\\\"key\\\":\\\"PetalWidth\\\",\\\"val\\\":4,\\\"id\\\":\\\"idjPg2eArH\\\"},{\\\"key\\\":\\\"Species\\\",\\\"val\\\":5,\\\"id\\\":\\\"idznWRgy7K\\\"}],\\\"index\\\":[]}\");\n    var self = this;\n    function AppViewModel() {\n        for (var key in json_data) {\n            var el = json_data[key];\n            this[key] = Array.isArray(el) ? ko.observableArray(el) : ko.observable(el);\n        }\n        [this[\"disablePlaceholder\"]=function(option, item) {\n    ko.applyBindingsToNode(option, {disable: item.val == 0}, item);\n}\n]\n        \n        [this[\"options_js\"].subscribe((function (val){!(this.valueFromJulia[\"options_js\"]) ? (_webIOScope.setObservableValue({\"name\":\"options_js\",\"scope\":\"knockout-component-1188f3b5-5160-4b8b-852f-256a0cec9967\",\"id\":\"ob_96\",\"type\":\"observable\"},val)) : undefined; return this.valueFromJulia[\"options_js\"]=false}),self),this[\"index\"].subscribe((function (val){!(this.valueFromJulia[\"index\"]) ? (_webIOScope.setObservableValue({\"name\":\"index\",\"scope\":\"knockout-component-1188f3b5-5160-4b8b-852f-256a0cec9967\",\"id\":\"ob_95\",\"type\":\"observable\"},val)) : undefined; return this.valueFromJulia[\"index\"]=false}),self)]\n        \n    }\n    self.model = new AppViewModel();\n    self.valueFromJulia = {};\n    for (var key in json_data) {\n        self.valueFromJulia[key] = false;\n    }\n    ko.applyBindings(self.model, self.dom);\n}\n"
                        ]
                       },
                       "index": [
                        "(function (val){return (val!=this.model[\"index\"]()) ? (this.valueFromJulia[\"index\"]=true, this.model[\"index\"](val)) : undefined})"
                       ],
                       "options_js": [
                        "(function (val){return (val!=this.model[\"options_js\"]()) ? (this.valueFromJulia[\"options_js\"]=true, this.model[\"options_js\"](val)) : undefined})"
                       ]
                      },
                      "id": "knockout-component-1188f3b5-5160-4b8b-852f-256a0cec9967",
                      "imports": {
                       "data": [
                        {
                         "name": "knockout",
                         "type": "js",
                         "url": "/assetserver/9b03060b0e0572775cc8ef1d907646c9bedfd095-knockout.js"
                        },
                        {
                         "name": "knockout_punches",
                         "type": "js",
                         "url": "/assetserver/9a5f395137b4d21e9ab2a6b49f9f1703bc03f0d7-knockout_punches.js"
                        },
                        {
                         "name": null,
                         "type": "js",
                         "url": "/assetserver/0280eb3e2c6521d4a0e7e6c36c538e90eeab521e-all.js"
                        },
                        {
                         "name": null,
                         "type": "css",
                         "url": "/assetserver/22deba3a37ee3c1bc7c8cda847682b42dd2e4661-style.css"
                        },
                        {
                         "name": null,
                         "type": "css",
                         "url": "/assetserver/6102faddff311acd96119e40e17a7fa3fab3fa5c-main.css"
                        }
                       ],
                       "type": "async_block"
                      },
                      "observables": {
                       "index": {
                        "id": "ob_95",
                        "sync": true,
                        "value": []
                       },
                       "options_js": {
                        "id": "ob_96",
                        "sync": false,
                        "value": [
                         {
                          "id": "id7U1ylb4z",
                          "key": "Group by",
                          "val": 0
                         },
                         {
                          "id": "idtqPGOzwo",
                          "key": "SepalLength",
                          "val": 1
                         },
                         {
                          "id": "idrjmj7KHG",
                          "key": "SepalWidth",
                          "val": 2
                         },
                         {
                          "id": "idA5ivuCja",
                          "key": "PetalLength",
                          "val": 3
                         },
                         {
                          "id": "idjPg2eArH",
                          "key": "PetalWidth",
                          "val": 4
                         },
                         {
                          "id": "idznWRgy7K",
                          "key": "Species",
                          "val": 5
                         }
                        ]
                       }
                      },
                      "systemjs_options": null
                     },
                     "nodeType": "Scope",
                     "props": {},
                     "type": "node"
                    }
                   ],
                   "instanceArgs": {
                    "namespace": "html",
                    "tag": "div"
                   },
                   "nodeType": "DOM",
                   "props": {
                    "className": "field"
                   },
                   "type": "node"
                  }
                 ],
                 "instanceArgs": {
                  "namespace": "html",
                  "tag": "div"
                 },
                 "nodeType": "DOM",
                 "props": {
                  "attributes": {
                   "data-bind": "visible: value"
                  }
                 },
                 "type": "node"
                }
               ],
               "instanceArgs": {
                "namespace": "html",
                "tag": "div"
               },
               "nodeType": "DOM",
               "props": {
                "style": {
                 "display": "flex",
                 "flex-direction": "column"
                }
               },
               "type": "node"
              }
             ],
             "instanceArgs": {
              "handlers": {
               "_promises": {
                "importsLoaded": [
                 "function (ko, koPunches) {\n    ko.punches.enableAll();\n    ko.bindingHandlers.numericValue = {\n        init : function(element, valueAccessor, allBindings, data, context) {\n            var stringified = ko.observable(ko.unwrap(valueAccessor()));\n            stringified.subscribe(function(value) {\n                var val = parseFloat(value);\n                if (!isNaN(val)) {\n                    valueAccessor()(val);\n                }\n            })\n            valueAccessor().subscribe(function(value) {\n                var str = JSON.stringify(value);\n                if ((str == \"0\") && ([\"-0\", \"-0.\"].indexOf(stringified()) >= 0))\n                     return;\n                 if ([\"null\", \"\"].indexOf(str) >= 0)\n                     return;\n                stringified(str);\n            })\n            ko.applyBindingsToNode(element, { value: stringified, valueUpdate: allBindings.get('valueUpdate')}, context);\n        }\n    };\n    var json_data = JSON.parse(\"{\\\"changes\\\":0,\\\"value\\\":false}\");\n    var self = this;\n    function AppViewModel() {\n        for (var key in json_data) {\n            var el = json_data[key];\n            this[key] = Array.isArray(el) ? ko.observableArray(el) : ko.observable(el);\n        }\n        \n        \n        [this[\"changes\"].subscribe((function (val){!(this.valueFromJulia[\"changes\"]) ? (_webIOScope.setObservableValue({\"name\":\"changes\",\"scope\":\"knockout-component-46891989-e246-469d-ab84-7c7b96d5400f\",\"id\":\"ob_98\",\"type\":\"observable\"},val)) : undefined; return this.valueFromJulia[\"changes\"]=false}),self),this[\"value\"].subscribe((function (val){!(this.valueFromJulia[\"value\"]) ? (_webIOScope.setObservableValue({\"name\":\"value\",\"scope\":\"knockout-component-46891989-e246-469d-ab84-7c7b96d5400f\",\"id\":\"ob_97\",\"type\":\"observable\"},val)) : undefined; return this.valueFromJulia[\"value\"]=false}),self)]\n        \n    }\n    self.model = new AppViewModel();\n    self.valueFromJulia = {};\n    for (var key in json_data) {\n        self.valueFromJulia[key] = false;\n    }\n    ko.applyBindings(self.model, self.dom);\n}\n"
                ]
               },
               "changes": [
                "(function (val){return (val!=this.model[\"changes\"]()) ? (this.valueFromJulia[\"changes\"]=true, this.model[\"changes\"](val)) : undefined})"
               ],
               "value": [
                "(function (val){return (val!=this.model[\"value\"]()) ? (this.valueFromJulia[\"value\"]=true, this.model[\"value\"](val)) : undefined})"
               ]
              },
              "id": "knockout-component-46891989-e246-469d-ab84-7c7b96d5400f",
              "imports": {
               "data": [
                {
                 "name": "knockout",
                 "type": "js",
                 "url": "/assetserver/9b03060b0e0572775cc8ef1d907646c9bedfd095-knockout.js"
                },
                {
                 "name": "knockout_punches",
                 "type": "js",
                 "url": "/assetserver/9a5f395137b4d21e9ab2a6b49f9f1703bc03f0d7-knockout_punches.js"
                },
                {
                 "name": null,
                 "type": "js",
                 "url": "/assetserver/0280eb3e2c6521d4a0e7e6c36c538e90eeab521e-all.js"
                },
                {
                 "name": null,
                 "type": "css",
                 "url": "/assetserver/22deba3a37ee3c1bc7c8cda847682b42dd2e4661-style.css"
                },
                {
                 "name": null,
                 "type": "css",
                 "url": "/assetserver/6102faddff311acd96119e40e17a7fa3fab3fa5c-main.css"
                }
               ],
               "type": "async_block"
              },
              "observables": {
               "changes": {
                "id": "ob_98",
                "sync": false,
                "value": 0
               },
               "value": {
                "id": "ob_97",
                "sync": false,
                "value": false
               }
              },
              "systemjs_options": null
             },
             "nodeType": "Scope",
             "props": {},
             "type": "node"
            }
           ],
           "instanceArgs": {
            "namespace": "html",
            "tag": "div"
           },
           "nodeType": "DOM",
           "props": {
            "className": "field"
           },
           "type": "node"
          },
          {
           "children": [
            {
             "children": [
              {
               "children": [
                "plot"
               ],
               "instanceArgs": {
                "namespace": "html",
                "tag": "button"
               },
               "nodeType": "DOM",
               "props": {
                "attributes": {
                 "data-bind": "click : function () {this.clicks(this.clicks()+1)}"
                },
                "className": "button is-primary",
                "style": {}
               },
               "type": "node"
              }
             ],
             "instanceArgs": {
              "handlers": {
               "_promises": {
                "importsLoaded": [
                 "function (ko, koPunches) {\n    ko.punches.enableAll();\n    ko.bindingHandlers.numericValue = {\n        init : function(element, valueAccessor, allBindings, data, context) {\n            var stringified = ko.observable(ko.unwrap(valueAccessor()));\n            stringified.subscribe(function(value) {\n                var val = parseFloat(value);\n                if (!isNaN(val)) {\n                    valueAccessor()(val);\n                }\n            })\n            valueAccessor().subscribe(function(value) {\n                var str = JSON.stringify(value);\n                if ((str == \"0\") && ([\"-0\", \"-0.\"].indexOf(stringified()) >= 0))\n                     return;\n                 if ([\"null\", \"\"].indexOf(str) >= 0)\n                     return;\n                stringified(str);\n            })\n            ko.applyBindingsToNode(element, { value: stringified, valueUpdate: allBindings.get('valueUpdate')}, context);\n        }\n    };\n    var json_data = JSON.parse(\"{\\\"clicks\\\":0}\");\n    var self = this;\n    function AppViewModel() {\n        for (var key in json_data) {\n            var el = json_data[key];\n            this[key] = Array.isArray(el) ? ko.observableArray(el) : ko.observable(el);\n        }\n        \n        \n        [this[\"clicks\"].subscribe((function (val){!(this.valueFromJulia[\"clicks\"]) ? (_webIOScope.setObservableValue({\"name\":\"clicks\",\"scope\":\"knockout-component-d857aa67-bd01-4da4-9ad9-92da950db236\",\"id\":\"ob_99\",\"type\":\"observable\"},val)) : undefined; return this.valueFromJulia[\"clicks\"]=false}),self)]\n        \n    }\n    self.model = new AppViewModel();\n    self.valueFromJulia = {};\n    for (var key in json_data) {\n        self.valueFromJulia[key] = false;\n    }\n    ko.applyBindings(self.model, self.dom);\n}\n"
                ]
               },
               "clicks": [
                "(function (val){return (val!=this.model[\"clicks\"]()) ? (this.valueFromJulia[\"clicks\"]=true, this.model[\"clicks\"](val)) : undefined})"
               ]
              },
              "id": "knockout-component-d857aa67-bd01-4da4-9ad9-92da950db236",
              "imports": {
               "data": [
                {
                 "name": "knockout",
                 "type": "js",
                 "url": "/assetserver/9b03060b0e0572775cc8ef1d907646c9bedfd095-knockout.js"
                },
                {
                 "name": "knockout_punches",
                 "type": "js",
                 "url": "/assetserver/9a5f395137b4d21e9ab2a6b49f9f1703bc03f0d7-knockout_punches.js"
                },
                {
                 "name": null,
                 "type": "js",
                 "url": "/assetserver/0280eb3e2c6521d4a0e7e6c36c538e90eeab521e-all.js"
                },
                {
                 "name": null,
                 "type": "css",
                 "url": "/assetserver/22deba3a37ee3c1bc7c8cda847682b42dd2e4661-style.css"
                },
                {
                 "name": null,
                 "type": "css",
                 "url": "/assetserver/6102faddff311acd96119e40e17a7fa3fab3fa5c-main.css"
                }
               ],
               "type": "async_block"
              },
              "observables": {
               "clicks": {
                "id": "ob_99",
                "sync": true,
                "value": 0
               }
              },
              "systemjs_options": null
             },
             "nodeType": "Scope",
             "props": {},
             "type": "node"
            }
           ],
           "instanceArgs": {
            "namespace": "html",
            "tag": "div"
           },
           "nodeType": "DOM",
           "props": {
            "className": "field"
           },
           "type": "node"
          }
         ],
         "instanceArgs": {
          "namespace": "html",
          "tag": "div"
         },
         "nodeType": "DOM",
         "props": {},
         "type": "node"
        },
        {
         "children": [],
         "instanceArgs": {
          "namespace": "html",
          "tag": "div"
         },
         "nodeType": "DOM",
         "props": {
          "style": {
           "width": "3em"
          }
         },
         "type": "node"
        },
        {
         "children": [
          {
           "children": [
            {
             "children": [],
             "instanceArgs": {
              "namespace": "html",
              "tag": "div"
             },
             "nodeType": "DOM",
             "props": {
              "className": "webio-observable",
              "setInnerHtml": "<?xml version=\"1.0\" encoding=\"utf-8\"?>\n<svg xmlns=\"http://www.w3.org/2000/svg\" xmlns:xlink=\"http://www.w3.org/1999/xlink\" width=\"600\" height=\"400\" viewBox=\"0 0 2400 1600\">\n<defs>\n  <clipPath id=\"clip2400\">\n    <rect x=\"0\" y=\"0\" width=\"2000\" height=\"2000\"/>\n  </clipPath>\n</defs>\n<defs>\n  <clipPath id=\"clip2401\">\n    <rect x=\"0\" y=\"0\" width=\"2400\" height=\"1600\"/>\n  </clipPath>\n</defs>\n<polygon clip-path=\"url(#clip2401)\" points=\"\n0,1600 2400,1600 2400,0 0,0 \n  \" fill=\"#ffffff\" fill-rule=\"evenodd\" fill-opacity=\"1\"/>\n<defs>\n  <clipPath id=\"clip2402\">\n    <rect x=\"480\" y=\"0\" width=\"1681\" height=\"1600\"/>\n  </clipPath>\n</defs>\n<polygon clip-path=\"url(#clip2401)\" points=\"\n161.394,1503.47 2321.26,1503.47 2321.26,47.2441 161.394,47.2441 \n  \" fill=\"#ffffff\" fill-rule=\"evenodd\" fill-opacity=\"1\"/>\n<defs>\n  <clipPath id=\"clip2403\">\n    <rect x=\"161\" y=\"47\" width=\"2161\" height=\"1457\"/>\n  </clipPath>\n</defs>\n<polyline clip-path=\"url(#clip2403)\" style=\"stroke:#000000; stroke-width:2; stroke-opacity:0.1; fill:none\" points=\"\n  161.394,1503.47 161.394,47.2441 \n  \"/>\n<polyline clip-path=\"url(#clip2403)\" style=\"stroke:#000000; stroke-width:2; stroke-opacity:0.1; fill:none\" points=\"\n  593.367,1503.47 593.367,47.2441 \n  \"/>\n<polyline clip-path=\"url(#clip2403)\" style=\"stroke:#000000; stroke-width:2; stroke-opacity:0.1; fill:none\" points=\"\n  1025.34,1503.47 1025.34,47.2441 \n  \"/>\n<polyline clip-path=\"url(#clip2403)\" style=\"stroke:#000000; stroke-width:2; stroke-opacity:0.1; fill:none\" points=\"\n  1457.31,1503.47 1457.31,47.2441 \n  \"/>\n<polyline clip-path=\"url(#clip2403)\" style=\"stroke:#000000; stroke-width:2; stroke-opacity:0.1; fill:none\" points=\"\n  1889.29,1503.47 1889.29,47.2441 \n  \"/>\n<polyline clip-path=\"url(#clip2403)\" style=\"stroke:#000000; stroke-width:2; stroke-opacity:0.1; fill:none\" points=\"\n  2321.26,1503.47 2321.26,47.2441 \n  \"/>\n<polyline clip-path=\"url(#clip2403)\" style=\"stroke:#000000; stroke-width:2; stroke-opacity:0.1; fill:none\" points=\"\n  161.394,1503.47 2321.26,1503.47 \n  \"/>\n<polyline clip-path=\"url(#clip2403)\" style=\"stroke:#000000; stroke-width:2; stroke-opacity:0.1; fill:none\" points=\"\n  161.394,1212.23 2321.26,1212.23 \n  \"/>\n<polyline clip-path=\"url(#clip2403)\" style=\"stroke:#000000; stroke-width:2; stroke-opacity:0.1; fill:none\" points=\"\n  161.394,920.982 2321.26,920.982 \n  \"/>\n<polyline clip-path=\"url(#clip2403)\" style=\"stroke:#000000; stroke-width:2; stroke-opacity:0.1; fill:none\" points=\"\n  161.394,629.736 2321.26,629.736 \n  \"/>\n<polyline clip-path=\"url(#clip2403)\" style=\"stroke:#000000; stroke-width:2; stroke-opacity:0.1; fill:none\" points=\"\n  161.394,338.49 2321.26,338.49 \n  \"/>\n<polyline clip-path=\"url(#clip2403)\" style=\"stroke:#000000; stroke-width:2; stroke-opacity:0.1; fill:none\" points=\"\n  161.394,47.2441 2321.26,47.2441 \n  \"/>\n<polyline clip-path=\"url(#clip2401)\" style=\"stroke:#000000; stroke-width:4; stroke-opacity:1; fill:none\" points=\"\n  161.394,1503.47 2321.26,1503.47 \n  \"/>\n<polyline clip-path=\"url(#clip2401)\" style=\"stroke:#000000; stroke-width:4; stroke-opacity:1; fill:none\" points=\"\n  161.394,1503.47 161.394,47.2441 \n  \"/>\n<polyline clip-path=\"url(#clip2401)\" style=\"stroke:#000000; stroke-width:4; stroke-opacity:1; fill:none\" points=\"\n  161.394,1503.47 161.394,1481.63 \n  \"/>\n<polyline clip-path=\"url(#clip2401)\" style=\"stroke:#000000; stroke-width:4; stroke-opacity:1; fill:none\" points=\"\n  593.367,1503.47 593.367,1481.63 \n  \"/>\n<polyline clip-path=\"url(#clip2401)\" style=\"stroke:#000000; stroke-width:4; stroke-opacity:1; fill:none\" points=\"\n  1025.34,1503.47 1025.34,1481.63 \n  \"/>\n<polyline clip-path=\"url(#clip2401)\" style=\"stroke:#000000; stroke-width:4; stroke-opacity:1; fill:none\" points=\"\n  1457.31,1503.47 1457.31,1481.63 \n  \"/>\n<polyline clip-path=\"url(#clip2401)\" style=\"stroke:#000000; stroke-width:4; stroke-opacity:1; fill:none\" points=\"\n  1889.29,1503.47 1889.29,1481.63 \n  \"/>\n<polyline clip-path=\"url(#clip2401)\" style=\"stroke:#000000; stroke-width:4; stroke-opacity:1; fill:none\" points=\"\n  2321.26,1503.47 2321.26,1481.63 \n  \"/>\n<polyline clip-path=\"url(#clip2401)\" style=\"stroke:#000000; stroke-width:4; stroke-opacity:1; fill:none\" points=\"\n  161.394,1503.47 193.792,1503.47 \n  \"/>\n<polyline clip-path=\"url(#clip2401)\" style=\"stroke:#000000; stroke-width:4; stroke-opacity:1; fill:none\" points=\"\n  161.394,1212.23 193.792,1212.23 \n  \"/>\n<polyline clip-path=\"url(#clip2401)\" style=\"stroke:#000000; stroke-width:4; stroke-opacity:1; fill:none\" points=\"\n  161.394,920.982 193.792,920.982 \n  \"/>\n<polyline clip-path=\"url(#clip2401)\" style=\"stroke:#000000; stroke-width:4; stroke-opacity:1; fill:none\" points=\"\n  161.394,629.736 193.792,629.736 \n  \"/>\n<polyline clip-path=\"url(#clip2401)\" style=\"stroke:#000000; stroke-width:4; stroke-opacity:1; fill:none\" points=\"\n  161.394,338.49 193.792,338.49 \n  \"/>\n<polyline clip-path=\"url(#clip2401)\" style=\"stroke:#000000; stroke-width:4; stroke-opacity:1; fill:none\" points=\"\n  161.394,47.2441 193.792,47.2441 \n  \"/>\n<g clip-path=\"url(#clip2401)\">\n<text style=\"fill:#000000; fill-opacity:1; font-family:Arial,Helvetica Neue,Helvetica,sans-serif; font-size:48px; text-anchor:middle;\" transform=\"rotate(0, 161.394, 1557.47)\" x=\"161.394\" y=\"1557.47\">0.0</text>\n</g>\n<g clip-path=\"url(#clip2401)\">\n<text style=\"fill:#000000; fill-opacity:1; font-family:Arial,Helvetica Neue,Helvetica,sans-serif; font-size:48px; text-anchor:middle;\" transform=\"rotate(0, 593.367, 1557.47)\" x=\"593.367\" y=\"1557.47\">0.2</text>\n</g>\n<g clip-path=\"url(#clip2401)\">\n<text style=\"fill:#000000; fill-opacity:1; font-family:Arial,Helvetica Neue,Helvetica,sans-serif; font-size:48px; text-anchor:middle;\" transform=\"rotate(0, 1025.34, 1557.47)\" x=\"1025.34\" y=\"1557.47\">0.4</text>\n</g>\n<g clip-path=\"url(#clip2401)\">\n<text style=\"fill:#000000; fill-opacity:1; font-family:Arial,Helvetica Neue,Helvetica,sans-serif; font-size:48px; text-anchor:middle;\" transform=\"rotate(0, 1457.31, 1557.47)\" x=\"1457.31\" y=\"1557.47\">0.6</text>\n</g>\n<g clip-path=\"url(#clip2401)\">\n<text style=\"fill:#000000; fill-opacity:1; font-family:Arial,Helvetica Neue,Helvetica,sans-serif; font-size:48px; text-anchor:middle;\" transform=\"rotate(0, 1889.29, 1557.47)\" x=\"1889.29\" y=\"1557.47\">0.8</text>\n</g>\n<g clip-path=\"url(#clip2401)\">\n<text style=\"fill:#000000; fill-opacity:1; font-family:Arial,Helvetica Neue,Helvetica,sans-serif; font-size:48px; text-anchor:middle;\" transform=\"rotate(0, 2321.26, 1557.47)\" x=\"2321.26\" y=\"1557.47\">1.0</text>\n</g>\n<g clip-path=\"url(#clip2401)\">\n<text style=\"fill:#000000; fill-opacity:1; font-family:Arial,Helvetica Neue,Helvetica,sans-serif; font-size:48px; text-anchor:end;\" transform=\"rotate(0, 137.394, 1520.97)\" x=\"137.394\" y=\"1520.97\">0.0</text>\n</g>\n<g clip-path=\"url(#clip2401)\">\n<text style=\"fill:#000000; fill-opacity:1; font-family:Arial,Helvetica Neue,Helvetica,sans-serif; font-size:48px; text-anchor:end;\" transform=\"rotate(0, 137.394, 1229.73)\" x=\"137.394\" y=\"1229.73\">0.2</text>\n</g>\n<g clip-path=\"url(#clip2401)\">\n<text style=\"fill:#000000; fill-opacity:1; font-family:Arial,Helvetica Neue,Helvetica,sans-serif; font-size:48px; text-anchor:end;\" transform=\"rotate(0, 137.394, 938.482)\" x=\"137.394\" y=\"938.482\">0.4</text>\n</g>\n<g clip-path=\"url(#clip2401)\">\n<text style=\"fill:#000000; fill-opacity:1; font-family:Arial,Helvetica Neue,Helvetica,sans-serif; font-size:48px; text-anchor:end;\" transform=\"rotate(0, 137.394, 647.236)\" x=\"137.394\" y=\"647.236\">0.6</text>\n</g>\n<g clip-path=\"url(#clip2401)\">\n<text style=\"fill:#000000; fill-opacity:1; font-family:Arial,Helvetica Neue,Helvetica,sans-serif; font-size:48px; text-anchor:end;\" transform=\"rotate(0, 137.394, 355.99)\" x=\"137.394\" y=\"355.99\">0.8</text>\n</g>\n<g clip-path=\"url(#clip2401)\">\n<text style=\"fill:#000000; fill-opacity:1; font-family:Arial,Helvetica Neue,Helvetica,sans-serif; font-size:48px; text-anchor:end;\" transform=\"rotate(0, 137.394, 64.7441)\" x=\"137.394\" y=\"64.7441\">1.0</text>\n</g>\n</svg>\n"
             },
             "type": "node"
            }
           ],
           "instanceArgs": {
            "handlers": {
             "obs-output": [
              "function (value, scope) {\n    scope.setInnerHTML(value);\n}\n"
             ]
            },
            "id": "scope-4f20c0c8-6542-4f43-a536-65668564ee38",
            "imports": {
             "data": [],
             "type": "async_block"
            },
            "observables": {
             "obs-output": {
              "id": "ob_102",
              "sync": false,
              "value": "<?xml version=\"1.0\" encoding=\"utf-8\"?>\n<svg xmlns=\"http://www.w3.org/2000/svg\" xmlns:xlink=\"http://www.w3.org/1999/xlink\" width=\"600\" height=\"400\" viewBox=\"0 0 2400 1600\">\n<defs>\n  <clipPath id=\"clip2400\">\n    <rect x=\"0\" y=\"0\" width=\"2000\" height=\"2000\"/>\n  </clipPath>\n</defs>\n<defs>\n  <clipPath id=\"clip2401\">\n    <rect x=\"0\" y=\"0\" width=\"2400\" height=\"1600\"/>\n  </clipPath>\n</defs>\n<polygon clip-path=\"url(#clip2401)\" points=\"\n0,1600 2400,1600 2400,0 0,0 \n  \" fill=\"#ffffff\" fill-rule=\"evenodd\" fill-opacity=\"1\"/>\n<defs>\n  <clipPath id=\"clip2402\">\n    <rect x=\"480\" y=\"0\" width=\"1681\" height=\"1600\"/>\n  </clipPath>\n</defs>\n<polygon clip-path=\"url(#clip2401)\" points=\"\n161.394,1503.47 2321.26,1503.47 2321.26,47.2441 161.394,47.2441 \n  \" fill=\"#ffffff\" fill-rule=\"evenodd\" fill-opacity=\"1\"/>\n<defs>\n  <clipPath id=\"clip2403\">\n    <rect x=\"161\" y=\"47\" width=\"2161\" height=\"1457\"/>\n  </clipPath>\n</defs>\n<polyline clip-path=\"url(#clip2403)\" style=\"stroke:#000000; stroke-width:2; stroke-opacity:0.1; fill:none\" points=\"\n  161.394,1503.47 161.394,47.2441 \n  \"/>\n<polyline clip-path=\"url(#clip2403)\" style=\"stroke:#000000; stroke-width:2; stroke-opacity:0.1; fill:none\" points=\"\n  593.367,1503.47 593.367,47.2441 \n  \"/>\n<polyline clip-path=\"url(#clip2403)\" style=\"stroke:#000000; stroke-width:2; stroke-opacity:0.1; fill:none\" points=\"\n  1025.34,1503.47 1025.34,47.2441 \n  \"/>\n<polyline clip-path=\"url(#clip2403)\" style=\"stroke:#000000; stroke-width:2; stroke-opacity:0.1; fill:none\" points=\"\n  1457.31,1503.47 1457.31,47.2441 \n  \"/>\n<polyline clip-path=\"url(#clip2403)\" style=\"stroke:#000000; stroke-width:2; stroke-opacity:0.1; fill:none\" points=\"\n  1889.29,1503.47 1889.29,47.2441 \n  \"/>\n<polyline clip-path=\"url(#clip2403)\" style=\"stroke:#000000; stroke-width:2; stroke-opacity:0.1; fill:none\" points=\"\n  2321.26,1503.47 2321.26,47.2441 \n  \"/>\n<polyline clip-path=\"url(#clip2403)\" style=\"stroke:#000000; stroke-width:2; stroke-opacity:0.1; fill:none\" points=\"\n  161.394,1503.47 2321.26,1503.47 \n  \"/>\n<polyline clip-path=\"url(#clip2403)\" style=\"stroke:#000000; stroke-width:2; stroke-opacity:0.1; fill:none\" points=\"\n  161.394,1212.23 2321.26,1212.23 \n  \"/>\n<polyline clip-path=\"url(#clip2403)\" style=\"stroke:#000000; stroke-width:2; stroke-opacity:0.1; fill:none\" points=\"\n  161.394,920.982 2321.26,920.982 \n  \"/>\n<polyline clip-path=\"url(#clip2403)\" style=\"stroke:#000000; stroke-width:2; stroke-opacity:0.1; fill:none\" points=\"\n  161.394,629.736 2321.26,629.736 \n  \"/>\n<polyline clip-path=\"url(#clip2403)\" style=\"stroke:#000000; stroke-width:2; stroke-opacity:0.1; fill:none\" points=\"\n  161.394,338.49 2321.26,338.49 \n  \"/>\n<polyline clip-path=\"url(#clip2403)\" style=\"stroke:#000000; stroke-width:2; stroke-opacity:0.1; fill:none\" points=\"\n  161.394,47.2441 2321.26,47.2441 \n  \"/>\n<polyline clip-path=\"url(#clip2401)\" style=\"stroke:#000000; stroke-width:4; stroke-opacity:1; fill:none\" points=\"\n  161.394,1503.47 2321.26,1503.47 \n  \"/>\n<polyline clip-path=\"url(#clip2401)\" style=\"stroke:#000000; stroke-width:4; stroke-opacity:1; fill:none\" points=\"\n  161.394,1503.47 161.394,47.2441 \n  \"/>\n<polyline clip-path=\"url(#clip2401)\" style=\"stroke:#000000; stroke-width:4; stroke-opacity:1; fill:none\" points=\"\n  161.394,1503.47 161.394,1481.63 \n  \"/>\n<polyline clip-path=\"url(#clip2401)\" style=\"stroke:#000000; stroke-width:4; stroke-opacity:1; fill:none\" points=\"\n  593.367,1503.47 593.367,1481.63 \n  \"/>\n<polyline clip-path=\"url(#clip2401)\" style=\"stroke:#000000; stroke-width:4; stroke-opacity:1; fill:none\" points=\"\n  1025.34,1503.47 1025.34,1481.63 \n  \"/>\n<polyline clip-path=\"url(#clip2401)\" style=\"stroke:#000000; stroke-width:4; stroke-opacity:1; fill:none\" points=\"\n  1457.31,1503.47 1457.31,1481.63 \n  \"/>\n<polyline clip-path=\"url(#clip2401)\" style=\"stroke:#000000; stroke-width:4; stroke-opacity:1; fill:none\" points=\"\n  1889.29,1503.47 1889.29,1481.63 \n  \"/>\n<polyline clip-path=\"url(#clip2401)\" style=\"stroke:#000000; stroke-width:4; stroke-opacity:1; fill:none\" points=\"\n  2321.26,1503.47 2321.26,1481.63 \n  \"/>\n<polyline clip-path=\"url(#clip2401)\" style=\"stroke:#000000; stroke-width:4; stroke-opacity:1; fill:none\" points=\"\n  161.394,1503.47 193.792,1503.47 \n  \"/>\n<polyline clip-path=\"url(#clip2401)\" style=\"stroke:#000000; stroke-width:4; stroke-opacity:1; fill:none\" points=\"\n  161.394,1212.23 193.792,1212.23 \n  \"/>\n<polyline clip-path=\"url(#clip2401)\" style=\"stroke:#000000; stroke-width:4; stroke-opacity:1; fill:none\" points=\"\n  161.394,920.982 193.792,920.982 \n  \"/>\n<polyline clip-path=\"url(#clip2401)\" style=\"stroke:#000000; stroke-width:4; stroke-opacity:1; fill:none\" points=\"\n  161.394,629.736 193.792,629.736 \n  \"/>\n<polyline clip-path=\"url(#clip2401)\" style=\"stroke:#000000; stroke-width:4; stroke-opacity:1; fill:none\" points=\"\n  161.394,338.49 193.792,338.49 \n  \"/>\n<polyline clip-path=\"url(#clip2401)\" style=\"stroke:#000000; stroke-width:4; stroke-opacity:1; fill:none\" points=\"\n  161.394,47.2441 193.792,47.2441 \n  \"/>\n<g clip-path=\"url(#clip2401)\">\n<text style=\"fill:#000000; fill-opacity:1; font-family:Arial,Helvetica Neue,Helvetica,sans-serif; font-size:48px; text-anchor:middle;\" transform=\"rotate(0, 161.394, 1557.47)\" x=\"161.394\" y=\"1557.47\">0.0</text>\n</g>\n<g clip-path=\"url(#clip2401)\">\n<text style=\"fill:#000000; fill-opacity:1; font-family:Arial,Helvetica Neue,Helvetica,sans-serif; font-size:48px; text-anchor:middle;\" transform=\"rotate(0, 593.367, 1557.47)\" x=\"593.367\" y=\"1557.47\">0.2</text>\n</g>\n<g clip-path=\"url(#clip2401)\">\n<text style=\"fill:#000000; fill-opacity:1; font-family:Arial,Helvetica Neue,Helvetica,sans-serif; font-size:48px; text-anchor:middle;\" transform=\"rotate(0, 1025.34, 1557.47)\" x=\"1025.34\" y=\"1557.47\">0.4</text>\n</g>\n<g clip-path=\"url(#clip2401)\">\n<text style=\"fill:#000000; fill-opacity:1; font-family:Arial,Helvetica Neue,Helvetica,sans-serif; font-size:48px; text-anchor:middle;\" transform=\"rotate(0, 1457.31, 1557.47)\" x=\"1457.31\" y=\"1557.47\">0.6</text>\n</g>\n<g clip-path=\"url(#clip2401)\">\n<text style=\"fill:#000000; fill-opacity:1; font-family:Arial,Helvetica Neue,Helvetica,sans-serif; font-size:48px; text-anchor:middle;\" transform=\"rotate(0, 1889.29, 1557.47)\" x=\"1889.29\" y=\"1557.47\">0.8</text>\n</g>\n<g clip-path=\"url(#clip2401)\">\n<text style=\"fill:#000000; fill-opacity:1; font-family:Arial,Helvetica Neue,Helvetica,sans-serif; font-size:48px; text-anchor:middle;\" transform=\"rotate(0, 2321.26, 1557.47)\" x=\"2321.26\" y=\"1557.47\">1.0</text>\n</g>\n<g clip-path=\"url(#clip2401)\">\n<text style=\"fill:#000000; fill-opacity:1; font-family:Arial,Helvetica Neue,Helvetica,sans-serif; font-size:48px; text-anchor:end;\" transform=\"rotate(0, 137.394, 1520.97)\" x=\"137.394\" y=\"1520.97\">0.0</text>\n</g>\n<g clip-path=\"url(#clip2401)\">\n<text style=\"fill:#000000; fill-opacity:1; font-family:Arial,Helvetica Neue,Helvetica,sans-serif; font-size:48px; text-anchor:end;\" transform=\"rotate(0, 137.394, 1229.73)\" x=\"137.394\" y=\"1229.73\">0.2</text>\n</g>\n<g clip-path=\"url(#clip2401)\">\n<text style=\"fill:#000000; fill-opacity:1; font-family:Arial,Helvetica Neue,Helvetica,sans-serif; font-size:48px; text-anchor:end;\" transform=\"rotate(0, 137.394, 938.482)\" x=\"137.394\" y=\"938.482\">0.4</text>\n</g>\n<g clip-path=\"url(#clip2401)\">\n<text style=\"fill:#000000; fill-opacity:1; font-family:Arial,Helvetica Neue,Helvetica,sans-serif; font-size:48px; text-anchor:end;\" transform=\"rotate(0, 137.394, 647.236)\" x=\"137.394\" y=\"647.236\">0.6</text>\n</g>\n<g clip-path=\"url(#clip2401)\">\n<text style=\"fill:#000000; fill-opacity:1; font-family:Arial,Helvetica Neue,Helvetica,sans-serif; font-size:48px; text-anchor:end;\" transform=\"rotate(0, 137.394, 355.99)\" x=\"137.394\" y=\"355.99\">0.8</text>\n</g>\n<g clip-path=\"url(#clip2401)\">\n<text style=\"fill:#000000; fill-opacity:1; font-family:Arial,Helvetica Neue,Helvetica,sans-serif; font-size:48px; text-anchor:end;\" transform=\"rotate(0, 137.394, 64.7441)\" x=\"137.394\" y=\"64.7441\">1.0</text>\n</g>\n</svg>\n"
             }
            },
            "systemjs_options": null
           },
           "nodeType": "Scope",
           "props": {},
           "type": "node"
          },
          {
           "children": [
            {
             "children": [
              {
               "children": [
                {
                 "children": [
                  {
                   "children": [
                    {
                     "children": [
                      "number of bins"
                     ],
                     "instanceArgs": {
                      "namespace": "html",
                      "tag": "label"
                     },
                     "nodeType": "DOM",
                     "props": {
                      "className": "interact ",
                      "style": {
                       "padding": "5px 10px 0px 10px"
                      }
                     },
                     "type": "node"
                    }
                   ],
                   "instanceArgs": {
                    "namespace": "html",
                    "tag": "div"
                   },
                   "nodeType": "DOM",
                   "props": {
                    "attributes": {
                     "style": "text-align:right;width:18%"
                    }
                   },
                   "type": "node"
                  },
                  {
                   "children": [
                    {
                     "children": [],
                     "instanceArgs": {
                      "namespace": "html",
                      "tag": "input"
                     },
                     "nodeType": "DOM",
                     "props": {
                      "attributes": {
                       "data-bind": "numericValue: value, valueUpdate: 'input', event: {change : function () {this.changes(this.changes()+1)}}",
                       "orient": "horizontal",
                       "type": "range"
                      },
                      "className": "slider slider is-fullwidth",
                      "max": 100,
                      "min": 1,
                      "step": 1,
                      "style": {}
                     },
                     "type": "node"
                    }
                   ],
                   "instanceArgs": {
                    "namespace": "html",
                    "tag": "div"
                   },
                   "nodeType": "DOM",
                   "props": {
                    "attributes": {
                     "style": "flex-grow:1; margin: 0 2%"
                    }
                   },
                   "type": "node"
                  },
                  {
                   "children": [
                    {
                     "children": [],
                     "instanceArgs": {
                      "namespace": "html",
                      "tag": "p"
                     },
                     "nodeType": "DOM",
                     "props": {
                      "attributes": {
                       "data-bind": "text: value"
                      }
                     },
                     "type": "node"
                    }
                   ],
                   "instanceArgs": {
                    "namespace": "html",
                    "tag": "div"
                   },
                   "nodeType": "DOM",
                   "props": {
                    "attributes": {
                     "style": "width:18%"
                    }
                   },
                   "type": "node"
                  }
                 ],
                 "instanceArgs": {
                  "namespace": "html",
                  "tag": "div"
                 },
                 "nodeType": "DOM",
                 "props": {
                  "attributes": {
                   "style": "display:flex; justify-content:center; align-items:center;"
                  }
                 },
                 "type": "node"
                }
               ],
               "instanceArgs": {
                "namespace": "html",
                "tag": "div"
               },
               "nodeType": "DOM",
               "props": {
                "attributes": {
                 "data-bind": "style: {display: display}"
                }
               },
               "type": "node"
              }
             ],
             "instanceArgs": {
              "handlers": {
               "_promises": {
                "importsLoaded": [
                 "function (ko, koPunches) {\n    ko.punches.enableAll();\n    ko.bindingHandlers.numericValue = {\n        init : function(element, valueAccessor, allBindings, data, context) {\n            var stringified = ko.observable(ko.unwrap(valueAccessor()));\n            stringified.subscribe(function(value) {\n                var val = parseFloat(value);\n                if (!isNaN(val)) {\n                    valueAccessor()(val);\n                }\n            })\n            valueAccessor().subscribe(function(value) {\n                var str = JSON.stringify(value);\n                if ((str == \"0\") && ([\"-0\", \"-0.\"].indexOf(stringified()) >= 0))\n                     return;\n                 if ([\"null\", \"\"].indexOf(str) >= 0)\n                     return;\n                stringified(str);\n            })\n            ko.applyBindingsToNode(element, { value: stringified, valueUpdate: allBindings.get('valueUpdate')}, context);\n        }\n    };\n    var json_data = JSON.parse(\"{\\\"display\\\":\\\"none\\\",\\\"changes\\\":0,\\\"value\\\":30}\");\n    var self = this;\n    function AppViewModel() {\n        for (var key in json_data) {\n            var el = json_data[key];\n            this[key] = Array.isArray(el) ? ko.observableArray(el) : ko.observable(el);\n        }\n        \n        \n        [this[\"display\"].subscribe((function (val){!(this.valueFromJulia[\"display\"]) ? (_webIOScope.setObservableValue({\"name\":\"display\",\"scope\":\"knockout-component-1ef9d71d-732e-4b29-88b6-47300c743e77\",\"id\":\"ob_88\",\"type\":\"observable\"},val)) : undefined; return this.valueFromJulia[\"display\"]=false}),self),this[\"changes\"].subscribe((function (val){!(this.valueFromJulia[\"changes\"]) ? (_webIOScope.setObservableValue({\"name\":\"changes\",\"scope\":\"knockout-component-1ef9d71d-732e-4b29-88b6-47300c743e77\",\"id\":\"ob_90\",\"type\":\"observable\"},val)) : undefined; return this.valueFromJulia[\"changes\"]=false}),self),this[\"value\"].subscribe((function (val){!(this.valueFromJulia[\"value\"]) ? (_webIOScope.setObservableValue({\"name\":\"value\",\"scope\":\"knockout-component-1ef9d71d-732e-4b29-88b6-47300c743e77\",\"id\":\"ob_89\",\"type\":\"observable\"},val)) : undefined; return this.valueFromJulia[\"value\"]=false}),self)]\n        \n    }\n    self.model = new AppViewModel();\n    self.valueFromJulia = {};\n    for (var key in json_data) {\n        self.valueFromJulia[key] = false;\n    }\n    ko.applyBindings(self.model, self.dom);\n}\n"
                ]
               },
               "changes": [
                "(function (val){return (val!=this.model[\"changes\"]()) ? (this.valueFromJulia[\"changes\"]=true, this.model[\"changes\"](val)) : undefined})"
               ],
               "display": [
                "(function (val){return (val!=this.model[\"display\"]()) ? (this.valueFromJulia[\"display\"]=true, this.model[\"display\"](val)) : undefined})"
               ],
               "value": [
                "(function (val){return (val!=this.model[\"value\"]()) ? (this.valueFromJulia[\"value\"]=true, this.model[\"value\"](val)) : undefined})"
               ]
              },
              "id": "knockout-component-1ef9d71d-732e-4b29-88b6-47300c743e77",
              "imports": {
               "data": [
                {
                 "name": "knockout",
                 "type": "js",
                 "url": "/assetserver/9b03060b0e0572775cc8ef1d907646c9bedfd095-knockout.js"
                },
                {
                 "name": "knockout_punches",
                 "type": "js",
                 "url": "/assetserver/9a5f395137b4d21e9ab2a6b49f9f1703bc03f0d7-knockout_punches.js"
                },
                {
                 "name": null,
                 "type": "js",
                 "url": "/assetserver/0280eb3e2c6521d4a0e7e6c36c538e90eeab521e-all.js"
                },
                {
                 "name": null,
                 "type": "css",
                 "url": "/assetserver/22deba3a37ee3c1bc7c8cda847682b42dd2e4661-style.css"
                },
                {
                 "name": null,
                 "type": "css",
                 "url": "/assetserver/6102faddff311acd96119e40e17a7fa3fab3fa5c-main.css"
                }
               ],
               "type": "async_block"
              },
              "observables": {
               "changes": {
                "id": "ob_90",
                "sync": false,
                "value": 0
               },
               "display": {
                "id": "ob_88",
                "sync": false,
                "value": "none"
               },
               "value": {
                "id": "ob_89",
                "sync": true,
                "value": 30
               }
              },
              "systemjs_options": null
             },
             "nodeType": "Scope",
             "props": {},
             "type": "node"
            }
           ],
           "instanceArgs": {
            "namespace": "html",
            "tag": "div"
           },
           "nodeType": "DOM",
           "props": {
            "className": "field"
           },
           "type": "node"
          }
         ],
         "instanceArgs": {
          "namespace": "html",
          "tag": "div"
         },
         "nodeType": "DOM",
         "props": {},
         "type": "node"
        }
       ],
       "instanceArgs": {
        "namespace": "html",
        "tag": "div"
       },
       "nodeType": "DOM",
       "props": {
        "style": {
         "direction": "row",
         "display": "flex"
        }
       },
       "type": "node"
      },
      "text/html": [
       "<div\n",
       "    class=\"webio-mountpoint\"\n",
       "    data-webio-mountpoint=\"8539971397136508406\"\n",
       ">\n",
       "    <script>\n",
       "    if (window.require && require.defined && require.defined(\"nbextensions/webio/main\")) {\n",
       "        console.log(\"Jupyter WebIO extension detected, not mounting.\");\n",
       "    } else if (window.WebIO) {\n",
       "        WebIO.mount(\n",
       "            document.querySelector('[data-webio-mountpoint=\"8539971397136508406\"]'),\n",
       "            {\"props\":{\"style\":{\"display\":\"flex\",\"direction\":\"row\"}},\"nodeType\":\"DOM\",\"type\":\"node\",\"instanceArgs\":{\"namespace\":\"html\",\"tag\":\"div\"},\"children\":[{\"props\":{},\"nodeType\":\"DOM\",\"type\":\"node\",\"instanceArgs\":{\"namespace\":\"html\",\"tag\":\"div\"},\"children\":[{\"props\":{\"className\":\"field\"},\"nodeType\":\"DOM\",\"type\":\"node\",\"instanceArgs\":{\"namespace\":\"html\",\"tag\":\"div\"},\"children\":[{\"props\":{},\"nodeType\":\"Scope\",\"type\":\"node\",\"instanceArgs\":{\"imports\":{\"data\":[{\"name\":\"knockout\",\"type\":\"js\",\"url\":\"\\/assetserver\\/9b03060b0e0572775cc8ef1d907646c9bedfd095-knockout.js\"},{\"name\":\"knockout_punches\",\"type\":\"js\",\"url\":\"\\/assetserver\\/9a5f395137b4d21e9ab2a6b49f9f1703bc03f0d7-knockout_punches.js\"},{\"name\":null,\"type\":\"js\",\"url\":\"\\/assetserver\\/0280eb3e2c6521d4a0e7e6c36c538e90eeab521e-all.js\"},{\"name\":null,\"type\":\"css\",\"url\":\"\\/assetserver\\/22deba3a37ee3c1bc7c8cda847682b42dd2e4661-style.css\"},{\"name\":null,\"type\":\"css\",\"url\":\"\\/assetserver\\/6102faddff311acd96119e40e17a7fa3fab3fa5c-main.css\"}],\"type\":\"async_block\"},\"id\":\"knockout-component-d185b71c-af7a-4a8c-a8f7-8a2505b2af21\",\"handlers\":{\"_promises\":{\"importsLoaded\":[\"function (ko, koPunches) {\\n    ko.punches.enableAll();\\n    ko.bindingHandlers.numericValue = {\\n        init : function(element, valueAccessor, allBindings, data, context) {\\n            var stringified = ko.observable(ko.unwrap(valueAccessor()));\\n            stringified.subscribe(function(value) {\\n                var val = parseFloat(value);\\n                if (!isNaN(val)) {\\n                    valueAccessor()(val);\\n                }\\n            })\\n            valueAccessor().subscribe(function(value) {\\n                var str = JSON.stringify(value);\\n                if ((str == \\\"0\\\") && ([\\\"-0\\\", \\\"-0.\\\"].indexOf(stringified()) >= 0))\\n                     return;\\n                 if ([\\\"null\\\", \\\"\\\"].indexOf(str) >= 0)\\n                     return;\\n                stringified(str);\\n            })\\n            ko.applyBindingsToNode(element, { value: stringified, valueUpdate: allBindings.get('valueUpdate')}, context);\\n        }\\n    };\\n    var json_data = JSON.parse(\\\"{\\\\\\\"options_js\\\\\\\":[{\\\\\\\"key\\\\\\\":\\\\\\\"First axis\\\\\\\",\\\\\\\"val\\\\\\\":0,\\\\\\\"id\\\\\\\":\\\\\\\"iddBbp1jvV\\\\\\\"},{\\\\\\\"key\\\\\\\":\\\\\\\"SepalLength\\\\\\\",\\\\\\\"val\\\\\\\":1,\\\\\\\"id\\\\\\\":\\\\\\\"id25Fi8v1n\\\\\\\"},{\\\\\\\"key\\\\\\\":\\\\\\\"SepalWidth\\\\\\\",\\\\\\\"val\\\\\\\":2,\\\\\\\"id\\\\\\\":\\\\\\\"idmOfBPbm1\\\\\\\"},{\\\\\\\"key\\\\\\\":\\\\\\\"PetalLength\\\\\\\",\\\\\\\"val\\\\\\\":3,\\\\\\\"id\\\\\\\":\\\\\\\"idpJdhkLtT\\\\\\\"},{\\\\\\\"key\\\\\\\":\\\\\\\"PetalWidth\\\\\\\",\\\\\\\"val\\\\\\\":4,\\\\\\\"id\\\\\\\":\\\\\\\"idjGXu63YU\\\\\\\"},{\\\\\\\"key\\\\\\\":\\\\\\\"Species\\\\\\\",\\\\\\\"val\\\\\\\":5,\\\\\\\"id\\\\\\\":\\\\\\\"idVzORwgvP\\\\\\\"}],\\\\\\\"index\\\\\\\":[]}\\\");\\n    var self = this;\\n    function AppViewModel() {\\n        for (var key in json_data) {\\n            var el = json_data[key];\\n            this[key] = Array.isArray(el) ? ko.observableArray(el) : ko.observable(el);\\n        }\\n        [this[\\\"disablePlaceholder\\\"]=function(option, item) {\\n    ko.applyBindingsToNode(option, {disable: item.val == 0}, item);\\n}\\n]\\n        \\n        [this[\\\"options_js\\\"].subscribe((function (val){!(this.valueFromJulia[\\\"options_js\\\"]) ? (_webIOScope.setObservableValue({\\\"name\\\":\\\"options_js\\\",\\\"scope\\\":\\\"knockout-component-d185b71c-af7a-4a8c-a8f7-8a2505b2af21\\\",\\\"id\\\":\\\"ob_76\\\",\\\"type\\\":\\\"observable\\\"},val)) : undefined; return this.valueFromJulia[\\\"options_js\\\"]=false}),self),this[\\\"index\\\"].subscribe((function (val){!(this.valueFromJulia[\\\"index\\\"]) ? (_webIOScope.setObservableValue({\\\"name\\\":\\\"index\\\",\\\"scope\\\":\\\"knockout-component-d185b71c-af7a-4a8c-a8f7-8a2505b2af21\\\",\\\"id\\\":\\\"ob_75\\\",\\\"type\\\":\\\"observable\\\"},val)) : undefined; return this.valueFromJulia[\\\"index\\\"]=false}),self)]\\n        \\n    }\\n    self.model = new AppViewModel();\\n    self.valueFromJulia = {};\\n    for (var key in json_data) {\\n        self.valueFromJulia[key] = false;\\n    }\\n    ko.applyBindings(self.model, self.dom);\\n}\\n\"]},\"options_js\":[\"(function (val){return (val!=this.model[\\\"options_js\\\"]()) ? (this.valueFromJulia[\\\"options_js\\\"]=true, this.model[\\\"options_js\\\"](val)) : undefined})\"],\"index\":[\"(function (val){return (val!=this.model[\\\"index\\\"]()) ? (this.valueFromJulia[\\\"index\\\"]=true, this.model[\\\"index\\\"](val)) : undefined})\"]},\"systemjs_options\":null,\"observables\":{\"options_js\":{\"sync\":false,\"id\":\"ob_76\",\"value\":[{\"key\":\"First axis\",\"val\":0,\"id\":\"iddBbp1jvV\"},{\"key\":\"SepalLength\",\"val\":1,\"id\":\"id25Fi8v1n\"},{\"key\":\"SepalWidth\",\"val\":2,\"id\":\"idmOfBPbm1\"},{\"key\":\"PetalLength\",\"val\":3,\"id\":\"idpJdhkLtT\"},{\"key\":\"PetalWidth\",\"val\":4,\"id\":\"idjGXu63YU\"},{\"key\":\"Species\",\"val\":5,\"id\":\"idVzORwgvP\"}]},\"index\":{\"sync\":true,\"id\":\"ob_75\",\"value\":[]}}},\"children\":[{\"props\":{\"className\":\"select is-multiple \"},\"nodeType\":\"DOM\",\"type\":\"node\",\"instanceArgs\":{\"namespace\":\"html\",\"tag\":\"div\"},\"children\":[{\"props\":{\"attributes\":{\"multiple\":true,\"data-bind\":\"options : options_js, selectedOptions : index, optionsText: 'key', optionsValue: 'val', valueAllowUnset: true, optionsAfterRender: disablePlaceholder\"}},\"nodeType\":\"DOM\",\"type\":\"node\",\"instanceArgs\":{\"namespace\":\"html\",\"tag\":\"select\"},\"children\":[]}]}]}]},{\"props\":{\"className\":\"field\"},\"nodeType\":\"DOM\",\"type\":\"node\",\"instanceArgs\":{\"namespace\":\"html\",\"tag\":\"div\"},\"children\":[{\"props\":{},\"nodeType\":\"Scope\",\"type\":\"node\",\"instanceArgs\":{\"imports\":{\"data\":[{\"name\":\"knockout\",\"type\":\"js\",\"url\":\"\\/assetserver\\/9b03060b0e0572775cc8ef1d907646c9bedfd095-knockout.js\"},{\"name\":\"knockout_punches\",\"type\":\"js\",\"url\":\"\\/assetserver\\/9a5f395137b4d21e9ab2a6b49f9f1703bc03f0d7-knockout_punches.js\"},{\"name\":null,\"type\":\"js\",\"url\":\"\\/assetserver\\/0280eb3e2c6521d4a0e7e6c36c538e90eeab521e-all.js\"},{\"name\":null,\"type\":\"css\",\"url\":\"\\/assetserver\\/22deba3a37ee3c1bc7c8cda847682b42dd2e4661-style.css\"},{\"name\":null,\"type\":\"css\",\"url\":\"\\/assetserver\\/6102faddff311acd96119e40e17a7fa3fab3fa5c-main.css\"}],\"type\":\"async_block\"},\"id\":\"knockout-component-b6efd8ae-bbcd-4655-9f00-71c157b0ad4c\",\"handlers\":{\"_promises\":{\"importsLoaded\":[\"function (ko, koPunches) {\\n    ko.punches.enableAll();\\n    ko.bindingHandlers.numericValue = {\\n        init : function(element, valueAccessor, allBindings, data, context) {\\n            var stringified = ko.observable(ko.unwrap(valueAccessor()));\\n            stringified.subscribe(function(value) {\\n                var val = parseFloat(value);\\n                if (!isNaN(val)) {\\n                    valueAccessor()(val);\\n                }\\n            })\\n            valueAccessor().subscribe(function(value) {\\n                var str = JSON.stringify(value);\\n                if ((str == \\\"0\\\") && ([\\\"-0\\\", \\\"-0.\\\"].indexOf(stringified()) >= 0))\\n                     return;\\n                 if ([\\\"null\\\", \\\"\\\"].indexOf(str) >= 0)\\n                     return;\\n                stringified(str);\\n            })\\n            ko.applyBindingsToNode(element, { value: stringified, valueUpdate: allBindings.get('valueUpdate')}, context);\\n        }\\n    };\\n    var json_data = JSON.parse(\\\"{\\\\\\\"changes\\\\\\\":0,\\\\\\\"value\\\\\\\":false}\\\");\\n    var self = this;\\n    function AppViewModel() {\\n        for (var key in json_data) {\\n            var el = json_data[key];\\n            this[key] = Array.isArray(el) ? ko.observableArray(el) : ko.observable(el);\\n        }\\n        \\n        \\n        [this[\\\"changes\\\"].subscribe((function (val){!(this.valueFromJulia[\\\"changes\\\"]) ? (_webIOScope.setObservableValue({\\\"name\\\":\\\"changes\\\",\\\"scope\\\":\\\"knockout-component-b6efd8ae-bbcd-4655-9f00-71c157b0ad4c\\\",\\\"id\\\":\\\"ob_82\\\",\\\"type\\\":\\\"observable\\\"},val)) : undefined; return this.valueFromJulia[\\\"changes\\\"]=false}),self),this[\\\"value\\\"].subscribe((function (val){!(this.valueFromJulia[\\\"value\\\"]) ? (_webIOScope.setObservableValue({\\\"name\\\":\\\"value\\\",\\\"scope\\\":\\\"knockout-component-b6efd8ae-bbcd-4655-9f00-71c157b0ad4c\\\",\\\"id\\\":\\\"ob_81\\\",\\\"type\\\":\\\"observable\\\"},val)) : undefined; return this.valueFromJulia[\\\"value\\\"]=false}),self)]\\n        \\n    }\\n    self.model = new AppViewModel();\\n    self.valueFromJulia = {};\\n    for (var key in json_data) {\\n        self.valueFromJulia[key] = false;\\n    }\\n    ko.applyBindings(self.model, self.dom);\\n}\\n\"]},\"changes\":[\"(function (val){return (val!=this.model[\\\"changes\\\"]()) ? (this.valueFromJulia[\\\"changes\\\"]=true, this.model[\\\"changes\\\"](val)) : undefined})\"],\"value\":[\"(function (val){return (val!=this.model[\\\"value\\\"]()) ? (this.valueFromJulia[\\\"value\\\"]=true, this.model[\\\"value\\\"](val)) : undefined})\"]},\"systemjs_options\":null,\"observables\":{\"changes\":{\"sync\":false,\"id\":\"ob_82\",\"value\":0},\"value\":{\"sync\":false,\"id\":\"ob_81\",\"value\":false}}},\"children\":[{\"props\":{\"style\":{\"display\":\"flex\",\"flex-direction\":\"column\"}},\"nodeType\":\"DOM\",\"type\":\"node\",\"instanceArgs\":{\"namespace\":\"html\",\"tag\":\"div\"},\"children\":[{\"props\":{\"className\":\"field\"},\"nodeType\":\"DOM\",\"type\":\"node\",\"instanceArgs\":{\"namespace\":\"html\",\"tag\":\"div\"},\"children\":[{\"props\":{\"attributes\":{\"type\":\"checkbox\",\"data-bind\":\"checked: value, valueUpdate: 'change', event: {change : function () {this.changes(this.changes()+1)}}\"},\"id\":\"##373\",\"className\":\"switch \",\"style\":{}},\"nodeType\":\"DOM\",\"type\":\"node\",\"instanceArgs\":{\"namespace\":\"html\",\"tag\":\"input\"},\"children\":[]},{\"props\":{\"attributes\":{\"className\":\"\",\"for\":\"##373\"}},\"nodeType\":\"DOM\",\"type\":\"node\",\"instanceArgs\":{\"namespace\":\"html\",\"tag\":\"label\"},\"children\":[\"Second axis\"]}]},{\"props\":{\"attributes\":{\"data-bind\":\"visible: value\"}},\"nodeType\":\"DOM\",\"type\":\"node\",\"instanceArgs\":{\"namespace\":\"html\",\"tag\":\"div\"},\"children\":[{\"props\":{\"className\":\"field\"},\"nodeType\":\"DOM\",\"type\":\"node\",\"instanceArgs\":{\"namespace\":\"html\",\"tag\":\"div\"},\"children\":[{\"props\":{},\"nodeType\":\"Scope\",\"type\":\"node\",\"instanceArgs\":{\"imports\":{\"data\":[{\"name\":\"knockout\",\"type\":\"js\",\"url\":\"\\/assetserver\\/9b03060b0e0572775cc8ef1d907646c9bedfd095-knockout.js\"},{\"name\":\"knockout_punches\",\"type\":\"js\",\"url\":\"\\/assetserver\\/9a5f395137b4d21e9ab2a6b49f9f1703bc03f0d7-knockout_punches.js\"},{\"name\":null,\"type\":\"js\",\"url\":\"\\/assetserver\\/0280eb3e2c6521d4a0e7e6c36c538e90eeab521e-all.js\"},{\"name\":null,\"type\":\"css\",\"url\":\"\\/assetserver\\/22deba3a37ee3c1bc7c8cda847682b42dd2e4661-style.css\"},{\"name\":null,\"type\":\"css\",\"url\":\"\\/assetserver\\/6102faddff311acd96119e40e17a7fa3fab3fa5c-main.css\"}],\"type\":\"async_block\"},\"id\":\"knockout-component-c26000ec-ad0b-48ae-a4f7-426c975ed57f\",\"handlers\":{\"_promises\":{\"importsLoaded\":[\"function (ko, koPunches) {\\n    ko.punches.enableAll();\\n    ko.bindingHandlers.numericValue = {\\n        init : function(element, valueAccessor, allBindings, data, context) {\\n            var stringified = ko.observable(ko.unwrap(valueAccessor()));\\n            stringified.subscribe(function(value) {\\n                var val = parseFloat(value);\\n                if (!isNaN(val)) {\\n                    valueAccessor()(val);\\n                }\\n            })\\n            valueAccessor().subscribe(function(value) {\\n                var str = JSON.stringify(value);\\n                if ((str == \\\"0\\\") && ([\\\"-0\\\", \\\"-0.\\\"].indexOf(stringified()) >= 0))\\n                     return;\\n                 if ([\\\"null\\\", \\\"\\\"].indexOf(str) >= 0)\\n                     return;\\n                stringified(str);\\n            })\\n            ko.applyBindingsToNode(element, { value: stringified, valueUpdate: allBindings.get('valueUpdate')}, context);\\n        }\\n    };\\n    var json_data = JSON.parse(\\\"{\\\\\\\"options_js\\\\\\\":[{\\\\\\\"key\\\\\\\":\\\\\\\"Second axis\\\\\\\",\\\\\\\"val\\\\\\\":0,\\\\\\\"id\\\\\\\":\\\\\\\"id3VVBObgH\\\\\\\"},{\\\\\\\"key\\\\\\\":\\\\\\\"SepalLength\\\\\\\",\\\\\\\"val\\\\\\\":1,\\\\\\\"id\\\\\\\":\\\\\\\"idQB83Uii5\\\\\\\"},{\\\\\\\"key\\\\\\\":\\\\\\\"SepalWidth\\\\\\\",\\\\\\\"val\\\\\\\":2,\\\\\\\"id\\\\\\\":\\\\\\\"id9MzL3BW9\\\\\\\"},{\\\\\\\"key\\\\\\\":\\\\\\\"PetalLength\\\\\\\",\\\\\\\"val\\\\\\\":3,\\\\\\\"id\\\\\\\":\\\\\\\"idfXgiDHXs\\\\\\\"},{\\\\\\\"key\\\\\\\":\\\\\\\"PetalWidth\\\\\\\",\\\\\\\"val\\\\\\\":4,\\\\\\\"id\\\\\\\":\\\\\\\"idLLyjg9ai\\\\\\\"},{\\\\\\\"key\\\\\\\":\\\\\\\"Species\\\\\\\",\\\\\\\"val\\\\\\\":5,\\\\\\\"id\\\\\\\":\\\\\\\"idVw6dWb4t\\\\\\\"}],\\\\\\\"index\\\\\\\":[]}\\\");\\n    var self = this;\\n    function AppViewModel() {\\n        for (var key in json_data) {\\n            var el = json_data[key];\\n            this[key] = Array.isArray(el) ? ko.observableArray(el) : ko.observable(el);\\n        }\\n        [this[\\\"disablePlaceholder\\\"]=function(option, item) {\\n    ko.applyBindingsToNode(option, {disable: item.val == 0}, item);\\n}\\n]\\n        \\n        [this[\\\"options_js\\\"].subscribe((function (val){!(this.valueFromJulia[\\\"options_js\\\"]) ? (_webIOScope.setObservableValue({\\\"name\\\":\\\"options_js\\\",\\\"scope\\\":\\\"knockout-component-c26000ec-ad0b-48ae-a4f7-426c975ed57f\\\",\\\"id\\\":\\\"ob_80\\\",\\\"type\\\":\\\"observable\\\"},val)) : undefined; return this.valueFromJulia[\\\"options_js\\\"]=false}),self),this[\\\"index\\\"].subscribe((function (val){!(this.valueFromJulia[\\\"index\\\"]) ? (_webIOScope.setObservableValue({\\\"name\\\":\\\"index\\\",\\\"scope\\\":\\\"knockout-component-c26000ec-ad0b-48ae-a4f7-426c975ed57f\\\",\\\"id\\\":\\\"ob_79\\\",\\\"type\\\":\\\"observable\\\"},val)) : undefined; return this.valueFromJulia[\\\"index\\\"]=false}),self)]\\n        \\n    }\\n    self.model = new AppViewModel();\\n    self.valueFromJulia = {};\\n    for (var key in json_data) {\\n        self.valueFromJulia[key] = false;\\n    }\\n    ko.applyBindings(self.model, self.dom);\\n}\\n\"]},\"options_js\":[\"(function (val){return (val!=this.model[\\\"options_js\\\"]()) ? (this.valueFromJulia[\\\"options_js\\\"]=true, this.model[\\\"options_js\\\"](val)) : undefined})\"],\"index\":[\"(function (val){return (val!=this.model[\\\"index\\\"]()) ? (this.valueFromJulia[\\\"index\\\"]=true, this.model[\\\"index\\\"](val)) : undefined})\"]},\"systemjs_options\":null,\"observables\":{\"options_js\":{\"sync\":false,\"id\":\"ob_80\",\"value\":[{\"key\":\"Second axis\",\"val\":0,\"id\":\"id3VVBObgH\"},{\"key\":\"SepalLength\",\"val\":1,\"id\":\"idQB83Uii5\"},{\"key\":\"SepalWidth\",\"val\":2,\"id\":\"id9MzL3BW9\"},{\"key\":\"PetalLength\",\"val\":3,\"id\":\"idfXgiDHXs\"},{\"key\":\"PetalWidth\",\"val\":4,\"id\":\"idLLyjg9ai\"},{\"key\":\"Species\",\"val\":5,\"id\":\"idVw6dWb4t\"}]},\"index\":{\"sync\":true,\"id\":\"ob_79\",\"value\":[]}}},\"children\":[{\"props\":{\"className\":\"select is-multiple \"},\"nodeType\":\"DOM\",\"type\":\"node\",\"instanceArgs\":{\"namespace\":\"html\",\"tag\":\"div\"},\"children\":[{\"props\":{\"attributes\":{\"multiple\":true,\"data-bind\":\"options : options_js, selectedOptions : index, optionsText: 'key', optionsValue: 'val', valueAllowUnset: true, optionsAfterRender: disablePlaceholder\"}},\"nodeType\":\"DOM\",\"type\":\"node\",\"instanceArgs\":{\"namespace\":\"html\",\"tag\":\"select\"},\"children\":[]}]}]}]}]}]}]}]},{\"props\":{\"className\":\"field\"},\"nodeType\":\"DOM\",\"type\":\"node\",\"instanceArgs\":{\"namespace\":\"html\",\"tag\":\"div\"},\"children\":[{\"props\":{},\"nodeType\":\"Scope\",\"type\":\"node\",\"instanceArgs\":{\"imports\":{\"data\":[{\"name\":\"knockout\",\"type\":\"js\",\"url\":\"\\/assetserver\\/9b03060b0e0572775cc8ef1d907646c9bedfd095-knockout.js\"},{\"name\":\"knockout_punches\",\"type\":\"js\",\"url\":\"\\/assetserver\\/9a5f395137b4d21e9ab2a6b49f9f1703bc03f0d7-knockout_punches.js\"},{\"name\":null,\"type\":\"js\",\"url\":\"\\/assetserver\\/0280eb3e2c6521d4a0e7e6c36c538e90eeab521e-all.js\"},{\"name\":null,\"type\":\"css\",\"url\":\"\\/assetserver\\/22deba3a37ee3c1bc7c8cda847682b42dd2e4661-style.css\"},{\"name\":null,\"type\":\"css\",\"url\":\"\\/assetserver\\/6102faddff311acd96119e40e17a7fa3fab3fa5c-main.css\"}],\"type\":\"async_block\"},\"id\":\"knockout-component-79042f24-c5c5-4347-9400-46bfc01c866b\",\"handlers\":{\"_promises\":{\"importsLoaded\":[\"function (ko, koPunches) {\\n    ko.punches.enableAll();\\n    ko.bindingHandlers.numericValue = {\\n        init : function(element, valueAccessor, allBindings, data, context) {\\n            var stringified = ko.observable(ko.unwrap(valueAccessor()));\\n            stringified.subscribe(function(value) {\\n                var val = parseFloat(value);\\n                if (!isNaN(val)) {\\n                    valueAccessor()(val);\\n                }\\n            })\\n            valueAccessor().subscribe(function(value) {\\n                var str = JSON.stringify(value);\\n                if ((str == \\\"0\\\") && ([\\\"-0\\\", \\\"-0.\\\"].indexOf(stringified()) >= 0))\\n                     return;\\n                 if ([\\\"null\\\", \\\"\\\"].indexOf(str) >= 0)\\n                     return;\\n                stringified(str);\\n            })\\n            ko.applyBindingsToNode(element, { value: stringified, valueUpdate: allBindings.get('valueUpdate')}, context);\\n        }\\n    };\\n    var json_data = JSON.parse(\\\"{\\\\\\\"options_js\\\\\\\":[{\\\\\\\"key\\\\\\\":\\\\\\\"Plot type\\\\\\\",\\\\\\\"val\\\\\\\":0,\\\\\\\"id\\\\\\\":\\\\\\\"idKsarUlp4\\\\\\\"},{\\\\\\\"key\\\\\\\":\\\\\\\"line\\\\\\\",\\\\\\\"val\\\\\\\":1,\\\\\\\"id\\\\\\\":\\\\\\\"idXxkBLXMu\\\\\\\"},{\\\\\\\"key\\\\\\\":\\\\\\\"scatter\\\\\\\",\\\\\\\"val\\\\\\\":2,\\\\\\\"id\\\\\\\":\\\\\\\"idC7p4NgVi\\\\\\\"},{\\\\\\\"key\\\\\\\":\\\\\\\"bar\\\\\\\",\\\\\\\"val\\\\\\\":3,\\\\\\\"id\\\\\\\":\\\\\\\"idWAW6SeXq\\\\\\\"},{\\\\\\\"key\\\\\\\":\\\\\\\"boxplot\\\\\\\",\\\\\\\"val\\\\\\\":4,\\\\\\\"id\\\\\\\":\\\\\\\"idpw27663k\\\\\\\"},{\\\\\\\"key\\\\\\\":\\\\\\\"corrplot\\\\\\\",\\\\\\\"val\\\\\\\":5,\\\\\\\"id\\\\\\\":\\\\\\\"id2ARVJDXE\\\\\\\"},{\\\\\\\"key\\\\\\\":\\\\\\\"cornerplot\\\\\\\",\\\\\\\"val\\\\\\\":6,\\\\\\\"id\\\\\\\":\\\\\\\"idX9lxWFOC\\\\\\\"},{\\\\\\\"key\\\\\\\":\\\\\\\"density\\\\\\\",\\\\\\\"val\\\\\\\":7,\\\\\\\"id\\\\\\\":\\\\\\\"idet4Hs9nt\\\\\\\"},{\\\\\\\"key\\\\\\\":\\\\\\\"histogram\\\\\\\",\\\\\\\"val\\\\\\\":8,\\\\\\\"id\\\\\\\":\\\\\\\"idt0q3FOUs\\\\\\\"},{\\\\\\\"key\\\\\\\":\\\\\\\"marginalhist\\\\\\\",\\\\\\\"val\\\\\\\":9,\\\\\\\"id\\\\\\\":\\\\\\\"idQNSzS9Mb\\\\\\\"},{\\\\\\\"key\\\\\\\":\\\\\\\"violin\\\\\\\",\\\\\\\"val\\\\\\\":10,\\\\\\\"id\\\\\\\":\\\\\\\"idLqSrMTYY\\\\\\\"}],\\\\\\\"index\\\\\\\":1}\\\");\\n    var self = this;\\n    function AppViewModel() {\\n        for (var key in json_data) {\\n            var el = json_data[key];\\n            this[key] = Array.isArray(el) ? ko.observableArray(el) : ko.observable(el);\\n        }\\n        [this[\\\"disablePlaceholder\\\"]=function(option, item) {\\n    ko.applyBindingsToNode(option, {disable: item.val == 0}, item);\\n}\\n]\\n        \\n        [this[\\\"options_js\\\"].subscribe((function (val){!(this.valueFromJulia[\\\"options_js\\\"]) ? (_webIOScope.setObservableValue({\\\"name\\\":\\\"options_js\\\",\\\"scope\\\":\\\"knockout-component-79042f24-c5c5-4347-9400-46bfc01c866b\\\",\\\"id\\\":\\\"ob_87\\\",\\\"type\\\":\\\"observable\\\"},val)) : undefined; return this.valueFromJulia[\\\"options_js\\\"]=false}),self),this[\\\"index\\\"].subscribe((function (val){!(this.valueFromJulia[\\\"index\\\"]) ? (_webIOScope.setObservableValue({\\\"name\\\":\\\"index\\\",\\\"scope\\\":\\\"knockout-component-79042f24-c5c5-4347-9400-46bfc01c866b\\\",\\\"id\\\":\\\"ob_86\\\",\\\"type\\\":\\\"observable\\\"},val)) : undefined; return this.valueFromJulia[\\\"index\\\"]=false}),self)]\\n        \\n    }\\n    self.model = new AppViewModel();\\n    self.valueFromJulia = {};\\n    for (var key in json_data) {\\n        self.valueFromJulia[key] = false;\\n    }\\n    ko.applyBindings(self.model, self.dom);\\n}\\n\"]},\"options_js\":[\"(function (val){return (val!=this.model[\\\"options_js\\\"]()) ? (this.valueFromJulia[\\\"options_js\\\"]=true, this.model[\\\"options_js\\\"](val)) : undefined})\"],\"index\":[\"(function (val){return (val!=this.model[\\\"index\\\"]()) ? (this.valueFromJulia[\\\"index\\\"]=true, this.model[\\\"index\\\"](val)) : undefined})\"]},\"systemjs_options\":null,\"observables\":{\"options_js\":{\"sync\":false,\"id\":\"ob_87\",\"value\":[{\"key\":\"Plot type\",\"val\":0,\"id\":\"idKsarUlp4\"},{\"key\":\"line\",\"val\":1,\"id\":\"idXxkBLXMu\"},{\"key\":\"scatter\",\"val\":2,\"id\":\"idC7p4NgVi\"},{\"key\":\"bar\",\"val\":3,\"id\":\"idWAW6SeXq\"},{\"key\":\"boxplot\",\"val\":4,\"id\":\"idpw27663k\"},{\"key\":\"corrplot\",\"val\":5,\"id\":\"id2ARVJDXE\"},{\"key\":\"cornerplot\",\"val\":6,\"id\":\"idX9lxWFOC\"},{\"key\":\"density\",\"val\":7,\"id\":\"idet4Hs9nt\"},{\"key\":\"histogram\",\"val\":8,\"id\":\"idt0q3FOUs\"},{\"key\":\"marginalhist\",\"val\":9,\"id\":\"idQNSzS9Mb\"},{\"key\":\"violin\",\"val\":10,\"id\":\"idLqSrMTYY\"}]},\"index\":{\"sync\":true,\"id\":\"ob_86\",\"value\":1}}},\"children\":[{\"props\":{\"className\":\"select \"},\"nodeType\":\"DOM\",\"type\":\"node\",\"instanceArgs\":{\"namespace\":\"html\",\"tag\":\"div\"},\"children\":[{\"props\":{\"attributes\":{\"data-bind\":\"options : options_js, value : index, optionsText: 'key', optionsValue: 'val', valueAllowUnset: true, optionsAfterRender: disablePlaceholder\"}},\"nodeType\":\"DOM\",\"type\":\"node\",\"instanceArgs\":{\"namespace\":\"html\",\"tag\":\"select\"},\"children\":[]}]}]}]},{\"props\":{\"className\":\"field\"},\"nodeType\":\"DOM\",\"type\":\"node\",\"instanceArgs\":{\"namespace\":\"html\",\"tag\":\"div\"},\"children\":[{\"props\":{},\"nodeType\":\"Scope\",\"type\":\"node\",\"instanceArgs\":{\"imports\":{\"data\":[{\"name\":\"knockout\",\"type\":\"js\",\"url\":\"\\/assetserver\\/9b03060b0e0572775cc8ef1d907646c9bedfd095-knockout.js\"},{\"name\":\"knockout_punches\",\"type\":\"js\",\"url\":\"\\/assetserver\\/9a5f395137b4d21e9ab2a6b49f9f1703bc03f0d7-knockout_punches.js\"},{\"name\":null,\"type\":\"js\",\"url\":\"\\/assetserver\\/0280eb3e2c6521d4a0e7e6c36c538e90eeab521e-all.js\"},{\"name\":null,\"type\":\"css\",\"url\":\"\\/assetserver\\/22deba3a37ee3c1bc7c8cda847682b42dd2e4661-style.css\"},{\"name\":null,\"type\":\"css\",\"url\":\"\\/assetserver\\/6102faddff311acd96119e40e17a7fa3fab3fa5c-main.css\"}],\"type\":\"async_block\"},\"id\":\"knockout-component-46891989-e246-469d-ab84-7c7b96d5400f\",\"handlers\":{\"_promises\":{\"importsLoaded\":[\"function (ko, koPunches) {\\n    ko.punches.enableAll();\\n    ko.bindingHandlers.numericValue = {\\n        init : function(element, valueAccessor, allBindings, data, context) {\\n            var stringified = ko.observable(ko.unwrap(valueAccessor()));\\n            stringified.subscribe(function(value) {\\n                var val = parseFloat(value);\\n                if (!isNaN(val)) {\\n                    valueAccessor()(val);\\n                }\\n            })\\n            valueAccessor().subscribe(function(value) {\\n                var str = JSON.stringify(value);\\n                if ((str == \\\"0\\\") && ([\\\"-0\\\", \\\"-0.\\\"].indexOf(stringified()) >= 0))\\n                     return;\\n                 if ([\\\"null\\\", \\\"\\\"].indexOf(str) >= 0)\\n                     return;\\n                stringified(str);\\n            })\\n            ko.applyBindingsToNode(element, { value: stringified, valueUpdate: allBindings.get('valueUpdate')}, context);\\n        }\\n    };\\n    var json_data = JSON.parse(\\\"{\\\\\\\"changes\\\\\\\":0,\\\\\\\"value\\\\\\\":false}\\\");\\n    var self = this;\\n    function AppViewModel() {\\n        for (var key in json_data) {\\n            var el = json_data[key];\\n            this[key] = Array.isArray(el) ? ko.observableArray(el) : ko.observable(el);\\n        }\\n        \\n        \\n        [this[\\\"changes\\\"].subscribe((function (val){!(this.valueFromJulia[\\\"changes\\\"]) ? (_webIOScope.setObservableValue({\\\"name\\\":\\\"changes\\\",\\\"scope\\\":\\\"knockout-component-46891989-e246-469d-ab84-7c7b96d5400f\\\",\\\"id\\\":\\\"ob_98\\\",\\\"type\\\":\\\"observable\\\"},val)) : undefined; return this.valueFromJulia[\\\"changes\\\"]=false}),self),this[\\\"value\\\"].subscribe((function (val){!(this.valueFromJulia[\\\"value\\\"]) ? (_webIOScope.setObservableValue({\\\"name\\\":\\\"value\\\",\\\"scope\\\":\\\"knockout-component-46891989-e246-469d-ab84-7c7b96d5400f\\\",\\\"id\\\":\\\"ob_97\\\",\\\"type\\\":\\\"observable\\\"},val)) : undefined; return this.valueFromJulia[\\\"value\\\"]=false}),self)]\\n        \\n    }\\n    self.model = new AppViewModel();\\n    self.valueFromJulia = {};\\n    for (var key in json_data) {\\n        self.valueFromJulia[key] = false;\\n    }\\n    ko.applyBindings(self.model, self.dom);\\n}\\n\"]},\"changes\":[\"(function (val){return (val!=this.model[\\\"changes\\\"]()) ? (this.valueFromJulia[\\\"changes\\\"]=true, this.model[\\\"changes\\\"](val)) : undefined})\"],\"value\":[\"(function (val){return (val!=this.model[\\\"value\\\"]()) ? (this.valueFromJulia[\\\"value\\\"]=true, this.model[\\\"value\\\"](val)) : undefined})\"]},\"systemjs_options\":null,\"observables\":{\"changes\":{\"sync\":false,\"id\":\"ob_98\",\"value\":0},\"value\":{\"sync\":false,\"id\":\"ob_97\",\"value\":false}}},\"children\":[{\"props\":{\"style\":{\"display\":\"flex\",\"flex-direction\":\"column\"}},\"nodeType\":\"DOM\",\"type\":\"node\",\"instanceArgs\":{\"namespace\":\"html\",\"tag\":\"div\"},\"children\":[{\"props\":{\"className\":\"field\"},\"nodeType\":\"DOM\",\"type\":\"node\",\"instanceArgs\":{\"namespace\":\"html\",\"tag\":\"div\"},\"children\":[{\"props\":{\"attributes\":{\"type\":\"checkbox\",\"data-bind\":\"checked: value, valueUpdate: 'change', event: {change : function () {this.changes(this.changes()+1)}}\"},\"id\":\"##374\",\"className\":\"switch \",\"style\":{}},\"nodeType\":\"DOM\",\"type\":\"node\",\"instanceArgs\":{\"namespace\":\"html\",\"tag\":\"input\"},\"children\":[]},{\"props\":{\"attributes\":{\"className\":\"\",\"for\":\"##374\"}},\"nodeType\":\"DOM\",\"type\":\"node\",\"instanceArgs\":{\"namespace\":\"html\",\"tag\":\"label\"},\"children\":[\"Split data\"]}]},{\"props\":{\"attributes\":{\"data-bind\":\"visible: value\"}},\"nodeType\":\"DOM\",\"type\":\"node\",\"instanceArgs\":{\"namespace\":\"html\",\"tag\":\"div\"},\"children\":[{\"props\":{\"className\":\"field\"},\"nodeType\":\"DOM\",\"type\":\"node\",\"instanceArgs\":{\"namespace\":\"html\",\"tag\":\"div\"},\"children\":[{\"props\":{},\"nodeType\":\"Scope\",\"type\":\"node\",\"instanceArgs\":{\"imports\":{\"data\":[{\"name\":\"knockout\",\"type\":\"js\",\"url\":\"\\/assetserver\\/9b03060b0e0572775cc8ef1d907646c9bedfd095-knockout.js\"},{\"name\":\"knockout_punches\",\"type\":\"js\",\"url\":\"\\/assetserver\\/9a5f395137b4d21e9ab2a6b49f9f1703bc03f0d7-knockout_punches.js\"},{\"name\":null,\"type\":\"js\",\"url\":\"\\/assetserver\\/0280eb3e2c6521d4a0e7e6c36c538e90eeab521e-all.js\"},{\"name\":null,\"type\":\"css\",\"url\":\"\\/assetserver\\/22deba3a37ee3c1bc7c8cda847682b42dd2e4661-style.css\"},{\"name\":null,\"type\":\"css\",\"url\":\"\\/assetserver\\/6102faddff311acd96119e40e17a7fa3fab3fa5c-main.css\"}],\"type\":\"async_block\"},\"id\":\"knockout-component-1188f3b5-5160-4b8b-852f-256a0cec9967\",\"handlers\":{\"_promises\":{\"importsLoaded\":[\"function (ko, koPunches) {\\n    ko.punches.enableAll();\\n    ko.bindingHandlers.numericValue = {\\n        init : function(element, valueAccessor, allBindings, data, context) {\\n            var stringified = ko.observable(ko.unwrap(valueAccessor()));\\n            stringified.subscribe(function(value) {\\n                var val = parseFloat(value);\\n                if (!isNaN(val)) {\\n                    valueAccessor()(val);\\n                }\\n            })\\n            valueAccessor().subscribe(function(value) {\\n                var str = JSON.stringify(value);\\n                if ((str == \\\"0\\\") && ([\\\"-0\\\", \\\"-0.\\\"].indexOf(stringified()) >= 0))\\n                     return;\\n                 if ([\\\"null\\\", \\\"\\\"].indexOf(str) >= 0)\\n                     return;\\n                stringified(str);\\n            })\\n            ko.applyBindingsToNode(element, { value: stringified, valueUpdate: allBindings.get('valueUpdate')}, context);\\n        }\\n    };\\n    var json_data = JSON.parse(\\\"{\\\\\\\"options_js\\\\\\\":[{\\\\\\\"key\\\\\\\":\\\\\\\"Group by\\\\\\\",\\\\\\\"val\\\\\\\":0,\\\\\\\"id\\\\\\\":\\\\\\\"id7U1ylb4z\\\\\\\"},{\\\\\\\"key\\\\\\\":\\\\\\\"SepalLength\\\\\\\",\\\\\\\"val\\\\\\\":1,\\\\\\\"id\\\\\\\":\\\\\\\"idtqPGOzwo\\\\\\\"},{\\\\\\\"key\\\\\\\":\\\\\\\"SepalWidth\\\\\\\",\\\\\\\"val\\\\\\\":2,\\\\\\\"id\\\\\\\":\\\\\\\"idrjmj7KHG\\\\\\\"},{\\\\\\\"key\\\\\\\":\\\\\\\"PetalLength\\\\\\\",\\\\\\\"val\\\\\\\":3,\\\\\\\"id\\\\\\\":\\\\\\\"idA5ivuCja\\\\\\\"},{\\\\\\\"key\\\\\\\":\\\\\\\"PetalWidth\\\\\\\",\\\\\\\"val\\\\\\\":4,\\\\\\\"id\\\\\\\":\\\\\\\"idjPg2eArH\\\\\\\"},{\\\\\\\"key\\\\\\\":\\\\\\\"Species\\\\\\\",\\\\\\\"val\\\\\\\":5,\\\\\\\"id\\\\\\\":\\\\\\\"idznWRgy7K\\\\\\\"}],\\\\\\\"index\\\\\\\":[]}\\\");\\n    var self = this;\\n    function AppViewModel() {\\n        for (var key in json_data) {\\n            var el = json_data[key];\\n            this[key] = Array.isArray(el) ? ko.observableArray(el) : ko.observable(el);\\n        }\\n        [this[\\\"disablePlaceholder\\\"]=function(option, item) {\\n    ko.applyBindingsToNode(option, {disable: item.val == 0}, item);\\n}\\n]\\n        \\n        [this[\\\"options_js\\\"].subscribe((function (val){!(this.valueFromJulia[\\\"options_js\\\"]) ? (_webIOScope.setObservableValue({\\\"name\\\":\\\"options_js\\\",\\\"scope\\\":\\\"knockout-component-1188f3b5-5160-4b8b-852f-256a0cec9967\\\",\\\"id\\\":\\\"ob_96\\\",\\\"type\\\":\\\"observable\\\"},val)) : undefined; return this.valueFromJulia[\\\"options_js\\\"]=false}),self),this[\\\"index\\\"].subscribe((function (val){!(this.valueFromJulia[\\\"index\\\"]) ? (_webIOScope.setObservableValue({\\\"name\\\":\\\"index\\\",\\\"scope\\\":\\\"knockout-component-1188f3b5-5160-4b8b-852f-256a0cec9967\\\",\\\"id\\\":\\\"ob_95\\\",\\\"type\\\":\\\"observable\\\"},val)) : undefined; return this.valueFromJulia[\\\"index\\\"]=false}),self)]\\n        \\n    }\\n    self.model = new AppViewModel();\\n    self.valueFromJulia = {};\\n    for (var key in json_data) {\\n        self.valueFromJulia[key] = false;\\n    }\\n    ko.applyBindings(self.model, self.dom);\\n}\\n\"]},\"options_js\":[\"(function (val){return (val!=this.model[\\\"options_js\\\"]()) ? (this.valueFromJulia[\\\"options_js\\\"]=true, this.model[\\\"options_js\\\"](val)) : undefined})\"],\"index\":[\"(function (val){return (val!=this.model[\\\"index\\\"]()) ? (this.valueFromJulia[\\\"index\\\"]=true, this.model[\\\"index\\\"](val)) : undefined})\"]},\"systemjs_options\":null,\"observables\":{\"options_js\":{\"sync\":false,\"id\":\"ob_96\",\"value\":[{\"key\":\"Group by\",\"val\":0,\"id\":\"id7U1ylb4z\"},{\"key\":\"SepalLength\",\"val\":1,\"id\":\"idtqPGOzwo\"},{\"key\":\"SepalWidth\",\"val\":2,\"id\":\"idrjmj7KHG\"},{\"key\":\"PetalLength\",\"val\":3,\"id\":\"idA5ivuCja\"},{\"key\":\"PetalWidth\",\"val\":4,\"id\":\"idjPg2eArH\"},{\"key\":\"Species\",\"val\":5,\"id\":\"idznWRgy7K\"}]},\"index\":{\"sync\":true,\"id\":\"ob_95\",\"value\":[]}}},\"children\":[{\"props\":{\"className\":\"select is-multiple \"},\"nodeType\":\"DOM\",\"type\":\"node\",\"instanceArgs\":{\"namespace\":\"html\",\"tag\":\"div\"},\"children\":[{\"props\":{\"attributes\":{\"multiple\":true,\"data-bind\":\"options : options_js, selectedOptions : index, optionsText: 'key', optionsValue: 'val', valueAllowUnset: true, optionsAfterRender: disablePlaceholder\"}},\"nodeType\":\"DOM\",\"type\":\"node\",\"instanceArgs\":{\"namespace\":\"html\",\"tag\":\"select\"},\"children\":[]}]}]}]}]}]}]}]},{\"props\":{\"className\":\"field\"},\"nodeType\":\"DOM\",\"type\":\"node\",\"instanceArgs\":{\"namespace\":\"html\",\"tag\":\"div\"},\"children\":[{\"props\":{},\"nodeType\":\"Scope\",\"type\":\"node\",\"instanceArgs\":{\"imports\":{\"data\":[{\"name\":\"knockout\",\"type\":\"js\",\"url\":\"\\/assetserver\\/9b03060b0e0572775cc8ef1d907646c9bedfd095-knockout.js\"},{\"name\":\"knockout_punches\",\"type\":\"js\",\"url\":\"\\/assetserver\\/9a5f395137b4d21e9ab2a6b49f9f1703bc03f0d7-knockout_punches.js\"},{\"name\":null,\"type\":\"js\",\"url\":\"\\/assetserver\\/0280eb3e2c6521d4a0e7e6c36c538e90eeab521e-all.js\"},{\"name\":null,\"type\":\"css\",\"url\":\"\\/assetserver\\/22deba3a37ee3c1bc7c8cda847682b42dd2e4661-style.css\"},{\"name\":null,\"type\":\"css\",\"url\":\"\\/assetserver\\/6102faddff311acd96119e40e17a7fa3fab3fa5c-main.css\"}],\"type\":\"async_block\"},\"id\":\"knockout-component-d857aa67-bd01-4da4-9ad9-92da950db236\",\"handlers\":{\"_promises\":{\"importsLoaded\":[\"function (ko, koPunches) {\\n    ko.punches.enableAll();\\n    ko.bindingHandlers.numericValue = {\\n        init : function(element, valueAccessor, allBindings, data, context) {\\n            var stringified = ko.observable(ko.unwrap(valueAccessor()));\\n            stringified.subscribe(function(value) {\\n                var val = parseFloat(value);\\n                if (!isNaN(val)) {\\n                    valueAccessor()(val);\\n                }\\n            })\\n            valueAccessor().subscribe(function(value) {\\n                var str = JSON.stringify(value);\\n                if ((str == \\\"0\\\") && ([\\\"-0\\\", \\\"-0.\\\"].indexOf(stringified()) >= 0))\\n                     return;\\n                 if ([\\\"null\\\", \\\"\\\"].indexOf(str) >= 0)\\n                     return;\\n                stringified(str);\\n            })\\n            ko.applyBindingsToNode(element, { value: stringified, valueUpdate: allBindings.get('valueUpdate')}, context);\\n        }\\n    };\\n    var json_data = JSON.parse(\\\"{\\\\\\\"clicks\\\\\\\":0}\\\");\\n    var self = this;\\n    function AppViewModel() {\\n        for (var key in json_data) {\\n            var el = json_data[key];\\n            this[key] = Array.isArray(el) ? ko.observableArray(el) : ko.observable(el);\\n        }\\n        \\n        \\n        [this[\\\"clicks\\\"].subscribe((function (val){!(this.valueFromJulia[\\\"clicks\\\"]) ? (_webIOScope.setObservableValue({\\\"name\\\":\\\"clicks\\\",\\\"scope\\\":\\\"knockout-component-d857aa67-bd01-4da4-9ad9-92da950db236\\\",\\\"id\\\":\\\"ob_99\\\",\\\"type\\\":\\\"observable\\\"},val)) : undefined; return this.valueFromJulia[\\\"clicks\\\"]=false}),self)]\\n        \\n    }\\n    self.model = new AppViewModel();\\n    self.valueFromJulia = {};\\n    for (var key in json_data) {\\n        self.valueFromJulia[key] = false;\\n    }\\n    ko.applyBindings(self.model, self.dom);\\n}\\n\"]},\"clicks\":[\"(function (val){return (val!=this.model[\\\"clicks\\\"]()) ? (this.valueFromJulia[\\\"clicks\\\"]=true, this.model[\\\"clicks\\\"](val)) : undefined})\"]},\"systemjs_options\":null,\"observables\":{\"clicks\":{\"sync\":true,\"id\":\"ob_99\",\"value\":0}}},\"children\":[{\"props\":{\"attributes\":{\"data-bind\":\"click : function () {this.clicks(this.clicks()+1)}\"},\"className\":\"button is-primary\",\"style\":{}},\"nodeType\":\"DOM\",\"type\":\"node\",\"instanceArgs\":{\"namespace\":\"html\",\"tag\":\"button\"},\"children\":[\"plot\"]}]}]}]},{\"props\":{\"style\":{\"width\":\"3em\"}},\"nodeType\":\"DOM\",\"type\":\"node\",\"instanceArgs\":{\"namespace\":\"html\",\"tag\":\"div\"},\"children\":[]},{\"props\":{},\"nodeType\":\"DOM\",\"type\":\"node\",\"instanceArgs\":{\"namespace\":\"html\",\"tag\":\"div\"},\"children\":[{\"props\":{},\"nodeType\":\"Scope\",\"type\":\"node\",\"instanceArgs\":{\"imports\":{\"data\":[],\"type\":\"async_block\"},\"id\":\"scope-27b503f9-5147-42fe-bce3-6c117deacd1b\",\"handlers\":{\"obs-output\":[\"function (value, scope) {\\n    scope.setInnerHTML(value);\\n}\\n\"]},\"systemjs_options\":null,\"observables\":{\"obs-output\":{\"sync\":false,\"id\":\"ob_101\",\"value\":\"<?xml version=\\\"1.0\\\" encoding=\\\"utf-8\\\"?>\\n<svg xmlns=\\\"http:\\/\\/www.w3.org\\/2000\\/svg\\\" xmlns:xlink=\\\"http:\\/\\/www.w3.org\\/1999\\/xlink\\\" width=\\\"600\\\" height=\\\"400\\\" viewBox=\\\"0 0 2400 1600\\\">\\n<defs>\\n  <clipPath id=\\\"clip2200\\\">\\n    <rect x=\\\"0\\\" y=\\\"0\\\" width=\\\"2000\\\" height=\\\"2000\\\"\\/>\\n  <\\/clipPath>\\n<\\/defs>\\n<defs>\\n  <clipPath id=\\\"clip2201\\\">\\n    <rect x=\\\"0\\\" y=\\\"0\\\" width=\\\"2400\\\" height=\\\"1600\\\"\\/>\\n  <\\/clipPath>\\n<\\/defs>\\n<polygon clip-path=\\\"url(#clip2201)\\\" points=\\\"\\n0,1600 2400,1600 2400,0 0,0 \\n  \\\" fill=\\\"#ffffff\\\" fill-rule=\\\"evenodd\\\" fill-opacity=\\\"1\\\"\\/>\\n<defs>\\n  <clipPath id=\\\"clip2202\\\">\\n    <rect x=\\\"480\\\" y=\\\"0\\\" width=\\\"1681\\\" height=\\\"1600\\\"\\/>\\n  <\\/clipPath>\\n<\\/defs>\\n<polygon clip-path=\\\"url(#clip2201)\\\" points=\\\"\\n161.394,1503.47 2321.26,1503.47 2321.26,47.2441 161.394,47.2441 \\n  \\\" fill=\\\"#ffffff\\\" fill-rule=\\\"evenodd\\\" fill-opacity=\\\"1\\\"\\/>\\n<defs>\\n  <clipPath id=\\\"clip2203\\\">\\n    <rect x=\\\"161\\\" y=\\\"47\\\" width=\\\"2161\\\" height=\\\"1457\\\"\\/>\\n  <\\/clipPath>\\n<\\/defs>\\n<polyline clip-path=\\\"url(#clip2203)\\\" style=\\\"stroke:#000000; stroke-width:2; stroke-opacity:0.1; fill:none\\\" points=\\\"\\n  161.394,1503.47 161.394,47.2441 \\n  \\\"\\/>\\n<polyline clip-path=\\\"url(#clip2203)\\\" style=\\\"stroke:#000000; stroke-width:2; stroke-opacity:0.1; fill:none\\\" points=\\\"\\n  593.367,1503.47 593.367,47.2441 \\n  \\\"\\/>\\n<polyline clip-path=\\\"url(#clip2203)\\\" style=\\\"stroke:#000000; stroke-width:2; stroke-opacity:0.1; fill:none\\\" points=\\\"\\n  1025.34,1503.47 1025.34,47.2441 \\n  \\\"\\/>\\n<polyline clip-path=\\\"url(#clip2203)\\\" style=\\\"stroke:#000000; stroke-width:2; stroke-opacity:0.1; fill:none\\\" points=\\\"\\n  1457.31,1503.47 1457.31,47.2441 \\n  \\\"\\/>\\n<polyline clip-path=\\\"url(#clip2203)\\\" style=\\\"stroke:#000000; stroke-width:2; stroke-opacity:0.1; fill:none\\\" points=\\\"\\n  1889.29,1503.47 1889.29,47.2441 \\n  \\\"\\/>\\n<polyline clip-path=\\\"url(#clip2203)\\\" style=\\\"stroke:#000000; stroke-width:2; stroke-opacity:0.1; fill:none\\\" points=\\\"\\n  2321.26,1503.47 2321.26,47.2441 \\n  \\\"\\/>\\n<polyline clip-path=\\\"url(#clip2203)\\\" style=\\\"stroke:#000000; stroke-width:2; stroke-opacity:0.1; fill:none\\\" points=\\\"\\n  161.394,1503.47 2321.26,1503.47 \\n  \\\"\\/>\\n<polyline clip-path=\\\"url(#clip2203)\\\" style=\\\"stroke:#000000; stroke-width:2; stroke-opacity:0.1; fill:none\\\" points=\\\"\\n  161.394,1212.23 2321.26,1212.23 \\n  \\\"\\/>\\n<polyline clip-path=\\\"url(#clip2203)\\\" style=\\\"stroke:#000000; stroke-width:2; stroke-opacity:0.1; fill:none\\\" points=\\\"\\n  161.394,920.982 2321.26,920.982 \\n  \\\"\\/>\\n<polyline clip-path=\\\"url(#clip2203)\\\" style=\\\"stroke:#000000; stroke-width:2; stroke-opacity:0.1; fill:none\\\" points=\\\"\\n  161.394,629.736 2321.26,629.736 \\n  \\\"\\/>\\n<polyline clip-path=\\\"url(#clip2203)\\\" style=\\\"stroke:#000000; stroke-width:2; stroke-opacity:0.1; fill:none\\\" points=\\\"\\n  161.394,338.49 2321.26,338.49 \\n  \\\"\\/>\\n<polyline clip-path=\\\"url(#clip2203)\\\" style=\\\"stroke:#000000; stroke-width:2; stroke-opacity:0.1; fill:none\\\" points=\\\"\\n  161.394,47.2441 2321.26,47.2441 \\n  \\\"\\/>\\n<polyline clip-path=\\\"url(#clip2201)\\\" style=\\\"stroke:#000000; stroke-width:4; stroke-opacity:1; fill:none\\\" points=\\\"\\n  161.394,1503.47 2321.26,1503.47 \\n  \\\"\\/>\\n<polyline clip-path=\\\"url(#clip2201)\\\" style=\\\"stroke:#000000; stroke-width:4; stroke-opacity:1; fill:none\\\" points=\\\"\\n  161.394,1503.47 161.394,47.2441 \\n  \\\"\\/>\\n<polyline clip-path=\\\"url(#clip2201)\\\" style=\\\"stroke:#000000; stroke-width:4; stroke-opacity:1; fill:none\\\" points=\\\"\\n  161.394,1503.47 161.394,1481.63 \\n  \\\"\\/>\\n<polyline clip-path=\\\"url(#clip2201)\\\" style=\\\"stroke:#000000; stroke-width:4; stroke-opacity:1; fill:none\\\" points=\\\"\\n  593.367,1503.47 593.367,1481.63 \\n  \\\"\\/>\\n<polyline clip-path=\\\"url(#clip2201)\\\" style=\\\"stroke:#000000; stroke-width:4; stroke-opacity:1; fill:none\\\" points=\\\"\\n  1025.34,1503.47 1025.34,1481.63 \\n  \\\"\\/>\\n<polyline clip-path=\\\"url(#clip2201)\\\" style=\\\"stroke:#000000; stroke-width:4; stroke-opacity:1; fill:none\\\" points=\\\"\\n  1457.31,1503.47 1457.31,1481.63 \\n  \\\"\\/>\\n<polyline clip-path=\\\"url(#clip2201)\\\" style=\\\"stroke:#000000; stroke-width:4; stroke-opacity:1; fill:none\\\" points=\\\"\\n  1889.29,1503.47 1889.29,1481.63 \\n  \\\"\\/>\\n<polyline clip-path=\\\"url(#clip2201)\\\" style=\\\"stroke:#000000; stroke-width:4; stroke-opacity:1; fill:none\\\" points=\\\"\\n  2321.26,1503.47 2321.26,1481.63 \\n  \\\"\\/>\\n<polyline clip-path=\\\"url(#clip2201)\\\" style=\\\"stroke:#000000; stroke-width:4; stroke-opacity:1; fill:none\\\" points=\\\"\\n  161.394,1503.47 193.792,1503.47 \\n  \\\"\\/>\\n<polyline clip-path=\\\"url(#clip2201)\\\" style=\\\"stroke:#000000; stroke-width:4; stroke-opacity:1; fill:none\\\" points=\\\"\\n  161.394,1212.23 193.792,1212.23 \\n  \\\"\\/>\\n<polyline clip-path=\\\"url(#clip2201)\\\" style=\\\"stroke:#000000; stroke-width:4; stroke-opacity:1; fill:none\\\" points=\\\"\\n  161.394,920.982 193.792,920.982 \\n  \\\"\\/>\\n<polyline clip-path=\\\"url(#clip2201)\\\" style=\\\"stroke:#000000; stroke-width:4; stroke-opacity:1; fill:none\\\" points=\\\"\\n  161.394,629.736 193.792,629.736 \\n  \\\"\\/>\\n<polyline clip-path=\\\"url(#clip2201)\\\" style=\\\"stroke:#000000; stroke-width:4; stroke-opacity:1; fill:none\\\" points=\\\"\\n  161.394,338.49 193.792,338.49 \\n  \\\"\\/>\\n<polyline clip-path=\\\"url(#clip2201)\\\" style=\\\"stroke:#000000; stroke-width:4; stroke-opacity:1; fill:none\\\" points=\\\"\\n  161.394,47.2441 193.792,47.2441 \\n  \\\"\\/>\\n<g clip-path=\\\"url(#clip2201)\\\">\\n<text style=\\\"fill:#000000; fill-opacity:1; font-family:Arial,Helvetica Neue,Helvetica,sans-serif; font-size:48px; text-anchor:middle;\\\" transform=\\\"rotate(0, 161.394, 1557.47)\\\" x=\\\"161.394\\\" y=\\\"1557.47\\\">0.0<\\/text>\\n<\\/g>\\n<g clip-path=\\\"url(#clip2201)\\\">\\n<text style=\\\"fill:#000000; fill-opacity:1; font-family:Arial,Helvetica Neue,Helvetica,sans-serif; font-size:48px; text-anchor:middle;\\\" transform=\\\"rotate(0, 593.367, 1557.47)\\\" x=\\\"593.367\\\" y=\\\"1557.47\\\">0.2<\\/text>\\n<\\/g>\\n<g clip-path=\\\"url(#clip2201)\\\">\\n<text style=\\\"fill:#000000; fill-opacity:1; font-family:Arial,Helvetica Neue,Helvetica,sans-serif; font-size:48px; text-anchor:middle;\\\" transform=\\\"rotate(0, 1025.34, 1557.47)\\\" x=\\\"1025.34\\\" y=\\\"1557.47\\\">0.4<\\/text>\\n<\\/g>\\n<g clip-path=\\\"url(#clip2201)\\\">\\n<text style=\\\"fill:#000000; fill-opacity:1; font-family:Arial,Helvetica Neue,Helvetica,sans-serif; font-size:48px; text-anchor:middle;\\\" transform=\\\"rotate(0, 1457.31, 1557.47)\\\" x=\\\"1457.31\\\" y=\\\"1557.47\\\">0.6<\\/text>\\n<\\/g>\\n<g clip-path=\\\"url(#clip2201)\\\">\\n<text style=\\\"fill:#000000; fill-opacity:1; font-family:Arial,Helvetica Neue,Helvetica,sans-serif; font-size:48px; text-anchor:middle;\\\" transform=\\\"rotate(0, 1889.29, 1557.47)\\\" x=\\\"1889.29\\\" y=\\\"1557.47\\\">0.8<\\/text>\\n<\\/g>\\n<g clip-path=\\\"url(#clip2201)\\\">\\n<text style=\\\"fill:#000000; fill-opacity:1; font-family:Arial,Helvetica Neue,Helvetica,sans-serif; font-size:48px; text-anchor:middle;\\\" transform=\\\"rotate(0, 2321.26, 1557.47)\\\" x=\\\"2321.26\\\" y=\\\"1557.47\\\">1.0<\\/text>\\n<\\/g>\\n<g clip-path=\\\"url(#clip2201)\\\">\\n<text style=\\\"fill:#000000; fill-opacity:1; font-family:Arial,Helvetica Neue,Helvetica,sans-serif; font-size:48px; text-anchor:end;\\\" transform=\\\"rotate(0, 137.394, 1520.97)\\\" x=\\\"137.394\\\" y=\\\"1520.97\\\">0.0<\\/text>\\n<\\/g>\\n<g clip-path=\\\"url(#clip2201)\\\">\\n<text style=\\\"fill:#000000; fill-opacity:1; font-family:Arial,Helvetica Neue,Helvetica,sans-serif; font-size:48px; text-anchor:end;\\\" transform=\\\"rotate(0, 137.394, 1229.73)\\\" x=\\\"137.394\\\" y=\\\"1229.73\\\">0.2<\\/text>\\n<\\/g>\\n<g clip-path=\\\"url(#clip2201)\\\">\\n<text style=\\\"fill:#000000; fill-opacity:1; font-family:Arial,Helvetica Neue,Helvetica,sans-serif; font-size:48px; text-anchor:end;\\\" transform=\\\"rotate(0, 137.394, 938.482)\\\" x=\\\"137.394\\\" y=\\\"938.482\\\">0.4<\\/text>\\n<\\/g>\\n<g clip-path=\\\"url(#clip2201)\\\">\\n<text style=\\\"fill:#000000; fill-opacity:1; font-family:Arial,Helvetica Neue,Helvetica,sans-serif; font-size:48px; text-anchor:end;\\\" transform=\\\"rotate(0, 137.394, 647.236)\\\" x=\\\"137.394\\\" y=\\\"647.236\\\">0.6<\\/text>\\n<\\/g>\\n<g clip-path=\\\"url(#clip2201)\\\">\\n<text style=\\\"fill:#000000; fill-opacity:1; font-family:Arial,Helvetica Neue,Helvetica,sans-serif; font-size:48px; text-anchor:end;\\\" transform=\\\"rotate(0, 137.394, 355.99)\\\" x=\\\"137.394\\\" y=\\\"355.99\\\">0.8<\\/text>\\n<\\/g>\\n<g clip-path=\\\"url(#clip2201)\\\">\\n<text style=\\\"fill:#000000; fill-opacity:1; font-family:Arial,Helvetica Neue,Helvetica,sans-serif; font-size:48px; text-anchor:end;\\\" transform=\\\"rotate(0, 137.394, 64.7441)\\\" x=\\\"137.394\\\" y=\\\"64.7441\\\">1.0<\\/text>\\n<\\/g>\\n<\\/svg>\\n\"}}},\"children\":[{\"props\":{\"className\":\"webio-observable\",\"setInnerHtml\":\"<?xml version=\\\"1.0\\\" encoding=\\\"utf-8\\\"?>\\n<svg xmlns=\\\"http:\\/\\/www.w3.org\\/2000\\/svg\\\" xmlns:xlink=\\\"http:\\/\\/www.w3.org\\/1999\\/xlink\\\" width=\\\"600\\\" height=\\\"400\\\" viewBox=\\\"0 0 2400 1600\\\">\\n<defs>\\n  <clipPath id=\\\"clip2200\\\">\\n    <rect x=\\\"0\\\" y=\\\"0\\\" width=\\\"2000\\\" height=\\\"2000\\\"\\/>\\n  <\\/clipPath>\\n<\\/defs>\\n<defs>\\n  <clipPath id=\\\"clip2201\\\">\\n    <rect x=\\\"0\\\" y=\\\"0\\\" width=\\\"2400\\\" height=\\\"1600\\\"\\/>\\n  <\\/clipPath>\\n<\\/defs>\\n<polygon clip-path=\\\"url(#clip2201)\\\" points=\\\"\\n0,1600 2400,1600 2400,0 0,0 \\n  \\\" fill=\\\"#ffffff\\\" fill-rule=\\\"evenodd\\\" fill-opacity=\\\"1\\\"\\/>\\n<defs>\\n  <clipPath id=\\\"clip2202\\\">\\n    <rect x=\\\"480\\\" y=\\\"0\\\" width=\\\"1681\\\" height=\\\"1600\\\"\\/>\\n  <\\/clipPath>\\n<\\/defs>\\n<polygon clip-path=\\\"url(#clip2201)\\\" points=\\\"\\n161.394,1503.47 2321.26,1503.47 2321.26,47.2441 161.394,47.2441 \\n  \\\" fill=\\\"#ffffff\\\" fill-rule=\\\"evenodd\\\" fill-opacity=\\\"1\\\"\\/>\\n<defs>\\n  <clipPath id=\\\"clip2203\\\">\\n    <rect x=\\\"161\\\" y=\\\"47\\\" width=\\\"2161\\\" height=\\\"1457\\\"\\/>\\n  <\\/clipPath>\\n<\\/defs>\\n<polyline clip-path=\\\"url(#clip2203)\\\" style=\\\"stroke:#000000; stroke-width:2; stroke-opacity:0.1; fill:none\\\" points=\\\"\\n  161.394,1503.47 161.394,47.2441 \\n  \\\"\\/>\\n<polyline clip-path=\\\"url(#clip2203)\\\" style=\\\"stroke:#000000; stroke-width:2; stroke-opacity:0.1; fill:none\\\" points=\\\"\\n  593.367,1503.47 593.367,47.2441 \\n  \\\"\\/>\\n<polyline clip-path=\\\"url(#clip2203)\\\" style=\\\"stroke:#000000; stroke-width:2; stroke-opacity:0.1; fill:none\\\" points=\\\"\\n  1025.34,1503.47 1025.34,47.2441 \\n  \\\"\\/>\\n<polyline clip-path=\\\"url(#clip2203)\\\" style=\\\"stroke:#000000; stroke-width:2; stroke-opacity:0.1; fill:none\\\" points=\\\"\\n  1457.31,1503.47 1457.31,47.2441 \\n  \\\"\\/>\\n<polyline clip-path=\\\"url(#clip2203)\\\" style=\\\"stroke:#000000; stroke-width:2; stroke-opacity:0.1; fill:none\\\" points=\\\"\\n  1889.29,1503.47 1889.29,47.2441 \\n  \\\"\\/>\\n<polyline clip-path=\\\"url(#clip2203)\\\" style=\\\"stroke:#000000; stroke-width:2; stroke-opacity:0.1; fill:none\\\" points=\\\"\\n  2321.26,1503.47 2321.26,47.2441 \\n  \\\"\\/>\\n<polyline clip-path=\\\"url(#clip2203)\\\" style=\\\"stroke:#000000; stroke-width:2; stroke-opacity:0.1; fill:none\\\" points=\\\"\\n  161.394,1503.47 2321.26,1503.47 \\n  \\\"\\/>\\n<polyline clip-path=\\\"url(#clip2203)\\\" style=\\\"stroke:#000000; stroke-width:2; stroke-opacity:0.1; fill:none\\\" points=\\\"\\n  161.394,1212.23 2321.26,1212.23 \\n  \\\"\\/>\\n<polyline clip-path=\\\"url(#clip2203)\\\" style=\\\"stroke:#000000; stroke-width:2; stroke-opacity:0.1; fill:none\\\" points=\\\"\\n  161.394,920.982 2321.26,920.982 \\n  \\\"\\/>\\n<polyline clip-path=\\\"url(#clip2203)\\\" style=\\\"stroke:#000000; stroke-width:2; stroke-opacity:0.1; fill:none\\\" points=\\\"\\n  161.394,629.736 2321.26,629.736 \\n  \\\"\\/>\\n<polyline clip-path=\\\"url(#clip2203)\\\" style=\\\"stroke:#000000; stroke-width:2; stroke-opacity:0.1; fill:none\\\" points=\\\"\\n  161.394,338.49 2321.26,338.49 \\n  \\\"\\/>\\n<polyline clip-path=\\\"url(#clip2203)\\\" style=\\\"stroke:#000000; stroke-width:2; stroke-opacity:0.1; fill:none\\\" points=\\\"\\n  161.394,47.2441 2321.26,47.2441 \\n  \\\"\\/>\\n<polyline clip-path=\\\"url(#clip2201)\\\" style=\\\"stroke:#000000; stroke-width:4; stroke-opacity:1; fill:none\\\" points=\\\"\\n  161.394,1503.47 2321.26,1503.47 \\n  \\\"\\/>\\n<polyline clip-path=\\\"url(#clip2201)\\\" style=\\\"stroke:#000000; stroke-width:4; stroke-opacity:1; fill:none\\\" points=\\\"\\n  161.394,1503.47 161.394,47.2441 \\n  \\\"\\/>\\n<polyline clip-path=\\\"url(#clip2201)\\\" style=\\\"stroke:#000000; stroke-width:4; stroke-opacity:1; fill:none\\\" points=\\\"\\n  161.394,1503.47 161.394,1481.63 \\n  \\\"\\/>\\n<polyline clip-path=\\\"url(#clip2201)\\\" style=\\\"stroke:#000000; stroke-width:4; stroke-opacity:1; fill:none\\\" points=\\\"\\n  593.367,1503.47 593.367,1481.63 \\n  \\\"\\/>\\n<polyline clip-path=\\\"url(#clip2201)\\\" style=\\\"stroke:#000000; stroke-width:4; stroke-opacity:1; fill:none\\\" points=\\\"\\n  1025.34,1503.47 1025.34,1481.63 \\n  \\\"\\/>\\n<polyline clip-path=\\\"url(#clip2201)\\\" style=\\\"stroke:#000000; stroke-width:4; stroke-opacity:1; fill:none\\\" points=\\\"\\n  1457.31,1503.47 1457.31,1481.63 \\n  \\\"\\/>\\n<polyline clip-path=\\\"url(#clip2201)\\\" style=\\\"stroke:#000000; stroke-width:4; stroke-opacity:1; fill:none\\\" points=\\\"\\n  1889.29,1503.47 1889.29,1481.63 \\n  \\\"\\/>\\n<polyline clip-path=\\\"url(#clip2201)\\\" style=\\\"stroke:#000000; stroke-width:4; stroke-opacity:1; fill:none\\\" points=\\\"\\n  2321.26,1503.47 2321.26,1481.63 \\n  \\\"\\/>\\n<polyline clip-path=\\\"url(#clip2201)\\\" style=\\\"stroke:#000000; stroke-width:4; stroke-opacity:1; fill:none\\\" points=\\\"\\n  161.394,1503.47 193.792,1503.47 \\n  \\\"\\/>\\n<polyline clip-path=\\\"url(#clip2201)\\\" style=\\\"stroke:#000000; stroke-width:4; stroke-opacity:1; fill:none\\\" points=\\\"\\n  161.394,1212.23 193.792,1212.23 \\n  \\\"\\/>\\n<polyline clip-path=\\\"url(#clip2201)\\\" style=\\\"stroke:#000000; stroke-width:4; stroke-opacity:1; fill:none\\\" points=\\\"\\n  161.394,920.982 193.792,920.982 \\n  \\\"\\/>\\n<polyline clip-path=\\\"url(#clip2201)\\\" style=\\\"stroke:#000000; stroke-width:4; stroke-opacity:1; fill:none\\\" points=\\\"\\n  161.394,629.736 193.792,629.736 \\n  \\\"\\/>\\n<polyline clip-path=\\\"url(#clip2201)\\\" style=\\\"stroke:#000000; stroke-width:4; stroke-opacity:1; fill:none\\\" points=\\\"\\n  161.394,338.49 193.792,338.49 \\n  \\\"\\/>\\n<polyline clip-path=\\\"url(#clip2201)\\\" style=\\\"stroke:#000000; stroke-width:4; stroke-opacity:1; fill:none\\\" points=\\\"\\n  161.394,47.2441 193.792,47.2441 \\n  \\\"\\/>\\n<g clip-path=\\\"url(#clip2201)\\\">\\n<text style=\\\"fill:#000000; fill-opacity:1; font-family:Arial,Helvetica Neue,Helvetica,sans-serif; font-size:48px; text-anchor:middle;\\\" transform=\\\"rotate(0, 161.394, 1557.47)\\\" x=\\\"161.394\\\" y=\\\"1557.47\\\">0.0<\\/text>\\n<\\/g>\\n<g clip-path=\\\"url(#clip2201)\\\">\\n<text style=\\\"fill:#000000; fill-opacity:1; font-family:Arial,Helvetica Neue,Helvetica,sans-serif; font-size:48px; text-anchor:middle;\\\" transform=\\\"rotate(0, 593.367, 1557.47)\\\" x=\\\"593.367\\\" y=\\\"1557.47\\\">0.2<\\/text>\\n<\\/g>\\n<g clip-path=\\\"url(#clip2201)\\\">\\n<text style=\\\"fill:#000000; fill-opacity:1; font-family:Arial,Helvetica Neue,Helvetica,sans-serif; font-size:48px; text-anchor:middle;\\\" transform=\\\"rotate(0, 1025.34, 1557.47)\\\" x=\\\"1025.34\\\" y=\\\"1557.47\\\">0.4<\\/text>\\n<\\/g>\\n<g clip-path=\\\"url(#clip2201)\\\">\\n<text style=\\\"fill:#000000; fill-opacity:1; font-family:Arial,Helvetica Neue,Helvetica,sans-serif; font-size:48px; text-anchor:middle;\\\" transform=\\\"rotate(0, 1457.31, 1557.47)\\\" x=\\\"1457.31\\\" y=\\\"1557.47\\\">0.6<\\/text>\\n<\\/g>\\n<g clip-path=\\\"url(#clip2201)\\\">\\n<text style=\\\"fill:#000000; fill-opacity:1; font-family:Arial,Helvetica Neue,Helvetica,sans-serif; font-size:48px; text-anchor:middle;\\\" transform=\\\"rotate(0, 1889.29, 1557.47)\\\" x=\\\"1889.29\\\" y=\\\"1557.47\\\">0.8<\\/text>\\n<\\/g>\\n<g clip-path=\\\"url(#clip2201)\\\">\\n<text style=\\\"fill:#000000; fill-opacity:1; font-family:Arial,Helvetica Neue,Helvetica,sans-serif; font-size:48px; text-anchor:middle;\\\" transform=\\\"rotate(0, 2321.26, 1557.47)\\\" x=\\\"2321.26\\\" y=\\\"1557.47\\\">1.0<\\/text>\\n<\\/g>\\n<g clip-path=\\\"url(#clip2201)\\\">\\n<text style=\\\"fill:#000000; fill-opacity:1; font-family:Arial,Helvetica Neue,Helvetica,sans-serif; font-size:48px; text-anchor:end;\\\" transform=\\\"rotate(0, 137.394, 1520.97)\\\" x=\\\"137.394\\\" y=\\\"1520.97\\\">0.0<\\/text>\\n<\\/g>\\n<g clip-path=\\\"url(#clip2201)\\\">\\n<text style=\\\"fill:#000000; fill-opacity:1; font-family:Arial,Helvetica Neue,Helvetica,sans-serif; font-size:48px; text-anchor:end;\\\" transform=\\\"rotate(0, 137.394, 1229.73)\\\" x=\\\"137.394\\\" y=\\\"1229.73\\\">0.2<\\/text>\\n<\\/g>\\n<g clip-path=\\\"url(#clip2201)\\\">\\n<text style=\\\"fill:#000000; fill-opacity:1; font-family:Arial,Helvetica Neue,Helvetica,sans-serif; font-size:48px; text-anchor:end;\\\" transform=\\\"rotate(0, 137.394, 938.482)\\\" x=\\\"137.394\\\" y=\\\"938.482\\\">0.4<\\/text>\\n<\\/g>\\n<g clip-path=\\\"url(#clip2201)\\\">\\n<text style=\\\"fill:#000000; fill-opacity:1; font-family:Arial,Helvetica Neue,Helvetica,sans-serif; font-size:48px; text-anchor:end;\\\" transform=\\\"rotate(0, 137.394, 647.236)\\\" x=\\\"137.394\\\" y=\\\"647.236\\\">0.6<\\/text>\\n<\\/g>\\n<g clip-path=\\\"url(#clip2201)\\\">\\n<text style=\\\"fill:#000000; fill-opacity:1; font-family:Arial,Helvetica Neue,Helvetica,sans-serif; font-size:48px; text-anchor:end;\\\" transform=\\\"rotate(0, 137.394, 355.99)\\\" x=\\\"137.394\\\" y=\\\"355.99\\\">0.8<\\/text>\\n<\\/g>\\n<g clip-path=\\\"url(#clip2201)\\\">\\n<text style=\\\"fill:#000000; fill-opacity:1; font-family:Arial,Helvetica Neue,Helvetica,sans-serif; font-size:48px; text-anchor:end;\\\" transform=\\\"rotate(0, 137.394, 64.7441)\\\" x=\\\"137.394\\\" y=\\\"64.7441\\\">1.0<\\/text>\\n<\\/g>\\n<\\/svg>\\n\"},\"nodeType\":\"DOM\",\"type\":\"node\",\"instanceArgs\":{\"namespace\":\"html\",\"tag\":\"div\"},\"children\":[]}]},{\"props\":{\"className\":\"field\"},\"nodeType\":\"DOM\",\"type\":\"node\",\"instanceArgs\":{\"namespace\":\"html\",\"tag\":\"div\"},\"children\":[{\"props\":{},\"nodeType\":\"Scope\",\"type\":\"node\",\"instanceArgs\":{\"imports\":{\"data\":[{\"name\":\"knockout\",\"type\":\"js\",\"url\":\"\\/assetserver\\/9b03060b0e0572775cc8ef1d907646c9bedfd095-knockout.js\"},{\"name\":\"knockout_punches\",\"type\":\"js\",\"url\":\"\\/assetserver\\/9a5f395137b4d21e9ab2a6b49f9f1703bc03f0d7-knockout_punches.js\"},{\"name\":null,\"type\":\"js\",\"url\":\"\\/assetserver\\/0280eb3e2c6521d4a0e7e6c36c538e90eeab521e-all.js\"},{\"name\":null,\"type\":\"css\",\"url\":\"\\/assetserver\\/22deba3a37ee3c1bc7c8cda847682b42dd2e4661-style.css\"},{\"name\":null,\"type\":\"css\",\"url\":\"\\/assetserver\\/6102faddff311acd96119e40e17a7fa3fab3fa5c-main.css\"}],\"type\":\"async_block\"},\"id\":\"knockout-component-1ef9d71d-732e-4b29-88b6-47300c743e77\",\"handlers\":{\"_promises\":{\"importsLoaded\":[\"function (ko, koPunches) {\\n    ko.punches.enableAll();\\n    ko.bindingHandlers.numericValue = {\\n        init : function(element, valueAccessor, allBindings, data, context) {\\n            var stringified = ko.observable(ko.unwrap(valueAccessor()));\\n            stringified.subscribe(function(value) {\\n                var val = parseFloat(value);\\n                if (!isNaN(val)) {\\n                    valueAccessor()(val);\\n                }\\n            })\\n            valueAccessor().subscribe(function(value) {\\n                var str = JSON.stringify(value);\\n                if ((str == \\\"0\\\") && ([\\\"-0\\\", \\\"-0.\\\"].indexOf(stringified()) >= 0))\\n                     return;\\n                 if ([\\\"null\\\", \\\"\\\"].indexOf(str) >= 0)\\n                     return;\\n                stringified(str);\\n            })\\n            ko.applyBindingsToNode(element, { value: stringified, valueUpdate: allBindings.get('valueUpdate')}, context);\\n        }\\n    };\\n    var json_data = JSON.parse(\\\"{\\\\\\\"display\\\\\\\":\\\\\\\"none\\\\\\\",\\\\\\\"changes\\\\\\\":0,\\\\\\\"value\\\\\\\":30}\\\");\\n    var self = this;\\n    function AppViewModel() {\\n        for (var key in json_data) {\\n            var el = json_data[key];\\n            this[key] = Array.isArray(el) ? ko.observableArray(el) : ko.observable(el);\\n        }\\n        \\n        \\n        [this[\\\"display\\\"].subscribe((function (val){!(this.valueFromJulia[\\\"display\\\"]) ? (_webIOScope.setObservableValue({\\\"name\\\":\\\"display\\\",\\\"scope\\\":\\\"knockout-component-1ef9d71d-732e-4b29-88b6-47300c743e77\\\",\\\"id\\\":\\\"ob_88\\\",\\\"type\\\":\\\"observable\\\"},val)) : undefined; return this.valueFromJulia[\\\"display\\\"]=false}),self),this[\\\"changes\\\"].subscribe((function (val){!(this.valueFromJulia[\\\"changes\\\"]) ? (_webIOScope.setObservableValue({\\\"name\\\":\\\"changes\\\",\\\"scope\\\":\\\"knockout-component-1ef9d71d-732e-4b29-88b6-47300c743e77\\\",\\\"id\\\":\\\"ob_90\\\",\\\"type\\\":\\\"observable\\\"},val)) : undefined; return this.valueFromJulia[\\\"changes\\\"]=false}),self),this[\\\"value\\\"].subscribe((function (val){!(this.valueFromJulia[\\\"value\\\"]) ? (_webIOScope.setObservableValue({\\\"name\\\":\\\"value\\\",\\\"scope\\\":\\\"knockout-component-1ef9d71d-732e-4b29-88b6-47300c743e77\\\",\\\"id\\\":\\\"ob_89\\\",\\\"type\\\":\\\"observable\\\"},val)) : undefined; return this.valueFromJulia[\\\"value\\\"]=false}),self)]\\n        \\n    }\\n    self.model = new AppViewModel();\\n    self.valueFromJulia = {};\\n    for (var key in json_data) {\\n        self.valueFromJulia[key] = false;\\n    }\\n    ko.applyBindings(self.model, self.dom);\\n}\\n\"]},\"display\":[\"(function (val){return (val!=this.model[\\\"display\\\"]()) ? (this.valueFromJulia[\\\"display\\\"]=true, this.model[\\\"display\\\"](val)) : undefined})\"],\"changes\":[\"(function (val){return (val!=this.model[\\\"changes\\\"]()) ? (this.valueFromJulia[\\\"changes\\\"]=true, this.model[\\\"changes\\\"](val)) : undefined})\"],\"value\":[\"(function (val){return (val!=this.model[\\\"value\\\"]()) ? (this.valueFromJulia[\\\"value\\\"]=true, this.model[\\\"value\\\"](val)) : undefined})\"]},\"systemjs_options\":null,\"observables\":{\"display\":{\"sync\":false,\"id\":\"ob_88\",\"value\":\"none\"},\"changes\":{\"sync\":false,\"id\":\"ob_90\",\"value\":0},\"value\":{\"sync\":true,\"id\":\"ob_89\",\"value\":30}}},\"children\":[{\"props\":{\"attributes\":{\"data-bind\":\"style: {display: display}\"}},\"nodeType\":\"DOM\",\"type\":\"node\",\"instanceArgs\":{\"namespace\":\"html\",\"tag\":\"div\"},\"children\":[{\"props\":{\"attributes\":{\"style\":\"display:flex; justify-content:center; align-items:center;\"}},\"nodeType\":\"DOM\",\"type\":\"node\",\"instanceArgs\":{\"namespace\":\"html\",\"tag\":\"div\"},\"children\":[{\"props\":{\"attributes\":{\"style\":\"text-align:right;width:18%\"}},\"nodeType\":\"DOM\",\"type\":\"node\",\"instanceArgs\":{\"namespace\":\"html\",\"tag\":\"div\"},\"children\":[{\"props\":{\"className\":\"interact \",\"style\":{\"padding\":\"5px 10px 0px 10px\"}},\"nodeType\":\"DOM\",\"type\":\"node\",\"instanceArgs\":{\"namespace\":\"html\",\"tag\":\"label\"},\"children\":[\"number of bins\"]}]},{\"props\":{\"attributes\":{\"style\":\"flex-grow:1; margin: 0 2%\"}},\"nodeType\":\"DOM\",\"type\":\"node\",\"instanceArgs\":{\"namespace\":\"html\",\"tag\":\"div\"},\"children\":[{\"props\":{\"max\":100,\"min\":1,\"attributes\":{\"type\":\"range\",\"data-bind\":\"numericValue: value, valueUpdate: 'input', event: {change : function () {this.changes(this.changes()+1)}}\",\"orient\":\"horizontal\"},\"step\":1,\"className\":\"slider slider is-fullwidth\",\"style\":{}},\"nodeType\":\"DOM\",\"type\":\"node\",\"instanceArgs\":{\"namespace\":\"html\",\"tag\":\"input\"},\"children\":[]}]},{\"props\":{\"attributes\":{\"style\":\"width:18%\"}},\"nodeType\":\"DOM\",\"type\":\"node\",\"instanceArgs\":{\"namespace\":\"html\",\"tag\":\"div\"},\"children\":[{\"props\":{\"attributes\":{\"data-bind\":\"text: value\"}},\"nodeType\":\"DOM\",\"type\":\"node\",\"instanceArgs\":{\"namespace\":\"html\",\"tag\":\"p\"},\"children\":[]}]}]}]}]}]}]}]},\n",
       "        );\n",
       "    } else {\n",
       "        document\n",
       "            .querySelector('[data-webio-mountpoint=\"8539971397136508406\"]')\n",
       "            .innerHTML = '<strong>WebIO not detected.</strong>';\n",
       "    }\n",
       "    </script>\n",
       "</div>\n"
      ],
      "text/plain": [
       "Widget{:dataviewer,Any}(OrderedDict{Symbol,Any}(:x=>Widget{:dropdown,Any}(OrderedDict{Symbol,Any}(:options=>Observable{Any} with 6 listeners. Value:\n",
       "Symbol[:SepalLength, :SepalWidth, :PetalLength, :PetalWidth, :Species],:index=>Observable{Any} with 2 listeners. Value:\n",
       "Int64[]), Observable{Any} with 1 listeners. Value:\n",
       "Symbol[], Scope(\"knockout-component-d185b71c-af7a-4a8c-a8f7-8a2505b2af21\", Node{DOM}(DOM(:html, :div), Any[Node{DOM}(DOM(:html, :select), Any[], Dict{Symbol,Any}(:attributes=>Dict{Union{String, Symbol},Any}(:multiple=>true,Symbol(\"data-bind\")=>\"options : options_js, selectedOptions : index, optionsText: 'key', optionsValue: 'val', valueAllowUnset: true, optionsAfterRender: disablePlaceholder\")), 0)], Dict{Symbol,Any}(:className=>\"select is-multiple \"), 1), Dict{String,Tuple{Observables.AbstractObservable,Union{Nothing, Bool}}}(\"options_js\"=>(Observable{Any} with 1 listeners. Value:\n",
       "OrderedDict[OrderedDict{String,Any}(\"key\"=>\"First axis\",\"val\"=>0,\"id\"=>\"iddBbp1jvV\"), OrderedDict{String,Any}(\"key\"=>\"SepalLength\",\"val\"=>1,\"id\"=>\"id25Fi8v1n\"), OrderedDict{String,Any}(\"key\"=>\"SepalWidth\",\"val\"=>2,\"id\"=>\"idmOfBPbm1\"), OrderedDict{String,Any}(\"key\"=>\"PetalLength\",\"val\"=>3,\"id\"=>\"idpJdhkLtT\"), OrderedDict{String,Any}(\"key\"=>\"PetalWidth\",\"val\"=>4,\"id\"=>\"idjGXu63YU\"), OrderedDict{String,Any}(\"key\"=>\"Species\",\"val\"=>5,\"id\"=>\"idVzORwgvP\")], nothing),\"index\"=>(Observable{Any} with 2 listeners. Value:\n",
       "Int64[], nothing)), Set(String[]), nothing, Any[\"knockout\"=>\"/mnt/c/Users/Maxime/wsl/.julia/packages/Knockout/JIqpG/src/../assets/knockout.js\", \"knockout_punches\"=>\"/mnt/c/Users/Maxime/wsl/.julia/packages/Knockout/JIqpG/src/../assets/knockout_punches.js\", \"/mnt/c/Users/Maxime/wsl/.julia/packages/InteractBase/Q4IkI/src/../assets/all.js\", \"/mnt/c/Users/Maxime/wsl/.julia/packages/InteractBase/Q4IkI/src/../assets/style.css\", \"/mnt/c/Users/Maxime/wsl/.julia/packages/InteractBulma/Ohu5Y/src/../assets/main.css\"], Dict{Any,Any}(\"_promises\"=>Dict{Any,Any}(\"importsLoaded\"=>Any[JSString(\"function (ko, koPunches) {\\n    ko.punches.enableAll();\\n    ko.bindingHandlers.numericValue = {\\n        init : function(element, valueAccessor, allBindings, data, context) {\\n            var stringified = ko.observable(ko.unwrap(valueAccessor()));\\n            stringified.subscribe(function(value) {\\n                var val = parseFloat(value);\\n                if (!isNaN(val)) {\\n                    valueAccessor()(val);\\n                }\\n            })\\n            valueAccessor().subscribe(function(value) {\\n                var str = JSON.stringify(value);\\n                if ((str == \\\"0\\\") && ([\\\"-0\\\", \\\"-0.\\\"].indexOf(stringified()) >= 0))\\n                     return;\\n                 if ([\\\"null\\\", \\\"\\\"].indexOf(str) >= 0)\\n                     return;\\n                stringified(str);\\n            })\\n            ko.applyBindingsToNode(element, { value: stringified, valueUpdate: allBindings.get('valueUpdate')}, context);\\n        }\\n    };\\n    var json_data = JSON.parse(\\\"{\\\\\\\"options_js\\\\\\\":[{\\\\\\\"key\\\\\\\":\\\\\\\"First axis\\\\\\\",\\\\\\\"val\\\\\\\":0,\\\\\\\"id\\\\\\\":\\\\\\\"iddBbp1jvV\\\\\\\"},{\\\\\\\"key\\\\\\\":\\\\\\\"SepalLength\\\\\\\",\\\\\\\"val\\\\\\\":1,\\\\\\\"id\\\\\\\":\\\\\\\"id25Fi8v1n\\\\\\\"},{\\\\\\\"key\\\\\\\":\\\\\\\"SepalWidth\\\\\\\",\\\\\\\"val\\\\\\\":2,\\\\\\\"id\\\\\\\":\\\\\\\"idmOfBPbm1\\\\\\\"},{\\\\\\\"key\\\\\\\":\\\\\\\"PetalLength\\\\\\\",\\\\\\\"val\\\\\\\":3,\\\\\\\"id\\\\\\\":\\\\\\\"idpJdhkLtT\\\\\\\"},{\\\\\\\"key\\\\\\\":\\\\\\\"PetalWidth\\\\\\\",\\\\\\\"val\\\\\\\":4,\\\\\\\"id\\\\\\\":\\\\\\\"idjGXu63YU\\\\\\\"},{\\\\\\\"key\\\\\\\":\\\\\\\"Species\\\\\\\",\\\\\\\"val\\\\\\\":5,\\\\\\\"id\\\\\\\":\\\\\\\"idVzORwgvP\\\\\\\"}],\\\\\\\"index\\\\\\\":[]}\\\");\\n    var self = this;\\n    function AppViewModel() {\\n        for (var key in json_data) {\\n            var el = json_data[key];\\n            this[key] = Array.isArray(el) ? ko.observableArray(el) : ko.observable(el);\\n        }\\n        [this[\\\"disablePlaceholder\\\"]=function(option, item) {\\n    ko.applyBindingsToNode(option, {disable: item.val == 0}, item);\\n}\\n]\\n        \\n        [this[\\\"options_js\\\"].subscribe((function (val){!(this.valueFromJulia[\\\"options_js\\\"]) ? (_webIOScope.setObservableValue({\\\"name\\\":\\\"options_js\\\",\\\"scope\\\":\\\"knockout-component-d185b71c-af7a-4a8c-a8f7-8a2505b2af21\\\",\\\"id\\\":\\\"ob_76\\\",\\\"type\\\":\\\"observable\\\"},val)) : undefined; return this.valueFromJulia[\\\"options_js\\\"]=false}),self),this[\\\"index\\\"].subscribe((function (val){!(this.valueFromJulia[\\\"index\\\"]) ? (_webIOScope.setObservableValue({\\\"name\\\":\\\"index\\\",\\\"scope\\\":\\\"knockout-component-d185b71c-af7a-4a8c-a8f7-8a2505b2af21\\\",\\\"id\\\":\\\"ob_75\\\",\\\"type\\\":\\\"observable\\\"},val)) : undefined; return this.valueFromJulia[\\\"index\\\"]=false}),self)]\\n        \\n    }\\n    self.model = new AppViewModel();\\n    self.valueFromJulia = {};\\n    for (var key in json_data) {\\n        self.valueFromJulia[key] = false;\\n    }\\n    ko.applyBindings(self.model, self.dom);\\n}\\n\")]),\"options_js\"=>Any[JSString(\"(function (val){return (val!=this.model[\\\"options_js\\\"]()) ? (this.valueFromJulia[\\\"options_js\\\"]=true, this.model[\\\"options_js\\\"](val)) : undefined})\")],\"index\"=>Any[JSString(\"(function (val){return (val!=this.model[\\\"index\\\"]()) ? (this.valueFromJulia[\\\"index\\\"]=true, this.model[\\\"index\\\"](val)) : undefined})\")]), ConnectionPool(Channel{Any}(sz_max:9223372036854775807,sz_curr:0), Set(AbstractConnection[]), Channel{AbstractConnection}(sz_max:32,sz_curr:0))), ##52#53{#dom#13{##dom#11#12{Dict{Any,Any},DOM}},typeof(scope)}(#dom#13{##dom#11#12{Dict{Any,Any},DOM}}(##dom#11#12{Dict{Any,Any},DOM}(Dict{Any,Any}(:className=>\"field\"), DOM(:html, :div))), scope)),:y=>Widget{:dropdown,Any}(OrderedDict{Symbol,Any}(:options=>Observable{Any} with 6 listeners. Value:\n",
       "Symbol[:SepalLength, :SepalWidth, :PetalLength, :PetalWidth, :Species],:index=>Observable{Any} with 2 listeners. Value:\n",
       "Int64[]), Observable{Any} with 1 listeners. Value:\n",
       "Symbol[], Scope(\"knockout-component-c26000ec-ad0b-48ae-a4f7-426c975ed57f\", Node{DOM}(DOM(:html, :div), Any[Node{DOM}(DOM(:html, :select), Any[], Dict{Symbol,Any}(:attributes=>Dict{Union{String, Symbol},Any}(:multiple=>true,Symbol(\"data-bind\")=>\"options : options_js, selectedOptions : index, optionsText: 'key', optionsValue: 'val', valueAllowUnset: true, optionsAfterRender: disablePlaceholder\")), 0)], Dict{Symbol,Any}(:className=>\"select is-multiple \"), 1), Dict{String,Tuple{Observables.AbstractObservable,Union{Nothing, Bool}}}(\"options_js\"=>(Observable{Any} with 1 listeners. Value:\n",
       "OrderedDict[OrderedDict{String,Any}(\"key\"=>\"Second axis\",\"val\"=>0,\"id\"=>\"id3VVBObgH\"), OrderedDict{String,Any}(\"key\"=>\"SepalLength\",\"val\"=>1,\"id\"=>\"idQB83Uii5\"), OrderedDict{String,Any}(\"key\"=>\"SepalWidth\",\"val\"=>2,\"id\"=>\"id9MzL3BW9\"), OrderedDict{String,Any}(\"key\"=>\"PetalLength\",\"val\"=>3,\"id\"=>\"idfXgiDHXs\"), OrderedDict{String,Any}(\"key\"=>\"PetalWidth\",\"val\"=>4,\"id\"=>\"idLLyjg9ai\"), OrderedDict{String,Any}(\"key\"=>\"Species\",\"val\"=>5,\"id\"=>\"idVw6dWb4t\")], nothing),\"index\"=>(Observable{Any} with 2 listeners. Value:\n",
       "Int64[], nothing)), Set(String[]), nothing, Any[\"knockout\"=>\"/mnt/c/Users/Maxime/wsl/.julia/packages/Knockout/JIqpG/src/../assets/knockout.js\", \"knockout_punches\"=>\"/mnt/c/Users/Maxime/wsl/.julia/packages/Knockout/JIqpG/src/../assets/knockout_punches.js\", \"/mnt/c/Users/Maxime/wsl/.julia/packages/InteractBase/Q4IkI/src/../assets/all.js\", \"/mnt/c/Users/Maxime/wsl/.julia/packages/InteractBase/Q4IkI/src/../assets/style.css\", \"/mnt/c/Users/Maxime/wsl/.julia/packages/InteractBulma/Ohu5Y/src/../assets/main.css\"], Dict{Any,Any}(\"_promises\"=>Dict{Any,Any}(\"importsLoaded\"=>Any[JSString(\"function (ko, koPunches) {\\n    ko.punches.enableAll();\\n    ko.bindingHandlers.numericValue = {\\n        init : function(element, valueAccessor, allBindings, data, context) {\\n            var stringified = ko.observable(ko.unwrap(valueAccessor()));\\n            stringified.subscribe(function(value) {\\n                var val = parseFloat(value);\\n                if (!isNaN(val)) {\\n                    valueAccessor()(val);\\n                }\\n            })\\n            valueAccessor().subscribe(function(value) {\\n                var str = JSON.stringify(value);\\n                if ((str == \\\"0\\\") && ([\\\"-0\\\", \\\"-0.\\\"].indexOf(stringified()) >= 0))\\n                     return;\\n                 if ([\\\"null\\\", \\\"\\\"].indexOf(str) >= 0)\\n                     return;\\n                stringified(str);\\n            })\\n            ko.applyBindingsToNode(element, { value: stringified, valueUpdate: allBindings.get('valueUpdate')}, context);\\n        }\\n    };\\n    var json_data = JSON.parse(\\\"{\\\\\\\"options_js\\\\\\\":[{\\\\\\\"key\\\\\\\":\\\\\\\"Second axis\\\\\\\",\\\\\\\"val\\\\\\\":0,\\\\\\\"id\\\\\\\":\\\\\\\"id3VVBObgH\\\\\\\"},{\\\\\\\"key\\\\\\\":\\\\\\\"SepalLength\\\\\\\",\\\\\\\"val\\\\\\\":1,\\\\\\\"id\\\\\\\":\\\\\\\"idQB83Uii5\\\\\\\"},{\\\\\\\"key\\\\\\\":\\\\\\\"SepalWidth\\\\\\\",\\\\\\\"val\\\\\\\":2,\\\\\\\"id\\\\\\\":\\\\\\\"id9MzL3BW9\\\\\\\"},{\\\\\\\"key\\\\\\\":\\\\\\\"PetalLength\\\\\\\",\\\\\\\"val\\\\\\\":3,\\\\\\\"id\\\\\\\":\\\\\\\"idfXgiDHXs\\\\\\\"},{\\\\\\\"key\\\\\\\":\\\\\\\"PetalWidth\\\\\\\",\\\\\\\"val\\\\\\\":4,\\\\\\\"id\\\\\\\":\\\\\\\"idLLyjg9ai\\\\\\\"},{\\\\\\\"key\\\\\\\":\\\\\\\"Species\\\\\\\",\\\\\\\"val\\\\\\\":5,\\\\\\\"id\\\\\\\":\\\\\\\"idVw6dWb4t\\\\\\\"}],\\\\\\\"index\\\\\\\":[]}\\\");\\n    var self = this;\\n    function AppViewModel() {\\n        for (var key in json_data) {\\n            var el = json_data[key];\\n            this[key] = Array.isArray(el) ? ko.observableArray(el) : ko.observable(el);\\n        }\\n        [this[\\\"disablePlaceholder\\\"]=function(option, item) {\\n    ko.applyBindingsToNode(option, {disable: item.val == 0}, item);\\n}\\n]\\n        \\n        [this[\\\"options_js\\\"].subscribe((function (val){!(this.valueFromJulia[\\\"options_js\\\"]) ? (_webIOScope.setObservableValue({\\\"name\\\":\\\"options_js\\\",\\\"scope\\\":\\\"knockout-component-c26000ec-ad0b-48ae-a4f7-426c975ed57f\\\",\\\"id\\\":\\\"ob_80\\\",\\\"type\\\":\\\"observable\\\"},val)) : undefined; return this.valueFromJulia[\\\"options_js\\\"]=false}),self),this[\\\"index\\\"].subscribe((function (val){!(this.valueFromJulia[\\\"index\\\"]) ? (_webIOScope.setObservableValue({\\\"name\\\":\\\"index\\\",\\\"scope\\\":\\\"knockout-component-c26000ec-ad0b-48ae-a4f7-426c975ed57f\\\",\\\"id\\\":\\\"ob_79\\\",\\\"type\\\":\\\"observable\\\"},val)) : undefined; return this.valueFromJulia[\\\"index\\\"]=false}),self)]\\n        \\n    }\\n    self.model = new AppViewModel();\\n    self.valueFromJulia = {};\\n    for (var key in json_data) {\\n        self.valueFromJulia[key] = false;\\n    }\\n    ko.applyBindings(self.model, self.dom);\\n}\\n\")]),\"options_js\"=>Any[JSString(\"(function (val){return (val!=this.model[\\\"options_js\\\"]()) ? (this.valueFromJulia[\\\"options_js\\\"]=true, this.model[\\\"options_js\\\"](val)) : undefined})\")],\"index\"=>Any[JSString(\"(function (val){return (val!=this.model[\\\"index\\\"]()) ? (this.valueFromJulia[\\\"index\\\"]=true, this.model[\\\"index\\\"](val)) : undefined})\")]), ConnectionPool(Channel{Any}(sz_max:9223372036854775807,sz_curr:0), Set(AbstractConnection[]), Channel{AbstractConnection}(sz_max:32,sz_curr:0))), ##52#53{#dom#13{##dom#11#12{Dict{Any,Any},DOM}},typeof(scope)}(#dom#13{##dom#11#12{Dict{Any,Any},DOM}}(##dom#11#12{Dict{Any,Any},DOM}(Dict{Any,Any}(:className=>\"field\"), DOM(:html, :div))), scope)),:y_toggle=>Widget{:togglecontent,Bool}(OrderedDict{Symbol,Any}(:changes=>Observable{Int64} with 1 listeners. Value:\n",
       "0,:value=>Observable{Bool} with 1 listeners. Value:\n",
       "false), Observable{Bool} with 1 listeners. Value:\n",
       "false, Scope(\"knockout-component-b6efd8ae-bbcd-4655-9f00-71c157b0ad4c\", Node{DOM}(DOM(:html, :div), Any[Node{DOM}(DOM(:html, :div), Any[Node{DOM}(DOM(:html, :input), Any[], Dict{Symbol,Any}(:attributes=>Dict{Any,Any}(:type=>\"checkbox\",Symbol(\"data-bind\")=>\"checked: value, valueUpdate: 'change', event: {change : function () {this.changes(this.changes()+1)}}\"),:id=>\"##373\",:className=>\"switch \",:style=>Dict{Any,Any}()), 0), Node{DOM}(DOM(:html, :label), Any[\"Second axis\"], Dict{Symbol,Any}(:attributes=>Dict(\"className\"=>\"\",\"for\"=>\"##373\")), 1)], Dict{Symbol,Any}(:className=>\"field\"), 3), Node{DOM}(DOM(:html, :div), Any[Widget{:dropdown,Any}(OrderedDict{Symbol,Any}(:options=>Observable{Any} with 6 listeners. Value:\n",
       "Symbol[:SepalLength, :SepalWidth, :PetalLength, :PetalWidth, :Species],:index=>Observable{Any} with 2 listeners. Value:\n",
       "Int64[]), Observable{Any} with 1 listeners. Value:\n",
       "Symbol[], Scope(\"knockout-component-c26000ec-ad0b-48ae-a4f7-426c975ed57f\", Node{DOM}(DOM(:html, :div), Any[Node{DOM}(DOM(:html, :select), Any[], Dict{Symbol,Any}(:attributes=>Dict{Union{String, Symbol},Any}(:multiple=>true,Symbol(\"data-bind\")=>\"options : options_js, selectedOptions : index, optionsText: 'key', optionsValue: 'val', valueAllowUnset: true, optionsAfterRender: disablePlaceholder\")), 0)], Dict{Symbol,Any}(:className=>\"select is-multiple \"), 1), Dict{String,Tuple{Observables.AbstractObservable,Union{Nothing, Bool}}}(\"options_js\"=>(Observable{Any} with 1 listeners. Value:\n",
       "OrderedDict[OrderedDict{String,Any}(\"key\"=>\"Second axis\",\"val\"=>0,\"id\"=>\"id3VVBObgH\"), OrderedDict{String,Any}(\"key\"=>\"SepalLength\",\"val\"=>1,\"id\"=>\"idQB83Uii5\"), OrderedDict{String,Any}(\"key\"=>\"SepalWidth\",\"val\"=>2,\"id\"=>\"id9MzL3BW9\"), OrderedDict{String,Any}(\"key\"=>\"PetalLength\",\"val\"=>3,\"id\"=>\"idfXgiDHXs\"), OrderedDict{String,Any}(\"key\"=>\"PetalWidth\",\"val\"=>4,\"id\"=>\"idLLyjg9ai\"), OrderedDict{String,Any}(\"key\"=>\"Species\",\"val\"=>5,\"id\"=>\"idVw6dWb4t\")], nothing),\"index\"=>(Observable{Any} with 2 listeners. Value:\n",
       "Int64[], nothing)), Set(String[]), nothing, Any[\"knockout\"=>\"/mnt/c/Users/Maxime/wsl/.julia/packages/Knockout/JIqpG/src/../assets/knockout.js\", \"knockout_punches\"=>\"/mnt/c/Users/Maxime/wsl/.julia/packages/Knockout/JIqpG/src/../assets/knockout_punches.js\", \"/mnt/c/Users/Maxime/wsl/.julia/packages/InteractBase/Q4IkI/src/../assets/all.js\", \"/mnt/c/Users/Maxime/wsl/.julia/packages/InteractBase/Q4IkI/src/../assets/style.css\", \"/mnt/c/Users/Maxime/wsl/.julia/packages/InteractBulma/Ohu5Y/src/../assets/main.css\"], Dict{Any,Any}(\"_promises\"=>Dict{Any,Any}(\"importsLoaded\"=>Any[JSString(\"function (ko, koPunches) {\\n    ko.punches.enableAll();\\n    ko.bindingHandlers.numericValue = {\\n        init : function(element, valueAccessor, allBindings, data, context) {\\n            var stringified = ko.observable(ko.unwrap(valueAccessor()));\\n            stringified.subscribe(function(value) {\\n                var val = parseFloat(value);\\n                if (!isNaN(val)) {\\n                    valueAccessor()(val);\\n                }\\n            })\\n            valueAccessor().subscribe(function(value) {\\n                var str = JSON.stringify(value);\\n                if ((str == \\\"0\\\") && ([\\\"-0\\\", \\\"-0.\\\"].indexOf(stringified()) >= 0))\\n                     return;\\n                 if ([\\\"null\\\", \\\"\\\"].indexOf(str) >= 0)\\n                     return;\\n                stringified(str);\\n            })\\n            ko.applyBindingsToNode(element, { value: stringified, valueUpdate: allBindings.get('valueUpdate')}, context);\\n        }\\n    };\\n    var json_data = JSON.parse(\\\"{\\\\\\\"options_js\\\\\\\":[{\\\\\\\"key\\\\\\\":\\\\\\\"Second axis\\\\\\\",\\\\\\\"val\\\\\\\":0,\\\\\\\"id\\\\\\\":\\\\\\\"id3VVBObgH\\\\\\\"},{\\\\\\\"key\\\\\\\":\\\\\\\"SepalLength\\\\\\\",\\\\\\\"val\\\\\\\":1,\\\\\\\"id\\\\\\\":\\\\\\\"idQB83Uii5\\\\\\\"},{\\\\\\\"key\\\\\\\":\\\\\\\"SepalWidth\\\\\\\",\\\\\\\"val\\\\\\\":2,\\\\\\\"id\\\\\\\":\\\\\\\"id9MzL3BW9\\\\\\\"},{\\\\\\\"key\\\\\\\":\\\\\\\"PetalLength\\\\\\\",\\\\\\\"val\\\\\\\":3,\\\\\\\"id\\\\\\\":\\\\\\\"idfXgiDHXs\\\\\\\"},{\\\\\\\"key\\\\\\\":\\\\\\\"PetalWidth\\\\\\\",\\\\\\\"val\\\\\\\":4,\\\\\\\"id\\\\\\\":\\\\\\\"idLLyjg9ai\\\\\\\"},{\\\\\\\"key\\\\\\\":\\\\\\\"Species\\\\\\\",\\\\\\\"val\\\\\\\":5,\\\\\\\"id\\\\\\\":\\\\\\\"idVw6dWb4t\\\\\\\"}],\\\\\\\"index\\\\\\\":[]}\\\");\\n    var self = this;\\n    function AppViewModel() {\\n        for (var key in json_data) {\\n            var el = json_data[key];\\n            this[key] = Array.isArray(el) ? ko.observableArray(el) : ko.observable(el);\\n        }\\n        [this[\\\"disablePlaceholder\\\"]=function(option, item) {\\n    ko.applyBindingsToNode(option, {disable: item.val == 0}, item);\\n}\\n]\\n        \\n        [this[\\\"options_js\\\"].subscribe((function (val){!(this.valueFromJulia[\\\"options_js\\\"]) ? (_webIOScope.setObservableValue({\\\"name\\\":\\\"options_js\\\",\\\"scope\\\":\\\"knockout-component-c26000ec-ad0b-48ae-a4f7-426c975ed57f\\\",\\\"id\\\":\\\"ob_80\\\",\\\"type\\\":\\\"observable\\\"},val)) : undefined; return this.valueFromJulia[\\\"options_js\\\"]=false}),self),this[\\\"index\\\"].subscribe((function (val){!(this.valueFromJulia[\\\"index\\\"]) ? (_webIOScope.setObservableValue({\\\"name\\\":\\\"index\\\",\\\"scope\\\":\\\"knockout-component-c26000ec-ad0b-48ae-a4f7-426c975ed57f\\\",\\\"id\\\":\\\"ob_79\\\",\\\"type\\\":\\\"observable\\\"},val)) : undefined; return this.valueFromJulia[\\\"index\\\"]=false}),self)]\\n        \\n    }\\n    self.model = new AppViewModel();\\n    self.valueFromJulia = {};\\n    for (var key in json_data) {\\n        self.valueFromJulia[key] = false;\\n    }\\n    ko.applyBindings(self.model, self.dom);\\n}\\n\")]),\"options_js\"=>Any[JSString(\"(function (val){return (val!=this.model[\\\"options_js\\\"]()) ? (this.valueFromJulia[\\\"options_js\\\"]=true, this.model[\\\"options_js\\\"](val)) : undefined})\")],\"index\"=>Any[JSString(\"(function (val){return (val!=this.model[\\\"index\\\"]()) ? (this.valueFromJulia[\\\"index\\\"]=true, this.model[\\\"index\\\"](val)) : undefined})\")]), ConnectionPool(Channel{Any}(sz_max:9223372036854775807,sz_curr:0), Set(AbstractConnection[]), Channel{AbstractConnection}(sz_max:32,sz_curr:0))), ##52#53{#dom#13{##dom#11#12{Dict{Any,Any},DOM}},typeof(scope)}(#dom#13{##dom#11#12{Dict{Any,Any},DOM}}(##dom#11#12{Dict{Any,Any},DOM}(Dict{Any,Any}(:className=>\"field\"), DOM(:html, :div))), scope))], Dict{Symbol,Any}(:attributes=>Dict(\"data-bind\"=>\"visible: value\")), 1)], Dict{Symbol,Any}(:style=>Dict(\"display\"=>\"flex\",\"flex-direction\"=>\"column\")), 6), Dict{String,Tuple{Observables.AbstractObservable,Union{Nothing, Bool}}}(\"changes\"=>(Observable{Int64} with 1 listeners. Value:\n",
       "0, nothing),\"value\"=>(Observable{Bool} with 1 listeners. Value:\n",
       "false, nothing)), Set(String[]), nothing, Any[\"knockout\"=>\"/mnt/c/Users/Maxime/wsl/.julia/packages/Knockout/JIqpG/src/../assets/knockout.js\", \"knockout_punches\"=>\"/mnt/c/Users/Maxime/wsl/.julia/packages/Knockout/JIqpG/src/../assets/knockout_punches.js\", \"/mnt/c/Users/Maxime/wsl/.julia/packages/InteractBase/Q4IkI/src/../assets/all.js\", \"/mnt/c/Users/Maxime/wsl/.julia/packages/InteractBase/Q4IkI/src/../assets/style.css\", \"/mnt/c/Users/Maxime/wsl/.julia/packages/InteractBulma/Ohu5Y/src/../assets/main.css\"], Dict{Any,Any}(\"_promises\"=>Dict{Any,Any}(\"importsLoaded\"=>Any[JSString(\"function (ko, koPunches) {\\n    ko.punches.enableAll();\\n    ko.bindingHandlers.numericValue = {\\n        init : function(element, valueAccessor, allBindings, data, context) {\\n            var stringified = ko.observable(ko.unwrap(valueAccessor()));\\n            stringified.subscribe(function(value) {\\n                var val = parseFloat(value);\\n                if (!isNaN(val)) {\\n                    valueAccessor()(val);\\n                }\\n            })\\n            valueAccessor().subscribe(function(value) {\\n                var str = JSON.stringify(value);\\n                if ((str == \\\"0\\\") && ([\\\"-0\\\", \\\"-0.\\\"].indexOf(stringified()) >= 0))\\n                     return;\\n                 if ([\\\"null\\\", \\\"\\\"].indexOf(str) >= 0)\\n                     return;\\n                stringified(str);\\n            })\\n            ko.applyBindingsToNode(element, { value: stringified, valueUpdate: allBindings.get('valueUpdate')}, context);\\n        }\\n    };\\n    var json_data = JSON.parse(\\\"{\\\\\\\"changes\\\\\\\":0,\\\\\\\"value\\\\\\\":false}\\\");\\n    var self = this;\\n    function AppViewModel() {\\n        for (var key in json_data) {\\n            var el = json_data[key];\\n            this[key] = Array.isArray(el) ? ko.observableArray(el) : ko.observable(el);\\n        }\\n        \\n        \\n        [this[\\\"changes\\\"].subscribe((function (val){!(this.valueFromJulia[\\\"changes\\\"]) ? (_webIOScope.setObservableValue({\\\"name\\\":\\\"changes\\\",\\\"scope\\\":\\\"knockout-component-b6efd8ae-bbcd-4655-9f00-71c157b0ad4c\\\",\\\"id\\\":\\\"ob_82\\\",\\\"type\\\":\\\"observable\\\"},val)) : undefined; return this.valueFromJulia[\\\"changes\\\"]=false}),self),this[\\\"value\\\"].subscribe((function (val){!(this.valueFromJulia[\\\"value\\\"]) ? (_webIOScope.setObservableValue({\\\"name\\\":\\\"value\\\",\\\"scope\\\":\\\"knockout-component-b6efd8ae-bbcd-4655-9f00-71c157b0ad4c\\\",\\\"id\\\":\\\"ob_81\\\",\\\"type\\\":\\\"observable\\\"},val)) : undefined; return this.valueFromJulia[\\\"value\\\"]=false}),self)]\\n        \\n    }\\n    self.model = new AppViewModel();\\n    self.valueFromJulia = {};\\n    for (var key in json_data) {\\n        self.valueFromJulia[key] = false;\\n    }\\n    ko.applyBindings(self.model, self.dom);\\n}\\n\")]),\"changes\"=>Any[JSString(\"(function (val){return (val!=this.model[\\\"changes\\\"]()) ? (this.valueFromJulia[\\\"changes\\\"]=true, this.model[\\\"changes\\\"](val)) : undefined})\")],\"value\"=>Any[JSString(\"(function (val){return (val!=this.model[\\\"value\\\"]()) ? (this.valueFromJulia[\\\"value\\\"]=true, this.model[\\\"value\\\"](val)) : undefined})\")]), ConnectionPool(Channel{Any}(sz_max:9223372036854775807,sz_curr:0), Set(AbstractConnection[]), Channel{AbstractConnection}(sz_max:32,sz_curr:0))), ##52#53{#dom#13{##dom#11#12{Dict{Any,Any},DOM}},typeof(scope)}(#dom#13{##dom#11#12{Dict{Any,Any},DOM}}(##dom#11#12{Dict{Any,Any},DOM}(Dict{Any,Any}(:className=>\"field\"), DOM(:html, :div))), scope)),:by=>Widget{:dropdown,Any}(OrderedDict{Symbol,Any}(:options=>Observable{Any} with 6 listeners. Value:\n",
       "Symbol[:SepalLength, :SepalWidth, :PetalLength, :PetalWidth, :Species],:index=>Observable{Any} with 2 listeners. Value:\n",
       "Int64[]), Observable{Any} with 1 listeners. Value:\n",
       "Symbol[], Scope(\"knockout-component-1188f3b5-5160-4b8b-852f-256a0cec9967\", Node{DOM}(DOM(:html, :div), Any[Node{DOM}(DOM(:html, :select), Any[], Dict{Symbol,Any}(:attributes=>Dict{Union{String, Symbol},Any}(:multiple=>true,Symbol(\"data-bind\")=>\"options : options_js, selectedOptions : index, optionsText: 'key', optionsValue: 'val', valueAllowUnset: true, optionsAfterRender: disablePlaceholder\")), 0)], Dict{Symbol,Any}(:className=>\"select is-multiple \"), 1), Dict{String,Tuple{Observables.AbstractObservable,Union{Nothing, Bool}}}(\"options_js\"=>(Observable{Any} with 1 listeners. Value:\n",
       "OrderedDict[OrderedDict{String,Any}(\"key\"=>\"Group by\",\"val\"=>0,\"id\"=>\"id7U1ylb4z\"), OrderedDict{String,Any}(\"key\"=>\"SepalLength\",\"val\"=>1,\"id\"=>\"idtqPGOzwo\"), OrderedDict{String,Any}(\"key\"=>\"SepalWidth\",\"val\"=>2,\"id\"=>\"idrjmj7KHG\"), OrderedDict{String,Any}(\"key\"=>\"PetalLength\",\"val\"=>3,\"id\"=>\"idA5ivuCja\"), OrderedDict{String,Any}(\"key\"=>\"PetalWidth\",\"val\"=>4,\"id\"=>\"idjPg2eArH\"), OrderedDict{String,Any}(\"key\"=>\"Species\",\"val\"=>5,\"id\"=>\"idznWRgy7K\")], nothing),\"index\"=>(Observable{Any} with 2 listeners. Value:\n",
       "Int64[], nothing)), Set(String[]), nothing, Any[\"knockout\"=>\"/mnt/c/Users/Maxime/wsl/.julia/packages/Knockout/JIqpG/src/../assets/knockout.js\", \"knockout_punches\"=>\"/mnt/c/Users/Maxime/wsl/.julia/packages/Knockout/JIqpG/src/../assets/knockout_punches.js\", \"/mnt/c/Users/Maxime/wsl/.julia/packages/InteractBase/Q4IkI/src/../assets/all.js\", \"/mnt/c/Users/Maxime/wsl/.julia/packages/InteractBase/Q4IkI/src/../assets/style.css\", \"/mnt/c/Users/Maxime/wsl/.julia/packages/InteractBulma/Ohu5Y/src/../assets/main.css\"], Dict{Any,Any}(\"_promises\"=>Dict{Any,Any}(\"importsLoaded\"=>Any[JSString(\"function (ko, koPunches) {\\n    ko.punches.enableAll();\\n    ko.bindingHandlers.numericValue = {\\n        init : function(element, valueAccessor, allBindings, data, context) {\\n            var stringified = ko.observable(ko.unwrap(valueAccessor()));\\n            stringified.subscribe(function(value) {\\n                var val = parseFloat(value);\\n                if (!isNaN(val)) {\\n                    valueAccessor()(val);\\n                }\\n            })\\n            valueAccessor().subscribe(function(value) {\\n                var str = JSON.stringify(value);\\n                if ((str == \\\"0\\\") && ([\\\"-0\\\", \\\"-0.\\\"].indexOf(stringified()) >= 0))\\n                     return;\\n                 if ([\\\"null\\\", \\\"\\\"].indexOf(str) >= 0)\\n                     return;\\n                stringified(str);\\n            })\\n            ko.applyBindingsToNode(element, { value: stringified, valueUpdate: allBindings.get('valueUpdate')}, context);\\n        }\\n    };\\n    var json_data = JSON.parse(\\\"{\\\\\\\"options_js\\\\\\\":[{\\\\\\\"key\\\\\\\":\\\\\\\"Group by\\\\\\\",\\\\\\\"val\\\\\\\":0,\\\\\\\"id\\\\\\\":\\\\\\\"id7U1ylb4z\\\\\\\"},{\\\\\\\"key\\\\\\\":\\\\\\\"SepalLength\\\\\\\",\\\\\\\"val\\\\\\\":1,\\\\\\\"id\\\\\\\":\\\\\\\"idtqPGOzwo\\\\\\\"},{\\\\\\\"key\\\\\\\":\\\\\\\"SepalWidth\\\\\\\",\\\\\\\"val\\\\\\\":2,\\\\\\\"id\\\\\\\":\\\\\\\"idrjmj7KHG\\\\\\\"},{\\\\\\\"key\\\\\\\":\\\\\\\"PetalLength\\\\\\\",\\\\\\\"val\\\\\\\":3,\\\\\\\"id\\\\\\\":\\\\\\\"idA5ivuCja\\\\\\\"},{\\\\\\\"key\\\\\\\":\\\\\\\"PetalWidth\\\\\\\",\\\\\\\"val\\\\\\\":4,\\\\\\\"id\\\\\\\":\\\\\\\"idjPg2eArH\\\\\\\"},{\\\\\\\"key\\\\\\\":\\\\\\\"Species\\\\\\\",\\\\\\\"val\\\\\\\":5,\\\\\\\"id\\\\\\\":\\\\\\\"idznWRgy7K\\\\\\\"}],\\\\\\\"index\\\\\\\":[]}\\\");\\n    var self = this;\\n    function AppViewModel() {\\n        for (var key in json_data) {\\n            var el = json_data[key];\\n            this[key] = Array.isArray(el) ? ko.observableArray(el) : ko.observable(el);\\n        }\\n        [this[\\\"disablePlaceholder\\\"]=function(option, item) {\\n    ko.applyBindingsToNode(option, {disable: item.val == 0}, item);\\n}\\n]\\n        \\n        [this[\\\"options_js\\\"].subscribe((function (val){!(this.valueFromJulia[\\\"options_js\\\"]) ? (_webIOScope.setObservableValue({\\\"name\\\":\\\"options_js\\\",\\\"scope\\\":\\\"knockout-component-1188f3b5-5160-4b8b-852f-256a0cec9967\\\",\\\"id\\\":\\\"ob_96\\\",\\\"type\\\":\\\"observable\\\"},val)) : undefined; return this.valueFromJulia[\\\"options_js\\\"]=false}),self),this[\\\"index\\\"].subscribe((function (val){!(this.valueFromJulia[\\\"index\\\"]) ? (_webIOScope.setObservableValue({\\\"name\\\":\\\"index\\\",\\\"scope\\\":\\\"knockout-component-1188f3b5-5160-4b8b-852f-256a0cec9967\\\",\\\"id\\\":\\\"ob_95\\\",\\\"type\\\":\\\"observable\\\"},val)) : undefined; return this.valueFromJulia[\\\"index\\\"]=false}),self)]\\n        \\n    }\\n    self.model = new AppViewModel();\\n    self.valueFromJulia = {};\\n    for (var key in json_data) {\\n        self.valueFromJulia[key] = false;\\n    }\\n    ko.applyBindings(self.model, self.dom);\\n}\\n\")]),\"options_js\"=>Any[JSString(\"(function (val){return (val!=this.model[\\\"options_js\\\"]()) ? (this.valueFromJulia[\\\"options_js\\\"]=true, this.model[\\\"options_js\\\"](val)) : undefined})\")],\"index\"=>Any[JSString(\"(function (val){return (val!=this.model[\\\"index\\\"]()) ? (this.valueFromJulia[\\\"index\\\"]=true, this.model[\\\"index\\\"](val)) : undefined})\")]), ConnectionPool(Channel{Any}(sz_max:9223372036854775807,sz_curr:0), Set(AbstractConnection[]), Channel{AbstractConnection}(sz_max:32,sz_curr:0))), ##52#53{#dom#13{##dom#11#12{Dict{Any,Any},DOM}},typeof(scope)}(#dom#13{##dom#11#12{Dict{Any,Any},DOM}}(##dom#11#12{Dict{Any,Any},DOM}(Dict{Any,Any}(:className=>\"field\"), DOM(:html, :div))), scope)),:by_toggle=>Widget{:togglecontent,Bool}(OrderedDict{Symbol,Any}(:changes=>Observable{Int64} with 1 listeners. Value:\n",
       "0,:value=>Observable{Bool} with 1 listeners. Value:\n",
       "false), Observable{Bool} with 1 listeners. Value:\n",
       "false, Scope(\"knockout-component-46891989-e246-469d-ab84-7c7b96d5400f\", Node{DOM}(DOM(:html, :div), Any[Node{DOM}(DOM(:html, :div), Any[Node{DOM}(DOM(:html, :input), Any[], Dict{Symbol,Any}(:attributes=>Dict{Any,Any}(:type=>\"checkbox\",Symbol(\"data-bind\")=>\"checked: value, valueUpdate: 'change', event: {change : function () {this.changes(this.changes()+1)}}\"),:id=>\"##374\",:className=>\"switch \",:style=>Dict{Any,Any}()), 0), Node{DOM}(DOM(:html, :label), Any[\"Split data\"], Dict{Symbol,Any}(:attributes=>Dict(\"className\"=>\"\",\"for\"=>\"##374\")), 1)], Dict{Symbol,Any}(:className=>\"field\"), 3), Node{DOM}(DOM(:html, :div), Any[Widget{:dropdown,Any}(OrderedDict{Symbol,Any}(:options=>Observable{Any} with 6 listeners. Value:\n",
       "Symbol[:SepalLength, :SepalWidth, :PetalLength, :PetalWidth, :Species],:index=>Observable{Any} with 2 listeners. Value:\n",
       "Int64[]), Observable{Any} with 1 listeners. Value:\n",
       "Symbol[], Scope(\"knockout-component-1188f3b5-5160-4b8b-852f-256a0cec9967\", Node{DOM}(DOM(:html, :div), Any[Node{DOM}(DOM(:html, :select), Any[], Dict{Symbol,Any}(:attributes=>Dict{Union{String, Symbol},Any}(:multiple=>true,Symbol(\"data-bind\")=>\"options : options_js, selectedOptions : index, optionsText: 'key', optionsValue: 'val', valueAllowUnset: true, optionsAfterRender: disablePlaceholder\")), 0)], Dict{Symbol,Any}(:className=>\"select is-multiple \"), 1), Dict{String,Tuple{Observables.AbstractObservable,Union{Nothing, Bool}}}(\"options_js\"=>(Observable{Any} with 1 listeners. Value:\n",
       "OrderedDict[OrderedDict{String,Any}(\"key\"=>\"Group by\",\"val\"=>0,\"id\"=>\"id7U1ylb4z\"), OrderedDict{String,Any}(\"key\"=>\"SepalLength\",\"val\"=>1,\"id\"=>\"idtqPGOzwo\"), OrderedDict{String,Any}(\"key\"=>\"SepalWidth\",\"val\"=>2,\"id\"=>\"idrjmj7KHG\"), OrderedDict{String,Any}(\"key\"=>\"PetalLength\",\"val\"=>3,\"id\"=>\"idA5ivuCja\"), OrderedDict{String,Any}(\"key\"=>\"PetalWidth\",\"val\"=>4,\"id\"=>\"idjPg2eArH\"), OrderedDict{String,Any}(\"key\"=>\"Species\",\"val\"=>5,\"id\"=>\"idznWRgy7K\")], nothing),\"index\"=>(Observable{Any} with 2 listeners. Value:\n",
       "Int64[], nothing)), Set(String[]), nothing, Any[\"knockout\"=>\"/mnt/c/Users/Maxime/wsl/.julia/packages/Knockout/JIqpG/src/../assets/knockout.js\", \"knockout_punches\"=>\"/mnt/c/Users/Maxime/wsl/.julia/packages/Knockout/JIqpG/src/../assets/knockout_punches.js\", \"/mnt/c/Users/Maxime/wsl/.julia/packages/InteractBase/Q4IkI/src/../assets/all.js\", \"/mnt/c/Users/Maxime/wsl/.julia/packages/InteractBase/Q4IkI/src/../assets/style.css\", \"/mnt/c/Users/Maxime/wsl/.julia/packages/InteractBulma/Ohu5Y/src/../assets/main.css\"], Dict{Any,Any}(\"_promises\"=>Dict{Any,Any}(\"importsLoaded\"=>Any[JSString(\"function (ko, koPunches) {\\n    ko.punches.enableAll();\\n    ko.bindingHandlers.numericValue = {\\n        init : function(element, valueAccessor, allBindings, data, context) {\\n            var stringified = ko.observable(ko.unwrap(valueAccessor()));\\n            stringified.subscribe(function(value) {\\n                var val = parseFloat(value);\\n                if (!isNaN(val)) {\\n                    valueAccessor()(val);\\n                }\\n            })\\n            valueAccessor().subscribe(function(value) {\\n                var str = JSON.stringify(value);\\n                if ((str == \\\"0\\\") && ([\\\"-0\\\", \\\"-0.\\\"].indexOf(stringified()) >= 0))\\n                     return;\\n                 if ([\\\"null\\\", \\\"\\\"].indexOf(str) >= 0)\\n                     return;\\n                stringified(str);\\n            })\\n            ko.applyBindingsToNode(element, { value: stringified, valueUpdate: allBindings.get('valueUpdate')}, context);\\n        }\\n    };\\n    var json_data = JSON.parse(\\\"{\\\\\\\"options_js\\\\\\\":[{\\\\\\\"key\\\\\\\":\\\\\\\"Group by\\\\\\\",\\\\\\\"val\\\\\\\":0,\\\\\\\"id\\\\\\\":\\\\\\\"id7U1ylb4z\\\\\\\"},{\\\\\\\"key\\\\\\\":\\\\\\\"SepalLength\\\\\\\",\\\\\\\"val\\\\\\\":1,\\\\\\\"id\\\\\\\":\\\\\\\"idtqPGOzwo\\\\\\\"},{\\\\\\\"key\\\\\\\":\\\\\\\"SepalWidth\\\\\\\",\\\\\\\"val\\\\\\\":2,\\\\\\\"id\\\\\\\":\\\\\\\"idrjmj7KHG\\\\\\\"},{\\\\\\\"key\\\\\\\":\\\\\\\"PetalLength\\\\\\\",\\\\\\\"val\\\\\\\":3,\\\\\\\"id\\\\\\\":\\\\\\\"idA5ivuCja\\\\\\\"},{\\\\\\\"key\\\\\\\":\\\\\\\"PetalWidth\\\\\\\",\\\\\\\"val\\\\\\\":4,\\\\\\\"id\\\\\\\":\\\\\\\"idjPg2eArH\\\\\\\"},{\\\\\\\"key\\\\\\\":\\\\\\\"Species\\\\\\\",\\\\\\\"val\\\\\\\":5,\\\\\\\"id\\\\\\\":\\\\\\\"idznWRgy7K\\\\\\\"}],\\\\\\\"index\\\\\\\":[]}\\\");\\n    var self = this;\\n    function AppViewModel() {\\n        for (var key in json_data) {\\n            var el = json_data[key];\\n            this[key] = Array.isArray(el) ? ko.observableArray(el) : ko.observable(el);\\n        }\\n        [this[\\\"disablePlaceholder\\\"]=function(option, item) {\\n    ko.applyBindingsToNode(option, {disable: item.val == 0}, item);\\n}\\n]\\n        \\n        [this[\\\"options_js\\\"].subscribe((function (val){!(this.valueFromJulia[\\\"options_js\\\"]) ? (_webIOScope.setObservableValue({\\\"name\\\":\\\"options_js\\\",\\\"scope\\\":\\\"knockout-component-1188f3b5-5160-4b8b-852f-256a0cec9967\\\",\\\"id\\\":\\\"ob_96\\\",\\\"type\\\":\\\"observable\\\"},val)) : undefined; return this.valueFromJulia[\\\"options_js\\\"]=false}),self),this[\\\"index\\\"].subscribe((function (val){!(this.valueFromJulia[\\\"index\\\"]) ? (_webIOScope.setObservableValue({\\\"name\\\":\\\"index\\\",\\\"scope\\\":\\\"knockout-component-1188f3b5-5160-4b8b-852f-256a0cec9967\\\",\\\"id\\\":\\\"ob_95\\\",\\\"type\\\":\\\"observable\\\"},val)) : undefined; return this.valueFromJulia[\\\"index\\\"]=false}),self)]\\n        \\n    }\\n    self.model = new AppViewModel();\\n    self.valueFromJulia = {};\\n    for (var key in json_data) {\\n        self.valueFromJulia[key] = false;\\n    }\\n    ko.applyBindings(self.model, self.dom);\\n}\\n\")]),\"options_js\"=>Any[JSString(\"(function (val){return (val!=this.model[\\\"options_js\\\"]()) ? (this.valueFromJulia[\\\"options_js\\\"]=true, this.model[\\\"options_js\\\"](val)) : undefined})\")],\"index\"=>Any[JSString(\"(function (val){return (val!=this.model[\\\"index\\\"]()) ? (this.valueFromJulia[\\\"index\\\"]=true, this.model[\\\"index\\\"](val)) : undefined})\")]), ConnectionPool(Channel{Any}(sz_max:9223372036854775807,sz_curr:0), Set(AbstractConnection[]), Channel{AbstractConnection}(sz_max:32,sz_curr:0))), ##52#53{#dom#13{##dom#11#12{Dict{Any,Any},DOM}},typeof(scope)}(#dom#13{##dom#11#12{Dict{Any,Any},DOM}}(##dom#11#12{Dict{Any,Any},DOM}(Dict{Any,Any}(:className=>\"field\"), DOM(:html, :div))), scope))], Dict{Symbol,Any}(:attributes=>Dict(\"data-bind\"=>\"visible: value\")), 1)], Dict{Symbol,Any}(:style=>Dict(\"display\"=>\"flex\",\"flex-direction\"=>\"column\")), 6), Dict{String,Tuple{Observables.AbstractObservable,Union{Nothing, Bool}}}(\"changes\"=>(Observable{Int64} with 1 listeners. Value:\n",
       "0, nothing),\"value\"=>(Observable{Bool} with 1 listeners. Value:\n",
       "false, nothing)), Set(String[]), nothing, Any[\"knockout\"=>\"/mnt/c/Users/Maxime/wsl/.julia/packages/Knockout/JIqpG/src/../assets/knockout.js\", \"knockout_punches\"=>\"/mnt/c/Users/Maxime/wsl/.julia/packages/Knockout/JIqpG/src/../assets/knockout_punches.js\", \"/mnt/c/Users/Maxime/wsl/.julia/packages/InteractBase/Q4IkI/src/../assets/all.js\", \"/mnt/c/Users/Maxime/wsl/.julia/packages/InteractBase/Q4IkI/src/../assets/style.css\", \"/mnt/c/Users/Maxime/wsl/.julia/packages/InteractBulma/Ohu5Y/src/../assets/main.css\"], Dict{Any,Any}(\"_promises\"=>Dict{Any,Any}(\"importsLoaded\"=>Any[JSString(\"function (ko, koPunches) {\\n    ko.punches.enableAll();\\n    ko.bindingHandlers.numericValue = {\\n        init : function(element, valueAccessor, allBindings, data, context) {\\n            var stringified = ko.observable(ko.unwrap(valueAccessor()));\\n            stringified.subscribe(function(value) {\\n                var val = parseFloat(value);\\n                if (!isNaN(val)) {\\n                    valueAccessor()(val);\\n                }\\n            })\\n            valueAccessor().subscribe(function(value) {\\n                var str = JSON.stringify(value);\\n                if ((str == \\\"0\\\") && ([\\\"-0\\\", \\\"-0.\\\"].indexOf(stringified()) >= 0))\\n                     return;\\n                 if ([\\\"null\\\", \\\"\\\"].indexOf(str) >= 0)\\n                     return;\\n                stringified(str);\\n            })\\n            ko.applyBindingsToNode(element, { value: stringified, valueUpdate: allBindings.get('valueUpdate')}, context);\\n        }\\n    };\\n    var json_data = JSON.parse(\\\"{\\\\\\\"changes\\\\\\\":0,\\\\\\\"value\\\\\\\":false}\\\");\\n    var self = this;\\n    function AppViewModel() {\\n        for (var key in json_data) {\\n            var el = json_data[key];\\n            this[key] = Array.isArray(el) ? ko.observableArray(el) : ko.observable(el);\\n        }\\n        \\n        \\n        [this[\\\"changes\\\"].subscribe((function (val){!(this.valueFromJulia[\\\"changes\\\"]) ? (_webIOScope.setObservableValue({\\\"name\\\":\\\"changes\\\",\\\"scope\\\":\\\"knockout-component-46891989-e246-469d-ab84-7c7b96d5400f\\\",\\\"id\\\":\\\"ob_98\\\",\\\"type\\\":\\\"observable\\\"},val)) : undefined; return this.valueFromJulia[\\\"changes\\\"]=false}),self),this[\\\"value\\\"].subscribe((function (val){!(this.valueFromJulia[\\\"value\\\"]) ? (_webIOScope.setObservableValue({\\\"name\\\":\\\"value\\\",\\\"scope\\\":\\\"knockout-component-46891989-e246-469d-ab84-7c7b96d5400f\\\",\\\"id\\\":\\\"ob_97\\\",\\\"type\\\":\\\"observable\\\"},val)) : undefined; return this.valueFromJulia[\\\"value\\\"]=false}),self)]\\n        \\n    }\\n    self.model = new AppViewModel();\\n    self.valueFromJulia = {};\\n    for (var key in json_data) {\\n        self.valueFromJulia[key] = false;\\n    }\\n    ko.applyBindings(self.model, self.dom);\\n}\\n\")]),\"changes\"=>Any[JSString(\"(function (val){return (val!=this.model[\\\"changes\\\"]()) ? (this.valueFromJulia[\\\"changes\\\"]=true, this.model[\\\"changes\\\"](val)) : undefined})\")],\"value\"=>Any[JSString(\"(function (val){return (val!=this.model[\\\"value\\\"]()) ? (this.valueFromJulia[\\\"value\\\"]=true, this.model[\\\"value\\\"](val)) : undefined})\")]), ConnectionPool(Channel{Any}(sz_max:9223372036854775807,sz_curr:0), Set(AbstractConnection[]), Channel{AbstractConnection}(sz_max:32,sz_curr:0))), ##52#53{#dom#13{##dom#11#12{Dict{Any,Any},DOM}},typeof(scope)}(#dom#13{##dom#11#12{Dict{Any,Any},DOM}}(##dom#11#12{Dict{Any,Any},DOM}(Dict{Any,Any}(:className=>\"field\"), DOM(:html, :div))), scope)),:plot_type=>Widget{:dropdown,Any}(OrderedDict{Symbol,Any}(:options=>Observable{Any} with 2 listeners. Value:\n",
       "OrderedDict{String,Any}(\"line\"=>plot,\"scatter\"=>scatter,\"bar\"=>groupedbar,\"boxplot\"=>boxplot,\"corrplot\"=>corrplot,\"cornerplot\"=>cornerplot,\"density\"=>density,\"histogram\"=>histogram,\"marginalhist\"=>marginalhist,\"violin\"=>violin…),:index=>Observable{Any} with 2 listeners. Value:\n",
       "1), Observable{Any} with 2 listeners. Value:\n",
       "plot, Scope(\"knockout-component-79042f24-c5c5-4347-9400-46bfc01c866b\", Node{DOM}(DOM(:html, :div), Any[Node{DOM}(DOM(:html, :select), Any[], Dict{Symbol,Any}(:attributes=>Dict{Union{String, Symbol},Any}(Symbol(\"data-bind\")=>\"options : options_js, value : index, optionsText: 'key', optionsValue: 'val', valueAllowUnset: true, optionsAfterRender: disablePlaceholder\")), 0)], Dict{Symbol,Any}(:className=>\"select \"), 1), Dict{String,Tuple{Observables.AbstractObservable,Union{Nothing, Bool}}}(\"options_js\"=>(Observable{Any} with 1 listeners. Value:\n",
       "OrderedDict[OrderedDict{String,Any}(\"key\"=>\"Plot type\",\"val\"=>0,\"id\"=>\"idKsarUlp4\"), OrderedDict{String,Any}(\"key\"=>\"line\",\"val\"=>1,\"id\"=>\"idXxkBLXMu\"), OrderedDict{String,Any}(\"key\"=>\"scatter\",\"val\"=>2,\"id\"=>\"idC7p4NgVi\"), OrderedDict{String,Any}(\"key\"=>\"bar\",\"val\"=>3,\"id\"=>\"idWAW6SeXq\"), OrderedDict{String,Any}(\"key\"=>\"boxplot\",\"val\"=>4,\"id\"=>\"idpw27663k\"), OrderedDict{String,Any}(\"key\"=>\"corrplot\",\"val\"=>5,\"id\"=>\"id2ARVJDXE\"), OrderedDict{String,Any}(\"key\"=>\"cornerplot\",\"val\"=>6,\"id\"=>\"idX9lxWFOC\"), OrderedDict{String,Any}(\"key\"=>\"density\",\"val\"=>7,\"id\"=>\"idet4Hs9nt\"), OrderedDict{String,Any}(\"key\"=>\"histogram\",\"val\"=>8,\"id\"=>\"idt0q3FOUs\"), OrderedDict{String,Any}(\"key\"=>\"marginalhist\",\"val\"=>9,\"id\"=>\"idQNSzS9Mb\"), OrderedDict{String,Any}(\"key\"=>\"violin\",\"val\"=>10,\"id\"=>\"idLqSrMTYY\")], nothing),\"index\"=>(Observable{Any} with 2 listeners. Value:\n",
       "1, nothing)), Set(String[]), nothing, Any[\"knockout\"=>\"/mnt/c/Users/Maxime/wsl/.julia/packages/Knockout/JIqpG/src/../assets/knockout.js\", \"knockout_punches\"=>\"/mnt/c/Users/Maxime/wsl/.julia/packages/Knockout/JIqpG/src/../assets/knockout_punches.js\", \"/mnt/c/Users/Maxime/wsl/.julia/packages/InteractBase/Q4IkI/src/../assets/all.js\", \"/mnt/c/Users/Maxime/wsl/.julia/packages/InteractBase/Q4IkI/src/../assets/style.css\", \"/mnt/c/Users/Maxime/wsl/.julia/packages/InteractBulma/Ohu5Y/src/../assets/main.css\"], Dict{Any,Any}(\"_promises\"=>Dict{Any,Any}(\"importsLoaded\"=>Any[JSString(\"function (ko, koPunches) {\\n    ko.punches.enableAll();\\n    ko.bindingHandlers.numericValue = {\\n        init : function(element, valueAccessor, allBindings, data, context) {\\n            var stringified = ko.observable(ko.unwrap(valueAccessor()));\\n            stringified.subscribe(function(value) {\\n                var val = parseFloat(value);\\n                if (!isNaN(val)) {\\n                    valueAccessor()(val);\\n                }\\n            })\\n            valueAccessor().subscribe(function(value) {\\n                var str = JSON.stringify(value);\\n                if ((str == \\\"0\\\") && ([\\\"-0\\\", \\\"-0.\\\"].indexOf(stringified()) >= 0))\\n                     return;\\n                 if ([\\\"null\\\", \\\"\\\"].indexOf(str) >= 0)\\n                     return;\\n                stringified(str);\\n            })\\n            ko.applyBindingsToNode(element, { value: stringified, valueUpdate: allBindings.get('valueUpdate')}, context);\\n        }\\n    };\\n    var json_data = JSON.parse(\\\"{\\\\\\\"options_js\\\\\\\":[{\\\\\\\"key\\\\\\\":\\\\\\\"Plot type\\\\\\\",\\\\\\\"val\\\\\\\":0,\\\\\\\"id\\\\\\\":\\\\\\\"idKsarUlp4\\\\\\\"},{\\\\\\\"key\\\\\\\":\\\\\\\"line\\\\\\\",\\\\\\\"val\\\\\\\":1,\\\\\\\"id\\\\\\\":\\\\\\\"idXxkBLXMu\\\\\\\"},{\\\\\\\"key\\\\\\\":\\\\\\\"scatter\\\\\\\",\\\\\\\"val\\\\\\\":2,\\\\\\\"id\\\\\\\":\\\\\\\"idC7p4NgVi\\\\\\\"},{\\\\\\\"key\\\\\\\":\\\\\\\"bar\\\\\\\",\\\\\\\"val\\\\\\\":3,\\\\\\\"id\\\\\\\":\\\\\\\"idWAW6SeXq\\\\\\\"},{\\\\\\\"key\\\\\\\":\\\\\\\"boxplot\\\\\\\",\\\\\\\"val\\\\\\\":4,\\\\\\\"id\\\\\\\":\\\\\\\"idpw27663k\\\\\\\"},{\\\\\\\"key\\\\\\\":\\\\\\\"corrplot\\\\\\\",\\\\\\\"val\\\\\\\":5,\\\\\\\"id\\\\\\\":\\\\\\\"id2ARVJDXE\\\\\\\"},{\\\\\\\"key\\\\\\\":\\\\\\\"cornerplot\\\\\\\",\\\\\\\"val\\\\\\\":6,\\\\\\\"id\\\\\\\":\\\\\\\"idX9lxWFOC\\\\\\\"},{\\\\\\\"key\\\\\\\":\\\\\\\"density\\\\\\\",\\\\\\\"val\\\\\\\":7,\\\\\\\"id\\\\\\\":\\\\\\\"idet4Hs9nt\\\\\\\"},{\\\\\\\"key\\\\\\\":\\\\\\\"histogram\\\\\\\",\\\\\\\"val\\\\\\\":8,\\\\\\\"id\\\\\\\":\\\\\\\"idt0q3FOUs\\\\\\\"},{\\\\\\\"key\\\\\\\":\\\\\\\"marginalhist\\\\\\\",\\\\\\\"val\\\\\\\":9,\\\\\\\"id\\\\\\\":\\\\\\\"idQNSzS9Mb\\\\\\\"},{\\\\\\\"key\\\\\\\":\\\\\\\"violin\\\\\\\",\\\\\\\"val\\\\\\\":10,\\\\\\\"id\\\\\\\":\\\\\\\"idLqSrMTYY\\\\\\\"}],\\\\\\\"index\\\\\\\":1}\\\");\\n    var self = this;\\n    function AppViewModel() {\\n        for (var key in json_data) {\\n            var el = json_data[key];\\n            this[key] = Array.isArray(el) ? ko.observableArray(el) : ko.observable(el);\\n        }\\n        [this[\\\"disablePlaceholder\\\"]=function(option, item) {\\n    ko.applyBindingsToNode(option, {disable: item.val == 0}, item);\\n}\\n]\\n        \\n        [this[\\\"options_js\\\"].subscribe((function (val){!(this.valueFromJulia[\\\"options_js\\\"]) ? (_webIOScope.setObservableValue({\\\"name\\\":\\\"options_js\\\",\\\"scope\\\":\\\"knockout-component-79042f24-c5c5-4347-9400-46bfc01c866b\\\",\\\"id\\\":\\\"ob_87\\\",\\\"type\\\":\\\"observable\\\"},val)) : undefined; return this.valueFromJulia[\\\"options_js\\\"]=false}),self),this[\\\"index\\\"].subscribe((function (val){!(this.valueFromJulia[\\\"index\\\"]) ? (_webIOScope.setObservableValue({\\\"name\\\":\\\"index\\\",\\\"scope\\\":\\\"knockout-component-79042f24-c5c5-4347-9400-46bfc01c866b\\\",\\\"id\\\":\\\"ob_86\\\",\\\"type\\\":\\\"observable\\\"},val)) : undefined; return this.valueFromJulia[\\\"index\\\"]=false}),self)]\\n        \\n    }\\n    self.model = new AppViewModel();\\n    self.valueFromJulia = {};\\n    for (var key in json_data) {\\n        self.valueFromJulia[key] = false;\\n    }\\n    ko.applyBindings(self.model, self.dom);\\n}\\n\")]),\"options_js\"=>Any[JSString(\"(function (val){return (val!=this.model[\\\"options_js\\\"]()) ? (this.valueFromJulia[\\\"options_js\\\"]=true, this.model[\\\"options_js\\\"](val)) : undefined})\")],\"index\"=>Any[JSString(\"(function (val){return (val!=this.model[\\\"index\\\"]()) ? (this.valueFromJulia[\\\"index\\\"]=true, this.model[\\\"index\\\"](val)) : undefined})\")]), ConnectionPool(Channel{Any}(sz_max:9223372036854775807,sz_curr:0), Set(AbstractConnection[]), Channel{AbstractConnection}(sz_max:32,sz_curr:0))), ##52#53{#dom#13{##dom#11#12{Dict{Any,Any},DOM}},typeof(scope)}(#dom#13{##dom#11#12{Dict{Any,Any},DOM}}(##dom#11#12{Dict{Any,Any},DOM}(Dict{Any,Any}(:className=>\"field\"), DOM(:html, :div))), scope)),:plot_button=>Widget{:button,Int64}(OrderedDict{Symbol,Any}(), Observable{Int64} with 2 listeners. Value:\n",
       "0, Scope(\"knockout-component-d857aa67-bd01-4da4-9ad9-92da950db236\", Node{DOM}(DOM(:html, :button), Any[\"plot\"], Dict{Symbol,Any}(:attributes=>Dict{Any,Any}(\"data-bind\"=>\"click : function () {this.clicks(this.clicks()+1)}\"),:className=>\"button is-primary\",:style=>Dict{String,Any}()), 1), Dict{String,Tuple{Observables.AbstractObservable,Union{Nothing, Bool}}}(\"clicks\"=>(Observable{Int64} with 2 listeners. Value:\n",
       "0, nothing)), Set(String[]), nothing, Any[\"knockout\"=>\"/mnt/c/Users/Maxime/wsl/.julia/packages/Knockout/JIqpG/src/../assets/knockout.js\", \"knockout_punches\"=>\"/mnt/c/Users/Maxime/wsl/.julia/packages/Knockout/JIqpG/src/../assets/knockout_punches.js\", \"/mnt/c/Users/Maxime/wsl/.julia/packages/InteractBase/Q4IkI/src/../assets/all.js\", \"/mnt/c/Users/Maxime/wsl/.julia/packages/InteractBase/Q4IkI/src/../assets/style.css\", \"/mnt/c/Users/Maxime/wsl/.julia/packages/InteractBulma/Ohu5Y/src/../assets/main.css\"], Dict{Any,Any}(\"_promises\"=>Dict{Any,Any}(\"importsLoaded\"=>Any[JSString(\"function (ko, koPunches) {\\n    ko.punches.enableAll();\\n    ko.bindingHandlers.numericValue = {\\n        init : function(element, valueAccessor, allBindings, data, context) {\\n            var stringified = ko.observable(ko.unwrap(valueAccessor()));\\n            stringified.subscribe(function(value) {\\n                var val = parseFloat(value);\\n                if (!isNaN(val)) {\\n                    valueAccessor()(val);\\n                }\\n            })\\n            valueAccessor().subscribe(function(value) {\\n                var str = JSON.stringify(value);\\n                if ((str == \\\"0\\\") && ([\\\"-0\\\", \\\"-0.\\\"].indexOf(stringified()) >= 0))\\n                     return;\\n                 if ([\\\"null\\\", \\\"\\\"].indexOf(str) >= 0)\\n                     return;\\n                stringified(str);\\n            })\\n            ko.applyBindingsToNode(element, { value: stringified, valueUpdate: allBindings.get('valueUpdate')}, context);\\n        }\\n    };\\n    var json_data = JSON.parse(\\\"{\\\\\\\"clicks\\\\\\\":0}\\\");\\n    var self = this;\\n    function AppViewModel() {\\n        for (var key in json_data) {\\n            var el = json_data[key];\\n            this[key] = Array.isArray(el) ? ko.observableArray(el) : ko.observable(el);\\n        }\\n        \\n        \\n        [this[\\\"clicks\\\"].subscribe((function (val){!(this.valueFromJulia[\\\"clicks\\\"]) ? (_webIOScope.setObservableValue({\\\"name\\\":\\\"clicks\\\",\\\"scope\\\":\\\"knockout-component-d857aa67-bd01-4da4-9ad9-92da950db236\\\",\\\"id\\\":\\\"ob_99\\\",\\\"type\\\":\\\"observable\\\"},val)) : undefined; return this.valueFromJulia[\\\"clicks\\\"]=false}),self)]\\n        \\n    }\\n    self.model = new AppViewModel();\\n    self.valueFromJulia = {};\\n    for (var key in json_data) {\\n        self.valueFromJulia[key] = false;\\n    }\\n    ko.applyBindings(self.model, self.dom);\\n}\\n\")]),\"clicks\"=>Any[JSString(\"(function (val){return (val!=this.model[\\\"clicks\\\"]()) ? (this.valueFromJulia[\\\"clicks\\\"]=true, this.model[\\\"clicks\\\"](val)) : undefined})\")]), ConnectionPool(Channel{Any}(sz_max:9223372036854775807,sz_curr:0), Set(AbstractConnection[]), Channel{AbstractConnection}(sz_max:32,sz_curr:0))), ##52#53{#dom#13{##dom#11#12{Dict{Any,Any},DOM}},typeof(scope)}(#dom#13{##dom#11#12{Dict{Any,Any},DOM}}(##dom#11#12{Dict{Any,Any},DOM}(Dict{Any,Any}(:className=>\"field\"), DOM(:html, :div))), scope)),:nbins=>Widget{:slider,Int64}(OrderedDict{Symbol,Any}(:changes=>Observable{Int64} with 1 listeners. Value:\n",
       "0,:value=>Observable{Int64} with 2 listeners. Value:\n",
       "30,:display=>Observable{Any} with 1 listeners. Value:\n",
       "\"none\"), Observable{Int64} with 2 listeners. Value:\n",
       "30, Scope(\"knockout-component-1ef9d71d-732e-4b29-88b6-47300c743e77\", Node{DOM}(DOM(:html, :div), Any[Node{DOM}(DOM(:html, :div), Any[Node{DOM}(DOM(:html, :div), Any[Node{DOM}(DOM(:html, :label), Any[\"number of bins\"], Dict{Symbol,Any}(:className=>\"interact \",:style=>Dict{Any,Any}(:padding=>\"5px 10px 0px 10px\")), 1)], Dict{Symbol,Any}(:attributes=>Dict(\"style\"=>\"text-align:right;width:18%\")), 2), Node{DOM}(DOM(:html, :div), Any[Node{DOM}(DOM(:html, :input), Any[], Dict{Symbol,Any}(:max=>100,:min=>1,:attributes=>Dict{Any,Any}(:type=>\"range\",Symbol(\"data-bind\")=>\"numericValue: value, valueUpdate: 'input', event: {change : function () {this.changes(this.changes()+1)}}\",\"orient\"=>\"horizontal\"),:step=>1,:className=>\"slider slider is-fullwidth\",:style=>Dict{Any,Any}()), 0)], Dict{Symbol,Any}(:attributes=>Dict(\"style\"=>\"flex-grow:1; margin: 0 2%\")), 1), Node{DOM}(DOM(:html, :div), Any[Node{DOM}(DOM(:html, :p), Any[], Dict{Symbol,Any}(:attributes=>Dict(\"data-bind\"=>\"text: value\")), 0)], Dict{Symbol,Any}(:attributes=>Dict(\"style\"=>\"width:18%\")), 1)], Dict{Symbol,Any}(:attributes=>Dict(\"style\"=>\"display:flex; justify-content:center; align-items:center;\")), 7)], Dict{Symbol,Any}(:attributes=>Dict(\"data-bind\"=>\"style: {display: display}\")), 8), Dict{String,Tuple{Observables.AbstractObservable,Union{Nothing, Bool}}}(\"display\"=>(Observable{Any} with 1 listeners. Value:\n",
       "\"none\", nothing),\"changes\"=>(Observable{Int64} with 1 listeners. Value:\n",
       "0, nothing),\"value\"=>(Observable{Int64} with 2 listeners. Value:\n",
       "30, nothing)), Set(String[]), nothing, Any[\"knockout\"=>\"/mnt/c/Users/Maxime/wsl/.julia/packages/Knockout/JIqpG/src/../assets/knockout.js\", \"knockout_punches\"=>\"/mnt/c/Users/Maxime/wsl/.julia/packages/Knockout/JIqpG/src/../assets/knockout_punches.js\", \"/mnt/c/Users/Maxime/wsl/.julia/packages/InteractBase/Q4IkI/src/../assets/all.js\", \"/mnt/c/Users/Maxime/wsl/.julia/packages/InteractBase/Q4IkI/src/../assets/style.css\", \"/mnt/c/Users/Maxime/wsl/.julia/packages/InteractBulma/Ohu5Y/src/../assets/main.css\"], Dict{Any,Any}(\"_promises\"=>Dict{Any,Any}(\"importsLoaded\"=>Any[JSString(\"function (ko, koPunches) {\\n    ko.punches.enableAll();\\n    ko.bindingHandlers.numericValue = {\\n        init : function(element, valueAccessor, allBindings, data, context) {\\n            var stringified = ko.observable(ko.unwrap(valueAccessor()));\\n            stringified.subscribe(function(value) {\\n                var val = parseFloat(value);\\n                if (!isNaN(val)) {\\n                    valueAccessor()(val);\\n                }\\n            })\\n            valueAccessor().subscribe(function(value) {\\n                var str = JSON.stringify(value);\\n                if ((str == \\\"0\\\") && ([\\\"-0\\\", \\\"-0.\\\"].indexOf(stringified()) >= 0))\\n                     return;\\n                 if ([\\\"null\\\", \\\"\\\"].indexOf(str) >= 0)\\n                     return;\\n                stringified(str);\\n            })\\n            ko.applyBindingsToNode(element, { value: stringified, valueUpdate: allBindings.get('valueUpdate')}, context);\\n        }\\n    };\\n    var json_data = JSON.parse(\\\"{\\\\\\\"display\\\\\\\":\\\\\\\"none\\\\\\\",\\\\\\\"changes\\\\\\\":0,\\\\\\\"value\\\\\\\":30}\\\");\\n    var self = this;\\n    function AppViewModel() {\\n        for (var key in json_data) {\\n            var el = json_data[key];\\n            this[key] = Array.isArray(el) ? ko.observableArray(el) : ko.observable(el);\\n        }\\n        \\n        \\n        [this[\\\"display\\\"].subscribe((function (val){!(this.valueFromJulia[\\\"display\\\"]) ? (_webIOScope.setObservableValue({\\\"name\\\":\\\"display\\\",\\\"scope\\\":\\\"knockout-component-1ef9d71d-732e-4b29-88b6-47300c743e77\\\",\\\"id\\\":\\\"ob_88\\\",\\\"type\\\":\\\"observable\\\"},val)) : undefined; return this.valueFromJulia[\\\"display\\\"]=false}),self),this[\\\"changes\\\"].subscribe((function (val){!(this.valueFromJulia[\\\"changes\\\"]) ? (_webIOScope.setObservableValue({\\\"name\\\":\\\"changes\\\",\\\"scope\\\":\\\"knockout-component-1ef9d71d-732e-4b29-88b6-47300c743e77\\\",\\\"id\\\":\\\"ob_90\\\",\\\"type\\\":\\\"observable\\\"},val)) : undefined; return this.valueFromJulia[\\\"changes\\\"]=false}),self),this[\\\"value\\\"].subscribe((function (val){!(this.valueFromJulia[\\\"value\\\"]) ? (_webIOScope.setObservableValue({\\\"name\\\":\\\"value\\\",\\\"scope\\\":\\\"knockout-component-1ef9d71d-732e-4b29-88b6-47300c743e77\\\",\\\"id\\\":\\\"ob_89\\\",\\\"type\\\":\\\"observable\\\"},val)) : undefined; return this.valueFromJulia[\\\"value\\\"]=false}),self)]\\n        \\n    }\\n    self.model = new AppViewModel();\\n    self.valueFromJulia = {};\\n    for (var key in json_data) {\\n        self.valueFromJulia[key] = false;\\n    }\\n    ko.applyBindings(self.model, self.dom);\\n}\\n\")]),\"display\"=>Any[JSString(\"(function (val){return (val!=this.model[\\\"display\\\"]()) ? (this.valueFromJulia[\\\"display\\\"]=true, this.model[\\\"display\\\"](val)) : undefined})\")],\"changes\"=>Any[JSString(\"(function (val){return (val!=this.model[\\\"changes\\\"]()) ? (this.valueFromJulia[\\\"changes\\\"]=true, this.model[\\\"changes\\\"](val)) : undefined})\")],\"value\"=>Any[JSString(\"(function (val){return (val!=this.model[\\\"value\\\"]()) ? (this.valueFromJulia[\\\"value\\\"]=true, this.model[\\\"value\\\"](val)) : undefined})\")]), ConnectionPool(Channel{Any}(sz_max:9223372036854775807,sz_curr:0), Set(AbstractConnection[]), Channel{AbstractConnection}(sz_max:32,sz_curr:0))), ##52#53{#dom#13{##dom#11#12{Dict{Any,Any},DOM}},typeof(scope)}(#dom#13{##dom#11#12{Dict{Any,Any},DOM}}(##dom#11#12{Dict{Any,Any},DOM}(Dict{Any,Any}(:className=>\"field\"), DOM(:html, :div))), scope))), Observable{Any} with 0 listeners. Value:\n",
       "Plot{Plots.GRBackend() n=0}, nothing, getfield(StatPlots, Symbol(\"##37#45\"))())"
      ]
     },
     "execution_count": 16,
     "metadata": {
      "application/vnd.webio.node+json": {
       "kernelId": "9991c5de-c563-4b86-ad48-6a5cf0d9be72"
      }
     },
     "output_type": "execute_result"
    }
   ],
   "source": [
    "dataviewer(iris)"
   ]
  },
  {
   "cell_type": "code",
   "execution_count": 14,
   "metadata": {},
   "outputs": [
    {
     "name": "stdout",
     "output_type": "stream",
     "text": [
      "\u001b[32m\u001b[1m Resolving\u001b[22m\u001b[39m package versions...\n",
      "\u001b[32m\u001b[1m Installed\u001b[22m\u001b[39m Nullables ─ v0.0.8\n",
      "\u001b[32m\u001b[1m Installed\u001b[22m\u001b[39m RData ───── v0.5.0\n",
      "\u001b[32m\u001b[1m Installed\u001b[22m\u001b[39m Mocking ─── v0.5.7\n",
      "\u001b[32m\u001b[1m Installed\u001b[22m\u001b[39m TimeZones ─ v0.8.2\n",
      "\u001b[32m\u001b[1m Installed\u001b[22m\u001b[39m RDatasets ─ v0.6.1\n",
      "\u001b[32m\u001b[1m  Updating\u001b[22m\u001b[39m `/mnt/c/Users/Maxime/wsl/.julia/environments/v1.0/Project.toml`\n",
      " \u001b[90m [ce6b1742]\u001b[39m\u001b[92m + RDatasets v0.6.1\u001b[39m\n",
      "\u001b[32m\u001b[1m  Updating\u001b[22m\u001b[39m `/mnt/c/Users/Maxime/wsl/.julia/environments/v1.0/Manifest.toml`\n",
      " \u001b[90m [78c3b35d]\u001b[39m\u001b[92m + Mocking v0.5.7\u001b[39m\n",
      " \u001b[90m [4d1e1d77]\u001b[39m\u001b[92m + Nullables v0.0.8\u001b[39m\n",
      " \u001b[90m [df47a6cb]\u001b[39m\u001b[92m + RData v0.5.0\u001b[39m\n",
      " \u001b[90m [ce6b1742]\u001b[39m\u001b[92m + RDatasets v0.6.1\u001b[39m\n",
      " \u001b[90m [f269a46b]\u001b[39m\u001b[92m + TimeZones v0.8.2\u001b[39m\n",
      "\u001b[32m\u001b[1m  Building\u001b[22m\u001b[39m TimeZones → `/mnt/c/Users/Maxime/wsl/.julia/packages/TimeZones/JvOCz/deps/build.log`\n"
     ]
    }
   ],
   "source": [
    "] add RDatasets\n"
   ]
  },
  {
   "cell_type": "code",
   "execution_count": null,
   "metadata": {},
   "outputs": [],
   "source": []
  }
 ],
 "metadata": {
  "@webio": {
   "lastCommId": "3dcc06abbcca47ab95841afd18160c23",
   "lastKernelId": "f2388ef5-b347-4fa4-a01b-b083dfbb0c25"
  },
  "kernelspec": {
   "display_name": "Julia 1.0.0",
   "language": "julia",
   "name": "julia-1.0"
  },
  "language_info": {
   "file_extension": ".jl",
   "mimetype": "application/julia",
   "name": "julia",
   "version": "1.0.0"
  }
 },
 "nbformat": 4,
 "nbformat_minor": 2
}
