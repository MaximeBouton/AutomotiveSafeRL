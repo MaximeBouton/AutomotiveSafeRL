{
 "cells": [
  {
   "cell_type": "markdown",
   "metadata": {},
   "source": [
    "# Baseline Policy"
   ]
  },
  {
   "cell_type": "code",
   "execution_count": 1,
   "metadata": {},
   "outputs": [
    {
     "name": "stdout",
     "output_type": "stream",
     "text": [
      "loaded\n"
     ]
    },
    {
     "name": "stderr",
     "output_type": "stream",
     "text": [
      "┌ Info: Recompiling stale cache file /mnt/c/Users/Maxime/wsl/.julia/compiled/v1.0/LocalApproximationValueIteration/Dvh7I.ji for LocalApproximationValueIteration [a40420fb-f401-52da-a663-f502e5b95060]\n",
      "└ @ Base loading.jl:1184\n",
      "┌ Warning: Package LocalApproximationValueIteration does not have Random in its dependencies:\n",
      "│ - If you have LocalApproximationValueIteration checked out for development and have\n",
      "│   added Random as a dependency but haven't updated your primary\n",
      "│   environment's manifest file, try `Pkg.resolve()`.\n",
      "│ - Otherwise you may need to report an issue with LocalApproximationValueIteration\n",
      "└ Loading Random into LocalApproximationValueIteration from project dependency, future warnings for LocalApproximationValueIteration are suppressed.\n",
      "┌ Info: Recompiling stale cache file /mnt/c/Users/Maxime/wsl/.julia/compiled/v1.0/PedCar/NmDDZ.ji for PedCar [90cf7f26-d5c7-593d-a0e1-4a8367407571]\n",
      "└ @ Base loading.jl:1184\n",
      "┌ Warning: Package PedCar does not have AutomotivePOMDPs in its dependencies:\n",
      "│ - If you have PedCar checked out for development and have\n",
      "│   added AutomotivePOMDPs as a dependency but haven't updated your primary\n",
      "│   environment's manifest file, try `Pkg.resolve()`.\n",
      "│ - Otherwise you may need to report an issue with PedCar\n",
      "└ Loading AutomotivePOMDPs into PedCar from project dependency, future warnings for PedCar are suppressed.\n"
     ]
    }
   ],
   "source": [
    "using Revise\n",
    "using Random\n",
    "using Printf\n",
    "using DataStructures\n",
    "using Flux\n",
    "using POMDPs\n",
    "using POMDPModelTools\n",
    "using POMDPSimulators\n",
    "using BeliefUpdaters\n",
    "using POMDPPolicies\n",
    "using DiscreteValueIteration\n",
    "using MDPModelChecking\n",
    "using StaticArrays\n",
    "using RLInterface\n",
    "using DeepQLearning\n",
    "using AutomotiveDrivingModels\n",
    "using AutomotivePOMDPs\n",
    "using AutomotiveSensors\n",
    "using LocalApproximationValueIteration\n",
    "using Reel\n",
    "using AutoViz\n",
    "using ProgressMeter\n",
    "using JLD2\n",
    "using FileIO\n",
    "using BSON\n",
    "using PedCar"
   ]
  },
  {
   "cell_type": "code",
   "execution_count": 2,
   "metadata": {},
   "outputs": [],
   "source": [
    "includet(\"../src/masking.jl\")\n",
    "includet(\"../src/masked_dqn.jl\")\n",
    "includet(\"../src/qmdp_approximation.jl\")\n",
    "includet(\"../src/baseline_policy.jl\")\n",
    "includet(\"../src/decomposed_tracking.jl\")\n",
    "includet(\"../src/decomposition.jl\")\n",
    "includet(\"../src/util.jl\")\n",
    "includet(\"../src/render_helpers.jl\")"
   ]
  },
  {
   "cell_type": "code",
   "execution_count": 3,
   "metadata": {},
   "outputs": [],
   "source": [
    "rng = MersenneTwister(1);\n",
    "cam = FitToContentCamera(0.);"
   ]
  },
  {
   "cell_type": "markdown",
   "metadata": {},
   "source": [
    "## Scenario"
   ]
  },
  {
   "cell_type": "code",
   "execution_count": 4,
   "metadata": {},
   "outputs": [],
   "source": [
    "params = UrbanParams(nlanes_main=1,\n",
    "                     crosswalk_pos =[VecSE2(6, 0., pi/2), VecSE2(-6, 0., pi/2), VecSE2(0., -5., 0.)],\n",
    "                     crosswalk_length =  [14.0, 14., 14.0],\n",
    "                     crosswalk_width = [4.0, 4.0, 3.1],\n",
    "                     stop_line = 22.0)\n",
    "env = UrbanEnv(params=params);"
   ]
  },
  {
   "cell_type": "code",
   "execution_count": 5,
   "metadata": {},
   "outputs": [],
   "source": [
    "mdp = PedCarMDP(env=env, pos_res=2.0, vel_res=2., ped_birth=0.7, car_birth=0.7);\n",
    "init_transition!(mdp);"
   ]
  },
  {
   "cell_type": "code",
   "execution_count": 6,
   "metadata": {},
   "outputs": [],
   "source": [
    "pomdp = UrbanPOMDP(env=env,\n",
    "                   sensor = PerfectSensor(),\n",
    "                   ego_goal = LaneTag(2, 1),\n",
    "                   max_cars=1, \n",
    "                   max_peds=1, \n",
    "                   car_birth=0.7, \n",
    "                   ped_birth=0.7, \n",
    "                   max_obstacles=0., # no fixed obstacles\n",
    "                   lidar=false,\n",
    "                   ego_start=20,\n",
    "                   ΔT=0.1);"
   ]
  },
  {
   "cell_type": "markdown",
   "metadata": {},
   "source": [
    "## Initialize Baseline Policy\n",
    "\n",
    "Input: a driving scene, use `obs_to_scene` to convert the observation vector"
   ]
  },
  {
   "cell_type": "code",
   "execution_count": 7,
   "metadata": {},
   "outputs": [],
   "source": [
    "@load \"../pc_util_processed_low.jld2\" qmat util pol\n",
    "safe_policy = ValueIterationPolicy(mdp, qmat, util, pol);\n",
    "threshold = 0.99\n",
    "mask = SafetyMask(mdp, safe_policy, threshold);"
   ]
  },
  {
   "cell_type": "code",
   "execution_count": 8,
   "metadata": {},
   "outputs": [],
   "source": [
    "mutable struct MaskedEgoBaseline <: Policy\n",
    "    pomdp::UrbanPOMDP\n",
    "    model::DriverModel\n",
    "    mask::SafetyMask\n",
    "    sa::Vector{UrbanAction}\n",
    "end"
   ]
  },
  {
   "cell_type": "code",
   "execution_count": 14,
   "metadata": {},
   "outputs": [],
   "source": [
    "function POMDPs.action(policy::MaskedEgoBaseline, o::UrbanObs)\n",
    "    policy.sa = safe_actions(policy.pomdp, policy.mask, o)\n",
    "    s = obs_to_scene(policy.pomdp, o)\n",
    "    observe!(policy.model, s, policy.pomdp.env.roadway, EGO_ID)\n",
    "    acts = [a.acc for a in ordered_actions(pomdp)]\n",
    "    ai = argmin(abs.(policy.model.a.a_lon .- acts))\n",
    "    a = ordered_actions(pomdp)[ai]\n",
    "    if a ∈ policy.sa\n",
    "        return a \n",
    "    else \n",
    "        ai = argmax([a.acc for a in policy.sa])\n",
    "        return policy.sa[ai]\n",
    "    end\n",
    "end\n",
    "\n",
    "function POMDPModelTools.action_info(policy::MaskedEgoBaseline, o::UrbanObs)\n",
    "    a = action(policy, o)\n",
    "    return a, (policy.model.a.a_lon, policy.sa)\n",
    "end"
   ]
  },
  {
   "cell_type": "code",
   "execution_count": 68,
   "metadata": {},
   "outputs": [],
   "source": [
    "ego_model = get_ego_baseline_model(env);"
   ]
  },
  {
   "cell_type": "code",
   "execution_count": 69,
   "metadata": {},
   "outputs": [],
   "source": [
    "masked_baseline = MaskedEgoBaseline(pomdp, ego_model, mask, UrbanAction[]);\n",
    "baseline = EgoBaseline(pomdp, ego_model);"
   ]
  },
  {
   "cell_type": "markdown",
   "metadata": {},
   "source": [
    "## Evaluation"
   ]
  },
  {
   "cell_type": "code",
   "execution_count": 112,
   "metadata": {},
   "outputs": [
    {
     "name": "stderr",
     "output_type": "stream",
     "text": [
      "\u001b[32mProgress: 100%|█████████████████████████████████████████|  ETA: 0:00:01\u001b[39m"
     ]
    },
    {
     "name": "stdout",
     "output_type": "stream",
     "text": [
      "506.502350 seconds (434.04 M allocations: 35.950 GiB, 7.41% gc time)\n",
      "Summary for 1000 episodes: \n",
      "Average reward: 0.004 \n",
      "Average # of steps: 251.184 \n",
      "Average # of violations: 0.000 \n"
     ]
    },
    {
     "name": "stderr",
     "output_type": "stream",
     "text": [
      "\r",
      "\u001b[32mProgress: 100%|█████████████████████████████████████████| Time: 0:08:26\u001b[39m\n"
     ]
    }
   ],
   "source": [
    "@time rewards_mask, steps_mask, violations_mask = evaluation_loop(pomdp, baseline, n_ep=1000, max_steps=400, rng=rng);\n",
    "print_summary(rewards_mask, steps_mask, violations_mask)"
   ]
  },
  {
   "cell_type": "markdown",
   "metadata": {},
   "source": [
    "## Visualize Baseline Policy"
   ]
  },
  {
   "cell_type": "code",
   "execution_count": 77,
   "metadata": {},
   "outputs": [],
   "source": [
    "function POMDPModelTools.generate_sori(pomdp::UrbanPOMDP, s::Scene, a::UrbanAction, rng::AbstractRNG)\n",
    "    sp, o, r = generate_sor(pomdp, s, a, rng)\n",
    "    return sp, o, r, deepcopy(pomdp.models)\n",
    "end"
   ]
  },
  {
   "cell_type": "code",
   "execution_count": 113,
   "metadata": {},
   "outputs": [
    {
     "name": "stdout",
     "output_type": "stream",
     "text": [
      "  0.567586 seconds (677.19 k allocations: 57.323 MiB, 5.01% gc time)\n"
     ]
    }
   ],
   "source": [
    "hr = HistoryRecorder(rng=rng, max_steps=400)\n",
    "s0 = initialstate(pomdp, rng)\n",
    "up = PreviousObservationUpdater()\n",
    "o0 = generate_o(pomdp, s0, UrbanAction(0.), s0, rng)\n",
    "b0 = initialize_belief(up, o0)\n",
    "@time hist = simulate(hr, pomdp, baseline, up, b0, s0);"
   ]
  },
  {
   "cell_type": "code",
   "execution_count": 111,
   "metadata": {},
   "outputs": [
    {
     "name": "stderr",
     "output_type": "stream",
     "text": [
      "\u001b[32mProgress: 100%|█████████████████████████████████████████| Time: 2:36:10\u001b[39m\n"
     ]
    },
    {
     "ename": "UndefVarError",
     "evalue": "UndefVarError: hist2 not defined",
     "output_type": "error",
     "traceback": [
      "UndefVarError: hist2 not defined",
      "",
      "Stacktrace:",
      " [1] find_collision(::UrbanPOMDP, ::EgoBaseline, ::MersenneTwister) at /mnt/c/Users/Maxime/wsl/.julia/packages/ProgressMeter/V73W0/src/ProgressMeter.jl:495",
      " [2] top-level scope at In[111]:16"
     ]
    }
   ],
   "source": [
    "function find_collision(pomdp, test_policy, rng)\n",
    "    up = PreviousObservationUpdater()\n",
    "    @showprogress for ep=1:10000\n",
    "        hr = HistoryRecorder(rng=rng, max_steps=400)\n",
    "        s0 = initialstate(pomdp, rng)\n",
    "        o0 = generate_o(pomdp, s0, UrbanAction(0.), s0, rng)\n",
    "        b0 = initialize_belief(up, o0)\n",
    "        hist2 = simulate(hr, pomdp, test_policy, up, b0, s0)\n",
    "        if sum(hist2.reward_hist .< 0.) != 0.\n",
    "            println(\"Crash\")\n",
    "            return hist2\n",
    "        end\n",
    "    end\n",
    "    return hist2 \n",
    "end\n",
    "hist = find_collision(pomdp, baseline, rng);"
   ]
  },
  {
   "cell_type": "code",
   "execution_count": 114,
   "metadata": {},
   "outputs": [
    {
     "data": {
      "text/html": [
       "<video autoplay controls><source src=\"files/reel-18159055068480484708.webm?10549989342258020162\" type=\"video/webm\"></video>"
      ],
      "text/plain": [
       "Frames{MIME{Symbol(\"image/png\")}}(\"/tmp/tmpGSbpdj\", 0x0000000000000190, 20.0, nothing)"
      ]
     },
     "execution_count": 114,
     "metadata": {},
     "output_type": "execute_result"
    }
   ],
   "source": [
    "animate_history(hist, pomdp,\n",
    "                action_overlays = a -> [TextOverlay(text = [\"Acc: $(a.acc) m/s^2\"], font_size=20, pos=VecE2(pomdp.env.params.x_min + 3., 8.), incameraframe=true)],                                   \n",
    "                ainfo_overlays = ai -> [TextOverlay(text = [\"Acc: $(ai[1]) m/s^2\"], font_size=20, pos=VecE2(pomdp.env.params.x_min + 3., 6.), incameraframe=true)],\n",
    "#                                         TextOverlay(text = [\"Available Actions: $([a.acc for a in ai[2]])\"], font_size=20,pos=VecE2(pomdp.env.params.x_min + 3.,10.), incameraframe=true)],\n",
    "                step_overlays = s -> [TextOverlay(text = [\"step: $s\"], font_size=20, pos=VecE2(pomdp.env.params.x_min + 3.,4.), incameraframe=true)],\n",
    "                extra_overlays = [IDOverlay()],\n",
    "                cam =  StaticCamera(VecE2(0., -8.), 12.0),\n",
    "                speed_factor=2)"
   ]
  },
  {
   "cell_type": "code",
   "execution_count": 101,
   "metadata": {},
   "outputs": [
    {
     "data": {
      "text/plain": [
       "TTCIntersectionDriver\n",
       "  a: LonAccelDirection\n",
       "  navigator: RouteFollowingIDM\n",
       "  intersection: Array{Lane}((2,))\n",
       "  intersection_pos: VecSE2{Float64}\n",
       "  ttc_threshold: Float64 3.0\n",
       "  horizon: Float64 20.0\n",
       "  stop_delta: Float64 4.0\n",
       "  accel_tol: Float64 0.0\n",
       "  priorities: Dict{Tuple{LaneTag,LaneTag},Bool}\n",
       "  priority: Bool false\n",
       "  stop: Bool false\n"
      ]
     },
     "execution_count": 101,
     "metadata": {},
     "output_type": "execute_result"
    }
   ],
   "source": [
    "step = 44\n",
    "s = hist.state_hist[step+1]\n",
    "model = hist.ainfo_hist[step][2]\n",
    "models = hist.info_hist[step]\n",
    "vehid = 101\n",
    "vehm = models[vehid]\n",
    "cwm = model.crosswalk_drivers[3]\n",
    "intm = model.intersection_driver"
   ]
  },
  {
   "cell_type": "code",
   "execution_count": 109,
   "metadata": {},
   "outputs": [
    {
     "data": {
      "text/plain": [
       "ConstantSpeedDawdling(1.0, 0.0)"
      ]
     },
     "execution_count": 109,
     "metadata": {},
     "output_type": "execute_result"
    }
   ],
   "source": [
    "m = deepcopy(vehm)\n",
    "observe!(m, s, pomdp.env.roadway, 101)\n",
    "m.a"
   ]
  },
  {
   "cell_type": "code",
   "execution_count": 107,
   "metadata": {},
   "outputs": [
    {
     "data": {
      "text/plain": [
       "5-element Array{Lane,1}:\n",
       " Lane(LaneTag(5, 1), CurvePt[CurvePt({-1.500, -4.000, -1.571}, 0.000, NaN, NaN), CurvePt({-1.500, -30.000, -1.571}, 26.000, NaN, NaN)], 3.0, SpeedLimit(-Inf, Inf), LaneBoundary(:solid, :white), LaneBoundary(:solid, :white), LaneConnection[], LaneConnection[LaneConnection(U, CurveIndex(1, 0.000), RoadIndex({24, 1.000000}, {12, 1}), LaneConnection(U, CurveIndex(1, 0.000), RoadIndex({24, 1.000000}, {10, 1})])\n",
       " Lane(LaneTag(6, 1), CurvePt[CurvePt({1.500, -30.000, 1.571}, 0.000, NaN, NaN), CurvePt({1.500, -4.000, 1.571}, 26.000, NaN, NaN)], 3.0, SpeedLimit(-Inf, Inf), LaneBoundary(:solid, :white), LaneBoundary(:solid, :white), LaneConnection[LaneConnection(D, CurveIndex(1, 1.000), RoadIndex({1, 0.000000}, {15, 1}), LaneConnection(D, CurveIndex(1, 1.000), RoadIndex({1, 0.000000}, {13, 1})], LaneConnection[])      \n",
       " Lane(LaneTag(17, 1), CurvePt[CurvePt({6.000, -7.000, 1.571}, 0.000, 0.000, NaN), CurvePt({6.000, 7.000, 1.571}, 14.000, 0.000, NaN)], 4.0, SpeedLimit(-Inf, Inf), LaneBoundary(:unknown, :unknown), LaneBoundary(:unknown, :unknown), LaneConnection[], LaneConnection[])                                                                                                                                               \n",
       " Lane(LaneTag(18, 1), CurvePt[CurvePt({-6.000, -7.000, 1.571}, 0.000, 0.000, NaN), CurvePt({-6.000, 7.000, 1.571}, 14.000, 0.000, NaN)], 4.0, SpeedLimit(-Inf, Inf), LaneBoundary(:unknown, :unknown), LaneBoundary(:unknown, :unknown), LaneConnection[], LaneConnection[])                                                                                                                                             \n",
       " Lane(LaneTag(19, 1), CurvePt[CurvePt({-7.000, -5.000, 0.000}, 0.000, 0.000, NaN), CurvePt({7.000, -5.000, 0.000}, 14.000, 0.000, NaN)], 3.1, SpeedLimit(-Inf, Inf), LaneBoundary(:unknown, :unknown), LaneBoundary(:unknown, :unknown), LaneConnection[], LaneConnection[])                                                                                                                                             "
      ]
     },
     "execution_count": 107,
     "metadata": {},
     "output_type": "execute_result"
    }
   ],
   "source": [
    "vehm.conflict_lanes"
   ]
  },
  {
   "cell_type": "code",
   "execution_count": 98,
   "metadata": {},
   "outputs": [
    {
     "data": {
      "text/plain": [
       "Frenet(RoadIndex({1, 0.718562}, {19, 1}), 10.060, -0.530, 3.142)"
      ]
     },
     "execution_count": 98,
     "metadata": {},
     "output_type": "execute_result"
    }
   ],
   "source": [
    "ped = s[findfirst(101, s)]\n",
    "cos(ped.state.posF.ϕ)\n",
    "ped.state.posF"
   ]
  },
  {
   "cell_type": "code",
   "execution_count": 41,
   "metadata": {},
   "outputs": [
    {
     "data": {
      "text/plain": [
       "false"
      ]
     },
     "execution_count": 41,
     "metadata": {},
     "output_type": "execute_result"
    }
   ],
   "source": [
    "cwm.yield"
   ]
  },
  {
   "cell_type": "code",
   "execution_count": 43,
   "metadata": {},
   "outputs": [
    {
     "data": {
      "text/plain": [
       "5-element Array{Lane,1}:\n",
       " Lane(LaneTag(5, 1), CurvePt[CurvePt({-1.500, -4.000, -1.571}, 0.000, NaN, NaN), CurvePt({-1.500, -30.000, -1.571}, 26.000, NaN, NaN)], 3.0, SpeedLimit(-Inf, Inf), LaneBoundary(:solid, :white), LaneBoundary(:solid, :white), LaneConnection[], LaneConnection[LaneConnection(U, CurveIndex(1, 0.000), RoadIndex({24, 1.000000}, {12, 1}), LaneConnection(U, CurveIndex(1, 0.000), RoadIndex({24, 1.000000}, {10, 1})])\n",
       " Lane(LaneTag(6, 1), CurvePt[CurvePt({1.500, -30.000, 1.571}, 0.000, NaN, NaN), CurvePt({1.500, -4.000, 1.571}, 26.000, NaN, NaN)], 3.0, SpeedLimit(-Inf, Inf), LaneBoundary(:solid, :white), LaneBoundary(:solid, :white), LaneConnection[LaneConnection(D, CurveIndex(1, 1.000), RoadIndex({1, 0.000000}, {15, 1}), LaneConnection(D, CurveIndex(1, 1.000), RoadIndex({1, 0.000000}, {13, 1})], LaneConnection[])      \n",
       " Lane(LaneTag(17, 1), CurvePt[CurvePt({6.000, -7.000, 1.571}, 0.000, 0.000, NaN), CurvePt({6.000, 7.000, 1.571}, 14.000, 0.000, NaN)], 4.0, SpeedLimit(-Inf, Inf), LaneBoundary(:unknown, :unknown), LaneBoundary(:unknown, :unknown), LaneConnection[], LaneConnection[])                                                                                                                                               \n",
       " Lane(LaneTag(18, 1), CurvePt[CurvePt({-6.000, -7.000, 1.571}, 0.000, 0.000, NaN), CurvePt({-6.000, 7.000, 1.571}, 14.000, 0.000, NaN)], 4.0, SpeedLimit(-Inf, Inf), LaneBoundary(:unknown, :unknown), LaneBoundary(:unknown, :unknown), LaneConnection[], LaneConnection[])                                                                                                                                             \n",
       " Lane(LaneTag(19, 1), CurvePt[CurvePt({-7.000, -5.000, 0.000}, 0.000, 0.000, NaN), CurvePt({7.000, -5.000, 0.000}, 14.000, 0.000, NaN)], 3.1, SpeedLimit(-Inf, Inf), LaneBoundary(:unknown, :unknown), LaneBoundary(:unknown, :unknown), LaneConnection[], LaneConnection[])                                                                                                                                             "
      ]
     },
     "execution_count": 43,
     "metadata": {},
     "output_type": "execute_result"
    }
   ],
   "source": [
    "get_conflict_lanes(env.crosswalks[3], env.roadway)"
   ]
  },
  {
   "cell_type": "code",
   "execution_count": null,
   "metadata": {},
   "outputs": [],
   "source": []
  }
 ],
 "metadata": {
  "kernelspec": {
   "display_name": "Julia 1.0.0",
   "language": "julia",
   "name": "julia-1.0"
  },
  "language_info": {
   "file_extension": ".jl",
   "mimetype": "application/julia",
   "name": "julia",
   "version": "1.0.0"
  }
 },
 "nbformat": 4,
 "nbformat_minor": 2
}
