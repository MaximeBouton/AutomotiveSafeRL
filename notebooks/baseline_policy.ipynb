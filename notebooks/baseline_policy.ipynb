{
 "cells": [
  {
   "cell_type": "markdown",
   "metadata": {},
   "source": [
    "# Baseline Policy"
   ]
  },
  {
   "cell_type": "code",
   "execution_count": 1,
   "metadata": {},
   "outputs": [
    {
     "name": "stdout",
     "output_type": "stream",
     "text": [
      "loaded\n"
     ]
    }
   ],
   "source": [
    "using Revise\n",
    "using Random\n",
    "using Printf\n",
    "using DataStructures\n",
    "using Flux\n",
    "using POMDPs\n",
    "using POMDPModelTools\n",
    "using POMDPSimulators\n",
    "using BeliefUpdaters\n",
    "using POMDPPolicies\n",
    "using DiscreteValueIteration\n",
    "using MDPModelChecking\n",
    "using StaticArrays\n",
    "using RLInterface\n",
    "using DeepQLearning\n",
    "using AutomotiveDrivingModels\n",
    "using AutomotivePOMDPs\n",
    "using AutomotiveSensors\n",
    "using LocalApproximationValueIteration\n",
    "using Reel\n",
    "using AutoViz\n",
    "using ProgressMeter\n",
    "using JLD2\n",
    "using FileIO\n",
    "using BSON\n",
    "using PedCar"
   ]
  },
  {
   "cell_type": "code",
   "execution_count": 2,
   "metadata": {},
   "outputs": [],
   "source": [
    "includet(\"../src/masking.jl\")\n",
    "includet(\"../src/masked_dqn.jl\")\n",
    "includet(\"../src/qmdp_approximation.jl\")\n",
    "includet(\"../src/decomposed_tracking.jl\")\n",
    "includet(\"../src/decomposition.jl\")\n",
    "includet(\"../src/baseline_policy.jl\")\n",
    "includet(\"../src/util.jl\")\n",
    "includet(\"../src/render_helpers.jl\")"
   ]
  },
  {
   "cell_type": "code",
   "execution_count": 3,
   "metadata": {},
   "outputs": [],
   "source": [
    "rng = MersenneTwister(1);\n",
    "cam = FitToContentCamera(0.);"
   ]
  },
  {
   "cell_type": "markdown",
   "metadata": {},
   "source": [
    "## Scenario"
   ]
  },
  {
   "cell_type": "code",
   "execution_count": 4,
   "metadata": {},
   "outputs": [],
   "source": [
    "params = UrbanParams(nlanes_main=1,\n",
    "                     crosswalk_pos =[VecSE2(6, 0., pi/2), VecSE2(-6, 0., pi/2), VecSE2(0., -5., 0.)],\n",
    "                     crosswalk_length =  [14.0, 14., 14.0],\n",
    "                     crosswalk_width = [4.0, 4.0, 3.1],\n",
    "                     stop_line = 22.0)\n",
    "env = UrbanEnv(params=params);"
   ]
  },
  {
   "cell_type": "code",
   "execution_count": 5,
   "metadata": {},
   "outputs": [],
   "source": [
    "mdp = PedCarMDP(env=env, pos_res=2.0, vel_res=2., ped_birth=0.7, car_birth=0.7);\n",
    "init_transition!(mdp);"
   ]
  },
  {
   "cell_type": "code",
   "execution_count": 6,
   "metadata": {},
   "outputs": [
    {
     "data": {
      "text/plain": [
       "0"
      ]
     },
     "execution_count": 6,
     "metadata": {},
     "output_type": "execute_result"
    }
   ],
   "source": [
    "pomdp = UrbanPOMDP(env=env,\n",
    "                   sensor = PerfectSensor(),\n",
    "                   ego_goal = LaneTag(2, 1),\n",
    "                       obs_dist = ObstacleDistribution(mdp.env, \n",
    "                                                   upper_obs_pres_prob=0., \n",
    "                                                   left_obs_pres_prob=0.0, \n",
    "                                                   right_obs_pres_prob=0.0),\n",
    "                   max_cars=1, \n",
    "                   max_peds=1, \n",
    "                   car_birth=0.7, \n",
    "                   ped_birth=0.7, \n",
    "                   max_obstacles=1., # no fixed obstacles\n",
    "                   lidar=false,\n",
    "                   ego_start=20,\n",
    "                   ΔT=0.1);\n",
    "# instantiate sub problems\n",
    "## CAR POMDP FOR TRACKING 1 CAR\n",
    "car_pomdp = deepcopy(pomdp)\n",
    "car_pomdp.models = pomdp.models\n",
    "car_pomdp.max_peds = 0\n",
    "car_pomdp.max_cars = 1\n",
    "## PED POMDP FOR TRACKING 1 PEDESTRIAN\n",
    "ped_pomdp = deepcopy(pomdp)\n",
    "ped_pomdp.models = pomdp.models\n",
    "ped_pomdp.max_peds = 1\n",
    "ped_pomdp.max_cars = 0\n",
    "## PEDCAR POMDP FOR THE POLICY (Model checking + DQN)\n",
    "pedcar_pomdp = deepcopy(pomdp)\n",
    "pedcar_pomdp.models = pomdp.models # shallow copy!\n",
    "pedcar_pomdp.max_peds = 1\n",
    "pedcar_pomdp.max_cars = 1\n",
    "pedcar_pomdp.max_obstacles = 0"
   ]
  },
  {
   "cell_type": "markdown",
   "metadata": {},
   "source": [
    "## Initialize Baseline Policy\n",
    "\n",
    "Input: a driving scene, use `obs_to_scene` to convert the observation vector"
   ]
  },
  {
   "cell_type": "code",
   "execution_count": 7,
   "metadata": {},
   "outputs": [],
   "source": [
    "@load \"../pc_util_processed_low.jld2\" qmat util pol\n",
    "safe_policy = ValueIterationPolicy(mdp, qmat, util, pol);\n",
    "threshold = 0.99\n",
    "mask = SafetyMask(mdp, safe_policy, threshold);"
   ]
  },
  {
   "cell_type": "code",
   "execution_count": 8,
   "metadata": {},
   "outputs": [],
   "source": [
    "ego_model = get_ego_baseline_model(env);"
   ]
  },
  {
   "cell_type": "code",
   "execution_count": 9,
   "metadata": {},
   "outputs": [],
   "source": [
    "masked_baseline = MaskedEgoBaseline(pomdp, pedcar_pomdp, ego_model, mask, UrbanAction[]);\n",
    "baseline = EgoBaseline(pomdp, ego_model);"
   ]
  },
  {
   "cell_type": "markdown",
   "metadata": {},
   "source": [
    "## Evaluation"
   ]
  },
  {
   "cell_type": "markdown",
   "metadata": {},
   "source": [
    "**Observation as input**"
   ]
  },
  {
   "cell_type": "code",
   "execution_count": 11,
   "metadata": {},
   "outputs": [
    {
     "name": "stderr",
     "output_type": "stream",
     "text": [
      "\u001b[32mProgress: 100%|█████████████████████████████████████████|  ETA: 0:00:00\u001b[39m"
     ]
    },
    {
     "name": "stdout",
     "output_type": "stream",
     "text": [
      "182.739922 seconds (291"
     ]
    },
    {
     "name": "stderr",
     "output_type": "stream",
     "text": [
      "\r",
      "\u001b[32mProgress: 100%|█████████████████████████████████████████| Time: 0:03:02\u001b[39m\n"
     ]
    },
    {
     "name": "stdout",
     "output_type": "stream",
     "text": [
      ".57 M allocations: 22.820 GiB, 5.00% gc time)\n",
      "Summary for 1000 episodes: \n",
      "Average reward: 0.006 \n",
      "Average # of steps: 171.019 \n",
      "Average # of violations: 0.000 \n"
     ]
    }
   ],
   "source": [
    "@time rewards_mask, steps_mask, violations_mask = evaluation_loop(pomdp, baseline, PreviousObservationUpdater(), n_ep=1000, max_steps=400, rng=rng);\n",
    "print_summary(rewards_mask, steps_mask, violations_mask)"
   ]
  },
  {
   "cell_type": "markdown",
   "metadata": {},
   "source": [
    "**RNN Belief Updater**"
   ]
  },
  {
   "cell_type": "code",
   "execution_count": 10,
   "metadata": {},
   "outputs": [],
   "source": [
    "n_models = 5\n",
    "car_models = Vector{Chain}(undef, n_models)\n",
    "ped_models = Vector{Chain}(undef, n_models)\n",
    "for i=1:n_models\n",
    "    car_models[i] = BSON.load(\"../RNNFiltering/model_car_$i.bson\")[:model] \n",
    "    Flux.loadparams!(car_models[i], BSON.load(\"../RNNFiltering/weights_car_$i.bson\")[:weights])\n",
    "    ped_models[i] = BSON.load(\"../RNNFiltering/model_ped_$i.bson\")[:model]\n",
    "    Flux.loadparams!(ped_models[i], BSON.load(\"../RNNFiltering/weights_ped_$i.bson\")[:weights])\n",
    "end\n",
    "pres_threshold = 0.3\n",
    "ref_updaters = Dict(AgentClass.PEDESTRIAN => SingleAgentTracker(ped_pomdp, ped_models, pres_threshold, VehicleDef()),\n",
    "                AgentClass.CAR =>  SingleAgentTracker(car_pomdp, car_models, pres_threshold, VehicleDef()))\n",
    "up = MultipleAgentsTracker(pomdp, ref_updaters, Dict{Int64, SingleAgentTracker}());"
   ]
  },
  {
   "cell_type": "code",
   "execution_count": 16,
   "metadata": {},
   "outputs": [
    {
     "name": "stderr",
     "output_type": "stream",
     "text": [
      "\u001b[32mProgress: 100%|█████████████████████████████████████████|  ETA: 0:00:04\u001b[39m"
     ]
    },
    {
     "name": "stdout",
     "output_type": "stream",
     "text": [
      "3747.766191 seconds (8.04 G allocations: 1.741 TiB, 17.93% gc time)\n"
     ]
    },
    {
     "name": "stderr",
     "output_type": "stream",
     "text": [
      "\r",
      "\u001b[32mProgress: 100%|█████████████████████████████████████████| Time: 1:02:27\u001b[39m\n"
     ]
    },
    {
     "name": "stdout",
     "output_type": "stream",
     "text": [
      "Summary for 1000 episodes: \n",
      "Average reward: 0.005 +/- 0.008 \n",
      "Average # of steps: 94.971 +/- 8.566 \n",
      "Average # of violations: 0.100 +/- 3.162 \n"
     ]
    }
   ],
   "source": [
    "@time rewards_mask, steps_mask, violations_mask = evaluation_loop(pomdp, masked_baseline, up, n_ep=1000, max_steps=400, rng=rng);\n",
    "print_summary(rewards_mask, steps_mask, violations_mask)"
   ]
  },
  {
   "cell_type": "markdown",
   "metadata": {},
   "source": [
    "## Visualize Baseline Policy"
   ]
  },
  {
   "cell_type": "code",
   "execution_count": 11,
   "metadata": {},
   "outputs": [],
   "source": [
    "function POMDPModelTools.generate_sori(pomdp::UrbanPOMDP, s::Scene, a::UrbanAction, rng::AbstractRNG)\n",
    "    sp, o, r = generate_sor(pomdp, s, a, rng)\n",
    "    return sp, o, r, deepcopy(pomdp.models)\n",
    "end"
   ]
  },
  {
   "cell_type": "code",
   "execution_count": 13,
   "metadata": {},
   "outputs": [
    {
     "name": "stdout",
     "output_type": "stream",
     "text": [
      "  6.218647 seconds (10.91 M allocations: 1.919 GiB, 13.93% gc time)\n"
     ]
    }
   ],
   "source": [
    "hr = HistoryRecorder(rng=rng, max_steps=400)\n",
    "s0 = initialstate(pomdp, rng)\n",
    "# updater = PreviousObservationUpdater()\n",
    "o0 = generate_o(pomdp, s0, UrbanAction(0.), s0, rng)\n",
    "b0 = initialize_belief(up, o0)\n",
    "@time hist = simulate(hr, pomdp, masked_baseline, up, b0, s0);"
   ]
  },
  {
   "cell_type": "code",
   "execution_count": 17,
   "metadata": {},
   "outputs": [
    {
     "name": "stderr",
     "output_type": "stream",
     "text": [
      "\u001b[32mProgress:   0%|                                         |  ETA: 0:36:55\u001b[39m"
     ]
    },
    {
     "ename": "InterruptException",
     "evalue": "InterruptException:",
     "output_type": "error",
     "traceback": [
      "InterruptException:",
      "",
      "Stacktrace:",
      " [1] Type at ./boot.jl:394 [inlined]",
      " [2] Type at ./boot.jl:413 [inlined]",
      " [3] getindex at ./array.jl:365 [inlined]",
      " [4] connect_two_points_seperate(::VecSE2{Float64}, ::VecSE2{Float64}) at /mnt/c/Users/Maxime/wsl/.julia/packages/AutoUrban/dpDf3/src/roadway/roadway_generation.jl:210",
      " [5] #add_connection!#20(::LaneBoundary, ::LaneBoundary, ::LaneBoundary, ::Function, ::AutoUrban.Connection, ::Roadway) at /mnt/c/Users/Maxime/wsl/.julia/packages/AutoUrban/dpDf3/src/roadway/roadway_generation.jl:529",
      " [6] add_connection! at /mnt/c/Users/Maxime/wsl/.julia/packages/AutoUrban/dpDf3/src/roadway/roadway_generation.jl:516 [inlined]",
      " [7] add_junction!(::AutoUrban.Junction, ::Roadway) at /mnt/c/Users/Maxime/wsl/.julia/packages/AutoUrban/dpDf3/src/roadway/roadway_generation.jl:574",
      " [8] gen_T_roadway(::TInterParams) at /home/maxime/Maxime/OneDrive - Leland Stanford Junior University/Research/AutomotivePOMDPs/src/envs/multi_lane_T_env.jl:88",
      " [9] obs_to_scene(::UrbanPOMDP, ::Array{Float64,1}) at /home/maxime/Maxime/OneDrive - Leland Stanford Junior University/Research/AutomotivePOMDPs/src/generative_pomdps/urban/generative_model.jl:550",
      " [10] action at /mnt/c/Users/Maxime/OneDrive - Leland Stanford Junior University/Research/AutomotiveSafeRL/src/baseline_policy.jl:14 [inlined]",
      " [11] action_info(::EgoBaseline, ::Array{Float64,1}) at /mnt/c/Users/Maxime/OneDrive - Leland Stanford Junior University/Research/AutomotiveSafeRL/src/baseline_policy.jl:26",
      " [12] simulate(::HistoryRecorder, ::UrbanPOMDP, ::EgoBaseline, ::PreviousObservationUpdater, ::Array{Float64,1}, ::Frame{Entity{VehicleState,VehicleDef,Int64}}) at /mnt/c/Users/Maxime/wsl/.julia/packages/POMDPSimulators/xyfJM/src/history_recorder.jl:132",
      " [13] find_collision(::UrbanPOMDP, ::EgoBaseline, ::MersenneTwister) at ./In[17]:8",
      " [14] top-level scope at In[17]:16"
     ]
    }
   ],
   "source": [
    "function find_collision(pomdp, test_policy, rng)\n",
    "    up = PreviousObservationUpdater()\n",
    "    @showprogress for ep=1:10000\n",
    "        hr = HistoryRecorder(rng=rng, max_steps=400)\n",
    "        s0 = initialstate(pomdp, rng)\n",
    "        o0 = generate_o(pomdp, s0, UrbanAction(0.), s0, rng)\n",
    "        b0 = initialize_belief(up, o0)\n",
    "        hist2 = simulate(hr, pomdp, test_policy, up, b0, s0)\n",
    "        if sum(hist2.reward_hist .< 0.) != 0.\n",
    "            println(\"Crash\")\n",
    "            return hist2\n",
    "        end\n",
    "    end\n",
    "    return hist2 \n",
    "end\n",
    "hist = find_collision(pomdp, baseline, rng);"
   ]
  },
  {
   "cell_type": "code",
   "execution_count": 14,
   "metadata": {},
   "outputs": [
    {
     "data": {
      "text/html": [
       "<video autoplay controls><source src=\"files/reel-7670125300618162727.webm?9940703475835095526\" type=\"video/webm\"></video>"
      ],
      "text/plain": [
       "Frames{MIME{Symbol(\"image/png\")}}(\"/tmp/tmpB7l2Dj\", 0x000000000000005f, 20.0, nothing)"
      ]
     },
     "execution_count": 14,
     "metadata": {},
     "output_type": "execute_result"
    }
   ],
   "source": [
    "animate_history(hist, pomdp,\n",
    "                action_overlays = a -> [TextOverlay(text = [\"Acc: $(a.acc) m/s^2\"], font_size=20, pos=VecE2(pomdp.env.params.x_min + 3., 8.), incameraframe=true)],                                   \n",
    "#                 ainfo_overlays = ai -> [GaussianSensorOverlay(sensor=GaussianSensor(), o=[veh for veh in ai[1] if veh.id != EGO_ID])],\n",
    "#                     ainfo_overlays = ai -> [TextOverlay(text = [\"Acc: $(ai[2]) m/s^2\"], font_size=20, pos=VecE2(pomdp.env.params.x_min + 3., 6.), incameraframe=true)],\n",
    "#                                         TextOverlay(text = [\"Available Actions: $([a.acc for a in ai[2]])\"], font_size=20,pos=VecE2(pomdp.env.params.x_min + 3.,10.), incameraframe=true)],\n",
    "                step_overlays = s -> [TextOverlay(text = [\"step: $s\"], font_size=20, pos=VecE2(pomdp.env.params.x_min + 3.,4.), incameraframe=true)],\n",
    "                extra_overlays = [IDOverlay()],\n",
    "                cam =  StaticCamera(VecE2(0., -8.), 12.0),\n",
    "                speed_factor=2)"
   ]
  },
  {
   "cell_type": "code",
   "execution_count": 69,
   "metadata": {},
   "outputs": [
    {
     "data": {
      "text/plain": [
       "TTCIntersectionDriver\n",
       "  a: LonAccelDirection\n",
       "  navigator: RouteFollowingIDM\n",
       "  intersection: Array{Lane}((2,))\n",
       "  intersection_pos: VecSE2{Float64}\n",
       "  ttc_threshold: Float64 3.0\n",
       "  horizon: Float64 20.0\n",
       "  stop_delta: Float64 4.0\n",
       "  accel_tol: Float64 0.0\n",
       "  priorities: Dict{Tuple{LaneTag,LaneTag},Bool}\n",
       "  priority: Bool false\n",
       "  stop: Bool false\n"
      ]
     },
     "execution_count": 69,
     "metadata": {},
     "output_type": "execute_result"
    }
   ],
   "source": [
    "step = 57\n",
    "s = hist.state_hist[step+1]\n",
    "sb = hist.ainfo_hist[step][1]\n",
    "model = hist.ainfo_hist[step][3]\n",
    "models = hist.info_hist[step]\n",
    "vehid = 1\n",
    "vehm = model\n",
    "cwm = model.crosswalk_drivers[3]\n",
    "intm = model.intersection_driver"
   ]
  },
  {
   "cell_type": "code",
   "execution_count": 73,
   "metadata": {},
   "outputs": [
    {
     "data": {
      "text/plain": [
       "LonAccelDirection(-9.0, 2)"
      ]
     },
     "execution_count": 73,
     "metadata": {},
     "output_type": "execute_result"
    }
   ],
   "source": [
    "m = deepcopy(vehm)\n",
    "observe!(m, sb, pomdp.env.roadway, vehid)\n",
    "m.a"
   ]
  },
  {
   "cell_type": "code",
   "execution_count": 74,
   "metadata": {},
   "outputs": [
    {
     "name": "stdout",
     "output_type": "stream",
     "text": [
      "Vehicle(101, VehicleState(VecSE2({6.041, 2.733}, 1.571), Frenet(RoadIndex({1, 0.695218}, {17, 1}), 9.733, -0.041, 0.000), 1.000), VehicleDef(PEDESTRIAN, 1.000, 1.000))\n",
      "Vehicle(2, VehicleState(VecSE2({-1.500, -9.821}, -1.571), Frenet(RoadIndex({1, 0.223881}, {5, 1}), 5.821, 0.000, 0.000), 6.002), VehicleDef(CAR, 4.000, 1.800))\n",
      "Vehicle(1, VehicleState(VecSE2({1.500, -10.000}, 1.571), Frenet(RoadIndex({1, 0.769231}, {6, 1}), 20.000, 0.000, 0.000), 0.000), VehicleDef(CAR, 4.000, 1.800))\n"
     ]
    }
   ],
   "source": [
    "for veh in s \n",
    "    println(veh)\n",
    "end"
   ]
  },
  {
   "cell_type": "code",
   "execution_count": 75,
   "metadata": {},
   "outputs": [
    {
     "name": "stdout",
     "output_type": "stream",
     "text": [
      "Vehicle(1, VehicleState(VecSE2({1.500, -10.000}, 1.571), Frenet(RoadIndex({1, 0.769231}, {6, 1}), 20.000, 0.000, 0.000), 0.000), VehicleDef(CAR, 4.000, 1.800))\n",
      "Vehicle(1, VehicleState(VecSE2({1.500, -10.000}, 1.571), Frenet(RoadIndex({1, 0.769231}, {6, 1}), 20.000, 0.000, 0.000), 0.000), VehicleDef(CAR, 4.000, 1.800))\n",
      "Vehicle(2, VehicleState(VecSE2({-1.213, -9.108}, -1.594), Frenet(RoadIndex({1, 0.196468}, {5, 1}), 5.108, 0.287, -0.023), 6.929), VehicleDef(CAR, 4.000, 1.800))\n",
      "Vehicle(101, VehicleState(VecSE2({6.156, 2.057}, 1.661), Frenet(RoadIndex({1, 0.646909}, {17, 1}), 9.057, -0.156, 0.090), 0.972), VehicleDef(PEDESTRIAN, 1.000, 1.000))\n"
     ]
    }
   ],
   "source": [
    "for veh in sb\n",
    "    println(veh)\n",
    "end"
   ]
  },
  {
   "cell_type": "code",
   "execution_count": 107,
   "metadata": {},
   "outputs": [
    {
     "data": {
      "text/plain": [
       "5-element Array{Lane,1}:\n",
       " Lane(LaneTag(5, 1), CurvePt[CurvePt({-1.500, -4.000, -1.571}, 0.000, NaN, NaN), CurvePt({-1.500, -30.000, -1.571}, 26.000, NaN, NaN)], 3.0, SpeedLimit(-Inf, Inf), LaneBoundary(:solid, :white), LaneBoundary(:solid, :white), LaneConnection[], LaneConnection[LaneConnection(U, CurveIndex(1, 0.000), RoadIndex({24, 1.000000}, {12, 1}), LaneConnection(U, CurveIndex(1, 0.000), RoadIndex({24, 1.000000}, {10, 1})])\n",
       " Lane(LaneTag(6, 1), CurvePt[CurvePt({1.500, -30.000, 1.571}, 0.000, NaN, NaN), CurvePt({1.500, -4.000, 1.571}, 26.000, NaN, NaN)], 3.0, SpeedLimit(-Inf, Inf), LaneBoundary(:solid, :white), LaneBoundary(:solid, :white), LaneConnection[LaneConnection(D, CurveIndex(1, 1.000), RoadIndex({1, 0.000000}, {15, 1}), LaneConnection(D, CurveIndex(1, 1.000), RoadIndex({1, 0.000000}, {13, 1})], LaneConnection[])      \n",
       " Lane(LaneTag(17, 1), CurvePt[CurvePt({6.000, -7.000, 1.571}, 0.000, 0.000, NaN), CurvePt({6.000, 7.000, 1.571}, 14.000, 0.000, NaN)], 4.0, SpeedLimit(-Inf, Inf), LaneBoundary(:unknown, :unknown), LaneBoundary(:unknown, :unknown), LaneConnection[], LaneConnection[])                                                                                                                                               \n",
       " Lane(LaneTag(18, 1), CurvePt[CurvePt({-6.000, -7.000, 1.571}, 0.000, 0.000, NaN), CurvePt({-6.000, 7.000, 1.571}, 14.000, 0.000, NaN)], 4.0, SpeedLimit(-Inf, Inf), LaneBoundary(:unknown, :unknown), LaneBoundary(:unknown, :unknown), LaneConnection[], LaneConnection[])                                                                                                                                             \n",
       " Lane(LaneTag(19, 1), CurvePt[CurvePt({-7.000, -5.000, 0.000}, 0.000, 0.000, NaN), CurvePt({7.000, -5.000, 0.000}, 14.000, 0.000, NaN)], 3.1, SpeedLimit(-Inf, Inf), LaneBoundary(:unknown, :unknown), LaneBoundary(:unknown, :unknown), LaneConnection[], LaneConnection[])                                                                                                                                             "
      ]
     },
     "execution_count": 107,
     "metadata": {},
     "output_type": "execute_result"
    }
   ],
   "source": [
    "vehm.conflict_lanes"
   ]
  },
  {
   "cell_type": "code",
   "execution_count": 98,
   "metadata": {},
   "outputs": [
    {
     "data": {
      "text/plain": [
       "Frenet(RoadIndex({1, 0.718562}, {19, 1}), 10.060, -0.530, 3.142)"
      ]
     },
     "execution_count": 98,
     "metadata": {},
     "output_type": "execute_result"
    }
   ],
   "source": [
    "ped = s[findfirst(101, s)]\n",
    "cos(ped.state.posF.ϕ)\n",
    "ped.state.posF"
   ]
  },
  {
   "cell_type": "code",
   "execution_count": 41,
   "metadata": {},
   "outputs": [
    {
     "data": {
      "text/plain": [
       "false"
      ]
     },
     "execution_count": 41,
     "metadata": {},
     "output_type": "execute_result"
    }
   ],
   "source": [
    "cwm.yield"
   ]
  },
  {
   "cell_type": "code",
   "execution_count": 43,
   "metadata": {},
   "outputs": [
    {
     "data": {
      "text/plain": [
       "5-element Array{Lane,1}:\n",
       " Lane(LaneTag(5, 1), CurvePt[CurvePt({-1.500, -4.000, -1.571}, 0.000, NaN, NaN), CurvePt({-1.500, -30.000, -1.571}, 26.000, NaN, NaN)], 3.0, SpeedLimit(-Inf, Inf), LaneBoundary(:solid, :white), LaneBoundary(:solid, :white), LaneConnection[], LaneConnection[LaneConnection(U, CurveIndex(1, 0.000), RoadIndex({24, 1.000000}, {12, 1}), LaneConnection(U, CurveIndex(1, 0.000), RoadIndex({24, 1.000000}, {10, 1})])\n",
       " Lane(LaneTag(6, 1), CurvePt[CurvePt({1.500, -30.000, 1.571}, 0.000, NaN, NaN), CurvePt({1.500, -4.000, 1.571}, 26.000, NaN, NaN)], 3.0, SpeedLimit(-Inf, Inf), LaneBoundary(:solid, :white), LaneBoundary(:solid, :white), LaneConnection[LaneConnection(D, CurveIndex(1, 1.000), RoadIndex({1, 0.000000}, {15, 1}), LaneConnection(D, CurveIndex(1, 1.000), RoadIndex({1, 0.000000}, {13, 1})], LaneConnection[])      \n",
       " Lane(LaneTag(17, 1), CurvePt[CurvePt({6.000, -7.000, 1.571}, 0.000, 0.000, NaN), CurvePt({6.000, 7.000, 1.571}, 14.000, 0.000, NaN)], 4.0, SpeedLimit(-Inf, Inf), LaneBoundary(:unknown, :unknown), LaneBoundary(:unknown, :unknown), LaneConnection[], LaneConnection[])                                                                                                                                               \n",
       " Lane(LaneTag(18, 1), CurvePt[CurvePt({-6.000, -7.000, 1.571}, 0.000, 0.000, NaN), CurvePt({-6.000, 7.000, 1.571}, 14.000, 0.000, NaN)], 4.0, SpeedLimit(-Inf, Inf), LaneBoundary(:unknown, :unknown), LaneBoundary(:unknown, :unknown), LaneConnection[], LaneConnection[])                                                                                                                                             \n",
       " Lane(LaneTag(19, 1), CurvePt[CurvePt({-7.000, -5.000, 0.000}, 0.000, 0.000, NaN), CurvePt({7.000, -5.000, 0.000}, 14.000, 0.000, NaN)], 3.1, SpeedLimit(-Inf, Inf), LaneBoundary(:unknown, :unknown), LaneBoundary(:unknown, :unknown), LaneConnection[], LaneConnection[])                                                                                                                                             "
      ]
     },
     "execution_count": 43,
     "metadata": {},
     "output_type": "execute_result"
    }
   ],
   "source": [
    "get_conflict_lanes(env.crosswalks[3], env.roadway)"
   ]
  },
  {
   "cell_type": "code",
   "execution_count": null,
   "metadata": {},
   "outputs": [],
   "source": []
  }
 ],
 "metadata": {
  "@webio": {
   "lastCommId": "0a25c9fb6f2f45ca9c9e47962b6f39bf",
   "lastKernelId": "5c45563d-b0a9-4a01-8df1-94bdaa6ec7c3"
  },
  "kernelspec": {
   "display_name": "Julia 1.0.0",
   "language": "julia",
   "name": "julia-1.0"
  },
  "language_info": {
   "file_extension": ".jl",
   "mimetype": "application/julia",
   "name": "julia",
   "version": "1.0.0"
  }
 },
 "nbformat": 4,
 "nbformat_minor": 2
}
