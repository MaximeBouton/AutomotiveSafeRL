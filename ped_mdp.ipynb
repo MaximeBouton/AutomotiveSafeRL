{
 "cells": [
  {
   "cell_type": "markdown",
   "metadata": {},
   "source": [
    "# Intersection with a crosswalk"
   ]
  },
  {
   "cell_type": "markdown",
   "metadata": {},
   "source": [
    "**Load dependencies**"
   ]
  },
  {
   "cell_type": "code",
   "execution_count": 11,
   "metadata": {},
   "outputs": [],
   "source": [
    "rng = MersenneTwister(1);"
   ]
  },
  {
   "cell_type": "code",
   "execution_count": 2,
   "metadata": {},
   "outputs": [
    {
     "name": "stderr",
     "output_type": "stream",
     "text": [
      "WARNING: Method definition info(Any...) in module Base at util.jl:532 overwritten in module Logging at /mnt/c/Users/Maxime/wsl/.julia/v0.6/Logging/src/Logging.jl:115.\n",
      "WARNING: Method definition warn(Any...) in module Base at util.jl:585 overwritten in module Logging at /mnt/c/Users/Maxime/wsl/.julia/v0.6/Logging/src/Logging.jl:115.\n",
      "WARNING: static parameter S does not occur in signature for solve_chunk at /mnt/c/Users/Maxime/wsl/.julia/v0.6/DiscreteValueIteration/src/parallel.jl:117.\n",
      "The method will not be callable.\n",
      "WARNING: Method definition copy!(Array{Float64, 1}, AutomotiveDrivingModels.LatLonAccel) in module AutomotiveDrivingModels at /mnt/c/Users/Maxime/wsl/.julia/v0.6/AutomotiveDrivingModels/src/2d/actions/lat_lon_accel.jl:13 overwritten in module AutoUrban at /mnt/c/Users/Maxime/wsl/.julia/v0.6/AutoUrban/src/simulation/actions.jl:10.\n"
     ]
    }
   ],
   "source": [
    "using AutomotivePOMDPs\n",
    "using MDPModelChecking"
   ]
  },
  {
   "cell_type": "code",
   "execution_count": 3,
   "metadata": {},
   "outputs": [],
   "source": [
    "using GridInterpolations, StaticArrays, POMDPs, POMDPToolbox, AutoViz, AutomotiveDrivingModels, Reel\n",
    "using DiscreteValueIteration, DeepQLearning, DeepRL\n",
    "using ProgressMeter, Parameters, JLD"
   ]
  },
  {
   "cell_type": "code",
   "execution_count": 15,
   "metadata": {},
   "outputs": [],
   "source": [
    "include(\"masking_backup.jl\")\n",
    "include(\"util.jl\")\n",
    "include(\"masked_dqn.jl\")\n",
    "include(\"render_helpers.jl\")"
   ]
  },
  {
   "cell_type": "markdown",
   "metadata": {},
   "source": [
    "## Scenario in the Continuous Space"
   ]
  },
  {
   "cell_type": "code",
   "execution_count": 5,
   "metadata": {},
   "outputs": [],
   "source": [
    "params = UrbanParams(nlanes_main=1,\n",
    "                     crosswalk_pos =  [VecSE2(6, 0., pi/2), VecSE2(-6, 0., pi/2), VecSE2(0., -5., 0.)],\n",
    "                     crosswalk_length =  [14.0, 14., 14.0],\n",
    "                     crosswalk_width = [4.0, 4.0, 3.1],\n",
    "                     stop_line = 22.0)\n",
    "env = UrbanEnv(params=params);"
   ]
  },
  {
   "cell_type": "markdown",
   "metadata": {},
   "source": [
    "## Discrete Fully Observable Abstraction"
   ]
  },
  {
   "cell_type": "code",
   "execution_count": 6,
   "metadata": {},
   "outputs": [],
   "source": [
    "mdp = PedMDP(env = env, vel_res=2., pos_res=2., ped_type=VehicleDef(AgentClass.PEDESTRIAN, 1.0, 3.0), ped_birth=0.7)\n",
    "labels = labeling(mdp);"
   ]
  },
  {
   "cell_type": "markdown",
   "metadata": {},
   "source": [
    "**Print some model information**"
   ]
  },
  {
   "cell_type": "code",
   "execution_count": 7,
   "metadata": {},
   "outputs": [
    {
     "name": "stdout",
     "output_type": "stream",
     "text": [
      "spatial resolution 2.0 m \n",
      "pedestrian velocity resolution 1.0 m/s \n",
      "car velocity resolution 2.0 m/s \n",
      "number of states 29580 \n",
      "number of actions 4 \n"
     ]
    }
   ],
   "source": [
    "@printf(\"spatial resolution %2.1f m \\n\", mdp.pos_res)\n",
    "@printf(\"pedestrian velocity resolution %2.1f m/s \\n\", mdp.vel_ped_res)\n",
    "@printf(\"car velocity resolution %2.1f m/s \\n\", mdp.vel_res)\n",
    "@printf(\"number of states %d \\n\", n_states(mdp))\n",
    "@printf(\"number of actions %d \\n\", n_actions(mdp))"
   ]
  },
  {
   "cell_type": "markdown",
   "metadata": {},
   "source": [
    "**Parse Model with Storm**"
   ]
  },
  {
   "cell_type": "code",
   "execution_count": 8,
   "metadata": {},
   "outputs": [
    {
     "data": {
      "text/plain": [
       "\"Pmax=? [ (!\\\"crash\\\") U \\\"goal\\\"]\""
      ]
     },
     "execution_count": 8,
     "metadata": {},
     "output_type": "execute_result"
    }
   ],
   "source": [
    "property = \"Pmax=? [ (!\\\"crash\\\") U \\\"goal\\\"]\" \n",
    "# property = \"Pmax=? [G!\\\"crash\\\"]\"\n",
    "# property = \"Pmax=? [ G!\\\"crash\\\" & F<=30\\\"goal\\\"]\" \n",
    "# property = \"multi(Pmax=? [ G !\\\"crash\\\" ], Pmax=? [ F<=30 \\\"goal\\\" ])\""
   ]
  },
  {
   "cell_type": "code",
   "execution_count": 9,
   "metadata": {},
   "outputs": [
    {
     "name": "stderr",
     "output_type": "stream",
     "text": [
      "28-Jun 00:45:47:WARNING:root:overwriting potential existing files!\n"
     ]
    }
   ],
   "source": [
    "result = model_checking(mdp, labels, property, transition_file_name=\"pedmdp3.tra\", labels_file_name=\"pedmdp3.lab\", overwrite=true);"
   ]
  },
  {
   "cell_type": "code",
   "execution_count": 10,
   "metadata": {},
   "outputs": [
    {
     "name": "stdout",
     "output_type": "stream",
     "text": [
      "Computing safety mask...\n",
      "Mask saved to pedmask3.jld\n"
     ]
    }
   ],
   "source": [
    "P = get_proba(mdp, result);\n",
    "threshold = 0.9999\n",
    "mask = nothing\n",
    "mask_file = \"pedmask3.jld\"\n",
    "if isfile(mask_file) && false\n",
    "    println(\"Loading safety mask from pedmask_nb.jld\")\n",
    "    mask_data = JLD.load(mask_file)\n",
    "    mask = mask_data[\"mask\"]\n",
    "else\n",
    "    println(\"Computing safety mask...\")\n",
    "    mask = SafetyMask(mdp, StormPolicy(mdp, result), threshold)\n",
    "    JLD.save(mask_file, \"mask\", mask)\n",
    "    println(\"Mask saved to $mask_file\")\n",
    "end\n",
    ";"
   ]
  },
  {
   "cell_type": "code",
   "execution_count": 11,
   "metadata": {},
   "outputs": [],
   "source": [
    "# solver = ValueIterationSolver(max_iterations=1000)\n",
    "# mdp.collision_cost = -1\n",
    "# vi_policy = nothing \n",
    "# if isfile(\"ped_vi_policy.jld\")\n",
    "#     println(\"Loading VI policy from ped_vi_policy.jld\")\n",
    "#     policy_data = JLD.load(\"ped_vi_policy.jld\")\n",
    "#     vi_policy = policy_data[\"policy\"]\n",
    "# else\n",
    "#     println(\"Computing policy using VI...\")\n",
    "#     vi_policy = solve(solver, mdp, verbose=true)\n",
    "#     JLD.save(\"ped_vi_policy.jld\", \"policy\", vi_policy)\n",
    "#     println(\"Policy saved to ped_vi_policy.jld\")\n",
    "# end\n",
    "# ;"
   ]
  },
  {
   "cell_type": "code",
   "execution_count": 12,
   "metadata": {},
   "outputs": [],
   "source": [
    "rand_pol = MaskedEpsGreedyPolicy(mdp, 1.0, mask, rng);"
   ]
  },
  {
   "cell_type": "code",
   "execution_count": 13,
   "metadata": {},
   "outputs": [
    {
     "name": "stdout",
     "output_type": "stream",
     "text": [
      "  1.475931 seconds (651.76 k allocations: 32.608 MiB, 2.38% gc time)\n"
     ]
    }
   ],
   "source": [
    "# rng = MersenneTwister(2)\n",
    "# hr = HistoryRecorder(rng=rng, max_steps=100)\n",
    "# s0 = initialstate(mdp, rng)\n",
    "# @time hist = simulate(hr, mdp, vi_policy, s0);\n",
    "# rng = MersenneTwister(2)\n",
    "hr = HistoryRecorder(rng=rng, max_steps=100)\n",
    "s0 = initialstate(mdp, rng)\n",
    "@time hist2 = simulate(hr, mdp, rand_pol, s0);"
   ]
  },
  {
   "cell_type": "code",
   "execution_count": 14,
   "metadata": {},
   "outputs": [
    {
     "name": "stdout",
     "output_type": "stream",
     "text": [
      " 64.732461 seconds (100.45 M allocations: 4.697 GiB, 4.13% gc time)\n"
     ]
    }
   ],
   "source": [
    "@time for ep=1:1000\n",
    "    hr = HistoryRecorder(rng=rng, max_steps=100)\n",
    "    s0 = initialstate(mdp, rng)\n",
    "    hist2 = simulate(hr, mdp, rand_pol, s0)\n",
    "    if sum(hist2.reward_hist .< 0.) != 0.\n",
    "        println(\"Crash\")\n",
    "        break\n",
    "    end\n",
    "end"
   ]
  },
  {
   "cell_type": "code",
   "execution_count": 47,
   "metadata": {
    "scrolled": false
   },
   "outputs": [
    {
     "data": {
      "text/html": [
       "<video autoplay controls><source src=\"files/reel-14846527046288939971.webm?9589754709339979024\" type=\"video/webm\"></video>"
      ],
      "text/plain": [
       "Reel.Frames{MIME{Symbol(\"image/png\")}}(\"/tmp/tmpvPItaJ\", 0x0000000000000049, 2.0, nothing)"
      ]
     },
     "execution_count": 47,
     "metadata": {},
     "output_type": "execute_result"
    }
   ],
   "source": [
    "h = hist2\n",
    "state_hist = h.state_hist\n",
    "action_hist = h.action_hist\n",
    "push!(action_hist, PedMDPAction(0.))\n",
    "duration, fps, render_hist = animate_states(mdp, state_hist, action_hist, mask)\n",
    "film = roll(render_hist, fps = fps, duration = duration)"
   ]
  },
  {
   "cell_type": "code",
   "execution_count": 48,
   "metadata": {},
   "outputs": [
    {
     "name": "stdout",
     "output_type": "stream",
     "text": [
      " 34.475313 seconds (91.68 M allocations: 4.356 GiB, 5.09% gc time)\n",
      "Summary for 1000 episodes: \n",
      "Average reward: 0.039 \n",
      "Average # of steps: 81.089 \n",
      "Average # of violations: 0.000 \n"
     ]
    }
   ],
   "source": [
    "@time rewards_mask, steps_mask, violations_mask = evaluation_loop(mdp, rand_pol, n_ep=1000, max_steps=100, rng=rng);\n",
    "print_summary(rewards_mask, steps_mask, violations_mask)"
   ]
  },
  {
   "cell_type": "code",
   "execution_count": 49,
   "metadata": {},
   "outputs": [
    {
     "data": {
      "text/plain": [
       "0.9999918859906726"
      ]
     },
     "execution_count": 49,
     "metadata": {},
     "output_type": "execute_result"
    }
   ],
   "source": [
    "initial_probability(mdp, result)"
   ]
  },
  {
   "cell_type": "markdown",
   "metadata": {},
   "source": [
    "## Map to high fidelity environment\n",
    "\n",
    "We must be able to compute the safe actions in the continuous space environment. \n",
    "\n",
    "Several approaches are possible:\n",
    "- multi-linear interpolations of the states and weight the risk of the states: \n",
    "$$P_{\\phi}(s, a) = \\sum_{\\text{interpolated states}}w_{itp}P_{\\phi}(s_{itp}, a)$$\n",
    "- most likely state \n"
   ]
  },
  {
   "cell_type": "code",
   "execution_count": 22,
   "metadata": {},
   "outputs": [
    {
     "name": "stderr",
     "output_type": "stream",
     "text": [
      "WARNING: Method definition stop_at_dist(AutomotiveDrivingModels.DriverModel{DriveAction} where DriveAction, Records.Entity{AutomotiveDrivingModels.VehicleState, AutomotiveDrivingModels.VehicleDef, Int64}, Float64) in module AutomotivePOMDPs at /home/maxime/Maxime/OneDrive - Leland Stanford Junior University/Research/AutomotivePOMDPs/src/driver_models/stop.jl:16 overwritten at /home/maxime/Maxime/OneDrive - Leland Stanford Junior University/Research/AutomotivePOMDPs/src/driver_models/stop.jl:16.\n",
      "28-Jun 10:12:37:WARNING:root:replacing docs for 'AutomotivePOMDPs.stop_at_dist :: Tuple{AutomotiveDrivingModels.DriverModel,Records.Entity{AutomotiveDrivingModels.VehicleState,AutomotiveDrivingModels.VehicleDef,Int64},Float64}' in module 'AutomotivePOMDPs'.\n"
     ]
    }
   ],
   "source": [
    "params = UrbanParams(nlanes_main=1,\n",
    "                     crosswalk_pos =  [VecSE2(6, 0., pi/2), VecSE2(-6, 0., pi/2), VecSE2(0., -5., 0.)],\n",
    "                     crosswalk_length =  [14.0, 14., 14.0],\n",
    "                     crosswalk_width = [4.0, 4.0, 3.1],\n",
    "                     stop_line = 22.0)\n",
    "env = UrbanEnv(params=params);\n",
    "pomdp = UrbanPOMDP(env=env,\n",
    "                   ego_goal = LaneTag(2, 1),\n",
    "                   max_cars=0, \n",
    "                   max_peds=1, \n",
    "                   car_birth=0.3, \n",
    "                   ped_birth=0.7, \n",
    "                   obstacles=false, # no fixed obstacles\n",
    "                   lidar=false,\n",
    "                   pos_obs_noise = 0., # fully observable\n",
    "                   vel_obs_noise = 0.);\n",
    "rand_pol = RandomMaskedPOMDPPolicy(mask, pomdp, rng);"
   ]
  },
  {
   "cell_type": "code",
   "execution_count": 23,
   "metadata": {},
   "outputs": [],
   "source": [
    "include(\"masking_backup.jl\")"
   ]
  },
  {
   "cell_type": "code",
   "execution_count": 25,
   "metadata": {},
   "outputs": [
    {
     "name": "stdout",
     "output_type": "stream",
     "text": [
      "  0.129021 seconds (780.39 k allocations: 28.028 MiB, 13.98% gc time)\n"
     ]
    }
   ],
   "source": [
    "hr = HistoryRecorder(rng=rng, max_steps=100)\n",
    "s0 = initialstate(pomdp, rng)\n",
    "o0 = generate_o(pomdp, s0, rng)\n",
    "up = FastPreviousObservationUpdater{UrbanObs}()\n",
    "b0 = initialize_belief(up, o0)\n",
    "@time hist2 = simulate(hr, pomdp, rand_pol, up, b0, s0);"
   ]
  },
  {
   "cell_type": "code",
   "execution_count": 26,
   "metadata": {
    "scrolled": false
   },
   "outputs": [
    {
     "data": {
      "text/html": [
       "<video autoplay controls><source src=\"files/reel-180890858491597658.webm?5460118464705948024\" type=\"video/webm\"></video>"
      ],
      "text/plain": [
       "Reel.Frames{MIME{Symbol(\"image/png\")}}(\"/tmp/tmpj9zDfe\", 0x000000000000002c, 2.0, nothing)"
      ]
     },
     "execution_count": 26,
     "metadata": {},
     "output_type": "execute_result"
    }
   ],
   "source": [
    "h = hist2\n",
    "state_hist = h.state_hist\n",
    "action_hist = h.action_hist\n",
    "push!(action_hist, PedMDPAction(NaN))\n",
    "duration, fps, render_hist = animate_states(pomdp, state_hist, action_hist, mask)\n",
    "film = roll(render_hist, fps = fps, duration = duration)"
   ]
  },
  {
   "cell_type": "code",
   "execution_count": 33,
   "metadata": {},
   "outputs": [
    {
     "name": "stdout",
     "output_type": "stream",
     "text": [
      "1718.825905 seconds (14.02 G allocations: 486.540 GiB, 17.93% gc time)\n",
      "Summary for 10000 episodes: \n",
      "Average reward: 0.045 \n",
      "Average # of steps: 77.004 \n",
      "Average # of violations: 0.000 \n"
     ]
    }
   ],
   "source": [
    "@time rewards_mask, steps_mask, violations_mask = evaluation_loop(pomdp, rand_pol, n_ep=10000, max_steps=100, rng=rng);\n",
    "print_summary(rewards_mask, steps_mask, violations_mask)"
   ]
  },
  {
   "cell_type": "code",
   "execution_count": 21,
   "metadata": {},
   "outputs": [
    {
     "name": "stdout",
     "output_type": "stream",
     "text": [
      "1324.132022 seconds (14.67 G allocations: 510.827 GiB, 20.12% gc time)\n",
      "Summary for 10000 episodes: \n",
      "Average reward: 0.036 \n",
      "Average # of steps: 80.825 \n",
      "Average # of violations: 0.000 \n"
     ]
    }
   ],
   "source": [
    "@time rewards_mask, steps_mask, violations_mask = evaluation_loop(pomdp, rand_pol, n_ep=10000, max_steps=100, rng=rng);\n",
    "print_summary(rewards_mask, steps_mask, violations_mask)"
   ]
  },
  {
   "cell_type": "code",
   "execution_count": 25,
   "metadata": {},
   "outputs": [
    {
     "name": "stdout",
     "output_type": "stream",
     "text": [
      "1918.361417 seconds (14.10 G allocations: 489.207 GiB, 16.85% gc time)\n"
     ]
    }
   ],
   "source": [
    "@time for ep=1:10000\n",
    "    hr = HistoryRecorder(rng=rng, max_steps=100)\n",
    "    s0 = initialstate(pomdp, rng)\n",
    "    o0 = generate_o(pomdp, s0, rng)\n",
    "    up = FastPreviousObservationUpdater{UrbanObs}()\n",
    "    b0 = initialize_belief(up, o0)\n",
    "    hist2 = simulate(hr, pomdp, rand_pol, up, b0, s0)\n",
    "    if sum(hist2.reward_hist .< 0.) != 0.\n",
    "        println(\"Crash\")\n",
    "        break\n",
    "    end\n",
    "end"
   ]
  },
  {
   "cell_type": "code",
   "execution_count": 67,
   "metadata": {},
   "outputs": [
    {
     "ename": "LoadError",
     "evalue": "\u001b[91merror in method definition: function AutomotivePOMDPs.interpolate_state must be explicitly imported to be extended\u001b[39m",
     "output_type": "error",
     "traceback": [
      "\u001b[91merror in method definition: function AutomotivePOMDPs.interpolate_state must be explicitly imported to be extended\u001b[39m",
      ""
     ]
    }
   ],
   "source": [
    "function interpolate_state(mdp::PedMDP, s::PedMDPState)\n",
    "    # interpolate s in the grid\n",
    "    ped_v = get_ped_vspace(mdp.env, mdp.vel_ped_res) \n",
    "    itp_ped, itp_ped_w = interpolate_pedestrian(s.ped, ped_v)\n",
    "    ego_v = get_car_vspace(mdp.env, mdp.vel_res)\n",
    "    itp_ego, itp_ego_w = interpolate_state(s.ego, ego_v)\n",
    "    itp_states = Vector{PedMDPState}(length(itp_ego)*length(itp_ped))\n",
    "    itp_w = Vector{Float64}(length(itp_states))\n",
    "    k = 1\n",
    "    for (i, p) in enumerate(itp_ped)\n",
    "        for (j, e) in enumerate(itp_ego)\n",
    "            crash = is_colliding(Vehicle(p, mdp.ped_type, 0), Vehicle(e, mdp.ego_type, 1))\n",
    "            itp_states[k] = PedMDPState(crash, e, p)\n",
    "            itp_w[k] = itp_ped_w[i]*itp_ego_w[j]\n",
    "            k += 1\n",
    "        end\n",
    "    end\n",
    "    @assert sum(itp_w) ≈ 1.\n",
    "    return itp_states, itp_w\n",
    "end\n",
    "\n",
    "function car_roadway(env::UrbanEnv)\n",
    "    params = env.params\n",
    "    intersection_params = TInterParams(params.x_min, params.x_max, params.y_min, params.inter_x,\n",
    "                                    params.inter_y, params.inter_width, params.inter_height,\n",
    "                                    params. lane_width, params.nlanes_main, params.nlanes,\n",
    "                                    params. stop_line, params.speed_limit, params.car_rate)\n",
    "    car_roadway = gen_T_roadway(intersection_params)\n",
    "    return car_roadway\n",
    "end\n",
    "\n",
    "function get_pedmdp_state(mdp::PedMDP, s::Scene, ped_id::Int64)\n",
    "    ped_i = findfirst(s, ped_id)\n",
    "    ped = Vehicle(get_off_the_grid(mask.mdp), mdp.ped_type, ped_id)\n",
    "    if ped_i != 0\n",
    "        ped = s[ped_i]\n",
    "    end\n",
    "    ego = get_ego(s)\n",
    "    e_state = VehicleState(ego.state.posG, car_roadway(mdp.env), ego.state.v)\n",
    "    p_lane = get_lane(mdp.env.roadway, ped.state)\n",
    "    if p_lane.tag ∈ [LaneTag(17,1), LaneTag(18,1), LaneTag(19,1)]\n",
    "        if ped.state.posG.θ == 0. ||ped.state.posG.θ == float(pi) # solve ambiguity in projection\n",
    "            p_lane = mdp.env.ped_roadway[LaneTag(19,1)]\n",
    "        end\n",
    "        p_state = VehicleState(ped.state.posG, p_lane, mdp.env.ped_roadway, ped.state.v)\n",
    "    else\n",
    "        p_state = VehicleState(ped.state.posG, mdp.env.ped_roadway, ped.state.v)\n",
    "    end\n",
    "    return PedMDPState(is_colliding(ego, ped), e_state, p_state)\n",
    "end"
   ]
  },
  {
   "cell_type": "code",
   "execution_count": 43,
   "metadata": {},
   "outputs": [],
   "source": [
    "function render_interpolated_states(mdp::PedMDP, scene::Scene, ped_id=101)\n",
    "    sp = deepcopy(scene)\n",
    "    s = get_pedmdp_state(mdp, sp, ped_id)\n",
    "    ped_v = get_ped_vspace(mdp.env, mdp.vel_ped_res) \n",
    "    itp_ped, itp_ped_w = interpolate_pedestrian(s.ped, ped_v)\n",
    "    ego_v = get_car_vspace(mdp.env, mdp.vel_res)\n",
    "    itp_ego, itp_ego_w = interpolate_state(s.ego, ego_v)\n",
    "    colors = Dict{Int64, Colorant}(1=>COLOR_CAR_EGO, ped_id=>COLOR_CAR_OTHER)\n",
    "    pid = ped_id+1\n",
    "    for pi in itp_ped\n",
    "        if pi.posG != mdp.off_grid\n",
    "            push!(sp, Vehicle(pi, mdp.ped_type, pid))\n",
    "            colors[pid] = MONOKAI[\"color2\"]\n",
    "            pid += 1            \n",
    "        end\n",
    "    end\n",
    "    eid = EGO_ID+1\n",
    "    for ei in itp_ego\n",
    "        push!(sp, Vehicle(ei, mdp.ego_type, eid))\n",
    "        colors[eid] = MONOKAI[\"color2\"]\n",
    "        eid += 1        \n",
    "    end\n",
    "    return AutoViz.render(sp, env, cam=FitToContentCamera(0.), car_colors = colors)    \n",
    "end\n",
    "\n",
    "mutable struct InterpolationOverlay <: SceneOverlay\n",
    "    verbosity::Int\n",
    "    color::Colorant\n",
    "    font_size::Int\n",
    "    id::Int\n",
    "    mdp::PedMDP\n",
    "    pomdp::UrbanPOMDP\n",
    "\n",
    "    function InterpolationOverlay(mdp::PedMDP, pomdp::UrbanPOMDP, id::Int=101;\n",
    "        verbosity::Int=1,\n",
    "        color::Colorant=colorant\"white\",\n",
    "        font_size::Int=20,\n",
    "        )\n",
    "\n",
    "        new(verbosity, color, font_size, id, mdp, pomdp)\n",
    "    end\n",
    "end\n",
    "\n",
    "function AutoViz.render!(rendermodel::RenderModel, overlay::InterpolationOverlay, scene::Scene, env::OccludedEnv)\n",
    "    transparency = 0.5\n",
    "    s = get_pedmdp_state(overlay.mdp, scene, overlay.id)\n",
    "    ped_v = get_ped_vspace(mdp.env, mdp.vel_ped_res) \n",
    "    itp_ped, itp_ped_w = interpolate_pedestrian(s.ped, ped_v)\n",
    "    ego_v = get_car_vspace(mdp.env, mdp.vel_res)\n",
    "    itp_ego, itp_ego_w = interpolate_state(s.ego, ego_v)\n",
    "    for pi in itp_ped\n",
    "        x, y, θ, v = pi.posG.x, pi.posG.y, pi.posG.θ, pi.v \n",
    "        color = RGBA(75./255, 66./255, 244./255, transparency)\n",
    "        add_instruction!(rendermodel, render_vehicle, (x, y, θ, overlay.mdp.ped_type.length, overlay.mdp.ped_type.width, color, color, RGBA(1.,1.,1.,transparency)))\n",
    "    end\n",
    "    for ei in itp_ego\n",
    "         x, y, θ, v = ei.posG.x, ei.posG.y, ei.posG.θ, ei.v \n",
    "        color = RGBA(75./255, 66./255, 244./255, transparency)\n",
    "        add_instruction!(rendermodel, render_vehicle, (x, y, θ, overlay.mdp.ego_type.length, overlay.mdp.ego_type.width, color, color, RGBA(1.,1.,1.,transparency)))\n",
    "    end    \n",
    "end"
   ]
  },
  {
   "cell_type": "code",
   "execution_count": 44,
   "metadata": {},
   "outputs": [],
   "source": [
    "# XXX uses global variable POMDP\n",
    "function POMDPStorm.safe_actions(mask::SafetyMask{PedMDP, PedMDPAction}, o::UrbanObs, ped_id=101)\n",
    "    s = obs_to_scene(pomdp, o)\n",
    "    return safe_actions(mask, s, ped_id)\n",
    "end\n",
    "function POMDPStorm.safe_actions(mask::SafetyMask{PedMDP, PedMDPAction},s::UrbanState, ped_id=101)    \n",
    "    s_mdp = get_pedmdp_state(mask.mdp, s, ped_id)\n",
    "    itp_states, itp_weights = interpolate_state(mask.mdp, s_mdp)\n",
    "    # compute risk vector\n",
    "    p_sa = zeros(n_actions(mask.mdp))\n",
    "    for (i, ss) in enumerate(itp_states)\n",
    "        si = stateindex(mask.mdp, ss)\n",
    "        p_sa += itp_weights[i]*mask.risk_mat[si,:]\n",
    "    end\n",
    "    safe_acts = PedMDPAction[]\n",
    "    sizehint!(safe_acts, n_actions(mask.mdp))\n",
    "    if maximum(p_sa) <= mask.threshold\n",
    "        push!(safe_acts, mask.actions[indmax(p_sa)])\n",
    "    else\n",
    "        for (j, a) in enumerate(mask.actions)\n",
    "            if p_sa[j] > mask.threshold\n",
    "                push!(safe_acts, a)\n",
    "            end\n",
    "        end\n",
    "    end\n",
    "#     println(\"coucou \")\n",
    "#     println(\"Safe acts $([a.acc for a in safe_acts])\")\n",
    "    return safe_acts\n",
    "end"
   ]
  },
  {
   "cell_type": "code",
   "execution_count": 45,
   "metadata": {},
   "outputs": [],
   "source": [
    "function POMDPToolbox.action_info{M}(policy::MaskedEpsGreedyPolicy{M}, s)\n",
    "    return action(policy, s), safe_actions(policy.mask, s)\n",
    "end"
   ]
  },
  {
   "cell_type": "code",
   "execution_count": 20,
   "metadata": {},
   "outputs": [
    {
     "data": {
      "text/plain": [
       "animate_states (generic function with 3 methods)"
      ]
     },
     "execution_count": 20,
     "metadata": {},
     "output_type": "execute_result"
    }
   ],
   "source": [
    "function animate_states(pomdp::UrbanPOMDP, states::Vector{UrbanState}, actions::Vector{UrbanAction}, mask::SafetyMask;\n",
    "                        overlays=SceneOverlay[IDOverlay()],\n",
    "                        cam=StaticCamera(VecE2(0, -5.), 17.))\n",
    "    duration = length(states)*pomdp.ΔT\n",
    "    fps = Int(1/pomdp.ΔT)    \n",
    "    function render_states(t, dt)\n",
    "        frame_index = Int(floor(t/dt)) + 1\n",
    "        scene = states[frame_index] #state2scene(mdp, states[frame_index])\n",
    "        safe_acts =[a.acc for a in safe_actions(mask, states[frame_index])]\n",
    "        return AutoViz.render(scene,\n",
    "                pomdp.env,\n",
    "                cat(1, overlays, InterpolationOverlay(mask.mdp, pomdp),\n",
    "                                 TextOverlay(text = [\"v: $(get_ego(scene).state.v)\"],\n",
    "                                            font_size=20,\n",
    "                                            pos=VecE2(pomdp.env.params.x_min + 3.,6.),\n",
    "                                            incameraframe=true),\n",
    "                                 TextOverlay(text = [\"Acc: $(actions[frame_index].acc)\"],\n",
    "                                            font_size=20,\n",
    "                                            pos=VecE2(pomdp.env.params.x_min + 3.,8.),\n",
    "                                            incameraframe=true),\n",
    "                                TextOverlay(text = [\"Available Actions: $safe_acts\"],\n",
    "                                            font_size=20,\n",
    "                                            pos=VecE2(pomdp.env.params.x_min + 3.,10.),\n",
    "                                            incameraframe=true),\n",
    "                                TextOverlay(text = [\"step: $frame_index\"],\n",
    "                                            font_size=20,\n",
    "                                            pos=VecE2(pomdp.env.params.x_min + 3.,4.),\n",
    "                                            incameraframe=true)),\n",
    "                cam=cam,\n",
    "                car_colors=get_colors(scene))\n",
    "    end\n",
    "    return duration, fps, render_states\n",
    "end"
   ]
  },
  {
   "cell_type": "code",
   "execution_count": 50,
   "metadata": {},
   "outputs": [
    {
     "name": "stdout",
     "output_type": "stream",
     "text": [
      "VehicleState(VecSE2({1.500, -7.500}, 1.571), Frenet(RoadIndex({1, 0.865385}, {6, 1}), 22.500, 0.000, 0.000), 2.000)\n",
      "VehicleState(VecSE2({6.247, -4.526}, 3.142), Frenet(RoadIndex({1, 0.946221}, {19, 1}), 13.247, 0.474, 3.142), 0.500)\n"
     ]
    },
    {
     "data": {
      "text/plain": [
       "1-element Array{AutomotivePOMDPs.UrbanAction,1}:\n",
       " AutomotivePOMDPs.UrbanAction(2.0)"
      ]
     },
     "execution_count": 50,
     "metadata": {},
     "output_type": "execute_result"
    }
   ],
   "source": [
    "sc = h.state_hist[5]\n",
    "bc = h.belief_hist[5]\n",
    "for veh in sc\n",
    "    println(veh.state)\n",
    "end\n",
    "safe_actions(mask, bc)"
   ]
  },
  {
   "cell_type": "code",
   "execution_count": 49,
   "metadata": {},
   "outputs": [
    {
     "name": "stdout",
     "output_type": "stream",
     "text": [
      "VehicleState(VecSE2({1.500, -7.500}, 1.571), Frenet(RoadIndex({1, 0.865385}, {6, 1}), 22.500, -0.000, 0.000), 2.000)\n",
      "VehicleState(VecSE2({6.247, -4.526}, 3.142), Frenet(RoadIndex({1, 0.176689}, {17, 1}), 2.474, -0.247, 1.571), 0.500)\n",
      "VehicleState(VecSE2({6.247, -4.526}, 3.142), Frenet(RoadIndex({1, 0.946221}, {19, 1}), 13.247, 0.474, 3.142), 0.500)\n"
     ]
    }
   ],
   "source": [
    "bs = obs_to_scene(pomdp, bc)\n",
    "sbmdp = get_pedmdp_state(mdp, bs, 101)\n",
    "for veh in bs \n",
    "    println(veh.state)\n",
    "end\n",
    "println(sbmdp.ped)"
   ]
  },
  {
   "cell_type": "code",
   "execution_count": null,
   "metadata": {},
   "outputs": [],
   "source": []
  },
  {
   "cell_type": "code",
   "execution_count": 41,
   "metadata": {},
   "outputs": [
    {
     "data": {
      "text/html": [
       "7 methods for generic function <b>Type</b>:<ul><li> AutomotiveDrivingModels.VehicleState() at <a href=\"https://github.com/sisl/AutomotiveDrivingModels.jl/tree/67d82597b56aca5de4b581c89493e3a887687710//src/2d/vehicles/vehicles.jl#L6\" target=\"_blank\">/mnt/c/Users/Maxime/wsl/.julia/v0.6/AutomotiveDrivingModels/src/2d/vehicles/vehicles.jl:6</a></li> <li> AutomotiveDrivingModels.VehicleState(posG::<b>Vec.VecSE2</b>, v::<b>Float64</b>) at <a href=\"https://github.com/sisl/AutomotiveDrivingModels.jl/tree/67d82597b56aca5de4b581c89493e3a887687710//src/2d/vehicles/vehicles.jl#L7\" target=\"_blank\">/mnt/c/Users/Maxime/wsl/.julia/v0.6/AutomotiveDrivingModels/src/2d/vehicles/vehicles.jl:7</a></li> <li> AutomotiveDrivingModels.VehicleState(posG::<b>Vec.VecSE2</b>, posF::<b>AutomotiveDrivingModels.Frenet</b>, v::<b>Float64</b>) at <a href=\"https://github.com/sisl/AutomotiveDrivingModels.jl/tree/67d82597b56aca5de4b581c89493e3a887687710//src/2d/vehicles/vehicles.jl#L8\" target=\"_blank\">/mnt/c/Users/Maxime/wsl/.julia/v0.6/AutomotiveDrivingModels/src/2d/vehicles/vehicles.jl:8</a></li> <li> AutomotiveDrivingModels.VehicleState(posG::<b>Vec.VecSE2</b>, roadway::<b>AutomotiveDrivingModels.Roadway</b>, v::<b>Float64</b>) at <a href=\"https://github.com/sisl/AutomotiveDrivingModels.jl/tree/67d82597b56aca5de4b581c89493e3a887687710//src/2d/vehicles/vehicles.jl#L9\" target=\"_blank\">/mnt/c/Users/Maxime/wsl/.julia/v0.6/AutomotiveDrivingModels/src/2d/vehicles/vehicles.jl:9</a></li> <li> AutomotiveDrivingModels.VehicleState(posG::<b>Vec.VecSE2</b>, lane::<b>AutomotiveDrivingModels.Lane</b>, roadway::<b>AutomotiveDrivingModels.Roadway</b>, v::<b>Float64</b>) at <a href=\"https://github.com/sisl/AutomotiveDrivingModels.jl/tree/67d82597b56aca5de4b581c89493e3a887687710//src/2d/vehicles/vehicles.jl#L10\" target=\"_blank\">/mnt/c/Users/Maxime/wsl/.julia/v0.6/AutomotiveDrivingModels/src/2d/vehicles/vehicles.jl:10</a></li> <li> AutomotiveDrivingModels.VehicleState(posF::<b>AutomotiveDrivingModels.Frenet</b>, roadway::<b>AutomotiveDrivingModels.Roadway</b>, v::<b>Float64</b>) at <a href=\"https://github.com/sisl/AutomotiveDrivingModels.jl/tree/67d82597b56aca5de4b581c89493e3a887687710//src/2d/vehicles/vehicles.jl#L11\" target=\"_blank\">/mnt/c/Users/Maxime/wsl/.julia/v0.6/AutomotiveDrivingModels/src/2d/vehicles/vehicles.jl:11</a></li> <li> (::<b>Type{T}</b>)<i>{T}</i>(arg) at <a href=\"https://github.com/JuliaLang/julia/tree/0d7248e2ff65bd6886ba3f003bf5aeab929edab5/base/sysimg.jl#L77\" target=\"_blank\">sysimg.jl:77</a></li> </ul>"
      ],
      "text/plain": [
       "# 7 methods for generic function \"(::Type)\":\n",
       "AutomotiveDrivingModels.VehicleState() in AutomotiveDrivingModels at /mnt/c/Users/Maxime/wsl/.julia/v0.6/AutomotiveDrivingModels/src/2d/vehicles/vehicles.jl:6\n",
       "AutomotiveDrivingModels.VehicleState(posG::Vec.VecSE2, v::Float64) in AutomotiveDrivingModels at /mnt/c/Users/Maxime/wsl/.julia/v0.6/AutomotiveDrivingModels/src/2d/vehicles/vehicles.jl:7\n",
       "AutomotiveDrivingModels.VehicleState(posG::Vec.VecSE2, posF::AutomotiveDrivingModels.Frenet, v::Float64) in AutomotiveDrivingModels at /mnt/c/Users/Maxime/wsl/.julia/v0.6/AutomotiveDrivingModels/src/2d/vehicles/vehicles.jl:8\n",
       "AutomotiveDrivingModels.VehicleState(posG::Vec.VecSE2, roadway::AutomotiveDrivingModels.Roadway, v::Float64) in AutomotiveDrivingModels at /mnt/c/Users/Maxime/wsl/.julia/v0.6/AutomotiveDrivingModels/src/2d/vehicles/vehicles.jl:9\n",
       "AutomotiveDrivingModels.VehicleState(posG::Vec.VecSE2, lane::AutomotiveDrivingModels.Lane, roadway::AutomotiveDrivingModels.Roadway, v::Float64) in AutomotiveDrivingModels at /mnt/c/Users/Maxime/wsl/.julia/v0.6/AutomotiveDrivingModels/src/2d/vehicles/vehicles.jl:10\n",
       "AutomotiveDrivingModels.VehicleState(posF::AutomotiveDrivingModels.Frenet, roadway::AutomotiveDrivingModels.Roadway, v::Float64) in AutomotiveDrivingModels at /mnt/c/Users/Maxime/wsl/.julia/v0.6/AutomotiveDrivingModels/src/2d/vehicles/vehicles.jl:11\n",
       "(::Type{T})(arg) where T in Base at sysimg.jl:77"
      ]
     },
     "execution_count": 41,
     "metadata": {},
     "output_type": "execute_result"
    },
    {
     "name": "stderr",
     "output_type": "stream",
     "text": [
      "WARNING: both JLD and AutoViz export \"save\"; uses of it in module Main must be qualified\n",
      "WARNING: both JLD and AutoViz export \"translate\"; uses of it in module Main must be qualified\n",
      "WARNING: both ProgressMeter and AutomotiveDrivingModels export \"update!\"; uses of it in module Main must be qualified\n",
      "WARNING: both AutomotiveDrivingModels and POMDPs export \"action_type\"; uses of it in module Main must be qualified\n",
      "WARNING: both Cairo and AutomotiveDrivingModels export \"scale\"; uses of it in module AutoViz must be qualified\n",
      "WARNING: both POMDPs and GridInterpolations export \"dimensions\"; uses of it in module Main must be qualified\n"
     ]
    }
   ],
   "source": [
    "methods(VehicleState)"
   ]
  },
  {
   "cell_type": "code",
   "execution_count": 39,
   "metadata": {},
   "outputs": [
    {
     "name": "stdout",
     "output_type": "stream",
     "text": [
      "VehicleState(VecSE2({6.247, -4.526}, 3.142), Frenet(RoadIndex({1, 0.946221}, {19, 1}), 13.247, 0.474, 3.142), 0.500)\n"
     ]
    }
   ],
   "source": [
    "smdp = get_pedmdp_state(mdp, sc, 101)\n",
    "println(smdp.ped)"
   ]
  },
  {
   "cell_type": "code",
   "execution_count": 73,
   "metadata": {},
   "outputs": [
    {
     "name": "stdout",
     "output_type": "stream",
     "text": [
      "Crash\n",
      "  0.601480 seconds (4.37 M allocations: 158.467 MiB, 17.73% gc time)\n"
     ]
    }
   ],
   "source": [
    "@time for ep=1:10000\n",
    "    hr = HistoryRecorder(rng=rng, max_steps=100)\n",
    "    s0 = initialstate(pomdp, rng)\n",
    "    o0 = generate_o(pomdp, s0, rng)\n",
    "    up = FastPreviousObservationUpdater{UrbanObs}()\n",
    "    b0 = initialize_belief(up, o0)\n",
    "    hist2 = simulate(hr, pomdp, rand_pol, up, b0, s0)\n",
    "    if sum(hist2.reward_hist .< 0.) != 0.\n",
    "        println(\"Crash\")\n",
    "        break\n",
    "    end\n",
    "end\n",
    "# @time for ep=1:1000\n",
    "#     hr = HistoryRecorder(rng=rng, max_steps=100)\n",
    "#     s0 = initialstate(mdp2, rng)\n",
    "#     hist2 = simulate(hr, mdp2, rand_pol, s0)\n",
    "#     if sum(hist2.reward_hist .< 0.) != 0.\n",
    "#         println(\"Crash\")\n",
    "#         break\n",
    "#     end\n",
    "# end"
   ]
  },
  {
   "cell_type": "code",
   "execution_count": 25,
   "metadata": {},
   "outputs": [
    {
     "data": {
      "text/plain": [
       "evaluation_loop (generic function with 2 methods)"
      ]
     },
     "execution_count": 25,
     "metadata": {},
     "output_type": "execute_result"
    }
   ],
   "source": [
    "function evaluation_loop(pomdp::POMDP, policy::Policy; n_ep::Int64 = 1000, max_steps::Int64 = 500, rng::AbstractRNG = Base.GLOBAL_RNG)\n",
    "    rewards = zeros(n_ep)\n",
    "    steps = zeros(n_ep)\n",
    "    violations = zeros(n_ep)\n",
    "    up = FastPreviousObservationUpdater{obs_type(pomdp)}()\n",
    "    for ep=1:n_ep\n",
    "        s0 = initialstate(pomdp, rng)\n",
    "        o0 = generate_o(pomdp, s0, rng)\n",
    "        b0 = initialize_belief(up, o0)\n",
    "        hr = HistoryRecorder(max_steps=max_steps, rng=rng)\n",
    "        hist = simulate(hr, pomdp, policy, up, b0, s0);\n",
    "        rewards[ep] = discounted_reward(hist)\n",
    "        steps[ep] = n_steps(hist)\n",
    "        violations[ep] = sum(hist.reward_hist .< 0.) #+ Int(n_steps(hist) >= max_steps)\n",
    "    end\n",
    "    return rewards, steps, violations\n",
    "end"
   ]
  },
  {
   "cell_type": "code",
   "execution_count": 26,
   "metadata": {},
   "outputs": [
    {
     "name": "stdout",
     "output_type": "stream",
     "text": [
      "206.401539 seconds (1.91 G allocations: 60.774 GiB, 16.74% gc time)\n",
      "Summary for 1000 episodes: \n",
      "Average reward: 0.014 \n",
      "Average # of steps: 91.376 \n",
      "Average # of violations: 0.100 \n"
     ]
    }
   ],
   "source": [
    "@time rewards_mask, steps_mask, violations_mask = evaluation_loop(pomdp, rand_pol, n_ep=1000, max_steps=100, rng=rng);\n",
    "print_summary(rewards_mask, steps_mask, violations_mask)"
   ]
  },
  {
   "cell_type": "code",
   "execution_count": 36,
   "metadata": {},
   "outputs": [
    {
     "data": {
      "text/plain": [
       "VehicleState(VecSE2({-0.610, -4.627}, 0.000), Frenet(RoadIndex({1, 0.456404}, {19, 1}), 6.390, 0.373, 0.000), 2.000)"
      ]
     },
     "execution_count": 36,
     "metadata": {},
     "output_type": "execute_result"
    }
   ],
   "source": [
    "ped = h.state_hist[end-1][findfirst(h.state_hist[end-1], 101)]\n",
    "ego = h.state_hist[end-1][findfirst(h.state_hist[end-1], 1)]\n",
    "ped.state\n",
    "# ego.state"
   ]
  },
  {
   "cell_type": "code",
   "execution_count": 107,
   "metadata": {},
   "outputs": [
    {
     "data": {
      "text/plain": [
       "(AutomotiveDrivingModels.VehicleState[VehicleState(VecSE2({3.000, -5.000}, 0.000), Frenet(RoadIndex({1, 0.800000}, {19, 1}), 8.000, 0.000, 0.000), 0.000), VehicleState(VecSE2({4.000, -5.000}, 0.000), Frenet(RoadIndex({1, 0.900000}, {19, 1}), 9.000, 0.000, 0.000), 0.000)], [0.905113, 0.094887])"
      ]
     },
     "execution_count": 107,
     "metadata": {},
     "output_type": "execute_result"
    }
   ],
   "source": [
    "ped_v = get_ped_vspace(mdp.env, mdp.vel_ped_res) \n",
    "itp_ped, itp_ped_w = interpolate_pedestrian(ped.state, ped_v)"
   ]
  },
  {
   "cell_type": "code",
   "execution_count": 47,
   "metadata": {},
   "outputs": [
    {
     "name": "stdout",
     "output_type": "stream",
     "text": [
      "AutomotivePOMDPs.UrbanAction(2.0)\n",
      "AutomotivePOMDPs.UrbanAction[AutomotivePOMDPs.UrbanAction(-4.0), AutomotivePOMDPs.UrbanAction(-2.0), AutomotivePOMDPs.UrbanAction(0.0), AutomotivePOMDPs.UrbanAction(2.0)]\n"
     ]
    }
   ],
   "source": [
    "println(h.action_hist[2])\n",
    "println(h.ainfo_hist[2])\n",
    "# h.belief_hist[end-1]\n",
    "# sh = h.state_hist[end - 1]\n",
    "# pedh = sh[findfirst(sh, 101)]\n",
    "# pedh.state"
   ]
  },
  {
   "cell_type": "code",
   "execution_count": 75,
   "metadata": {},
   "outputs": [
    {
     "name": "stdout",
     "output_type": "stream",
     "text": [
      "VehicleState(VecSE2({3.000, -5.000}, 0.000), Frenet(RoadIndex({1, 0.800000}, {19, 1}), 8.000, 0.000, 0.000), 0.000) 0.9051129662516537\n",
      "VehicleState(VecSE2({4.000, -5.000}, 0.000), Frenet(RoadIndex({1, 0.900000}, {19, 1}), 9.000, 0.000, 0.000), 0.000) 0.09488703374834628\n"
     ]
    }
   ],
   "source": [
    "s = obs_to_scene(pomdp, h.belief_hist[end-1])\n",
    "safe_actions(mask, s)\n",
    "ped = s[findfirst(s, 101)]\n",
    "ped.state\n",
    "ped_v = get_ped_vspace(mdp.env, mdp.vel_ped_res) \n",
    "itp_ped, itp_ped_w = interpolate_pedestrian(ped.state, ped_v)\n",
    "for (i,pi) in enumerate(itp_ped)\n",
    "    println(pi, \" \", itp_ped_w[i])\n",
    "end"
   ]
  },
  {
   "cell_type": "code",
   "execution_count": 62,
   "metadata": {},
   "outputs": [
    {
     "data": {
      "text/plain": [
       "3-element Array{AutomotivePOMDPs.UrbanAction,1}:\n",
       " AutomotivePOMDPs.UrbanAction(-2.0)\n",
       " AutomotivePOMDPs.UrbanAction(0.0) \n",
       " AutomotivePOMDPs.UrbanAction(2.0) "
      ]
     },
     "execution_count": 62,
     "metadata": {},
     "output_type": "execute_result"
    }
   ],
   "source": [
    "safe_actions(mask, h.state_hist[end-1])"
   ]
  },
  {
   "cell_type": "code",
   "execution_count": 132,
   "metadata": {},
   "outputs": [
    {
     "data": {
      "text/plain": [
       "3-element Array{AutomotivePOMDPs.UrbanAction,1}:\n",
       " AutomotivePOMDPs.UrbanAction(-2.0)\n",
       " AutomotivePOMDPs.UrbanAction(0.0) \n",
       " AutomotivePOMDPs.UrbanAction(2.0) "
      ]
     },
     "execution_count": 132,
     "metadata": {},
     "output_type": "execute_result"
    }
   ],
   "source": [
    "safe_actions(mask, h.belief_hist[end-1])\n",
    "safe_actions(mask, s)"
   ]
  },
  {
   "cell_type": "code",
   "execution_count": 55,
   "metadata": {},
   "outputs": [
    {
     "name": "stdout",
     "output_type": "stream",
     "text": [
      "interpolated states: \n",
      "PedMDPState(false, VehicleState(VecSE2({1.500, -7.000}, 1.571), Frenet(RoadIndex({1, 0.884615}, {6, 1}), 23.000, 0.000, 0.000), 0.000), VehicleState(VecSE2({4.000, -5.000}, 3.142), Frenet(RoadIndex({1, 0.785714}, {19, 1}), 11.000, 0.000, 3.142), 2.000))\n",
      "PedMDPState(false, VehicleState(VecSE2({1.500, -7.000}, 1.571), Frenet(RoadIndex({1, 0.884615}, {6, 1}), 23.000, 0.000, 0.000), 0.000), VehicleState(VecSE2({5.000, -5.000}, 3.142), Frenet(RoadIndex({1, 0.857143}, {19, 1}), 12.000, 0.000, 3.142), 2.000))\n",
      "end interpolated states\n",
      "action -4.0\n",
      "true 6433 1.1842378929335004e-15 0.0\n",
      "true 6435 0.6666666666666655 0.0339084201388924\n",
      "true 6463 5.921189464667502e-16 0.0\n",
      "true 6465 0.33333333333333276 0.01695421006944577\n",
      "action -2.0\n",
      "true 6433 1.1842378929335004e-15 0.0\n",
      "true 6435 0.6666666666666655 0.0339084201388924\n",
      "true 6463 5.921189464667502e-16 0.0\n",
      "true 6465 0.33333333333333276 0.01695421006944577\n",
      "action 0.0\n",
      "true 6433 1.1842378929335004e-15 0.0\n",
      "true 6435 0.6666666666666655 0.0339084201388924\n",
      "true 6463 5.921189464667502e-16 0.0\n",
      "true 6465 0.33333333333333276 0.01695421006944577\n",
      "action 2.0\n",
      "true 13750 8.881784197001252e-16 0.0\n",
      "true 13752 0.4999999999999991 0.051540798611113936\n",
      "true 13780 4.440892098500626e-16 0.0\n",
      "true 13782 0.24999999999999956 0.025770399305556496\n",
      "true 14021 2.960594732333751e-16 0.0\n",
      "true 14023 0.16666666666666638 0.008138020833337813\n",
      "true 14051 1.4802973661668756e-16 0.0\n",
      "true 14053 0.08333333333333319 0.004069010416668294\n",
      "action -4.0\n",
      "false 6437 0.6666666666666666 0.5827727141203665\n",
      "false 6467 0.3333333333333333 0.30834056712962854\n",
      "action -2.0\n",
      "false 6437 0.6666666666666666 0.5827727141203665\n",
      "false 6467 0.3333333333333333 0.30834056712962854\n",
      "action 0.0\n",
      "false 6437 0.6666666666666666 0.5827727141203665\n",
      "false 6467 0.3333333333333333 0.30834056712962854\n",
      "action 2.0\n",
      "false 13754 0.5 0.6838650173611074\n",
      "false 13784 0.25 0.36770290798610955\n",
      "false 14025 0.16666666666666666 0.7131618923611076\n",
      "false 14055 0.08333333333333333 0.3606499565972215\n"
     ]
    },
    {
     "data": {
      "text/plain": [
       "4-element Array{Float64,1}:\n",
       " 0.481969\n",
       " 0.481969\n",
       " 0.481969\n",
       " 0.571718"
      ]
     },
     "execution_count": 55,
     "metadata": {},
     "output_type": "execute_result"
    }
   ],
   "source": [
    "s = h.state_hist[end-4]\n",
    "ego = s[findfirst(s, 1)]\n",
    "ped = s[findfirst(s, 101)]\n",
    "sc = PedMDPState(is_colliding(ego, ped), ego.state, ped.state)\n",
    "s_itp, s_w = interpolate_state(mdp, sc)\n",
    "println(\"interpolated states: \")\n",
    "for sit in s_itp \n",
    "    println(sit)\n",
    "end\n",
    "println(\"end interpolated states\")\n",
    "si = stateindex(mdp, sc)\n",
    "mask.risk_vec[si]\n",
    "psa = zeros(4)\n",
    "for (i, sc) in enumerate(s_itp)\n",
    "    for a in actions(pomdp)\n",
    "        println(\"action \", a.acc)\n",
    "        ai = actionindex(mdp, a)\n",
    "        d = transition(mdp, sc, a)\n",
    "        for (sp, p) in weighted_iterator(d)\n",
    "            spi = stateindex(mdp, sp)\n",
    "            println(sp.crash, \" \", spi, \" \", p, \" \", P[spi])\n",
    "        #     println(sp.ego.v)\n",
    "        #     println([l.tag for l in sp.route])\n",
    "            p == 0.0 ? continue : nothing # skip if zero prob\n",
    "            psa[ai] += p * P[spi] * s_w[i]\n",
    "        end\n",
    "    end\n",
    "end\n",
    "psa"
   ]
  },
  {
   "cell_type": "code",
   "execution_count": 47,
   "metadata": {},
   "outputs": [
    {
     "data": {
      "text/plain": [
       "VehicleState(VecSE2({-1.914, 1.089}, 2.753), Frenet(RoadIndex({19, 0.056852}, {13, 1}), 6.500, 0.000, 0.000), 3.000)"
      ]
     },
     "execution_count": 47,
     "metadata": {},
     "output_type": "execute_result"
    }
   ],
   "source": [
    "ego.state"
   ]
  },
  {
   "cell_type": "code",
   "execution_count": 77,
   "metadata": {},
   "outputs": [
    {
     "data": {
      "image/png": "[encoded data removed]",
      "text/plain": [
       "Cairo.CairoSurface{UInt32}(Ptr{Void} @0x000000000a9854c0, 1000.0, 600.0, #undef)"
      ]
     },
     "execution_count": 77,
     "metadata": {},
     "output_type": "execute_result"
    }
   ],
   "source": [
    "AutoViz.render(state2scene(mdp, states(mdp)[15273]), env, cam=FitToContentCamera(0.))"
   ]
  },
  {
   "cell_type": "code",
   "execution_count": 27,
   "metadata": {},
   "outputs": [
    {
     "data": {
      "text/plain": [
       "evaluation_loop (generic function with 2 methods)"
      ]
     },
     "execution_count": 27,
     "metadata": {},
     "output_type": "execute_result"
    }
   ],
   "source": []
  },
  {
   "cell_type": "code",
   "execution_count": 49,
   "metadata": {},
   "outputs": [
    {
     "name": "stdout",
     "output_type": "stream",
     "text": [
      "1218.079457 seconds (15.70 G allocations: 425.871 GiB, 17.20% gc time)\n",
      "Summary for 10000 episodes: \n",
      "Average reward: 0.016 \n",
      "Average # of steps: 89.368 \n",
      "Average # of violations: 0.260 \n"
     ]
    }
   ],
   "source": []
  },
  {
   "cell_type": "code",
   "execution_count": 34,
   "metadata": {},
   "outputs": [],
   "source": [
    "P = get_proba(mdp, result);"
   ]
  },
  {
   "cell_type": "code",
   "execution_count": 32,
   "metadata": {},
   "outputs": [
    {
     "name": "stdout",
     "output_type": "stream",
     "text": [
      "Summary for 1000 episodes: \n",
      "Average reward: 0.010 \n",
      "Average # of steps: 77.330 \n",
      "Average # of violations: 14.400 \n"
     ]
    }
   ],
   "source": [
    "print_summary(rewards_mask, steps_mask, violations_mask)"
   ]
  },
  {
   "cell_type": "code",
   "execution_count": 44,
   "metadata": {},
   "outputs": [
    {
     "data": {
      "image/png": "[encoded data removed]",
      "text/plain": [
       "Cairo.CairoSurface{UInt32}(Ptr{Void} @0x00000000085e4ff0, 1000.0, 600.0, #undef)"
      ]
     },
     "execution_count": 44,
     "metadata": {},
     "output_type": "execute_result"
    }
   ],
   "source": [
    "s = states(mdp)[2675]\n",
    "AutoViz.render(state2scene(mdp, s), env, cam=FitToContentCamera(0.))"
   ]
  },
  {
   "cell_type": "code",
   "execution_count": 41,
   "metadata": {},
   "outputs": [
    {
     "data": {
      "text/plain": [
       "4-element Array{AutomotivePOMDPs.UrbanAction,1}:\n",
       " AutomotivePOMDPs.UrbanAction(-4.0)\n",
       " AutomotivePOMDPs.UrbanAction(-2.0)\n",
       " AutomotivePOMDPs.UrbanAction(0.0) \n",
       " AutomotivePOMDPs.UrbanAction(2.0) "
      ]
     },
     "execution_count": 41,
     "metadata": {},
     "output_type": "execute_result"
    }
   ],
   "source": [
    "safe_actions(mask, s)"
   ]
  },
  {
   "cell_type": "code",
   "execution_count": 38,
   "metadata": {},
   "outputs": [
    {
     "name": "stdout",
     "output_type": "stream",
     "text": [
      "VehicleState(VecSE2({1.500, -5.000}, 1.571), Frenet(RoadIndex({1, 0.961538}, {6, 1}), 25.000, 0.000, 0.000), 0.000)\n",
      "VehicleState(VecSE2({1.500, -4.000}, 1.571), Frenet(RoadIndex({1, 1.000000}, {6, 1}), 26.000, 0.000, 0.000), 0.000)\n",
      "VehicleState(VecSE2({1.500, -5.000}, 1.571), Frenet(RoadIndex({1, 0.961538}, {6, 1}), 25.000, 0.000, 0.000), 0.000)\n",
      "VehicleState(VecSE2({1.500, -4.000}, 1.571), Frenet(RoadIndex({1, 1.000000}, {6, 1}), 26.000, 0.000, 0.000), 0.000)\n"
     ]
    }
   ],
   "source": [
    "sc_itp, sc_itpw = interpolate_state(mdp, sc)\n",
    "for u in sc_itp\n",
    "    println(u.ego)\n",
    "end"
   ]
  },
  {
   "cell_type": "code",
   "execution_count": 29,
   "metadata": {},
   "outputs": [
    {
     "data": {
      "image/png": "[encoded data removed]",
      "text/plain": [
       "Cairo.CairoSurface{UInt32}(Ptr{Void} @0x0000000007e00d10, 1000.0, 600.0, #undef)"
      ]
     },
     "execution_count": 29,
     "metadata": {},
     "output_type": "execute_result"
    }
   ],
   "source": [
    "AutoViz.render(s0, env, cam=FitToContentCamera(0.))"
   ]
  },
  {
   "cell_type": "code",
   "execution_count": 88,
   "metadata": {},
   "outputs": [
    {
     "data": {
      "text/plain": [
       "0"
      ]
     },
     "execution_count": 88,
     "metadata": {},
     "output_type": "execute_result"
    }
   ],
   "source": [
    "AutomotivePOMDPs.n_pedestrians(s0)"
   ]
  },
  {
   "cell_type": "code",
   "execution_count": 19,
   "metadata": {},
   "outputs": [
    {
     "ename": "LoadError",
     "evalue": "\u001b[91mUndefVarError: h not defined\u001b[39m",
     "output_type": "error",
     "traceback": [
      "\u001b[91mUndefVarError: h not defined\u001b[39m",
      ""
     ]
    }
   ],
   "source": [
    "sc = h.state_hist[end-1]\n",
    "si = stateindex(mdp, sc)\n",
    "mask.risk_vec[si]\n",
    "a = UrbanAction(-2.)\n",
    "ai = actionindex(mdp, a)\n",
    "d = transition(mdp, sc, a)\n",
    "psa = zeros(4)\n",
    "for (sp, p) in weighted_iterator(d)\n",
    "    spi = stateindex(mdp, sp)\n",
    "    println(sp.crash, \" \", spi, \" \", p)\n",
    "    println(sp)\n",
    "    p == 0.0 ? continue : nothing # skip if zero prob\n",
    "    psa[ai] += p * P[spi]\n",
    "end\n",
    "psa"
   ]
  },
  {
   "cell_type": "code",
   "execution_count": 88,
   "metadata": {},
   "outputs": [
    {
     "data": {
      "text/plain": [
       "VehicleState(VecSE2({1.500, -10.000}, 1.571), Frenet(RoadIndex({1, 0.769231}, {6, 1}), 20.000, 0.000, 0.000), 0.000)"
      ]
     },
     "execution_count": 88,
     "metadata": {},
     "output_type": "execute_result"
    }
   ],
   "source": [
    "s0 = initialstate(mdp, rng)\n",
    "s0.ego"
   ]
  },
  {
   "cell_type": "code",
   "execution_count": 83,
   "metadata": {},
   "outputs": [
    {
     "data": {
      "text/plain": [
       "false"
      ]
     },
     "execution_count": 83,
     "metadata": {},
     "output_type": "execute_result"
    }
   ],
   "source": [
    "sc.ego == states(mdp)[50].ego"
   ]
  },
  {
   "cell_type": "code",
   "execution_count": 84,
   "metadata": {},
   "outputs": [
    {
     "data": {
      "text/plain": [
       "false"
      ]
     },
     "execution_count": 84,
     "metadata": {},
     "output_type": "execute_result"
    }
   ],
   "source": [
    "sc == states(mdp)[50]"
   ]
  },
  {
   "cell_type": "code",
   "execution_count": 85,
   "metadata": {},
   "outputs": [
    {
     "data": {
      "text/plain": [
       "50"
      ]
     },
     "execution_count": 85,
     "metadata": {},
     "output_type": "execute_result"
    }
   ],
   "source": [
    "stateindex(mdp, sc)"
   ]
  },
  {
   "cell_type": "code",
   "execution_count": 86,
   "metadata": {},
   "outputs": [
    {
     "data": {
      "text/plain": [
       "50"
      ]
     },
     "execution_count": 86,
     "metadata": {},
     "output_type": "execute_result"
    }
   ],
   "source": [
    "stateindex(mdp, states(mdp)[50])"
   ]
  },
  {
   "cell_type": "code",
   "execution_count": 77,
   "metadata": {},
   "outputs": [
    {
     "data": {
      "text/plain": [
       "VehicleState(VecSE2({1.500, -30.000}, 1.571), Frenet(RoadIndex({1, 0.000000}, {6, 1}), 0.000, 0.000, 0.000), 0.000)"
      ]
     },
     "execution_count": 77,
     "metadata": {},
     "output_type": "execute_result"
    }
   ],
   "source": [
    "states(mdp)[40].ego"
   ]
  },
  {
   "cell_type": "code",
   "execution_count": 69,
   "metadata": {},
   "outputs": [
    {
     "ename": "LoadError",
     "evalue": "\u001b[91mKeyError: key PedMDPState(false, VehicleState(VecSE2({1.500, -30.000}, 1.571), Frenet(RoadIndex({1, 0.000000}, {6, 1}), 0.000, 0.000, 0.000), 0.000), VehicleState(VecSE2({-6.000, 1.000}, 1.571), Frenet(RoadIndex({1, 0.600000}, {18, 1}), 6.000, 0.000, 0.000), 0.000)) not found\u001b[39m",
     "output_type": "error",
     "traceback": [
      "\u001b[91mKeyError: key PedMDPState(false, VehicleState(VecSE2({1.500, -30.000}, 1.571), Frenet(RoadIndex({1, 0.000000}, {6, 1}), 0.000, 0.000, 0.000), 0.000), VehicleState(VecSE2({-6.000, 1.000}, 1.571), Frenet(RoadIndex({1, 0.600000}, {18, 1}), 6.000, 0.000, 0.000), 0.000)) not found\u001b[39m",
      "",
      "Stacktrace:",
      " [1] \u001b[1mgetindex\u001b[22m\u001b[22m\u001b[1m(\u001b[22m\u001b[22m::Dict{PedMDPState,Array{String,1}}, ::PedMDPState\u001b[1m)\u001b[22m\u001b[22m at \u001b[1m./dict.jl:474\u001b[22m\u001b[22m"
     ]
    }
   ],
   "source": [
    "labels[]"
   ]
  },
  {
   "cell_type": "code",
   "execution_count": 39,
   "metadata": {},
   "outputs": [
    {
     "data": {
      "image/png": "[encoded data removed]",
      "text/plain": [
       "Cairo.CairoSurface{UInt32}(Ptr{Void} @0x0000000009f47630, 1000.0, 600.0, #undef)"
      ]
     },
     "execution_count": 39,
     "metadata": {},
     "output_type": "execute_result"
    }
   ],
   "source": [
    "scene = state2scene(mdp, sc)\n",
    "AutoViz.render(scene, env, cam=FitToContentCamera(0.))"
   ]
  },
  {
   "cell_type": "code",
   "execution_count": 45,
   "metadata": {},
   "outputs": [
    {
     "name": "stdout",
     "output_type": "stream",
     "text": [
      "Summary for 1000 episodes: \n",
      "Average reward: 0.444 \n",
      "Average # of steps: 17.037 \n",
      "Average # of violations: 0.015 \n"
     ]
    }
   ],
   "source": [
    "rewards_vi, steps_vi, violations_vi = evaluation_loop(mdp, vi_policy, n_ep=1000, max_steps=100, rng=rng);\n",
    "print_summary(rewards_vi, steps_vi, violations_vi)"
   ]
  },
  {
   "cell_type": "code",
   "execution_count": 36,
   "metadata": {},
   "outputs": [
    {
     "data": {
      "text/plain": [
       "74.0"
      ]
     },
     "execution_count": 36,
     "metadata": {},
     "output_type": "execute_result"
    }
   ],
   "source": [
    "maximum(steps_vi)"
   ]
  },
  {
   "cell_type": "code",
   "execution_count": 37,
   "metadata": {},
   "outputs": [
    {
     "data": {
      "text/plain": [
       "75.0"
      ]
     },
     "execution_count": 37,
     "metadata": {},
     "output_type": "execute_result"
    }
   ],
   "source": [
    "maximum(steps_mask)"
   ]
  },
  {
   "cell_type": "markdown",
   "metadata": {},
   "source": [
    "## Solve with Q learning"
   ]
  },
  {
   "cell_type": "code",
   "execution_count": 51,
   "metadata": {},
   "outputs": [],
   "source": [
    "using TabularTDLearning"
   ]
  },
  {
   "cell_type": "code",
   "execution_count": null,
   "metadata": {},
   "outputs": [
    {
     "name": "stdout",
     "output_type": "stream",
     "text": [
      "On Iteration 10, Returns: 0.0\n",
      "On Iteration 20, Returns: 0.0\n",
      "On Iteration 30, Returns: 0.0\n",
      "On Iteration 40, Returns: 0.0\n",
      "On Iteration 50, Returns: 0.0\n",
      "On Iteration 60, Returns: 0.0\n",
      "On Iteration 70, Returns: 0.0\n",
      "On Iteration 80, Returns: 0.0\n",
      "On Iteration 90, Returns: 0.0\n",
      "On Iteration 100, Returns: 0.0\n",
      "On Iteration 110, Returns: 0.0\n",
      "On Iteration 120, Returns: 0.0\n",
      "On Iteration 130, Returns: 0.0\n",
      "On Iteration 140, Returns: 0.0\n",
      "On Iteration 150, Returns: 0.0\n",
      "On Iteration 160, Returns: 0.0\n",
      "On Iteration 170, Returns: 0.0\n",
      "On Iteration 180, Returns: 0.0\n",
      "On Iteration 190, Returns: 0.0\n",
      "On Iteration 200, Returns: 0.0\n",
      "On Iteration 210, Returns: 0.0\n",
      "On Iteration 220, Returns: 0.0\n",
      "On Iteration 230, Returns: 0.0\n",
      "On Iteration 240, Returns: 0.0\n",
      "On Iteration 250, Returns: 0.0\n",
      "On Iteration 260, Returns: 0.0\n",
      "On Iteration 270, Returns: 0.0\n",
      "On Iteration 280, Returns: 0.0\n",
      "On Iteration 290, Returns: 0.0\n"
     ]
    }
   ],
   "source": [
    "solver = QLearningSolver(mdp, \n",
    "                         n_episodes=10000, \n",
    "                         learning_rate = 0.1, \n",
    "                         exp_policy = EpsGreedyPolicy(mdp, 0.9, rng=MersenneTwister(1)),\n",
    "                         rng = MersenneTwister(1),\n",
    "                         n_eval_traj = 100,\n",
    "                         max_episode_length = 100,\n",
    "                         log_eval = true)\n",
    "\n",
    "ql_policy = solve(solver, mdp, verbose=false)\n",
    "ql_training_perf = solver.r_log"
   ]
  },
  {
   "cell_type": "code",
   "execution_count": 83,
   "metadata": {},
   "outputs": [
    {
     "data": {
      "text/plain": [
       "0.0"
      ]
     },
     "execution_count": 83,
     "metadata": {},
     "output_type": "execute_result"
    }
   ],
   "source": [
    "sim = RolloutSimulator(rng, 100)\n",
    "s0 = initialstate(mdp, rng)\n",
    "rtot = simulate(sim, mdp, ql_policy, s0)"
   ]
  },
  {
   "cell_type": "markdown",
   "metadata": {},
   "source": [
    "### Discrete MDP with car"
   ]
  },
  {
   "cell_type": "code",
   "execution_count": 7,
   "metadata": {},
   "outputs": [
    {
     "data": {
      "text/plain": [
       "state2scene"
      ]
     },
     "execution_count": 7,
     "metadata": {},
     "output_type": "execute_result"
    }
   ],
   "source": [
    "using Parameters, StaticArrays\n",
    "include(\"mdp_models/discretization.jl\")\n",
    "include(\"mdp_models/interpolation.jl\")\n",
    "include(\"mdp_models/car_mdp/pomdp_types.jl\")\n",
    "include(\"mdp_models/car_mdp/state_space.jl\")\n",
    "include(\"mdp_models/car_mdp/transition.jl\")\n",
    "include(\"mdp_models/car_mdp/render_helpers.jl\")"
   ]
  },
  {
   "cell_type": "code",
   "execution_count": 8,
   "metadata": {},
   "outputs": [],
   "source": [
    "mdp = CarMDP(env = env);\n",
    "labels = labeling(mdp);"
   ]
  },
  {
   "cell_type": "markdown",
   "metadata": {},
   "source": [
    "**Print some model information**"
   ]
  },
  {
   "cell_type": "code",
   "execution_count": 9,
   "metadata": {},
   "outputs": [
    {
     "name": "stdout",
     "output_type": "stream",
     "text": [
      "spatial resolution 3.0 m \n",
      "car velocity resolution 2.0 m \n",
      "number of states 71946 \n",
      "number of actions 4 \n"
     ]
    }
   ],
   "source": [
    "@printf(\"spatial resolution %2.1f m \\n\", mdp.pos_res)\n",
    "@printf(\"car velocity resolution %2.1f m \\n\", mdp.vel_res)\n",
    "@printf(\"number of states %d \\n\", n_states(mdp))\n",
    "@printf(\"number of actions %d \\n\", n_actions(mdp))"
   ]
  },
  {
   "cell_type": "code",
   "execution_count": null,
   "metadata": {},
   "outputs": [],
   "source": [
    "property = \"Pmax=? [ (!\\\"crash\\\") U \\\"goal\\\"]\" "
   ]
  },
  {
   "cell_type": "code",
   "execution_count": null,
   "metadata": {},
   "outputs": [],
   "source": [
    "result = model_checking(mdp, labels, property, transition_file_name=\"carmdp.tra\", labels_file_name=\"carmdp.lab\");"
   ]
  },
  {
   "cell_type": "code",
   "execution_count": 10,
   "metadata": {},
   "outputs": [
    {
     "name": "stdout",
     "output_type": "stream",
     "text": [
      "[Iteration 1   ] residual:          1 | iteration runtime: 217390.406 ms, (       217 s total)\n",
      "[Iteration 2   ] residual:      0.944 | iteration runtime: 174219.120 ms, (       392 s total)\n",
      "[Iteration 3   ] residual:      0.742 | iteration runtime: 176359.999 ms, (       568 s total)\n",
      "[Iteration 4   ] residual:      0.516 | iteration runtime: 155502.755 ms, (       723 s total)\n",
      "[Iteration 5   ] residual:       0.42 | iteration runtime: 173806.131 ms, (       897 s total)\n",
      "[Iteration 6   ] residual:      0.367 | iteration runtime: 166680.977 ms, (  1.06E+03 s total)\n",
      "[Iteration 7   ] residual:      0.309 | iteration runtime: 168317.011 ms, (  1.23E+03 s total)\n",
      "[Iteration 8   ] residual:      0.271 | iteration runtime: 176425.677 ms, (  1.41E+03 s total)\n",
      "[Iteration 9   ] residual:      0.202 | iteration runtime: 188212.833 ms, (  1.6E+03 s total)\n",
      "[Iteration 10  ] residual:      0.182 | iteration runtime: 200350.472 ms, (  1.8E+03 s total)\n",
      "[Iteration 11  ] residual:      0.158 | iteration runtime: 246058.662 ms, (  2.04E+03 s total)\n",
      "[Iteration 12  ] residual:      0.137 | iteration runtime: 184240.550 ms, (  2.23E+03 s total)\n",
      "[Iteration 13  ] residual:      0.116 | iteration runtime: 204352.125 ms, (  2.43E+03 s total)\n",
      "[Iteration 14  ] residual:     0.0998 | iteration runtime: 180514.734 ms, (  2.61E+03 s total)\n",
      "[Iteration 15  ] residual:     0.0823 | iteration runtime: 181744.524 ms, (  2.79E+03 s total)\n",
      "[Iteration 16  ] residual:     0.0697 | iteration runtime: 149717.950 ms, (  2.94E+03 s total)\n",
      "[Iteration 17  ] residual:     0.0492 | iteration runtime: 146734.777 ms, (  3.09E+03 s total)\n",
      "[Iteration 18  ] residual:     0.0376 | iteration runtime: 133051.208 ms, (  3.22E+03 s total)\n",
      "[Iteration 19  ] residual:     0.0337 | iteration runtime: 141709.848 ms, (  3.37E+03 s total)\n",
      "[Iteration 20  ] residual:      0.031 | iteration runtime: 142699.271 ms, (  3.51E+03 s total)\n",
      "[Iteration 21  ] residual:     0.0273 | iteration runtime: 134419.819 ms, (  3.64E+03 s total)\n",
      "[Iteration 22  ] residual:     0.0251 | iteration runtime: 137482.245 ms, (  3.78E+03 s total)\n",
      "[Iteration 23  ] residual:     0.0236 | iteration runtime: 132609.421 ms, (  3.91E+03 s total)\n",
      "[Iteration 24  ] residual:      0.022 | iteration runtime: 141106.052 ms, (  4.05E+03 s total)\n",
      "[Iteration 25  ] residual:     0.0194 | iteration runtime: 136387.085 ms, (  4.19E+03 s total)\n",
      "[Iteration 26  ] residual:     0.0159 | iteration runtime: 138216.384 ms, (  4.33E+03 s total)\n",
      "[Iteration 27  ] residual:     0.0134 | iteration runtime: 140399.637 ms, (  4.47E+03 s total)\n",
      "[Iteration 28  ] residual:     0.0118 | iteration runtime: 150141.990 ms, (  4.62E+03 s total)\n",
      "[Iteration 29  ] residual:    0.00985 | iteration runtime: 137453.222 ms, (  4.76E+03 s total)\n",
      "[Iteration 30  ] residual:    0.00783 | iteration runtime: 129666.849 ms, (  4.89E+03 s total)\n",
      "[Iteration 31  ] residual:    0.00612 | iteration runtime: 134391.784 ms, (  5.02E+03 s total)\n",
      "[Iteration 32  ] residual:    0.00522 | iteration runtime: 142972.206 ms, (  5.16E+03 s total)\n",
      "[Iteration 33  ] residual:    0.00484 | iteration runtime: 130504.534 ms, (  5.29E+03 s total)\n",
      "[Iteration 34  ] residual:    0.00446 | iteration runtime: 147604.216 ms, (  5.44E+03 s total)\n",
      "[Iteration 35  ] residual:    0.00409 | iteration runtime: 140927.064 ms, (  5.58E+03 s total)\n",
      "[Iteration 36  ] residual:    0.00373 | iteration runtime: 147432.856 ms, (  5.73E+03 s total)\n",
      "[Iteration 37  ] residual:    0.00339 | iteration runtime: 135803.847 ms, (  5.87E+03 s total)\n",
      "[Iteration 38  ] residual:    0.00306 | iteration runtime: 128025.894 ms, (  5.99E+03 s total)\n",
      "[Iteration 39  ] residual:    0.00275 | iteration runtime: 132196.838 ms, (  6.13E+03 s total)\n",
      "[Iteration 40  ] residual:    0.00247 | iteration runtime: 138393.169 ms, (  6.26E+03 s total)\n",
      "[Iteration 41  ] residual:    0.00223 | iteration runtime: 140903.194 ms, (  6.41E+03 s total)\n",
      "[Iteration 42  ] residual:    0.00204 | iteration runtime: 166828.020 ms, (  6.57E+03 s total)\n",
      "[Iteration 43  ] residual:    0.00185 | iteration runtime: 149391.718 ms, (  6.72E+03 s total)\n",
      "[Iteration 44  ] residual:    0.00168 | iteration runtime: 160656.708 ms, (  6.88E+03 s total)\n",
      "[Iteration 45  ] residual:    0.00152 | iteration runtime: 174274.691 ms, (  7.06E+03 s total)\n",
      "[Iteration 46  ] residual:    0.00137 | iteration runtime: 152336.876 ms, (  7.21E+03 s total)\n",
      "[Iteration 47  ] residual:    0.00124 | iteration runtime: 144180.850 ms, (  7.35E+03 s total)\n",
      "[Iteration 48  ] residual:    0.00111 | iteration runtime: 140169.148 ms, (  7.49E+03 s total)\n",
      "[Iteration 49  ] residual:   0.000997 | iteration runtime: 159682.100 ms, (  7.65E+03 s total)\n"
     ]
    },
    {
     "data": {
      "text/plain": [
       "DiscreteValueIteration.ValueIterationPolicy([0.37787 0.37787 0.37787 0.399853; 0.376629 0.376629 0.376629 0.398214; … ; 1.0 1.0 1.0 1.0; 0.0 0.0 0.0 0.0], [0.399853, 0.398214, 0.397008, 0.396683, 0.397506, 0.399271, 0.40106, 0.400479, 0.387324, 0.387682  …  0.0, 0.807699, 0.842593, 0.873786, 0.895255, 0.928514, 0.947031, 0.9875, 1.0, 0.0], [4, 4, 4, 4, 4, 4, 4, 4, 4, 4  …  1, 4, 4, 4, 4, 4, 4, 4, 1, 1], AutomotivePOMDPs.UrbanAction[AutomotivePOMDPs.UrbanAction(-4.0), AutomotivePOMDPs.UrbanAction(-2.0), AutomotivePOMDPs.UrbanAction(0.0), AutomotivePOMDPs.UrbanAction(2.0)], true, CarMDP\n",
       "  env: AutomotivePOMDPs.UrbanEnv\n",
       "  ego_type: AutomotiveDrivingModels.VehicleDef\n",
       "  car_type: AutomotiveDrivingModels.VehicleDef\n",
       "  car_model: AutomotivePOMDPs.RouteFollowingIDM\n",
       "  max_acc: Float64 2.0\n",
       "  pos_res: Float64 3.0\n",
       "  vel_res: Float64 2.0\n",
       "  ego_start: Float64 20.0\n",
       "  ego_goal: AutomotiveDrivingModels.LaneTag\n",
       "  off_grid: Vec.VecSE2{Float64}\n",
       "  ΔT: Float64 0.5\n",
       "  car_birth: Float64 0.3\n",
       "  collision_cost: Float64 -1.0\n",
       "  action_cost: Float64 0.0\n",
       "  goal_reward: Float64 1.0\n",
       "  γ: Float64 0.95\n",
       ")"
      ]
     },
     "execution_count": 10,
     "metadata": {},
     "output_type": "execute_result"
    }
   ],
   "source": [
    "solver = ValueIterationSolver(max_iterations=1000)\n",
    "mdp.collision_cost = -1\n",
    "vi_policy = solve(solver, mdp, verbose=true)"
   ]
  },
  {
   "cell_type": "code",
   "execution_count": 11,
   "metadata": {},
   "outputs": [],
   "source": [
    "# using JLD"
   ]
  },
  {
   "cell_type": "code",
   "execution_count": 12,
   "metadata": {},
   "outputs": [],
   "source": [
    "# JLD.save(\"carmdp_policy.jld\", \"policy\", vi_policy)"
   ]
  },
  {
   "cell_type": "code",
   "execution_count": 13,
   "metadata": {},
   "outputs": [
    {
     "ename": "LoadError",
     "evalue": "\u001b[91mtype CarMDP has no field vel_car_res\u001b[39m",
     "output_type": "error",
     "traceback": [
      "\u001b[91mtype CarMDP has no field vel_car_res\u001b[39m",
      "",
      "Stacktrace:",
      " [1] \u001b[1minitial_car_state_distribution\u001b[22m\u001b[22m at \u001b[1m/mnt/c/Users/Maxime/OneDrive - Leland Stanford Junior University/Research/safe-rl/mdp_models/car_mdp/state_space.jl:88\u001b[22m\u001b[22m [inlined]",
      " [2] \u001b[1minitialstate_distribution\u001b[22m\u001b[22m at \u001b[1m/mnt/c/Users/Maxime/OneDrive - Leland Stanford Junior University/Research/safe-rl/mdp_models/car_mdp/state_space.jl:69\u001b[22m\u001b[22m [inlined]",
      " [3] \u001b[1minitialstate\u001b[22m\u001b[22m\u001b[1m(\u001b[22m\u001b[22m::CarMDP, ::MersenneTwister\u001b[1m)\u001b[22m\u001b[22m at \u001b[1m/mnt/c/Users/Maxime/OneDrive - Leland Stanford Junior University/Research/safe-rl/mdp_models/car_mdp/state_space.jl:102\u001b[22m\u001b[22m"
     ]
    }
   ],
   "source": [
    "hr = HistoryRecorder(rng=rng, max_steps=100)\n",
    "s0 = initialstate(mdp, rng)\n",
    "@time hist = simulate(hr, mdp, vi_policy, s0);"
   ]
  },
  {
   "cell_type": "code",
   "execution_count": null,
   "metadata": {},
   "outputs": [],
   "source": [
    "function animate_states(mdp::PedMDP, states::Vector{PedMDPState}, actions::Vector{PedMDPAction};\n",
    "                        overlays=SceneOverlay[IDOverlay()],\n",
    "                        cam=StaticCamera(VecE2(0, -5.), 17.))\n",
    "    duration = length(states)*mdp.ΔT\n",
    "    fps = Int(1/pomdp.ΔT)    \n",
    "    function render_states(t, dt)\n",
    "        frame_index = Int(floor(t/dt)) + 1\n",
    "        scene = state2scene(mdp, states[frame_index])\n",
    "        return AutoViz.render(scene,\n",
    "                              pomdp.env,\n",
    "                              cat(1, overlays, TextOverlay(text = [\"Acc: $(actions[frame_index].acc)\"],\n",
    "                                                           font_size=20,\n",
    "                                                           pos=VecE2(0.,8.),\n",
    "                                                           incameraframe=true)),\n",
    "                              cam=cam,\n",
    "                              car_colors=get_colors(scene))\n",
    "    end\n",
    "    return duration, fps, render_states\n",
    "end"
   ]
  },
  {
   "cell_type": "code",
   "execution_count": null,
   "metadata": {},
   "outputs": [],
   "source": [
    "state_hist = hist.state_hist\n",
    "action_hist = hist.action_hist\n",
    "push!(action_hist, PedMDPAction(0.))\n",
    "duration, fps, render_hist = animate_states(mdp, state_hist, action_hist)\n",
    "film = roll(render_hist, fps = fps, duration = duration)"
   ]
  },
  {
   "cell_type": "code",
   "execution_count": 123,
   "metadata": {},
   "outputs": [
    {
     "name": "stdout",
     "output_type": "stream",
     "text": [
      "  0.759735 seconds (5.51 M allocations: 150.967 MiB, 13.38% gc time)\n",
      "  0.005958 seconds (420 allocations: 25.019 KiB)\n"
     ]
    }
   ],
   "source": [
    "@time state_space = states(mdp);\n",
    "@time action_space = actions(mdp);"
   ]
  },
  {
   "cell_type": "code",
   "execution_count": 124,
   "metadata": {},
   "outputs": [
    {
     "name": "stdout",
     "output_type": "stream",
     "text": [
      "  0.059528 seconds (10.97 k allocations: 507.617 KiB)\n"
     ]
    }
   ],
   "source": [
    "@time car_states, start_routes = car_starting_states(mdp);"
   ]
  },
  {
   "cell_type": "code",
   "execution_count": 125,
   "metadata": {},
   "outputs": [],
   "source": [
    "for route in start_routes\n",
    "    if isempty(route)\n",
    "        println(\"bug\")\n",
    "    end\n",
    "end"
   ]
  },
  {
   "cell_type": "code",
   "execution_count": 126,
   "metadata": {},
   "outputs": [
    {
     "data": {
      "text/plain": [
       "71946"
      ]
     },
     "execution_count": 126,
     "metadata": {},
     "output_type": "execute_result"
    }
   ],
   "source": [
    "n_states(mdp)"
   ]
  },
  {
   "cell_type": "code",
   "execution_count": 127,
   "metadata": {},
   "outputs": [
    {
     "data": {
      "text/plain": [
       "StaticArrays.SArray{Tuple{4},StaticArrays.SArray{S,AutomotiveDrivingModels.Lane,1,L} where L where S<:Tuple,1,4}"
      ]
     },
     "execution_count": 127,
     "metadata": {},
     "output_type": "execute_result"
    }
   ],
   "source": [
    "routes = get_car_routes(mdp.env)\n",
    "typeof(routes)"
   ]
  },
  {
   "cell_type": "code",
   "execution_count": 128,
   "metadata": {},
   "outputs": [
    {
     "name": "stderr",
     "output_type": "stream",
     "text": [
      "\u001b[32mProgress: 100%|█████████████████████████████████████████| Time: 0:01:29\u001b[39m\n"
     ]
    }
   ],
   "source": [
    "@showprogress for s in ordered_states(mdp)\n",
    "    for a in ordered_actions(mdp)\n",
    "#         println(\"state index \", stateindex(mdp, s), \" action index \", actionindex(mdp, a))\n",
    "        d = transition(mdp, s, a)\n",
    "    end\n",
    "end"
   ]
  },
  {
   "cell_type": "code",
   "execution_count": 239,
   "metadata": {},
   "outputs": [],
   "source": [
    "routes = get_car_routes(env)\n",
    "car_states = get_car_states(mdp.env, routes[1], mdp.pos_res, mdp.vel_res);"
   ]
  },
  {
   "cell_type": "code",
   "execution_count": 234,
   "metadata": {},
   "outputs": [
    {
     "data": {
      "text/plain": [
       "test_car_indexing (generic function with 1 method)"
      ]
     },
     "execution_count": 234,
     "metadata": {},
     "output_type": "execute_result"
    }
   ],
   "source": [
    "function test_car_indexing(env::UrbanEnv, pos_res::Float64, vel_res::Float64)\n",
    "    for route in routes\n",
    "        car_states = get_car_states(env, route, pos_res, vel_res)\n",
    "        for (i, car) in enumerate(car_states) \n",
    "            car_i = car_stateindex(env, car, route, pos_res, vel_res)\n",
    "            if car_i != i\n",
    "                return false \n",
    "            end\n",
    "        end\n",
    "        @assert n_car_states(env, route, pos_res, vel_res) == length(car_states)\n",
    "    end\n",
    "    return true\n",
    "end\n",
    "    \n",
    "# car = car_states[1]\n",
    "# route = routes[1]\n",
    "# car_i = car_stateindex(mdp.env, car, route, mdp.pos_res, mdp.vel_res)"
   ]
  },
  {
   "cell_type": "code",
   "execution_count": 235,
   "metadata": {},
   "outputs": [
    {
     "data": {
      "text/plain": [
       "true"
      ]
     },
     "execution_count": 235,
     "metadata": {},
     "output_type": "execute_result"
    }
   ],
   "source": [
    "test_car_indexing(mdp.env, mdp.pos_res, mdp.vel_res)"
   ]
  },
  {
   "cell_type": "code",
   "execution_count": 176,
   "metadata": {},
   "outputs": [
    {
     "name": "stdout",
     "output_type": "stream",
     "text": [
      "  0.000027 seconds (19 allocations: 1.453 KiB)\n"
     ]
    },
    {
     "data": {
      "text/plain": [
       "46998"
      ]
     },
     "execution_count": 176,
     "metadata": {},
     "output_type": "execute_result"
    }
   ],
   "source": [
    "@time n_states(mdp)"
   ]
  },
  {
   "cell_type": "code",
   "execution_count": 183,
   "metadata": {},
   "outputs": [
    {
     "data": {
      "text/plain": [
       "false"
      ]
     },
     "execution_count": 183,
     "metadata": {},
     "output_type": "execute_result"
    }
   ],
   "source": [
    "routes = get_car_routes(env)"
   ]
  },
  {
   "cell_type": "code",
   "execution_count": 171,
   "metadata": {},
   "outputs": [
    {
     "name": "stdout",
     "output_type": "stream",
     "text": [
      "[1, 2]\n",
      "[1]\n",
      "[3, 4]\n",
      "[3]\n",
      "[2, 4]\n",
      "[1]\n",
      "[3]\n",
      "[1, 2]\n",
      "[2, 3]\n",
      "[3, 4]\n",
      "[4]\n"
     ]
    }
   ],
   "source": [
    "for lane in get_car_lanes(env)\n",
    "    routes =  get_possible_routes(env.roadway[lane], env)\n",
    "    println(routes)\n",
    "end"
   ]
  },
  {
   "cell_type": "code",
   "execution_count": 172,
   "metadata": {},
   "outputs": [
    {
     "data": {
      "text/plain": [
       "11-element Array{AutomotiveDrivingModels.LaneTag,1}:\n",
       " LaneTag(1, 1) \n",
       " LaneTag(2, 1) \n",
       " LaneTag(3, 1) \n",
       " LaneTag(4, 1) \n",
       " LaneTag(5, 1) \n",
       " LaneTag(7, 1) \n",
       " LaneTag(8, 1) \n",
       " LaneTag(9, 1) \n",
       " LaneTag(10, 1)\n",
       " LaneTag(11, 1)\n",
       " LaneTag(12, 1)"
      ]
     },
     "execution_count": 172,
     "metadata": {},
     "output_type": "execute_result"
    }
   ],
   "source": [
    "get_car_lanes(env)"
   ]
  },
  {
   "cell_type": "code",
   "execution_count": 145,
   "metadata": {},
   "outputs": [
    {
     "data": {
      "text/plain": [
       "402-element Array{AutomotiveDrivingModels.VehicleState,1}:\n",
       " VehicleState(VecSE2({30.000, 1.500}, 3.142), Frenet(RoadIndex({1, 0.000000}, {1, 1}), 0.000, 0.000, 0.000), 0.000)  \n",
       " VehicleState(VecSE2({27.000, 1.500}, 3.142), Frenet(RoadIndex({1, 0.125000}, {1, 1}), 3.000, 0.000, 0.000), 0.000)  \n",
       " VehicleState(VecSE2({24.000, 1.500}, 3.142), Frenet(RoadIndex({1, 0.250000}, {1, 1}), 6.000, 0.000, 0.000), 0.000)  \n",
       " VehicleState(VecSE2({21.000, 1.500}, 3.142), Frenet(RoadIndex({1, 0.375000}, {1, 1}), 9.000, 0.000, 0.000), 0.000)  \n",
       " VehicleState(VecSE2({18.000, 1.500}, 3.142), Frenet(RoadIndex({1, 0.500000}, {1, 1}), 12.000, 0.000, 0.000), 0.000) \n",
       " VehicleState(VecSE2({15.000, 1.500}, 3.142), Frenet(RoadIndex({1, 0.625000}, {1, 1}), 15.000, 0.000, 0.000), 0.000) \n",
       " VehicleState(VecSE2({12.000, 1.500}, 3.142), Frenet(RoadIndex({1, 0.750000}, {1, 1}), 18.000, 0.000, 0.000), 0.000) \n",
       " VehicleState(VecSE2({9.000, 1.500}, 3.142), Frenet(RoadIndex({1, 0.875000}, {1, 1}), 21.000, 0.000, 0.000), 0.000)  \n",
       " VehicleState(VecSE2({6.000, 1.500}, 3.142), Frenet(RoadIndex({1, 1.000000}, {1, 1}), 24.000, 0.000, 0.000), 0.000)  \n",
       " VehicleState(VecSE2({30.000, 1.500}, 3.142), Frenet(RoadIndex({1, 0.000000}, {1, 1}), 0.000, 0.000, 0.000), 2.000)  \n",
       " VehicleState(VecSE2({27.000, 1.500}, 3.142), Frenet(RoadIndex({1, 0.125000}, {1, 1}), 3.000, 0.000, 0.000), 2.000)  \n",
       " VehicleState(VecSE2({24.000, 1.500}, 3.142), Frenet(RoadIndex({1, 0.250000}, {1, 1}), 6.000, 0.000, 0.000), 2.000)  \n",
       " VehicleState(VecSE2({21.000, 1.500}, 3.142), Frenet(RoadIndex({1, 0.375000}, {1, 1}), 9.000, 0.000, 0.000), 2.000)  \n",
       " ⋮                                                                                                                   \n",
       " VehicleState(VecSE2({-4.000, 1.500}, 3.142), Frenet(RoadIndex({1, 0.000000}, {14, 1}), 0.000, 0.000, 0.000), 0.000) \n",
       " VehicleState(VecSE2({-4.000, 1.500}, 3.142), Frenet(RoadIndex({1, 0.000000}, {14, 1}), 0.000, 0.000, 0.000), 2.000) \n",
       " VehicleState(VecSE2({-4.000, 1.500}, 3.142), Frenet(RoadIndex({1, 0.000000}, {14, 1}), 0.000, 0.000, 0.000), 4.000) \n",
       " VehicleState(VecSE2({-4.000, 1.500}, 3.142), Frenet(RoadIndex({1, 0.000000}, {14, 1}), 0.000, 0.000, 0.000), 6.000) \n",
       " VehicleState(VecSE2({-4.000, 1.500}, 3.142), Frenet(RoadIndex({1, 0.000000}, {14, 1}), 0.000, 0.000, 0.000), 8.000) \n",
       " VehicleState(VecSE2({-4.000, 1.500}, 3.142), Frenet(RoadIndex({1, 0.000000}, {14, 1}), 0.000, 0.000, 0.000), 10.000)\n",
       " VehicleState(VecSE2({4.000, -1.500}, 0.000), Frenet(RoadIndex({1, 0.000000}, {16, 1}), 0.000, 0.000, 0.000), 0.000) \n",
       " VehicleState(VecSE2({4.000, -1.500}, 0.000), Frenet(RoadIndex({1, 0.000000}, {16, 1}), 0.000, 0.000, 0.000), 2.000) \n",
       " VehicleState(VecSE2({4.000, -1.500}, 0.000), Frenet(RoadIndex({1, 0.000000}, {16, 1}), 0.000, 0.000, 0.000), 4.000) \n",
       " VehicleState(VecSE2({4.000, -1.500}, 0.000), Frenet(RoadIndex({1, 0.000000}, {16, 1}), 0.000, 0.000, 0.000), 6.000) \n",
       " VehicleState(VecSE2({4.000, -1.500}, 0.000), Frenet(RoadIndex({1, 0.000000}, {16, 1}), 0.000, 0.000, 0.000), 8.000) \n",
       " VehicleState(VecSE2({4.000, -1.500}, 0.000), Frenet(RoadIndex({1, 0.000000}, {16, 1}), 0.000, 0.000, 0.000), 10.000)"
      ]
     },
     "execution_count": 145,
     "metadata": {},
     "output_type": "execute_result"
    }
   ],
   "source": [
    "car_states = get_car_states(env, mdp.pos_res, mdp.vel_res)\n",
    "for car in car_states \n",
    "    routes = get_possible_routes(get)"
   ]
  },
  {
   "cell_type": "code",
   "execution_count": 89,
   "metadata": {},
   "outputs": [
    {
     "data": {
      "image/png": "[encoded data removed]",
      "text/plain": [
       "Cairo.CairoSurface{UInt32}(Ptr{Void} @0x0000000007812bc0, 1000.0, 600.0, #undef)"
      ]
     },
     "execution_count": 89,
     "metadata": {},
     "output_type": "execute_result"
    }
   ],
   "source": [
    "scene = Scene()\n",
    "\n",
    "type LaneOverlay <: SceneOverlay\n",
    "    lane::Lane\n",
    "    color::Colorant\n",
    "end\n",
    "function AutoViz.render!(rendermodel::RenderModel, overlay::LaneOverlay, scene::Scene, roadway::Roadway)\n",
    "    render!(rendermodel, overlay.lane, roadway, color_asphalt=overlay.color)\n",
    "    return rendermodel\n",
    "end\n",
    "\n",
    "i=14\n",
    "render(scene, env.roadway, [LaneOverlay(env.roadway[LaneTag(i,1)], RGBA(0.0,0.0,1.0,0.5))], cam=FitToContentCamera(0.))"
   ]
  },
  {
   "cell_type": "code",
   "execution_count": 17,
   "metadata": {},
   "outputs": [
    {
     "data": {
      "text/plain": [
       "test_stateindexing (generic function with 1 method)"
      ]
     },
     "execution_count": 17,
     "metadata": {},
     "output_type": "execute_result"
    }
   ],
   "source": [
    "function test_stateindexing(mdp::CarMDP)\n",
    "    state_space = states(mdp)\n",
    "    for (i, s) in enumerate(state_space)\n",
    "        if i != stateindex(mdp, s)\n",
    "            return false\n",
    "        end\n",
    "    end\n",
    "    return true\n",
    "end"
   ]
  },
  {
   "cell_type": "code",
   "execution_count": 19,
   "metadata": {},
   "outputs": [
    {
     "data": {
      "text/plain": [
       "evaluation_loop (generic function with 1 method)"
      ]
     },
     "execution_count": 19,
     "metadata": {},
     "output_type": "execute_result"
    }
   ],
   "source": [
    "function evaluation_loop(mdp::MDP, policy::Policy; n_ep::Int64 = 100, max_steps::Int64 = 200, rng::AbstractRNG = Base.GLOBAL_RNG)\n",
    "    hr = HistoryRecorder(max_steps=max_steps, rng=rng)\n",
    "    rewards = zeros(n_ep)\n",
    "    steps = zeros(n_ep)\n",
    "    for ep=1:n_ep\n",
    "        s0 = initialstate(mdp, rng)\n",
    "        hist = simulate(hr, mdp, policy, s0)\n",
    "        rewards[ep] = discounted_reward(hist)\n",
    "        steps[ep] = n_steps(hist)\n",
    "    end\n",
    "    return rewards, steps\n",
    "end"
   ]
  },
  {
   "cell_type": "code",
   "execution_count": 24,
   "metadata": {},
   "outputs": [
    {
     "data": {
      "text/plain": [
       "([0.5688, 0.54036, 0.440127, -0.814506, 0.41812, 0.487675, 0.214639, 0.513342, 0.250344, 0.487675  …  0.54036, 0.27739, 0.54036, 0.598737, 0.0730977, 0.5688, 0.54036, 0.0305636, 0.513342, 0.440127], [12.0, 13.0, 17.0, 5.0, 18.0, 15.0, 31.0, 14.0, 28.0, 15.0  …  13.0, 26.0, 13.0, 11.0, 52.0, 12.0, 13.0, 69.0, 14.0, 17.0])"
      ]
     },
     "execution_count": 24,
     "metadata": {},
     "output_type": "execute_result"
    }
   ],
   "source": [
    "n_ep = 1000\n",
    "rewards, steps = evaluation_loop(mdp, vi_policy, n_ep=n_ep)"
   ]
  },
  {
   "cell_type": "code",
   "execution_count": 28,
   "metadata": {},
   "outputs": [
    {
     "data": {
      "text/plain": [
       "0.8999999999999999"
      ]
     },
     "execution_count": 28,
     "metadata": {},
     "output_type": "execute_result"
    }
   ],
   "source": [
    "avg_reward = mean(rewards)\n",
    "avg_steps = mean(steps)\n",
    "avg_crash = sum(rewards .< 0.)/n_ep*100"
   ]
  },
  {
   "cell_type": "markdown",
   "metadata": {},
   "source": [
    "## Solve using Value Iteration"
   ]
  },
  {
   "cell_type": "code",
   "execution_count": 20,
   "metadata": {},
   "outputs": [
    {
     "ename": "LoadError",
     "evalue": "\u001b[91mUndefRefError: access to undefined reference\u001b[39m",
     "output_type": "error",
     "traceback": [
      "\u001b[91mUndefRefError: access to undefined reference\u001b[39m",
      "",
      "Stacktrace:",
      " [1] \u001b[1mnext\u001b[22m\u001b[22m\u001b[1m(\u001b[22m\u001b[22m::POMDPToolbox.SparseCat{Array{PedMDPState,1},Array{Float64,1}}, ::Int64\u001b[1m)\u001b[22m\u001b[22m at \u001b[1m/mnt/c/Users/Maxime/wsl/.julia/v0.6/POMDPToolbox/src/distributions/sparse_cat.jl:73\u001b[22m\u001b[22m",
      " [2] \u001b[1m#solve#4\u001b[22m\u001b[22m\u001b[1m(\u001b[22m\u001b[22m::Bool, ::Function, ::DiscreteValueIteration.ValueIterationSolver, ::PedMDP, ::DiscreteValueIteration.ValueIterationPolicy\u001b[1m)\u001b[22m\u001b[22m at \u001b[1m/mnt/c/Users/Maxime/wsl/.julia/v0.6/DiscreteValueIteration/src/vanilla.jl:160\u001b[22m\u001b[22m",
      " [3] \u001b[1m(::POMDPs.#kw##solve)\u001b[22m\u001b[22m\u001b[1m(\u001b[22m\u001b[22m::Array{Any,1}, ::POMDPs.#solve, ::DiscreteValueIteration.ValueIterationSolver, ::PedMDP, ::DiscreteValueIteration.ValueIterationPolicy\u001b[1m)\u001b[22m\u001b[22m at \u001b[1m./<missing>:0\u001b[22m\u001b[22m (repeats 2 times)"
     ]
    }
   ],
   "source": [
    "solver = ValueIterationSolver(max_iterations=1000)\n",
    "vi_policy = solve(solver, mdp, verbose=true)"
   ]
  },
  {
   "cell_type": "code",
   "execution_count": null,
   "metadata": {},
   "outputs": [],
   "source": []
  },
  {
   "cell_type": "code",
   "execution_count": null,
   "metadata": {},
   "outputs": [],
   "source": []
  },
  {
   "cell_type": "code",
   "execution_count": 78,
   "metadata": {},
   "outputs": [
    {
     "data": {
      "text/plain": [
       "random_car_interpolation (generic function with 1 method)"
      ]
     },
     "execution_count": 78,
     "metadata": {},
     "output_type": "execute_result"
    }
   ],
   "source": [
    "function random_ego_interpolation(rng::AbstractRNG)\n",
    "    lanes = get_ego_route(mdp.env)\n",
    "    lane = lanes[rand(rng, 1:length(lanes))]\n",
    "    s = rand(rng, 0:0.1:get_end(mdp.env.roadway[lane]))\n",
    "    v = rand(rng, 0:0.1:mdp.env.params.speed_limit)\n",
    "    ego_state = VehicleState(Frenet(mdp.env.roadway[lane], s), mdp.env.roadway, v)\n",
    "    states, probs = interpolate_state(ego_state, get_car_vspace(mdp.env, mdp.vel_res))\n",
    "    scene = Scene()\n",
    "    for (i, itp_state) in enumerate(states)\n",
    "        push!(scene, Vehicle(itp_state, mdp.ego_type, i+1))\n",
    "    end\n",
    "    push!(scene, Vehicle(ego_state, mdp.ego_type, 1))\n",
    "    render(scene, env, cam=FitToContentCamera(0.), car_colors=get_colors(scene))\n",
    "end\n",
    "\n",
    "function random_ped_interpolation(rng::AbstractRNG)\n",
    "    lanes = get_ped_lanes(mdp.env)\n",
    "    lane = lanes[rand(rng, 1:length(lanes))]\n",
    "    s = rand(rng, 0:0.1:get_end(mdp.env.roadway[lane]))\n",
    "    v = rand(rng, 0:0.1:2.0)\n",
    "    ped_state = VehicleState(Frenet(mdp.env.roadway[lane], s), mdp.env.roadway, v)\n",
    "    states, probs = interpolate_state(ped_state, get_car_vspace(mdp.env, mdp.vel_res))\n",
    "    scene = Scene()\n",
    "    for (i, itp_state) in enumerate(states)\n",
    "        push!(scene, Vehicle(itp_state, mdp.ped_type, i+1))\n",
    "    end\n",
    "    push!(scene, Vehicle(ped_state, mdp.ped_type, 1))\n",
    "    render(scene, env, cam=FitToContentCamera(0.), car_colors=get_colors(scene))\n",
    "end\n",
    "\n",
    "\n",
    "function random_car_interpolation(rng::AbstractRNG)\n",
    "    lanes = get_car_lanes(mdp.env)\n",
    "    lane = lanes[rand(rng, 1:length(lanes))]\n",
    "    s = rand(rng, 0:0.1:get_end(mdp.env.roadway[lane]))\n",
    "    v = rand(rng, 0:0.1:2.0)\n",
    "    car_state = VehicleState(Frenet(mdp.env.roadway[lane], s), mdp.env.roadway, v)\n",
    "    states, probs = interpolate_state(car_state, get_car_vspace(mdp.env, mdp.vel_res))\n",
    "    scene = Scene()\n",
    "    for (i, itp_state) in enumerate(states)\n",
    "        push!(scene, Vehicle(itp_state, VehicleDef(), i+1))\n",
    "    end\n",
    "    push!(scene, Vehicle(car_state, VehicleDef(), 1))\n",
    "    render(scene, env, cam=FitToContentCamera(0.), car_colors=get_colors(scene))\n",
    "end"
   ]
  },
  {
   "cell_type": "code",
   "execution_count": 83,
   "metadata": {},
   "outputs": [
    {
     "data": {
      "image/png": "[encoded data removed]",
      "text/plain": [
       "Cairo.CairoSurface{UInt32}(Ptr{Void} @0x0000000005d8aa10, 1000.0, 600.0, #undef)"
      ]
     },
     "execution_count": 83,
     "metadata": {},
     "output_type": "execute_result"
    }
   ],
   "source": [
    "random_car_interpolation(rng)"
   ]
  },
  {
   "cell_type": "code",
   "execution_count": 27,
   "metadata": {},
   "outputs": [
    {
     "data": {
      "text/plain": [
       "test_ped_interpolation (generic function with 1 method)"
      ]
     },
     "execution_count": 27,
     "metadata": {},
     "output_type": "execute_result"
    }
   ],
   "source": [
    "function test_ego_interpolation(mdp::PedMDP)\n",
    "    ego_state_space = get_ego_states(mdp.env, mdp.pos_res, mdp.vel_res)\n",
    "    v_space = get_car_vspace(mdp.env, mdp.vel_res)\n",
    "    for s in ego_state_space\n",
    "        states, weights = interpolate_state(s, v_space)\n",
    "        if !(length(states) == 1 &&\n",
    "             weights[1] == 1.0 &&\n",
    "             states[1] ∈ ego_state_space)\n",
    "            return false \n",
    "        end\n",
    "    end\n",
    "    return true\n",
    "end\n",
    "\n",
    "function test_car_interpolation(mdp::PedMDP)\n",
    "    car_state_space = get_car_states(mdp.env, mdp.pos_res, mdp.vel_res)\n",
    "    v_space = get_car_vspace(mdp.env, mdp.vel_res)\n",
    "    for s in car_state_space\n",
    "        states, weights = interpolate_state(s, v_space)\n",
    "        if !(length(states) == 1 &&\n",
    "             weights[1] == 1.0 &&\n",
    "             states[1] ∈ car_state_space)\n",
    "            return false \n",
    "        end\n",
    "    end\n",
    "    return true\n",
    "end\n",
    "\n",
    "\n",
    "function test_ped_interpolation(mdp::PedMDP)\n",
    "    ped_state_space = get_ped_states(mdp.env, mdp.pos_res, mdp.vel_ped_res)\n",
    "    v_space = get_ped_vspace(mdp.env, mdp.vel_ped_res)\n",
    "    for s in ped_state_space\n",
    "        states, weights = interpolate_state(s, v_space)\n",
    "        if !(length(states) == 1 &&\n",
    "             weights[1] == 1.0 &&\n",
    "             states[1] ∈ ped_state_space)\n",
    "            return false \n",
    "        end\n",
    "    end\n",
    "    return true\n",
    "end\n",
    "\n"
   ]
  },
  {
   "cell_type": "code",
   "execution_count": 28,
   "metadata": {},
   "outputs": [
    {
     "data": {
      "text/plain": [
       "true"
      ]
     },
     "execution_count": 28,
     "metadata": {},
     "output_type": "execute_result"
    }
   ],
   "source": [
    "test_ego_interpolation(mdp)"
   ]
  },
  {
   "cell_type": "code",
   "execution_count": 29,
   "metadata": {},
   "outputs": [
    {
     "data": {
      "text/plain": [
       "true"
      ]
     },
     "execution_count": 29,
     "metadata": {},
     "output_type": "execute_result"
    }
   ],
   "source": [
    "test_ped_interpolation(mdp)"
   ]
  },
  {
   "cell_type": "code",
   "execution_count": 30,
   "metadata": {},
   "outputs": [
    {
     "data": {
      "text/plain": [
       "true"
      ]
     },
     "execution_count": 30,
     "metadata": {},
     "output_type": "execute_result"
    }
   ],
   "source": [
    "test_car_interpolation(mdp)"
   ]
  },
  {
   "cell_type": "code",
   "execution_count": null,
   "metadata": {},
   "outputs": [],
   "source": [
    "function test_stateindexing(mdp::PedMDP)\n",
    "    state_space = states(mdp)\n",
    "    for (i, s) in enumerate(state_space)\n",
    "        if i != stateindex(mdp, s)\n",
    "            println(i)\n",
    "            println(s)\n",
    "            return false\n",
    "        end\n",
    "    end\n",
    "    return true\n",
    "end"
   ]
  },
  {
   "cell_type": "code",
   "execution_count": 9,
   "metadata": {},
   "outputs": [
    {
     "data": {
      "text/plain": [
       "true"
      ]
     },
     "execution_count": 9,
     "metadata": {},
     "output_type": "execute_result"
    }
   ],
   "source": [
    "test_stateindexing(mdp)"
   ]
  },
  {
   "cell_type": "code",
   "execution_count": 12,
   "metadata": {},
   "outputs": [
    {
     "data": {
      "text/plain": [
       "36600"
      ]
     },
     "execution_count": 12,
     "metadata": {},
     "output_type": "execute_result"
    }
   ],
   "source": [
    "state_space"
   ]
  },
  {
   "cell_type": "code",
   "execution_count": 13,
   "metadata": {},
   "outputs": [
    {
     "data": {
      "text/plain": [
       "99"
      ]
     },
     "execution_count": 13,
     "metadata": {},
     "output_type": "execute_result"
    }
   ],
   "source": [
    "n_ped_states(mdp.env, mdp.pos_res, mdp.vel_ped_res)"
   ]
  },
  {
   "cell_type": "code",
   "execution_count": 14,
   "metadata": {},
   "outputs": [
    {
     "data": {
      "text/plain": [
       "366"
      ]
     },
     "execution_count": 14,
     "metadata": {},
     "output_type": "execute_result"
    }
   ],
   "source": [
    "n_ego_states(mdp.env, mdp.pos_res, mdp.vel_res)"
   ]
  },
  {
   "cell_type": "code",
   "execution_count": 11,
   "metadata": {},
   "outputs": [
    {
     "data": {
      "text/plain": [
       "26"
      ]
     },
     "execution_count": 11,
     "metadata": {},
     "output_type": "execute_result"
    }
   ],
   "source": [
    "s = states(mdp)[36601]\n",
    "ego_i = ego_stateindex(mdp.env, s.ego, mdp.pos_res, mdp.vel_res)\n",
    "ped_i = ped_stateindex(mdp.env, s.ped, mdp.pos_res, mdp.vel_ped_res)"
   ]
  },
  {
   "cell_type": "code",
   "execution_count": 17,
   "metadata": {},
   "outputs": [
    {
     "data": {
      "text/plain": [
       "VehicleState(VecSE2({1.500, -30.000}, 1.571), Frenet(RoadIndex({1, 0.000000}, {6, 1}), 0.000, 0.000, 0.000), 0.000)"
      ]
     },
     "execution_count": 17,
     "metadata": {},
     "output_type": "execute_result"
    }
   ],
   "source": [
    "s.ego"
   ]
  },
  {
   "cell_type": "code",
   "execution_count": 13,
   "metadata": {},
   "outputs": [
    {
     "data": {
      "text/plain": [
       "test_ped_space (generic function with 1 method)"
      ]
     },
     "execution_count": 13,
     "metadata": {},
     "output_type": "execute_result"
    }
   ],
   "source": [
    "function test_ego_space(mdp::PedMDP)\n",
    "    ego_space = get_ego_states(mdp.env, mdp.pos_res, mdp.vel_res);\n",
    "    for (i, s) in enumerate(ego_space)\n",
    "        if i != ego_stateindex(env, s, mdp.pos_res, mdp.vel_res)\n",
    "            return false\n",
    "        end\n",
    "    end\n",
    "    return true\n",
    "end\n",
    "\n",
    "function test_car_space(mdp::PedMDP)\n",
    "    car_space = get_car_states(mdp.env, mdp.pos_res, mdp.vel_res);\n",
    "    for (i, s) in enumerate(car_space)\n",
    "        if i != car_stateindex(env, s, mdp.pos_res, mdp.vel_res)\n",
    "            return false\n",
    "        end\n",
    "    end\n",
    "    return true\n",
    "end\n",
    "\n",
    "function test_ped_space(mdp::PedMDP)\n",
    "    ped_space = get_ped_states(mdp.env, mdp.pos_res, mdp.vel_res);\n",
    "    for (i, s) in enumerate(ped_space)\n",
    "        if i != ped_stateindex(env, s, mdp.pos_res, mdp.vel_res)\n",
    "            return false\n",
    "        end\n",
    "    end\n",
    "    return true\n",
    "end\n"
   ]
  },
  {
   "cell_type": "code",
   "execution_count": 14,
   "metadata": {},
   "outputs": [
    {
     "data": {
      "text/plain": [
       "true"
      ]
     },
     "execution_count": 14,
     "metadata": {},
     "output_type": "execute_result"
    }
   ],
   "source": [
    "test_ego_space(mdp)"
   ]
  },
  {
   "cell_type": "code",
   "execution_count": 15,
   "metadata": {},
   "outputs": [
    {
     "data": {
      "text/plain": [
       "true"
      ]
     },
     "execution_count": 15,
     "metadata": {},
     "output_type": "execute_result"
    }
   ],
   "source": [
    "test_car_space(mdp)"
   ]
  },
  {
   "cell_type": "code",
   "execution_count": 16,
   "metadata": {},
   "outputs": [
    {
     "data": {
      "text/plain": [
       "true"
      ]
     },
     "execution_count": 16,
     "metadata": {},
     "output_type": "execute_result"
    }
   ],
   "source": [
    "test_ped_space(mdp)"
   ]
  },
  {
   "cell_type": "code",
   "execution_count": 17,
   "metadata": {
    "collapsed": true
   },
   "outputs": [],
   "source": [
    "using Traceur"
   ]
  },
  {
   "cell_type": "code",
   "execution_count": 18,
   "metadata": {},
   "outputs": [
    {
     "name": "stdout",
     "output_type": "stream",
     "text": [
      "\u001b[33m(Vec.lerp)(::AutomotiveDrivingModels.CurvePt, ::AutomotiveDrivingModels.CurvePt, ::Float64) at /mnt/c/Users/Maxime/wsl/.julia/v0.6/AutomotiveDrivingModels/src/2d/roadway/curves.jl:12\n",
      "\u001b[39m  dynamic dispatch to (AutomotiveDrivingModels.lerp)((Core.getfield)(a, :pos), (Core.getfield)(b, :pos), t) at line 12\n",
      "  dynamic dispatch to (AutomotiveDrivingModels.CurvePt)((AutomotiveDrivingModels.lerp)((Core.getfield)(a, :pos), (Core.getfield)(b, :pos), t), (Base.add_float)((Core.getfield)(a, :s), (Base.mul_float)((Base.sub_float)((Core.getfield)(b, :s), (Core.getfield)(a, :s)), t)), (Base.add_float)((Core.getfield)(a, :k), (Base.mul_float)((Base.sub_float)((Core.getfield)(b, :k), (Core.getfield)(a, :k)), t)), (Base.add_float)((Core.getfield)(a, :kd), (Base.mul_float)((Base.sub_float)((Core.getfield)(b, :kd), (Core.getfield)(a, :kd)), t))) at line 12\n",
      "\u001b[33m(getindex)(::Array{AutomotiveDrivingModels.CurvePt,1}, ::AutomotiveDrivingModels.CurveIndex) at /mnt/c/Users/Maxime/wsl/.julia/v0.6/AutomotiveDrivingModels/src/2d/roadway/curves.jl:58\n",
      "\u001b[39m  dynamic dispatch to (AutomotiveDrivingModels.lerp)((Core.getfield)((Base.arrayref)(curve, (Core.getfield)(ind, :i)), :pos), (Core.getfield)((Base.arrayref)(curve, (Base.add_int)((Core.getfield)(ind, :i), 1)), :pos), (Core.getfield)(ind, :t)) at line 58\n",
      "  dynamic dispatch to (AutomotiveDrivingModels.CurvePt)((AutomotiveDrivingModels.lerp)((Core.getfield)((Base.arrayref)(curve, (Core.getfield)(ind, :i)), :pos), (Core.getfield)((Base.arrayref)(curve, (Base.add_int)((Core.getfield)(ind, :i), 1)), :pos), (Core.getfield)(ind, :t)), (Base.add_float)((Core.getfield)((Base.arrayref)(curve, (Core.getfield)(ind, :i)), :s), (Base.mul_float)((Base.sub_float)((Core.getfield)((Base.arrayref)(curve, (Base.add_int)((Core.getfield)(ind, :i), 1)), :s), (Core.getfield)((Base.arrayref)(curve, (Core.getfield)(ind, :i)), :s)), (Core.getfield)(ind, :t))), (Base.add_float)((Core.getfield)((Base.arrayref)(curve, (Core.getfield)(ind, :i)), :k), (Base.mul_float)((Base.sub_float)((Core.getfield)((Base.arrayref)(curve, (Base.add_int)((Core.getfield)(ind, :i), 1)), :k), (Core.getfield)((Base.arrayref)(curve, (Core.getfield)(ind, :i)), :k)), (Core.getfield)(ind, :t))), (Base.add_float)((Core.getfield)((Base.arrayref)(curve, (Core.getfield)(ind, :i)), :kd), (Base.mul_float)((Base.sub_float)((Core.getfield)((Base.arrayref)(curve, (Base.add_int)((Core.getfield)(ind, :i), 1)), :kd), (Core.getfield)((Base.arrayref)(curve, (Core.getfield)(ind, :i)), :kd)), (Core.getfield)(ind, :t)))) at line 58\n",
      "\u001b[33m(getindex)(::AutomotiveDrivingModels.Lane, ::AutomotiveDrivingModels.CurveIndex, ::AutomotiveDrivingModels.Roadway) at /mnt/c/Users/Maxime/wsl/.julia/v0.6/AutomotiveDrivingModels/src/2d/roadway/roadways.jl:249\n",
      "\u001b[39m  s_gap is assigned as Any at line 252\n",
      "  s_gap is assigned as Any at line 260\n",
      "  dynamic dispatch to (StaticArrays._map)($(QuoteNode(-)), $(QuoteNode(Size(3,))), (Core.getfield)(pt_hi, :pos), (Core.getfield)(pt_lo, :pos)) at line 252\n",
      "  dynamic dispatch to (AutomotiveDrivingModels.VecE2)((StaticArrays._map)($(QuoteNode(-)), $(QuoteNode(Size(3,))), (Core.getfield)(pt_hi, :pos), (Core.getfield)(pt_lo, :pos))) at line 252\n",
      "  dynamic dispatch to (AutomotiveDrivingModels.norm)((AutomotiveDrivingModels.VecE2)((StaticArrays._map)($(QuoteNode(-)), $(QuoteNode(Size(3,))), (Core.getfield)(pt_hi, :pos), (Core.getfield)(pt_lo, :pos)))) at line 252\n",
      "  dynamic dispatch to -s_gap at line 253\n",
      "  dynamic dispatch to (AutomotiveDrivingModels.CurvePt)((Core.getfield)(pt_lo, :pos), -s_gap, (Core.getfield)(pt_lo, :k), (Core.getfield)(pt_lo, :kd)) at line 253\n",
      "  dynamic dispatch to (AutomotiveDrivingModels.lerp)((Core.getfield)(pt_lo, :pos), (Core.getfield)(pt_hi, :pos), (Core.getfield)(ind, :t)) at line 254\n",
      "  dynamic dispatch to (AutomotiveDrivingModels.CurvePt)((AutomotiveDrivingModels.lerp)((Core.getfield)(pt_lo, :pos), (Core.getfield)(pt_hi, :pos), (Core.getfield)(ind, :t)), (Base.add_float)((Core.getfield)(pt_lo, :s), (Base.mul_float)((Base.sub_float)((Core.getfield)(pt_hi, :s), (Core.getfield)(pt_lo, :s)), (Core.getfield)(ind, :t))), (Base.add_float)((Core.getfield)(pt_lo, :k), (Base.mul_float)((Base.sub_float)((Core.getfield)(pt_hi, :k), (Core.getfield)(pt_lo, :k)), (Core.getfield)(ind, :t))), (Base.add_float)((Core.getfield)(pt_lo, :kd), (Base.mul_float)((Base.sub_float)((Core.getfield)(pt_hi, :kd), (Core.getfield)(pt_lo, :kd)), (Core.getfield)(ind, :t)))) at line 254\n",
      "  dynamic dispatch to (AutomotiveDrivingModels.lerp)((Core.getfield)((Base.arrayref)((Core.getfield)(lane, :curve), (Core.getfield)(ind, :i)), :pos), (Core.getfield)((Base.arrayref)((Core.getfield)(lane, :curve), (Base.add_int)((Core.getfield)(ind, :i), 1)), :pos), (Core.getfield)(ind, :t)) at line 256\n",
      "  dynamic dispatch to (AutomotiveDrivingModels.CurvePt)((AutomotiveDrivingModels.lerp)((Core.getfield)((Base.arrayref)((Core.getfield)(lane, :curve), (Core.getfield)(ind, :i)), :pos), (Core.getfield)((Base.arrayref)((Core.getfield)(lane, :curve), (Base.add_int)((Core.getfield)(ind, :i), 1)), :pos), (Core.getfield)(ind, :t)), (Base.add_float)((Core.getfield)((Base.arrayref)((Core.getfield)(lane, :curve), (Core.getfield)(ind, :i)), :s), (Base.mul_float)((Base.sub_float)((Core.getfield)((Base.arrayref)((Core.getfield)(lane, :curve), (Base.add_int)((Core.getfield)(ind, :i), 1)), :s), (Core.getfield)((Base.arrayref)((Core.getfield)(lane, :curve), (Core.getfield)(ind, :i)), :s)), (Core.getfield)(ind, :t))), (Base.add_float)((Core.getfield)((Base.arrayref)((Core.getfield)(lane, :curve), (Core.getfield)(ind, :i)), :k), (Base.mul_float)((Base.sub_float)((Core.getfield)((Base.arrayref)((Core.getfield)(lane, :curve), (Base.add_int)((Core.getfield)(ind, :i), 1)), :k), (Core.getfield)((Base.arrayref)((Core.getfield)(lane, :curve), (Core.getfield)(ind, :i)), :k)), (Core.getfield)(ind, :t))), (Base.add_float)((Core.getfield)((Base.arrayref)((Core.getfield)(lane, :curve), (Core.getfield)(ind, :i)), :kd), (Base.mul_float)((Base.sub_float)((Core.getfield)((Base.arrayref)((Core.getfield)(lane, :curve), (Base.add_int)((Core.getfield)(ind, :i), 1)), :kd), (Core.getfield)((Base.arrayref)((Core.getfield)(lane, :curve), (Core.getfield)(ind, :i)), :kd)), (Core.getfield)(ind, :t)))) at line 256\n",
      "  dynamic dispatch to (StaticArrays._map)($(QuoteNode(-)), $(QuoteNode(Size(3,))), (Core.getfield)(pt_hi, :pos), (Core.getfield)(pt_lo, :pos)) at line 260\n",
      "  dynamic dispatch to (AutomotiveDrivingModels.VecE2)((StaticArrays._map)($(QuoteNode(-)), $(QuoteNode(Size(3,))), (Core.getfield)(pt_hi, :pos), (Core.getfield)(pt_lo, :pos))) at line 260\n",
      "  dynamic dispatch to (AutomotiveDrivingModels.norm)((AutomotiveDrivingModels.VecE2)((StaticArrays._map)($(QuoteNode(-)), $(QuoteNode(Size(3,))), (Core.getfield)(pt_hi, :pos), (Core.getfield)(pt_lo, :pos)))) at line 260\n",
      "  dynamic dispatch to (Core.getfield)(pt_lo, :s) + s_gap at line 261\n",
      "  dynamic dispatch to (AutomotiveDrivingModels.CurvePt)((Core.getfield)(pt_hi, :pos), (Core.getfield)(pt_lo, :s) + s_gap, (Core.getfield)(pt_hi, :k), (Core.getfield)(pt_hi, :kd)) at line 261\n",
      "  dynamic dispatch to (AutomotiveDrivingModels.lerp)((Core.getfield)(pt_lo, :pos), (Core.getfield)(pt_hi, :pos), (Core.getfield)(ind, :t)) at line 262\n",
      "  dynamic dispatch to (AutomotiveDrivingModels.CurvePt)((AutomotiveDrivingModels.lerp)((Core.getfield)(pt_lo, :pos), (Core.getfield)(pt_hi, :pos), (Core.getfield)(ind, :t)), (Base.add_float)((Core.getfield)(pt_lo, :s), (Base.mul_float)((Base.sub_float)((Core.getfield)(pt_hi, :s), (Core.getfield)(pt_lo, :s)), (Core.getfield)(ind, :t))), (Base.add_float)((Core.getfield)(pt_lo, :k), (Base.mul_float)((Base.sub_float)((Core.getfield)(pt_hi, :k), (Core.getfield)(pt_lo, :k)), (Core.getfield)(ind, :t))), (Base.add_float)((Core.getfield)(pt_lo, :kd), (Base.mul_float)((Base.sub_float)((Core.getfield)(pt_hi, :kd), (Core.getfield)(pt_lo, :kd)), (Core.getfield)(ind, :t)))) at line 262\n",
      "\u001b[33m(AutomotiveDrivingModels.get_posG)(::AutomotiveDrivingModels.Frenet, ::AutomotiveDrivingModels.Roadway) at /mnt/c/Users/Maxime/wsl/.julia/v0.6/AutomotiveDrivingModels/src/2d/vehicles/frenet.jl:27\n",
      "\u001b[39m  pos is assigned as Any at line 28\n",
      "  dynamic dispatch to (Core.getfield)((Core.getfield)(curvept, :pos), :θ) + (Base.div_float)(3.141592653589793, (Base.sitofp)(Float64, 2)) at line 28\n",
      "  dynamic dispatch to (AutomotiveDrivingModels.polar)((Core.getfield)(frenet, :t), (Core.getfield)((Core.getfield)(curvept, :pos), :θ) + (Base.div_float)(3.141592653589793, (Base.sitofp)(Float64, 2))) at line 28\n",
      "  dynamic dispatch to (Core.getfield)(curvept, :pos) + (AutomotiveDrivingModels.polar)((Core.getfield)(frenet, :t), (Core.getfield)((Core.getfield)(curvept, :pos), :θ) + (Base.div_float)(3.141592653589793, (Base.sitofp)(Float64, 2))) at line 28\n"
     ]
    },
    {
     "name": "stdout",
     "output_type": "stream",
     "text": [
      "  dynamic dispatch to (Core.getfield)(frenet, :ϕ) + (Core.getfield)((Core.getfield)(curvept, :pos), :θ) at line 29\n",
      "  dynamic dispatch to (AutomotiveDrivingModels.VecSE2)((Core.getfield)(pos, :x), (Core.getfield)(pos, :y), (Core.getfield)(frenet, :ϕ) + (Core.getfield)((Core.getfield)(curvept, :pos), :θ)) at line 29\n",
      "  returns Any\n",
      "\u001b[33m(AutomotiveDrivingModels.VehicleState)(::AutomotiveDrivingModels.Frenet, ::AutomotiveDrivingModels.Roadway, ::Float64) at /mnt/c/Users/Maxime/wsl/.julia/v0.6/AutomotiveDrivingModels/src/2d/vehicles/vehicles.jl:11\n",
      "\u001b[39m  dynamic dispatch to (Base.convert)(AutomotiveDrivingModels.VecSE2, $(Expr(:invoke, MethodInstance for get_posG(::AutomotiveDrivingModels.Frenet, ::AutomotiveDrivingModels.Roadway), :(AutomotiveDrivingModels.get_posG), :posF, :roadway))) at line 11\n",
      "\u001b[33m(get_ego_states)(::AutomotivePOMDPs.UrbanEnv, ::Float64, ::Float64) at /mnt/c/Users/Maxime/OneDrive - Leland Stanford Junior University/Research/safe-rl/mdp_models/discretization.jl:25\n",
      "\u001b[39m  dynamic dispatch to (Base.convert)(AutomotiveDrivingModels.VecSE2, $(Expr(:invoke, MethodInstance for get_posG(::AutomotiveDrivingModels.Frenet, ::AutomotiveDrivingModels.Roadway), :(AutomotiveDrivingModels.get_posG), :($(Expr(:new, :(AutomotiveDrivingModels.Frenet), :roadind, :s, 0.0, 0.0))), :((Core.getfield)(env, :roadway))))) at line 31\n"
     ]
    },
    {
     "data": {
      "text/plain": [
       "366-element Array{AutomotiveDrivingModels.VehicleState,1}:\n",
       " VehicleState(VecSE2({1.500, -30.000}, 1.571), Frenet(RoadIndex({1, 0.000000}, {6, 1}), 0.000, 0.000, 0.000), 0.000)  \n",
       " VehicleState(VecSE2({1.500, -29.000}, 1.571), Frenet(RoadIndex({1, 0.038462}, {6, 1}), 1.000, 0.000, 0.000), 0.000)  \n",
       " VehicleState(VecSE2({1.500, -28.000}, 1.571), Frenet(RoadIndex({1, 0.076923}, {6, 1}), 2.000, 0.000, 0.000), 0.000)  \n",
       " VehicleState(VecSE2({1.500, -27.000}, 1.571), Frenet(RoadIndex({1, 0.115385}, {6, 1}), 3.000, 0.000, 0.000), 0.000)  \n",
       " VehicleState(VecSE2({1.500, -26.000}, 1.571), Frenet(RoadIndex({1, 0.153846}, {6, 1}), 4.000, 0.000, 0.000), 0.000)  \n",
       " VehicleState(VecSE2({1.500, -25.000}, 1.571), Frenet(RoadIndex({1, 0.192308}, {6, 1}), 5.000, 0.000, 0.000), 0.000)  \n",
       " VehicleState(VecSE2({1.500, -24.000}, 1.571), Frenet(RoadIndex({1, 0.230769}, {6, 1}), 6.000, 0.000, 0.000), 0.000)  \n",
       " VehicleState(VecSE2({1.500, -23.000}, 1.571), Frenet(RoadIndex({1, 0.269231}, {6, 1}), 7.000, 0.000, 0.000), 0.000)  \n",
       " VehicleState(VecSE2({1.500, -22.000}, 1.571), Frenet(RoadIndex({1, 0.307692}, {6, 1}), 8.000, 0.000, 0.000), 0.000)  \n",
       " VehicleState(VecSE2({1.500, -21.000}, 1.571), Frenet(RoadIndex({1, 0.346154}, {6, 1}), 9.000, 0.000, 0.000), 0.000)  \n",
       " VehicleState(VecSE2({1.500, -20.000}, 1.571), Frenet(RoadIndex({1, 0.384615}, {6, 1}), 10.000, 0.000, 0.000), 0.000) \n",
       " VehicleState(VecSE2({1.500, -19.000}, 1.571), Frenet(RoadIndex({1, 0.423077}, {6, 1}), 11.000, 0.000, 0.000), 0.000) \n",
       " VehicleState(VecSE2({1.500, -18.000}, 1.571), Frenet(RoadIndex({1, 0.461538}, {6, 1}), 12.000, 0.000, 0.000), 0.000) \n",
       " ⋮                                                                                                                    \n",
       " VehicleState(VecSE2({-19.000, 1.500}, 3.142), Frenet(RoadIndex({1, 0.541667}, {2, 1}), 13.000, 0.000, 0.000), 10.000)\n",
       " VehicleState(VecSE2({-20.000, 1.500}, 3.142), Frenet(RoadIndex({1, 0.583333}, {2, 1}), 14.000, 0.000, 0.000), 10.000)\n",
       " VehicleState(VecSE2({-21.000, 1.500}, 3.142), Frenet(RoadIndex({1, 0.625000}, {2, 1}), 15.000, 0.000, 0.000), 10.000)\n",
       " VehicleState(VecSE2({-22.000, 1.500}, 3.142), Frenet(RoadIndex({1, 0.666667}, {2, 1}), 16.000, 0.000, 0.000), 10.000)\n",
       " VehicleState(VecSE2({-23.000, 1.500}, 3.142), Frenet(RoadIndex({1, 0.708333}, {2, 1}), 17.000, 0.000, 0.000), 10.000)\n",
       " VehicleState(VecSE2({-24.000, 1.500}, 3.142), Frenet(RoadIndex({1, 0.750000}, {2, 1}), 18.000, 0.000, 0.000), 10.000)\n",
       " VehicleState(VecSE2({-25.000, 1.500}, 3.142), Frenet(RoadIndex({1, 0.791667}, {2, 1}), 19.000, 0.000, 0.000), 10.000)\n",
       " VehicleState(VecSE2({-26.000, 1.500}, 3.142), Frenet(RoadIndex({1, 0.833333}, {2, 1}), 20.000, 0.000, 0.000), 10.000)\n",
       " VehicleState(VecSE2({-27.000, 1.500}, 3.142), Frenet(RoadIndex({1, 0.875000}, {2, 1}), 21.000, 0.000, 0.000), 10.000)\n",
       " VehicleState(VecSE2({-28.000, 1.500}, 3.142), Frenet(RoadIndex({1, 0.916667}, {2, 1}), 22.000, 0.000, 0.000), 10.000)\n",
       " VehicleState(VecSE2({-29.000, 1.500}, 3.142), Frenet(RoadIndex({1, 0.958333}, {2, 1}), 23.000, 0.000, 0.000), 10.000)\n",
       " VehicleState(VecSE2({-30.000, 1.500}, 3.142), Frenet(RoadIndex({1, 1.000000}, {2, 1}), 24.000, 0.000, 0.000), 10.000)"
      ]
     },
     "execution_count": 18,
     "metadata": {},
     "output_type": "execute_result"
    }
   ],
   "source": [
    "@trace get_ego_states(mdp.env, mdp.pos_res, mdp.vel_res)"
   ]
  },
  {
   "cell_type": "code",
   "execution_count": 21,
   "metadata": {},
   "outputs": [
    {
     "name": "stdout",
     "output_type": "stream",
     "text": [
      "\u001b[33m(Vec.lerp)(::AutomotiveDrivingModels.CurvePt, ::AutomotiveDrivingModels.CurvePt, ::Float64) at /mnt/c/Users/Maxime/wsl/.julia/v0.6/AutomotiveDrivingModels/src/2d/roadway/curves.jl:12\n",
      "\u001b[39m  dynamic dispatch to (AutomotiveDrivingModels.lerp)((Core.getfield)(a, :pos), (Core.getfield)(b, :pos), t) at line 12\n",
      "  dynamic dispatch to (AutomotiveDrivingModels.CurvePt)((AutomotiveDrivingModels.lerp)((Core.getfield)(a, :pos), (Core.getfield)(b, :pos), t), (Base.add_float)((Core.getfield)(a, :s), (Base.mul_float)((Base.sub_float)((Core.getfield)(b, :s), (Core.getfield)(a, :s)), t)), (Base.add_float)((Core.getfield)(a, :k), (Base.mul_float)((Base.sub_float)((Core.getfield)(b, :k), (Core.getfield)(a, :k)), t)), (Base.add_float)((Core.getfield)(a, :kd), (Base.mul_float)((Base.sub_float)((Core.getfield)(b, :kd), (Core.getfield)(a, :kd)), t))) at line 12\n",
      "\u001b[33m(getindex)(::Array{AutomotiveDrivingModels.CurvePt,1}, ::AutomotiveDrivingModels.CurveIndex) at /mnt/c/Users/Maxime/wsl/.julia/v0.6/AutomotiveDrivingModels/src/2d/roadway/curves.jl:58\n",
      "\u001b[39m  dynamic dispatch to (AutomotiveDrivingModels.lerp)((Core.getfield)((Base.arrayref)(curve, (Core.getfield)(ind, :i)), :pos), (Core.getfield)((Base.arrayref)(curve, (Base.add_int)((Core.getfield)(ind, :i), 1)), :pos), (Core.getfield)(ind, :t)) at line 58\n",
      "  dynamic dispatch to (AutomotiveDrivingModels.CurvePt)((AutomotiveDrivingModels.lerp)((Core.getfield)((Base.arrayref)(curve, (Core.getfield)(ind, :i)), :pos), (Core.getfield)((Base.arrayref)(curve, (Base.add_int)((Core.getfield)(ind, :i), 1)), :pos), (Core.getfield)(ind, :t)), (Base.add_float)((Core.getfield)((Base.arrayref)(curve, (Core.getfield)(ind, :i)), :s), (Base.mul_float)((Base.sub_float)((Core.getfield)((Base.arrayref)(curve, (Base.add_int)((Core.getfield)(ind, :i), 1)), :s), (Core.getfield)((Base.arrayref)(curve, (Core.getfield)(ind, :i)), :s)), (Core.getfield)(ind, :t))), (Base.add_float)((Core.getfield)((Base.arrayref)(curve, (Core.getfield)(ind, :i)), :k), (Base.mul_float)((Base.sub_float)((Core.getfield)((Base.arrayref)(curve, (Base.add_int)((Core.getfield)(ind, :i), 1)), :k), (Core.getfield)((Base.arrayref)(curve, (Core.getfield)(ind, :i)), :k)), (Core.getfield)(ind, :t))), (Base.add_float)((Core.getfield)((Base.arrayref)(curve, (Core.getfield)(ind, :i)), :kd), (Base.mul_float)((Base.sub_float)((Core.getfield)((Base.arrayref)(curve, (Base.add_int)((Core.getfield)(ind, :i), 1)), :kd), (Core.getfield)((Base.arrayref)(curve, (Core.getfield)(ind, :i)), :kd)), (Core.getfield)(ind, :t)))) at line 58\n",
      "\u001b[33m(getindex)(::AutomotiveDrivingModels.Lane, ::AutomotiveDrivingModels.CurveIndex, ::AutomotiveDrivingModels.Roadway) at /mnt/c/Users/Maxime/wsl/.julia/v0.6/AutomotiveDrivingModels/src/2d/roadway/roadways.jl:249\n",
      "\u001b[39m  s_gap is assigned as Any at line 252\n",
      "  s_gap is assigned as Any at line 260\n",
      "  dynamic dispatch to (StaticArrays._map)($(QuoteNode(-)), $(QuoteNode(Size(3,))), (Core.getfield)(pt_hi, :pos), (Core.getfield)(pt_lo, :pos)) at line 252\n",
      "  dynamic dispatch to (AutomotiveDrivingModels.VecE2)((StaticArrays._map)($(QuoteNode(-)), $(QuoteNode(Size(3,))), (Core.getfield)(pt_hi, :pos), (Core.getfield)(pt_lo, :pos))) at line 252\n",
      "  dynamic dispatch to (AutomotiveDrivingModels.norm)((AutomotiveDrivingModels.VecE2)((StaticArrays._map)($(QuoteNode(-)), $(QuoteNode(Size(3,))), (Core.getfield)(pt_hi, :pos), (Core.getfield)(pt_lo, :pos)))) at line 252\n",
      "  dynamic dispatch to -s_gap at line 253\n",
      "  dynamic dispatch to (AutomotiveDrivingModels.CurvePt)((Core.getfield)(pt_lo, :pos), -s_gap, (Core.getfield)(pt_lo, :k), (Core.getfield)(pt_lo, :kd)) at line 253\n",
      "  dynamic dispatch to (AutomotiveDrivingModels.lerp)((Core.getfield)(pt_lo, :pos), (Core.getfield)(pt_hi, :pos), (Core.getfield)(ind, :t)) at line 254\n",
      "  dynamic dispatch to (AutomotiveDrivingModels.CurvePt)((AutomotiveDrivingModels.lerp)((Core.getfield)(pt_lo, :pos), (Core.getfield)(pt_hi, :pos), (Core.getfield)(ind, :t)), (Base.add_float)((Core.getfield)(pt_lo, :s), (Base.mul_float)((Base.sub_float)((Core.getfield)(pt_hi, :s), (Core.getfield)(pt_lo, :s)), (Core.getfield)(ind, :t))), (Base.add_float)((Core.getfield)(pt_lo, :k), (Base.mul_float)((Base.sub_float)((Core.getfield)(pt_hi, :k), (Core.getfield)(pt_lo, :k)), (Core.getfield)(ind, :t))), (Base.add_float)((Core.getfield)(pt_lo, :kd), (Base.mul_float)((Base.sub_float)((Core.getfield)(pt_hi, :kd), (Core.getfield)(pt_lo, :kd)), (Core.getfield)(ind, :t)))) at line 254\n",
      "  dynamic dispatch to (AutomotiveDrivingModels.lerp)((Core.getfield)((Base.arrayref)((Core.getfield)(lane, :curve), (Core.getfield)(ind, :i)), :pos), (Core.getfield)((Base.arrayref)((Core.getfield)(lane, :curve), (Base.add_int)((Core.getfield)(ind, :i), 1)), :pos), (Core.getfield)(ind, :t)) at line 256\n",
      "  dynamic dispatch to (AutomotiveDrivingModels.CurvePt)((AutomotiveDrivingModels.lerp)((Core.getfield)((Base.arrayref)((Core.getfield)(lane, :curve), (Core.getfield)(ind, :i)), :pos), (Core.getfield)((Base.arrayref)((Core.getfield)(lane, :curve), (Base.add_int)((Core.getfield)(ind, :i), 1)), :pos), (Core.getfield)(ind, :t)), (Base.add_float)((Core.getfield)((Base.arrayref)((Core.getfield)(lane, :curve), (Core.getfield)(ind, :i)), :s), (Base.mul_float)((Base.sub_float)((Core.getfield)((Base.arrayref)((Core.getfield)(lane, :curve), (Base.add_int)((Core.getfield)(ind, :i), 1)), :s), (Core.getfield)((Base.arrayref)((Core.getfield)(lane, :curve), (Core.getfield)(ind, :i)), :s)), (Core.getfield)(ind, :t))), (Base.add_float)((Core.getfield)((Base.arrayref)((Core.getfield)(lane, :curve), (Core.getfield)(ind, :i)), :k), (Base.mul_float)((Base.sub_float)((Core.getfield)((Base.arrayref)((Core.getfield)(lane, :curve), (Base.add_int)((Core.getfield)(ind, :i), 1)), :k), (Core.getfield)((Base.arrayref)((Core.getfield)(lane, :curve), (Core.getfield)(ind, :i)), :k)), (Core.getfield)(ind, :t))), (Base.add_float)((Core.getfield)((Base.arrayref)((Core.getfield)(lane, :curve), (Core.getfield)(ind, :i)), :kd), (Base.mul_float)((Base.sub_float)((Core.getfield)((Base.arrayref)((Core.getfield)(lane, :curve), (Base.add_int)((Core.getfield)(ind, :i), 1)), :kd), (Core.getfield)((Base.arrayref)((Core.getfield)(lane, :curve), (Core.getfield)(ind, :i)), :kd)), (Core.getfield)(ind, :t)))) at line 256\n",
      "  dynamic dispatch to (StaticArrays._map)($(QuoteNode(-)), $(QuoteNode(Size(3,))), (Core.getfield)(pt_hi, :pos), (Core.getfield)(pt_lo, :pos)) at line 260\n",
      "  dynamic dispatch to (AutomotiveDrivingModels.VecE2)((StaticArrays._map)($(QuoteNode(-)), $(QuoteNode(Size(3,))), (Core.getfield)(pt_hi, :pos), (Core.getfield)(pt_lo, :pos))) at line 260\n",
      "  dynamic dispatch to (AutomotiveDrivingModels.norm)((AutomotiveDrivingModels.VecE2)((StaticArrays._map)($(QuoteNode(-)), $(QuoteNode(Size(3,))), (Core.getfield)(pt_hi, :pos), (Core.getfield)(pt_lo, :pos)))) at line 260\n",
      "  dynamic dispatch to (Core.getfield)(pt_lo, :s) + s_gap at line 261\n",
      "  dynamic dispatch to (AutomotiveDrivingModels.CurvePt)((Core.getfield)(pt_hi, :pos), (Core.getfield)(pt_lo, :s) + s_gap, (Core.getfield)(pt_hi, :k), (Core.getfield)(pt_hi, :kd)) at line 261\n",
      "  dynamic dispatch to (AutomotiveDrivingModels.lerp)((Core.getfield)(pt_lo, :pos), (Core.getfield)(pt_hi, :pos), (Core.getfield)(ind, :t)) at line 262\n",
      "  dynamic dispatch to (AutomotiveDrivingModels.CurvePt)((AutomotiveDrivingModels.lerp)((Core.getfield)(pt_lo, :pos), (Core.getfield)(pt_hi, :pos), (Core.getfield)(ind, :t)), (Base.add_float)((Core.getfield)(pt_lo, :s), (Base.mul_float)((Base.sub_float)((Core.getfield)(pt_hi, :s), (Core.getfield)(pt_lo, :s)), (Core.getfield)(ind, :t))), (Base.add_float)((Core.getfield)(pt_lo, :k), (Base.mul_float)((Base.sub_float)((Core.getfield)(pt_hi, :k), (Core.getfield)(pt_lo, :k)), (Core.getfield)(ind, :t))), (Base.add_float)((Core.getfield)(pt_lo, :kd), (Base.mul_float)((Base.sub_float)((Core.getfield)(pt_hi, :kd), (Core.getfield)(pt_lo, :kd)), (Core.getfield)(ind, :t)))) at line 262\n",
      "\u001b[33m(AutomotiveDrivingModels.get_posG)(::AutomotiveDrivingModels.Frenet, ::AutomotiveDrivingModels.Roadway) at /mnt/c/Users/Maxime/wsl/.julia/v0.6/AutomotiveDrivingModels/src/2d/vehicles/frenet.jl:27\n",
      "\u001b[39m  pos is assigned as Any at line 28\n",
      "  dynamic dispatch to (Core.getfield)((Core.getfield)(curvept, :pos), :θ) + (Base.div_float)(3.141592653589793, (Base.sitofp)(Float64, 2)) at line 28\n",
      "  dynamic dispatch to (AutomotiveDrivingModels.polar)((Core.getfield)(frenet, :t), (Core.getfield)((Core.getfield)(curvept, :pos), :θ) + (Base.div_float)(3.141592653589793, (Base.sitofp)(Float64, 2))) at line 28\n",
      "  dynamic dispatch to (Core.getfield)(curvept, :pos) + (AutomotiveDrivingModels.polar)((Core.getfield)(frenet, :t), (Core.getfield)((Core.getfield)(curvept, :pos), :θ) + (Base.div_float)(3.141592653589793, (Base.sitofp)(Float64, 2))) at line 28\n",
      "  dynamic dispatch to (Core.getfield)(frenet, :ϕ) + (Core.getfield)((Core.getfield)(curvept, :pos), :θ) at line 29\n",
      "  dynamic dispatch to (AutomotiveDrivingModels.VecSE2)((Core.getfield)(pos, :x), (Core.getfield)(pos, :y), (Core.getfield)(frenet, :ϕ) + (Core.getfield)((Core.getfield)(curvept, :pos), :θ)) at line 29\n",
      "  returns Any\n",
      "\u001b[33m(AutomotiveDrivingModels.VehicleState)(::AutomotiveDrivingModels.Frenet, ::AutomotiveDrivingModels.Roadway, ::Float64) at /mnt/c/Users/Maxime/wsl/.julia/v0.6/AutomotiveDrivingModels/src/2d/vehicles/vehicles.jl:11\n",
      "\u001b[39m  dynamic dispatch to (Base.convert)(AutomotiveDrivingModels.VecSE2, $(Expr(:invoke, MethodInstance for get_posG(::AutomotiveDrivingModels.Frenet, ::AutomotiveDrivingModels.Roadway), :(AutomotiveDrivingModels.get_posG), :posF, :roadway))) at line 11\n"
     ]
    },
    {
     "name": "stdout",
     "output_type": "stream",
     "text": [
      "\u001b[33m(get_car_states)(::AutomotivePOMDPs.UrbanEnv, ::Float64, ::Float64) at /mnt/c/Users/Maxime/OneDrive - Leland Stanford Junior University/Research/safe-rl/mdp_models/discretization.jl:73\n",
      "\u001b[39m  dynamic dispatch to (Base.convert)(AutomotiveDrivingModels.VecSE2, $(Expr(:invoke, MethodInstance for get_posG(::AutomotiveDrivingModels.Frenet, ::AutomotiveDrivingModels.Roadway), :(AutomotiveDrivingModels.get_posG), :($(Expr(:new, :(AutomotiveDrivingModels.Frenet), :roadind, :s, 0.0, 0.0))), :((Core.getfield)(env, :roadway))))) at line 79\n"
     ]
    },
    {
     "data": {
      "text/plain": [
       "954-element Array{AutomotiveDrivingModels.VehicleState,1}:\n",
       " VehicleState(VecSE2({30.000, 1.500}, 3.142), Frenet(RoadIndex({1, 0.000000}, {1, 1}), 0.000, 0.000, 0.000), 0.000)  \n",
       " VehicleState(VecSE2({29.000, 1.500}, 3.142), Frenet(RoadIndex({1, 0.041667}, {1, 1}), 1.000, 0.000, 0.000), 0.000)  \n",
       " VehicleState(VecSE2({28.000, 1.500}, 3.142), Frenet(RoadIndex({1, 0.083333}, {1, 1}), 2.000, 0.000, 0.000), 0.000)  \n",
       " VehicleState(VecSE2({27.000, 1.500}, 3.142), Frenet(RoadIndex({1, 0.125000}, {1, 1}), 3.000, 0.000, 0.000), 0.000)  \n",
       " VehicleState(VecSE2({26.000, 1.500}, 3.142), Frenet(RoadIndex({1, 0.166667}, {1, 1}), 4.000, 0.000, 0.000), 0.000)  \n",
       " VehicleState(VecSE2({25.000, 1.500}, 3.142), Frenet(RoadIndex({1, 0.208333}, {1, 1}), 5.000, 0.000, 0.000), 0.000)  \n",
       " VehicleState(VecSE2({24.000, 1.500}, 3.142), Frenet(RoadIndex({1, 0.250000}, {1, 1}), 6.000, 0.000, 0.000), 0.000)  \n",
       " VehicleState(VecSE2({23.000, 1.500}, 3.142), Frenet(RoadIndex({1, 0.291667}, {1, 1}), 7.000, 0.000, 0.000), 0.000)  \n",
       " VehicleState(VecSE2({22.000, 1.500}, 3.142), Frenet(RoadIndex({1, 0.333333}, {1, 1}), 8.000, 0.000, 0.000), 0.000)  \n",
       " VehicleState(VecSE2({21.000, 1.500}, 3.142), Frenet(RoadIndex({1, 0.375000}, {1, 1}), 9.000, 0.000, 0.000), 0.000)  \n",
       " VehicleState(VecSE2({20.000, 1.500}, 3.142), Frenet(RoadIndex({1, 0.416667}, {1, 1}), 10.000, 0.000, 0.000), 0.000) \n",
       " VehicleState(VecSE2({19.000, 1.500}, 3.142), Frenet(RoadIndex({1, 0.458333}, {1, 1}), 11.000, 0.000, 0.000), 0.000) \n",
       " VehicleState(VecSE2({18.000, 1.500}, 3.142), Frenet(RoadIndex({1, 0.500000}, {1, 1}), 12.000, 0.000, 0.000), 0.000) \n",
       " ⋮                                                                                                                   \n",
       " VehicleState(VecSE2({4.000, -1.500}, 0.000), Frenet(RoadIndex({1, 0.000000}, {16, 1}), 0.000, 0.000, 0.000), 4.000) \n",
       " VehicleState(VecSE2({5.000, -1.500}, 0.000), Frenet(RoadIndex({1, 0.500000}, {16, 1}), 1.000, 0.000, 0.000), 4.000) \n",
       " VehicleState(VecSE2({6.000, -1.500}, 0.000), Frenet(RoadIndex({1, 1.000000}, {16, 1}), 2.000, 0.000, 0.000), 4.000) \n",
       " VehicleState(VecSE2({4.000, -1.500}, 0.000), Frenet(RoadIndex({1, 0.000000}, {16, 1}), 0.000, 0.000, 0.000), 6.000) \n",
       " VehicleState(VecSE2({5.000, -1.500}, 0.000), Frenet(RoadIndex({1, 0.500000}, {16, 1}), 1.000, 0.000, 0.000), 6.000) \n",
       " VehicleState(VecSE2({6.000, -1.500}, 0.000), Frenet(RoadIndex({1, 1.000000}, {16, 1}), 2.000, 0.000, 0.000), 6.000) \n",
       " VehicleState(VecSE2({4.000, -1.500}, 0.000), Frenet(RoadIndex({1, 0.000000}, {16, 1}), 0.000, 0.000, 0.000), 8.000) \n",
       " VehicleState(VecSE2({5.000, -1.500}, 0.000), Frenet(RoadIndex({1, 0.500000}, {16, 1}), 1.000, 0.000, 0.000), 8.000) \n",
       " VehicleState(VecSE2({6.000, -1.500}, 0.000), Frenet(RoadIndex({1, 1.000000}, {16, 1}), 2.000, 0.000, 0.000), 8.000) \n",
       " VehicleState(VecSE2({4.000, -1.500}, 0.000), Frenet(RoadIndex({1, 0.000000}, {16, 1}), 0.000, 0.000, 0.000), 10.000)\n",
       " VehicleState(VecSE2({5.000, -1.500}, 0.000), Frenet(RoadIndex({1, 0.500000}, {16, 1}), 1.000, 0.000, 0.000), 10.000)\n",
       " VehicleState(VecSE2({6.000, -1.500}, 0.000), Frenet(RoadIndex({1, 1.000000}, {16, 1}), 2.000, 0.000, 0.000), 10.000)"
      ]
     },
     "execution_count": 21,
     "metadata": {},
     "output_type": "execute_result"
    }
   ],
   "source": [
    "@trace get_car_states(mdp.env, mdp.pos_res, mdp.vel_res)"
   ]
  },
  {
   "cell_type": "code",
   "execution_count": 23,
   "metadata": {},
   "outputs": [
    {
     "data": {
      "text/plain": [
       "123"
      ]
     },
     "execution_count": 23,
     "metadata": {},
     "output_type": "execute_result"
    }
   ],
   "source": [
    "c = get_car_states(mdp.env, mdp.pos_res, mdp.vel_res)[123]\n",
    "@trace car_stateindex(mdp.env, c, mdp.pos_res, mdp.vel_res)"
   ]
  },
  {
   "cell_type": "code",
   "execution_count": 9,
   "metadata": {},
   "outputs": [
    {
     "data": {
      "text/plain": [
       "VehicleState(VecSE2({1.500, -4.000}, 1.571), Frenet(RoadIndex({1, 0.000000}, {13, 1}), 0.000, 0.000, 0.000), 0.000)"
      ]
     },
     "execution_count": 9,
     "metadata": {},
     "output_type": "execute_result"
    }
   ],
   "source": [
    "ego = ego_space[163]"
   ]
  },
  {
   "cell_type": "code",
   "execution_count": 10,
   "metadata": {},
   "outputs": [
    {
     "data": {
      "text/plain": [
       "163"
      ]
     },
     "execution_count": 10,
     "metadata": {},
     "output_type": "execute_result"
    }
   ],
   "source": [
    "ego_stateindex(mdp.env, ego_space[163], mdp.pos_res, mdp.vel_res)"
   ]
  },
  {
   "cell_type": "code",
   "execution_count": 11,
   "metadata": {},
   "outputs": [
    {
     "ename": "LoadError",
     "evalue": "\u001b[91mUndefVarError: pos_res not defined\u001b[39m",
     "output_type": "error",
     "traceback": [
      "\u001b[91mUndefVarError: pos_res not defined\u001b[39m",
      "",
      "Stacktrace:",
      " [1] \u001b[1mmacro expansion\u001b[22m\u001b[22m at \u001b[1m./In[11]:14\u001b[22m\u001b[22m [inlined]",
      " [2] \u001b[1manonymous\u001b[22m\u001b[22m at \u001b[1m./<missing>:?\u001b[22m\u001b[22m",
      " [3] \u001b[1minclude_string\u001b[22m\u001b[22m\u001b[1m(\u001b[22m\u001b[22m::String, ::String\u001b[1m)\u001b[22m\u001b[22m at \u001b[1m./loading.jl:522\u001b[22m\u001b[22m"
     ]
    }
   ],
   "source": [
    "lanes = get_ego_route(env)\n",
    "lane = get_lane(env.roadway, ego)\n",
    "li = findfirst(lanes, lane.tag) #XXX possibly inefficient\n",
    "\n",
    "s_space = get_discretized_lane(lane.tag, mdp.env.roadway, mdp.pos_res)\n",
    "si = find_range_index(s_space, ego.posF.s)\n",
    "\n",
    "v_space = get_car_vspace(mdp.env, mdp.vel_res)\n",
    "v = ego.v\n",
    "vi = find_range_index(v_space, v)\n",
    "egoi = sub2ind((length(s_space), length(v_space)), si, vi)\n",
    "\n",
    "for i=2:li\n",
    "    size_s = length(get_discretized_lane(lanes[i-1], env.roadway, pos_res))\n",
    "    egoi += size_s*size_v\n",
    "end"
   ]
  },
  {
   "cell_type": "code",
   "execution_count": 12,
   "metadata": {},
   "outputs": [
    {
     "data": {
      "text/plain": [
       "ego_stateindex (generic function with 1 method)"
      ]
     },
     "execution_count": 12,
     "metadata": {},
     "output_type": "execute_result"
    }
   ],
   "source": [
    "function ego_stateindex(env::UrbanEnv, ego::VehicleState, pos_res::Float64, v_res::Float64)\n",
    "    # find lane index\n",
    "    lanes = get_ego_route(env)\n",
    "    lane = get_lane(env.roadway, ego)\n",
    "    li = findfirst(lanes, lane.tag) #XXX possibly inefficient\n",
    "    # find position index\n",
    "    s_space = get_discretized_lane(lane.tag, env.roadway, pos_res)\n",
    "    si = find_range_index(s_space, ego.posF.s)\n",
    "    # find velocity index\n",
    "    v_space = get_car_vspace(env, v_res)\n",
    "    size_v = length(v_space)\n",
    "    v = ego.v\n",
    "    vi = find_range_index(v_space, v)\n",
    "    # sub2ind magic\n",
    "    egoi = sub2ind((length(s_space), length(v_space)), si, vi)\n",
    "    # Lanes have different lengths\n",
    "    for i=2:li\n",
    "        size_s = length(get_discretized_lane(lanes[i], env.roadway, pos_res))\n",
    "        egoi += size_s*size_v\n",
    "    end\n",
    "    return egoi\n",
    "end"
   ]
  },
  {
   "cell_type": "markdown",
   "metadata": {},
   "source": [
    "## Discrete Fully Observable Abstraction"
   ]
  },
  {
   "cell_type": "code",
   "execution_count": 13,
   "metadata": {
    "collapsed": true
   },
   "outputs": [],
   "source": [
    "using Parameters"
   ]
  },
  {
   "cell_type": "code",
   "execution_count": 14,
   "metadata": {},
   "outputs": [
    {
     "data": {
      "text/plain": [
       "AutomotiveDrivingModels.VehicleDef"
      ]
     },
     "execution_count": 14,
     "metadata": {},
     "output_type": "execute_result"
    }
   ],
   "source": [
    "typeof(pomdp.ego_type)"
   ]
  },
  {
   "cell_type": "code",
   "execution_count": 15,
   "metadata": {},
   "outputs": [
    {
     "data": {
      "text/plain": [
       "26-element Array{Symbol,1}:\n",
       " :env           \n",
       " :obs_dist      \n",
       " :lidar         \n",
       " :sensor        \n",
       " :models        \n",
       " :ego_type      \n",
       " :car_type      \n",
       " :ped_type      \n",
       " :max_cars      \n",
       " :max_peds      \n",
       " :obstacles     \n",
       " :max_acc       \n",
       " :ego_start     \n",
       " :ego_goal      \n",
       " :off_grid      \n",
       " :ΔT            \n",
       " :car_birth     \n",
       " :ped_birth     \n",
       " :a_noise       \n",
       " :v_noise       \n",
       " :pos_obs_noise \n",
       " :vel_obs_noise \n",
       " :collision_cost\n",
       " :action_cost   \n",
       " :goal_reward   \n",
       " :γ             "
      ]
     },
     "execution_count": 15,
     "metadata": {},
     "output_type": "execute_result"
    }
   ],
   "source": [
    "fieldnames(pomdp)"
   ]
  },
  {
   "cell_type": "code",
   "execution_count": 16,
   "metadata": {
    "collapsed": true
   },
   "outputs": [],
   "source": [
    "struct PedestrianMDP\n",
    "    env::UrbanEnv\n",
    "    \n",
    "end"
   ]
  },
  {
   "cell_type": "code",
   "execution_count": 17,
   "metadata": {},
   "outputs": [
    {
     "data": {
      "text/plain": [
       "n_states (generic function with 1 method)"
      ]
     },
     "execution_count": 17,
     "metadata": {},
     "output_type": "execute_result"
    }
   ],
   "source": [
    "# discretize velocity levels:\n",
    "function get_car_vspace(pomdp::UrbanPOMDP, v_res::Float64)\n",
    "    return 0.:v_res:pomdp.env.params.speed_limit\n",
    "end\n",
    "\n",
    "function get_ped_vspace(pomdp::UrbanPOMDP, v_res::Float64)\n",
    "    return 0:v_res:2.0\n",
    "end\n",
    "\n",
    "# discretize longitudinal position\n",
    "function get_discretized_lane(tag::LaneTag, roadway::Roadway, pos_res::Float64)\n",
    "    lane = roadway[tag]\n",
    "    return 0.:pos_res:get_end(lane)\n",
    "end\n",
    "\n",
    "# struct DiscreteUrbanState\n",
    "#     ego::VehicleState\n",
    "#     car::VehicleState\n",
    "#     ped::VehicleState\n",
    "# end\n",
    "\n",
    "# enumerate ego state space\n",
    "function get_ego_route(pomdp::UrbanPOMDP)\n",
    "    return [LaneTag(6,1), LaneTag(13, 1), LaneTag(2,1)]\n",
    "end\n",
    "\n",
    "function get_ego_states(pomdp::UrbanPOMDP, pos_res::Float64, v_res::Float64)\n",
    "    states_vec = VehicleState[]\n",
    "    for lane in get_ego_route(pomdp)\n",
    "        discrete_lane = get_discretized_lane(lane, pomdp.env.roadway, pos_res)\n",
    "        v_space = get_car_vspace(pomdp, v_res)\n",
    "        for v in v_space\n",
    "            for s in discrete_lane\n",
    "                ego = VehicleState(Frenet(pomdp.env.roadway[lane], s), pomdp.env.roadway, v)\n",
    "                push!(states_vec, ego)\n",
    "            end\n",
    "        end\n",
    "    end\n",
    "    return states_vec\n",
    "end\n",
    "\n",
    "# enumerate pedestrian state space\n",
    "function get_ped_lanes(pomdp::UrbanPOMDP)\n",
    "    return [LaneTag(17, 1), LaneTag(18, 1), LaneTag(19, 1)]\n",
    "end\n",
    "\n",
    "function get_ped_states(pomdp::UrbanPOMDP, pos_res::Float64, v_res::Float64)\n",
    "    states_vec = VehicleState[]\n",
    "    for lane in get_ped_lanes(pomdp::UrbanPOMDP)\n",
    "        discrete_lane = get_discretized_lane(lane, pomdp.env.roadway, pos_res)\n",
    "        v_space = get_ped_vspace(pomdp, v_res)\n",
    "        for v in v_space\n",
    "            for s in discrete_lane\n",
    "                ped = VehicleState(Frenet(pomdp.env.roadway[lane], s), pomdp.env.roadway, v)\n",
    "                push!(states_vec, ped)\n",
    "            end\n",
    "        end\n",
    "    end\n",
    "    return states_vec\n",
    "end\n",
    "\n",
    "# enumerate other car state space \n",
    "function get_car_lanes(pomdp::UrbanPOMDP)\n",
    "    lanes = get_lanes(pomdp.env.roadway)\n",
    "    car_lanes = LaneTag[]\n",
    "    for lane in lanes\n",
    "        if !(lane.tag ∈ get_ego_route(pomdp)) && !(lane.tag ∈ get_ped_lanes(pomdp))\n",
    "            push!(car_lanes, lane.tag)\n",
    "        end\n",
    "    end\n",
    "    return car_lanes\n",
    "end\n",
    "\n",
    "function get_car_states(pomdp::UrbanPOMDP, pos_res::Float64, v_res::Float64)\n",
    "    states_vec = VehicleState[]\n",
    "    for lane in get_car_lanes(pomdp::UrbanPOMDP)\n",
    "        discrete_lane = get_discretized_lane(lane, pomdp.env.roadway, pos_res)\n",
    "        v_space = get_car_vspace(pomdp, v_res)\n",
    "        for v in v_space\n",
    "            for s in discrete_lane\n",
    "                car = VehicleState(Frenet(pomdp.env.roadway[lane], s), pomdp.env.roadway, v)\n",
    "                push!(states_vec, car)\n",
    "            end\n",
    "        end\n",
    "    end\n",
    "    return states_vec\n",
    "end\n",
    "            \n",
    "\n",
    "\n",
    "# count state space\n",
    "function n_ego_states(pomdp::UrbanPOMDP, pos_res::Float64, v_res::Float64)\n",
    "    N = 0\n",
    "    nv = length(get_car_vspace(pomdp, v_res))\n",
    "    for lane in get_ego_route(pomdp)\n",
    "        N += nv * length(get_discretized_lane(lane, pomdp.env.roadway, pos_res))\n",
    "    end\n",
    "    return N\n",
    "end\n",
    "\n",
    "function n_ped_states(pomdp::UrbanPOMDP, pos_res::Float64, v_res::Float64)\n",
    "    N = 0\n",
    "    nv = length(get_ped_vspace(pomdp, v_res))\n",
    "    for lane in get_ped_lanes(pomdp)\n",
    "        N += nv * length(get_discretized_lane(lane, pomdp.env.roadway, pos_res))\n",
    "    end\n",
    "    return N\n",
    "end\n",
    "\n",
    "function n_car_states(pomdp::UrbanPOMDP, pos_res::Float64, v_res::Float64)\n",
    "    N = 0\n",
    "    nv = length(get_car_vspace(pomdp, v_res))\n",
    "    for lane in get_car_lanes(pomdp)\n",
    "        N += nv * length(get_discretized_lane(lane, pomdp.env.roadway, pos_res))\n",
    "    end\n",
    "    return N\n",
    "end\n",
    "\n",
    "function n_states(pomdp::UrbanPOMDP)\n",
    "    n_ego = n_ego_states(pomdp, pos_res, v_res)\n",
    "    n_car = n_car_states(pomdp, pos_res, v_res)\n",
    "    n_ped = n_ped_states(pomdp, pos_res, v_ped_res)\n",
    "    return n_ego*n_car*n_ped\n",
    "end\n",
    "\n",
    "# state indexing!\n",
    "\n",
    "\n",
    "# transition as SparseCat?\n",
    "# ego transition is known\n",
    "# crash states are terminal\n",
    "# goal states are terminal\n",
    "        "
   ]
  },
  {
   "cell_type": "code",
   "execution_count": 18,
   "metadata": {},
   "outputs": [
    {
     "ename": "LoadError",
     "evalue": "\u001b[91msyntax: incomplete: \"function\" at In[18]:8 requires end\u001b[39m",
     "output_type": "error",
     "traceback": [
      "\u001b[91msyntax: incomplete: \"function\" at In[18]:8 requires end\u001b[39m",
      "",
      "Stacktrace:",
      " [1] \u001b[1minclude_string\u001b[22m\u001b[22m\u001b[1m(\u001b[22m\u001b[22m::String, ::String\u001b[1m)\u001b[22m\u001b[22m at \u001b[1m./loading.jl:522\u001b[22m\u001b[22m"
     ]
    }
   ],
   "source": [
    "# enumerate full state space\n",
    "struct ExplicitUrbanState\n",
    "    ego::VehicleState\n",
    "    car::VehicleState\n",
    "    ped::VehicleState\n",
    "end\n",
    "\n",
    "function POMDPs.states(pomdp::UrbanPOMDP)\n",
    "    state_space = ExplicitUrbanState[]\n",
    "    sizehint!(state_space, n_states(pomdp))\n",
    "    for ego in get_ego_states(pomdp, pos_res, v_res)\n",
    "    \n",
    "end\n"
   ]
  },
  {
   "cell_type": "code",
   "execution_count": 19,
   "metadata": {},
   "outputs": [
    {
     "ename": "LoadError",
     "evalue": "\u001b[91mUndefVarError: pos_res not defined\u001b[39m",
     "output_type": "error",
     "traceback": [
      "\u001b[91mUndefVarError: pos_res not defined\u001b[39m",
      "",
      "Stacktrace:",
      " [1] \u001b[1minclude_string\u001b[22m\u001b[22m\u001b[1m(\u001b[22m\u001b[22m::String, ::String\u001b[1m)\u001b[22m\u001b[22m at \u001b[1m./loading.jl:522\u001b[22m\u001b[22m"
     ]
    }
   ],
   "source": [
    "n_ego_states(pomdp, pos_res, v_res)"
   ]
  },
  {
   "cell_type": "code",
   "execution_count": 20,
   "metadata": {},
   "outputs": [
    {
     "ename": "LoadError",
     "evalue": "\u001b[91mMethodError: no method matching states(::AutomotivePOMDPs.UrbanPOMDP)\u001b[0m\nClosest candidates are:\n  states(::Union{POMDPs.MDP, POMDPs.POMDP}, \u001b[91m::Any\u001b[39m) at /mnt/c/Users/Maxime/wsl/.julia/v0.6/POMDPs/src/space.jl:26\n  states(\u001b[91m::PedMDP\u001b[39m) at /mnt/c/Users/Maxime/OneDrive - Leland Stanford Junior University/Research/safe-rl/mdp_models/pedestrian_mdp/state_space.jl:12\n  states(\u001b[91m::AutomotivePOMDPs.SingleOIPOMDP\u001b[39m) at /mnt/c/Users/Maxime/OneDrive - Leland Stanford Junior University/Research/AutomotivePOMDPs/single_intersection/spaces.jl:4\n  ...\u001b[39m",
     "output_type": "error",
     "traceback": [
      "\u001b[91mMethodError: no method matching states(::AutomotivePOMDPs.UrbanPOMDP)\u001b[0m\nClosest candidates are:\n  states(::Union{POMDPs.MDP, POMDPs.POMDP}, \u001b[91m::Any\u001b[39m) at /mnt/c/Users/Maxime/wsl/.julia/v0.6/POMDPs/src/space.jl:26\n  states(\u001b[91m::PedMDP\u001b[39m) at /mnt/c/Users/Maxime/OneDrive - Leland Stanford Junior University/Research/safe-rl/mdp_models/pedestrian_mdp/state_space.jl:12\n  states(\u001b[91m::AutomotivePOMDPs.SingleOIPOMDP\u001b[39m) at /mnt/c/Users/Maxime/OneDrive - Leland Stanford Junior University/Research/AutomotivePOMDPs/single_intersection/spaces.jl:4\n  ...\u001b[39m",
      "",
      "Stacktrace:",
      " [1] \u001b[1minclude_string\u001b[22m\u001b[22m\u001b[1m(\u001b[22m\u001b[22m::String, ::String\u001b[1m)\u001b[22m\u001b[22m at \u001b[1m./loading.jl:522\u001b[22m\u001b[22m"
     ]
    }
   ],
   "source": [
    "pos_res = 3.0\n",
    "v_res = 2.0\n",
    "v_ped_res = 1.0\n",
    "ego_states = get_ego_states(pomdp, pos_res,  v_res);\n",
    "ped_states = get_ped_states(pomdp, pos_res, v_ped_res);\n",
    "car_states = get_car_states(pomdp, pos_res, v_res)\n",
    "\n",
    "@assert length(ego_states) == n_ego_states(pomdp, pos_res, v_res)\n",
    "@assert length(car_states) == n_car_states(pomdp, pos_res, v_res)\n",
    "@assert length(ped_states) == n_ped_states(pomdp, pos_res, v_ped_res)\n",
    "@assert length(states(pomdp)) == n_states(pomdp)\n",
    "\n",
    "println(\"# of ego car states: $(length(ego_states))\")\n",
    "println(\"# of pedestrian states: $(length(ped_states))\")\n",
    "println(\"# of other car states: $(length(car_states))\")\n",
    "println(\"size of the states space $(length(ego_states)*length(ped_states)*length(car_states))\")"
   ]
  },
  {
   "cell_type": "code",
   "execution_count": 21,
   "metadata": {},
   "outputs": [
    {
     "data": {
      "text/plain": [
       "0.0:3.0:24.0"
      ]
     },
     "execution_count": 21,
     "metadata": {},
     "output_type": "execute_result"
    }
   ],
   "source": [
    "l_space = get_discretized_lane(LaneTag(2,1), env.roadway, 3.0)"
   ]
  },
  {
   "cell_type": "code",
   "execution_count": 22,
   "metadata": {},
   "outputs": [
    {
     "data": {
      "text/plain": [
       "8-element Array{Symbol,1}:\n",
       " :tag           \n",
       " :curve         \n",
       " :width         \n",
       " :speed_limit   \n",
       " :boundary_left \n",
       " :boundary_right\n",
       " :exits         \n",
       " :entrances     "
      ]
     },
     "execution_count": 22,
     "metadata": {},
     "output_type": "execute_result"
    }
   ],
   "source": [
    "fieldnames(Lane)"
   ]
  },
  {
   "cell_type": "code",
   "execution_count": 23,
   "metadata": {},
   "outputs": [
    {
     "data": {
      "image/png": "[encoded data removed]",
      "text/plain": [
       "Cairo.CairoSurface{UInt32}(Ptr{Void} @0x00000000058e57c0, 1000.0, 600.0, #undef)"
      ]
     },
     "execution_count": 23,
     "metadata": {},
     "output_type": "execute_result"
    }
   ],
   "source": [
    "type LaneOverlay <: SceneOverlay\n",
    "    lane::Lane\n",
    "    color::Colorant\n",
    "end\n",
    "function AutoViz.render!(rendermodel::RenderModel, overlay::LaneOverlay, scene::Scene, roadway::Roadway)\n",
    "    render!(rendermodel, overlay.lane, roadway, color_asphalt=overlay.color)\n",
    "    return rendermodel\n",
    "end\n",
    "\n",
    "@with_kw struct DiscreteLaneOverlay <: SceneOverlay\n",
    "    lane::Lane\n",
    "    color::Colorant = RGBA(0.0,0.0,1.0,0.5)\n",
    "    pos_res::Float64 = 3.0\n",
    "end\n",
    "\n",
    "function render_grid_cell(    \n",
    "    ctx           :: CairoContext,\n",
    "    x             :: Real,\n",
    "    y             :: Real,\n",
    "    theta         :: Real,\n",
    "    width         :: Real,\n",
    "    height        :: Real,\n",
    "    color_fill    :: Colorant,\n",
    "    aspect        :: Real = 1.0,\n",
    "    corner_radius :: Real = 0.1,\n",
    "    color_stroke  :: Colorant    = color_fill,\n",
    "    line_width    :: Real        = 0.5)\n",
    "    save(ctx)\n",
    "\n",
    "    translate(ctx, x, y)\n",
    "    rotate(ctx, theta)\n",
    "\n",
    "    render_round_rect(ctx, 0, 0, height, width, aspect, corner_radius, color_fill, false, true, color_stroke, line_width)\n",
    "    restore(ctx)\n",
    "end\n",
    "\n",
    "function AutoViz.render!(rendermodel::RenderModel, overlay::DiscreteLaneOverlay, scene::Scene, roadway::Roadway)\n",
    "    discrete_lane = get_discretized_lane(overlay.lane.tag, roadway, overlay.pos_res)\n",
    "    for s in discrete_lane\n",
    "        posF = Frenet(overlay.lane, s)\n",
    "        posG = get_posG(posF, roadway)\n",
    "        add_instruction!(rendermodel, \n",
    "                         render_grid_cell, \n",
    "                         (posG.x, posG.y, posG.θ, overlay.pos_res,overlay.lane.width, overlay.color),\n",
    "                         incameraframe=true) \n",
    "    end\n",
    "    return rendermodel\n",
    "end\n",
    "\n",
    "@with_kw struct GridOverlay <: SceneOverlay\n",
    "    color::Colorant = RGBA(0.0,0.0,1.0,0.5)\n",
    "    pos_res::Float64 = 3.0\n",
    "end\n",
    "\n",
    "function AutoViz.render!(rendermodel::RenderModel, overlay::GridOverlay, scene::Scene, roadway::Roadway)\n",
    "    lanes = get_lanes(roadway)\n",
    "    \n",
    "    for lane in lanes\n",
    "        discrete_lane_overlay = DiscreteLaneOverlay(lane, overlay.color, overlay.pos_res)\n",
    "        AutoViz.render!(rendermodel, discrete_lane_overlay, scene, roadway)\n",
    "    end\n",
    "    return rendermodel\n",
    "end\n",
    "\n",
    "\n",
    "render(Scene(), env.roadway, [DiscreteLaneOverlay(lane=env.roadway[LaneTag(1,1)]),\n",
    "                              DiscreteLaneOverlay(lane=env.roadway[LaneTag(6,1)]) ], cam=FitToContentCamera(0.))\n",
    "# render(Scene(), env.roadway, [GridOverlay()], cam=FitToContentCamera(0.))"
   ]
  },
  {
   "cell_type": "code",
   "execution_count": 24,
   "metadata": {},
   "outputs": [
    {
     "data": {
      "image/png": "[encoded data removed]",
      "text/plain": [
       "Cairo.CairoSurface{UInt32}(Ptr{Void} @0x0000000005cae690, 1000.0, 600.0, #undef)"
      ]
     },
     "execution_count": 24,
     "metadata": {},
     "output_type": "execute_result"
    }
   ],
   "source": [
    "render(Scene(), env.roadway, [LaneOverlay(env.roadway[LaneTag(16,1)], RGBA(0.0,0.0,1.0,0.5))], cam=FitToContentCamera(0.))"
   ]
  },
  {
   "cell_type": "code",
   "execution_count": null,
   "metadata": {
    "collapsed": true
   },
   "outputs": [],
   "source": []
  }
 ],
 "metadata": {
  "kernelspec": {
   "display_name": "Julia 0.6.1",
   "language": "julia",
   "name": "julia-0.6"
  },
  "language_info": {
   "file_extension": ".jl",
   "mimetype": "application/julia",
   "name": "julia",
   "version": "0.6.1"
  }
 },
 "nbformat": 4,
 "nbformat_minor": 2
}
