{
 "cells": [
  {
   "cell_type": "markdown",
   "metadata": {},
   "source": [
    "# Visualize RNN Prediction"
   ]
  },
  {
   "cell_type": "code",
   "execution_count": 1,
   "metadata": {},
   "outputs": [
    {
     "name": "stdout",
     "output_type": "stream",
     "text": [
      "loaded\n"
     ]
    },
    {
     "name": "stderr",
     "output_type": "stream",
     "text": [
      "┌ Info: Recompiling stale cache file /mnt/c/Users/Maxime/wsl/.julia/compiled/v1.0/PedCar/NmDDZ.ji for PedCar [90cf7f26-d5c7-593d-a0e1-4a8367407571]\n",
      "└ @ Base loading.jl:1184\n",
      "┌ Warning: Package PedCar does not have AutomotivePOMDPs in its dependencies:\n",
      "│ - If you have PedCar checked out for development and have\n",
      "│   added AutomotivePOMDPs as a dependency but haven't updated your primary\n",
      "│   environment's manifest file, try `Pkg.resolve()`.\n",
      "│ - Otherwise you may need to report an issue with PedCar\n",
      "└ Loading AutomotivePOMDPs into PedCar from project dependency, future warnings for PedCar are suppressed.\n"
     ]
    }
   ],
   "source": [
    "using Revise\n",
    "using Flux\n",
    "using Random\n",
    "using StaticArrays\n",
    "using ProgressMeter\n",
    "using POMDPs\n",
    "using POMDPModelTools\n",
    "using POMDPPolicies\n",
    "using POMDPSimulators\n",
    "using AutomotiveDrivingModels\n",
    "using AutoViz\n",
    "using AutomotivePOMDPs\n",
    "using AutomotiveSensors\n",
    "using PedCar\n",
    "using Reel\n",
    "using FileIO\n",
    "using BSON\n",
    "using BSON: @load\n",
    "includet(\"RNNFiltering.jl\")\n",
    "using Main.RNNFiltering"
   ]
  },
  {
   "cell_type": "code",
   "execution_count": 2,
   "metadata": {},
   "outputs": [],
   "source": [
    "cam = FitToContentCamera(0.)\n",
    "rng = MersenneTwister(1);"
   ]
  },
  {
   "cell_type": "markdown",
   "metadata": {},
   "source": [
    "**environment**"
   ]
  },
  {
   "cell_type": "code",
   "execution_count": 3,
   "metadata": {},
   "outputs": [
    {
     "name": "stderr",
     "output_type": "stream",
     "text": [
      "WARNING: both FileIO and AutoViz export \"save\"; uses of it in module Main must be qualified\n",
      "WARNING: both AutomotivePOMDPs and POMDPModelTools export \"obs_weight\"; uses of it in module Main must be qualified\n",
      "WARNING: both AutoViz and POMDPModelTools export \"render\"; uses of it in module Main must be qualified\n",
      "WARNING: both Cairo and AutomotiveDrivingModels export \"scale\"; uses of it in module AutoViz must be qualified\n",
      "WARNING: both AutomotiveDrivingModels and POMDPs export \"action_type\"; uses of it in module Main must be qualified\n",
      "WARNING: both AutomotiveDrivingModels and Flux export \"params\"; uses of it in module Main must be qualified\n",
      "WARNING: both AutomotiveDrivingModels and ProgressMeter export \"update!\"; uses of it in module Main must be qualified\n"
     ]
    }
   ],
   "source": [
    "mdp = PedCarMDP(pos_res=2.0, vel_res=2., ped_birth=0.7, car_birth=0.7)\n",
    "pomdp = UrbanPOMDP(env=mdp.env,\n",
    "                    sensor = GaussianSensor(false_positive_rate=0.0, \n",
    "                                            pos_noise = LinearNoise(min_noise=0.5, increase_rate=0.05), \n",
    "                                            vel_noise = LinearNoise(min_noise=0.5, increase_rate=0.05)),\n",
    "                   ego_goal = LaneTag(2, 1),\n",
    "                     obs_dist = ObstacleDistribution(mdp.env, upper_obs_pres_prob=0., left_obs_pres_prob=1.0, right_obs_pres_prob=1.0),\n",
    "                   max_cars=2, \n",
    "                   max_peds=2, \n",
    "                   car_birth=0.05, \n",
    "                   ped_birth=0.05, \n",
    "                   max_obstacles=1, # no fixed obstacles\n",
    "                   lidar=false,\n",
    "                   ego_start=20,\n",
    "                   ΔT=0.1)\n",
    ";"
   ]
  },
  {
   "cell_type": "code",
   "execution_count": null,
   "metadata": {},
   "outputs": [],
   "source": [
    "\n"
   ]
  },
  {
   "cell_type": "code",
   "execution_count": 5,
   "metadata": {},
   "outputs": [],
   "source": [
    "# input_length = n_dims(pomdp)\n",
    "# output_length = n_dims(pomdp)\n",
    "# model = Chain(LSTM(input_length, 128),\n",
    "#               Dense(128, output_length))"
   ]
  },
  {
   "cell_type": "code",
   "execution_count": 6,
   "metadata": {},
   "outputs": [],
   "source": [
    "# function RNNFiltering.process_prediction(pomdp::UrbanPOMDP, b::Vector{Float64}, o::Vector{Float64})\n",
    "#     n_features = 4\n",
    "#     n_obstacles = pomdp.max_obstacles\n",
    "#     b_ = zeros(length(o)) # should be 12 + obstacles\n",
    "#     b_[1:4] = o[1:4] # ego state fully observable\n",
    "#     # get car state from b\n",
    "#     car_presence = b[5]\n",
    "#     if rand() < car_presence \n",
    "#         b_[n_features+1:2*n_features] = b[1:4]\n",
    "#     else\n",
    "#         # absent\n",
    "#         b_[n_features+1:2*n_features] = RNNFiltering.normalized_off_the_grid_pos(pomdp, o[1], o[2])\n",
    "#     end\n",
    "    \n",
    "#     # get ped state from b \n",
    "#     ped_presence = b[10]\n",
    "#     if rand() < ped_presence # softmax \n",
    "#         b_[2*n_features+1:3*n_features] = b[6:9]\n",
    "#     else\n",
    "#         # absent \n",
    "#         b_[2*n_features+1:3*n_features] = RNNFiltering.normalized_off_the_grid_pos(pomdp, o[1], o[2])\n",
    "#     end\n",
    "            \n",
    "#     b_[end - n_features*n_obstacles + 1:end] = o[end - n_features*n_obstacles + 1:end]\n",
    "#     return b_\n",
    "# end"
   ]
  },
  {
   "cell_type": "markdown",
   "metadata": {},
   "source": [
    "## 2-agents tracking"
   ]
  },
  {
   "cell_type": "code",
   "execution_count": 4,
   "metadata": {},
   "outputs": [],
   "source": [
    "n_models = 5\n",
    "models = Vector{Chain}(undef, n_models)\n",
    "for i=1:n_models\n",
    "    models[i] = BSON.load(\"model_$(i)0.bson\")[:model] \n",
    "end\n"
   ]
  },
  {
   "cell_type": "code",
   "execution_count": 14,
   "metadata": {},
   "outputs": [
    {
     "name": "stdout",
     "output_type": "stream",
     "text": [
      "  0.602603 seconds (547.05 k allocations: 75.853 MiB, 13.93% gc time)\n"
     ]
    }
   ],
   "source": [
    "n_steps = 400\n",
    "belief_history = Vector{Vector{Float64}}[]\n",
    "state_history = Scene[]\n",
    "obs_history = Vector{Float64}[]\n",
    "presence_history = Tuple{Float64, Float64}[]\n",
    "s = initialstate(pomdp, rng)\n",
    "for m in models\n",
    "    Flux.reset!(m)\n",
    "end\n",
    "@time for i=1:n_steps\n",
    "    global s\n",
    "    if isterminal(pomdp, s)\n",
    "        break \n",
    "    end\n",
    "    push!(state_history, s)\n",
    "    a = UrbanAction(0.)\n",
    "    o = generate_o(pomdp, s, a, s, rng)\n",
    "    beliefs = Vector{Vector{Float64}}(undef, n_models)\n",
    "    car_pres, ped_pres = 0., 0.\n",
    "    for i=1:n_models       \n",
    "        pred = models[i](o).data\n",
    "        car_pres += pred[5]\n",
    "        ped_pres += pred[10]\n",
    "        b_, _ = RNNFiltering.process_prediction(pomdp, pred, o, 0.5)\n",
    "        beliefs[i] = b_\n",
    "    end\n",
    "    push!(presence_history, (car_pres/n_models, ped_pres/n_models))\n",
    "    push!(belief_history, beliefs)\n",
    "    push!(obs_history, o)\n",
    "    sp = generate_s(pomdp, s, a, rng)\n",
    "    s = sp\n",
    "end\n"
   ]
  },
  {
   "cell_type": "code",
   "execution_count": 15,
   "metadata": {
    "scrolled": false
   },
   "outputs": [
    {
     "data": {
      "text/html": [
       "<video autoplay controls><source src=\"files/reel-16914548689678614150.webm?3854092693055257050\" type=\"video/webm\"></video>"
      ],
      "text/plain": [
       "Frames{MIME{Symbol(\"image/png\")}}(\"/tmp/tmpxCrds3\", 0x0000000000000190, 20.0, nothing)"
      ]
     },
     "execution_count": 15,
     "metadata": {},
     "output_type": "execute_result"
    }
   ],
   "source": [
    "duration, fps, render_hist = animate_scenes(state_history, obs_history, belief_history, presence_history, pomdp, sim_dt=pomdp.ΔT)\n",
    "speed_factor = 2\n",
    "film = roll(render_hist, fps = speed_factor*fps, duration = duration/speed_factor)"
   ]
  },
  {
   "cell_type": "code",
   "execution_count": 11,
   "metadata": {},
   "outputs": [],
   "source": [
    "function AutomotivePOMDPs.animate_scenes(scenes::Vector{Scene}, \n",
    "                                         observations::Vector{Vector{Float64}}, \n",
    "                                         beliefs::Vector{Vector{Vector{Float64}}}, \n",
    "                                         presences::Vector{Tuple{Float64, Float64}},\n",
    "                                         pomdp::UrbanPOMDP;\n",
    "                                         sim_dt = 0.1,\n",
    "                                         cam = StaticCamera(VecE2(0., -8.), 16.0))\n",
    "    env = pomdp.env \n",
    "    duration = length(scenes)*sim_dt\n",
    "    fps = Int(1/sim_dt)\n",
    "    function render_rec(t, dt)\n",
    "        frame_index = Int(floor(t/dt)) + 1\n",
    "        overlays = SceneOverlay[IDOverlay()]\n",
    "        obs = [veh for veh in obs_to_scene(pomdp, observations[frame_index]) if veh.id != EGO_ID]\n",
    "        obs_overlay = GaussianSensorOverlay(sensor=pomdp.sensor, o=obs, color=MONOKAI[\"color2\"])\n",
    "        push!(overlays, obs_overlay)\n",
    "        occlusion_overlay = OcclusionOverlay(obstacles=mdp.env.obstacles)\n",
    "        push!(overlays, occlusion_overlay)\n",
    "        for b in beliefs[frame_index]\n",
    "            bel = [veh for veh in obs_to_scene(pomdp, b) if veh.id != EGO_ID]\n",
    "            bel_overlay = GaussianSensorOverlay(sensor=pomdp.sensor, o=bel, color=MONOKAI[\"color4\"])            \n",
    "            push!(overlays, bel_overlay)\n",
    "        end\n",
    "        push!(overlays, HistogramOverlay(pos=VecE2(-15., -20.), val=presences[frame_index][1], label=\"car\"))\n",
    "        push!(overlays, HistogramOverlay(pos=VecE2(-12., -20.), val=presences[frame_index][2], label=\"ped\"))\n",
    "        push!(overlays, TextOverlay(text=[\"Probability of presence\"], pos=VecSE2(-17,-14.), font_size=15, incameraframe=true))\n",
    "        return AutoViz.render(scenes[frame_index], env, overlays, cam=cam)\n",
    "    end\n",
    "    return duration, fps, render_rec\n",
    "end\n",
    "    \n",
    "    "
   ]
  },
  {
   "cell_type": "markdown",
   "metadata": {},
   "source": [
    "## Single Entity Tracking"
   ]
  },
  {
   "cell_type": "code",
   "execution_count": 5,
   "metadata": {},
   "outputs": [
    {
     "data": {
      "text/plain": [
       "process_single_entity_prediction (generic function with 2 methods)"
      ]
     },
     "execution_count": 5,
     "metadata": {},
     "output_type": "execute_result"
    }
   ],
   "source": [
    "function process_single_entity_prediction(pomdp::UrbanPOMDP, b::Vector{Float64}, o::Vector{Float64}, pres_threshold::Float64=0.5)\n",
    "    n_features = pomdp.n_features\n",
    "    b_ = zeros(3*n_features) # should be 8 + obstacles\n",
    "    b_[1:4] = o[1:4] # ego state fully observable\n",
    "    # get car state from b\n",
    "    car_presence = b[5]\n",
    "    if rand() <  car_presence && (pres_threshold < car_presence)\n",
    "        b_[n_features+1:2*n_features] = b[1:4]\n",
    "    else\n",
    "        # absent\n",
    "        b_[n_features+1:2*n_features] = normalized_off_the_grid_pos(pomdp, o[1], o[2])\n",
    "    end\n",
    "    b_[2*n_features + 1:end] = o[end - n_features+1:end]\n",
    "    return b_\n",
    "end"
   ]
  },
  {
   "cell_type": "code",
   "execution_count": 6,
   "metadata": {},
   "outputs": [
    {
     "data": {
      "text/plain": [
       "1"
      ]
     },
     "execution_count": 6,
     "metadata": {},
     "output_type": "execute_result"
    }
   ],
   "source": [
    "car_pomdp = deepcopy(pomdp)\n",
    "car_pomdp.max_peds = 0\n",
    "ped_pomdp = deepcopy(pomdp)\n",
    "ped_pomdp.max_cars = 0\n",
    "pedcar_pomdp = deepcopy(pomdp)\n",
    "pedcar_pomdp.max_peds = 1\n",
    "pedcar_pomdp.max_cars = 1\n",
    "pedcar_pomdp.max_obstacles = 1"
   ]
  },
  {
   "cell_type": "code",
   "execution_count": 7,
   "metadata": {},
   "outputs": [
    {
     "data": {
      "text/plain": [
       "0.3"
      ]
     },
     "execution_count": 7,
     "metadata": {},
     "output_type": "execute_result"
    }
   ],
   "source": [
    "n_models = 5\n",
    "car_models = Vector{Chain}(undef, n_models)\n",
    "ped_models = Vector{Chain}(undef, n_models)\n",
    "for i=1:n_models\n",
    "    car_models[i] = BSON.load(\"model_car_$i.bson\")[:model] \n",
    "    Flux.loadparams!(car_models[i], BSON.load(\"weights_car_$i.bson\")[:weights])\n",
    "    ped_models[i] = BSON.load(\"model_ped_$i.bson\")[:model]\n",
    "    Flux.loadparams!(ped_models[i], BSON.load(\"weights_ped_$i.bson\")[:weights])\n",
    "end\n",
    "pres_threshold = 0.3"
   ]
  },
  {
   "cell_type": "code",
   "execution_count": 8,
   "metadata": {},
   "outputs": [
    {
     "name": "stdout",
     "output_type": "stream",
     "text": [
      " 10.163565 seconds (7.68 M allocations: 484.354 MiB, 4.93% gc time)\n"
     ]
    }
   ],
   "source": [
    "n_steps = 400\n",
    "pres_threshold = 0.5\n",
    "belief_history = Vector{Tuple{Vector{Float64},Vector{Float64}}}[]\n",
    "state_history = Scene[]\n",
    "obs_history = Vector{Float64}[]\n",
    "presence_history = Tuple{Float64, Float64}[]\n",
    "s = initialstate(pomdp, rng)\n",
    "for (cm, pm) in zip(car_models, ped_models)\n",
    "    Flux.reset!(cm)\n",
    "    Flux.reset!(pm)\n",
    "end\n",
    "@time for i=1:n_steps\n",
    "    global s\n",
    "    if isterminal(pomdp, s)\n",
    "        break \n",
    "    end\n",
    "    push!(state_history, s)\n",
    "    a = UrbanAction(0.)\n",
    "    o = generate_o(pomdp, s, a, s, rng)\n",
    "    ego, car_map, ped_map, obs_map = split_o(o, pomdp)\n",
    "    beliefs = Vector{Tuple{Vector{Float64},Vector{Float64}}}(undef, n_models)\n",
    "    car_pres, ped_pres = 0., 0.\n",
    "    for i=1:n_models       \n",
    "        if haskey(car_map, CAR_ID)\n",
    "            car_o = car_map[CAR_ID]\n",
    "        else\n",
    "            car_o = normalized_off_the_grid_pos(pomdp, o[1], o[2])\n",
    "        end\n",
    "        if haskey(ped_map, PED_ID)\n",
    "            ped_o = ped_map[PED_ID]\n",
    "        else\n",
    "            ped_o = normalized_off_the_grid_pos(pomdp, o[1], o[2])\n",
    "        end\n",
    "        car_pred = car_models[i](vcat(ego, car_o, obs_map[1])).data\n",
    "        ped_pred = ped_models[i](vcat(ego, ped_o, obs_map[1])).data\n",
    "        car_pres += car_pred[5]\n",
    "        ped_pres += ped_pred[5]\n",
    "        car_ = process_single_entity_prediction(car_pomdp, car_pred, o, pres_threshold)\n",
    "        ped_ = process_single_entity_prediction(ped_pomdp, ped_pred, o, pres_threshold)\n",
    "        beliefs[i] = (car_, ped_)\n",
    "    end\n",
    "    push!(presence_history, (car_pres/n_models, ped_pres/n_models))\n",
    "    push!(belief_history, beliefs)\n",
    "    push!(obs_history, o)\n",
    "    sp = generate_s(pomdp, s, a, rng)\n",
    "    s = sp\n",
    "end"
   ]
  },
  {
   "cell_type": "code",
   "execution_count": 9,
   "metadata": {},
   "outputs": [
    {
     "ename": "MethodError",
     "evalue": "MethodError: no method matching animate_scenes(::Array{Frame{Entity{VehicleState,VehicleDef,Int64}},1}, ::Array{Array{Float64,1},1}, ::Array{Array{Tuple{Array{Float64,1},Array{Float64,1}},1},1}, ::Array{Tuple{Float64,Float64},1}, ::UrbanPOMDP; sim_dt=0.1)\nClosest candidates are:\n  animate_scenes(::Array{Frame{Entity{VehicleState,VehicleDef,Int64}},1}, !Matched::Array{Float64,1}, ::Any, !Matched::DecomposedPolicy, ::Any; overlays, cam, sim_dt) at /home/maxime/Maxime/OneDrive - Leland Stanford Junior University/Research/AutomotivePOMDPs/src/decomposition/rendering.jl:73\n  animate_scenes(::Array{Frame{Entity{VehicleState,VehicleDef,Int64}},1}, !Matched::Array{Float64,1}, ::Any; overlays, cam, sim_dt) at /home/maxime/Maxime/OneDrive - Leland Stanford Junior University/Research/AutomotivePOMDPs/src/utils/rendering.jl:53\n  animate_scenes(::Array{Frame{Entity{VehicleState,VehicleDef,Int64}},1}, ::Any; overlays, cam, sim_dt) at /home/maxime/Maxime/OneDrive - Leland Stanford Junior University/Research/AutomotivePOMDPs/src/utils/rendering.jl:32\n  ...",
     "output_type": "error",
     "traceback": [
      "MethodError: no method matching animate_scenes(::Array{Frame{Entity{VehicleState,VehicleDef,Int64}},1}, ::Array{Array{Float64,1},1}, ::Array{Array{Tuple{Array{Float64,1},Array{Float64,1}},1},1}, ::Array{Tuple{Float64,Float64},1}, ::UrbanPOMDP; sim_dt=0.1)\nClosest candidates are:\n  animate_scenes(::Array{Frame{Entity{VehicleState,VehicleDef,Int64}},1}, !Matched::Array{Float64,1}, ::Any, !Matched::DecomposedPolicy, ::Any; overlays, cam, sim_dt) at /home/maxime/Maxime/OneDrive - Leland Stanford Junior University/Research/AutomotivePOMDPs/src/decomposition/rendering.jl:73\n  animate_scenes(::Array{Frame{Entity{VehicleState,VehicleDef,Int64}},1}, !Matched::Array{Float64,1}, ::Any; overlays, cam, sim_dt) at /home/maxime/Maxime/OneDrive - Leland Stanford Junior University/Research/AutomotivePOMDPs/src/utils/rendering.jl:53\n  animate_scenes(::Array{Frame{Entity{VehicleState,VehicleDef,Int64}},1}, ::Any; overlays, cam, sim_dt) at /home/maxime/Maxime/OneDrive - Leland Stanford Junior University/Research/AutomotivePOMDPs/src/utils/rendering.jl:32\n  ...",
      "",
      "Stacktrace:",
      " [1] top-level scope at In[9]:1"
     ]
    }
   ],
   "source": [
    "duration, fps, render_hist = animate_scenes(state_history, obs_history, belief_history, presence_history, pomdp, sim_dt=pomdp.ΔT)\n",
    "speed_factor = 2\n",
    "film = roll(render_hist, fps = speed_factor*fps, duration = duration/speed_factor)"
   ]
  },
  {
   "cell_type": "code",
   "execution_count": 10,
   "metadata": {},
   "outputs": [],
   "source": [
    "function AutomotivePOMDPs.animate_scenes(scenes::Vector{Scene}, \n",
    "                                         observations::Vector{Vector{Float64}}, \n",
    "                                         beliefs::Vector{Vector{Tuple{Vector{Float64},Vector{Float64}}}}, \n",
    "                                         presences::Vector{Tuple{Float64, Float64}},\n",
    "                                         pomdp::UrbanPOMDP;\n",
    "                                         sim_dt = 0.1,\n",
    "                                         cam = StaticCamera(VecE2(0., -8.), 16.0))\n",
    "    env = pomdp.env \n",
    "    duration = length(scenes)*sim_dt\n",
    "    fps = Int(1/sim_dt)\n",
    "    function render_rec(t, dt)\n",
    "        frame_index = Int(floor(t/dt)) + 1\n",
    "        overlays = SceneOverlay[IDOverlay()]\n",
    "        obs = [veh for veh in obs_to_scene(pomdp, observations[frame_index]) if veh.id != EGO_ID]\n",
    "        obs_overlay = GaussianSensorOverlay(sensor=pomdp.sensor, o=obs, color=MONOKAI[\"color2\"])\n",
    "        push!(overlays, obs_overlay)\n",
    "        occlusion_overlay = OcclusionOverlay(obstacles=mdp.env.obstacles)\n",
    "        push!(overlays, occlusion_overlay)\n",
    "        for (cb, pb) in beliefs[frame_index]\n",
    "            cb_ = [veh for veh in obs_to_scene(car_pomdp, cb) if veh.id != EGO_ID]\n",
    "            pb_ = [veh for veh in obs_to_scene(ped_pomdp, pb) if veh.id != EGO_ID]\n",
    "            cbel_overlay = GaussianSensorOverlay(sensor=pomdp.sensor, o=cb_, color=MONOKAI[\"color4\"])            \n",
    "            push!(overlays, cbel_overlay)\n",
    "            pbel_overlay = GaussianSensorOverlay(sensor=pomdp.sensor, o=pb_, color=MONOKAI[\"color4\"])            \n",
    "            push!(overlays, pbel_overlay)\n",
    "        end\n",
    "        push!(overlays, HistogramOverlay(pos=VecE2(-15., -20.), val=presences[frame_index][1], label=\"car\"))\n",
    "        push!(overlays, HistogramOverlay(pos=VecE2(-12., -20.), val=presences[frame_index][2], label=\"ped\"))\n",
    "        push!(overlays, TextOverlay(text=[\"Probability of presence\"], pos=VecSE2(-17,-14.), font_size=15, incameraframe=true))\n",
    "        return AutoViz.render(scenes[frame_index], env, overlays, cam=cam)\n",
    "    end\n",
    "    return duration, fps, render_rec\n",
    "end"
   ]
  },
  {
   "cell_type": "code",
   "execution_count": 11,
   "metadata": {},
   "outputs": [],
   "source": [
    "struct SingleAgentTracker <: Updater\n",
    "    single_pomdp::UrbanPOMDP\n",
    "    models::Vector{Chain}\n",
    "    pres_threshold::Float64\n",
    "    agent_def::VehicleDef\n",
    "end\n",
    "\n",
    "struct SingleAgentBelief \n",
    "    predictions::Vector{Vector{Float64}}\n",
    "    obs::Vector{Float64}\n",
    "    single_pomdp::UrbanPOMDP\n",
    "end\n",
    "\n",
    "function POMDPs.update(up::SingleAgentTracker, bold::SingleAgentBelief, a::UrbanAction, o::Vector{Float64}) # observation should be consistent with up.pomdp\n",
    "    n_models = length(up.models)\n",
    "    predictions = Vector{Vector{Float64}}(undef, n_models)\n",
    "    for (i,m) in enumerate(up.models)\n",
    "        predictions[i] = process_single_entity_prediction(up.single_pomdp, m(o).data, o, up.pres_threshold)\n",
    "    end\n",
    "    return SingleAgentBelief(predictions, o, up.single_pomdp)        \n",
    "end\n",
    "    \n"
   ]
  },
  {
   "cell_type": "code",
   "execution_count": 12,
   "metadata": {},
   "outputs": [
    {
     "ename": "DimensionMismatch",
     "evalue": "DimensionMismatch(\"second dimension of A, 12, does not match length of x, 16\")",
     "output_type": "error",
     "traceback": [
      "DimensionMismatch(\"second dimension of A, 12, does not match length of x, 16\")",
      "",
      "Stacktrace:",
      " [1] gemv!(::Array{Float64,1}, ::Char, ::Array{Float64,2}, ::Array{Float64,1}) at /buildworker/worker/package_linux64/build/usr/share/julia/stdlib/v1.0/LinearAlgebra/src/matmul.jl:346",
      " [2] mul! at /buildworker/worker/package_linux64/build/usr/share/julia/stdlib/v1.0/LinearAlgebra/src/matmul.jl:64 [inlined]",
      " [3] * at /buildworker/worker/package_linux64/build/usr/share/julia/stdlib/v1.0/LinearAlgebra/src/matmul.jl:46 [inlined]",
      " [4] _forward at /mnt/c/Users/Maxime/wsl/.julia/packages/Flux/rcN9D/src/tracker/array.jl:327 [inlined]",
      " [5] #track#1 at /mnt/c/Users/Maxime/wsl/.julia/packages/Flux/rcN9D/src/tracker/Tracker.jl:50 [inlined]",
      " [6] track at /mnt/c/Users/Maxime/wsl/.julia/packages/Flux/rcN9D/src/tracker/Tracker.jl:50 [inlined]",
      " [7] * at /mnt/c/Users/Maxime/wsl/.julia/packages/Flux/rcN9D/src/tracker/array.jl:319 [inlined]",
      " [8] (::Flux.LSTMCell{TrackedArray{…,Array{Float64,2}},TrackedArray{…,Array{Float64,1}}})(::Tuple{TrackedArray{…,Array{Float64,1}},TrackedArray{…,Array{Float64,1}}}, ::Array{Float64,1}) at /mnt/c/Users/Maxime/wsl/.julia/packages/Flux/rcN9D/src/layers/recurrent.jl:133",
      " [9] (::Flux.Recur{Flux.LSTMCell{TrackedArray{…,Array{Float64,2}},TrackedArray{…,Array{Float64,1}}}})(::Array{Float64,1}) at /mnt/c/Users/Maxime/wsl/.julia/packages/Flux/rcN9D/src/layers/recurrent.jl:36",
      " [10] (::getfield(Flux, Symbol(\"##60#61\")))(::Array{Float64,1}, ::Flux.Recur{Flux.LSTMCell{TrackedArray{…,Array{Float64,2}},TrackedArray{…,Array{Float64,1}}}}) at /mnt/c/Users/Maxime/wsl/.julia/packages/Flux/rcN9D/src/layers/basic.jl:31",
      " [11] mapfoldl_impl(::typeof(identity), ::getfield(Flux, Symbol(\"##60#61\")), ::NamedTuple{(:init,),Tuple{Array{Float64,1}}}, ::Array{Any,1}) at ./reduce.jl:43",
      " [12] #mapfoldl#170 at ./reduce.jl:70 [inlined]",
      " [13] #mapfoldl at ./none:0 [inlined]",
      " [14] #foldl#171 at ./reduce.jl:88 [inlined]",
      " [15] #foldl at ./none:0 [inlined]",
      " [16] Chain at /mnt/c/Users/Maxime/wsl/.julia/packages/Flux/rcN9D/src/layers/basic.jl:31 [inlined]",
      " [17] update(::SingleAgentTracker, ::SingleAgentBelief, ::UrbanAction, ::Array{Float64,1}) at ./In[11]:18",
      " [18] update_info at /mnt/c/Users/Maxime/wsl/.julia/packages/POMDPModelTools/eHEjm/src/info.jl:52 [inlined]",
      " [19] simulate(::HistoryRecorder, ::UrbanPOMDP, ::FunctionPolicy{getfield(Main, Symbol(\"##17#18\"))}, ::SingleAgentTracker, ::SingleAgentBelief, ::Frame{Entity{VehicleState,VehicleDef,Int64}}) at /mnt/c/Users/Maxime/wsl/.julia/packages/POMDPSimulators/xyfJM/src/history_recorder.jl:143",
      " [20] top-level scope at util.jl:156",
      " [21] top-level scope at In[12]:6"
     ]
    }
   ],
   "source": [
    "up = SingleAgentTracker(ped_pomdp, ped_models, pres_threshold, VehicleDef())\n",
    "policy = FunctionPolicy(s -> UrbanAction(0.))\n",
    "s0 = initialstate(ped_pomdp, rng)\n",
    "b0 = SingleAgentBelief(Vector{Vector{Float64}}(undef, n_models), zeros(n_dims(pomdp)), ped_pomdp)\n",
    "hr = HistoryRecorder(max_steps=100, rng=rng)\n",
    "@time hist = simulate(hr, ped_pomdp, policy, up, b0, s0);"
   ]
  },
  {
   "cell_type": "code",
   "execution_count": 13,
   "metadata": {},
   "outputs": [
    {
     "ename": "UndefVarError",
     "evalue": "UndefVarError: animate_history not defined",
     "output_type": "error",
     "traceback": [
      "UndefVarError: animate_history not defined",
      "",
      "Stacktrace:",
      " [1] top-level scope at In[13]:1"
     ]
    }
   ],
   "source": [
    "animate_history(hist, ped_pomdp,\n",
    "                belief_overlays = b -> [SingleAgentBeliefOverlay(b)],\n",
    "                extra_overlays = [IDOverlay()])"
   ]
  },
  {
   "cell_type": "code",
   "execution_count": 14,
   "metadata": {},
   "outputs": [],
   "source": [
    "struct SingleAgentBeliefOverlay <: SceneOverlay\n",
    "    b::SingleAgentBelief\n",
    "    color::Colorant\n",
    "end\n",
    "\n",
    "SingleAgentBeliefOverlay(b::SingleAgentBelief;  color = MONOKAI[\"color4\"]) = SingleAgentBeliefOverlay(b, color)\n",
    "\n",
    "function AutoViz.render!(rendermodel::RenderModel, overlay::SingleAgentBeliefOverlay, scene::Scene, env::OccludedEnv)\n",
    "    for pred in overlay.b.predictions\n",
    "        bel = [veh for veh in obs_to_scene(overlay.b.single_pomdp, pred) if veh.id != EGO_ID]\n",
    "        AutoViz.render!(rendermodel, GaussianSensorOverlay(sensor=overlay.b.single_pomdp.sensor, o=bel, color=overlay.color), scene, env) \n",
    "    end\n",
    "end"
   ]
  },
  {
   "cell_type": "code",
   "execution_count": 15,
   "metadata": {},
   "outputs": [
    {
     "data": {
      "text/plain": [
       "animate_history (generic function with 1 method)"
      ]
     },
     "execution_count": 15,
     "metadata": {},
     "output_type": "execute_result"
    }
   ],
   "source": [
    "function animate_history(hist::POMDPHistory, pomdp::UrbanPOMDP;\n",
    "                         state_overlays= x->SceneOverlay[],\n",
    "                         action_overlays = x->SceneOverlay[],\n",
    "                         obs_overlays = x->SceneOverlay[],\n",
    "                         belief_overlays = x->SceneOverlay[],\n",
    "                         ainfo_overlays = x->SceneOverlay[],\n",
    "                         info_overlays = x->SceneOverlay[],\n",
    "                         extra_overlays = SceneOverlay[],\n",
    "                         step_overlays = x->SceneOverlay[],\n",
    "                         speed_factor::Int64 = 1,\n",
    "                         cam=FitToContentCamera(0.),\n",
    "                         sim_dt=0.1)\n",
    "    env = pomdp.env \n",
    "    duration = (length(hist.state_hist)-1)*sim_dt\n",
    "    fps = Int(1/sim_dt)\n",
    "    function render(t, dt)\n",
    "        frame_index = Int(floor(t/dt)) + 1\n",
    "        s = hist.state_hist[frame_index+1]\n",
    "        a = hist.action_hist[frame_index]\n",
    "        o = hist.observation_hist[frame_index]\n",
    "        b = hist.belief_hist[frame_index + 1]\n",
    "        ai = hist.ainfo_hist[frame_index]\n",
    "        info = hist.info_hist[frame_index]\n",
    "        overlays = SceneOverlay[]\n",
    "        push!.(Ref(overlays), state_overlays(s))\n",
    "        push!.(Ref(overlays), action_overlays(a))\n",
    "        push!.(Ref(overlays), obs_overlays(o))\n",
    "        push!.(Ref(overlays), belief_overlays(b))\n",
    "        push!.(Ref(overlays), ainfo_overlays(ai))\n",
    "        push!.(Ref(overlays), info_overlays(info))\n",
    "        push!.(Ref(overlays), extra_overlays)\n",
    "        push!.(Ref(overlays), step_overlays(frame_index))\n",
    "        AutoViz.render(s, env, overlays, cam=cam)\n",
    "    end\n",
    "    film = roll(render, fps = speed_factor*fps, duration = duration/speed_factor)\n",
    "    return film\n",
    "end"
   ]
  },
  {
   "cell_type": "markdown",
   "metadata": {},
   "source": [
    "## Tracking Multiple Targets"
   ]
  },
  {
   "cell_type": "code",
   "execution_count": 16,
   "metadata": {},
   "outputs": [],
   "source": [
    "\n",
    "struct MultipleAgentsTracker <: Updater\n",
    "    pomdp::UrbanPOMDP\n",
    "    ref_trackers::Dict{Int64, SingleAgentTracker} # bank of uninitialized tracker mapping class to reference tracker\n",
    "    single_trackers::Dict{Int64, SingleAgentTracker}\n",
    "end\n",
    "\n",
    "struct MultipleAgentsBelief\n",
    "    single_beliefs::Dict{Int64, SingleAgentBelief}\n",
    "    o::Vector{Float64}\n",
    "    pomdp::UrbanPOMDP\n",
    "end\n"
   ]
  },
  {
   "cell_type": "code",
   "execution_count": 17,
   "metadata": {},
   "outputs": [],
   "source": [
    "function POMDPs.update(up::MultipleAgentsTracker, bold::MultipleAgentsBelief, a::UrbanAction, o::UrbanObs)\n",
    "#     println(\"Updater keys: \", keys(up.single_trackers))\n",
    "#     println(\"belief keys: \", keys(bold.single_beliefs))\n",
    "    ego, car_map, ped_map, obs_map = split_o(o, up.pomdp)\n",
    "    bnew = Dict{Int64, SingleAgentBelief}()\n",
    "    updated_ids = Set{Int64}()\n",
    "    for (i, veh_map) in enumerate((car_map, ped_map))\n",
    "        class = i == 1 ? AgentClass.CAR : AgentClass.PEDESTRIAN\n",
    "        for (vehid, veh) in veh_map # iterate through visible cars\n",
    "            single_o = vcat(ego, veh, obs_map[1])\n",
    "            if haskey(up.single_trackers, vehid)\n",
    "                @assert haskey(up.single_trackers, vehid)\n",
    "                bnew[vehid] = update(up.single_trackers[vehid], bold.single_beliefs[vehid], a, single_o)\n",
    "                push!(updated_ids, vehid)\n",
    "            else\n",
    "                # start new tracker \n",
    "                up.single_trackers[vehid] = deepcopy(up.ref_trackers[class])\n",
    "#                 println(\"Starting new tracker for vehicle: \", vehid)\n",
    "                init_belief = SingleAgentBelief(Vector{Vector{Float64}}(), Vector{Float64}(), up.single_trackers[vehid].single_pomdp)\n",
    "                bnew[vehid] = update(up.single_trackers[vehid], init_belief, a, single_o)\n",
    "                push!(updated_ids, vehid)\n",
    "            end\n",
    "        end\n",
    "    end\n",
    "      \n",
    "    \n",
    "    # add absent ped and car for each obstacle\n",
    "    for (obsid, obs) in obs_map\n",
    "        absent_obs = vcat(ego, get_normalized_absent_state(up.pomdp, ego), obs)\n",
    "        for class in (AgentClass.CAR, AgentClass.PEDESTRIAN)\n",
    "            if class == AgentClass.CAR\n",
    "                new_id = pomdp.max_cars + obsid + 1\n",
    "            else\n",
    "                new_id = 100 + pomdp.max_peds + obsid + 1\n",
    "            end\n",
    "            \n",
    "            if haskey(up.single_trackers, new_id) && haskey(bold.single_beliefs, new_id)\n",
    "                bnew[new_id] = update(up.single_trackers[new_id], bold.single_beliefs[new_id], a, absent_obs)\n",
    "            else\n",
    "                # start new tracker \n",
    "                up.single_trackers[new_id] = deepcopy(up.ref_trackers[class])\n",
    "                Flux.reset!.(up.single_trackers[new_id].models)\n",
    "                init_belief = SingleAgentBelief(Vector{Vector{Float64}}(), Vector{Float64}(), up.single_trackers[new_id].single_pomdp)\n",
    "                bnew[new_id] = update(up.single_trackers[new_id], init_belief, a, absent_obs)\n",
    "            end\n",
    "            push!(updated_ids, new_id)\n",
    "        end\n",
    "    end\n",
    "    \n",
    "    for (oldid, _) in up.single_trackers\n",
    "        absent_obs = vcat(ego, get_normalized_absent_state(up.pomdp, ego), obs_map[1]) \n",
    "        if oldid ∉ updated_ids\n",
    "#             println(\"Vehicle $oldid disappeared! still tracking\")\n",
    "            init_belief = SingleAgentBelief(Vector{Vector{Float64}}(), Vector{Float64}(), up.single_trackers[oldid].single_pomdp)\n",
    "            bnew[oldid] = update(up.single_trackers[oldid], init_belief, a, absent_obs)\n",
    "        end\n",
    "    end\n",
    "    return MultipleAgentsBelief(bnew, o. up.pomdp)\n",
    "end"
   ]
  },
  {
   "cell_type": "code",
   "execution_count": 33,
   "metadata": {},
   "outputs": [],
   "source": [
    "global STEP = 0\n",
    "function POMDPModelTools.generate_sori(pomdp::UrbanPOMDP, s::Scene, a::UrbanAction, rng::AbstractRNG)\n",
    "#     global STEP\n",
    "#     STEP += 1\n",
    "#     println(\"SIM STEP: \", STEP)\n",
    "    return generate_sor(pomdp, s, a, rng)..., nothing\n",
    "end"
   ]
  },
  {
   "cell_type": "code",
   "execution_count": 171,
   "metadata": {},
   "outputs": [
    {
     "data": {
      "text/plain": [
       "0"
      ]
     },
     "execution_count": 171,
     "metadata": {},
     "output_type": "execute_result"
    }
   ],
   "source": [
    "car_pomdp = deepcopy(pomdp)\n",
    "car_pomdp.max_peds = 0\n",
    "car_pomdp.max_cars = 1\n",
    "ped_pomdp = deepcopy(pomdp)\n",
    "ped_pomdp.max_peds = 1\n",
    "ped_pomdp.max_cars = 0\n",
    "pedcar_pomdp = deepcopy(pomdp)\n",
    "pedcar_pomdp.max_peds = 1\n",
    "pedcar_pomdp.max_cars = 1\n",
    "pedcar_pomdp.max_obstacles = 0"
   ]
  },
  {
   "cell_type": "code",
   "execution_count": 172,
   "metadata": {},
   "outputs": [
    {
     "name": "stdout",
     "output_type": "stream",
     "text": [
      "  4.612841 seconds (2.25 M allocations: 511.541 MiB, 20.21% gc time)\n"
     ]
    }
   ],
   "source": [
    "global STEP = 0\n",
    "pomdp.max_cars = 2\n",
    "pomdp.max_peds = 2\n",
    "ref_updaters = Dict(AgentClass.PEDESTRIAN => SingleAgentTracker(ped_pomdp, ped_models, pres_threshold, VehicleDef()),\n",
    "                    AgentClass.CAR =>  SingleAgentTracker(car_pomdp, car_models, pres_threshold, VehicleDef()))\n",
    "up = MultipleAgentsTracker(pomdp, ref_updaters, Dict{Int64, SingleAgentTracker}())\n",
    "policy = FunctionPolicy(s -> UrbanAction(0.))\n",
    "s0 = initialstate(pomdp, rng)\n",
    "b0 = MultipleAgentsBelief(Dict{Int64, SingleAgentBelief}(), Vector{Float64}())\n",
    "hr = HistoryRecorder(max_steps=100, rng=rng)\n",
    "@time hist = simulate(hr, pomdp, policy, up, b0, s0);"
   ]
  },
  {
   "cell_type": "code",
   "execution_count": 173,
   "metadata": {},
   "outputs": [
    {
     "data": {
      "text/html": [
       "<video autoplay controls><source src=\"files/reel-17516435113221919848.webm?11645152048463162418\" type=\"video/webm\"></video>"
      ],
      "text/plain": [
       "Frames{MIME{Symbol(\"image/png\")}}(\"/tmp/tmppFYKow\", 0x0000000000000064, 10.0, nothing)"
      ]
     },
     "execution_count": 173,
     "metadata": {},
     "output_type": "execute_result"
    }
   ],
   "source": [
    "animate_history(hist, pomdp,\n",
    "                obs_overlays = o -> [GaussianSensorOverlay(sensor=pomdp.sensor, o=[veh for veh in obs_to_scene(pomdp, o) if veh.id != EGO_ID], color=MONOKAI[\"color2\"])],\n",
    "                belief_overlays = b -> [MultipleAgentsBeliefOverlay(b)],\n",
    "                step_overlays = s -> [TextOverlay(text = [\"step: $s\"], font_size=20, pos=VecE2(pomdp.env.params.x_min + 3.,4.), incameraframe=true)],\n",
    "                extra_overlays = [IDOverlay()],\n",
    "                cam =  StaticCamera(VecE2(0., -8.), 14.0))"
   ]
  },
  {
   "cell_type": "code",
   "execution_count": 118,
   "metadata": {},
   "outputs": [],
   "source": [
    "struct MultipleAgentsBeliefOverlay <: SceneOverlay\n",
    "    b::MultipleAgentsBelief\n",
    "    color::Colorant\n",
    "end\n",
    "\n",
    "MultipleAgentsBeliefOverlay(b::MultipleAgentsBelief;color = MONOKAI[\"color4\"]) = MultipleAgentsBeliefOverlay(b, color)\n",
    "\n",
    "function AutoViz.render!(rendermodel::RenderModel, overlay::MultipleAgentsBeliefOverlay, scene::Scene, env::OccludedEnv)\n",
    "    for (id, bel) in overlay.b.single_beliefs\n",
    "        bel_overlay = SingleAgentBeliefOverlay(bel, color=overlay.color)\n",
    "        AutoViz.render!(rendermodel, bel_overlay, scene, env)\n",
    "    end\n",
    "end"
   ]
  },
  {
   "cell_type": "code",
   "execution_count": 187,
   "metadata": {},
   "outputs": [
    {
     "data": {
      "text/plain": [
       "create_pedcar_states (generic function with 1 method)"
      ]
     },
     "execution_count": 187,
     "metadata": {},
     "output_type": "execute_result"
    }
   ],
   "source": [
    "using MDPModelChecking, DeepQLearning, LocalApproximationValueIteration, DeepRL, DataStructures\n",
    "include(\"../../masking.jl\")\n",
    "include(\"../../masked_dqn.jl\")\n",
    "include(\"../../qmdp_approximation.jl\")\n",
    "include(\"../../decomposition.jl\")"
   ]
  },
  {
   "cell_type": "code",
   "execution_count": 184,
   "metadata": {},
   "outputs": [
    {
     "data": {
      "text/plain": [
       "create_pedcar_beliefs (generic function with 1 method)"
      ]
     },
     "execution_count": 184,
     "metadata": {},
     "output_type": "execute_result"
    }
   ],
   "source": [
    "# return Dict{NTuple{3, Int64}, PedCarRNNBelief}\n",
    "# key is car_id, ped_id, obs_id\n",
    "function create_pedcar_beliefs(pomdp::UrbanPOMDP, b::MultipleAgentsBelief)\n",
    "    ego, car_map, ped_map, obs_map = split_o(b.o, pomdp)\n",
    "    println(\"pedestrian detected :\", keys(ped_map))\n",
    "    println(\"car detected : \", keys(car_map))\n",
    "    bkeys = collect(keys(b.single_beliefs))\n",
    "    car_ids = bkeys[bkeys .< 100]\n",
    "    ped_ids = bkeys[bkeys .> 100]\n",
    "    pedcar_beliefs = Dict{Tuple{Int64, Int64, Int64}, PedCarRNNBelief}()\n",
    "    for carid in car_ids\n",
    "        if carid <= pomdp.max_cars + 1\n",
    "            obsid = 1\n",
    "            if !haskey(car_map, carid)\n",
    "                car_o = get_normalized_absent_state(pomdp, ego)\n",
    "            else\n",
    "                car_o = car_map[carid]\n",
    "            end\n",
    "        elseif pomdp.max_cars + 1 < carid < 100\n",
    "            obsid = carid - pomdp.max_cars - 1\n",
    "            car_o = get_normalized_absent_state(pomdp, ego)\n",
    "        end\n",
    "        for pedid in ped_ids\n",
    "            if pedid <= 100 + pomdp.max_peds\n",
    "                obsid_ = 1\n",
    "                if !haskey(ped_map, pedid)\n",
    "                    ped_o = get_normalized_absent_state(pomdp, ego)\n",
    "                else\n",
    "                    ped_o = ped_map[pedid]\n",
    "                end\n",
    "            else\n",
    "                obsid_ = pedid - 101 - pomdp.max_peds\n",
    "                ped_o = get_normalized_absent_state(pomdp, ego)\n",
    "            end\n",
    "            if obsid != obsid_\n",
    "                continue\n",
    "            end          \n",
    "            o = vcat(ego, car_o, ped_o, obs_map[obsid]) #obstacle does not matter here \n",
    "            n_pred = length(b.single_beliefs[carid].predictions)\n",
    "            predictions = Vector{Vector{Float64}}(undef, n_pred)\n",
    "            for i=1:n_pred\n",
    "                car_pred = b.single_beliefs[carid].predictions[i][pomdp.n_features+1:2*pomdp.n_features]\n",
    "                ped_pred = b.single_beliefs[pedid].predictions[i][pomdp.n_features+1:2*pomdp.n_features]\n",
    "                predictions[i] = vcat(ego, car_pred, ped_pred) #naïve\n",
    "            end\n",
    "            println(\"Adding \", carid, \" \", pedid, \" \", obsid)\n",
    "            pedcar_beliefs[(carid, pedid, obsid)] = PedCarRNNBelief(predictions, o)\n",
    "        end\n",
    "    end                     \n",
    "    return pedcar_beliefs\n",
    "end\n",
    "    "
   ]
  },
  {
   "cell_type": "code",
   "execution_count": 179,
   "metadata": {},
   "outputs": [],
   "source": [
    "struct PedCarBeliefOverlay <: SceneOverlay\n",
    "    pomdp::UrbanPOMDP\n",
    "    b::PedCarRNNBelief\n",
    "    color::Colorant\n",
    "end\n",
    "\n",
    "function AutoViz.render!(rendermodel::RenderModel, overlay::PedCarBeliefOverlay, scene::Scene, env::OccludedEnv)\n",
    "    for pred in overlay.b.predictions \n",
    "#         bb, _ = process_prediction(overlay.pomdp, pred, overlay.b.obs)\n",
    "        bel = [veh for veh in obs_to_scene(overlay.pomdp, pred) if veh.id != EGO_ID]\n",
    "        bel_overlay = GaussianSensorOverlay(sensor=overlay.pomdp.sensor, o=bel, color=overlay.color)\n",
    "        AutoViz.render!(rendermodel, bel_overlay, scene, env)\n",
    "    end\n",
    "end"
   ]
  },
  {
   "cell_type": "code",
   "execution_count": 183,
   "metadata": {},
   "outputs": [
    {
     "data": {
      "image/png": "[encoded data removed]",
      "text/plain": [
       "Cairo.CairoSurfaceBase{UInt32}(Ptr{Nothing} @0x00000000085edf70, 1000.0, 600.0)"
      ]
     },
     "execution_count": 183,
     "metadata": {},
     "output_type": "execute_result"
    }
   ],
   "source": [
    "AutoViz.render(hist.state_hist[end], pomdp.env, [PedCarBeliefOverlay(pedcar_pomdp, b, MONOKAI[\"color4\"]) for b in pedcar_beliefs], cam=FitToContentCamera(0.))"
   ]
  },
  {
   "cell_type": "markdown",
   "metadata": {},
   "source": [
    "## Decomposed policy"
   ]
  },
  {
   "cell_type": "code",
   "execution_count": null,
   "metadata": {},
   "outputs": [],
   "source": [
    "function POMDPs.action(policy::DecMaskedPolicy, b::MultipleAgentsBelief)\n",
    "    global pomdp\n",
    "    pedcar_beliefs = create_pedcar_beliefs(pomdp, b) #XXX is using global variable pomdp\n",
    "    return action(policy, pedcar_beliefs)\n",
    "end\n",
    "\n",
    "function POMDPs.value(policy::DecMaskedPolicy, b::MultipleAgentsBelief)\n",
    "    global pomdp\n",
    "    pedcar_beliefs = create_pedcar_beliefs(pomdp, b) #XXX is using global variable pomdp\n",
    "    return value(policy, pedcar_beliefs)\n",
    "end\n",
    "\n",
    "function POMDPModelTools.action_info(policy::DecMaskedPolicy, b::MultipleAgentsBelief)\n",
    "    global pomdp\n",
    "    pedcar_beliefs = create_pedcar_beliefs(pomdp, b) #XXX is using global variable pomdp\n",
    "    return action_info(policy, pedcar_beliefs)\n",
    "end\n"
   ]
  },
  {
   "cell_type": "code",
   "execution_count": null,
   "metadata": {},
   "outputs": [],
   "source": []
  },
  {
   "cell_type": "markdown",
   "metadata": {},
   "source": [
    "## Visualize training set"
   ]
  },
  {
   "cell_type": "code",
   "execution_count": 14,
   "metadata": {},
   "outputs": [],
   "source": [
    "# include(\"data_generation.jl\")"
   ]
  },
  {
   "cell_type": "code",
   "execution_count": 4,
   "metadata": {},
   "outputs": [],
   "source": [
    "policy = RandomHoldPolicy(pomdp, 5, 0, UrbanAction(0.), rng);"
   ]
  },
  {
   "cell_type": "code",
   "execution_count": 36,
   "metadata": {},
   "outputs": [],
   "source": [
    "Xc, Yc, Xp, Yp = collect_split_set(pomdp, policy, 400, rng, 1);"
   ]
  },
  {
   "cell_type": "code",
   "execution_count": 37,
   "metadata": {},
   "outputs": [
    {
     "data": {
      "text/plain": [
       "1-element Array{Array{Array{Float64,1},1},1}:\n",
       " [[0.0625, -0.416667, 1.0, 0.0, -1.22917, -0.795833, 0.0, 0.0, 1.04167, 0.1875, 0.666667, 0.197917], [0.0625, -0.416667, 1.0, 0.0, -1.22917, -0.795833, 0.0, 0.0, 1.04167, 0.1875, 0.666667, 0.197917], [0.0625, -0.416667, 1.0, 0.0, -1.22917, -0.795833, 0.0, 0.0, 1.04167, 0.1875, 0.666667, 0.197917], [0.0625, -0.416667, 1.0, 0.0, -1.22917, -0.795833, 0.0, 0.0, 1.04167, 0.1875, 0.666667, 0.197917], [0.0625, -0.416667, 1.0, 0.0, -1.22917, -0.795833, 0.0, 0.0, 1.04167, 0.1875, 0.666667, 0.197917], [0.0625, -0.416667, 1.0, 0.0, -1.22917, -0.795833, 0.0, 0.0, 1.04167, 0.1875, 0.666667, 0.197917], [0.0625, -0.416667, 1.0, 0.0, -1.22917, -0.795833, 0.0, 0.0, 1.04167, 0.1875, 0.666667, 0.197917], [0.0625, -0.416667, 1.0, 0.0, -1.22917, -0.795833, 0.0, 0.0, 1.04167, 0.1875, 0.666667, 0.197917], [0.0625, -0.416667, 1.0, 0.0, -1.22917, -0.795833, 0.0, 0.0, 1.04167, 0.1875, 0.666667, 0.197917], [0.0625, -0.416667, 1.0, 0.0, -1.22917, -0.795833, 0.0, 0.0, 1.04167, 0.1875, 0.666667, 0.197917]  …  [-0.212109, 0.0625, 2.0, 0.02, 0.0437873, -0.0868906, 0.0, -0.00452246, 1.04167, 0.1875, 0.941276, -0.28125], [-0.213359, 0.0625, 2.0, 0.04, 0.0142763, -0.103943, 0.0, -0.116326, 1.04167, 0.1875, 0.942526, -0.28125], [-0.215443, 0.0625, 2.0, 0.06, 0.0126179, -0.119599, 0.0, -0.0332, 1.04167, 0.1875, 0.944609, -0.28125], [-0.218359, 0.0625, 2.0, 0.08, 0.00512989, -0.157133, 0.0, -0.0803485, 1.04167, 0.1875, 0.947526, -0.28125], [-0.222109, 0.0625, 2.0, 0.1, -0.00854637, -0.114857, 0.0, -0.0313294, 1.04167, 0.1875, 0.951276, -0.28125], [-0.225443, 0.0625, 2.0, 0.06, 0.00702144, -0.141297, 0.0, 0.0119903, 1.04167, 0.1875, 0.954609, -0.28125], [-0.227109, 0.0625, 2.0, 0.02, 0.00670035, -0.123931, 0.0, 0.0797394, 1.04167, 0.1875, 0.956276, -0.28125], [-0.227109, 0.0625, 2.0, 0.0, 0.039689, -0.0972657, 0.0, 0.0574754, 1.04167, 0.1875, 0.956276, -0.28125], [-0.227109, 0.0625, 2.0, 0.0, 0.0240043, -0.184669, 0.0, 0.118911, 1.04167, 0.1875, 0.956276, -0.28125], [-0.227109, 0.0625, 2.0, 0.0, 0.0238829, -0.147979, 0.0, 0.0581145, 1.04167, 0.1875, 0.956276, -0.28125]]"
      ]
     },
     "execution_count": 37,
     "metadata": {},
     "output_type": "execute_result"
    }
   ],
   "source": [
    "Xc"
   ]
  },
  {
   "cell_type": "code",
   "execution_count": 31,
   "metadata": {},
   "outputs": [
    {
     "data": {
      "image/png": "[encoded data removed]",
      "text/plain": [
       "Cairo.CairoSurfaceBase{UInt32}(Ptr{Nothing} @0x0000000003e23750, 1000.0, 600.0)"
      ]
     },
     "execution_count": 31,
     "metadata": {},
     "output_type": "execute_result"
    }
   ],
   "source": [
    "s = obs_to_scene(ped_pomdp, Xp[1][200])\n",
    "AutoViz.render(s, pomdp.env, cam=FitToContentCamera(0.0))"
   ]
  },
  {
   "cell_type": "code",
   "execution_count": 35,
   "metadata": {},
   "outputs": [
    {
     "data": {
      "image/png": "[encoded data removed]",
      "text/plain": [
       "Cairo.CairoSurfaceBase{UInt32}(Ptr{Nothing} @0x0000000003502c80, 1000.0, 600.0)"
      ]
     },
     "execution_count": 35,
     "metadata": {},
     "output_type": "execute_result"
    }
   ],
   "source": [
    "b = process_single_entity_prediction(ped_pomdp, Yp[1][200], Xp[1][200])\n",
    "s = obs_to_scene(ped_pomdp, b)\n",
    "AutoViz.render(s, pomdp.env, cam=FitToContentCamera(0.))"
   ]
  },
  {
   "cell_type": "code",
   "execution_count": 16,
   "metadata": {},
   "outputs": [],
   "source": [
    "X, Y = collect_set(pomdp, policy , 400, rng, 1);"
   ]
  },
  {
   "cell_type": "code",
   "execution_count": 17,
   "metadata": {},
   "outputs": [
    {
     "ename": "MethodError",
     "evalue": "MethodError: no method matching length(::UrbanPOMDP)\nClosest candidates are:\n  length(!Matched::Type{LaneFollowingAccel}) at /mnt/c/Users/Maxime/wsl/.julia/dev/AutomotiveDrivingModels/src/1d/actions.jl:9\n  length(!Matched::Type{AccelTurnrate}) at /mnt/c/Users/Maxime/wsl/.julia/dev/AutomotiveDrivingModels/src/2d/actions/accel_turnrate.jl:6\n  length(!Matched::Type{AccelDesang}) at /mnt/c/Users/Maxime/wsl/.julia/dev/AutomotiveDrivingModels/src/2d/actions/accel_desang.jl:6\n  ...",
     "output_type": "error",
     "traceback": [
      "MethodError: no method matching length(::UrbanPOMDP)\nClosest candidates are:\n  length(!Matched::Type{LaneFollowingAccel}) at /mnt/c/Users/Maxime/wsl/.julia/dev/AutomotiveDrivingModels/src/1d/actions.jl:9\n  length(!Matched::Type{AccelTurnrate}) at /mnt/c/Users/Maxime/wsl/.julia/dev/AutomotiveDrivingModels/src/2d/actions/accel_turnrate.jl:6\n  length(!Matched::Type{AccelDesang}) at /mnt/c/Users/Maxime/wsl/.julia/dev/AutomotiveDrivingModels/src/2d/actions/accel_desang.jl:6\n  ...",
      "",
      "Stacktrace:",
      " [1] _similar_for(::UnitRange{Int64}, ::Type, ::UrbanPOMDP, ::Base.HasLength) at ./array.jl:532",
      " [2] _collect(::UnitRange{Int64}, ::UrbanPOMDP, ::Base.HasEltype, ::Base.HasLength) at ./array.jl:563",
      " [3] collect(::UrbanPOMDP) at ./array.jl:557",
      " [4] broadcastable(::UrbanPOMDP) at ./broadcast.jl:609",
      " [5] broadcasted(::Function, ::UrbanPOMDP, ::Array{Array{Float64,1},1}, ::Array{Array{Float64,1},1}) at ./broadcast.jl:1139",
      " [6] top-level scope at In[17]:4"
     ]
    }
   ],
   "source": [
    "trajind = 1\n",
    "trajx = X[trajind]\n",
    "trajy = Y[trajind]\n",
    "tb = process_prediction.(pomdp, trajy, trajx)\n",
    "scenes = obs_to_scene.(pomdp, tb);\n",
    "sind = 250\n",
    "obs = [veh for veh in obs_to_scene(pomdp, trajx[sind]) if veh.id != EGO_ID]\n",
    "render(scenes[sind], pomdp.env, [GaussianSensorOverlay(sensor=pomdp.sensor, o=obs, color=MONOKAI[\"color2\"]), OcclusionOverlay(obstacles=pomdp.env.obstacles)], \n",
    "                cam=cam, car_colors=get_colors(scenes[1]))"
   ]
  },
  {
   "cell_type": "code",
   "execution_count": 18,
   "metadata": {
    "scrolled": false
   },
   "outputs": [
    {
     "ename": "UndefVarError",
     "evalue": "UndefVarError: scenes not defined",
     "output_type": "error",
     "traceback": [
      "UndefVarError: scenes not defined",
      "",
      "Stacktrace:",
      " [1] top-level scope at In[18]:1"
     ]
    }
   ],
   "source": [
    "duration, fps, render_hist = animate_scenes(scenes, pomdp.env, sim_dt=pomdp.ΔT)\n",
    "speed_factor = 1\n",
    "film = roll(render_hist, fps = speed_factor*fps, duration = duration/speed_factor)"
   ]
  },
  {
   "cell_type": "code",
   "execution_count": 19,
   "metadata": {
    "scrolled": false
   },
   "outputs": [
    {
     "ename": "MethodError",
     "evalue": "MethodError: no method matching length(::UrbanPOMDP)\nClosest candidates are:\n  length(!Matched::Type{LaneFollowingAccel}) at /mnt/c/Users/Maxime/wsl/.julia/dev/AutomotiveDrivingModels/src/1d/actions.jl:9\n  length(!Matched::Type{AccelTurnrate}) at /mnt/c/Users/Maxime/wsl/.julia/dev/AutomotiveDrivingModels/src/2d/actions/accel_turnrate.jl:6\n  length(!Matched::Type{AccelDesang}) at /mnt/c/Users/Maxime/wsl/.julia/dev/AutomotiveDrivingModels/src/2d/actions/accel_desang.jl:6\n  ...",
     "output_type": "error",
     "traceback": [
      "MethodError: no method matching length(::UrbanPOMDP)\nClosest candidates are:\n  length(!Matched::Type{LaneFollowingAccel}) at /mnt/c/Users/Maxime/wsl/.julia/dev/AutomotiveDrivingModels/src/1d/actions.jl:9\n  length(!Matched::Type{AccelTurnrate}) at /mnt/c/Users/Maxime/wsl/.julia/dev/AutomotiveDrivingModels/src/2d/actions/accel_turnrate.jl:6\n  length(!Matched::Type{AccelDesang}) at /mnt/c/Users/Maxime/wsl/.julia/dev/AutomotiveDrivingModels/src/2d/actions/accel_desang.jl:6\n  ...",
      "",
      "Stacktrace:",
      " [1] _similar_for(::UnitRange{Int64}, ::Type, ::UrbanPOMDP, ::Base.HasLength) at ./array.jl:532",
      " [2] _collect(::UnitRange{Int64}, ::UrbanPOMDP, ::Base.HasEltype, ::Base.HasLength) at ./array.jl:563",
      " [3] collect(::UrbanPOMDP) at ./array.jl:557",
      " [4] broadcastable(::UrbanPOMDP) at ./broadcast.jl:609",
      " [5] broadcasted(::Function, ::UrbanPOMDP, ::Array{Array{Float64,1},1}) at ./broadcast.jl:1139",
      " [6] top-level scope at In[19]:3"
     ]
    }
   ],
   "source": [
    "tx, ty = generate_trajectory(pomdp, policy, 100, rng);\n",
    "tx = convert.(Vector{Float64}, tx)\n",
    "duration, fps, render_hist = animate_scenes(obs_to_scene.(pomdp, tx), pomdp.env, sim_dt=pomdp.ΔT)\n",
    "speed_factor = 1\n",
    "film = roll(render_hist, fps = speed_factor*fps, duration = duration/speed_factor)"
   ]
  },
  {
   "cell_type": "code",
   "execution_count": 20,
   "metadata": {},
   "outputs": [
    {
     "data": {
      "text/plain": [
       "build_presence_mask (generic function with 3 methods)"
      ]
     },
     "execution_count": 20,
     "metadata": {},
     "output_type": "execute_result"
    }
   ],
   "source": [
    "function build_presence_mask(y::Vector{Float64}, car_pres_ind=5, ped_pres_ind=10)\n",
    "    n_features = 5\n",
    "    mask = ones(length(y))\n",
    "    if y[car_pres_ind] == 0.\n",
    "        mask[1:car_pres_ind-1] .= 0. \n",
    "    end\n",
    "    if y[ped_pres_ind] == 0.\n",
    "        mask[ped_pres_ind-n_features+1:ped_pres_ind-1] .= 0.\n",
    "    end\n",
    "    return mask\n",
    "end"
   ]
  },
  {
   "cell_type": "code",
   "execution_count": 21,
   "metadata": {},
   "outputs": [
    {
     "data": {
      "text/plain": [
       "mse (generic function with 1 method)"
      ]
     },
     "execution_count": 21,
     "metadata": {},
     "output_type": "execute_result"
    }
   ],
   "source": [
    "model = models[1]\n",
    "function loss(x, y)\n",
    "    mask = build_presence_mask.(y) # same size as y\n",
    "    l = mean(mse.(model.(x), y, mask)) # mean over the trajectory\n",
    "    Flux.truncate!(model)\n",
    "    Flux.reset!(model)\n",
    "    return l\n",
    "end\n",
    "\n",
    "function mse(ypred, y, mask)\n",
    "    return sum(mask.*(ypred - y).^2)/length(y)\n",
    "end"
   ]
  },
  {
   "cell_type": "code",
   "execution_count": 22,
   "metadata": {},
   "outputs": [
    {
     "ename": "UndefVarError",
     "evalue": "UndefVarError: norm not defined",
     "output_type": "error",
     "traceback": [
      "UndefVarError: norm not defined",
      "",
      "Stacktrace:",
      " [1] top-level scope at In[22]:1"
     ]
    }
   ],
   "source": [
    "norm([model(x)[5] for x in tx])"
   ]
  },
  {
   "cell_type": "code",
   "execution_count": 23,
   "metadata": {},
   "outputs": [
    {
     "data": {
      "text/plain": [
       "101-element Array{Array{Float64,1},1}:\n",
       " [0.0, 0.0, 0.0, 0.0, 1.0, 0.0, 0.0, 0.0, 0.0, 1.0]\n",
       " [0.0, 0.0, 0.0, 0.0, 1.0, 0.0, 0.0, 0.0, 0.0, 1.0]\n",
       " [0.0, 0.0, 0.0, 0.0, 1.0, 0.0, 0.0, 0.0, 0.0, 1.0]\n",
       " [0.0, 0.0, 0.0, 0.0, 1.0, 0.0, 0.0, 0.0, 0.0, 1.0]\n",
       " [0.0, 0.0, 0.0, 0.0, 1.0, 0.0, 0.0, 0.0, 0.0, 1.0]\n",
       " [0.0, 0.0, 0.0, 0.0, 1.0, 0.0, 0.0, 0.0, 0.0, 1.0]\n",
       " [0.0, 0.0, 0.0, 0.0, 1.0, 1.0, 1.0, 1.0, 1.0, 1.0]\n",
       " [0.0, 0.0, 0.0, 0.0, 1.0, 1.0, 1.0, 1.0, 1.0, 1.0]\n",
       " [0.0, 0.0, 0.0, 0.0, 1.0, 1.0, 1.0, 1.0, 1.0, 1.0]\n",
       " [0.0, 0.0, 0.0, 0.0, 1.0, 1.0, 1.0, 1.0, 1.0, 1.0]\n",
       " [0.0, 0.0, 0.0, 0.0, 1.0, 1.0, 1.0, 1.0, 1.0, 1.0]\n",
       " [1.0, 1.0, 1.0, 1.0, 1.0, 1.0, 1.0, 1.0, 1.0, 1.0]\n",
       " [1.0, 1.0, 1.0, 1.0, 1.0, 1.0, 1.0, 1.0, 1.0, 1.0]\n",
       " ⋮                                                 \n",
       " [1.0, 1.0, 1.0, 1.0, 1.0, 1.0, 1.0, 1.0, 1.0, 1.0]\n",
       " [1.0, 1.0, 1.0, 1.0, 1.0, 1.0, 1.0, 1.0, 1.0, 1.0]\n",
       " [1.0, 1.0, 1.0, 1.0, 1.0, 1.0, 1.0, 1.0, 1.0, 1.0]\n",
       " [1.0, 1.0, 1.0, 1.0, 1.0, 1.0, 1.0, 1.0, 1.0, 1.0]\n",
       " [1.0, 1.0, 1.0, 1.0, 1.0, 1.0, 1.0, 1.0, 1.0, 1.0]\n",
       " [1.0, 1.0, 1.0, 1.0, 1.0, 1.0, 1.0, 1.0, 1.0, 1.0]\n",
       " [1.0, 1.0, 1.0, 1.0, 1.0, 1.0, 1.0, 1.0, 1.0, 1.0]\n",
       " [1.0, 1.0, 1.0, 1.0, 1.0, 1.0, 1.0, 1.0, 1.0, 1.0]\n",
       " [1.0, 1.0, 1.0, 1.0, 1.0, 1.0, 1.0, 1.0, 1.0, 1.0]\n",
       " [1.0, 1.0, 1.0, 1.0, 1.0, 1.0, 1.0, 1.0, 1.0, 1.0]\n",
       " [1.0, 1.0, 1.0, 1.0, 1.0, 1.0, 1.0, 1.0, 1.0, 1.0]\n",
       " [1.0, 1.0, 1.0, 1.0, 1.0, 1.0, 1.0, 1.0, 1.0, 1.0]"
      ]
     },
     "execution_count": 23,
     "metadata": {},
     "output_type": "execute_result"
    }
   ],
   "source": [
    "mask = build_presence_mask.(ty)"
   ]
  },
  {
   "cell_type": "code",
   "execution_count": 24,
   "metadata": {},
   "outputs": [
    {
     "ename": "MethodError",
     "evalue": "MethodError: no method matching length(::UrbanPOMDP)\nClosest candidates are:\n  length(!Matched::Type{LaneFollowingAccel}) at /mnt/c/Users/Maxime/wsl/.julia/dev/AutomotiveDrivingModels/src/1d/actions.jl:9\n  length(!Matched::Type{AccelTurnrate}) at /mnt/c/Users/Maxime/wsl/.julia/dev/AutomotiveDrivingModels/src/2d/actions/accel_turnrate.jl:6\n  length(!Matched::Type{AccelDesang}) at /mnt/c/Users/Maxime/wsl/.julia/dev/AutomotiveDrivingModels/src/2d/actions/accel_desang.jl:6\n  ...",
     "output_type": "error",
     "traceback": [
      "MethodError: no method matching length(::UrbanPOMDP)\nClosest candidates are:\n  length(!Matched::Type{LaneFollowingAccel}) at /mnt/c/Users/Maxime/wsl/.julia/dev/AutomotiveDrivingModels/src/1d/actions.jl:9\n  length(!Matched::Type{AccelTurnrate}) at /mnt/c/Users/Maxime/wsl/.julia/dev/AutomotiveDrivingModels/src/2d/actions/accel_turnrate.jl:6\n  length(!Matched::Type{AccelDesang}) at /mnt/c/Users/Maxime/wsl/.julia/dev/AutomotiveDrivingModels/src/2d/actions/accel_desang.jl:6\n  ...",
      "",
      "Stacktrace:",
      " [1] _similar_for(::UnitRange{Int64}, ::Type, ::UrbanPOMDP, ::Base.HasLength) at ./array.jl:532",
      " [2] _collect(::UnitRange{Int64}, ::UrbanPOMDP, ::Base.HasEltype, ::Base.HasLength) at ./array.jl:563",
      " [3] collect(::UrbanPOMDP) at ./array.jl:557",
      " [4] broadcastable(::UrbanPOMDP) at ./broadcast.jl:609",
      " [5] broadcasted(::Function, ::UrbanPOMDP, ::Array{Array{Float64,1},1}, ::Array{Array{Float64,1},1}) at ./broadcast.jl:1139",
      " [6] top-level scope at In[24]:1"
     ]
    }
   ],
   "source": [
    "tb = process_prediction.(pomdp, ty, tx)\n",
    "duration, fps, render_hist = animate_scenes(obs_to_scene.(pomdp, tb), pomdp.env, sim_dt=pomdp.ΔT)\n",
    "speed_factor = 1\n",
    "film = roll(render_hist, fps = speed_factor*fps, duration = duration/speed_factor)"
   ]
  },
  {
   "cell_type": "code",
   "execution_count": 25,
   "metadata": {},
   "outputs": [
    {
     "ename": "ErrorException",
     "evalue": "error in method definition: function RNNFiltering.process_prediction must be explicitly imported to be extended",
     "output_type": "error",
     "traceback": [
      "error in method definition: function RNNFiltering.process_prediction must be explicitly imported to be extended",
      "",
      "Stacktrace:",
      " [1] top-level scope at In[25]:1"
     ]
    }
   ],
   "source": [
    "function process_prediction(pomdp::UrbanPOMDP, b::Vector{Float64}, o::Vector{Float64})\n",
    "    n_features = 4\n",
    "    n_obstacles = pomdp.max_obstacles\n",
    "    b_ = zeros(length(o)) # should be 12 + obstacles\n",
    "    b_[1:4] = o[1:4] # ego state fully observable\n",
    "    # get car state from b\n",
    "    car_presence = b[5]\n",
    "    if 1/(1 + exp(-car_presence)) > 0.5 # softmax \n",
    "        b_[n_features+1:2*n_features] = b[1:4]\n",
    "    else\n",
    "        # absent\n",
    "        b_[n_features+1:2*n_features] = normalized_off_the_grid_pos(pomdp, o[1], o[2])\n",
    "    end\n",
    "    \n",
    "    # get ped state from b \n",
    "    ped_presence = b[10]\n",
    "    if 1/(1 + exp(-ped_presence)) > 0.5 # softmax \n",
    "        b_[2*n_features+1:3*n_features] = b[6:9]\n",
    "    else\n",
    "        # absent \n",
    "        b_[2*n_features+1:3*n_features] = normalized_off_the_grid_pos(pomdp, o[1], o[2])\n",
    "    end\n",
    "            \n",
    "    b_[end - n_features*n_obstacles + 1:end] = o[end - n_features*n_obstacles + 1:end]\n",
    "    return b_\n",
    "end\n",
    "\n",
    "function normalized_off_the_grid_pos(pomdp::UrbanPOMDP,normalized_ego_x::Float64, normalized_ego_y::Float64)\n",
    "    pos_off = get_off_the_grid(pomdp)\n",
    "    max_ego_dist = get_end(pomdp.env.roadway[pomdp.ego_goal])\n",
    "    return [pos_off.posG.x/max_ego_dist - normalized_ego_x, pos_off.posG.y/max_ego_dist - normalized_ego_y, pos_off.posG.θ, 0.]\n",
    "end"
   ]
  },
  {
   "cell_type": "code",
   "execution_count": 26,
   "metadata": {},
   "outputs": [
    {
     "ename": "MethodError",
     "evalue": "MethodError: no method matching length(::UrbanPOMDP)\nClosest candidates are:\n  length(!Matched::Type{LaneFollowingAccel}) at /mnt/c/Users/Maxime/wsl/.julia/dev/AutomotiveDrivingModels/src/1d/actions.jl:9\n  length(!Matched::Type{AccelTurnrate}) at /mnt/c/Users/Maxime/wsl/.julia/dev/AutomotiveDrivingModels/src/2d/actions/accel_turnrate.jl:6\n  length(!Matched::Type{AccelDesang}) at /mnt/c/Users/Maxime/wsl/.julia/dev/AutomotiveDrivingModels/src/2d/actions/accel_desang.jl:6\n  ...",
     "output_type": "error",
     "traceback": [
      "MethodError: no method matching length(::UrbanPOMDP)\nClosest candidates are:\n  length(!Matched::Type{LaneFollowingAccel}) at /mnt/c/Users/Maxime/wsl/.julia/dev/AutomotiveDrivingModels/src/1d/actions.jl:9\n  length(!Matched::Type{AccelTurnrate}) at /mnt/c/Users/Maxime/wsl/.julia/dev/AutomotiveDrivingModels/src/2d/actions/accel_turnrate.jl:6\n  length(!Matched::Type{AccelDesang}) at /mnt/c/Users/Maxime/wsl/.julia/dev/AutomotiveDrivingModels/src/2d/actions/accel_desang.jl:6\n  ...",
      "",
      "Stacktrace:",
      " [1] _similar_for(::UnitRange{Int64}, ::Type, ::UrbanPOMDP, ::Base.HasLength) at ./array.jl:532",
      " [2] _collect(::UnitRange{Int64}, ::UrbanPOMDP, ::Base.HasEltype, ::Base.HasLength) at ./array.jl:563",
      " [3] collect(::UrbanPOMDP) at ./array.jl:557",
      " [4] broadcastable(::UrbanPOMDP) at ./broadcast.jl:609",
      " [5] broadcasted(::Function, ::UrbanPOMDP, ::Array{Array{Float64,1},1}, ::Array{Array{Float64,1},1}) at ./broadcast.jl:1139",
      " [6] top-level scope at In[26]:1"
     ]
    }
   ],
   "source": [
    "tb = process_prediction.(pomdp, ty, tx)\n",
    "duration, fps, render_hist = animate_scenes(obs_to_scene.(pomdp, tb), pomdp.env, sim_dt=pomdp.ΔT)\n",
    "speed_factor = 1\n",
    "film = roll(render_hist, fps = speed_factor*fps, duration = duration/speed_factor)"
   ]
  },
  {
   "cell_type": "code",
   "execution_count": null,
   "metadata": {},
   "outputs": [],
   "source": []
  }
 ],
 "metadata": {
  "kernelspec": {
   "display_name": "Julia 1.0.0",
   "language": "julia",
   "name": "julia-1.0"
  },
  "language_info": {
   "file_extension": ".jl",
   "mimetype": "application/julia",
   "name": "julia",
   "version": "1.0.0"
  }
 },
 "nbformat": 4,
 "nbformat_minor": 2
}
