{
 "cells": [
  {
   "cell_type": "markdown",
   "metadata": {},
   "source": [
    "# Joint problem: Avoid 1 car and 1 pedestrian"
   ]
  },
  {
   "cell_type": "markdown",
   "metadata": {},
   "source": [
    "**Load dependencies**"
   ]
  },
  {
   "cell_type": "code",
   "execution_count": 1,
   "metadata": {},
   "outputs": [],
   "source": [
    "rng = MersenneTwister(2);"
   ]
  },
  {
   "cell_type": "code",
   "execution_count": 2,
   "metadata": {},
   "outputs": [
    {
     "name": "stderr",
     "output_type": "stream",
     "text": [
      "WARNING: Method definition info(Any...) in module Base at util.jl:532 overwritten in module Logging at /mnt/c/Users/Maxime/wsl/.julia/v0.6/Logging/src/Logging.jl:115.\n",
      "WARNING: Method definition warn(Any...) in module Base at util.jl:585 overwritten in module Logging at /mnt/c/Users/Maxime/wsl/.julia/v0.6/Logging/src/Logging.jl:115.\n",
      "WARNING: static parameter S does not occur in signature for solve_chunk at /mnt/c/Users/Maxime/wsl/.julia/v0.6/DiscreteValueIteration/src/parallel.jl:117.\n",
      "The method will not be callable.\n",
      "WARNING: Method definition copy!(Array{Float64, 1}, AutomotiveDrivingModels.LatLonAccel) in module AutomotiveDrivingModels at /mnt/c/Users/Maxime/wsl/.julia/v0.6/AutomotiveDrivingModels/src/2d/actions/lat_lon_accel.jl:13 overwritten in module AutoUrban at /mnt/c/Users/Maxime/wsl/.julia/v0.6/AutoUrban/src/simulation/actions.jl:10.\n"
     ]
    }
   ],
   "source": [
    "using AutomotivePOMDPs\n",
    "using MDPModelChecking"
   ]
  },
  {
   "cell_type": "code",
   "execution_count": 3,
   "metadata": {},
   "outputs": [],
   "source": [
    "using GridInterpolations, StaticArrays, POMDPs, POMDPToolbox, AutoViz, AutomotiveDrivingModels, Reel\n",
    "using DiscreteValueIteration, DeepQLearning, DeepRL\n",
    "using ProgressMeter, Parameters, JLD"
   ]
  },
  {
   "cell_type": "code",
   "execution_count": 4,
   "metadata": {},
   "outputs": [
    {
     "data": {
      "text/plain": [
       "AutoViz.FitToContentCamera(0.0)"
      ]
     },
     "execution_count": 4,
     "metadata": {},
     "output_type": "execute_result"
    }
   ],
   "source": [
    "cam = FitToContentCamera(0.)"
   ]
  },
  {
   "cell_type": "code",
   "execution_count": 5,
   "metadata": {},
   "outputs": [],
   "source": [
    "include(\"masking.jl\")\n",
    "include(\"util.jl\")\n",
    "include(\"render_helpers.jl\")\n",
    "include(\"masked_dqn.jl\")"
   ]
  },
  {
   "cell_type": "markdown",
   "metadata": {},
   "source": [
    "## Driving environment"
   ]
  },
  {
   "cell_type": "code",
   "execution_count": 6,
   "metadata": {},
   "outputs": [],
   "source": [
    "params = UrbanParams(nlanes_main=1,\n",
    "                     crosswalk_pos =  [VecSE2(6, 0., pi/2), VecSE2(-6, 0., pi/2), VecSE2(0., -5., 0.)],\n",
    "                     crosswalk_length =  [14.0, 14., 14.0],\n",
    "                     crosswalk_width = [4.0, 4.0, 3.1],\n",
    "                     stop_line = 22.0)\n",
    "env = UrbanEnv(params=params);"
   ]
  },
  {
   "cell_type": "markdown",
   "metadata": {},
   "source": [
    "## Discretized MDPs"
   ]
  },
  {
   "cell_type": "code",
   "execution_count": 7,
   "metadata": {},
   "outputs": [],
   "source": [
    "ped_mdp = PedMDP(env = env, vel_res=2., pos_res=2., ped_type=VehicleDef(AgentClass.PEDESTRIAN, 1.0, 3.0), ped_birth=0.7)\n",
    "car_mdp = CarMDP(env = env, vel_res=2., pos_res=2.);"
   ]
  },
  {
   "cell_type": "code",
   "execution_count": 8,
   "metadata": {},
   "outputs": [],
   "source": [
    "threshold = 0.9999\n",
    "ped_mask_file = \"pedmask_new.jld\"\n",
    "car_mask_file = \"carmask_new.jld\"\n",
    "ped_mask_data = load(ped_mask_file)\n",
    "car_mask_data = load(car_mask_file)\n",
    "ped_mask = SafetyMask(ped_mdp, StormPolicy(ped_mdp, ped_mask_data[\"risk_vec\"], ped_mask_data[\"risk_mat\"]), threshold)\n",
    "car_mask = SafetyMask(car_mdp, StormPolicy(car_mdp, car_mask_data[\"risk_vec\"], car_mask_data[\"risk_mat\"]), threshold);"
   ]
  },
  {
   "cell_type": "markdown",
   "metadata": {},
   "source": [
    "## Continuous space scenario"
   ]
  },
  {
   "cell_type": "code",
   "execution_count": 9,
   "metadata": {},
   "outputs": [],
   "source": [
    "pomdp = UrbanPOMDP(env=env,\n",
    "                   ego_goal = LaneTag(2, 1),\n",
    "                   max_cars=1, \n",
    "                   max_peds=1, \n",
    "                   car_birth=0.3, \n",
    "                   ped_birth=0.7, \n",
    "                   obstacles=false, # no fixed obstacles\n",
    "                   lidar=false,\n",
    "                   pos_obs_noise = 0., # fully observable\n",
    "                   vel_obs_noise = 0.);"
   ]
  },
  {
   "cell_type": "code",
   "execution_count": 10,
   "metadata": {},
   "outputs": [],
   "source": [
    "masks = SafetyMask[ped_mask, car_mask]\n",
    "ids = [101, 2]\n",
    "joint_mask = JointMask([ped_mdp, car_mdp], masks, ids)\n",
    "rand_pol = RandomMaskedPOMDPPolicy(joint_mask, pomdp, rng);"
   ]
  },
  {
   "cell_type": "code",
   "execution_count": 11,
   "metadata": {},
   "outputs": [
    {
     "name": "stdout",
     "output_type": "stream",
     "text": [
      "  8.522221 seconds (6.82 M allocations: 270.932 MiB, 4.43% gc time)\n"
     ]
    }
   ],
   "source": [
    "hr = HistoryRecorder(rng=rng, max_steps=100)\n",
    "s0 = initial_state(pomdp, rng)\n",
    "o0 = generate_o(pomdp, s0, rng)\n",
    "up = FastPreviousObservationUpdater{UrbanObs}()\n",
    "b0 = initialize_belief(up, o0)\n",
    "@time hist2 = simulate(hr, pomdp, rand_pol, up, b0, s0);"
   ]
  },
  {
   "cell_type": "code",
   "execution_count": 27,
   "metadata": {},
   "outputs": [
    {
     "data": {
      "text/html": [
       "<video autoplay controls><source src=\"files/reel-9462286565168331542.webm?10061310220251082699\" type=\"video/webm\"></video>"
      ],
      "text/plain": [
       "Reel.Frames{MIME{Symbol(\"image/png\")}}(\"/tmp/tmpCxgev5\", 0x0000000000000046, 2.0, nothing)"
      ]
     },
     "execution_count": 27,
     "metadata": {},
     "output_type": "execute_result"
    }
   ],
   "source": [
    "h = hist2\n",
    "state_hist = h.state_hist\n",
    "action_hist = h.action_hist\n",
    "safe_actions_hist = h.ainfo_hist\n",
    "push!(action_hist, CarMDPAction(NaN))\n",
    "push!(safe_actions_hist, [CarMDPAction(NaN)])\n",
    "duration, fps, render_hist = animate_states(pomdp, state_hist, action_hist, safe_actions_hist, joint_mask, interp=true)\n",
    "film = roll(render_hist, fps = fps, duration = duration)"
   ]
  },
  {
   "cell_type": "code",
   "execution_count": 33,
   "metadata": {},
   "outputs": [
    {
     "name": "stdout",
     "output_type": "stream",
     "text": [
      "509.802895 seconds (3.57 G allocations: 118.188 GiB, 15.63% gc time)\n",
      "Summary for 1000 episodes: \n",
      "Average reward: 0.034 \n",
      "Average # of steps: 79.193 \n",
      "Average # of violations: 2.400 \n"
     ]
    }
   ],
   "source": [
    "# @time rewards_mask, steps_mask, violations_mask = evaluation_loop(pomdp, rand_pol, n_ep=1000, max_steps=100, rng=rng);\n",
    "# print_summary(rewards_mask, steps_mask, violations_mask)"
   ]
  },
  {
   "cell_type": "code",
   "execution_count": 46,
   "metadata": {},
   "outputs": [],
   "source": [
    "include(\"masking.jl\")"
   ]
  },
  {
   "cell_type": "code",
   "execution_count": 29,
   "metadata": {},
   "outputs": [],
   "source": [
    "sc = state_hist[68];\n",
    "# bc = h.belief_hist[85]\n",
    "# safe_actions(pomdp, joint_mask, bc)"
   ]
  },
  {
   "cell_type": "code",
   "execution_count": 34,
   "metadata": {},
   "outputs": [
    {
     "name": "stderr",
     "output_type": "stream",
     "text": [
      "WARNING: Method definition has_passed(AutomotivePOMDPs.TTCIntersectionDriver, Records.Frame{Records.Entity{AutomotiveDrivingModels.VehicleState, AutomotiveDrivingModels.VehicleDef, Int64}}, AutomotiveDrivingModels.Roadway, Int64) in module AutomotivePOMDPs at /home/maxime/Maxime/OneDrive - Leland Stanford Junior University/Research/AutomotivePOMDPs/src/driver_models/ttc_intersection_driver.jl:66 overwritten at /home/maxime/Maxime/OneDrive - Leland Stanford Junior University/Research/AutomotivePOMDPs/src/driver_models/ttc_intersection_driver.jl:66.\n"
     ]
    },
    {
     "data": {
      "text/plain": [
       "AutomotivePOMDPs.LonAccelDirection(1.0, 1)"
      ]
     },
     "execution_count": 34,
     "metadata": {},
     "output_type": "execute_result"
    }
   ],
   "source": [
    "egoid = 2\n",
    "model = pomdp.models[egoid]\n",
    "AutomotiveDrivingModels.observe!(model, sc, env.roadway, egoid)\n",
    "AutomotiveDrivingModels.observe!(model, sc, env.roadway, egoid)\n",
    "model.intersection_driver.priority\n",
    "AutomotivePOMDPs.ttc_check(model.intersection_driver, sc, env.roadway, egoid)\n",
    "model.intersection_driver.a"
   ]
  },
  {
   "cell_type": "code",
   "execution_count": 25,
   "metadata": {},
   "outputs": [
    {
     "data": {
      "text/plain": [
       "AutomotivePOMDPs.ConstantSpeedDawdling(0.0, 0.0)"
      ]
     },
     "execution_count": 25,
     "metadata": {},
     "output_type": "execute_result"
    }
   ],
   "source": [
    "model = pomdp.models[101]\n",
    "AutomotiveDrivingModels.observe!(model, sc, env.roadway, egoid)\n",
    "AutomotiveDrivingModels.observe!(model, sc, env.roadway, egoid)\n",
    "model.a"
   ]
  },
  {
   "cell_type": "code",
   "execution_count": 70,
   "metadata": {},
   "outputs": [
    {
     "data": {
      "text/plain": [
       "false"
      ]
     },
     "execution_count": 70,
     "metadata": {},
     "output_type": "execute_result"
    }
   ],
   "source": [
    "pomdp.models[egoid].intersection_driver.priority"
   ]
  },
  {
   "cell_type": "code",
   "execution_count": 13,
   "metadata": {},
   "outputs": [
    {
     "data": {
      "text/plain": [
       "-1.3270381184170816"
      ]
     },
     "execution_count": 13,
     "metadata": {},
     "output_type": "execute_result"
    }
   ],
   "source": [
    "egoid = 2\n",
    "model = pomdp.models[egoid]\n",
    "scene = state_hist[end]\n",
    "roadway = env.roadway\n",
    "AutomotiveDrivingModels.observe!(model.navigator, scene, roadway, egoid)\n",
    "AutomotiveDrivingModels.observe!(model.intersection_driver, scene, roadway, egoid)\n",
    "for driver in model.crosswalk_drivers\n",
    "    AutomotiveDrivingModels.observe!(driver, scene, roadway, egoid)\n",
    "end\n",
    "a_lon_crosswalks = minimum([driver.a.a_lon for driver in model.crosswalk_drivers])\n",
    "a_lon_crosswalks"
   ]
  },
  {
   "cell_type": "code",
   "execution_count": 14,
   "metadata": {},
   "outputs": [],
   "source": [
    "crosswalk = model.crosswalk_drivers[2].crosswalk\n",
    "conflict_lanes = model.crosswalk_drivers[2].conflict_lanes;"
   ]
  },
  {
   "cell_type": "code",
   "execution_count": 15,
   "metadata": {},
   "outputs": [
    {
     "data": {
      "text/plain": [
       "false"
      ]
     },
     "execution_count": 15,
     "metadata": {},
     "output_type": "execute_result"
    }
   ],
   "source": [
    "ped = scene[findfirst(scene, 101)]\n",
    "AutomotivePOMDPs.is_crossing(ped, crosswalk, conflict_lanes, scene, roadway)"
   ]
  },
  {
   "cell_type": "code",
   "execution_count": 35,
   "metadata": {},
   "outputs": [
    {
     "name": "stderr",
     "output_type": "stream",
     "text": [
      "\u001b[32mProgress:  67%|████████████████████████████             |  ETA: 0:22:31\u001b[39m"
     ]
    },
    {
     "name": "stdout",
     "output_type": "stream",
     "text": [
      "Crash\n"
     ]
    },
    {
     "name": "stderr",
     "output_type": "stream",
     "text": [
      "\r",
      "\u001b[32mProgress:  67%|████████████████████████████             |  ETA: 0:22:30\u001b[39m\r",
      "\u001b[32mProgress: 100%|█████████████████████████████████████████| Time: 0:46:02\u001b[39m\n"
     ]
    }
   ],
   "source": [
    "@showprogress for ep=1:10000\n",
    "    hr = HistoryRecorder(rng=rng, max_steps=100)\n",
    "    s0 = initial_state(pomdp, rng)\n",
    "    o0 = generate_o(pomdp, s0, rng)\n",
    "    up = FastPreviousObservationUpdater{UrbanObs}()\n",
    "    b0 = initialize_belief(up, o0)\n",
    "    hist2 = simulate(hr, pomdp, rand_pol, up, b0, s0)\n",
    "    if sum(hist2.reward_hist .< 0.) != 0.\n",
    "        println(\"Crash\")\n",
    "        break\n",
    "    end\n",
    "end"
   ]
  },
  {
   "cell_type": "markdown",
   "metadata": {},
   "source": [
    "## Visualize trained policy"
   ]
  },
  {
   "cell_type": "code",
   "execution_count": 13,
   "metadata": {},
   "outputs": [
    {
     "name": "stderr",
     "output_type": "stream",
     "text": [
      "2018-06-13 09:27:00.973652: I tensorflow/core/platform/cpu_feature_guard.cc:140] Your CPU supports instructions that this TensorFlow binary was not compiled to use: SSE4.1 SSE4.2 AVX AVX2 FMA\n"
     ]
    }
   ],
   "source": [
    "policy = DeepQLearning.restore(problem_file=\"jointmdp-log/log4/problem.jld\", weights_file=\"jointmdp-log/log4/weights.jld\");"
   ]
  },
  {
   "cell_type": "code",
   "execution_count": 14,
   "metadata": {},
   "outputs": [],
   "source": [
    "masked_policy = MaskedDQNPolicy(pomdp, policy, joint_mask);"
   ]
  },
  {
   "cell_type": "code",
   "execution_count": 15,
   "metadata": {},
   "outputs": [],
   "source": [
    "function POMDPToolbox.action_info(policy::MaskedDQNPolicy, s)\n",
    "    return action(policy, s), safe_actions(policy.problem, policy.mask, s)\n",
    "end"
   ]
  },
  {
   "cell_type": "code",
   "execution_count": 44,
   "metadata": {},
   "outputs": [
    {
     "name": "stdout",
     "output_type": "stream",
     "text": [
      "  0.455220 seconds (3.55 M allocations: 113.499 MiB, 13.66% gc time)\n"
     ]
    }
   ],
   "source": [
    "hr = HistoryRecorder(rng=rng, max_steps=100)\n",
    "s0 = initial_state(pomdp, rng)\n",
    "o0 = generate_o(pomdp, s0, rng)\n",
    "up = FastPreviousObservationUpdater{UrbanObs}()\n",
    "b0 = initialize_belief(up, o0)\n",
    "@time hist2 = simulate(hr, pomdp, masked_policy, up, b0, s0);"
   ]
  },
  {
   "cell_type": "code",
   "execution_count": 45,
   "metadata": {},
   "outputs": [
    {
     "data": {
      "text/html": [
       "<video autoplay controls><source src=\"files/reel-4741594687569196086.webm?7772231488762179381\" type=\"video/webm\"></video>"
      ],
      "text/plain": [
       "Reel.Frames{MIME{Symbol(\"image/png\")}}(\"/tmp/tmpy2VmWB\", 0x0000000000000049, 2.0, nothing)"
      ]
     },
     "execution_count": 45,
     "metadata": {},
     "output_type": "execute_result"
    }
   ],
   "source": [
    "h = hist2\n",
    "state_hist = h.state_hist\n",
    "action_hist = h.action_hist\n",
    "safe_actions_hist = h.ainfo_hist\n",
    "push!(action_hist, CarMDPAction(NaN))\n",
    "push!(safe_actions_hist, [CarMDPAction(NaN)])\n",
    "duration, fps, render_hist = animate_states(pomdp, state_hist, action_hist, safe_actions_hist, joint_mask, interp=false)\n",
    "film = roll(render_hist, fps = fps, duration = duration)"
   ]
  },
  {
   "cell_type": "code",
   "execution_count": 22,
   "metadata": {},
   "outputs": [
    {
     "data": {
      "text/plain": [
       "AutomotivePOMDPs.CrosswalkDriver\n",
       "  a: AutomotivePOMDPs.LonAccelDirection\n",
       "  navigator: AutomotivePOMDPs.RouteFollowingIDM\n",
       "  crosswalk: AutomotiveDrivingModels.Lane\n",
       "  conflict_lanes: Array{AutomotiveDrivingModels.Lane}((6,))\n",
       "  intersection_entrances: Array{AutomotiveDrivingModels.Lane}((3,))\n",
       "  ped_model: AutomotivePOMDPs.ConstantPedestrian\n",
       "  ped_start: Float64 4.0\n",
       "  stop_delta: Float64 0.7\n",
       "  accel_tol: Float64 0.1\n",
       "  d_tol: Float64 0.5\n",
       "  yield: Bool true\n",
       "  priority: Bool true\n",
       "  stop: Bool false\n",
       "  wait_list: Array{Int64}((0,)) Int64[]\n",
       "  clear: Bool false\n",
       "  debug: Bool false\n"
      ]
     },
     "execution_count": 22,
     "metadata": {},
     "output_type": "execute_result"
    }
   ],
   "source": [
    "egoid = 2\n",
    "model = pomdp.models[egoid]\n",
    "scene = state_hist[62]\n",
    "roadway = env.roadway\n",
    "observe!(model, scene, roadway, 2)\n",
    "AutomotiveDrivingModels.observe!(model.navigator, scene, roadway, egoid)\n",
    "AutomotiveDrivingModels.observe!(model.intersection_driver, scene, roadway, egoid)\n",
    "for driver in model.crosswalk_drivers\n",
    "    AutomotiveDrivingModels.observe!(driver, scene, roadway, egoid)\n",
    "end\n",
    "a_lon_crosswalks = minimum([driver.a.a_lon for driver in model.crosswalk_drivers])\n",
    "model = model.crosswalk_drivers[1]"
   ]
  },
  {
   "cell_type": "code",
   "execution_count": 23,
   "metadata": {},
   "outputs": [
    {
     "data": {
      "text/plain": [
       "false"
      ]
     },
     "execution_count": 23,
     "metadata": {},
     "output_type": "execute_result"
    }
   ],
   "source": [
    "ego = scene[findfirst(scene, egoid)]\n",
    "lane = get_lane(roadway, ego)\n",
    "cw_length = get_end(model.crosswalk)\n",
    "cw_center = get_posG(Frenet(model.crosswalk, cw_length/2), roadway)\n",
    "collision_point = VecSE2(cw_center.x+model.crosswalk.width/2, ego.state.posG.y)\n",
    "collision_point_posF = Frenet(proj(collision_point, lane, roadway, move_along_curves=false), roadway)\n",
    "has_passed = lane ∈ model.conflict_lanes && (ego.state.posF.s > collision_point_posF.s)"
   ]
  },
  {
   "cell_type": "code",
   "execution_count": 29,
   "metadata": {},
   "outputs": [
    {
     "name": "stdout",
     "output_type": "stream",
     "text": [
      "time out!\n"
     ]
    },
    {
     "name": "stderr",
     "output_type": "stream",
     "text": [
      "\r",
      "\u001b[32mProgress:   5%|██                                       |  ETA: 0:00:09\u001b[39m\r",
      "\u001b[32mProgress: 100%|█████████████████████████████████████████| Time: 0:00:00\u001b[39m\n"
     ]
    }
   ],
   "source": [
    "@showprogress for ep=1:20\n",
    "    hr = HistoryRecorder(rng=rng, max_steps=100)\n",
    "    s0 = initial_state(pomdp, rng)\n",
    "    o0 = generate_o(pomdp, s0, rng)\n",
    "    up = FastPreviousObservationUpdater{UrbanObs}()\n",
    "    b0 = initialize_belief(up, o0)\n",
    "    hist2 = simulate(hr, pomdp, rand_pol, up, b0, s0)\n",
    "    if n_steps(hist2) >= 100\n",
    "        println(\"time out!\")\n",
    "        break\n",
    "    end\n",
    "end"
   ]
  },
  {
   "cell_type": "code",
   "execution_count": 33,
   "metadata": {},
   "outputs": [
    {
     "name": "stdout",
     "output_type": "stream",
     "text": [
      "167.059055 seconds (1.50 G allocations: 46.722 GiB, 14.73% gc time)\n",
      "Summary for 1000 episodes: \n",
      "Average reward: 0.302 \n",
      "Average # of steps: 29.999 \n",
      "Average # of violations: 0.000 \n"
     ]
    }
   ],
   "source": [
    "@time rewards_mask, steps_mask, violations_mask = evaluation_loop(pomdp, masked_policy, n_ep=1000, max_steps=100, rng=rng);\n",
    "print_summary(rewards_mask, steps_mask, violations_mask)"
   ]
  },
  {
   "cell_type": "code",
   "execution_count": null,
   "metadata": {},
   "outputs": [],
   "source": []
  }
 ],
 "metadata": {
  "kernelspec": {
   "display_name": "Julia 0.6.1",
   "language": "julia",
   "name": "julia-0.6"
  },
  "language_info": {
   "file_extension": ".jl",
   "mimetype": "application/julia",
   "name": "julia",
   "version": "0.6.1"
  }
 },
 "nbformat": 4,
 "nbformat_minor": 2
}
