{
 "cells": [
  {
   "cell_type": "markdown",
   "metadata": {},
   "source": [
    "# Joint problem: Avoid 1 car and 1 pedestrian"
   ]
  },
  {
   "cell_type": "markdown",
   "metadata": {},
   "source": [
    "**Load dependencies**"
   ]
  },
  {
   "cell_type": "code",
   "execution_count": 1,
   "metadata": {},
   "outputs": [],
   "source": [
    "rng = MersenneTwister(2);"
   ]
  },
  {
   "cell_type": "code",
   "execution_count": 2,
   "metadata": {},
   "outputs": [
    {
     "name": "stderr",
     "output_type": "stream",
     "text": [
      "WARNING: Method definition info(Any...) in module Base at util.jl:532 overwritten in module Logging at /mnt/c/Users/Maxime/wsl/.julia/v0.6/Logging/src/Logging.jl:115.\n",
      "WARNING: Method definition warn(Any...) in module Base at util.jl:585 overwritten in module Logging at /mnt/c/Users/Maxime/wsl/.julia/v0.6/Logging/src/Logging.jl:115.\n",
      "WARNING: Method definition copy!(Array{Float64, 1}, AutomotiveDrivingModels.LatLonAccel) in module AutomotiveDrivingModels at /mnt/c/Users/Maxime/wsl/.julia/v0.6/AutomotiveDrivingModels/src/2d/actions/lat_lon_accel.jl:13 overwritten in module AutoUrban at /mnt/c/Users/Maxime/wsl/.julia/v0.6/AutoUrban/src/simulation/actions.jl:10.\n"
     ]
    }
   ],
   "source": [
    "using AutomotivePOMDPs\n",
    "using MDPModelChecking"
   ]
  },
  {
   "cell_type": "code",
   "execution_count": 3,
   "metadata": {},
   "outputs": [
    {
     "name": "stderr",
     "output_type": "stream",
     "text": [
      "\u001b[1m\u001b[33mWARNING: \u001b[39m\u001b[22m\u001b[33mLoading a new version of TensorFlow.jl for the first time. This initial load can take around 5 minutes as code is precompiled; subsequent usage will only take a few seconds.\u001b[39m\n",
      "WARNING: Method definition info(Any...) in module Base at util.jl:532 overwritten in module Logging at /mnt/c/Users/Maxime/wsl/.julia/v0.6/Logging/src/Logging.jl:115.\n",
      "WARNING: Method definition warn(Any...) in module Base at util.jl:585 overwritten in module Logging at /mnt/c/Users/Maxime/wsl/.julia/v0.6/Logging/src/Logging.jl:115.\n"
     ]
    }
   ],
   "source": [
    "using GridInterpolations, StaticArrays, POMDPs, POMDPToolbox, AutoViz, AutomotiveDrivingModels, Reel\n",
    "using DiscreteValueIteration, DeepQLearning, DeepRL\n",
    "using ProgressMeter, Parameters, JLD"
   ]
  },
  {
   "cell_type": "code",
   "execution_count": 4,
   "metadata": {},
   "outputs": [
    {
     "data": {
      "text/plain": [
       "AutoViz.FitToContentCamera(0.0)"
      ]
     },
     "execution_count": 4,
     "metadata": {},
     "output_type": "execute_result"
    }
   ],
   "source": [
    "cam = FitToContentCamera(0.)"
   ]
  },
  {
   "cell_type": "code",
   "execution_count": 5,
   "metadata": {},
   "outputs": [],
   "source": [
    "include(\"masking.jl\")\n",
    "include(\"util.jl\")\n",
    "include(\"render_helpers.jl\")\n",
    "include(\"masked_dqn.jl\")"
   ]
  },
  {
   "cell_type": "markdown",
   "metadata": {},
   "source": [
    "## Driving environment"
   ]
  },
  {
   "cell_type": "code",
   "execution_count": 6,
   "metadata": {},
   "outputs": [],
   "source": [
    "params = UrbanParams(nlanes_main=1,\n",
    "                     crosswalk_pos =  [VecSE2(6, 0., pi/2), VecSE2(-6, 0., pi/2), VecSE2(0., -5., 0.)],\n",
    "                     crosswalk_length =  [14.0, 14., 14.0],\n",
    "                     crosswalk_width = [4.0, 4.0, 3.1],\n",
    "                     stop_line = 22.0)\n",
    "env = UrbanEnv(params=params);"
   ]
  },
  {
   "cell_type": "markdown",
   "metadata": {},
   "source": [
    "## Discretized MDPs"
   ]
  },
  {
   "cell_type": "code",
   "execution_count": 7,
   "metadata": {},
   "outputs": [],
   "source": [
    "ped_mdp = PedMDP(env = env, vel_res=1., pos_res=1., ped_type=VehicleDef(AgentClass.PEDESTRIAN, 1.0, 3.0), ped_birth=0.7)\n",
    "car_mdp = CarMDP(env = env, vel_res=1., pos_res=2.);"
   ]
  },
  {
   "cell_type": "code",
   "execution_count": 8,
   "metadata": {},
   "outputs": [],
   "source": [
    "ped_mask_file = \"pedmask.jld\"\n",
    "car_mask_file = \"carmask.jld\"\n",
    "ped_mask = load(ped_mask_file)[\"mask\"]\n",
    "car_mask = load(car_mask_file)[\"mask\"];"
   ]
  },
  {
   "cell_type": "markdown",
   "metadata": {},
   "source": [
    "## Continuous space scenario"
   ]
  },
  {
   "cell_type": "code",
   "execution_count": 9,
   "metadata": {},
   "outputs": [],
   "source": [
    "pomdp = UrbanPOMDP(env=env,\n",
    "                   ego_goal = LaneTag(2, 1),\n",
    "                   max_cars=1, \n",
    "                   max_peds=1, \n",
    "                   car_birth=0.3, \n",
    "                   ped_birth=0.7, \n",
    "                   obstacles=false, # no fixed obstacles\n",
    "                   lidar=false,\n",
    "                   pos_obs_noise = 0., # fully observable\n",
    "                   vel_obs_noise = 0.);"
   ]
  },
  {
   "cell_type": "code",
   "execution_count": 10,
   "metadata": {},
   "outputs": [],
   "source": [
    "masks = SafetyMask[ped_mask, car_mask]\n",
    "ids = [101, 2]\n",
    "joint_mask = JointMask([ped_mdp, car_mdp], masks, ids)\n",
    "rand_pol = RandomMaskedPOMDPPolicy(joint_mask, pomdp, rng);"
   ]
  },
  {
   "cell_type": "code",
   "execution_count": 11,
   "metadata": {},
   "outputs": [
    {
     "name": "stdout",
     "output_type": "stream",
     "text": [
      "  5.441887 seconds (4.47 M allocations: 173.682 MiB, 5.22% gc time)\n"
     ]
    }
   ],
   "source": [
    "hr = HistoryRecorder(rng=rng, max_steps=100)\n",
    "s0 = initial_state(pomdp, rng)\n",
    "o0 = generate_o(pomdp, s0, rng)\n",
    "up = FastPreviousObservationUpdater{UrbanObs}()\n",
    "b0 = initialize_belief(up, o0)\n",
    "@time hist2 = simulate(hr, pomdp, rand_pol, up, b0, s0);"
   ]
  },
  {
   "cell_type": "code",
   "execution_count": 12,
   "metadata": {},
   "outputs": [
    {
     "data": {
      "text/html": [
       "<video autoplay controls><source src=\"files/reel-12346273704236360939.webm?12382739201926809149\" type=\"video/webm\"></video>"
      ],
      "text/plain": [
       "Reel.Frames{MIME{Symbol(\"image/png\")}}(\"/tmp/tmpyDWATN\", 0x000000000000003a, 2.0, nothing)"
      ]
     },
     "execution_count": 12,
     "metadata": {},
     "output_type": "execute_result"
    }
   ],
   "source": [
    "h = hist2\n",
    "state_hist = h.state_hist\n",
    "action_hist = h.action_hist\n",
    "safe_actions_hist = h.ainfo_hist\n",
    "push!(action_hist, CarMDPAction(NaN))\n",
    "push!(safe_actions_hist, [CarMDPAction(NaN)])\n",
    "duration, fps, render_hist = animate_states(pomdp, state_hist, action_hist, safe_actions_hist, joint_mask, interp=false)\n",
    "film = roll(render_hist, fps = fps, duration = duration)"
   ]
  },
  {
   "cell_type": "code",
   "execution_count": 13,
   "metadata": {},
   "outputs": [
    {
     "name": "stderr",
     "output_type": "stream",
     "text": [
      "\u001b[32mProgress: 100%|█████████████████████████████████████████| Time: 0:00:18\u001b[39m\n"
     ]
    }
   ],
   "source": [
    "@showprogress for ep=1:20\n",
    "    hr = HistoryRecorder(rng=rng, max_steps=100)\n",
    "    s0 = initial_state(pomdp, rng)\n",
    "    o0 = generate_o(pomdp, s0, rng)\n",
    "    up = FastPreviousObservationUpdater{UrbanObs}()\n",
    "    b0 = initialize_belief(up, o0)\n",
    "    hist2 = simulate(hr, pomdp, rand_pol, up, b0, s0)\n",
    "    if sum(hist2.reward_hist .< 0.) != 0.\n",
    "        println(\"Crash\")\n",
    "        break\n",
    "    end\n",
    "end"
   ]
  },
  {
   "cell_type": "markdown",
   "metadata": {},
   "source": [
    "## Visualize trained policy"
   ]
  },
  {
   "cell_type": "code",
   "execution_count": 21,
   "metadata": {},
   "outputs": [
    {
     "name": "stderr",
     "output_type": "stream",
     "text": [
      "2018-06-01 10:56:23.155730: I tensorflow/core/platform/cpu_feature_guard.cc:140] Your CPU supports instructions that this TensorFlow binary was not compiled to use: SSE4.1 SSE4.2 AVX AVX2 FMA\n"
     ]
    },
    {
     "ename": "MethodError",
     "evalue": "\u001b[91mMethodError: show(::IOContext{Base.AbstractIOBuffer{Array{UInt8,1}}}, ::Records.Frame{Records.Entity{AutomotiveDrivingModels.VehicleState,AutomotiveDrivingModels.VehicleDef,Int64}}) is ambiguous. Candidates:\n  show(io, scene::Records.Frame{Records.Entity{AutomotiveDrivingModels.VehicleState,AutomotiveDrivingModels.VehicleDef,Int64}}) in AutomotiveDrivingModels at /mnt/c/Users/Maxime/wsl/.julia/v0.6/AutomotiveDrivingModels/src/2d/vehicles/scenes.jl:5\n  show(io::IO, frame::Records.Frame{E}) where E in Records at /mnt/c/Users/Maxime/wsl/.julia/v0.6/Records/src/frames.jl:16\nPossible fix, define\n  show(::IO, ::Records.Frame{Records.Entity{AutomotiveDrivingModels.VehicleState,AutomotiveDrivingModels.VehicleDef,Int64}})\u001b[39m",
     "output_type": "error",
     "traceback": [
      "\u001b[91mMethodError: show(::IOContext{Base.AbstractIOBuffer{Array{UInt8,1}}}, ::Records.Frame{Records.Entity{AutomotiveDrivingModels.VehicleState,AutomotiveDrivingModels.VehicleDef,Int64}}) is ambiguous. Candidates:\n  show(io, scene::Records.Frame{Records.Entity{AutomotiveDrivingModels.VehicleState,AutomotiveDrivingModels.VehicleDef,Int64}}) in AutomotiveDrivingModels at /mnt/c/Users/Maxime/wsl/.julia/v0.6/AutomotiveDrivingModels/src/2d/vehicles/scenes.jl:5\n  show(io::IO, frame::Records.Frame{E}) where E in Records at /mnt/c/Users/Maxime/wsl/.julia/v0.6/Records/src/frames.jl:16\nPossible fix, define\n  show(::IO, ::Records.Frame{Records.Entity{AutomotiveDrivingModels.VehicleState,AutomotiveDrivingModels.VehicleDef,Int64}})\u001b[39m",
      "",
      "Stacktrace:",
      " [1] \u001b[1mshow_default\u001b[22m\u001b[22m\u001b[1m(\u001b[22m\u001b[22m::IOContext{Base.AbstractIOBuffer{Array{UInt8,1}}}, ::Any\u001b[1m)\u001b[22m\u001b[22m at \u001b[1m./show.jl:140\u001b[22m\u001b[22m",
      " [2] \u001b[1mshow\u001b[22m\u001b[22m\u001b[1m(\u001b[22m\u001b[22m::IOContext{Base.AbstractIOBuffer{Array{UInt8,1}}}, ::Any\u001b[1m)\u001b[22m\u001b[22m at \u001b[1m./show.jl:125\u001b[22m\u001b[22m",
      " [3] \u001b[1mshow_default\u001b[22m\u001b[22m\u001b[1m(\u001b[22m\u001b[22m::IOContext{Base.AbstractIOBuffer{Array{UInt8,1}}}, ::Any\u001b[1m)\u001b[22m\u001b[22m at \u001b[1m./show.jl:140\u001b[22m\u001b[22m",
      " [4] \u001b[1mlimitstringmime\u001b[22m\u001b[22m\u001b[1m(\u001b[22m\u001b[22m::MIME{Symbol(\"text/plain\")}, ::DeepQLearning.DQNPolicy\u001b[1m)\u001b[22m\u001b[22m at \u001b[1m/mnt/c/Users/Maxime/wsl/.julia/v0.6/IJulia/src/inline.jl:24\u001b[22m\u001b[22m",
      " [5] \u001b[1mdisplay_dict\u001b[22m\u001b[22m\u001b[1m(\u001b[22m\u001b[22m::DeepQLearning.DQNPolicy\u001b[1m)\u001b[22m\u001b[22m at \u001b[1m/mnt/c/Users/Maxime/wsl/.julia/v0.6/IJulia/src/execute_request.jl:28\u001b[22m\u001b[22m",
      " [6] \u001b[1m(::Compat.#inner#18{Array{Any,1},IJulia.#display_dict,Tuple{DeepQLearning.DQNPolicy}})\u001b[22m\u001b[22m\u001b[1m(\u001b[22m\u001b[22m\u001b[1m)\u001b[22m\u001b[22m at \u001b[1m/mnt/c/Users/Maxime/wsl/.julia/v0.6/Compat/src/Compat.jl:386\u001b[22m\u001b[22m",
      " [7] \u001b[1mexecute_request\u001b[22m\u001b[22m\u001b[1m(\u001b[22m\u001b[22m::ZMQ.Socket, ::IJulia.Msg\u001b[1m)\u001b[22m\u001b[22m at \u001b[1m/mnt/c/Users/Maxime/wsl/.julia/v0.6/IJulia/src/execute_request.jl:186\u001b[22m\u001b[22m",
      " [8] \u001b[1m(::Compat.#inner#18{Array{Any,1},IJulia.#execute_request,Tuple{ZMQ.Socket,IJulia.Msg}})\u001b[22m\u001b[22m\u001b[1m(\u001b[22m\u001b[22m\u001b[1m)\u001b[22m\u001b[22m at \u001b[1m/mnt/c/Users/Maxime/wsl/.julia/v0.6/Compat/src/Compat.jl:386\u001b[22m\u001b[22m",
      " [9] \u001b[1meventloop\u001b[22m\u001b[22m\u001b[1m(\u001b[22m\u001b[22m::ZMQ.Socket\u001b[1m)\u001b[22m\u001b[22m at \u001b[1m/mnt/c/Users/Maxime/wsl/.julia/v0.6/IJulia/src/eventloop.jl:8\u001b[22m\u001b[22m",
      " [10] \u001b[1m(::IJulia.##14#17)\u001b[22m\u001b[22m\u001b[1m(\u001b[22m\u001b[22m\u001b[1m)\u001b[22m\u001b[22m at \u001b[1m./task.jl:335\u001b[22m\u001b[22m"
     ]
    }
   ],
   "source": [
    "policy = DeepQLearning.restore(problem_file=\"jointmdp-log/log2/problem.jld\", weights_file=\"jointmdp-log/log2/weights.jld\");"
   ]
  },
  {
   "cell_type": "code",
   "execution_count": 23,
   "metadata": {},
   "outputs": [],
   "source": [
    "masked_policy = MaskedDQNPolicy(pomdp, policy, joint_mask);"
   ]
  },
  {
   "cell_type": "code",
   "execution_count": 26,
   "metadata": {},
   "outputs": [],
   "source": [
    "function POMDPToolbox.action_info(policy::MaskedDQNPolicy, s)\n",
    "    return action(policy, s), safe_actions(policy.problem, policy.mask, s)\n",
    "end"
   ]
  },
  {
   "cell_type": "code",
   "execution_count": 35,
   "metadata": {},
   "outputs": [
    {
     "name": "stdout",
     "output_type": "stream",
     "text": [
      "  0.251545 seconds (1.11 M allocations: 35.148 MiB, 17.30% gc time)\n"
     ]
    }
   ],
   "source": [
    "hr = HistoryRecorder(rng=rng, max_steps=100)\n",
    "s0 = initial_state(pomdp, rng)\n",
    "o0 = generate_o(pomdp, s0, rng)\n",
    "up = FastPreviousObservationUpdater{UrbanObs}()\n",
    "b0 = initialize_belief(up, o0)\n",
    "@time hist2 = simulate(hr, pomdp, masked_policy, up, b0, s0);"
   ]
  },
  {
   "cell_type": "code",
   "execution_count": 42,
   "metadata": {},
   "outputs": [
    {
     "data": {
      "text/html": [
       "<video autoplay controls><source src=\"files/reel-15043122178996011266.webm?787691301260286417\" type=\"video/webm\"></video>"
      ],
      "text/plain": [
       "Reel.Frames{MIME{Symbol(\"image/png\")}}(\"/tmp/tmp8sI8Di\", 0x0000000000000065, 2.0, nothing)"
      ]
     },
     "execution_count": 42,
     "metadata": {},
     "output_type": "execute_result"
    }
   ],
   "source": [
    "h = hist2\n",
    "state_hist = h.state_hist\n",
    "action_hist = h.action_hist\n",
    "safe_actions_hist = h.ainfo_hist\n",
    "push!(action_hist, CarMDPAction(NaN))\n",
    "push!(safe_actions_hist, [CarMDPAction(NaN)])\n",
    "duration, fps, render_hist = animate_states(pomdp, state_hist, action_hist, safe_actions_hist, joint_mask, interp=false)\n",
    "film = roll(render_hist, fps = fps, duration = duration)"
   ]
  },
  {
   "cell_type": "code",
   "execution_count": null,
   "metadata": {},
   "outputs": [],
   "source": [
    "model = pomdp.models[2]\n"
   ]
  },
  {
   "cell_type": "code",
   "execution_count": 41,
   "metadata": {},
   "outputs": [
    {
     "name": "stderr",
     "output_type": "stream",
     "text": [
      "\r",
      "\u001b[32mProgress:   5%|██                                       |  ETA: 0:00:03\u001b[39m"
     ]
    },
    {
     "name": "stdout",
     "output_type": "stream",
     "text": [
      "time out!\n"
     ]
    },
    {
     "name": "stderr",
     "output_type": "stream",
     "text": [
      "\r",
      "\u001b[32mProgress:  10%|████                                     |  ETA: 0:00:06\u001b[39m\r",
      "\u001b[32mProgress: 100%|█████████████████████████████████████████| Time: 0:00:01\u001b[39m\n"
     ]
    }
   ],
   "source": [
    "@showprogress for ep=1:20\n",
    "    hr = HistoryRecorder(rng=rng, max_steps=100)\n",
    "    s0 = initial_state(pomdp, rng)\n",
    "    o0 = generate_o(pomdp, s0, rng)\n",
    "    up = FastPreviousObservationUpdater{UrbanObs}()\n",
    "    b0 = initialize_belief(up, o0)\n",
    "    hist2 = simulate(hr, pomdp, rand_pol, up, b0, s0)\n",
    "    if n_steps(hist2) >= 100\n",
    "        println(\"time out!\")\n",
    "        break\n",
    "    end\n",
    "end"
   ]
  },
  {
   "cell_type": "code",
   "execution_count": null,
   "metadata": {},
   "outputs": [],
   "source": []
  }
 ],
 "metadata": {
  "kernelspec": {
   "display_name": "Julia 0.6.1",
   "language": "julia",
   "name": "julia-0.6"
  },
  "language_info": {
   "file_extension": ".jl",
   "mimetype": "application/julia",
   "name": "julia",
   "version": "0.6.1"
  }
 },
 "nbformat": 4,
 "nbformat_minor": 2
}
