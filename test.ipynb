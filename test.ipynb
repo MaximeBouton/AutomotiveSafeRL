{
 "cells": [
  {
   "cell_type": "markdown",
   "metadata": {},
   "source": [
    "# Left turn scenario - abstraction and high fidelity environment"
   ]
  },
  {
   "cell_type": "code",
   "execution_count": 1,
   "metadata": {},
   "outputs": [
    {
     "data": {
      "text/plain": [
       "MersenneTwister(UInt32[0x00000001], Base.dSFMT.DSFMT_state(Int32[1749029653, 1072851681, 1610647787, 1072862326, 1841712345, 1073426746, -198061126, 1073322060, -156153802, 1073567984  …  1977574422, 1073209915, 278919868, 1072835605, 1290372147, 18858467, 1815133874, -1716870370, 382, 0]), [0.0, 0.0, 0.0, 0.0, 0.0, 0.0, 0.0, 0.0, 0.0, 0.0  …  0.0, 0.0, 0.0, 0.0, 0.0, 0.0, 0.0, 0.0, 0.0, 0.0], 382)"
      ]
     },
     "execution_count": 1,
     "metadata": {},
     "output_type": "execute_result"
    }
   ],
   "source": [
    "rng = MersenneTwister(1)"
   ]
  },
  {
   "cell_type": "code",
   "execution_count": 2,
   "metadata": {},
   "outputs": [
    {
     "name": "stderr",
     "output_type": "stream",
     "text": [
      "WARNING: Method definition info(Any...) in module Base at util.jl:532 overwritten in module Logging at /mnt/c/Users/Maxime/wsl/.julia/v0.6/Logging/src/Logging.jl:115.\n",
      "WARNING: Method definition warn(Any...) in module Base at util.jl:585 overwritten in module Logging at /mnt/c/Users/Maxime/wsl/.julia/v0.6/Logging/src/Logging.jl:115.\n",
      "WARNING: Method definition copy!(Array{Float64, 1}, AutomotiveDrivingModels.LatLonAccel) in module AutomotiveDrivingModels at /mnt/c/Users/Maxime/wsl/.julia/v0.6/AutomotiveDrivingModels/src/2d/actions/lat_lon_accel.jl:13 overwritten in module AutoUrban at /mnt/c/Users/Maxime/wsl/.julia/v0.6/AutoUrban/src/simulation/actions.jl:10.\n"
     ]
    }
   ],
   "source": [
    "include(\"../AutomotivePOMDPs/AutomotivePOMDPs.jl\")\n",
    "using AutomotivePOMDPs"
   ]
  },
  {
   "cell_type": "code",
   "execution_count": 3,
   "metadata": {},
   "outputs": [],
   "source": [
    "using POMDPs, POMDPToolbox, AutoViz, AutomotiveDrivingModels, Reel"
   ]
  },
  {
   "cell_type": "code",
   "execution_count": 4,
   "metadata": {},
   "outputs": [],
   "source": [
    "env = IntersectionEnv(TInterParams(nlanes_main=1, stop_line=16.0));"
   ]
  },
  {
   "cell_type": "code",
   "execution_count": 5,
   "metadata": {},
   "outputs": [],
   "source": [
    "abs_pomdp = SingleOIPOMDP(); # discrete, explicit\n",
    "pomdp = OIPOMDP(env=env);  # continuous, generative"
   ]
  },
  {
   "cell_type": "code",
   "execution_count": 6,
   "metadata": {},
   "outputs": [],
   "source": [
    "policy = solve(RandomSolver(rng), pomdp)\n",
    "up = updater(policy);"
   ]
  },
  {
   "cell_type": "markdown",
   "metadata": {},
   "source": [
    "# Design a safe policy based on a deterministic model\n",
    "\n",
    "The policy consists of one decision rule based on the time to collision (TTC)\n",
    "\n",
    "Let $T_{complete}$ be the minimum time it takes for the ego vehicle to cross the intersection. Let $TTC$ be the time it takes for the other vehicle to reach the intersection. \n",
    "Then the deicison rule can be described as follows:\n",
    "\n",
    "if $0<TTC<T_{complete}$\n",
    "\n",
    "    WAIT\n",
    "    \n",
    "else\n",
    "\n",
    "    GO\n",
    "    \n",
    "Let's compute $T_{complete}$:"
   ]
  },
  {
   "cell_type": "code",
   "execution_count": 7,
   "metadata": {},
   "outputs": [
    {
     "data": {
      "text/plain": [
       "Frenet(RoadIndex({1, 0.000000}, {2, 1}), 0.000, 0.000, 0.000)"
      ]
     },
     "execution_count": 7,
     "metadata": {},
     "output_type": "execute_result"
    }
   ],
   "source": [
    "# identify \"safe\" state to reach, the beginning of the exit lane\n",
    "safe_pos = Frenet(pomdp.env.roadway[pomdp.ego_goal], 0.)"
   ]
  },
  {
   "cell_type": "code",
   "execution_count": 8,
   "metadata": {},
   "outputs": [
    {
     "data": {
      "text/plain": [
       "0"
      ]
     },
     "execution_count": 8,
     "metadata": {},
     "output_type": "execute_result"
    }
   ],
   "source": [
    "# always accelerate\n",
    "struct AlwaysAccPolicy <: Policy\n",
    "end\n",
    "\n",
    "function POMDPs.action(policy::AlwaysAccPolicy, b)\n",
    "    return OIAction(2.0)\n",
    "end\n",
    "\n",
    "policy = AlwaysAccPolicy()\n",
    "\n",
    "# remove cars\n",
    "pomdp.max_cars = 0"
   ]
  },
  {
   "cell_type": "code",
   "execution_count": 9,
   "metadata": {},
   "outputs": [
    {
     "name": "stdout",
     "output_type": "stream",
     "text": [
      "  0.742065 seconds (618.10 k allocations: 30.437 MiB, 1.18% gc time)\n"
     ]
    }
   ],
   "source": [
    "s0 = initial_state(pomdp, rng)\n",
    "o0 = generate_o(pomdp, s0, rng)\n",
    "hr = HistoryRecorder(rng=rng)\n",
    "@time hist = simulate(hr, pomdp, policy, up, o0, s0);"
   ]
  },
  {
   "cell_type": "code",
   "execution_count": 10,
   "metadata": {},
   "outputs": [
    {
     "name": "stdout",
     "output_type": "stream",
     "text": [
      "Ego has reached state Frenet(RoadIndex({1, 0.240044}, {2, 1}), 3.361, 0.000, 0.000) in 9 steps\n",
      "T_complete = 4.5\n"
     ]
    }
   ],
   "source": [
    "step = nothing\n",
    "state = nothing\n",
    "for (i,s) in enumerate(hist.state_hist)\n",
    "    ego = get_ego(s)\n",
    "    if ego.state.posF.s > 0. && get_lane(pomdp.env.roadway, ego).tag == pomdp.ego_goal\n",
    "        step = i\n",
    "        state = s\n",
    "        break\n",
    "    end\n",
    "end\n",
    "T_complete = step*pomdp.ΔT\n",
    "println(\"Ego has reached state $(get_ego(state).state.posF) in $step steps\")\n",
    "println(\"T_complete = $T_complete\")"
   ]
  },
  {
   "cell_type": "markdown",
   "metadata": {},
   "source": [
    "** TTC Policy assuming constant velocity **\n",
    "\n",
    "$$TTC = \\frac{(s_{coll} - s)}{v}$$\n",
    "\n",
    "where $s$ is the longitudinal position of the vehicle and $v$ its longitudinal."
   ]
  },
  {
   "cell_type": "code",
   "execution_count": 11,
   "metadata": {},
   "outputs": [
    {
     "data": {
      "text/plain": [
       "POMDPToolbox.FastPreviousObservationUpdater{Array{Float64,1}}()"
      ]
     },
     "execution_count": 11,
     "metadata": {},
     "output_type": "execute_result"
    }
   ],
   "source": [
    "#Assume full observability\n",
    "pomdp.pos_obs_noise = 0.\n",
    "pomdp.vel_obs_noise = 0.\n",
    "up = FastPreviousObservationUpdater{obs_type(pomdp)}()"
   ]
  },
  {
   "cell_type": "code",
   "execution_count": 12,
   "metadata": {},
   "outputs": [],
   "source": [
    "# TTC Policy\n",
    "struct TTCPolicy <: Policy\n",
    "    pomdp::OIPOMDP\n",
    "    T_complete::Float64\n",
    "    \n",
    "end\n",
    "\n",
    "function POMDPs.action(policy::TTCPolicy, o::OIObs)\n",
    "    o_scene = obs_to_scene(policy.pomdp, o)\n",
    "    ego = get_ego(o_scene)\n",
    "    if ego.state.v > 0.\n",
    "        return OIAction(2.0)\n",
    "    end\n",
    "    min_TTC = Inf\n",
    "    for veh in o_scene\n",
    "        if veh.id != EGO_ID\n",
    "            posG = veh.state.posG\n",
    "            inter_x = policy.pomdp.env.params.inter_x\n",
    "            # linear TTC\n",
    "            TTC = (inter_x - posG.x)/(veh.state.v*cos(posG.θ))\n",
    "            if 0 < TTC < min_TTC\n",
    "                min_TTC = TTC\n",
    "            end\n",
    "        end\n",
    "    end\n",
    "    if 0 < min_TTC < policy.T_complete\n",
    "        return OIAction(-4.0)\n",
    "    else\n",
    "        return OIAction(2.0)\n",
    "    end\n",
    "end"
   ]
  },
  {
   "cell_type": "code",
   "execution_count": 18,
   "metadata": {},
   "outputs": [
    {
     "name": "stdout",
     "output_type": "stream",
     "text": [
      "  0.049209 seconds (814.82 k allocations: 20.982 MiB, 12.02% gc time)\n"
     ]
    }
   ],
   "source": [
    "pomdp.max_cars = 100\n",
    "pomdp.p_birth = 0.9\n",
    "policy = TTCPolicy(pomdp, T_complete)\n",
    "s0 = initial_state(pomdp, rng, 20)\n",
    "o0 = generate_o(pomdp, s0, rng)\n",
    "hr = HistoryRecorder(rng=rng)\n",
    "@time hist = simulate(hr, pomdp, policy, up, o0, s0);"
   ]
  },
  {
   "cell_type": "code",
   "execution_count": 26,
   "metadata": {},
   "outputs": [
    {
     "data": {
      "text/html": [
       "<video autoplay controls><source src=\"files/reel-12783210786232837978.webm?14943022708869641640\" type=\"video/webm\"></video>"
      ],
      "text/plain": [
       "Reel.Frames{MIME{Symbol(\"image/png\")}}(\"/tmp/tmpM6r43c\", 0x000000000000001f, 2.0, nothing)"
      ]
     },
     "execution_count": 26,
     "metadata": {},
     "output_type": "execute_result"
    }
   ],
   "source": [
    "action_hist = [a.acc for a in hist.action_hist]\n",
    "insert!(action_hist,1, 0.)\n",
    "duration, fps, render_hist = animate_scenes(hist.state_hist, action_hist, env, \n",
    "                                            overlays=SceneOverlay[IDOverlay()], \n",
    "                                            sim_dt=pomdp.ΔT,\n",
    "                                            cam=StaticCamera(0.,-10.,22.0))\n",
    "film = roll(render_hist, fps = fps, duration = duration)"
   ]
  },
  {
   "cell_type": "markdown",
   "metadata": {},
   "source": [
    "**Evaluate the TTC Policy**"
   ]
  },
  {
   "cell_type": "code",
   "execution_count": 15,
   "metadata": {},
   "outputs": [],
   "source": [
    "using ProgressMeter"
   ]
  },
  {
   "cell_type": "code",
   "execution_count": 24,
   "metadata": {},
   "outputs": [
    {
     "name": "stderr",
     "output_type": "stream",
     "text": [
      "\u001b[32mProgress:   6%|██                                       |  ETA: 0:00:18\u001b[39m"
     ]
    },
    {
     "name": "stdout",
     "output_type": "stream",
     "text": [
      "Evaluation Results: 0.06 successes, 0.01 crashes, 0.00 time outs, 0.00 pm 0.00"
     ]
    },
    {
     "name": "stderr",
     "output_type": "stream",
     "text": [
      "\r",
      "\u001b[32mProgress:   7%|███                                      |  ETA: 0:00:17\u001b[39m\r",
      "\u001b[32mProgress: 100%|█████████████████████████████████████████| Time: 0:00:01\u001b[39m\n"
     ]
    }
   ],
   "source": [
    "n_episodes = 100\n",
    "max_steps = 300\n",
    "crashes = 0\n",
    "successes = 0\n",
    "time_outs = 0\n",
    "steps = zeros(n_episodes)\n",
    "\n",
    "pomdp.max_cars = 100\n",
    "pomdp.p_birth = 0.9\n",
    "policy = TTCPolicy(pomdp, T_complete)\n",
    "@showprogress for ep=1:n_episodes      \n",
    "    s0 = initial_state(pomdp, rng, 20)\n",
    "    o0 = generate_o(pomdp, s0, rng)\n",
    "    hr = HistoryRecorder(rng=rng, max_steps=max_steps)\n",
    "    hist = simulate(hr, pomdp, policy, up, o0, s0)\n",
    "    outcome = nothing\n",
    "    if is_crash(hist.state_hist[end])\n",
    "        crashes += 1\n",
    "        outcome = :crash\n",
    "        break\n",
    "    elseif length(hist.state_hist) == max_steps\n",
    "        time_outs += 1\n",
    "        outcome = :time_out\n",
    "    else\n",
    "        successes += 1\n",
    "        outcome = :success\n",
    "    end\n",
    "    \n",
    "#     println(\"Sim $ep : finished in $(length(hist.state_hist)), outcome is $outcome \")\n",
    "end\n",
    "@printf(\"Evaluation Results: %2.2f successes, %2.2f crashes, %2.2f time outs, %2.2f \\pm %2.2f\", \n",
    "         successes/n_episodes,\n",
    "         crashes/n_episodes,\n",
    "         time_outs/n_episodes,\n",
    "         mean(steps),\n",
    "         std(steps))\n"
   ]
  },
  {
   "cell_type": "code",
   "execution_count": 18,
   "metadata": {},
   "outputs": [
    {
     "data": {
      "text/markdown": [
       "```\n",
       "@printf([io::IOStream], \"%Fmt\", args...)\n",
       "```\n",
       "\n",
       "Print `args` using C `printf()` style format specification string, with some caveats: `Inf` and `NaN` are printed consistently as `Inf` and `NaN` for flags `%a`, `%A`, `%e`, `%E`, `%f`, `%F`, `%g`, and `%G`. Furthermore, if a floating point number is equally close to the numeric values of two possible output strings, the output string further away from zero is chosen.\n",
       "\n",
       "Optionally, an `IOStream` may be passed as the first argument to redirect output.\n",
       "\n",
       "# Examples\n",
       "\n",
       "```jldoctest\n",
       "julia> @printf(\"%f %F %f %F\\n\", Inf, Inf, NaN, NaN)\n",
       "Inf Inf NaN NaN\n",
       "\n",
       "\n",
       "julia> @printf \"%.0f %.1f %f\\n\" 0.5 0.025 -0.0078125\n",
       "1 0.0 -0.007813\n",
       "```\n"
      ],
      "text/plain": [
       "```\n",
       "@printf([io::IOStream], \"%Fmt\", args...)\n",
       "```\n",
       "\n",
       "Print `args` using C `printf()` style format specification string, with some caveats: `Inf` and `NaN` are printed consistently as `Inf` and `NaN` for flags `%a`, `%A`, `%e`, `%E`, `%f`, `%F`, `%g`, and `%G`. Furthermore, if a floating point number is equally close to the numeric values of two possible output strings, the output string further away from zero is chosen.\n",
       "\n",
       "Optionally, an `IOStream` may be passed as the first argument to redirect output.\n",
       "\n",
       "# Examples\n",
       "\n",
       "```jldoctest\n",
       "julia> @printf(\"%f %F %f %F\\n\", Inf, Inf, NaN, NaN)\n",
       "Inf Inf NaN NaN\n",
       "\n",
       "\n",
       "julia> @printf \"%.0f %.1f %f\\n\" 0.5 0.025 -0.0078125\n",
       "1 0.0 -0.007813\n",
       "```\n"
      ]
     },
     "execution_count": 18,
     "metadata": {},
     "output_type": "execute_result"
    }
   ],
   "source": [
    "?@printf"
   ]
  },
  {
   "cell_type": "code",
   "execution_count": 20,
   "metadata": {},
   "outputs": [
    {
     "data": {
      "text/html": [
       "4 methods for generic function <b>is_crash</b>:<ul><li> is_crash(pomdp::<b>AutomotivePOMDPs.SingleOIPOMDP</b>, ego::<b>AutomotiveDrivingModels.VehicleState</b>, car::<b>AutomotiveDrivingModels.VehicleState</b>) at <a href=\"https://github.com/sisl/AutomotivePOMDPs/tree/68542133120b3ac848178e33486e8da6fe243934//single_intersection/spaces.jl#L160\" target=\"_blank\">/mnt/c/Users/Maxime/OneDrive - Leland Stanford Junior University/Research/AutomotivePOMDPs/single_intersection/spaces.jl:160</a></li> <li> is_crash(pomdp::<b>AutomotivePOMDPs.SingleOCPOMDP</b>, s::<b>AutomotivePOMDPs.SingleOCState</b>) at <a href=\"https://github.com/sisl/AutomotivePOMDPs/tree/68542133120b3ac848178e33486e8da6fe243934//single_crosswalk/spaces.jl#L138\" target=\"_blank\">/mnt/c/Users/Maxime/OneDrive - Leland Stanford Junior University/Research/AutomotivePOMDPs/single_crosswalk/spaces.jl:138</a></li> <li> is_crash(pomdp::<b>AutomotivePOMDPs.SingleOCPOMDP</b>, ego::<b>AutomotiveDrivingModels.VehicleState</b>, ped::<b>AutomotiveDrivingModels.VehicleState</b>) at <a href=\"https://github.com/sisl/AutomotivePOMDPs/tree/68542133120b3ac848178e33486e8da6fe243934//single_crosswalk/spaces.jl#L131\" target=\"_blank\">/mnt/c/Users/Maxime/OneDrive - Leland Stanford Junior University/Research/AutomotivePOMDPs/single_crosswalk/spaces.jl:131</a></li> <li> is_crash(scene::<b>Records.Frame{Records.Entity{AutomotiveDrivingModels.VehicleState,AutomotiveDrivingModels.VehicleDef,Int64}}</b>) at <a href=\"https://github.com/sisl/AutomotivePOMDPs/tree/68542133120b3ac848178e33486e8da6fe243934//utils/helpers.jl#L27\" target=\"_blank\">/mnt/c/Users/Maxime/OneDrive - Leland Stanford Junior University/Research/AutomotivePOMDPs/utils/helpers.jl:27</a></li> </ul>"
      ],
      "text/plain": [
       "# 4 methods for generic function \"is_crash\":\n",
       "is_crash(pomdp::AutomotivePOMDPs.SingleOIPOMDP, ego::AutomotiveDrivingModels.VehicleState, car::AutomotiveDrivingModels.VehicleState) in AutomotivePOMDPs at /mnt/c/Users/Maxime/OneDrive - Leland Stanford Junior University/Research/AutomotivePOMDPs/single_intersection/spaces.jl:160\n",
       "is_crash(pomdp::AutomotivePOMDPs.SingleOCPOMDP, s::AutomotivePOMDPs.SingleOCState) in AutomotivePOMDPs at /mnt/c/Users/Maxime/OneDrive - Leland Stanford Junior University/Research/AutomotivePOMDPs/single_crosswalk/spaces.jl:138\n",
       "is_crash(pomdp::AutomotivePOMDPs.SingleOCPOMDP, ego::AutomotiveDrivingModels.VehicleState, ped::AutomotiveDrivingModels.VehicleState) in AutomotivePOMDPs at /mnt/c/Users/Maxime/OneDrive - Leland Stanford Junior University/Research/AutomotivePOMDPs/single_crosswalk/spaces.jl:131\n",
       "is_crash(scene::Records.Frame{Records.Entity{AutomotiveDrivingModels.VehicleState,AutomotiveDrivingModels.VehicleDef,Int64}}) in AutomotivePOMDPs at /mnt/c/Users/Maxime/OneDrive - Leland Stanford Junior University/Research/AutomotivePOMDPs/utils/helpers.jl:27"
      ]
     },
     "execution_count": 20,
     "metadata": {},
     "output_type": "execute_result"
    }
   ],
   "source": [
    "methods(AutomotivePOMDPs.is_crash)"
   ]
  },
  {
   "cell_type": "code",
   "execution_count": null,
   "metadata": {},
   "outputs": [],
   "source": []
  }
 ],
 "metadata": {
  "kernelspec": {
   "display_name": "Julia 0.6.1",
   "language": "julia",
   "name": "julia-0.6"
  },
  "language_info": {
   "file_extension": ".jl",
   "mimetype": "application/julia",
   "name": "julia",
   "version": "0.6.1"
  }
 },
 "nbformat": 4,
 "nbformat_minor": 2
}
