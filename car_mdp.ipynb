{
 "cells": [
  {
   "cell_type": "markdown",
   "metadata": {},
   "source": [
    "# Intersection with a crosswalk"
   ]
  },
  {
   "cell_type": "markdown",
   "metadata": {},
   "source": [
    "**Load dependencies**"
   ]
  },
  {
   "cell_type": "code",
   "execution_count": 1,
   "metadata": {},
   "outputs": [],
   "source": [
    "rng = MersenneTwister(1);"
   ]
  },
  {
   "cell_type": "code",
   "execution_count": 2,
   "metadata": {},
   "outputs": [
    {
     "name": "stderr",
     "output_type": "stream",
     "text": [
      "WARNING: Method definition info(Any...) in module Base at util.jl:532 overwritten in module Logging at /mnt/c/Users/Maxime/wsl/.julia/v0.6/Logging/src/Logging.jl:115.\n",
      "WARNING: Method definition warn(Any...) in module Base at util.jl:585 overwritten in module Logging at /mnt/c/Users/Maxime/wsl/.julia/v0.6/Logging/src/Logging.jl:115.\n",
      "WARNING: Method definition copy!(Array{Float64, 1}, AutomotiveDrivingModels.LatLonAccel) in module AutomotiveDrivingModels at /mnt/c/Users/Maxime/wsl/.julia/v0.6/AutomotiveDrivingModels/src/2d/actions/lat_lon_accel.jl:13 overwritten in module AutoUrban at /mnt/c/Users/Maxime/wsl/.julia/v0.6/AutoUrban/src/simulation/actions.jl:10.\n"
     ]
    }
   ],
   "source": [
    "using AutomotivePOMDPs\n",
    "using POMDPStorm\n",
    "using GridInterpolations, StaticArrays, POMDPs, POMDPToolbox, AutoViz, AutomotiveDrivingModels, Reel\n",
    "using DiscreteValueIteration\n",
    "using ProgressMeter, Parameters, JLD"
   ]
  },
  {
   "cell_type": "markdown",
   "metadata": {},
   "source": [
    "## Scenario in the Continuous Space"
   ]
  },
  {
   "cell_type": "code",
   "execution_count": 3,
   "metadata": {},
   "outputs": [],
   "source": [
    "params = UrbanParams(nlanes_main=1,\n",
    "                     crosswalk_pos =  [VecSE2(6, 0., pi/2), VecSE2(-6, 0., pi/2), VecSE2(0., -5., 0.)],\n",
    "                     crosswalk_length =  [10.0, 10., 10.0],\n",
    "                     crosswalk_width = [4.0, 4.0, 3.1],\n",
    "                     stop_line = 22.0)\n",
    "env = UrbanEnv(params=params);"
   ]
  },
  {
   "cell_type": "markdown",
   "metadata": {},
   "source": [
    "## Discrete Fully Observable abstraction - Car MDP "
   ]
  },
  {
   "cell_type": "code",
   "execution_count": 4,
   "metadata": {},
   "outputs": [
    {
     "data": {
      "text/plain": [
       "animate_states (generic function with 2 methods)"
      ]
     },
     "execution_count": 4,
     "metadata": {},
     "output_type": "execute_result"
    }
   ],
   "source": [
    "include(\"mdp_models/discretization.jl\")\n",
    "include(\"mdp_models/interpolation.jl\")\n",
    "include(\"mdp_models/car_mdp/pomdp_types.jl\")\n",
    "include(\"mdp_models/car_mdp/state_space.jl\")\n",
    "include(\"mdp_models/car_mdp/transition.jl\")\n",
    "include(\"mdp_models/car_mdp/render_helpers.jl\")"
   ]
  },
  {
   "cell_type": "code",
   "execution_count": 5,
   "metadata": {},
   "outputs": [],
   "source": [
    "mdp = CarMDP(env = env, vel_res=1., pos_res=2.);\n",
    "labels = labeling(mdp);"
   ]
  },
  {
   "cell_type": "code",
   "execution_count": 6,
   "metadata": {},
   "outputs": [
    {
     "name": "stdout",
     "output_type": "stream",
     "text": [
      "\n",
      "spatial resolution 2.0 m \n",
      "car velocity resolution 1.0 m \n",
      "number of states 543422 \n",
      "number of actions 4 \n",
      "\n"
     ]
    }
   ],
   "source": [
    "@printf(\"\\n\")\n",
    "@printf(\"spatial resolution %2.1f m \\n\", mdp.pos_res)\n",
    "@printf(\"car velocity resolution %2.1f m \\n\", mdp.vel_res)\n",
    "@printf(\"number of states %d \\n\", n_states(mdp))\n",
    "@printf(\"number of actions %d \\n\", n_actions(mdp))\n",
    "@printf(\"\\n\")"
   ]
  },
  {
   "cell_type": "code",
   "execution_count": 7,
   "metadata": {},
   "outputs": [
    {
     "name": "stdout",
     "output_type": "stream",
     "text": [
      "Spec: Pmax=? [ (!\"crash\") U \"goal\"] \n",
      "Threshold: 0.999900 \n"
     ]
    }
   ],
   "source": [
    "property = \"Pmax=? [ (!\\\"crash\\\") U \\\"goal\\\"]\" \n",
    "threshold = 0.9999\n",
    "@printf(\"Spec: %s \\n\", property)\n",
    "@printf(\"Threshold: %f \\n\", threshold)"
   ]
  },
  {
   "cell_type": "code",
   "execution_count": 8,
   "metadata": {},
   "outputs": [
    {
     "name": "stdout",
     "output_type": "stream",
     "text": [
      "Model checking...\n"
     ]
    }
   ],
   "source": [
    "println(\"Model checking...\")\n",
    "result = model_checking(mdp, labels, property, transition_file_name=\"carmdp.tra\", labels_file_name=\"carmdp.lab\");"
   ]
  },
  {
   "cell_type": "code",
   "execution_count": 9,
   "metadata": {},
   "outputs": [
    {
     "name": "stdout",
     "output_type": "stream",
     "text": [
      "Loading safety mask from carmask.jld\n",
      "Mask threshold 0.999900"
     ]
    }
   ],
   "source": [
    "mask = nothing # declare\n",
    "mask_file = \"carmask.jld\"\n",
    "if isfile(mask_file)\n",
    "    println(\"Loading safety mask from carmask.jld\")\n",
    "    mask_data = JLD.load(mask_file)\n",
    "    mask = mask_data[\"mask\"]\n",
    "    @printf(\"Mask threshold %f\", mask.threshold)\n",
    "else\n",
    "    println(\"Computing Safety Mask...\")\n",
    "    mask = SafetyMask(mdp, result, threshold);\n",
    "    JLD.save(mask_file, \"mask\", mask)\n",
    "    println(\"Mask saved.\")\n",
    "end"
   ]
  },
  {
   "cell_type": "code",
   "execution_count": 10,
   "metadata": {},
   "outputs": [],
   "source": [
    "rand_pol = MaskedEpsGreedyPolicy(mdp, 1.0, mask, rng);"
   ]
  },
  {
   "cell_type": "code",
   "execution_count": 11,
   "metadata": {},
   "outputs": [],
   "source": [
    "rng = MersenneTwister(2)\n",
    "hr = HistoryRecorder(rng=rng, max_steps=100)\n",
    "s0 = initial_state(mdp, rng)\n",
    "hist2 = simulate(hr, mdp, rand_pol, s0);"
   ]
  },
  {
   "cell_type": "code",
   "execution_count": 12,
   "metadata": {
    "scrolled": false
   },
   "outputs": [
    {
     "data": {
      "text/html": [
       "<video autoplay controls><source src=\"files/reel-12539650877646198852.webm?15982692232015804466\" type=\"video/webm\"></video>"
      ],
      "text/plain": [
       "Reel.Frames{MIME{Symbol(\"image/png\")}}(\"/tmp/tmpoYb4Vv\", 0x000000000000003f, 2.0, nothing)"
      ]
     },
     "execution_count": 12,
     "metadata": {},
     "output_type": "execute_result"
    }
   ],
   "source": [
    "h = hist2\n",
    "state_hist = h.state_hist\n",
    "action_hist = h.action_hist\n",
    "push!(action_hist, CarMDPAction(0.))\n",
    "duration, fps, render_hist = animate_states(mdp, state_hist, action_hist, mask)\n",
    "film = roll(render_hist, fps = fps, duration = duration)"
   ]
  },
  {
   "cell_type": "markdown",
   "metadata": {},
   "source": [
    "Try to generate a collision"
   ]
  },
  {
   "cell_type": "code",
   "execution_count": null,
   "metadata": {},
   "outputs": [],
   "source": [
    "@time for ep=1:10000\n",
    "    hr = HistoryRecorder(rng=rng, max_steps=100)\n",
    "    s0 = initial_state(mdp, rng)\n",
    "    hist2 = simulate(hr, mdp, rand_pol, s0)\n",
    "    if sum(hist2.reward_hist .< 0.) != 0.\n",
    "        println(\"Crash\")\n",
    "        break\n",
    "    end\n",
    "end"
   ]
  },
  {
   "cell_type": "markdown",
   "metadata": {},
   "source": [
    "Evaluate the mask"
   ]
  },
  {
   "cell_type": "code",
   "execution_count": 26,
   "metadata": {},
   "outputs": [
    {
     "data": {
      "text/plain": [
       "print_summary (generic function with 1 method)"
      ]
     },
     "execution_count": 26,
     "metadata": {},
     "output_type": "execute_result"
    }
   ],
   "source": [
    "function evaluation_loop(mdp::MDP, policy::Policy; n_ep::Int64 = 1000, max_steps::Int64 = 500, rng::AbstractRNG = Base.GLOBAL_RNG)\n",
    "    rewards = zeros(n_ep)\n",
    "    steps = zeros(n_ep)\n",
    "    violations = zeros(n_ep)\n",
    "    d0 = initial_state_distribution(mdp)\n",
    "    for ep=1:n_ep\n",
    "        s0 = rand(rng, d0)\n",
    "        hr = HistoryRecorder(max_steps=max_steps, rng=rng)\n",
    "        hist = simulate(hr, mdp, policy, s0)\n",
    "        rewards[ep] = discounted_reward(hist)\n",
    "        steps[ep] = n_steps(hist)\n",
    "        violations[ep] = sum(hist.reward_hist .< 0.) #+ Int(n_steps(hist) >= max_steps)\n",
    "    end\n",
    "    return rewards, steps, violations\n",
    "end\n",
    "\n",
    "function print_summary(rewards, steps, violations)\n",
    "    @printf(\"Summary for %d episodes: \\n\", length(rewards))\n",
    "    @printf(\"Average reward: %.3f \\n\", mean(rewards))\n",
    "    @printf(\"Average # of steps: %.3f \\n\", mean(steps))\n",
    "    @printf(\"Average # of violations: %.3f \\n\", mean(violations)*100)\n",
    "end"
   ]
  },
  {
   "cell_type": "markdown",
   "metadata": {},
   "source": [
    "## Use the mask in a higher fidelity environment"
   ]
  },
  {
   "cell_type": "code",
   "execution_count": 13,
   "metadata": {},
   "outputs": [],
   "source": [
    "params = UrbanParams(nlanes_main=1,\n",
    "                     crosswalk_pos =  [VecSE2(6, 0., pi/2), VecSE2(-6, 0., pi/2), VecSE2(0., -5., 0.)],\n",
    "                     crosswalk_length =  [10.0, 10., 10.0],\n",
    "                     crosswalk_width = [4.0, 4.0, 3.1],\n",
    "                     stop_line = 22.0)\n",
    "env = UrbanEnv(params=params);\n",
    "pomdp = UrbanPOMDP(env=env,\n",
    "                   ego_goal = LaneTag(2, 1),\n",
    "                   max_cars=1, \n",
    "                   max_peds=0, \n",
    "                   car_birth=0.3, \n",
    "                   ped_birth=0.3, \n",
    "                   obstacles=false, # no fixed obstacles\n",
    "                   lidar=false,\n",
    "                   pos_obs_noise = 0., # fully observable\n",
    "                   vel_obs_noise = 0.);"
   ]
  },
  {
   "cell_type": "code",
   "execution_count": 31,
   "metadata": {},
   "outputs": [
    {
     "data": {
      "text/plain": [
       "get_carmdp_state (generic function with 2 methods)"
      ]
     },
     "execution_count": 31,
     "metadata": {},
     "output_type": "execute_result"
    }
   ],
   "source": [
    "function interpolate_state(mdp::CarMDP, s::CarMDPState)\n",
    "    # interpolate s in the grid\n",
    "    vspace = get_car_vspace(mdp.env, mdp.vel_res)\n",
    "    itp_car, itp_car_w = interpolate_state(s.car, vspace)\n",
    "    itp_ego, itp_ego_w = interpolate_state(s.ego, vspace)\n",
    "    itp_states = Vector{CarMDPState}(length(itp_ego)*length(itp_car))\n",
    "    itp_w = Vector{Float64}(length(itp_states))\n",
    "    k = 1\n",
    "    for (i, c) in enumerate(itp_car)\n",
    "        for (j, e) in enumerate(itp_ego)\n",
    "            crash = is_colliding(Vehicle(c, mdp.car_type, 0), Vehicle(e, mdp.ego_type, 1))\n",
    "            itp_states[k] = CarMDPState(crash, e, c, s.route)\n",
    "            itp_w[k] = itp_car_w[i]*itp_ego_w[j]\n",
    "            k += 1\n",
    "        end\n",
    "    end\n",
    "    @assert sum(itp_w) ≈ 1.\n",
    "    return itp_states, itp_w\n",
    "end\n",
    "\n",
    "function car_roadway(env::UrbanEnv)\n",
    "    params = env.params\n",
    "    intersection_params = TInterParams(params.x_min, params.x_max, params.y_min, params.inter_x,\n",
    "                                    params.inter_y, params.inter_width, params.inter_height,\n",
    "                                    params. lane_width, params.nlanes_main, params.nlanes,\n",
    "                                    params. stop_line, params.speed_limit, params.car_rate)\n",
    "    car_roadway = gen_T_roadway(intersection_params)\n",
    "    return car_roadway\n",
    "end\n",
    "\n",
    "\n",
    "function get_carmdp_state(mdp::CarMDP, pomdp::UrbanPOMDP, s::Scene, car_id = 2)\n",
    "    car_i = findfirst(s, car_id)\n",
    "    car = Vehicle(get_off_the_grid(mask.mdp), mdp.car_type, car_id)\n",
    "    if car_i != 0\n",
    "        car = s[car_i]\n",
    "    end\n",
    "    ego = get_ego(s)\n",
    "    route = SVector{0, Lane}()\n",
    "    if haskey(pomdp.models, car_id)\n",
    "        route = SVector(pomdp.models[car_id].navigator.route...)\n",
    "    end\n",
    "    e_state = VehicleState(ego.state.posG, car_roadway(mdp.env), ego.state.v)\n",
    "    c_state = VehicleState(car.state.posG, mdp.env.roadway, car.state.v)\n",
    "    return CarMDPState(is_colliding(ego, car), e_state, c_state, route)\n",
    "end"
   ]
  },
  {
   "cell_type": "code",
   "execution_count": 32,
   "metadata": {},
   "outputs": [],
   "source": [
    "function render_interpolated_states(mdp::CarMDP, pomdp::UrbanPOMDP, scene::Scene, car_id=2)\n",
    "    sp = deepcopy(scene)\n",
    "    s = get_carmdp_state(mdp, pomdp, scene, car_id)\n",
    "    vspace = get_car_vspace(mdp.env, mdp.vel_res)\n",
    "    itp_car, itp_car_w = interpolate_state(s.car, vspace)\n",
    "    itp_ego, itp_ego_w = interpolate_state(s.ego, vspace)\n",
    "    colors = Dict{Int64, Colorant}(1=>COLOR_CAR_EGO, car_id=>COLOR_CAR_OTHER)\n",
    "    cid = car_id+1\n",
    "    for ci in itp_car\n",
    "        if ci.posG != mdp.off_grid\n",
    "            push!(sp, Vehicle(ci, mdp.car_type, cid))\n",
    "            colors[cid] = MONOKAI[\"color2\"]\n",
    "            cid += 1            \n",
    "        end\n",
    "    end\n",
    "    eid = EGO_ID+1\n",
    "    for ei in itp_ego\n",
    "        push!(sp, Vehicle(ei, mdp.ego_type, eid))\n",
    "        colors[eid] = MONOKAI[\"color2\"]\n",
    "        eid += 1        \n",
    "    end\n",
    "    return AutoViz.render(sp, env, cam=FitToContentCamera(0.), car_colors = colors)    \n",
    "end\n",
    "\n",
    "mutable struct InterpolationOverlay <: SceneOverlay\n",
    "    verbosity::Int\n",
    "    color::Colorant\n",
    "    font_size::Int\n",
    "    id::Int\n",
    "    mdp::CarMDP\n",
    "    pomdp::UrbanPOMDP\n",
    "\n",
    "    function InterpolationOverlay(mdp::CarMDP, pomdp::UrbanPOMDP, id::Int=2;\n",
    "        verbosity::Int=1,\n",
    "        color::Colorant=colorant\"white\",\n",
    "        font_size::Int=20,\n",
    "        )\n",
    "\n",
    "        new(verbosity, color, font_size, id, mdp, pomdp)\n",
    "    end\n",
    "end\n",
    "\n",
    "function AutoViz.render!(rendermodel::RenderModel, overlay::InterpolationOverlay, scene::Scene, env::OccludedEnv)\n",
    "    transparency = 0.5\n",
    "    s = get_carmdp_state(overlay.mdp, overlay.pomdp, scene, overlay.id)\n",
    "    vspace = get_car_vspace(overlay.mdp.env, overlay.mdp.vel_res)\n",
    "    itp_car, itp_car_w = interpolate_state(s.car, vspace)\n",
    "    itp_ego, itp_ego_w = interpolate_state(s.ego, vspace)\n",
    "    for ci in itp_car\n",
    "        x, y, θ, v = ci.posG.x, ci.posG.y, ci.posG.θ, ci.v \n",
    "        color = RGBA(75./255, 66./255, 244./255, transparency)\n",
    "        add_instruction!(rendermodel, render_vehicle, (x, y, θ, overlay.mdp.car_type.length, overlay.mdp.car_type.width, color, color, RGBA(1.,1.,1.,transparency)))\n",
    "    end\n",
    "    for ei in itp_ego\n",
    "         x, y, θ, v = ei.posG.x, ei.posG.y, ei.posG.θ, ei.v \n",
    "        color = RGBA(75./255, 66./255, 244./255, transparency)\n",
    "        add_instruction!(rendermodel, render_vehicle, (x, y, θ, overlay.mdp.ego_type.length, overlay.mdp.ego_type.width, color, color, RGBA(1.,1.,1.,transparency)))\n",
    "    end    \n",
    "end"
   ]
  },
  {
   "cell_type": "code",
   "execution_count": 33,
   "metadata": {},
   "outputs": [],
   "source": [
    "# XXX uses global variable POMDP\n",
    "function POMDPStorm.safe_actions(mask::SafetyMask{CarMDP, CarMDPAction}, o::UrbanObs, ped_id=2)\n",
    "    s = obs_to_scene(pomdp, o)\n",
    "    return safe_actions(pomdp, mask, s, ped_id)\n",
    "end\n",
    "function POMDPStorm.safe_actions(pomdp::UrbanPOMDP, mask::SafetyMask{CarMDP, CarMDPAction}, s::UrbanState, car_id=2)    \n",
    "    s_mdp = get_carmdp_state(mask.mdp, pomdp, s)\n",
    "    itp_states, itp_weights = interpolate_state(mask.mdp, s_mdp)\n",
    "    # compute risk vector\n",
    "#     si = state_index(mdp, itp_states[indmax(itp_weights)])\n",
    "#     p_sa = mask.risk_mat[si, :]\n",
    "#     p_sa_itp = zeros(length(itp_states), n_actions(mask.mdp))\n",
    "#     for (i, ss) in enumerate(itp_states)\n",
    "#         si = state_index(mask.mdp, ss)\n",
    "#         p_sa_itp[i, :] += itp_weights[i]*mask.risk_mat[si,:]\n",
    "#     end\n",
    "#     p_sa = minimum(p_sa_itp, 1)\n",
    "    p_sa = zeros(n_actions(mask.mdp))\n",
    "    for (i, ss) in enumerate(itp_states)\n",
    "        si = state_index(mask.mdp, ss)\n",
    "        p_sa += itp_weights[i]*mask.risk_mat[si,:]\n",
    "    end\n",
    "    safe_acts = CarMDPAction[]\n",
    "    sizehint!(safe_acts, n_actions(mask.mdp))\n",
    "    if maximum(p_sa) <= mask.threshold\n",
    "        push!(safe_acts, mask.actions[indmax(p_sa)])\n",
    "    else\n",
    "        for (j, a) in enumerate(mask.actions)\n",
    "            if p_sa[j] > mask.threshold\n",
    "                push!(safe_acts, a)\n",
    "            end\n",
    "        end\n",
    "    end\n",
    "#     println(\"coucou \")\n",
    "#     println(\"Safe acts $([a.acc for a in safe_acts])\")\n",
    "    return safe_acts\n",
    "end"
   ]
  },
  {
   "cell_type": "code",
   "execution_count": 34,
   "metadata": {},
   "outputs": [],
   "source": [
    "function POMDPToolbox.action_info{M}(policy::MaskedEpsGreedyPolicy{M}, s)\n",
    "    return action(policy, s), [safe_actions(policy.mask, s), s]\n",
    "end"
   ]
  },
  {
   "cell_type": "code",
   "execution_count": 35,
   "metadata": {},
   "outputs": [
    {
     "data": {
      "text/plain": [
       "animate_states (generic function with 3 methods)"
      ]
     },
     "execution_count": 35,
     "metadata": {},
     "output_type": "execute_result"
    }
   ],
   "source": [
    "function animate_states(pomdp::UrbanPOMDP, states::Vector{UrbanState}, actions::Vector{UrbanAction}, mask::SafetyMask;\n",
    "                        overlays=SceneOverlay[IDOverlay()],\n",
    "                        cam=StaticCamera(VecE2(0, -5.), 17.))\n",
    "    duration = length(states)*pomdp.ΔT\n",
    "    fps = Int(1/pomdp.ΔT)    \n",
    "    function render_states(t, dt)\n",
    "        frame_index = Int(floor(t/dt)) + 1\n",
    "        scene = states[frame_index] #state2scene(mdp, states[frame_index])\n",
    "        safe_acts =[a.acc for a in safe_actions(pomdp, mask, states[frame_index])]\n",
    "        return AutoViz.render(scene,\n",
    "                pomdp.env,\n",
    "                cat(1, overlays,InterpolationOverlay(mask.mdp, pomdp),\n",
    "                                TextOverlay(text = [\"v: $(get_ego(scene).state.v)\"],\n",
    "                                            font_size=20,\n",
    "                                            pos=VecE2(pomdp.env.params.x_min + 3.,6.),\n",
    "                                            incameraframe=true),\n",
    "                                 TextOverlay(text = [\"Acc: $(actions[frame_index].acc)\"],\n",
    "                                            font_size=20,\n",
    "                                            pos=VecE2(pomdp.env.params.x_min + 3.,8.),\n",
    "                                            incameraframe=true),\n",
    "                                TextOverlay(text = [\"Available Actions: $safe_acts\"],\n",
    "                                            font_size=20,\n",
    "                                            pos=VecE2(pomdp.env.params.x_min + 3.,10.),\n",
    "                                            incameraframe=true),\n",
    "                                TextOverlay(text = [\"step: $frame_index\"],\n",
    "                                            font_size=20,\n",
    "                                            pos=VecE2(pomdp.env.params.x_min + 3.,4.),\n",
    "                                            incameraframe=true)),\n",
    "                cam=cam,\n",
    "                car_colors=get_colors(scene))\n",
    "    end\n",
    "    return duration, fps, render_states\n",
    "end"
   ]
  },
  {
   "cell_type": "code",
   "execution_count": 36,
   "metadata": {},
   "outputs": [
    {
     "data": {
      "text/plain": [
       "POMDPStorm.MaskedEpsGreedyPolicy{POMDPStorm.SafetyMask{CarMDP,AutomotivePOMDPs.UrbanAction}}"
      ]
     },
     "execution_count": 36,
     "metadata": {},
     "output_type": "execute_result"
    }
   ],
   "source": [
    "rand_pol = MaskedEpsGreedyPolicy(mdp, 1.0, mask, rng);\n",
    "typeof(rand_pol)"
   ]
  },
  {
   "cell_type": "code",
   "execution_count": 40,
   "metadata": {},
   "outputs": [
    {
     "name": "stderr",
     "output_type": "stream",
     "text": [
      "WARNING: Method definition generate_s(AutomotivePOMDPs.UrbanPOMDP, Records.Frame{Records.Entity{AutomotiveDrivingModels.VehicleState, AutomotiveDrivingModels.VehicleDef, Int64}}, AutomotivePOMDPs.UrbanAction, Base.Random.AbstractRNG) in module AutomotivePOMDPs at /home/maxime/Maxime/OneDrive - Leland Stanford Junior University/Research/AutomotivePOMDPs/src/generative_pomdps/urban/generative_model.jl:35 overwritten at /home/maxime/Maxime/OneDrive - Leland Stanford Junior University/Research/AutomotivePOMDPs/src/generative_pomdps/urban/generative_model.jl:35.\n",
      "WARNING: Method definition initial_scene(AutomotivePOMDPs.UrbanPOMDP, Base.Random.AbstractRNG) in module AutomotivePOMDPs at /home/maxime/Maxime/OneDrive - Leland Stanford Junior University/Research/AutomotivePOMDPs/src/generative_pomdps/urban/generative_model.jl:126 overwritten at /home/maxime/Maxime/OneDrive - Leland Stanford Junior University/Research/AutomotivePOMDPs/src/generative_pomdps/urban/generative_model.jl:126.\n",
      "WARNING: Method definition initial_scene(AutomotivePOMDPs.UrbanPOMDP, Base.Random.AbstractRNG, Bool) in module AutomotivePOMDPs at /home/maxime/Maxime/OneDrive - Leland Stanford Junior University/Research/AutomotivePOMDPs/src/generative_pomdps/urban/generative_model.jl:126 overwritten at /home/maxime/Maxime/OneDrive - Leland Stanford Junior University/Research/AutomotivePOMDPs/src/generative_pomdps/urban/generative_model.jl:126.\n",
      "WARNING: Method definition initial_pedestrian(AutomotivePOMDPs.UrbanPOMDP, Records.Frame{Records.Entity{AutomotiveDrivingModels.VehicleState, AutomotiveDrivingModels.VehicleDef, Int64}}, Base.Random.AbstractRNG) in module AutomotivePOMDPs at /home/maxime/Maxime/OneDrive - Leland Stanford Junior University/Research/AutomotivePOMDPs/src/generative_pomdps/urban/generative_model.jl:232 overwritten at /home/maxime/Maxime/OneDrive - Leland Stanford Junior University/Research/AutomotivePOMDPs/src/generative_pomdps/urban/generative_model.jl:232.\n",
      "WARNING: Method definition initial_pedestrian(AutomotivePOMDPs.UrbanPOMDP, Records.Frame{Records.Entity{AutomotiveDrivingModels.VehicleState, AutomotiveDrivingModels.VehicleDef, Int64}}, Base.Random.AbstractRNG, Bool) in module AutomotivePOMDPs at /home/maxime/Maxime/OneDrive - Leland Stanford Junior University/Research/AutomotivePOMDPs/src/generative_pomdps/urban/generative_model.jl:232 overwritten at /home/maxime/Maxime/OneDrive - Leland Stanford Junior University/Research/AutomotivePOMDPs/src/generative_pomdps/urban/generative_model.jl:232.\n",
      "24-May 16:44:29:WARNING:root:replacing docs for 'AutomotivePOMDPs.initial_pedestrian :: Union{Tuple{AutomotivePOMDPs.UrbanPOMDP,Records.Frame{Records.Entity{AutomotiveDrivingModels.VehicleState,AutomotiveDrivingModels.VehicleDef,Int64}},AbstractRNG,Bool}, Tuple{AutomotivePOMDPs.UrbanPOMDP,Records.Frame{Records.Entity{AutomotiveDrivingModels.VehicleState,AutomotiveDrivingModels.VehicleDef,Int64}},AbstractRNG}}' in module 'AutomotivePOMDPs'.\n",
      "WARNING: Method definition (::Type{AutomotivePOMDPs.ConstantPedestrian})() in module AutomotivePOMDPs at /mnt/c/Users/Maxime/wsl/.julia/v0.6/Parameters/src/Parameters.jl:379 overwritten at /mnt/c/Users/Maxime/wsl/.julia/v0.6/Parameters/src/Parameters.jl:379.\n",
      "WARNING: Method definition Type(Array{Any, 1}, Type{AutomotivePOMDPs.ConstantPedestrian}) in module AutomotivePOMDPs overwritten.\n",
      "WARNING: Method definition (::Type{AutomotivePOMDPs.ConstantPedestrian})(Any, Any, Any, Any, Any, Any, Any) in module AutomotivePOMDPs at /mnt/c/Users/Maxime/wsl/.julia/v0.6/Parameters/src/Parameters.jl:393 overwritten at /mnt/c/Users/Maxime/wsl/.julia/v0.6/Parameters/src/Parameters.jl:393.\n",
      "24-May 16:44:29:WARNING:root:replacing docs for 'AutomotivePOMDPs.ConstantPedestrian :: Union{}' in module 'AutomotivePOMDPs'.\n"
     ]
    },
    {
     "name": "stdout",
     "output_type": "stream",
     "text": [
      "  0.158208 seconds (740.06 k allocations: 23.161 MiB, 14.38% gc time)\n"
     ]
    },
    {
     "name": "stderr",
     "output_type": "stream",
     "text": [
      "WARNING: Method definition (::Type{AutomotivePOMDPs.ConstantPedestrian})(AutomotivePOMDPs.ConstantPedestrian) in module AutomotivePOMDPs at /mnt/c/Users/Maxime/wsl/.julia/v0.6/Parameters/src/Parameters.jl:443 overwritten at /mnt/c/Users/Maxime/wsl/.julia/v0.6/Parameters/src/Parameters.jl:443.\n",
      "WARNING: Method definition Type(Array{Any, 1}, Type{AutomotivePOMDPs.ConstantPedestrian}, AutomotivePOMDPs.ConstantPedestrian) in module AutomotivePOMDPs overwritten.\n",
      "WARNING: Method definition (::Type{AutomotivePOMDPs.ConstantPedestrian})(AutomotivePOMDPs.ConstantPedestrian, Base.Associative{K, V} where V where K) in module AutomotivePOMDPs at /mnt/c/Users/Maxime/wsl/.julia/v0.6/Parameters/src/Parameters.jl:446 overwritten at /mnt/c/Users/Maxime/wsl/.julia/v0.6/Parameters/src/Parameters.jl:446.\n",
      "WARNING: Method definition (::Type{AutomotivePOMDPs.ConstantPedestrian})(AutomotivePOMDPs.ConstantPedestrian, Tuple{Symbol, Any}...) in module AutomotivePOMDPs at /mnt/c/Users/Maxime/wsl/.julia/v0.6/Parameters/src/Parameters.jl:447 overwritten at /mnt/c/Users/Maxime/wsl/.julia/v0.6/Parameters/src/Parameters.jl:447.\n",
      "WARNING: Method definition show(IO, AutomotivePOMDPs.ConstantPedestrian) in module AutomotivePOMDPs at /mnt/c/Users/Maxime/wsl/.julia/v0.6/Parameters/src/Parameters.jl:456 overwritten at /mnt/c/Users/Maxime/wsl/.julia/v0.6/Parameters/src/Parameters.jl:456.\n",
      "WARNING: Method definition @unpack_ConstantPedestrian(ANY) in module AutomotivePOMDPs at /mnt/c/Users/Maxime/wsl/.julia/v0.6/Parameters/src/Parameters.jl:470 overwritten at /mnt/c/Users/Maxime/wsl/.julia/v0.6/Parameters/src/Parameters.jl:470.\n",
      "WARNING: Method definition @pack_ConstantPedestrian(ANY) in module AutomotivePOMDPs at /mnt/c/Users/Maxime/wsl/.julia/v0.6/Parameters/src/Parameters.jl:473 overwritten at /mnt/c/Users/Maxime/wsl/.julia/v0.6/Parameters/src/Parameters.jl:473.\n",
      "WARNING: Method definition action_space(AutomotivePOMDPs.ConstantPedestrian) in module AutomotivePOMDPs at /home/maxime/Maxime/OneDrive - Leland Stanford Junior University/Research/AutomotivePOMDPs/src/driver_models/constant_pedestrian.jl:88 overwritten at /home/maxime/Maxime/OneDrive - Leland Stanford Junior University/Research/AutomotivePOMDPs/src/driver_models/constant_pedestrian.jl:88.\n",
      "WARNING: Method definition model_checking(POMDPs.MDP{S, A} where A, Base.Dict{S, Array{String, 1}}, String) in module POMDPStorm at /home/maxime/Maxime/OneDrive - Leland Stanford Junior University/Research/POMDPStorm/src/model_checking.jl:17 overwritten at /home/maxime/Maxime/OneDrive - Leland Stanford Junior University/Research/POMDPStorm/src/model_checking.jl:17.\n",
      "WARNING: Method definition #model_checking(Array{Any, 1}, typeof(POMDPStorm.model_checking), POMDPs.MDP{S, A} where A, Base.Dict{S, Array{String, 1}}, String) in module POMDPStorm overwritten.\n"
     ]
    }
   ],
   "source": [
    "hr = HistoryRecorder(rng=rng, max_steps=100)\n",
    "s0 = initial_state(pomdp, rng)\n",
    "o0 = generate_o(pomdp, s0, rng)\n",
    "up = FastPreviousObservationUpdater{UrbanObs}()\n",
    "b0 = initialize_belief(up, o0)\n",
    "@time hist2 = simulate(hr, pomdp, rand_pol, up, b0, s0);"
   ]
  },
  {
   "cell_type": "code",
   "execution_count": 41,
   "metadata": {
    "scrolled": false
   },
   "outputs": [
    {
     "data": {
      "text/html": [
       "<video autoplay controls><source src=\"files/reel-3121896344160212190.webm?15317762996378937991\" type=\"video/webm\"></video>"
      ],
      "text/plain": [
       "Reel.Frames{MIME{Symbol(\"image/png\")}}(\"/tmp/tmpovWS2o\", 0x000000000000001c, 2.0, nothing)"
      ]
     },
     "execution_count": 41,
     "metadata": {},
     "output_type": "execute_result"
    }
   ],
   "source": [
    "h = hist2\n",
    "state_hist = h.state_hist\n",
    "action_hist = h.action_hist\n",
    "push!(action_hist, CarMDPAction(NaN))\n",
    "duration, fps, render_hist = animate_states(pomdp, state_hist, action_hist, mask)\n",
    "film = roll(render_hist, fps = fps, duration = duration)"
   ]
  },
  {
   "cell_type": "code",
   "execution_count": 30,
   "metadata": {},
   "outputs": [
    {
     "name": "stdout",
     "output_type": "stream",
     "text": [
      "199.659652 seconds (1.92 G allocations: 55.536 GiB, 14.38% gc time)\n"
     ]
    }
   ],
   "source": [
    "@time for ep=1:1000\n",
    "    hr = HistoryRecorder(rng=rng, max_steps=100)\n",
    "    s0 = initial_state(pomdp, rng)\n",
    "    o0 = generate_o(pomdp, s0, rng)\n",
    "    up = FastPreviousObservationUpdater{UrbanObs}()\n",
    "    b0 = initialize_belief(up, o0)\n",
    "    hist2 = simulate(hr, pomdp, rand_pol, up, b0, s0)\n",
    "    if sum(hist2.reward_hist .< 0.) != 0.\n",
    "        println(\"Crash\")\n",
    "        break\n",
    "    end\n",
    "end"
   ]
  },
  {
   "cell_type": "code",
   "execution_count": 38,
   "metadata": {},
   "outputs": [
    {
     "data": {
      "text/plain": [
       "evaluation_loop (generic function with 2 methods)"
      ]
     },
     "execution_count": 38,
     "metadata": {},
     "output_type": "execute_result"
    }
   ],
   "source": [
    "function evaluation_loop(pomdp::POMDP, policy::Policy; n_ep::Int64 = 1000, max_steps::Int64 = 500, rng::AbstractRNG = Base.GLOBAL_RNG)\n",
    "    rewards = zeros(n_ep)\n",
    "    steps = zeros(n_ep)\n",
    "    violations = zeros(n_ep)\n",
    "    up = FastPreviousObservationUpdater{obs_type(pomdp)}()\n",
    "    for ep=1:n_ep\n",
    "        s0 = initial_state(pomdp, rng)\n",
    "        o0 = generate_o(pomdp, s0, rng)\n",
    "        b0 = initialize_belief(up, o0)\n",
    "        hr = HistoryRecorder(max_steps=max_steps, rng=rng)\n",
    "        hist = simulate(hr, pomdp, policy, up, b0, s0);\n",
    "        rewards[ep] = discounted_reward(hist)\n",
    "        steps[ep] = n_steps(hist)\n",
    "        violations[ep] = sum(hist.reward_hist .< 0.) #+ Int(n_steps(hist) >= max_steps)\n",
    "    end\n",
    "    return rewards, steps, violations\n",
    "end"
   ]
  },
  {
   "cell_type": "code",
   "execution_count": 39,
   "metadata": {},
   "outputs": [
    {
     "name": "stdout",
     "output_type": "stream",
     "text": [
      "254.362320 seconds (2.00 G allocations: 60.928 GiB, 13.03% gc time)\n",
      "Summary for 1000 episodes: \n",
      "Average reward: 0.051 \n",
      "Average # of steps: 73.644 \n",
      "Average # of violations: 0.000 \n"
     ]
    }
   ],
   "source": [
    "@time rewards_mask, steps_mask, violations_mask = evaluation_loop(pomdp, rand_pol, n_ep=1000, max_steps=100, rng=rng);\n",
    "print_summary(rewards_mask, steps_mask, violations_mask)"
   ]
  },
  {
   "cell_type": "code",
   "execution_count": 29,
   "metadata": {},
   "outputs": [],
   "source": [
    "P = get_proba(mdp, result);"
   ]
  },
  {
   "cell_type": "code",
   "execution_count": 52,
   "metadata": {},
   "outputs": [
    {
     "name": "stdout",
     "output_type": "stream",
     "text": [
      "false 201742 0.006510416666666703\n",
      "false 201743 0.01432291666666663\n",
      "false 201744 0.014322916666666777\n",
      "false 201745 0.04817708333333322\n",
      "false 201746 0.007812500000000073\n",
      "false 201747 0.03385416666666659\n",
      "false 202116 0.04557291666666693\n",
      "false 202117 0.10026041666666641\n",
      "false 202118 0.10026041666666743\n",
      "false 202119 0.33723958333333254\n",
      "false 202120 0.05468750000000051\n",
      "false 202121 0.2369791666666661\n"
     ]
    },
    {
     "data": {
      "text/plain": [
       "4-element Array{Float64,1}:\n",
       " 0.0     \n",
       " 0.0     \n",
       " 0.0     \n",
       " 0.896369"
      ]
     },
     "execution_count": 52,
     "metadata": {},
     "output_type": "execute_result"
    }
   ],
   "source": [
    "sc = h.state_hist[end-2]\n",
    "si = state_index(mdp, sc)\n",
    "mask.risk_vec[si]\n",
    "a = UrbanAction(2)\n",
    "ai = action_index(mdp, a)\n",
    "d = transition(mdp, sc, a)\n",
    "psa = zeros(4)\n",
    "for (sp, p) in weighted_iterator(d)\n",
    "    spi = state_index(mdp, sp)\n",
    "    println(sp.crash, \" \", spi, \" \", p)\n",
    "#     println(sp.ego.v)\n",
    "#     println([l.tag for l in sp.route])\n",
    "    p == 0.0 ? continue : nothing # skip if zero prob\n",
    "    psa[ai] += p * P[spi]\n",
    "end\n",
    "psa"
   ]
  },
  {
   "cell_type": "code",
   "execution_count": 34,
   "metadata": {},
   "outputs": [
    {
     "data": {
      "text/plain": [
       "8-element Array{Float64,1}:\n",
       "  0.0625  \n",
       " -0.416667\n",
       "  1.0     \n",
       "  0.0     \n",
       " -0.015625\n",
       "  0.0625  \n",
       "  1.0     \n",
       "  0.25    "
      ]
     },
     "execution_count": 34,
     "metadata": {},
     "output_type": "execute_result"
    }
   ],
   "source": [
    "b0"
   ]
  },
  {
   "cell_type": "code",
   "execution_count": 39,
   "metadata": {},
   "outputs": [
    {
     "data": {
      "text/plain": [
       "simulation (generic function with 2 methods)"
      ]
     },
     "execution_count": 39,
     "metadata": {},
     "output_type": "execute_result"
    }
   ],
   "source": [
    "function simulation(pomdp::UrbanPOMDP, up::Updater, policy::MaskedEpsGreedyPolicy, b0, s0, rng::AbstractRNG, max_steps::Int64 = 100)\n",
    "    states = UrbanState[]\n",
    "    actions = UrbanAction[]\n",
    "    beliefs = UrbanObs[]\n",
    "    observations = UrbanObs[]\n",
    "    rewards = Float64[]\n",
    "    \n",
    "    s = s0\n",
    "    b = b0\n",
    "    o = b0\n",
    "    push!(states, s)\n",
    "    push!(beliefs, b)\n",
    "        \n",
    "    step = 0\n",
    "    while !isterminal(pomdp, s) || step >= max_steps       \n",
    "        a = action(policy, o)\n",
    "        sp, o, r = generate_sor(pomdp, s, a, rng)\n",
    "        bp = update(up, b, a, o)\n",
    "        push!(states, sp)\n",
    "        push!(beliefs, bp)\n",
    "        push!(actions, a)\n",
    "        push!(rewards, r)\n",
    "        push!(observations, o)     \n",
    "        \n",
    "        b = bp\n",
    "        s = sp       \n",
    "        \n",
    "        step += 1\n",
    "        \n",
    "    end\n",
    "    return states, actions, beliefs, observations, rewards\n",
    "end"
   ]
  },
  {
   "cell_type": "code",
   "execution_count": null,
   "metadata": {},
   "outputs": [],
   "source": [
    "s0 = initial_state(pomdp, rng)\n",
    "o0 = generate_o(pomdp, s0, rng)\n",
    "up = FastPreviousObservationUpdater{UrbanObs}()\n",
    "b0 = initialize_belief(up, o0)\n",
    "@time sh, ah, bh, oh, rh = simulation(pomdp, up, rand_pol, b0, s0, rng);"
   ]
  },
  {
   "cell_type": "code",
   "execution_count": null,
   "metadata": {},
   "outputs": [],
   "source": [
    "@time for ep=1:1000\n",
    "    s0 = initial_state(pomdp, rng)\n",
    "    o0 = generate_o(pomdp, s0, rng)\n",
    "    up = FastPreviousObservationUpdater{UrbanObs}()\n",
    "    b0 = initialize_belief(up, o0)\n",
    "    @time sh, ah, bh, oh, rh = simulation(pomdp, up, rand_pol, b0, s0, rng);\n",
    "    if sum(rh .< 0.) != 0.\n",
    "        println(\"Crash\")\n",
    "        break\n",
    "    end\n",
    "end\n",
    "\n",
    "push!(ah, CarMDPAction(NaN))\n",
    "duration, fps, render_hist = animate_states(pomdp, sh, ah, mask)\n",
    "film = roll(render_hist, fps = fps, duration = duration)"
   ]
  },
  {
   "cell_type": "code",
   "execution_count": null,
   "metadata": {},
   "outputs": [],
   "source": []
  },
  {
   "cell_type": "code",
   "execution_count": 51,
   "metadata": {},
   "outputs": [
    {
     "data": {
      "image/png": "[encoded data removed]",
      "text/plain": [
       "Cairo.CairoSurface{UInt32}(Ptr{Void} @0x0000000006a873c0, 1000.0, 600.0, #undef)"
      ]
     },
     "execution_count": 51,
     "metadata": {},
     "output_type": "execute_result"
    }
   ],
   "source": [
    "AutoViz.render(state2scene(mdp, sc), env, cam=FitToContentCamera(0.0))"
   ]
  },
  {
   "cell_type": "code",
   "execution_count": 54,
   "metadata": {},
   "outputs": [],
   "source": [
    "mdp.car_model\n",
    "lane = get_lane(mdp.env.roadway, s.car)\n",
    "set_direction!(mdp.car_model, lane, mdp.env.roadway)\n",
    "# car_actions, car_actions_probs = get_distribution(mdp.car_model)\n",
    "# car_ps = VehicleState[]\n",
    "# for (i, car_a) in enumerate(car_actions)\n",
    "#     p_a = car_actions_probs[i]\n",
    "#     car_p = propagate(s.car, car_a, mdp.env.roadway, mdp.ΔT)\n",
    "#     println(\" True car \" , car_p)\n",
    "#     car_v_space = get_car_vspace(mdp.env, mdp.vel_res)\n",
    "#     itp_car_ps, itp_car_weights = interpolate_state(car_p, car_v_space)\n",
    "#     for car in itp_car_ps\n",
    "#         println(car)\n",
    "#     end\n",
    "# end\n"
   ]
  },
  {
   "cell_type": "code",
   "execution_count": 55,
   "metadata": {},
   "outputs": [
    {
     "data": {
      "text/plain": [
       "1"
      ]
     },
     "execution_count": 55,
     "metadata": {},
     "output_type": "execute_result"
    }
   ],
   "source": [
    "mdp.car_model.dir"
   ]
  },
  {
   "cell_type": "code",
   "execution_count": 56,
   "metadata": {},
   "outputs": [
    {
     "data": {
      "text/plain": [
       "2-element Array{AutomotiveDrivingModels.LaneConnection,1}:\n",
       " LaneConnection(D, CurveIndex(1, 1.000), RoadIndex({1, 0.000000}, {10, 1})\n",
       " LaneConnection(D, CurveIndex(1, 1.000), RoadIndex({1, 0.000000}, {10, 1})"
      ]
     },
     "execution_count": 56,
     "metadata": {},
     "output_type": "execute_result"
    }
   ],
   "source": [
    "lane.exits"
   ]
  },
  {
   "cell_type": "code",
   "execution_count": null,
   "metadata": {},
   "outputs": [],
   "source": [
    "routes = get_car_routes(mdp.env)"
   ]
  },
  {
   "cell_type": "code",
   "execution_count": 29,
   "metadata": {},
   "outputs": [
    {
     "data": {
      "text/plain": [
       "VehicleState(VecSE2({9.000, 1.500}, 3.142), Frenet(RoadIndex({1, 0.875000}, {1, 1}), 21.000, 0.000, 0.000), 2.000)"
      ]
     },
     "execution_count": 29,
     "metadata": {},
     "output_type": "execute_result"
    }
   ],
   "source": [
    "states(mdp)[8417].car"
   ]
  },
  {
   "cell_type": "code",
   "execution_count": 25,
   "metadata": {},
   "outputs": [
    {
     "data": {
      "image/png": "[encoded data removed]",
      "text/plain": [
       "Cairo.CairoSurface{UInt32}(Ptr{Void} @0x0000000008691090, 1000.0, 600.0, #undef)"
      ]
     },
     "execution_count": 25,
     "metadata": {},
     "output_type": "execute_result"
    }
   ],
   "source": [
    "sp = states(mdp)[8417]\n",
    "sc = state2scene(mdp, sp)\n",
    "AutoViz.render(sc, env, cam=FitToContentCamera(0.))"
   ]
  },
  {
   "cell_type": "code",
   "execution_count": 21,
   "metadata": {},
   "outputs": [
    {
     "data": {
      "text/plain": [
       "0.9998529784742464"
      ]
     },
     "execution_count": 21,
     "metadata": {},
     "output_type": "execute_result"
    }
   ],
   "source": [
    "P[8417]"
   ]
  },
  {
   "cell_type": "code",
   "execution_count": 19,
   "metadata": {},
   "outputs": [
    {
     "data": {
      "text/plain": [
       "1-element Array{AutomotiveDrivingModels.LaneConnection,1}:\n",
       " LaneConnection(D, CurveIndex(24, 1.000), RoadIndex({1, 0.000000}, {5, 1})"
      ]
     },
     "execution_count": 19,
     "metadata": {},
     "output_type": "execute_result"
    }
   ],
   "source": [
    "lane = env.roadway[LaneTag(12,1)].exits"
   ]
  },
  {
   "cell_type": "code",
   "execution_count": 24,
   "metadata": {},
   "outputs": [
    {
     "data": {
      "image/png": "[encoded data removed]",
      "text/plain": [
       "Cairo.CairoSurface{UInt32}(Ptr{Void} @0x000000000bd013b0, 1000.0, 600.0, #undef)"
      ]
     },
     "execution_count": 24,
     "metadata": {},
     "output_type": "execute_result"
    }
   ],
   "source": [
    "scene = Scene()\n",
    "\n",
    "type LaneOverlay <: SceneOverlay\n",
    "    lane::Lane\n",
    "    color::Colorant\n",
    "end\n",
    "function AutoViz.render!(rendermodel::RenderModel, overlay::LaneOverlay, scene::Scene, roadway::Roadway)\n",
    "    render!(rendermodel, overlay.lane, roadway, color_asphalt=overlay.color)\n",
    "    return rendermodel\n",
    "end\n",
    "\n",
    "i=19\n",
    "render(scene, env.roadway, [LaneOverlay(env.roadway[LaneTag(i,1)], RGBA(0.0,0.0,1.0,0.5))], cam=FitToContentCamera(0.))"
   ]
  },
  {
   "cell_type": "code",
   "execution_count": null,
   "metadata": {},
   "outputs": [],
   "source": []
  }
 ],
 "metadata": {
  "kernelspec": {
   "display_name": "Julia 0.6.1",
   "language": "julia",
   "name": "julia-0.6"
  },
  "language_info": {
   "file_extension": ".jl",
   "mimetype": "application/julia",
   "name": "julia",
   "version": "0.6.1"
  }
 },
 "nbformat": 4,
 "nbformat_minor": 2
}
